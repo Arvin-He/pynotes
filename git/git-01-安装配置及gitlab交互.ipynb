{
 "cells": [
  {
   "cell_type": "markdown",
   "metadata": {},
   "source": [
    "# 本地git安装配置及gitlab交互"
   ]
  },
  {
   "cell_type": "markdown",
   "metadata": {},
   "source": [
    "git: 一个版本控制工具,类似svn,但功能比svn强大,与svn一个明显的区别是它是一个分布式的\n",
    "\n",
    "gitlab: 代码仓库管理平台,部署在服务端."
   ]
  },
  {
   "cell_type": "markdown",
   "metadata": {},
   "source": [
    "### 安装git"
   ]
  },
  {
   "cell_type": "markdown",
   "metadata": {},
   "source": [
    "* windows平台: \n",
    "    * 到[git官网](https://www.git-scm.com/download/)下载git客户端,然后安装, 一路next. \n",
    "    * 验证git是否安装成功, 输入: `git --version`, 出现版本即表示安装成功.\n",
    "    \n",
    "* CentOS 7:\n",
    "   \n",
    "    1. 下载[最新版git](https://github.com/git/git/releases/tag/v2.18.0),如git.v2.18.0.tar.gz到指定目录,如/home/xx/downloads\n",
    "    2. 解压git.v2.18.0.tar.gz, 输入: tar zxvf git.v2.18.0.tar.gz\n",
    "    3. 进入解压的目录, 输入: cd git.v2.18.0/\n",
    "    4. 安装依赖, 输入: sudo yum install curl-devel expat-devel gettext-devel openssl-devel zlib-develperl-devel, 如果依赖已经安装可以不执行该步骤.如果没有安装,则在后面make时会报错.\n",
    "    5. 编译, 输入: make prefix=/usr/local/git all\n",
    "    6. 安装, 输入: sudo make prefix=/usr/local/git install\n",
    "    7. 添加git的环境变量, 输入: `sudo vim /etc/bashrc`,(注意:以sudo权限打开,否则无法写入配置文件) 在最后一行添加: `export PATH=/usr/local/git/bin:$PATH`, 然后保存退出.\n",
    "    8. 使配置文件生效, 输入: `source /etc/bashrc`\n",
    "    9. 验证git是否安装成功, 输入: `git --version`, 出现版本即表示安装成功.bb\n",
    "    "
   ]
  },
  {
   "cell_type": "markdown",
   "metadata": {},
   "source": [
    "### 注意: \n",
    "1. 下面的配置主要讲述windwos下的配置,其配置原理在linux也基本一致.只是文件位置不同而已.\n",
    "2. 请按文档的顺序做,如有问题,请联系我."
   ]
  },
  {
   "cell_type": "markdown",
   "metadata": {},
   "source": [
    "### 配置git用户名和邮箱"
   ]
  },
  {
   "cell_type": "markdown",
   "metadata": {},
   "source": [
    "配置git用户名和邮箱有2种方式: global 和 local\n",
    "\n",
    "* global: 全局配置,所有项目使用相同用户名和邮箱\n",
    "* local: 根据项目配置用户名和邮箱,各个项目用户名和邮箱可以不一样,且相互之间互不干扰.但是前提是已经在本地创建一个代码仓库并执行了`git init`操作.\n",
    "\n",
    "优先推荐全局配置, 全局配置方法:\n",
    "```\n",
    "git config --global user.name \"xxx.xx\"\n",
    "git config --global user.email \"xxx.xx@xxxxxxxx.com\"\n",
    "```\n",
    "\n",
    "局部配置只要去掉--global参数,\n",
    "\n",
    "注意: \n",
    "\n",
    "* 已经在本地创建一个代码仓库并执行了`git init`操作.\n",
    "* 控制台当前目录为代码仓库的目录"
   ]
  },
  {
   "cell_type": "markdown",
   "metadata": {},
   "source": [
    "### 配置git代理"
   ]
  },
  {
   "cell_type": "markdown",
   "metadata": {},
   "source": [
    "* git config --global http.proxy http://192.168.1.120:123\n",
    "* git config --global https.proxy https://192.168.1.120:123"
   ]
  },
  {
   "cell_type": "markdown",
   "metadata": {},
   "source": [
    "### 修改本地host文件(很关键,不然域名无法解析)"
   ]
  },
  {
   "cell_type": "markdown",
   "metadata": {},
   "source": [
    "找到`C:/WINDOWS/system32/drivers/etc/hosts`,在文件中添加内容如下:\n",
    "```      \n",
    "# gitLab\n",
    "192.168.1.1    git.xxxx.com  \n",
    "```"
   ]
  },
  {
   "cell_type": "markdown",
   "metadata": {},
   "source": [
    "### 生成ssh密匙"
   ]
  },
  {
   "cell_type": "markdown",
   "metadata": {},
   "source": [
    "1. 创建SSH Key。\n",
    "    * 在用户主目录下，看看有没有.ssh目录，如: `C:\\Users\\PC-10182`.\n",
    "    * 如果有，再看看这个目录下有没有id_rsa和id_rsa.pub这两个文件，如果已经有了，可直接跳到下一步。\n",
    "    * 如果没有，打开Shell（Windows下打开Git Bash），创建SSH Key：`ssh-keygen -t rsa -C \"xxx.xx@xxxxxxx.com\"`\n",
    "\n",
    "2. 把邮件地址换成你自己的邮件地址，然后一路回车，使用默认值即可，由于这个Key也不是用于军事目的，所以也无需设置密码。\n",
    "\n",
    "3. 一切顺利的话，可以在用户主目录里找到.ssh目录，里面有`id_rsa`和`id_rsa.pub`两个文件, 这两个就是SSH Key的秘钥对，id_rsa是私钥，不能泄露出去，id_rsa.pub是公钥，可以放心地告诉任何人,用于粘贴到github上“SSH Keys”页面。\n",
    "\n",
    "4. 登陆GitLab，打开`Account settings`，`SSH 密匙`页面：\n",
    "\n",
    "5. 在密匙文本框里粘贴`id_rsa.pub`文件的内容, 填上任意Title，点击\"增加密匙\"，"
   ]
  },
  {
   "cell_type": "markdown",
   "metadata": {},
   "source": [
    "### 从服务器clone代码仓库到本地"
   ]
  },
  {
   "cell_type": "markdown",
   "metadata": {},
   "source": [
    "1. 选择一个你想放置代码的目录, 并cd到这个目录下\n",
    "2. 输入命令:`git clone http://git.xxxxx.com/xxxx.xxxx/xxx.git`,回车\n",
    "3. 你就可以在本地看到clone下来的文件了."
   ]
  }
 ],
 "metadata": {
  "kernelspec": {
   "display_name": "Python 3",
   "language": "python",
   "name": "python3"
  },
  "language_info": {
   "codemirror_mode": {
    "name": "ipython",
    "version": 3
   },
   "file_extension": ".py",
   "mimetype": "text/x-python",
   "name": "python",
   "nbconvert_exporter": "python",
   "pygments_lexer": "ipython3",
   "version": "3.6.6"
  }
 },
 "nbformat": 4,
 "nbformat_minor": 2
}
