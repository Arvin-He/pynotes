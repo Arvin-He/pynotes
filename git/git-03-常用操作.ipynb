{
 "cells": [
  {
   "cell_type": "markdown",
   "metadata": {},
   "source": [
    "# git常用命令"
   ]
  },
  {
   "cell_type": "markdown",
   "metadata": {},
   "source": [
    "### 创建代码仓库"
   ]
  },
  {
   "cell_type": "markdown",
   "metadata": {},
   "source": [
    "* 创建代码仓库文件夹: `mkdir myapp`\n",
    "* 切换目录到代码仓库目录下: `cd myapp`\n",
    "* 初始化代码仓库: `git init`\n"
   ]
  },
  {
   "cell_type": "markdown",
   "metadata": {},
   "source": [
    "### 从仓库检出代码"
   ]
  },
  {
   "cell_type": "markdown",
   "metadata": {},
   "source": [
    "* 创建一个本地仓库的克隆版本: `git clone /path/to/repository`\n",
    "* 从远端服务器上的仓库检出代码: `git clone username@host:/path/to/repository`"
   ]
  },
  {
   "cell_type": "markdown",
   "metadata": {},
   "source": [
    "### 工作流"
   ]
  },
  {
   "cell_type": "markdown",
   "metadata": {},
   "source": [
    "你的本地仓库由 git 维护的 3 棵“树”组成\n",
    "1. 工作区,也就是你的工作目录，它持有实际文件\n",
    "2. 缓存区（Index），它像个缓存区域，临时保存你的改动\n",
    "3. HEAD，指向你最近一次提交后的结果"
   ]
  },
  {
   "cell_type": "markdown",
   "metadata": {},
   "source": [
    "## add文件"
   ]
  },
  {
   "cell_type": "markdown",
   "metadata": {},
   "source": [
    "add文件有几种方式:\n",
    "* `git add .`: add当前目录所有新文件(new)和被修改(modified)文件，但不包括被删除(deleted)文件\n",
    "* `git add -u`: add被修改(modified)和被删除(deleted)文件，不包括新文件(new)\n",
    "* `git add -A`: add所有变化文件,包括新文件(new), 被修改(modified)文件和被删除(deleted)文件\n",
    "* `git add *`: \n",
    "* `git add docs/\\*.txt`: add文件夹docs下后缀为.txt文件\n",
    "* `git add git-*.sh`: add所有符合git-*.sh文件, *是通配符"
   ]
  },
  {
   "cell_type": "markdown",
   "metadata": {},
   "source": [
    "## 撤销add内容"
   ]
  },
  {
   "cell_type": "markdown",
   "metadata": {},
   "source": [
    "* 查看已经add文件: `git status`\n",
    "* 撤销上一次add的所有文件: `git reset HEAD`\n",
    "* 撤销上一次add的指定某个文件; `git reset HEAD xxx/xxx/xxx.py`"
   ]
  },
  {
   "cell_type": "markdown",
   "metadata": {},
   "source": [
    "### commit提交"
   ]
  },
  {
   "cell_type": "markdown",
   "metadata": {},
   "source": [
    "如果你已经add文件,就可以提交代码了,命令如下:`git commit -m \"代码提交信息\"`\n",
    "\n",
    "注意: 你的改动是已经提交到了 HEAD，但是还没push到你的远端仓库."
   ]
  },
  {
   "cell_type": "markdown",
   "metadata": {},
   "source": [
    "### 推送到远程仓库"
   ]
  },
  {
   "cell_type": "markdown",
   "metadata": {},
   "source": [
    "你的改动现在已经在本地仓库的 HEAD 中了, 执行如下命令以将这些改动提交到远端仓库：`git push origin master`\n",
    "\n",
    "注意: 可以把 master 换成你想要推送的任何分支。也就是提交到其他分支,只要把master换成其他分支的名字即可.\n",
    "\n",
    "如果你还没有克隆现有仓库，并欲将你的仓库连接到某个远程服务器，你可以使用如下命令添加：`git remote add origin <server>`, 如此你就能够将你的改动推送到所添加的服务器上去了。"
   ]
  },
  {
   "cell_type": "markdown",
   "metadata": {},
   "source": [
    "## 分支管理"
   ]
  },
  {
   "cell_type": "markdown",
   "metadata": {},
   "source": [
    "创建一个叫做“feature_x”的分支，并切换过去：`git checkout -b feature_x`\n",
    "\n",
    "切换回主分支：`git checkout master`\n",
    "\n",
    "再把新建的分支删掉：`git branch -d feature_x`\n",
    "\n",
    "除非你将分支推送到远端仓库，不然该分支就是 不为他人所见的."
   ]
  },
  {
   "cell_type": "markdown",
   "metadata": {},
   "source": [
    "## 合并与更新"
   ]
  },
  {
   "cell_type": "markdown",
   "metadata": {},
   "source": [
    "更新: \n",
    "* 当你只有master主分支时更新你的本地仓库至最新改动: `git pull`,\n",
    "* 更新代码到其他分支: `git pull origin feature_x`\n",
    "\n",
    "合并: 在你的工作目录中 获取(fetch)并合并(merge)远端的改动到你本地, 或者合并其他分支到你的当前分支（例如 master），执行：`git merge <branch>`"
   ]
  },
  {
   "cell_type": "markdown",
   "metadata": {},
   "source": [
    "### 处理冲突"
   ]
  },
  {
   "cell_type": "markdown",
   "metadata": {},
   "source": [
    "更新和合并这两种情况下，git 都会尝试去自动合并改动。但是自动合并不是次次都能成功，并可能导致冲突（conflicts）。\n",
    "\n",
    "这时候就需要你修改这些文件来**人肉合并**这些冲突(conflicts)了。\n",
    "\n",
    "改完之后，你需要执行如下命令以将它们标记为合并成功：`git add <filename>`\n",
    "\n",
    "在合并改动之前，也可以使用如下命令查看：`git diff <source_branch> <target_branch>`"
   ]
  },
  {
   "cell_type": "markdown",
   "metadata": {},
   "source": [
    "## 标签"
   ]
  },
  {
   "cell_type": "markdown",
   "metadata": {},
   "source": [
    "在软件发布时创建标签，是被推荐的。\n",
    "\n",
    "* 显示已有标签: `git tag`\n",
    "\n",
    "* 搜索标签: `git tag -l 'v1.4.2.*'`\n",
    "\n",
    "* 新建标签：`git tag -a v1.0.0 -m \"your comment\"`\n",
    "\n",
    "* 查看标签版本信息: `git show v1.4`\n",
    "\n",
    "* 分享标签: `git push origin v1.5`, 注意:默认情况下，git push 并不会把标签传送到远端服务器上，只有通过显式命令才能分享标签到远端仓库\n",
    "\n",
    "* 一次推送所有本地新增的标签上去，可以使用 --tags 选项：`git push origin --tags`"
   ]
  },
  {
   "cell_type": "markdown",
   "metadata": {},
   "source": [
    "## git在本地修改并删除一个文件后怎样从服务端拉取？"
   ]
  },
  {
   "cell_type": "markdown",
   "metadata": {},
   "source": [
    "在某些情况下,你本地代码改动已经不想要了(比如:代码改坏了),你需要撤销本地代码更改,并恢复到上次提交的记录\n",
    "\n",
    "撤销本地改动分2种情况:\n",
    "\n",
    "1. 使用本地暂存区文件撤销本地文件更改, 使用如下命令：`git checkout -- <filename>`\n",
    "\n",
    "    * 撤回具体的某个文件: `git checkout -- a.php`\n",
    "    * 不关心具体是哪个文件: `git checkout HEAD`\n",
    "    * `git reset --hard HEAD`\n",
    "\n",
    "注意: 此命令会使用 HEAD 中的最新内容替换掉你的工作目录中的文件。已添加到缓存区的改动，以及新文件，都不受影响。\n",
    "\n",
    "2. 使用远程仓库文件撤销本地文件更改\n",
    "注意: 这是你想要丢弃你所有的本地改动与提交，包括已经commit到暂存区的改动, 可以到服务器上获取最新的版本并将你本地主分支指向到它：\n",
    "```\n",
    "git fetch origin\n",
    "git reset --hard origin/master\n",
    "```"
   ]
  },
  {
   "cell_type": "markdown",
   "metadata": {},
   "source": [
    "### 其他有用的tips"
   ]
  },
  {
   "cell_type": "markdown",
   "metadata": {},
   "source": [
    "* 彩色的 git 输出：`git config color.ui true`\n",
    "* 显示历史记录时，只显示一行注释信息：`git config format.pretty oneline`\n",
    "* 查看日志: `git log`"
   ]
  },
  {
   "cell_type": "markdown",
   "metadata": {},
   "source": [
    "### git找回本地误删的文件"
   ]
  },
  {
   "cell_type": "markdown",
   "metadata": {},
   "source": [
    "不小心把本地的文件删除了,想从仓库git pull 下拉也不行\n",
    "\n",
    "方法:\n",
    "```\n",
    "git reset HEAD database/*\n",
    "git checkout database/*\n",
    "```"
   ]
  },
  {
   "cell_type": "markdown",
   "metadata": {},
   "source": [
    "### 如何让git记住你的账号密码？不用每次push的时候都输入账号密码"
   ]
  },
  {
   "cell_type": "markdown",
   "metadata": {},
   "source": [
    "设置记住密码（默认15分钟）：`git config --global credential.helper cache`\n",
    "\n",
    "自定义设置时间: `git config credential.helper 'cache --timeout=3600'`\n",
    "\n",
    "长期存储密码：`git config --global credential.helper store`"
   ]
  },
  {
   "cell_type": "markdown",
   "metadata": {},
   "source": [
    "### 本地仓库第一次push到github"
   ]
  },
  {
   "cell_type": "markdown",
   "metadata": {},
   "source": []
  }
 ],
 "metadata": {
  "kernelspec": {
   "display_name": "Python 3",
   "language": "python",
   "name": "python3"
  },
  "language_info": {
   "codemirror_mode": {
    "name": "ipython",
    "version": 3
   },
   "file_extension": ".py",
   "mimetype": "text/x-python",
   "name": "python",
   "nbconvert_exporter": "python",
   "pygments_lexer": "ipython3",
   "version": "3.6.6"
  }
 },
 "nbformat": 4,
 "nbformat_minor": 2
}
