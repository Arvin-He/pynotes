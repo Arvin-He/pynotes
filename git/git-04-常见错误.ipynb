{
 "cells": [
  {
   "cell_type": "markdown",
   "metadata": {},
   "source": [
    "# git遇到的常见错误及解决办法"
   ]
  },
  {
   "cell_type": "markdown",
   "metadata": {},
   "source": [
    "### git 推送出现 \"fatal: The remote end hung up unexpectedly\""
   ]
  },
  {
   "cell_type": "markdown",
   "metadata": {},
   "source": [
    "在使用git推送项目时候出现:<br>\n",
    "\"error: RPC failed; curl 56 OpenSSL SSL_read: SSL_ERROR_SYSCALL, errno 10054 <br>\n",
    "fatal: The remote end hung up unexpectedly \"\n",
    "\n",
    "原因: 推送的文件太大。\n",
    "\n",
    "解决方案：有2种方式,推荐使用第2种.\n",
    "\n",
    "1. 在克隆/创建版本库生成的 .git目录下面或者用户全局配置文件目录下修改`.gitcnfig`文件增加如下：\n",
    "```\n",
    "[http]\n",
    "postBuffer = 1048576000\n",
    "[https]\n",
    "postBuffer = 1048576000\n",
    "```\n",
    "\n",
    "2. 使用命令:\n",
    "    * 在单个项目中设置,终端的当前路径必须在git仓库目录下: \n",
    "    ```\n",
    "    git config http.postBuffer 1048576000\n",
    "    git config https.postBuffer 1048576000\n",
    "    ```\n",
    "\n",
    "    * 全局设置:\n",
    "    ```\n",
    "    git config --global http.postBuffer 1048576000\n",
    "    git config --global https.postBuffer 1048576000\n",
    "    ```"
   ]
  },
  {
   "cell_type": "markdown",
   "metadata": {},
   "source": [
    "## fatal: TaskCanceledException encountered.    已取消一个任务。"
   ]
  },
  {
   "cell_type": "markdown",
   "metadata": {},
   "source": [
    "问题: 在windows上push到远程仓库时出现如下错误: fatal: TaskCanceledException encountered.    已取消一个任务。\n",
    "\n",
    "原因: \n",
    "\n",
    "解决方法如下： \n",
    "`git config --global credential.helper manager`,之后再push一切正常"
   ]
  },
  {
   "cell_type": "markdown",
   "metadata": {},
   "source": [
    "### fatal: Could not resolve hostname ssh.github.com: Name or service not known"
   ]
  },
  {
   "cell_type": "markdown",
   "metadata": {},
   "source": [
    "错误: `Could not resolve hostname git.xxxx.com: Name or service not known`\n",
    "\n",
    "原因: git.xxx.com 域名无法解析是因为该域名是局域网服务器上一个域名,且和本地不在一个网段,该服务器是通过建立一个代理来访问该域名的.\n",
    "因此要在本地DNS添加代理IP和服务器域名\n",
    "\n",
    "解决办法: 在windows/system32/diver/etc/hosts文件中添加:`192.168.xx.xx git.xxx.com`\n"
   ]
  },
  {
   "cell_type": "markdown",
   "metadata": {},
   "source": [
    "### Git报错误：Permission denied (publickey,gssapi-keyex,gssapi-with-mic,password)."
   ]
  },
  {
   "cell_type": "markdown",
   "metadata": {},
   "source": [
    "原因: gitlab在服务器上,且和本地机器不在同一网段,只设置了代理进行访问\n",
    "\n",
    "解决办法: 设置git代理\n",
    "\n",
    "    * git config --global http.proxy http://192.168.1.xxx:xxxx\n",
    "    * git config --global https.proxy https://192.168.1.xxx:xxx"
   ]
  },
  {
   "cell_type": "markdown",
   "metadata": {},
   "source": [
    "### git 错误: Unable to find remote helper for 'https'"
   ]
  },
  {
   "cell_type": "markdown",
   "metadata": {},
   "source": [
    "原因:  我的git是在`/opt`目录下, 但是`/opt/git/libexec/git-core/` 路径没在 PATH 环境变量中。 \n",
    "\n",
    "解决办法: 将 `/opt/git/libexec/git-core/`纳入 PATH。\n",
    "\n",
    "```bash\n",
    "export GIT_HOME=/opt/git/bin:/opt/git/libexec/git-core\n",
    "export PATH=$GIT_HOME:$PATH\n",
    "```\n",
    "\n",
    "注意: `git/libexec/git-core`这个目录一定要放到环境变量中,因为好多工具都在这个目录下."
   ]
  },
  {
   "cell_type": "markdown",
   "metadata": {},
   "source": [
    "### git push 遇到 remote: HTTP Basic: Access denied问题"
   ]
  },
  {
   "cell_type": "markdown",
   "metadata": {},
   "source": [
    "环境: win10 + git 2.18.0\n",
    "\n",
    "执行git push 遇到 access denied:\n",
    "```G:\\xxx\\xxx (master -> origin)\n",
    "λ git push origin master\n",
    "remote: HTTP Basic: Access denied\n",
    "fatal: Authentication failed for 'http://git.xxx.com/xx.xxx/projectnames.git/'\n",
    "```\n",
    "\n",
    "排查时，发现git pull也一样遇到access denied\n",
    "\n",
    "按照网上的方法:\n",
    "第一种:\n",
    "1. 用命令 `git config --system --unset credential.helper`,\n",
    "2. 重新输入账号密码\n",
    "\n",
    "第二种:\n",
    "用这个命令： `git config --global http.emptyAuth true`\n",
    "\n",
    "第三种: 更换id_rsa密匙和公钥\n",
    "\n",
    "以上方法结果都是无效的\n",
    "\n",
    "\n",
    "原因: 服务器上的git账户密码和本地的账户密码不一致导致的,和公钥私钥没关系,\n",
    "即使用命令 `git config --system --unset credential.helper`也不会在输入git push 时弹出输入用户名和密码的对话框,\n",
    "这是因为windows本地帮你存储了登录连接gitlab的管理凭据.当你服务器端的git账户密码更改后,还需要修改本地机器上的git账户凭据.\n",
    "一般直接删除对应的凭据,然后git push时自动会弹出这个是否保存凭据的对话框.\n",
    "\n",
    "windows本地凭据管理器位置:\n",
    "控制面板--->凭据管理器---->windows凭据"
   ]
  }
 ],
 "metadata": {
  "kernelspec": {
   "display_name": "Python 3",
   "language": "python",
   "name": "python3"
  },
  "language_info": {
   "codemirror_mode": {
    "name": "ipython",
    "version": 3
   },
   "file_extension": ".py",
   "mimetype": "text/x-python",
   "name": "python",
   "nbconvert_exporter": "python",
   "pygments_lexer": "ipython3",
   "version": "3.6.4"
  }
 },
 "nbformat": 4,
 "nbformat_minor": 2
}
