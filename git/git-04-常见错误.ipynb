{
 "cells": [
  {
   "cell_type": "markdown",
   "metadata": {},
   "source": [
    "# git遇到的常见错误及解决办法"
   ]
  },
  {
   "cell_type": "markdown",
   "metadata": {},
   "source": [
    "### git 推送出现 \"fatal: The remote end hung up unexpectedly\""
   ]
  },
  {
   "cell_type": "markdown",
   "metadata": {},
   "source": [
    "在使用git推送项目时候出现:<br>\n",
    "\"error: RPC failed; curl 56 OpenSSL SSL_read: SSL_ERROR_SYSCALL, errno 10054 <br>\n",
    "fatal: The remote end hung up unexpectedly \"\n",
    "\n",
    "原因: 推送的文件太大。\n",
    "\n",
    "解决方案：有2种方式,推荐使用第2种.\n",
    "\n",
    "1. 在克隆/创建版本库生成的 .git目录下面或者用户全局配置文件目录下修改`.gitcnfig`文件增加如下：\n",
    "```\n",
    "[http]\n",
    "postBuffer = 1048576000\n",
    "[https]\n",
    "postBuffer = 1048576000\n",
    "```\n",
    "\n",
    "2. 使用命令:\n",
    "    * 在单个项目中设置,终端的当前路径必须在git仓库目录下: \n",
    "    ```\n",
    "    git config http.postBuffer 1048576000\n",
    "    git config https.postBuffer 1048576000\n",
    "    ```\n",
    "\n",
    "    * 全局设置:\n",
    "    ```\n",
    "    git config --global http.postBuffer 1048576000\n",
    "    git config --global https.postBuffer 1048576000\n",
    "    ```"
   ]
  },
  {
   "cell_type": "markdown",
   "metadata": {},
   "source": [
    "## fatal: TaskCanceledException encountered.    已取消一个任务。"
   ]
  },
  {
   "cell_type": "markdown",
   "metadata": {},
   "source": [
    "问题: 在windows上push到远程仓库时出现如下错误: fatal: TaskCanceledException encountered.    已取消一个任务。\n",
    "\n",
    "原因: \n",
    "\n",
    "解决方法如下： \n",
    "`git config --global credential.helper manager`,之后再push一切正常"
   ]
  },
  {
   "cell_type": "markdown",
   "metadata": {},
   "source": [
    "### fatal: Could not resolve hostname ssh.github.com: Name or service not known"
   ]
  },
  {
   "cell_type": "markdown",
   "metadata": {},
   "source": [
    "错误: `Could not resolve hostname git.xxxx.com: Name or service not known`\n",
    "\n",
    "原因: git.xxx.com 域名无法解析是因为该域名是局域网服务器上一个域名,且和本地不在一个网段,该服务器是通过建立一个代理来访问该域名的.\n",
    "因此要在本地DNS添加代理IP和服务器域名\n",
    "\n",
    "解决办法: 在windows/system32/diver/etc/hosts文件中添加:`192.168.xx.xx git.xxx.com`\n"
   ]
  },
  {
   "cell_type": "markdown",
   "metadata": {},
   "source": [
    "### Git报错误：Permission denied (publickey,gssapi-keyex,gssapi-with-mic,password)."
   ]
  },
  {
   "cell_type": "markdown",
   "metadata": {},
   "source": [
    "原因: gitlab在服务器上,且和本地机器不在同一网段,只设置了代理进行访问\n",
    "\n",
    "解决办法: 设置git代理\n",
    "\n",
    "    * git config --global http.proxy http://192.168.1.xxx:xxxx\n",
    "    * git config --global https.proxy https://192.168.1.xxx:xxx"
   ]
  },
  {
   "cell_type": "markdown",
   "metadata": {},
   "source": [
    "### git 错误: Unable to find remote helper for 'https'"
   ]
  },
  {
   "cell_type": "markdown",
   "metadata": {},
   "source": [
    "原因:  我的git是在`/opt`目录下, 但是`/opt/git/libexec/git-core/` 路径没在 PATH 环境变量中。 \n",
    "\n",
    "解决办法: 将 `/opt/git/libexec/git-core/`纳入 PATH。\n",
    "\n",
    "```bash\n",
    "export GIT_HOME=/opt/git/bin:/opt/git/libexec/git-core\n",
    "export PATH=$GIT_HOME:$PATH\n",
    "```\n",
    "\n",
    "注意: `git/libexec/git-core`这个目录一定要放到环境变量中,因为好多工具都在这个目录下."
   ]
  },
  {
   "cell_type": "markdown",
   "metadata": {},
   "source": [
    "### git push 遇到 access denied问题"
   ]
  },
  {
   "cell_type": "markdown",
   "metadata": {},
   "source": [
    "执行git push 遇到 access denied\n",
    "\n",
    "排查时，发现git pull也一样遇到access denied\n",
    "\n",
    "解决方案： \n",
    "1. 用命令 `git config –system –unset credential.helper`,\n",
    "2. 重新输入账号密码\n",
    "\n",
    "如果用了第一个解决方案还不能解决问题那么 用这个命令： `git config –global http.emptyAuth true`"
   ]
  }
 ],
 "metadata": {
  "kernelspec": {
   "display_name": "Python 3",
   "language": "python",
   "name": "python3"
  },
  "language_info": {
   "codemirror_mode": {
    "name": "ipython",
    "version": 3
   },
   "file_extension": ".py",
   "mimetype": "text/x-python",
   "name": "python",
   "nbconvert_exporter": "python",
   "pygments_lexer": "ipython3",
   "version": "3.6.4"
  }
 },
 "nbformat": 4,
 "nbformat_minor": 2
}
