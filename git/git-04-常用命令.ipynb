{
 "cells": [
  {
   "cell_type": "markdown",
   "metadata": {},
   "source": [
    "# git常用命令"
   ]
  },
  {
   "cell_type": "markdown",
   "metadata": {},
   "source": [
    "## add文件"
   ]
  },
  {
   "cell_type": "markdown",
   "metadata": {},
   "source": [
    "add文件有几种方式:\n",
    "* `git add .`: add当前目录所有新文件(new)和被修改(modified)文件，但不包括被删除(deleted)文件\n",
    "* `git add -u`: add被修改(modified)和被删除(deleted)文件，不包括新文件(new)\n",
    "* `git add -A`: add所有变化文件,包括新文件(new), 被修改(modified)文件和被删除(deleted)文件\n",
    "* `git add *`: \n",
    "* `git add docs/\\*.txt`: add文件夹docs下后缀为.txt文件\n",
    "* `git add git-*.sh`: add所有符合git-*.sh文件, *是通配符"
   ]
  },
  {
   "cell_type": "markdown",
   "metadata": {},
   "source": [
    "## 撤销add内容"
   ]
  },
  {
   "cell_type": "markdown",
   "metadata": {},
   "source": [
    "* 查看已经add文件: `git status`\n",
    "* 撤销上一次add的所有文件: `git reset HEAD`\n",
    "* 撤销上一次add的指定某个文件; `git reset HEAD xxx/xxx/xxx.py`"
   ]
  }
 ],
 "metadata": {
  "kernelspec": {
   "display_name": "Python 3",
   "language": "python",
   "name": "python3"
  },
  "language_info": {
   "codemirror_mode": {
    "name": "ipython",
    "version": 3
   },
   "file_extension": ".py",
   "mimetype": "text/x-python",
   "name": "python",
   "nbconvert_exporter": "python",
   "pygments_lexer": "ipython3",
   "version": "3.6.4"
  }
 },
 "nbformat": 4,
 "nbformat_minor": 2
}
