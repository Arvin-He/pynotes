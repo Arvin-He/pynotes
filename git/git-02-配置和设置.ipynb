{
 "cells": [
  {
   "cell_type": "markdown",
   "metadata": {},
   "source": [
    "# git配置和设置"
   ]
  },
  {
   "cell_type": "markdown",
   "metadata": {},
   "source": [
    "## 生成ssh密匙"
   ]
  },
  {
   "cell_type": "markdown",
   "metadata": {},
   "source": [
    "1. 创建SSH Key。\n",
    "    * 在用户主目录下，看看有没有.ssh目录，\n",
    "    * 如果有，再看看这个目录下有没有id_rsa和id_rsa.pub这两个文件，如果已经有了，可直接跳到下一步。\n",
    "    * 如果没有，打开Shell（Windows下打开Git Bash），创建SSH Key：`ssh-keygen -t rsa -C \"youremail@example.com\"`\n",
    "\n",
    "2. 把邮件地址换成你自己的邮件地址，然后一路回车，使用默认值即可，由于这个Key也不是用于军事目的，所以也无需设置密码。\n",
    "\n",
    "3. 一切顺利的话，可以在用户主目录里找到.ssh目录，里面有`id_rsa`和`id_rsa.pub`两个文件, 这两个就是SSH Key的秘钥对，id_rsa是私钥，不能泄露出去，id_rsa.pub是公钥，可以放心地告诉任何人,用于粘贴到github上“SSH Keys”页面。\n",
    "\n",
    "4. 登陆GitHub，打开`Account settings`，`SSH Keys`页面：\n",
    "\n",
    "5. 点`Add SSH Key`，填上任意Title(多个ssh key的话注意区分,别搞混了)，在Key文本框里粘贴id_rsa.pub文件的内容\n",
    "\n",
    "为什么GitHub需要SSH Key呢？因为GitHub需要识别出你推送的提交确实是你推送的，而不是别人冒充的，而Git支持SSH协议，所以，GitHub只要知道了你的公钥，就可以确认只有你自己才能推送。\n",
    "\n",
    "当然，GitHub允许你添加多个Key。假定你有若干电脑，你一会儿在公司提交，一会儿在家里提交，只要把每台电脑的Key都添加到GitHub，就可以在每台电脑上往GitHub推送了。"
   ]
  },
  {
   "cell_type": "markdown",
   "metadata": {},
   "source": [
    "## git代理设置"
   ]
  },
  {
   "cell_type": "markdown",
   "metadata": {},
   "source": [
    "设置代理\n",
    "* git config --global http.proxy http://127.0.0.1:1080\n",
    "* git config --global https.proxy https://127.0.0.1:1080\n",
    "\n",
    "取消代理\n",
    "* git config --global --unset http.proxy\n",
    "* git config --global --unset https.proxy\n",
    "* npm config delete proxy\n",
    "\n",
    "设置ss\n",
    "* git config --global http.proxy 'socks5://127.0.0.1:1080'\n",
    "* git config --global https.proxy 'socks5://127.0.0.1:1080'"
   ]
  },
  {
   "cell_type": "markdown",
   "metadata": {},
   "source": [
    "## 一台电脑绑定两个git帐号(GitHub和GitLab)"
   ]
  },
  {
   "cell_type": "markdown",
   "metadata": {},
   "source": [
    "自己git账号属于GitHub, 公司使用的是GitLab\n",
    "\n",
    "ssh 方式链接到 Github／GitLab，需要唯一的公钥，如果想同一台电脑绑定两个Github/GitLab 帐号，需要两个条件:\n",
    "1. 生成两对 私钥/公钥\n",
    "2. push 时，可以区分两个账户，推送到相应的仓库\n",
    "\n",
    "解决方案:\n",
    "\n",
    "1. 生成 私钥/公钥 时，密钥文件命名避免重复\n",
    "\n",
    "    ![](images/1.png)\n",
    "    \n",
    "2. 和密匙在同一目录下,建立一个config文件, 设置不同 Host 对应同一 HostName 但密钥不同, 内容如下:\n",
    "    \n",
    "    ![](images/2.png)\n",
    "    \n",
    "3. 取消 git 全局用户名/邮箱设置，为每个仓库独立设置 用户名/邮箱,\n",
    "   \n",
    "   或者个人设置成global,公司配置成local.\n",
    "   \n",
    "   注意: local的本地账户的配置，只在用git init创建一个本地仓库时才有效,\n",
    "\n",
    "4. 验证是否OK\n",
    "    ssh -T git@github.com \n",
    "    \n",
    "    而gitlab的可以这样测试： \n",
    "    \n",
    "    ssh -T git@gitlab.corp.xyz.com \n",
    "    \n",
    "    如果能看到一些 Welcome 信息，说明就是 OK的了。"
   ]
  },
  {
   "cell_type": "markdown",
   "metadata": {},
   "source": [
    "## 同一账号在github和oschina上同时提交代码"
   ]
  },
  {
   "cell_type": "markdown",
   "metadata": {},
   "source": [
    "1. 配置好密匙公匙,并在码云上保存你生成的公匙, \n",
    "   * 注意:重新生成一对公匙密匙,并重命名, 不能使用以后的公匙密匙\n",
    "2. 写配置到config文件\n",
    "   在.ssh目录下config文件记录配置,如下图:\n",
    "   ![](images/3.png)\n",
    "3. 在本地代码仓库目录下的.git文件夹下的config文件中记录oschina上仓库的url地址, 如下图:\n",
    "    ![](images/4.png)\n",
    "   "
   ]
  }
 ],
 "metadata": {
  "kernelspec": {
   "display_name": "Python 3",
   "language": "python",
   "name": "python3"
  },
  "language_info": {
   "codemirror_mode": {
    "name": "ipython",
    "version": 3
   },
   "file_extension": ".py",
   "mimetype": "text/x-python",
   "name": "python",
   "nbconvert_exporter": "python",
   "pygments_lexer": "ipython3",
   "version": "3.6.6"
  }
 },
 "nbformat": 4,
 "nbformat_minor": 2
}
