{
 "cells": [
  {
   "cell_type": "markdown",
   "metadata": {},
   "source": [
    "# numpy教程-切片和索引"
   ]
  },
  {
   "cell_type": "markdown",
   "metadata": {},
   "source": [
    "### 切片"
   ]
  },
  {
   "cell_type": "markdown",
   "metadata": {},
   "source": [
    "切片是 Python 中基本切片概念到 n 维的扩展。 \n",
    "\n",
    "通过将start，stop和step参数提供给内置的slice函数来构造一个slice对象。 \n",
    "\n",
    "此slice对象被传递给数组来提取数组的一部分。\n",
    "\n",
    "如果只输入一个参数，则将返回与索引对应的单个项目。 \n",
    "\n",
    "如果使用`a:`，则从该索引向后的所有项目将被提取。 \n",
    "\n",
    "如果使用两个参数（以:分隔），则对两个索引（不包括停止索引）之间的元素以默认步骤进行切片。\n",
    "\n",
    "切片还可以包括省略号（...），返回指定维度(行, 列)的所有元素\n",
    "\n",
    "如果在行位置使用省略号，它将返回包含行中元素的ndarray。"
   ]
  },
  {
   "cell_type": "code",
   "execution_count": 3,
   "metadata": {},
   "outputs": [
    {
     "name": "stdout",
     "output_type": "stream",
     "text": [
      "[0 1 2 3 4 5 6 7 8 9]\n",
      "slice(2, 8, 2)\n",
      "[2 4 6]\n",
      "[2 4 6]\n"
     ]
    }
   ],
   "source": [
    "import numpy as np\n",
    "\n",
    "a = np.arange(10)\n",
    "# 创建slice对象\n",
    "s = slice(2, 8, 2)\n",
    "\n",
    "print(a)\n",
    "print(s)\n",
    "print(a[s])\n",
    "print(a[2:8:2])"
   ]
  },
  {
   "cell_type": "code",
   "execution_count": 5,
   "metadata": {},
   "outputs": [
    {
     "name": "stdout",
     "output_type": "stream",
     "text": [
      "[[1 2 3]\n",
      " [3 4 5]\n",
      " [4 5 6]]\n",
      "取第二列元素\n",
      "[2 4 5]\n",
      "取第二行元素\n",
      "[3 4 5]\n",
      "取第二列及剩余元素\n",
      "[[2 3]\n",
      " [4 5]\n",
      " [5 6]]\n"
     ]
    }
   ],
   "source": [
    "import numpy as np\n",
    "\n",
    "a = np.array([[1,2,3],[3,4,5],[4,5,6]])\n",
    "print(a)\n",
    "print('取第二列元素')\n",
    "print(a[..., 1])\n",
    "\n",
    "print('取第二行元素')\n",
    "print(a[1, ...])\n",
    "\n",
    "print('取第二列及剩余元素')\n",
    "print(a[..., 1:])"
   ]
  },
  {
   "cell_type": "markdown",
   "metadata": {},
   "source": [
    "### 高级索引"
   ]
  },
  {
   "cell_type": "markdown",
   "metadata": {},
   "source": [
    "高级索引**始终返回数据的副本**。 与此相反，切片只提供了一个视图。\n",
    "\n",
    "有两种类型的高级索引：整数和布尔值。"
   ]
  },
  {
   "cell_type": "markdown",
   "metadata": {},
   "source": [
    "### 整数索引"
   ]
  },
  {
   "cell_type": "markdown",
   "metadata": {},
   "source": [
    "整数索引可以获取数组中的任意元素,索引就是通过指定array中的下标(行号和列号).\n",
    "\n",
    "这里的array可以理解成线性代数的中的矩阵,索引就是矩阵中元素的下标."
   ]
  },
  {
   "cell_type": "code",
   "execution_count": 8,
   "metadata": {},
   "outputs": [
    {
     "name": "stdout",
     "output_type": "stream",
     "text": [
      "[[1 2]\n",
      " [3 4]\n",
      " [5 6]]\n",
      "[1 4 5]\n",
      "该结果包括数组中(0,0)，(1,1)和(2,0)位置处的元素。\n"
     ]
    }
   ],
   "source": [
    "import numpy as np\n",
    "\n",
    "a = np.array([[1,  2],  [3,  4],  [5,  6]]) \n",
    "b = a[[0,1,2], [0, 1, 0]]\n",
    "\n",
    "print(a)\n",
    "print(b)\n",
    "print('该结果包括数组中(0,0)，(1,1)和(2,0)位置处的元素。')"
   ]
  },
  {
   "cell_type": "code",
   "execution_count": 17,
   "metadata": {},
   "outputs": [
    {
     "name": "stdout",
     "output_type": "stream",
     "text": [
      "创建一个 4×3 矩阵,[4行3列] \n",
      "[[ 0  1  2]\n",
      " [ 3  4  5]\n",
      " [ 6  7  8]\n",
      " [ 9 10 11]]\n",
      "取矩阵每个角落的元素\n",
      "[[ 0  2]\n",
      " [ 9 11]]\n"
     ]
    }
   ],
   "source": [
    "import numpy as np\n",
    "\n",
    "a = np.array([[  0,  1,  2],[  3,  4,  5],[  6,  7,  8],[  9,  10,  11]])\n",
    "print('创建一个 4×3 矩阵,[4行3列] ')\n",
    "print(a)\n",
    "print('取矩阵每个角落的元素')\n",
    "\n",
    "rows = np.array([[0,0], [3,3]])\n",
    "cols = np.array([[0,2], [0,2]])\n",
    "\n",
    "\n",
    "b = a[rows, cols]\n",
    "print(b)"
   ]
  },
  {
   "cell_type": "markdown",
   "metadata": {},
   "source": [
    "高级和基本索引可以通过使用切片:或省略号...与索引数组组合。 \n",
    "\n",
    "以下示例使用slice作为列索引和高级索引。 \n",
    "\n",
    "当切片用于两者时，结果是相同的。 \n",
    "\n",
    "但高级索引会导致复制，并且可能有不同的内存布局。"
   ]
  }
 ],
 "metadata": {
  "kernelspec": {
   "display_name": "Python 3",
   "language": "python",
   "name": "python3"
  },
  "language_info": {
   "codemirror_mode": {
    "name": "ipython",
    "version": 3
   },
   "file_extension": ".py",
   "mimetype": "text/x-python",
   "name": "python",
   "nbconvert_exporter": "python",
   "pygments_lexer": "ipython3",
   "version": "3.6.4"
  }
 },
 "nbformat": 4,
 "nbformat_minor": 2
}
