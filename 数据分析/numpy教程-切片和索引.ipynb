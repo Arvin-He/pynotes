{
 "cells": [
  {
   "cell_type": "markdown",
   "metadata": {},
   "source": [
    "# numpy教程-切片和索引"
   ]
  },
  {
   "cell_type": "markdown",
   "metadata": {},
   "source": [
    "### 切片"
   ]
  },
  {
   "cell_type": "markdown",
   "metadata": {},
   "source": [
    "切片是 Python 中基本切片概念到 n 维的扩展。 \n",
    "\n",
    "通过将start，stop和step参数提供给内置的slice函数来构造一个slice对象。 \n",
    "\n",
    "此slice对象被传递给数组来提取数组的一部分。\n",
    "\n",
    "如果只输入一个参数，则将返回与索引对应的单个项目。 \n",
    "\n",
    "如果使用`a:`，则从该索引向后的所有项目将被提取。 \n",
    "\n",
    "如果使用两个参数（以:分隔），则对两个索引（不包括停止索引）之间的元素以默认步骤进行切片。\n",
    "\n",
    "切片还可以包括省略号（...），返回指定维度(行, 列)的所有元素\n",
    "\n",
    "如果在行位置使用省略号，它将返回包含行中元素的ndarray。"
   ]
  },
  {
   "cell_type": "code",
   "execution_count": 3,
   "metadata": {},
   "outputs": [
    {
     "name": "stdout",
     "output_type": "stream",
     "text": [
      "[0 1 2 3 4 5 6 7 8 9]\n",
      "slice(2, 8, 2)\n",
      "[2 4 6]\n",
      "[2 4 6]\n"
     ]
    }
   ],
   "source": [
    "import numpy as np\n",
    "\n",
    "a = np.arange(10)\n",
    "# 创建slice对象\n",
    "s = slice(2, 8, 2)\n",
    "\n",
    "print(a)\n",
    "print(s)\n",
    "print(a[s])\n",
    "print(a[2:8:2])"
   ]
  },
  {
   "cell_type": "code",
   "execution_count": 5,
   "metadata": {},
   "outputs": [
    {
     "name": "stdout",
     "output_type": "stream",
     "text": [
      "[[1 2 3]\n",
      " [3 4 5]\n",
      " [4 5 6]]\n",
      "取第二列元素\n",
      "[2 4 5]\n",
      "取第二行元素\n",
      "[3 4 5]\n",
      "取第二列及剩余元素\n",
      "[[2 3]\n",
      " [4 5]\n",
      " [5 6]]\n"
     ]
    }
   ],
   "source": [
    "import numpy as np\n",
    "\n",
    "a = np.array([[1,2,3],[3,4,5],[4,5,6]])\n",
    "print(a)\n",
    "print('取第二列元素')\n",
    "print(a[..., 1])\n",
    "\n",
    "print('取第二行元素')\n",
    "print(a[1, ...])\n",
    "\n",
    "print('取第二列及剩余元素')\n",
    "print(a[..., 1:])"
   ]
  },
  {
   "cell_type": "markdown",
   "metadata": {},
   "source": [
    "### 高级索引"
   ]
  },
  {
   "cell_type": "markdown",
   "metadata": {},
   "source": [
    "高级索引**始终返回数据的副本**。 与此相反，切片只提供了一个视图。\n",
    "\n",
    "有两种类型的高级索引：整数和布尔值。"
   ]
  },
  {
   "cell_type": "markdown",
   "metadata": {},
   "source": [
    "### 整数索引"
   ]
  },
  {
   "cell_type": "markdown",
   "metadata": {},
   "source": [
    "整数索引可以获取数组中的任意元素,索引就是通过指定array中的下标(行号和列号).\n",
    "\n",
    "这里的array可以理解成线性代数的中的矩阵,索引就是矩阵中元素的下标."
   ]
  },
  {
   "cell_type": "code",
   "execution_count": 8,
   "metadata": {},
   "outputs": [
    {
     "name": "stdout",
     "output_type": "stream",
     "text": [
      "[[1 2]\n",
      " [3 4]\n",
      " [5 6]]\n",
      "[1 4 5]\n",
      "该结果包括数组中(0,0)，(1,1)和(2,0)位置处的元素。\n"
     ]
    }
   ],
   "source": [
    "import numpy as np\n",
    "\n",
    "a = np.array([[1,  2],  [3,  4],  [5,  6]]) \n",
    "b = a[[0,1,2], [0, 1, 0]]\n",
    "\n",
    "print(a)\n",
    "print(b)\n",
    "print('该结果包括数组中(0,0)，(1,1)和(2,0)位置处的元素。')"
   ]
  },
  {
   "cell_type": "code",
   "execution_count": 24,
   "metadata": {},
   "outputs": [
    {
     "name": "stdout",
     "output_type": "stream",
     "text": [
      "创建一个 4×3 矩阵,[4行3列] \n",
      "[[ 0  1  2]\n",
      " [ 3  4  5]\n",
      " [ 6  7  8]\n",
      " [ 9 10 11]]\n",
      "取矩阵每个角落的元素, 共 4 个元素, 每个元素都有行号列号, 因此共有4个行号,4个列号\n",
      "行号有4个,依次: 0, 0, 3, 3\n",
      "列号有4个,依次: 0, 2, 0, 2\n",
      "依次对应行列号: (0,0), (0,2), (3,0), (3,2)\n",
      "保留原格式展示:\n",
      "[[ 0  2]\n",
      " [ 9 11]]\n",
      "另外一种展示方式:\n",
      "[ 0  2  9 11]\n"
     ]
    }
   ],
   "source": [
    "import numpy as np\n",
    "\n",
    "a = np.array([[  0,  1,  2],[  3,  4,  5],[  6,  7,  8],[  9,  10,  11]])\n",
    "print('创建一个 4×3 矩阵,[4行3列] ')\n",
    "print(a)\n",
    "print('取矩阵每个角落的元素, 共 4 个元素, 每个元素都有行号列号, 因此共有4个行号,4个列号')\n",
    "\n",
    "rows = np.array([[0,0], [3,3]])\n",
    "print('行号有4个,依次: 0, 0, 3, 3')\n",
    "\n",
    "cols = np.array([[0,2], [0,2]])\n",
    "print('列号有4个,依次: 0, 2, 0, 2')\n",
    "\n",
    "print('依次对应行列号: (0,0), (0,2), (3,0), (3,2)')\n",
    "print('保留原格式展示:')\n",
    "b = a[rows, cols]\n",
    "print(b)\n",
    "\n",
    "print('另外一种展示方式:')\n",
    "rows = np.array([0,0,3,3])\n",
    "cols = np.array([0,2,0,2])\n",
    "c = a[rows, cols]\n",
    "print(c)"
   ]
  },
  {
   "cell_type": "markdown",
   "metadata": {},
   "source": [
    "高级和基本索引可以通过使用切片:或省略号...与索引数组组合。 \n",
    "\n",
    "以下示例使用slice作为列索引和高级索引。 \n",
    "\n",
    "当切片用于两者时，结果是相同的。 \n",
    "\n",
    "但高级索引会导致复制，并且可能有不同的内存布局。"
   ]
  },
  {
   "cell_type": "code",
   "execution_count": 29,
   "metadata": {},
   "outputs": [
    {
     "name": "stdout",
     "output_type": "stream",
     "text": [
      "创建一个 4×3 矩阵,[4行3列] \n",
      "[[ 0  1  2]\n",
      " [ 3  4  5]\n",
      " [ 6  7  8]\n",
      " [ 9 10 11]]\n",
      "切片数组, 注意:切片是前闭后开的\n",
      "[[ 4  5]\n",
      " [ 7  8]\n",
      " [10 11]]\n",
      "混合使用切片和索引, 对列使用高级索引\n",
      "[[ 4  5]\n",
      " [ 7  8]\n",
      " [10 11]]\n"
     ]
    }
   ],
   "source": [
    "import numpy as np \n",
    "a = np.array([[  0,  1,  2],[  3,  4,  5],[  6,  7,  8],[  9,  10,  11]])\n",
    "print('创建一个 4×3 矩阵,[4行3列] ')\n",
    "print(a)\n",
    "\n",
    "print('切片数组, 注意:切片是前闭后开的')\n",
    "b = a[1:4, 1:3]\n",
    "print(b)\n",
    "\n",
    "print('混合使用切片和索引, 对列使用高级索引')\n",
    "c = a[1:4, [1,2]]\n",
    "print(c)"
   ]
  },
  {
   "cell_type": "markdown",
   "metadata": {},
   "source": [
    "### 布尔索引"
   ]
  },
  {
   "cell_type": "markdown",
   "metadata": {},
   "source": [
    "当结果对象是布尔运算（例如比较运算符）的结果时，将使用此类型的高级索引。"
   ]
  },
  {
   "cell_type": "code",
   "execution_count": 30,
   "metadata": {},
   "outputs": [
    {
     "name": "stdout",
     "output_type": "stream",
     "text": [
      "[[ 0  1  2]\n",
      " [ 3  4  5]\n",
      " [ 6  7  8]\n",
      " [ 9 10 11]]\n",
      "print大于5的元素\n",
      "[ 6  7  8  9 10 11]\n"
     ]
    }
   ],
   "source": [
    "import numpy as np \n",
    "a = np.array([[  0,  1,  2],[  3,  4,  5],[  6,  7,  8],[  9,  10,  11]])\n",
    "\n",
    "print(a)\n",
    "print('print大于5的元素')\n",
    "b = a[a > 5]\n",
    "print(b)"
   ]
  },
  {
   "cell_type": "code",
   "execution_count": 33,
   "metadata": {},
   "outputs": [
    {
     "name": "stdout",
     "output_type": "stream",
     "text": [
      "[nan  1.  2. nan  3.  4.  5.]\n",
      "使用 ~（取补运算符）过滤NaN元素:\n",
      "[1. 2. 3. 4. 5.]\n",
      "过滤非复数元素:\n",
      "[2. +6.j 3.5+5.j]\n"
     ]
    }
   ],
   "source": [
    "import numpy as np \n",
    "a = np.array([np.nan,  1,2,np.nan,3,4,5])  \n",
    "print(a)\n",
    "print('使用 ~（取补运算符）过滤NaN元素:')\n",
    "b = a[~np.isnan(a)]\n",
    "print(b)\n",
    "\n",
    "print('过滤非复数元素:')\n",
    "a = np.array([1,  2+6j,  5,  3.5+5j])  \n",
    "b = a[np.iscomplex(a)]\n",
    "print(b) "
   ]
  },
  {
   "cell_type": "markdown",
   "metadata": {},
   "source": [
    "### 广播"
   ]
  },
  {
   "cell_type": "markdown",
   "metadata": {},
   "source": [
    "广播是指 NumPy 在算术运算期间处理不同形状的数组的能力。\n",
    "\n",
    "对数组的算术运算通常在相应的元素上进行。 \n",
    "\n",
    "如果两个阵列具有完全相同的形状，则这些操作被无缝执行。"
   ]
  },
  {
   "cell_type": "code",
   "execution_count": 34,
   "metadata": {},
   "outputs": [
    {
     "name": "stdout",
     "output_type": "stream",
     "text": [
      "[1 2 3 4]\n",
      "[10 20 30 40]\n",
      "[ 10  40  90 160]\n",
      "[11 22 33 44]\n"
     ]
    }
   ],
   "source": [
    "import numpy as np\n",
    "\n",
    "a = np.array([1, 2, 3, 4])\n",
    "b = np.array([10, 20, 30, 40])\n",
    "c = a * b\n",
    "d = a + b\n",
    "print(a)\n",
    "print(b)\n",
    "print(c)\n",
    "print(d)"
   ]
  },
  {
   "cell_type": "markdown",
   "metadata": {},
   "source": [
    "通常如果两个数组的维数不相同，则元素到元素的操作是不可能的。 \n",
    "\n",
    "但是在 NumPy 中却可以对形状不相似的数组进行操作，因为它拥有广播功能。 \n",
    "\n",
    "较小的数组会广播到较大数组的大小，以便使它们的形状可兼容。\n",
    "\n",
    "如果满足以下规则，可以进行广播：\n",
    "\n",
    "* ndim较小的数组会在前面追加一个长度为 1 的维度。\n",
    "\n",
    "* 输出数组的每个维度的大小是输入数组该维度大小的最大值。\n",
    "\n",
    "* 如果输入在每个维度中的大小与输出大小匹配，或其值正好为 1，则可计算它。\n",
    "\n",
    "* 如果输入的某个维度大小为 1，则该维度中的第一个数据元素将用于该维度的所有计算。\n",
    "\n",
    "\n",
    "如果上述规则产生有效结果，并且满足以下条件之一，那么数组被称为可广播的。\n",
    "\n",
    "* 数组拥有相同形状。\n",
    "\n",
    "* 数组拥有相同的维数，每个维度拥有相同长度，或者长度为 1。\n",
    "\n",
    "* 数组拥有极少的维度，可以在其前面追加长度为 1 的维度，使上述条件成立。"
   ]
  },
  {
   "cell_type": "code",
   "execution_count": 36,
   "metadata": {},
   "outputs": [
    {
     "name": "stdout",
     "output_type": "stream",
     "text": [
      "第一个数组:\n",
      "[[ 0.  0.  0.]\n",
      " [10. 10. 10.]\n",
      " [20. 20. 20.]\n",
      " [30. 30. 30.]]\n",
      "第二个数组:\n",
      "[1. 2. 3.]\n",
      "第一个数组 + 第二个数组:\n",
      "[[ 1.  2.  3.]\n",
      " [11. 12. 13.]\n",
      " [21. 22. 23.]\n",
      " [31. 32. 33.]]\n"
     ]
    }
   ],
   "source": [
    "import numpy as np \n",
    "a = np.array([[0.0,0.0,0.0],[10.0,10.0,10.0],[20.0,20.0,20.0],[30.0,30.0,30.0]]) \n",
    "b = np.array([1.0,2.0,3.0])  \n",
    "print('第一个数组:')\n",
    "print(a)\n",
    "print('第二个数组:')\n",
    "print(b)\n",
    "print('第一个数组 + 第二个数组:')\n",
    "c = a + b\n",
    "print(c)"
   ]
  },
  {
   "cell_type": "markdown",
   "metadata": {},
   "source": [
    "### 数组上的迭代"
   ]
  },
  {
   "cell_type": "markdown",
   "metadata": {},
   "source": [
    "NumPy 有一个迭代器对象numpy.nditer。 它是一个多维迭代器对象，用于在数组上进行迭代。\n",
    "\n",
    "数组的每个元素可使用 Python 的标准Iterator接口来访问。"
   ]
  },
  {
   "cell_type": "code",
   "execution_count": null,
   "metadata": {},
   "outputs": [],
   "source": [
    "import numpy as np\n",
    "\n",
    "a = np.arange(0, 60, 5)\n",
    "a = a.reshape(3, 4)\n",
    "\n",
    "print(a)\n",
    "\n",
    "print('开始迭代数组:')\n"
   ]
  }
 ],
 "metadata": {
  "kernelspec": {
   "display_name": "Python 3",
   "language": "python",
   "name": "python3"
  },
  "language_info": {
   "codemirror_mode": {
    "name": "ipython",
    "version": 3
   },
   "file_extension": ".py",
   "mimetype": "text/x-python",
   "name": "python",
   "nbconvert_exporter": "python",
   "pygments_lexer": "ipython3",
   "version": "3.6.4"
  }
 },
 "nbformat": 4,
 "nbformat_minor": 2
}
