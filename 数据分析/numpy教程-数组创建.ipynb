{
 "cells": [
  {
   "cell_type": "markdown",
   "metadata": {},
   "source": [
    "# numpy教程-数组创建"
   ]
  },
  {
   "cell_type": "markdown",
   "metadata": {},
   "source": [
    "### 使用empty, zeros和ones创建数组"
   ]
  },
  {
   "cell_type": "markdown",
   "metadata": {},
   "source": [
    "numpy.empty: 创建指定大小和dtype的未初始化数组:\n",
    "\n",
    "`numpy.empty(shape, dtype = float, order = 'C')`\n",
    "\n",
    "numpy.zeros: 返回指定大小和dtype, 以 0 填充的新数组:\n",
    "\n",
    "`numpy.zeros(shape, dtype = float, order = 'C')`\n",
    "\n",
    "numpy.ones: 返回指定大小和dtype，以 1 填充的新数组:\n",
    "\n",
    "`numpy.ones(shape, dtype = None, order = 'C')`\n",
    "\n",
    "1.\tShape 空数组的形状，整数或整数元组\n",
    "2.\tDtype 所需的输出数组类型，可选\n",
    "3.\tOrder 'C'为按行的 C 风格数组，'F'为按列的 Fortran 风格数组"
   ]
  },
  {
   "cell_type": "code",
   "execution_count": 7,
   "metadata": {},
   "outputs": [
    {
     "name": "stdout",
     "output_type": "stream",
     "text": [
      "使用empty创建数组, 注意：数组元素为随机值，因为它们未初始化。\n",
      "[[ 75236458     65923]\n",
      " [  5706353 192154228]\n",
      " [ 25363068  41746819]]\n",
      "使用zeros创建数组\n",
      "[[0 0 0]\n",
      " [0 0 0]\n",
      " [0 0 0]]\n",
      "使用ones创建数组\n",
      "[[1 1 1]\n",
      " [1 1 1]\n",
      " [1 1 1]]\n",
      "创建含有 5 个 1 的数组，默认类型为 float  \n",
      "[1. 1. 1. 1. 1.]\n"
     ]
    }
   ],
   "source": [
    "import numpy as np\n",
    "\n",
    "a = np.empty([3,2], dtype=int)\n",
    "print('使用empty创建数组, 注意：数组元素为随机值，因为它们未初始化。')\n",
    "print(a)\n",
    "\n",
    "\n",
    "print('使用zeros创建数组')\n",
    "b = np.zeros([3, 3], dtype=int)\n",
    "print(b)\n",
    "\n",
    "print('使用ones创建数组')\n",
    "c = np.ones([3, 3], dtype=int)\n",
    "print(c)\n",
    "print('创建含有 5 个 1 的数组，默认类型为 float  ')\n",
    "d = np.ones(5)\n",
    "print(d)\n"
   ]
  },
  {
   "cell_type": "markdown",
   "metadata": {},
   "source": [
    "### 创建来自现有数据的array"
   ]
  },
  {
   "cell_type": "markdown",
   "metadata": {},
   "source": [
    "`numpy.asarray`: 此函数类似于`numpy.array`，除了它有较少的参数, 对于将 Python 序列转换为ndarray非常有用。\n",
    "\n",
    "`numpy.asarray(a, dtype = None, order = None)`\n",
    "\n",
    "1.\ta 任意形式的输入参数，比如列表、列表的元组、元组、元组的元组、元组的列表\n",
    "2.\tdtype 通常，输入数据的类型会应用到返回的ndarray\n",
    "3.\torder 'C'为按行的 C 风格数组，'F'为按列的 Fortran 风格数组"
   ]
  },
  {
   "cell_type": "code",
   "execution_count": 12,
   "metadata": {},
   "outputs": [
    {
     "name": "stdout",
     "output_type": "stream",
     "text": [
      "创建来自array的数组\n",
      "[1 2 3]\n",
      "[1. 2. 3.]\n",
      "创建来自元组的数组\n",
      "[4 5 6]\n",
      "创建来自元组列表的数组\n",
      "[(1, 2, 3) (5, 6)]\n"
     ]
    }
   ],
   "source": [
    "import numpy as np\n",
    "\n",
    "print('创建来自array的数组')\n",
    "a = [1, 2, 3]\n",
    "b = np.asarray(a)\n",
    "c = np.asarray(a, dtype=float)\n",
    "print(b)\n",
    "print(c)\n",
    "\n",
    "print('创建来自元组的数组')\n",
    "a = (4, 5, 6)\n",
    "b = np.asarray(a)\n",
    "print(b)\n",
    "\n",
    "print('创建来自元组列表的数组')\n",
    "a = [(1,2,3), (5,6)]\n",
    "b = np.asarray(a)\n",
    "print(b)"
   ]
  },
  {
   "cell_type": "markdown",
   "metadata": {},
   "source": [
    "### 创建来自缓冲区数据的array"
   ]
  },
  {
   "cell_type": "markdown",
   "metadata": {},
   "source": [
    "`numpy.frombuffer`: 此函数将缓冲区解释为一维数组\n",
    "\n",
    "`numpy.frombuffer(buffer, dtype = float, count = -1, offset = 0)`\n",
    "\n",
    "1.\tbuffer 任何表示buffer的对象,即含有`__buffer__`方法的对象,例如:字符串就不是,但是bytes就是.\n",
    "2.\tdtype 返回数组的数据类型，默认为float\n",
    "3.\tcount 需要读取的数据数量，默认为-1，读取所有数据\n",
    "4.\toffset 需要读取的起始位置，默认为0"
   ]
  },
  {
   "cell_type": "code",
   "execution_count": 15,
   "metadata": {},
   "outputs": [
    {
     "name": "stdout",
     "output_type": "stream",
     "text": [
      "[b'H' b'e' b'l' b'l' b'o' b' ' b'W' b'o' b'r' b'l' b'd' b'.']\n"
     ]
    },
    {
     "ename": "AttributeError",
     "evalue": "'str' object has no attribute '__buffer__'",
     "output_type": "error",
     "traceback": [
      "\u001b[1;31m---------------------------------------------------------------------------\u001b[0m",
      "\u001b[1;31mAttributeError\u001b[0m                            Traceback (most recent call last)",
      "\u001b[1;32m<ipython-input-15-b44d2962f9d6>\u001b[0m in \u001b[0;36m<module>\u001b[1;34m()\u001b[0m\n\u001b[0;32m      6\u001b[0m \u001b[1;33m\u001b[0m\u001b[0m\n\u001b[0;32m      7\u001b[0m \u001b[0ms\u001b[0m \u001b[1;33m=\u001b[0m \u001b[1;34m'Hello World.'\u001b[0m\u001b[1;33m\u001b[0m\u001b[0m\n\u001b[1;32m----> 8\u001b[1;33m \u001b[0ma\u001b[0m \u001b[1;33m=\u001b[0m \u001b[0mnp\u001b[0m\u001b[1;33m.\u001b[0m\u001b[0mfrombuffer\u001b[0m\u001b[1;33m(\u001b[0m\u001b[0ms\u001b[0m\u001b[1;33m,\u001b[0m \u001b[0mdtype\u001b[0m\u001b[1;33m=\u001b[0m\u001b[1;34m'S1'\u001b[0m\u001b[1;33m)\u001b[0m\u001b[1;33m\u001b[0m\u001b[0m\n\u001b[0m\u001b[0;32m      9\u001b[0m \u001b[0mprint\u001b[0m\u001b[1;33m(\u001b[0m\u001b[0ma\u001b[0m\u001b[1;33m)\u001b[0m\u001b[1;33m\u001b[0m\u001b[0m\n",
      "\u001b[1;31mAttributeError\u001b[0m: 'str' object has no attribute '__buffer__'"
     ]
    }
   ],
   "source": [
    "import numpy as np\n",
    "\n",
    "s = b'Hello World.'\n",
    "a = np.frombuffer(s, dtype='S1')\n",
    "print(a)\n",
    "\n",
    "s = 'Hello World.'\n",
    "a = np.frombuffer(s, dtype='S1')\n",
    "print(a)\n"
   ]
  },
  {
   "cell_type": "markdown",
   "metadata": {},
   "source": [
    "### 创建来自可迭代对象的array"
   ]
  },
  {
   "cell_type": "markdown",
   "metadata": {},
   "source": [
    "从可迭代对象构建一个ndarray对象，返回一个新的**一维数组**。\n",
    "\n",
    "**注意:** dtype必须指定,没有默认值\n",
    "\n",
    "`numpy.fromiter(iterable, dtype, count = -1)`\n",
    "\n",
    "1.\titerable 任何可迭代对象\n",
    "2.\tdtype 返回数组的数据类型\n",
    "3.\tcount 需要读取的数据数量，默认为-1，读取所有数据"
   ]
  },
  {
   "cell_type": "code",
   "execution_count": 19,
   "metadata": {},
   "outputs": [
    {
     "name": "stdout",
     "output_type": "stream",
     "text": [
      "[0 1 2 3 4]\n",
      "[1. 2. 1. 2.]\n",
      "[5.+0.j 6.+0.j 7.+0.j 8.+0.j 9.+0.j]\n"
     ]
    }
   ],
   "source": [
    "import numpy as np\n",
    "\n",
    "a = np.fromiter(range(5), dtype=int)\n",
    "print(a)\n",
    "\n",
    "b = np.fromiter([1, 2, 1, 2], dtype=float)\n",
    "print(b)\n",
    "\n",
    "c = np.fromiter(iter(range(5, 10)), dtype=complex)\n",
    "print(c)"
   ]
  },
  {
   "cell_type": "markdown",
   "metadata": {},
   "source": [
    "### 创建来自数值范围的array"
   ]
  },
  {
   "cell_type": "markdown",
   "metadata": {},
   "source": [
    "`numpy.arange` : 返回包含给定范围内的等间隔值的array.\n",
    "\n",
    "`numpy.arange(start, stop, step, dtype)`\n",
    "\n",
    "1.\tstart 范围的起始值，默认为0\n",
    "2.\tstop 范围的终止值（不包含）\n",
    "3.\tstep 两个值的间隔，默认为1\n",
    "4.\tdtype 返回ndarray的数据类型，如果没有提供，则会使用输入数据的类型。\n",
    "\n",
    "`numpy.linspace` : 指定了范围之间的均匀间隔数量，而不是步长.此函数类似于arange()函数。\n",
    "\n",
    "`numpy.linspace(start, stop, num, endpoint, retstep, dtype)`\n",
    "\n",
    "1.\tstart 序列的起始值\n",
    "2.\tstop 序列的终止值，如果endpoint为true，该值包含于序列中\n",
    "3.\tnum 要生成的等间隔样例数量，默认为50\n",
    "4.\tendpoint 序列中是否包含stop值，默认为ture\n",
    "5.\tretstep 如果为true，返回样例，以及连续数字之间的步长\n",
    "6.\tdtype 输出ndarray的数据类型\n",
    "\n",
    "`numpy.logspace` : 创建在对数刻度上均匀分布的数字的array, 刻度的开始和结束端点是某个底数的幂，通常为 10。\n",
    "\n",
    "`numpy.logscale(start, stop, num, endpoint, base, dtype)`\n",
    "\n",
    "1.\tstart 起始值是base ** start\n",
    "2.\tstop 终止值是base ** stop\n",
    "3.\tnum 范围内的数值数量，默认为50\n",
    "4.\tendpoint 如果为true，终止值包含在输出数组当中\n",
    "5.\tbase 对数空间的底数，默认为10\n",
    "6.\tdtype 输出数组的数据类型，如果没有提供，则取决于其它参数"
   ]
  },
  {
   "cell_type": "code",
   "execution_count": 6,
   "metadata": {},
   "outputs": [
    {
     "name": "stdout",
     "output_type": "stream",
     "text": [
      "使用arange创建array\n",
      "[0 1 2 3 4]\n",
      "[5. 6. 7. 8. 9.]\n",
      "[ 2  4  6  8 10 12 14 16 18]\n",
      "使用linespace创建array\n",
      "[10.  12.5 15.  17.5 20. ]\n",
      "(array([1.  , 1.25, 1.5 , 1.75, 2.  ]), 0.25)\n"
     ]
    }
   ],
   "source": [
    "import numpy as np\n",
    "\n",
    "print('使用arange创建array')\n",
    "a = np.arange(5)\n",
    "print(a)\n",
    "\n",
    "b = np.arange(5, 10, dtype=float)\n",
    "print(b)\n",
    "\n",
    "c = np.arange(2, 20, 2)\n",
    "print(c)\n",
    "\n",
    "print('使用linespace创建array')\n",
    "a = np.linspace(10, 20, 5)\n",
    "print(a)\n",
    "\n",
    "b = np.linspace(1, 2, 5, retstep=True)\n",
    "print(b)"
   ]
  },
  {
   "cell_type": "code",
   "execution_count": null,
   "metadata": {},
   "outputs": [],
   "source": []
  }
 ],
 "metadata": {
  "kernelspec": {
   "display_name": "Python 3",
   "language": "python",
   "name": "python3"
  },
  "language_info": {
   "codemirror_mode": {
    "name": "ipython",
    "version": 3
   },
   "file_extension": ".py",
   "mimetype": "text/x-python",
   "name": "python",
   "nbconvert_exporter": "python",
   "pygments_lexer": "ipython3",
   "version": "3.6.4"
  }
 },
 "nbformat": 4,
 "nbformat_minor": 2
}
