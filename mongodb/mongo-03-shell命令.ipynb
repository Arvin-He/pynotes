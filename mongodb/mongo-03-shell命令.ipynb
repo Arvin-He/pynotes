{
 "cells": [
  {
   "cell_type": "markdown",
   "metadata": {},
   "source": [
    "# MongoDB的shell命令"
   ]
  },
  {
   "cell_type": "markdown",
   "metadata": {},
   "source": [
    "## mongodbshell命令"
   ]
  },
  {
   "cell_type": "code",
   "execution_count": null,
   "metadata": {},
   "outputs": [],
   "source": [
    "# 查看版本号\n",
    "mongo --version\n",
    "\n",
    "use testdb\n",
    "\n",
    "db.auth('arvin', 'arvin@123456.')"
   ]
  },
  {
   "cell_type": "markdown",
   "metadata": {},
   "source": [
    "### 导出集合"
   ]
  },
  {
   "cell_type": "markdown",
   "metadata": {},
   "source": [
    "### 导入集合"
   ]
  },
  {
   "cell_type": "markdown",
   "metadata": {},
   "source": [
    "### 导入整个数据库"
   ]
  },
  {
   "cell_type": "markdown",
   "metadata": {},
   "source": [
    "### 导出整个数据库"
   ]
  },
  {
   "cell_type": "markdown",
   "metadata": {},
   "source": [
    "### python执行mongo的shell命令"
   ]
  },
  {
   "cell_type": "code",
   "execution_count": 19,
   "metadata": {},
   "outputs": [
    {
     "name": "stdout",
     "output_type": "stream",
     "text": [
      "{'db': 'testdb', 'collections': 0, 'views': 0, 'objects': 0, 'avgObjSize': 0, 'dataSize': 0, 'storageSize': 0, 'numExtents': 0, 'indexes': 0, 'indexSize': 0, 'fileSize': 0, 'fsUsedSize': 0, 'fsTotalSize': 0, 'ok': 1.0}\n",
      "testdb\n"
     ]
    }
   ],
   "source": [
    "# import pymongo\n",
    "\n",
    "# MONGODB = {\n",
    "#     \"user\": \"arvin\",\n",
    "#     \"passwd\": \"arvin@123456.\",\n",
    "#     \"host\": \"127.0.0.1:27017\",\n",
    "#     \"dbname\": \"testdb\"\n",
    "# }\n",
    "\n",
    "# def mongo_connect(MONGODB):\n",
    "#     client = MongoClient(\n",
    "#             'mongodb://{}:{}@{}/{}'.format(MONGODB['user'],\n",
    "#                                            MONGODB['passwd'],\n",
    "#                                            MONGODB['host'],\n",
    "#                                            MONGODB['dbname']),\n",
    "#             connect=False\n",
    "#         )\n",
    "#     db = client[MONGODB['dbname']]\n",
    "#     return db\n",
    "\n",
    "# prints database stats for \"test_db\"\n",
    "print(db.command(\"dbstats\")) \n",
    "print(db.name)\n",
    "# db.command(\"collstats\", \"test_collection\") # prints collection-level stats for \"test_collection\" under \"test_db\". "
   ]
  },
  {
   "cell_type": "markdown",
   "metadata": {},
   "source": [
    "### 检测mongodb服务是否可用"
   ]
  },
  {
   "cell_type": "code",
   "execution_count": 18,
   "metadata": {},
   "outputs": [
    {
     "name": "stdout",
     "output_type": "stream",
     "text": [
      "Server is available\n"
     ]
    }
   ],
   "source": [
    "from pymongo import MongoClient\n",
    "from pymongo.errors import ConnectionFailure\n",
    "\n",
    "client = MongoClient()\n",
    "\n",
    "try:\n",
    "    # The ismaster command is cheap and does not require auth.\n",
    "    client.admin.command('ismaster')\n",
    "    print('Server is available')\n",
    "except ConnectionFailure:\n",
    "    print(\"Server is not available\")\n",
    "    "
   ]
  },
  {
   "cell_type": "code",
   "execution_count": null,
   "metadata": {},
   "outputs": [],
   "source": []
  },
  {
   "cell_type": "code",
   "execution_count": null,
   "metadata": {},
   "outputs": [],
   "source": []
  }
 ],
 "metadata": {
  "kernelspec": {
   "display_name": "Python 3",
   "language": "python",
   "name": "python3"
  },
  "language_info": {
   "codemirror_mode": {
    "name": "ipython",
    "version": 3
   },
   "file_extension": ".py",
   "mimetype": "text/x-python",
   "name": "python",
   "nbconvert_exporter": "python",
   "pygments_lexer": "ipython3",
   "version": "3.6.4"
  }
 },
 "nbformat": 4,
 "nbformat_minor": 2
}
