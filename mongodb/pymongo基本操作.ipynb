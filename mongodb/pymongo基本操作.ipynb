{
 "cells": [
  {
   "cell_type": "markdown",
   "metadata": {},
   "source": [
    "# pymongo基本操作"
   ]
  },
  {
   "cell_type": "markdown",
   "metadata": {},
   "source": [
    "### mongodb连接"
   ]
  },
  {
   "cell_type": "code",
   "execution_count": null,
   "metadata": {},
   "outputs": [],
   "source": [
    "import pymongo\n",
    "\n",
    "# 以类的方式创建mongodb的实例\n",
    "class ConnectMongo(object):\n",
    "    \n",
    "        def __init__(self, MONGODB):\n",
    "        self.client = MongoClient(\n",
    "            'mongodb://{}:{}@{}/{}'.format(MONGODB['user'],\n",
    "                                           MONGODB['passwd'],\n",
    "                                           MONGODB['host'],\n",
    "                                           MONGODB['dbname']),\n",
    "            connect=False\n",
    "        )\n",
    "        self.mongodb = self.client[MONGODB['dbname']]\n",
    "\n",
    "    def __del__(self):\n",
    "        self.client.close()\n",
    "        \n",
    "def connect_mongo(MONGODB):\n",
    "    client = MongoClient(\n",
    "        'mongodb://{}:{}@{}/{}'.format(MONGODB['user'],\n",
    "                                       MONGODB['passwd'],\n",
    "                                       MONGODB['host'],\n",
    "                                       MONGODB['dbname']),\n",
    "        connect=False)\n",
    "    mongodb = client[MONGODB['dbname']]\n",
    "    return mongodb\n"
   ]
  },
  {
   "cell_type": "markdown",
   "metadata": {},
   "source": [
    "### mongodb的client没有close会不会造成内存泄漏?"
   ]
  }
 ],
 "metadata": {
  "kernelspec": {
   "display_name": "Python 3",
   "language": "python",
   "name": "python3"
  },
  "language_info": {
   "codemirror_mode": {
    "name": "ipython",
    "version": 3
   },
   "file_extension": ".py",
   "mimetype": "text/x-python",
   "name": "python",
   "nbconvert_exporter": "python",
   "pygments_lexer": "ipython3",
   "version": "3.6.4"
  }
 },
 "nbformat": 4,
 "nbformat_minor": 2
}
