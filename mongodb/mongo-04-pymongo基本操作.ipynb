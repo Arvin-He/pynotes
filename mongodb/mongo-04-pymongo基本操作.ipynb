{
 "cells": [
  {
   "cell_type": "markdown",
   "metadata": {},
   "source": [
    "# pymongo基本操作"
   ]
  },
  {
   "cell_type": "markdown",
   "metadata": {},
   "source": [
    "### 连接mongodb(无auth验证)"
   ]
  },
  {
   "cell_type": "markdown",
   "metadata": {},
   "source": [
    "无验证式连接数据库通常是在第一次连接数据库时使用到,此时没有建立数据库,没有配置用户角色和读写权限."
   ]
  },
  {
   "cell_type": "code",
   "execution_count": 26,
   "metadata": {},
   "outputs": [
    {
     "data": {
      "text/plain": [
       "{'ok': 1.0}"
      ]
     },
     "execution_count": 26,
     "metadata": {},
     "output_type": "execute_result"
    }
   ],
   "source": [
    "import pymongo\n",
    "\n",
    "# 仅仅创建mongodb连接,但未验证,没有连接到具体的数据库,相当于打开一个shell\n",
    "client = pymongo.MongoClient(host='127.0.0.1', port=27017)\n",
    "# 创建数据库\n",
    "db = pymongo.database.Database(client, 'testdb')\n",
    "db.command(\"updateUser\", \"arvin\", pwd=\"arvin123\")\n",
    "\n",
    "# 创建管理员用户,密码和权限\n",
    "db.command(\"createUser\", \"admin\", pwd=\"admin@123456.\", roles=[\"root\"])\n",
    "# 创建普通用户,密码和读取权限\n",
    "db.command(\"createUser\", \"arvin\", pwd=\"arvin@123456.\", roles=[\"readWrite\"])\n",
    "# 创建普通用户,密码和只读权限\n",
    "db.command(\"createUser\", \"xiaoming\", pwd=\"xiaoming@123456.\", roles=[\"read\"])\n",
    "# 创建普通用户,密码和只写权限\n",
    "db.command(\"createUser\", \"xiaohong\", pwd=\"xiaohong@123456.\", roles=[\"write\"])\n",
    "# 修改用户密码\n",
    "db.command(\"updateUser\", \"xiaoming\", pwd=\"xiaoming@123.\")\n",
    "# 修改用户读取权限\n",
    "db.command(\"updateUser\", \"xiaoming\", roles=[\"readWrite\"])"
   ]
  },
  {
   "cell_type": "markdown",
   "metadata": {},
   "source": [
    "### mongodb连接(带有auth验证)"
   ]
  },
  {
   "cell_type": "code",
   "execution_count": null,
   "metadata": {},
   "outputs": [],
   "source": [
    "import pymongo\n",
    "\n",
    "try:\n",
    "    # Python 3.x\n",
    "    from urllib.parse import quote_plus\n",
    "except ImportError:\n",
    "    # Python 2.x\n",
    "    from urllib import quote_plus\n",
    "\n",
    "MONGODB = {\n",
    "    \"user\": \"arvin\",\n",
    "    \"passwd\": \"arvin@123456.\",\n",
    "    \"host\": \"127.0.0.1:27017\",\n",
    "    \"dbname\": \"testdb\"\n",
    "}\n",
    "\n",
    "# 方式一\n",
    "# 以类的方式创建mongodb的实例\n",
    "class ConnectMongo(object):\n",
    "    \n",
    "        def __init__(self, MONGODB):\n",
    "        self.client = MongoClient(\n",
    "            'mongodb://{}:{}@{}/{}'.format(MONGODB['user'],\n",
    "                                           MONGODB['passwd'],\n",
    "                                           MONGODB['host'],\n",
    "                                           MONGODB['dbname']),\n",
    "            connect=False\n",
    "        )\n",
    "        self.mongodb = self.client[MONGODB['dbname']]\n",
    "\n",
    "    def __del__(self):\n",
    "        self.client.close()\n",
    "        \n",
    "# 方式二        \n",
    "def connect_mongo(MONGODB):\n",
    "    client = MongoClient(\n",
    "        'mongodb://{}:{}@{}/{}'.format(MONGODB['user'],\n",
    "                                       MONGODB['passwd'],\n",
    "                                       MONGODB['host'],\n",
    "                                       MONGODB['dbname']),\n",
    "        connect=False)\n",
    "    mongodb = client[MONGODB['dbname']]\n",
    "    return mongodb\n",
    "\n",
    "# 方式三: 处理特殊字符 \n",
    "def connect_mongo(mongo_param):\n",
    "    uri =  'mongodb://{}:{}@{}/{}'.format(quote_plus(mongo_param['user']),\n",
    "                                          quote_plus(mongo_param['passwd']),\n",
    "                                          mongo_param['host'],\n",
    "                                          mongo_param['dbname'])\n",
    "    try:\n",
    "        client = pymongo.MongoClient(uri, connect=False)\n",
    "        mongodb = client[mongo_param['dbname']]\n",
    "        return mongodb\n",
    "    except Exception as e:\n",
    "        print(e)"
   ]
  },
  {
   "cell_type": "markdown",
   "metadata": {},
   "source": [
    "**注意:** \n",
    "1. 方式二存在内存泄漏问题,因为创建的client没有在程序结束后close掉.\n",
    "2. 当用户名或密码带有 ‘:’, ‘/’, ‘+’ 和 ‘@’ 这些字符时需要使用百分比编码,否则连接报错: `Username and password must be escaped according to RFC 3986, use urllib.parse.quote_plus().`"
   ]
  },
  {
   "cell_type": "markdown",
   "metadata": {},
   "source": [
    "### 插入数据(insert)"
   ]
  },
  {
   "cell_type": "code",
   "execution_count": 32,
   "metadata": {},
   "outputs": [],
   "source": [
    "import pymongo\n",
    "\n",
    "MONGODB = {\n",
    "    \"user\": \"arvin\",\n",
    "    \"passwd\": \"arvin123\",\n",
    "    \"host\": \"127.0.0.1:27017\",\n",
    "    \"dbname\": \"testdb\"\n",
    "}\n",
    "\n",
    "\n",
    "def connect_mongo(mongo_param):\n",
    "    uri =  'mongodb://{}:{}@{}/{}'.format(quote_plus(mongo_param['user']),\n",
    "                                          quote_plus(mongo_param['passwd']),\n",
    "                                          mongo_param['host'],\n",
    "                                          mongo_param['dbname'])\n",
    "    try:\n",
    "        client = pymongo.MongoClient(uri, connect=False)\n",
    "        mongodb = client[mongo_param['dbname']]\n",
    "        return mongodb\n",
    "    except Exception as e:\n",
    "        print(e)\n",
    "        \n",
    "db = connect_mongo(MONGODB)\n",
    "\n",
    "for i in range(10):\n",
    "    \n",
    "    doc = {'jan':[], 'feb': [], 'mar':[], 'apr':[], 'may':[], 'jun': [], 'jul':[], 'aug':[], 'sep':[], 'oct':[], 'nov':[], 'dec':[] }\n",
    "    db['res_score'].insert_one(doc)"
   ]
  },
  {
   "cell_type": "markdown",
   "metadata": {},
   "source": [
    "### 删除数据(delete)"
   ]
  },
  {
   "cell_type": "code",
   "execution_count": 33,
   "metadata": {},
   "outputs": [
    {
     "data": {
      "text/plain": [
       "<pymongo.results.DeleteResult at 0x200524df5c8>"
      ]
     },
     "execution_count": 33,
     "metadata": {},
     "output_type": "execute_result"
    }
   ],
   "source": [
    "import pymongo\n",
    "\n",
    "MONGODB = {\n",
    "    \"user\": \"arvin\",\n",
    "    \"passwd\": \"arvin123\",\n",
    "    \"host\": \"127.0.0.1:27017\",\n",
    "    \"dbname\": \"testdb\"\n",
    "}\n",
    "\n",
    "\n",
    "def connect_mongo(mongo_param):\n",
    "    uri =  'mongodb://{}:{}@{}/{}'.format(quote_plus(mongo_param['user']),\n",
    "                                          quote_plus(mongo_param['passwd']),\n",
    "                                          mongo_param['host'],\n",
    "                                          mongo_param['dbname'])\n",
    "    try:\n",
    "        client = pymongo.MongoClient(uri, connect=False)\n",
    "        mongodb = client[mongo_param['dbname']]\n",
    "        return mongodb\n",
    "    except Exception as e:\n",
    "        print(e)\n",
    "        \n",
    "db = connect_mongo(MONGODB)\n",
    "\n",
    "# 删除一条数据\n",
    "db['res_score'].delete_one({})\n",
    "\n",
    "# 删除全部数据\n",
    "db['res_score'].delete_many({})\n"
   ]
  },
  {
   "cell_type": "markdown",
   "metadata": {},
   "source": [
    "### 更新数据(update)"
   ]
  },
  {
   "cell_type": "markdown",
   "metadata": {},
   "source": [
    "一般更新只更新最先找到的一条记录"
   ]
  },
  {
   "cell_type": "markdown",
   "metadata": {},
   "source": [
    "#### 批量更新"
   ]
  },
  {
   "cell_type": "markdown",
   "metadata": {},
   "source": [
    "批量更新只需要将第3个参数设为true即可"
   ]
  },
  {
   "cell_type": "code",
   "execution_count": null,
   "metadata": {},
   "outputs": [],
   "source": [
    "db.getCollection('crawler_urls').update({'site': 'https://www.lljr.com'}, {$set: {\"site\" : \"https://2code.top\"}}, true)"
   ]
  }
 ],
 "metadata": {
  "kernelspec": {
   "display_name": "Python 3",
   "language": "python",
   "name": "python3"
  },
  "language_info": {
   "codemirror_mode": {
    "name": "ipython",
    "version": 3
   },
   "file_extension": ".py",
   "mimetype": "text/x-python",
   "name": "python",
   "nbconvert_exporter": "python",
   "pygments_lexer": "ipython3",
   "version": "3.6.4"
  }
 },
 "nbformat": 4,
 "nbformat_minor": 2
}
