{
 "cells": [
  {
   "cell_type": "markdown",
   "metadata": {},
   "source": [
    "# 使用Tornado搭建HTTPS网站"
   ]
  },
  {
   "cell_type": "markdown",
   "metadata": {},
   "source": [
    "Tornado 本身支持 SSL ，所以我们这里需要做的主要是生成可用的证书。"
   ]
  },
  {
   "cell_type": "markdown",
   "metadata": {},
   "source": [
    "## 生成SSL证书"
   ]
  },
  {
   "cell_type": "markdown",
   "metadata": {},
   "source": [
    "### windows"
   ]
  },
  {
   "cell_type": "markdown",
   "metadata": {},
   "source": [
    "下载openssl\n",
    "下载地址: http://gnuwin32.sourceforge.net/packages/openssl.htm\n",
    "\n",
    "安装好openssl之后进入到openssl的安装目录下的bin目录,最好将bin目录放到环境变量中去\n",
    "\n",
    "1. 运行命令，生成密钥key: `openssl genrsa -des3 -out f:/work/server.key 2048`\n",
    "    `f:/work/server.key`:这个是生成的文件路径\n",
    "    这个命令执行的时候，会提示你输入密码，输入简单的123456或者别的都行\n",
    "    \n",
    "2. 创建证书的申请文件.csr: `openssl req -new -key f:/work/server.key -out f:/work/server.csr`,\n",
    "    如果在执行上面的命令的时候出现以下错误：`Unable to load config info from /usr/local/ssl/openssl.cnf`\n",
    "    这是因为openssl找不到对应配置文件，那么我们就需要弄到这个配置文件，如果你电脑安装了git的话，那么恭喜你，在git里面有这个文件，我们可以使用git下面的这个文件来执行上面的命令，修改一下，变成下面这样“\n",
    "    `openssl req -new -key f:/work/server.key -out f:/work/server.csr -config \"C:\\Program Files\\Git\\mingw64\\ssl\\openssl.cnf\"`\n",
    "    注意: `-config`参数后面跟的路径要用引号引起来\n",
    "    运行上面的命令之后，根据提示输入国家简称，省市等信息，一直到最后就行。\n",
    "\n",
    "3. 创建一个CA证书: `openssl req -new -x509 -key f:/work/server.key -out f:/work/ca.crt -days 3650 -config \"C:\\Program Files\\Git\\mingw64\\ssl\\openssl.cnf\"`\n",
    "    注意，上面的命令也需要加-config参数，不然也会报上面说的错误。\n",
    "    \n",
    "4. 删除私钥中的密码\n",
    "    在第1步创建私钥的过程中，由于必须要指定一个密码。而这个密码会带来一个副作用，那就是在每次Apache启动Web服务器时，都会要求输入密码，这显然非常不方便。要删除私钥中的密码，操作如下：\n",
    "    `openssl rsa -in f:/work/server.key -out f:/work/server_no_passwd.key`\t\n",
    "    \n",
    "    \n",
    "5. 生成自签名证书\n",
    "使用上面的证书申请文件和CA证书，来创建自己的证书: `openssl x509 -req -days 3650 -in f:/work/server.csr -signkey f:/work/server_no_passwd.key -out f:/work/server.crt`\n",
    "\n",
    "\n",
    "\n"
   ]
  },
  {
   "cell_type": "code",
   "execution_count": null,
   "metadata": {},
   "outputs": [],
   "source": []
  }
 ],
 "metadata": {
  "kernelspec": {
   "display_name": "Python 3",
   "language": "python",
   "name": "python3"
  },
  "language_info": {
   "codemirror_mode": {
    "name": "ipython",
    "version": 3
   },
   "file_extension": ".py",
   "mimetype": "text/x-python",
   "name": "python",
   "nbconvert_exporter": "python",
   "pygments_lexer": "ipython3",
   "version": "3.6.4"
  }
 },
 "nbformat": 4,
 "nbformat_minor": 2
}
