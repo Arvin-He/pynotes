{
 "cells": [
  {
   "cell_type": "markdown",
   "metadata": {},
   "source": [
    "# tornado-接口调用顺序"
   ]
  },
  {
   "cell_type": "markdown",
   "metadata": {},
   "source": [
    "### 在未抛出异常的情况下的接口调用顺序为： "
   ]
  },
  {
   "cell_type": "markdown",
   "metadata": {},
   "source": [
    "set_default_headers \n",
    "initialize \n",
    "prepare \n",
    "http func \n",
    "finish"
   ]
  },
  {
   "cell_type": "markdown",
   "metadata": {},
   "source": [
    "### 在抛出异常的情况下的： "
   ]
  },
  {
   "cell_type": "markdown",
   "metadata": {},
   "source": [
    "set_default_headers \n",
    "initialize \n",
    "prepare \n",
    "http func \n",
    "set_default_headers \n",
    "write_error \n",
    "finish"
   ]
  },
  {
   "cell_type": "markdown",
   "metadata": {},
   "source": [
    "### 测试代码"
   ]
  },
  {
   "cell_type": "code",
   "execution_count": null,
   "metadata": {},
   "outputs": [],
   "source": [
    "import tornado\n",
    "import tornado.web\n",
    "import tornado.ioloop\n",
    "class indexHandler(tornado.web.RequestHandler):\n",
    "    def get(self, *args, **kwargs):\n",
    "        print('http func')\n",
    "        self.send_error(200)#在此处抛出一个error\n",
    "    def set_default_headers(self):\n",
    "        print('set_default_headers')\n",
    "    def initialize(self):\n",
    "        print('initialize')\n",
    "    def prepare(self):\n",
    "        print('prepare')\n",
    "    def write_error(self, status_code, **kwargs):\n",
    "        print('write_error')\n",
    "    def on_finish(self):\n",
    "        print('finish')\n",
    "        \n",
    "if __name__ == '__main__':\n",
    "    app=tornado.web.Application([\n",
    "        ('/index',indexHandler)\n",
    "    ]\n",
    "    )\n",
    "    app.listen(8888)\n",
    "    tornado.ioloop.IOLoop.instance().start()"
   ]
  }
 ],
 "metadata": {
  "kernelspec": {
   "display_name": "Python 3",
   "language": "python",
   "name": "python3"
  },
  "language_info": {
   "codemirror_mode": {
    "name": "ipython",
    "version": 3
   },
   "file_extension": ".py",
   "mimetype": "text/x-python",
   "name": "python",
   "nbconvert_exporter": "python",
   "pygments_lexer": "ipython3",
   "version": "3.6.4"
  }
 },
 "nbformat": 4,
 "nbformat_minor": 2
}
