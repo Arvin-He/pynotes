{
 "cells": [
  {
   "cell_type": "markdown",
   "metadata": {},
   "source": [
    "# tornado 添加请求头进行允许跨域"
   ]
  },
  {
   "cell_type": "markdown",
   "metadata": {},
   "source": [
    "### 什么是跨域？"
   ]
  },
  {
   "cell_type": "markdown",
   "metadata": {},
   "source": [
    "跨域，指的是浏览器不能执行其他网站的脚本。它是由浏览器的同源策略造成的，是浏览器施加的安全限制。\n",
    "\n",
    "所谓同源是指，域名，协议，端口均相同，不明白没关系，举个栗子：\n",
    "\n",
    "http://www.123.com/index.html 调用 http://www.123.com/server.php （非跨域）\n",
    "\n",
    "http://www.123.com/index.html 调用 http://www.456.com/server.php （主域名不同:123/456，跨域）\n",
    "\n",
    "http://abc.123.com/index.html 调用 http://def.123.com/server.php （子域名不同:abc/def，跨域）\n",
    "\n",
    "http://www.123.com:8080/index.html 调用 http://www.123.com:8081/server.php （端口不同:8080/8081，跨域）\n",
    "\n",
    "http://www.123.com/index.html 调用 https://www.123.com/server.php （协议不同:http/https，跨域）\n",
    "\n",
    "请注意：localhost和127.0.0.1虽然都指向本机，但也属于跨域。"
   ]
  },
  {
   "cell_type": "markdown",
   "metadata": {},
   "source": [
    "### 服务端进行跨域需要添加的代码"
   ]
  },
  {
   "cell_type": "code",
   "execution_count": null,
   "metadata": {},
   "outputs": [],
   "source": [
    "class BaseHandler(tornado.web.RequestHandler):\n",
    "\n",
    "    def set_default_headers(self):\n",
    "        # 这个地方可以写域名\n",
    "        self.set_header(\"Access-Control-Allow-Origin\", \"*\") \n",
    "        self.set_header(\"Access-Control-Allow-Headers\", \"x-requested-with\")\n",
    "        self.set_header('Access-Control-Allow-Methods', 'POST, GET, OPTIONS')\n",
    "\n",
    "    def options(self):\n",
    "        # no body\n",
    "        self.set_status(204)\n",
    "        self.finish()"
   ]
  }
 ],
 "metadata": {
  "kernelspec": {
   "display_name": "Python 3",
   "language": "python",
   "name": "python3"
  },
  "language_info": {
   "codemirror_mode": {
    "name": "ipython",
    "version": 3
   },
   "file_extension": ".py",
   "mimetype": "text/x-python",
   "name": "python",
   "nbconvert_exporter": "python",
   "pygments_lexer": "ipython3",
   "version": "3.6.4"
  }
 },
 "nbformat": 4,
 "nbformat_minor": 2
}
