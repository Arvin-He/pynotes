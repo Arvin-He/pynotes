{
 "cells": [
  {
   "cell_type": "markdown",
   "metadata": {},
   "source": [
    "# tornado后台代码架构"
   ]
  },
  {
   "cell_type": "markdown",
   "metadata": {},
   "source": [
    "## 一个组织结构"
   ]
  },
  {
   "cell_type": "markdown",
   "metadata": {},
   "source": [
    "![代码组织结构](../tornado_notes/images/1.png)"
   ]
  },
  {
   "cell_type": "markdown",
   "metadata": {},
   "source": [
    "* app/: 主要后台业务逻辑主体代码\n",
    "    * ctrls/: 各种路由handler,主要处理路由参数和请求的,你应该知道tornado是使用handler来进行路由管理的\n",
    "    * logs/: 存放的日志文件,一个项目是不能没有日志的\n",
    "    * models/: 各种与数据库打交道的model,所有数据交互都在这里实现的\n",
    "    * templates/: html模板文件,这个根据项目可有可无\n",
    "    * config.py: 项目的配置文件,也包含了各种常量,这个做法不是很完美\n",
    "    * logger.py: 日志配置,包括输出格式,日志分割设置,日志命名等设置\n",
    "    * mail.py: 关于邮件的相关操作\n",
    "    * urlmap.py: 路由映射,所有的路由都在这里管理\n",
    "    * utils.py: 通用的工具方法,相当于一个通用模块,你也可以命名成common.py\n",
    "* migrate/: 存放数据库数据创建,迁移,删除,upgrade和downgrade等脚本\n",
    "* statis/: 存放静态资源文件,如果前后端分离,那么前端代码是放在这里的\n",
    "* test/: 存放单元测试的脚本\n",
    "* run.py: 命令行启动脚本,或启动脚本"
   ]
  },
  {
   "cell_type": "markdown",
   "metadata": {},
   "source": [
    "## 从程序的入口main.py开始"
   ]
  },
  {
   "cell_type": "code",
   "execution_count": null,
   "metadata": {},
   "outputs": [],
   "source": []
  }
 ],
 "metadata": {
  "kernelspec": {
   "display_name": "Python 3",
   "language": "python",
   "name": "python3"
  },
  "language_info": {
   "codemirror_mode": {
    "name": "ipython",
    "version": 3
   },
   "file_extension": ".py",
   "mimetype": "text/x-python",
   "name": "python",
   "nbconvert_exporter": "python",
   "pygments_lexer": "ipython3",
   "version": "3.6.4"
  }
 },
 "nbformat": 4,
 "nbformat_minor": 2
}
