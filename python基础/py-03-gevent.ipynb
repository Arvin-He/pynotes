{
 "cells": [
  {
   "cell_type": "markdown",
   "metadata": {},
   "source": [
    "# gevent使用"
   ]
  },
  {
   "cell_type": "markdown",
   "metadata": {},
   "source": [
    "### gevent简介"
   ]
  },
  {
   "cell_type": "code",
   "execution_count": null,
   "metadata": {},
   "outputs": [],
   "source": []
  },
  {
   "cell_type": "markdown",
   "metadata": {},
   "source": [
    "### gevent的一些坑"
   ]
  },
  {
   "cell_type": "markdown",
   "metadata": {},
   "source": [
    "gevent的猴子补丁会替换掉标准库的一些函数,使网络变成异步非阻塞,通常在程序的一开始处就进行猴子补丁,否则有可能补丁没有生效\n",
    "\n",
    "通常在程序一开始处执行`from gevent import monkey; monkey.patch_all()`\n",
    "\n",
    "有的时候打了猴子补丁,会产生一些怪异的情况,这些怪异的情况使无法判别的,所以猴子补丁谨慎使用."
   ]
  },
  {
   "cell_type": "markdown",
   "metadata": {},
   "source": [
    "## gevent用法"
   ]
  },
  {
   "cell_type": "markdown",
   "metadata": {},
   "source": [
    "gevent对协程的支持,本质上是greenlet在实现切换工作"
   ]
  },
  {
   "cell_type": "markdown",
   "metadata": {},
   "source": [
    "### gevent使用流程"
   ]
  },
  {
   "cell_type": "code",
   "execution_count": null,
   "metadata": {},
   "outputs": [],
   "source": [
    "# spawn方法可以看作是创建一个协程, joinall方法可以看作是添加任务,并启动运行协程\n",
    "from gevent import monkey;monkey.patch_all()\n",
    "import gevent\n",
    "import requests\n",
    "\n",
    "\n",
    "def run_task(url):\n",
    "    try:\n",
    "        r = requests.get(url)\n",
    "    except Exception as e:\n",
    "        print(e)\n",
    "\n",
    "        \n",
    "if __name__ == '__main__':\n",
    "    urls = ['url1', 'url2', 'url3']\n",
    "    greenlets = [gevent.spawn(run_task, url) for url in urls]\n",
    "    gevent.joinall(greenlets)"
   ]
  },
  {
   "cell_type": "markdown",
   "metadata": {},
   "source": [
    "### 协程池的使用"
   ]
  },
  {
   "cell_type": "code",
   "execution_count": null,
   "metadata": {},
   "outputs": [],
   "source": [
    "# -*- coding:utf-8 -*-\n",
    "from gevent import monkey; monkey.patch_all()\n",
    "import gevent\n",
    "from gevent.pool import Pool\n",
    "\n",
    "exist_pages = []\n",
    "with open(\"xxxxx.txt\", \"r\", encoding=\"utf-8\") as f:\n",
    "    for line in f:\n",
    "        exist_pages.append(int(line.strip()))\n",
    "\n",
    "\n",
    "def get_page_index():\n",
    "    for page in range(1, 623000):\n",
    "        yield page\n",
    "\n",
    "\n",
    "def record_leak_pages(page):\n",
    "    with open(\"xxxx.txt\", \"a\", encoding=\"utf-8\") as f:\n",
    "        f.write(\"{}\\n\".format(page))\n",
    "\n",
    "\n",
    "def check_page_exist(page):\n",
    "    if page not in exist_pages:\n",
    "        record_leak_pages(page)\n",
    "\n",
    "\n",
    "pool = Pool(200)\n",
    "try:\n",
    "    pool.map(check_page_exist, get_page_index())\n",
    "except Exception as e:\n",
    "    print(e)"
   ]
  }
 ],
 "metadata": {
  "kernelspec": {
   "display_name": "Python 3",
   "language": "python",
   "name": "python3"
  },
  "language_info": {
   "codemirror_mode": {
    "name": "ipython",
    "version": 3
   },
   "file_extension": ".py",
   "mimetype": "text/x-python",
   "name": "python",
   "nbconvert_exporter": "python",
   "pygments_lexer": "ipython3",
   "version": "3.6.4"
  }
 },
 "nbformat": 4,
 "nbformat_minor": 2
}
