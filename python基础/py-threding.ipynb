{
 "cells": [
  {
   "cell_type": "markdown",
   "metadata": {},
   "source": [
    "# 线程"
   ]
  },
  {
   "cell_type": "markdown",
   "metadata": {},
   "source": [
    "Python中线程会在一个单独的系统级别线程中执行（比如一个POSIX线程或者一个Windows线程）.这些线程将由操作系统来全权管理。线程一旦启动，将独立执行直到目标函数返回。"
   ]
  },
  {
   "cell_type": "markdown",
   "metadata": {},
   "source": [
    "### 常用用法"
   ]
  },
  {
   "cell_type": "markdown",
   "metadata": {},
   "source": [
    "* t.is_alive() : 查询一个线程对象的状态，看它是否还在执行.\n",
    "* t.join(): 把一个线程加入到当前线程，并等待它终止. Python 解释器在所有线程都终止后才继续执行代码剩余的部分.\n",
    "* daemon: 对于需要长时间运行的线程或者需要一直运行的后台任务，可以用后台线程（也称为守护线程）,后台线程无法等待，这些线程会在主线程终止时自动销毁\n",
    "\n",
    "```python\n",
    "t = Thread(target = func, args(1,), daemon = True)\n",
    "t.start()\n",
    "```    \n",
    "    \n",
    "\n",
    "#### 小结：\n",
    "* 后台线程无法等待，不过，后台线程会在主线程终止时自动销毁。\n",
    "* 你无法结束一个线程，无法给它发送信号，无法调整它的调度，也无法执行其他高级操作。如果需要这些特性，需要自己添加。比如说，你需要终止线程，那么这个线程必须通过编程在某个特定点轮询来退出\n",
    "* 如果线程执行一些像 I/O 这样的阻塞操作，那么通过轮询来终止线程将使得线程之间的协调变得非常棘手。比如，如果一个线程一直阻塞在一个 I/O 操作上，它就永远无法返回，也就无法检查自己是否已经被结束了。要正确处理这些问题，需要利用超时循环来小心操作线程。"
   ]
  },
  {
   "cell_type": "markdown",
   "metadata": {},
   "source": [
    "使用threading模块创建多线程有两种方式:\n",
    "* 传入一个函数并创建一个thread实例,然后调用start方法运行\n",
    "* 继承threading.Thread类,重写__init__和run方法"
   ]
  },
  {
   "cell_type": "code",
   "execution_count": 1,
   "metadata": {},
   "outputs": [
    {
     "name": "stdout",
     "output_type": "stream",
     "text": [
      "MainThread is running...\n",
      "current thread_1 is runnging...\n",
      "thread_1 ----->>> url1\n",
      "current thread_2 is runnging...\n",
      "thread_2 ----->>> url4\n",
      "thread_1 ----->>> url2\n",
      "thread_2 ----->>> url5\n",
      "thread_2 ----->>> url6\n",
      "thread_1 ----->>> url3\n",
      "thread_2 ended.\n",
      "thread_1 ended.\n",
      "MainThread is ended.\n"
     ]
    }
   ],
   "source": [
    "# 法一\n",
    "import random\n",
    "import time\n",
    "import threading\n",
    "\n",
    "def thread_run(urls):\n",
    "    print(\"current {} is runnging...\".format(threading.current_thread().name))\n",
    "    for url in urls:\n",
    "        print(\"{} ----->>> {}\".format(threading.current_thread().name, url))\n",
    "        time.sleep(random.random())\n",
    "    print(\"{} ended.\".format(threading.current_thread().name))\n",
    "\n",
    "print(\"{} is running...\".format(threading.current_thread().name))\n",
    "t1 = threading.Thread(target=thread_run, name='thread_1', args=(['url1', 'url2', 'url3'], ))\n",
    "t2 = threading.Thread(target=thread_run, name='thread_2', args=(['url4', 'url5', 'url6'], ))\n",
    "\n",
    "t1.start()\n",
    "t2.start()\n",
    "\n",
    "t1.join()\n",
    "t2.join()\n",
    "\n",
    "print(\"{} is ended.\".format(threading.current_thread().name))"
   ]
  },
  {
   "cell_type": "code",
   "execution_count": 2,
   "metadata": {},
   "outputs": [
    {
     "name": "stdout",
     "output_type": "stream",
     "text": [
      "MainThread is running...\n",
      "current thread_1 is runnging...\n",
      "thread_1 ----->>> url1\n",
      "current thread_2 is runnging...\n",
      "thread_2 ----->>> url4\n",
      "thread_1 ----->>> url2\n",
      "thread_2 ----->>> url5\n",
      "thread_1 ----->>> url3\n",
      "thread_2 ----->>> url6\n",
      "thread_1 ended.\n",
      "thread_2 ended.\n",
      "MainThread is ended.\n"
     ]
    }
   ],
   "source": [
    "import random\n",
    "import time\n",
    "import threading\n",
    "\n",
    "class mythread(threading.Thread):\n",
    "    def __init__(self, name, urls):\n",
    "        # super(mythread, self).__init__(name=name)\n",
    "        # 这里显式调用父类的初始化方法,区别于super()方法,虽然效果一样\n",
    "        threading.Thread.__init__(self, name=name)\n",
    "        self.urls = urls\n",
    "\n",
    "    def run(self):\n",
    "        print(\"current {} is runnging...\".format(threading.current_thread().name))\n",
    "        for url in self.urls:\n",
    "            print(\"{} ----->>> {}\".format(threading.current_thread().name, url))\n",
    "            time.sleep(random.random())\n",
    "        print(\"{} ended.\".format(threading.current_thread().name))\n",
    "\n",
    "print(\"{} is running...\".format(threading.current_thread().name))\n",
    "t1 = mythread(name='thread_1', urls=['url1', 'url2', 'url3'])\n",
    "t2 = mythread(name='thread_2', urls=['url4', 'url5', 'url6'])\n",
    "\n",
    "t1.start()\n",
    "t2.start()\n",
    "\n",
    "t1.join()\n",
    "t2.join()\n",
    "\n",
    "print(\"{} is ended.\".format(threading.current_thread().name))"
   ]
  },
  {
   "cell_type": "markdown",
   "metadata": {},
   "source": [
    "### 线程间通信"
   ]
  },
  {
   "cell_type": "markdown",
   "metadata": {},
   "source": [
    "一个线程向另外一个线程发送数据最安全的方式应该就是queue库中的队列\n",
    "\n",
    "先看一下使用例子，这里是一个简单的生产者和消费者模型："
   ]
  },
  {
   "cell_type": "code",
   "execution_count": 6,
   "metadata": {},
   "outputs": [
    {
     "name": "stdout",
     "output_type": "stream",
     "text": [
      "生产者生产了数据2\n",
      "消费者消费了2\n",
      "\n",
      "生产者生产了数据4\n",
      "消费者消费了4\n",
      "\n",
      "生产者生产了数据4\n",
      "消费者消费了4\n",
      "\n",
      "生产者生产了数据0\n",
      "消费者消费了0\n",
      "\n",
      "生产者生产了数据5\n",
      "消费者消费了5\n",
      "\n",
      "消费者消费了<object object at 0x000001F8278EBC60>\n"
     ]
    }
   ],
   "source": [
    "from queue import Queue\n",
    "from threading import Thread\n",
    "import random\n",
    "import time\n",
    "\n",
    "\n",
    "_sentinel = object()\n",
    "\n",
    "\n",
    "def producer(out_q):\n",
    "    n = 5\n",
    "    while n:\n",
    "        time.sleep(1)\n",
    "        data = random.randint(0, 10)\n",
    "        out_q.put(data)\n",
    "        print(\"生产者生产了数据{0}\\n\".format(data))\n",
    "        n -= 1\n",
    "    out_q.put(_sentinel)\n",
    "\n",
    "\n",
    "def consumer(in_q):\n",
    "    while True:\n",
    "        data = in_q.get()\n",
    "        print(\"消费者消费了{0}\".format(data))\n",
    "        if data is _sentinel:\n",
    "#             in_q.put(_sentinel)\n",
    "            break\n",
    "\n",
    "\n",
    "q = Queue()\n",
    "t1 = Thread(target=consumer, args=(q,))\n",
    "t2 = Thread(target=producer, args=(q,))\n",
    "\n",
    "t1.start()\n",
    "t2.start()"
   ]
  },
  {
   "cell_type": "markdown",
   "metadata": {},
   "source": [
    "上述代码中设置了一个特殊值_sentinel用于当获取到这个值的时候终止执行\n",
    "\n",
    "关于queue的功能有个需要注意的地方：\n",
    "* Queue对象虽然已经包含了必要的锁，主要有q.put和q.get\n",
    "* q.size(),q.full(),q.empty()等方法不是线程安全的\n",
    "* 使用队列进行线程通信是一个单向、不确定的过程。通常情况下，是没有办法知道接收数据的线程是什么时候接收到的数据并开始工作的。但是队列提供了一些基本的特性：q.task_done()和q.join()\n",
    "* 如果一个线程需要在另外一个线程处理完特定的数据任务后立即得到通知，可以把要发送的数据和一个Event放到一起使用"
   ]
  },
  {
   "cell_type": "markdown",
   "metadata": {},
   "source": [
    "### 线程中的event"
   ]
  },
  {
   "cell_type": "markdown",
   "metadata": {},
   "source": [
    "线程有一个非常关键的特性：每个线程都是独立运行的，且状态不可预测\n",
    "\n",
    "如果程序中的其他线程需要通过判断每个线程的状态来确定自己下一步的操作，这时线程同步问题就会比较麻烦。\n",
    "\n",
    "解决方法：使用threading库中的Event\n",
    "\n",
    "Event对象包含一个可由线程设置的信号标志，它允许线程等待某些事件的发生。在初始化状态下，event对象中的信号标志被设置为假。\n",
    "如果有线程等待一个event对象，而这个event的标志为假，这个线程将一直被阻塞知道该标志为真。一个线程如果把event对象的标志设置为真，就会唤醒所有等待这个event对象的线程。\n",
    "\n",
    "一个例子："
   ]
  },
  {
   "cell_type": "code",
   "execution_count": 7,
   "metadata": {},
   "outputs": [
    {
     "name": "stdout",
     "output_type": "stream",
     "text": [
      "Launching countdown\n",
      "countdown starting\n",
      "T-mins 10\n",
      "countdown is running\n",
      "T-mins 9\n",
      "T-mins 8\n",
      "T-mins 7\n",
      "T-mins 6\n",
      "T-mins 5\n",
      "T-mins 4\n",
      "T-mins 3\n",
      "T-mins 2\n",
      "T-mins 1\n"
     ]
    }
   ],
   "source": [
    "from threading import Thread, Event\n",
    "import time\n",
    "\n",
    "\n",
    "def countdown(n, started_evt):\n",
    "    print(\"countdown starting\")\n",
    "    # set将event的标识设置为True\n",
    "    started_evt.set()\n",
    "    while n > 0:\n",
    "        print(\"T-mins\", n)\n",
    "        n -= 1\n",
    "        time.sleep(1)\n",
    "\n",
    "# 初始化的started_evt为False\n",
    "started_evt = Event()\n",
    "print(\"Launching countdown\")\n",
    "t = Thread(target=countdown, args=(10, started_evt,))\n",
    "t.start()\n",
    "# 会一直等待直到event的标志为True的时候\n",
    "started_evt.wait()\n",
    "print(\"countdown is running\")"
   ]
  },
  {
   "cell_type": "markdown",
   "metadata": {},
   "source": [
    "实际用event对象最好是单次使用，创建一个event对象，让某个线程等待这个对象，一旦对象被设置为True，就应该丢弃它，我们虽然可以通过clear()方法重置event对象，但是这个没法确保安全的清理event对象并对它进行重新的赋值。会发生错过事件，死锁等各种问题。\n",
    "\n",
    "event对象的一个重要特点:它被设置为True时会唤醒**所有等待它的线程**\n",
    "\n",
    "如果唤醒**单个线程**的最好用Condition或信号量Semaphore"
   ]
  },
  {
   "cell_type": "markdown",
   "metadata": {},
   "source": [
    "### 线程中的condition"
   ]
  },
  {
   "cell_type": "markdown",
   "metadata": {},
   "source": [
    "condition变量总是和与某种锁相关联;可以传入，或默认创建一个。当多个condition变量共享同一个锁时，传入一个很有用。锁是condition变量的一部分：你不必单独跟踪它。\n",
    "\n",
    "必须在获得关联锁的情况下调用其他方法。 wait（）方法释放锁，然后阻塞，直到另一个线程通过调用notify（）或notify_all（）唤醒它。一旦被唤醒，wait（）重新获得锁并返回。也可以指定超时。\n",
    "\n",
    "注意: notify() and notify_all()这两个方法，不会释放锁，这意味着线程或者被唤醒的线程不会立刻执行wait()\n",
    "\n",
    "通过Conditon对象实现一个周期定时器的功能，每当定时器超时的时候，其他线程都可以检测到，代码例子如下："
   ]
  },
  {
   "cell_type": "code",
   "execution_count": 14,
   "metadata": {},
   "outputs": [
    {
     "name": "stdout",
     "output_type": "stream",
     "text": [
      "设置定时间隔 3 s\n",
      "T-minus 10Counting up 0\n",
      "\n",
      "Counting up 1T-minus 9\n",
      "\n",
      "T-minus 8Counting up 2\n",
      "\n",
      "T-minus 7Counting up 3\n",
      "\n",
      "T-minus 6Counting up 4\n",
      "\n",
      "T-minus 5\n",
      "T-minus 4\n",
      "T-minus 3\n",
      "T-minus 2\n",
      "T-minus 1\n"
     ]
    }
   ],
   "source": [
    "import threading\n",
    "import time\n",
    "\n",
    "\n",
    "class PeriodicTimer(object):\n",
    "    \"\"\"这里做了一个定时器\"\"\"\n",
    "\n",
    "    def __init__(self, interval):\n",
    "        self._interval = interval\n",
    "        print('设置定时间隔 {} s'.format(self._interval))\n",
    "        self._flag = 0\n",
    "        self._cv = threading.Condition()\n",
    "\n",
    "    def start(self):\n",
    "        t = threading.Thread(target=self.run)\n",
    "        t.daemon = True\n",
    "        t.start()\n",
    "\n",
    "    def run(self):\n",
    "        while True:\n",
    "            time.sleep(self._interval)\n",
    "            with self._cv:\n",
    "                # 这个点还是非常有意思的^=\n",
    "                self._flag ^= 1\n",
    "                self._cv.notify_all()\n",
    "\n",
    "    def wait_for_tick(self):\n",
    "        with self._cv:\n",
    "            last_flag = self._flag\n",
    "            while last_flag == self._flag:\n",
    "                self._cv.wait()\n",
    "\n",
    "\n",
    "# 下面两个分别为两个需要定时执行的任务\n",
    "def countdown(nticks):\n",
    "    while nticks > 0:\n",
    "        ptimer.wait_for_tick()\n",
    "        print('T-minus {}'.format(nticks))\n",
    "        nticks -= 1\n",
    "\n",
    "\n",
    "def countup(last):\n",
    "    n = 0\n",
    "    while n < last:\n",
    "        ptimer.wait_for_tick()\n",
    "        print('Counting up {}'.format(n))\n",
    "        n += 1\n",
    "\n",
    "\n",
    "ptimer = PeriodicTimer(3)\n",
    "ptimer.start()\n",
    "\n",
    "threading.Thread(target=countdown, args=(10,)).start()\n",
    "threading.Thread(target=countup, args=(5,)).start()"
   ]
  },
  {
   "cell_type": "markdown",
   "metadata": {},
   "source": [
    "### 线程锁"
   ]
  },
  {
   "cell_type": "markdown",
   "metadata": {},
   "source": [
    "要在多线程中安全使用可变对象，需要使用threading库中的Lock对象"
   ]
  },
  {
   "cell_type": "code",
   "execution_count": 17,
   "metadata": {},
   "outputs": [
    {
     "name": "stdout",
     "output_type": "stream",
     "text": [
      "incr 1\n",
      "incr 2\n",
      "incr 3\n",
      "decr 2\n",
      "incr 3\n",
      "decr 2\n",
      "incr 3\n",
      "decr 2\n"
     ]
    }
   ],
   "source": [
    "import threading\n",
    "\n",
    "\n",
    "class SharedCounter(object):\n",
    "\n",
    "    def __init__(self, initial_value=0):\n",
    "        self._value = initial_value\n",
    "        self._value_lock = threading.Lock()\n",
    "\n",
    "\n",
    "    def incr(self, delta = 1):\n",
    "        with self._value_lock:\n",
    "            self._value += delta\n",
    "            print('incr', self._value)\n",
    "\n",
    "    def decr(self, delta=1):\n",
    "        with self._value_lock:\n",
    "            self._value -= delta\n",
    "            print('decr', self._value)\n",
    "            \n",
    "sc = SharedCounter()\n",
    "\n",
    "for i in range(5):\n",
    "    sc.incr()\n",
    "    if sc._value > 2:\n",
    "        sc.decr()"
   ]
  },
  {
   "cell_type": "markdown",
   "metadata": {},
   "source": [
    "这个例子中的锁是一个类变量，也就是所有实例共享的类级锁，这样就保证了一次只有一个线程可以调用这个类的方法。与标准锁不同的是已经持有这个锁的方法再调用同样适用这个锁的方法时，无需再次获取锁，例如上面例子中的decr方法。\n",
    "\n",
    "优点：无论这个类有多少实例都使用一个锁。因此在需要使用大量使用计数器的情况下内存效率更高。\n",
    "缺点：在程序中使用大量线程并频繁更新计数器时会有竞争用锁的问题。"
   ]
  },
  {
   "cell_type": "markdown",
   "metadata": {},
   "source": [
    "### 信号量"
   ]
  },
  {
   "cell_type": "markdown",
   "metadata": {},
   "source": [
    "信号量对象是一个建立在共享计数器基础上的同步原语\n",
    "\n",
    "如果计数器不为0,with语句将计数器减1，线程被允许执行。with语句执行结束后，计数器加1。\n",
    "\n",
    "如果计数器为0，线程将被阻塞，直到其他线程结束并将计数器加1。\n",
    "\n",
    "但是信号量不推荐使用，增加了复杂性，影响程序性能。\n",
    "\n",
    "所以信号量更适用于那些需要在线程之间引入信号或者限制的程序。例如限制一段代码的并发量."
   ]
  },
  {
   "cell_type": "code",
   "execution_count": null,
   "metadata": {},
   "outputs": [],
   "source": [
    "from threading import Semaphore\n",
    "import requests\n",
    "\n",
    "\n",
    "_fetch_url_sema = Semaphore(5)\n",
    "\n",
    "\n",
    "def fetch_url(url):\n",
    "    with _fetch_url_sema:\n",
    "        return requests.get(url)"
   ]
  },
  {
   "cell_type": "markdown",
   "metadata": {},
   "source": [
    "### 死锁问题"
   ]
  },
  {
   "cell_type": "markdown",
   "metadata": {},
   "source": [
    "在多线程程序中，死锁问题很大一部分是由于**多线程同时获取多个锁**造成的。\n",
    "举个例子：一个线程获取一个第一个锁，在获取第二个锁的时候发生阻塞，那么这个线程就可能阻塞其他线程执行，从而导致整个程序假死。\n",
    "\n",
    "一种解决方法：为程序中每一个锁分配一个唯一的id，然后只允许按照升序规则来使用多个锁。"
   ]
  },
  {
   "cell_type": "code",
   "execution_count": null,
   "metadata": {},
   "outputs": [],
   "source": [
    "import threading\n",
    "from contextlib import contextmanager\n",
    "\n",
    "# 存储已经请求锁的信息\n",
    "_local = threading.local()\n",
    "\n",
    "\n",
    "@contextmanager\n",
    "def acquire(*locks):\n",
    "    # 把锁通过id进行排序\n",
    "    locks = sorted(locks, key=lambda x: id(x))\n",
    "    acquired = getattr(_local, 'acquired', [])\n",
    "    if acquired and max(id(lock) for lock in acquired) >= id(locks[0]):\n",
    "        raise RuntimeError(\"Lock order Violation\")\n",
    "    acquired.extend(locks)\n",
    "    _local.acquired = acquired\n",
    "\n",
    "    try:\n",
    "        for lock in locks:\n",
    "            lock.acquire()\n",
    "        yield\n",
    "    finally:\n",
    "        for lock in reversed(locks):\n",
    "            lock.release()\n",
    "        del acquired[-len(locks):]\n",
    "\n",
    "\n",
    "x_lock = threading.Lock()\n",
    "y_lock = threading.Lock()\n",
    "\n",
    "\n",
    "def thread_1():\n",
    "    for i in range(5):\n",
    "        with acquire(x_lock,y_lock):\n",
    "            print(\"Thread-1\")\n",
    "\n",
    "\n",
    "def thread_2():\n",
    "    for i in range(5):\n",
    "        with acquire(y_lock,x_lock):\n",
    "            print(\"Thread-2\")\n",
    "\n",
    "\n",
    "t1 = threading.Thread(target=thread_1)\n",
    "t1.daemon = True\n",
    "\n",
    "t2 = threading.Thread(target=thread_2)\n",
    "t2.daemon = True\n",
    "\n",
    "t1.start()\n",
    "t2.start()\n",
    "\n",
    "t1.join()\n",
    "t2.join()"
   ]
  },
  {
   "cell_type": "markdown",
   "metadata": {},
   "source": [
    "通过排序，不管以什么样的顺序来请求锁，这些锁都会按照固定的顺序被获取。\n",
    "\n",
    "这里用了thread.local()来保存请求锁的信息, 同样这个东西也可以用来保存线程的信息，而这个线程对其他的线程是不可见的"
   ]
  }
 ],
 "metadata": {
  "kernelspec": {
   "display_name": "Python 3",
   "language": "python",
   "name": "python3"
  },
  "language_info": {
   "codemirror_mode": {
    "name": "ipython",
    "version": 3
   },
   "file_extension": ".py",
   "mimetype": "text/x-python",
   "name": "python",
   "nbconvert_exporter": "python",
   "pygments_lexer": "ipython3",
   "version": "3.6.4"
  }
 },
 "nbformat": 4,
 "nbformat_minor": 2
}
