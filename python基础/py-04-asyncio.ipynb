{
 "cells": [
  {
   "cell_type": "markdown",
   "metadata": {},
   "source": [
    " # asyncio使用"
   ]
  },
  {
   "cell_type": "markdown",
   "metadata": {},
   "source": [
    "### asycio简介"
   ]
  },
  {
   "cell_type": "markdown",
   "metadata": {},
   "source": [
    "asyncio是Python 3.4版本引入的标准库，直接内置了对异步IO的支持。\n",
    "\n",
    "asyncio的编程模型就是一个消息循环。我们从asyncio模块中直接获取一个EventLoop的引用，然后把需要执行的协程扔到EventLoop中执行，就实现了异步IO。"
   ]
  },
  {
   "cell_type": "markdown",
   "metadata": {},
   "source": [
    "### asyncio 是干什么的？"
   ]
  },
  {
   "cell_type": "markdown",
   "metadata": {},
   "source": [
    "* 异步网络操作\n",
    "* 并发\n",
    "* 协程\n",
    "\n",
    "现在的asyncio，有了很多的模块已经在支持：aiohttp,aiodns,aioredis等等 ,\n",
    "\n",
    "(https://github.com/aio-libs)[https://github.com/aio-libs] 这里列出了已经支持的内容，并在持续更新\n",
    "\n",
    "当然到目前为止实现协程的不仅仅只有asyncio,tornado和gevent都实现了类似功能."
   ]
  },
  {
   "cell_type": "markdown",
   "metadata": {},
   "source": [
    "### 关于asyncio的一些关键字的说明"
   ]
  },
  {
   "cell_type": "markdown",
   "metadata": {},
   "source": [
    "* event_loop 事件循环：程序开启一个无限循环，把一些函数注册到事件循环上，当满足事件发生的时候，调用相应的协程函数\n",
    "\n",
    "* coroutine 协程：协程对象，指一个使用async关键字定义的函数，它的调用不会立即执行函数，而是会返回一个协程对象。协程对象需要注册到事件循环，由事件循环调用。\n",
    "\n",
    "* task 任务：一个协程对象就是一个原生可以挂起的函数，任务则是对协程进一步封装，其中包含了任务的各种状态.\n",
    "\n",
    "* future: 代表将来执行或没有执行的任务的结果。它和task上没有本质上的区别.\n",
    "\n",
    "* async/await 关键字：python3.5用于定义协程的关键字\n",
    "    * async定义一个协程\n",
    "    * await用于挂起阻塞的异步调用接口。\n",
    "    \n",
    "注意: \n",
    "\n",
    "1. 通过async关键字定义一个协程（coroutine）,协程是接运行，必须将协程加入到事件循环loop中运行.\n",
    "2. asyncio.get_event_loop：创建一个事件循环，然后使用run_until_complete将协程注册到事件循环，并启动事件循环"
   ]
  },
  {
   "cell_type": "markdown",
   "metadata": {},
   "source": [
    "## asycio使用"
   ]
  },
  {
   "cell_type": "markdown",
   "metadata": {},
   "source": [
    "### asycio执行一个任务"
   ]
  },
  {
   "cell_type": "code",
   "execution_count": null,
   "metadata": {},
   "outputs": [],
   "source": [
    "import asyncio\n",
    "\n",
    "@asyncio.coroutine\n",
    "def hello():\n",
    "    print(\"Hello world!\")\n",
    "    # 异步调用asyncio.sleep(1):\n",
    "    r = yield from asyncio.sleep(1)\n",
    "    print(\"Hello again!\")\n",
    "\n",
    "# 获取EventLoop:\n",
    "loop = asyncio.get_event_loop()\n",
    "# 执行coroutine, 注意是:hello(),不是hello\n",
    "loop.run_until_complete(hello())\n",
    "loop.close()"
   ]
  },
  {
   "cell_type": "code",
   "execution_count": 2,
   "metadata": {},
   "outputs": [],
   "source": [
    "# 使用3.5版本async和await关键字\n",
    "import asyncio\n",
    "\n",
    "async def hello():\n",
    "    print('hello,world')\n",
    "    r=await asyncio.sleep(1)\n",
    "    print('hello,again')\n",
    "\n",
    "loop=asyncio.get_event_loop()\n",
    "loop.run_until_complete(hello())\n",
    "loop.close()"
   ]
  },
  {
   "cell_type": "markdown",
   "metadata": {},
   "source": [
    "注意:\n",
    "* loop.run_until_complete(hello())的参数是一个协程对象,不是函数的名字\n",
    "* yield from 在3.7版本要废弃掉,最好使用async和await\n"
   ]
  },
  {
   "cell_type": "markdown",
   "metadata": {},
   "source": [
    "### asycio执行多个任务"
   ]
  },
  {
   "cell_type": "code",
   "execution_count": null,
   "metadata": {},
   "outputs": [],
   "source": [
    "import threading\n",
    "import asyncio\n",
    "\n",
    "@asyncio.coroutine\n",
    "def hello():\n",
    "    print('Hello world! (%s)' % threading.currentThread())\n",
    "    yield from asyncio.sleep(1)\n",
    "    print('Hello again! (%s)' % threading.currentThread())\n",
    "\n",
    "loop = asyncio.get_event_loop()\n",
    "tasks = [hello(), hello()]\n",
    "loop.run_until_complete(asyncio.wait(tasks))\n",
    "loop.close()"
   ]
  },
  {
   "cell_type": "markdown",
   "metadata": {},
   "source": [
    "### 使用asycio异步网络连接来获取sina、sohu和163的网站首页,并打印header内容"
   ]
  },
  {
   "cell_type": "code",
   "execution_count": null,
   "metadata": {},
   "outputs": [],
   "source": [
    "import asyncio\n",
    "\n",
    "@asyncio.coroutine\n",
    "def wget(host):\n",
    "    print('wget %s...' % host)\n",
    "    connect = asyncio.open_connection(host, 80)\n",
    "    reader, writer = yield from connect\n",
    "    header = 'GET / HTTP/1.0\\r\\nHost: %s\\r\\n\\r\\n' % host\n",
    "    writer.write(header.encode('utf-8'))\n",
    "    yield from writer.drain()\n",
    "    while True:\n",
    "        line = yield from reader.readline()\n",
    "        if line == b'\\r\\n':\n",
    "            break\n",
    "        print('%s header > %s' % (host, line.decode('utf-8').rstrip()))\n",
    "    # Ignore the body, close the socket\n",
    "    writer.close()\n",
    "\n",
    "loop = asyncio.get_event_loop()\n",
    "tasks = [wget(host) for host in ['www.sina.com.cn', 'www.sohu.com', 'www.163.com']]\n",
    "loop.run_until_complete(asyncio.wait(tasks))\n",
    "loop.close()"
   ]
  },
  {
   "cell_type": "markdown",
   "metadata": {},
   "source": [
    "### 在一段Python程序中使用多次事件循环"
   ]
  },
  {
   "cell_type": "markdown",
   "metadata": {},
   "source": [
    "在Python异步程序编写中经常要用到如下的结构:\n",
    "\n",
    "```python\n",
    "import asyncio\n",
    "async def doAsync():\n",
    "    await asyncio.sleep(1)\n",
    "    #...\n",
    "    \n",
    "if __name__ == \"__main__\":\n",
    "    loop = asyncio.get_event_loop()\n",
    "    loop.run_until_complete(doAsync())\n",
    "    loop.close()\n",
    "``` \n",
    "\n",
    "这当然是很不错的,也是官方的用法，但当你第二次使用loop的时候程序就会抛出异常RuntimeError: Event loop is closed,这也无可厚非，理想的程序也应该是在一个时间循环中解决掉各种异步IO的问题。\n",
    "\n",
    "在定时任务的场景下, 如果你想每次启动时间循环执行一些任务后关闭事件循环,等下一次执行任务时再重新启动事件循环,循环往复该怎么办呢?\n",
    "\n",
    "解决方案:\n",
    "\n",
    "我们可以使用`asyncio.new_event_loop`函数建立一个新的事件循环，并使用`asyncio.set_event_loop`设置为全局的事件循环，这时候就可以多次运行异步的事件循环了，不过最好保存默认的asyncio.get_event_loop并在事件循环结束的时候还原回去。\n",
    "\n",
    "```python\n",
    "import asyncio\n",
    "\n",
    "async def doAsync():\n",
    "    await asyncio.sleep(0)\n",
    "    #...\n",
    "    \n",
    "def runEventLoop()\n",
    "    loop = asyncio.new_event_loop()\n",
    "    asyncio.set_event_loop(loop)\n",
    "    loop.run_until_complete(doAsync())\n",
    "    loop.close()\n",
    "    \n",
    "if __name__ == \"__main__\":\n",
    "    oldloop = asyncio.get_event_loop()\n",
    "    for i in range(10):\n",
    "        runEventLoop()\n",
    "    asyncio.set_event_loop(oldloop)\n",
    "```    "
   ]
  }
 ],
 "metadata": {
  "kernelspec": {
   "display_name": "Python 3",
   "language": "python",
   "name": "python3"
  },
  "language_info": {
   "codemirror_mode": {
    "name": "ipython",
    "version": 3
   },
   "file_extension": ".py",
   "mimetype": "text/x-python",
   "name": "python",
   "nbconvert_exporter": "python",
   "pygments_lexer": "ipython3",
   "version": "3.6.4"
  }
 },
 "nbformat": 4,
 "nbformat_minor": 2
}
