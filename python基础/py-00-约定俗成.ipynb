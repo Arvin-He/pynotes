{
 "cells": [
  {
   "cell_type": "markdown",
   "metadata": {},
   "source": [
    "# python约定俗成"
   ]
  },
  {
   "cell_type": "markdown",
   "metadata": {},
   "source": [
    "### 模块"
   ]
  },
  {
   "cell_type": "markdown",
   "metadata": {},
   "source": [
    "写模块的时候不要和系统自带的模块的名字相同, 如果你自定义模块名字和系统模块一致,那么你的脚本就会出错,因为找不到系统模块所对应的函数,python解释器查找的是你自定义的模块,不会去找系统模块了.\n",
    "\n",
    "调用模块的时候，会先在当前目录下查找是否有这个模块，然后再会如python的环境变量中查找"
   ]
  },
  {
   "cell_type": "markdown",
   "metadata": {},
   "source": [
    "### 模块和包定义："
   ]
  },
  {
   "cell_type": "markdown",
   "metadata": {},
   "source": [
    "* 模块用来从逻辑上组织python代码（变量，函数，类，逻辑：实现一个功能），本质就是.py结尾的python文件。（例如：文件名：test.py,对应的模块名：test）\n",
    "\n",
    "* 包：用来从逻辑上组织模块的，本质就是一个目录（必须带有一个__init__.py的文件）"
   ]
  },
  {
   "cell_type": "markdown",
   "metadata": {},
   "source": [
    "### 模块的分类"
   ]
  },
  {
   "cell_type": "markdown",
   "metadata": {},
   "source": [
    "1. 标准库\n",
    "2. 开源模块\n",
    "3. 自定义模块"
   ]
  },
  {
   "cell_type": "markdown",
   "metadata": {},
   "source": [
    "### 模块和包的导入"
   ]
  },
  {
   "cell_type": "markdown",
   "metadata": {},
   "source": [
    "import module_name\n",
    "\n",
    "import module_1的本质：是将module_1解释了一遍\n",
    "\n",
    "也就是将module_1中的所有代码复制给了module_1\n",
    "\n",
    "from module_name1 import name\n",
    "\n",
    "本质是将module_name1中的name变量放到当前程序中运行一遍\n",
    "\n",
    "所以调用的时候直接print(name)就可以打印出name变量的值\n",
    "\n",
    "import module_name1,module_name2\n",
    "\n",
    "from module_name import *(这种方法不建议使用)\n",
    "\n",
    "from module_name import logger as log(别名的方法)\n",
    "\n",
    "导入模块的本质就是把python文件解释一遍\n",
    "\n",
    "import  module_name---->module_name.py---->module_name.py的路径---->sys.path\n",
    "\n",
    "导入包的本质就是执行该包下面的__init__.py\n",
    "\n",
    "关于导入包的一个代码例子：\n",
    "\n",
    "新建一个package_test包，并在该包下面建立一个test1.py的python程序，在package包的同级目录建立一个p_test.py的程序\n",
    "\n",
    "\n",
    "\n",
    "test1的代码如下：\n",
    "\n",
    "def test():\n",
    "   print(\"int the test1\")\n",
    "   \n",
    "package_test包下的__init__.py的代码如下：\n",
    "\n",
    "#import test1 （理论上这样就可以但是在pycharm下测试必须用下面from .import test1）\n",
    "from . import  test1\n",
    "print(\"in the init\")\n",
    "\n",
    "p_test的代码如下：\n",
    "\n",
    "import package_test   #执行__init__.py\n",
    "package_test.test1.test()\n",
    "\n",
    "这样运行p_test的结果：\n",
    "\n",
    "in the init\n",
    "int the test1"
   ]
  }
 ],
 "metadata": {
  "kernelspec": {
   "display_name": "Python 3",
   "language": "python",
   "name": "python3"
  },
  "language_info": {
   "codemirror_mode": {
    "name": "ipython",
    "version": 3
   },
   "file_extension": ".py",
   "mimetype": "text/x-python",
   "name": "python",
   "nbconvert_exporter": "python",
   "pygments_lexer": "ipython3",
   "version": "3.6.4"
  }
 },
 "nbformat": 4,
 "nbformat_minor": 2
}
