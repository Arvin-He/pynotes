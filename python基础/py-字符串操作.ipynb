{
 "cells": [
  {
   "cell_type": "markdown",
   "metadata": {},
   "source": [
    "# 字符串操作"
   ]
  },
  {
   "cell_type": "markdown",
   "metadata": {},
   "source": [
    "### bytes类型字节串分割切片"
   ]
  },
  {
   "cell_type": "code",
   "execution_count": 4,
   "metadata": {},
   "outputs": [
    {
     "name": "stdout",
     "output_type": "stream",
     "text": [
      "b'10:24:23,1,root,0.03,0.05,40.50,9.75,/sbin/init ,249b19aaa268143c3a0b3d6aa9faa070'\n",
      "b'10:24:23,2,root,0.00,0.00,0.00,0.00,kthreadd,None'\n",
      "b'10:24:23,3,root,0.00,0.00,0.00,0.00,ksoftirqd/0,None'\n",
      "b'10:24:23,4,root,0.00,0.00,0.00,0.00,kworker/0:0,None'\n"
     ]
    }
   ],
   "source": [
    "aa = b'''10:24:23,1,root,0.03,0.05,40.50,9.75,/sbin/init ,249b19aaa268143c3a0b3d6aa9faa070\\n10:24:23,2,root,0.00,0.00,0.00,0.00,kthreadd,None\\n10:24:23,3,root,0.00,0.00,0.00,0.00,ksoftirqd/0,None\\n10:24:23,4,root,0.00,0.00,0.00,0.00,kworker/0:0,None'''\n",
    "\n",
    "lines = aa.split(b'\\n')\n",
    "\n",
    "for line in lines:\n",
    "    print(line)"
   ]
  },
  {
   "cell_type": "code",
   "execution_count": 5,
   "metadata": {},
   "outputs": [],
   "source": [
    "# dir(str)"
   ]
  },
  {
   "cell_type": "code",
   "execution_count": 6,
   "metadata": {},
   "outputs": [
    {
     "name": "stdout",
     "output_type": "stream",
     "text": [
      "False\n"
     ]
    }
   ],
   "source": [
    "a = '0.01'\n",
    "print(a.isdigit())"
   ]
  },
  {
   "cell_type": "code",
   "execution_count": 6,
   "metadata": {},
   "outputs": [
    {
     "name": "stdout",
     "output_type": "stream",
     "text": [
      "[b'/etc/passwd']\n",
      "[b'root', b'x', b'0', b'0', b'root', b'/root', b'/bin/bash']\n",
      "[b'0', b'0', b'root', b'/root', b'/bin/bash']\n",
      "[b'plugdev', b'x', b'46', b'payegis']\n",
      "4\n"
     ]
    }
   ],
   "source": [
    "line = b'/etc/passwd'\n",
    "\n",
    "details = line.split(b':')\n",
    "\n",
    "print(details)\n",
    "\n",
    "line = b'root:x:0:0:root:/root:/bin/bash'\n",
    "\n",
    "details = line.split(b':')\n",
    "\n",
    "print(details)\n",
    "\n",
    "details = line.split(b':')[2:]\n",
    "\n",
    "print(details)\n",
    "\n",
    "line = b'plugdev:x:46:payegis'\n",
    "details = line.split(b':')\n",
    "print(details)\n",
    "print(len(details))"
   ]
  },
  {
   "cell_type": "code",
   "execution_count": null,
   "metadata": {},
   "outputs": [],
   "source": []
  }
 ],
 "metadata": {
  "kernelspec": {
   "display_name": "Python 3",
   "language": "python",
   "name": "python3"
  },
  "language_info": {
   "codemirror_mode": {
    "name": "ipython",
    "version": 3
   },
   "file_extension": ".py",
   "mimetype": "text/x-python",
   "name": "python",
   "nbconvert_exporter": "python",
   "pygments_lexer": "ipython3",
   "version": "3.6.4"
  }
 },
 "nbformat": 4,
 "nbformat_minor": 2
}
