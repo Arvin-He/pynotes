{
 "cells": [
  {
   "cell_type": "markdown",
   "metadata": {},
   "source": [
    "# coroutine(协程)理解"
   ]
  },
  {
   "cell_type": "markdown",
   "metadata": {},
   "source": [
    "从语法上来看，协程和生成器类似，都是定义体中包含yield关键字的函数。但是又不一样,协程重点在流程控制方面"
   ]
  },
  {
   "cell_type": "markdown",
   "metadata": {},
   "source": [
    "### yield在协程中的用法"
   ]
  },
  {
   "cell_type": "markdown",
   "metadata": {},
   "source": [
    "* 在协程中yield通常出现在表达式的右边，可以产出值, 例如：`data = yield x`\n",
    "* 也可以不产出值, 如果yield关键字后面没有表达式，那么生成器产出的值为None,例如: `data = yield`\n",
    "* 协程可以从调用方接受数据，调用方是通过`send(data)`的方式把数据提供给协程使用，而不是`next(...)`函数，通常调用方会把值推送给协程。\n",
    "* 协程可以把控制权让给中心调度程序，从而激活其他的协程\n",
    "\n",
    "所以总体上在协程中把yield看做是**控制流程的方式**。"
   ]
  },
  {
   "cell_type": "markdown",
   "metadata": {},
   "source": [
    "### 协程运行过程"
   ]
  },
  {
   "cell_type": "code",
   "execution_count": 8,
   "metadata": {},
   "outputs": [
    {
     "name": "stdout",
     "output_type": "stream",
     "text": [
      "定义一个生成器\n",
      "<generator object simple_coroutine at 0x000002A80A6D6048>\n",
      "启动激活生成器\n",
      "---> coroutine started\n",
      "None\n",
      "向生成器传递值\n",
      "---> coroutine received: 10\n"
     ]
    },
    {
     "ename": "StopIteration",
     "evalue": "",
     "output_type": "error",
     "traceback": [
      "\u001b[1;31m---------------------------------------------------------------------------\u001b[0m",
      "\u001b[1;31mStopIteration\u001b[0m                             Traceback (most recent call last)",
      "\u001b[1;32m<ipython-input-8-ab362a95f445>\u001b[0m in \u001b[0;36m<module>\u001b[1;34m()\u001b[0m\n\u001b[0;32m     10\u001b[0m \u001b[0mprint\u001b[0m\u001b[1;33m(\u001b[0m\u001b[0mnext\u001b[0m\u001b[1;33m(\u001b[0m\u001b[0mmy_coro\u001b[0m\u001b[1;33m)\u001b[0m\u001b[1;33m)\u001b[0m\u001b[1;33m\u001b[0m\u001b[0m\n\u001b[0;32m     11\u001b[0m \u001b[0mprint\u001b[0m\u001b[1;33m(\u001b[0m\u001b[1;34m'向生成器传递值'\u001b[0m\u001b[1;33m)\u001b[0m\u001b[1;33m\u001b[0m\u001b[0m\n\u001b[1;32m---> 12\u001b[1;33m \u001b[0mprint\u001b[0m\u001b[1;33m(\u001b[0m\u001b[0mmy_coro\u001b[0m\u001b[1;33m.\u001b[0m\u001b[0msend\u001b[0m\u001b[1;33m(\u001b[0m\u001b[1;36m10\u001b[0m\u001b[1;33m)\u001b[0m\u001b[1;33m)\u001b[0m\u001b[1;33m\u001b[0m\u001b[0m\n\u001b[0m",
      "\u001b[1;31mStopIteration\u001b[0m: "
     ]
    }
   ],
   "source": [
    "def simple_coroutine():\n",
    "    print('---> coroutine started')\n",
    "    x = yield\n",
    "    print('---> coroutine received:', x)\n",
    "    \n",
    "my_coro = simple_coroutine()\n",
    "print('定义一个生成器')\n",
    "print(my_coro)\n",
    "print('启动激活生成器')\n",
    "print(next(my_coro))\n",
    "print('向生成器传递值')\n",
    "print(my_coro.send(10))"
   ]
  },
  {
   "cell_type": "markdown",
   "metadata": {},
   "source": [
    "对上述例子的分析：\n",
    "* yield 的右边没有表达式，所以这里产出的值是None\n",
    "\n",
    "* 刚开始先调用了`next(...)`是因为这个时候生成器还没有启动，没有停在yield那里，这个时候也是无法通过send发送数据。所以当我们通过`next(...)`激活协程后，程序就会运行到`x = yield`，这里有个问题我们需要**注意**，`x = yield`这个表达式的计算过程是先计算等号右边的内容，然后在进行赋值，所以当激活生成器后，程序会停在yield这里，**但并没有给x赋值**。\n",
    "\n",
    "* 当我们调用send方法后yield会收到这个值并赋值给x,而当程序运行到协程定义体的末尾时和用生成器的时候一样会抛出StopIteration异常"
   ]
  },
  {
   "cell_type": "markdown",
   "metadata": {},
   "source": [
    "如果协程没有通过`next(...)`激活(同样我们可以通过`send(None)`的方式激活)，但是我们直接send，会提示如下错误："
   ]
  },
  {
   "cell_type": "code",
   "execution_count": 10,
   "metadata": {},
   "outputs": [
    {
     "name": "stdout",
     "output_type": "stream",
     "text": [
      "定义一个生成器\n"
     ]
    },
    {
     "ename": "TypeError",
     "evalue": "can't send non-None value to a just-started generator",
     "output_type": "error",
     "traceback": [
      "\u001b[1;31m---------------------------------------------------------------------------\u001b[0m",
      "\u001b[1;31mTypeError\u001b[0m                                 Traceback (most recent call last)",
      "\u001b[1;32m<ipython-input-10-839bbcc4c9fe>\u001b[0m in \u001b[0;36m<module>\u001b[1;34m()\u001b[0m\n\u001b[0;32m      7\u001b[0m \u001b[0mprint\u001b[0m\u001b[1;33m(\u001b[0m\u001b[1;34m'定义一个生成器'\u001b[0m\u001b[1;33m)\u001b[0m\u001b[1;33m\u001b[0m\u001b[0m\n\u001b[0;32m      8\u001b[0m \u001b[1;33m\u001b[0m\u001b[0m\n\u001b[1;32m----> 9\u001b[1;33m \u001b[0mmy_coro\u001b[0m\u001b[1;33m.\u001b[0m\u001b[0msend\u001b[0m\u001b[1;33m(\u001b[0m\u001b[1;36m12\u001b[0m\u001b[1;33m)\u001b[0m\u001b[1;33m\u001b[0m\u001b[0m\n\u001b[0m",
      "\u001b[1;31mTypeError\u001b[0m: can't send non-None value to a just-started generator"
     ]
    }
   ],
   "source": [
    "def simple_coroutine():\n",
    "    print('---> coroutine started')\n",
    "    x = yield\n",
    "    print('---> coroutine received:', x)\n",
    "    \n",
    "my_coro = simple_coroutine()\n",
    "print('定义一个生成器')\n",
    "\n",
    "my_coro.send(12)"
   ]
  },
  {
   "cell_type": "markdown",
   "metadata": {},
   "source": [
    "关于调用`next(...)`函数这一步通常称为”预激(prime)“协程，即让协程向前执行到第一个yield表达式，准备好作为活跃的协程使用"
   ]
  },
  {
   "cell_type": "markdown",
   "metadata": {},
   "source": [
    "### 协程状态"
   ]
  },
  {
   "cell_type": "markdown",
   "metadata": {},
   "source": [
    "协程在运行过程中有四个状态：\n",
    "\n",
    "1. GEN_CREATE:等待开始执行\n",
    "2. GEN_RUNNING:解释器正在执行，这个状态一般看不到\n",
    "3. GEN_SUSPENDED:在yield表达式处暂停\n",
    "4. GEN_CLOSED:执行结束"
   ]
  },
  {
   "cell_type": "code",
   "execution_count": 24,
   "metadata": {},
   "outputs": [
    {
     "name": "stdout",
     "output_type": "stream",
     "text": [
      "GEN_CREATED\n",
      "-->started: a= 10\n",
      "10\n",
      "GEN_SUSPENDED\n",
      "-->recevied: b= 20\n",
      "30\n",
      "-->recevied: c= 30\n",
      "\n",
      "None\n",
      "GEN_CLOSED\n"
     ]
    }
   ],
   "source": [
    "from inspect import getgeneratorstate\n",
    "\n",
    "def simple_coro(a):\n",
    "    print('-->started: a=', a)\n",
    "    b = yield a\n",
    "    print('-->recevied: b=', b)\n",
    "    c = yield a+b\n",
    "    print('-->recevied: c=', c)\n",
    "    \n",
    "coro = simple_coro(10)\n",
    "\n",
    "print(getgeneratorstate(coro))\n",
    "print(next(coro))\n",
    "print(getgeneratorstate(coro))\n",
    "print(coro.send(20))\n",
    "\n",
    "try:\n",
    "    coro.send(30)\n",
    "except StopIteration as e:\n",
    "    print(e)\n",
    "    print(e.value)\n",
    "    \n",
    "print(getgeneratorstate(coro))"
   ]
  },
  {
   "cell_type": "markdown",
   "metadata": {},
   "source": [
    "想要开始使用协程的时候必须通过`next(...)`方式激活协程，如果不预激，这个协程就无法使用，\n",
    "\n",
    "如果哪天在代码中遗忘了那么就出问题了，所以有一种预激协程的装饰器，预激装饰器的演示例子::"
   ]
  },
  {
   "cell_type": "code",
   "execution_count": 22,
   "metadata": {},
   "outputs": [
    {
     "name": "stdout",
     "output_type": "stream",
     "text": [
      "GEN_SUSPENDED\n",
      "10.0\n",
      "15.0\n",
      "20.0\n"
     ]
    }
   ],
   "source": [
    "from functools import wraps\n",
    "\n",
    "def coroutine(func):\n",
    "    @wraps(func)\n",
    "    def primer(*args, **kwargs):\n",
    "        gen = func(*args, **kwargs)\n",
    "        next(gen)\n",
    "        return gen\n",
    "    return primer\n",
    "\n",
    "@coroutine\n",
    "def averager():\n",
    "    total = 0.0\n",
    "    count= 0\n",
    "    average = None\n",
    "    while True:\n",
    "        term = yield average\n",
    "        total += term\n",
    "        count += 1\n",
    "        average = total / count\n",
    "  \n",
    "coro_avg = averager()\n",
    "from inspect import getgeneratorstate\n",
    "print(getgeneratorstate(coro_avg))\n",
    "print(coro_avg.send(10))\n",
    "print(coro_avg.send(20))\n",
    "print(coro_avg.send(30))\n"
   ]
  },
  {
   "cell_type": "markdown",
   "metadata": {},
   "source": [
    "关于预激，在使用`yield from`句法调用协程的时候，会自动预激活，这样其实与我们上面定义的coroutine装饰器是不兼容的，在python3.4里面的asyncio.coroutine装饰器不会预激协程，因此兼容yield from"
   ]
  },
  {
   "cell_type": "markdown",
   "metadata": {},
   "source": [
    "### 中止协程和异常处理"
   ]
  },
  {
   "cell_type": "markdown",
   "metadata": {},
   "source": [
    "协程中为处理的异常会向上冒泡,传给next函数或send函数的调用方(即触发协程的对象)\n",
    "\n",
    "如果我们send一个错误的数据就会报错，并且这个时候协程就被终止了,协程状态是GEN_CLOSED.\n",
    "\n",
    "从python2.5开始客户端代码在生成器对象上调用两个方法: 分别为：throw和close，显示的把异常发送给协程\n",
    "\n",
    "generator.throw:会让生成器在暂停的yield表达式处抛出指定的异常，\n",
    "* 如果生成器处理了抛出的异常，代码会向前执行到下一个yield表达式，而产出的值会成为调用generator.throw方法代码的返回值。\n",
    "* 如果生成器没有处理抛出的异常，异常会向上冒泡，传到调用方的上下文中。\n",
    "\n",
    "generator.close:会让生成器在暂停的yield表达式处抛出GeneratorExit异常。\n",
    "* 如果生成器没有处理这个异常，或者抛出了StopIteration异常，调用方不会报错\n",
    "* 如果收到GeneratorExit异常，生成器一定不能产出值，否则解释器会抛出RuntimeError异常。生成器抛出的异常会向上冒泡，传给调用方。"
   ]
  },
  {
   "cell_type": "code",
   "execution_count": 26,
   "metadata": {},
   "outputs": [
    {
     "name": "stdout",
     "output_type": "stream",
     "text": [
      "--> coroutine started\n",
      "-->coroutiine received:10\n",
      "-->coroutiine received:20\n",
      "-->coroutiine received:30\n"
     ]
    },
    {
     "ename": "TypeError",
     "evalue": "",
     "output_type": "error",
     "traceback": [
      "\u001b[1;31m---------------------------------------------------------------------------\u001b[0m",
      "\u001b[1;31mTypeError\u001b[0m                                 Traceback (most recent call last)",
      "\u001b[1;32m<ipython-input-26-0d8be3815885>\u001b[0m in \u001b[0;36m<module>\u001b[1;34m()\u001b[0m\n\u001b[0;32m     25\u001b[0m \u001b[0mexc_coro\u001b[0m\u001b[1;33m.\u001b[0m\u001b[0msend\u001b[0m\u001b[1;33m(\u001b[0m\u001b[1;36m30\u001b[0m\u001b[1;33m)\u001b[0m\u001b[1;33m\u001b[0m\u001b[0m\n\u001b[0;32m     26\u001b[0m \u001b[1;33m\u001b[0m\u001b[0m\n\u001b[1;32m---> 27\u001b[1;33m \u001b[0mexc_coro\u001b[0m\u001b[1;33m.\u001b[0m\u001b[0mthrow\u001b[0m\u001b[1;33m(\u001b[0m\u001b[0mTypeError\u001b[0m\u001b[1;33m)\u001b[0m\u001b[1;33m\u001b[0m\u001b[0m\n\u001b[0m\u001b[0;32m     28\u001b[0m \u001b[1;33m\u001b[0m\u001b[0m\n\u001b[0;32m     29\u001b[0m \u001b[1;32mfrom\u001b[0m \u001b[0minspect\u001b[0m \u001b[1;32mimport\u001b[0m \u001b[0mgetgeneratorstate\u001b[0m\u001b[1;33m\u001b[0m\u001b[0m\n",
      "\u001b[1;32m<ipython-input-26-0d8be3815885>\u001b[0m in \u001b[0;36mdemo_exc_handling\u001b[1;34m()\u001b[0m\n\u001b[0;32m      7\u001b[0m     \u001b[1;32mwhile\u001b[0m \u001b[1;32mTrue\u001b[0m\u001b[1;33m:\u001b[0m\u001b[1;33m\u001b[0m\u001b[0m\n\u001b[0;32m      8\u001b[0m         \u001b[1;32mtry\u001b[0m\u001b[1;33m:\u001b[0m\u001b[1;33m\u001b[0m\u001b[0m\n\u001b[1;32m----> 9\u001b[1;33m             \u001b[0mx\u001b[0m \u001b[1;33m=\u001b[0m \u001b[1;32myield\u001b[0m\u001b[1;33m\u001b[0m\u001b[0m\n\u001b[0m\u001b[0;32m     10\u001b[0m         \u001b[1;32mexcept\u001b[0m \u001b[0mDemoException\u001b[0m\u001b[1;33m:\u001b[0m\u001b[1;33m\u001b[0m\u001b[0m\n\u001b[0;32m     11\u001b[0m             \u001b[0mprint\u001b[0m\u001b[1;33m(\u001b[0m\u001b[1;34m'DemoException handled. continuing...'\u001b[0m\u001b[1;33m)\u001b[0m\u001b[1;33m\u001b[0m\u001b[0m\n",
      "\u001b[1;31mTypeError\u001b[0m: "
     ]
    }
   ],
   "source": [
    "class DemoException(Exception):\n",
    "    \"\"\"定义异常类型\"\"\"\n",
    "    pass\n",
    "\n",
    "def demo_exc_handling():\n",
    "    print('--> coroutine started')\n",
    "    while True:\n",
    "        try:\n",
    "            x = yield\n",
    "        except DemoException:\n",
    "            print('DemoException handled. continuing...')\n",
    "        else:\n",
    "            print('-->coroutiine received:{!r}'.format(x))\n",
    "    raise RuntimeError('this line should never run.')\n",
    " \n",
    "\n",
    "exc_coro = demo_exc_handling()\n",
    "\n",
    "next(exc_coro)\n",
    "\n",
    "exc_coro.send(10)\n",
    "\n",
    "exc_coro.send(20)\n",
    "\n",
    "exc_coro.send(30)\n",
    "\n",
    "exc_coro.throw(TypeError)\n",
    "\n",
    "from inspect import getgeneratorstate\n",
    "\n",
    "getgeneratorstate(exc_coro)"
   ]
  },
  {
   "cell_type": "markdown",
   "metadata": {},
   "source": [
    "当传入我们定义的异常时不会影响协程，协程不会停止，可以继续send,但是如果是没有处理的异常的时候，就会报错，并且协程会被终止"
   ]
  },
  {
   "cell_type": "markdown",
   "metadata": {},
   "source": [
    "### 让协程返回值"
   ]
  },
  {
   "cell_type": "code",
   "execution_count": 27,
   "metadata": {},
   "outputs": [
    {
     "name": "stdout",
     "output_type": "stream",
     "text": [
      "Result(colunt=3, average=20.0)\n"
     ]
    }
   ],
   "source": [
    "from collections import namedtuple\n",
    "\n",
    "Result = namedtuple('Result', 'colunt average')\n",
    "\n",
    "def averager():\n",
    "    total = 0.0\n",
    "    count = 0\n",
    "    average = None\n",
    "    while True:\n",
    "        term = yield\n",
    "        if term is None:\n",
    "            break\n",
    "        total += term\n",
    "        count += 1\n",
    "        average = total / count\n",
    "    return Result(count, average)\n",
    "\n",
    "coro_avg = averager()\n",
    "\n",
    "next(coro_avg)\n",
    "coro_avg.send(10)\n",
    "coro_avg.send(20)\n",
    "coro_avg.send(30)\n",
    "\n",
    "try:\n",
    "    coro_avg.send(None)\n",
    "except StopIteration as e:\n",
    "    result = e.value\n",
    "    print(result)"
   ]
  },
  {
   "cell_type": "markdown",
   "metadata": {},
   "source": [
    "其实上面这种方式获取返回值比较麻烦，而`yield from`结构会自动捕获StopIteration异常，这种处理方式与for循环处理StopIteration异常的方式一样，\n",
    "\n",
    "循环机制使我们更容易理解处理异常，对于`yield from`来说，解释器不仅会捕获StopIteration异常，还会把value属性的值变成`yield from`表达式的值."
   ]
  },
  {
   "cell_type": "markdown",
   "metadata": {},
   "source": [
    "### 关于yield from"
   ]
  },
  {
   "cell_type": "markdown",
   "metadata": {},
   "source": [
    "* 在生成器中使用`yield from subgen()`时，subgen(子生成器)会获得控制权，把产出的值传给gen的调用方，即**调用方可以直接控制subgen,同时，gen会阻塞，等待subgen终止**\n",
    "\n",
    "* `yield from x`表达式对x对象所做的**第一件事**是，调用`iter(x)`,从中获取迭代器，因此x可以是任何可迭代的对象"
   ]
  },
  {
   "cell_type": "code",
   "execution_count": 28,
   "metadata": {},
   "outputs": [
    {
     "name": "stdout",
     "output_type": "stream",
     "text": [
      "['A', 'B', 1, 2]\n",
      "['A', 'B', 1, 2]\n"
     ]
    }
   ],
   "source": [
    "def gen():\n",
    "    for c in 'AB':\n",
    "        yield c\n",
    "    for i in range(1, 3):\n",
    "        yield i\n",
    "        \n",
    "print(list(gen()))\n",
    "\n",
    "def gen2():\n",
    "    yield from 'AB'\n",
    "    yield from range(1, 3)\n",
    "    \n",
    "print(list(gen2()))"
   ]
  },
  {
   "cell_type": "markdown",
   "metadata": {},
   "source": [
    "这两种的方式的结果是一样的，但是这样看来yield from更加简洁，\n",
    "\n",
    "但是yield from的作用可不仅仅是替代产出值的嵌套for循环。\n",
    "\n",
    "yield from的主要功能是打开双向通道，把最外层的调用方与最内层的子生成器连接起来，\n",
    "\n",
    "这样二者可以直接发送和产出值，还可以直接传入异常，而不用再像之前那样在位于中间的协程中添加大量处理异常的代码\n",
    "\n",
    "通过yield from还可以链接可迭代对象\n",
    "\n",
    "![](images/1.png)\n",
    "\n",
    "委派生成器在yield from 表达式处暂停时，调用方可以直接把数据发给子生成器，子生成器再把产出产出值发给调用方，子生成器返回之后，解释器会抛出StopIteration异常，并把返回值附加到异常对象上，此时委派生成器会恢复。"
   ]
  },
  {
   "cell_type": "code",
   "execution_count": 30,
   "metadata": {},
   "outputs": [
    {
     "name": "stdout",
     "output_type": "stream",
     "text": [
      "2920752913312\n",
      "2920752913752\n",
      "2920752910760\n",
      "2920752913312\n",
      " 9 boys  average 40.42kg\n",
      " 9 boys  average 1.39m\n",
      "10 girls average 42.04kg\n",
      "10 girls average 1.43m\n"
     ]
    }
   ],
   "source": [
    "from collections import namedtuple\n",
    "\n",
    "Result = namedtuple('Result', 'count average')\n",
    "\n",
    "# 子生成器\n",
    "def averager():\n",
    "    total, count, average = 0.0, 0, None\n",
    "    while True:\n",
    "        term = yield\n",
    "        if term is None: break;\n",
    "        total += term\n",
    "        count += 1\n",
    "        average = total/count\n",
    "    return Result(count, average)\n",
    "\n",
    "# 委派生成器\n",
    "def grouper(result, key):\n",
    "    while True:\n",
    "        result[key] = yield from averager()\n",
    "        \n",
    "    \n",
    "# 客户端代码,即调用方\n",
    "def main(data):\n",
    "    results = {}\n",
    "    for key, values in data.items():\n",
    "        # 每次循环创建一个grouper,即委派生成器\n",
    "        group = grouper(results, key)\n",
    "        print(id(group))\n",
    "        next(group)\n",
    "        for value in values:\n",
    "            group.send(value)\n",
    "        group.send(None) # 这里表示要中止了\n",
    "    \n",
    "    report(results)\n",
    "    \n",
    "# 输出报告\n",
    "def report(results):\n",
    "    for key, result in sorted(results.items()):\n",
    "        group, unit = key.split(';')\n",
    "        print('{:2} {:5} average {:.2f}{}'.format(result.count, group, result.average, unit))\n",
    "        \n",
    "data = {\n",
    "     'girls;kg':\n",
    "         [40.9, 38.5, 44.3, 42.2, 45.2, 41.7, 44.5, 38.0, 40.6, 44.5],\n",
    "     'girls;m':\n",
    "         [1.6, 1.51, 1.4, 1.3, 1.41, 1.39, 1.33, 1.46, 1.45, 1.43],\n",
    "     'boys;kg':\n",
    "         [39.0, 40.8, 43.2, 40.8, 43.1, 38.6, 41.4, 40.6, 36.3],\n",
    "     'boys;m':\n",
    "         [1.38, 1.5, 1.32, 1.25, 1.37, 1.48, 1.25, 1.49, 1.46],\n",
    "}\n",
    "\n",
    "main(data)"
   ]
  },
  {
   "cell_type": "markdown",
   "metadata": {},
   "source": [
    "关于上述代码着重解释一下关于委派生成器部分，这里的循环每次迭代时会新建一个averager实例，每个实例都是作为协程使用的生成器对象。\n",
    "\n",
    "grouper发送的每个值都会经由yield from处理，通过管道传给averager实例。\n",
    "\n",
    "grouper会在`yield from`表达式处暂停，等待averager实例处理客户端发来的值。\n",
    "\n",
    "averager实例运行完毕后，返回的值会绑定到`results[key]`上，while 循环会不断创建averager实例，处理更多的值.\n",
    "\n",
    "并且上述代码中的子生成器可以使用return 返回一个值，而返回的值会成为yield from表达式的值。"
   ]
  },
  {
   "cell_type": "markdown",
   "metadata": {},
   "source": [
    "### 关于yield from的意义"
   ]
  },
  {
   "cell_type": "markdown",
   "metadata": {},
   "source": [
    "关于yield from 六点重要的说明：\n",
    "\n",
    "1. 子生成器产出的值都直接传给委派生成器的调用方(即客户端代码)\n",
    "\n",
    "2. 使用send()方法发送给委派生成器的值都直接传给子生成器。如果发送的值为None,那么会给委派调用子生成器的__next__()方法。如果发送的值不是None,那么会调用子生成器的send方法，如果调用的方法抛出StopIteration异常，那么委派生成器恢复运行，任何其他异常都会向上冒泡，传给委派生成器\n",
    "\n",
    "3. 生成器退出时，生成器(或子生成器)中的return expr表达式会出发StopIteration(expr)异常抛出\n",
    "\n",
    "4. yield from表达式的值是**子生成器终止时**传给StopIteration异常的第一个参数。yield from 结构的另外两个特性与异常和终止有关。\n",
    "\n",
    "5. 传入委派生成器的异常，除了GeneratorExit之外都传给子生成器的throw()方法。如果调用throw()方法时抛出StopIteration异常，委派生成器恢复运行。StopIteration之外的异常会向上冒泡，传给委派生成器\n",
    "\n",
    "6. 如果把GeneratorExit异常传入委派生成器，或者在委派生成器上调用close()方法，那么在子生成器上调用clsoe()方法，如果它有的话。如果调用close()方法导致异常抛出，那么异常会向上冒泡，传给委派生成器，否则委派生成器抛出GeneratorExit异常"
   ]
  }
 ],
 "metadata": {
  "kernelspec": {
   "display_name": "Python 3",
   "language": "python",
   "name": "python3"
  },
  "language_info": {
   "codemirror_mode": {
    "name": "ipython",
    "version": 3
   },
   "file_extension": ".py",
   "mimetype": "text/x-python",
   "name": "python",
   "nbconvert_exporter": "python",
   "pygments_lexer": "ipython3",
   "version": "3.6.4"
  }
 },
 "nbformat": 4,
 "nbformat_minor": 2
}
