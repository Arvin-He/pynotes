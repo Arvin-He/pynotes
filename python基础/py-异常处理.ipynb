{
 "cells": [
  {
   "cell_type": "markdown",
   "metadata": {},
   "source": [
    "# 异常处理"
   ]
  },
  {
   "cell_type": "markdown",
   "metadata": {},
   "source": [
    "异常处理需要注意：\n",
    "1. try/except/else/finally所出现的顺序必须是try-->except X-->except-->else-->finally，即所有的except必须在else和finally之前，else（如果有的话）必须在finally之前，而except X必须在except之前。否则会出现语法错误。\n",
    "2. else和finally是可选的，不是必须的，但如果存在else必须在finally之前，finally（如果存在的话）必须在整个语句的最后位置。\n",
    "3. else语句的存在必须以except X 或者except语句为前提，如果在没有except语句的try block中使用else语句会引发语法错误。也就是说else不能与try/finally配合使用。"
   ]
  },
  {
   "cell_type": "markdown",
   "metadata": {},
   "source": [
    "### try...except"
   ]
  },
  {
   "cell_type": "code",
   "execution_count": 1,
   "metadata": {},
   "outputs": [
    {
     "name": "stdout",
     "output_type": "stream",
     "text": [
      "division by zero\n"
     ]
    }
   ],
   "source": [
    "a, b = 10, 0\n",
    "try:\n",
    "    c = a/b\n",
    "    print(c)\n",
    "except ZeroDivisionError as e:\n",
    "    print(e)"
   ]
  },
  {
   "cell_type": "markdown",
   "metadata": {},
   "source": [
    "### try ....except...else"
   ]
  },
  {
   "cell_type": "markdown",
   "metadata": {},
   "source": [
    "当没有异常发生时，else中的语句将会被执行"
   ]
  },
  {
   "cell_type": "code",
   "execution_count": 7,
   "metadata": {},
   "outputs": [
    {
     "name": "stdout",
     "output_type": "stream",
     "text": [
      "0.0\n",
      "no error\n"
     ]
    }
   ],
   "source": [
    "a, b = 10, 0\n",
    "try:\n",
    "    c = b/a\n",
    "    print(c)\n",
    "except ZeroDivisionError as e:\n",
    "    print(e)\n",
    "else:\n",
    "    print('no error')"
   ]
  },
  {
   "cell_type": "markdown",
   "metadata": {},
   "source": [
    "### 处理多个异常"
   ]
  },
  {
   "cell_type": "markdown",
   "metadata": {},
   "source": [
    "except语句里处理多个异常要求多个异常被放在一个元组里。"
   ]
  },
  {
   "cell_type": "code",
   "execution_count": 23,
   "metadata": {},
   "outputs": [
    {
     "name": "stdout",
     "output_type": "stream",
     "text": [
      "division by zero\n",
      "io error or division by zero\n"
     ]
    }
   ],
   "source": [
    "a, b = 10, 0\n",
    "try:\n",
    "    c = a/b\n",
    "    print(c)\n",
    "except (IOError, ZeroDivisionError) as e:\n",
    "    print(e)\n",
    "    print('io error or division by zero')\n",
    "else:\n",
    "    print('no error')"
   ]
  },
  {
   "cell_type": "code",
   "execution_count": 21,
   "metadata": {},
   "outputs": [
    {
     "name": "stdout",
     "output_type": "stream",
     "text": [
      "'b'\n"
     ]
    }
   ],
   "source": [
    "nums = [1, 2, 3]\n",
    "data = {\"a\": 123}\n",
    "\n",
    "try:\n",
    "    data['b']  # 这边最先出现异常KeyError ，所以直接跳出code，跳到KeyError 下去处理\n",
    "    num[3]\n",
    "except IndexError as e:\n",
    "    print(e)\n",
    "except KeyError as e:\n",
    "    print(e)"
   ]
  },
  {
   "cell_type": "code",
   "execution_count": 20,
   "metadata": {},
   "outputs": [
    {
     "name": "stdout",
     "output_type": "stream",
     "text": [
      "unsupported operand type(s) for /: 'str' and 'int'\n",
      "a = 10, b = 0\n",
      "division by zero\n",
      "a = 10, b = 5\n"
     ]
    }
   ],
   "source": [
    "a, b = '10', 5\n",
    "try:\n",
    "    c = a/b\n",
    "except TypeError as e:\n",
    "    print(e)\n",
    "    b = 0\n",
    "    a = int(a)\n",
    "    print('a = {}, b = {}'.format(a, b))\n",
    "    try:\n",
    "        c = a/b\n",
    "    except ZeroDivisionError as e:\n",
    "        print(e)\n",
    "        b = 5\n",
    "        print('a = {}, b = {}'.format(a, b))\n",
    "        c = a/b\n",
    "    else:\n",
    "        print('result = ',c)"
   ]
  },
  {
   "cell_type": "code",
   "execution_count": 22,
   "metadata": {},
   "outputs": [
    {
     "name": "stdout",
     "output_type": "stream",
     "text": [
      "'c'\n",
      "不管有没有错，都这行finnally\n"
     ]
    }
   ],
   "source": [
    "try:\n",
    "    data = {\"a\":\"b\"}\n",
    "    data[\"c\"]   #data字典中没有'c'这个key值\n",
    "except (IndexError, KeyError) as e:\n",
    "    print(e)\n",
    "except Exception as e:\n",
    "    print(e)\n",
    "else:\n",
    "    print(\"没有异常\")\n",
    "finally:\n",
    "    print(\"不管有没有错，都这行finnally\")"
   ]
  },
  {
   "cell_type": "markdown",
   "metadata": {},
   "source": [
    "### raise 显式引发一个异常"
   ]
  },
  {
   "cell_type": "markdown",
   "metadata": {},
   "source": [
    "raise显示地引发异常。一旦执行了raise语句，raise后面的语句将不能执行。\n",
    "\n",
    "语句中 Exception 是异常的类型（例如，NameError）参数标准异常中任一种，args 是自已提供的异常参数。\n",
    "\n",
    "raise关键字后面是抛出是一个通用的异常类型(Exception)，一般来说抛出的异常越详细越好\n",
    "\n",
    "注意: 显示raise一个异常出来一定要去捕获它,否则不要raise异常出来,不然程序就崩溃了."
   ]
  },
  {
   "cell_type": "code",
   "execution_count": 31,
   "metadata": {},
   "outputs": [
    {
     "name": "stdout",
     "output_type": "stream",
     "text": [
      "Invalid number!\n"
     ]
    },
    {
     "ename": "TypeError",
     "evalue": "Invalid number!",
     "output_type": "error",
     "traceback": [
      "\u001b[1;31m---------------------------------------------------------------------------\u001b[0m",
      "\u001b[1;31mTypeError\u001b[0m                                 Traceback (most recent call last)",
      "\u001b[1;32m<ipython-input-31-29bdb63d0ebf>\u001b[0m in \u001b[0;36m<module>\u001b[1;34m()\u001b[0m\n\u001b[0;32m     10\u001b[0m     \u001b[0mprint\u001b[0m\u001b[1;33m(\u001b[0m\u001b[0me\u001b[0m\u001b[1;33m)\u001b[0m\u001b[1;33m\u001b[0m\u001b[0m\n\u001b[0;32m     11\u001b[0m \u001b[1;33m\u001b[0m\u001b[0m\n\u001b[1;32m---> 12\u001b[1;33m \u001b[0mnumber_add\u001b[0m\u001b[1;33m(\u001b[0m\u001b[1;34m'123'\u001b[0m\u001b[1;33m,\u001b[0m \u001b[1;36m50\u001b[0m\u001b[1;33m)\u001b[0m\u001b[1;33m\u001b[0m\u001b[0m\n\u001b[0m",
      "\u001b[1;32m<ipython-input-31-29bdb63d0ebf>\u001b[0m in \u001b[0;36mnumber_add\u001b[1;34m(a, b)\u001b[0m\n\u001b[0;32m      1\u001b[0m \u001b[1;32mdef\u001b[0m \u001b[0mnumber_add\u001b[0m\u001b[1;33m(\u001b[0m\u001b[0ma\u001b[0m\u001b[1;33m,\u001b[0m \u001b[0mb\u001b[0m\u001b[1;33m)\u001b[0m\u001b[1;33m:\u001b[0m\u001b[1;33m\u001b[0m\u001b[0m\n\u001b[0;32m      2\u001b[0m     \u001b[1;32mif\u001b[0m \u001b[0misinstance\u001b[0m\u001b[1;33m(\u001b[0m\u001b[0ma\u001b[0m\u001b[1;33m,\u001b[0m \u001b[0mstr\u001b[0m\u001b[1;33m)\u001b[0m \u001b[1;32mor\u001b[0m \u001b[0misinstance\u001b[0m\u001b[1;33m(\u001b[0m\u001b[0mb\u001b[0m\u001b[1;33m,\u001b[0m \u001b[0mstr\u001b[0m\u001b[1;33m)\u001b[0m\u001b[1;33m:\u001b[0m\u001b[1;33m\u001b[0m\u001b[0m\n\u001b[1;32m----> 3\u001b[1;33m         \u001b[1;32mraise\u001b[0m \u001b[0mTypeError\u001b[0m\u001b[1;33m(\u001b[0m\u001b[1;34m'Invalid number!'\u001b[0m\u001b[1;33m)\u001b[0m\u001b[1;33m\u001b[0m\u001b[0m\n\u001b[0m\u001b[0;32m      4\u001b[0m     \u001b[0mc\u001b[0m \u001b[1;33m=\u001b[0m \u001b[0ma\u001b[0m \u001b[1;33m+\u001b[0m \u001b[0mb\u001b[0m\u001b[1;33m\u001b[0m\u001b[0m\n\u001b[0;32m      5\u001b[0m     \u001b[0mprint\u001b[0m\u001b[1;33m(\u001b[0m\u001b[0mc\u001b[0m\u001b[1;33m)\u001b[0m\u001b[1;33m\u001b[0m\u001b[0m\n",
      "\u001b[1;31mTypeError\u001b[0m: Invalid number!"
     ]
    }
   ],
   "source": [
    "def number_add(a, b):\n",
    "    if isinstance(a, str) or isinstance(b, str):\n",
    "        raise TypeError('Invalid number!')\n",
    "    c = a + b\n",
    "    print(c)\n",
    "    \n",
    "try:\n",
    "    number_add('123', 50)\n",
    "except Exception as e:\n",
    "    print(e)\n",
    "   \n",
    "number_add('123', 50)"
   ]
  },
  {
   "cell_type": "markdown",
   "metadata": {},
   "source": [
    "### 单独一个raise"
   ]
  },
  {
   "cell_type": "markdown",
   "metadata": {},
   "source": [
    "阅读开源代码时，经常能看到，单独一个raise的使用\n",
    "```\n",
    "try:\n",
    "  do something\n",
    "except IOError:  \n",
    "  raise\n",
    "```  \n",
    "这个是把最近一次产生的异常重新抛出来，交给上层处理。（我已经知道这个异常发生并且捕获到了，但是我不做处理，而由我的上层调用处理。） "
   ]
  },
  {
   "cell_type": "code",
   "execution_count": 33,
   "metadata": {},
   "outputs": [
    {
     "name": "stdout",
     "output_type": "stream",
     "text": [
      "inner exception\n",
      "outter exception\n"
     ]
    }
   ],
   "source": [
    "try:\n",
    "    try:\n",
    "        raise IOError  #显示抛出一个异常,虽然没有异常\n",
    "    except IOError:\n",
    "        print(\"inner exception\")\n",
    "        raise # <same as raise IOError>  # 捕获到异常并继续抛到调用者\n",
    "except IOError:\n",
    "    print(\"outter exception\")\n"
   ]
  },
  {
   "cell_type": "markdown",
   "metadata": {},
   "source": [
    "### try...finally"
   ]
  },
  {
   "cell_type": "markdown",
   "metadata": {},
   "source": [
    "无论异常是否发生，在程序结束前，finally中的语句都会被执行。"
   ]
  },
  {
   "cell_type": "code",
   "execution_count": 12,
   "metadata": {},
   "outputs": [
    {
     "name": "stdout",
     "output_type": "stream",
     "text": [
      "division by zero\n",
      "0.0\n",
      "over!\n"
     ]
    }
   ],
   "source": [
    "a, b = 10, 0\n",
    "try:\n",
    "    c = a/b\n",
    "except ZeroDivisionError as e:\n",
    "    print(e)\n",
    "finally:\n",
    "    c = b/a\n",
    "    print(c)\n",
    "    print('over!')"
   ]
  },
  {
   "cell_type": "markdown",
   "metadata": {},
   "source": [
    "### 自定义一个异常类"
   ]
  },
  {
   "cell_type": "code",
   "execution_count": 13,
   "metadata": {},
   "outputs": [
    {
     "name": "stdout",
     "output_type": "stream",
     "text": [
      "my exception is raised!\n"
     ]
    }
   ],
   "source": [
    "class MyException(Exception):\n",
    "    def __init__(self, message):\n",
    "        super(MyException, self).__init__()\n",
    "        self.message = message\n",
    "        \n",
    "a = 6\n",
    "\n",
    "if a < 10:\n",
    "    try:\n",
    "        raise MyException('my exception is raised!')\n",
    "    except MyException as e:\n",
    "        print(e.message)"
   ]
  },
  {
   "cell_type": "markdown",
   "metadata": {},
   "source": [
    "### python标准异常类"
   ]
  },
  {
   "cell_type": "markdown",
   "metadata": {},
   "source": [
    "|异常名称|\t描述|\n",
    "|:--------|:------|\n",
    "|BaseException\t|所有异常的基类|\n",
    "|Exception\t|常规错误的基类|\n",
    "|StopIteration\t|迭代器没有更多的值|\n",
    "|GeneratorExit\t|生成器(generator)发生异常来通知退出|\n",
    "|SystemExit\t   |Python解释器请求退出\n",
    "|StandardError\t|所有的内建标准异常的基类|\n",
    "|ArithmeticError\t|所有数值计算错误的基类|\n",
    "|FloatingPointError\t|浮点计算错误|\n",
    "|OverflowError\t|数值运算超出最大限制|\n",
    "|ZeroDivisionError\t|除(或取模)零 (所有数据类型)|\n",
    "|AssertionError\t|断言语句失败|\n",
    "|AttributeError\t|对象没有这个属性|\n",
    "|EOFError\t|没有内建输入,到达EOF 标记|\n",
    "|EnvironmentError\t|操作系统错误的基类|\n",
    "|IOError\t|输入/输出操作失败|\n",
    "|OSError\t|操作系统错误|\n",
    "|WindowsError\t|系统调用失败|\n",
    "|ImportError\t|导入模块/对象失败|\n",
    "|KeyboardInterrupt\t|用户中断执行(通常是输入^C)|\n",
    "|LookupError\t|无效数据查询的基类|\n",
    "|IndexError\t|序列中没有没有此索引(index)|\n",
    "|KeyError\t|映射中没有这个键|\n",
    "|MemoryError\t|内存溢出错误(对于Python 解释器不是致命的)|\n",
    "|NameError\t|未声明/初始化对象 (没有属性)|\n",
    "|UnboundLocalError\t|访问未初始化的本地变量|\n",
    "|ReferenceError\t|弱引用(Weak reference)试图访问已经垃圾回收了的对象|\n",
    "|RuntimeError\t|一般的运行时错误|\n",
    "|NotImplementedError\t|尚未实现的方法|\n",
    "|SyntaxError\t|Python 语法错误|\n",
    "|IndentationError\t|缩进错误|\n",
    "|TabError\t|Tab 和空格混用|\n",
    "|SystemError\t|一般的解释器系统错误|\n",
    "|TypeError\t|对类型无效的操作|\n",
    "|ValueError\t|传入无效的参数|\n",
    "|UnicodeError\t|Unicode 相关的错误|\n",
    "|UnicodeDecodeError\t|Unicode 解码时的错误|\n",
    "|UnicodeEncodeError\t|Unicode 编码时错误|\n",
    "|UnicodeTranslateError\t|Unicode 转换时错误|\n",
    "|Warning\t|警告的基类|\n",
    "|DeprecationWarning\t|关于被弃用的特征的警告|\n",
    "|FutureWarning\t|关于构造将来语义会有改变的警告|\n",
    "|OverflowWarning\t|旧的关于自动提升为长整型(long)的警告|\n",
    "|PendingDeprecationWarning\t|关于特性将会被废弃的警告|\n",
    "|RuntimeWarning\t|可疑的运行时行为(runtime behavior)的警告|\n",
    "|SyntaxWarning\t|可疑的语法的警告|\n",
    "|UserWarning\t|用户代码生成的警告|"
   ]
  }
 ],
 "metadata": {
  "kernelspec": {
   "display_name": "Python 3",
   "language": "python",
   "name": "python3"
  },
  "language_info": {
   "codemirror_mode": {
    "name": "ipython",
    "version": 3
   },
   "file_extension": ".py",
   "mimetype": "text/x-python",
   "name": "python",
   "nbconvert_exporter": "python",
   "pygments_lexer": "ipython3",
   "version": "3.6.4"
  }
 },
 "nbformat": 4,
 "nbformat_minor": 2
}
