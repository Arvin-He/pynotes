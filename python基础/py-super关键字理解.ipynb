{
 "cells": [
  {
   "cell_type": "markdown",
   "metadata": {},
   "source": [
    "# 理解super"
   ]
  },
  {
   "cell_type": "markdown",
   "metadata": {},
   "source": [
    "super 是用来解决多重继承问题的，直接用类名调用父类方法在使用单继承的时候没问题，\n",
    "\n",
    "但是如果使用多继承，会涉及到查找顺序（MRO）、重复调用（钻石继承）等种种问题。\n",
    "总之前人留下的经验就是：保持一致性。要不全部用类名调用父类，要不就全部用 super，不要混合使用。\n",
    "\n",
    "1. super并不是一个函数，是一个类名，形如super(B, self)事实上调用了super类的初始化函数, 产生了一个super对象；\n",
    "2. super类的初始化函数并没有做什么特殊的操作，只是简单记录了类类型和具体实例；\n",
    "3. super(B, self).func的调用并不是用于调用当前类的父类的func函数；\n",
    "4. Python的多继承类是通过mro的方式来保证各个父类的函数被逐一调用，而且保证每个父类函数只调用一次（如果每个类都使用super）；\n",
    "5. 混用super类和非绑定的函数是一个危险行为，这可能导致应该调用的父类函数没有调用或者一个父类函数被调用多次。\n",
    "\n",
    "注意：\n",
    "* super继承只能用于新式类，用于经典类时就会报错。\n",
    "* 新式类：必须有继承的类，如果没什么想继承的，那就继承object\n",
    "* 经典类：没有父类，如果此时调用super就会出现错误：『super() argument 1 must be type, not classobj』\n"
   ]
  }
 ],
 "metadata": {
  "kernelspec": {
   "display_name": "Python 3",
   "language": "python",
   "name": "python3"
  },
  "language_info": {
   "codemirror_mode": {
    "name": "ipython",
    "version": 3
   },
   "file_extension": ".py",
   "mimetype": "text/x-python",
   "name": "python",
   "nbconvert_exporter": "python",
   "pygments_lexer": "ipython3",
   "version": "3.6.4"
  }
 },
 "nbformat": 4,
 "nbformat_minor": 2
}
