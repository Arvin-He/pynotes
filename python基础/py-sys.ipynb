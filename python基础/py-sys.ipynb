{
 "cells": [
  {
   "cell_type": "markdown",
   "metadata": {},
   "source": [
    "# sys模块"
   ]
  },
  {
   "cell_type": "markdown",
   "metadata": {},
   "source": [
    "这个模块可供访问由解释器使用或维护的变量和与解释器进行交互的函数。"
   ]
  },
  {
   "cell_type": "markdown",
   "metadata": {},
   "source": [
    "### sys.argv: 实现从程序外部向程序传递参数"
   ]
  },
  {
   "cell_type": "markdown",
   "metadata": {},
   "source": [
    "命令行参数列表的第一个参数永远是执行脚本的名称(路径名称)\n",
    "* argv : 命令行参数列表; \n",
    "\n",
    "* argv[0]: 执行脚本的路径名称(固定)"
   ]
  },
  {
   "cell_type": "code",
   "execution_count": 4,
   "metadata": {},
   "outputs": [
    {
     "name": "stdout",
     "output_type": "stream",
     "text": [
      "['c:\\\\program files\\\\python36\\\\lib\\\\site-packages\\\\ipykernel_launcher.py', '-f', 'C:\\\\Users\\\\JS-E-PC-10182\\\\AppData\\\\Roaming\\\\jupyter\\\\runtime\\\\kernel-abecdc5b-d1c8-47c2-942d-1b9b2b539ee3.json']\n",
      "c:\\program files\\python36\\lib\\site-packages\\ipykernel_launcher.py\n",
      "-f\n"
     ]
    }
   ],
   "source": [
    "import sys\n",
    "\n",
    "print(sys.argv)\n",
    "\n",
    "print(sys.argv[0])\n",
    "\n",
    "print(sys.argv[1])"
   ]
  },
  {
   "cell_type": "markdown",
   "metadata": {},
   "source": [
    "### sys.exit(n): 程序中间的退出，arg=0为正常退出"
   ]
  },
  {
   "cell_type": "markdown",
   "metadata": {},
   "source": [
    "功能：执行到主程序末尾，解释器自动退出，但是如果需要中途退出程序，可以调用sys.exit函数，带有一个可选的整数参数返回给调用它的程序，表示你可以在主程序中捕获对sys.exit的调用。（0是正常退出，其他为异常）"
   ]
  },
  {
   "cell_type": "code",
   "execution_count": 8,
   "metadata": {},
   "outputs": [
    {
     "name": "stdout",
     "output_type": "stream",
     "text": [
      "=======\n",
      "-1\n"
     ]
    },
    {
     "ename": "SystemExit",
     "evalue": "0",
     "output_type": "error",
     "traceback": [
      "An exception has occurred, use %tb to see the full traceback.\n",
      "\u001b[1;31mSystemExit\u001b[0m\u001b[1;31m:\u001b[0m 0\n"
     ]
    },
    {
     "name": "stderr",
     "output_type": "stream",
     "text": [
      "c:\\program files\\python36\\lib\\site-packages\\IPython\\core\\interactiveshell.py:2971: UserWarning: To exit: use 'exit', 'quit', or Ctrl-D.\n",
      "  warn(\"To exit: use 'exit', 'quit', or Ctrl-D.\", stacklevel=1)\n"
     ]
    }
   ],
   "source": [
    "import sys\n",
    "\n",
    "def exit_func(value):\n",
    "    print(value)\n",
    "    sys.exit(0)\n",
    "    \n",
    "try:\n",
    "    sys.exit(-1)\n",
    "except SystemExit as e:\n",
    "    print('=======')\n",
    "    exit_func(e.code)"
   ]
  },
  {
   "cell_type": "markdown",
   "metadata": {},
   "source": [
    "### sys.path"
   ]
  },
  {
   "cell_type": "markdown",
   "metadata": {},
   "source": [
    "功能：获取指定模块搜索路径的字符串集合，可以将写好的模块放在得到的某个路径下，就可以在程序中import时正确找到。\n",
    "\n",
    "可以自己添加搜索路径"
   ]
  },
  {
   "cell_type": "code",
   "execution_count": 9,
   "metadata": {},
   "outputs": [
    {
     "name": "stdout",
     "output_type": "stream",
     "text": [
      "['',\n",
      " 'c:\\\\program files\\\\python36\\\\python36.zip',\n",
      " 'c:\\\\program files\\\\python36\\\\DLLs',\n",
      " 'c:\\\\program files\\\\python36\\\\lib',\n",
      " 'c:\\\\program files\\\\python36',\n",
      " 'c:\\\\program files\\\\python36\\\\lib\\\\site-packages',\n",
      " 'c:\\\\program files\\\\python36\\\\lib\\\\site-packages\\\\web.py-0.40.dev0-py3.6.egg',\n",
      " 'c:\\\\program files\\\\python36\\\\lib\\\\site-packages\\\\win32',\n",
      " 'c:\\\\program files\\\\python36\\\\lib\\\\site-packages\\\\win32\\\\lib',\n",
      " 'c:\\\\program files\\\\python36\\\\lib\\\\site-packages\\\\Pythonwin',\n",
      " 'c:\\\\program files\\\\python36\\\\lib\\\\site-packages\\\\IPython\\\\extensions',\n",
      " 'C:\\\\Users\\\\JS-E-PC-10182\\\\.ipython']\n"
     ]
    }
   ],
   "source": [
    "import sys\n",
    "from pprint import pprint\n",
    "\n",
    "pprint(sys.path)"
   ]
  },
  {
   "cell_type": "markdown",
   "metadata": {},
   "source": [
    "### sys.modules"
   ]
  },
  {
   "cell_type": "markdown",
   "metadata": {},
   "source": [
    "功能：sys.modules是一个全局字典，该字典是python启动后就加载在内存中。\n",
    "\n",
    "每当程序员导入新的模块，sys.modules将自动记录该模块。\n",
    "\n",
    "当第二次再导入该模块时，python会直接到字典中查找，从而加快了程序运行的速度。它拥有字典所拥有的一切方法。"
   ]
  },
  {
   "cell_type": "code",
   "execution_count": 15,
   "metadata": {},
   "outputs": [
    {
     "name": "stdout",
     "output_type": "stream",
     "text": [
      "<module 'os' from 'c:\\\\program files\\\\python36\\\\lib\\\\os.py'>\n",
      "<module 'sys' (built-in)>\n"
     ]
    }
   ],
   "source": [
    "import sys\n",
    "from pprint import pprint\n",
    "\n",
    "print(sys.modules['os'])\n",
    "print(sys.modules['sys'])"
   ]
  },
  {
   "cell_type": "markdown",
   "metadata": {},
   "source": [
    "### sys.stdin , sys. stdout,   sys.stderr"
   ]
  },
  {
   "cell_type": "markdown",
   "metadata": {},
   "source": [
    "功能：stdin , stdout , 以及stderr 变量包含与标准I/O 流对应的流对象. 如果需要更好地控制输出,而print 不能满足你的要求, 它们就是你所需要的. 你也可以替换它们, 这时候你就可以重定向输出和输入到其它设备( device ), 或者以非标准的方式处理它们"
   ]
  },
  {
   "cell_type": "markdown",
   "metadata": {},
   "source": [
    "### 其他"
   ]
  },
  {
   "cell_type": "markdown",
   "metadata": {},
   "source": [
    "* sys.getdefaultencoding(): 获取系统当前编码，默认为utf-8\n",
    "\n",
    "* sys.setdefaultencoding(): 设置系统默认编码，执行dir（sys）时不会看到这个方法，在解释器中执行不通过，可以先执行reload(sys)，在执行 setdefaultencoding('utf8')，此时将系统默认编码设置为utf8。（见设置系统默认编码 ）\n",
    "\n",
    "* sys.getfilesystemencoding(): 获取文件系统使用编码方式，Windows下返回'mbcs'，mac下返回'utf-8'.\n",
    "\n",
    "* sys.platform: 获取当前系统平台。\n",
    "\n",
    "* sys.hexversion 获取Python解释程序的版本值，16进制格式如：0x020403F0\n",
    "\n",
    "* sys.version 获取Python解释程序的版本信息\n",
    "\n",
    "* sys.maxsize 最大的Int值\n",
    "\n",
    "* sys.maxunicode 最大的Unicode值\n",
    "\n",
    "* sys.modules 返回系统导入的模块字段，key是模块名，value是模块\n",
    "\n",
    "* sys.path 返回模块的搜索路径，初始化时使用PYTHONPATH环境变量的值\n",
    "\n",
    "* sys.stdout 标准输出\n",
    "\n",
    "* sys.stdin 标准输入\n",
    "\n",
    "* sys.stderr 错误输出\n",
    "\n",
    "* sys.exc_clear() 用来清除当前线程所出现的当前的或最近的错误信息\n",
    "\n",
    "* sys.exec_prefix 返回平台独立的python文件安装的位置\n",
    "\n",
    "* sys.byteorder 本地字节规则的指示器，big-endian平台的值是'big',little-endian平台的值是'little'\n",
    "\n",
    "* sys.copyright 记录python版权相关的东西\n",
    "\n",
    "* sys.api_version 解释器的C的API版本"
   ]
  },
  {
   "cell_type": "code",
   "execution_count": 27,
   "metadata": {},
   "outputs": [
    {
     "name": "stdout",
     "output_type": "stream",
     "text": [
      "utf-8\n",
      "utf-8\n",
      "['', 'c:\\\\program files\\\\python36\\\\python36.zip', 'c:\\\\program files\\\\python36\\\\DLLs', 'c:\\\\program files\\\\python36\\\\lib', 'c:\\\\program files\\\\python36', 'c:\\\\program files\\\\python36\\\\lib\\\\site-packages', 'c:\\\\program files\\\\python36\\\\lib\\\\site-packages\\\\web.py-0.40.dev0-py3.6.egg', 'c:\\\\program files\\\\python36\\\\lib\\\\site-packages\\\\win32', 'c:\\\\program files\\\\python36\\\\lib\\\\site-packages\\\\win32\\\\lib', 'c:\\\\program files\\\\python36\\\\lib\\\\site-packages\\\\Pythonwin', 'c:\\\\program files\\\\python36\\\\lib\\\\site-packages\\\\IPython\\\\extensions', 'C:\\\\Users\\\\JS-E-PC-10182\\\\.ipython']\n",
      "win32\n",
      "50726128\n",
      "3.6.4 (v3.6.4:d48eceb, Dec 19 2017, 06:54:40) [MSC v.1900 64 bit (AMD64)]\n",
      "9223372036854775807\n",
      "1114111\n",
      "c:\\program files\\python36\n",
      "little\n",
      "1013\n",
      "Copyright (c) 2001-2017 Python Software Foundation.\n",
      "All Rights Reserved.\n",
      "\n",
      "Copyright (c) 2000 BeOpen.com.\n",
      "All Rights Reserved.\n",
      "\n",
      "Copyright (c) 1995-2001 Corporation for National Research Initiatives.\n",
      "All Rights Reserved.\n",
      "\n",
      "Copyright (c) 1991-1995 Stichting Mathematisch Centrum, Amsterdam.\n",
      "All Rights Reserved.\n"
     ]
    }
   ],
   "source": [
    "import sys\n",
    "\n",
    "print(sys.getdefaultencoding())\n",
    "\n",
    "print(sys.getfilesystemencoding())\n",
    "\n",
    "print(sys.path)\n",
    "\n",
    "print(sys.platform)\n",
    "\n",
    "print(sys.hexversion)\n",
    "\n",
    "print(sys.version)\n",
    "\n",
    "print(sys.maxsize)\n",
    "\n",
    "print(sys.maxunicode)\n",
    "\n",
    "print(sys.exec_prefix)\n",
    "\n",
    "print(sys.byteorder)\n",
    "\n",
    "print(sys.api_version)\n",
    "\n",
    "print(sys.copyright)"
   ]
  },
  {
   "cell_type": "code",
   "execution_count": null,
   "metadata": {},
   "outputs": [],
   "source": []
  }
 ],
 "metadata": {
  "kernelspec": {
   "display_name": "Python 3",
   "language": "python",
   "name": "python3"
  },
  "language_info": {
   "codemirror_mode": {
    "name": "ipython",
    "version": 3
   },
   "file_extension": ".py",
   "mimetype": "text/x-python",
   "name": "python",
   "nbconvert_exporter": "python",
   "pygments_lexer": "ipython3",
   "version": "3.6.4"
  }
 },
 "nbformat": 4,
 "nbformat_minor": 2
}
