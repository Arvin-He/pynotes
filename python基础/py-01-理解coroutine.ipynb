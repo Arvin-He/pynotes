{
 "cells": [
  {
   "cell_type": "markdown",
   "metadata": {},
   "source": [
    "# 深入理解协程-coroutine"
   ]
  },
  {
   "cell_type": "markdown",
   "metadata": {},
   "source": [
    "从语法上来看，协程和生成器类似，都是定义体中包含yield关键字的函数。但是又不一样,协程重点在流程控制方面"
   ]
  },
  {
   "cell_type": "markdown",
   "metadata": {},
   "source": [
    "### yield在协程中的用法"
   ]
  },
  {
   "cell_type": "markdown",
   "metadata": {},
   "source": [
    "* 在协程中yield通常出现在表达式的右边，例如：data = yield,可以产出值，\n",
    "* 也可以不产出--如果yield关键字后面没有表达式，那么生成器产出None.\n",
    "* 协程可能从调用方接受数据，调用方是通过send(datum)的方式把数据提供给协程使用，而不是next(...)函数，通常调用方会把值推送给协程。\n",
    "* 协程可以把控制权让给中心调度程序，从而激活其他的协程\n",
    "\n",
    "所以总体上在协程中把yield看做是**控制流程的方式**。"
   ]
  },
  {
   "cell_type": "markdown",
   "metadata": {},
   "source": [
    "### 协程运行过程"
   ]
  },
  {
   "cell_type": "code",
   "execution_count": 8,
   "metadata": {},
   "outputs": [
    {
     "name": "stdout",
     "output_type": "stream",
     "text": [
      "定义一个生成器\n",
      "<generator object simple_coroutine at 0x000002A80A6D6048>\n",
      "启动激活生成器\n",
      "---> coroutine started\n",
      "None\n",
      "向生成器传递值\n",
      "---> coroutine received: 10\n"
     ]
    },
    {
     "ename": "StopIteration",
     "evalue": "",
     "output_type": "error",
     "traceback": [
      "\u001b[1;31m---------------------------------------------------------------------------\u001b[0m",
      "\u001b[1;31mStopIteration\u001b[0m                             Traceback (most recent call last)",
      "\u001b[1;32m<ipython-input-8-ab362a95f445>\u001b[0m in \u001b[0;36m<module>\u001b[1;34m()\u001b[0m\n\u001b[0;32m     10\u001b[0m \u001b[0mprint\u001b[0m\u001b[1;33m(\u001b[0m\u001b[0mnext\u001b[0m\u001b[1;33m(\u001b[0m\u001b[0mmy_coro\u001b[0m\u001b[1;33m)\u001b[0m\u001b[1;33m)\u001b[0m\u001b[1;33m\u001b[0m\u001b[0m\n\u001b[0;32m     11\u001b[0m \u001b[0mprint\u001b[0m\u001b[1;33m(\u001b[0m\u001b[1;34m'向生成器传递值'\u001b[0m\u001b[1;33m)\u001b[0m\u001b[1;33m\u001b[0m\u001b[0m\n\u001b[1;32m---> 12\u001b[1;33m \u001b[0mprint\u001b[0m\u001b[1;33m(\u001b[0m\u001b[0mmy_coro\u001b[0m\u001b[1;33m.\u001b[0m\u001b[0msend\u001b[0m\u001b[1;33m(\u001b[0m\u001b[1;36m10\u001b[0m\u001b[1;33m)\u001b[0m\u001b[1;33m)\u001b[0m\u001b[1;33m\u001b[0m\u001b[0m\n\u001b[0m",
      "\u001b[1;31mStopIteration\u001b[0m: "
     ]
    }
   ],
   "source": [
    "def simple_coroutine():\n",
    "    print('---> coroutine started')\n",
    "    x = yield\n",
    "    print('---> coroutine received:', x)\n",
    "    \n",
    "my_coro = simple_coroutine()\n",
    "print('定义一个生成器')\n",
    "print(my_coro)\n",
    "print('启动激活生成器')\n",
    "print(next(my_coro))\n",
    "print('向生成器传递值')\n",
    "print(my_coro.send(10))"
   ]
  },
  {
   "cell_type": "markdown",
   "metadata": {},
   "source": [
    "对上述例子的分析：\n",
    "* yield 的右边没有表达式，所以这里默认产出的值是None\n",
    "* 刚开始先调用了next(...)是因为这个时候生成器还没有启动，没有停在yield那里，这个时候也是无法通过send发送数据。所以当我们通过next(...)激活协程后，程序就会运行到x = yield，这里有个问题我们需要注意，x = yield这个表达式的计算过程是先计算等号右边的内容，然后在进行赋值，所以当激活生成器后，程序会停在yield这里，但并没有给x赋值。\n",
    "* 当我们调用send方法后yield会收到这个值并赋值给x,而当程序运行到协程定义体的末尾时和用生成器的时候一样会抛出StopIteration异常"
   ]
  },
  {
   "cell_type": "markdown",
   "metadata": {},
   "source": [
    "如果协程没有通过next(...)激活(同样我们可以通过send(None)的方式激活)，但是我们直接send，会提示如下错误："
   ]
  },
  {
   "cell_type": "code",
   "execution_count": 10,
   "metadata": {},
   "outputs": [
    {
     "name": "stdout",
     "output_type": "stream",
     "text": [
      "定义一个生成器\n"
     ]
    },
    {
     "ename": "TypeError",
     "evalue": "can't send non-None value to a just-started generator",
     "output_type": "error",
     "traceback": [
      "\u001b[1;31m---------------------------------------------------------------------------\u001b[0m",
      "\u001b[1;31mTypeError\u001b[0m                                 Traceback (most recent call last)",
      "\u001b[1;32m<ipython-input-10-839bbcc4c9fe>\u001b[0m in \u001b[0;36m<module>\u001b[1;34m()\u001b[0m\n\u001b[0;32m      7\u001b[0m \u001b[0mprint\u001b[0m\u001b[1;33m(\u001b[0m\u001b[1;34m'定义一个生成器'\u001b[0m\u001b[1;33m)\u001b[0m\u001b[1;33m\u001b[0m\u001b[0m\n\u001b[0;32m      8\u001b[0m \u001b[1;33m\u001b[0m\u001b[0m\n\u001b[1;32m----> 9\u001b[1;33m \u001b[0mmy_coro\u001b[0m\u001b[1;33m.\u001b[0m\u001b[0msend\u001b[0m\u001b[1;33m(\u001b[0m\u001b[1;36m12\u001b[0m\u001b[1;33m)\u001b[0m\u001b[1;33m\u001b[0m\u001b[0m\n\u001b[0m",
      "\u001b[1;31mTypeError\u001b[0m: can't send non-None value to a just-started generator"
     ]
    }
   ],
   "source": [
    "def simple_coroutine():\n",
    "    print('---> coroutine started')\n",
    "    x = yield\n",
    "    print('---> coroutine received:', x)\n",
    "    \n",
    "my_coro = simple_coroutine()\n",
    "print('定义一个生成器')\n",
    "\n",
    "my_coro.send(12)"
   ]
  },
  {
   "cell_type": "markdown",
   "metadata": {},
   "source": [
    "关于调用next(...)函数这一步通常称为”预激(prime)“协程，即让协程向前执行到第一个yield表达式，准备好作为活跃的协程使用"
   ]
  },
  {
   "cell_type": "markdown",
   "metadata": {},
   "source": [
    "### 协程状态"
   ]
  },
  {
   "cell_type": "markdown",
   "metadata": {},
   "source": [
    "协程在运行过程中有四个状态：\n",
    "\n",
    "1. GEN_CREATE:等待开始执行\n",
    "2. GEN_RUNNING:解释器正在执行，这个状态一般看不到\n",
    "3. GEN_SUSPENDED:在yield表达式处暂停\n",
    "4. GEN_CLOSED:执行结束"
   ]
  },
  {
   "cell_type": "code",
   "execution_count": 24,
   "metadata": {},
   "outputs": [
    {
     "name": "stdout",
     "output_type": "stream",
     "text": [
      "GEN_CREATED\n",
      "-->started: a= 10\n",
      "10\n",
      "GEN_SUSPENDED\n",
      "-->recevied: b= 20\n",
      "30\n",
      "-->recevied: c= 30\n",
      "\n",
      "None\n",
      "GEN_CLOSED\n"
     ]
    }
   ],
   "source": [
    "from inspect import getgeneratorstate\n",
    "\n",
    "def simple_coro(a):\n",
    "    print('-->started: a=', a)\n",
    "    b = yield a\n",
    "    print('-->recevied: b=', b)\n",
    "    c = yield a+b\n",
    "    print('-->recevied: c=', c)\n",
    "    \n",
    "coro = simple_coro(10)\n",
    "\n",
    "print(getgeneratorstate(coro))\n",
    "print(next(coro))\n",
    "print(getgeneratorstate(coro))\n",
    "print(coro.send(20))\n",
    "\n",
    "try:\n",
    "    coro.send(30)\n",
    "except StopIteration as e:\n",
    "    print(e)\n",
    "    print(e.value)\n",
    "    \n",
    "print(getgeneratorstate(coro))"
   ]
  },
  {
   "cell_type": "markdown",
   "metadata": {},
   "source": [
    "想要开始使用协程的时候必须通过next(...)方式激活协程，如果不预激，这个协程就无法使用，\n",
    "\n",
    "如果哪天在代码中遗忘了那么就出问题了，所以有一种预激协程的装饰器，预激装饰器的演示例子::"
   ]
  },
  {
   "cell_type": "code",
   "execution_count": 22,
   "metadata": {},
   "outputs": [
    {
     "name": "stdout",
     "output_type": "stream",
     "text": [
      "GEN_SUSPENDED\n",
      "10.0\n",
      "15.0\n",
      "20.0\n"
     ]
    }
   ],
   "source": [
    "from functools import wraps\n",
    "\n",
    "def coroutine(func):\n",
    "    @wraps(func)\n",
    "    def primer(*args, **kwargs):\n",
    "        gen = func(*args, **kwargs)\n",
    "        next(gen)\n",
    "        return gen\n",
    "    return primer\n",
    "\n",
    "@coroutine\n",
    "def averager():\n",
    "    total = 0.0\n",
    "    count= 0\n",
    "    average = None\n",
    "    while True:\n",
    "        term = yield average\n",
    "        total += term\n",
    "        count += 1\n",
    "        average = total / count\n",
    "  \n",
    "coro_avg = averager()\n",
    "from inspect import getgeneratorstate\n",
    "print(getgeneratorstate(coro_avg))\n",
    "print(coro_avg.send(10))\n",
    "print(coro_avg.send(20))\n",
    "print(coro_avg.send(30))\n"
   ]
  },
  {
   "cell_type": "markdown",
   "metadata": {},
   "source": [
    "关于预激，在使用yield from句法调用协程的时候，会自动预激活，这样其实与我们上面定义的coroutine装饰器是不兼容的，在python3.4里面的asyncio.coroutine装饰器不会预激协程，因此兼容yield from"
   ]
  },
  {
   "cell_type": "markdown",
   "metadata": {},
   "source": [
    "### 中止协程和异常处理"
   ]
  },
  {
   "cell_type": "markdown",
   "metadata": {},
   "source": [
    "协程中为处理的异常会向上冒泡,传给next函数或send函数的调用方(即触发协程的对象)\n",
    "\n",
    "如果我们send一个错误的数据就会报错，并且这个时候协程就被终止了,协程状态是GEN_CLOSED.\n",
    "\n",
    "从python2.5开始客户端代码在生成器对象上调用两个方法: 分别为：throw和close，显示的把异常发送给协程\n",
    "\n",
    "generator.throw:会让生成器在暂停的yield表达式处抛出指定的异常，\n",
    "* 如果生成器处理了抛出的异常，代码会向前执行到下一个yield表达式，而产出的值会成为调用generator.throw方法代码的返回值。\n",
    "* 如果生成器没有处理抛出的异常，异常会向上冒泡，传到调用方的上下文中。\n",
    "\n",
    "generator.close:会让生成器在暂停的yield表达式处抛出GeneratorExit异常。\n",
    "* 如果生成器没有处理这个异常，或者抛出了StopIteration异常，调用方不会报错\n",
    "* 如果收到GeneratorExit异常，生成器一定不能产出值，否则解释器会抛出RuntimeError异常。生成器抛出的异常会向上冒泡，传给调用方。"
   ]
  },
  {
   "cell_type": "code",
   "execution_count": 26,
   "metadata": {},
   "outputs": [
    {
     "name": "stdout",
     "output_type": "stream",
     "text": [
      "--> coroutine started\n",
      "-->coroutiine received:10\n",
      "-->coroutiine received:20\n",
      "-->coroutiine received:30\n"
     ]
    },
    {
     "ename": "TypeError",
     "evalue": "",
     "output_type": "error",
     "traceback": [
      "\u001b[1;31m---------------------------------------------------------------------------\u001b[0m",
      "\u001b[1;31mTypeError\u001b[0m                                 Traceback (most recent call last)",
      "\u001b[1;32m<ipython-input-26-0d8be3815885>\u001b[0m in \u001b[0;36m<module>\u001b[1;34m()\u001b[0m\n\u001b[0;32m     25\u001b[0m \u001b[0mexc_coro\u001b[0m\u001b[1;33m.\u001b[0m\u001b[0msend\u001b[0m\u001b[1;33m(\u001b[0m\u001b[1;36m30\u001b[0m\u001b[1;33m)\u001b[0m\u001b[1;33m\u001b[0m\u001b[0m\n\u001b[0;32m     26\u001b[0m \u001b[1;33m\u001b[0m\u001b[0m\n\u001b[1;32m---> 27\u001b[1;33m \u001b[0mexc_coro\u001b[0m\u001b[1;33m.\u001b[0m\u001b[0mthrow\u001b[0m\u001b[1;33m(\u001b[0m\u001b[0mTypeError\u001b[0m\u001b[1;33m)\u001b[0m\u001b[1;33m\u001b[0m\u001b[0m\n\u001b[0m\u001b[0;32m     28\u001b[0m \u001b[1;33m\u001b[0m\u001b[0m\n\u001b[0;32m     29\u001b[0m \u001b[1;32mfrom\u001b[0m \u001b[0minspect\u001b[0m \u001b[1;32mimport\u001b[0m \u001b[0mgetgeneratorstate\u001b[0m\u001b[1;33m\u001b[0m\u001b[0m\n",
      "\u001b[1;32m<ipython-input-26-0d8be3815885>\u001b[0m in \u001b[0;36mdemo_exc_handling\u001b[1;34m()\u001b[0m\n\u001b[0;32m      7\u001b[0m     \u001b[1;32mwhile\u001b[0m \u001b[1;32mTrue\u001b[0m\u001b[1;33m:\u001b[0m\u001b[1;33m\u001b[0m\u001b[0m\n\u001b[0;32m      8\u001b[0m         \u001b[1;32mtry\u001b[0m\u001b[1;33m:\u001b[0m\u001b[1;33m\u001b[0m\u001b[0m\n\u001b[1;32m----> 9\u001b[1;33m             \u001b[0mx\u001b[0m \u001b[1;33m=\u001b[0m \u001b[1;32myield\u001b[0m\u001b[1;33m\u001b[0m\u001b[0m\n\u001b[0m\u001b[0;32m     10\u001b[0m         \u001b[1;32mexcept\u001b[0m \u001b[0mDemoException\u001b[0m\u001b[1;33m:\u001b[0m\u001b[1;33m\u001b[0m\u001b[0m\n\u001b[0;32m     11\u001b[0m             \u001b[0mprint\u001b[0m\u001b[1;33m(\u001b[0m\u001b[1;34m'DemoException handled. continuing...'\u001b[0m\u001b[1;33m)\u001b[0m\u001b[1;33m\u001b[0m\u001b[0m\n",
      "\u001b[1;31mTypeError\u001b[0m: "
     ]
    }
   ],
   "source": [
    "class DemoException(Exception):\n",
    "    \"\"\"定义异常类型\"\"\"\n",
    "    pass\n",
    "\n",
    "def demo_exc_handling():\n",
    "    print('--> coroutine started')\n",
    "    while True:\n",
    "        try:\n",
    "            x = yield\n",
    "        except DemoException:\n",
    "            print('DemoException handled. continuing...')\n",
    "        else:\n",
    "            print('-->coroutiine received:{!r}'.format(x))\n",
    "    raise RuntimeError('this line should never run.')\n",
    " \n",
    "\n",
    "exc_coro = demo_exc_handling()\n",
    "\n",
    "next(exc_coro)\n",
    "\n",
    "exc_coro.send(10)\n",
    "\n",
    "exc_coro.send(20)\n",
    "\n",
    "exc_coro.send(30)\n",
    "\n",
    "exc_coro.throw(TypeError)\n",
    "\n",
    "from inspect import getgeneratorstate\n",
    "\n",
    "getgeneratorstate(exc_coro)"
   ]
  },
  {
   "cell_type": "markdown",
   "metadata": {},
   "source": [
    "当传入我们定义的异常时不会影响协程，协程不会停止，可以继续send,但是如果是没有处理的异常的时候，就会报错，并且协程会被终止"
   ]
  },
  {
   "cell_type": "code",
   "execution_count": null,
   "metadata": {},
   "outputs": [],
   "source": [
    "'''gevent对协程的支持,本质上是greenlet在实现切换工作,'''\n",
    "\n",
    "# gevent使用流程\n",
    "# spawn方法可以看作是创建一个协程, joinall方法可以看作是添加任务,并启动运行协程\n",
    "import requests\n",
    "import gevent\n",
    "from gevent import monkey\n",
    "monkey.patch_all()\n",
    "\n",
    "\n",
    "def run_task(url):\n",
    "    try:\n",
    "        r = requests.get(url)\n",
    "    except Exception as e:\n",
    "        print(e)\n",
    "\n",
    "if __name__ == '__main__':\n",
    "    urls = ['url1', 'url2', 'url3']\n",
    "    greenlets = [gevent.spawn(run_task, url) for url in urls]\n",
    "    gevent.joinall(greenlets)\n",
    "\n",
    "\n",
    "# 协程池的使用\n",
    "# -*- coding:utf-8 -*-\n",
    "import gevent\n",
    "from gevent import monkey\n",
    "from gevent.pool import Pool\n",
    "monkey.patch_all()\n",
    "exist_pages = []\n",
    "with open(\"xxxxx.txt\", \"r\", encoding=\"utf-8\") as f:\n",
    "    for line in f:\n",
    "        exist_pages.append(int(line.strip()))\n",
    "\n",
    "\n",
    "def get_page_index():\n",
    "    for page in range(1, 623000):\n",
    "        yield page\n",
    "\n",
    "\n",
    "def record_leak_pages(page):\n",
    "    with open(\"xxxx.txt\", \"a\", encoding=\"utf-8\") as f:\n",
    "        f.write(\"{}\\n\".format(page))\n",
    "\n",
    "\n",
    "def check_page_exist(page):\n",
    "    if page not in exist_pages:\n",
    "        record_leak_pages(page)\n",
    "\n",
    "\n",
    "pool = Pool(200)\n",
    "try:\n",
    "    pool.map(check_page_exist, get_page_index())\n",
    "except Exception as e:\n",
    "    print(e)\n",
    "\n",
    "\n",
    "# asycio使用\n",
    "# asyncio是Python 3.4版本引入的标准库，直接内置了对异步IO的支持。\n",
    "# asyncio的编程模型就是一个消息循环。我们从asyncio模块中直接获取一个EventLoop的引用，\n",
    "# 然后把需要执行的协程扔到EventLoop中执行，就实现了异步IO。\n",
    "# asycio执行一个任务\n",
    "import asyncio\n",
    "\n",
    "@asyncio.coroutine\n",
    "def hello():\n",
    "    print(\"Hello world!\")\n",
    "    # 异步调用asyncio.sleep(1):\n",
    "    r = yield from asyncio.sleep(1)\n",
    "    print(\"Hello again!\")\n",
    "\n",
    "# 获取EventLoop:\n",
    "loop = asyncio.get_event_loop()\n",
    "# 执行coroutine\n",
    "loop.run_until_complete(hello())\n",
    "loop.close()\n",
    "\n",
    "# 使用3.5版本async和await关键字\n",
    "import asyncio\n",
    "async def hello():\n",
    "    print('hello,world')\n",
    "    r=await asyncio.sleep(1)\n",
    "    print('hello,again')\n",
    "\n",
    "loop=asyncio.get_event_loop()\n",
    "loop.run_until_complete(hello())\n",
    "loop.close()\n",
    "\n",
    "# asycio执行多个任务\n",
    "import threading\n",
    "import asyncio\n",
    "\n",
    "@asyncio.coroutine\n",
    "def hello():\n",
    "    print('Hello world! (%s)' % threading.currentThread())\n",
    "    yield from asyncio.sleep(1)\n",
    "    print('Hello again! (%s)' % threading.currentThread())\n",
    "\n",
    "loop = asyncio.get_event_loop()\n",
    "tasks = [hello(), hello()]\n",
    "loop.run_until_complete(asyncio.wait(tasks))\n",
    "loop.close()\n",
    "\n",
    "# 使用asycio异步网络连接来获取sina、sohu和163的网站首页,并打印header内容\n",
    "\n",
    "import asyncio\n",
    "\n",
    "@asyncio.coroutine\n",
    "def wget(host):\n",
    "    print('wget %s...' % host)\n",
    "    connect = asyncio.open_connection(host, 80)\n",
    "    reader, writer = yield from connect\n",
    "    header = 'GET / HTTP/1.0\\r\\nHost: %s\\r\\n\\r\\n' % host\n",
    "    writer.write(header.encode('utf-8'))\n",
    "    yield from writer.drain()\n",
    "    while True:\n",
    "        line = yield from reader.readline()\n",
    "        if line == b'\\r\\n':\n",
    "            break\n",
    "        print('%s header > %s' % (host, line.decode('utf-8').rstrip()))\n",
    "    # Ignore the body, close the socket\n",
    "    writer.close()\n",
    "\n",
    "loop = asyncio.get_event_loop()\n",
    "tasks = [wget(host) for host in ['www.sina.com.cn', 'www.sohu.com', 'www.163.com']]\n",
    "loop.run_until_complete(asyncio.wait(tasks))\n",
    "loop.close()"
   ]
  }
 ],
 "metadata": {
  "kernelspec": {
   "display_name": "Python 3",
   "language": "python",
   "name": "python3"
  },
  "language_info": {
   "codemirror_mode": {
    "name": "ipython",
    "version": 3
   },
   "file_extension": ".py",
   "mimetype": "text/x-python",
   "name": "python",
   "nbconvert_exporter": "python",
   "pygments_lexer": "ipython3",
   "version": "3.6.4"
  }
 },
 "nbformat": 4,
 "nbformat_minor": 2
}
