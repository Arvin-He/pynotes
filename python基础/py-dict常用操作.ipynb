{
 "cells": [
  {
   "cell_type": "markdown",
   "metadata": {},
   "source": [
    "# dict操作"
   ]
  },
  {
   "cell_type": "code",
   "execution_count": 4,
   "metadata": {},
   "outputs": [
    {
     "name": "stdout",
     "output_type": "stream",
     "text": [
      "{'time': None, 'PID': None, 'account': None, 'CPU': None, 'memory': None, 'kB_rd/s': None, 'kB_wr/s': None, 'CLI': None, 'md5': None}\n",
      "{'time': None, 'PID': None, 'account': None, 'CPU': None, 'memory': None, 'kB_rd/s': None, 'kB_wr/s': None, 'CLI': None, 'md5': None}\n"
     ]
    }
   ],
   "source": [
    "KEYS = ['time', 'PID', 'account', 'CPU', 'memory', 'kB_rd/s', 'kB_wr/s', 'CLI', 'md5']\n",
    "VALUES = [None]*len(KEYS)\n",
    "data = dict(zip(KEYS, VALUES))\n",
    "\n",
    "print(data)\n",
    "\n",
    "data = dict.fromkeys(KEYS, None)\n",
    "\n",
    "print(data)"
   ]
  },
  {
   "cell_type": "markdown",
   "metadata": {},
   "source": [
    "### 创建一个（不）含默认值的字典"
   ]
  },
  {
   "cell_type": "code",
   "execution_count": 3,
   "metadata": {},
   "outputs": [
    {
     "name": "stdout",
     "output_type": "stream",
     "text": [
      "{'a': 123, 'b': 123, 'c': 123}\n"
     ]
    }
   ],
   "source": [
    "kk = ['a', 'b', 'c']\n",
    "print(dict.fromkeys(kk, 123))"
   ]
  },
  {
   "cell_type": "code",
   "execution_count": 11,
   "metadata": {},
   "outputs": [
    {
     "name": "stdout",
     "output_type": "stream",
     "text": [
      "{'time': '11:43:15', 'PID': '1', 'account': 'root', 'CPU': '0.01', 'memory': '0.05', 'kB_rd/s': '20.64', 'kB_wr/s': '4.97', 'CLI': '/sbin/init ', 'md5': '249b19aaa268143c3a0b3d6aa9faa070', 0: 'edc'}\n"
     ]
    }
   ],
   "source": [
    "from itertools import zip_longest\n",
    "\n",
    "KEYS = ['time', 'PID', 'account', 'CPU', 'memory', 'kB_rd/s', 'kB_wr/s', 'CLI', 'md5']\n",
    "line = b'11:43:15,1,root,0.01,0.05,20.64,4.97,/sbin/init ,249b19aaa268143c3a0b3d6aa9faa070,abc,edc'\n",
    "details = line.split(b',')\n",
    "data = {}\n",
    "for k, v in zip_longest(KEYS, details, fillvalue=0):\n",
    "    data[k] = v.decode()\n",
    "    \n",
    "print(data)"
   ]
  },
  {
   "cell_type": "code",
   "execution_count": 23,
   "metadata": {},
   "outputs": [
    {
     "name": "stdout",
     "output_type": "stream",
     "text": [
      "{'time': '11:43:15', 'PID': '1', 'account': 'root', 'CPU': '0.01', 'memory': '0.05', 'kB_rd/s': '20.64', 'kB_wr/s': '4.97', 'CLI': '/sbin/init', 'md5': '249b19aaa268143c3a0b3d6aa9faa070', '0': 'edc'}\n",
      "{'time': 1533872595, 'PID': 1, 'account': 'root', 'CPU': 0.01, 'memory': 0.05, 'kB_rd/s': 20.64, 'kB_wr/s': 4.97, 'CLI': '/sbin/init', 'md5': '249b19aaa268143c3a0b3d6aa9faa070'}\n"
     ]
    },
    {
     "data": {
      "text/plain": [
       "{'time': 1533872595,\n",
       " 'PID': 1,\n",
       " 'account': 'root',\n",
       " 'CPU': 0.01,\n",
       " 'memory': 0.05,\n",
       " 'kB_rd/s': 20.64,\n",
       " 'kB_wr/s': 4.97,\n",
       " 'CLI': '/sbin/init',\n",
       " 'md5': '249b19aaa268143c3a0b3d6aa9faa070'}"
      ]
     },
     "execution_count": 23,
     "metadata": {},
     "output_type": "execute_result"
    }
   ],
   "source": [
    "import time\n",
    "from datetime import datetime, date\n",
    "from itertools import zip_longest\n",
    "\n",
    "line = b'11:43:15,1,root,0.01,0.05,20.64,4.97,/sbin/init ,249b19aaa268143c3a0b3d6aa9faa070,abc,edc'\n",
    "\n",
    "def _handle_process_detail(line):\n",
    "    data = {}\n",
    "    KEYS = ['time', 'PID', 'account', 'CPU', 'memory', 'kB_rd/s', 'kB_wr/s', 'CLI', 'md5']\n",
    "    details = line.split(b',')\n",
    "    for k, v in zip_longest(KEYS, details, fillvalue='0'):\n",
    "        try:\n",
    "            data[k] = v.decode().strip()\n",
    "        except Exception as e:\n",
    "            data[k] = v\n",
    "    print(data)\n",
    "    result = formatter_data(data)\n",
    "    print(result)\n",
    "    return result\n",
    "\n",
    "\n",
    "def datetime_2_timestamp(str_date_time, date_type='datetime'):\n",
    "    \"\"\"字符串datetime/date转时间戳,精确到秒\"\"\"\n",
    "    if date_type == 'datetime':\n",
    "        date_time = datetime.strptime(str_date_time, \"%Y-%m-%d %H:%M:%S\")\n",
    "    else:\n",
    "        date_time = datetime.strptime(str_date_time, \"%Y-%m-%d\")\n",
    "    timestamp = str(int(time.mktime(date_time.timetuple())))\n",
    "    return timestamp\n",
    "\n",
    "\n",
    "def formatter_data(data):\n",
    "    date_time = '{} {}'.format(date.today(), data['time'])\n",
    "    data['time'] = datetime_2_timestamp(date_time)\n",
    "    if '0' in data:\n",
    "        data.pop('0')\n",
    "    for k, v in data.items():\n",
    "        try:\n",
    "            if isinstance(eval(v), int):\n",
    "                data[k] = int(v)\n",
    "            elif isinstance(eval(v), float):\n",
    "                data[k] = float(v)\n",
    "        except Exception as e:\n",
    "            data[k] = v\n",
    "    return data\n",
    "\n",
    "_handle_process_detail(line)"
   ]
  },
  {
   "cell_type": "markdown",
   "metadata": {},
   "source": [
    "database: asset (资产)\n",
    "\n",
    "collections:    \n",
    "* process: 进程信息\n",
    "* port: 开放端口\n",
    "* account: 账户信息\n",
    "* schedule: 定时任务\n",
    "* boot: 开机启动\n"
   ]
  },
  {
   "cell_type": "code",
   "execution_count": 18,
   "metadata": {},
   "outputs": [
    {
     "ename": "NameError",
     "evalue": "name 'root' is not defined",
     "output_type": "error",
     "traceback": [
      "\u001b[1;31m---------------------------------------------------------------------------\u001b[0m",
      "\u001b[1;31mNameError\u001b[0m                                 Traceback (most recent call last)",
      "\u001b[1;32m<ipython-input-18-5b96c9b29fcc>\u001b[0m in \u001b[0;36m<module>\u001b[1;34m()\u001b[0m\n\u001b[1;32m----> 1\u001b[1;33m \u001b[0meval\u001b[0m\u001b[1;33m(\u001b[0m\u001b[1;34m'root'\u001b[0m\u001b[1;33m)\u001b[0m\u001b[1;33m\u001b[0m\u001b[0m\n\u001b[0m",
      "\u001b[1;32m<string>\u001b[0m in \u001b[0;36m<module>\u001b[1;34m()\u001b[0m\n",
      "\u001b[1;31mNameError\u001b[0m: name 'root' is not defined"
     ]
    }
   ],
   "source": [
    "eval('root')"
   ]
  },
  {
   "cell_type": "code",
   "execution_count": null,
   "metadata": {},
   "outputs": [],
   "source": []
  }
 ],
 "metadata": {
  "kernelspec": {
   "display_name": "Python 3",
   "language": "python",
   "name": "python3"
  },
  "language_info": {
   "codemirror_mode": {
    "name": "ipython",
    "version": 3
   },
   "file_extension": ".py",
   "mimetype": "text/x-python",
   "name": "python",
   "nbconvert_exporter": "python",
   "pygments_lexer": "ipython3",
   "version": "3.6.4"
  }
 },
 "nbformat": 4,
 "nbformat_minor": 2
}
