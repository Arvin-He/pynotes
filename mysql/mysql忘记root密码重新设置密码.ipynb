{
 "cells": [
  {
   "cell_type": "markdown",
   "metadata": {},
   "source": [
    "# mysql忘记root密码重新设置密码"
   ]
  },
  {
   "cell_type": "markdown",
   "metadata": {},
   "source": [
    "### windows下"
   ]
  },
  {
   "cell_type": "markdown",
   "metadata": {},
   "source": [
    "1. 以系统管理员身份运行cmd.(注意: 一定要是在管理员身份运行的cmd)\n",
    "\n",
    "2. 查看mysql是否已经启动，如果已经启动，就停止：net stop mysql.\n",
    "\n",
    "3. 切换到MySQL安装路径下的bin文件夹；如果已经配了环境变量，则跳过这一步。\n",
    "\n",
    "4. 在命令行输入：mysqld -nt --skip-grant-tables\n",
    "\n",
    "5. **重启以管理员身份运行一个新的cmd**，输入：`mysql -uroot -p`，Enter进入数据库。\n",
    "\n",
    "6. 如果不想改密码，只是想看原来的密码的话，可以在命令行执行这个语句(没有多大意义,看到的是密码不是明文)\n",
    "\n",
    "7. `select host,user,authentication_string from mysql.user;`//即可查看到用户和密码\n",
    "\n",
    "8. 如果要修改密码的话，在命令行下 依次 执行下面的语句\n",
    "\n",
    "```bash\n",
    "use mysql;\n",
    "update user set authentication_string=password(\"new_pass\") where user=\"root\";// 'new_pass' 这里改为你要设置的密码\n",
    "flush privileges;\n",
    "exit\n",
    "```\n",
    "\n",
    "9. 重新启动MYSQL，输入密码登录即可！\n",
    "\n"
   ]
  }
 ],
 "metadata": {
  "kernelspec": {
   "display_name": "Python 3",
   "language": "python",
   "name": "python3"
  },
  "language_info": {
   "codemirror_mode": {
    "name": "ipython",
    "version": 3
   },
   "file_extension": ".py",
   "mimetype": "text/x-python",
   "name": "python",
   "nbconvert_exporter": "python",
   "pygments_lexer": "ipython3",
   "version": "3.6.4"
  }
 },
 "nbformat": 4,
 "nbformat_minor": 2
}
