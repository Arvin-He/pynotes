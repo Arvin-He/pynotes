{
 "cells": [
  {
   "cell_type": "markdown",
   "metadata": {},
   "source": [
    "# numpy教程-数组操作"
   ]
  },
  {
   "cell_type": "markdown",
   "metadata": {},
   "source": [
    "NumPy包中有几个例程用于处理ndarray对象中的元素。 它们可以分为以下类型：\n",
    "\n",
    "1.\treshape  不改变数据的条件下修改形状\n",
    "    `numpy.reshape(arr, newshape, order')`\n",
    "    * arr：要修改形状的数组\n",
    "    * newshape：整数或者整数数组，新的形状应当兼容原有形状\n",
    "    * order：'C'为 C 风格顺序，'F'为 F 风格顺序，'A'为保留原顺序。\n",
    "\n",
    "2.\tflat    数组上的一维迭代器\n",
    "\n",
    "3.\tflatten  返回折叠为一维的数组副本\n",
    "    `ndarray.flatten(order)`\n",
    "    * order：'C' – 按行，'F' – 按列，'A' – 原顺序，'k' – 元素在内存中的出现顺序。\n",
    "    \n",
    "4.\travel   返回连续的展开数组,并且按需生成副本。返回的数组和输入数组拥有相同数据类型。\n",
    "    `numpy.ravel(a, order)`\n",
    "    * order：'C' – 按行，'F' – 按列，'A' – 原顺序，'k' – 元素在内存中的出现顺序。"
   ]
  },
  {
   "cell_type": "code",
   "execution_count": 4,
   "metadata": {},
   "outputs": [
    {
     "name": "stdout",
     "output_type": "stream",
     "text": [
      "[0 1 2 3 4 5 6 7]\n",
      "改变数组形状:\n",
      "[[0 1]\n",
      " [2 3]\n",
      " [4 5]\n",
      " [6 7]]\n",
      "使用 flat 函数之后\n",
      "5\n",
      "使用flatten展开数组:\n",
      "[0 1 2 3 4 5 6 7]\n",
      "以 F 风格顺序展开数组:\n",
      "[0 4 1 5 2 6 3 7]\n",
      "使用ravel函数展开数组:\n",
      "[0 1 2 3 4 5 6 7]\n",
      "以 F 风格顺序调用ravel函数展开数组:\n",
      "[0 4 1 5 2 6 3 7]\n"
     ]
    }
   ],
   "source": [
    "import numpy as np\n",
    "\n",
    "a = np.arange(8)\n",
    "\n",
    "print(a)\n",
    "\n",
    "print('改变数组形状:')\n",
    "b = a.reshape(4, 2)\n",
    "print(b)\n",
    "\n",
    "a = np.arange(8).reshape(2, 4)\n",
    "print('使用 flat 函数之后')\n",
    "print(a.flat[5])\n",
    "\n",
    "print('使用flatten展开数组:')\n",
    "print(b.flatten())\n",
    "\n",
    "print('以 F 风格顺序展开数组:')\n",
    "print(a.flatten(order='F'))\n",
    "\n",
    "print('使用ravel函数展开数组:')\n",
    "print(b.ravel())\n",
    "\n",
    "print('以 F 风格顺序调用ravel函数展开数组:')\n",
    "print(a.ravel(order='F'))"
   ]
  },
  {
   "cell_type": "markdown",
   "metadata": {},
   "source": [
    "### 数组翻转操作"
   ]
  },
  {
   "cell_type": "markdown",
   "metadata": {},
   "source": [
    "1.\ttranspose 翻转数组的维度,就是矩阵转置\n",
    "    `numpy.transpose(arr, axes)`\n",
    "    * arr：要转置的数组\n",
    "    * axes：整数的列表，对应维度，通常所有维度都会翻转。\n",
    "    \n",
    "2.\tndarray.T 和self.transpose()相同\n",
    "\n",
    "3.\trollaxis 该函数向后滚动特定的轴，直到一个特定位置\n",
    "    `numpy.rollaxis(arr, axis, start)`\n",
    "    * arr：输入数组\n",
    "    * axis：要向后滚动的轴，其它轴的相对位置不会改变\n",
    "    * start：默认为零，表示完整的滚动。会滚动到特定位置。\n",
    "    \n",
    "4.\tswapaxes 互换数组的两个轴\n",
    "    `numpy.swapaxes(arr, axis1, axis2)`\n",
    "    * arr：要交换其轴的输入数组\n",
    "    * axis1：对应第一个轴的整数\n",
    "    * axis2：对应第二个轴的整数"
   ]
  },
  {
   "cell_type": "code",
   "execution_count": 15,
   "metadata": {},
   "outputs": [
    {
     "name": "stdout",
     "output_type": "stream",
     "text": [
      "[[ 0  1  2  3]\n",
      " [ 4  5  6  7]\n",
      " [ 8  9 10 11]]\n",
      "使用 transpose 转置:\n",
      "[[ 0  4  8]\n",
      " [ 1  5  9]\n",
      " [ 2  6 10]\n",
      " [ 3  7 11]]\n",
      "使用 T 转置:\n",
      "[[ 0  4  8]\n",
      " [ 1  5  9]\n",
      " [ 2  6 10]\n",
      " [ 3  7 11]]\n",
      "使用rollaxis函数:\n",
      "[[ 0  4  8]\n",
      " [ 1  5  9]\n",
      " [ 2  6 10]\n",
      " [ 3  7 11]]\n",
      "创建三维的 ndarray:\n",
      "[[[0 1]\n",
      "  [2 3]]\n",
      "\n",
      " [[4 5]\n",
      "  [6 7]]]\n",
      "调用 rollaxis 函数：将轴 2 滚动到轴 0（宽度到深度）\n",
      "[[[0 2]\n",
      "  [4 6]]\n",
      "\n",
      " [[1 3]\n",
      "  [5 7]]]\n",
      "调用 rollaxis 函数：将轴 2 滚动到轴 1（宽度到深度）\n",
      "[[[0 2]\n",
      "  [1 3]]\n",
      "\n",
      " [[4 6]\n",
      "  [5 7]]]\n",
      "调用swapaxes交换轴:\n",
      "[[[0 4]\n",
      "  [2 6]]\n",
      "\n",
      " [[1 5]\n",
      "  [3 7]]]\n"
     ]
    }
   ],
   "source": [
    "import numpy as np\n",
    "\n",
    "a = np.arange(12).reshape(3, 4)\n",
    "\n",
    "print(a)\n",
    "\n",
    "print('使用 transpose 转置:')\n",
    "print(np.transpose(a))\n",
    "\n",
    "print('使用 T 转置:')\n",
    "print(a.T)\n",
    "\n",
    "print('使用rollaxis函数:')\n",
    "print(np.rollaxis(a, 1))\n",
    "\n",
    "print('创建三维的 ndarray:')\n",
    "a = np.arange(8).reshape(2,2,2)\n",
    "print(a)\n",
    "print('调用 rollaxis 函数：将轴 2 滚动到轴 0（宽度到深度）')\n",
    "print(np.rollaxis(a, 2))\n",
    "\n",
    "print('调用 rollaxis 函数：将轴 2 滚动到轴 1（宽度到深度）')\n",
    "print(np.rollaxis(a, 2, 1))\n",
    "\n",
    "print('调用swapaxes交换轴:')\n",
    "print(np.swapaxes(a, 2, 0))"
   ]
  },
  {
   "cell_type": "markdown",
   "metadata": {},
   "source": [
    "### 修改数组维度"
   ]
  },
  {
   "cell_type": "markdown",
   "metadata": {},
   "source": [
    "1.\tbroadcast 产生模仿广播的对象\n",
    "2.\tbroadcast_to 将数组广播到新形状\n",
    "3.\texpand_dims 扩展数组的形状\n",
    "4.\tsqueeze 从数组的形状中删除单维条目"
   ]
  }
 ],
 "metadata": {
  "kernelspec": {
   "display_name": "Python 3",
   "language": "python",
   "name": "python3"
  },
  "language_info": {
   "codemirror_mode": {
    "name": "ipython",
    "version": 3
   },
   "file_extension": ".py",
   "mimetype": "text/x-python",
   "name": "python",
   "nbconvert_exporter": "python",
   "pygments_lexer": "ipython3",
   "version": "3.6.4"
  }
 },
 "nbformat": 4,
 "nbformat_minor": 2
}
