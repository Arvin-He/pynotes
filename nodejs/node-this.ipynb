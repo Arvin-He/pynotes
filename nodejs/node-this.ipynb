{
 "cells": [
  {
   "cell_type": "markdown",
   "metadata": {},
   "source": [
    "# this"
   ]
  },
  {
   "cell_type": "markdown",
   "metadata": {},
   "source": [
    "在函数执行时，this 总是指向调用该函数的对象。\n",
    "\n",
    "要判断 this 的指向，其实就是判断 this 所在的函数属于谁。\n",
    "\n",
    "在《javaScript语言精粹》这本书中，把 this 出现的场景分为四类，简单的说就是：\n",
    "\n",
    "* 有对象就指向调用对象\n",
    "* 没调用对象就指向全局对象\n",
    "* 用new构造就指向新对象\n",
    "* 通过 apply 或 call 或 bind 来改变 this 的所指。"
   ]
  },
  {
   "cell_type": "markdown",
   "metadata": {},
   "source": [
    "1. 函数有所属对象时：指向所属对象, 函数有所属对象时，通常通过 . 调用，这时 this 自然指向所属对象。\n",
    "```js\n",
    "var myObject = {value: 100};\n",
    "myObject.getValue = function () {\n",
    "  console.log(this.value);  // 输出 100\n",
    "  console.log(this); // 输出 { value: 100, getValue: [Function] }，其实就是 myObject 对象本身\n",
    "  return this.value;\n",
    "};\n",
    "console.log(myObject.getValue()); // => 100\n",
    "```\n",
    "getValue() 属于对象 myObject，并由 myOjbect 进行 . 调用，因此 this 指向对象 myObject。\n",
    "\n",
    "\n",
    "2. 函数没有所属对象：指向全局对象\n",
    "\n",
    "```js\n",
    "var myObject = {value: 100};\n",
    "myObject.getValue = function () {\n",
    "  var foo = function () {\n",
    "    console.log(this.value) // => undefined\n",
    "    console.log(this);    // 输出全局对象 global\n",
    "  };\n",
    "  foo();\n",
    "  return this.value;\n",
    "};\n",
    "console.log(myObject.getValue()); // => 100\n",
    "```\n",
    "在上述代码块中，foo 函数虽然定义在 getValue 的函数体内，但实际上它既不属于 getValue 也不属于 myObject。foo 并没有被绑定在任何对象上，所以当调用时，它的 this 指针指向了全局对象 global。\n",
    "\n",
    "据说这是个设计错误。\n",
    "\n",
    "3. 构造器中的 this：指向新对象\n",
    "\n",
    "js 中，我们通过 new 关键词来调用构造函数，此时 this 会绑定在该新对象上。\n",
    "\n",
    "```js\n",
    "var SomeClass = function(){\n",
    "  this.value = 100;\n",
    "}\n",
    "var myCreate = new SomeClass();\n",
    "console.log(myCreate.value); // 输出100\n",
    "```\n",
    "\n",
    "顺便说一句，在 js 中，构造函数、普通函数、对象方法、闭包，这四者没有明确界线。界线都在人的心中。\n",
    "\n",
    "4. apply 和 call 调用以及 bind 绑定：指向绑定的对象\n",
    "    * apply() 方法接受两个参数第一个是函数运行的作用域，另外一个是一个参数数组(arguments)。\n",
    "    * call() 方法第一个参数的意义与 apply() 方法相同，只是其他的参数需要一个个列举出来。\n",
    "\n",
    "call 的方式更接近我们平时调用函数，而 apply 需要我们传递 Array 形式的数组给它。它们是可以互相转换的。\n",
    "```js\n",
    "var myObject = {value: 100};\n",
    "\n",
    "var foo = function(){\n",
    "  console.log(this);\n",
    "};\n",
    "\n",
    "foo(); // 全局变量 global\n",
    "foo.apply(myObject); // { value: 100 }\n",
    "foo.call(myObject); // { value: 100 }\n",
    "\n",
    "var newFoo = foo.bind(myObject);\n",
    "newFoo(); // { value: 100 }\n",
    "```"
   ]
  }
 ],
 "metadata": {
  "kernelspec": {
   "display_name": "Python 3",
   "language": "python",
   "name": "python3"
  },
  "language_info": {
   "codemirror_mode": {
    "name": "ipython",
    "version": 3
   },
   "file_extension": ".py",
   "mimetype": "text/x-python",
   "name": "python",
   "nbconvert_exporter": "python",
   "pygments_lexer": "ipython3",
   "version": "3.6.4"
  }
 },
 "nbformat": 4,
 "nbformat_minor": 2
}
