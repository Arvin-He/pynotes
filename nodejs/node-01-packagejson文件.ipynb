{
 "cells": [
  {
   "cell_type": "markdown",
   "metadata": {},
   "source": [
    "# package.json"
   ]
  },
  {
   "cell_type": "markdown",
   "metadata": {},
   "source": [
    "package.json 文件定义了项目的各种元信息，包括项目的名称，git repo 的地址，作者等等。\n",
    "\n",
    "最重要的是，定义了项目的依赖，这样这个项目在部署时，就不必将 node_modules 目录也上传到服务器.\n",
    "\n",
    "只需要执行 `npm install`，则 npm 会自动读取 package.json 中的依赖并安装在项目的 node_modules 下面，然后程序就可以跑起来了。"
   ]
  },
  {
   "cell_type": "markdown",
   "metadata": {},
   "source": [
    "### 生成package.json"
   ]
  },
  {
   "cell_type": "markdown",
   "metadata": {},
   "source": [
    "1. 在终端cd到项目根目录\n",
    "2. npm init\n",
    "\n",
    "npm init 这个命令的作用就是帮我们互动式地生成一份最简单的 package.json 文件"
   ]
  },
  {
   "cell_type": "markdown",
   "metadata": {},
   "source": [
    "### 安装依赖"
   ]
  },
  {
   "cell_type": "markdown",
   "metadata": {},
   "source": [
    "安装 express 和 utility 两个模块依赖\n",
    "`npm install express utility --save`\n",
    "\n",
    "`--save` 参数作用: 就是会在你安装依赖的同时，自动把这些依赖写入 package.json。\n",
    "\n",
    "命令执行完成之后，查看 package.json，会发现多了一个 dependencies 字段"
   ]
  }
 ],
 "metadata": {
  "kernelspec": {
   "display_name": "Python 3",
   "language": "python",
   "name": "python3"
  },
  "language_info": {
   "codemirror_mode": {
    "name": "ipython",
    "version": 3
   },
   "file_extension": ".py",
   "mimetype": "text/x-python",
   "name": "python",
   "nbconvert_exporter": "python",
   "pygments_lexer": "ipython3",
   "version": "3.6.4"
  }
 },
 "nbformat": 4,
 "nbformat_minor": 2
}
