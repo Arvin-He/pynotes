{
 "cells": [
  {
   "cell_type": "markdown",
   "metadata": {},
   "source": [
    "# NPM"
   ]
  },
  {
   "cell_type": "markdown",
   "metadata": {},
   "source": [
    " npm，它是 Node.js 的包管理器，类似 Python 的 pip\n",
    " \n",
    " npm 并不需要独立安装，它在 node 安装的时候已经附带。\n",
    " \n",
    " `npm -v // 6.4.1`"
   ]
  },
  {
   "cell_type": "markdown",
   "metadata": {},
   "source": [
    "### 升级npm"
   ]
  },
  {
   "cell_type": "markdown",
   "metadata": {},
   "source": [
    "更新到最新版本: `npm install -g npm`\n",
    "\n",
    "更新到指定版本: `npm -g install npm@5.6.0` （@后面加指定版本号）"
   ]
  },
  {
   "cell_type": "markdown",
   "metadata": {},
   "source": [
    "### cnpm"
   ]
  },
  {
   "cell_type": "markdown",
   "metadata": {},
   "source": [
    "由于国内的网络问题，使用 npm 下载模块有时会非常的慢。cnpm 是淘宝提供的一个 npm 镜像，用法和 npm 一样。\n",
    "\n",
    "`npm install -g cnpm --registry=https://registry.npm.taobao.org`"
   ]
  },
  {
   "cell_type": "markdown",
   "metadata": {},
   "source": [
    "### .npmrc"
   ]
  },
  {
   "cell_type": "markdown",
   "metadata": {},
   "source": [
    "另一种种提升下载速度的办法，可以设置代理，通过 ~/.npmrc 文件。\n",
    "```\n",
    "registry=https://registry.npm.taobao.org/\n",
    "disturl=https://npm.taobao.org/dist\n",
    "```"
   ]
  },
  {
   "cell_type": "markdown",
   "metadata": {},
   "source": [
    "### 初始化"
   ]
  },
  {
   "cell_type": "markdown",
   "metadata": {},
   "source": [
    "在使用 npm 安装模块之前，需要进行初始化，我们建立一个项目工程 test，进入项目目录，然后运行 npm init 填写配置信息。如果成功， test 目录会多出一个 package.json 文件，它是 项目的配置文件，由 npm 管理控制。\n",
    "\n",
    "`npm init // 初始化`"
   ]
  },
  {
   "cell_type": "markdown",
   "metadata": {},
   "source": [
    "### package.json"
   ]
  },
  {
   "cell_type": "markdown",
   "metadata": {},
   "source": [
    "package.json 文件定义了项目的各种元信息，包括项目的名称，git repo 的地址，作者等等。\n",
    "\n",
    "最重要的是，定义了项目的依赖，这样这个项目在部署时，就不必将 node_modules 目录也上传到服务器.\n",
    "\n",
    "只需要执行 `npm install`，则 npm 会自动读取 package.json 中的依赖并安装在项目的 node_modules 下面，然后程序就可以跑起来了。"
   ]
  },
  {
   "cell_type": "markdown",
   "metadata": {},
   "source": [
    "### 生成package.json"
   ]
  },
  {
   "cell_type": "markdown",
   "metadata": {},
   "source": [
    "1. 在终端cd到项目根目录\n",
    "2. npm init\n",
    "\n",
    "npm init 这个命令的作用就是帮我们互动式地生成一份最简单的 package.json 文件"
   ]
  },
  {
   "cell_type": "markdown",
   "metadata": {},
   "source": [
    "### 安装模块"
   ]
  },
  {
   "cell_type": "markdown",
   "metadata": {},
   "source": [
    "安装 express 和 utility 两个模块依赖\n",
    "`npm install express utility --save`\n",
    "\n",
    "`--save` 参数作用: 就是会在你安装依赖的同时，自动把这些依赖写入 package.json。\n",
    "\n",
    "命令执行完成之后，查看 package.json，会发现多了一个 dependencies 字段"
   ]
  },
  {
   "cell_type": "markdown",
   "metadata": {},
   "source": [
    "// 安装\n",
    "npm install module // 安装模块到当前工程目录\n",
    "npm install module -g // 全局安装\n",
    "\n",
    "// 查找\n",
    "npm ls module // 查找当前工程目录是否安装某模块\n",
    "npm ls module -g // 全局查找\n",
    "\n",
    "// 卸载\n",
    "npm uninstall module\n",
    "\n",
    "// 更新\n",
    "npm update module"
   ]
  },
  {
   "cell_type": "markdown",
   "metadata": {},
   "source": [
    "### npm i --save 与 npm i --save-dev 的区别"
   ]
  },
  {
   "cell_type": "markdown",
   "metadata": {},
   "source": [
    "* 共同点\n",
    "    1. 两种方式都会安装到node_modules目录中。\n",
    "    2. 两种方式都会保存到package.json文件中。\n",
    "* 区别\n",
    "在package.json文件中，有两个存放模块的对象。\n",
    "```json\n",
    "\"dependencies\": {\n",
    "        \"express\": \"latest\",\n",
    "        \"mongoose\": \"~3.8.3\",\n",
    "        ...\n",
    "\n",
    "    },\n",
    "    \"devDependencies\": {\n",
    "        \"bower\": \"~1.2.8\",\n",
    "        \"grunt\": \"~0.4.1\",\n",
    "        \"browserify\": \"2.36.1\",\n",
    "        \"grunt-browserify\": \"~1.3.0\",\n",
    "        ...\n",
    "    }\n",
    "```\n",
    "\n",
    "`--save`会存放到”dependencies”，而`--save-dev`会存放到”devDependencies”。 \n",
    "\n",
    "`--save`是对生产环境所需依赖的声明(开发应用中使用的框架，库) 比如：jq，react，vue都需要放到这里面 \n",
    "\n",
    "`--save-dev`是对开发环境所需依赖的声明(构建工具，测试工具) 比如：babel，webpack，都放到当前目录"
   ]
  }
 ],
 "metadata": {
  "kernelspec": {
   "display_name": "Python 3",
   "language": "python",
   "name": "python3"
  },
  "language_info": {
   "codemirror_mode": {
    "name": "ipython",
    "version": 3
   },
   "file_extension": ".py",
   "mimetype": "text/x-python",
   "name": "python",
   "nbconvert_exporter": "python",
   "pygments_lexer": "ipython3",
   "version": "3.6.4"
  }
 },
 "nbformat": 4,
 "nbformat_minor": 2
}
