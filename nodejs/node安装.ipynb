{
 "cells": [
  {
   "cell_type": "markdown",
   "metadata": {},
   "source": [
    "# CentOS7 安装nodejs"
   ]
  },
  {
   "cell_type": "markdown",
   "metadata": {},
   "source": [
    "### 安装nodejs"
   ]
  },
  {
   "cell_type": "markdown",
   "metadata": {},
   "source": [
    "#### 方法一"
   ]
  },
  {
   "cell_type": "markdown",
   "metadata": {},
   "source": [
    "`sudo yum install -y nodejs`"
   ]
  },
  {
   "cell_type": "markdown",
   "metadata": {},
   "source": [
    "#### 方法二"
   ]
  },
  {
   "cell_type": "markdown",
   "metadata": {},
   "source": [
    "准备工作:\n",
    "```bash\n",
    "sudo yum -y install gcc make gcc-c++ openssl-devel wget\n",
    "wget http://nodejs.org/dist/v7.6.0/node-v7.6.0-linux-x64.tar.gz\n",
    "tar -zvxf node-v7.6.0-linux-x64.tar.gz\n",
    "```\n",
    "\n",
    "编译及安装：\n",
    "```bash\n",
    "cd node-v7.6.0\n",
    "./configure\n",
    "sudo make\n",
    "sudo make install\n",
    "```"
   ]
  },
  {
   "cell_type": "markdown",
   "metadata": {},
   "source": [
    "#### 方法三"
   ]
  },
  {
   "cell_type": "markdown",
   "metadata": {},
   "source": [
    "安装n模块升级nodejs\n",
    "`sudo npm install -g n`\n",
    "安装成功后执行\n",
    "`sudo n stable`"
   ]
  },
  {
   "cell_type": "markdown",
   "metadata": {},
   "source": [
    "### 升级到指定版本nodejs"
   ]
  },
  {
   "cell_type": "markdown",
   "metadata": {},
   "source": [
    "下载指定版本\n",
    "```bash\n",
    "wget http://nodejs.org/dist/v7.6.0/node-v7.6.0-linux-x64.tar.gz\n",
    "tar -zvxf node-v7.6.0-linux-x64.tar.gz\n",
    "```\n",
    "\n",
    "共享至全局\n",
    "```bash\n",
    "rm -rf /usr/bin/node /usr/bin/npm\n",
    "ln -s /path/node-v7.6.0-linux-x64/bin/node /usr/bin/node  \n",
    "ln -s /path/node-v7.6.0-linux-x64/bin/npm /usr/bin/npm\n",
    "```\n",
    "\n",
    "若用yum安装过nodejs，需要移除其他版本:\n",
    "```bash\n",
    "yum remove npm\n",
    "yum remove nodejs\n",
    "```\n",
    "\n",
    "查看nodejs与npm版本：\n",
    "```bash\n",
    "node -v\n",
    "npm -v\n",
    "```"
   ]
  },
  {
   "cell_type": "markdown",
   "metadata": {},
   "source": [
    "### 安装cnpm"
   ]
  },
  {
   "cell_type": "markdown",
   "metadata": {},
   "source": [
    "`npm install -g cnpm --registry=https://registry.npm.taobao.org`"
   ]
  }
 ],
 "metadata": {
  "kernelspec": {
   "display_name": "Python 3",
   "language": "python",
   "name": "python3"
  },
  "language_info": {
   "codemirror_mode": {
    "name": "ipython",
    "version": 3
   },
   "file_extension": ".py",
   "mimetype": "text/x-python",
   "name": "python",
   "nbconvert_exporter": "python",
   "pygments_lexer": "ipython3",
   "version": "3.6.1"
  }
 },
 "nbformat": 4,
 "nbformat_minor": 2
}
