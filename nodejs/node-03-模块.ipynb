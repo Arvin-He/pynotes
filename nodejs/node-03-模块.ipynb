{
 "cells": [
  {
   "cell_type": "markdown",
   "metadata": {},
   "source": [
    "# 模块"
   ]
  },
  {
   "cell_type": "markdown",
   "metadata": {},
   "source": [
    "官方发布的是 标准模块，安装了 Node 之后就可以引用，而使用 npm 安装的是 第三方模块 由任何 Node 开发人员提供。"
   ]
  },
  {
   "cell_type": "markdown",
   "metadata": {},
   "source": [
    "### CommonJS"
   ]
  },
  {
   "cell_type": "markdown",
   "metadata": {},
   "source": [
    "CommonJS 是 Node.js 的模块加载规范，它规定了模块的定义和引用语法。"
   ]
  },
  {
   "cell_type": "markdown",
   "metadata": {},
   "source": [
    "### 定义模块"
   ]
  },
  {
   "cell_type": "markdown",
   "metadata": {},
   "source": [
    "```js\n",
    "\n",
    "// a.js\n",
    "\n",
    "console.log('Im a.js')\n",
    "\n",
    "function f() {\n",
    "    console.log('f')\n",
    "}\n",
    "\n",
    "function e() {\n",
    "    console.log('e')\n",
    "}\n",
    "\n",
    "// 导出模块\n",
    "module.exports = {\n",
    "    f:f,\n",
    "    e:e\n",
    "}\n",
    "\n",
    "// 同上\n",
    "// exports.f = f\n",
    "// exports.e = e\n",
    "\n",
    "```"
   ]
  },
  {
   "cell_type": "markdown",
   "metadata": {},
   "source": [
    "### 引用模块"
   ]
  },
  {
   "cell_type": "markdown",
   "metadata": {},
   "source": [
    "```js\n",
    "/*\n",
    " b.js\n",
    "*/\n",
    "\n",
    "// Node会依次在内置模块、全局模块和当前模块下查找\n",
    "// 没写 ./ 目录可能会出错\n",
    "var a = require('./a')\n",
    "\n",
    "a.f()\n",
    "a.e()\n",
    "```"
   ]
  },
  {
   "cell_type": "markdown",
   "metadata": {},
   "source": [
    "### 执行"
   ]
  },
  {
   "cell_type": "markdown",
   "metadata": {},
   "source": [
    "```\n",
    ">>> node b.js\n",
    "Im a.js\n",
    "f\n",
    "e\n",
    "```"
   ]
  }
 ],
 "metadata": {
  "kernelspec": {
   "display_name": "Python 3",
   "language": "python",
   "name": "python3"
  },
  "language_info": {
   "codemirror_mode": {
    "name": "ipython",
    "version": 3
   },
   "file_extension": ".py",
   "mimetype": "text/x-python",
   "name": "python",
   "nbconvert_exporter": "python",
   "pygments_lexer": "ipython3",
   "version": "3.6.4"
  }
 },
 "nbformat": 4,
 "nbformat_minor": 2
}
