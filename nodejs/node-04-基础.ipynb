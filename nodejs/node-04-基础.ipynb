{
 "cells": [
  {
   "cell_type": "markdown",
   "metadata": {},
   "source": [
    "# node基础"
   ]
  },
  {
   "cell_type": "markdown",
   "metadata": {},
   "source": [
    "### node模块"
   ]
  },
  {
   "cell_type": "markdown",
   "metadata": {},
   "source": [
    "一个Node.js文件就是一个模块，这个文件可能是Javascript代码、JSON或编译过的C/C++扩展。\n",
    "\n",
    "重要的两个对象：\n",
    "1. require是从外部获取模块\n",
    "2. exports是把模块接口公开"
   ]
  },
  {
   "cell_type": "markdown",
   "metadata": {},
   "source": [
    "### node模块加载"
   ]
  },
  {
   "cell_type": "markdown",
   "metadata": {},
   "source": [
    "核心模块具有最高的加载优先级（有模块与核心模块同名时会体现）\n",
    "\n",
    "文件模块访问方式有3种, 文件后缀可以省略:\n",
    "* require('/文件名.后缀') \n",
    "* require('./文件名.后缀') \n",
    "* requrie('../文件名.后缀') \n",
    "\n",
    "以\"/\"开头是以绝对路径去加载\n",
    "\n",
    "以\"./\"开头和以\"../\"开头表示以相对路径加载，而以\"./\"开头表示同级目录下文件"
   ]
  },
  {
   "cell_type": "markdown",
   "metadata": {},
   "source": [
    "### module.exports 与 exports 的区别?"
   ]
  },
  {
   "cell_type": "markdown",
   "metadata": {},
   "source": [
    "模块导入会缓存，即使写了多次导入，只会导一次。即使导入的路径不一样。它缓存是指实际文件名，并不会因为传入的路径形式不一样而认会是不同的文件\n",
    "\n",
    "通过exports和module.exports对外公开的方法都可以访问，但有区别\n",
    "\n",
    "1. module.exports才是真正的接口，exports只不过是它的一个辅助工具。　最终返回给调用的是module.exports而不是exports。\n",
    "2. 所有的exports收集到的属性和方法，都赋值给了Module.exports。当然，这有个前提，就是module.exports本身不具备任何属性和方法。\n",
    "3. 如果，module.exports已经具备一些属性和方法，那么exports收集来的信息将被忽略。\n",
    "\n",
    " 所以，要遵循这两点\n",
    "\n",
    "1. 最好别分别定义module.exports和exports\n",
    "\n",
    "2. NodeJs开发者建议导出对象用module.exports,导出多个方法和变量用exports\n",
    "\n",
    "如果要对外暴露属性或方法，就用exports就行，要暴露对象(类似class，包含了很多属性和方法)，就用module.exports\n",
    "\n",
    "\n",
    "请看《深入浅出 Node.js》"
   ]
  }
 ],
 "metadata": {
  "kernelspec": {
   "display_name": "Python 3",
   "language": "python",
   "name": "python3"
  },
  "language_info": {
   "codemirror_mode": {
    "name": "ipython",
    "version": 3
   },
   "file_extension": ".py",
   "mimetype": "text/x-python",
   "name": "python",
   "nbconvert_exporter": "python",
   "pygments_lexer": "ipython3",
   "version": "3.6.4"
  }
 },
 "nbformat": 4,
 "nbformat_minor": 2
}
