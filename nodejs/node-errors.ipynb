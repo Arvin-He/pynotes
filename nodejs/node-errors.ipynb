{
 "cells": [
  {
   "cell_type": "markdown",
   "metadata": {},
   "source": [
    "# 遇到的错误"
   ]
  },
  {
   "cell_type": "markdown",
   "metadata": {},
   "source": [
    "### 'webpack-dev-server' 不是内部或外部命令，也不是可运行的程序 或批处理文件"
   ]
  },
  {
   "cell_type": "markdown",
   "metadata": {},
   "source": [
    "运行`node run dev`,报错如下: 'webpack-dev-server' 不是内部或外部命令，也不是可运行的程序 或批处理文件\n",
    "\n",
    "原因: 一般是你的node_modules或者package.json中的scripts命令执行不统一，即有些是用cnpm有些是用npm去执行。\n",
    "\n",
    "解决:\n",
    "1. 删掉你的node_modules文件夹\n",
    "2. 设置npm为淘宝镜像\n",
    "3. 统一用npm去执行所有指令，npm install 或 npm run dev"
   ]
  }
 ],
 "metadata": {
  "kernelspec": {
   "display_name": "Python 3",
   "language": "python",
   "name": "python3"
  },
  "language_info": {
   "codemirror_mode": {
    "name": "ipython",
    "version": 3
   },
   "file_extension": ".py",
   "mimetype": "text/x-python",
   "name": "python",
   "nbconvert_exporter": "python",
   "pygments_lexer": "ipython3",
   "version": "3.6.4"
  }
 },
 "nbformat": 4,
 "nbformat_minor": 2
}
