{
 "cells": [
  {
   "cell_type": "markdown",
   "metadata": {},
   "source": [
    "# MySQL-server has gone away解决方法"
   ]
  },
  {
   "cell_type": "markdown",
   "metadata": {},
   "source": [
    "mysql有一个限制: mysql默认会断开超过8小时未活跃过的连接.如果连续8小时无连接(没有任何数据库操作),mysql会自动断开连接,这时你再访问数据库则会报出\"MySQL server has gone away\"错误. 如果mysql重启或断开过连接，那么依然会在第一次时报\"MySQL server has gone away\"，\n",
    "\n",
    "如何解决:\n",
    "1. 设置`pool_recycle`参数, \n",
    "\n",
    "该参数会在每个session调用执行sql前校验当前时间与上一次连接时间间隔是否超过pool_recycle，如果超过就会重置。\n",
    "`engine = create_engine('mysql+mysqldb://...', pool_recycle=3600)`\n",
    "\n",
    "2. 设置心跳\n",
    "\n",
    "如需要非常严格的mysql断线重连策略，可以设置心跳:\n",
    "\n",
    "```\n",
    "from sqlalchemy import create_engine, event\n",
    "from sqlalchemy.exc import DisconnectionError\n",
    "\n",
    "def checkout_listener(dbapi_con, con_record, con_proxy):\n",
    "    try:\n",
    "        try:\n",
    "            dbapi_con.ping(False)\n",
    "        except TypeError:\n",
    "            dbapi_con.ping()\n",
    "    except dbapi_con.OperationalError as exc:\n",
    "        if exc.args[0] in (2006, 2013, 2014, 2045, 2055):\n",
    "            raise DisconnectionError()\n",
    "        else:\n",
    "            raise\n",
    "\n",
    "db_engine = create_engine(DATABASE_CONNECTION_INFO, pool_size=100, pool_recycle=3600)\n",
    "event.listen(db_engine, 'checkout', checkout_listener)\n",
    "\n",
    "```\n",
    "\n",
    "[心跳设置参考](https://stackoverflow.com/questions/18054224/python-sqlalchemy-mysql-server-has-gone-away)"
   ]
  }
 ],
 "metadata": {
  "kernelspec": {
   "display_name": "Python 3",
   "language": "python",
   "name": "python3"
  },
  "language_info": {
   "codemirror_mode": {
    "name": "ipython",
    "version": 3
   },
   "file_extension": ".py",
   "mimetype": "text/x-python",
   "name": "python",
   "nbconvert_exporter": "python",
   "pygments_lexer": "ipython3",
   "version": "3.6.4"
  }
 },
 "nbformat": 4,
 "nbformat_minor": 2
}
