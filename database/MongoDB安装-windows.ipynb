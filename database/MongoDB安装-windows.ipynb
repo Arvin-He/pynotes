{
 "cells": [
  {
   "cell_type": "markdown",
   "metadata": {},
   "source": [
    "# MongoDB安装-windows"
   ]
  },
  {
   "cell_type": "markdown",
   "metadata": {},
   "source": [
    "### 环境"
   ]
  },
  {
   "cell_type": "markdown",
   "metadata": {},
   "source": [
    "* Win10\n",
    "* MongoDB3.6.4"
   ]
  },
  {
   "cell_type": "markdown",
   "metadata": {},
   "source": [
    "### 下载安装mongodb"
   ]
  },
  {
   "cell_type": "markdown",
   "metadata": {},
   "source": [
    "到[官方网站](https://www.mongodb.com/download-center?jmp=nav#community)下载对应的版本\n",
    "然后安装好mongodb,然后配置环境变量"
   ]
  },
  {
   "cell_type": "markdown",
   "metadata": {},
   "source": [
    "### 配置MongoDB"
   ]
  },
  {
   "cell_type": "markdown",
   "metadata": {},
   "source": [
    "**说明:** \n",
    "1. 配置文件中的所有路径必须要存在, mongodb不会自动给你创建文件夹,像data,log,pid等文件夹按照配置文件指定路径**手动创建**好,否则会报错.\n",
    "2. mongodb默认没有配置文件,先创建一个配置文件,名称为mongodb.cfg\n",
    "3. 创建的目录和配置文件可以在mongodb的安装目录,也可以放在其他磁盘上\n",
    "4. 最好和mongodb的安装文件放在一起"
   ]
  },
  {
   "cell_type": "markdown",
   "metadata": {},
   "source": [
    "#### 创建目录"
   ]
  },
  {
   "cell_type": "markdown",
   "metadata": {},
   "source": [
    "```\n",
    "cd C:\\Program Files\\MongoDB\\Server\\3.6\\bin\n",
    "# 创建db目录\n",
    "mkdir -p db\n",
    "# 日志目录\n",
    "mkdir -p logs\n",
    "# pid目录\n",
    "mkdir -p pid\n",
    "```"
   ]
  },
  {
   "cell_type": "markdown",
   "metadata": {},
   "source": [
    "#### 创建配置文件"
   ]
  },
  {
   "cell_type": "raw",
   "metadata": {},
   "source": [
    "#数据文件存放位置\n",
    "dbpath=C:\\Program Files\\MongoDB\\Server\\3.6\\data\\db\n",
    "#日志文件存放位置\n",
    "logpath=C:\\Program Files\\MongoDB\\Server\\3.6\\logs\\mongodb.log\n",
    "#PID的路径\n",
    "pidfilepath=C:\\Program Files\\MongoDB\\Server\\3.6\\pid\\mongodb.pid\n",
    "#端口号\n",
    "port=27017\n",
    "#错误日志采用追加模式，配置这个选项后mongodb的日志会追加到现有的日志文件\n",
    "logappend=true\n",
    "#启用日志文件，默认启用\n",
    "journal=true\n",
    "#这个选项可以过滤掉一些无用的日志信息，若需要调试使用请设置为false\n",
    "quiet=true\n",
    "#打开28017网页端口（若不开启注释掉即可）"
   ]
  },
  {
   "cell_type": "markdown",
   "metadata": {},
   "source": [
    "### 启动mongodb"
   ]
  },
  {
   "cell_type": "markdown",
   "metadata": {},
   "source": [
    "1. 在终端执行:`mongod --config C:\\Program Files\\MongoDB\\Server\\3.6\\bin\\mongodb.cfg`\n",
    "2. 然后在浏览器输入:`127.0.0.1:27017`,回车,\n",
    "3. 看到网页有`It looks like you are trying to access MongoDB over HTTP on the native driver port.`,则表明启动成功"
   ]
  },
  {
   "cell_type": "markdown",
   "metadata": {},
   "source": [
    "### 注册开机启动mongodb服务"
   ]
  },
  {
   "cell_type": "markdown",
   "metadata": {},
   "source": [
    "如果每次都按照步骤三那样操作，岂不是很麻烦，按照如下命令来创建并启动MongoDB服务，就可以通过windows服务来管理MongoDB的启动和关闭了.\n",
    "1. 安装mongodb服务,在终端输入: `mongod --config C:\\Program Files\\MongoDB\\Server\\3.6\\bin\\mongodb.cfg --install --serviceName MongoDB`\n",
    "2. 启动mongodb服务,在终端输入: `net start MongoDB`, 回车\n",
    "3. 有提示出来:MongoDB服务正在启动, MongoDB服务已经启动成功"
   ]
  },
  {
   "cell_type": "markdown",
   "metadata": {},
   "source": [
    "### 去除mongodb服务"
   ]
  },
  {
   "cell_type": "markdown",
   "metadata": {},
   "source": [
    "如果需要去除MongoDB服务，执行如下命令：\n",
    "mongod --remove --serviceName MongoDB"
   ]
  },
  {
   "cell_type": "markdown",
   "metadata": {},
   "source": [
    "### 常见错误"
   ]
  },
  {
   "cell_type": "markdown",
   "metadata": {},
   "source": [
    "错误: 服务名无效\n",
    "一般由两个原因造成,\n",
    "\n",
    "第一: 可能是你的服务名称拼写错误,\n",
    "\n",
    "第二: 就是没有用管理员权限运行命令.\n",
    "\n",
    "查看mongodb日志发现: `Error connecting to the Service Control Manager`: 拒绝访问, 这说明没有用管理员权限运行命令.\n",
    "\n",
    "使用管理员权限打开cmd, 然后再输入命令并运行, 然后服务就启动成功了."
   ]
  },
  {
   "cell_type": "markdown",
   "metadata": {},
   "source": [
    "### 创建数据库,账户和密码"
   ]
  },
  {
   "cell_type": "markdown",
   "metadata": {},
   "source": [
    "**注意:**\n",
    "1. MongoDB中的账号是在某一个库里面进行设置的，也就是帐号密码和具体的数据库绑定,在哪一个库里进行设置，就要在哪一个库里进行验证。\n",
    "2. 创建用户时，需要指定用户名、用户密码和用户角色，用户角色表示了该用户的权限。"
   ]
  },
  {
   "cell_type": "markdown",
   "metadata": {},
   "source": [
    "### 创建管理员账户和密码"
   ]
  },
  {
   "cell_type": "markdown",
   "metadata": {},
   "source": [
    "**说明:**\n",
    "1. 用户管理员是第一个要创建的用户。在没有创建任何用户之前，你可以随意创建用户；但数据库中一旦有了用户，那么未登录的客户端就没有权限做任何操作了，除非使用db.auth(username, password)方法登录。\n",
    "2. 用户管理员的角色名叫 userAdminAnyDatabase，这个角色只能在 admin 数据库中创建。"
   ]
  },
  {
   "cell_type": "markdown",
   "metadata": {},
   "source": [
    "```\n",
    "> use admin\n",
    "switched to db admin\n",
    "> db.createUser({user:\"root\",pwd:\"root\",roles:[\"userAdminAnyDatabase\"]})\n",
    "Successfully added user: { \"user\" : \"root\", \"roles\" : [ \"userAdminAnyDatabase\" ] }\n",
    "> db.auth(\"root\",\"root123\")\n",
    "1\n",
    "db.auth() 方法返回 1 表示登录成功。接下来我们为指定的数据库创建访问所需的账号。\n",
    "```"
   ]
  },
  {
   "cell_type": "markdown",
   "metadata": {},
   "source": [
    "### 创建普通账户和密码"
   ]
  },
  {
   "cell_type": "markdown",
   "metadata": {},
   "source": [
    "**说明:**\n",
    "1. 首先保证你已经以用户管理员的身份登录 admin 数据库。然后用 use 命令切换到目标数据库，\n",
    "2. 用 db.createUser() 命令来创建用户，其中角色名为 “readWrite”。\n",
    "3. 普通的数据库用户角色有两种，read 和 readWrite。前者只能读取数据不能修改，后者可以读取和修改。"
   ]
  },
  {
   "cell_type": "markdown",
   "metadata": {},
   "source": [
    "```\n",
    "> use test\n",
    "switched to db test\n",
    "> db.createUser({user:\"testuser\",pwd:\"testpass\",roles:[\"readWrite\"]})\n",
    "Successfully added user: { \"user\" : \"testuser\", \"roles\" : [ \"readWrite\" ] }\n",
    "> db.auth(\"testuser\",\"testpass\")\n",
    "1\n",
    "```"
   ]
  }
 ],
 "metadata": {
  "kernelspec": {
   "display_name": "Python 3",
   "language": "python",
   "name": "python3"
  },
  "language_info": {
   "codemirror_mode": {
    "name": "ipython",
    "version": 3
   },
   "file_extension": ".py",
   "mimetype": "text/x-python",
   "name": "python",
   "nbconvert_exporter": "python",
   "pygments_lexer": "ipython3",
   "version": "3.6.4"
  }
 },
 "nbformat": 4,
 "nbformat_minor": 2
}
