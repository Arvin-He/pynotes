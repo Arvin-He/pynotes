{
 "cells": [
  {
   "cell_type": "markdown",
   "metadata": {},
   "source": [
    "# collection操作shell命令"
   ]
  },
  {
   "cell_type": "markdown",
   "metadata": {},
   "source": [
    "### 创建索引"
   ]
  },
  {
   "cell_type": "markdown",
   "metadata": {},
   "source": [
    "`db.collection.ensureIndex(keypattern[,options])`\n",
    "\n",
    "ensureIndex方法参数中，数字1表示升序，-1表示降序.\n",
    "\n",
    "`> db.page.ensureIndex({'title':1, 'url':-1})`"
   ]
  },
  {
   "cell_type": "markdown",
   "metadata": {},
   "source": [
    "### 删除索引"
   ]
  },
  {
   "cell_type": "markdown",
   "metadata": {},
   "source": [
    "删除索引给出了两个方法： \n",
    "1. db.mycoll.dropIndex(name) : 删除指定索引名称\n",
    "2. db.mycoll.dropIndexes(): 删除指定集合的全部索引。\n"
   ]
  },
  {
   "cell_type": "markdown",
   "metadata": {},
   "source": [
    "### 重建索引"
   ]
  },
  {
   "cell_type": "markdown",
   "metadata": {},
   "source": [
    "reIndex()"
   ]
  },
  {
   "cell_type": "markdown",
   "metadata": {},
   "source": [
    "### python执行mongo的shell命令"
   ]
  },
  {
   "cell_type": "code",
   "execution_count": 19,
   "metadata": {},
   "outputs": [
    {
     "name": "stdout",
     "output_type": "stream",
     "text": [
      "{'db': 'testdb', 'collections': 0, 'views': 0, 'objects': 0, 'avgObjSize': 0, 'dataSize': 0, 'storageSize': 0, 'numExtents': 0, 'indexes': 0, 'indexSize': 0, 'fileSize': 0, 'fsUsedSize': 0, 'fsTotalSize': 0, 'ok': 1.0}\n",
      "testdb\n"
     ]
    }
   ],
   "source": [
    "print(db.command(\"dbstats\")) \n",
    "print(db.name)\n",
    "# db.command(\"collstats\", \"test_collection\") # prints collection-level stats for \"test_collection\" under \"test_db\". "
   ]
  },
  {
   "cell_type": "markdown",
   "metadata": {},
   "source": [
    "### 重命名字段名"
   ]
  },
  {
   "cell_type": "markdown",
   "metadata": {},
   "source": [
    "`db.getCollection('process').update({}, {$rename:{'wr_kB/s': 'wrio'}}, false, true)`"
   ]
  },
  {
   "cell_type": "markdown",
   "metadata": {},
   "source": [
    "### 重命名一个内嵌文档字段"
   ]
  },
  {
   "cell_type": "markdown",
   "metadata": {},
   "source": [
    "调用$rename操作符使用点号引用字段\n",
    "\n",
    "`db.students.update({_id:1}, {$rename:{\"name.first\":\"name.fname\"}})`"
   ]
  },
  {
   "cell_type": "markdown",
   "metadata": {},
   "source": [
    "### 新增字段"
   ]
  },
  {
   "cell_type": "markdown",
   "metadata": {},
   "source": [
    "`db.getCollection('server').update({}, {$set:{'os': 'linux'}}, {multi: 1})`\n",
    "\n",
    "multi表示所有文档都插入字段,没有multi表示只在一条记录中插入该字段"
   ]
  },
  {
   "cell_type": "markdown",
   "metadata": {},
   "source": [
    "### 多字段模糊查询"
   ]
  },
  {
   "cell_type": "markdown",
   "metadata": {},
   "source": [
    "```\n",
    "db.find({$or:[\n",
    "            {name:{$regex:/a/}},\n",
    "            {age:{$regex:/5/}}]\n",
    "            })\n",
    "```\n",
    "\n",
    "注意: mongodb默认使用的是bson数据，所以要在python里转换为该格式的数据, Regex是bson的类，可以导入"
   ]
  },
  {
   "cell_type": "code",
   "execution_count": null,
   "metadata": {},
   "outputs": [],
   "source": [
    "import re\n",
    "import bson\n",
    "\n",
    "pattern = re.compile(kw)\n",
    "regex = bson.regex.Regex.from_native(pattern)\n",
    "regex.flags ^= re.UNICODE\n",
    "\n",
    "cursor = db['process'].find({'$or': [{\"CLI\": regex}, {\"account\": regex}]}, {'_id': 0})\n",
    "\n",
    "\n",
    "db.getCollection('process').find({'token': 'a7ad77fbf744b12a75', $or: [{'CLI': {$regex: /user/}}, {'account': {$regex: /user/}}]}).count()"
   ]
  }
 ],
 "metadata": {
  "kernelspec": {
   "display_name": "Python 3",
   "language": "python",
   "name": "python3"
  },
  "language_info": {
   "codemirror_mode": {
    "name": "ipython",
    "version": 3
   },
   "file_extension": ".py",
   "mimetype": "text/x-python",
   "name": "python",
   "nbconvert_exporter": "python",
   "pygments_lexer": "ipython3",
   "version": "3.6.4"
  }
 },
 "nbformat": 4,
 "nbformat_minor": 2
}
