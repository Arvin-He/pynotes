{
 "cells": [
  {
   "cell_type": "markdown",
   "metadata": {},
   "source": [
    "# collection操作shell命令"
   ]
  },
  {
   "cell_type": "markdown",
   "metadata": {},
   "source": [
    "### 创建索引"
   ]
  },
  {
   "cell_type": "markdown",
   "metadata": {},
   "source": [
    "`db.collection.ensureIndex(keypattern[,options])`\n",
    "\n",
    "ensureIndex方法参数中，数字1表示升序，-1表示降序.\n",
    "\n",
    "`> db.page.ensureIndex({'title':1, 'url':-1})`"
   ]
  },
  {
   "cell_type": "markdown",
   "metadata": {},
   "source": [
    "### 删除索引"
   ]
  },
  {
   "cell_type": "markdown",
   "metadata": {},
   "source": [
    "删除索引给出了两个方法： \n",
    "1. db.mycoll.dropIndex(name) : 删除指定索引名称\n",
    "2. db.mycoll.dropIndexes(): 删除指定集合的全部索引。\n"
   ]
  },
  {
   "cell_type": "markdown",
   "metadata": {},
   "source": [
    "### 索引重建:"
   ]
  },
  {
   "cell_type": "markdown",
   "metadata": {},
   "source": [
    "reIndex()"
   ]
  },
  {
   "cell_type": "markdown",
   "metadata": {},
   "source": [
    "### 正常启动: \n",
    "`mongod --dbpath /usr/mongo/data --logfile /var/mongo.log`\n",
    "\n",
    "说明：指定数据存储目录和日志目录，如果采用安全认证模式，需要加上--auth选项，如：`mongod --auth --dbpath /usr/mongo/data --logfile /var/mongo.log `\n",
    "\n",
    "### 以修复模式启动: \n",
    "`mongod --repair`\n",
    "\n",
    "以修复模式启动数据库。实际很可能数据库数据损坏或数据状态不一致，导致无法正常启动MongoDB服务器，根据启动信息可以看到需要进行修复。或者执行：`mongod -f /etc/mongodb.conf --repair`\n",
    "\n",
    "### 终止服务器进程: \n",
    "`db.shutdownServer()` 或者直接kill掉mongod进程即可。"
   ]
  },
  {
   "cell_type": "markdown",
   "metadata": {},
   "source": [
    "### 以安全认证模式启动: \n",
    "`mongod --auth --dbpath /usr/mongo/data --logfile /var/mongo.log`\n",
    "\n",
    "使用`--auth`选项启动mongod进程即可启用认证模式。或者，也可以修改/etc/mongodb.conf，设置auth=true，重启mongod进程。\n",
    "\n",
    "### 添加用户: \n",
    "`db.addUser(\"admin\", \",%F23_kj~00Opoo0+\\/\")`\n",
    "\n",
    "### 认证用户: \n",
    "`db.auth(\"admin\", \",%F23_kj~00Opoo0+\\/\")`"
   ]
  },
  {
   "cell_type": "markdown",
   "metadata": {},
   "source": [
    "## 数据备份、恢复与迁移管理 "
   ]
  },
  {
   "cell_type": "markdown",
   "metadata": {},
   "source": [
    "### 备份全部数据库\n",
    "```\n",
    "mkdir testbak\n",
    "cd testbak\n",
    "mongodump\n",
    "```\n",
    "说明：默认备份目录及数据文件格式为: `/dump/[databasename]/[collectionname].bson`\n",
    "\n",
    "### 备份指定数据库: \n",
    "`mongodump -d pagedb`\n",
    "\n",
    "\n",
    "### 备份一个数据库中的某个集合: \n",
    "`mongodump -d pagedb -c page`\n",
    "\n",
    "### 恢复全部数据库\n",
    "```\n",
    "cd testbak\n",
    "mongorestore --drop\n",
    "```\n",
    "说明：将备份的所有数据库恢复到数据库，--drop指定恢复数据之前删除原来数据库数据，否则会造成回复后的数据中数据重复。\n",
    "\n",
    "### 恢复某个数据库的数据\n",
    "```\n",
    "cd testbak\n",
    "mongorestore -d pagedb --drop\n",
    "```\n",
    "说明：将备份的pagedb的数据恢复到数据库。\n",
    "\n",
    "### 恢复某个数据库的某个集合的数据\n",
    "```\n",
    "cd testbak\n",
    "mongorestore -d pagedb -c page --drop\n",
    "```\n",
    "说明：将备份的pagedb的的page集合的数据恢复到数据库。"
   ]
  },
  {
   "cell_type": "markdown",
   "metadata": {},
   "source": [
    "### 向MongoDB导入数据: \n",
    "`mongoimport -d pagedb -c page --type csv --headerline --drop < csvORtsvFile.csv`\n",
    "\n",
    "说明：将文件csvORtsvFile.csv的数据导入到pagedb数据库的page集合中，使用cvs或tsv文件的列名作为集合的列名。\n",
    "\n",
    "注意: 使用`--headerline`选项时，只支持csv和tsv文件。\n",
    "`--type`支持的类型有三个：csv、tsv、json\n",
    "其他各个选项的使用，可以查看帮助：\n",
    "\n",
    "```\n",
    "mongoimport --help\n",
    "  options:\n",
    "    --help                  produce help message\n",
    "    -v [ --verbose ]        be more verbose (include multiple times for more\n",
    "                            verbosity e.g. -vvvvv)\n",
    "    -h [ --host ] arg       mongo host to connect to ( <set name>/s1,s2 for sets)\n",
    "    --port arg              server port. Can also use --host hostname:port\n",
    "    --ipv6                  enable IPv6 support (disabled by default)\n",
    "    -u [ --username ] arg   username\n",
    "   -p [ --password ] arg   password\n",
    "   --dbpath arg            directly access mongod database files in the given\n",
    "                           path, instead of connecting to a mongod  server -\n",
    "                           needs to lock the data directory, so cannot be used\n",
    "                           if a mongod is currently accessing the same path\n",
    "   --directoryperdb        if dbpath specified, each db is in a separate\n",
    "                           directory\n",
    "   -d [ --db ] arg         database to use\n",
    "   -c [ --collection ] arg collection to use (some commands)\n",
    "   -f [ --fields ] arg     comma separated list of field names e.g. -f name,age\n",
    "   --fieldFile arg         file with fields names - 1 per line\n",
    "   --ignoreBlanks          if given, empty fields in csv and tsv will be ignored\n",
    "   --type arg              type of file to import.  default: json (json,csv,tsv)\n",
    "   --file arg              file to import from; if not specified stdin is used\n",
    "   --drop                  drop collection first\n",
    "   --headerline            CSV,TSV only - use first line as headers\n",
    "   --upsert                insert or update objects that already exist\n",
    "   --upsertFields arg      comma-separated fields for the query part of the\n",
    "                           upsert. You should make sure this is indexed\n",
    "   --stopOnError           stop importing at first error rather than continuing\n",
    "   --jsonArray             load a json array, not one item per line. Currently\n",
    "                           limited to 4MB.\n",
    "```\n",
    "\n",
    "### 从向MongoDB导出数据: \n",
    "`mongoexport -d pagedb -c page -q {} -f _id,title,url,spiderName,pubDate --csv > pages.csv`\n",
    "\n",
    "说明：将pagedb数据库中page集合的数据导出到pages.csv文件\n",
    "\n",
    "各选项含义：\n",
    "`-f` 指定cvs列名为_id,title,url,spiderName,pubDate\n",
    "`-q` 指定查询条件\n",
    "\n",
    "其他各个选项的使用，可以查看帮助：\n",
    "```\n",
    "  mongoexport --help\n",
    "  options:\n",
    "    --help                  produce help message\n",
    "    -v [ --verbose ]        be more verbose (include multiple times for more verbosity e.g. -vvvvv)\n",
    "    -h [ --host ] arg       mongo host to connect to ( <set name>/s1,s2 for sets)\n",
    "    --port arg              server port. Can also use --host hostname:port\n",
    "    --ipv6                  enable IPv6 support (disabled by default)\n",
    "    -u [ --username ] arg   username\n",
    "    -p [ --password ] arg   password\n",
    "   --dbpath arg            directly access mongod database files in the given\n",
    "                           path, instead of connecting to a mongod  server -\n",
    "                           needs to lock the data directory, so cannot be used\n",
    "                           if a mongod is currently accessing the same path\n",
    "   --directoryperdb        if dbpath specified, each db is in a separate directory\n",
    "   -d [ --db ] arg         database to use\n",
    "   -c [ --collection ] arg collection to use (some commands)\n",
    "   -f [ --fields ] arg     comma separated list of field names e.g. -f name,age\n",
    "   --fieldFile arg         file with fields names - 1 per line\n",
    "   -q [ --query ] arg      query filter, as a JSON string\n",
    "   --csv                   export to csv instead of json\n",
    "   -o [ --out ] arg        output file; if not specified, stdout is used\n",
    "   --jsonArray             output to a json array rather than one object per line\n",
    "```\n",
    "\n",
    "[https://www.cnblogs.com/Joans/p/3729914.html]"
   ]
  },
  {
   "cell_type": "markdown",
   "metadata": {},
   "source": [
    "### 需要admin权限的命令"
   ]
  },
  {
   "cell_type": "markdown",
   "metadata": {},
   "source": [
    " show dbs\n",
    "\n",
    "db.serverStatus()\n"
   ]
  },
  {
   "cell_type": "markdown",
   "metadata": {},
   "source": [
    "### python执行mongo的shell命令"
   ]
  },
  {
   "cell_type": "code",
   "execution_count": 19,
   "metadata": {},
   "outputs": [
    {
     "name": "stdout",
     "output_type": "stream",
     "text": [
      "{'db': 'testdb', 'collections': 0, 'views': 0, 'objects': 0, 'avgObjSize': 0, 'dataSize': 0, 'storageSize': 0, 'numExtents': 0, 'indexes': 0, 'indexSize': 0, 'fileSize': 0, 'fsUsedSize': 0, 'fsTotalSize': 0, 'ok': 1.0}\n",
      "testdb\n"
     ]
    }
   ],
   "source": [
    "print(db.command(\"dbstats\")) \n",
    "print(db.name)\n",
    "# db.command(\"collstats\", \"test_collection\") # prints collection-level stats for \"test_collection\" under \"test_db\". "
   ]
  },
  {
   "cell_type": "markdown",
   "metadata": {},
   "source": [
    "### 数据导入与导出"
   ]
  },
  {
   "cell_type": "code",
   "execution_count": null,
   "metadata": {},
   "outputs": [],
   "source": [
    "import subprocess\n",
    "from pymongo import MongoClient\n",
    "\n",
    "def export_data(db, dst_path, param):\n",
    "    for collection in db.collection_names():\n",
    "        log.info(\"开始导出 {} 数据库 {} ...\".format(db, collection))\n",
    "        try:\n",
    "            subprocess.check_call([\"mongoexport\",\n",
    "                                   \"-h\", param[\"host\"],\n",
    "                                   \"-u\", param[\"user\"],\n",
    "                                   \"-p\", param[\"passwd\"],\n",
    "                                   \"-d\", db,\n",
    "                                   \"-c\", collection,\n",
    "                                   \"-o\", dst_path])\n",
    "            log.info(\"导出 {} 数据成功\".format(dst_path))\n",
    "        except Exception as e:\n",
    "            log.error(\"导出MongoDB数据出错,数据导出中止, Error: {}\".format(e))"
   ]
  },
  {
   "cell_type": "code",
   "execution_count": null,
   "metadata": {},
   "outputs": [],
   "source": [
    "import subprocess\n",
    "import pymongo\n",
    "from pymongo import MongoClient\n",
    "\n",
    "# 导入与导出数据\n",
    "# mongoimport -d 数据库名字 -c 集合名字 --type 文件类型 --file 文件路径  --upsert,\n",
    "# 其中，--upsert字段的意思是以插入(insert)或者更新(update)的方式来导入数据。\n",
    "# 注意：如果数据库存在数据，要导入最新的数据，则需要加--upsert选项，会更新数据，否则会报错(提示重复键错误收集)\n",
    "def importdata(db_name, collection, file_name, datatype='json'):\n",
    "    try:\n",
    "        subprocess.Popen(['mongoimport', '-d', db_name, '-c', collection,\n",
    "                         '--type', datatype, '--file', file_name, '--upsert'])\n",
    "    except Exception as e:\n",
    "        print(\"导入数据异常:{}\".format(e))\n",
    "\n",
    "# 导入数据到远程服务器上\n",
    "# mongoimport -h IP --port 端口 -u 用户名 -p 密码 -d 数据库 -c 表名 --upsert --drop 文件名的具体路径   (--drop当不需要删除源文件可不加)\n",
    "def importdata(user, passwd, db_name, collection, file_name, host='127.0.0.1', port='27017', datatype='json'):\n",
    "    try:\n",
    "        subprocess.Popen(['mongoimport', '-h', host, '--port', port, \n",
    "                          '-u', user, '-p', passwd, '-d', db_name, '-c', collection,\n",
    "                          '--type', datatype, '--file', file_name, '--upsert'])\n",
    "    except Exception as e:\n",
    "        print(\"导入数据异常:{}\".format(e))\n",
    "\n",
    "# 导入部分字段到collection中\n",
    "# 命令格式：mongoimport -h IP --port 端口 -u 用户名 -p 密码 -d 数据库 -c 表名 --upsertFields 字段 --drop 文件名的具体路径 (--drop当不需要删除源文件可不加)\n",
    "\n",
    "# 导入csv文件\n",
    "# 命令格式：mongoimport -h IP --port 端口 -u 用户名 -p 密码 -d 数据库 -c 表名 --type 类型(csv) --headerline --upsert --drop 文件名的具体路径  \n",
    "\n",
    "def exportdata(host, user, passwd, db_name, collection, dst):\n",
    "    try:\n",
    "        subprocess.Popen(['mongoexport', '-h', host, '-u', user,\n",
    "                         '-p', passwd, '-d', db_name, '-c', collection, '-o', dst])\n",
    "    except Exception as e:\n",
    "        print(\"导出数据异常:{}\".format(e))\n",
    "\n",
    "# 数据备份与还原\n",
    "# 备份命令: mongodump -h IP --port 端口 -u 用户名 -p 密码 -d 数据库 -o 文件存放路径\n",
    "# 还原命令: mongorestore -h IP --port 端口 -u 用户名 -p 密码 -d 数据库 --drop 文件存在路径,--drop是先删除所有的数据，再恢复，不需要删除可不加;\n",
    "\n",
    "def dumpdata(host, user, passwd, db_name, collection, dst):\n",
    "    try:\n",
    "        subprocess.Popen(['mongodump', '-h', host, '-u', user,\n",
    "                         '-p', passwd, '-d', db_name, '-c', collection, '-o', dst])\n",
    "    except Exception as e:\n",
    "        print(\"备份数据异常:{}\".format(e))\n",
    "\n",
    "def restoredata(host, user, passwd, db_name, collection, restorepath)\n",
    "    try:\n",
    "        subprocess.Popen(['mongoretore', '-h', host, '-u', user,\n",
    "                          '-p', passwd, '-d', db_name, '-c', collection, restorepath])\n",
    "    except Exception as e:\n",
    "        print(\"还原数据异常:{}\".format(e))\n",
    "\n",
    "# 建立连接, 返回数据库对象\n",
    "def connect_db(user, passwd, host, db_name):\n",
    "    client = MongoClient(\n",
    "        'mongodb://{}:{}@{}/{}'.format(user, passwd, host, db_name))\n",
    "    return client[db_name]\n",
    "\n",
    "\n",
    "# 获取数据库中所有集合名\n",
    "db = connect_db(user, passwd, host, db_name)\n",
    "collections = db.collection_names()\n",
    "\n",
    "collection_name = \"xxxx\"\n",
    "movie = db[collection_name]\n",
    "# 查询\n",
    "\n",
    "# 范围查询\n",
    "d = datetime.datetime(2009, 11, 12, 12)\n",
    "for post in posts.find({\"date\": {\"$lt\": d}}).sort(\"author\"):\n",
    "    print(post)\n",
    "\n",
    "# 正则匹配查询\n",
    "# 查询某一字段不是数字的记录\n",
    "db.getCollection('phone').find({\"tel\": {\"$regex\": '^[^0-9]+$'}})\n",
    "# 查询某一字段不是数字的记录的数目\n",
    "db.getCollection('phone').find({\"tel\": {\"$regex\": '^[^0-9]+$'}}).count()\n",
    "# 删除某一字段不是数字的记录\n",
    "db.getCollection('phone').remove({\"tel\": {\"$regex\": '^[^0-9]+$'}})\n",
    "\n",
    "# 查询某个字段多个值的数据\n",
    "db.collection.find({\"A\": {\"$in\": [1, 2, 3]}})\n",
    "\n",
    "# 查询两个字段值相同的记录\n",
    "db.foo.find({\"$where\":function(){\n",
    " for(var current in this){\n",
    "   for(var other in this){\n",
    "     if(current != other && this[current] == this[other]){\n",
    "       return true;\n",
    "     }\n",
    "   }\n",
    " }\n",
    " return false;\n",
    "}})\n",
    "\n",
    "# 查询给定字段有重复数据的记录\n",
    "db.collection.aggregate([\n",
    "  { $group: { \n",
    "    _id: { page: \"$page\", secondField: \"$secondField\" }, \n",
    "    uniqueIds: { $addToSet: \"$_id\" },\n",
    "    count: { $sum: 1 } \n",
    "  }}, \n",
    "  { $match: { \n",
    "    count: { $gt: 1 } \n",
    "  }}\n",
    "])\n",
    "\n",
    "# 简单去重方法,适合数据量不大的情况下, 返回去重后的列表\n",
    "db.collection.distinct(\"page\")\n",
    "\n",
    "# 求某字段最大值：#得到的记录为集合中\"_id\"值最大的那一条\n",
    "collection.find().sort({\"_id\":-1}).limit(1)\n",
    "# 统计不含有某一字段的记录数：\n",
    "dbName.collectionName.find({fieldName:null}).count()\n",
    "# 查询结果排序 , --默认为升序\n",
    "movie.find().sort(\"UserName\")\n",
    "movie.find().sort(\"UserName\", pymongo.ASCENDING)\n",
    "movie.find().sort(\"UserName\", pymongo.DESCENDING)\n",
    "# 查询结果多列排序\n",
    "movie.find().sort([\"UserName\", pymongo.DESCENDING), (\"Email\", pymongo.DESCENDING)])\n",
    "\n",
    "# 修改/更新记录\n",
    "movie.update({\"UserName\": \"xxx\"}, {\n",
    "             \"$set\": {\"Email\": \"xxxx\", \"Password\": \"xxx\"}})\n",
    "# 增加字段：\n",
    "collection.update({\"_id\":1},{\"$set\":{\"new_field\":0}})\n",
    "\n",
    "# 删除\n",
    "# -- 全部删除, 慎用\n",
    "movie.remove({})\n",
    "movie.remove({\"UserName\": \"xxxxx\"})\n",
    "# 删除字段：\n",
    "collection.update({\"_id\":1},{\"$unset\":{\"new_field\":1}})\n",
    "\n",
    "# 索引（Indexing）\n",
    "# 为了让上述查询更快一点，可以添加一个在\"date” 和 “author\"上添加复合索引。\n",
    "# 首先，使用explain()方法来了解查询在没有添加索引情况下如何执行:\n",
    "movie.find({\"date\": {\"$lt\": d}}).sort(\"author\").explain()[\"cursor\"]\n",
    ">> > u'BasicCursor'\n",
    "\n",
    "movie.find({\"date\": {\"$lt\": d}}).sort(\"author\").explain()[\"nscanned\"]\n",
    ">> > 3\n",
    "# 查询使用的是BasicCursor,而且扫描了全部的三个文件。现在添加一个复合索引，再看看同样的操作：\n",
    "# 创建data和author索引\n",
    "movie.create_index([(\"date\", DESCENDING), (\"author\", ASCENDING)])\n",
    ">> > u'date_-1_author_1'\n",
    "movie.find({\"date\": {\"$lt\": d}}).sort(\"author\").explain()[\"cursor\"]\n",
    ">> > u'BtreeCursor date_-1_author_1'\n",
    "movie.find({\"date\": {\"$lt\": d}}).sort(\"author\").explain()[\"nscanned\"]\n",
    ">> > 2\n",
    "# 现在查询使用的是BtreeCursor(利用这个索引)，并且只扫描了两个符合条件的文件。\n",
    "\n",
    "# map_reduce\n",
    "# map函数的作用是遍历集合，调用emit函数将集合中userId、nick字段以键值对的形式传递给reduce函数\n",
    "mapper = Code(\"\"\"\n",
    "function(){\n",
    "    emit(this.userId, this.nick);\n",
    "}\n",
    "\"\"\")\n",
    "\n",
    "# reduce函数的作用对map函数传递过来的键值对进行处理, \n",
    "# 每个<key, values>键值对中，key是userId字段的值，values是具有相同userId的nick的数组。\n",
    "# 由于我的程序中一个values的各个元素的值是相同的，所以没有对values进行遍历。\n",
    "reducer = Code(\"\"\"\n",
    "function(key, values){\n",
    "    var result = {nick: values[0]};\n",
    "    return result;\n",
    "}\n",
    "\"\"\")\n",
    "\n",
    "# 启动MapReduce, 将结果输出到seller_info这个集合中\n",
    "result = collection.map_reduce(mapper, reducer, 'seller_info')\n",
    "\n",
    "# 遍历seller_info集合，查看MapReduce结果\n",
    "for doc in db['seller_info'].find():\n",
    "    print doc\n"
   ]
  },
  {
   "cell_type": "markdown",
   "metadata": {},
   "source": [
    "### 创建mongo数据库和用户并分配权限"
   ]
  },
  {
   "cell_type": "code",
   "execution_count": null,
   "metadata": {},
   "outputs": [],
   "source": [
    "use Cloud_Dev\n",
    "db.createUser(\n",
    "     {\n",
    "       user:\"Cloud_Dev\",\n",
    "       pwd:\"asdBZ7HRX6X1\",\n",
    "       roles:[{role:\"Cloud_Dev\",db:\"readWrite\"}]\n",
    "     }\n",
    "  )"
   ]
  },
  {
   "cell_type": "markdown",
   "metadata": {},
   "source": [
    "### 重命名字段名"
   ]
  },
  {
   "cell_type": "markdown",
   "metadata": {},
   "source": [
    "`db.getCollection('process').update({}, {$rename:{'wr_kB/s': 'wrio'}}, false, true)`"
   ]
  },
  {
   "cell_type": "markdown",
   "metadata": {},
   "source": [
    "### 重命名一个内嵌文档字段"
   ]
  },
  {
   "cell_type": "markdown",
   "metadata": {},
   "source": [
    "调用$rename操作符使用点号引用字段\n",
    "\n",
    "`db.students.update({_id:1}, {$rename:{\"name.first\":\"name.fname\"}})`"
   ]
  },
  {
   "cell_type": "markdown",
   "metadata": {},
   "source": [
    "### 新增字段"
   ]
  },
  {
   "cell_type": "markdown",
   "metadata": {},
   "source": [
    "`db.getCollection('server').update({}, {$set:{'os': 'linux'}}, {multi: 1})`\n",
    "\n",
    "multi表示所有文档都插入字段,没有multi表示只在一条记录中插入该字段"
   ]
  }
 ],
 "metadata": {
  "kernelspec": {
   "display_name": "Python 3",
   "language": "python",
   "name": "python3"
  },
  "language_info": {
   "codemirror_mode": {
    "name": "ipython",
    "version": 3
   },
   "file_extension": ".py",
   "mimetype": "text/x-python",
   "name": "python",
   "nbconvert_exporter": "python",
   "pygments_lexer": "ipython3",
   "version": "3.6.4"
  }
 },
 "nbformat": 4,
 "nbformat_minor": 2
}
