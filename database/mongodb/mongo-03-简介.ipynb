{
 "cells": [
  {
   "cell_type": "markdown",
   "metadata": {},
   "source": [
    "# mongodb-简介"
   ]
  },
  {
   "cell_type": "markdown",
   "metadata": {},
   "source": [
    "## 简介"
   ]
  },
  {
   "cell_type": "markdown",
   "metadata": {},
   "source": [
    "MongoDB是采用Bson格式存储的非关系型数据库.\n",
    "\n",
    "BSON格式比JSON数据类型更加丰富，支持ObjectId、日期类型、正则表达式、JS代码、二进制数据等."
   ]
  },
  {
   "cell_type": "markdown",
   "metadata": {},
   "source": [
    "### 注意事项"
   ]
  },
  {
   "cell_type": "markdown",
   "metadata": {},
   "source": [
    "* MongoDB 不支持事务\n",
    "* MongoDB 不支持多表连接查询\n",
    "* MongoDB 中的键值对是有序的，相同的键值对，不同的顺序，属于不同的文档\n",
    "* new Date() 返回日期对象，属于日期类型，Date()函数返回日期字符串，在Shell中操作日期要使用日期类型， 日期类型是包含时区的\n",
    "* _id的值可以是任意类型，默认是ObjectId类型，\n",
    "    * 可以在分片环境中生成唯一的标识符（时间戳（单位：秒）+主机的唯一标示（主机名的hash值）+进程标识符PID+自动增加的计数器）， \n",
    "    * 通过时间戳可以大概知道ObjectId大概是按时间先后排序的，\n",
    "    * 主机的唯一标示可以用于保证在多台服务器器上不重复，\n",
    "    * 进程ID为了保证同台服务器器上多个不同的进程之间生成不重复 值，\n",
    "    * 最后一部分是一个自增的计数器， 前面三部分是为了保证同一秒在同一台机器上的同一个进程上生成一个唯一的值，\n",
    "    * 最后一部分用于保证在同一秒、同一台机器、同一个进程 在同一秒内（注意是同一秒内）生成唯一值"
   ]
  },
  {
   "cell_type": "markdown",
   "metadata": {},
   "source": [
    "### mongodb中一些特殊的键(修改器、操作符等)"
   ]
  },
  {
   "cell_type": "markdown",
   "metadata": {},
   "source": [
    "以 $ 开头，如 :\n",
    "\n",
    "```\n",
    "$set: 更新字段\n",
    "$unset: 删除字段 \n",
    "$inc: 自增或自减\n",
    "$and、$or、$in、$nin、$nor、$exists :用于判断文档中是否包含某字段\n",
    "$push: 向数组中尾部添加一个元素\n",
    "$pushAll: 将数组中的所有值push\n",
    "$addToSet: 向set集合中添加元素\n",
    "$pop: 删除数组中的头部或尾部元素\n",
    "$pull: 删除数组中指定的值\n",
    "$size : 根据数组的长度进行筛选\n",
    "$slice: 返回数组中部分元素，如前几个、后几个、中间连续几个元素\n",
    "$elemMatch: 用于匹配数组中的多个条件\n",
    "$where: 自定义筛选条件，效率比较低，需要将bson转为js对象，不能使用索引，可先使用普通查询过滤掉部分不满足条件的文档，然后再使用where，尽量减少where操作文档的数量过大\n",
    "```"
   ]
  },
  {
   "cell_type": "markdown",
   "metadata": {},
   "source": [
    "### MongoDB 与 关系型数据库的对比"
   ]
  },
  {
   "cell_type": "markdown",
   "metadata": {},
   "source": [
    "* MongoDB ———-> SQL\n",
    "* database数据库 —->database数据库\n",
    "* collection集合——->table表\n",
    "* document文档—-> row 行\n",
    "* filed字段——-> column列\n",
    "* index索引—–> index索引\n",
    "* 不支持多表连接查询—> 支持多表连接查询\n",
    "\n",
    "注意: 在使用Shell中的方法时，很多方法都是有重载函数的"
   ]
  },
  {
   "cell_type": "markdown",
   "metadata": {},
   "source": [
    "### mongo客户端连接数据库"
   ]
  },
  {
   "cell_type": "markdown",
   "metadata": {},
   "source": [
    "IP默认的是127.0.0.1, Port默认的是27017\n",
    "\n",
    "database默认的是test，\n",
    "\n",
    "mongodb中默认有两个数据库admin、local"
   ]
  },
  {
   "cell_type": "markdown",
   "metadata": {},
   "source": [
    "### 用户创建及权限控制"
   ]
  },
  {
   "cell_type": "markdown",
   "metadata": {},
   "source": [
    "创建一个帐号，该账号需要有grant权限, 即：账号管理的授权权限。\n",
    "\n",
    "注意一点，帐号是跟着库走的，所以在指定库里授权，必须也在指定库里验证(auth)。"
   ]
  },
  {
   "cell_type": "markdown",
   "metadata": {},
   "source": [
    "### 角色"
   ]
  },
  {
   "cell_type": "markdown",
   "metadata": {},
   "source": [
    " Built-In Roles（内置角色）：\n",
    " \n",
    "1. 数据库用户角色：read、readWrite;\n",
    "2. 数据库管理角色：dbAdmin、dbOwner、userAdmin；\n",
    "3. 集群管理角色：clusterAdmin、clusterManager、clusterMonitor、hostManager；\n",
    "4. 备份恢复角色：backup、restore；\n",
    "5. 所有数据库角色：readAnyDatabase、readWriteAnyDatabase、userAdminAnyDatabase、dbAdminAnyDatabase\n",
    "\n",
    "// 这里还有几个角色间接或直接提供了系统超级用户的访问（dbOwner 、userAdmin、userAdminAnyDatabase）\n",
    "\n",
    "具体角色:\n",
    "1. Read：允许用户读取指定数据库\n",
    "2. readWrite：允许用户读写指定数据库\n",
    "3. dbAdmin：允许用户在指定数据库中执行管理函数，如索引创建、删除，查看统计或访问system.profile\n",
    "4. userAdmin：允许用户向system.users集合写入，可以找指定数据库里创建、删除和管理用户\n",
    "\n",
    "5. clusterAdmin：只在admin数据库中可用，赋予用户所有分片和复制集相关函数的管理权限。\n",
    "6. readAnyDatabase：只在admin数据库中可用，赋予用户所有数据库的读权限\n",
    "7. readWriteAnyDatabase：只在admin数据库中可用，赋予用户所有数据库的读写权限\n",
    "8. userAdminAnyDatabase：只在admin数据库中可用，赋予用户所有数据库的userAdmin权限\n",
    "9. dbAdminAnyDatabase：只在admin数据库中可用，赋予用户所有数据库的dbAdmin权限。"
   ]
  }
 ],
 "metadata": {
  "kernelspec": {
   "display_name": "Python 3",
   "language": "python",
   "name": "python3"
  },
  "language_info": {
   "codemirror_mode": {
    "name": "ipython",
    "version": 3
   },
   "file_extension": ".py",
   "mimetype": "text/x-python",
   "name": "python",
   "nbconvert_exporter": "python",
   "pygments_lexer": "ipython3",
   "version": "3.6.4"
  }
 },
 "nbformat": 4,
 "nbformat_minor": 2
}
