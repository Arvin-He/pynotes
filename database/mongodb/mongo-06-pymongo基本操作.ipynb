{
 "cells": [
  {
   "cell_type": "markdown",
   "metadata": {},
   "source": [
    "# pymongo基本操作"
   ]
  },
  {
   "cell_type": "markdown",
   "metadata": {},
   "source": [
    "### 创建数据库"
   ]
  },
  {
   "cell_type": "code",
   "execution_count": null,
   "metadata": {},
   "outputs": [],
   "source": [
    "import pymongo\n",
    "\n",
    "# 仅仅创建mongodb连接,但未验证,没有连接到具体的数据库,相当于打开一个shell\n",
    "client = pymongo.MongoClient(host='127.0.0.1', port=27017)\n",
    "# 创建数据库\n",
    "db = pymongo.database.Database(client, 'testdb')\n",
    "db.command(\"updateUser\", \"arvin\", pwd=\"arvin123\")\n",
    "\n",
    "# 创建管理员用户,密码和权限\n",
    "db.command(\"createUser\", \"admin\", pwd=\"admin@123456.\", roles=[\"root\"])\n",
    "# 创建普通用户,密码和读取权限\n",
    "db.command(\"createUser\", \"arvin\", pwd=\"arvin@123456.\", roles=[\"readWrite\"])"
   ]
  },
  {
   "cell_type": "markdown",
   "metadata": {},
   "source": [
    "### 检测mongodb服务是否可用"
   ]
  },
  {
   "cell_type": "code",
   "execution_count": 42,
   "metadata": {},
   "outputs": [
    {
     "name": "stdout",
     "output_type": "stream",
     "text": [
      "Server is available\n"
     ]
    }
   ],
   "source": [
    "from pymongo import MongoClient\n",
    "from pymongo.errors import ConnectionFailure\n",
    "\n",
    "client = MongoClient()\n",
    "\n",
    "try:\n",
    "    # The ismaster command is cheap and does not require auth.\n",
    "    client.admin.command('ismaster')\n",
    "    print('Server is available')\n",
    "except ConnectionFailure:\n",
    "    print(\"Server is not available\")"
   ]
  },
  {
   "cell_type": "markdown",
   "metadata": {},
   "source": [
    "### 连接mongodb(无auth验证)"
   ]
  },
  {
   "cell_type": "markdown",
   "metadata": {},
   "source": [
    "无验证式连接数据库通常是在第一次连接数据库时使用到,此时没有建立数据库,没有配置用户角色和读写权限."
   ]
  },
  {
   "cell_type": "code",
   "execution_count": 26,
   "metadata": {},
   "outputs": [
    {
     "data": {
      "text/plain": [
       "{'ok': 1.0}"
      ]
     },
     "execution_count": 26,
     "metadata": {},
     "output_type": "execute_result"
    }
   ],
   "source": [
    "import pymongo\n",
    "\n",
    "# 仅仅创建mongodb连接,但未验证,没有连接到具体的数据库,相当于打开一个shell\n",
    "client = pymongo.MongoClient(host='127.0.0.1', port=27017)\n",
    "# 创建数据库\n",
    "db = pymongo.database.Database(client, 'testdb')\n",
    "db.command(\"updateUser\", \"arvin\", pwd=\"arvin123\")\n",
    "\n",
    "# 创建管理员用户,密码和权限\n",
    "db.command(\"createUser\", \"admin\", pwd=\"admin@123456.\", roles=[\"root\"])\n",
    "# 创建普通用户,密码和读取权限\n",
    "db.command(\"createUser\", \"arvin\", pwd=\"arvin@123456.\", roles=[\"readWrite\"])\n",
    "# 创建普通用户,密码和只读权限\n",
    "db.command(\"createUser\", \"xiaoming\", pwd=\"xiaoming@123456.\", roles=[\"read\"])\n",
    "# 创建普通用户,密码和只写权限\n",
    "db.command(\"createUser\", \"xiaohong\", pwd=\"xiaohong@123456.\", roles=[\"write\"])\n",
    "# 修改用户密码\n",
    "db.command(\"updateUser\", \"xiaoming\", pwd=\"xiaoming@123.\")\n",
    "# 修改用户读取权限\n",
    "db.command(\"updateUser\", \"xiaoming\", roles=[\"readWrite\"])"
   ]
  },
  {
   "cell_type": "markdown",
   "metadata": {},
   "source": [
    "### mongodb连接(带有auth验证)"
   ]
  },
  {
   "cell_type": "markdown",
   "metadata": {},
   "source": [
    "pymongo是线程安全的,但是不是fork-safe. 当多进程使用同一个client实例会报错:\n",
    "\n",
    "**解决办法:** 在连接mongo数据库时,设置关键字`connect=False`,即在mongodb实例化时不建立连接,等到有数据库操作才进行数据库连接."
   ]
  },
  {
   "cell_type": "code",
   "execution_count": null,
   "metadata": {},
   "outputs": [],
   "source": [
    "import pymongo\n",
    "\n",
    "try:\n",
    "    # Python 3.x\n",
    "    from urllib.parse import quote_plus\n",
    "except ImportError:\n",
    "    # Python 2.x\n",
    "    from urllib import quote_plus\n",
    "\n",
    "MONGODB = {\n",
    "    \"user\": \"arvin\",\n",
    "    \"passwd\": \"arvin@123456.\",\n",
    "    \"host\": \"127.0.0.1:27017\",\n",
    "    \"dbname\": \"testdb\"\n",
    "}\n",
    "\n",
    "# 方式一\n",
    "# 以类的方式创建mongodb的实例\n",
    "class ConnectMongo(object):\n",
    "    \n",
    "        def __init__(self, MONGODB):\n",
    "        self.client = MongoClient(\n",
    "            'mongodb://{}:{}@{}/{}'.format(MONGODB['user'],\n",
    "                                           MONGODB['passwd'],\n",
    "                                           MONGODB['host'],\n",
    "                                           MONGODB['dbname']),\n",
    "            connect=False\n",
    "        )\n",
    "        self.mongodb = self.client[MONGODB['dbname']]\n",
    "\n",
    "    def __del__(self):\n",
    "        self.client.close()\n",
    "        \n",
    "# 方式二        \n",
    "def connect_mongo(MONGODB):\n",
    "    client = MongoClient(\n",
    "        'mongodb://{}:{}@{}/{}'.format(MONGODB['user'],\n",
    "                                       MONGODB['passwd'],\n",
    "                                       MONGODB['host'],\n",
    "                                       MONGODB['dbname']),\n",
    "        connect=False)\n",
    "    mongodb = client[MONGODB['dbname']]\n",
    "    return mongodb\n",
    "\n",
    "# 方式三: 处理特殊字符 \n",
    "def connect_mongo(mongo_param):\n",
    "    uri =  'mongodb://{}:{}@{}/{}'.format(quote_plus(mongo_param['user']),\n",
    "                                          quote_plus(mongo_param['passwd']),\n",
    "                                          mongo_param['host'],\n",
    "                                          mongo_param['dbname'])\n",
    "    try:\n",
    "        client = pymongo.MongoClient(uri, connect=False)\n",
    "        mongodb = client[mongo_param['dbname']]\n",
    "        return mongodb\n",
    "    except Exception as e:\n",
    "        print(e)"
   ]
  },
  {
   "cell_type": "markdown",
   "metadata": {},
   "source": [
    "**注意:** \n",
    "1. 方式二存在内存泄漏问题,因为创建的client没有在程序结束后close掉.\n",
    "2. 当用户名或密码带有 ‘:’, ‘/’, ‘+’ 和 ‘@’ 这些字符时需要使用百分比编码,否则连接报错: `Username and password must be escaped according to RFC 3986, use urllib.parse.quote_plus().`"
   ]
  },
  {
   "cell_type": "markdown",
   "metadata": {},
   "source": [
    "### 插入数据(insert)"
   ]
  },
  {
   "cell_type": "code",
   "execution_count": 34,
   "metadata": {},
   "outputs": [],
   "source": [
    "import random\n",
    "import pymongo\n",
    "\n",
    "MONGODB = {\n",
    "    \"user\": \"arvin\",\n",
    "    \"passwd\": \"arvin123\",\n",
    "    \"host\": \"127.0.0.1:27017\",\n",
    "    \"dbname\": \"testdb\"\n",
    "}\n",
    "\n",
    "\n",
    "def connect_mongo(mongo_param):\n",
    "    uri =  'mongodb://{}:{}@{}/{}'.format(quote_plus(mongo_param['user']),\n",
    "                                          quote_plus(mongo_param['passwd']),\n",
    "                                          mongo_param['host'],\n",
    "                                          mongo_param['dbname'])\n",
    "    try:\n",
    "        client = pymongo.MongoClient(uri, connect=False)\n",
    "        mongodb = client[mongo_param['dbname']]\n",
    "        return mongodb\n",
    "    except Exception as e:\n",
    "        print(e)\n",
    "        \n",
    "db = connect_mongo(MONGODB)\n",
    "\n",
    "for i in range(10):\n",
    "    name = ['xiaoming', 'frank', 'tom', 'jack', 'bomb']\n",
    "    age = [18, 20, 19, 21, 22, 26, 24]\n",
    "    weight = [120, 150 , 142, 123, 126, 135, 134]\n",
    "    doc = {'name': random.choice(name), 'age':random.choice(age), 'weight': random.choice(weight), 'sex': 'male'}\n",
    "    db['info'].insert_one(doc)\n",
    "\n",
    "# 插入一条数据会返回一个ObjectId对象,ObjectId('5af8f8c62b5eba0bb8fece6d')    \n",
    "result = movie.insert_one(doc)\n",
    "\n"
   ]
  },
  {
   "cell_type": "markdown",
   "metadata": {},
   "source": [
    "### 删除数据(delete)"
   ]
  },
  {
   "cell_type": "code",
   "execution_count": 33,
   "metadata": {},
   "outputs": [
    {
     "data": {
      "text/plain": [
       "<pymongo.results.DeleteResult at 0x200524df5c8>"
      ]
     },
     "execution_count": 33,
     "metadata": {},
     "output_type": "execute_result"
    }
   ],
   "source": [
    "import pymongo\n",
    "\n",
    "MONGODB = {\n",
    "    \"user\": \"arvin\",\n",
    "    \"passwd\": \"arvin123\",\n",
    "    \"host\": \"127.0.0.1:27017\",\n",
    "    \"dbname\": \"testdb\"\n",
    "}\n",
    "\n",
    "\n",
    "def connect_mongo(mongo_param):\n",
    "    uri =  'mongodb://{}:{}@{}/{}'.format(quote_plus(mongo_param['user']),\n",
    "                                          quote_plus(mongo_param['passwd']),\n",
    "                                          mongo_param['host'],\n",
    "                                          mongo_param['dbname'])\n",
    "    try:\n",
    "        client = pymongo.MongoClient(uri, connect=False)\n",
    "        mongodb = client[mongo_param['dbname']]\n",
    "        return mongodb\n",
    "    except Exception as e:\n",
    "        print(e)\n",
    "        \n",
    "db = connect_mongo(MONGODB)\n",
    "\n",
    "# 删除一条数据\n",
    "db['res_score'].delete_one({})\n",
    "\n",
    "# 删除全部数据\n",
    "db['res_score'].delete_many({})\n"
   ]
  },
  {
   "cell_type": "markdown",
   "metadata": {},
   "source": [
    "### 更新数据(update)"
   ]
  },
  {
   "cell_type": "code",
   "execution_count": 41,
   "metadata": {},
   "outputs": [
    {
     "name": "stdout",
     "output_type": "stream",
     "text": [
      "1\n",
      "0\n",
      "3\n",
      "3\n"
     ]
    }
   ],
   "source": [
    "import pymongo\n",
    "\n",
    "MONGODB = {\n",
    "    \"user\": \"arvin\",\n",
    "    \"passwd\": \"arvin123\",\n",
    "    \"host\": \"127.0.0.1:27017\",\n",
    "    \"dbname\": \"testdb\"\n",
    "}\n",
    "\n",
    "\n",
    "def connect_mongo(mongo_param):\n",
    "    uri =  'mongodb://{}:{}@{}/{}'.format(quote_plus(mongo_param['user']),\n",
    "                                          quote_plus(mongo_param['passwd']),\n",
    "                                          mongo_param['host'],\n",
    "                                          mongo_param['dbname'])\n",
    "    try:\n",
    "        client = pymongo.MongoClient(uri, connect=False)\n",
    "        mongodb = client[mongo_param['dbname']]\n",
    "        return mongodb\n",
    "    except Exception as e:\n",
    "        print(e)\n",
    "        \n",
    "db = connect_mongo(MONGODB)\n",
    "movie = db['info']\n",
    "\n",
    "# 更新一条数据,局部更新(更新某一个字段)\n",
    "result = movie.update_one({'name': 'jack'}, {'$set': {'weight': 132}})\n",
    "\n",
    "print(result.matched_count)\n",
    "print(result.modified_count)\n",
    "\n",
    "# 更新多条数据\n",
    "result = movie.update_many({'name': 'frank'}, {'$set': {'age': 32}})\n",
    "\n",
    "print(result.matched_count)\n",
    "print(result.modified_count)\n",
    "\n",
    "# 更新整个文档\n",
    "movie.update_one({'_id': item.get('_id')}, {' 除了_id字段的整个doc'})"
   ]
  },
  {
   "cell_type": "markdown",
   "metadata": {},
   "source": [
    "### 查询数据"
   ]
  },
  {
   "cell_type": "markdown",
   "metadata": {},
   "source": [
    "#### 查询指定字段最新一条记录"
   ]
  },
  {
   "cell_type": "code",
   "execution_count": null,
   "metadata": {},
   "outputs": [],
   "source": [
    "res = movie.find({}).sort('_id', -1).limit(1)\n",
    "if res:\n",
    "    pprint(res[0])"
   ]
  },
  {
   "cell_type": "markdown",
   "metadata": {},
   "source": [
    "**注意: ** limit返回的是一个迭代器,并不是数据结果"
   ]
  },
  {
   "cell_type": "markdown",
   "metadata": {},
   "source": [
    "#### 查询结果排序"
   ]
  },
  {
   "cell_type": "code",
   "execution_count": null,
   "metadata": {},
   "outputs": [],
   "source": [
    "db.Account.find({}).sort(\"UserName\")  --默认为升序\n",
    "db.Account.find({}).sort(\"UserName\",pymongo.ASCENDING)   --升序\n",
    "db.Account.find({}).sort(\"UserName\",pymongo.DESCENDING)  --降序\n",
    "# 或者\n",
    "db.Account.find({}).sort(\"UserName\", 1)   --升序\n",
    "db.Account.find({}).sort(\"UserName\", -1)  --降序"
   ]
  },
  {
   "cell_type": "markdown",
   "metadata": {},
   "source": [
    "#### 多列结果排序"
   ]
  },
  {
   "cell_type": "code",
   "execution_count": null,
   "metadata": {},
   "outputs": [],
   "source": [
    "db.Account.find().sort([(\"UserName\",pymongo.ASCENDING),(\"Email\",pymongo.DESCENDING)])"
   ]
  },
  {
   "cell_type": "markdown",
   "metadata": {},
   "source": [
    "#### 嵌套查询"
   ]
  },
  {
   "cell_type": "code",
   "execution_count": null,
   "metadata": {},
   "outputs": [],
   "source": [
    "# 查询doc中key为response且response中key为status_code=302 记录的数目\n",
    "db.getCollection('urls').find({'response.status_code': 302}).count()"
   ]
  },
  {
   "cell_type": "markdown",
   "metadata": {},
   "source": [
    "#### 查询返回部分字段,不返回整个文档"
   ]
  },
  {
   "cell_type": "markdown",
   "metadata": {},
   "source": [
    "查询返回部分字段,不返回整个文档可以节省流量,降低带宽\n",
    "\n",
    "* 第一个参数为查询条件，空代表查询所有文档\n",
    "* 第二个参数中 1 代表选取该字段的值, 0代表过滤该字段的值\n",
    "\n",
    "如果需要输出的字段比较多，不想要某个字段，可以用排除字段的方法 \n"
   ]
  },
  {
   "cell_type": "code",
   "execution_count": null,
   "metadata": {},
   "outputs": [],
   "source": [
    "# 返回所有含有title和type字段的值,并不是包含这些字段的所有文档\n",
    "db.news.find( {}, {'title': 1,  'type': 1} )\n",
    "\n",
    "# 查询返回\n",
    "db.news.find( {}, {'title': 1,  'type': 0} )\n",
    "\n",
    "db.inventory.find( { type: 'food' }, { type:0 })\n",
    "\n",
    "\n",
    "# 不输出内容字段，其它字段都输出\n",
    "db.news.find( {}, {content: 0 } )"
   ]
  },
  {
   "cell_type": "markdown",
   "metadata": {},
   "source": [
    "### map-reduce"
   ]
  },
  {
   "cell_type": "code",
   "execution_count": null,
   "metadata": {},
   "outputs": [],
   "source": [
    "from bson.code import Code\n",
    "\n",
    "mapfunc = Code('''function(){emit(this.tel, {platform: this.platform,time:this.time})}''')\n",
    "reducefunc = Code(\n",
    "    '''function(key, values){var time = 0;var platform = \"\";values.forEach(function(doc){if(doc.time>time){time=doc.time;platform=doc.platform;}});return {platform: platform,time:time};}''')\n",
    "finalfunc = Code('''function(key, val){val.tel = key;return val;}''')\n",
    "\n",
    "movie.map_reduce(mapfunc, reducefunc, out=\"collection_name\", query={\n",
    "                 \"tel\": {\"$regex\": '^[0-9]+$'}, \"time\": {\"$gte\": 0}}, finalize=finalfunc)"
   ]
  },
  {
   "cell_type": "code",
   "execution_count": 56,
   "metadata": {},
   "outputs": [],
   "source": [
    "import random\n",
    "import pymongo\n",
    "\n",
    "MONGODB = {\n",
    "    \"user\": \"arvin\",\n",
    "    \"passwd\": \"arvin123\",\n",
    "    \"host\": \"127.0.0.1:27017\",\n",
    "    \"dbname\": \"testdb\"\n",
    "}\n",
    "\n",
    "\n",
    "def connect_mongo(mongo_param):\n",
    "    uri =  'mongodb://{}:{}@{}/{}'.format(quote_plus(mongo_param['user']),\n",
    "                                          quote_plus(mongo_param['passwd']),\n",
    "                                          mongo_param['host'],\n",
    "                                          mongo_param['dbname'])\n",
    "    try:\n",
    "        client = pymongo.MongoClient(uri, connect=False)\n",
    "        mongodb = client[mongo_param['dbname']]\n",
    "        return mongodb\n",
    "    except Exception as e:\n",
    "        print(e)\n",
    "        \n",
    "db = connect_mongo(MONGODB)\n",
    "\n",
    "doc = {'site': 'https://www.xxxxxx.com'}\n",
    "res = db['score'].insert_one(doc)\n",
    "\n",
    "\n",
    "try:\n",
    "    for year in [2018, 2019, 2020]:\n",
    "        for month in range(1, 13):\n",
    "            for day in range(1, 30):\n",
    "                date_str = '{}-{}-{}'.format(year, month, day)\n",
    "                data = [random.choice(range(30, 99)) for i in range(4)]\n",
    "                db['score'].update_one({'_id': res.inserted_id}, {'$set': {date_str: data}}, upsert=True)\n",
    "except Exception as e:\n",
    "    print(e)\n",
    "                \n",
    "\n",
    "# for i in range(10):\n",
    "#     name = ['xiaoming', 'frank', 'tom', 'jack', 'bomb']\n",
    "#     age = [18, 20, 19, 21, 22, 26, 24]\n",
    "#     weight = [120, 150 , 142, 123, 126, 135, 134]\n",
    "#     doc = {'name': random.choice(name), 'age':random.choice(age), 'weight': random.choice(weight), 'sex': 'male'}\n",
    "#     db['info'].insert_one(doc)\n",
    "\n",
    "# # 插入一条数据会返回一个ObjectId对象,ObjectId('5af8f8c62b5eba0bb8fece6d')    \n",
    "# result = movie.insert_one(doc)\n"
   ]
  },
  {
   "cell_type": "code",
   "execution_count": 4,
   "metadata": {},
   "outputs": [],
   "source": [
    "import pymongo\n",
    "\n",
    "# 仅仅创建mongodb连接,但未验证,没有连接到具体的数据库,相当于打开一个shell\n",
    "client = pymongo.MongoClient(host='192.168.1.141', port=27017)\n",
    "# 创建数据库\n",
    "db = pymongo.database.Database(client, 'goshawk_test')\n",
    "# db.command(\"createUser\", \"Goshawk\", pwd=\"yYZmrjJ8xauAe#t7\", roles=[\"readWrite\"])\n",
    "\n",
    "# 创建管理员用户,密码和权限\n",
    "# db.command(\"createUser\", \"admin\", pwd=\"admin@123456.\", roles=[\"root\"])\n",
    "# 创建普通用户,密码和读取权限\n",
    "# db.command(\"createUser\", \"arvin\", pwd=\"arvin@123456.\", roles=[\"readWrite\"])"
   ]
  },
  {
   "cell_type": "code",
   "execution_count": 10,
   "metadata": {},
   "outputs": [
    {
     "name": "stdout",
     "output_type": "stream",
     "text": [
      "b'Aug 30 14:53:39 ubuntu sshd[7636]: Accepted password for root from 192.168.187.1 port 7436 ssh2\\n'\n",
      "['Accepted', 'password', 'for', 'root', 'from', '192.168.187.1', 'port', '7436', 'ssh2']\n",
      "['Accepted', 'root', '192.168.187.1', '7436']\n",
      "ssh data:  [{'time': 'Aug 30 14:53:39 ', 'status': 'Accepted', 'user': 'root', 'IP': '192.168.187.1', 'port': '7436', 'token': 'b2ddbd9212bf6c62cd658fab8c9ddd0a'}]\n"
     ]
    }
   ],
   "source": [
    "from itertools import zip_longest\n",
    "\n",
    "data = b'Aug 30 14:53:39 ubuntu sshd[7636]: Accepted password for root from 192.168.187.1 port 7436 ssh2\\n'\n",
    "token = 'b2ddbd9212bf6c62cd658fab8c9ddd0a'\n",
    "platform = 'linux'\n",
    "\n",
    "def preprocess_data(data, platform):\n",
    "    data_list = []\n",
    "    lines = []\n",
    "    if platform == 'windows':\n",
    "        lines = data.split(b'\\r\\n')\n",
    "    elif platform == 'linux':\n",
    "        lines = data.split(b'\\n')\n",
    "    for line in lines:\n",
    "        if line:\n",
    "            try:\n",
    "                str_line = line.decode()\n",
    "            except:\n",
    "                logging.error(\"data: {}, decode error: can't decode with utf-8.\".format(line))\n",
    "                str_line = str(line)[2:-1]\n",
    "            data_list.append(str_line.strip())\n",
    "    return data_list\n",
    "\n",
    "\n",
    "def _handle_ssh_detail(line):\n",
    "    str_time = line[:16]\n",
    "    data = {'time': str_time}\n",
    "    KEYS = ['status', 'user', 'IP', 'port']\n",
    "    content = line[line.rfind(':')+1:].strip()\n",
    "    details = content.split(' ')\n",
    "    details = [item for item in details if details]\n",
    "    print(details)\n",
    "    details.pop(details.index('for')-1)\n",
    "    details.pop(details.index('for'))\n",
    "    details.pop(details.index('from'))\n",
    "    details.pop(details.index('port')+2)\n",
    "    details.pop(details.index('port'))\n",
    "    for k, v in zip_longest(KEYS, details, fillvalue='_'):\n",
    "        data[k] = v\n",
    "    print(details)\n",
    "    return data\n",
    "\n",
    "\n",
    "def handle_ssh_data(data, platform, token):\n",
    "    print(data)\n",
    "    data_list = []\n",
    "    lines = []\n",
    "    for line in preprocess_data(data, platform):\n",
    "        if 'sshd' in line and 'session' not in line:\n",
    "            lines.append(line)\n",
    "\n",
    "    for line in lines:\n",
    "        data_item = _handle_ssh_detail(line)\n",
    "        data_item['token'] = token\n",
    "        data_list.append(data_item)\n",
    "    print('ssh data: ', data_list)\n",
    "\n",
    "handle_ssh_data(data, platform, token)"
   ]
  },
  {
   "cell_type": "markdown",
   "metadata": {},
   "source": [
    "### mongo分页操作"
   ]
  },
  {
   "cell_type": "markdown",
   "metadata": {},
   "source": [
    "db.collection.find({}).slip(index).limit(num)"
   ]
  },
  {
   "cell_type": "markdown",
   "metadata": {},
   "source": [
    "### 值大小比较过滤"
   ]
  },
  {
   "cell_type": "markdown",
   "metadata": {},
   "source": [
    "```\n",
    "cursor = db['sys'].find({'token': token, 'time': {'$gt': start}}, {'_id': 0, 'average': 1, 'time': 1})\n",
    "cursor = db['sys'].find({'token': token, 'time': {'$lt': end}}, {'_id': 0, 'average': 1, 'time': 1})\n",
    "cursor = db['sys'].find({'token': token, 'time': {'$gte': start}}, {'_id': 0, 'average': 1, 'time': 1})\n",
    "cursor = db['sys'].find({'token': token, 'time': {'$lte': end}}, {'_id': 0, 'average': 1, 'time': 1})\n",
    "cursor = db['sys'].find({'token': token, 'time': {'$gt': start, '$lt': end}}, {'_id': 0, 'average': 1, 'time': 1})\n",
    "cursor = db['sys'].find({'token': token, 'time': {'$ne': start}}, {'_id': 0, 'average': 1, 'time': 1})\n",
    "```"
   ]
  },
  {
   "cell_type": "markdown",
   "metadata": {},
   "source": [
    "### 根据字段排序"
   ]
  },
  {
   "cell_type": "markdown",
   "metadata": {},
   "source": [
    "pymongo中排序(默认为升序):\n",
    "* 升序: pymongo.ASCENDING = 1\n",
    "* 降序: pymongo.DESCENDING = -1\n",
    "\n",
    "单个字段排序:\n",
    "\n",
    "```\n",
    "db.Account.find().sort(\"UserName\")  --默认为升序\n",
    "db.Account.find().sort(\"UserName\",pymongo.ASCENDING)   --升序\n",
    "db.Account.find().sort(\"UserName\",pymongo.DESCENDING)  --降序\n",
    "```\n",
    "\n",
    "多字段排序:\n",
    "```\n",
    "db.Account.find().sort([(\"UserName\", pymongo.ASCENDING),(\"Email\",pymongo.DESCENDING)])\n",
    "```"
   ]
  },
  {
   "cell_type": "markdown",
   "metadata": {},
   "source": [
    "### in 和 not in (`$in $nin`) 判断数据是否存在某个集合"
   ]
  },
  {
   "cell_type": "markdown",
   "metadata": {},
   "source": [
    "```\n",
    "db.collection.find({\"field\":{$in:array}});\n",
    "\n",
    "\n",
    "db.things.find({j:{$in: [2,4,6]}});\n",
    "db.things.find({j:{$nin: [2,4,6]}});\n",
    "```"
   ]
  },
  {
   "cell_type": "markdown",
   "metadata": {},
   "source": [
    "### 取模运算($mod)"
   ]
  },
  {
   "cell_type": "markdown",
   "metadata": {},
   "source": [
    "```\n",
    "db.things.find(\"this.a%10 == 1\")\n",
    "\n",
    "db.things.find({a:{$mod:[10, 1]}})\n",
    "```"
   ]
  },
  {
   "cell_type": "markdown",
   "metadata": {},
   "source": [
    "\n",
    "4) 取模运算$mod\n",
    "\n",
    "如下面的运算：\n",
    "db.things.find( \"this.a % 10 == 1\")\n",
    "可用$mod代替：\n",
    "\n",
    "db.things.find( { a : { $mod : [ 10 , 1 ] } } )\n",
    "\n",
    "\n",
    "5)  $all\n",
    "\n",
    "$all和$in类似，但是他需要匹配条件内所有的值：\n",
    "\n",
    "如有一个对象：\n",
    "\n",
    "{ a: [ 1, 2, 3 ] }\n",
    "下面这个条件是可以匹配的：\n",
    "\n",
    "db.things.find( { a: { $all: [ 2, 3 ] } } );\n",
    "但是下面这个条件就不行了：\n",
    "\n",
    "db.things.find( { a: { $all: [ 2, 3, 4 ] } } );\n",
    "\n",
    "6)  $size\n",
    "\n",
    "$size是匹配数组内的元素数量的，如有一个对象：{a:[\"foo\"]}，他只有一个元素：\n",
    "\n",
    "下面的语句就可以匹配：db.things.find( { a : { $size: 1 } } );\n",
    "官网上说不能用来匹配一个范围内的元素，如果想找$size<5之类的，他们建议创建一个字段来保存元素的数量。\n",
    "\n",
    "You cannot use $size to find a range of sizes (for example: arrays with more than 1 element). If you need to query for a range, create an extra size field that you increment when you add elements.\n",
    "\n",
    "7）$exists\n",
    "\n",
    "$exists用来判断一个元素是否存在：\n",
    "\n",
    "如：\n",
    "\n",
    "db.things.find( { a : { $exists : true } } ); // 如果存在元素a,就返回\n",
    "db.things.find( { a : { $exists : false } } ); // 如果不存在元素a，就返回\n",
    "\n",
    "8)  $type\n",
    "\n",
    "$type 基于 bson type来匹配一个元素的类型，像是按照类型ID来匹配，不过我没找到bson类型和id对照表。\n",
    "\n",
    "db.things.find( { a : { $type : 2 } } ); // matches if a is a string\n",
    "db.things.find( { a : { $type : 16 } } ); // matches if a is an int\n",
    "9）正则表达式\n",
    "\n",
    "mongo支持正则表达式，如：\n",
    "\n",
    "db.customers.find( { name : /acme.*corp/i } ); // 后面的i的意思是区分大小写\n",
    "\n",
    "10)  查询数据内的值\n",
    "\n",
    "下面的查询是查询colors内red的记录，如果colors元素是一个数据,数据库将遍历这个数组的元素来查询。db.things.find( { colors : \"red\" } );\n",
    "\n",
    "11) $elemMatch\n",
    "\n",
    "如果对象有一个元素是数组，那么$elemMatch可以匹配内数组内的元素：\n",
    "\n",
    "> t.find( { x : { $elemMatch : { a : 1, b : { $gt : 1 } } } } ) \n",
    "{ \"_id\" : ObjectId(\"4b5783300334000000000aa9\"), \n",
    "\"x\" : [ { \"a\" : 1, \"b\" : 3 }, 7, { \"b\" : 99 }, { \"a\" : 11 } ]\n",
    "}$elemMatch : { a : 1, b : { $gt : 1 } } 所有的条件都要匹配上才行。\n",
    "注意，上面的语句和下面是不一样的。\n",
    "\n",
    "> t.find( { \"x.a\" : 1, \"x.b\" : { $gt : 1 } } )\n",
    "$elemMatch是匹配{ \"a\" : 1, \"b\" : 3 }，而后面一句是匹配{ \"b\" : 99 }, { \"a\" : 11 } \n",
    "\n",
    "\n",
    "12)  查询嵌入对象的值\n",
    "\n",
    "db.postings.find( { \"author.name\" : \"joe\" } );\n",
    "注意用法是author.name，用一个点就行了。更详细的可以看这个链接： dot notation\n",
    "\n",
    "举个例子：\n",
    "\n",
    "> db.blog.save({ title : \"My First Post\", author: {name : \"Jane\", id : 1}})\n",
    "如果我们要查询 authors name 是Jane的, 我们可以这样：\n",
    "\n",
    "> db.blog.findOne({\"author.name\" : \"Jane\"})\n",
    "如果不用点，那就需要用下面这句才能匹配：\n",
    "\n",
    "db.blog.findOne({\"author\" : {\"name\" : \"Jane\", \"id\" : 1}})\n",
    "下面这句：\n",
    "\n",
    "db.blog.findOne({\"author\" : {\"name\" : \"Jane\"}})\n",
    "是不能匹配的，因为mongodb对于子对象，他是精确匹配。\n",
    "\n",
    "13) 元操作符 $not 取反\n",
    "\n",
    "如：\n",
    "\n",
    "db.customers.find( { name : { $not : /acme.*corp/i } } );db.things.find( { a : { $not : { $mod : [ 10 , 1 ] } } } ); mongodb还有很多函数可以用，如排序，统计等，请参考原文。\n",
    "\n",
    "mongodb目前没有或(or)操作符，只能用变通的办法代替，可以参考下面的链接：\n",
    "\n",
    "http://www.mongodb.org/display/DOCS/OR+operations+in+query+expressions"
   ]
  }
 ],
 "metadata": {
  "kernelspec": {
   "display_name": "Python 3",
   "language": "python",
   "name": "python3"
  },
  "language_info": {
   "codemirror_mode": {
    "name": "ipython",
    "version": 3
   },
   "file_extension": ".py",
   "mimetype": "text/x-python",
   "name": "python",
   "nbconvert_exporter": "python",
   "pygments_lexer": "ipython3",
   "version": "3.6.4"
  }
 },
 "nbformat": 4,
 "nbformat_minor": 2
}
