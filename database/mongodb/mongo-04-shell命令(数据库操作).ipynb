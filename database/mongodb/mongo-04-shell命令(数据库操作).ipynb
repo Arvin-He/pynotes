{
 "cells": [
  {
   "cell_type": "markdown",
   "metadata": {},
   "source": [
    "# 数据库操作shell命令"
   ]
  },
  {
   "cell_type": "markdown",
   "metadata": {},
   "source": [
    "### 查看版本号"
   ]
  },
  {
   "cell_type": "markdown",
   "metadata": {},
   "source": [
    "```\n",
    "mongo --version\n",
    "MongoDB shell version v3.6.3\n",
    "git version: 9586e557d54ef70f9ca4b43c26892cd55257e1a5\n",
    "OpenSSL version: OpenSSL 1.0.1u-fips  22 Sep 2016\n",
    "allocator: tcmalloc\n",
    "modules: none\n",
    "build environment:\n",
    "    distmod: 2008plus-ssl\n",
    "    distarch: x86_64\n",
    "    target_arch: x86_64\n",
    "```  \n",
    "\n",
    "注意: \n",
    "1. 这个命令在控制台输入,而不是mongodb交互环境中的命令\n",
    "2. 一般用于安装好,检查mongodb是否安装成功"
   ]
  },
  {
   "cell_type": "markdown",
   "metadata": {},
   "source": [
    "### 进入和退出mongo的shell环境"
   ]
  },
  {
   "cell_type": "markdown",
   "metadata": {},
   "source": [
    "进入mongo shell环境:\n",
    "```\n",
    "> mongo\n",
    "MongoDB shell version v3.6.3\n",
    "connecting to: mongodb://127.0.0.1:27017\n",
    "MongoDB server version: 3.6.3\n",
    "Server has startup warnings:\n",
    "...\n",
    "```\n",
    "\n",
    "退出mongo shell环境:\n",
    "```\n",
    "> exit\n",
    "bye\n",
    "```"
   ]
  },
  {
   "cell_type": "markdown",
   "metadata": {},
   "source": [
    "### 在本地访问服务器上的mongo"
   ]
  },
  {
   "cell_type": "markdown",
   "metadata": {},
   "source": [
    "1. 本地安装mongodb\n",
    "2. 在终端输入: \n",
    "    * 方式一: `mongo ip:port/dbname -u username -p`, 回车然后输入密码,或者`mongo ip:port/dbname -u username -p passwd`,回车\n",
    "    * 方式二: `mongo -u username -p passwd 192.168.0.197:27017/dbname`, 回车\n",
    "\n",
    "其中, ip是服务器的ip, port是服务器上mongo指定的端口, dbname是你要访问的数据库, dbname不能少"
   ]
  },
  {
   "cell_type": "markdown",
   "metadata": {},
   "source": [
    "### 创建管理用户"
   ]
  },
  {
   "cell_type": "markdown",
   "metadata": {},
   "source": [
    "mongodb没有超级无敌用户root,只有管理用户的用户: userAdminAnyDatabase"
   ]
  },
  {
   "cell_type": "markdown",
   "metadata": {},
   "source": [
    "### 查看帮助信息"
   ]
  },
  {
   "cell_type": "markdown",
   "metadata": {},
   "source": [
    "```\n",
    "// 查看所有数据级别的操作\n",
    "> db.help()\n",
    "// 查看集合级别的操作\n",
    "> db.mycoll.help()\n",
    "// 列举数据库命令\n",
    "> db.listCommands()\n",
    "```"
   ]
  },
  {
   "cell_type": "markdown",
   "metadata": {},
   "source": [
    "### 显示当前正在使用的数据库"
   ]
  },
  {
   "cell_type": "markdown",
   "metadata": {},
   "source": [
    "```\n",
    "> db\n",
    "test\n",
    "```"
   ]
  },
  {
   "cell_type": "markdown",
   "metadata": {},
   "source": [
    "### 显示当前数据库的用户信息"
   ]
  },
  {
   "cell_type": "markdown",
   "metadata": {},
   "source": [
    "```\n",
    "> show users\n",
    "{\n",
    "        \"_id\" : \"admin.root\",\n",
    "        \"user\" : \"root\",\n",
    "        \"db\" : \"admin\",\n",
    "        \"roles\" : [\n",
    "                {\n",
    "                        \"role\" : \"userAdminAnyDatabase\",\n",
    "                        \"db\" : \"admin\"\n",
    "                }\n",
    "        ]\n",
    "}\n",
    "```"
   ]
  },
  {
   "cell_type": "markdown",
   "metadata": {},
   "source": [
    "### 显示所有数据库"
   ]
  },
  {
   "cell_type": "markdown",
   "metadata": {},
   "source": [
    "```\n",
    "> show dbs\n",
    "hawk  0.136GB\n",
    "admin    0.000GB\n",
    "config   0.000GB\n",
    "local    0.000GB\n",
    "testdb   0.001GB\n",
    "```"
   ]
  },
  {
   "cell_type": "markdown",
   "metadata": {},
   "source": [
    "### 切换到指定数据库"
   ]
  },
  {
   "cell_type": "markdown",
   "metadata": {},
   "source": [
    "```\n",
    "> use testdb\n",
    "switched to db testdb\n",
    "```"
   ]
  },
  {
   "cell_type": "markdown",
   "metadata": {},
   "source": [
    "### 显示当前数据库中所有的集合"
   ]
  },
  {
   "cell_type": "markdown",
   "metadata": {},
   "source": [
    "```\n",
    "> show collections\n",
    "info\n",
    "users\n",
    "score\n",
    "```\n",
    "或者\n",
    "`db.getCollectionNames()`"
   ]
  },
  {
   "cell_type": "markdown",
   "metadata": {},
   "source": [
    "### 查询指定数据库统计信息"
   ]
  },
  {
   "cell_type": "markdown",
   "metadata": {},
   "source": [
    "```\n",
    "use dbname\n",
    "db.stats()\n",
    "```"
   ]
  },
  {
   "cell_type": "markdown",
   "metadata": {},
   "source": [
    "### 创建一个集合"
   ]
  },
  {
   "cell_type": "markdown",
   "metadata": {},
   "source": [
    "```\n",
    "> db.createCollection(\"users\")\n",
    "{ \"ok\" : 1 }\n",
    "```\n",
    "\n",
    "或者\n",
    "\n",
    "`db.createCollection(name, { size : ..., capped : ..., max : ... } )`"
   ]
  },
  {
   "cell_type": "markdown",
   "metadata": {},
   "source": [
    "### 删除集合"
   ]
  },
  {
   "cell_type": "markdown",
   "metadata": {},
   "source": [
    "`db.mycoll.drop()`"
   ]
  },
  {
   "cell_type": "markdown",
   "metadata": {},
   "source": [
    "### 删除数据库"
   ]
  },
  {
   "cell_type": "markdown",
   "metadata": {},
   "source": [
    "`db.dropDatabase()`"
   ]
  },
  {
   "cell_type": "markdown",
   "metadata": {},
   "source": [
    "### 查询指定数据库的集合当前可用的存储空间"
   ]
  },
  {
   "cell_type": "markdown",
   "metadata": {},
   "source": [
    "`db.baseSe.storageSize()`"
   ]
  },
  {
   "cell_type": "markdown",
   "metadata": {},
   "source": [
    "### 查询指定数据库的集合分配的存储空间"
   ]
  },
  {
   "cell_type": "markdown",
   "metadata": {},
   "source": [
    "`db.baseSe.totalSize()`"
   ]
  }
 ],
 "metadata": {
  "kernelspec": {
   "display_name": "Python 3",
   "language": "python",
   "name": "python3"
  },
  "language_info": {
   "codemirror_mode": {
    "name": "ipython",
    "version": 3
   },
   "file_extension": ".py",
   "mimetype": "text/x-python",
   "name": "python",
   "nbconvert_exporter": "python",
   "pygments_lexer": "ipython3",
   "version": "3.6.4"
  }
 },
 "nbformat": 4,
 "nbformat_minor": 2
}
