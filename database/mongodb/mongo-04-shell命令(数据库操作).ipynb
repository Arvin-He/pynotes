{
 "cells": [
  {
   "cell_type": "markdown",
   "metadata": {},
   "source": [
    "# 数据库操作shell命令"
   ]
  },
  {
   "cell_type": "markdown",
   "metadata": {},
   "source": [
    "### 查看版本号"
   ]
  },
  {
   "cell_type": "markdown",
   "metadata": {},
   "source": [
    "```\n",
    "mongo --version\n",
    "MongoDB shell version v3.6.3\n",
    "```  \n",
    "\n",
    "注意: \n",
    "1. 这个命令在控制台输入,而不是mongodb交互环境中的命令\n",
    "2. 一般用于安装好,检查mongodb是否安装成功"
   ]
  },
  {
   "cell_type": "markdown",
   "metadata": {},
   "source": [
    "### 创建数据库,账户和密码"
   ]
  },
  {
   "cell_type": "markdown",
   "metadata": {},
   "source": [
    "**注意:**\n",
    "1. MongoDB中的账号是在某一个库里面进行设置的，也就是帐号密码和具体的数据库绑定,在哪一个库里进行设置，就要在哪一个库里进行验证。\n",
    "2. 创建用户时，需要指定用户名、用户密码和用户角色，用户角色表示了该用户的权限。"
   ]
  },
  {
   "cell_type": "markdown",
   "metadata": {},
   "source": [
    "### 创建管理员账户和密码"
   ]
  },
  {
   "cell_type": "markdown",
   "metadata": {},
   "source": [
    "```\n",
    "> use admin\n",
    "switched to db admin\n",
    "> db.createUser({user:\"root\",pwd:\"root\",roles:[\"userAdminAnyDatabase\"]})\n",
    "Successfully added user: { \"user\" : \"root\", \"roles\" : [ \"userAdminAnyDatabase\" ] }\n",
    "> db.auth(\"root\",\"root123\")\n",
    "1\n",
    "```\n",
    "db.auth() 方法返回 1 表示登录成功。接下来我们为指定的数据库创建访问所需的账号。\n",
    "\n",
    "**说明:**\n",
    "1. 用户管理员是第一个要创建的用户。在没有创建任何用户之前，你可以随意创建用户；但数据库中一旦有了用户，那么未登录的客户端就没有权限做任何操作了，除非使用db.auth(username, password)方法登录。\n",
    "2. 用户管理员的角色名叫 userAdminAnyDatabase，这个角色只能在 admin 数据库中创建。"
   ]
  },
  {
   "cell_type": "markdown",
   "metadata": {},
   "source": [
    "### 创建普通账户和密码"
   ]
  },
  {
   "cell_type": "markdown",
   "metadata": {},
   "source": [
    "```\n",
    "> use test\n",
    "switched to db test\n",
    "> db.createUser({user:\"testuser\",pwd:\"testpass\",roles:[\"readWrite\"]})\n",
    "Successfully added user: { \"user\" : \"testuser\", \"roles\" : [ \"readWrite\" ] }\n",
    "> db.auth(\"testuser\",\"testpass\")\n",
    "1\n",
    "```\n",
    "\n",
    "**说明:**\n",
    "1. 首先保证你已经以用户管理员的身份登录 admin 数据库。然后用 use 命令切换到目标数据库，\n",
    "2. 用 db.createUser() 命令来创建用户，其中角色名为 “readWrite”。\n",
    "3. 普通的数据库用户角色有两种，read 和 readWrite。前者只能读取数据不能修改，后者可以读取和修改。"
   ]
  },
  {
   "cell_type": "markdown",
   "metadata": {},
   "source": [
    "### 进入和退出mongo的shell环境"
   ]
  },
  {
   "cell_type": "markdown",
   "metadata": {},
   "source": [
    "1. 进入mongo shell环境:\n",
    "```\n",
    "> mongo\n",
    "MongoDB shell version v3.6.3\n",
    "connecting to: mongodb://127.0.0.1:27017\n",
    "MongoDB server version: 3.6.3\n",
    "```\n",
    "\n",
    "2. 退出mongo shell环境:\n",
    "```\n",
    "> exit\n",
    "bye\n",
    "```"
   ]
  },
  {
   "cell_type": "markdown",
   "metadata": {},
   "source": [
    "### 连接Mongo服务"
   ]
  },
  {
   "cell_type": "markdown",
   "metadata": {},
   "source": [
    "1. 本地安装mongodb\n",
    "2. 在终端输入: \n",
    "    * 方式一: `mongo ip:port/dbname -u username -p`, 回车然后输入密码,或者`mongo ip:port/dbname -u username -p passwd`,回车\n",
    "    * 方式二: `mongo -u username -p passwd 192.168.0.197:27017/dbname`, 回车\n",
    "\n",
    "其中, ip是服务器的ip, port是服务器上mongo指定的端口, dbname是你要访问的数据库, dbname不能少"
   ]
  },
  {
   "cell_type": "markdown",
   "metadata": {},
   "source": [
    "### 创建管理用户"
   ]
  },
  {
   "cell_type": "markdown",
   "metadata": {},
   "source": [
    "mongodb没有超级无敌用户root\n",
    "\n",
    "只有管理用户的用户: userAdminAnyDatabase"
   ]
  },
  {
   "cell_type": "markdown",
   "metadata": {},
   "source": [
    "### 查看帮助信息"
   ]
  },
  {
   "cell_type": "markdown",
   "metadata": {},
   "source": [
    "```\n",
    "// 查看所有数据级别的操作\n",
    "> db.help()\n",
    "// 查看集合级别的操作\n",
    "> db.mycoll.help()\n",
    "// 列举数据库命令\n",
    "> db.listCommands()\n",
    "```"
   ]
  },
  {
   "cell_type": "markdown",
   "metadata": {},
   "source": [
    "### 显示当前正在使用的数据库"
   ]
  },
  {
   "cell_type": "markdown",
   "metadata": {},
   "source": [
    "```\n",
    "> db\n",
    "test\n",
    "```"
   ]
  },
  {
   "cell_type": "markdown",
   "metadata": {},
   "source": [
    "### 显示当前数据库的用户信息"
   ]
  },
  {
   "cell_type": "markdown",
   "metadata": {},
   "source": [
    "```\n",
    "> show users\n",
    "{\n",
    "        \"_id\" : \"admin.root\",\n",
    "        \"user\" : \"root\",\n",
    "        \"db\" : \"admin\",\n",
    "        \"roles\" : [\n",
    "                {\n",
    "                        \"role\" : \"userAdminAnyDatabase\",\n",
    "                        \"db\" : \"admin\"\n",
    "                }\n",
    "        ]\n",
    "}\n",
    "```"
   ]
  },
  {
   "cell_type": "markdown",
   "metadata": {},
   "source": [
    "### 显示所有数据库"
   ]
  },
  {
   "cell_type": "markdown",
   "metadata": {},
   "source": [
    "```\n",
    "> show dbs\n",
    "hawk  0.136GB\n",
    "admin    0.000GB\n",
    "config   0.000GB\n",
    "local    0.000GB\n",
    "testdb   0.001GB\n",
    "```"
   ]
  },
  {
   "cell_type": "markdown",
   "metadata": {},
   "source": [
    "### 创建或切换指定数据库"
   ]
  },
  {
   "cell_type": "markdown",
   "metadata": {},
   "source": [
    "切换到testdb数据库:\n",
    "```\n",
    "> use testdb\n",
    "switched to db testdb\n",
    "```"
   ]
  },
  {
   "cell_type": "markdown",
   "metadata": {},
   "source": [
    "### 删除数据库"
   ]
  },
  {
   "cell_type": "markdown",
   "metadata": {},
   "source": [
    "`db.dropDatabase()`"
   ]
  },
  {
   "cell_type": "markdown",
   "metadata": {},
   "source": [
    "### 显示当前数据库中所有的集合"
   ]
  },
  {
   "cell_type": "markdown",
   "metadata": {},
   "source": [
    "```\n",
    "> show collections\n",
    "info\n",
    "users\n",
    "score\n",
    "```\n",
    "或者\n",
    "`db.getCollectionNames()`"
   ]
  },
  {
   "cell_type": "markdown",
   "metadata": {},
   "source": [
    "### 查询指定数据库统计信息"
   ]
  },
  {
   "cell_type": "markdown",
   "metadata": {},
   "source": [
    "```\n",
    "use dbname\n",
    "db.stats()\n",
    "```"
   ]
  },
  {
   "cell_type": "markdown",
   "metadata": {},
   "source": [
    "### 创建和删除集合"
   ]
  },
  {
   "cell_type": "markdown",
   "metadata": {},
   "source": [
    "```\n",
    "> db.createCollection(\"users\")\n",
    "{ \"ok\" : 1 }\n",
    "> db.users.drop()\n",
    "{ \"ok\" : 1 }\n",
    "```"
   ]
  },
  {
   "cell_type": "markdown",
   "metadata": {},
   "source": [
    "### 查询指定数据库的集合当前可用的存储空间"
   ]
  },
  {
   "cell_type": "markdown",
   "metadata": {},
   "source": [
    "`db.baseSe.storageSize()`"
   ]
  },
  {
   "cell_type": "markdown",
   "metadata": {},
   "source": [
    "### 查询指定数据库的集合分配的存储空间"
   ]
  },
  {
   "cell_type": "markdown",
   "metadata": {},
   "source": [
    "`db.baseSe.totalSize()`"
   ]
  },
  {
   "cell_type": "markdown",
   "metadata": {},
   "source": [
    "### 数据备份"
   ]
  },
  {
   "cell_type": "markdown",
   "metadata": {},
   "source": [
    "1. 备份所有数据库\n",
    "```\n",
    "mkdir testbak\n",
    "cd testbak\n",
    "mongodump\n",
    "```\n",
    "说明：默认备份目录及数据文件格式为: `/dump/[databasename]/[collectionname].bson`\n",
    "\n",
    "2. 备份指定数据库: \n",
    "`mongodump -d pagedb`\n",
    "\n",
    "3. 备份一个数据库中的某个集合: \n",
    "`mongodump -d pagedb -c page`\n"
   ]
  },
  {
   "cell_type": "markdown",
   "metadata": {},
   "source": [
    "### 数据恢复"
   ]
  },
  {
   "cell_type": "markdown",
   "metadata": {},
   "source": [
    "1. 恢复全部数据库\n",
    "```\n",
    "cd testbak\n",
    "mongorestore --drop\n",
    "```\n",
    "说明：将备份的所有数据库恢复到数据库，--drop指定恢复数据之前删除原来数据库数据，否则会造成回复后的数据中数据重复。\n",
    "\n",
    "2. 恢复指定数据库的数据\n",
    "```\n",
    "cd testbak\n",
    "mongorestore -d pagedb --drop\n",
    "```\n",
    "说明：将备份的pagedb的数据恢复到数据库。\n",
    "\n",
    "3. 恢复指定数据库的指定集合的数据\n",
    "```\n",
    "cd testbak\n",
    "mongorestore -d pagedb -c page --drop\n",
    "```\n",
    "说明：将备份的pagedb的的page集合的数据恢复到数据库。"
   ]
  },
  {
   "cell_type": "markdown",
   "metadata": {},
   "source": [
    "### 数据导出与导入"
   ]
  },
  {
   "cell_type": "markdown",
   "metadata": {},
   "source": [
    "1. 向MongoDB导入数据: \n",
    "`mongoimport -d pagedb -c page --type csv --headerline --drop < csvORtsvFile.csv`\n",
    "\n",
    "说明：将文件csvORtsvFile.csv的数据导入到pagedb数据库的page集合中，使用cvs或tsv文件的列名作为集合的列名。\n",
    "\n",
    "注意: 使用`--headerline`选项时，只支持csv和tsv文件。\n",
    "`--type`支持的类型有三个：csv、tsv、json\n",
    "其他各个选项的使用，可以查看帮助：\n",
    "\n",
    "2. 从MongoDB导出数据: \n",
    "`mongoexport -d pagedb -c page -q {} -f _id,title,url,spiderName,pubDate --csv > pages.csv`\n",
    "\n",
    "说明：将pagedb数据库中page集合的数据导出到pages.csv文件\n",
    "\n",
    "各选项含义：\n",
    "`-f` 指定cvs列名为_id,title,url,spiderName,pubDate\n",
    "`-q` 指定查询条件\n",
    "\n",
    "其他各个选项的使用，可以查看帮助："
   ]
  }
 ],
 "metadata": {
  "kernelspec": {
   "display_name": "Python 3",
   "language": "python",
   "name": "python3"
  },
  "language_info": {
   "codemirror_mode": {
    "name": "ipython",
    "version": 3
   },
   "file_extension": ".py",
   "mimetype": "text/x-python",
   "name": "python",
   "nbconvert_exporter": "python",
   "pygments_lexer": "ipython3",
   "version": "3.6.4"
  }
 },
 "nbformat": 4,
 "nbformat_minor": 2
}
