{
 "cells": [
  {
   "cell_type": "markdown",
   "metadata": {},
   "source": [
    "# 常用update操作"
   ]
  },
  {
   "cell_type": "markdown",
   "metadata": {},
   "source": [
    "### 更新一条记录的某一个字段(局部更新)"
   ]
  },
  {
   "cell_type": "markdown",
   "metadata": {},
   "source": [
    "result = movie.update_one({'name': 'jack'}, {'$set': {'weight': 132}})\n",
    "\n",
    "print(result.matched_count)\n",
    "print(result.modified_count)"
   ]
  },
  {
   "cell_type": "markdown",
   "metadata": {},
   "source": [
    "### 更新多条数据"
   ]
  },
  {
   "cell_type": "code",
   "execution_count": null,
   "metadata": {},
   "outputs": [],
   "source": [
    "result = movie.update_many({'name': 'frank'}, {'$set': {'age': 32}})\n",
    "\n",
    "print(result.matched_count)\n",
    "print(result.modified_count)"
   ]
  },
  {
   "cell_type": "markdown",
   "metadata": {},
   "source": [
    "### 更新整个文档"
   ]
  },
  {
   "cell_type": "code",
   "execution_count": null,
   "metadata": {},
   "outputs": [],
   "source": [
    "movie.update_one({'_id': item.get('_id')}, {' 除了_id字段的整个doc'})"
   ]
  },
  {
   "cell_type": "markdown",
   "metadata": {},
   "source": [
    "### 添加一个字段"
   ]
  },
  {
   "cell_type": "code",
   "execution_count": null,
   "metadata": {},
   "outputs": [],
   "source": [
    "collection.update({\"_id\":1},{\"$set\":{\"new_field\":0}})"
   ]
  },
  {
   "cell_type": "markdown",
   "metadata": {},
   "source": [
    "### 删除一个字段"
   ]
  },
  {
   "cell_type": "code",
   "execution_count": null,
   "metadata": {},
   "outputs": [],
   "source": [
    "collection.update({\"_id\":1},{\"$unset\":{\"new_field\":1}})"
   ]
  },
  {
   "cell_type": "markdown",
   "metadata": {},
   "source": [
    "### 重命名一个字段"
   ]
  },
  {
   "cell_type": "code",
   "execution_count": null,
   "metadata": {},
   "outputs": [],
   "source": [
    "db.getCollection('process').update({}, {$rename:{'wr_kB/s': 'wrio'}}, false, true)"
   ]
  },
  {
   "cell_type": "markdown",
   "metadata": {},
   "source": [
    "### 向字段列表中插入一个值"
   ]
  },
  {
   "cell_type": "markdown",
   "metadata": {},
   "source": [
    "$push的作用就是，如果指定的键已经存在，它会向已有的**数组末尾**加入一个元素，要是没有就会创建一个新的数组。"
   ]
  },
  {
   "cell_type": "code",
   "execution_count": null,
   "metadata": {},
   "outputs": [],
   "source": [
    " db.user.update({\"_id\" : ObjectId(\"xxx\")},{$push:{\"relationships\":{\"fname\":\"xiong\",\"lname\":\"lan\"}}}"
   ]
  },
  {
   "cell_type": "markdown",
   "metadata": {},
   "source": [
    "### 向字段列表中删除一个值"
   ]
  },
  {
   "cell_type": "markdown",
   "metadata": {},
   "source": [
    "$pop 删除数组头或尾的数据\n",
    "\n",
    "$pull会将所有匹配到的数据都删除"
   ]
  },
  {
   "cell_type": "code",
   "execution_count": null,
   "metadata": {},
   "outputs": [],
   "source": [
    "删除数组末尾数据: db.user.update({\"_id\" : ObjectId(\"xxx\")},{$pop:{\"relationships\":1}})\n",
    "删除数组开头数据: db.user.update({\"_id\" : ObjectId(\"xxx\")},{$pop:{\"relationships\":-1}})\n",
    "删除数组中指定数据: db.user.update({\"_id\" : ObjectId(\"xxx\")},{$pull:{\"relationships\":{\"fname\":\"dong\",\"lname\":\"ze\"}}})"
   ]
  },
  {
   "cell_type": "markdown",
   "metadata": {},
   "source": [
    "### 更改数据库字段类型"
   ]
  },
  {
   "cell_type": "code",
   "execution_count": null,
   "metadata": {},
   "outputs": [],
   "source": [
    "db.coll.forEach(function(doc) {\n",
    "    db.coll.update({_id: doc._id}, {$set: {date: new Date(doc.date)}});\n",
    "});\n",
    "\n",
    "\n",
    "//string转为double类型\n",
    "db.law.find().forEach( function (x) {\n",
    "  x.state = parseInt(x.state);\n",
    "  db.law.save(x);\n",
    "});\n",
    "\n",
    "//string转为int类型\n",
    "db.law.find().forEach( function (x) {\n",
    "  x.ise= NumberInt (x.ise);\n",
    "  db.law.save(x);\n",
    "});\n",
    "\n",
    "//string转化为date类型\n",
    "db.law.find().forEach( function (x) {\n",
    " x.eift = new ISODate(x.eift);\n",
    "  db.law.save(x);\n",
    "});"
   ]
  }
 ],
 "metadata": {
  "kernelspec": {
   "display_name": "Python 3",
   "language": "python",
   "name": "python3"
  },
  "language_info": {
   "codemirror_mode": {
    "name": "ipython",
    "version": 3
   },
   "file_extension": ".py",
   "mimetype": "text/x-python",
   "name": "python",
   "nbconvert_exporter": "python",
   "pygments_lexer": "ipython3",
   "version": "3.6.4"
  }
 },
 "nbformat": 4,
 "nbformat_minor": 2
}
