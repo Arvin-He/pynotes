{
 "cells": [
  {
   "cell_type": "markdown",
   "metadata": {},
   "source": [
    "# mongo常见错误"
   ]
  },
  {
   "cell_type": "markdown",
   "metadata": {},
   "source": [
    "### MongoError: The dotted field .. is not valid for storage"
   ]
  },
  {
   "cell_type": "markdown",
   "metadata": {},
   "source": [
    "`MongoError: The dotted field .. is not valid for storage`\n",
    "\n",
    "原因: mongo集合字段名中不能含有.号,否则在插入数据库时报错\n",
    "\n",
    "修改: 字段中使用其他符号代替.号"
   ]
  },
  {
   "cell_type": "code",
   "execution_count": 5,
   "metadata": {},
   "outputs": [
    {
     "name": "stdout",
     "output_type": "stream",
     "text": [
      "b'aaabbb'\n",
      "b'aaabbb'\n",
      "ccc\n",
      "aaabbb\n",
      "aaabbb\n"
     ]
    }
   ],
   "source": [
    "a = b'aaabbb'\n",
    "\n",
    "b = str(a)\n",
    "\n",
    "print(a)\n",
    "print(b)\n",
    "b\n",
    "if \"b'\" in b:\n",
    "    print('ccc')\n",
    "    \n",
    "str_line = str(a)[2:-1]\n",
    "print(str_line)\n",
    "c = 'aaabbb'\n",
    "print(c)"
   ]
  },
  {
   "cell_type": "code",
   "execution_count": null,
   "metadata": {},
   "outputs": [],
   "source": []
  }
 ],
 "metadata": {
  "kernelspec": {
   "display_name": "Python 3",
   "language": "python",
   "name": "python3"
  },
  "language_info": {
   "codemirror_mode": {
    "name": "ipython",
    "version": 3
   },
   "file_extension": ".py",
   "mimetype": "text/x-python",
   "name": "python",
   "nbconvert_exporter": "python",
   "pygments_lexer": "ipython3",
   "version": "3.6.4"
  }
 },
 "nbformat": 4,
 "nbformat_minor": 2
}
