{
 "cells": [
  {
   "cell_type": "markdown",
   "metadata": {},
   "source": [
    "# 常用find查询操作"
   ]
  },
  {
   "cell_type": "markdown",
   "metadata": {},
   "source": [
    "### 查询指定字段最新一条记录"
   ]
  },
  {
   "cell_type": "markdown",
   "metadata": {},
   "source": [
    "res = movie.find({}).sort('_id', -1).limit(1)\n",
    "\n",
    "**注意: ** limit返回的是一个迭代器,并不是数据结果"
   ]
  },
  {
   "cell_type": "markdown",
   "metadata": {},
   "source": [
    "###  嵌套查询"
   ]
  },
  {
   "cell_type": "code",
   "execution_count": null,
   "metadata": {},
   "outputs": [],
   "source": [
    "# 查询doc中key为response且response中key为status_code=302 记录的数目\n",
    "db.getCollection('urls').find({'response.status_code': 302}).count()"
   ]
  },
  {
   "cell_type": "markdown",
   "metadata": {},
   "source": [
    "### 查询返回部分字段,不返回整个文档"
   ]
  },
  {
   "cell_type": "code",
   "execution_count": null,
   "metadata": {},
   "outputs": [],
   "source": [
    "查询返回部分字段,不返回整个文档可以节省流量,降低带宽\n",
    "\n",
    "* 第一个参数为查询条件，空代表查询所有文档\n",
    "* 第二个参数中 1 代表选取该字段的值, 0代表过滤该字段的值\n",
    "\n",
    "如果需要输出的字段比较多，不想要某个字段，可以用排除字段的方法 \n",
    "\n",
    "# 返回所有含有title和type字段的值,并不是包含这些字段的所有文档\n",
    "db.news.find( {}, {'title': 1,  'type': 1} )\n",
    "\n",
    "# 查询返回\n",
    "db.news.find( {}, {'title': 1,  'type': 0} )\n",
    "\n",
    "db.inventory.find( { type: 'food' }, { type:0 })\n",
    "\n",
    "\n",
    "# 不输出内容字段，其它字段都输出\n",
    "db.news.find( {}, {content: 0 } )"
   ]
  },
  {
   "cell_type": "markdown",
   "metadata": {},
   "source": [
    "### 分页查询"
   ]
  },
  {
   "cell_type": "code",
   "execution_count": null,
   "metadata": {},
   "outputs": [],
   "source": [
    "db.collection.find({}).slip(index).limit(num)"
   ]
  },
  {
   "cell_type": "markdown",
   "metadata": {},
   "source": [
    "### 范围查询或值大小比较过滤"
   ]
  },
  {
   "cell_type": "markdown",
   "metadata": {},
   "source": [
    "范围查询用到: `=, !=, >, >=, <, <=`这6种\n",
    "```\n",
    "cursor = db['sys'].find({'token': token, 'time': {'$gt': start}}, {'_id': 0, 'average': 1, 'time': 1})\n",
    "cursor = db['sys'].find({'token': token, 'time': {'$lt': end}}, {'_id': 0, 'average': 1, 'time': 1})\n",
    "cursor = db['sys'].find({'token': token, 'time': {'$gte': start}}, {'_id': 0, 'average': 1, 'time': 1})\n",
    "cursor = db['sys'].find({'token': token, 'time': {'$lte': end}}, {'_id': 0, 'average': 1, 'time': 1})\n",
    "cursor = db['sys'].find({'token': token, 'time': {'$gt': start, '$lt': end}}, {'_id': 0, 'average': 1, 'time': 1})\n",
    "cursor = db['sys'].find({'token': token, 'time': {'$ne': start}}, {'_id': 0, 'average': 1, 'time': 1})\n",
    "```"
   ]
  },
  {
   "cell_type": "markdown",
   "metadata": {},
   "source": [
    "### 去重查询"
   ]
  },
  {
   "cell_type": "code",
   "execution_count": null,
   "metadata": {},
   "outputs": [],
   "source": [
    "# 简单去重方法,适合数据量不大的情况下, 返回去重后的列表\n",
    "db.collection.distinct(\"page\")"
   ]
  },
  {
   "cell_type": "markdown",
   "metadata": {},
   "source": [
    "### 统计不含有某一字段的记录数"
   ]
  },
  {
   "cell_type": "code",
   "execution_count": null,
   "metadata": {},
   "outputs": [],
   "source": [
    "dbName.collectionName.find({fieldName:null}).count()"
   ]
  },
  {
   "cell_type": "markdown",
   "metadata": {},
   "source": [
    "### 查询给定字段有重复数据的记录"
   ]
  },
  {
   "cell_type": "code",
   "execution_count": null,
   "metadata": {},
   "outputs": [],
   "source": [
    "db.collection.aggregate([\n",
    "  { $group: { \n",
    "    _id: { page: \"$page\", secondField: \"$secondField\" }, \n",
    "    uniqueIds: { $addToSet: \"$_id\" },\n",
    "    count: { $sum: 1 } \n",
    "  }}, \n",
    "  { $match: { \n",
    "    count: { $gt: 1 } \n",
    "  }}\n",
    "])"
   ]
  },
  {
   "cell_type": "markdown",
   "metadata": {},
   "source": [
    "### 查询两个字段值相同的记录"
   ]
  },
  {
   "cell_type": "code",
   "execution_count": null,
   "metadata": {},
   "outputs": [],
   "source": [
    "db.foo.find({\"$where\":function(){\n",
    " for(var current in this){\n",
    "   for(var other in this){\n",
    "     if(current != other && this[current] == this[other]){\n",
    "       return true;\n",
    "     }\n",
    "   }\n",
    " }\n",
    " return false;\n",
    "}})"
   ]
  },
  {
   "cell_type": "markdown",
   "metadata": {},
   "source": [
    "### 正则匹配查询或模糊匹配"
   ]
  },
  {
   "cell_type": "markdown",
   "metadata": {},
   "source": [
    "MongoDB中对子串的搜索只有正则表达式一种方法 并没有SQL中的LIKE语句\n",
    "\n",
    "PyMongo的正则使用方法与shell中的不大一致 方法如下所示 $options是正则的选项 i就是不区分大小写\n",
    "\n",
    "find({\"name\":{\"$regex\":regex, \"$options\":\"i\"}})\n",
    "\n",
    "\n",
    "1. import re\n",
    "{'xxx':re.compile('xxx')}\n",
    "\n",
    "2. {'xxx':{'$regex':'xxx'}}\n",
    "\n",
    "\n",
    "### 查询某一字段不是数字的记录\n",
    "db.getCollection('phone').find({\"tel\": {\"$regex\": '^[^0-9]+$'}})\n",
    "\n",
    "### 查询某一字段不是数字的记录的数目\n",
    "db.getCollection('phone').find({\"tel\": {\"$regex\": '^[^0-9]+$'}}).count()\n",
    "\n",
    "### 删除某一字段不是数字的记录\n",
    "db.getCollection('phone').remove({\"tel\": {\"$regex\": '^[^0-9]+$'}})"
   ]
  },
  {
   "cell_type": "markdown",
   "metadata": {},
   "source": [
    "### 根据字段排序"
   ]
  },
  {
   "cell_type": "markdown",
   "metadata": {},
   "source": [
    "pymongo中排序(默认为升序):\n",
    "* 升序: pymongo.ASCENDING = 1\n",
    "* 降序: pymongo.DESCENDING = -1\n",
    "\n",
    "单个字段排序:\n",
    "\n",
    "```\n",
    "db.Account.find().sort(\"UserName\")  --默认为升序\n",
    "db.Account.find().sort(\"UserName\",pymongo.ASCENDING)   --升序\n",
    "db.Account.find().sort(\"UserName\",pymongo.DESCENDING)  --降序\n",
    "```\n",
    "\n",
    "多字段排序:\n",
    "```\n",
    "db.Account.find().sort([(\"UserName\", pymongo.ASCENDING),(\"Email\",pymongo.DESCENDING)])\n",
    "```"
   ]
  },
  {
   "cell_type": "markdown",
   "metadata": {},
   "source": [
    "### 使用多个逻辑或(or)"
   ]
  },
  {
   "cell_type": "markdown",
   "metadata": {},
   "source": [
    "多个字段匹配, 其中:\n",
    "\n",
    "* token在有限集合中匹配, score是范围匹配\n",
    "* account, CLI, PID这3个字段支持关键字正则匹配"
   ]
  },
  {
   "cell_type": "code",
   "execution_count": null,
   "metadata": {},
   "outputs": [],
   "source": [
    "queries = []\n",
    "for token, threshold in all_threshold.items():\n",
    "    queries.append({'token': token, 'score': {'$lt': threshold}})\n",
    "\n",
    "filters = {'$or': queries, '$and':[{'$or':[{\"account\": regex_kw}, {\"CLI\": regex_kw}, {\"PID\": regex_kw}]}]}\n",
    "\n",
    "# db.things.find({$and: [{$or : [{'a':1},{'b':2}]},{$or : [{'a':2},{'b':3}]}] })"
   ]
  }
 ],
 "metadata": {
  "kernelspec": {
   "display_name": "Python 3",
   "language": "python",
   "name": "python3"
  },
  "language_info": {
   "codemirror_mode": {
    "name": "ipython",
    "version": 3
   },
   "file_extension": ".py",
   "mimetype": "text/x-python",
   "name": "python",
   "nbconvert_exporter": "python",
   "pygments_lexer": "ipython3",
   "version": "3.6.4"
  }
 },
 "nbformat": 4,
 "nbformat_minor": 2
}
