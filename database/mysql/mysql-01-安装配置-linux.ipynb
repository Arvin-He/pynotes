{
 "cells": [
  {
   "cell_type": "markdown",
   "metadata": {},
   "source": [
    "# mysql安装配置-linux"
   ]
  },
  {
   "cell_type": "markdown",
   "metadata": {},
   "source": [
    "### 环境"
   ]
  },
  {
   "cell_type": "markdown",
   "metadata": {},
   "source": [
    "* CentOS 7\n",
    "* MySQL5.7.22"
   ]
  },
  {
   "cell_type": "markdown",
   "metadata": {},
   "source": [
    "### 下载安装"
   ]
  },
  {
   "cell_type": "markdown",
   "metadata": {},
   "source": [
    "下载地址：[mysql官网](https://dev.mysql.com/downloads/mysql/5.7.html#downloads)\n",
    "将mysql下载到/opt目录下,并解压\n",
    "`tar -zxvf mysql-5.7.22-linux-glibc2.12-x86_64.tar.gz`\n",
    "`mv mysql-5.7.22-linux-glibc2.12-x86_64/ mysql`\n"
   ]
  }
 ],
 "metadata": {
  "kernelspec": {
   "display_name": "Python 3",
   "language": "python",
   "name": "python3"
  },
  "language_info": {
   "codemirror_mode": {
    "name": "ipython",
    "version": 3
   },
   "file_extension": ".py",
   "mimetype": "text/x-python",
   "name": "python",
   "nbconvert_exporter": "python",
   "pygments_lexer": "ipython3",
   "version": "3.6.4"
  }
 },
 "nbformat": 4,
 "nbformat_minor": 2
}
