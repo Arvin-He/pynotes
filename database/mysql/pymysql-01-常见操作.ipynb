{
 "cells": [
  {
   "cell_type": "markdown",
   "metadata": {},
   "source": [
    "# pymysql使用"
   ]
  },
  {
   "cell_type": "markdown",
   "metadata": {},
   "source": [
    "### 获取所有数据库名称"
   ]
  },
  {
   "cell_type": "code",
   "execution_count": 11,
   "metadata": {},
   "outputs": [
    {
     "name": "stdout",
     "output_type": "stream",
     "text": [
      "['information_schema', 'CloudOptimus_Dev']\n"
     ]
    }
   ],
   "source": [
    "import pymysql\n",
    "\n",
    "def list_all_databases():\n",
    "    db = pymysql.connect(host='192.168.110.10', port=3306, user='xxxx', passwd='123456'xxxxxx', charset=\"utf8\")\n",
    "    cursor = db.cursor()\n",
    "    cursor.execute(\"show databases\")\n",
    "    db_list = [item[0] for item in cursor.fetchall()]\n",
    "    db.close()\n",
    "    return db_list\n",
    "    \n",
    "list_all_databases()"
   ]
  },
  {
   "cell_type": "markdown",
   "metadata": {},
   "source": [
    "### 创建数据库并操作数据库"
   ]
  },
  {
   "cell_type": "markdown",
   "metadata": {},
   "source": [
    "注意: \n",
    "* mysql默认有一个root用户,但是这个用户权限太大，一般只在管理数据库时候才用。\n",
    "* 普通用户不能直接创建数据库,只有root用户才能创建数据库\n",
    "* 普通用户只有被赋予特定的权限才能创建数据库\n",
    "* 当一个数据库还没创建时,在连接数据库时不能指定这个数据库,否则会报错"
   ]
  },
  {
   "cell_type": "code",
   "execution_count": 20,
   "metadata": {},
   "outputs": [],
   "source": [
    "import pymysql\n",
    "import sys\n",
    "# python mysql 创建库、表增删改查标准语句\n",
    "\n",
    "con = pymysql.connect(host='localhost', port=3306, user='root', passwd='123456', charset='utf8')\n",
    "# 直接连入test_db库, 如果已经存在test_db库\n",
    "# con = pymysql.connect(host='localhost', user='root', passwd='123456', db='test_db',  charset='utf8') \n",
    "print('创建连接完成')\n",
    "\n",
    "cur = con.cursor()\n",
    "print('获取游标完成')\n",
    "\n",
    "cur.execute(\"create database test_db character set utf8;\")\n",
    "print('创建test_db库完成')\n",
    "\n",
    "cur.execute(\"use test_db;\")\n",
    "print('进入test_db库完成')\n",
    "\n",
    "cur.execute(\"create table test_tab(id int,name char(20))character set utf8;\")\n",
    "print('创建test_tab表完成')\n",
    "\n",
    "for i in range(3):\n",
    "    sql_insert = 'insert into test_tab(id,name) values(%s,%s);'\n",
    "    ID = input('请输入id：')\n",
    "    name = input('请输入名字：')\n",
    "    try:\n",
    "        cur.execute(sql_insert, [int(ID), name])\n",
    "        con.commit()\n",
    "        print('添加第%d条记录' % count, int(ID), name)\n",
    "    except Exception as e:\n",
    "        print('出错回滚完成', e)\n",
    "        con.rollback()\n",
    "        cur.close()\n",
    "        con.close()\n",
    "        sys.exit()\n",
    "\n",
    "print('sql写入语句执行完成')\n",
    "sql_select = 'select * from test_tab;'\n",
    "sql_delete = 'delete from test_tab where id=2;'\n",
    "sql_update = 'update table set name =\"大胖\" where id=3;'\n",
    "print('创建sql语句完成')\n",
    "try:\n",
    "    cur.execute(sql_select)\n",
    "    print('sql查询语句执行完成')\n",
    "    data_one = cur.fetchone()\n",
    "    print(data_one)\n",
    "    print('已显示第一条记录')\n",
    "    data_many = cur.fetchmany(2)\n",
    "    print(data_many)\n",
    "    print('已显示后面两条记录')\n",
    "    data_all = cur.fetchall()\n",
    "    print(data_all)\n",
    "    print('已显示后面全部记录')\n",
    "    cur.execute(sql_delete)\n",
    "    print('sql删除语句执行完成')\n",
    "    cur.execute(sql_update)\n",
    "    print('sql更新语句执行完成')\n",
    "    con.commit()\n",
    "    print('sql写入完成')\n",
    "except Exception as e:\n",
    "    print('出错回滚完成', e)\n",
    "    con.rollback()\n",
    "cur.close()\n",
    "print('关闭光标完成')\n",
    "con.close()\n",
    "print('关闭连接完成')"
   ]
  }
 ],
 "metadata": {
  "kernelspec": {
   "display_name": "Python 3",
   "language": "python",
   "name": "python3"
  },
  "language_info": {
   "codemirror_mode": {
    "name": "ipython",
    "version": 3
   },
   "file_extension": ".py",
   "mimetype": "text/x-python",
   "name": "python",
   "nbconvert_exporter": "python",
   "pygments_lexer": "ipython3",
   "version": "3.6.6"
  }
 },
 "nbformat": 4,
 "nbformat_minor": 2
}
