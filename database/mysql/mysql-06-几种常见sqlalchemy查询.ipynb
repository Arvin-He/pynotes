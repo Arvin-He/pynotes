{
 "cells": [
  {
   "cell_type": "markdown",
   "metadata": {},
   "source": [
    "# 几种常见sqlalchemy查询"
   ]
  },
  {
   "cell_type": "code",
   "execution_count": null,
   "metadata": {},
   "outputs": [],
   "source": [
    "#简单查询\n",
    "print(session.query(User).all())\n",
    "print(session.query(User.name, User.fullname).all())\n",
    "print(session.query(User, User.name).all())\n",
    "\n",
    "#带条件查询\n",
    "print(session.query(User).filter_by(name='user1').all())\n",
    "print(session.query(User).filter(User.name == \"user\").all())\n",
    "print(session.query(User).filter(User.name.like(\"user%\")).all())\n",
    "\n",
    "#多条件查询\n",
    "print(session.query(User).filter(and_(User.name.like(\"user%\"), User.fullname.like(\"first%\"))).all())\n",
    "print(session.query(User).filter(or_(User.name.like(\"user%\"), User.password != None)).all())\n",
    "\n",
    "#sql过滤\n",
    "print(session.query(User).filter(\"id>:id\").params(id=1).all())\n",
    "\n",
    "#关联查询 \n",
    "print(session.query(User, Address).filter(User.id == Address.user_id).all())\n",
    "print(session.query(User).join(User.addresses).all())\n",
    "print(session.query(User).outerjoin(User.addresses).all())\n",
    "\n",
    "#聚合查询\n",
    "print(session.query(User.name, func.count('*').label(\"user_count\")).group_by(User.name).all())\n",
    "print(session.query(User.name, func.sum(User.id).label(\"user_id_sum\")).group_by(User.name).all())\n",
    "\n",
    "#子查询\n",
    "stmt = session.query(Address.user_id, func.count('*').label(\"address_count\")).group_by(Address.user_id).subquery()\n",
    "print(session.query(User, stmt.c.address_count).outerjoin((stmt, User.id == stmt.c.user_id)).order_by(User.id).all())\n",
    "\n",
    "#exists\n",
    "print(session.query(User).filter(exists().where(Address.user_id == User.id)))\n",
    "print(session.query(User).filter(User.addresses.any()))\n",
    "\n",
    "# 限制返回字段查询\n",
    "\n",
    "person = session.query(Person.name, Person.created_at,                     \n",
    "             Person.updated_at).filter_by(name=\"zhongwei\").order_by(            \n",
    "             Person.created_at).first()\n",
    "# 记录总数查询：\n",
    "\n",
    "from sqlalchemy import func\n",
    "\n",
    "# count User records, without\n",
    "# using a subquery.\n",
    "session.query(func.count(User.id))\n",
    "\n",
    "# return count of user \"id\" grouped\n",
    "# by \"name\"\n",
    "session.query(func.count(User.id)).\\\n",
    "        group_by(User.name)\n",
    "\n",
    "from sqlalchemy import distinct\n",
    "\n",
    "# count distinct \"name\" values\n",
    "session.query(func.count(distinct(User.name)))"
   ]
  }
 ],
 "metadata": {
  "kernelspec": {
   "display_name": "Python 3",
   "language": "python",
   "name": "python3"
  },
  "language_info": {
   "codemirror_mode": {
    "name": "ipython",
    "version": 3
   },
   "file_extension": ".py",
   "mimetype": "text/x-python",
   "name": "python",
   "nbconvert_exporter": "python",
   "pygments_lexer": "ipython3",
   "version": "3.6.4"
  }
 },
 "nbformat": 4,
 "nbformat_minor": 2
}
