{
 "cells": [
  {
   "cell_type": "markdown",
   "metadata": {},
   "source": [
    "# mongodb安装-linux"
   ]
  },
  {
   "cell_type": "markdown",
   "metadata": {},
   "source": [
    "### 下载安装"
   ]
  },
  {
   "cell_type": "markdown",
   "metadata": {},
   "source": [
    "到[官方网站](https://www.mongodb.com/download-center?jmp=nav#community)下载对应的包到一个目录"
   ]
  },
  {
   "cell_type": "markdown",
   "metadata": {},
   "source": [
    "wget -o  https://fastdl.mongodb.org/linux/mongodb-linux-x86_64-amazon-3.6.4.tgz "
   ]
  },
  {
   "cell_type": "markdown",
   "metadata": {},
   "source": [
    "解压文件到/opt/mongodb目录下： "
   ]
  },
  {
   "cell_type": "markdown",
   "metadata": {},
   "source": [
    "tar -zxvf mongodb-linux-x86_64-3.6.4.tgz\n",
    "sudo mkdir -p /opt/mongodb\n",
    "cp -R -n mongodb-linux-x86_64-3.6.4/ /opt/mongodb"
   ]
  },
  {
   "cell_type": "markdown",
   "metadata": {},
   "source": [
    "### 配置"
   ]
  },
  {
   "cell_type": "markdown",
   "metadata": {},
   "source": [
    "#### 配置环境变量"
   ]
  },
  {
   "cell_type": "markdown",
   "metadata": {},
   "source": [
    "设置mongodb环境变量，将环境变量放在用户主目录下的.bash_profile，在文件末尾添加"
   ]
  },
  {
   "cell_type": "markdown",
   "metadata": {},
   "source": [
    "export PATH=<mongodb-install-directory>/bin:$PATH"
   ]
  },
  {
   "cell_type": "raw",
   "metadata": {},
   "source": [
    "#### 创建数据存放目录"
   ]
  },
  {
   "cell_type": "markdown",
   "metadata": {},
   "source": [
    "cd /opt/mongodb\n",
    "mkdir mongoData\n",
    "cd mongoData\n",
    "mkdir data config pid\n",
    "sudo chmod "
   ]
  }
 ],
 "metadata": {
  "kernelspec": {
   "display_name": "Python 3",
   "language": "python",
   "name": "python3"
  },
  "language_info": {
   "codemirror_mode": {
    "name": "ipython",
    "version": 3
   },
   "file_extension": ".py",
   "mimetype": "text/x-python",
   "name": "python",
   "nbconvert_exporter": "python",
   "pygments_lexer": "ipython3",
   "version": "3.6.4"
  }
 },
 "nbformat": 4,
 "nbformat_minor": 2
}
