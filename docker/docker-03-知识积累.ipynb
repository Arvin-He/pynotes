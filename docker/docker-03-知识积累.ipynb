{
 "cells": [
  {
   "cell_type": "markdown",
   "metadata": {},
   "source": [
    "# docker-知识积累"
   ]
  },
  {
   "cell_type": "markdown",
   "metadata": {},
   "source": [
    "dockerfile中的命令参数传递给应用程序时,只能传递给应用程序的主进程,无法传进应用程序的子进程\n",
    "\n",
    "同样docker控制台只能获取到应用程序主进程中的打印信息,无法获取应用程序中子进程中的打印数据"
   ]
  }
 ],
 "metadata": {
  "kernelspec": {
   "display_name": "Python 3",
   "language": "python",
   "name": "python3"
  },
  "language_info": {
   "codemirror_mode": {
    "name": "ipython",
    "version": 3
   },
   "file_extension": ".py",
   "mimetype": "text/x-python",
   "name": "python",
   "nbconvert_exporter": "python",
   "pygments_lexer": "ipython3",
   "version": "3.6.4"
  }
 },
 "nbformat": 4,
 "nbformat_minor": 2
}
