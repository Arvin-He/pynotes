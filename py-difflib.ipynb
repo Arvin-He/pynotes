{
 "cells": [
  {
   "cell_type": "markdown",
   "metadata": {},
   "source": [
    "# difflib使用"
   ]
  },
  {
   "cell_type": "markdown",
   "metadata": {},
   "source": [
    "符号\t  含义\n",
    "\n",
    "* '-'\t包含在第一个系列行中，但不包含第二个。\n",
    "* '+'\t包含在第二个系列行中，但不包含第一个。\n",
    "* ' '\t两个系列行一致\n",
    "* '?'\t存在增量差异\n",
    "* '^'\t存在差异字符"
   ]
  },
  {
   "cell_type": "markdown",
   "metadata": {},
   "source": [
    "### 相似匹配度"
   ]
  },
  {
   "cell_type": "code",
   "execution_count": 1,
   "metadata": {},
   "outputs": [
    {
     "data": {
      "text/plain": [
       "0.75"
      ]
     },
     "execution_count": 1,
     "metadata": {},
     "output_type": "execute_result"
    }
   ],
   "source": [
    " from difflib import SequenceMatcher\n",
    "    \n",
    "s = SequenceMatcher(None, \"abcd\", \"bcde\")\n",
    "s.ratio()"
   ]
  },
  {
   "cell_type": "code",
   "execution_count": null,
   "metadata": {},
   "outputs": [],
   "source": []
  }
 ],
 "metadata": {
  "kernelspec": {
   "display_name": "Python 3",
   "language": "python",
   "name": "python3"
  },
  "language_info": {
   "codemirror_mode": {
    "name": "ipython",
    "version": 3
   },
   "file_extension": ".py",
   "mimetype": "text/x-python",
   "name": "python",
   "nbconvert_exporter": "python",
   "pygments_lexer": "ipython3",
   "version": "3.6.4"
  }
 },
 "nbformat": 4,
 "nbformat_minor": 2
}
