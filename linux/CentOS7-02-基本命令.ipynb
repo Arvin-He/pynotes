{
 "cells": [
  {
   "cell_type": "markdown",
   "metadata": {},
   "source": [
    "# CentOS7-基本命令"
   ]
  },
  {
   "cell_type": "markdown",
   "metadata": {},
   "source": [
    "### 关于yum"
   ]
  },
  {
   "cell_type": "markdown",
   "metadata": {},
   "source": [
    "Yum（全称为 Yellow dog Updater, Modified）是一个在Fedora和RedHat以及CentOS中的Shell前端软件包管理器。基于RPM包管理，能够从指定的服务器自动下载RPM包并且安装，可以自动处理依赖性关系，并且一次安装所有依赖的软件包，无须繁琐地一次次下载、安装。"
   ]
  },
  {
   "cell_type": "markdown",
   "metadata": {},
   "source": [
    "### yum常用命令"
   ]
  },
  {
   "cell_type": "markdown",
   "metadata": {},
   "source": [
    "以foo-x.x.x.rpm为例:\n",
    "\n",
    "* 安装软件：`yum install foo-x.x.x.rpm`\n",
    "* 删除软件：`yum remove foo-x.x.x.rpm`或者`yum erase foo-x.x.x.rpm`\n",
    "* 升级软件：`yum upgrade foo`或者`yum update foo`\n",
    "* 查询信息：`yum info foo`\n",
    "* 搜索软件（以包含foo字段为例）：`yum search foo`\n",
    "* 显示软件包依赖关系：`yum deplist foo`\n",
    "\n",
    "参数\n",
    "```\n",
    "-q 静默执行 \n",
    "-t 忽略错误\n",
    "-R[分钟] 设置等待时间\n",
    "-y 自动应答yes\n",
    "--skip-broken 忽略依赖问题\n",
    "--nogpgcheck 忽略GPG验证\n",
    "```\n",
    "\n",
    "\n",
    "1. 列出所有可更新的软件清单命令：yum check-update\n",
    "2. 更新所有软件命令：yum update\n",
    "3. 仅安装指定的软件命令：yum install <package_name>\n",
    "4. 仅更新指定的软件命令：yum update <package_name>\n",
    "5. 列出所有可安裝的软件清单命令：yum list\n",
    "6. 删除软件包命令：yum remove <package_name>\n",
    "7. 查找软件包 命令：yum search <keyword>\n",
    "8. 清除缓存命令:\n",
    "    * yum clean packages: 清除缓存目录下的软件包\n",
    "    * yum clean headers: 清除缓存目录下的 headers\n",
    "    * yum clean oldheaders: 清除缓存目录下旧的 headers\n",
    "    * yum clean, yum clean all (= yum clean packages; yum clean oldheaders) :清除缓存目录下的软件包及旧的headers\n",
    "\n",
    "\n",
    "其他命令:\n",
    "```\n",
    "yum upgrade: 升级系统\n",
    "yum clean all: 清除全部\n",
    "yum clean packages: 清除临时包文件（/var/cache/yum 下文件）\n",
    "yum clean headers: 清除rpm头文件\n",
    "yum clean oldheaders: 清除旧的rpm头文件\n",
    "yum deplist: 列出包的依赖\n",
    "yum list installed: 已安装的包\n",
    "yum list extras: 已安装且不在资源库的包\n",
    "yum info: 可安装和可更新的RPM包 信息\n",
    "yum info installed: 已安装包的信息(-qa 参数相似)\n",
    "yum localinstall: 安装本地的 RPM包\n",
    "yum provides[关键词]: 搜索特定包文件名\n",
    "yum reinstall[RPM包]: 重新安装包\n",
    "yum repolist: 显示资源库的配置\n",
    "yum resolvedep: 指定依赖\n",
    "```"
   ]
  },
  {
   "cell_type": "markdown",
   "metadata": {},
   "source": [
    "查看centos版本信息\n",
    "cat /etc/redhat-release "
   ]
  }
 ],
 "metadata": {
  "kernelspec": {
   "display_name": "Python 3",
   "language": "python",
   "name": "python3"
  },
  "language_info": {
   "codemirror_mode": {
    "name": "ipython",
    "version": 3
   },
   "file_extension": ".py",
   "mimetype": "text/x-python",
   "name": "python",
   "nbconvert_exporter": "python",
   "pygments_lexer": "ipython3",
   "version": "3.6.4"
  }
 },
 "nbformat": 4,
 "nbformat_minor": 2
}
