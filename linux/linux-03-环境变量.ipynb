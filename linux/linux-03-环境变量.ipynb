{
 "cells": [
  {
   "cell_type": "markdown",
   "metadata": {},
   "source": [
    "# liunx-环境变量"
   ]
  },
  {
   "cell_type": "markdown",
   "metadata": {},
   "source": [
    "### 常用的环境变量"
   ]
  },
  {
   "cell_type": "markdown",
   "metadata": {},
   "source": [
    "* PATH 决定了shell将到哪些目录中寻找命令或程序 \n",
    "* HOME 当前用户主目录 \n",
    "* HISTSIZE　历史记录数 \n",
    "* LOGNAME 当前用户的登录名 \n",
    "* HOSTNAME　指主机的名称 \n",
    "* SHELL 当前用户Shell类型 \n",
    "* LANGUGE 　语言相关的环境变量，多语言可以修改此环境变量 \n",
    "* MAIL　当前用户的邮件存放目录 \n",
    "* PS1  基本提示符\n",
    "    * root用户: #\n",
    "    * 普通用户: $\n",
    "    \n",
    "* PS2  附属提示符\n",
    "    * 默认是: >\n",
    "\n",
    "修改默认提示符: `# PS1=” Hello,My NewPrompt :) “`"
   ]
  },
  {
   "cell_type": "markdown",
   "metadata": {},
   "source": [
    "### 查看环境变量"
   ]
  },
  {
   "cell_type": "markdown",
   "metadata": {},
   "source": [
    "* 查看单个环境变量: echo `$PAHT`, 如PATH这个环境变量,`$`不能少,$表示查看的系统的变量\n",
    "* 查看所有环境变量: env\n",
    "* 查看所有本地定义的环境变量: set"
   ]
  },
  {
   "cell_type": "markdown",
   "metadata": {},
   "source": [
    "### 可以添加环境变量的地方"
   ]
  },
  {
   "cell_type": "markdown",
   "metadata": {},
   "source": [
    "1. 用户主目录下的`.bash_profile`, 如：`/home/arvin/.bash_profile` : 对单一用户生效(永久的),(推荐)\n",
    "\n",
    "2. 用户主目录下的`.bashrc`, 如 `/home/arvin/.bashrc`,也就是 `~/.bashrc` : 对单一用户生效(永久的), (推荐)\n",
    "\n",
    "3. `/etc/bashrc` :  对所有用户生效(永久的),需要root权限, (不怎么推荐)"
   ]
  },
  {
   "cell_type": "markdown",
   "metadata": {},
   "source": [
    "### 设置环境变量"
   ]
  },
  {
   "cell_type": "markdown",
   "metadata": {},
   "source": [
    "1. 在`/etc/profile`文件中添加变量, 对所有用户生效(永久的),需要root权限\n",
    "\n",
    "2. 在用户目录下的`.bash_profile`文件中增加变量, 对单一用户生效(永久的)\n",
    "\n",
    "```bash\n",
    "cd /home/arvin\n",
    "vim .bash_profile\n",
    "## 将/opt/python36/bin添加至环境变量中\n",
    "PATH=$PATH:$HOME/.local/bin:$HOME/bin:/opt/python36/bin\n",
    "export PATH\n",
    "```\n",
    "\n",
    "3. 直接运行export命令定义变量, 只对当前shell(BASH)有效(临时的)\n",
    "在shell的命令行下直接使用`export PATH=$PATH:/opt/python36/bin` 定义变量， 该变量只在当前的shell(BASH)或其子shell(BASH)下是有效的，shell关闭了，变量也就失效了， 再打开新shell时就没有这个变量，需要使用的话还需要重新定义。"
   ]
  }
 ],
 "metadata": {
  "kernelspec": {
   "display_name": "Python 3",
   "language": "python",
   "name": "python3"
  },
  "language_info": {
   "codemirror_mode": {
    "name": "ipython",
    "version": 3
   },
   "file_extension": ".py",
   "mimetype": "text/x-python",
   "name": "python",
   "nbconvert_exporter": "python",
   "pygments_lexer": "ipython3",
   "version": "3.6.4"
  }
 },
 "nbformat": 4,
 "nbformat_minor": 2
}
