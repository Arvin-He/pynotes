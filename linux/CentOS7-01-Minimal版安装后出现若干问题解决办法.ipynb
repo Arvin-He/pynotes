{
 "cells": [
  {
   "cell_type": "markdown",
   "metadata": {},
   "source": [
    "# CentOS7 Minimal 安装后出现的若干问题解决办法"
   ]
  },
  {
   "cell_type": "markdown",
   "metadata": {},
   "source": [
    "### \"xxx is not in the sudoers file\""
   ]
  },
  {
   "cell_type": "markdown",
   "metadata": {},
   "source": [
    "1. 执行su -进入超级用户模式\n",
    "2. 执行`chmod u+w /etc/sudoers`为该文件添加写权限\n",
    "3. 修改该文件：找到`root ALL=(ALL) ALL`这一行，在它的下面添加一行`<username> ALL=(ALL) ALL`（为你的用户名）\n",
    "4. 执行`chmod u-w /etc/sudoers`撤销该文件写权限"
   ]
  },
  {
   "cell_type": "markdown",
   "metadata": {},
   "source": [
    "### 无法联网"
   ]
  },
  {
   "cell_type": "markdown",
   "metadata": {},
   "source": [
    "CentOS7 Minimal 是默认关闭网卡的。现在需要打开它。\n",
    "\n",
    "1. 执行`cd /etc/sysconfig/network-scripts/`\n",
    "2. ls查看该目录下文件，执行`vi ifcfg-*`打开第一个文件（由于第一个文件的文件名有可能是不同的所以使用`ifcfg-*`来表示）\n",
    "3. 将最后一行`ONBOOT=no`改为`ONBOOT=yes`，保存\n",
    "4. 执行`service network restart`重启网络服务"
   ]
  },
  {
   "cell_type": "markdown",
   "metadata": {},
   "source": [
    "### 配置其它网络服务"
   ]
  },
  {
   "cell_type": "markdown",
   "metadata": {},
   "source": [
    "使用命令nmtui"
   ]
  },
  {
   "cell_type": "markdown",
   "metadata": {},
   "source": [
    "### 更换yum源"
   ]
  },
  {
   "cell_type": "markdown",
   "metadata": {},
   "source": [
    "1. 修改yum源为163源\n",
    "\n",
    "    - 执行`sudo yum install wget`,安装wget\n",
    "    - 安装好wget后，执行`wget http://mirrors.163.com/.help/CentOS7-Base-163.repo`,下载163的源\n",
    "    - 下载好后执行, 备份系统自带的源并且替换为163源 \n",
    "    ```cp CentOS7-Base-163.repo /etc/yum.repos.d/\n",
    "      cd /etc/yum.repos.d \n",
    "      mv CentOS-Base.repo CentOS-Base.repo.bk \n",
    "      mv CentOS7-Base-163.repo CentOS-Base.repo\n",
    "     ```\n",
    "    - 执行`yum makecache`, 更新yum源\n",
    "\n",
    "\n",
    "2. Centos7 修改yum源为阿里源\n",
    "\n",
    "    -  cd /etc/yum.repos.d\n",
    "    - sudo mv CentOS-Base.repo CentOS-Base.repo.bak\n",
    "    - sudo wget -O CentOS-Base.repo http://mirrors.aliyun.com/repo/Centos-7.repo\n",
    "    - yum clean all\n",
    "    - yum makecache"
   ]
  },
  {
   "cell_type": "markdown",
   "metadata": {},
   "source": [
    "### 安装proxychains"
   ]
  },
  {
   "cell_type": "markdown",
   "metadata": {},
   "source": [
    "1. `sudo yum install gcc`\n",
    "2. `cd ~`\n",
    "3. `git clone https://github.com/rofl0r/proxychains-ng.git `\n",
    "4. `cd proxychains-ng `\n",
    "5. `./configure && make && make install  `\n",
    "6. `make install-config`"
   ]
  },
  {
   "cell_type": "markdown",
   "metadata": {},
   "source": [
    "### 安装其他软件"
   ]
  },
  {
   "cell_type": "markdown",
   "metadata": {},
   "source": [
    "```\n",
    "yum install gcc\n",
    "yum install vim\n",
    "yum install curl\n",
    "yum install gcc\n",
    "yum install subversion\n",
    "```"
   ]
  },
  {
   "cell_type": "markdown",
   "metadata": {},
   "source": [
    "### ifconfig: command not found"
   ]
  },
  {
   "cell_type": "markdown",
   "metadata": {},
   "source": [
    "安装net-tools\n",
    "yum install net-tools"
   ]
  }
 ],
 "metadata": {
  "kernelspec": {
   "display_name": "Python 3",
   "language": "python",
   "name": "python3"
  },
  "language_info": {
   "codemirror_mode": {
    "name": "ipython",
    "version": 3
   },
   "file_extension": ".py",
   "mimetype": "text/x-python",
   "name": "python",
   "nbconvert_exporter": "python",
   "pygments_lexer": "ipython3",
   "version": "3.6.4"
  }
 },
 "nbformat": 4,
 "nbformat_minor": 2
}
