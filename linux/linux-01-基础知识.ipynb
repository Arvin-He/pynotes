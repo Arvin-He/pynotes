{
 "cells": [
  {
   "cell_type": "markdown",
   "metadata": {},
   "source": [
    "# linux-基础知识"
   ]
  },
  {
   "cell_type": "markdown",
   "metadata": {},
   "source": [
    "### 软件下载安装"
   ]
  },
  {
   "cell_type": "markdown",
   "metadata": {},
   "source": [
    "一般的软件的默认安装目录在/usr/local或者/opt里\n",
    "\n",
    "\n",
    "* CentOS7: `yum install -y`\n",
    "* Ubuntu: `apt-get install`    \n"
   ]
  },
  {
   "cell_type": "markdown",
   "metadata": {},
   "source": [
    "### 创建新用户"
   ]
  },
  {
   "cell_type": "markdown",
   "metadata": {},
   "source": [
    "1. su\n",
    "2. 输入root用户密码,切到root权限\n",
    "3. adduser arvin\n",
    "4. passwd arvin\n",
    "5. 输入新的密码:  *******\n",
    "6. 重新输入新的密码: *******"
   ]
  },
  {
   "cell_type": "markdown",
   "metadata": {},
   "source": [
    "### 授权"
   ]
  },
  {
   "cell_type": "markdown",
   "metadata": {},
   "source": [
    "新创建的用户并不能使用sudo命令，需要给他添加授权.\n",
    "\n",
    "1. sudo命令的授权管理是在sudoers文件里的, 查看sudoers文件\n",
    "\n",
    "\n",
    "```bash\n",
    "[root@localhost ~]# sudoers\n",
    "bash: sudoers: 未找到命令...\n",
    "[root@localhost ~]# whereis sudoers\n",
    "sudoers: /etc/sudoers /etc/sudoers.d /usr/libexec/sudoers.so /usr/share/man/man5/sudoers.5.gz\n",
    "```\n",
    "\n",
    "2. 找到这个文件位置之后再查看权限：\n",
    "\n",
    "```bash\n",
    "[root@localhost ~]# ls -l /etc/sudoers\n",
    "-r--r----- 1 root root 4251 9月  25 15:08 /etc/sudoers\n",
    "```\n",
    "\n",
    "3. 只有只读的权限，如果想要修改的话，需要先添加w权限：\n",
    "\n",
    "```bash\n",
    "[root@localhost ~]# chmod -v u+w /etc/sudoers\n",
    "mode of \"/etc/sudoers\" changed from 0440 (r--r-----) to 0640 (rw-r-----)\n",
    "```\n",
    "\n",
    "4. 追加新增的用户：\n",
    "\n",
    "```bash\n",
    "[root@localhost ~]# vim /etc/sudoers\n",
    "\n",
    "## Allow root to run any commands anywher  \n",
    "root    ALL=(ALL)       ALL  \n",
    "arvin   ALL=(ALL)       ALL  #这个是新增的用户\n",
    "```\n",
    "\n",
    "5. wq保存退出，这时候要记得将写权限收回：\n",
    "\n",
    "```bash\n",
    "[root@localhost ~]# chmod -v u-w /etc/sudoers\n",
    "mode of \"/etc/sudoers\" changed from 0640 (rw-r-----) to 0440 (r--r-----)\n",
    "```\n",
    "\n",
    "6. 使用新用户登录，使用sudo：\n",
    "\n",
    "```bash\n",
    "[arvin@localhost ~]$ sudo cat /etc/passwd\n",
    "[sudo] password for arvin: \n",
    "```\n",
    "\n",
    "7. 输入密码才可以下一步。\n",
    "\n",
    "如果不想需要输入密码怎么办，将最后一个ALL修改成NOPASSWD: ALL。"
   ]
  },
  {
   "cell_type": "markdown",
   "metadata": {},
   "source": [
    "### 查看ssh服务是否已经安装:"
   ]
  },
  {
   "cell_type": "markdown",
   "metadata": {},
   "source": [
    "`rpm -qa | grep ssh`"
   ]
  },
  {
   "cell_type": "markdown",
   "metadata": {},
   "source": [
    "### 开启关闭ssh服务"
   ]
  },
  {
   "cell_type": "markdown",
   "metadata": {},
   "source": [
    "```bash\n",
    "service sshd(ssh) start\n",
    "service sshd(ssh) stop\n",
    "service sshd(ssh) restart\n",
    "```\n",
    "或者\n",
    "\n",
    "```bash\n",
    "/etc/init.d/sshd start\n",
    "/etc/init.d/sshd stop\n",
    "/etc/init.d/sshd restart\n",
    "```\n",
    "\n",
    "centos7:\n",
    "```bash\n",
    "/bin/systemctl start sshd.service\n",
    "/bin/systemctl stop sshd.service\n",
    "/bin/systemctl restart sshd.service\n",
    "```"
   ]
  },
  {
   "cell_type": "markdown",
   "metadata": {},
   "source": [
    "### 关闭防火墙"
   ]
  },
  {
   "cell_type": "markdown",
   "metadata": {},
   "source": [
    "`/etc/init.d/iptables stop`"
   ]
  },
  {
   "cell_type": "markdown",
   "metadata": {},
   "source": [
    "### 开机自启动设置"
   ]
  },
  {
   "cell_type": "markdown",
   "metadata": {},
   "source": [
    "`update-rc.d ssh enable`"
   ]
  },
  {
   "cell_type": "markdown",
   "metadata": {},
   "source": [
    "### 关闭开机自启动"
   ]
  },
  {
   "cell_type": "markdown",
   "metadata": {},
   "source": [
    "`update-rc.d ssh disable`"
   ]
  }
 ],
 "metadata": {
  "kernelspec": {
   "display_name": "Python 3",
   "language": "python",
   "name": "python3"
  },
  "language_info": {
   "codemirror_mode": {
    "name": "ipython",
    "version": 3
   },
   "file_extension": ".py",
   "mimetype": "text/x-python",
   "name": "python",
   "nbconvert_exporter": "python",
   "pygments_lexer": "ipython3",
   "version": "3.6.4"
  }
 },
 "nbformat": 4,
 "nbformat_minor": 2
}
