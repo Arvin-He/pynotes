{
 "cells": [
  {
   "cell_type": "markdown",
   "metadata": {},
   "source": [
    "# linux-基础知识"
   ]
  },
  {
   "cell_type": "markdown",
   "metadata": {},
   "source": [
    "### linux目录结构说明"
   ]
  },
  {
   "cell_type": "markdown",
   "metadata": {},
   "source": [
    "一般的软件的默认安装目录在/usr/local或者/opt里\n",
    "\n",
    "在Linux文件系统中有两个特殊的目录，一个用户所在的工作目录，也叫当前目录，可以使用一个点 . 来表示；另一个是当前目录的上一级目录，也叫父目录，可以使用两个点 .. 来表示。\n",
    "\n",
    "* . ：代表当前的目录，也可以使用 ./ 来表示；\n",
    "* .. ：代表上一层目录，也可以 ../ 来代表。\n",
    "\n",
    "如果一个目录或文件名以一个点 . 开始，表示这个目录或文件是一个隐藏目录或文件(如：.bashrc)。即以默认方式查找时，不显示该目录或文件。\n",
    "\n",
    "\n",
    "以下是对这些目录的解释：\n",
    "\n",
    "* /bin：\n",
    "bin是Binary的缩写, 这个目录存放着最经常使用的命令。\n",
    "\n",
    "* /boot：\n",
    "这里存放的是启动Linux时使用的一些核心文件，包括一些连接文件以及镜像文件。\n",
    "\n",
    "* /dev ：\n",
    "dev是Device(设备)的缩写, 该目录下存放的是Linux的外部设备，在Linux中访问设备的方式和访问文件的方式是相同的。\n",
    "\n",
    "* /etc：\n",
    "这个目录用来存放所有的系统管理所需要的配置文件和子目录。\n",
    "\n",
    "* /home：\n",
    "用户的主目录，在Linux中，每个用户都有一个自己的目录，一般该目录名是以用户的账号命名的。\n",
    "\n",
    "* /lib：\n",
    "这个目录里存放着系统最基本的动态连接共享库，其作用类似于Windows里的DLL文件。几乎所有的应用程序都需要用到这些共享库。\n",
    "\n",
    "* /lost+found：\n",
    "这个目录一般情况下是空的，当系统非法关机后，这里就存放了一些文件。\n",
    "\n",
    "* /media：\n",
    "linux系统会自动识别一些设备，例如U盘、光驱等等，当识别后，linux会把识别的设备挂载到这个目录下。\n",
    "\n",
    "* /mnt：\n",
    "系统提供该目录是为了让用户临时挂载别的文件系统的，我们可以将光驱挂载在/mnt/上，然后进入该目录就可以查看光驱里的内容了。\n",
    "\n",
    "* /opt：\n",
    " 这是给主机额外安装软件所摆放的目录。比如你安装一个ORACLE数据库则就可以放到这个目录下。默认是空的。\n",
    "\n",
    "* /proc：\n",
    "这个目录是一个虚拟的目录，它是系统内存的映射，我们可以通过直接访问这个目录来获取系统信息。\n",
    "这个目录的内容不在硬盘上而是在内存里，我们也可以直接修改里面的某些文件，比如可以通过下面的命令来屏蔽主机的ping命令，使别人无法ping你的机器：`echo 1 > /proc/sys/net/ipv4/icmp_echo_ignore_all`\n",
    "\n",
    "* /root：\n",
    "该目录为系统管理员，也称作超级权限者的用户主目录。\n",
    "\n",
    "* /sbin：\n",
    "s就是Super User的意思，这里存放的是系统管理员使用的系统管理程序。\n",
    "\n",
    "* /selinux：\n",
    " 这个目录是Redhat/CentOS所特有的目录，Selinux是一个安全机制，类似于windows的防火墙，但是这套机制比较复杂，这个目录就是存放selinux相关的文件的。\n",
    "\n",
    "* /srv：\n",
    " 该目录存放一些服务启动之后需要提取的数据。\n",
    "\n",
    "* /sys：\n",
    " 这是linux2.6内核的一个很大的变化。该目录下安装了2.6内核中新出现的一个文件系统 sysfs 。\n",
    "\n",
    "sysfs文件系统集成了下面3种文件系统的信息：针对进程信息的proc文件系统、针对设备的devfs文件系统以及针对伪终端的devpts文件系统。\n",
    "该文件系统是内核设备树的一个直观反映。\n",
    "\n",
    "当一个内核对象被创建的时候，对应的文件和目录也在内核对象子系统中被创建。\n",
    "\n",
    "* /tmp：\n",
    "这个目录是用来存放一些临时文件的。\n",
    "\n",
    "* /usr：\n",
    " 这是一个非常重要的目录，用户的很多应用程序和文件都放在这个目录下，类似于windows下的program files目录。\n",
    "\n",
    "* /usr/bin：\n",
    "系统用户使用的应用程序。\n",
    "\n",
    "* /usr/sbin：\n",
    "超级用户使用的比较高级的管理程序和系统守护程序。\n",
    "\n",
    "* /usr/src：内核源代码默认的放置目录。\n",
    "\n",
    "* /var：\n",
    "这个目录中存放着在不断扩充着的东西，我们习惯将那些经常被修改的目录放在这个目录下。包括各种日志文件。\n",
    "\n",
    "在linux系统中，有几个目录是比较重要的，平时需要注意不要误删除或者随意更改内部文件。\n",
    "\n",
    "* /etc： 上边也提到了，这个是系统中的配置文件，如果你更改了该目录下的某个文件可能会导致系统不能启动。\n",
    "\n",
    "* /bin, /sbin, /usr/bin, /usr/sbin: 这是系统预设的执行文件的放置目录，比如 ls 就是在/bin/ls 目录下的。\n",
    "\n",
    "值得提出的是，/bin, /usr/bin 是给系统用户使用的指令（除root外的通用户），而/sbin, /usr/sbin 则是给root使用的指令。\n",
    "\n",
    "* /var： 这是一个非常重要的目录，系统上跑了很多程序，那么每个程序都会有相应的日志产生，而这些日志就被记录到这个目录下，具体在/var/log 目录下，另外mail的预设放置也是在这里。 \n"
   ]
  },
  {
   "cell_type": "markdown",
   "metadata": {},
   "source": [
    "### 文件基本属性"
   ]
  },
  {
   "cell_type": "markdown",
   "metadata": {},
   "source": [
    "在Linux中我们可以使用ll或者ls –l命令来显示一个文件的属性以及文件所属的用户和组，如：\n",
    "\n",
    "```\n",
    "[root@www /]# ls -l\n",
    "total 64\n",
    "dr-xr-xr-x   2 root root 4096 Dec 14  2012 bin\n",
    "dr-xr-xr-x   4 root root 4096 Apr 19  2012 boot\n",
    "……\n",
    "```\n",
    "\n",
    "实例中，bin文件的第一个属性用\"d\"表示。\"d\"在Linux中代表该文件是一个目录文件。\n",
    "\n",
    "在Linux中第一个字符代表这个文件是目录、文件或链接文件等等。\n",
    "\n",
    "* 当为[ d ]则是目录\n",
    "* 当为[ - ]则是文件；\n",
    "* 当为[ l ]则表示为链接文档(link file)；\n",
    "* 当为[ b ]则表示为装置文件里面的可供储存的接口设备(可随机存取装置)；\n",
    "* 当为[ c ]则表示为装置文件里面的串行端口设备，例如键盘、鼠标(一次性读取装置)。\n",
    "\n",
    "接下来的字符中，以三个为一组，且均为『rwx』 的三个参数的组合。\n",
    "\n",
    "其中，[ r ]代表可读(read)、[ w ]代表可写(write)、[ x ]代表可执行(execute)。\n",
    "\n",
    "要注意的是，这三个权限的位置不会改变，如果没有权限，就会出现减号[ - ]而已。\n",
    "\n",
    "每个文件的属性由左边第一部分的10个字符来确定（如下图）。\n",
    "\n",
    "从左至右用0-9这些数字来表示。\n",
    "\n",
    "* 第0位确定文件类型，第1-3位确定属主（该文件的所有者）拥有该文件的权限。\n",
    "\n",
    "* 第4-6位确定属组（所有者的同组用户）拥有该文件的权限，\n",
    "\n",
    "* 第7-9位确定其他用户拥有该文件的权限。\n",
    "\n",
    "* 第1、4、7位表示读权限，如果用\"r\"字符表示，则有读权限，如果用\"-\"字符表示，则没有读权限；\n",
    "\n",
    "* 第2、5、8位表示写权限，如果用\"w\"字符表示，则有写权限，如果用\"-\"字符表示没有写权限；\n",
    "\n",
    "* 第3、6、9位表示可执行权限，如果用\"x\"字符表示，则有执行权限，如果用\"-\"字符表示，则没有执行权限。"
   ]
  },
  {
   "cell_type": "markdown",
   "metadata": {},
   "source": [
    "### 更改文件属性"
   ]
  },
  {
   "cell_type": "markdown",
   "metadata": {},
   "source": [
    "1. chgrp：更改文件属组\n",
    "\n",
    "    * 语法：chgrp [-R] 属组名 文件名\n",
    "    * 参数选项-R：递归更改文件属组，就是在更改某个目录文件的属组时，如果加上-R的参数，那么该目录下的所有文件的属组都会更改。\n",
    "\n",
    "2. chown：更改文件属主，也可以同时更改文件属组\n",
    "\n",
    "    * 语法：chown [–R] 属主名 文件名\n",
    "    * chown [-R] 属主名：属组名 文件名\n",
    "\n",
    "3. chmod：更改文件9个属性\n",
    "\n",
    "Linux文件属性有两种设置方法，一种是数字，一种是符号。\n",
    "\n",
    "Linux文件的基本权限就有九个，分别是owner/group/others三种身份各有自己的read/write/execute权限。\n",
    "\n",
    "r:4\n",
    "w:2\n",
    "x:1\n",
    "每种身份(owner/group/others)各自的三个权限(r/w/x)分数是需要累加的，例如当权限为： [-rwxrwx---] 分数则是：\n",
    "\n",
    "owner = rwx = 4+2+1 = 7\n",
    "group = rwx = 4+2+1 = 7\n",
    "others= --- = 0+0+0 = 0\n",
    "\n",
    "    * chmod [-R] xyz 文件或目录\n",
    "    * 选项与参数：\n",
    "\n",
    "        * xyz : 就是刚刚提到的数字类型的权限属性，为 rwx 属性数值的相加。\n",
    "        * -R : 进行递归(recursive)的持续变更，亦即连同次目录下的所有文件都会变更\n",
    "\n",
    "\n",
    "符号类型改变文件权限\n",
    "\n",
    "还有一个改变权限的方法, 从之前的介绍中发现，基本上就九个权限分别是(1)user (2)group (3)others三种身份！ \n",
    "那么我们就可以藉由u, g, o来代表三种身份的权限！\n",
    "\n",
    "此外， a 则代表 all 亦即全部的身份！那么读写的权限就可以写成r, w, x！也就是可以使用底下的方式来看：\n",
    "\n",
    "chmod\tu/g/oa   +(加入)/-(除去)/=(设定)\tr/w/x\t文件或目录\n",
    "\n",
    "如果我们需要将文件权限设置为 -rwxr-xr-- ，可以使用 chmod u=rwx,g=rx,o=r 文件名 来设定:\n",
    "\n",
    "```\n",
    "#  touch test1    // 创建 test1 文件\n",
    "# ls -al test1    // 查看 test1 默认权限\n",
    "-rw-r--r-- 1 root root 0 Nov 15 10:32 test1\n",
    "# chmod u=rwx,g=rx,o=r  test1    // 修改 test1 权限\n",
    "# ls -al test1\n",
    "-rwxr-xr-- 1 root root 0 Nov 15 10:32 test1\n",
    "而如果是要将权限去掉而不改变其他已存在的权限呢？例如要拿掉全部人的可执行权限，则：\n",
    "\n",
    "#  chmod  a-x test1\n",
    "# ls -al test1\n",
    "-rw-r--r-- 1 root root 0 Nov 15 10:32 test1\n",
    "```"
   ]
  },
  {
   "cell_type": "markdown",
   "metadata": {},
   "source": [
    "## Linux系统用户账号的管理 "
   ]
  },
  {
   "cell_type": "markdown",
   "metadata": {},
   "source": [
    "用户账号的管理工作主要涉及到用户账号的添加、修改和删除。 \n",
    "\n",
    "添加用户账号就是在系统中创建一个新账号，然后为新账号分配用户号、用户组、主目录和登录Shell等资源。\n",
    "\n",
    "刚添加的账号是被锁定的，无法使用"
   ]
  },
  {
   "cell_type": "markdown",
   "metadata": {},
   "source": [
    "### 创建新用户"
   ]
  },
  {
   "cell_type": "markdown",
   "metadata": {},
   "source": [
    "useradd 选项 用户名\n",
    "\n",
    "参数说明：\n",
    "\n",
    "选项:\n",
    "* -c comment 指定一段注释性描述。\n",
    "* -d 目录 指定用户主目录，如果此目录不存在，则同时使用-m选项，可以创建主目录。\n",
    "* -g 用户组 指定用户所属的用户组。\n",
    "* -G 用户组，用户组 指定用户所属的附加组。\n",
    "* -s Shell文件 指定用户的登录Shell。\n",
    "* -u 用户号 指定用户的用户号，如果同时有-o选项，则可以重复使用其他用户的标识号。\n",
    "\n",
    "用户名:指定新账号的登录名。\n"
   ]
  },
  {
   "cell_type": "markdown",
   "metadata": {},
   "source": [
    "1. su\n",
    "2. 输入root用户密码,切到root权限\n",
    "3. adduser arvin\n",
    "4. passwd arvin\n",
    "5. 输入新的密码:  *******\n",
    "6. 重新输入新的密码: *******"
   ]
  },
  {
   "cell_type": "markdown",
   "metadata": {},
   "source": [
    "### 删除账号"
   ]
  },
  {
   "cell_type": "markdown",
   "metadata": {},
   "source": [
    "如果一个用户的账号不再使用，可以从系统中删除。\n",
    "\n",
    "删除用户账号就是要将/etc/passwd等系统文件中的该用户记录删除，必要时还删除用户的主目录。 \n",
    "\n",
    "命令格式: `userdel 选项 用户名`\n",
    "\n",
    "常用的选项是 `-r`，它的作用是把用户(/etc/passwd, /etc/shadow, /etc/group等）的记录删除，同时删除用户的主目录\n",
    "\n"
   ]
  },
  {
   "cell_type": "markdown",
   "metadata": {},
   "source": [
    "### 修改账号"
   ]
  },
  {
   "cell_type": "markdown",
   "metadata": {},
   "source": [
    "修改用户账号就是根据实际情况更改用户的有关属性，如用户号、主目录、用户组、登录Shell等。 \n",
    "\n",
    "修改已有用户的信息使用usermod命令，其格式如下： `usermod 选项 用户名`\n",
    "\n",
    "常用的选项包括-c, -d, -m, -g, -G, -s, -u以及-o等，这些选项的意义与useradd命令中的选项一样，可以为用户指定新的资源值。 \n",
    "\n",
    "另外，**有些系统**可以使用选项：`-l 新用户名`, 这个选项指定一个新的账号，即将原来的用户名改为新的用户名。 "
   ]
  },
  {
   "cell_type": "markdown",
   "metadata": {},
   "source": [
    "### 用户密码管理"
   ]
  },
  {
   "cell_type": "markdown",
   "metadata": {},
   "source": [
    "用户账号刚创建时没有口令，但是被系统锁定，无法使用，必须为其指定口令后才可以使用，即使是指定空口令。\n",
    "\n",
    "指定和修改用户口令的Shell命令是passwd。\n",
    "\n",
    "超级用户可以为自己和其他用户指定口令，普通用户只能用它修改自己的口令。\n",
    "\n",
    "命令的格式为： `passwd 选项 用户名`\n",
    "\n",
    "可使用的选项：\n",
    "\n",
    "* -l 锁定口令，即禁用账号, 即锁定某一用户，使其不能登录。\n",
    "* -u 口令解锁。\n",
    "* -d 使账号无口令,用户下一次登录时，系统就不再询问口令。\n",
    "* -f 强迫用户下次登录时修改口令。\n",
    "\n",
    "如果默认用户名，则修改当前用户的口令。"
   ]
  },
  {
   "cell_type": "markdown",
   "metadata": {},
   "source": [
    "## Linux系统用户组的管理"
   ]
  },
  {
   "cell_type": "markdown",
   "metadata": {},
   "source": [
    "每个用户都有一个用户组，系统可以对一个用户组中的所有用户进行集中管理。\n",
    "\n",
    "不同Linux 系统对用户组的规定有所不同，如Linux下的用户属于与它同名的用户组，这个用户组在创建用户时同时创建。\n",
    "\n",
    "用户组的管理涉及用户组的添加、删除和修改。组的增加、删除和修改实际上就是对/etc/group文件的更新。"
   ]
  },
  {
   "cell_type": "markdown",
   "metadata": {},
   "source": [
    "### 增加一个新的用户组"
   ]
  },
  {
   "cell_type": "markdown",
   "metadata": {},
   "source": [
    "增加一个新的用户组使用groupadd命令。其格式如下：`groupadd 选项 用户组`\n",
    "\n",
    "可以使用的选项有：\n",
    "* -g GID 指定新用户组的组标识号（GID）。\n",
    "* -o 一般与-g选项同时使用，表示新用户组的GID可以与系统已有用户组的GID相同。\n",
    "\n",
    "`groupadd group1`: 向系统中增加了一个新组group1，新组的组标识号是在当前已有的最大组标识号的基础上加1。 \n",
    "\n",
    "`groupadd -g 101 group2`: 向系统中增加了一个新组group2，同时指定新组的组标识号是101。"
   ]
  },
  {
   "cell_type": "markdown",
   "metadata": {},
   "source": [
    "### 删除一个已有的用户组"
   ]
  },
  {
   "cell_type": "markdown",
   "metadata": {},
   "source": [
    "删除一个已有的用户组，使用groupdel命令，其格式如下：`groupdel 用户组`"
   ]
  },
  {
   "cell_type": "markdown",
   "metadata": {},
   "source": [
    "### 修改用户组"
   ]
  },
  {
   "cell_type": "markdown",
   "metadata": {},
   "source": [
    "修改用户组的属性使用groupmod命令。其语法如下：`groupmod 选项 用户组`\n",
    "\n",
    "常用的选项有：\n",
    "\n",
    "* -g GID 为用户组指定新的组标识号。\n",
    "* -o 与-g选项同时使用，用户组的新GID可以与系统已有用户组的GID相同。\n",
    "* -n 新用户组 将用户组的名字改为新名字\n",
    "\n",
    "`groupmod -g 102 group2`: 此命令将组group2的组标识号修改为102。 \n",
    "\n",
    "`groupmod –g 10000 -n group3 group2`: 此命令将组group2的标识号改为10000，组名修改为group3。"
   ]
  },
  {
   "cell_type": "markdown",
   "metadata": {},
   "source": [
    "### 切换用户组"
   ]
  },
  {
   "cell_type": "markdown",
   "metadata": {},
   "source": [
    "如果一个用户同时属于多个用户组，那么用户可以在用户组之间切换，以便具有其他用户组的权限。\n",
    "\n",
    "用户可以在登录后，使用命令`newgrp`切换到其他用户组，这个命令的参数就是目的用户组。\n",
    "\n",
    "` newgrp root`: 这条命令将当前用户切换到root用户组，前提条件是root用户组确实是该用户的主组或附加组。类似于用户账号的管理，用户组的管理也可以通过集成的系统管理工具来完成。 \n"
   ]
  },
  {
   "cell_type": "markdown",
   "metadata": {},
   "source": [
    "## 与用户账号有关的系统文件"
   ]
  },
  {
   "cell_type": "markdown",
   "metadata": {},
   "source": [
    "用户管理实际上都是对有关的系统文件进行修改。\n",
    "\n",
    "与用户和用户组相关的信息都存放在一些系统文件中，这些文件包括`/etc/passwd`, `/etc/shadow`, `/etc/group`等。\n",
    "\n",
    "`/etc/passwd`文件是用户管理工作涉及的最重要的一个文件.每个用户都在/etc/passwd文件中有一个对应的记录行，它记录了这个用户的一些基本属性。\n",
    "这个文件对所有用户都是可读的.每行记录又被冒号(:)分隔为7个字段，其格式和具体含义如下：`用户名:口令:用户标识号:组标识号:注释性描述:主目录:登录Shell`"
   ]
  },
  {
   "cell_type": "markdown",
   "metadata": {},
   "source": [
    "### 关于shell"
   ]
  },
  {
   "cell_type": "markdown",
   "metadata": {},
   "source": [
    "Shell是用户与Linux系统之间的接口。Linux的Shell有许多种，每种都有不同的特点。\n",
    "常用的有:\n",
    "* sh(Bourne Shell)\n",
    "* csh(C Shell)\n",
    "* ksh(Korn Shell)\n",
    "* tcsh(TENEX/TOPS-20 type C Shell)\n",
    "* bash(Bourne Again Shell)等。\n",
    "\n",
    "系统管理员可以根据系统情况和用户习惯为用户指定某个Shell。如果不指定Shell，那么系统使用sh为默认的登录Shell，即这个字段的值为/bin/sh。\n",
    "\n",
    "用户的登录Shell也可以指定为某个特定的程序（此程序不是一个命令解释器）。\n",
    "\n",
    "利用这一特点，我们可以限制用户只能运行指定的应用程序，在该应用程序运行结束后，用户就自动退出了系统。有些Linux 系统要求只有那些在系统中登记了的程序才能出现在这个字段中。"
   ]
  },
  {
   "cell_type": "markdown",
   "metadata": {},
   "source": [
    "### 伪用户"
   ]
  },
  {
   "cell_type": "markdown",
   "metadata": {},
   "source": [
    "系统中有一类用户称为伪用户（pseudo users）。\n",
    "\n",
    "这些用户在/etc/passwd文件中也占有一条记录，但是不能登录，因为它们的登录Shell为空。\n",
    "\n",
    "它们的存在主要是方便系统管理，满足相应的系统进程对文件属主的要求。\n",
    "\n",
    "常见的伪用户如下所示：\n",
    "```\n",
    "伪 用 户 含 义 \n",
    "bin 拥有可执行的用户命令文件 \n",
    "sys 拥有系统文件 \n",
    "adm 拥有帐户文件 \n",
    "uucp UUCP使用 \n",
    "lp lp或lpd子系统使用 \n",
    "nobody NFS使用\n",
    "```"
   ]
  },
  {
   "cell_type": "markdown",
   "metadata": {},
   "source": [
    "### `/etc/shadow`文件"
   ]
  },
  {
   "cell_type": "markdown",
   "metadata": {},
   "source": [
    "由于`/etc/passwd`文件是所有用户都可读的，如果用户的密码太简单或规律比较明显的话，一台普通的计算机就能够很容易地将它破解，因此对安全性要求较高的Linux系统都把加密后的口令字分离出来，单独存放在一个文件中，这个文件是`/etc/shadow`文件。 有超级用户才拥有该文件读权限，这就保证了用户密码的安全性。\n",
    "\n",
    "`/etc/shadow`中的记录行与`/etc/passwd`中的一一对应，它由pwconv命令根据`/etc/passwd`中的数据自动产生\n",
    "\n",
    "它的文件格式与`/etc/passwd`类似，由若干个字段组成，字段之间用\":\"隔开。这些字段是：`登录名:加密口令:最后一次修改时间:最小时间间隔:最大时间间隔:警告时间:不活动时间:失效时间:标志`"
   ]
  },
  {
   "cell_type": "markdown",
   "metadata": {},
   "source": [
    "### `/etc/group`文件"
   ]
  },
  {
   "cell_type": "markdown",
   "metadata": {},
   "source": [
    "用户组的所有信息都存放在/etc/group文件中。\n",
    "\n",
    "将用户分组是Linux 系统中对用户进行管理及控制访问权限的一种手段。\n",
    "\n",
    "每个用户都属于某个用户组；一个组中可以有多个用户，一个用户也可以属于多个不同的组。\n",
    "\n",
    "当一个用户同时是多个组中的成员时，在`/etc/passwd`文件中记录的是用户所属的**主组**，也就是登录时所属的默认组，而其他组称为**附加组**。\n",
    "\n",
    "用户要访问属于附加组的文件时，必须首先使用newgrp命令使自己成为所要访问的组中的成员。\n",
    "\n",
    "`/etc/group`文件的格式也类似于/etc/passwd文件，由冒号(:)隔开若干个字段，这些字段有：`组名:口令:组标识号:组内用户列表`\n",
    "\n",
    "\"口令\"字段存放的是用户组加密后的口令字。一般Linux 系统的用户组都没有口令，即这个字段一般为空，或者是*。\n",
    "\n",
    "\"组内用户列表\"是属于这个组的所有用户的列表/b]，不同用户之间用逗号(,)分隔。这个用户组可能是用户的主组，也可能是附加组。"
   ]
  },
  {
   "cell_type": "markdown",
   "metadata": {},
   "source": [
    "### 批量添加用户"
   ]
  },
  {
   "cell_type": "markdown",
   "metadata": {},
   "source": [
    "如果要添加几十个、上百个甚至上千个用户时，我们不太可能还使用useradd一个一个地添加，必然要找一种简便的创建大量用户的方法。Linux系统提供了创建大量用户的工具，可以让您立即创建大量用户.\n",
    "\n",
    "方法:\n",
    "1. 先编辑一个文本用户文件, 每一列按照/etc/passwd密码文件的格式书写，要注意每个用户的用户名、UID、宿主目录都不可以相同，其中密码栏可以留做空白或输入x号。一个范例文件user.txt内容如下：\n",
    "```\n",
    "user001::600:100:user:/home/user001:/bin/bash\n",
    "user002::601:100:user:/home/user002:/bin/bash\n",
    "user003::602:100:user:/home/user003:/bin/bash\n",
    "user004::603:100:user:/home/user004:/bin/bash\n",
    "user005::604:100:user:/home/user005:/bin/bash\n",
    "user006::605:100:user:/home/user006:/bin/bash\n",
    "...\n",
    "```\n",
    "2. 以root身份执行命令 `/usr/sbin/newusers`，从刚创建的用户文件user.txt中导入数据，创建用户: `newusers < user.txt`,然后可以执行命令 vipw 或 vi /etc/passwd 检查 /etc/passwd 文件是否已经出现这些用户的数据，并且用户的宿主目录是否已经创建。\n",
    "\n",
    "3. 执行命令:`/usr/sbin/pwunconv`, 将 `/etc/shadow` 产生的 shadow 密码解码，然后回写到 `/etc/passwd` 中，并将`/etc/shadow`的shadow密码栏删掉。这是为了方便下一步的密码转换工作，即先取消 `shadow password` 功能。\n",
    "\n",
    "4. 编辑每个用户的密码对照文件。范例文件 passwd.txt 内容如下：\n",
    "```\n",
    "user001:密码\n",
    "user002:密码\n",
    "user003:密码\n",
    "user004:密码\n",
    "user005:密码\n",
    "user006:密码\n",
    "...\n",
    "```\n",
    "5. 以root身份执行命令 `/usr/sbin/chpasswd`。创建用户密码，chpasswd 会将经过 /usr/bin/passwd 命令编码过的密码写入 /etc/passwd 的密码栏。`chpasswd < passwd.txt`\n",
    "\n",
    "6. 确定密码经编码写入`/etc/passwd`的密码栏后。执行命令 `/usr/sbin/pwconv` 将密码编码为 shadow password，并将结果写入 /etc/shadow。`pwconv`\n",
    "\n",
    "\n",
    "这样就完成了大量用户的创建了，之后您可以到/home下检查这些用户宿主目录的权限设置是否都正确，并登录验证用户密码是否正确"
   ]
  },
  {
   "cell_type": "markdown",
   "metadata": {},
   "source": [
    "### 授权"
   ]
  },
  {
   "cell_type": "markdown",
   "metadata": {},
   "source": [
    "新创建的用户并不能使用sudo命令，需要给他添加授权.\n",
    "\n",
    "1. sudo命令的授权管理是在sudoers文件里的, 查看sudoers文件\n",
    "\n",
    "\n",
    "```bash\n",
    "[root@localhost ~]# sudoers\n",
    "bash: sudoers: 未找到命令...\n",
    "[root@localhost ~]# whereis sudoers\n",
    "sudoers: /etc/sudoers /etc/sudoers.d /usr/libexec/sudoers.so /usr/share/man/man5/sudoers.5.gz\n",
    "```\n",
    "\n",
    "2. 找到这个文件位置之后再查看权限：\n",
    "\n",
    "```bash\n",
    "[root@localhost ~]# ls -l /etc/sudoers\n",
    "-r--r----- 1 root root 4251 9月  25 15:08 /etc/sudoers\n",
    "```\n",
    "\n",
    "3. 只有只读的权限，如果想要修改的话，需要先添加w权限：\n",
    "\n",
    "```bash\n",
    "[root@localhost ~]# chmod -v u+w /etc/sudoers\n",
    "mode of \"/etc/sudoers\" changed from 0440 (r--r-----) to 0640 (rw-r-----)\n",
    "```\n",
    "\n",
    "4. 追加新增的用户：\n",
    "\n",
    "```bash\n",
    "[root@localhost ~]# vim /etc/sudoers\n",
    "\n",
    "## Allow root to run any commands anywher  \n",
    "root    ALL=(ALL)       ALL  \n",
    "arvin   ALL=(ALL)       ALL  #这个是新增的用户\n",
    "```\n",
    "\n",
    "5. wq保存退出，这时候要记得将写权限收回：\n",
    "\n",
    "```bash\n",
    "[root@localhost ~]# chmod -v u-w /etc/sudoers\n",
    "mode of \"/etc/sudoers\" changed from 0640 (rw-r-----) to 0440 (r--r-----)\n",
    "```\n",
    "\n",
    "6. 使用新用户登录，使用sudo：\n",
    "\n",
    "```bash\n",
    "[arvin@localhost ~]$ sudo cat /etc/passwd\n",
    "[sudo] password for arvin: \n",
    "```\n",
    "\n",
    "7. 输入密码才可以下一步。\n",
    "\n",
    "如果不想需要输入密码怎么办，将最后一个ALL修改成NOPASSWD: ALL。"
   ]
  },
  {
   "cell_type": "markdown",
   "metadata": {},
   "source": [
    "### 查看ssh服务是否已经安装:"
   ]
  },
  {
   "cell_type": "markdown",
   "metadata": {},
   "source": [
    "`rpm -qa | grep ssh`"
   ]
  },
  {
   "cell_type": "markdown",
   "metadata": {},
   "source": [
    "### 开启关闭ssh服务"
   ]
  },
  {
   "cell_type": "markdown",
   "metadata": {},
   "source": [
    "```bash\n",
    "service sshd(ssh) start\n",
    "service sshd(ssh) stop\n",
    "service sshd(ssh) restart\n",
    "```\n",
    "或者\n",
    "\n",
    "```bash\n",
    "/etc/init.d/sshd start\n",
    "/etc/init.d/sshd stop\n",
    "/etc/init.d/sshd restart\n",
    "```\n",
    "\n",
    "centos7:\n",
    "```bash\n",
    "/bin/systemctl start sshd.service\n",
    "/bin/systemctl stop sshd.service\n",
    "/bin/systemctl restart sshd.service\n",
    "```"
   ]
  },
  {
   "cell_type": "markdown",
   "metadata": {},
   "source": [
    "### 关闭防火墙"
   ]
  },
  {
   "cell_type": "markdown",
   "metadata": {},
   "source": [
    "`/etc/init.d/iptables stop`"
   ]
  },
  {
   "cell_type": "markdown",
   "metadata": {},
   "source": [
    "### 开机自启动设置"
   ]
  },
  {
   "cell_type": "markdown",
   "metadata": {},
   "source": [
    "`update-rc.d ssh enable`"
   ]
  },
  {
   "cell_type": "markdown",
   "metadata": {},
   "source": [
    "### 关闭开机自启动"
   ]
  },
  {
   "cell_type": "markdown",
   "metadata": {},
   "source": [
    "`update-rc.d ssh disable`"
   ]
  }
 ],
 "metadata": {
  "kernelspec": {
   "display_name": "Python 3",
   "language": "python",
   "name": "python3"
  },
  "language_info": {
   "codemirror_mode": {
    "name": "ipython",
    "version": 3
   },
   "file_extension": ".py",
   "mimetype": "text/x-python",
   "name": "python",
   "nbconvert_exporter": "python",
   "pygments_lexer": "ipython3",
   "version": "3.6.4"
  }
 },
 "nbformat": 4,
 "nbformat_minor": 2
}
