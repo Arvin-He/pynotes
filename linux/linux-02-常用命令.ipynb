{
 "cells": [
  {
   "cell_type": "markdown",
   "metadata": {},
   "source": [
    "# Linux-常用命令"
   ]
  },
  {
   "cell_type": "markdown",
   "metadata": {},
   "source": [
    "### 文件命令"
   ]
  },
  {
   "cell_type": "markdown",
   "metadata": {},
   "source": [
    "```\n",
    "ls – 列出目录\n",
    "ls -al – 使用格式化列出隐藏文件\n",
    "cd dir - 更改目录到 dir\n",
    "cd – 更改到 home 目录\n",
    "pwd – 显示当前目录\n",
    "mkdir dir – 创建目录 dir\n",
    "rm file – 删除 file\n",
    "rm -r dir – 删除目录 dir\n",
    "rm -f file – 强制删除 file\n",
    "rm -rf dir – 强制删除目录 dir *\n",
    "cp file1 file2 – 将 file1 复制到 file2\n",
    "cp -r dir1 dir2 – 将 dir1 复制到 dir2; 如果 dir2 不存在则创建它\n",
    "mv file1 file2 – 将 file1 重命名或移动到 file2; 如果file2 是一个存在的目录则将 file1 移动到目录 file2 中\n",
    "ln -s file link – 创建 file 的符号连接 link\n",
    "touch file – 创建 file\n",
    "cat > file – 将标准输入添加到 file\n",
    "more file – 查看 file 的内容\n",
    "head file – 查看 file 的前 10 行\n",
    "tail file – 查看 file 的后 10 行\n",
    "tail -f file – 从后 10 行开始查看 file 的内容\n",
    "```"
   ]
  },
  {
   "cell_type": "markdown",
   "metadata": {},
   "source": [
    "### 进程管理"
   ]
  },
  {
   "cell_type": "markdown",
   "metadata": {},
   "source": [
    "```\n",
    "ps – 显示当前的活动进程\n",
    "top – 显示所有正在运行的进程\n",
    "kill pid – 杀掉进程 id pid\n",
    "killall proc – 杀掉所有名为 proc 的进程 *\n",
    "bg – 列出已停止或后台的作业\n",
    "fg – 将最近的作业带到前台\n",
    "fg n – 将作业 n 带到前台\n",
    "\n",
    "// 查看所有python的进程\n",
    "ps aux | grep python \n",
    "```"
   ]
  },
  {
   "cell_type": "markdown",
   "metadata": {},
   "source": [
    "### 文件权限"
   ]
  },
  {
   "cell_type": "markdown",
   "metadata": {},
   "source": [
    "```\n",
    "chmod octal file – 更改 file 的权限\n",
    "4 – 读 (r)\n",
    "2 – 写 (w)\n",
    "1 – 执行 (x)\n",
    "示例:\n",
    "chmod 777 – 为所有用户添加读、写、执行权限\n",
    "chmod 755 – 为所有者添加 rwx 权限, 为组和其他用户添加rx 权限\n",
    "更多选项参阅 man chmod.\n",
    "```"
   ]
  },
  {
   "cell_type": "markdown",
   "metadata": {},
   "source": [
    "### SSH"
   ]
  },
  {
   "cell_type": "markdown",
   "metadata": {},
   "source": [
    "```\n",
    "ssh user@host – 以 user 用户身份连接到 host\n",
    "ssh -p port user@host – 在端口 port 以 user 用户身份连接到 host\n",
    "ssh-copy-id user@host – 将密钥添加到 host 以实现无密码登录\n",
    "```"
   ]
  },
  {
   "cell_type": "markdown",
   "metadata": {},
   "source": [
    "### 搜索"
   ]
  },
  {
   "cell_type": "markdown",
   "metadata": {},
   "source": [
    "```\n",
    "grep pattern files – 搜索 files 中匹配 pattern 的内容\n",
    "grep -r pattern dir – 递归搜索 dir 中匹配 pattern 的内容\n",
    "command | grep pattern – 搜索 command 输出中匹配pattern 的内容\n",
    "```"
   ]
  },
  {
   "cell_type": "markdown",
   "metadata": {},
   "source": [
    "### 系统信息"
   ]
  },
  {
   "cell_type": "markdown",
   "metadata": {},
   "source": [
    "```\n",
    "date – 显示当前日期和时间\n",
    "cal – 显示当月的日历\n",
    "uptime – 显示系统从开机到现在所运行的时间\n",
    "w – 显示登录的用户\n",
    "whoami – 查看你的当前用户名\n",
    "finger user – 显示 user 的相关信息\n",
    "uname -a – 显示内核信息\n",
    "cat /proc/cpuinfo – 查看 cpu 信息\n",
    "cat /proc/meminfo – 查看内存信息\n",
    "man command – 显示 command 的说明手册\n",
    "df – 显示磁盘占用情况\n",
    "du – 显示目录空间占用情况\n",
    "free – 显示内存及交换区占用情况\n",
    "```"
   ]
  },
  {
   "cell_type": "markdown",
   "metadata": {},
   "source": [
    "### 压缩"
   ]
  },
  {
   "cell_type": "markdown",
   "metadata": {},
   "source": [
    "```\n",
    "tar cf file.tar files – 创建包含 files 的 tar 文件file.tar\n",
    "tar xf file.tar – 从 file.tar 提取文件\n",
    "tar czf file.tar.gz files – 使用 Gzip 压缩创建tar 文件\n",
    "tar xzf file.tar.gz – 使用 Gzip 提取 tar 文件\n",
    "tar cjf file.tar.bz2 – 使用 Bzip2 压缩创建 tar 文件\n",
    "tar xjf file.tar.bz2 – 使用 Bzip2 提取 tar 文件\n",
    "gzip file – 压缩 file 并重命名为 file.gz\n",
    "gzip -d file.gz – 将 file.gz 解压缩为 file\n",
    "```"
   ]
  },
  {
   "cell_type": "markdown",
   "metadata": {},
   "source": [
    "### scp命令"
   ]
  },
  {
   "cell_type": "markdown",
   "metadata": {},
   "source": [
    "上传到远端\n",
    "\n",
    "1、上传目录：\n",
    "\n",
    "scp -r   ./util   用户名@192.168.1.65:/home/wwwroot/limesurvey_back/scp\n",
    "\n",
    "2、上传文件\n",
    "\n",
    "scp   ./util   用户名@192.168.1.65:/home/wwwroot/limesurvey_back/scp \n",
    "\n",
    "如果制定了用户名，后面只要输入密码就行了，如果没有写用户名 就要输入用户名 和密码\n",
    "\n",
    " \n",
    "\n",
    "远端下载：\n",
    "　　scp  -r   jiangzhaowei@211.154.xxx.xxx:/kk/jiangzhaowei/share/webCompileOut.sql     ./\n",
    "\n",
    "　　橙色标注可选，即如果是目录拷贝要加“-r”参数，用户名可选，如果省略用户名，默认为终端的用户名。"
   ]
  },
  {
   "cell_type": "markdown",
   "metadata": {},
   "source": [
    "### 网络"
   ]
  },
  {
   "cell_type": "markdown",
   "metadata": {},
   "source": [
    "```\n",
    "ping host – ping host 并输出结果\n",
    "whois domain – 获取 domain 的 whois 信息\n",
    "dig domain – 获取 domain 的 DNS 信息\n",
    "dig -x host – 逆向查询 host\n",
    "wget file – 下载 file\n",
    "wget -c file – 断点续传\n",
    "```"
   ]
  },
  {
   "cell_type": "markdown",
   "metadata": {},
   "source": [
    "### 安装"
   ]
  },
  {
   "cell_type": "markdown",
   "metadata": {},
   "source": [
    "```\n",
    "从源代码安装:\n",
    "./configure\n",
    "make\n",
    "make install\n",
    "dpkg -i pkg.deb – 安装包 (Debian)\n",
    "rpm -Uvh pkg.rpm – 安装包 (RPM)\n",
    "```"
   ]
  },
  {
   "cell_type": "markdown",
   "metadata": {},
   "source": [
    "### 快捷键"
   ]
  },
  {
   "cell_type": "markdown",
   "metadata": {},
   "source": [
    "```\n",
    "Ctrl+C – 停止当前命令\n",
    "Ctrl+Z – 停止当前命令，并使用 fg 恢复\n",
    "Ctrl+D – 注销当前会话，与 exit 相似\n",
    "Ctrl+W – 删除当前行中的字\n",
    "Ctrl+U – 删除整行\n",
    "!! - 重复上次的命令\n",
    "exit – 注销当前会话 小心使用。\n",
    "```"
   ]
  },
  {
   "cell_type": "markdown",
   "metadata": {},
   "source": [
    "### tree"
   ]
  },
  {
   "cell_type": "markdown",
   "metadata": {},
   "source": [
    "1. linux\n",
    "\n",
    "2. windows: windows下的tree功能比较弱，只有两个参数/F(/F 是递归显示每个文件夹的名称),/A(/A 是使用ASCII字符而不是扩展字符)\n",
    "`tree /F .`: 显示当前目录下树形结构"
   ]
  },
  {
   "cell_type": "markdown",
   "metadata": {},
   "source": [
    "### 补充"
   ]
  },
  {
   "cell_type": "markdown",
   "metadata": {},
   "source": [
    "```\n",
    "tree命令\n",
    "windows和linux都有tree命令，主要功能是创建文件列表，将所有文件以树的形式列出来.\n",
    "windows下的tree功能比较弱，只有两个参数，\n",
    "/F 是递归显示每个文件夹的名称；如tree /F . 显示当前目录文件树形结构\n",
    "/A 是使用ASCII字符而不是扩展字符\n",
    "\n",
    "// 切换到root用户 \n",
    "su \n",
    "\n",
    "// 切换到arvin用户 \n",
    "su arvin\n",
    "\n",
    "// 启动服务(如mongodb)\n",
    "systemctl start mongodb.service\n",
    "```"
   ]
  }
 ],
 "metadata": {
  "kernelspec": {
   "display_name": "Python 3",
   "language": "python",
   "name": "python3"
  },
  "language_info": {
   "codemirror_mode": {
    "name": "ipython",
    "version": 3
   },
   "file_extension": ".py",
   "mimetype": "text/x-python",
   "name": "python",
   "nbconvert_exporter": "python",
   "pygments_lexer": "ipython3",
   "version": "3.6.4"
  }
 },
 "nbformat": 4,
 "nbformat_minor": 2
}
