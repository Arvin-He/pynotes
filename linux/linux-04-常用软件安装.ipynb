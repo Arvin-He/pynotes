{
 "cells": [
  {
   "cell_type": "markdown",
   "metadata": {},
   "source": [
    "# linux-常用软件安装"
   ]
  },
  {
   "cell_type": "markdown",
   "metadata": {},
   "source": [
    "### 安装最新版git(v2.17.0)"
   ]
  },
  {
   "cell_type": "markdown",
   "metadata": {},
   "source": [
    "1. 查看当前git版本, 输入: `git --version`\n",
    "2. 卸载旧版本git, 输入:`sudo  yum remove git`\n",
    "3. 下载最新版git,如`git.v2.17.0.tar.gz`到指定目录,如`/home/arvin/downloads`\n",
    "4. 解压`git.v2.17.0.tar.gz`, 输入: `tar zxvf git.v2.17.0.tar.gz`\n",
    "5. 进入解压的目录, 输入: `cd git.v2.17.0/ `\n",
    "6. 安装依赖, 输入: `sudo yum install curl-devel expat-devel gettext-devel openssl-devel zlib-develperl-devel`, 如果依赖已经安装可以不执行该步骤.如果没有安装,则在后面make时会报错.\n",
    "7. 编译, 输入: `make prefix=/usr/local/git all`\n",
    "8. 安装, 输入: `sudo make prefix=/usr/local/git install`\n",
    "9. 添加git的环境变量, 输入: `sudo vim /etc/bashrc`,(注意:以sudo权限打开,否则无法写入配置文件) 在最后一行添加: `export PATH=/usr/local/git/bin:$PATH`, 然后保存退出.\n",
    "10. 使配置文件生效, 输入: `source /etc/bashrc`\n",
    "11. 验证git是否安装成功, 输入: `git --version`, 出现版本即表示安装成功."
   ]
  },
  {
   "cell_type": "markdown",
   "metadata": {},
   "source": [
    "### 安装sogou输入法"
   ]
  },
  {
   "cell_type": "markdown",
   "metadata": {},
   "source": [
    "1. 安装alien依赖软件，`sudo yum install alien -y`\n",
    "2. 安装依赖软件, `sudo yum install qtwebkit -y`\n",
    "3. 转换rpm包, `sudo alien -r sogoupinyin_2.2.0.0102_amd64.deb`\n",
    "4. 安装, `sudo rpm -ivh sogoupinyin-2.2.0.0102-2.x86_64.rpm`\n",
    "5. 结束 ibus 守护进程 ：`sudo pkill ibus-daemon`\n",
    "6. 关闭 gnome-shell 对键盘的监听, ` gsettings set org.gnome.settings-daemon.plugins.keyboard active false`,这一步总是出错，不过可以忽略\n",
    "7. 切换输入法为 fcitx：` imsettings-switch fcitx`\n",
    "8. 重载 fcitx, 启动搜狗面板 ：` fcitx -r; fcitx-configtool`，这一步也总是报错，先忽略\n",
    "9. sogou-qimpanel， 这个也报错，忽略\n",
    "10. 在Fcitx配置里面选好搜狗输入法，到这里就可以正常使用了。如果输入法面板错误无法打开，则重新运行第6步，重启一下就可以了！"
   ]
  },
  {
   "cell_type": "markdown",
   "metadata": {},
   "source": [
    "### 安装oh-my-zsh"
   ]
  },
  {
   "cell_type": "markdown",
   "metadata": {},
   "source": [
    "Zsh默认不兼容Bash，不过Zsh实现中包含了一个屌炸天的仿真模式(emulation mode)支持对两种主流的Bourne衍生版shell（bash、ksh）和C shell的仿真(csh的支持并不完整)。在Bash的仿真模式下，可以使用与Bash相同的语法和命令集合，从而达到近乎完全兼容的目的。\n",
    "\n",
    "为了激活对Bash的仿真，需要显式执行: `emulate bash`, 等效于 `emulate sh`\n",
    "\n",
    "1. 安装zsh, `yum install zsh`\n",
    "2. 设置默认shell为zsh, `chsh -s $(which zsh)`\n",
    "3. 检查是否设置成功, `echo $SHELL`\n",
    "\n",
    "\n",
    "Oh My Zsh 是一种生活方式。它基于zsh命令行，提供了主题配置，插件机制，已经内置的便捷操作。给我们一种全新的方式使用命令行。\n",
    "\n",
    "Oh My Zsh只是一个对zsh命令行环境的配置包装框架，但它不提供命令行窗口，更不是一个独立的APP。\n",
    "\n",
    "oh-my-zsh的github地址:[https://github.com/robbyrussell/oh-my-zsh](https://github.com/robbyrussell/oh-my-zsh)\n",
    "\n",
    "4. 查看zsh安装: `zsh --version`\n",
    "\n",
    "5. 安装Oh My Zsh\n",
    "\n",
    "前提条件：必须已安装ZSH\n",
    "\n",
    "以sudo权限执行:\n",
    "\n",
    "* `sh -c \"$(curl -fsSL https://raw.githubusercontent.com/robbyrussell/oh-my-zsh/master/tools/install.sh)\"`\n",
    "\n",
    "或者\n",
    "\n",
    "* `sh -c \"$(wget https://raw.githubusercontent.com/robbyrussell/oh-my-zsh/master/tools/install.sh -O -)\"`\n",
    "\n",
    "\n",
    "6. Oh My Zsh目录结构\n",
    "```\n",
    "lib 提供了核心功能的脚本库\n",
    "tools 提供安装、升级等功能的快捷工具\n",
    "plugins 自带插件的存在放位置\n",
    "templates 自带模板的存在放位置\n",
    "themes  自带主题文件的存在放位置\n",
    "custom 个性化配置目录，自安装的插件和主题可放这里\n",
    "```\n",
    "\n",
    "7. 设置主题: 主题的配置在 `~/.zshrc` 文件中，`ZSH_THEME=\"robbyrussel\"`, 修改ZSH_THEME的值, 只需在./zshrc文件中配置需要的主题即可，比如我们想用lambda.zsh-theme这个主题,`ZSH_THEME=\"lambda\"`\n",
    "\n",
    "8. echo 命令输出当前主题的名称: `echo $ZSH_THEME`\n",
    "\n",
    "\n",
    "9. 启用插件\n",
    "Oh My Zsh 默认自带了一些默认插件，存放在~/.oh-my-zsh/plugins目录中.默认是只启用git插件.\n",
    "\n",
    "如需启用更多插件，可加入需启用插件的名称。如下:`plugins=(git wd web-search history history-substring-search)`\n",
    "\n",
    "10. 推荐几个好用插件\n",
    "```\n",
    "zsh-history-substring-search\n",
    "https://github.com/robbyrussell/oh-my-zsh/tree/master/plugins/history-substring-search\n",
    "\n",
    "zsh-syntax-highlighting\n",
    "https://github.com/zsh-users/zsh-syntax-highlighting\n",
    "\n",
    "zsh-autosuggestions\n",
    "https://github.com/zsh-users/zsh-autosuggestions\n",
    "```\n",
    "\n",
    "11. 更新oh-my-zsh\n",
    "\n",
    "默认情况下，当oh-my-zsh有更新时，都会给你提示。\n",
    "\n",
    "    * 设置自动更新oh-my-zsh: 在~/.zshrc 中添加下面这句:`DISABLE_UPDATE_PROMPT=true`\n",
    "\n",
    "    * 要手动更新，可以执行: `upgrade_oh_my_zsh`\n",
    "    \n",
    "12. 卸载oh my zsh\n",
    "直接在终端中，运行`uninstall_oh_my_zsh`即可卸载。"
   ]
  },
  {
   "cell_type": "markdown",
   "metadata": {},
   "source": [
    "### 安装wkhtmltopdf"
   ]
  },
  {
   "cell_type": "markdown",
   "metadata": {},
   "source": [
    "#### 安装\n",
    "1. 下载wkhtmltopdf: `sudo wget https://github.com/wkhtmltopdf/wkhtmltopdf/releases/download/0.12.4/wkhtmltox-0.12.4_linux-generic-amd64.tar.xz`\n",
    "\n",
    "2. 解压: `tar xvfJ wkhtmltox-0.12.4_linux-generic-amd64.tar.xz`\n",
    "\n",
    "3. 创建软连接\n",
    "```\n",
    "cd wkhtmltox/bin  \n",
    "sudo ln -s /opt/wkhtmltox/bin/wkhtmltopdf /usr/bin/wkhtmltopdf\n",
    "```\n",
    "4. 添加执行权限: `sudo chmod +x /usr/bin/wkhtmltopdf`\n",
    "\n",
    "#### 一些问题\n",
    "\n",
    "1. linux下中文字体乱码和空白问题\n",
    "\n",
    "解决方法: 将windows下simsun.ttc字体文件放到linux下`/usr/share/fonts`目录下,`scp C:\\Windows\\Fonts\\simsun.ttc jun.he@192.168.48.129:/usr/share/fonts`\n",
    "\n",
    "2. 如果拷贝simsun.ttc 字体文件报错`scp: /usr/share/fonts/C:\\Windows\\Fonts\\simsun.ttc: Permission denied`\n",
    "\n",
    "解决办法: 修改`/usr/share/fonts`文件夹权限:`sudo chmod 777 /usr/share/fonts`,然后再拷贝.\n",
    "\n",
    "#### 关于依赖\n",
    "1. 先`yum install wkhtmltopdf -y', 安装所有依赖\n",
    "2. 卸载wkhtmltopdf, `yum remove wkhtmltopdf`"
   ]
  }
 ],
 "metadata": {
  "kernelspec": {
   "display_name": "Python 3",
   "language": "python",
   "name": "python3"
  },
  "language_info": {
   "codemirror_mode": {
    "name": "ipython",
    "version": 3
   },
   "file_extension": ".py",
   "mimetype": "text/x-python",
   "name": "python",
   "nbconvert_exporter": "python",
   "pygments_lexer": "ipython3",
   "version": "3.6.4"
  }
 },
 "nbformat": 4,
 "nbformat_minor": 2
}
