{
 "cells": [
  {
   "cell_type": "markdown",
   "metadata": {},
   "source": [
    "# linux-常见问题"
   ]
  },
  {
   "cell_type": "markdown",
   "metadata": {},
   "source": [
    "### sudo执行命令时提示找不到该命令"
   ]
  },
  {
   "cell_type": "markdown",
   "metadata": {},
   "source": [
    "执行`sudo git`,提示找不到`sudo git`该命令\n",
    "\n",
    "原因: 当`sudo`以管理权限执行命令时，linux将PATH环境变量进行了重置，这主要是出于系统安全的考虑，却使得sudo搜索的路径不是PATH变量的路径，所以就找不到相关命令.了\n",
    "\n",
    "解决方法:\n",
    "\n",
    "1. 修改`/etc/sudoers`文件: 找到`Defaults env_reset`, 将其改为`Defaults !env_reset`,然后wq!强制保存退出.\n",
    "2. 编辑用户根目录下的配置文件`~/.bashrc`, 在文件内最后添加: `alias sudo='sudo env PATH=$PATH'`.\n",
    "3. 使配置文件生效: `source ~/.bashrc`, 或者直接重启:`reboot`"
   ]
  },
  {
   "cell_type": "markdown",
   "metadata": {},
   "source": [
    "### 忘记用户登陆密码"
   ]
  },
  {
   "cell_type": "markdown",
   "metadata": {},
   "source": [
    "忘记普通账户的登陆密码,但是记得root账号密码\n",
    "\n",
    "用root用户登陆后，执行命令:`passwd 用户名`, 然后输入新的用户密码"
   ]
  },
  {
   "cell_type": "markdown",
   "metadata": {},
   "source": [
    "### 修改host文件"
   ]
  },
  {
   "cell_type": "markdown",
   "metadata": {},
   "source": [
    "linux下的host文件路径: `/etc/hosts`"
   ]
  }
 ],
 "metadata": {
  "kernelspec": {
   "display_name": "Python 3",
   "language": "python",
   "name": "python3"
  },
  "language_info": {
   "codemirror_mode": {
    "name": "ipython",
    "version": 3
   },
   "file_extension": ".py",
   "mimetype": "text/x-python",
   "name": "python",
   "nbconvert_exporter": "python",
   "pygments_lexer": "ipython3",
   "version": "3.6.4"
  }
 },
 "nbformat": 4,
 "nbformat_minor": 2
}
