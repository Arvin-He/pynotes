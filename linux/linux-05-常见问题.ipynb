{
 "cells": [
  {
   "cell_type": "markdown",
   "metadata": {},
   "source": [
    "# linux-常见问题"
   ]
  },
  {
   "cell_type": "markdown",
   "metadata": {},
   "source": [
    "### sudo执行命令时提示找不到该命令"
   ]
  },
  {
   "cell_type": "markdown",
   "metadata": {},
   "source": [
    "执行`sudo git`,提示找不到`sudo git`该命令\n",
    "\n",
    "原因: 当`sudo`以管理权限执行命令时，linux将PATH环境变量进行了重置，这主要是出于系统安全的考虑，却使得sudo搜索的路径不是PATH变量的路径，所以就找不到相关命令.了\n",
    "\n",
    "解决方法:\n",
    "\n",
    "1. 修改`/etc/sudoers`文件: 找到`Defaults env_reset`, 将其改为`Defaults !env_reset`,然后wq!强制保存退出.\n",
    "2. 编辑用户根目录下的配置文件`~/.bashrc`, 在文件内最后添加: `alias sudo='sudo env PATH=$PATH'`.\n",
    "3. 使配置文件生效: `source ~/.bashrc`, 或者直接重启:`reboot`"
   ]
  },
  {
   "cell_type": "markdown",
   "metadata": {},
   "source": [
    "### git 错误: Unable to find remote helper for 'https'"
   ]
  },
  {
   "cell_type": "markdown",
   "metadata": {},
   "source": [
    "原因:  我的git是在`/opt`目录下, 但是`/opt/git/libexec/git-core/` 路径没在 PATH 环境变量中。 \n",
    "\n",
    "解决办法: 将 `/opt/git/libexec/git-core/`纳入 PATH。\n",
    "\n",
    "```bash\n",
    "export GIT_HOME=/opt/git/bin:/opt/git/libexec/git-core\n",
    "export PATH=$GIT_HOME:$PATH\n",
    "```"
   ]
  }
 ],
 "metadata": {
  "kernelspec": {
   "display_name": "Python 3",
   "language": "python",
   "name": "python3"
  },
  "language_info": {
   "codemirror_mode": {
    "name": "ipython",
    "version": 3
   },
   "file_extension": ".py",
   "mimetype": "text/x-python",
   "name": "python",
   "nbconvert_exporter": "python",
   "pygments_lexer": "ipython3",
   "version": "3.6.4"
  }
 },
 "nbformat": 4,
 "nbformat_minor": 2
}
