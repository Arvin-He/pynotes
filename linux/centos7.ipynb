{
 "cells": [
  {
   "cell_type": "markdown",
   "metadata": {},
   "source": [
    "# CentOS7 使用"
   ]
  },
  {
   "cell_type": "markdown",
   "metadata": {},
   "source": [
    "### 查看环境变量"
   ]
  },
  {
   "cell_type": "markdown",
   "metadata": {},
   "source": [
    "echo $PAHT 查看单个环境变量,如PATH这个环境变量"
   ]
  },
  {
   "cell_type": "markdown",
   "metadata": {},
   "source": [
    "env 查看所有环境变量"
   ]
  },
  {
   "cell_type": "markdown",
   "metadata": {},
   "source": [
    "set 查看所有本地定义的环境变量"
   ]
  },
  {
   "cell_type": "markdown",
   "metadata": {},
   "source": [
    "### 常用的环境变量"
   ]
  },
  {
   "cell_type": "markdown",
   "metadata": {},
   "source": [
    "* PATH 决定了shell将到哪些目录中寻找命令或程序\n",
    "* HOME 当前用户主目录\n",
    "* HISTSIZE　历史记录数\n",
    "* LOGNAME 当前用户的登录名\n",
    "* HOSTNAME　指主机的名称\n",
    "* SHELL 当前用户Shell类型\n",
    "* LANGUGE 　语言相关的环境变量，多语言可以修改此环境变量\n",
    "* MAIL　当前用户的邮件存放目录\n",
    "* PS1　基本提示符，对于root用户是#，对于普通用户是$ "
   ]
  },
  {
   "cell_type": "markdown",
   "metadata": {},
   "source": [
    "### 设置环境变量"
   ]
  },
  {
   "cell_type": "markdown",
   "metadata": {},
   "source": [
    "####  在/etc/profile文件中添加变量, 对所有用户生效(永久的)"
   ]
  },
  {
   "cell_type": "markdown",
   "metadata": {},
   "source": [
    "#### 在用户目录下的.bash_profile文件中增加变量, 对单一用户生效(永久的)"
   ]
  },
  {
   "cell_type": "markdown",
   "metadata": {},
   "source": [
    "```bash\n",
    "cd /home/arvin\n",
    "vim .bash_profile\n",
    "\n",
    "// 将/opt/python36/bin添加至环境变量中\n",
    "PATH=$PATH:$HOME/.local/bin:$HOME/bin:/opt/python36/bin\n",
    "\n",
    "export PATH\n",
    "```"
   ]
  },
  {
   "cell_type": "markdown",
   "metadata": {},
   "source": [
    "#### 直接运行export命令定义变量【只对当前shell(BASH)有效(临时的)】"
   ]
  },
  {
   "cell_type": "markdown",
   "metadata": {},
   "source": [
    "在shell的命令行下直接使用export PATH=$PATH:/opt/python36/bin 定义变量，\n",
    "该变量只在当前的shell(BASH)或其子shell(BASH)下是有效的，shell关闭了，变量也就失效了，\n",
    "再打开新shell时就没有这个变量，需要使用的话还需要重新定义。 "
   ]
  },
  {
   "cell_type": "markdown",
   "metadata": {},
   "source": [
    "### 更新软件"
   ]
  },
  {
   "cell_type": "markdown",
   "metadata": {},
   "source": [
    "### 下载软件"
   ]
  },
  {
   "cell_type": "markdown",
   "metadata": {},
   "source": [
    "### 删除软件"
   ]
  },
  {
   "cell_type": "code",
   "execution_count": null,
   "metadata": {},
   "outputs": [],
   "source": []
  },
  {
   "cell_type": "code",
   "execution_count": null,
   "metadata": {},
   "outputs": [],
   "source": []
  },
  {
   "cell_type": "markdown",
   "metadata": {},
   "source": [
    "### 安装软件包"
   ]
  },
  {
   "cell_type": "markdown",
   "metadata": {},
   "source": [
    "一般的软件的默认安装目录在/usr/local或者/opt里"
   ]
  },
  {
   "cell_type": "markdown",
   "metadata": {},
   "source": [
    "### 修改用户密码"
   ]
  },
  {
   "cell_type": "markdown",
   "metadata": {},
   "source": [
    "### 创建新用户"
   ]
  },
  {
   "cell_type": "markdown",
   "metadata": {},
   "source": [
    "### 创建用户组"
   ]
  },
  {
   "cell_type": "markdown",
   "metadata": {},
   "source": [
    "### 设置软链接"
   ]
  }
 ],
 "metadata": {
  "kernelspec": {
   "display_name": "Python 3",
   "language": "python",
   "name": "python3"
  },
  "language_info": {
   "codemirror_mode": {
    "name": "ipython",
    "version": 3
   },
   "file_extension": ".py",
   "mimetype": "text/x-python",
   "name": "python",
   "nbconvert_exporter": "python",
   "pygments_lexer": "ipython3",
   "version": "3.6.4"
  }
 },
 "nbformat": 4,
 "nbformat_minor": 2
}
