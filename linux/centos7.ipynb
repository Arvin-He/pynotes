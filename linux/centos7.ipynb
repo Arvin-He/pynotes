{
 "cells": [
  {
   "cell_type": "markdown",
   "metadata": {},
   "source": [
    "# CentOS7 使用"
   ]
  },
  {
   "cell_type": "markdown",
   "metadata": {},
   "source": [
    "### 更新软件"
   ]
  },
  {
   "cell_type": "markdown",
   "metadata": {},
   "source": [
    "### 下载软件"
   ]
  },
  {
   "cell_type": "markdown",
   "metadata": {},
   "source": [
    "yum install -y\n",
    "\n"
   ]
  },
  {
   "cell_type": "markdown",
   "metadata": {},
   "source": [
    "### 删除软件"
   ]
  },
  {
   "cell_type": "markdown",
   "metadata": {},
   "source": [
    "### 安装软件包"
   ]
  },
  {
   "cell_type": "markdown",
   "metadata": {},
   "source": [
    "一般的软件的默认安装目录在/usr/local或者/opt里"
   ]
  },
  {
   "cell_type": "markdown",
   "metadata": {},
   "source": [
    "### 修改用户密码"
   ]
  },
  {
   "cell_type": "markdown",
   "metadata": {},
   "source": [
    "### 创建新用户"
   ]
  },
  {
   "cell_type": "markdown",
   "metadata": {},
   "source": [
    "### 创建用户组"
   ]
  },
  {
   "cell_type": "markdown",
   "metadata": {},
   "source": [
    "### 设置软链接"
   ]
  },
  {
   "cell_type": "markdown",
   "metadata": {},
   "source": [
    "### 安装最新版git(v2.17.0)"
   ]
  },
  {
   "cell_type": "markdown",
   "metadata": {},
   "source": [
    "1. 查看当前git版本, 输入: `git --version`\n",
    "2. 卸载旧版本git, 输入:`sudo  yum remove git`\n",
    "3. 下载最新版git,如`git.v2.17.0.tar.gz`到指定目录,如`/home/arvin/downloads`\n",
    "4. 解压`git.v2.17.0.tar.gz`, 输入: `tar zxvf git.v2.17.0.tar.gz`\n",
    "5. 进入解压的目录, 输入: `cd git.v2.17.0/ `\n",
    "6. 安装依赖, 输入: `sudo yum install curl-devel expat-devel gettext-devel openssl-devel zlib-develperl-devel`, 如果依赖已经安装可以不执行该步骤.如果没有安装,则在后面make时会报错.\n",
    "7. 编译, 输入: `make prefix=/usr/local/git all`\n",
    "8. 安装, 输入: `sudo make prefix=/usr/local/git install`\n",
    "9. 添加git的环境变量, 输入: `sudo vim /etc/bashrc`,(注意:以sudo权限打开,否则无法写入配置文件) 在最后一行添加: `export PATH=/usr/local/git/bin:$PATH`,然后保存退出.\n",
    "10. 使配置文件生效, 输入: `source /etc/bashrc`\n",
    "11. 验证git是否安装成功, 输入: `git --version`, 出现版本即表示安装成功.\n"
   ]
  },
  {
   "cell_type": "markdown",
   "metadata": {},
   "source": [
    "### 安装sogou输入法"
   ]
  },
  {
   "cell_type": "markdown",
   "metadata": {},
   "source": [
    "1. 安装alien依赖软件，`sudo yum install alien -y`\n",
    "2. 安装依赖软件, `sudo yum install qtwebkit -y`\n",
    "3. 转换rpm包, `sudo alien -r sogoupinyin_2.2.0.0102_amd64.deb`\n",
    "4. 安装, `sudo rpm -ivh sogoupinyin-2.2.0.0102-2.x86_64.rpm`\n",
    "5. 结束 ibus 守护进程 ：`sudo pkill ibus-daemon`\n",
    "6. 关闭 gnome-shell 对键盘的监听, ` gsettings set org.gnome.settings-daemon.plugins.keyboard active false`,这一步总是出错，不过可以忽略\n",
    "7. 切换输入法为 fcitx：` imsettings-switch fcitx`\n",
    "8. 重载 fcitx, 启动搜狗面板 ：` fcitx -r; fcitx-configtool`，这一步也总是报错，先忽略\n",
    "9. sogou-qimpanel， 这个也报错，忽略\n",
    "10. 在Fcitx配置里面选好搜狗输入法，到这里就可以正常使用了。如果输入法面板错误无法打开，则重新运行第6步，重启一下就可以了！"
   ]
  }
 ],
 "metadata": {
  "kernelspec": {
   "display_name": "Python 3",
   "language": "python",
   "name": "python3"
  },
  "language_info": {
   "codemirror_mode": {
    "name": "ipython",
    "version": 3
   },
   "file_extension": ".py",
   "mimetype": "text/x-python",
   "name": "python",
   "nbconvert_exporter": "python",
   "pygments_lexer": "ipython3",
   "version": "3.6.4"
  }
 },
 "nbformat": 4,
 "nbformat_minor": 2
}
