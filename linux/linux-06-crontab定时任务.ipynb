{
 "cells": [
  {
   "cell_type": "markdown",
   "metadata": {},
   "source": [
    "# crontab定时任务"
   ]
  },
  {
   "cell_type": "markdown",
   "metadata": {},
   "source": [
    "crontab命令被用来提交和管理用户的需要周期性执行的任务，与windows下的计划任务类似.\n",
    "\n",
    "当安装完成操作系统后，默认会安装此服务工具，并且会自动启动crond进程.\n",
    "\n",
    "crond进程每分钟会定期检查是否有要执行的任务，如果有要执行的任务，则自动执行该任务。"
   ]
  },
  {
   "cell_type": "markdown",
   "metadata": {},
   "source": [
    "## crontab命令"
   ]
  },
  {
   "cell_type": "markdown",
   "metadata": {},
   "source": [
    "语法: `crontab(选项)(参数)`\n",
    "\n",
    "选项:\n",
    "* -e：编辑该用户的计时器设置；\n",
    "* -l：列出该用户的计时器设置；\n",
    "* -r：删除该用户的计时器设置；\n",
    "* -u<用户名称>：指定要设定计时器的用户名称。\n",
    "\n",
    "参数: \n",
    "* crontab文件：指定包含待执行任务的crontab文件。\n"
   ]
  },
  {
   "cell_type": "markdown",
   "metadata": {},
   "source": [
    "## Linux下任务调度分类"
   ]
  },
  {
   "cell_type": "markdown",
   "metadata": {},
   "source": [
    "Linux下的任务调度分为2类：\n",
    "1. 系统任务调度\n",
    "2. 用户任务调度\n",
    "\n",
    "**系统任务调度：**系统周期性所要执行的工作，比如写缓存数据到硬盘、日志清理等。在/etc目录下有一个crontab文件，这个就是系统任务调度的配置文件。\n",
    "\n",
    "**用户任务调度：**用户定期要执行的工作，比如用户数据备份、定时邮件提醒等。用户可以使用 crontab 工具来定制自己的计划任务。所有用户定义的crontab文件都被保存在/var/spool/cron目录中。其文件名与用户名一致，使用者权限文件如下：\n",
    "* /etc/cron.deny     该文件中所列用户不允许使用crontab命令\n",
    "* /etc/cron.allow    该文件中所列用户允许使用crontab命令\n",
    "* /var/spool/cron/   所有用户crontab文件存放的目录,以用户名命名"
   ]
  },
  {
   "cell_type": "markdown",
   "metadata": {},
   "source": [
    "## crontab文件的含义"
   ]
  },
  {
   "cell_type": "markdown",
   "metadata": {},
   "source": [
    "用户所建立的crontab文件中\n",
    "* 每一行都代表一项任务\n",
    "* 每行的每个字段代表一项设置\n",
    "* 命令格式共分 6 个字段，前 5 段是时间设定段，第 6 段是要执行的命令段\n",
    "\n",
    "格式如下：`minute   hour   day   month   week   command`\n",
    "\n",
    "其中：\n",
    "\n",
    "* minute： 表示分钟，可以是从0到59之间的任何整数。\n",
    "* hour：表示小时，可以是从0到23之间的任何整数。\n",
    "* day：表示日期，可以是从1到31之间的任何整数。\n",
    "* month：表示月份，可以是从1到12之间的任何整数。\n",
    "* week：表示星期几，可以是从0到7之间的任何整数，这里的0或7代表星期日。\n",
    "* command：要执行的命令，可以是系统命令，也可以是自己编写的脚本文件。\n",
    "\n",
    "在以上各个字段中，还可以使用以下特殊字符：\n",
    "\n",
    "* 星号（*）：代表所有可能的值，例如month字段如果是星号，则表示在满足其它字段的制约条件后每月都执行该命令操作。\n",
    "* 逗号（,）：可以用逗号隔开的值指定一个列表范围，例如，“1,2,5,7,8,9”\n",
    "* 中杠（-）：可以用整数之间的中杠表示一个整数范围，例如“2-6”表示“2,3,4,5,6”\n",
    "* 正斜线（/）：可以用正斜线指定时间的间隔频率，例如“0-23/2”表示每两小时执行一次。同时正斜线可以和星号一起使用，例如*/10，如果用在minute字段，表示每十分钟执行一次。"
   ]
  },
  {
   "cell_type": "markdown",
   "metadata": {},
   "source": [
    "## crontab服务"
   ]
  },
  {
   "cell_type": "markdown",
   "metadata": {},
   "source": [
    "* `/sbin/service crond start` : 启动服务\n",
    "* `/sbin/service crond stop`: 关闭服务\n",
    "* `/sbin/service crond restart`: 重启服务\n",
    "* `/sbin/service crond reload`: 重新载入配置"
   ]
  },
  {
   "cell_type": "markdown",
   "metadata": {},
   "source": [
    "### 查看crontab服务状态"
   ]
  },
  {
   "cell_type": "markdown",
   "metadata": {},
   "source": [
    "`service crond status`"
   ]
  },
  {
   "cell_type": "markdown",
   "metadata": {},
   "source": [
    "### 手动启动crontab服务："
   ]
  },
  {
   "cell_type": "markdown",
   "metadata": {},
   "source": [
    "`service crond start`"
   ]
  },
  {
   "cell_type": "markdown",
   "metadata": {},
   "source": [
    "### 查看crontab服务是否已设置为开机启动，执行命令："
   ]
  },
  {
   "cell_type": "markdown",
   "metadata": {},
   "source": [
    "`ntsysv`"
   ]
  },
  {
   "cell_type": "markdown",
   "metadata": {},
   "source": [
    "### 加入开机自动启动："
   ]
  },
  {
   "cell_type": "markdown",
   "metadata": {},
   "source": [
    "`chkconfig –level 35 crond on`"
   ]
  },
  {
   "cell_type": "markdown",
   "metadata": {},
   "source": [
    "## 一些例子"
   ]
  },
  {
   "cell_type": "markdown",
   "metadata": {},
   "source": [
    "* `* * * * * command`: 每1分钟执行一次command\n",
    "* `3,15 * * * * command`: 每小时的第3和第15分钟执行\n",
    "* `3,15 8-11 * * * command`: 在上午8点到11点的第3和第15分钟执行\n",
    "* `3,15 8-11 */2 * * command`: 每隔两天的上午8点到11点的第3和第15分钟执行\n",
    "* `3,15 8-11 * * 1 command`: 每个星期一的上午8点到11点的第3和第15分钟执行\n",
    "* `30 21 * * * /etc/init.d/smb restart`: 每晚的21:30重启smb \n",
    "* `45 4 1,10,22 * * /etc/init.d/smb restart`: 每月1、10、22日的4 : 45重启smb \n",
    "* `10 1 * * 6,0 /etc/init.d/smb restart`: 每周六、周日的1:10重启smb\n",
    "* `0,30 18-23 * * * /etc/init.d/smb restart`: 每天18 : 00至23 : 00之间每隔30分钟重启smb \n",
    "* `0 23 * * 6 /etc/init.d/smb restart`: 每星期六的晚上11:00 pm重启smb \n",
    "* `* */1 * * * /etc/init.d/smb restart`: 每一小时重启smb \n",
    "* `* 23-7/1 * * * /etc/init.d/smb restart`: 晚上11点到早上7点之间，每隔一小时重启smb\n",
    "* `0 11 4 * mon-wed /etc/init.d/smb restart`: 每月的4号与每周一到周三的11点重启smb \n",
    "* `0 4 1 jan * /etc/init.d/smb restart`: 一月一号的4点重启smb\n",
    "* `01 * * * * root run-parts /etc/cron.hourly`: 每小时执行/etc/cron.hourly目录内的脚本"
   ]
  }
 ],
 "metadata": {
  "kernelspec": {
   "display_name": "Python 3",
   "language": "python",
   "name": "python3"
  },
  "language_info": {
   "codemirror_mode": {
    "name": "ipython",
    "version": 3
   },
   "file_extension": ".py",
   "mimetype": "text/x-python",
   "name": "python",
   "nbconvert_exporter": "python",
   "pygments_lexer": "ipython3",
   "version": "3.6.4"
  }
 },
 "nbformat": 4,
 "nbformat_minor": 2
}
