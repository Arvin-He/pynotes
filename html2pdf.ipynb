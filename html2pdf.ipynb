{
 "cells": [
  {
   "cell_type": "markdown",
   "metadata": {},
   "source": [
    "# python实现HTML生成PDF"
   ]
  },
  {
   "cell_type": "markdown",
   "metadata": {},
   "source": [
    "## 安装依赖"
   ]
  },
  {
   "cell_type": "markdown",
   "metadata": {},
   "source": [
    "下载并系统安装：wkhtmltopdf, 链接：https://wkhtmltopdf.org/index.html,\n",
    "\n",
    "注意: python 64位的对应wkhtmltopdf 64位版本.\n",
    "\n",
    "总共需要安装：\n",
    "\n",
    "1. pdfkit\n",
    "2. wkhtmltopdf(python包)\n",
    "3. wkhtmltopdf(windows安装包)以及路径配置 \n",
    "\n",
    "流程: 程序会使用pdfkit，pdfkit会调用wkhtmltopdf，而wkhtmltopdf会调用windows中的wkhtmltopdf.exe来转化html为pdf。"
   ]
  },
  {
   "cell_type": "markdown",
   "metadata": {},
   "source": [
    "### windows"
   ]
  },
  {
   "cell_type": "markdown",
   "metadata": {},
   "source": [
    "将wkhtmltopdf的bin目录添加至path环境变量，注意：重启生效。命令行输入："
   ]
  },
  {
   "cell_type": "code",
   "execution_count": null,
   "metadata": {},
   "outputs": [],
   "source": [
    "SETX PATH \"%PATH%;C:\\\\Program Files\\\\wkhtmltopdf\\\\bin\" /M"
   ]
  },
  {
   "cell_type": "markdown",
   "metadata": {},
   "source": [
    "临时导入环境变量，命令行输入："
   ]
  },
  {
   "cell_type": "code",
   "execution_count": null,
   "metadata": {},
   "outputs": [],
   "source": [
    "set PATH=C:\\Program Files\\wkhtmltopdf\\bin;%PATH%"
   ]
  },
  {
   "cell_type": "markdown",
   "metadata": {},
   "source": [
    "### Linux"
   ]
  },
  {
   "cell_type": "code",
   "execution_count": null,
   "metadata": {},
   "outputs": [],
   "source": [
    "sudo apt-get install wkhtmltopdf"
   ]
  },
  {
   "cell_type": "markdown",
   "metadata": {},
   "source": [
    "### 安装python第三方库："
   ]
  },
  {
   "cell_type": "code",
   "execution_count": null,
   "metadata": {},
   "outputs": [],
   "source": [
    "pip install pdfkit\n",
    "pip install wkhtmltopdf"
   ]
  },
  {
   "cell_type": "markdown",
   "metadata": {},
   "source": [
    "## 生成HTML"
   ]
  },
  {
   "cell_type": "markdown",
   "metadata": {},
   "source": [
    "安装jinja2，并使用jinja2动态生成HTML模版 "
   ]
  },
  {
   "cell_type": "code",
   "execution_count": null,
   "metadata": {},
   "outputs": [],
   "source": [
    "pip install jinja2"
   ]
  },
  {
   "cell_type": "markdown",
   "metadata": {},
   "source": [
    "构造HTML模版，这个根据具体需求并参考jinja2构建模版方法，自行构建。"
   ]
  },
  {
   "cell_type": "markdown",
   "metadata": {},
   "source": [
    "## 使用python转换HTML为PDF"
   ]
  },
  {
   "cell_type": "code",
   "execution_count": null,
   "metadata": {},
   "outputs": [],
   "source": [
    "import pdfkit\n",
    "from jinja2 import Environment, FileSystemLoader, select_autoescape\n",
    "\n",
    "def convert_pdf(html, pdf_file):\n",
    "    options = {\n",
    "        'page-size': 'Letter',\n",
    "        'margin-top': '0.75in',\n",
    "        'margin-right': '0.75in',\n",
    "        'margin-bottom': '0.75in',\n",
    "        'margin-left': '0.75in',\n",
    "        'encoding': \"UTF-8\",\n",
    "        'custom-header': [\n",
    "            ('Accept-Encoding', 'gzip')\n",
    "        ],\n",
    "        'cookie': [\n",
    "            ('cookie-name1', 'cookie-value1'),\n",
    "            ('cookie-name2', 'cookie-value2'),\n",
    "        ],\n",
    "        'outline-depth': 10,\n",
    "    }\n",
    "    # pdfkit.from_file(html, pdf_file, options=options)\n",
    "    pdfkit.from_string(html, pdf_file, options=options)\n",
    "    \n",
    "env = Environment(\n",
    "            loader=FileSystemLoader('../app/templates'),\n",
    "            autoescape=select_autoescape(['html', 'xml'])\n",
    "        )\n",
    "\n",
    "template = env.get_template('report.html')\n",
    "# template = template.render().encode('utf-8')\n",
    "# template = template.decode('utf-8')\n",
    "template = template.render()\n",
    "# print(template)\n",
    "convert_pdf(template, 'out3.pdf')"
   ]
  },
  {
   "cell_type": "markdown",
   "metadata": {},
   "source": [
    "### 解决分页问题"
   ]
  },
  {
   "cell_type": "markdown",
   "metadata": {},
   "source": [
    "当一个html页面很长, 需要在指定的地方分页怎么办呢？ \n",
    "\n",
    "wkhtmltopdf 有个很好的方法，就是在div样式后添加一个：page-break-inside:avoid;就可以了。例如:"
   ]
  },
  {
   "cell_type": "code",
   "execution_count": null,
   "metadata": {},
   "outputs": [],
   "source": [
    "div{ width:800px; min-height:1362px; margin:auto; page-break-inside:avoid;}"
   ]
  },
  {
   "cell_type": "markdown",
   "metadata": {},
   "source": [
    "### 遇到的一些问题"
   ]
  },
  {
   "cell_type": "markdown",
   "metadata": {},
   "source": [
    "#### 关于no such file or directory:b'' 这种错误"
   ]
  },
  {
   "cell_type": "markdown",
   "metadata": {},
   "source": [
    "1. 在python中出现时，意味着有.exe文件需要被调用，而该.exe文件没有被安装或者在环境变量中没有添加该.exe的路径。\n",
    "2. 有时候需要改pdfkit代码为下列两句，才可消除错误："
   ]
  },
  {
   "cell_type": "code",
   "execution_count": null,
   "metadata": {},
   "outputs": [],
   "source": [
    "config=pdfkit.configuration(wkhtmltopdf=r\"C:\\Program File\\wkhtmltopdf\\bin\\wkhtmltopdf.exe\")\n",
    "pdfkit.from_url(url, name,configuration=config)"
   ]
  },
  {
   "cell_type": "markdown",
   "metadata": {},
   "source": [
    "### 关于wkhtmltopdf的配置"
   ]
  },
  {
   "cell_type": "code",
   "execution_count": null,
   "metadata": {},
   "outputs": [],
   "source": [
    "# 全局选项:\n",
    "Global Options:                       \n",
    "      --collate                       Collate when printing multiple copies(default)\n",
    "      --no-collate                    Do not collate when printing multiple copies\n",
    "      --cookie-jar <path>             Read and write cookies from and to the supplied cookie jar file\n",
    "      --copies <number>               Number of copies to print into the pdf file (default 1)\n",
    "  -d, --dpi <dpi>                     Change the dpi explicitly (this has no effect on X11 based systems)\n",
    "                                      (default 96) #设定dpi的大小,默认值:96, 注意: 在X11平台该选项无效\n",
    "  -H, --extended-help                 Display more extensive help, detailing less common command switches\n",
    "  -g, --grayscale                     PDF will be generated in grayscale # 生成黑白色PDF,不彩打PDF\n",
    "  -h, --help                          Display help\n",
    "      --htmldoc                       Output program html help\n",
    "      --image-dpi <integer>           When embedding images scale them down to this dpi\n",
    "                                      (default 600) # 当嵌入图片缩小到指定dpi,默认600dpi\n",
    "      --image-quality <integer>       When jpeg compressing images use this quality (default 94)\n",
    "      --license                       Output license information and exit\n",
    "  -l, --lowquality                    Generates lower quality pdf/ps. Useful to shrink the result document space\n",
    "      --manpage                       Output program man page\n",
    "  -B, --margin-bottom <unitreal>      Set the page bottom margin # 设置页面底边边距\n",
    "  -L, --margin-left <unitreal>        Set the page left margin (default 10mm) # 设置页面左边距,默认10mm\n",
    "  -R, --margin-right <unitreal>       Set the page right margin (default 10mm)# 设置页面右边距,默认10mm\n",
    "  -T, --margin-top <unitreal>         Set the page top margin # 设置页面顶部边距\n",
    "  -O, --orientation <orientation>     Set orientation to Landscape or Portrait(default Portrait) # 设置横向页面还是纵向页面,默认纵向\n",
    "      --page-height <unitreal>        Page height # 设置页面高度\n",
    "  -s, --page-size <Size>              Set paper size to: A4, Letter, etc. (default A4) # 设置页面尺寸,默认A4\n",
    "      --page-width <unitreal>         Page width # 设置页面宽度\n",
    "      --no-pdf-compression            Do not use lossless compression on pdf objects\n",
    "  -q, --quiet                         Be less verbose\n",
    "      --read-args-from-stdin          Read command line arguments from stdin\n",
    "      --readme                        Output program readme\n",
    "      --title <text>                  The title of the generated pdf file (The title of the first document is used if not specified)\n",
    "  -V, --version                       Output version information and exit\n",
    "\n",
    "\n",
    "\n",
    "# 大纲选项:(设置PDF文件左边的大纲,即书签)\n",
    "Outline Options:\n",
    "      --dump-default-toc-xsl          Dump the default TOC xsl style sheet to stdout\n",
    "      --dump-outline <file>           Dump the outline to a file\n",
    "      --outline                       Put an outline into the pdf (default) # 保存大纲到PDF(默认保存)\n",
    "      --no-outline                    Do not put an outline into the pdf # 不保存大纲到PDF\n",
    "      --outline-depth <level>         Set the depth of the outline (default 4) # 设置大纲层级深度,默认4级\n",
    "\n",
    "        \n",
    "# 页面选项:\n",
    "Page Options:\n",
    "      --allow <path>                  Allow the file or files from the specified\n",
    "                                      folder to be loaded (repeatable) # 允许从指定目录下加载单个或多个文件\n",
    "      --background                    Do print background (default) # 打印背景(默认)\n",
    "      --no-background                 Do not print background # 不打印背景\n",
    "      --bypass-proxy-for <value>      Bypass proxy for host (repeatable) # 绕过主机代理（可重复）\n",
    "      --cache-dir <path>              Web cache directory\n",
    "      --checkbox-checked-svg <path>   Use this SVG file when rendering checked checkboxes\n",
    "      --checkbox-svg <path>           Use this SVG file when rendering unchecked checkboxes\n",
    "      --cookie <name> <value>         Set an additional cookie (repeatable), value should be url encoded.\n",
    "      --custom-header <name> <value>  Set an additional HTTP header (repeatable)\n",
    "      --custom-header-propagation     Add HTTP headers specified by\n",
    "                                      --custom-header for each resource request.\n",
    "      --no-custom-header-propagation  Do not add HTTP headers specified by\n",
    "                                      --custom-header for each resource request.\n",
    "      --debug-javascript              Show javascript debugging output\n",
    "      --no-debug-javascript           Do not show javascript debugging output (default)\n",
    "      --default-header                Add a default header, with the name of the\n",
    "                                      page to the left, and the page number to the right, this is short for:\n",
    "                                      --header-left='[webpage]'\n",
    "                                      --header-right='[page]/[toPage]' --top 2cm\n",
    "                                      --header-line\n",
    "      --encoding <encoding>           Set the default text encoding, for input # 指定输入文本的编码\n",
    "      --disable-external-links        Do not make links to remote web pages # 禁用外部链接\n",
    "      --enable-external-links         Make links to remote web pages (default) # 外部链接可用\n",
    "      --disable-forms                 Do not turn HTML form fields into pdf form fields (default) # 不转换html表单到PDF表单(默认)\n",
    "      --enable-forms                  Turn HTML form fields into pdf form fields # 转换html表单到pdf表单\n",
    "      --images                        Do load or print images (default) # 加载并打印图片(默认)\n",
    "      --no-images                     Do not load or print images # 不加载打印图片\n",
    "      --disable-internal-links        Do not make local links # 不创建内部链接\n",
    "      --enable-internal-links         Make local links (default) # 创建内部链接(默认)\n",
    "  -n, --disable-javascript            Do not allow web pages to run javascript # 不允许运行js代码\n",
    "      --enable-javascript             Do allow web pages to run javascript(default) # 允许运行js代码(默认)\n",
    "      --javascript-delay <msec>       Wait some milliseconds for javascript finish (default 200)\n",
    "      --keep-relative-links           Keep relative external links as relative external links\n",
    "      --load-error-handling <handler> Specify how to handle pages that fail to load: \n",
    "                                      abort, ignore or skip (default abort) # 当页面加载失败,指定处理方式: 中止, 忽略 或跳过(默认中止)\n",
    "      --load-media-error-handling <handler> Specify how to handle media files that fail to load: \n",
    "                                      abort, ignore or skip (default ignore) # 指定媒体文件加载失败处理方式, 默认忽略\n",
    "      --disable-local-file-access     Do not allowed conversion of a local file\n",
    "                                      to read in other local files, unless explicitly allowed with --allow\n",
    "      --enable-local-file-access      Allowed conversion of a local file to read in other local files. (default)\n",
    "      --minimum-font-size <int>       Minimum font size # 指定最小字体大小\n",
    "      --exclude-from-outline          Do not include the page in the table of contents and outlines # 排除目录页和大纲页\n",
    "      --include-in-outline            Include the page in the table of contents and outlines (default) # 包含目录页和大纲页\n",
    "      --page-offset <offset>          Set the starting page number (default 0) # 设置起始页页码,默认是 0\n",
    "      --password <password>           HTTP Authentication password\n",
    "      --disable-plugins               Disable installed plugins (default)\n",
    "      --enable-plugins                Enable installed plugins (plugins will likely not work)\n",
    "      --post <name> <value>           Add an additional post field (repeatable)\n",
    "      --post-file <name> <path>       Post an additional file (repeatable)\n",
    "      --print-media-type              Use print media-type instead of screen\n",
    "      --no-print-media-type           Do not use print media-type instead ofscreen (default)\n",
    "  -p, --proxy <proxy>                 Use a proxy # 使用代理\n",
    "      --radiobutton-checked-svg <path> Use this SVG file when rendering checked radiobuttons\n",
    "      --radiobutton-svg <path>        Use this SVG file when rendering unchecked radiobuttons\n",
    "      --resolve-relative-links        Resolve relative external links into absolute links (default)\n",
    "      --run-script <js>               Run this additional javascript after the page is done loading (repeatable)\n",
    "      --disable-smart-shrinking       Disable the intelligent shrinking strategy\n",
    "                                      used by WebKit that makes the pixel/dpi ratio none constant\n",
    "      --enable-smart-shrinking        Enable the intelligent shrinking strategy\n",
    "                                      used by WebKit that makes the pixel/dpi ratio none constant (default)\n",
    "      --stop-slow-scripts             Stop slow running javascripts (default)\n",
    "      --no-stop-slow-scripts          Do not Stop slow running javascripts\n",
    "      --disable-toc-back-links        Do not link from section header to toc (default) # 不链接段落标题到内容大纲(默认)\n",
    "      --enable-toc-back-links         Link from section header to toc # 链接段落标题到内容大纲\n",
    "      --user-style-sheet <url>        Specify a user style sheet, to load with every page # 指定自定义样式表来加载每个页面\n",
    "      --username <username>           HTTP Authentication username\n",
    "      --viewport-size <>              Set viewport size if you have custom scrollbars or css attribute overflow to emulate window size\n",
    "      --window-status <windowStatus>  Wait until window.status is equal to this string before rendering page\n",
    "      --zoom <float>                  Use this zoom factor (default 1)\n",
    "\n",
    "# 页眉页脚选项:\n",
    "Headers And Footer Options:\n",
    "      --footer-center <text>          Centered footer text # 居中页脚文字\n",
    "      --footer-font-name <name>       Set footer font name (default Arial) # 设置页脚字体,默认Arial\n",
    "      --footer-font-size <size>       Set footer font size (default 12) # 设置页脚字体大小,默认12号字体\n",
    "      --footer-html <url>             Adds a html footer # 添加html页脚\n",
    "      --footer-left <text>            Left aligned footer text # 左对齐页脚文字\n",
    "      --footer-line                   Display line above the footer # 页脚上方显示横线\n",
    "      --no-footer-line                Do not display line above the footer (default) # 页脚上方不显示横线\n",
    "      --footer-right <text>           Right aligned footer text # 右对齐页脚文字\n",
    "      --footer-spacing <real>         Spacing between footer and content in mm (default 0)# 设置页脚和内容之间的距离,默认0mm\n",
    "      \n",
    "      --header-center <text>          Centered header text # 剧中页眉文字\n",
    "      --header-font-name <name>       Set header font name (default Arial)\n",
    "      --header-font-size <size>       Set header font size (default 12)\n",
    "      --header-html <url>             Adds a html header\n",
    "      --header-left <text>            Left aligned header text\n",
    "      --header-line                   Display line below the header\n",
    "      --no-header-line                Do not display line below the header (default)\n",
    "      --header-right <text>           Right aligned header text\n",
    "      --header-spacing <real>         Spacing between header and content in mm (default 0)\n",
    "      --replace <name> <value>        Replace [name] with value in header and footer (repeatable) # 指定内容来替换页眉页脚的内容\n",
    "\n",
    "\n",
    "# 内容大纲选项:(table of content)\n",
    "TOC Options:\n",
    "      --disable-dotted-lines          Do not use dotted lines in the toc # 在toc中不使用点线\n",
    "      --toc-header-text <text>        The header text of the toc (default Table of Contents) # toc标题,默认内容的标题\n",
    "      --toc-level-indentation <width> For each level of headings in the toc indent by this length (\n",
    "                                      default 1em) # 每层toc标题的缩进,默认1em(em 相对长度单位。相对于当前对象内文本的字体尺寸。)\n",
    "      --disable-toc-links             Do not link from toc to sections # 不连接toc到内容\n",
    "      --toc-text-size-shrink <real>   For each level of headings in the toc the font \n",
    "                                      is scaled by this factor (default 0.8) # 缩小每一层级的标题到指定比例\n",
    "      --xsl-style-sheet <file>        Use the supplied xsl style sheet for printing the table of content # 使用支持的xsl样式表打印目录"
   ]
  },
  {
   "cell_type": "markdown",
   "metadata": {},
   "source": [
    "### 在python中pdfkit的配置"
   ]
  },
  {
   "cell_type": "code",
   "execution_count": null,
   "metadata": {
    "collapsed": true
   },
   "outputs": [],
   "source": [
    "OPTIONS = {\n",
    "    'page-size': 'A4',\n",
    "    'margin-top': '0in',\n",
    "    'margin-right': '0in',\n",
    "    'margin-bottom': '0in',\n",
    "    'margin-left': '0in',\n",
    "    'encoding': \"UTF-8\",\n",
    "}"
   ]
  },
  {
   "cell_type": "markdown",
   "metadata": {},
   "source": [
    "### 用浏览器打开jinja2模版"
   ]
  },
  {
   "cell_type": "code",
   "execution_count": null,
   "metadata": {},
   "outputs": [],
   "source": [
    "from jinja2 import Environment\n",
    "from jinja2 import FileSystemLoader\n",
    "from jinja2 import select_autoescape\n",
    "import webbrowser\n",
    "\n",
    "templates_path = ''\n",
    "env = Environment(loader=FileSystemLoader(templates_path),\n",
    "                  autoescape=select_autoescape(['html', 'xml']))\n",
    "\n",
    "\n",
    "def get_report_html(site=None, moniter_type=None, timespan=None, engine=None):\n",
    "    report = env.get_template('report.html')\n",
    "    css_path = os.path.join('file:///'+os.path.dirname(\n",
    "        os.path.dirname(__file__)), 'static', 'css', 'mystyle.css')\n",
    "    print(css_path)\n",
    "    html = report.render({'css_path': css_path, 'date_time': date_time})\n",
    "    return html\n",
    "\n",
    "\n",
    "def open_webbrowser(html):\n",
    "    with open('dst.html', 'w', encoding='utf-8') as f:\n",
    "        f.write(html)\n",
    "    html_url = 'file:///dst.html'\n",
    "    webbrowser.open(html_url)\n",
    "\n",
    "\n",
    "if __name__ == '__main__':\n",
    "    html = get_report_html()\n",
    "    open_webbrowser(html)"
   ]
  }
 ],
 "metadata": {
  "kernelspec": {
   "display_name": "Python 3",
   "language": "python",
   "name": "python3"
  },
  "language_info": {
   "codemirror_mode": {
    "name": "ipython",
    "version": 3
   },
   "file_extension": ".py",
   "mimetype": "text/x-python",
   "name": "python",
   "nbconvert_exporter": "python",
   "pygments_lexer": "ipython3",
   "version": "3.6.4"
  }
 },
 "nbformat": 4,
 "nbformat_minor": 2
}
