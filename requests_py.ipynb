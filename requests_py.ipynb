{
 "cells": [
  {
   "cell_type": "markdown",
   "metadata": {},
   "source": [
    "# requests使用"
   ]
  },
  {
   "cell_type": "markdown",
   "metadata": {},
   "source": [
    "### POST数据"
   ]
  },
  {
   "cell_type": "code",
   "execution_count": 34,
   "metadata": {},
   "outputs": [],
   "source": [
    "import requests\n",
    "\n",
    "url = 'http://127.0.0.1:8760/api/portal'\n",
    "payload = {\"organization_id\":\"1a84f6714f524c65b3e82fc4400276c4\",\n",
    "        \"ent_code\":\"paypals\",\n",
    "        \"product_code\":\"sms\",\n",
    "        \"amount\":\"1\",\n",
    "        \"type\":\"renew\",\n",
    "        \"ent_name\":\"XXXXX\",\n",
    "        \"account_id\":57,\n",
    "        \"account_name\":\"admin@paypals.com\",\n",
    "        \"product_specification_info\":{\n",
    "            \"fee_type\":\"count\",\n",
    "            \"specification_id\":37,\n",
    "            \"specification_no\":\"sms-standard\"}\n",
    "       }\n",
    "\n",
    "\n",
    "res = requests.post(url, data=payload, timeout=5)\n",
    "\n",
    "# res = requests.post(url, json=payload, timeout=5)"
   ]
  },
  {
   "cell_type": "code",
   "execution_count": 31,
   "metadata": {},
   "outputs": [
    {
     "name": "stdout",
     "output_type": "stream",
     "text": [
      "<Response [200]>\n"
     ]
    }
   ],
   "source": [
    "import requests\n",
    "\n",
    "url = 'http://127.0.0.1:8760/api/portal/auth?token=930a53bd-f95a-40b3-80d9-3335ab2d06da'\n",
    "\n",
    "res = requests.get(url, timeout=5)\n",
    "\n",
    "print(res)"
   ]
  },
  {
   "cell_type": "code",
   "execution_count": 14,
   "metadata": {},
   "outputs": [
    {
     "name": "stdout",
     "output_type": "stream",
     "text": [
      "ParseResult(scheme='http', netloc='www.baidu.com', path='/link', params='', query='url=WZ5GSTSsp43ne_EK0qfloXv3OxzjEmaE4ff0zYGNtOLvU7mtmtI0WXjnSHd63Kth2y15j-Fprw1uvezKBfMnd_', fragment='')\n",
      "http://www.baidu.com:80/link?url=WZ5GSTSsp43ne_EK0qfloXv3OxzjEmaE4ff0zYGNtOLvU7mtmtI0WXjnSHd63Kth2y15j-Fprw1uvezKBfMnd_\n"
     ]
    }
   ],
   "source": [
    "from urllib.parse import urlparse, urljoin\n",
    "\n",
    "URL= 'https://www.baidu.com:80/item?path=332&path2=234'\n",
    "\n",
    "url2 = 'http://www.baidu.com/link?url=WZ5GSTSsp43ne_EK0qfloXv3OxzjEmaE4ff0zYGNtOLvU7mtmtI0WXjnSHd63Kth2y15j-Fprw1uvezKBfMnd_'\n",
    "\n",
    "def handle_url(url):\n",
    "    url_obj = urlparse(url)\n",
    "    print(url_obj)\n",
    "    port = 443 if url_obj.scheme == 'https' else 80\n",
    "    if ':80' in url_obj.netloc or ':443' in url_obj.netloc:\n",
    "        new_netloc = url_obj.netloc\n",
    "    else:\n",
    "        new_netloc = '{}:{}'.format(url_obj.netloc, port)\n",
    "\n",
    "    if url_obj.params:\n",
    "        new_params = '?{}'.format(url_obj.params)\n",
    "    else:\n",
    "        new_params = url_obj.params\n",
    "    if url_obj.query:\n",
    "        new_query = '?{}'.format(url_obj.query)\n",
    "    else:\n",
    "        new_query = url_obj.query\n",
    "\n",
    "    new_url = '{}://{}{}{}{}{}'.format(url_obj.scheme, new_netloc, url_obj.path,\n",
    "                                        new_params, new_query, url_obj.fragment)\n",
    "    return new_url\n",
    "\n",
    "print(handle_url(url2))"
   ]
  },
  {
   "cell_type": "code",
   "execution_count": null,
   "metadata": {},
   "outputs": [],
   "source": []
  }
 ],
 "metadata": {
  "kernelspec": {
   "display_name": "Python 3",
   "language": "python",
   "name": "python3"
  },
  "language_info": {
   "codemirror_mode": {
    "name": "ipython",
    "version": 3
   },
   "file_extension": ".py",
   "mimetype": "text/x-python",
   "name": "python",
   "nbconvert_exporter": "python",
   "pygments_lexer": "ipython3",
   "version": "3.6.2"
  }
 },
 "nbformat": 4,
 "nbformat_minor": 2
}
