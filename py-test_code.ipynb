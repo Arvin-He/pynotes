{
 "cells": [
  {
   "cell_type": "markdown",
   "metadata": {},
   "source": [
    "# test code"
   ]
  },
  {
   "cell_type": "code",
   "execution_count": 9,
   "metadata": {},
   "outputs": [
    {
     "data": {
      "text/plain": [
       "'未分组'"
      ]
     },
     "execution_count": 9,
     "metadata": {},
     "output_type": "execute_result"
    }
   ],
   "source": [
    "item = {}\n",
    "org = item.get('org') or '未分组'\n",
    "\n",
    "org"
   ]
  },
  {
   "cell_type": "code",
   "execution_count": 5,
   "metadata": {},
   "outputs": [
    {
     "name": "stdout",
     "output_type": "stream",
     "text": [
      "{'_id': '67e0e099b46a3ead418a4b3df06bec05'}\n",
      "{}\n"
     ]
    }
   ],
   "source": [
    "\n",
    "item1 = {'_id': '67e0e099b46a3ead418a4b3df06bec05'}\n",
    "print(item1)\n",
    "\n",
    "print(item1.get('IP', {}))\n",
    "\n",
    "# IP = [{'name':k, 'value':v} for k, v in item1.get(['IP'], {}).items()]\n",
    "\n",
    "# print(IP)"
   ]
  },
  {
   "cell_type": "code",
   "execution_count": 20,
   "metadata": {
    "scrolled": true
   },
   "outputs": [
    {
     "name": "stdout",
     "output_type": "stream",
     "text": [
      "['root|',\n",
      " 'bin|no crontab for bin',\n",
      " 'daemon|no crontab for daemon',\n",
      " 'lp|no crontab for lp',\n",
      " 'mail|no crontab for mail',\n",
      " 'games|no crontab for games',\n",
      " 'wwwrun|no crontab for wwwrun',\n",
      " 'ftp|no crontab for ftp',\n",
      " 'nobody|no crontab for nobody',\n",
      " 'messagebus|no crontab for messagebus',\n",
      " 'haldaemon|no crontab for haldaemon',\n",
      " 'sshd|no crontab for sshd',\n",
      " 'man|no crontab for man',\n",
      " 'news|no crontab for news',\n",
      " 'uucp|no crontab for uucp',\n",
      " 'uuidd|no crontab for uuidd',\n",
      " 'puppet|no crontab for puppet',\n",
      " 'at|no crontab for at',\n",
      " 'postfix|no crontab for postfix',\n",
      " 'polkituser|no crontab for polkituser',\n",
      " 'ntp|no crontab for ntp',\n",
      " 'pulse|no crontab for pulse',\n",
      " 'suse-ncc|no crontab for suse-ncc',\n",
      " 'gdm|no crontab for gdm']\n",
      "[]\n"
     ]
    }
   ],
   "source": [
    "from pprint import pprint\n",
    "\n",
    "data = b'root|\\\\nbin|no crontab for bin\\\\n\\\\ndaemon|no crontab for daemon\\\\n\\\\nlp|no crontab for lp\\\\n\\\\nmail|no crontab for mail\\\\n\\\\ngames|no crontab for games\\\\n\\\\nwwwrun|no crontab for wwwrun\\\\n\\\\nftp|no crontab for ftp\\\\n\\\\nnobody|no crontab for nobody\\\\n\\\\nmessagebus|no crontab for messagebus\\\\n\\\\nhaldaemon|no crontab for haldaemon\\\\n\\\\nsshd|no crontab for sshd\\\\n\\\\nman|no crontab for man\\\\n\\\\nnews|no crontab for news\\\\n\\\\nuucp|no crontab for uucp\\\\n\\\\nuuidd|no crontab for uuidd\\\\n\\\\npuppet|no crontab for puppet\\\\n\\\\nat|no crontab for at\\\\n\\\\npostfix|no crontab for postfix\\\\n\\\\npolkituser|no crontab for polkituser\\\\n\\\\nntp|no crontab for ntp\\\\n\\\\npulse|no crontab for pulse\\\\n\\\\nsuse-ncc|no crontab for suse-ncc\\\\n\\\\ngdm|no crontab for gdm\\\\n\\\\n'\n",
    "\n",
    "# newdata = data.replace(b'\\\\n', b'\\n')\n",
    "\n",
    "# print(newdata)\n",
    "                        \n",
    "\n",
    "def preprocess_data(data, platform):\n",
    "    data = data.replace(b'\\\\n', b'\\n')\n",
    "    data_list = []\n",
    "    lines = []\n",
    "    if platform == 'windows':\n",
    "        lines = data.split(b'\\r\\n')\n",
    "    elif platform == 'linux':\n",
    "        lines = data.split(b'\\n')\n",
    "    for line in lines:\n",
    "        if line:\n",
    "            try:\n",
    "                str_line = line.decode()\n",
    "                str_line = str_line.strip()\n",
    "            except:\n",
    "                logging.error(\n",
    "                    \"data: {}, decode error: can't decode with utf-8.\".format(line))\n",
    "                str_line = str(line)[2:-1].strip()\n",
    "            if str_line:\n",
    "                data_list.append(str_line)\n",
    "    return data_list\n",
    "\n",
    "\n",
    "def handle_schedule_data(data, platform, token):\n",
    "    data_list = []\n",
    "    lines = preprocess_data(data, platform)\n",
    "    pprint(lines)\n",
    "    user = None\n",
    "    for i, line in enumerate(lines):\n",
    "        if 'no crontab' not in line:\n",
    "            if '|' in line:\n",
    "                user, text = [item for item in line.split('|')]\n",
    "                if not text:\n",
    "                    continue\n",
    "            else:\n",
    "                text = line\n",
    "            item = _handle_schedule_detail(user, text)\n",
    "            item['token'] = token\n",
    "            data_list.append(item)\n",
    "    pprint(data_list)\n",
    "\n",
    "def _handle_schedule_detail(user, line):\n",
    "    KEYS = ['user', 'program', 'cycle']\n",
    "    data = dict.fromkeys(KEYS, '')\n",
    "    data['user'] = user\n",
    "    fileds = line.split(' ')\n",
    "    fileds = [item for item in fileds if item]\n",
    "    data['cycle'] = ' '.join(fileds[:5])\n",
    "    data['program'] = ' '.join(fileds[5:])\n",
    "    return data\n",
    "\n",
    "           \n",
    "handle_schedule_data(data, 'linux', '67e0e099b46a3ead418a4b3df06bec05')\n",
    "\n"
   ]
  },
  {
   "cell_type": "code",
   "execution_count": 19,
   "metadata": {},
   "outputs": [
    {
     "name": "stdout",
     "output_type": "stream",
     "text": [
      "{'a': 1, 'b': 2}\n",
      "{'g': 30, 'h': 40}\n"
     ]
    }
   ],
   "source": [
    "old_data_list = [{\"a\":1, \"b\":2},\n",
    "                {\"c\":10, \"d\":20},\n",
    "                {\"e\":20, \"f\":30},\n",
    "                {\"g\":30, \"h\":40},\n",
    "                {\"i\":40, \"j\":50}]\n",
    "\n",
    "same_data_list = [\n",
    "                {\"c\":10, \"d\":20},\n",
    "                {\"e\":20, \"f\":30},\n",
    "                \n",
    "                {\"i\":40, \"j\":50}]\n",
    "\n",
    "for item1 in old_data_list:\n",
    "    for item2 in same_data_list:\n",
    "        if item1 == item2:\n",
    "            break\n",
    "    else:\n",
    "        print(item1)\n",
    "            "
   ]
  },
  {
   "cell_type": "code",
   "execution_count": 31,
   "metadata": {},
   "outputs": [
    {
     "name": "stdout",
     "output_type": "stream",
     "text": [
      "2.6.32-642.el6.x86_64\n",
      "#1 SMP Tue May 10 17:27:01 UTC 2016\n",
      "2.6.32\n",
      "2.6.32\n",
      "Tue May 10 17:27:01 UTC 2016\n",
      "2016-10-17 00:00:00\n",
      "2016-05-10 17:27:01\n",
      "2016-10-17 00:00:00\n",
      "1462872421\n"
     ]
    }
   ],
   "source": [
    "text = '2.6.32-642.el6.x86_64\\n#1 SMP Tue May 10 17:27:01 UTC 2016\\n'\n",
    "\n",
    "version, date_time = [item for item in text.split('\\n') if item]\n",
    "\n",
    "print(version)\n",
    "print(date_time)\n",
    "\n",
    "version = version.split('-')[0]\n",
    "print(version)\n",
    "\n",
    "if version >= '2.6.22':\n",
    "    print(version)\n",
    "    \n",
    "import datetime\n",
    "\n",
    "date_time = ' '.join(date_time.split(' ')[2:])\n",
    "print(date_time)\n",
    "GMT_FORMAT = '%a %b %d %H:%M:%S UTC %Y'\n",
    "# TIME = '2018 Sep 06 15:09:53'\n",
    "bb = datetime.datetime.strptime(date_time, GMT_FORMAT)\n",
    "cc = datetime.datetime(year=2016, month=10, day=17)\n",
    "print(cc)\n",
    "print(bb)\n",
    "if cc > bb:\n",
    "    print(cc)\n",
    "else:\n",
    "    print(bb)\n",
    "print(int(bb.timestamp()))"
   ]
  },
  {
   "cell_type": "code",
   "execution_count": 32,
   "metadata": {},
   "outputs": [
    {
     "data": {
      "text/plain": [
       "38.75"
      ]
     },
     "execution_count": 32,
     "metadata": {},
     "output_type": "execute_result"
    }
   ],
   "source": [
    "score = 20\n",
    "\n",
    "res = 0\n",
    "for i in range(5):\n",
    "    res += score\n",
    "    score /= 2\n",
    "    \n",
    "res\n",
    "20 10 5 2.5 1.25\n",
    "\n",
    "    \n"
   ]
  },
  {
   "cell_type": "code",
   "execution_count": 64,
   "metadata": {},
   "outputs": [
    {
     "name": "stdout",
     "output_type": "stream",
     "text": [
      "['10:12:28', '1', 'root', '0.00', '0.05', '0.64', '1.02', 'init [5]', 'None']\n"
     ]
    }
   ],
   "source": [
    "data = b'10:12:28,1,root,0.00,0.05,0.64,1.02,init [5]   ,None\\n10:12:28,2,root,0.00,0.00,0.00,0.00,kthreadd,None\\n10:12:28,3,root,0.00,0.00,0.00,0.00,ksoftirqd/0,None\\n10:12:28,5,root,0.00,0.00,0.00,0.00,kworker/u:0,None\\n10:12:28,6,root,0.00,0.00,0.00,0.00,migration/0,None\\n10:12:28,7,root,0.00,0.00,0.00,0.00,watchdog/0,None\\n10:12:28,8,root,0.00,0.00,0.00,0.00,cpuset,None\\n10:12:28,9,root,0.00,0.00,0.00,0.00,khelper,None\\n10:12:28,10,root,0.00,0.00,0.00,0.00,netns,None\\n10:12:28,11,root,0.00,0.00,0.00,0.00,sync_supers,None\\n10:12:28,12,root,0.00,0.00,0.00,0.00,bdi-default,None\\n10:12:28,13,root,0.00,0.00,0.00,0.00,kintegrityd,None\\n10:12:28,14,root,0.00,0.00,0.00,0.00,kblockd,None\\n10:12:28,15,root,0.00,0.00,0.00,0.00,md,None\\n10:12:28,16,root,0.00,0.00,0.00,0.00,khungtaskd,None\\n10:12:28,17,root,0.00,0.00,0.00,0.00,kswapd0,None\\n10:12:28,18,root,0.00,0.00,0.00,0.00,ksmd,None\\n10:12:28,19,root,0.00,0.00,0.00,0.00,khugepaged,None\\n10:12:28,20,root,0.00,0.00,0.00,0.00,fsnotify_mark,None\\n10:12:28,21,root,0.00,0.00,0.00,0.00,crypto,None\\n10:12:28,25,root,0.00,0.00,0.00,0.00,kthrotld,None\\n10:12:28,26,root,0.00,0.00,0.00,0.00,kpsmoused,None\\n10:12:28,73,root,0.00,0.00,0.00,0.00,mpt_poll_0,None\\n10:12:28,74,root,0.00,0.00,0.00,0.00,mpt/0,None\\n10:12:28,75,root,0.00,0.00,0.00,0.00,scsi_eh_0,None\\n10:12:28,83,root,0.00,0.00,0.00,0.00,ata_sff,None\\n10:12:28,88,root,0.00,0.00,0.00,0.00,scsi_eh_1,None\\n10:12:28,89,root,0.00,0.00,0.00,0.00,scsi_eh_2,None\\n10:12:28,90,root,0.00,0.00,0.00,0.00,kworker/u:1,None\\n10:12:28,114,root,0.00,0.00,0.00,0.00,kmpath_rdacd,None\\n10:12:28,129,root,0.00,0.00,0.00,0.00,kmpath_aluad,None\\n10:12:28,360,root,0.00,0.00,0.00,0.47,kjournald,None\\n10:12:28,366,root,0.00,0.00,0.00,0.00,flush-8:0,None\\n10:12:28,463,root,0.00,0.06,0.03,0.00,/sbin/udevd --daemon ,a115fd236dc57eb46025c51a6e60c481\\n10:12:28,688,root,0.00,0.00,0.00,0.00,vmmemctl,None\\n10:12:28,765,root,0.00,0.00,0.00,0.00,kauditd,None\\n10:12:28,1541,root,0.00,0.03,0.00,0.00,/sbin/acpid ,556e3ef4385cbf2e89aafe6b71f41e76\\n10:12:28,1556,messagebus,0.00,0.05,0.00,0.00,/bin/dbus-daemon --system ,f3628697e93fc82021911687a400517c\\n10:12:28,1574,root,0.00,0.05,0.00,0.04,/sbin/syslog-ng ,9cfd8fadc13c41dba01866356fbe86fb\\n10:12:28,1577,root,0.00,0.03,0.00,0.00,/sbin/klogd -c 1 -x ,019213fa59577c51c137f06ff055dee1\\n10:12:28,1665,haldaemon,0.00,0.22,0.01,0.00,/usr/sbin/hald --daemon=yes ,326e54dd96050ae801608aaed849cc91\\n10:12:28,1668,root,0.00,0.13,0.00,0.00,/usr/sbin/console-kit-daemon ,2501b7f06316480bcecf00eac03118be\\n10:12:28,1669,root,0.00,0.07,0.01,0.00,hald-runner ,None\\n10:12:28,1756,root,0.00,0.11,0.00,0.00,hald-addon-input: Listening on /dev/input/event0 /dev/input/event3,None\\n10:12:28,1782,root,0.00,0.11,0.00,0.00,hald-addon-storage: polling /dev/sr0 (every 16 sec),None\\n10:12:28,1783,root,0.00,0.11,0.00,0.00,hald-addon-storage: no polling on /dev/fd0 because it is explicitly disabled,None\\n10:12:28,1785,haldaemon,0.00,0.10,0.00,0.00,hald-addon-acpi: listening on acpid socket /var/run/acpid.socket,None\\n10:12:28,2629,root,0.00,0.03,0.00,0.00,/sbin/auditd -s disable ,2a40596e8fe72cd5cc6f3016f306d5bf\\n10:12:28,2631,root,0.00,0.04,0.00,0.00,/sbin/audispd ,59b074f48dbf776fd4b686b45b3882af\\n10:12:28,2652,root,0.00,0.24,0.00,0.00,/sbin/haveged -w 1024 -v 1 ,f9c33ffab3828c02d026daa814c297db\\n10:12:28,2666,root,0.00,0.03,0.01,0.00,/sbin/rpcbind ,9b4b10ac6d02267fefd0d66cbea5f310\\n10:12:28,2726,root,0.00,0.06,0.00,0.00,/sbin/udevd --daemon ,a115fd236dc57eb46025c51a6e60c481\\n10:12:28,2727,root,0.00,0.06,0.00,0.00,/sbin/udevd --daemon ,a115fd236dc57eb46025c51a6e60c481\\n10:12:28,2803,root,0.00,0.05,0.00,0.00,/usr/sbin/mcelog --daemon --config-file /etc/mcelog/mcelog.conf ,0a7240ceb8b6a0f6327eb2a94eeacdf2\\n10:12:28,3107,root,0.00,0.07,0.00,0.00,/usr/sbin/sshd -o PidFile=/var/run/sshd.init.pid ,0196a879ed58c4249d65e9063f6a9513\\n10:12:28,3122,root,0.00,0.05,0.00,0.02,/usr/sbin/nscd ,5d52cb22bff95a0e67de893074c63b0d\\n10:12:28,3212,root,0.00,0.13,0.00,0.00,/usr/lib/postfix/master ,07c95b1f439883290f9def2a67086b45\\n10:12:28,3242,postfix,0.00,0.12,0.00,0.00,qmgr -l -t fifo -u ,None\\n10:12:28,3280,root,0.00,0.05,0.00,0.00,/usr/bin/xdm ,1274d9e26a0db9db3b675c023cdd3077\\n10:12:28,3282,root,0.00,0.86,0.11,0.00,/usr/bin/X -nolisten tcp -br vt7 -auth /var/lib/xdm/authdir/authfiles/A:0-tbssUX ,91617b3fffdd1573583d2fe6613ab2ec\\n10:12:28,3301,root,0.00,0.04,0.28,0.00,/usr/sbin/cron ,6e4712f4b67175702900f45e88165d13\\n10:12:28,3422,root,0.00,0.35,0.07,0.00,-:0          ,None\\n10:12:28,3439,root,0.00,0.04,0.00,0.00,/sbin/mingetty --noclear tty1 ,4f520f7a5dd978c496c3f74813e09337\\n10:12:28,3440,root,0.00,0.04,0.00,0.00,/sbin/mingetty tty2 ,4f520f7a5dd978c496c3f74813e09337\\n10:12:28,3441,root,0.00,0.04,0.00,0.00,/sbin/mingetty tty3 ,4f520f7a5dd978c496c3f74813e09337\\n10:12:28,3442,root,0.00,0.04,0.00,0.00,/sbin/mingetty tty4 ,4f520f7a5dd978c496c3f74813e09337\\n10:12:28,3443,root,0.00,0.04,0.00,0.00,/sbin/mingetty tty5 ,4f520f7a5dd978c496c3f74813e09337\\n10:12:28,3444,root,0.00,0.04,0.00,0.00,/sbin/mingetty tty6 ,4f520f7a5dd978c496c3f74813e09337\\n10:12:28,3564,root,0.00,0.13,0.00,0.00,/usr/bin/xconsole -notify -nostdin -verbose -exitOnFail ,27fca46720094873b82913c629c22e22\\n10:12:28,20953,root,0.00,0.00,0.00,0.00,kworker/0:0,None\\n10:12:28,21120,postfix,0.00,0.12,0.00,0.00,pickup -l -t fifo -u ,None\\n10:12:28,21143,root,0.00,0.00,0.00,0.00,kworker/0:1,None\\n10:12:28,21144,root,0.00,0.00,0.00,0.00,kworker/0:2,None\\n10:12:28,21145,root,0.00,0.22,0.00,0.00,sshd: root@pts/0                                    ,None\\n10:12:28,21148,root,0.00,0.18,0.00,0.00,sshd: root@notty                                    ,None\\n10:12:28,21151,root,0.00,0.07,0.00,0.00,/usr/lib64/ssh/sftp-server ,7b5623e94bf3c269d0befb40c3906066\\n10:12:28,21178,root,0.00,0.15,0.00,0.00,-bash ,None\\n10:12:28,21463,root,0.00,0.23,0.00,0.00,./datacollect ,7ded30349d8a985a4bcc31a0913b8bf8\\n10:12:28,21488,root,0.00,0.11,0.00,0.00,./datacollect ,7ded30349d8a985a4bcc31a0913b8bf8\\n10:12:28,21491,root,0.00,0.03,0.00,0.00,-f /var/log/messages ,None\\n10:12:28,21492,root,0.00,0.12,0.00,0.00,./datacollect ,7ded30349d8a985a4bcc31a0913b8bf8\\n10:12:28,21495,root,0.00,0.00,0.00,0.00,sadc,cb53696a3ab03faa9a4729b7944f921c\\n10:12:28,21529,root,0.00,0.06,0.00,0.00,./datacollect ,7ded30349d8a985a4bcc31a0913b8bf8\\n10:12:28,21530,root,0.00,0.06,0.00,0.00,./datacollect ,7ded30349d8a985a4bcc31a0913b8bf8\\n10:12:28,21531,root,0.00,0.04,0.00,0.00,-rm -rme modify,attrib,move,close_write,create,delete,delete_self --exclude .*(swp|swx|~$) --timefmt %Y/%m/%d %H:%M:%S --format %T|%w|%f|%e --fromfile tamperdirs ,None\\n10:12:28,21532,root,0.00,0.04,0.00,0.00,-rm -rme modify,attrib,move,close_write,create,delete,delete_self --exclude .*(swp|swx|~$) --timefmt %Y/%m/%d %H:%M:%S --format %T|%w|%f|%e --fromfile webdirs ,None\\n10:12:28,21633,root,0.00,0.07,0.00,0.00,./datacollect ,7ded30349d8a985a4bcc31a0913b8bf8\\n10:12:28,21634,root,0.00,0.04,0.00,0.00,sadc 1 61 -Z -S A_NULL A_CPU A_IO A_MEMORY A_NET_DEV ,cb53696a3ab03faa9a4729b7944f921c\\n'\n",
    "\n",
    "def preprocess_data(data, platform):\n",
    "    data_list = []\n",
    "    lines = []\n",
    "    data = data.replace(b'\\\\n', b'\\n')\n",
    "    if platform == 'windows':\n",
    "        lines = data.split(b'\\r\\n')\n",
    "    elif platform == 'linux':\n",
    "        lines = data.split(b'\\n')\n",
    "    for line in lines:\n",
    "        if line:\n",
    "            try:\n",
    "                str_line = line.decode()\n",
    "                str_line = str_line.strip()\n",
    "            except:\n",
    "                logging.error(\n",
    "                    \"data: {}, decode error: can't decode with utf-8.\".format(line))\n",
    "                str_line = str(line)[2:-1].strip()\n",
    "            if str_line:\n",
    "                data_list.append(str_line)\n",
    "    return data_list\n",
    "\n",
    "\n",
    "def _handle_process_detail(line):\n",
    "    data = {}\n",
    "    KEYS = ['_','PID', 'account', 'CPU', 'memory', 'rdio', 'wrio', 'CLI', 'md5']\n",
    "    VALUES = [item.strip() for item in line.split(',', maxsplit=7) if item]\n",
    "    VALUES.extend([item.strip() for item in VALUES.pop(-1).rsplit(',', maxsplit=1)])\n",
    "    print(VALUES)\n",
    "    for k, v in zip(KEYS, VALUES):\n",
    "        if k != '_':\n",
    "            v = v.replace('None', '')\n",
    "            data[k] = v\n",
    "    return data\n",
    "\n",
    "\n",
    "data_list = []\n",
    "lines = preprocess_data(data, 'linux')\n",
    "for line in lines:\n",
    "    data_item = _handle_process_detail(line)\n",
    "#     data_item['token'] = '2a7d0b8de7536e107bab892c19886693'\n",
    "    data_list.append(data_item)\n",
    "#     print(data_item)\n",
    "    break"
   ]
  },
  {
   "cell_type": "code",
   "execution_count": 54,
   "metadata": {},
   "outputs": [
    {
     "name": "stdout",
     "output_type": "stream",
     "text": [
      "Help on method_descriptor:\n",
      "\n",
      "extend(...)\n",
      "    L.extend(iterable) -> None -- extend list by appending elements from the iterable\n",
      "\n"
     ]
    }
   ],
   "source": [
    "help(list.extend)"
   ]
  },
  {
   "cell_type": "code",
   "execution_count": 50,
   "metadata": {},
   "outputs": [
    {
     "name": "stdout",
     "output_type": "stream",
     "text": [
      "Help on method_descriptor:\n",
      "\n",
      "rsplit(...)\n",
      "    S.rsplit(sep=None, maxsplit=-1) -> list of strings\n",
      "    \n",
      "    Return a list of the words in S, using sep as the\n",
      "    delimiter string, starting at the end of the string and\n",
      "    working to the front.  If maxsplit is given, at most maxsplit\n",
      "    splits are done. If sep is not specified, any whitespace string\n",
      "    is a separator.\n",
      "\n"
     ]
    }
   ],
   "source": [
    "help(str.rsplit)"
   ]
  },
  {
   "cell_type": "code",
   "execution_count": 75,
   "metadata": {},
   "outputs": [
    {
     "name": "stdout",
     "output_type": "stream",
     "text": [
      "{'host': 'localhost.localdomain', 'version': '20180915', 'IP': {'ens33': '192.168.187.159', 'virbr0': '192.168.122.1'}, 'CPU': 'Intel(R) Core(TM) i5-4590 CPU @ 3.30GHz', 'CORES': '2', 'MEMORY': '3.68 GB', 'DISK': '64.4 GB', 'alias': 'localhost.localdomain'}\n",
      "/dev/sda1   *        2048     2099199     1048576   83  Linux\n",
      "解析server data 失败: not enough values to unpack (expected 2, got 1)\n",
      "/dev/sda2         2099200   125829119    61864960   8e  Linux LVM\n",
      "解析server data 失败: not enough values to unpack (expected 2, got 1)\n"
     ]
    }
   ],
   "source": [
    "from itertools import zip_longest\n",
    "\n",
    "lines =['localhost.localdomain,20180915,lo:127.0.0.1 ens33:192.168.187.159 virbr0:192.168.122.1 ,model name\t: Intel(R) Core(TM) i5-4590 CPU @ 3.30GHz,cpu cores\t: 2,MemTotal:        3863576 kB,磁盘 /dev/sda：64.4 GB, 64424509440 字节，125829120 个扇区', \n",
    "        '/dev/sda1   *        2048     2099199     1048576   83  Linux',\n",
    "        '/dev/sda2         2099200   125829119    61864960   8e  Linux LVM']\n",
    "\n",
    "\n",
    "def _handle_server_detail(line):\n",
    "    data = {}\n",
    "    KEYS = ['host', 'version', 'IP', 'CPU', 'CORES', 'MEMORY', 'DISK']\n",
    "    line = line.replace('：', ':').replace('，', ',').strip()\n",
    "    VALUES = [item for item in line.split(',', maxsplit=7)[:-1] if item]\n",
    "    for k, v in zip_longest(KEYS, VALUES, fillvalue='_'):\n",
    "        if k == 'IP':\n",
    "            data[k] = {}\n",
    "            for ip in [item for item in v.split(' ') if item]:\n",
    "                name, IP = ip.split(':')\n",
    "                if name != 'lo' and not name.startswith('docker'):\n",
    "                    data[k][name] = IP\n",
    "        elif ':' in v:\n",
    "            new_value_list = v.split(':')\n",
    "            data[k] = str(new_value_list[-1]).strip()\n",
    "        else:\n",
    "            data[k] = v\n",
    "    if 'kb' in data['MEMORY'].lower():\n",
    "        memsize = data['MEMORY'].lower()\n",
    "        memsize = memsize[: memsize.index('kb')]\n",
    "        data['MEMORY'] = '{} GB'.format(round(int(memsize)/pow(1024, 2), 2))\n",
    "    return data\n",
    "\n",
    "data_list = []\n",
    "for line in lines:\n",
    "#     print(line)\n",
    "    try:\n",
    "        data_item = _handle_server_detail(line)\n",
    "        data_item['alias'] = data_item['host']\n",
    "        data_list.append(data_item)\n",
    "        print(data_item)\n",
    "    except Exception as e:\n",
    "        print(line)\n",
    "        print('解析server data 失败: {}'.format(e))"
   ]
  },
  {
   "cell_type": "code",
   "execution_count": null,
   "metadata": {},
   "outputs": [],
   "source": []
  }
 ],
 "metadata": {
  "kernelspec": {
   "display_name": "Python 3",
   "language": "python",
   "name": "python3"
  },
  "language_info": {
   "codemirror_mode": {
    "name": "ipython",
    "version": 3
   },
   "file_extension": ".py",
   "mimetype": "text/x-python",
   "name": "python",
   "nbconvert_exporter": "python",
   "pygments_lexer": "ipython3",
   "version": "3.6.4"
  }
 },
 "nbformat": 4,
 "nbformat_minor": 2
}
