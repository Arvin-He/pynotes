{
 "cells": [
  {
   "cell_type": "markdown",
   "metadata": {},
   "source": [
    "# 字符串函数"
   ]
  },
  {
   "cell_type": "markdown",
   "metadata": {},
   "source": [
    "以下函数用于对dtype为`numpy.string_`或`numpy.unicode_`的数组执行向量化字符串操作。\n",
    "\n",
    "它们基于 Python 内置库中的标准字符串函数。\n",
    "\n",
    "1.\tadd() 返回两个str或Unicode数组的逐个字符串连接\n",
    "2.\tmultiply() 返回按元素多重连接后的字符串\n",
    "3.\tcenter() 返回给定字符串的副本，其中元素位于特定字符串的中央\n",
    "4.\tcapitalize() 返回给定字符串的副本，其中只有第一个字符串大写\n",
    "5.\ttitle() 返回字符串或 Unicode 的按元素标题转换版本\n",
    "6.\tlower() 返回一个数组，其元素转换为小写\n",
    "7.\tupper() 返回一个数组，其元素转换为大写\n",
    "8.\tsplit() 返回字符串中的单词列表，并使用分隔符来分割\n",
    "9.\tsplitlines() 返回元素中的行列表，以换行符分割\n",
    "10.\tstrip() 返回数组副本，其中元素移除了开头或者结尾处的特定字符\n",
    "11.\tjoin() 返回一个字符串，它是序列中字符串的连接\n",
    "12.\treplace() 返回字符串的副本，其中所有子字符串的出现位置都被新字符串取代\n",
    "13.\tdecode() 按元素调用str.decode\n",
    "14.\tencode() 按元素调用str.encode\n",
    "\n",
    "这些函数在字符数组类（numpy.char）中定义。 较旧的 Numarray 包包含chararray类。 numpy.char类中的上述函数在执行向量化字符串操作时非常有用。"
   ]
  },
  {
   "cell_type": "markdown",
   "metadata": {},
   "source": [
    "### numpy.char.add"
   ]
  },
  {
   "cell_type": "code",
   "execution_count": 4,
   "metadata": {},
   "outputs": [
    {
     "name": "stdout",
     "output_type": "stream",
     "text": [
      "连接2个字符串\n",
      "['hello world']\n",
      "['helloabc' 'hi 123']\n"
     ]
    }
   ],
   "source": [
    "import numpy as np\n",
    "\n",
    "print('连接2个字符串')\n",
    "\n",
    "print(np.char.add(['hello'], [' world']))\n",
    "\n",
    "print(np.char.add(['hello', 'hi'], ['abc', ' 123']))"
   ]
  },
  {
   "cell_type": "markdown",
   "metadata": {},
   "source": [
    "### numpy.char.multiply:多重连接"
   ]
  },
  {
   "cell_type": "code",
   "execution_count": 5,
   "metadata": {},
   "outputs": [
    {
     "name": "stdout",
     "output_type": "stream",
     "text": [
      "HelloHelloHello\n"
     ]
    }
   ],
   "source": [
    "import numpy as np\n",
    "\n",
    "print(np.char.multiply('Hello', 3))"
   ]
  },
  {
   "cell_type": "markdown",
   "metadata": {},
   "source": [
    "### numpy.char.center"
   ]
  },
  {
   "cell_type": "markdown",
   "metadata": {},
   "source": [
    "此函数返回所需宽度的数组，以便输入字符串位于中心，并使用fillchar在左侧和右侧进行填充。"
   ]
  },
  {
   "cell_type": "code",
   "execution_count": 7,
   "metadata": {},
   "outputs": [
    {
     "name": "stdout",
     "output_type": "stream",
     "text": [
      "*******hello********\n"
     ]
    }
   ],
   "source": [
    "import numpy as np\n",
    "\n",
    "print(np.char.center('hello', 20, fillchar='*'))"
   ]
  },
  {
   "cell_type": "markdown",
   "metadata": {},
   "source": [
    "### numpy.char.capitalize"
   ]
  },
  {
   "cell_type": "markdown",
   "metadata": {},
   "source": [
    "numpy.char.capitalize: 函数返回字符串的副本，其中第一个字母大写\n"
   ]
  },
  {
   "cell_type": "code",
   "execution_count": 14,
   "metadata": {},
   "outputs": [
    {
     "name": "stdout",
     "output_type": "stream",
     "text": [
      "Hello world\n",
      "['Hello' 'World']\n"
     ]
    }
   ],
   "source": [
    "import numpy as np\n",
    "\n",
    "print(np.char.capitalize('hello world'))\n",
    "print(np.char.capitalize(['hello', 'world']))"
   ]
  },
  {
   "cell_type": "markdown",
   "metadata": {},
   "source": [
    "### numpy.char.title"
   ]
  },
  {
   "cell_type": "markdown",
   "metadata": {},
   "source": [
    "返回输入字符串的按元素标题转换版本，其中每个单词的首字母都大写。"
   ]
  },
  {
   "cell_type": "code",
   "execution_count": 9,
   "metadata": {},
   "outputs": [
    {
     "name": "stdout",
     "output_type": "stream",
     "text": [
      "Hello, How Are You?\n"
     ]
    }
   ],
   "source": [
    "import numpy as np\n",
    "\n",
    "print(np.char.title('hello, how are you?'))"
   ]
  },
  {
   "cell_type": "markdown",
   "metadata": {},
   "source": [
    "### numpy.char.lower和numpy.char.upper"
   ]
  },
  {
   "cell_type": "markdown",
   "metadata": {},
   "source": [
    "* numpy.char.lower: 函数返回一个数组，其元素转换为小写. 它对每个元素调用str.upper\n",
    "* numpy.char.upper: 函数返回一个数组，其元素转换为大写。它对每个元素调用str.upper"
   ]
  },
  {
   "cell_type": "code",
   "execution_count": 15,
   "metadata": {},
   "outputs": [
    {
     "name": "stdout",
     "output_type": "stream",
     "text": [
      "['hello' 'world']\n",
      "hello\n",
      "HELLO\n",
      "['HELLO' 'WORLD']\n"
     ]
    }
   ],
   "source": [
    "print(np.char.lower(['HELLO','WORLD']))\n",
    "print(np.char.lower('HELLO'))\n",
    "\n",
    "print(np.char.upper('hello'))\n",
    "print(np.char.upper(['hello','world']))"
   ]
  },
  {
   "cell_type": "markdown",
   "metadata": {},
   "source": [
    "### numpy.char.split"
   ]
  },
  {
   "cell_type": "markdown",
   "metadata": {},
   "source": [
    "此函数返回输入字符串中的单词列表。 默认情况下，空格用作分隔符。 否则，指定的分隔符字符用于分割字符串。"
   ]
  },
  {
   "cell_type": "code",
   "execution_count": 16,
   "metadata": {},
   "outputs": [
    {
     "name": "stdout",
     "output_type": "stream",
     "text": [
      "['hello', 'how', 'are', 'you?']\n",
      "['TutorialsPoint', 'Hyderabad', 'Telangana']\n"
     ]
    }
   ],
   "source": [
    "import numpy as np \n",
    "print(np.char.split ('hello how are you?'))\n",
    "print(np.char.split ('TutorialsPoint,Hyderabad,Telangana', sep = ','))"
   ]
  },
  {
   "cell_type": "markdown",
   "metadata": {},
   "source": [
    "### numpy.char.splitlines"
   ]
  },
  {
   "cell_type": "markdown",
   "metadata": {},
   "source": [
    "函数返回数组中元素的单词列表，以换行符分割。\n",
    "\n",
    "注意: '\\n'，'\\r'，'\\r\\n'都会用作换行符。"
   ]
  },
  {
   "cell_type": "code",
   "execution_count": 18,
   "metadata": {},
   "outputs": [
    {
     "name": "stdout",
     "output_type": "stream",
     "text": [
      "['hello', 'how are you?', 'and you?']\n"
     ]
    }
   ],
   "source": [
    "import numpy as np \n",
    "print(np.char.splitlines('hello\\nhow are you?\\nand you?'))"
   ]
  },
  {
   "cell_type": "markdown",
   "metadata": {},
   "source": [
    "### numpy.char.strip"
   ]
  },
  {
   "cell_type": "markdown",
   "metadata": {},
   "source": [
    "函数返回数组的副本，其中元素移除了开头或结尾处的特定字符。"
   ]
  },
  {
   "cell_type": "code",
   "execution_count": 20,
   "metadata": {},
   "outputs": [
    {
     "name": "stdout",
     "output_type": "stream",
     "text": [
      "hello world\n",
      "shok aror\n",
      "['ror' 'dmin' 'jav']\n"
     ]
    }
   ],
   "source": [
    "import numpy as np \n",
    "print(np.char.strip(' hello world '))\n",
    "print(np.char.strip('ashok arora','a'))\n",
    "print(np.char.strip(['arora','admin','java'],'a'))\n"
   ]
  },
  {
   "cell_type": "markdown",
   "metadata": {},
   "source": [
    "### numpy.char.join"
   ]
  },
  {
   "cell_type": "markdown",
   "metadata": {},
   "source": [
    "这个函数返回一个字符串，其中单个字符由特定的分隔符连接。"
   ]
  },
  {
   "cell_type": "code",
   "execution_count": 21,
   "metadata": {},
   "outputs": [
    {
     "name": "stdout",
     "output_type": "stream",
     "text": [
      "d:m:y\n",
      "['d:m:y' 'y-m-d']\n"
     ]
    }
   ],
   "source": [
    "import numpy as np \n",
    "print(np.char.join(':','dmy'))\n",
    "print(np.char.join([':','-'],['dmy','ymd']))"
   ]
  },
  {
   "cell_type": "markdown",
   "metadata": {},
   "source": [
    "### numpy.char.replace"
   ]
  },
  {
   "cell_type": "markdown",
   "metadata": {},
   "source": [
    "这个函数返回字符串副本，其中所有字符序列的出现位置都被另一个给定的字符序列取代。"
   ]
  },
  {
   "cell_type": "code",
   "execution_count": 22,
   "metadata": {},
   "outputs": [
    {
     "name": "stdout",
     "output_type": "stream",
     "text": [
      "He was a good boy\n"
     ]
    }
   ],
   "source": [
    "import numpy as np \n",
    "print(np.char.replace('He is a good boy', 'is', 'was'))"
   ]
  },
  {
   "cell_type": "markdown",
   "metadata": {},
   "source": [
    "### numpy.char.decode 和 numpy.char.encode"
   ]
  },
  {
   "cell_type": "markdown",
   "metadata": {},
   "source": [
    "* numpy.char.decode: 这个函数在给定的字符串中使用特定编码调用str.decode()。\n",
    "* numpy.char.encode: 此函数对数组中的每个元素调用str.encode函数。 默认编码是utf_8，可以使用标准 Python 库中的编解码器。"
   ]
  },
  {
   "cell_type": "code",
   "execution_count": 23,
   "metadata": {},
   "outputs": [
    {
     "name": "stdout",
     "output_type": "stream",
     "text": [
      "b'\\x88\\x85\\x93\\x93\\x96'\n",
      "hello\n"
     ]
    }
   ],
   "source": [
    "import numpy as np \n",
    "\n",
    "a = np.char.encode('hello', 'cp500') \n",
    "print(a) \n",
    "print(np.char.decode(a,'cp500'))"
   ]
  }
 ],
 "metadata": {
  "kernelspec": {
   "display_name": "Python 3",
   "language": "python",
   "name": "python3"
  },
  "language_info": {
   "codemirror_mode": {
    "name": "ipython",
    "version": 3
   },
   "file_extension": ".py",
   "mimetype": "text/x-python",
   "name": "python",
   "nbconvert_exporter": "python",
   "pygments_lexer": "ipython3",
   "version": "3.6.4"
  }
 },
 "nbformat": 4,
 "nbformat_minor": 2
}
