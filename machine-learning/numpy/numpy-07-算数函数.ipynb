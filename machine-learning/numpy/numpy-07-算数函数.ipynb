{
 "cells": [
  {
   "cell_type": "markdown",
   "metadata": {},
   "source": [
    "# 算数函数"
   ]
  },
  {
   "cell_type": "markdown",
   "metadata": {},
   "source": [
    "NumPy 包含大量的各种数学运算功能。 \n",
    "\n",
    "NumPy 提供标准的三角函数，算术运算的函数，复数处理函数等。"
   ]
  },
  {
   "cell_type": "markdown",
   "metadata": {},
   "source": [
    "## 三角函数"
   ]
  },
  {
   "cell_type": "markdown",
   "metadata": {},
   "source": [
    "NumPy 拥有标准的三角函数，它为弧度制单位的给定角度返回三角函数比值.\n",
    "* 三角函数: sin , cos, tan\n",
    "* 反三角函数: arcsin, arccos, arctan\n",
    "\n",
    "arcsin，arccos，和arctan函数返回给定角度的sin，cos和tan的反三角函数。 这些函数的结果可以通过numpy.degrees()函数通过将弧度制转换为角度制来验证"
   ]
  },
  {
   "cell_type": "code",
   "execution_count": 5,
   "metadata": {},
   "outputs": [
    {
     "name": "stdout",
     "output_type": "stream",
     "text": [
      "不同角度的正弦值:\n",
      "[0.         0.5        0.70710678 0.8660254  1.        ]\n",
      "计算角度的反正弦，返回值以弧度为单位：\n",
      "[0.         0.52359878 0.78539816 1.04719755 1.57079633]\n",
      "通过转化为角度制来检查结果：\n",
      "[ 0. 30. 45. 60. 90.]\n",
      "不同角度的余弦值:\n",
      "[1.00000000e+00 8.66025404e-01 7.07106781e-01 5.00000000e-01\n",
      " 6.12323400e-17]\n",
      "计算角度的反余弦，返回值以弧度为单位：\n",
      "[0.         0.52359878 0.78539816 1.04719755 1.57079633]\n",
      "通过转化为角度制来检查结果：\n",
      "[ 0. 30. 45. 60. 90.]\n",
      "不同角度的正切值:\n",
      "[0.00000000e+00 5.77350269e-01 1.00000000e+00 1.73205081e+00\n",
      " 1.63312394e+16]\n",
      "计算角度的反正切，返回值以弧度为单位：\n",
      "[0.         0.52359878 0.78539816 1.04719755 1.57079633]\n",
      "通过转化为角度制来检查结果：\n",
      "[ 0. 30. 45. 60. 90.]\n"
     ]
    }
   ],
   "source": [
    "import numpy as np\n",
    "\n",
    "a = np.array([0, 30, 45, 60, 90])\n",
    "print('不同角度的正弦值:')\n",
    "sin = np.sin(a*np.pi/180)\n",
    "print(sin)\n",
    "print('计算角度的反正弦，返回值以弧度为单位：')\n",
    "inv = np.arcsin(sin)\n",
    "print(inv)\n",
    "print('通过转化为角度制来检查结果：')\n",
    "print(np.degrees(inv))\n",
    "\n",
    "print('不同角度的余弦值:')\n",
    "cos = np.cos(a*np.pi/180)\n",
    "print(cos)\n",
    "print('计算角度的反余弦，返回值以弧度为单位：')\n",
    "inv = np.arccos(cos)\n",
    "print(inv)\n",
    "print('通过转化为角度制来检查结果：')\n",
    "print(np.degrees(inv))\n",
    "\n",
    "print('不同角度的正切值:')\n",
    "tan = np.tan(a*np.pi/180)\n",
    "print(tan)\n",
    "print('计算角度的反正切，返回值以弧度为单位：')\n",
    "inv = np.arctan(tan)\n",
    "print(inv)\n",
    "print('通过转化为角度制来检查结果：')\n",
    "print(np.degrees(inv))"
   ]
  },
  {
   "cell_type": "markdown",
   "metadata": {},
   "source": [
    "## 舍入函数"
   ]
  },
  {
   "cell_type": "markdown",
   "metadata": {},
   "source": [
    "### numpy.around"
   ]
  },
  {
   "cell_type": "markdown",
   "metadata": {},
   "source": [
    "`numpy.around(a,decimals)`: 这个函数返回四舍五入到所需精度的值。 该函数接受以下参数。\n",
    "\n",
    "* a 输入数组\n",
    "* decimals 要舍入的小数位数。 默认值为0。 如果为负，整数将四舍五入到小数点左侧的位置"
   ]
  },
  {
   "cell_type": "code",
   "execution_count": 6,
   "metadata": {},
   "outputs": [
    {
     "name": "stdout",
     "output_type": "stream",
     "text": [
      "原数组:\n",
      "[  1.      5.55  123.      0.567  25.532]\n",
      "舍入后:\n",
      "[  1.   6. 123.   1.  26.]\n",
      "[  1.    5.6 123.    0.6  25.5]\n",
      "[  0.  10. 120.   0.  30.]\n"
     ]
    }
   ],
   "source": [
    "import numpy as np\n",
    "\n",
    "a = np.array([1.0, 5.55, 123, 0.567, 25.532])\n",
    "print('原数组:')\n",
    "print(a)\n",
    "print('舍入后:')\n",
    "print(np.round(a))\n",
    "print(np.round(a, decimals=1))\n",
    "print(np.round(a, decimals=-1))"
   ]
  },
  {
   "cell_type": "markdown",
   "metadata": {},
   "source": [
    "### numpy.floor"
   ]
  },
  {
   "cell_type": "markdown",
   "metadata": {},
   "source": [
    "此函数返回不大于输入参数的最大整数。 即标量x 的下限是最大的整数i ，使得i <= x。 \n",
    "\n",
    "注意: 在Python中，向下取整总是从 0 舍入。"
   ]
  },
  {
   "cell_type": "code",
   "execution_count": 7,
   "metadata": {},
   "outputs": [
    {
     "name": "stdout",
     "output_type": "stream",
     "text": [
      "原数组:\n",
      "[-1.7  1.5 -0.2  0.6  5. ]\n",
      "floor后的数组:\n",
      "[-2.  1. -1.  0.  5.]\n"
     ]
    }
   ],
   "source": [
    "import numpy as np\n",
    "\n",
    "a = np.array([-1.7, 1.5, -0.2, 0.6, 5])\n",
    "\n",
    "print('原数组:')\n",
    "print(a)\n",
    "print('floor后的数组:')\n",
    "print(np.floor(a))"
   ]
  },
  {
   "cell_type": "markdown",
   "metadata": {},
   "source": [
    "### numpy.ceil"
   ]
  },
  {
   "cell_type": "markdown",
   "metadata": {},
   "source": [
    "ceil()函数返回输入值的上限，即，标量x的上限是最小的整数i ，使得i> = x。"
   ]
  },
  {
   "cell_type": "code",
   "execution_count": 8,
   "metadata": {},
   "outputs": [
    {
     "name": "stdout",
     "output_type": "stream",
     "text": [
      "原数组:\n",
      "[-1.7  1.5 -0.2  0.6  5. ]\n",
      "ceil后的数组:\n",
      "[-1.  2. -0.  1.  5.]\n"
     ]
    }
   ],
   "source": [
    "import numpy as np\n",
    "\n",
    "a = np.array([-1.7, 1.5, -0.2, 0.6, 5])\n",
    "\n",
    "print('原数组:')\n",
    "print(a)\n",
    "print('ceil后的数组:')\n",
    "print(np.ceil(a))"
   ]
  },
  {
   "cell_type": "code",
   "execution_count": null,
   "metadata": {},
   "outputs": [],
   "source": []
  }
 ],
 "metadata": {
  "kernelspec": {
   "display_name": "Python 3",
   "language": "python",
   "name": "python3"
  },
  "language_info": {
   "codemirror_mode": {
    "name": "ipython",
    "version": 3
   },
   "file_extension": ".py",
   "mimetype": "text/x-python",
   "name": "python",
   "nbconvert_exporter": "python",
   "pygments_lexer": "ipython3",
   "version": "3.6.4"
  }
 },
 "nbformat": 4,
 "nbformat_minor": 2
}
