{
 "cells": [
  {
   "cell_type": "markdown",
   "metadata": {},
   "source": [
    "# 算数函数"
   ]
  },
  {
   "cell_type": "markdown",
   "metadata": {},
   "source": [
    "NumPy 包含大量的各种数学运算功能。 \n",
    "\n",
    "NumPy 提供标准的三角函数，算术运算的函数，复数处理函数等。"
   ]
  },
  {
   "cell_type": "markdown",
   "metadata": {},
   "source": [
    "## 三角函数"
   ]
  },
  {
   "cell_type": "markdown",
   "metadata": {},
   "source": [
    "NumPy 拥有标准的三角函数，它为弧度制单位的给定角度返回三角函数比值.\n",
    "* 三角函数: sin , cos, tan\n",
    "* 反三角函数: arcsin, arccos, arctan\n",
    "\n",
    "arcsin，arccos，和arctan函数返回给定角度的sin，cos和tan的反三角函数。 这些函数的结果可以通过numpy.degrees()函数通过将弧度制转换为角度制来验证"
   ]
  },
  {
   "cell_type": "code",
   "execution_count": 4,
   "metadata": {},
   "outputs": [
    {
     "name": "stdout",
     "output_type": "stream",
     "text": [
      "不同角度的正弦值:\n",
      "[0.         0.5        0.70710678 0.8660254  1.        ]\n",
      "计算角度的反正弦，返回值以弧度为单位：\n",
      "[0.         0.52359878 0.78539816 1.04719755 1.57079633]\n",
      "通过转化为角度制来检查结果：\n",
      "[ 0. 30. 45. 60. 90.]\n",
      "不同角度的余弦值:\n",
      "[1.00000000e+00 8.66025404e-01 7.07106781e-01 5.00000000e-01\n",
      " 6.12323400e-17]\n",
      "不同角度的正切值:\n",
      "[0.00000000e+00 5.77350269e-01 1.00000000e+00 1.73205081e+00\n",
      " 1.63312394e+16]\n"
     ]
    }
   ],
   "source": [
    "import numpy as np\n",
    "\n",
    "a = np.array([0, 30, 45, 60, 90])\n",
    "print('不同角度的正弦值:')\n",
    "sin = np.sin(a*np.pi/180)\n",
    "print(sin)\n",
    "print('计算角度的反正弦，返回值以弧度为单位：')\n",
    "inv = np.arcsin(sin)\n",
    "print(inv)\n",
    "print('通过转化为角度制来检查结果：')\n",
    "print(np.degrees(inv))\n",
    "print('不同角度的余弦值:')\n",
    "print(np.cos(a*np.pi/180))\n",
    "print('不同角度的正切值:')\n",
    "print(np.tan(a*np.pi/180))"
   ]
  },
  {
   "cell_type": "code",
   "execution_count": null,
   "metadata": {},
   "outputs": [],
   "source": []
  }
 ],
 "metadata": {
  "kernelspec": {
   "display_name": "Python 3",
   "language": "python",
   "name": "python3"
  },
  "language_info": {
   "codemirror_mode": {
    "name": "ipython",
    "version": 3
   },
   "file_extension": ".py",
   "mimetype": "text/x-python",
   "name": "python",
   "nbconvert_exporter": "python",
   "pygments_lexer": "ipython3",
   "version": "3.6.4"
  }
 },
 "nbformat": 4,
 "nbformat_minor": 2
}
