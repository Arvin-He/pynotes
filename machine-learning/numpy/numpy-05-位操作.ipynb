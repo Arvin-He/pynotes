{
 "cells": [
  {
   "cell_type": "markdown",
   "metadata": {},
   "source": [
    "# numpy位操作"
   ]
  },
  {
   "cell_type": "markdown",
   "metadata": {},
   "source": [
    "### 位操作函数"
   ]
  },
  {
   "cell_type": "markdown",
   "metadata": {},
   "source": [
    "1.\tbitwise_and 对数组元素执行位与操作\n",
    "2.\tbitwise_or 对数组元素执行位或操作\n",
    "3.\tinvert 计算位非\n",
    "4.\tleft_shift 向左移动二进制表示的位\n",
    "5.\tright_shift 向右移动二进制表示的位"
   ]
  },
  {
   "cell_type": "markdown",
   "metadata": {},
   "source": [
    "### bitwise_and 和 bitwise_or"
   ]
  },
  {
   "cell_type": "code",
   "execution_count": 2,
   "metadata": {},
   "outputs": [
    {
     "name": "stdout",
     "output_type": "stream",
     "text": [
      "13 和 17 的二进制形式：\n",
      "0b1101 0b10001\n",
      "13 和 17 的位与：\n",
      "1\n",
      "13 和 17 的位或：\n",
      "29\n"
     ]
    }
   ],
   "source": [
    "import numpy as np\n",
    "\n",
    "print('13 和 17 的二进制形式：' )\n",
    "a,b = 13,17 \n",
    "print(bin(a), bin(b))\n",
    "print('13 和 17 的位与：' )\n",
    "print(np.bitwise_and(13, 17))\n",
    "print('13 和 17 的位或：' )\n",
    "print(np.bitwise_or(13, 17))"
   ]
  },
  {
   "cell_type": "markdown",
   "metadata": {},
   "source": [
    "### invert"
   ]
  },
  {
   "cell_type": "markdown",
   "metadata": {},
   "source": [
    "此函数计算输入数组中整数的位非结果。 对于有符号整数，返回补码。\n",
    "\n",
    "注意，`np.binary_repr()`函数返回给定宽度中十进制数的二进制表示。"
   ]
  },
  {
   "cell_type": "code",
   "execution_count": 9,
   "metadata": {},
   "outputs": [
    {
     "name": "stdout",
     "output_type": "stream",
     "text": [
      "13 的位反转，其中 ndarray 的 dtype 是 uint8：\n",
      "[242]\n",
      "13的二进制表示:\n",
      "00001101\n",
      "242的二进制表示:\n",
      "11110010\n"
     ]
    }
   ],
   "source": [
    "import numpy as np\n",
    "\n",
    "print('13 的位反转，其中 ndarray 的 dtype 是 uint8：' )\n",
    "print(np.invert(np.array([13], dtype=np.uint8)))\n",
    "\n",
    "print('13的二进制表示:')\n",
    "print(np.binary_repr(13, width=8))\n",
    "\n",
    "print('242的二进制表示:')\n",
    "print(np.binary_repr(242, width=8))"
   ]
  },
  {
   "cell_type": "markdown",
   "metadata": {},
   "source": [
    "### left_shift 和 right_shift"
   ]
  },
  {
   "cell_type": "code",
   "execution_count": 12,
   "metadata": {},
   "outputs": [
    {
     "name": "stdout",
     "output_type": "stream",
     "text": [
      "将 10 左移两位：\n",
      "40\n",
      "10 的二进制表示：\n",
      "00001010\n",
      "40 的二进制表示：\n",
      "00101000\n",
      "将 40 右移两位：\n",
      "10\n",
      "40 的二进制表示：\n",
      "00101000\n",
      "10 的二进制表示：\n",
      "00001010\n"
     ]
    }
   ],
   "source": [
    "import numpy as np \n",
    "\n",
    "print('将 10 左移两位：')\n",
    "print(np.left_shift(10,2))\n",
    "\n",
    "print('10 的二进制表示：')\n",
    "print(np.binary_repr(10, width = 8))\n",
    "\n",
    "print('40 的二进制表示：')\n",
    "print(np.binary_repr(40, width = 8))\n",
    "\n",
    "print('将 40 右移两位：')\n",
    "print(np.right_shift(40,2))\n",
    "\n",
    "print('40 的二进制表示：')\n",
    "print(np.binary_repr(40, width = 8))\n",
    "\n",
    "print('10 的二进制表示：')\n",
    "print(np.binary_repr(10, width = 8))"
   ]
  }
 ],
 "metadata": {
  "kernelspec": {
   "display_name": "Python 3",
   "language": "python",
   "name": "python3"
  },
  "language_info": {
   "codemirror_mode": {
    "name": "ipython",
    "version": 3
   },
   "file_extension": ".py",
   "mimetype": "text/x-python",
   "name": "python",
   "nbconvert_exporter": "python",
   "pygments_lexer": "ipython3",
   "version": "3.6.4"
  }
 },
 "nbformat": 4,
 "nbformat_minor": 2
}
