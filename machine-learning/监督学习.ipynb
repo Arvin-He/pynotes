{
 "cells": [
  {
   "cell_type": "markdown",
   "metadata": {},
   "source": [
    "# 监督学习 "
   ]
  },
  {
   "cell_type": "markdown",
   "metadata": {},
   "source": [
    "## 基本概念 "
   ]
  },
  {
   "cell_type": "markdown",
   "metadata": {},
   "source": [
    "监督学习的目标是，当获得X已知Y未知的新样本时，尽可能准确地预测Y。下面我们会探索多种最常见的方法。\n",
    "\n",
    "监督学习的两个任务：回归和分类\n",
    "\n",
    "回归：预测连续数值。某个房子售价是多少？\n",
    "\n",
    "分类：分配标签。某幅画是猫还是狗？\n",
    "\n",
    "收入的预测是个经典的回归问题。你的输入数据X包含所有数据集中的个体的相关信息，可以用于预测收入，例如教育年数、工作年数、职位、或者邮政编码。这些属性叫做特征\n",
    "\n",
    "数据分为训练集和测试集。训练集拥有标签，所以你的模型可以从这些带标签的样本中学习。测试集不带标签，也就是，你还不知道你尝试预测的值。你的模型可以推广到从未见过的情况，以便它在测试数据上表现良好，这个十分重要。\n",
    "\n",
    "回归\n",
    "\n",
    "Y = f(X) + ϵ，其中X = (x1, x2 … xn)\n",
    "\n",
    "训练：机器从带标签的训练数据习得f\n",
    "\n",
    "测试：机器从不带标签的测试数据预测Y\n",
    "\n",
    "要注意，X可以是个张量，它的维度可以是任意的。一维张量是向量（一行多列），二维张量是矩阵（多行多列）。你也可以拥有三、四、五甚至更高维的张量（例如三维张量拥有行、列和深度）。"
   ]
  },
  {
   "cell_type": "markdown",
   "metadata": {},
   "source": [
    "## 线性回归 （普通最小二乘）"
   ]
  },
  {
   "cell_type": "markdown",
   "metadata": {},
   "source": [
    "普通最小二乘（OLS）的目标是，习得一个线性模型，如果我们得到了一个未见过的x，我们可以用它来预测新的y，并且误差尽可能小。"
   ]
  }
 ],
 "metadata": {
  "kernelspec": {
   "display_name": "Python 3",
   "language": "python",
   "name": "python3"
  },
  "language_info": {
   "codemirror_mode": {
    "name": "ipython",
    "version": 3
   },
   "file_extension": ".py",
   "mimetype": "text/x-python",
   "name": "python",
   "nbconvert_exporter": "python",
   "pygments_lexer": "ipython3",
   "version": "3.6.4"
  }
 },
 "nbformat": 4,
 "nbformat_minor": 2
}
