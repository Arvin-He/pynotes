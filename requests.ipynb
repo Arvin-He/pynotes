{
 "cells": [
  {
   "cell_type": "markdown",
   "metadata": {},
   "source": [
    "# requests使用"
   ]
  },
  {
   "cell_type": "markdown",
   "metadata": {},
   "source": [
    "### POST数据"
   ]
  },
  {
   "cell_type": "code",
   "execution_count": 34,
   "metadata": {},
   "outputs": [],
   "source": [
    "import requests\n",
    "\n",
    "url = 'http://127.0.0.1:8760/api/portal'\n",
    "payload = {\"organization_id\":\"1a84f6714f524c65b3e82fc4400276c4\",\n",
    "        \"ent_code\":\"paypals\",\n",
    "        \"product_code\":\"sms\",\n",
    "        \"amount\":\"1\",\n",
    "        \"type\":\"renew\",\n",
    "        \"ent_name\":\"XXXXX\",\n",
    "        \"account_id\":57,\n",
    "        \"account_name\":\"admin@paypals.com\",\n",
    "        \"product_specification_info\":{\n",
    "            \"fee_type\":\"count\",\n",
    "            \"specification_id\":37,\n",
    "            \"specification_no\":\"sms-standard\"}\n",
    "       }\n",
    "\n",
    "\n",
    "res = requests.post(url, data=payload, timeout=5)\n",
    "\n",
    "# res = requests.post(url, json=payload, timeout=5)"
   ]
  },
  {
   "cell_type": "code",
   "execution_count": 31,
   "metadata": {},
   "outputs": [
    {
     "name": "stdout",
     "output_type": "stream",
     "text": [
      "<Response [200]>\n"
     ]
    }
   ],
   "source": [
    "import requests\n",
    "\n",
    "url = 'http://127.0.0.1:8760/api/portal/auth?token=930a53bd-f95a-40b3-80d9-3335ab2d06da'\n",
    "\n",
    "res = requests.get(url, timeout=5)\n",
    "\n",
    "print(res)"
   ]
  },
  {
   "cell_type": "markdown",
   "metadata": {},
   "source": [
    "### url加上端口号处理"
   ]
  },
  {
   "cell_type": "code",
   "execution_count": 3,
   "metadata": {},
   "outputs": [
    {
     "name": "stdout",
     "output_type": "stream",
     "text": [
      "https://www.baidu.com:80/item?path=332&path2=234\n",
      "http://www.baidu.com:80/link?url=WZ5GSTSsp43ne_EK0qfloXv3OxzjEmaE4ff0zYGNtOLvU7mtmtI0WXjnSHd63Kth2y15j-Fprw1uvezKBfMnd_\n"
     ]
    }
   ],
   "source": [
    "from urllib.parse import urlparse, urljoin, urlunparse\n",
    "\n",
    "URL= 'https://www.baidu.com:80/item?path=332&path2=234'\n",
    "\n",
    "url2 = 'http://www.baidu.com/link?url=WZ5GSTSsp43ne_EK0qfloXv3OxzjEmaE4ff0zYGNtOLvU7mtmtI0WXjnSHd63Kth2y15j-Fprw1uvezKBfMnd_'\n",
    "\n",
    "def handle_url(url):\n",
    "    url_obj = urlparse(url)\n",
    "    if url_obj.port is None:\n",
    "        if url_obj.scheme == 'http':\n",
    "            new_netloc = url_obj.netloc + ':80'\n",
    "        elif url_obj.scheme == 'https':\n",
    "            new_netloc = url_obj.netloc + ':443'\n",
    "        else:\n",
    "            new_netloc = url_obj.netloc\n",
    "    else:\n",
    "        new_netloc = url_obj.netloc\n",
    "    new_url = urlunparse((url_obj.scheme, new_netloc, url_obj.path, url_obj.params, url_obj.query, None))\n",
    "    return new_url\n",
    "\n",
    "print(handle_url(URL))\n",
    "print(handle_url(url2))"
   ]
  },
  {
   "cell_type": "markdown",
   "metadata": {},
   "source": [
    "### url类型分类"
   ]
  },
  {
   "cell_type": "code",
   "execution_count": 11,
   "metadata": {},
   "outputs": [
    {
     "name": "stdout",
     "output_type": "stream",
     "text": [
      "JS\n",
      "CSS\n",
      "PHP\n",
      "HTML\n",
      "HTML\n",
      "HTML\n",
      "HTML\n",
      "JSP\n",
      "ASP\n",
      "ASPX\n",
      "HTML\n",
      "ASPX\n"
     ]
    }
   ],
   "source": [
    "URL_LIST = [\n",
    "    \"http://www.qq.com/1.js\",\n",
    "    \"http://www.qq.com/1.css\",\n",
    "    \"http://www.qq.com/1.php\",\n",
    "    \"http://www.qq.com/1.html\",\n",
    "    \"http://www.qq.com/1.htm\",\n",
    "    \"http://www.qq.com/1.jhtml\",\n",
    "    \"http://www.qq.com/1.xhtml\",\n",
    "    \"http://www.qq.com/1.jsp\",\n",
    "    \"http://www.qq.com/1.asp\",\n",
    "    \"http://www.qq.com/1.aspx\",\n",
    "    \"http://www.qq.com/1/\",\n",
    "    \"http://www.qq.com/1.aspx/\",\n",
    "]\n",
    "\n",
    "def handle_url_type(url):\n",
    "    suffixes = ['.css', '.js', '.php', '.jsp', '.asp', '.aspx']\n",
    "    url_suffix = url[url.rfind('.'):-1] if url.endswith('/') else url[url.rfind('.'):]\n",
    "    if url_suffix and url_suffix.lower() in suffixes:\n",
    "        return url_suffix.upper()[1:]\n",
    "    else:\n",
    "        return 'HTML'\n",
    "\n",
    "for url in URL_LIST:\n",
    "    print(handle_url_type(url))"
   ]
  },
  {
   "cell_type": "code",
   "execution_count": 19,
   "metadata": {},
   "outputs": [
    {
     "name": "stdout",
     "output_type": "stream",
     "text": [
      "http://www.baidu.com/gaoji/preferences.html\n",
      "[]\n"
     ]
    }
   ],
   "source": [
    "import requests\n",
    "from pprint import pprint\n",
    "\n",
    "HEADER = {\n",
    "    'User-Agent': \"Mozilla/5.0 (Windows; U; Windows NT 5.1; en-US; rv:1.8.1.2pre) Gecko/20070215 K-Ninja/2.1.1\",\n",
    "    'Accept-Language': 'en-US,en;q=0.5',\n",
    "    'Accept-Encoding': 'gzip, deflate'\n",
    "}\n",
    "URL = 'http://www.baidu.com/gaoji/preferences.html'\n",
    "\n",
    "r = requests.get(URL, headers=HEADER, proxies={\"https\":\"https://182.88.214.213:9797\",\n",
    "                                              \"http\":\"http://122.224.227.202:3128\"},timeout=20)\n",
    "\n",
    "print(r.url)\n",
    "# pprint(r.content)\n",
    "pprint(r.history)\n"
   ]
  },
  {
   "cell_type": "code",
   "execution_count": 4,
   "metadata": {},
   "outputs": [
    {
     "name": "stdout",
     "output_type": "stream",
     "text": [
      "404\n",
      "b'<!DOCTYPE HTML PUBLIC \"-//IETF//DTD HTML 2.0//EN\">\\n<html><head>\\n<title>404 Not Found</title>\\n</head><body>\\n<h1>Not Found</h1>\\n<p>The requested URL /404/ was not found on this server.</p>\\n</body></html>\\n'\n",
      "<!DOCTYPE HTML PUBLIC \"-//IETF//DTD HTML 2.0//EN\">\n",
      "<html><head>\n",
      "<title>404 Not Found</title>\n",
      "</head><body>\n",
      "<h1>Not Found</h1>\n",
      "<p>The requested URL /404/ was not found on this server.</p>\n",
      "</body></html>\n",
      "\n"
     ]
    }
   ],
   "source": [
    "import requests\n",
    "header = {\n",
    "    'User-Agent': \"Mozilla/5.0 (Windows NT 6.1; WOW64) AppleWebKit/537.11 (KHTML, like Gecko) Chrome/23.0.1271.64 Safari/537.11\",\n",
    "    'Accept-Language': 'en-US,en;q=0.5',\n",
    "    'Accept-Encoding': 'gzip, deflate'\n",
    "}\n",
    "\n",
    "resp = requests.get('http://rocketship.com.au/404/', timeout=8, headers=header)\n",
    "\n",
    "print(resp.status_code)\n",
    "print(resp.content)\n",
    "print(resp.text)"
   ]
  },
  {
   "cell_type": "code",
   "execution_count": null,
   "metadata": {},
   "outputs": [],
   "source": []
  }
 ],
 "metadata": {
  "kernelspec": {
   "display_name": "Python 3",
   "language": "python",
   "name": "python3"
  },
  "language_info": {
   "codemirror_mode": {
    "name": "ipython",
    "version": 3
   },
   "file_extension": ".py",
   "mimetype": "text/x-python",
   "name": "python",
   "nbconvert_exporter": "python",
   "pygments_lexer": "ipython3",
   "version": "3.6.4"
  }
 },
 "nbformat": 4,
 "nbformat_minor": 2
}
