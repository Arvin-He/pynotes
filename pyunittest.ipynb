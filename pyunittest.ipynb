{
 "cells": [
  {
   "cell_type": "markdown",
   "metadata": {},
   "source": [
    "# 单元测试"
   ]
  },
  {
   "cell_type": "markdown",
   "metadata": {},
   "source": [
    "### 单元测试简介"
   ]
  },
  {
   "cell_type": "markdown",
   "metadata": {},
   "source": [
    "单元测试（又称为模块测试, Unit Testing）是针对程序模块（软件设计的最小单位）来进行正确性检验的测试工作。程序单元是应用的最小可测试部件。在过程化编程中，一个单元就是单个程序、函数、过程等；对于面向对象编程，最小单元就是方法，包括基类（超类）、抽象类、或者派生类（子类）中的方法。\n",
    "\n",
    "单元测试是整个以测试为中心的开发策略中(TDD)的一个重要部分。\n",
    "\n",
    "编写单元测试应该安排在项目的早期，同时要让它随同代码及需求变更一起更新。\n",
    "\n",
    "任何时间编写单元测试都是有好处的。"
   ]
  },
  {
   "cell_type": "markdown",
   "metadata": {},
   "source": [
    "### 单元测试优点"
   ]
  },
  {
   "cell_type": "markdown",
   "metadata": {},
   "source": [
    "* 确保代码质量, 改善代码设计，难以测试的代码一般是设计不够简洁的代码。\n",
    "* 在编写代码之前，通过编写单元测试来强迫你使用有用的方式细化你的需求。\n",
    "* 在编写代码时，单元测试可以使你避免过度编码。当所有测试用例通过时，实现的方法就完成了。\n",
    "* 重构代码时，单元测试用例有助于证明新版本的代码跟老版本功能是一致的。\n",
    "* 保证重构不会引入新问题，以函数为单位进行重构的时候，只需要重新跑测试就基本可以保证重构没引入新问题。\n",
    "* 维护代码期间，如果有人对你大喊：你最新的代码修改破坏了原有代码的状态，那么此时单元测试可以帮助你反驳。\n",
    "* 在团队编码中，缜密的测试套件可以降低你的代码影响别人代码的机会，这是因为你需要优先执行别人的单元测试用例。"
   ]
  },
  {
   "cell_type": "markdown",
   "metadata": {},
   "source": [
    "### python中的单元测试框架"
   ]
  },
  {
   "cell_type": "markdown",
   "metadata": {},
   "source": [
    "* unittest\n",
    "\n",
    "    python自带的单元测试库，开箱即用, 它的API跟Java的JUnit、.net的NUnit，C++的CppUnit很相似。\n",
    "    \n",
    "    unittest的详细文档: [https://docs.python.org/2/library/unittest.html]\n",
    "\n",
    "\n",
    "* unittest2\n",
    "\n",
    "    加强版的单元测试框架，适用于Python 2.7以及后续版本,对API进行了改善以及更好的诊断语法。\n",
    "    \n",
    "    unittest2的详细文档：[https://pypi.python.org/pypi/unitt]\n",
    "\n",
    "\n",
    "* pytest (2.4k stars)\n",
    "\n",
    "    成熟且功能强大的单元测试框架\n",
    "    \n",
    "    pytest的详细文档: [https://docs.pytest.org/en/latest/]\n",
    " \n",
    " \n",
    "* nose (1.2k stars)\n",
    "\n",
    "    Nose是对unittest的扩展，使得python的测试更加简单。\n",
    "    \n",
    "    nose自动发现测试代码并执行，nose提供了大量的插件，比如测试输出的xUnitcompatible，覆盖报表等等。\n",
    "    \n",
    "    注意：nose本身是支持python3的，但是很多它的插件不支持。\n",
    "    \n",
    "    nose的详细文档：https://nose.readthedocs.org/en/latest/\n",
    " \n",
    " \n",
    "* tox\n",
    "\n",
    "    自动化测试环境的管理以及使用多个解析器配置进行测试\n",
    "    \n",
    "    tox的详细文档：[http://testrun.org/tox/latest/]\n",
    " \n",
    " \n",
    "* mock\n",
    "\n",
    "    mock是用来测试python的库。在python3.3版本以后，这个是一个标准库\n",
    "    \n",
    "    mock的详细文档：[http://www.voidspace.org.uk/python/mock/]\n",
    "    \n",
    "    \n",
    "推荐使用pytest或nose"
   ]
  },
  {
   "cell_type": "markdown",
   "metadata": {},
   "source": [
    "### pytest使用"
   ]
  },
  {
   "cell_type": "markdown",
   "metadata": {},
   "source": [
    "#### pytest安装"
   ]
  },
  {
   "cell_type": "code",
   "execution_count": null,
   "metadata": {},
   "outputs": [],
   "source": [
    "pip install pytest"
   ]
  },
  {
   "cell_type": "markdown",
   "metadata": {},
   "source": [
    "#### pytest覆盖率安装"
   ]
  },
  {
   "cell_type": "markdown",
   "metadata": {},
   "source": [
    "pytest-cov需要额外安装"
   ]
  },
  {
   "cell_type": "code",
   "execution_count": null,
   "metadata": {},
   "outputs": [],
   "source": [
    "pip install pytest-cov"
   ]
  },
  {
   "cell_type": "markdown",
   "metadata": {},
   "source": [
    "新增py.test命令,实现了覆盖率输出功能,命令示范:"
   ]
  },
  {
   "cell_type": "code",
   "execution_count": null,
   "metadata": {},
   "outputs": [],
   "source": [
    "py.test test_tarfile.py --junit-xml=test_tarfile_report.xml --cov-report=html --cov-config=.coveragerc --cov=./"
   ]
  },
  {
   "cell_type": "markdown",
   "metadata": {},
   "source": [
    "* test_tarfile.py是目标测试文件\n",
    "* –junit-xml=test_tarfile_report.xml是生成junit格式的test_tarfile_report.xml\n",
    "* –cov-report=html 输出html的报告\n",
    "* –cov-config=.coveragerc 使用.coveragerc配置文件（py.test是基于coverage.py实现的，因此支持coverage.py的配置文件）\n",
    "* –cov=./ 这个是必要的，如果没有这个，将无法输出html的报告"
   ]
  }
 ],
 "metadata": {
  "kernelspec": {
   "display_name": "Python 3",
   "language": "python",
   "name": "python3"
  },
  "language_info": {
   "codemirror_mode": {
    "name": "ipython",
    "version": 3
   },
   "file_extension": ".py",
   "mimetype": "text/x-python",
   "name": "python",
   "nbconvert_exporter": "python",
   "pygments_lexer": "ipython3",
   "version": "3.6.2"
  }
 },
 "nbformat": 4,
 "nbformat_minor": 2
}
