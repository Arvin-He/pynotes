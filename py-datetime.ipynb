{
 "cells": [
  {
   "cell_type": "markdown",
   "metadata": {},
   "source": [
    "# py-datetime"
   ]
  },
  {
   "cell_type": "markdown",
   "metadata": {},
   "source": [
    "### 基本用法"
   ]
  },
  {
   "cell_type": "code",
   "execution_count": 9,
   "metadata": {},
   "outputs": [
    {
     "data": {
      "text/plain": [
       "'2018-06-18 14:32:58'"
      ]
     },
     "execution_count": 9,
     "metadata": {},
     "output_type": "execute_result"
    }
   ],
   "source": [
    "import time\n",
    "from datetime import datetime\n",
    "\n",
    "time.time()\n",
    "time.strftime('%Y-%m-%d %H:%M:%S',time.localtime(time.time()))"
   ]
  },
  {
   "cell_type": "markdown",
   "metadata": {},
   "source": [
    "### 获取今天某一具体时刻的时间戳"
   ]
  },
  {
   "cell_type": "code",
   "execution_count": 5,
   "metadata": {},
   "outputs": [
    {
     "name": "stdout",
     "output_type": "stream",
     "text": [
      "(1529251201.0, 1529314199.0)\n"
     ]
    }
   ],
   "source": [
    "import time\n",
    "from datetime import datetime, date\n",
    "\n",
    "# 获取今天某一具体时刻的时间戳\n",
    "def get_specific_timestamp():\n",
    "    begin = datetime.strptime(\"{} 00:00:01\".format(date.today()), \"%Y-%m-%d %H:%M:%S\")\n",
    "    begin_time = time.mktime(begin.timetuple())\n",
    "    \n",
    "    end = datetime.strptime(\"{} 17:29:59\".format(date.today()), \"%Y-%m-%d %H:%M:%S\")\n",
    "    end_time = time.mktime(end.timetuple())\n",
    "    \n",
    "    return begin_time, end_time\n",
    "\n",
    "res = get_specific_timestamp()\n",
    "print(res)"
   ]
  },
  {
   "cell_type": "markdown",
   "metadata": {},
   "source": [
    "### 字符串日期时间转时间戳"
   ]
  },
  {
   "cell_type": "code",
   "execution_count": 7,
   "metadata": {},
   "outputs": [
    {
     "name": "stdout",
     "output_type": "stream",
     "text": [
      "1529251200\n",
      "1529251200\n",
      "1529302770\n"
     ]
    }
   ],
   "source": [
    "import time\n",
    "from datetime import datetime\n",
    "\n",
    "def date_2_timestamp(str_date):\n",
    "    \"\"\"字符串date转时间戳,精确到秒, 默认是到凌晨0点0分0秒\"\"\"\n",
    "    my_datetime = datetime.strptime(str_date, \"%Y-%m-%d\")\n",
    "    timestamp = int(time.mktime(my_datetime.timetuple()))\n",
    "    return timestamp\n",
    "\n",
    "\n",
    "def datetime_2_timestamp(str_date_time):\n",
    "    \"\"\"字符串datetime转时间戳,精确到秒\"\"\"\n",
    "    date_time = datetime.strptime(str_date_time, \"%Y-%m-%d %H:%M:%S\")\n",
    "    timestamp = int(time.mktime(date_time.timetuple()))\n",
    "    return timestamp\n",
    "\n",
    "\n",
    "print(date_2_timestamp('2018-06-18'))\n",
    "print(datetime_2_timestamp('2018-06-18 00:00:00'))\n",
    "\n",
    "print(datetime_2_timestamp('2018-06-18 14:19:30'))\n"
   ]
  },
  {
   "cell_type": "markdown",
   "metadata": {},
   "source": [
    "### 时间戳转日期时间"
   ]
  },
  {
   "cell_type": "code",
   "execution_count": 11,
   "metadata": {},
   "outputs": [
    {
     "name": "stdout",
     "output_type": "stream",
     "text": [
      "2018-06-18 14:19:30\n",
      "2018-06-18\n",
      "2018-04-01 14:36:05\n",
      "2018-04-01 00:00:00\n"
     ]
    }
   ],
   "source": [
    "import pytz\n",
    "from datetime import datetime\n",
    "\n",
    "def timestamp_2_datetime(timestamp):\n",
    "    \"\"\"\"时间戳转日期时间, 时间戳是精确到秒\"\"\"\n",
    "    if timestamp:\n",
    "        tz = pytz.timezone('Asia/Shanghai')\n",
    "        if isinstance(timestamp, str):\n",
    "            time_stamp = int(timestamp)\n",
    "        else:\n",
    "            time_stamp = timestamp\n",
    "        local_date = datetime.fromtimestamp(time_stamp, tz).strftime(\"%Y-%m-%d %H:%M:%S\")\n",
    "        return local_date\n",
    "\n",
    "\n",
    "def timestamp_2_date(timestamp):\n",
    "    \"\"\"\"时间戳转日期\"\"\"\n",
    "    if timestamp:\n",
    "        tz = pytz.timezone('Asia/Shanghai')\n",
    "        if isinstance(timestamp, str):\n",
    "            time_stamp = timestamp\n",
    "        else:\n",
    "            time_stamp = timestamp\n",
    "        local_date = datetime.fromtimestamp(time_stamp, tz).strftime(\"%Y-%m-%d\")\n",
    "        return local_date\n",
    "    \n",
    "print(timestamp_2_datetime(1529302770))\n",
    "print(timestamp_2_date(1529302770))\n",
    "\n",
    "\n",
    "import time\n",
    "\n",
    "def timestamp_2_datetime(timestamp, mode='datetime'):\n",
    "    \"\"\"\"时间戳转日期时间,注意: 时间戳是精确到毫秒的\"\"\"\n",
    "    if isinstance(timestamp, str):\n",
    "        time_stamp = int(timestamp)\n",
    "    else:\n",
    "        time_stamp = timestamp\n",
    "    local_time = time.localtime(time_stamp)\n",
    "    if mode == 'date':\n",
    "        local_date = time.strftime('%Y-%m-%d', local_time)\n",
    "    else:\n",
    "        local_date = time.strftime('%Y-%m-%d %H:%M:%S', local_time)\n",
    "    return local_date\n",
    "\n",
    "print(timestamp_2_datetime(1522564565))\n",
    "print(timestamp_2_datetime(1522512000))"
   ]
  },
  {
   "cell_type": "markdown",
   "metadata": {},
   "source": [
    "### 指定时区的时间戳 转 datetime/date"
   ]
  },
  {
   "cell_type": "code",
   "execution_count": 10,
   "metadata": {},
   "outputs": [
    {
     "name": "stdout",
     "output_type": "stream",
     "text": [
      "time_zone=Asia/Shanghai datetime=2018-04-01 14:36:05\n",
      "time_zone=America/New_York datetime=2018-04-01 02:36:05\n"
     ]
    }
   ],
   "source": [
    "import time\n",
    "import pytz\n",
    "from datetime import datetime\n",
    "\n",
    "def timestamp_2_datetime(timestamp, time_zone='Asia/Shanghai', mode='datetime'):\n",
    "    \"\"\"\"时间戳转日期时间, 注意: 时间戳是精确到秒\"\"\"\n",
    "    tz = pytz.timezone(time_zone)\n",
    "    if isinstance(timestamp, str):\n",
    "        time_stamp = int(timestamp)\n",
    "    else:\n",
    "        time_stamp = timestamp\n",
    "    if mode == 'date':\n",
    "        local_date = datetime.fromtimestamp(time_stamp, tz).strftime(\"%Y-%m-%d\")\n",
    "    else:\n",
    "        local_date = datetime.fromtimestamp(time_stamp, tz).strftime(\"%Y-%m-%d %H:%M:%S\")\n",
    "    return local_date\n",
    "\n",
    "print(\"time_zone=Asia/Shanghai datetime={}\".format(timestamp_2_datetime(1522564565)))\n",
    "print(\"time_zone=America/New_York datetime={}\".format(timestamp_2_datetime(1522564565, time_zone='America/New_York')))"
   ]
  },
  {
   "cell_type": "markdown",
   "metadata": {},
   "source": [
    "### 时间差"
   ]
  },
  {
   "cell_type": "code",
   "execution_count": 12,
   "metadata": {},
   "outputs": [
    {
     "name": "stdout",
     "output_type": "stream",
     "text": [
      "483.922\n",
      "0 天 0 小时 3.9 分钟\n"
     ]
    }
   ],
   "source": [
    "t1 = 1523881075741\n",
    "t2 = 1523881559663\n",
    "tt = (t2 - t1)/1000\n",
    "print(tt)\n",
    "\n",
    "print('{:.0f} 天 {:.0f} 小时 {:.1f} 分钟'.format(tt//86400, tt//3600, tt%60))"
   ]
  },
  {
   "cell_type": "markdown",
   "metadata": {},
   "source": [
    "### 时间差操作"
   ]
  },
  {
   "cell_type": "code",
   "execution_count": 13,
   "metadata": {},
   "outputs": [
    {
     "name": "stdout",
     "output_type": "stream",
     "text": [
      "19:50:30\n",
      "0\n",
      "71430\n",
      "0 天 19 小时 50 分钟 30 秒\n"
     ]
    }
   ],
   "source": [
    "from datetime import datetime, time\n",
    "\n",
    "t1 = datetime(2018, 4, 17, 15, 32, 26)\n",
    "t2 = datetime(2018, 4, 18, 11, 22, 56)\n",
    "\n",
    "tt = t2 -  t1\n",
    "print(tt)\n",
    "print(tt.days)\n",
    "print(tt.seconds)\n",
    "days = tt.days\n",
    "str_time_list = str(tt).split(':')\n",
    "str_date_time = '{} 天 {} 小时 {} 分钟 {:.2s} 秒'.format(days, *str_time_list)\n",
    "print(str_date_time)\n"
   ]
  },
  {
   "cell_type": "markdown",
   "metadata": {},
   "source": [
    "### 时间戳转datetime对象"
   ]
  },
  {
   "cell_type": "code",
   "execution_count": 14,
   "metadata": {},
   "outputs": [
    {
     "name": "stdout",
     "output_type": "stream",
     "text": [
      "1529303849.883807\n",
      "2018-06-18 14:37:29.883807\n"
     ]
    }
   ],
   "source": [
    "import time\n",
    "from datetime import datetime\n",
    "\n",
    "t = time.time()\n",
    "print(t)\n",
    "\n",
    "dt = datetime.fromtimestamp(t)\n",
    "print(dt)"
   ]
  },
  {
   "cell_type": "code",
   "execution_count": 52,
   "metadata": {},
   "outputs": [
    {
     "name": "stdout",
     "output_type": "stream",
     "text": [
      "<attribute 'month' of 'datetime.date' objects>\n",
      "2018-06-21\n",
      "2018-06-21\n",
      "2018\n",
      "6\n",
      "21\n",
      "0001-01-01\n",
      "9999-12-31\n",
      "1 day, 0:00:00\n",
      "3\n",
      "4\n",
      "(2018, 25, 4)\n",
      "2018-06-21\n",
      "Thu Jun 21 00:00:00 2018\n",
      "736866\n",
      "time.struct_time(tm_year=2018, tm_mon=6, tm_mday=21, tm_hour=0, tm_min=0, tm_sec=0, tm_wday=3, tm_yday=172, tm_isdst=-1)\n",
      "2018\n",
      "172\n"
     ]
    }
   ],
   "source": [
    "from datetime import datetime, date\n",
    "\n",
    "\n",
    "today = date.today()\n",
    "print(str(today))\n",
    "print(today)\n",
    "print(today.year)\n",
    "print(today.month)\n",
    "print(today.day)\n",
    "print(today.min)\n",
    "print(today.max)\n",
    "print(today.resolution)\n",
    "print(today.weekday())\n",
    "print(today.isoweekday())\n",
    "print(today.isocalendar())\n",
    "print(today.isoformat())\n",
    "print(today.ctime())\n",
    "print(today.toordinal())\n",
    "timeinfo = today.timetuple()\n",
    "print(timeinfo)\n",
    "print(timeinfo.tm_year)\n",
    "print(timeinfo.tm_yday)"
   ]
  },
  {
   "cell_type": "markdown",
   "metadata": {},
   "source": [
    "### 计算当前月份的日期范围"
   ]
  },
  {
   "cell_type": "code",
   "execution_count": 51,
   "metadata": {},
   "outputs": [
    {
     "name": "stdout",
     "output_type": "stream",
     "text": [
      "(datetime.date(2018, 6, 1), datetime.date(2018, 7, 1))\n",
      "2018-05-01\n",
      "(datetime.date(2018, 5, 1), datetime.date(2018, 6, 1))\n"
     ]
    }
   ],
   "source": [
    "from datetime import date, timedelta\n",
    "import calendar\n",
    "\n",
    "def get_month_range(start_date=None):\n",
    "    if start_date is None:\n",
    "        start_date = date.today().replace(day=1)\n",
    "    _, days_in_month = calendar.monthrange(start_date.year, start_date.month)\n",
    "    end_date = start_date + timedelta(days=days_in_month)\n",
    "    return (start_date, end_date)\n",
    "\n",
    "def get_last_month_range(start_date=None):\n",
    "    if start_date is None:\n",
    "        start_date = date.today()\n",
    "    start_date = start_date.replace(day=1, month=start_date.month-1)\n",
    "    print(start_date)\n",
    "    _, days_in_month = calendar.monthrange(start_date.year, start_date.month)\n",
    "    end_date = start_date + timedelta(days=days_in_month)\n",
    "    return (start_date, end_date)\n",
    "\n",
    "print(get_month_range())\n",
    "print(get_last_month_range())"
   ]
  },
  {
   "cell_type": "markdown",
   "metadata": {},
   "source": [
    "### 计算上个星期的日期范围"
   ]
  },
  {
   "cell_type": "code",
   "execution_count": 56,
   "metadata": {},
   "outputs": [
    {
     "name": "stdout",
     "output_type": "stream",
     "text": [
      "(datetime.date(2018, 6, 11), datetime.date(2018, 6, 18))\n",
      "['2018-06-11', '2018-06-12', '2018-06-13', '2018-06-14', '2018-06-15', '2018-06-16', '2018-06-17']\n",
      "['2018-06-18', '2018-06-19', '2018-06-20', '2018-06-21']\n"
     ]
    }
   ],
   "source": [
    "from datetime import date, timedelta\n",
    "import calendar\n",
    "\n",
    "def get_last_week_range(start_date=None):\n",
    "    if start_date is None:\n",
    "        start_date = date.today()\n",
    "    date_info = start_date.timetuple()\n",
    "    week_head_date = start_date - timedelta(days=7+date_info.tm_wday)\n",
    "    week_end_data = start_date - timedelta(days=date_info.tm_wday)\n",
    "    return (week_head_date, week_end_data)\n",
    "\n",
    "print(get_last_week_range())\n",
    "\n",
    "def get_days_last_week():\n",
    "    days = []\n",
    "    start_date = date.today()\n",
    "    date_info = start_date.timetuple()\n",
    "    week_head_date = start_date - timedelta(days=7+date_info.tm_wday)\n",
    "    for i in range(7):\n",
    "        days.append(str(week_head_date + timedelta(i)))\n",
    "    return days\n",
    "\n",
    "print(get_days_last_week())\n",
    "\n",
    "def get_days_this_week():\n",
    "    days = []\n",
    "    start_date = date.today()\n",
    "    date_info = start_date.timetuple()\n",
    "    week_head_date = start_date - timedelta(days=date_info.tm_wday)\n",
    "    for i in range(date_info.tm_wday+1):\n",
    "        days.append(str(week_head_date + timedelta(i)))\n",
    "    return days\n",
    "\n",
    "print(get_days_this_week())"
   ]
  },
  {
   "cell_type": "code",
   "execution_count": 60,
   "metadata": {},
   "outputs": [
    {
     "name": "stdout",
     "output_type": "stream",
     "text": [
      "['2018-05-01', '2018-05-02', '2018-05-03', '2018-05-04', '2018-05-05', '2018-05-06', '2018-05-07', '2018-05-08', '2018-05-09', '2018-05-10', '2018-05-11', '2018-05-12', '2018-05-13', '2018-05-14', '2018-05-15', '2018-05-16', '2018-05-17', '2018-05-18', '2018-05-19', '2018-05-20', '2018-05-21', '2018-05-22', '2018-05-23', '2018-05-24', '2018-05-25', '2018-05-26', '2018-05-27', '2018-05-28', '2018-05-29', '2018-05-30', '2018-05-31']\n",
      "['2018-06-21', '2018-06-20', '2018-06-19', '2018-06-18', '2018-06-17', '2018-06-16', '2018-06-15', '2018-06-14', '2018-06-13', '2018-06-12', '2018-06-11', '2018-06-10', '2018-06-09', '2018-06-08', '2018-06-07', '2018-06-06', '2018-06-05', '2018-06-04', '2018-06-03', '2018-06-02', '2018-06-01']\n",
      "['2018-06-21', '2018-06-20', '2018-06-19', '2018-06-18', '2018-06-17', '2018-06-16', '2018-06-15', '2018-06-14', '2018-06-13', '2018-06-12', '2018-06-11', '2018-06-10', '2018-06-09', '2018-06-08', '2018-06-07', '2018-06-06', '2018-06-05', '2018-06-04', '2018-06-03', '2018-06-02', '2018-06-01', '2018-05-31', '2018-05-30', '2018-05-29', '2018-05-28', '2018-05-27', '2018-05-26', '2018-05-25', '2018-05-24', '2018-05-23']\n"
     ]
    }
   ],
   "source": [
    "from datetime import date, timedelta\n",
    "import calendar\n",
    "\n",
    "def get_days_last_month():\n",
    "    days = []\n",
    "    start_date = date.today()\n",
    "    start_date = start_date.replace(day=1, month=start_date.month - 1)\n",
    "    _, days_in_month = calendar.monthrange(start_date.year, start_date.month)\n",
    "    for i in range(days_in_month):\n",
    "        days.append(str(start_date + timedelta(days=i)))\n",
    "    return days\n",
    "\n",
    "print(get_days_last_month())\n",
    "\n",
    "def get_days_this_month():\n",
    "    days = []\n",
    "    start_date = date.today()\n",
    "    date_info = start_date.timetuple()\n",
    "    for i in range(date_info.tm_mday):\n",
    "        days.append(str(start_date - timedelta(days=i)))\n",
    "    return days\n",
    "\n",
    "print(get_days_this_month())\n",
    "\n",
    "def get_last_num_days(num=30):\n",
    "    days = []\n",
    "    start_date = date.today()\n",
    "    for i in range(num):\n",
    "        days.append(str(start_date - timedelta(days=i)))\n",
    "    return days\n",
    "\n",
    "print(get_last_num_days())"
   ]
  },
  {
   "cell_type": "code",
   "execution_count": 69,
   "metadata": {},
   "outputs": [
    {
     "name": "stdout",
     "output_type": "stream",
     "text": [
      "['_STRUCT_TM_ITEMS', '__doc__', '__loader__', '__name__', '__package__', '__spec__', 'altzone', 'asctime', 'clock', 'ctime', 'daylight', 'get_clock_info', 'gmtime', 'localtime', 'mktime', 'monotonic', 'perf_counter', 'process_time', 'sleep', 'strftime', 'strptime', 'struct_time', 'time', 'timezone', 'tzname']\n",
      "Fri Jun 22 15:46:32 2018\n",
      "time.struct_time(tm_year=2018, tm_mon=6, tm_mday=22, tm_hour=7, tm_min=46, tm_sec=32, tm_wday=4, tm_yday=173, tm_isdst=0)\n",
      "time.struct_time(tm_year=2018, tm_mon=6, tm_mday=22, tm_hour=15, tm_min=46, tm_sec=32, tm_wday=4, tm_yday=173, tm_isdst=0)\n",
      "1529653592.3482344\n"
     ]
    }
   ],
   "source": [
    "\n",
    "import time\n",
    "\n",
    "print(dir(time))\n",
    "print(time.ctime())\n",
    "print(time.gmtime())\n",
    "print(time.localtime())\n",
    "# print(time.mktime())\n",
    "print(time.time())"
   ]
  }
 ],
 "metadata": {
  "kernelspec": {
   "display_name": "Python 3",
   "language": "python",
   "name": "python3"
  },
  "language_info": {
   "codemirror_mode": {
    "name": "ipython",
    "version": 3
   },
   "file_extension": ".py",
   "mimetype": "text/x-python",
   "name": "python",
   "nbconvert_exporter": "python",
   "pygments_lexer": "ipython3",
   "version": "3.6.1"
  }
 },
 "nbformat": 4,
 "nbformat_minor": 2
}
