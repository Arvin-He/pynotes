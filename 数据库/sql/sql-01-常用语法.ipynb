{
 "cells": [
  {
   "cell_type": "markdown",
   "metadata": {},
   "source": [
    "# sql语法"
   ]
  },
  {
   "cell_type": "markdown",
   "metadata": {},
   "source": [
    "新增表一列: `alter table <table name> add <col name> varchar(10);`\n",
    "\n",
    "删除表一列: `alter table <table name> drop column <col name>;`\n"
   ]
  }
 ],
 "metadata": {
  "kernelspec": {
   "display_name": "Python 3",
   "language": "python",
   "name": "python3"
  },
  "language_info": {
   "codemirror_mode": {
    "name": "ipython",
    "version": 3
   },
   "file_extension": ".py",
   "mimetype": "text/x-python",
   "name": "python",
   "nbconvert_exporter": "python",
   "pygments_lexer": "ipython3",
   "version": "3.6.4"
  }
 },
 "nbformat": 4,
 "nbformat_minor": 2
}
