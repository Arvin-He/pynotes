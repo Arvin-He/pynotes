{
 "cells": [
  {
   "cell_type": "markdown",
   "metadata": {},
   "source": [
    "# MongoDB安装-linux"
   ]
  },
  {
   "cell_type": "markdown",
   "metadata": {},
   "source": [
    "### 环境"
   ]
  },
  {
   "cell_type": "markdown",
   "metadata": {},
   "source": [
    "* CentOS7\n",
    "* MongoDB3.6.4"
   ]
  },
  {
   "cell_type": "markdown",
   "metadata": {},
   "source": [
    "### 说明:"
   ]
  },
  {
   "cell_type": "markdown",
   "metadata": {},
   "source": [
    "* mongodb下载解压安装最好切到root用户下进行"
   ]
  },
  {
   "cell_type": "markdown",
   "metadata": {},
   "source": [
    "### 下载安装"
   ]
  },
  {
   "cell_type": "markdown",
   "metadata": {},
   "source": [
    "到[官方网站](https://www.mongodb.com/download-center?jmp=nav#community)下载对应的包到一个目录,如/opt目录下"
   ]
  },
  {
   "cell_type": "markdown",
   "metadata": {},
   "source": [
    "wget -o  https://fastdl.mongodb.org/linux/mongodb-linux-x86_64-amazon-3.6.4.tgz "
   ]
  },
  {
   "cell_type": "markdown",
   "metadata": {},
   "source": [
    "解压文件到/opt/mongodb目录下： "
   ]
  },
  {
   "cell_type": "markdown",
   "metadata": {},
   "source": [
    "mkdir -p /opt/mongodb\n",
    "tar -zxvf mongodb-linux-x86_64-3.6.4.tgz\n",
    "cp -R -n mongodb-linux-x86_64-3.6.4/ /opt/mongodb"
   ]
  },
  {
   "cell_type": "markdown",
   "metadata": {},
   "source": [
    "### 配置"
   ]
  },
  {
   "cell_type": "markdown",
   "metadata": {},
   "source": [
    "#### 配置环境变量"
   ]
  },
  {
   "cell_type": "markdown",
   "metadata": {},
   "source": [
    "设置mongodb环境变量，将环境变量放在用户主目录下的.bash_profile，在文件末尾添加"
   ]
  },
  {
   "cell_type": "markdown",
   "metadata": {},
   "source": [
    "```bash\n",
    "# export mongo path\n",
    "export MONGODB_HOME=/opt/mongodb/bin\n",
    "export PATH=$MONGODB_HOME:$PATH\n",
    "export PATH\n",
    "```"
   ]
  },
  {
   "cell_type": "markdown",
   "metadata": {},
   "source": [
    "### 创建目录"
   ]
  },
  {
   "cell_type": "markdown",
   "metadata": {},
   "source": [
    "```bash\n",
    "cd /opt/mongodb\n",
    "# 创建db目录\n",
    "mkdir -p db\n",
    "# 日志目录\n",
    "mkdir -p logs\n",
    "# pid目录\n",
    "mkdir -p pid\n",
    "```"
   ]
  },
  {
   "cell_type": "markdown",
   "metadata": {},
   "source": [
    "### 创建配置文件"
   ]
  },
  {
   "cell_type": "markdown",
   "metadata": {},
   "source": [
    "进入到bin目录下，创建mongodb.cfg文件"
   ]
  },
  {
   "cell_type": "markdown",
   "metadata": {},
   "source": [
    "```bash\n",
    "cd /opt/mongodb/bin\n",
    "touch mongodb.cfg\n",
    "vim mongodb.cfg\n",
    "```"
   ]
  },
  {
   "cell_type": "markdown",
   "metadata": {},
   "source": [
    "编辑mongodb.cfg文件, 以下是配置文件内容"
   ]
  },
  {
   "cell_type": "raw",
   "metadata": {},
   "source": [
    "# 注意日志路径一定要指定具体的日志文件,而不是路径\n",
    "dbpath=/opt/mongodb/db\n",
    "logpath=/opt/mongodb/logs/mongodb.log\n",
    "port=27017\n",
    "fork=true"
   ]
  },
  {
   "cell_type": "markdown",
   "metadata": {},
   "source": [
    "### 测试"
   ]
  },
  {
   "cell_type": "markdown",
   "metadata": {},
   "source": [
    "#### 启动mongodb服务"
   ]
  },
  {
   "cell_type": "markdown",
   "metadata": {},
   "source": [
    "```bash\n",
    "cd /opt/mongodb/bin\n",
    "./mongod -f mongodb.cfg\n",
    "```"
   ]
  },
  {
   "cell_type": "markdown",
   "metadata": {},
   "source": [
    "#### 进入mongodb控制台"
   ]
  },
  {
   "cell_type": "markdown",
   "metadata": {},
   "source": [
    "```\n",
    "./mongo\n",
    "> db.version()\n",
    "3.6.4\n",
    "```"
   ]
  },
  {
   "cell_type": "markdown",
   "metadata": {},
   "source": [
    "如果能打印版本号,则mongodb安装好了,否则会在打印错误信息.\n",
    "默认情况下，连接地址是127.0.0.1:27017，连接的数据库是test数据库，也可以手动指定连接地址和连接的数据库,如：\n",
    "`mongo 127.0.0.1:27017/admin`"
   ]
  },
  {
   "cell_type": "markdown",
   "metadata": {},
   "source": [
    "### 配置开机启动(优先推荐方式一)"
   ]
  },
  {
   "cell_type": "markdown",
   "metadata": {},
   "source": [
    "#### 方式一: 创建service文件"
   ]
  },
  {
   "cell_type": "markdown",
   "metadata": {},
   "source": [
    "`touch /lib/systemd/system/mongodb.service`"
   ]
  },
  {
   "cell_type": "markdown",
   "metadata": {},
   "source": [
    "```bash\n",
    "[Unit]  \n",
    "Description=mongodb   \n",
    "After=network.target remote-fs.target nss-lookup.target  \n",
    "\n",
    "[Service]  \n",
    "Type=forking  \n",
    "ExecStart=/opt/mongodb/bin/mongod --config /opt/mongodb/bin/mongodb.cfg \n",
    "ExecReload=/bin/kill -s HUP $MAINPID  \n",
    "ExecStop=/opt/mongodb/bin/mongod --shutdown --config /opt/mongodb/bin/mongodb.cfg\n",
    "PrivateTmp=true  \n",
    "\n",
    "[Install]  \n",
    "WantedBy=multi-user.target  \n",
    "```"
   ]
  },
  {
   "cell_type": "markdown",
   "metadata": {},
   "source": [
    "#### 方式二:编辑/etc/rc.d/rc.local文件"
   ]
  },
  {
   "cell_type": "markdown",
   "metadata": {},
   "source": [
    "在/etc/rc.d/rc.local文件最后添加:\n",
    "`/opt/mongodb/bin/mongod --config /opt/mongodb/bin/mongodb.cfg`"
   ]
  },
  {
   "cell_type": "markdown",
   "metadata": {},
   "source": [
    "### 常见mongodb控制台命令"
   ]
  },
  {
   "cell_type": "markdown",
   "metadata": {},
   "source": [
    "1. 关闭mongodb服务,注意:这个命令的执行要在admin数据库下，所以先切换到admin，再关闭服务\n",
    "db.shutdownServer()\n",
    "2. 退出mongodb控制台\n",
    "exit"
   ]
  },
  {
   "cell_type": "markdown",
   "metadata": {},
   "source": [
    "### 创建数据库,账户和密码"
   ]
  },
  {
   "cell_type": "markdown",
   "metadata": {},
   "source": [
    "**注意:**\n",
    "1. MongoDB中的账号是在某一个库里面进行设置的，也就是帐号密码和具体的数据库绑定,在哪一个库里进行设置，就要在哪一个库里进行验证。\n",
    "2. 创建用户时，需要指定用户名、用户密码和用户角色，用户角色表示了该用户的权限。"
   ]
  },
  {
   "cell_type": "markdown",
   "metadata": {},
   "source": [
    "#### 创建管理员账户和密码"
   ]
  },
  {
   "cell_type": "markdown",
   "metadata": {},
   "source": [
    "**说明:**\n",
    "1. 用户管理员是第一个要创建的用户。在没有创建任何用户之前，你可以随意创建用户；但数据库中一旦有了用户，那么未登录的客户端就没有权限做任何操作了，除非使用db.auth(username, password)方法登录。\n",
    "2. 用户管理员的角色名叫 userAdminAnyDatabase，这个角色只能在 admin 数据库中创建。\n"
   ]
  },
  {
   "cell_type": "raw",
   "metadata": {},
   "source": [
    "> use admin\n",
    "switched to db admin\n",
    "> db.createUser({user:\"root\",pwd:\"root\",roles:[\"userAdminAnyDatabase\"]})\n",
    "Successfully added user: { \"user\" : \"root\", \"roles\" : [ \"userAdminAnyDatabase\" ] }\n",
    "> db.auth(\"root\",\"root123\")\n",
    "1\n",
    "db.auth() 方法返回 1 表示登录成功。接下来我们为指定的数据库创建访问所需的账号。"
   ]
  },
  {
   "cell_type": "markdown",
   "metadata": {},
   "source": [
    "#### 创建普通账户和密码"
   ]
  },
  {
   "cell_type": "markdown",
   "metadata": {},
   "source": [
    "**说明:**\n",
    "1. 首先保证你已经以用户管理员的身份登录 admin 数据库。然后用 use 命令切换到目标数据库，\n",
    "2. 用 db.createUser() 命令来创建用户，其中角色名为 “readWrite”。\n",
    "3. 普通的数据库用户角色有两种，read 和 readWrite。前者只能读取数据不能修改，后者可以读取和修改。"
   ]
  },
  {
   "cell_type": "raw",
   "metadata": {},
   "source": [
    "> use test\n",
    "switched to db test\n",
    "> db.createUser({user:\"testuser\",pwd:\"testpass\",roles:[\"readWrite\"]})\n",
    "Successfully added user: { \"user\" : \"testuser\", \"roles\" : [ \"readWrite\" ] }\n",
    "> db.auth(\"testuser\",\"testpass\")\n",
    "1"
   ]
  },
  {
   "cell_type": "markdown",
   "metadata": {},
   "source": [
    "### 常见问题"
   ]
  },
  {
   "cell_type": "markdown",
   "metadata": {},
   "source": [
    "#### 1. 控制台输入:mongo,报如下错误:"
   ]
  },
  {
   "cell_type": "raw",
   "metadata": {},
   "source": [
    "[arvin@localhost ~]$ mongo\n",
    "MongoDB shell version v3.6.4\n",
    "connecting to: mongodb://127.0.0.1:27017\n",
    "2018-05-22T14:25:56.727+0800 W NETWORK  [thread1] Failed to connect to 127.0.0.1:27017, in(checking socket for error after poll), reason: Connection refused\n",
    "2018-05-22T14:25:56.727+0800 E QUERY    [thread1] Error: couldn't connect to server 127.0.0.1:27017, connection attempt failed :\n",
    "connect@src/mongo/shell/mongo.js:251:13\n",
    "@(connect):1:6\n",
    "exception: connect failed"
   ]
  },
  {
   "cell_type": "markdown",
   "metadata": {},
   "source": [
    "这是mongodb的服务没有启动起来, mongodb服务启动需要root权限,启动mongdb服务即可:\n",
    "```bash\n",
    "sudo systemctl start mongodb.service\n",
    "```"
   ]
  }
 ],
 "metadata": {
  "kernelspec": {
   "display_name": "Python 3",
   "language": "python",
   "name": "python3"
  },
  "language_info": {
   "codemirror_mode": {
    "name": "ipython",
    "version": 3
   },
   "file_extension": ".py",
   "mimetype": "text/x-python",
   "name": "python",
   "nbconvert_exporter": "python",
   "pygments_lexer": "ipython3",
   "version": "3.6.4"
  }
 },
 "nbformat": 4,
 "nbformat_minor": 2
}
