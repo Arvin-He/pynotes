{
 "cells": [
  {
   "cell_type": "markdown",
   "metadata": {},
   "source": [
    "# mongo-优化建议"
   ]
  },
  {
   "cell_type": "markdown",
   "metadata": {},
   "source": [
    "### 索引"
   ]
  },
  {
   "cell_type": "markdown",
   "metadata": {},
   "source": [
    "如果没有索引，MongoDB 需要为了找到一个匹配的文档而扫描整个 collection，代价非常高昂"
   ]
  },
  {
   "cell_type": "markdown",
   "metadata": {},
   "source": [
    "### 默认的`_id`索引"
   ]
  },
  {
   "cell_type": "markdown",
   "metadata": {},
   "source": [
    "Mongodb 在 collection 创建时会默认建立一个基于`_id` 的唯一性索引作为 document 的 primary key，这个 index 无法被删除。"
   ]
  },
  {
   "cell_type": "markdown",
   "metadata": {},
   "source": [
    "### 一些优化建议"
   ]
  },
  {
   "cell_type": "markdown",
   "metadata": {},
   "source": [
    "1. 当无法使用索引或者无法有效利用`_id`索引时,也就是不得不进行全集合查询时,尽量减少全集合遍历查询次数."
   ]
  },
  {
   "cell_type": "markdown",
   "metadata": {},
   "source": [
    "### MongoDB 排序超过内存限制的问题"
   ]
  },
  {
   "cell_type": "markdown",
   "metadata": {},
   "source": [
    "在MongoDB中，内排序大内存限制最大为100M，如果执行一个更大的排序，需要使用 `allowDiskUse` 选项来将数据写到临时文件来排序。\n",
    "\n",
    "在查询语句中添加 `allowDiskUse` 选项：\n",
    "```\n",
    "db.bigdata.aggregate(\n",
    "[\n",
    " {$group : {_id : \"$range\", total : { $sum : 1 }}},\n",
    " {$sort : {total : -1}}\n",
    "],\n",
    " {allowDiskUse: true}\n",
    ");\n",
    "```\n",
    "\n",
    "参考文档： Memory Restrictions"
   ]
  }
 ],
 "metadata": {
  "kernelspec": {
   "display_name": "Python 3",
   "language": "python",
   "name": "python3"
  },
  "language_info": {
   "codemirror_mode": {
    "name": "ipython",
    "version": 3
   },
   "file_extension": ".py",
   "mimetype": "text/x-python",
   "name": "python",
   "nbconvert_exporter": "python",
   "pygments_lexer": "ipython3",
   "version": "3.6.4"
  }
 },
 "nbformat": 4,
 "nbformat_minor": 2
}
