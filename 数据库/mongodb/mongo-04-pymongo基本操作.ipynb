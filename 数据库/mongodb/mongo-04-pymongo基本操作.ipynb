{
 "cells": [
  {
   "cell_type": "markdown",
   "metadata": {},
   "source": [
    "# pymongo基本操作"
   ]
  },
  {
   "cell_type": "markdown",
   "metadata": {},
   "source": [
    "### 创建数据库"
   ]
  },
  {
   "cell_type": "code",
   "execution_count": null,
   "metadata": {},
   "outputs": [],
   "source": [
    "import pymongo\n",
    "\n",
    "# 仅仅创建mongodb连接,但未验证,没有连接到具体的数据库,相当于打开一个shell\n",
    "client = pymongo.MongoClient(host='127.0.0.1', port=27017)\n",
    "# 创建数据库\n",
    "db = pymongo.database.Database(client, 'testdb')\n",
    "db.command(\"updateUser\", \"arvin\", pwd=\"arvin123\")\n",
    "\n",
    "# 创建管理员用户,密码和权限\n",
    "db.command(\"createUser\", \"admin\", pwd=\"admin@123456.\", roles=[\"root\"])\n",
    "# 创建普通用户,密码和读取权限\n",
    "db.command(\"createUser\", \"arvin\", pwd=\"arvin@123456.\", roles=[\"readWrite\"])"
   ]
  },
  {
   "cell_type": "markdown",
   "metadata": {},
   "source": [
    "### 检测mongodb服务是否可用"
   ]
  },
  {
   "cell_type": "code",
   "execution_count": 42,
   "metadata": {},
   "outputs": [
    {
     "name": "stdout",
     "output_type": "stream",
     "text": [
      "Server is available\n"
     ]
    }
   ],
   "source": [
    "from pymongo import MongoClient\n",
    "from pymongo.errors import ConnectionFailure\n",
    "\n",
    "client = MongoClient()\n",
    "\n",
    "try:\n",
    "    # The ismaster command is cheap and does not require auth.\n",
    "    client.admin.command('ismaster')\n",
    "    print('Server is available')\n",
    "except ConnectionFailure:\n",
    "    print(\"Server is not available\")"
   ]
  },
  {
   "cell_type": "markdown",
   "metadata": {},
   "source": [
    "### 连接mongodb(无auth验证)"
   ]
  },
  {
   "cell_type": "markdown",
   "metadata": {},
   "source": [
    "无验证式连接数据库通常是在第一次连接数据库时使用到,此时没有建立数据库,没有配置用户角色和读写权限."
   ]
  },
  {
   "cell_type": "code",
   "execution_count": 26,
   "metadata": {},
   "outputs": [
    {
     "data": {
      "text/plain": [
       "{'ok': 1.0}"
      ]
     },
     "execution_count": 26,
     "metadata": {},
     "output_type": "execute_result"
    }
   ],
   "source": [
    "import pymongo\n",
    "\n",
    "# 仅仅创建mongodb连接,但未验证,没有连接到具体的数据库,相当于打开一个shell\n",
    "client = pymongo.MongoClient(host='127.0.0.1', port=27017)\n",
    "# 创建数据库\n",
    "db = pymongo.database.Database(client, 'testdb')\n",
    "db.command(\"updateUser\", \"arvin\", pwd=\"arvin123\")\n",
    "\n",
    "# 创建管理员用户,密码和权限\n",
    "db.command(\"createUser\", \"admin\", pwd=\"admin@123456.\", roles=[\"root\"])\n",
    "# 创建普通用户,密码和读取权限\n",
    "db.command(\"createUser\", \"arvin\", pwd=\"arvin@123456.\", roles=[\"readWrite\"])\n",
    "# 创建普通用户,密码和只读权限\n",
    "db.command(\"createUser\", \"xiaoming\", pwd=\"xiaoming@123456.\", roles=[\"read\"])\n",
    "# 创建普通用户,密码和只写权限\n",
    "db.command(\"createUser\", \"xiaohong\", pwd=\"xiaohong@123456.\", roles=[\"write\"])\n",
    "# 修改用户密码\n",
    "db.command(\"updateUser\", \"xiaoming\", pwd=\"xiaoming@123.\")\n",
    "# 修改用户读取权限\n",
    "db.command(\"updateUser\", \"xiaoming\", roles=[\"readWrite\"])"
   ]
  },
  {
   "cell_type": "markdown",
   "metadata": {},
   "source": [
    "### mongodb连接(带有auth验证)"
   ]
  },
  {
   "cell_type": "markdown",
   "metadata": {},
   "source": [
    "pymongo是线程安全的,但是不是fork-safe. 当多进程使用同一个client实例会报错:\n",
    "\n",
    "**解决办法:** 在连接mongo数据库时,设置关键字`connect=False`,即在mongodb实例化时不建立连接,等到有数据库操作才进行数据库连接."
   ]
  },
  {
   "cell_type": "code",
   "execution_count": null,
   "metadata": {},
   "outputs": [],
   "source": [
    "import pymongo\n",
    "\n",
    "try:\n",
    "    # Python 3.x\n",
    "    from urllib.parse import quote_plus\n",
    "except ImportError:\n",
    "    # Python 2.x\n",
    "    from urllib import quote_plus\n",
    "\n",
    "MONGODB = {\n",
    "    \"user\": \"arvin\",\n",
    "    \"passwd\": \"arvin@123456.\",\n",
    "    \"host\": \"127.0.0.1:27017\",\n",
    "    \"dbname\": \"testdb\"\n",
    "}\n",
    "\n",
    "# 方式一\n",
    "# 以类的方式创建mongodb的实例\n",
    "class ConnectMongo(object):\n",
    "    \n",
    "        def __init__(self, MONGODB):\n",
    "        self.client = MongoClient(\n",
    "            'mongodb://{}:{}@{}/{}'.format(MONGODB['user'],\n",
    "                                           MONGODB['passwd'],\n",
    "                                           MONGODB['host'],\n",
    "                                           MONGODB['dbname']),\n",
    "            connect=False\n",
    "        )\n",
    "        self.mongodb = self.client[MONGODB['dbname']]\n",
    "\n",
    "    def __del__(self):\n",
    "        self.client.close()\n",
    "        \n",
    "# 方式二        \n",
    "def connect_mongo(MONGODB):\n",
    "    client = MongoClient(\n",
    "        'mongodb://{}:{}@{}/{}'.format(MONGODB['user'],\n",
    "                                       MONGODB['passwd'],\n",
    "                                       MONGODB['host'],\n",
    "                                       MONGODB['dbname']),\n",
    "        connect=False)\n",
    "    mongodb = client[MONGODB['dbname']]\n",
    "    return mongodb\n",
    "\n",
    "# 方式三: 处理特殊字符 \n",
    "def connect_mongo(mongo_param):\n",
    "    uri =  'mongodb://{}:{}@{}/{}'.format(quote_plus(mongo_param['user']),\n",
    "                                          quote_plus(mongo_param['passwd']),\n",
    "                                          mongo_param['host'],\n",
    "                                          mongo_param['dbname'])\n",
    "    try:\n",
    "        client = pymongo.MongoClient(uri, connect=False)\n",
    "        mongodb = client[mongo_param['dbname']]\n",
    "        return mongodb\n",
    "    except Exception as e:\n",
    "        print(e)"
   ]
  },
  {
   "cell_type": "markdown",
   "metadata": {},
   "source": [
    "**注意:** \n",
    "1. 方式二存在内存泄漏问题,因为创建的client没有在程序结束后close掉.\n",
    "2. 当用户名或密码带有 ‘:’, ‘/’, ‘+’ 和 ‘@’ 这些字符时需要使用百分比编码,否则连接报错: `Username and password must be escaped according to RFC 3986, use urllib.parse.quote_plus().`"
   ]
  },
  {
   "cell_type": "markdown",
   "metadata": {},
   "source": [
    "### 插入数据(insert)"
   ]
  },
  {
   "cell_type": "code",
   "execution_count": 34,
   "metadata": {},
   "outputs": [],
   "source": [
    "import random\n",
    "import pymongo\n",
    "\n",
    "MONGODB = {\n",
    "    \"user\": \"arvin\",\n",
    "    \"passwd\": \"arvin123\",\n",
    "    \"host\": \"127.0.0.1:27017\",\n",
    "    \"dbname\": \"testdb\"\n",
    "}\n",
    "\n",
    "\n",
    "def connect_mongo(mongo_param):\n",
    "    uri =  'mongodb://{}:{}@{}/{}'.format(quote_plus(mongo_param['user']),\n",
    "                                          quote_plus(mongo_param['passwd']),\n",
    "                                          mongo_param['host'],\n",
    "                                          mongo_param['dbname'])\n",
    "    try:\n",
    "        client = pymongo.MongoClient(uri, connect=False)\n",
    "        mongodb = client[mongo_param['dbname']]\n",
    "        return mongodb\n",
    "    except Exception as e:\n",
    "        print(e)\n",
    "        \n",
    "db = connect_mongo(MONGODB)\n",
    "\n",
    "for i in range(10):\n",
    "    name = ['xiaoming', 'frank', 'tom', 'jack', 'bomb']\n",
    "    age = [18, 20, 19, 21, 22, 26, 24]\n",
    "    weight = [120, 150 , 142, 123, 126, 135, 134]\n",
    "    doc = {'name': random.choice(name), 'age':random.choice(age), 'weight': random.choice(weight), 'sex': 'male'}\n",
    "    db['info'].insert_one(doc)\n",
    "\n",
    "# 插入一条数据会返回一个ObjectId对象,ObjectId('5af8f8c62b5eba0bb8fece6d')    \n",
    "result = movie.insert_one(doc)\n",
    "\n"
   ]
  },
  {
   "cell_type": "markdown",
   "metadata": {},
   "source": [
    "### 删除数据(delete)"
   ]
  },
  {
   "cell_type": "code",
   "execution_count": 33,
   "metadata": {},
   "outputs": [
    {
     "data": {
      "text/plain": [
       "<pymongo.results.DeleteResult at 0x200524df5c8>"
      ]
     },
     "execution_count": 33,
     "metadata": {},
     "output_type": "execute_result"
    }
   ],
   "source": [
    "import pymongo\n",
    "\n",
    "MONGODB = {\n",
    "    \"user\": \"arvin\",\n",
    "    \"passwd\": \"arvin123\",\n",
    "    \"host\": \"127.0.0.1:27017\",\n",
    "    \"dbname\": \"testdb\"\n",
    "}\n",
    "\n",
    "\n",
    "def connect_mongo(mongo_param):\n",
    "    uri =  'mongodb://{}:{}@{}/{}'.format(quote_plus(mongo_param['user']),\n",
    "                                          quote_plus(mongo_param['passwd']),\n",
    "                                          mongo_param['host'],\n",
    "                                          mongo_param['dbname'])\n",
    "    try:\n",
    "        client = pymongo.MongoClient(uri, connect=False)\n",
    "        mongodb = client[mongo_param['dbname']]\n",
    "        return mongodb\n",
    "    except Exception as e:\n",
    "        print(e)\n",
    "        \n",
    "db = connect_mongo(MONGODB)\n",
    "\n",
    "# 删除一条数据\n",
    "db['res_score'].delete_one({})\n",
    "\n",
    "# 删除全部数据\n",
    "db['res_score'].delete_many({})\n"
   ]
  },
  {
   "cell_type": "markdown",
   "metadata": {},
   "source": [
    "### 更新数据(update)"
   ]
  },
  {
   "cell_type": "code",
   "execution_count": 41,
   "metadata": {},
   "outputs": [
    {
     "name": "stdout",
     "output_type": "stream",
     "text": [
      "1\n",
      "0\n",
      "3\n",
      "3\n"
     ]
    }
   ],
   "source": [
    "import pymongo\n",
    "\n",
    "MONGODB = {\n",
    "    \"user\": \"arvin\",\n",
    "    \"passwd\": \"arvin123\",\n",
    "    \"host\": \"127.0.0.1:27017\",\n",
    "    \"dbname\": \"testdb\"\n",
    "}\n",
    "\n",
    "\n",
    "def connect_mongo(mongo_param):\n",
    "    uri =  'mongodb://{}:{}@{}/{}'.format(quote_plus(mongo_param['user']),\n",
    "                                          quote_plus(mongo_param['passwd']),\n",
    "                                          mongo_param['host'],\n",
    "                                          mongo_param['dbname'])\n",
    "    try:\n",
    "        client = pymongo.MongoClient(uri, connect=False)\n",
    "        mongodb = client[mongo_param['dbname']]\n",
    "        return mongodb\n",
    "    except Exception as e:\n",
    "        print(e)\n",
    "        \n",
    "db = connect_mongo(MONGODB)\n",
    "movie = db['info']\n",
    "\n",
    "# 更新一条数据,局部更新(更新某一个字段)\n",
    "result = movie.update_one({'name': 'jack'}, {'$set': {'weight': 132}})\n",
    "\n",
    "print(result.matched_count)\n",
    "print(result.modified_count)\n",
    "\n",
    "# 更新多条数据\n",
    "result = movie.update_many({'name': 'frank'}, {'$set': {'age': 32}})\n",
    "\n",
    "print(result.matched_count)\n",
    "print(result.modified_count)\n",
    "\n",
    "# 更新整个文档\n",
    "movie.update_one({'_id': item.get('_id')}, {' 除了_id字段的整个doc'})"
   ]
  },
  {
   "cell_type": "markdown",
   "metadata": {},
   "source": [
    "### 查询数据"
   ]
  },
  {
   "cell_type": "markdown",
   "metadata": {},
   "source": [
    "#### 查询指定字段最新一条记录"
   ]
  },
  {
   "cell_type": "code",
   "execution_count": null,
   "metadata": {},
   "outputs": [],
   "source": [
    "res = movie.find({}).sort('_id', -1).limit(1)\n",
    "if res:\n",
    "    pprint(res[0])"
   ]
  },
  {
   "cell_type": "markdown",
   "metadata": {},
   "source": [
    "**注意: ** limit返回的是一个迭代器,并不是数据结果"
   ]
  },
  {
   "cell_type": "markdown",
   "metadata": {},
   "source": [
    "#### 查询结果排序"
   ]
  },
  {
   "cell_type": "code",
   "execution_count": null,
   "metadata": {},
   "outputs": [],
   "source": [
    "db.Account.find({}).sort(\"UserName\")  --默认为升序\n",
    "db.Account.find({}).sort(\"UserName\",pymongo.ASCENDING)   --升序\n",
    "db.Account.find({}).sort(\"UserName\",pymongo.DESCENDING)  --降序\n",
    "# 或者\n",
    "db.Account.find({}).sort(\"UserName\", 1)   --升序\n",
    "db.Account.find({}).sort(\"UserName\", -1)  --降序"
   ]
  },
  {
   "cell_type": "markdown",
   "metadata": {},
   "source": [
    "#### 多列结果排序"
   ]
  },
  {
   "cell_type": "code",
   "execution_count": null,
   "metadata": {},
   "outputs": [],
   "source": [
    "db.Account.find().sort([(\"UserName\",pymongo.ASCENDING),(\"Email\",pymongo.DESCENDING)])"
   ]
  },
  {
   "cell_type": "markdown",
   "metadata": {},
   "source": [
    "#### 嵌套查询"
   ]
  },
  {
   "cell_type": "code",
   "execution_count": null,
   "metadata": {},
   "outputs": [],
   "source": [
    "# 查询doc中key为response且response中key为status_code=302 记录的数目\n",
    "db.getCollection('urls').find({'response.status_code': 302}).count()"
   ]
  },
  {
   "cell_type": "markdown",
   "metadata": {},
   "source": [
    "#### 查询返回部分字段,不返回整个文档"
   ]
  },
  {
   "cell_type": "markdown",
   "metadata": {},
   "source": [
    "查询返回部分字段,不返回整个文档可以节省流量,降低带宽\n",
    "\n",
    "* 第一个参数为查询条件，空代表查询所有文档\n",
    "* 第二个参数中 1 代表选取该字段的值, 0代表过滤该字段的值\n",
    "\n",
    "如果需要输出的字段比较多，不想要某个字段，可以用排除字段的方法 \n"
   ]
  },
  {
   "cell_type": "code",
   "execution_count": null,
   "metadata": {},
   "outputs": [],
   "source": [
    "# 返回所有含有title和type字段的值,并不是包含这些字段的所有文档\n",
    "db.news.find( {}, {'title': 1,  'type': 1} )\n",
    "\n",
    "# 查询返回\n",
    "db.news.find( {}, {'title': 1,  'type': 0} )\n",
    "\n",
    "db.inventory.find( { type: 'food' }, { type:0 })\n",
    "\n",
    "\n",
    "# 不输出内容字段，其它字段都输出\n",
    "db.news.find( {}, {content: 0 } )"
   ]
  },
  {
   "cell_type": "markdown",
   "metadata": {},
   "source": [
    "### map-reduce"
   ]
  },
  {
   "cell_type": "code",
   "execution_count": null,
   "metadata": {},
   "outputs": [],
   "source": [
    "from bson.code import Code\n",
    "\n",
    "mapfunc = Code('''function(){emit(this.tel, {platform: this.platform,time:this.time})}''')\n",
    "reducefunc = Code(\n",
    "    '''function(key, values){var time = 0;var platform = \"\";values.forEach(function(doc){if(doc.time>time){time=doc.time;platform=doc.platform;}});return {platform: platform,time:time};}''')\n",
    "finalfunc = Code('''function(key, val){val.tel = key;return val;}''')\n",
    "\n",
    "movie.map_reduce(mapfunc, reducefunc, out=\"collection_name\", query={\n",
    "                 \"tel\": {\"$regex\": '^[0-9]+$'}, \"time\": {\"$gte\": 0}}, finalize=finalfunc)"
   ]
  },
  {
   "cell_type": "code",
   "execution_count": 56,
   "metadata": {},
   "outputs": [],
   "source": [
    "import random\n",
    "import pymongo\n",
    "\n",
    "MONGODB = {\n",
    "    \"user\": \"arvin\",\n",
    "    \"passwd\": \"arvin123\",\n",
    "    \"host\": \"127.0.0.1:27017\",\n",
    "    \"dbname\": \"testdb\"\n",
    "}\n",
    "\n",
    "\n",
    "def connect_mongo(mongo_param):\n",
    "    uri =  'mongodb://{}:{}@{}/{}'.format(quote_plus(mongo_param['user']),\n",
    "                                          quote_plus(mongo_param['passwd']),\n",
    "                                          mongo_param['host'],\n",
    "                                          mongo_param['dbname'])\n",
    "    try:\n",
    "        client = pymongo.MongoClient(uri, connect=False)\n",
    "        mongodb = client[mongo_param['dbname']]\n",
    "        return mongodb\n",
    "    except Exception as e:\n",
    "        print(e)\n",
    "        \n",
    "db = connect_mongo(MONGODB)\n",
    "\n",
    "doc = {'site': 'https://www.xxxxxxxxxx.com'}\n",
    "res = db['score'].insert_one(doc)\n",
    "\n",
    "\n",
    "try:\n",
    "    for year in [2018, 2019, 2020]:\n",
    "        for month in range(1, 13):\n",
    "            for day in range(1, 30):\n",
    "                date_str = '{}-{}-{}'.format(year, month, day)\n",
    "                data = [random.choice(range(30, 99)) for i in range(4)]\n",
    "                db['score'].update_one({'_id': res.inserted_id}, {'$set': {date_str: data}}, upsert=True)\n",
    "except Exception as e:\n",
    "    print(e)\n",
    "                \n",
    "\n",
    "# for i in range(10):\n",
    "#     name = ['xiaoming', 'frank', 'tom', 'jack', 'bomb']\n",
    "#     age = [18, 20, 19, 21, 22, 26, 24]\n",
    "#     weight = [120, 150 , 142, 123, 126, 135, 134]\n",
    "#     doc = {'name': random.choice(name), 'age':random.choice(age), 'weight': random.choice(weight), 'sex': 'male'}\n",
    "#     db['info'].insert_one(doc)\n",
    "\n",
    "# # 插入一条数据会返回一个ObjectId对象,ObjectId('5af8f8c62b5eba0bb8fece6d')    \n",
    "# result = movie.insert_one(doc)\n"
   ]
  },
  {
   "cell_type": "code",
   "execution_count": 4,
   "metadata": {},
   "outputs": [],
   "source": [
    "import pymongo\n",
    "\n",
    "# 仅仅创建mongodb连接,但未验证,没有连接到具体的数据库,相当于打开一个shell\n",
    "client = pymongo.MongoClient(host='192.168.1.141', port=27017)\n",
    "# 创建数据库\n",
    "db = pymongo.database.Database(client, 'goshawk_test')\n",
    "# db.command(\"createUser\", \"Goshawk\", pwd=\"yYZmrjJ8xauAe#t7\", roles=[\"readWrite\"])\n",
    "\n",
    "# 创建管理员用户,密码和权限\n",
    "# db.command(\"createUser\", \"admin\", pwd=\"admin@123456.\", roles=[\"root\"])\n",
    "# 创建普通用户,密码和读取权限\n",
    "# db.command(\"createUser\", \"arvin\", pwd=\"arvin@123456.\", roles=[\"readWrite\"])"
   ]
  },
  {
   "cell_type": "code",
   "execution_count": null,
   "metadata": {},
   "outputs": [],
   "source": []
  }
 ],
 "metadata": {
  "kernelspec": {
   "display_name": "Python 3",
   "language": "python",
   "name": "python3"
  },
  "language_info": {
   "codemirror_mode": {
    "name": "ipython",
    "version": 3
   },
   "file_extension": ".py",
   "mimetype": "text/x-python",
   "name": "python",
   "nbconvert_exporter": "python",
   "pygments_lexer": "ipython3",
   "version": "3.6.4"
  }
 },
 "nbformat": 4,
 "nbformat_minor": 2
}
