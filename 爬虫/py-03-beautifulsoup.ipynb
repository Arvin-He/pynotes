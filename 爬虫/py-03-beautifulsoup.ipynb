{
 "cells": [
  {
   "cell_type": "markdown",
   "metadata": {},
   "source": [
    "# BeautifulSoup基本使用"
   ]
  },
  {
   "cell_type": "markdown",
   "metadata": {},
   "source": [
    "### BeautifulSoup简介"
   ]
  },
  {
   "cell_type": "markdown",
   "metadata": {},
   "source": [
    "beautifulSoup “美味的汤，绿色的浓汤”\n",
    "\n",
    "一个灵活又方便的网页解析库，处理高效，支持多种解析器, 利用它就不用编写正则表达式也能方便的实现网页信息的抓取.\n",
    "\n",
    "BeautifulSoup既可以接受html字符串,也可以接受二进制content来进行html解析"
   ]
  },
  {
   "cell_type": "markdown",
   "metadata": {},
   "source": [
    "### 解析器"
   ]
  },
  {
   "cell_type": "markdown",
   "metadata": {},
   "source": [
    "Beautiful Soup支持Python标准库中的HTML解析器,还支持一些第三方的解析器，如果我们不安装它，则 Python 会使用 Python默认的解析器，lxml 解析器更加强大，速度更快，推荐安装。"
   ]
  },
  {
   "cell_type": "markdown",
   "metadata": {},
   "source": [
    "### 基本使用"
   ]
  },
  {
   "cell_type": "code",
   "execution_count": 7,
   "metadata": {},
   "outputs": [
    {
     "name": "stdout",
     "output_type": "stream",
     "text": [
      "获取整个title标签\n",
      "<title>The Dormouse's story</title>\n",
      "获取title标签名称\n",
      "title\n",
      "获取title标签内容\n",
      "The Dormouse's story\n",
      "获取title父标签名称\n",
      "head\n",
      "获取p标签\n",
      "<p class=\"title\"><b>The Dormouse's story</b></p>\n",
      "获取p标签class属性\n",
      "['title']\n",
      "获取a标签\n",
      "<a class=\"sister\" href=\"http://example.com/elsie\" id=\"link1\">Elsie</a>\n",
      "获取所有a标签\n",
      "[<a class=\"sister\" href=\"http://example.com/elsie\" id=\"link1\">Elsie</a>, <a class=\"sister\" href=\"http://example.com/lacie\" id=\"link2\">Lacie</a>, <a class=\"sister\" href=\"http://example.com/tillie\" id=\"link3\">Tillie</a>]\n",
      "<a class=\"sister\" href=\"http://example.com/tillie\" id=\"link3\">Tillie</a>\n",
      "http://example.com/elsie\n",
      "http://example.com/lacie\n",
      "http://example.com/tillie\n",
      "The Dormouse's story\n",
      "\n",
      "The Dormouse's story\n",
      "Once upon a time there were three little sisters; and their names were\n",
      "Elsie,\n",
      "Lacie and\n",
      "Tillie;\n",
      "and they lived at the bottom of a well.\n",
      "...\n",
      "\n"
     ]
    }
   ],
   "source": [
    "from bs4 import BeautifulSoup\n",
    "\n",
    "html = '''\n",
    "<html><head><title>The Dormouse's story</title></head>\n",
    "<body>\n",
    "<p class=\"title\"><b>The Dormouse's story</b></p>\n",
    "\n",
    "<p class=\"story\">Once upon a time there were three little sisters; and their names were\n",
    "<a href=\"http://example.com/elsie\" class=\"sister\" id=\"link1\">Elsie</a>,\n",
    "<a href=\"http://example.com/lacie\" class=\"sister\" id=\"link2\">Lacie</a> and\n",
    "<a href=\"http://example.com/tillie\" class=\"sister\" id=\"link3\">Tillie</a>;\n",
    "and they lived at the bottom of a well.</p>\n",
    "<p class=\"story\">...</p>\n",
    "'''\n",
    "\n",
    "soup = BeautifulSoup(html,'lxml')\n",
    "# print(soup.prettify())  \n",
    "print('获取整个title标签')\n",
    "print(soup.title)\n",
    "print('获取title标签名称')\n",
    "print(soup.title.name)\n",
    "print('获取title标签内容')\n",
    "print(soup.title.string)\n",
    "print('获取title父标签名称')\n",
    "print(soup.title.parent.name)\n",
    "      \n",
    "print('获取p标签')\n",
    "print(soup.p)\n",
    "print('获取p标签class属性')\n",
    "print(soup.p[\"class\"])\n",
    "print('获取a标签')      \n",
    "print(soup.a)\n",
    "print('获取所有a标签')      \n",
    "print(soup.find_all('a'))\n",
    "print(soup.find(id='link3'))\n",
    "\n",
    "for link in soup.find_all('a'):\n",
    "    print(link.get('href'))\n",
    "\n",
    "print(soup.get_text())"
   ]
  },
  {
   "cell_type": "markdown",
   "metadata": {},
   "source": [
    "### 标签选择器"
   ]
  },
  {
   "cell_type": "markdown",
   "metadata": {},
   "source": [
    "通过`soup.tagname` 就可以获得这个标签的整个内容,包括标签名称, 属性和内容.\n",
    "\n",
    "注意: 如果文档中有多个相同标签，返回的结果是第一个标签的内容."
   ]
  },
  {
   "cell_type": "markdown",
   "metadata": {},
   "source": [
    "### 获取名称"
   ]
  },
  {
   "cell_type": "markdown",
   "metadata": {},
   "source": [
    "通过`soup.title.name`就可以获得该title标签的名称，即title"
   ]
  },
  {
   "cell_type": "markdown",
   "metadata": {},
   "source": [
    "### 获取属性"
   ]
  },
  {
   "cell_type": "markdown",
   "metadata": {},
   "source": [
    "有两种方式:\n",
    "\n",
    "* soup.p.attrs['name']\n",
    "* soup.p['name']\n",
    "\n",
    "上面两种方式都可以获取p标签的name属性值"
   ]
  },
  {
   "cell_type": "markdown",
   "metadata": {},
   "source": [
    "### 获取内容"
   ]
  },
  {
   "cell_type": "markdown",
   "metadata": {},
   "source": [
    "`soup.p.string` : 结果就可以获取第一个p标签的内容: The Dormouse's story"
   ]
  },
  {
   "cell_type": "markdown",
   "metadata": {},
   "source": [
    "### 嵌套选择"
   ]
  },
  {
   "cell_type": "markdown",
   "metadata": {},
   "source": [
    "注意: 嵌套选择的前提是你要确定嵌套标签是存在的,如果不存在则返回None\n",
    "\n",
    "`soup.head.title.string`"
   ]
  },
  {
   "cell_type": "markdown",
   "metadata": {},
   "source": [
    "### 子节点和子孙节点"
   ]
  },
  {
   "cell_type": "markdown",
   "metadata": {},
   "source": [
    "* tag的` .contents` 属性可以将tag的子节点以列表的方式输出, 但字符串没有` .contents `属性,因为字符串没有子节点\n",
    "* tag的`.children`和`.contents`获取结果是一样的, 不同的是` .children` 是生成器,一个迭代对象，而不是列表,只能对tag的子节点进行循环\n",
    "* .contents 和 .children 属性仅包含tag的直接子节点\n",
    "* .descendants 属性可以对所有tag的子孙节点进行递归循环"
   ]
  },
  {
   "cell_type": "code",
   "execution_count": 4,
   "metadata": {},
   "outputs": [
    {
     "name": "stdout",
     "output_type": "stream",
     "text": [
      "\n",
      "            Once upon a time there were three little sisters; and their names were\n",
      "            \n",
      "----------------------------------------------------------------\n",
      "<a class=\"sister\" href=\"http://example.com/elsie\" id=\"link1\">\n",
      "<span>Elsie</span>\n",
      "</a>\n",
      "----------------------------------------------------------------\n",
      "\n",
      "\n",
      "----------------------------------------------------------------\n",
      "<a class=\"sister\" href=\"http://example.com/lacie\" id=\"link2\">Lacie</a>\n",
      "----------------------------------------------------------------\n",
      "\n",
      "            and\n",
      "            \n",
      "----------------------------------------------------------------\n",
      "<a class=\"sister\" href=\"http://example.com/tillie\" id=\"link3\">Tillie</a>\n",
      "----------------------------------------------------------------\n",
      "\n",
      "            and they lived at the bottom of a well.\n",
      "        \n",
      "----------------------------------------------------------------\n",
      "xxxxxxxxxxxxxxxxxxxxxxxxxxxxxxxxxxxxxxxxxxxxxxxxxxxxxxxxxxx\n",
      "\n",
      "            Once upon a time there were three little sisters; and their names were\n",
      "            \n",
      "=================================================================\n",
      "<a class=\"sister\" href=\"http://example.com/elsie\" id=\"link1\">\n",
      "<span>Elsie</span>\n",
      "</a>\n",
      "=================================================================\n",
      "\n",
      "\n",
      "=================================================================\n",
      "<a class=\"sister\" href=\"http://example.com/lacie\" id=\"link2\">Lacie</a>\n",
      "=================================================================\n",
      "\n",
      "            and\n",
      "            \n",
      "=================================================================\n",
      "<a class=\"sister\" href=\"http://example.com/tillie\" id=\"link3\">Tillie</a>\n",
      "=================================================================\n",
      "\n",
      "            and they lived at the bottom of a well.\n",
      "        \n",
      "=================================================================\n",
      "xxxxxxxxxxxxxxxxxxxxxxxxxxxxxxxxxxxxxxxxxxxxxxxxxxxxxxxxxxxx\n",
      "\n",
      "            Once upon a time there were three little sisters; and their names were\n",
      "            \n",
      "#################################################################\n",
      "<a class=\"sister\" href=\"http://example.com/elsie\" id=\"link1\">\n",
      "<span>Elsie</span>\n",
      "</a>\n",
      "#################################################################\n",
      "\n",
      "\n",
      "#################################################################\n",
      "<span>Elsie</span>\n",
      "#################################################################\n",
      "Elsie\n",
      "#################################################################\n",
      "\n",
      "\n",
      "#################################################################\n",
      "\n",
      "\n",
      "#################################################################\n",
      "<a class=\"sister\" href=\"http://example.com/lacie\" id=\"link2\">Lacie</a>\n",
      "#################################################################\n",
      "Lacie\n",
      "#################################################################\n",
      "\n",
      "            and\n",
      "            \n",
      "#################################################################\n",
      "<a class=\"sister\" href=\"http://example.com/tillie\" id=\"link3\">Tillie</a>\n",
      "#################################################################\n",
      "Tillie\n",
      "#################################################################\n",
      "\n",
      "            and they lived at the bottom of a well.\n",
      "        \n",
      "#################################################################\n"
     ]
    }
   ],
   "source": [
    "html = \"\"\"\n",
    "<html>\n",
    "    <head>\n",
    "        <title>The Dormouse's story</title>\n",
    "    </head>\n",
    "    <body>\n",
    "        <p class=\"story\">\n",
    "            Once upon a time there were three little sisters; and their names were\n",
    "            <a href=\"http://example.com/elsie\" class=\"sister\" id=\"link1\">\n",
    "                <span>Elsie</span>\n",
    "            </a>\n",
    "            <a href=\"http://example.com/lacie\" class=\"sister\" id=\"link2\">Lacie</a>\n",
    "            and\n",
    "            <a href=\"http://example.com/tillie\" class=\"sister\" id=\"link3\">Tillie</a>\n",
    "            and they lived at the bottom of a well.\n",
    "        </p>\n",
    "        <p class=\"story\">...</p>\n",
    "\"\"\"\n",
    "\n",
    "from bs4 import BeautifulSoup\n",
    "\n",
    "soup = BeautifulSoup(html,'lxml')\n",
    "for item in soup.p.contents:\n",
    "    print(item)\n",
    "    print('----------------------------------------------------------------')\n",
    "print('xxxxxxxxxxxxxxxxxxxxxxxxxxxxxxxxxxxxxxxxxxxxxxxxxxxxxxxxxxx') \n",
    "for item in soup.p.children: \n",
    "    print(item)\n",
    "    print('=================================================================')    \n",
    "print('xxxxxxxxxxxxxxxxxxxxxxxxxxxxxxxxxxxxxxxxxxxxxxxxxxxxxxxxxxxx')   \n",
    "for item in soup.p.descendants:\n",
    "    print(item)\n",
    "    print('#################################################################')"
   ]
  },
  {
   "cell_type": "markdown",
   "metadata": {},
   "source": [
    "### 父节点和祖先节点"
   ]
  },
  {
   "cell_type": "markdown",
   "metadata": {},
   "source": [
    "* `soup.a.parent` :获取父节点的信息\n",
    "* `soup.a.parents` : 获取祖先节点，这个方法返回的结果是一个列表\n",
    "\n",
    "`soup.a.parents`会分别将a标签的父节点的信息存放到列表中，以及父节点的父节点也放到列表中，并且最后还会讲整个文档放到列表中，所有列表的最后一个元素以及倒数第二个元素都是存的整个文档的信息"
   ]
  },
  {
   "cell_type": "code",
   "execution_count": 5,
   "metadata": {},
   "outputs": [
    {
     "name": "stdout",
     "output_type": "stream",
     "text": [
      "<p class=\"story\">\n",
      "            Once upon a time there were three little sisters; and their names were\n",
      "            <a class=\"sister\" href=\"http://example.com/elsie\" id=\"link1\">\n",
      "<span>Elsie</span>\n",
      "</a>\n",
      "<a class=\"sister\" href=\"http://example.com/lacie\" id=\"link2\">Lacie</a>\n",
      "            and\n",
      "            <a class=\"sister\" href=\"http://example.com/tillie\" id=\"link3\">Tillie</a>\n",
      "            and they lived at the bottom of a well.\n",
      "        </p>\n",
      "<body>\n",
      "<p class=\"story\">\n",
      "            Once upon a time there were three little sisters; and their names were\n",
      "            <a class=\"sister\" href=\"http://example.com/elsie\" id=\"link1\">\n",
      "<span>Elsie</span>\n",
      "</a>\n",
      "<a class=\"sister\" href=\"http://example.com/lacie\" id=\"link2\">Lacie</a>\n",
      "            and\n",
      "            <a class=\"sister\" href=\"http://example.com/tillie\" id=\"link3\">Tillie</a>\n",
      "            and they lived at the bottom of a well.\n",
      "        </p>\n",
      "<p class=\"story\">...</p>\n",
      "</body>\n",
      "<html>\n",
      "<head>\n",
      "<title>The Dormouse's story</title>\n",
      "</head>\n",
      "<body>\n",
      "<p class=\"story\">\n",
      "            Once upon a time there were three little sisters; and their names were\n",
      "            <a class=\"sister\" href=\"http://example.com/elsie\" id=\"link1\">\n",
      "<span>Elsie</span>\n",
      "</a>\n",
      "<a class=\"sister\" href=\"http://example.com/lacie\" id=\"link2\">Lacie</a>\n",
      "            and\n",
      "            <a class=\"sister\" href=\"http://example.com/tillie\" id=\"link3\">Tillie</a>\n",
      "            and they lived at the bottom of a well.\n",
      "        </p>\n",
      "<p class=\"story\">...</p>\n",
      "</body></html>\n",
      "<html>\n",
      "<head>\n",
      "<title>The Dormouse's story</title>\n",
      "</head>\n",
      "<body>\n",
      "<p class=\"story\">\n",
      "            Once upon a time there were three little sisters; and their names were\n",
      "            <a class=\"sister\" href=\"http://example.com/elsie\" id=\"link1\">\n",
      "<span>Elsie</span>\n",
      "</a>\n",
      "<a class=\"sister\" href=\"http://example.com/lacie\" id=\"link2\">Lacie</a>\n",
      "            and\n",
      "            <a class=\"sister\" href=\"http://example.com/tillie\" id=\"link3\">Tillie</a>\n",
      "            and they lived at the bottom of a well.\n",
      "        </p>\n",
      "<p class=\"story\">...</p>\n",
      "</body></html>\n"
     ]
    }
   ],
   "source": [
    "html = \"\"\"\n",
    "<html>\n",
    "    <head>\n",
    "        <title>The Dormouse's story</title>\n",
    "    </head>\n",
    "    <body>\n",
    "        <p class=\"story\">\n",
    "            Once upon a time there were three little sisters; and their names were\n",
    "            <a href=\"http://example.com/elsie\" class=\"sister\" id=\"link1\">\n",
    "                <span>Elsie</span>\n",
    "            </a>\n",
    "            <a href=\"http://example.com/lacie\" class=\"sister\" id=\"link2\">Lacie</a>\n",
    "            and\n",
    "            <a href=\"http://example.com/tillie\" class=\"sister\" id=\"link3\">Tillie</a>\n",
    "            and they lived at the bottom of a well.\n",
    "        </p>\n",
    "        <p class=\"story\">...</p>\n",
    "\"\"\"\n",
    "\n",
    "from bs4 import BeautifulSoup\n",
    "\n",
    "soup = BeautifulSoup(html,'lxml')\n",
    "\n",
    "for item in soup.a.parents:\n",
    "    print(item)"
   ]
  },
  {
   "cell_type": "markdown",
   "metadata": {},
   "source": [
    "### 兄弟节点"
   ]
  },
  {
   "cell_type": "markdown",
   "metadata": {},
   "source": [
    "`soup.a.next_siblings` :  获取后面的兄弟节点\n",
    "`soup.a.previous_siblings` : 获取前面的兄弟节点\n",
    "`soup.a.next_sibling` : 获取下一个兄弟标签\n",
    "`soup.a.previous_sinbling` :  获取上一个兄弟标签"
   ]
  },
  {
   "cell_type": "markdown",
   "metadata": {},
   "source": [
    "### .string, .strings和stripped_strings"
   ]
  },
  {
   "cell_type": "markdown",
   "metadata": {},
   "source": [
    "* 如果tag只有一个 NavigableString 类型子节点,那么这个tag可以使用 `.string` 得到子节点\n",
    "* 如果一个tag仅有一个子节点,那么这个tag也可以使用`.string` 方法,输出结果与当前唯一子节点的`.string`结果相同\n",
    "* 如果tag包含了多个子节点,tag就无法确定`.string`方法应该调用哪个子节点的内容,` .string` 的输出结果是 None\n",
    "* 如果tag中包含多个字符串 ,可以使用` .strings `来循环获取\n",
    "* 如果输出的字符串中可能包含了很多空格或空行,使用 `.stripped_strings` 可以去除多余空白内容"
   ]
  },
  {
   "cell_type": "markdown",
   "metadata": {},
   "source": [
    "### text和get_text()"
   ]
  },
  {
   "cell_type": "markdown",
   "metadata": {},
   "source": [
    "* text是属性\n",
    "* get_text(): 这个方法获取到tag中包含的所有文本内容,包括子孙tag中的文本内容,并将结果作为Unicode字符串返回."
   ]
  },
  {
   "cell_type": "code",
   "execution_count": 10,
   "metadata": {},
   "outputs": [
    {
     "name": "stdout",
     "output_type": "stream",
     "text": [
      "None\n",
      "None\n",
      "None\n",
      "None\n",
      "Hello\n",
      "None\n",
      "None\n",
      "Foo\n",
      "Bar\n",
      "Jay\n",
      "None\n",
      "Foo\n",
      "Bar\n",
      "xxxxxxxxxxxxxxxxxxxxxxxxxxxxx\n",
      "Hello\n",
      "\n",
      "\n",
      "\n",
      "Foo\n",
      "Bar\n",
      "Jay\n",
      "\n",
      "\n",
      "Foo\n",
      "Bar\n",
      "Hello\n",
      "\n",
      "\n",
      "\n",
      "Foo\n",
      "Bar\n",
      "Jay\n",
      "\n",
      "\n",
      "Foo\n",
      "Bar\n",
      "Hello\n",
      "\n",
      "\n",
      "\n",
      "Foo\n",
      "Bar\n",
      "Jay\n",
      "\n",
      "\n",
      "Foo\n",
      "Bar\n",
      "Hello\n",
      "Hello\n",
      "Foo\n",
      "Bar\n",
      "Jay\n",
      "\n",
      "\n",
      "Foo\n",
      "Bar\n",
      "Foo\n",
      "Bar\n",
      "Jay\n",
      "Foo\n",
      "Bar\n",
      "Jay\n",
      "Foo\n",
      "Bar\n",
      "Foo\n",
      "Bar\n",
      "xxxxxxxxxxxxxxxxxxxxxxxxxxxxx\n",
      "['Foo', 'Foo']\n"
     ]
    }
   ],
   "source": [
    "html='''\n",
    "<div class=\"panel\">\n",
    "    <div class=\"panel-heading\">\n",
    "        <h4>Hello</h4>\n",
    "    </div>\n",
    "    <div class=\"panel-body\">\n",
    "        <ul class=\"list\" id=\"list-1\">\n",
    "            <li class=\"element\">Foo</li>\n",
    "            <li class=\"element\">Bar</li>\n",
    "            <li class=\"element\">Jay</li>\n",
    "        </ul>\n",
    "        <ul class=\"list list-small\" id=\"list-2\">\n",
    "            <li class=\"element\">Foo</li>\n",
    "            <li class=\"element\">Bar</li>\n",
    "        </ul>\n",
    "    </div>\n",
    "</div>\n",
    "'''\n",
    "\n",
    "from bs4 import BeautifulSoup\n",
    "soup = BeautifulSoup(html, 'lxml')\n",
    "\n",
    "for item in soup.find_all(True):\n",
    "    print(item.string)\n",
    "print('xxxxxxxxxxxxxxxxxxxxxxxxxxxxx')\n",
    "\n",
    "for item in soup.find_all(True):\n",
    "    print(item.get_text().strip())\n",
    "    \n",
    "print('xxxxxxxxxxxxxxxxxxxxxxxxxxxxx')\n",
    "\n",
    "print(soup.find_all(text='Foo'))"
   ]
  },
  {
   "cell_type": "markdown",
   "metadata": {},
   "source": [
    "## 标准选择器"
   ]
  },
  {
   "cell_type": "markdown",
   "metadata": {},
   "source": [
    "### find_all"
   ]
  },
  {
   "cell_type": "markdown",
   "metadata": {},
   "source": [
    "`find_all(name,attrs,recursive,text,**kwargs)` : 根据标签名，属性，内容查找文档, 结果返回的是一个列表."
   ]
  },
  {
   "cell_type": "code",
   "execution_count": 6,
   "metadata": {},
   "outputs": [
    {
     "name": "stdout",
     "output_type": "stream",
     "text": [
      "[<ul class=\"list\" id=\"list-1\">\n",
      "<li class=\"element\">Foo</li>\n",
      "<li class=\"element\">Bar</li>\n",
      "<li class=\"element\">Jay</li>\n",
      "</ul>, <ul class=\"list list-small\" id=\"list-2\">\n",
      "<li class=\"element\">Foo</li>\n",
      "<li class=\"element\">Bar</li>\n",
      "</ul>]\n",
      "<class 'bs4.element.Tag'>\n"
     ]
    }
   ],
   "source": [
    "html='''\n",
    "<div class=\"panel\">\n",
    "    <div class=\"panel-heading\">\n",
    "        <h4>Hello</h4>\n",
    "    </div>\n",
    "    <div class=\"panel-body\">\n",
    "        <ul class=\"list\" id=\"list-1\">\n",
    "            <li class=\"element\">Foo</li>\n",
    "            <li class=\"element\">Bar</li>\n",
    "            <li class=\"element\">Jay</li>\n",
    "        </ul>\n",
    "        <ul class=\"list list-small\" id=\"list-2\">\n",
    "            <li class=\"element\">Foo</li>\n",
    "            <li class=\"element\">Bar</li>\n",
    "        </ul>\n",
    "    </div>\n",
    "</div>\n",
    "'''\n",
    "from bs4 import BeautifulSoup\n",
    "soup = BeautifulSoup(html, 'lxml')\n",
    "print(soup.find_all('ul'))\n",
    "print(type(soup.find_all('ul')[0]))"
   ]
  },
  {
   "cell_type": "markdown",
   "metadata": {},
   "source": [
    "### find以及find嵌套使用"
   ]
  },
  {
   "cell_type": "markdown",
   "metadata": {},
   "source": [
    "`find( name , attrs , recursive , string , **kwargs )`: find返回的匹配结果的第一个元素\n",
    "\n",
    "与 `find_all()` 方法的唯一区别是返回一个列表,而` find()` 方法直接返回结果.\n",
    "\n",
    "find_all() 方法没有找到目标是返回空列表, find() 方法找不到目标时,返回 None .\n",
    "\n",
    "注意: find_all() 和 find() 只搜索当前节点的所有子节点,孙子节点等.\n",
    "\n",
    "find方法可以嵌套使用,如: `soup.find('tr').find('td')`"
   ]
  },
  {
   "cell_type": "markdown",
   "metadata": {},
   "source": [
    "### 其他find选择器"
   ]
  },
  {
   "cell_type": "markdown",
   "metadata": {},
   "source": [
    "* `find_parent()`:  返回直接父节点\n",
    "* `find_parents()`: 返回所有祖先节点\n",
    "* `find_previous_sibling()`: 返回前面第一个兄弟节点\n",
    "* `find_previous_siblings()`: 返回前面所有兄弟节点\n",
    "* `find_next_sibling()`: 返回后面第一个兄弟节点\n",
    "* `find_next_siblings()`: 返回后面所有兄弟节点\n",
    "* ` find_next()`: 返回节点后第一个符合条件的节点\n",
    "* `find_all_next()`: 返回节点后所有符合条件的节点\n",
    "* ` find_previous()`: 返回节点前第一个符合条件的节点\n",
    "* `find_all_previous()`: 返回节点后所有符合条件的节点"
   ]
  },
  {
   "cell_type": "markdown",
   "metadata": {},
   "source": [
    "### attrs"
   ]
  },
  {
   "cell_type": "markdown",
   "metadata": {},
   "source": [
    "attrs可以传入字典的方式来查找标签，但是这里有个特殊的就是`class`,因为`class`在python中是特殊的字段，\n",
    "\n",
    "如果想要查找class相关的可以更改`attrs={'class_':'element'}`或者`soup.find_all('',{\"class\":\"element})`，\n",
    "\n",
    "特殊的标签属性可以不写attrs，例如id"
   ]
  },
  {
   "cell_type": "code",
   "execution_count": 7,
   "metadata": {},
   "outputs": [
    {
     "name": "stdout",
     "output_type": "stream",
     "text": [
      "[<ul class=\"list\" id=\"list-1\" name=\"elements\">\n",
      "<li class=\"element\">Foo</li>\n",
      "<li class=\"element\">Bar</li>\n",
      "<li class=\"element\">Jay</li>\n",
      "</ul>]\n",
      "[<ul class=\"list\" id=\"list-1\" name=\"elements\">\n",
      "<li class=\"element\">Foo</li>\n",
      "<li class=\"element\">Bar</li>\n",
      "<li class=\"element\">Jay</li>\n",
      "</ul>]\n"
     ]
    }
   ],
   "source": [
    "html='''\n",
    "<div class=\"panel\">\n",
    "    <div class=\"panel-heading\">\n",
    "        <h4>Hello</h4>\n",
    "    </div>\n",
    "    <div class=\"panel-body\">\n",
    "        <ul class=\"list\" id=\"list-1\" name=\"elements\">\n",
    "            <li class=\"element\">Foo</li>\n",
    "            <li class=\"element\">Bar</li>\n",
    "            <li class=\"element\">Jay</li>\n",
    "        </ul>\n",
    "        <ul class=\"list list-small\" id=\"list-2\">\n",
    "            <li class=\"element\">Foo</li>\n",
    "            <li class=\"element\">Bar</li>\n",
    "        </ul>\n",
    "    </div>\n",
    "</div>\n",
    "'''\n",
    "from bs4 import BeautifulSoup\n",
    "soup = BeautifulSoup(html, 'lxml')\n",
    "print(soup.find_all(attrs={'id': 'list-1'}))\n",
    "print(soup.find_all(attrs={'name': 'elements'}))"
   ]
  },
  {
   "cell_type": "markdown",
   "metadata": {},
   "source": [
    "## CSS选择器"
   ]
  },
  {
   "cell_type": "markdown",
   "metadata": {},
   "source": [
    "通过select()直接传入CSS选择器就可以完成选择, 熟悉前端的人对CSS可能更加了解，其实用法也是一样的\n",
    "* .表示class \n",
    "* #表示id\n",
    "* 标签1，标签2 找到所有的标签1和标签2\n",
    "* 标签1 标签2 找到标签1内部的所有的标签2\n",
    "* [attr] 可以通过这种方法找到具有某个属性的所有标签\n",
    "* [atrr=value] 例子[target=_blank]表示查找所有target=_blank的标签"
   ]
  },
  {
   "cell_type": "code",
   "execution_count": 11,
   "metadata": {},
   "outputs": [
    {
     "name": "stdout",
     "output_type": "stream",
     "text": [
      "[<div class=\"panel-heading\">\n",
      "<h4>Hello</h4>\n",
      "</div>]\n",
      "[<li class=\"element\">Foo</li>, <li class=\"element\">Bar</li>, <li class=\"element\">Jay</li>, <li class=\"element\">Foo</li>, <li class=\"element\">Bar</li>]\n",
      "[<li class=\"element\">Foo</li>, <li class=\"element\">Bar</li>]\n",
      "<class 'bs4.element.Tag'>\n"
     ]
    }
   ],
   "source": [
    "html='''\n",
    "<div class=\"panel\">\n",
    "    <div class=\"panel-heading\">\n",
    "        <h4>Hello</h4>\n",
    "    </div>\n",
    "    <div class=\"panel-body\">\n",
    "        <ul class=\"list\" id=\"list-1\">\n",
    "            <li class=\"element\">Foo</li>\n",
    "            <li class=\"element\">Bar</li>\n",
    "            <li class=\"element\">Jay</li>\n",
    "        </ul>\n",
    "        <ul class=\"list list-small\" id=\"list-2\">\n",
    "            <li class=\"element\">Foo</li>\n",
    "            <li class=\"element\">Bar</li>\n",
    "        </ul>\n",
    "    </div>\n",
    "</div>\n",
    "'''\n",
    "from bs4 import BeautifulSoup\n",
    "soup = BeautifulSoup(html, 'lxml')\n",
    "print(soup.select('.panel .panel-heading'))\n",
    "print(soup.select('ul li'))\n",
    "print(soup.select('#list-2 .element'))\n",
    "print(type(soup.select('ul')[0]))"
   ]
  },
  {
   "cell_type": "markdown",
   "metadata": {},
   "source": [
    "### 总结"
   ]
  },
  {
   "cell_type": "markdown",
   "metadata": {},
   "source": [
    "* 推荐使用lxml解析库，必要时使用html.parser\n",
    "* 标签选择筛选功能弱但是速度快\n",
    "* 建议使用find()、find_all() 查询匹配单个结果或者多个结果\n",
    "* 如果对CSS选择器熟悉建议使用select()\n",
    "* 记住常用的获取属性和文本值的方法"
   ]
  }
 ],
 "metadata": {
  "kernelspec": {
   "display_name": "Python 3",
   "language": "python",
   "name": "python3"
  },
  "language_info": {
   "codemirror_mode": {
    "name": "ipython",
    "version": 3
   },
   "file_extension": ".py",
   "mimetype": "text/x-python",
   "name": "python",
   "nbconvert_exporter": "python",
   "pygments_lexer": "ipython3",
   "version": "3.6.4"
  }
 },
 "nbformat": 4,
 "nbformat_minor": 2
}
