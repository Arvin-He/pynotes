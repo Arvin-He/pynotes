{
 "cells": [
  {
   "cell_type": "markdown",
   "metadata": {},
   "source": [
    "# requests库基本使用"
   ]
  },
  {
   "cell_type": "markdown",
   "metadata": {},
   "source": [
    "### requests简介"
   ]
  },
  {
   "cell_type": "markdown",
   "metadata": {},
   "source": [
    "Requests是用python语言基于urllib编写的，采用的是Apache2 Licensed开源协议的HTTP库.\n",
    "\n",
    "Requests 唯一的一个非转基因的 Python HTTP 库，人类可以安全享用。也是最好的最适用于人类的http库.\n",
    "\n",
    "Requests 允许你发送纯天然，植物饲养的 HTTP/1.1 请求，无需手工劳动。你不需要手动为 URL 添加查询字串，也不需要对 POST 数据进行表单编码。Keep-alive 和 HTTP 连接池的功能是 100% 自动化的，一切动力都来自于根植在 Requests 内部的 urllib3。\n",
    "\n",
    "注意:\n",
    "* 默认安装好python之后，是没有安装requests模块的，需要单独通过pip安装: `pip install requests`\n",
    "* requests库是同步阻塞的,不是异步非阻塞的"
   ]
  },
  {
   "cell_type": "markdown",
   "metadata": {},
   "source": [
    "### requests功能详解"
   ]
  },
  {
   "cell_type": "code",
   "execution_count": 2,
   "metadata": {},
   "outputs": [
    {
     "name": "stdout",
     "output_type": "stream",
     "text": [
      "<class 'requests.models.Response'>\n",
      "200\n",
      "<class 'str'>\n",
      "<RequestsCookieJar[<Cookie BDORZ=27315 for .baidu.com/>]>\n",
      "<class 'bytes'>\n"
     ]
    }
   ],
   "source": [
    "import requests\n",
    "\n",
    "response  = requests.get(\"https://www.baidu.com\")\n",
    "print(type(response))\n",
    "print(response.status_code)\n",
    "print(type(response.text))\n",
    "# print(response.text)\n",
    "print(response.cookies)\n",
    "print(type(response.content))\n",
    "# print(response.content)\n",
    "# print(response.content.decode(\"utf-8\"))"
   ]
  },
  {
   "cell_type": "markdown",
   "metadata": {},
   "source": [
    "很多情况下的网站如果直接response.text会出现乱码的问题，所以这个使用response.content.\n",
    "\n",
    "response.content的数据格式其实是二进制格式，然后通过decode()转换为utf-8，这样就解决了通过response.text直接返回显示乱码的问题."
   ]
  },
  {
   "cell_type": "markdown",
   "metadata": {},
   "source": [
    "### 各种请求方式"
   ]
  },
  {
   "cell_type": "code",
   "execution_count": 7,
   "metadata": {},
   "outputs": [
    {
     "name": "stdout",
     "output_type": "stream",
     "text": [
      "<Response [200]> <Response [200]> <Response [200]> <Response [200]> <Response [200]> <Response [200]>\n"
     ]
    }
   ],
   "source": [
    "import requests\n",
    "\n",
    "res1 = requests.get(\"http://httpbin.org/get\")\n",
    "res2 = requests.post(\"http://httpbin.org/post\")\n",
    "res3 = requests.put(\"http://httpbin.org/put\")\n",
    "res4 = requests.delete(\"http://httpbin.org/delete\")\n",
    "res5 = requests.head(\"http://httpbin.org/get\")\n",
    "res6 = requests.options(\"http://httpbin.org/get\")\n",
    "print(res1, res2, res3, res4, res5, res6)"
   ]
  },
  {
   "cell_type": "markdown",
   "metadata": {},
   "source": [
    "### 基本GET请求"
   ]
  },
  {
   "cell_type": "code",
   "execution_count": 3,
   "metadata": {},
   "outputs": [
    {
     "name": "stdout",
     "output_type": "stream",
     "text": [
      "200\n"
     ]
    }
   ],
   "source": [
    "import requests\n",
    "\n",
    "response = requests.get('http://httpbin.org/get')\n",
    "print(response.status_code)"
   ]
  },
  {
   "cell_type": "markdown",
   "metadata": {},
   "source": [
    "#### 带参数的GET请求"
   ]
  },
  {
   "cell_type": "markdown",
   "metadata": {},
   "source": [
    "**注意：** 通过字典构造参数的方式，如果字典中的参数为None则不会添加到url上"
   ]
  },
  {
   "cell_type": "code",
   "execution_count": 11,
   "metadata": {},
   "outputs": [
    {
     "name": "stdout",
     "output_type": "stream",
     "text": [
      "http://httpbin.org/get?name=arvin&age=18\n",
      "200\n",
      "200\n",
      "http://httpbin.org/get?name=arvin&age=23\n",
      "http://httpbin.org/get?name=arvin\n"
     ]
    }
   ],
   "source": [
    "import requests\n",
    "\n",
    "# 方式一: 通过字典构造\n",
    "data = {\n",
    "    \"name\":\"arvin\",\n",
    "    \"age\": 18\n",
    "}\n",
    "response = requests.get(\"http://httpbin.org/get\",params=data)\n",
    "print(response.url)\n",
    "print(response.status_code)\n",
    "\n",
    "# 方式二: 直接构造url\n",
    "URL = \"http://httpbin.org/get?name={}&age={}\".format('arvin', 23)\n",
    "response = requests.get(URL)\n",
    "print(response.status_code)\n",
    "print(response.url)\n",
    "\n",
    "data = {'name': 'arvin', 'age': None}\n",
    "response = requests.get(\"http://httpbin.org/get\",params=data)\n",
    "print(response.url)"
   ]
  },
  {
   "cell_type": "markdown",
   "metadata": {},
   "source": [
    "### 解析json"
   ]
  },
  {
   "cell_type": "code",
   "execution_count": 12,
   "metadata": {},
   "outputs": [
    {
     "name": "stdout",
     "output_type": "stream",
     "text": [
      "<class 'str'>\n",
      "{'args': {}, 'headers': {'Accept': '*/*', 'Accept-Encoding': 'gzip, deflate', 'Connection': 'close', 'Host': 'httpbin.org', 'User-Agent': 'python-requests/2.18.4'}, 'origin': '221.225.233.59', 'url': 'http://httpbin.org/get'}\n",
      "{'args': {}, 'headers': {'Accept': '*/*', 'Accept-Encoding': 'gzip, deflate', 'Connection': 'close', 'Host': 'httpbin.org', 'User-Agent': 'python-requests/2.18.4'}, 'origin': '221.225.233.59', 'url': 'http://httpbin.org/get'}\n",
      "<class 'dict'>\n"
     ]
    }
   ],
   "source": [
    "import requests\n",
    "import json\n",
    "\n",
    "response = requests.get(\"http://httpbin.org/get\")\n",
    "print(type(response.text))\n",
    "print(response.json())\n",
    "print(json.loads(response.text))\n",
    "print(type(response.json()))"
   ]
  },
  {
   "cell_type": "markdown",
   "metadata": {},
   "source": [
    "### 获取二进制数据"
   ]
  },
  {
   "cell_type": "markdown",
   "metadata": {},
   "source": [
    "`response.content`获取的数据是二进制数据，同样`response.content`也可以用于下载图片以及视频资源"
   ]
  },
  {
   "cell_type": "markdown",
   "metadata": {},
   "source": [
    "### 添加headers"
   ]
  },
  {
   "cell_type": "code",
   "execution_count": 13,
   "metadata": {},
   "outputs": [
    {
     "name": "stdout",
     "output_type": "stream",
     "text": [
      "<html>\r\n",
      "<head><title>400 Bad Request</title></head>\r\n",
      "<body bgcolor=\"white\">\r\n",
      "<center><h1>400 Bad Request</h1></center>\r\n",
      "<hr><center>openresty</center>\r\n",
      "</body>\r\n",
      "</html>\r\n",
      "\n"
     ]
    }
   ],
   "source": [
    "import requests\n",
    "response =requests.get(\"https://www.zhihu.com\")\n",
    "print(response.text)"
   ]
  },
  {
   "cell_type": "markdown",
   "metadata": {},
   "source": [
    "因为访问知乎需要头部信息，这个时候我们在谷歌浏览器里输入`chrome://version`,就可以看到用户代理，将用户代理添加到头部信."
   ]
  },
  {
   "cell_type": "code",
   "execution_count": 15,
   "metadata": {},
   "outputs": [
    {
     "name": "stdout",
     "output_type": "stream",
     "text": [
      "200\n",
      "https://www.zhihu.com/\n"
     ]
    }
   ],
   "source": [
    "import requests\n",
    "headers = {\n",
    "    \"User-Agent\":\"Mozilla/5.0 (Windows NT 10.0; WOW64) AppleWebKit/537.36 (KHTML, like Gecko) Chrome/66.0.3359.170 Safari/537.36\"\n",
    "}\n",
    "response =requests.get(\"https://www.zhihu.com\",headers=headers)\n",
    "\n",
    "print(response.status_code)\n",
    "print(response.url)"
   ]
  },
  {
   "cell_type": "markdown",
   "metadata": {},
   "source": [
    "### 基本POST请求"
   ]
  },
  {
   "cell_type": "markdown",
   "metadata": {},
   "source": [
    "发送post请求时添加一个data参数，这个data参数可以通过字典构造成"
   ]
  },
  {
   "cell_type": "code",
   "execution_count": 16,
   "metadata": {},
   "outputs": [
    {
     "name": "stdout",
     "output_type": "stream",
     "text": [
      "http://httpbin.org/post\n",
      "{\n",
      "  \"args\": {}, \n",
      "  \"data\": \"\", \n",
      "  \"files\": {}, \n",
      "  \"form\": {\n",
      "    \"age\": \"18\", \n",
      "    \"name\": \"arvin\"\n",
      "  }, \n",
      "  \"headers\": {\n",
      "    \"Accept\": \"*/*\", \n",
      "    \"Accept-Encoding\": \"gzip, deflate\", \n",
      "    \"Connection\": \"close\", \n",
      "    \"Content-Length\": \"17\", \n",
      "    \"Content-Type\": \"application/x-www-form-urlencoded\", \n",
      "    \"Host\": \"httpbin.org\", \n",
      "    \"User-Agent\": \"python-requests/2.18.4\"\n",
      "  }, \n",
      "  \"json\": null, \n",
      "  \"origin\": \"221.225.233.59\", \n",
      "  \"url\": \"http://httpbin.org/post\"\n",
      "}\n",
      "\n"
     ]
    }
   ],
   "source": [
    "import requests\n",
    "\n",
    "data = { \"name\": \"arvin\", \"age\": 18 } \n",
    "response = requests.post(\"http://httpbin.org/post\",data=data)\n",
    "print(response.url)\n",
    "print(response.text)"
   ]
  },
  {
   "cell_type": "markdown",
   "metadata": {},
   "source": [
    "发送post请求时添加一个json参数，这个json参数可以通过字典构造成"
   ]
  },
  {
   "cell_type": "code",
   "execution_count": 18,
   "metadata": {},
   "outputs": [
    {
     "name": "stdout",
     "output_type": "stream",
     "text": [
      "http://httpbin.org/post\n",
      "{'args': {}, 'data': '{\"name\": \"arvin\", \"age\": 18}', 'files': {}, 'form': {}, 'headers': {'Accept': '*/*', 'Accept-Encoding': 'gzip, deflate', 'Connection': 'close', 'Content-Length': '28', 'Content-Type': 'application/json', 'Host': 'httpbin.org', 'User-Agent': 'python-requests/2.18.4'}, 'json': {'age': 18, 'name': 'arvin'}, 'origin': '221.225.233.59', 'url': 'http://httpbin.org/post'}\n"
     ]
    }
   ],
   "source": [
    "import requests\n",
    "\n",
    "data = { \"name\": \"arvin\", \"age\": 18 } \n",
    "response = requests.post(\"http://httpbin.org/post\",json=data)\n",
    "print(response.url)\n",
    "print(response.json())"
   ]
  },
  {
   "cell_type": "markdown",
   "metadata": {},
   "source": [
    "## 响应(response)"
   ]
  },
  {
   "cell_type": "markdown",
   "metadata": {},
   "source": [
    "### response属性"
   ]
  },
  {
   "cell_type": "code",
   "execution_count": 20,
   "metadata": {},
   "outputs": [
    {
     "name": "stdout",
     "output_type": "stream",
     "text": [
      "<class 'int'> =============>>> 200\n",
      "<class 'requests.structures.CaseInsensitiveDict'> =============>>> {'Cache-Control': 'private, no-cache, no-store, proxy-revalidate, no-transform', 'Connection': 'Keep-Alive', 'Content-Encoding': 'gzip', 'Content-Type': 'text/html', 'Date': 'Mon, 06 Aug 2018 08:32:35 GMT', 'Last-Modified': 'Mon, 23 Jan 2017 13:28:24 GMT', 'Pragma': 'no-cache', 'Server': 'bfe/1.0.8.18', 'Set-Cookie': 'BDORZ=27315; max-age=86400; domain=.baidu.com; path=/', 'Transfer-Encoding': 'chunked'}\n",
      "<class 'requests.cookies.RequestsCookieJar'> =============>>> <RequestsCookieJar[<Cookie BDORZ=27315 for .baidu.com/>]>\n",
      "<class 'str'> =============>>> http://www.baidu.com/\n",
      "<class 'list'> =============>>> []\n"
     ]
    }
   ],
   "source": [
    "import requests\n",
    "\n",
    "response = requests.get(\"http://www.baidu.com\")\n",
    "\n",
    "sprate = '=============>>>'\n",
    "print(type(response.status_code), sprate, response.status_code)\n",
    "print(type(response.headers), sprate, response.headers)\n",
    "print(type(response.cookies), sprate, response.cookies)\n",
    "print(type(response.url), sprate, response.url)\n",
    "print(type(response.history), sprate, response.history)"
   ]
  },
  {
   "cell_type": "code",
   "execution_count": null,
   "metadata": {},
   "outputs": [],
   "source": []
  }
 ],
 "metadata": {
  "kernelspec": {
   "display_name": "Python 3",
   "language": "python",
   "name": "python3"
  },
  "language_info": {
   "codemirror_mode": {
    "name": "ipython",
    "version": 3
   },
   "file_extension": ".py",
   "mimetype": "text/x-python",
   "name": "python",
   "nbconvert_exporter": "python",
   "pygments_lexer": "ipython3",
   "version": "3.6.4"
  }
 },
 "nbformat": 4,
 "nbformat_minor": 2
}
