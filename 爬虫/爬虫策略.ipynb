{
 "cells": [
  {
   "cell_type": "markdown",
   "metadata": {},
   "source": [
    "# 爬虫策略"
   ]
  },
  {
   "cell_type": "markdown",
   "metadata": {},
   "source": [
    "爬虫遍历分为2种:\n",
    "1. 广度优先\n",
    "2. 深度优先\n",
    "\n",
    "scrapy框架采用的是深度优先"
   ]
  },
  {
   "cell_type": "markdown",
   "metadata": {},
   "source": [
    "## 爬虫注意点"
   ]
  },
  {
   "cell_type": "markdown",
   "metadata": {},
   "source": [
    "1. 去重问题: 任何一个子页面其实都是可以返回到首页，当爬取页面的时候就会涉及到去重问题，需要将爬过的url记录下来.\n",
    "2. 抓取策略: 深度优先、广度优先 \n",
    "3. 爬虫过滤与限制条件\n",
    "    * 指定域名爬取\n",
    "    * 限定爬取数目\n",
    "    * 限定爬取频率"
   ]
  },
  {
   "cell_type": "markdown",
   "metadata": {},
   "source": [
    "## 爬虫策略"
   ]
  },
  {
   "cell_type": "markdown",
   "metadata": {},
   "source": [
    "### 深度优先"
   ]
  },
  {
   "cell_type": "markdown",
   "metadata": {},
   "source": [
    "深度优先是指网络爬虫会从起始页开始，一个链接一个链接跟踪下去，处理完这条线路之后再转入下一个起始页，继续追踪链接."
   ]
  },
  {
   "cell_type": "code",
   "execution_count": null,
   "metadata": {},
   "outputs": [],
   "source": [
    "def depth_tree(tree_node):\n",
    "    if tree_node:\n",
    "        print(tree_node)\n",
    "        if tree_node._left:\n",
    "            return depth_tree(tree_node._left)\n",
    "        if tree_node._right:\n",
    "            return depth_tree(tree_node._right)"
   ]
  },
  {
   "cell_type": "markdown",
   "metadata": {},
   "source": [
    "### 广度优先"
   ]
  },
  {
   "cell_type": "markdown",
   "metadata": {},
   "source": [
    "广度优先是指将新下载网页发现的链接直接插入到待抓取URL队列的末尾，也就是指网络爬虫会先抓取起始页中的所有网页，然后在选择其中的一个连接网页，继续抓取在此网页中链接的所有网页"
   ]
  },
  {
   "cell_type": "code",
   "execution_count": null,
   "metadata": {},
   "outputs": [],
   "source": [
    "def level_queue(root):\n",
    "    if root:\n",
    "        return\n",
    "    my_queue = []\n",
    "    node = root\n",
    "    my_queue.append(node)\n",
    "    while my_queue:\n",
    "        node = my_queue.pop(0)\n",
    "        print(node.elem)\n",
    "        if node.lchild:\n",
    "            my_queue.append(node.lchild)\n",
    "        if node.rchild:\n",
    "            my_queue.append(node.rchild)"
   ]
  }
 ],
 "metadata": {
  "kernelspec": {
   "display_name": "Python 3",
   "language": "python",
   "name": "python3"
  },
  "language_info": {
   "codemirror_mode": {
    "name": "ipython",
    "version": 3
   },
   "file_extension": ".py",
   "mimetype": "text/x-python",
   "name": "python",
   "nbconvert_exporter": "python",
   "pygments_lexer": "ipython3",
   "version": "3.6.4"
  }
 },
 "nbformat": 4,
 "nbformat_minor": 2
}
