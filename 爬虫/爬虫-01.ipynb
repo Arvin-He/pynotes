{
 "cells": [
  {
   "cell_type": "markdown",
   "metadata": {},
   "source": [
    "# 爬虫并发"
   ]
  },
  {
   "cell_type": "markdown",
   "metadata": {},
   "source": [
    "### 简单循环串行"
   ]
  },
  {
   "cell_type": "markdown",
   "metadata": {},
   "source": [
    "这种方法应该是最慢的，因为一个一个循环，耗时是最长的，是所有时间总和"
   ]
  },
  {
   "cell_type": "code",
   "execution_count": 1,
   "metadata": {},
   "outputs": [
    {
     "name": "stdout",
     "output_type": "stream",
     "text": [
      "开始时间为: 1533104896.6427982\n",
      "200\n",
      "第 0 个请求花费时间: 0.04388260841369629\n",
      "200\n",
      "第 1 个请求花费时间: 3.041865110397339\n",
      "200\n",
      "第 2 个请求花费时间: 0.23140478134155273\n",
      "总共花费时间为: 3.317152500152588\n"
     ]
    }
   ],
   "source": [
    "import time\n",
    "import requests\n",
    "\n",
    "url_list = [\n",
    "    'http://www.baidu.com',\n",
    "    'http://www.pythonsite.com',\n",
    "    'http://www.cnblogs.com/'\n",
    "]\n",
    "\n",
    "start_time = time.time()\n",
    "print('开始时间为: {}'.format(start_time))\n",
    "\n",
    "for i, url in enumerate(url_list):\n",
    "    start = time.time()\n",
    "    result = requests.get(url)\n",
    "    print(result.status_code)\n",
    "    end = time.time()\n",
    "    print('第 {} 个请求花费时间: {}'.format(i, end-start))\n",
    "    \n",
    "end_time = time.time()\n",
    "\n",
    "print('总共花费时间为: {}'.format(end_time-start_time))\n",
    "    "
   ]
  },
  {
   "cell_type": "markdown",
   "metadata": {},
   "source": [
    "### 线程池并发"
   ]
  },
  {
   "cell_type": "markdown",
   "metadata": {},
   "source": [
    "通过线程池的方式访问，这样整体的耗时是所有连接里耗时最久的那个，相对循环串行来说快了很多"
   ]
  },
  {
   "cell_type": "code",
   "execution_count": 4,
   "metadata": {},
   "outputs": [
    {
     "name": "stdout",
     "output_type": "stream",
     "text": [
      "开始时间为: 1533105726.9810228\n",
      "第 0 个请求花费时间: 0.005985260009765625\n",
      "第 1 个请求花费时间: 0.0019941329956054688\n",
      "第 2 个请求花费时间: 0.004986286163330078\n",
      "总共花费时间为: 0.013963699340820312\n",
      "200\n",
      "200\n",
      "200\n"
     ]
    }
   ],
   "source": [
    "import time\n",
    "import requests\n",
    "from concurrent.futures import ThreadPoolExecutor\n",
    "\n",
    "url_list = [\n",
    "    'http://www.baidu.com',\n",
    "    'http://www.bing.com',\n",
    "    'http://www.cnblogs.com/'\n",
    "]\n",
    "\n",
    "def fetch(url):\n",
    "    result = requests.get(url)\n",
    "    print(result.status_code)\n",
    "    \n",
    "\n",
    "pool = ThreadPoolExecutor(10)\n",
    "\n",
    "start_time = time.time()\n",
    "print('开始时间为: {}'.format(start_time))\n",
    "\n",
    "for i, url in enumerate(url_list):\n",
    "    start = time.time()\n",
    "    pool.submit(fetch, url)\n",
    "    end = time.time()\n",
    "    print('第 {} 个请求花费时间: {}'.format(i, end-start))\n",
    "\n",
    "end_time = time.time()\n",
    "print('总共花费时间为: {}'.format(end_time-start_time))    "
   ]
  },
  {
   "cell_type": "markdown",
   "metadata": {},
   "source": [
    "### 线程池+回调函数"
   ]
  },
  {
   "cell_type": "code",
   "execution_count": 10,
   "metadata": {},
   "outputs": [
    {
     "name": "stdout",
     "output_type": "stream",
     "text": [
      "开始时间为: 1533106206.701956\n",
      "创建线程池花费时间: 0.0\n",
      "第 0 个请求花费时间: 0.0\n",
      "第 1 个请求花费时间: 0.0029916763305664062\n",
      "第 2 个请求花费时间: 0.0019936561584472656\n",
      "总共花费时间为: 0.008974552154541016\n",
      "200\n",
      "200\n",
      "200\n",
      "关闭线程池花费时间: 0.32712578773498535\n"
     ]
    }
   ],
   "source": [
    "import time\n",
    "import requests\n",
    "from concurrent.futures import ThreadPoolExecutor\n",
    "\n",
    "url_list = [\n",
    "    'http://www.baidu.com',\n",
    "    'http://www.bing.com',\n",
    "    'http://www.cnblogs.com/'\n",
    "]\n",
    "\n",
    "def fetch_async(url):\n",
    "    response = requests.get(url)\n",
    "    return response\n",
    "\n",
    "def callback(future):\n",
    "    print(future.result().status_code)\n",
    "    \n",
    "\n",
    "start_time = time.time()\n",
    "print('开始时间为: {}'.format(start_time))\n",
    "\n",
    "pool = ThreadPoolExecutor(5)\n",
    "\n",
    "print('创建线程池花费时间: {}'.format(time.time() - start_time))\n",
    "\n",
    "for i, url in enumerate(url_list):\n",
    "    start = time.time()\n",
    "    v = pool.submit(fetch_async, url)\n",
    "    v.add_done_callback(callback)\n",
    "    end = time.time()\n",
    "    print('第 {} 个请求花费时间: {}'.format(i, end-start))\n",
    "\n",
    "end_time = time.time()\n",
    "print('总共花费时间为: {}'.format(end_time-start_time))   \n",
    "\n",
    "pool.shutdown()\n",
    "\n",
    "print('关闭线程池花费时间: {}'.format(time.time()-end_time))"
   ]
  },
  {
   "cell_type": "markdown",
   "metadata": {},
   "source": [
    "### 进程池并发"
   ]
  },
  {
   "cell_type": "markdown",
   "metadata": {},
   "source": [
    "通过进程池的方式访问，同样的也是取决于耗时最长的，但是相对于线程来说，进程需要耗费更多的资源，同时这里是访问url时IO操作，所以这里线程池比进程池更好."
   ]
  },
  {
   "cell_type": "code",
   "execution_count": 11,
   "metadata": {},
   "outputs": [
    {
     "name": "stdout",
     "output_type": "stream",
     "text": [
      "开始时间为: 1533106519.7000778\n",
      "创建进程池花费时间: 0.004985809326171875\n",
      "第 0 个请求花费时间: 0.016955137252807617\n",
      "第 1 个请求花费时间: 0.0\n",
      "第 2 个请求花费时间: 0.0\n",
      "总共花费时间为: 0.02293848991394043\n",
      "关闭进程池花费时间: 0.3749985694885254\n"
     ]
    }
   ],
   "source": [
    "import time\n",
    "import requests\n",
    "from concurrent.futures import ProcessPoolExecutor\n",
    "\n",
    "url_list = [\n",
    "    'http://www.baidu.com',\n",
    "    'http://www.bing.com',\n",
    "    'http://www.cnblogs.com/'\n",
    "]\n",
    "\n",
    "def fetch(url):\n",
    "    result = requests.get(url)\n",
    "    print(result.status_code)\n",
    "    \n",
    "start_time = time.time()\n",
    "print('开始时间为: {}'.format(start_time))\n",
    "\n",
    "pool = ProcessPoolExecutor(5)\n",
    "\n",
    "print('创建进程池花费时间: {}'.format(time.time()-start_time))\n",
    "\n",
    "for i, url in enumerate(url_list):\n",
    "    start = time.time()\n",
    "    pool.submit(fetch, url)\n",
    "    end = time.time()\n",
    "    print('第 {} 个请求花费时间: {}'.format(i, end-start))\n",
    "\n",
    "end_time = time.time()\n",
    "print('总共花费时间为: {}'.format(end_time-start_time))    \n",
    "\n",
    "pool.shutdown(True)\n",
    "print('关闭进程池花费时间: {}'.format(time.time()-end_time))"
   ]
  },
  {
   "cell_type": "markdown",
   "metadata": {},
   "source": [
    "### 进程池+回调函数"
   ]
  },
  {
   "cell_type": "code",
   "execution_count": 16,
   "metadata": {},
   "outputs": [
    {
     "name": "stdout",
     "output_type": "stream",
     "text": [
      "开始时间为: 1533106840.277305\n",
      "创建进程池花费时间: 0.001994609832763672\n",
      "第 0 个请求花费时间: 0.034906625747680664\n",
      "第 1 个请求花费时间: 0.0\n",
      "第 2 个请求花费时间: 0.0009970664978027344\n",
      "总共花费时间为: 0.03789830207824707\n"
     ]
    },
    {
     "name": "stderr",
     "output_type": "stream",
     "text": [
      "exception calling callback for <Future at 0x1677d9cfa90 state=finished raised BrokenProcessPool>\n",
      "Traceback (most recent call last):\n",
      "  File \"c:\\program files\\python36\\lib\\concurrent\\futures\\_base.py\", line 324, in _invoke_callbacks\n",
      "    callback(self)\n",
      "  File \"<ipython-input-16-6246141e29e4>\", line 16, in callback\n",
      "    print(future.result().status_code)\n",
      "  File \"c:\\program files\\python36\\lib\\concurrent\\futures\\_base.py\", line 425, in result\n",
      "    return self.__get_result()\n",
      "  File \"c:\\program files\\python36\\lib\\concurrent\\futures\\_base.py\", line 384, in __get_result\n",
      "    raise self._exception\n",
      "concurrent.futures.process.BrokenProcessPool: A process in the process pool was terminated abruptly while the future was running or pending.\n",
      "exception calling callback for <Future at 0x1677da04eb8 state=finished raised BrokenProcessPool>\n",
      "Traceback (most recent call last):\n",
      "  File \"c:\\program files\\python36\\lib\\concurrent\\futures\\_base.py\", line 324, in _invoke_callbacks\n",
      "    callback(self)\n",
      "  File \"<ipython-input-16-6246141e29e4>\", line 16, in callback\n",
      "    print(future.result().status_code)\n",
      "  File \"c:\\program files\\python36\\lib\\concurrent\\futures\\_base.py\", line 425, in result\n",
      "    return self.__get_result()\n",
      "  File \"c:\\program files\\python36\\lib\\concurrent\\futures\\_base.py\", line 384, in __get_result\n",
      "    raise self._exception\n",
      "concurrent.futures.process.BrokenProcessPool: A process in the process pool was terminated abruptly while the future was running or pending.\n",
      "exception calling callback for <Future at 0x1677da04f60 state=finished raised BrokenProcessPool>\n",
      "Traceback (most recent call last):\n",
      "  File \"c:\\program files\\python36\\lib\\concurrent\\futures\\_base.py\", line 324, in _invoke_callbacks\n",
      "    callback(self)\n",
      "  File \"<ipython-input-16-6246141e29e4>\", line 16, in callback\n",
      "    print(future.result().status_code)\n",
      "  File \"c:\\program files\\python36\\lib\\concurrent\\futures\\_base.py\", line 425, in result\n",
      "    return self.__get_result()\n",
      "  File \"c:\\program files\\python36\\lib\\concurrent\\futures\\_base.py\", line 384, in __get_result\n",
      "    raise self._exception\n",
      "concurrent.futures.process.BrokenProcessPool: A process in the process pool was terminated abruptly while the future was running or pending.\n"
     ]
    },
    {
     "name": "stdout",
     "output_type": "stream",
     "text": [
      "关闭进程池花费时间: 0.2652909755706787\n"
     ]
    }
   ],
   "source": [
    "import time\n",
    "import requests\n",
    "from concurrent.futures import ProcessPoolExecutor\n",
    "\n",
    "url_list = [\n",
    "    'http://www.baidu.com',\n",
    "    'http://www.bing.com',\n",
    "    'http://www.cnblogs.com/'\n",
    "]\n",
    "\n",
    "def fetch_async(url):\n",
    "    response = requests.get(url)\n",
    "    return response\n",
    "\n",
    "def callback(future):\n",
    "    print(future.result().status_code)\n",
    "    \n",
    "\n",
    "start_time = time.time()\n",
    "print('开始时间为: {}'.format(start_time))\n",
    "\n",
    "pool = ProcessPoolExecutor(5)\n",
    "\n",
    "print('创建进程池花费时间: {}'.format(time.time() - start_time))\n",
    "\n",
    "for i, url in enumerate(url_list):\n",
    "    start = time.time()\n",
    "    v = pool.submit(fetch_async, url)\n",
    "    v.add_done_callback(callback)\n",
    "    end = time.time()\n",
    "    print('第 {} 个请求花费时间: {}'.format(i, end-start))\n",
    "\n",
    "end_time = time.time()\n",
    "print('总共花费时间为: {}'.format(end_time-start_time))   \n",
    "\n",
    "\n",
    "pool.shutdown(True)\n",
    "\n",
    "print('关闭进程池花费时间: {}'.format(time.time()-end_time))"
   ]
  },
  {
   "cell_type": "markdown",
   "metadata": {},
   "source": [
    "### 单线程协程并发"
   ]
  },
  {
   "cell_type": "markdown",
   "metadata": {},
   "source": [
    "* asyncio\n",
    "* gevent\n",
    "* Twisted\n",
    "* Tornado"
   ]
  },
  {
   "cell_type": "markdown",
   "metadata": {},
   "source": [
    "### 使用asyncio"
   ]
  },
  {
   "cell_type": "code",
   "execution_count": null,
   "metadata": {},
   "outputs": [],
   "source": [
    "import time\n",
    "import asyncio\n",
    "import requests\n",
    "\n",
    "url_list = [\n",
    "    'http://www.baidu.com',\n",
    "    'http://www.bing.com',\n",
    "    'http://www.cnblogs.com/'\n",
    "]\n",
    "\n",
    "async def fetch_async(url):\n",
    "    start = time.time()\n",
    "    response = requests.get(url)\n",
    "    print(response.status_code)\n",
    "    end = time.time()\n",
    "    print('请求url: {}, 花费时间: {}'.format(url, end-start))\n",
    "    \n",
    "    \n",
    "tasks = [fetch_async(url) for url in url_list if url]    \n",
    "\n",
    "start_time = time.time()\n",
    "print('开始时间为: {}'.format(start_time))\n",
    "\n",
    "loop = asyncio.get_event_loop()\n",
    "\n",
    "loop.run_until_complete(asyncio.gather(*tasks))\n",
    "\n",
    "loop.close()\n",
    "print('总花费时间: {}'.format(time.time()-end_time))"
   ]
  },
  {
   "cell_type": "markdown",
   "metadata": {},
   "source": [
    "$ python c:/Users/JS-E-PC-10182/Desktop/test/python/aaa.py\n",
    "开始时间为: 1533110011.8857687\n",
    "200\n",
    "请求url: http://www.cnblogs.com/, 花费时间: 0.13364171981811523\n",
    "200\n",
    "请求url: http://www.bing.com, 花费时间: 0.3001983165740967\n",
    "200\n",
    "请求url: http://www.baidu.com, 花费时间: 0.025927066802978516\n",
    "总共花费时间为: 0.4747307300567627"
   ]
  }
 ],
 "metadata": {
  "kernelspec": {
   "display_name": "Python 3",
   "language": "python",
   "name": "python3"
  },
  "language_info": {
   "codemirror_mode": {
    "name": "ipython",
    "version": 3
   },
   "file_extension": ".py",
   "mimetype": "text/x-python",
   "name": "python",
   "nbconvert_exporter": "python",
   "pygments_lexer": "ipython3",
   "version": "3.6.4"
  }
 },
 "nbformat": 4,
 "nbformat_minor": 2
}
