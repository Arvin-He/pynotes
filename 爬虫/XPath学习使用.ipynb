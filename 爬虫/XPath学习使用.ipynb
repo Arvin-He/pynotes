{
 "cells": [
  {
   "cell_type": "markdown",
   "metadata": {},
   "source": [
    "# XPath学习使用"
   ]
  },
  {
   "cell_type": "markdown",
   "metadata": {},
   "source": [
    "xpath即为xml路径语言，XPath基于xml的树状结构，提供在数据结构树中找寻节点的能力，简单的说，xpath就是选取xml节点的语言。"
   ]
  },
  {
   "cell_type": "markdown",
   "metadata": {},
   "source": [
    "### xpath基础语法"
   ]
  },
  {
   "cell_type": "markdown",
   "metadata": {},
   "source": [
    "* / : 从根节点选取\n",
    "* // ： 从匹配选择的当前节点选择文档的节点\n",
    "* . ： 选取当前节点\n",
    "* .. ： 选取当前节点的父节点\n",
    "* @ ： 选取属性\n",
    "* \\* ：通配符，选择所有元素，与元素名无关\n",
    "* @* ： 属性通配符， 选择所有属性，与名称无关\n",
    "* ： ：属性通配符， 选择所有属性，与名称无关\n",
    "* （） ： 为运算分组，明确设置优先级\n",
    "* [] ： 应用筛选模式"
   ]
  },
  {
   "cell_type": "markdown",
   "metadata": {},
   "source": [
    "### XML预定义字符"
   ]
  },
  {
   "cell_type": "markdown",
   "metadata": {},
   "source": [
    "```\n",
    " <   &lt;\n",
    " >   &gt;\n",
    " &   &amp;\n",
    " '   &apos;\n",
    " \"   &quot;\n",
    "```"
   ]
  }
 ],
 "metadata": {
  "kernelspec": {
   "display_name": "Python 3",
   "language": "python",
   "name": "python3"
  },
  "language_info": {
   "codemirror_mode": {
    "name": "ipython",
    "version": 3
   },
   "file_extension": ".py",
   "mimetype": "text/x-python",
   "name": "python",
   "nbconvert_exporter": "python",
   "pygments_lexer": "ipython3",
   "version": "3.6.6"
  }
 },
 "nbformat": 4,
 "nbformat_minor": 2
}
