{
 "cells": [
  {
   "cell_type": "markdown",
   "metadata": {},
   "source": [
    "# 其他"
   ]
  },
  {
   "cell_type": "markdown",
   "metadata": {},
   "source": [
    "### url加上端口号处理"
   ]
  },
  {
   "cell_type": "code",
   "execution_count": 1,
   "metadata": {},
   "outputs": [
    {
     "name": "stdout",
     "output_type": "stream",
     "text": [
      "https://www.baidu.com:80/item?path=332&path2=234\n",
      "http://www.baidu.com:80/link?url=WZ5GSTSsp43ne_EK0qfloXv3OxzjEmaE4ff0zYGNtOLvU7mtmtI0WXjnSHd63Kth2y15j-Fprw1uvezKBfMnd_\n"
     ]
    }
   ],
   "source": [
    "from urllib.parse import urlparse, urljoin, urlunparse\n",
    "\n",
    "URL= 'https://www.baidu.com:80/item?path=332&path2=234'\n",
    "\n",
    "url2 = 'http://www.baidu.com/link?url=WZ5GSTSsp43ne_EK0qfloXv3OxzjEmaE4ff0zYGNtOLvU7mtmtI0WXjnSHd63Kth2y15j-Fprw1uvezKBfMnd_'\n",
    "\n",
    "def handle_url(url):\n",
    "    url_obj = urlparse(url)\n",
    "    if url_obj.port is None:\n",
    "        if url_obj.scheme == 'http':\n",
    "            new_netloc = url_obj.netloc + ':80'\n",
    "        elif url_obj.scheme == 'https':\n",
    "            new_netloc = url_obj.netloc + ':443'\n",
    "        else:\n",
    "            new_netloc = url_obj.netloc\n",
    "    else:\n",
    "        new_netloc = url_obj.netloc\n",
    "    new_url = urlunparse((url_obj.scheme, new_netloc, url_obj.path, url_obj.params, url_obj.query, None))\n",
    "    return new_url\n",
    "\n",
    "print(handle_url(URL))\n",
    "print(handle_url(url2))"
   ]
  },
  {
   "cell_type": "markdown",
   "metadata": {},
   "source": [
    "### url类型分类"
   ]
  },
  {
   "cell_type": "code",
   "execution_count": 2,
   "metadata": {},
   "outputs": [
    {
     "name": "stdout",
     "output_type": "stream",
     "text": [
      "JS\n",
      "CSS\n",
      "PHP\n",
      "HTML\n",
      "HTML\n",
      "HTML\n",
      "HTML\n",
      "JSP\n",
      "ASP\n",
      "ASPX\n",
      "OTHER\n",
      "ASPX\n",
      "ASP\n",
      "JS\n"
     ]
    }
   ],
   "source": [
    "from urllib.parse import urlparse\n",
    "\n",
    "URL_LIST = [\n",
    "    \"http://www.qq.com/1.js\",\n",
    "    \"http://www.qq.com/1.css\",\n",
    "    \"http://www.qq.com/1.php\",\n",
    "    \"http://www.qq.com/1.html\",\n",
    "    \"http://www.qq.com/1.htm\",\n",
    "    \"http://www.qq.com/1.jhtml\",\n",
    "    \"http://www.qq.com/1.xhtml\",\n",
    "    \"http://www.qq.com/1.jsp\",\n",
    "    \"http://www.qq.com/1.asp\",\n",
    "    \"http://www.qq.com/1.aspx\",\n",
    "    \"http://www.qq.com/1/\",\n",
    "    \"http://www.qq.com/1.aspx/\",\n",
    "    \"http://www.szguanghua.com:80/news.asp?id=565\",\n",
    "    \"https://www.xxxxxxxxxx.com:443/r/cms/www/dfta/jquery.flexslider-min.js\"\n",
    "]\n",
    "\n",
    "def handle_url_type(url):\n",
    "    suffixes = ['.CSS', '.JS', '.PHP', '.JSP', '.ASP', '.ASPX']\n",
    "    url_path = urlparse(url).path\n",
    "    if '.' in url_path:\n",
    "        suffix = url_path[url_path.rfind('.'):].replace('/', '').upper()\n",
    "        if suffix in suffixes:\n",
    "            return suffix[1:]\n",
    "        elif 'HTM' in suffix:\n",
    "            return 'HTML'\n",
    "        else:\n",
    "            return 'OTHER'\n",
    "    else:\n",
    "        return 'OTHER'\n",
    "\n",
    "for url in URL_LIST:\n",
    "    print(handle_url_type(url))"
   ]
  },
  {
   "cell_type": "markdown",
   "metadata": {},
   "source": [
    "### url解析和组合"
   ]
  },
  {
   "cell_type": "code",
   "execution_count": 3,
   "metadata": {},
   "outputs": [
    {
     "name": "stdout",
     "output_type": "stream",
     "text": [
      "http://www.qq.com:80/1.aspx/\n",
      "http://www.qq.com:80/1.aspx\n"
     ]
    }
   ],
   "source": [
    "from urllib.parse import urlparse, urlunparse\n",
    "\n",
    "url = \"http://www.qq.com/1.aspx/\"\n",
    "url2 = \"http://www.qq.com/1.aspx\"\n",
    "\n",
    "# res = urlparse(url)\n",
    "# res2 = urlparse(url2)\n",
    "\n",
    "# print(res)\n",
    "# print(res2)\n",
    "\n",
    "def format_url(url):\n",
    "    url_obj = urlparse(url)\n",
    "    if url_obj.port is None:\n",
    "        if url_obj.scheme == 'http':\n",
    "            new_netloc = url_obj.netloc + ':80'\n",
    "        elif url_obj.scheme == 'https':\n",
    "            new_netloc = url_obj.netloc + ':443'\n",
    "        else:\n",
    "            new_netloc = url_obj.netloc\n",
    "    else:\n",
    "        new_netloc = url_obj.netloc\n",
    "    new_url = urlunparse((url_obj.scheme,\n",
    "                          new_netloc,\n",
    "                          url_obj.path,\n",
    "                          url_obj.params,\n",
    "                          url_obj.query,\n",
    "                          None))\n",
    "    return new_url\n",
    "\n",
    "res = format_url(url)\n",
    "print(res)\n",
    "\n",
    "res2 = format_url(url2)\n",
    "print(res2)"
   ]
  },
  {
   "cell_type": "code",
   "execution_count": null,
   "metadata": {},
   "outputs": [],
   "source": []
  }
 ],
 "metadata": {
  "kernelspec": {
   "display_name": "Python 3",
   "language": "python",
   "name": "python3"
  },
  "language_info": {
   "codemirror_mode": {
    "name": "ipython",
    "version": 3
   },
   "file_extension": ".py",
   "mimetype": "text/x-python",
   "name": "python",
   "nbconvert_exporter": "python",
   "pygments_lexer": "ipython3",
   "version": "3.6.4"
  }
 },
 "nbformat": 4,
 "nbformat_minor": 2
}
