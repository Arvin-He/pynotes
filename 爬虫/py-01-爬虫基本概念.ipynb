{
 "cells": [
  {
   "cell_type": "markdown",
   "metadata": {},
   "source": [
    "# 爬虫概念"
   ]
  },
  {
   "cell_type": "markdown",
   "metadata": {},
   "source": [
    "### 什么是爬虫?"
   ]
  },
  {
   "cell_type": "markdown",
   "metadata": {},
   "source": [
    "网络爬虫（又被称为网页蜘蛛，网络机器人，在FOAF社区中间，更经常的称为网页追逐者），是一种按照一定的规则，自动地抓取万维网信息的程序或者脚本。通俗的讲就是通过程序去获取web页面上自己想要的数据."
   ]
  },
  {
   "cell_type": "markdown",
   "metadata": {},
   "source": [
    "### 爬虫可以做什么?"
   ]
  },
  {
   "cell_type": "markdown",
   "metadata": {},
   "source": [
    "本质上讲就是爬取数据,数据可以是文本,图片,视频,音频,其他文件等等.\n",
    "\n",
    "重点是爬取的这些数据用来作分析挖掘的数据源,对数据进行筛选,分类,对比,分析,并为决策者在决策时提供数据支撑和依据.\n",
    "\n",
    "爬虫是大数据基础支撑,提供原始数据源, 后续还有数据挖掘,数据分析,机器学习等."
   ]
  },
  {
   "cell_type": "markdown",
   "metadata": {},
   "source": [
    "### 爬虫本质"
   ]
  },
  {
   "cell_type": "markdown",
   "metadata": {},
   "source": [
    "爬虫本质: 模拟浏览器打开网页，获取网页内容, 分析提取真正需要的网页内容数据. 具体怎么模拟浏览器打开网页有很多方法和工具.\n",
    "\n",
    "浏览器打开网页的过程：\n",
    "当你在浏览器中输入地址后，经过DNS服务器找到服务器主机，向服务器发送一个请求，服务器经过解析后发送给用户浏览器结果，包括html,js,css等文件内容，浏览器解析出来最后呈现给用户在浏览器上看到的结果\n",
    "\n",
    "所以用户看到的浏览器的结果就是由HTML代码构成的，我们爬虫就是为了获取这些内容，通过分析和过滤html代码，从中获取我们想要数据,包括文本，图片，视频....."
   ]
  },
  {
   "cell_type": "markdown",
   "metadata": {},
   "source": [
    "### 爬虫的基本流程"
   ]
  },
  {
   "cell_type": "markdown",
   "metadata": {},
   "source": [
    "#### 发起请求\n",
    "在程序中应用一些网络库(如: requests/aiohttp)向目标站点发起请求，也就是发送一个Request，请求可以包含额外的header等信息，然后等待服务器响应\n",
    "\n",
    "#### 获取响应内容\n",
    "如果服务器能正常响应，会得到一个Response，Response的内容便是所要获取的页面内容，类型可能是HTML,Json字符串，二进制数据（图片或者视频）等类型\n",
    "\n",
    "#### 解析内容\n",
    "得到的内容可能是HTML,可以用正则表达式，html解析库进行解析，可能是Json,可以直接转换为Json对象解析，可能是二进制数据，可以做保存或者进一步的处理\n",
    "\n",
    "#### 保存数据\n",
    "保存形式多样，可以存为文本，也可以保存到数据库，或者保存特定格式的文件"
   ]
  },
  {
   "cell_type": "markdown",
   "metadata": {},
   "source": [
    "### Request 和 Response"
   ]
  },
  {
   "cell_type": "markdown",
   "metadata": {},
   "source": [
    "浏览器发送消息给网址所在的服务器，这个过程就叫做HTPP Request\n",
    "\n",
    "服务器收到浏览器发送的消息后，能够根据浏览器发送消息的内容，做相应的处理，然后把消息回传给浏览器，这个过程就是HTTP Response\n",
    "\n",
    "浏览器收到服务器的Response信息后，会对信息进行相应的处理，然后展示"
   ]
  },
  {
   "cell_type": "markdown",
   "metadata": {},
   "source": [
    "### Request中包含什么？"
   ]
  },
  {
   "cell_type": "markdown",
   "metadata": {},
   "source": [
    "* 请求方式\n",
    "\n",
    "    主要有：GET/POST两种类型常用，另外还有HEAD/PUT/DELETE/OPTIONS\n",
    "    \n",
    "    GET和POST的区别就是：请求的参数GET是在url中，POST则是存放在头部\n",
    "\n",
    "    GET:向指定的资源发出“显示”请求。使用GET方法应该只用在读取数据，而不应当被用于产生“副作用”的操作中，例如在Web Application中。其中一个原因是GET可能会被网络蜘蛛等随意访问\n",
    "\n",
    "    POST:向指定资源提交数据，请求服务器进行处理（例如提交表单或者上传文件）。数据被包含在请求本文中。这个请求可能会创建新的资源或修改现有资源，或二者皆有。\n",
    "\n",
    "    HEAD：与GET方法一样，都是向服务器发出指定资源的请求。只不过服务器将不传回资源的本文部分。它的好处在于，使用这个方法可以在不必传输全部内容的情况下，就可以获取其中“关于该资源的信息”（元信息或称元数据）。\n",
    "\n",
    "    PUT：向指定资源位置上传其最新内容。\n",
    "\n",
    "    OPTIONS：这个方法可使服务器传回该资源所支持的所有HTTP请求方法。用'*'来代替资源名称，向Web服务器发送OPTIONS请求，可以测试服务器功能是否正常运作。\n",
    "\n",
    "    DELETE：请求服务器删除Request-URI所标识的资源。\n",
    "\n",
    "* 请求URL\n",
    "\n",
    "    URL，即统一资源定位符，也就是网址，统一资源定位符是对可以从互联网上得到的资源的位置和访问方法的一种简洁的表示，是互联网上标准资源的地址。互联网上的每个文件都有一个唯一的URL，它包含的信息指出文件的位置以及浏览器应该怎么处理它。\n",
    "\n",
    "    URL的格式由三个部分组成：\n",
    "    * 第一部分是协议(或称为服务方式)。\n",
    "    * 第二部分是存有该资源的主机IP地址(有时也包括端口号)。\n",
    "    * 第三部分是主机资源的具体地址，如目录和文件名等。\n",
    "\n",
    "    爬虫爬取数据时必须要有一个目标的URL才可以获取数据，因此，它是爬虫获取数据的基本依据。\n",
    "\n",
    "* 请求头\n",
    "\n",
    "    包含请求时的头部信息，如User-Agent,Host,Cookies等信息\n",
    "  \n",
    "* 请求体\n",
    "    \n",
    "    请求是携带的数据，如提交表单数据时候的表单数据（POST）  "
   ]
  },
  {
   "cell_type": "markdown",
   "metadata": {},
   "source": [
    "### Response中包含了什么"
   ]
  },
  {
   "cell_type": "markdown",
   "metadata": {},
   "source": [
    "所有HTTP响应的第一行都是状态行，依次是当前HTTP版本号，3位数字组成的状态代码，以及描述状态的短语，彼此由空格分隔。\n",
    "\n",
    "* 响应状态\n",
    "\n",
    "    有多种响应状态，如：200代表成功，301跳转，404找不到页面，502服务器错误\n",
    "\n",
    "    * 1xx消息——请求已被服务器接收，继续处理\n",
    "    * 2xx成功——请求已成功被服务器接收、理解、并接受\n",
    "    * 3xx重定向——需要后续操作才能完成这一请求\n",
    "    * 4xx请求错误——请求含有词法错误或者无法被执行\n",
    "    * 5xx服务器错误——服务器在处理某个正确请求时发生错误 \n",
    "    \n",
    "    常见代码： \n",
    "    * 200 OK 请求成功 \n",
    "    * 400 Bad Request 客户端请求有语法错误，不能被服务器所理解 \n",
    "    * 401 Unauthorized 请求未经授权，这个状态代码必须和WWW-Authenticate报头域一起使用 \n",
    "    * 403 Forbidden 服务器收到请求，但是拒绝提供服务 \n",
    "    * 404 Not Found 请求资源不存在，eg：输入了错误的URL \n",
    "    * 500 Internal Server Error 服务器发生不可预期的错误 \n",
    "    * 503 Server Unavailable 服务器当前不能处理客户端的请求，一段时间后可能恢复正常 \n",
    "    * 301 目标永久性转移 \n",
    "    * 302 目标暂时性转移\n",
    "    * 304 未修改, 自从上次请求后，请求的网页未修改过。服务器返回此响应时，不会返回网页内容。\n",
    "\n",
    "* 响应头\n",
    "\n",
    "    如内容类型，类型的长度，服务器信息，设置Cookie,如下图\n",
    "    \n",
    "* 响应体\n",
    "\n",
    "    最主要的部分，包含请求资源的内容，如网页HTMl,图片，二进制数据等"
   ]
  },
  {
   "cell_type": "markdown",
   "metadata": {},
   "source": [
    "### 爬取数据类型"
   ]
  },
  {
   "cell_type": "markdown",
   "metadata": {},
   "source": [
    "* 网页文本：如HTML文档，Json格式化文本等\n",
    "* 图片：获取到的是二进制文件，保存为图片格式\n",
    "* 视频: 同样是二进制文件\n",
    "* 其他：只要请求到的，都可以获取"
   ]
  },
  {
   "cell_type": "markdown",
   "metadata": {},
   "source": [
    "### 数据解析"
   ]
  },
  {
   "cell_type": "markdown",
   "metadata": {},
   "source": [
    "* 直接处理\n",
    "* Json解析\n",
    "* 正则表达式处理\n",
    "* BeautifulSoup解析处理\n",
    "* PyQuery解析处理\n",
    "* XPath解析处理"
   ]
  },
  {
   "cell_type": "markdown",
   "metadata": {},
   "source": [
    "### 关于抓取的页面数据和浏览器里看到的不一样的问题?"
   ]
  },
  {
   "cell_type": "markdown",
   "metadata": {},
   "source": [
    "出现这种情况是因为，很多网站中的数据都是通过js，ajax动态加载的，所以直接通过get请求获取的页面和浏览器显示的不同。\n",
    "\n",
    "如何解决js渲染的问题？\n",
    "* 分析ajax\n",
    "* Selenium/webdriver\n",
    "* Splash\n",
    "* PyV8,Ghost.py"
   ]
  },
  {
   "cell_type": "markdown",
   "metadata": {},
   "source": [
    "### 数据保存"
   ]
  },
  {
   "cell_type": "markdown",
   "metadata": {},
   "source": [
    "* 文本文件：纯文本，Json,Xml等\n",
    "\n",
    "* 数据库:\n",
    "    * 关系型数据库：如mysql,oracle,sql server等结构化数据库\n",
    "    * 非关系型数据库：MongoDB, Redis等key-value形式存储"
   ]
  }
 ],
 "metadata": {
  "kernelspec": {
   "display_name": "Python 3",
   "language": "python",
   "name": "python3"
  },
  "language_info": {
   "codemirror_mode": {
    "name": "ipython",
    "version": 3
   },
   "file_extension": ".py",
   "mimetype": "text/x-python",
   "name": "python",
   "nbconvert_exporter": "python",
   "pygments_lexer": "ipython3",
   "version": "3.6.4"
  }
 },
 "nbformat": 4,
 "nbformat_minor": 2
}
