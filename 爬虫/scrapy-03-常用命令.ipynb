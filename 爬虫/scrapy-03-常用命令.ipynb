{
 "cells": [
  {
   "cell_type": "markdown",
   "metadata": {},
   "source": [
    "# scrapy命令详解"
   ]
  },
  {
   "cell_type": "markdown",
   "metadata": {},
   "source": [
    "scrapy命令分为2种:\n",
    "1. 全局命令: 全局命令可以在任何地方使用，\n",
    "2. 项目命令: 项目命令只能在项目目录下使用"
   ]
  },
  {
   "cell_type": "markdown",
   "metadata": {},
   "source": [
    "## 常用命令"
   ]
  },
  {
   "cell_type": "markdown",
   "metadata": {},
   "source": [
    "* 全局命令\n",
    "    * startproject \n",
    "    * genspider\n",
    "    * settings\n",
    "    * runspider\n",
    "    * shell\n",
    "    * fetch\n",
    "    * view\n",
    "    * version\n",
    "* 项目命令\n",
    "    * crawl\n",
    "    * check\n",
    "    * list\n",
    "    * edit\n",
    "    * parse\n",
    "    * bench"
   ]
  },
  {
   "cell_type": "markdown",
   "metadata": {},
   "source": [
    "### startproject"
   ]
  },
  {
   "cell_type": "markdown",
   "metadata": {},
   "source": [
    "创建爬虫项目: `scrapy startproject <projectname>`"
   ]
  },
  {
   "cell_type": "markdown",
   "metadata": {},
   "source": [
    "### genspider"
   ]
  },
  {
   "cell_type": "markdown",
   "metadata": {},
   "source": [
    "用于生成爬虫，scrapy提供几种不同的模板生成spider,默认用的是basic,\n",
    "\n",
    "可通过命令查看所有的模板:`scrapy genspider -l`, 如下图所示:\n",
    "![](images/3.png)\n",
    "\n",
    "创建指定模板爬虫,使用`-t`参数，不指定默认用的basic: `scrapy genspider -t crawl zhihuspider zhihu.com`\n",
    "\n",
    "![](images/4.png)\n",
    "\n",
    "![](images/5.png)\n",
    "\n"
   ]
  },
  {
   "cell_type": "markdown",
   "metadata": {},
   "source": [
    "### crawl"
   ]
  },
  {
   "cell_type": "markdown",
   "metadata": {},
   "source": [
    "`scrapy crawl 爬虫名字`: 启动spider爬虫.\n",
    "\n",
    "注意: 这里的爬虫名字和通过scrapy genspider 生成爬虫的名字是一致的"
   ]
  },
  {
   "cell_type": "markdown",
   "metadata": {},
   "source": [
    "### check"
   ]
  },
  {
   "cell_type": "markdown",
   "metadata": {},
   "source": [
    "`scrapy check`: 用于检查代码是否有错误,"
   ]
  },
  {
   "cell_type": "markdown",
   "metadata": {},
   "source": [
    "### list"
   ]
  },
  {
   "cell_type": "markdown",
   "metadata": {},
   "source": [
    "`scrapy list`: 列出所有可用的爬虫"
   ]
  },
  {
   "cell_type": "markdown",
   "metadata": {},
   "source": [
    "### fetch"
   ]
  },
  {
   "cell_type": "markdown",
   "metadata": {},
   "source": [
    "`scrapy fetch url地址`: 通过scrapy downloader 将网页的源代码下载下来并显示出来\n",
    "\n",
    "这里有一些参数：\n",
    "* --nolog 不打印日志\n",
    "* --headers 打印响应头信息\n",
    "* --no-redirect 不做跳转"
   ]
  },
  {
   "cell_type": "markdown",
   "metadata": {},
   "source": [
    "### view"
   ]
  },
  {
   "cell_type": "markdown",
   "metadata": {},
   "source": [
    "`scrapy view url地址`: 将网页document内容下载下来，并且在浏览器显示出来.\n",
    "\n",
    "因为现在很多网站的数据都是通过ajax请求来加载的，这个时候直接通过requests请求是无法获取我们想要的数据，所以这个view命令可以帮助我们很好的判断."
   ]
  },
  {
   "cell_type": "markdown",
   "metadata": {},
   "source": [
    "### shell"
   ]
  },
  {
   "cell_type": "markdown",
   "metadata": {},
   "source": [
    "这是一个命令行交互模式, 通过`scrapy shell url地址`进入交互模式,这里可以通过css选择器以及xpath选择器获取我们想要的内容（xpath以及css选择的用法会在下个文章中详细说明）,例如: 通过`scrapy shell http://www.baidu.com`"
   ]
  },
  {
   "cell_type": "markdown",
   "metadata": {},
   "source": [
    "### settings"
   ]
  },
  {
   "cell_type": "markdown",
   "metadata": {},
   "source": [
    "获取当前的配置信息\n",
    "\n",
    "`scrapy settings -h`: 可以获取这个命令的所有帮助信息\n",
    "\n",
    "例如: `scrapy settings --get=MYSQL_HOST`: 打印出settings中MYSQL的值"
   ]
  },
  {
   "cell_type": "markdown",
   "metadata": {},
   "source": [
    "### runspider"
   ]
  },
  {
   "cell_type": "markdown",
   "metadata": {},
   "source": [
    "`scrapy runspider 爬虫文件名称`: 这个和通过crawl启动爬虫不同，这里是在项目目录下spiders文件夹中爬虫文件."
   ]
  },
  {
   "cell_type": "markdown",
   "metadata": {},
   "source": [
    "### version"
   ]
  },
  {
   "cell_type": "markdown",
   "metadata": {},
   "source": [
    "`scrapy version`: 查看版本信息，并查看依赖库的信息"
   ]
  }
 ],
 "metadata": {
  "kernelspec": {
   "display_name": "Python 3",
   "language": "python",
   "name": "python3"
  },
  "language_info": {
   "codemirror_mode": {
    "name": "ipython",
    "version": 3
   },
   "file_extension": ".py",
   "mimetype": "text/x-python",
   "name": "python",
   "nbconvert_exporter": "python",
   "pygments_lexer": "ipython3",
   "version": "3.6.4"
  }
 },
 "nbformat": 4,
 "nbformat_minor": 2
}
