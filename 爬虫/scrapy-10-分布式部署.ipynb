{
 "cells": [
  {
   "cell_type": "markdown",
   "metadata": {},
   "source": [
    "# scrapy分布式部署"
   ]
  },
  {
   "cell_type": "markdown",
   "metadata": {},
   "source": [
    "将代码放到远程主机是通过拷贝或者git的方式，考虑到多台远程主机的情况，这种方式就比较麻烦，那有没有好用的方法呢？这里其实可以通过scrapyd,\n",
    "\n",
    "下面是这个[scrapyd的github地址：https://github.com/scrapy/scrapyd](https://github.com/scrapy/scrapyd)\n",
    "\n",
    "安装scrapyd：`pip install scrapyd`\n",
    "\n",
    "在另外一台ubuntu linux虚拟机中同样安装scrapy以及scrapyd等包，保证所要运行的爬虫需要的包都完成安装，这样就有了两台linux.\n",
    "\n",
    "这里有个小问题需要注意: 默认scrapyd启动是通过scrapyd就可以直接启动，这里bind绑定的ip地址是127.0.0.1端口是：6800，为了其他虚拟机访问将ip地址设置为0.0.0.0\n",
    "\n",
    "scrapyd的配置文件：`/usr/local/lib/python3.5/dist-packages/scrapyd/default_scrapyd.conf`"
   ]
  },
  {
   "cell_type": "markdown",
   "metadata": {},
   "source": [
    "### 关于部署"
   ]
  },
  {
   "cell_type": "markdown",
   "metadata": {},
   "source": [
    "如何通过scrapyd部署项目，这里官方文档提供一个地址：`https://github.com/scrapy/scrapyd-client`，即通过scrapyd-client进行操作\n",
    "\n",
    "这里的scrapyd-client主要实现以下内容：\n",
    "1. 把我们本地代码打包生成egg文件\n",
    "2. 根据我们配置的url上传到远程服务器上\n",
    "\n",
    "将我们本地的scrapy项目中scrapy.cfg配置文件进行配置：\n",
    "\n",
    "```\n",
    "[deploy]\n",
    "url =  http://192.168.1.9:6800/addversion.json\n",
    "project = zhihu_user\n",
    "```\n",
    "\n",
    "其实还可以设置用户名和密码，不过这里没什么必要，只设置了url\n",
    "这里设置url一定要注意：`url = http://192.168.1.9:6800/addversion.json`, 最后的addversion.json不能少\n",
    "\n",
    "我们在本地安装`pip install scrapy_client`,安装完成后执行：`scrapyd-deploy`, 看到status:200表示已经成功b"
   ]
  },
  {
   "cell_type": "markdown",
   "metadata": {},
   "source": [
    "### 关于常用操作API"
   ]
  },
  {
   "cell_type": "markdown",
   "metadata": {},
   "source": [
    "listprojects.json: 列出上传的项目列表\n",
    "listversions.json: 列出有某个上传项目的版本\n",
    "schedule.json: 远程任务的启动\n",
    "listjobs.json: 列出所有的jobs任务\n",
    "cancel.json: 取消所有运行的任务\n",
    "\n",
    "我相信看了上面这几个方法你一定会觉得真不方便还需要输入那么长,\n",
    "所以有人替你干了件好事把这些API进行的再次封装：`https://github.com/djm/python-scrapyd-api`\n",
    "\n",
    "关于python-scrapyd-api\n",
    "\n",
    "同时当启动完成后，就可以通过页面查看jobs"
   ]
  },
  {
   "cell_type": "markdown",
   "metadata": {},
   "source": [
    "### 关于python-scrapyd-api"
   ]
  },
  {
   "cell_type": "markdown",
   "metadata": {},
   "source": [
    "该模块可以让我们直接在python代码中进行上述那些api的操作\n",
    "\n",
    "首先先安装该模块：`pip install python-scrapyd-api`\n",
    "\n",
    "使用方法如下,这里只演示了简单的例子，其他方法其实使用很简单按照规则写就行：\n",
    "```python\n",
    "from scrapyd_api import ScrapydAPI\n",
    "\n",
    "\n",
    "scrapyd = ScrapydAPI('http://192.168.1.9:6800')\n",
    "res = scrapyd.list_projects()\n",
    "res2 = scrapyd.list_jobs('zhihu_user')\n",
    "print(res)\n",
    "print(res2)\n",
    "```"
   ]
  },
  {
   "cell_type": "markdown",
   "metadata": {},
   "source": [
    "```\n",
    "Cancel a scheduled job\n",
    "scrapyd.cancel('project_name', '14a6599ef67111e38a0e080027880ca6')\n",
    "\n",
    "Delete a project and all sibling versions\n",
    "scrapyd.delete_project('project_name')\n",
    "\n",
    "Delete a version of a project\n",
    "scrapyd.delete_version('project_name', 'version_name')\n",
    "\n",
    "Request status of a job\n",
    "scrapyd.job_status('project_name', '14a6599ef67111e38a0e080027880ca6')\n",
    "\n",
    "List all jobs registered\n",
    "scrapyd.list_jobs('project_name')\n",
    "\n",
    "List all projects registered\n",
    "scrapyd.list_projects()\n",
    "\n",
    "List all spiders available to a given project\n",
    "scrapyd.list_spiders('project_name')\n",
    "\n",
    "List all versions registered to a given project\n",
    "scrapyd.list_versions('project_name')\n",
    "\n",
    "Schedule a job to run with a specific spider\n",
    "scrapyd.schedule('project_name', 'spider_name')\n",
    "\n",
    "Schedule a job to run while passing override settings\n",
    "settings = {'DOWNLOAD_DELAY': 2}\n",
    "\n",
    "Schedule a job to run while passing extra attributes to spider initialisation\n",
    "scrapyd.schedule('project_name', 'spider_name', extra_attribute='value')\n",
    "```"
   ]
  }
 ],
 "metadata": {
  "kernelspec": {
   "display_name": "Python 3",
   "language": "python",
   "name": "python3"
  },
  "language_info": {
   "codemirror_mode": {
    "name": "ipython",
    "version": 3
   },
   "file_extension": ".py",
   "mimetype": "text/x-python",
   "name": "python",
   "nbconvert_exporter": "python",
   "pygments_lexer": "ipython3",
   "version": "3.6.4"
  }
 },
 "nbformat": 4,
 "nbformat_minor": 2
}
