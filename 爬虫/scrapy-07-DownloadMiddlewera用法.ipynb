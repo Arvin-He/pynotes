{
 "cells": [
  {
   "cell_type": "markdown",
   "metadata": {},
   "source": [
    "# scrapy中DownloadMiddlewera用法"
   ]
  },
  {
   "cell_type": "markdown",
   "metadata": {},
   "source": [
    "Downloader Middleware是下载中间件, 处理过程主要在调度器发送requests请求的时候以及网页将response结果返回给spiders的时候，下载中间件是介于Scrapy的request/response处理的钩子，用于修改Scrapy request和response。"
   ]
  },
  {
   "cell_type": "markdown",
   "metadata": {},
   "source": [
    "### 编写自己的下载中间件"
   ]
  },
  {
   "cell_type": "markdown",
   "metadata": {},
   "source": [
    "编写下载器中间件，需要定义以下一个或者多个方法的python类\n",
    "\n",
    "为了演示中间件的使用方法，这里创建一个项目: 爬取httpbin.org这个网站\n",
    "```\n",
    "scrapy startproject httpbintest \n",
    "cd httpbintest\n",
    "scrapy genspider httpbin httpbin.com\n",
    "```\n",
    "\n",
    "创建好爬虫之后我们讲httpbin.py中的parse方法改成：\n",
    "```python\n",
    "def parse(self, response):\n",
    "    print(response.text)\n",
    "```    \n",
    "\n",
    "然后通过命令行启动爬虫：`scrapy crawl httpbin`\n",
    "\n",
    "现在通过代理中间件来实现ip的伪装,在middleares.py中写如下的中间件类：\n",
    "```python\n",
    "class ProxyMiddleare(object):\n",
    "    logger = logging.getLogger(__name__)\n",
    "    def process_request(self,request, spider):\n",
    "        self.logger.debug(\"Using Proxy\")\n",
    "        request.meta['proxy'] = 'http://127.0.0.1:9743'\n",
    "        return None\n",
    "```    \n",
    "\n",
    "然后在settings.py配置文件中开启下载中间件的功能，默认是关闭的\n",
    "```\n",
    "DOWNLOADER_MIDDLEWARES = {\n",
    "   #'httpbintest.middlewares.HttpbintestDownloaderMiddleware': 543,\n",
    "   'httpbintest.middlewares.ProxyMiddleware': 543\n",
    "}\n",
    "```\n",
    "\n",
    "然后我们再次启动爬虫：`scrapy crawl httpbin`,\n",
    "\n",
    "从日志中可以看出定义的中间件已经启动，并且输入了打印的日志信息，并且查看origin的ip地址也已经成了代理的ip地址，这样代理中间件成功了."
   ]
  },
  {
   "cell_type": "markdown",
   "metadata": {},
   "source": [
    "### 详细说明"
   ]
  },
  {
   "cell_type": "markdown",
   "metadata": {},
   "source": []
  }
 ],
 "metadata": {
  "kernelspec": {
   "display_name": "Python 3",
   "language": "python",
   "name": "python3"
  },
  "language_info": {
   "codemirror_mode": {
    "name": "ipython",
    "version": 3
   },
   "file_extension": ".py",
   "mimetype": "text/x-python",
   "name": "python",
   "nbconvert_exporter": "python",
   "pygments_lexer": "ipython3",
   "version": "3.6.4"
  }
 },
 "nbformat": 4,
 "nbformat_minor": 2
}
