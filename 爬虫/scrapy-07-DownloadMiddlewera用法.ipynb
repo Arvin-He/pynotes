{
 "cells": [
  {
   "cell_type": "markdown",
   "metadata": {},
   "source": [
    "# scrapy中DownloadMiddlewera用法"
   ]
  },
  {
   "cell_type": "markdown",
   "metadata": {},
   "source": [
    "Downloader Middleware是下载中间件, 处理过程主要在调度器发送requests请求的时候以及网页将response结果返回给spiders的时候，下载中间件是介于Scrapy的request/response处理的钩子，用于修改Scrapy request和response。"
   ]
  },
  {
   "cell_type": "markdown",
   "metadata": {},
   "source": [
    "### 编写自己的下载中间件"
   ]
  },
  {
   "cell_type": "markdown",
   "metadata": {},
   "source": [
    "编写下载器中间件，需要定义以下一个或者多个方法的python类\n",
    "\n",
    "为了演示中间件的使用方法，这里创建一个项目: 爬取httpbin.org这个网站"
   ]
  }
 ],
 "metadata": {
  "kernelspec": {
   "display_name": "Python 3",
   "language": "python",
   "name": "python3"
  },
  "language_info": {
   "codemirror_mode": {
    "name": "ipython",
    "version": 3
   },
   "file_extension": ".py",
   "mimetype": "text/x-python",
   "name": "python",
   "nbconvert_exporter": "python",
   "pygments_lexer": "ipython3",
   "version": "3.6.4"
  }
 },
 "nbformat": 4,
 "nbformat_minor": 2
}
