{
 "cells": [
  {
   "cell_type": "markdown",
   "metadata": {},
   "source": [
    "# scrapy选择器用法"
   ]
  },
  {
   "cell_type": "markdown",
   "metadata": {},
   "source": [
    "Scrapy提取数据有自己的一套机制，被称作选择器（selectors）\n",
    "\n",
    "Scrapy 有2种选择器: Xpath和CSS:\n",
    "* Xpath: 是专门在XML文件中选择节点的语言，也可以用在HTML上。\n",
    "* CSS: 是一门将HTML文档样式化语言，选择器由它定义，并与特定的HTML元素的样式相关联。"
   ]
  },
  {
   "cell_type": "markdown",
   "metadata": {},
   "source": [
    "## XPath选择器"
   ]
  },
  {
   "cell_type": "markdown",
   "metadata": {},
   "source": [
    "XPath的功能非常强大，内含超过100个的内建函数。\n",
    "\n",
    "下面为常用的方法:\n",
    "```\n",
    "nodeName    选取此节点的所有节点\n",
    "/           从根节点选取\n",
    "//          从匹配选择的当前节点选择文档中的节点，不考虑它们的位置\n",
    ".           选择当前节点\n",
    "..          选取当前节点的父节点\n",
    "@           选取属性\n",
    "*           匹配任何元素节点\n",
    "@*          匹配任何属性节点\n",
    "Node()      匹配任何类型的节点\n",
    "```"
   ]
  },
  {
   "cell_type": "markdown",
   "metadata": {},
   "source": [
    "## CSS选择器"
   ]
  },
  {
   "cell_type": "markdown",
   "metadata": {},
   "source": [
    "CSS层叠样式表，语法由 2 个主要部分组成：\n",
    "* 选择器\n",
    "* 一条或多条声明\n",
    "\n",
    "`Selector {declaration1; declaration2; ……}`\n",
    "\n",
    "下面为常用的使用方法:\n",
    "```\n",
    ".class              .color              选择class=”color”的所有元素\n",
    "#id                 #info               选择id=”info”的所有元素\n",
    "*                   *                   选择所有元素\n",
    "element             p                   选择所有的p元素\n",
    "element,element     div,p               选择所有div元素和所有p元素\n",
    "element element     div p               选择div标签内部的所有p元素\n",
    "[attribute]         [target]            选择带有targe属性的所有元素\n",
    "[arrtibute=value]   [target=_blank]     选择target=”_blank”的所有元素\n",
    "```"
   ]
  },
  {
   "cell_type": "markdown",
   "metadata": {},
   "source": [
    "## 选择器的使用例子"
   ]
  },
  {
   "cell_type": "markdown",
   "metadata": {},
   "source": [
    "下面通过`scrapy shell http://doc.scrapy.org/en/latest/_static/selectors-sample1.html`来演示两种选择器的功能\n",
    "这个地址的网页源码为：\n",
    "```html\n",
    "<html>\n",
    "     <head>\n",
    "      <base href='http://example.com/' />\n",
    "      <title>Example website</title>\n",
    "     </head>\n",
    "     <body>\n",
    "      <div id='images'>\n",
    "       <a href='image1.html'>Name: My image 1 <br /><img src='image1_thumb.jpg' /></a>\n",
    "       <a href='image2.html'>Name: My image 2 <br /><img src='image2_thumb.jpg' /></a>\n",
    "       <a href='image3.html'>Name: My image 3 <br /><img src='image3_thumb.jpg' /></a>\n",
    "       <a href='image4.html'>Name: My image 4 <br /><img src='image4_thumb.jpg' /></a>\n",
    "       <a href='image5.html'>Name: My image 5 <br /><img src='image5_thumb.jpg' /></a>\n",
    "      </div>\n",
    "     </body>\n",
    "</html>\n",
    "```"
   ]
  },
  {
   "cell_type": "markdown",
   "metadata": {},
   "source": [
    "### 获取title"
   ]
  },
  {
   "cell_type": "markdown",
   "metadata": {},
   "source": [
    "* `xpath()`: 返回结果是一个列表\n",
    "* `extract()`: 返回结果也是一个列表\n",
    "* `extract_first()`: 返回第一个值，这个函数有一个参数default,例如：`extract_first(default=\"\")`表示如果匹配不到返回一个空字符\n",
    "\n",
    "如下图所示:\n",
    "![](images/6.png)"
   ]
  },
  {
   "cell_type": "markdown",
   "metadata": {},
   "source": [
    "### 查找图片信息"
   ]
  },
  {
   "cell_type": "markdown",
   "metadata": {},
   "source": [
    "通过xpath和css结合使用获取图片的src地址：如下图所示\n",
    "\n",
    "![](images/7.png)\n"
   ]
  },
  {
   "cell_type": "markdown",
   "metadata": {},
   "source": [
    "### 查找a标签信息"
   ]
  },
  {
   "cell_type": "markdown",
   "metadata": {},
   "source": [
    "这里分别通过xapth和css选择器获取a标签的href内容，以及文本信息:\n",
    "\n",
    "* css获取属性信息是通过attr,\n",
    "* xpath是通过@属性名\n",
    "\n",
    "结果如下图所示:\n",
    "\n",
    "![](images/8.png)"
   ]
  },
  {
   "cell_type": "markdown",
   "metadata": {},
   "source": [
    "## 高级用法"
   ]
  },
  {
   "cell_type": "markdown",
   "metadata": {},
   "source": [
    "### contains用法"
   ]
  },
  {
   "cell_type": "markdown",
   "metadata": {},
   "source": [
    "使用`contains`查找属性名称包含img的所有的超链接, 如下图所示:\n",
    "\n",
    "![](images/9.png)\n",
    "\n",
    "查找img的src属性, , 如下图所示:\n",
    "\n",
    "![](images/10.png)\n",
    "\n",
    "提取a标签的文本中name后面的内容，这里提供了正则的方法re和re_first\n",
    "\n",
    "![](images/11.png)"
   ]
  }
 ],
 "metadata": {
  "kernelspec": {
   "display_name": "Python 3",
   "language": "python",
   "name": "python3"
  },
  "language_info": {
   "codemirror_mode": {
    "name": "ipython",
    "version": 3
   },
   "file_extension": ".py",
   "mimetype": "text/x-python",
   "name": "python",
   "nbconvert_exporter": "python",
   "pygments_lexer": "ipython3",
   "version": "3.6.4"
  }
 },
 "nbformat": 4,
 "nbformat_minor": 2
}
