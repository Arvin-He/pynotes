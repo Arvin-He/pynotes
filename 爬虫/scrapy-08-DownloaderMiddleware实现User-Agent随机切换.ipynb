{
 "cells": [
  {
   "cell_type": "markdown",
   "metadata": {},
   "source": [
    "# DownloaderMiddleware实现User-Agent随机切换"
   ]
  },
  {
   "cell_type": "markdown",
   "metadata": {},
   "source": [
    "scrapy其实本身提供了一个user-agent这个我们在源码中可以看到:\n",
    "```python\n",
    "from scrapy import signals\n",
    "class UserAgentMiddleware(object):\n",
    "    \"\"\"This middleware allows spiders to override the user_agent\"\"\"\n",
    "\n",
    "    def __init__(self, user_agent='Scrapy'):\n",
    "        self.user_agent = user_agent\n",
    "\n",
    "    @classmethod\n",
    "    def from_crawler(cls, crawler):\n",
    "        o = cls(crawler.settings['USER_AGENT'])\n",
    "        crawler.signals.connect(o.spider_opened, signal=signals.spider_opened)\n",
    "        return o\n",
    "\n",
    "    def spider_opened(self, spider):\n",
    "        self.user_agent = getattr(spider, 'user_agent', self.user_agent)\n",
    "\n",
    "    def process_request(self, request, spider):\n",
    "        if self.user_agent:\n",
    "            request.headers.setdefault(b'User-Agent', self.user_agent)\n",
    "```       \n",
    "\n",
    "从源代码中可以知道，默认scrapy的user_agent=‘Scrapy’,并且这里在这个类里有一个类方法from_crawler会从settings里获取USER_AGENT这个配置，如果settings配置文件中没有配置，则会采用默认的Scrapy，process_request方法会在请求头中设置User-Agent."
   ]
  },
  {
   "cell_type": "markdown",
   "metadata": {},
   "source": [
    "### 关于随机切换User-Agent的库"
   ]
  },
  {
   "cell_type": "markdown",
   "metadata": {},
   "source": [
    "[github地址为:](https://github.com/hellysmile/fake-useragent)\n",
    "\n",
    "安装：`pip install fake-useragent`\n",
    "\n",
    "基本的使用例子：\n",
    "```python\n",
    "from fake_useragent import UserAgent\n",
    "\n",
    "ua = UserAgent()\n",
    "\n",
    "print(ua.ie)\n",
    "print(ua.chrome)\n",
    "print(ua.Firefox)\n",
    "print(ua.random)\n",
    "print(ua.random)\n",
    "print(ua.random)\n",
    "```\n",
    "\n",
    "这里可以获取我们想要的常用的User-Agent,并且这里提供了一个random方法可以直接随机获取，上述代码的结果为："
   ]
  },
  {
   "cell_type": "markdown",
   "metadata": {},
   "source": [
    "### 关于配置和代码"
   ]
  },
  {
   "cell_type": "markdown",
   "metadata": {},
   "source": [
    "实现随机更换User-Agent，在settings配置文件如下：\n",
    "```\n",
    "DOWNLOADER_MIDDLEWARES = {\n",
    "    'jobboleSpider.middlewares.RandomUserAgentMiddleware': 543,\n",
    "    'scrapy.downloadermiddlewares.useragent.UserAgentMiddleware': None,\n",
    "}\n",
    "\n",
    "RANDOM_UA_TYPE= 'random'\n",
    "```\n",
    "\n",
    "这里要将系统的UserAgent中间件设置为None，这样就不会启用，否则默认系统的这个中间会被启用.\n",
    "\n",
    "定义RANDOM_UA_TYPE这个是设置一个默认的值，如果这里不设置我们会在代码中进行设置，在middleares.py中添加如下代码：\n",
    "```python\n",
    "class RandomUserAgentMiddleware(object):\n",
    "    '''\n",
    "    随机更换User-Agent\n",
    "    '''\n",
    "    def __init__(self,crawler):\n",
    "        super(RandomUserAgentMiddleware, self).__init__()\n",
    "        self.ua = UserAgent()\n",
    "        self.ua_type = crawler.settings.get('RANDOM_UA_TYPE','random')\n",
    "\n",
    "    @classmethod\n",
    "    def from_crawler(cls,crawler):\n",
    "        return cls(crawler)\n",
    "\n",
    "    def process_request(self,request,spider):\n",
    "        def get_ua():\n",
    "            return getattr(self.ua, self.ua_type)\n",
    "        request.headers.setdefault('User-Agent',get_ua())\n",
    "```        \n",
    "\n",
    "上述代码的一个简单分析描述：\n",
    "1. 通过crawler.settings.get来获取配置文件中的配置，如果没有配置则默认是random，如果配置了ie或者chrome等就会获取到相应的配置\n",
    "2. 在process_request方法中嵌套了一个get_ua方法，get_ua其实就是为了执行ua.ua_type，但是这里无法使用self.ua.self.us_type，所以利用了getattr方法来直接获取，最后通过request.heasers.setdefault来设置User-Agent.\n",
    "\n",
    "通过上面的配置就实现了每次请求随机更换User-Agent"
   ]
  }
 ],
 "metadata": {
  "kernelspec": {
   "display_name": "Python 3",
   "language": "python",
   "name": "python3"
  },
  "language_info": {
   "codemirror_mode": {
    "name": "ipython",
    "version": 3
   },
   "file_extension": ".py",
   "mimetype": "text/x-python",
   "name": "python",
   "nbconvert_exporter": "python",
   "pygments_lexer": "ipython3",
   "version": "3.6.4"
  }
 },
 "nbformat": 4,
 "nbformat_minor": 2
}
