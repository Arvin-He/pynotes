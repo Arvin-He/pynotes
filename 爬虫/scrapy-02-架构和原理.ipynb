{
 "cells": [
  {
   "cell_type": "markdown",
   "metadata": {},
   "source": [
    "# scrapy-02-架构和原理"
   ]
  },
  {
   "cell_type": "markdown",
   "metadata": {},
   "source": [
    "Scrapy使用了Twisted作为框架，Twisted是基于事件驱动的，比较适合异步的代码。对于会阻塞线程的操作包含访问文件、数据库或者Web、产生新的进程并需要处理新进程的输出(如运行shell命令)、执行系统层次操作的代码(如等待系统队列),Twisted提供了允许执行上面的操作但不会阻塞代码执行的方法。"
   ]
  },
  {
   "cell_type": "markdown",
   "metadata": {},
   "source": [
    "## Scrapy data flow（流程图）"
   ]
  },
  {
   "cell_type": "markdown",
   "metadata": {},
   "source": [
    "Scrapy数据流是由执行的核心引擎(engine)控制，流程是这样的：\n",
    "1. 爬虫引擎ENGINE获得初始请求开始抓取。 \n",
    "2. 爬虫引擎ENGINE开始请求调度程序SCHEDULER，并准备对下一次的请求进行抓取。 \n",
    "3. 爬虫调度器返回下一个请求给爬虫引擎。 \n",
    "4. 引擎请求发送到下载器DOWNLOADER，通过下载中间件下载网络数据。 \n",
    "5. 下载器完成页面下载，将下载结果返回给爬虫引擎ENGINE。 \n",
    "6. 引擎ENGINE将下载器DOWNLOADER的响应通过中间件MIDDLEWARES返回给爬虫SPIDERS进行处理。 \n",
    "7. SPIDERS处理响应，并通过中间件MIDDLEWARES返回处理后的items，以及新的请求给引擎。 \n",
    "8. 发送处理后的items到项目管道，然后把处理结果返回给调度器SCHEDULER，调度器计划处理下一个请求抓取。 \n",
    "9. 该过程（继续步骤1），直到爬取完所有的url请求。"
   ]
  },
  {
   "cell_type": "markdown",
   "metadata": {},
   "source": [
    "## 组件介绍"
   ]
  },
  {
   "cell_type": "markdown",
   "metadata": {},
   "source": [
    "爬虫引擎(ENGINE): 爬虫引擎负责控制各个组件之间的数据流，当某些操作触发事件后都是通过engine来处理。\n",
    "\n",
    "调度器(SCHEDULER): 调度接收来engine的请求并将请求放入队列中，并通过事件返回给engine。\n",
    "\n",
    "下载器(DOWNLOADER): 通过engine请求下载网络数据并将结果响应给engine。\n",
    "\n",
    "Spider: Spider发出请求，并处理engine返回给它下载器响应数据，以items和规则内的数据请求(urls)返回给engine。\n",
    "\n",
    "管道项目(item pipeline): 负责处理engine返回spider解析后的数据，并且将数据持久化，例如将数据存入数据库或者文件。\n",
    "\n",
    "下载中间件: 下载中间件是engine和下载器交互组件，以钩子(插件)的形式存在，可以代替接收请求、处理数据的下载以及将结果响应给engine。\n",
    "\n",
    "spider中间件: spider中间件是engine和spider之间的交互组件，以钩子(插件)的形式存在，可以代替处理response以及返回给engine items及新的请求集。"
   ]
  },
  {
   "cell_type": "markdown",
   "metadata": {},
   "source": [
    "## 创建scrapy项目和爬虫"
   ]
  },
  {
   "cell_type": "markdown",
   "metadata": {},
   "source": [
    "创建scrapy项目: \n",
    "1. cd 指定路径\n",
    "2. `scrapy startproject <项目名>`\n",
    "\n",
    "创建一个爬虫: \n",
    "1. 进入到创建的爬虫项目目录\n",
    "2. `scrapy genspider <爬虫名字> <爬虫的域名>`\n",
    "\n",
    "如下图所示:\n",
    "![](images/2.png)"
   ]
  }
 ],
 "metadata": {
  "kernelspec": {
   "display_name": "Python 3",
   "language": "python",
   "name": "python3"
  },
  "language_info": {
   "codemirror_mode": {
    "name": "ipython",
    "version": 3
   },
   "file_extension": ".py",
   "mimetype": "text/x-python",
   "name": "python",
   "nbconvert_exporter": "python",
   "pygments_lexer": "ipython3",
   "version": "3.6.4"
  }
 },
 "nbformat": 4,
 "nbformat_minor": 2
}
