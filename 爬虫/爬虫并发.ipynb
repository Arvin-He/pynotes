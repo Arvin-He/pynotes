{
 "cells": [
  {
   "cell_type": "markdown",
   "metadata": {},
   "source": [
    "# 爬虫并发"
   ]
  },
  {
   "cell_type": "markdown",
   "metadata": {},
   "source": [
    "### 简单循环串行"
   ]
  },
  {
   "cell_type": "markdown",
   "metadata": {},
   "source": [
    "这种方法应该是最慢的，因为一个一个循环，耗时是最长的，是所有时间总和"
   ]
  },
  {
   "cell_type": "code",
   "execution_count": 1,
   "metadata": {},
   "outputs": [
    {
     "name": "stdout",
     "output_type": "stream",
     "text": [
      "开始时间为: 1533104896.6427982\n",
      "200\n",
      "第 0 个请求花费时间: 0.04388260841369629\n",
      "200\n",
      "第 1 个请求花费时间: 3.041865110397339\n",
      "200\n",
      "第 2 个请求花费时间: 0.23140478134155273\n",
      "总共花费时间为: 3.317152500152588\n"
     ]
    }
   ],
   "source": [
    "import time\n",
    "import requests\n",
    "\n",
    "url_list = [\n",
    "    'http://www.baidu.com',\n",
    "    'http://www.pythonsite.com',\n",
    "    'http://www.cnblogs.com/'\n",
    "]\n",
    "\n",
    "start_time = time.time()\n",
    "print('开始时间为: {}'.format(start_time))\n",
    "\n",
    "for i, url in enumerate(url_list):\n",
    "    start = time.time()\n",
    "    result = requests.get(url)\n",
    "    print(result.status_code)\n",
    "    end = time.time()\n",
    "    print('第 {} 个请求花费时间: {}'.format(i, end-start))\n",
    "    \n",
    "end_time = time.time()\n",
    "\n",
    "print('总共花费时间为: {}'.format(end_time-start_time))\n",
    "    "
   ]
  },
  {
   "cell_type": "markdown",
   "metadata": {},
   "source": [
    "### 线程池并发"
   ]
  },
  {
   "cell_type": "markdown",
   "metadata": {},
   "source": [
    "通过线程池的方式访问，这样整体的耗时是所有连接里耗时最久的那个，相对循环串行来说快了很多"
   ]
  },
  {
   "cell_type": "code",
   "execution_count": 4,
   "metadata": {},
   "outputs": [
    {
     "name": "stdout",
     "output_type": "stream",
     "text": [
      "开始时间为: 1533105726.9810228\n",
      "第 0 个请求花费时间: 0.005985260009765625\n",
      "第 1 个请求花费时间: 0.0019941329956054688\n",
      "第 2 个请求花费时间: 0.004986286163330078\n",
      "总共花费时间为: 0.013963699340820312\n",
      "200\n",
      "200\n",
      "200\n"
     ]
    }
   ],
   "source": [
    "import time\n",
    "import requests\n",
    "from concurrent.futures import ThreadPoolExecutor\n",
    "\n",
    "url_list = [\n",
    "    'http://www.baidu.com',\n",
    "    'http://www.bing.com',\n",
    "    'http://www.cnblogs.com/'\n",
    "]\n",
    "\n",
    "def fetch(url):\n",
    "    result = requests.get(url)\n",
    "    print(result.status_code)\n",
    "    \n",
    "\n",
    "pool = ThreadPoolExecutor(10)\n",
    "\n",
    "start_time = time.time()\n",
    "print('开始时间为: {}'.format(start_time))\n",
    "\n",
    "for i, url in enumerate(url_list):\n",
    "    start = time.time()\n",
    "    pool.submit(fetch, url)\n",
    "    end = time.time()\n",
    "    print('第 {} 个请求花费时间: {}'.format(i, end-start))\n",
    "\n",
    "end_time = time.time()\n",
    "print('总共花费时间为: {}'.format(end_time-start_time))    "
   ]
  },
  {
   "cell_type": "markdown",
   "metadata": {},
   "source": [
    "### 线程池+回调函数"
   ]
  },
  {
   "cell_type": "code",
   "execution_count": 10,
   "metadata": {},
   "outputs": [
    {
     "name": "stdout",
     "output_type": "stream",
     "text": [
      "开始时间为: 1533106206.701956\n",
      "创建线程池花费时间: 0.0\n",
      "第 0 个请求花费时间: 0.0\n",
      "第 1 个请求花费时间: 0.0029916763305664062\n",
      "第 2 个请求花费时间: 0.0019936561584472656\n",
      "总共花费时间为: 0.008974552154541016\n",
      "200\n",
      "200\n",
      "200\n",
      "关闭线程池花费时间: 0.32712578773498535\n"
     ]
    }
   ],
   "source": [
    "import time\n",
    "import requests\n",
    "from concurrent.futures import ThreadPoolExecutor\n",
    "\n",
    "url_list = [\n",
    "    'http://www.baidu.com',\n",
    "    'http://www.bing.com',\n",
    "    'http://www.cnblogs.com/'\n",
    "]\n",
    "\n",
    "def fetch_async(url):\n",
    "    response = requests.get(url)\n",
    "    return response\n",
    "\n",
    "def callback(future):\n",
    "    print(future.result().status_code)\n",
    "    \n",
    "\n",
    "start_time = time.time()\n",
    "print('开始时间为: {}'.format(start_time))\n",
    "\n",
    "pool = ThreadPoolExecutor(5)\n",
    "\n",
    "print('创建线程池花费时间: {}'.format(time.time() - start_time))\n",
    "\n",
    "for i, url in enumerate(url_list):\n",
    "    start = time.time()\n",
    "    v = pool.submit(fetch_async, url)\n",
    "    v.add_done_callback(callback)\n",
    "    end = time.time()\n",
    "    print('第 {} 个请求花费时间: {}'.format(i, end-start))\n",
    "\n",
    "end_time = time.time()\n",
    "print('总共花费时间为: {}'.format(end_time-start_time))   \n",
    "\n",
    "pool.shutdown()\n",
    "\n",
    "print('关闭线程池花费时间: {}'.format(time.time()-end_time))"
   ]
  },
  {
   "cell_type": "markdown",
   "metadata": {},
   "source": [
    "### 进程池并发"
   ]
  },
  {
   "cell_type": "markdown",
   "metadata": {},
   "source": [
    "通过进程池的方式访问，同样的也是取决于耗时最长的，但是相对于线程来说，进程需要耗费更多的资源，同时这里是访问url时IO操作，所以这里线程池比进程池更好."
   ]
  },
  {
   "cell_type": "code",
   "execution_count": 11,
   "metadata": {},
   "outputs": [
    {
     "name": "stdout",
     "output_type": "stream",
     "text": [
      "开始时间为: 1533106519.7000778\n",
      "创建进程池花费时间: 0.004985809326171875\n",
      "第 0 个请求花费时间: 0.016955137252807617\n",
      "第 1 个请求花费时间: 0.0\n",
      "第 2 个请求花费时间: 0.0\n",
      "总共花费时间为: 0.02293848991394043\n",
      "关闭进程池花费时间: 0.3749985694885254\n"
     ]
    }
   ],
   "source": [
    "import time\n",
    "import requests\n",
    "from concurrent.futures import ProcessPoolExecutor\n",
    "\n",
    "url_list = [\n",
    "    'http://www.baidu.com',\n",
    "    'http://www.bing.com',\n",
    "    'http://www.cnblogs.com/'\n",
    "]\n",
    "\n",
    "def fetch(url):\n",
    "    result = requests.get(url)\n",
    "    print(result.status_code)\n",
    "    \n",
    "start_time = time.time()\n",
    "print('开始时间为: {}'.format(start_time))\n",
    "\n",
    "pool = ProcessPoolExecutor(5)\n",
    "\n",
    "print('创建进程池花费时间: {}'.format(time.time()-start_time))\n",
    "\n",
    "for i, url in enumerate(url_list):\n",
    "    start = time.time()\n",
    "    pool.submit(fetch, url)\n",
    "    end = time.time()\n",
    "    print('第 {} 个请求花费时间: {}'.format(i, end-start))\n",
    "\n",
    "end_time = time.time()\n",
    "print('总共花费时间为: {}'.format(end_time-start_time))    \n",
    "\n",
    "pool.shutdown(True)\n",
    "print('关闭进程池花费时间: {}'.format(time.time()-end_time))"
   ]
  },
  {
   "cell_type": "markdown",
   "metadata": {},
   "source": [
    "### 进程池+回调函数"
   ]
  },
  {
   "cell_type": "code",
   "execution_count": 16,
   "metadata": {},
   "outputs": [
    {
     "name": "stdout",
     "output_type": "stream",
     "text": [
      "开始时间为: 1533106840.277305\n",
      "创建进程池花费时间: 0.001994609832763672\n",
      "第 0 个请求花费时间: 0.034906625747680664\n",
      "第 1 个请求花费时间: 0.0\n",
      "第 2 个请求花费时间: 0.0009970664978027344\n",
      "总共花费时间为: 0.03789830207824707\n"
     ]
    },
    {
     "name": "stderr",
     "output_type": "stream",
     "text": [
      "exception calling callback for <Future at 0x1677d9cfa90 state=finished raised BrokenProcessPool>\n",
      "Traceback (most recent call last):\n",
      "  File \"c:\\program files\\python36\\lib\\concurrent\\futures\\_base.py\", line 324, in _invoke_callbacks\n",
      "    callback(self)\n",
      "  File \"<ipython-input-16-6246141e29e4>\", line 16, in callback\n",
      "    print(future.result().status_code)\n",
      "  File \"c:\\program files\\python36\\lib\\concurrent\\futures\\_base.py\", line 425, in result\n",
      "    return self.__get_result()\n",
      "  File \"c:\\program files\\python36\\lib\\concurrent\\futures\\_base.py\", line 384, in __get_result\n",
      "    raise self._exception\n",
      "concurrent.futures.process.BrokenProcessPool: A process in the process pool was terminated abruptly while the future was running or pending.\n",
      "exception calling callback for <Future at 0x1677da04eb8 state=finished raised BrokenProcessPool>\n",
      "Traceback (most recent call last):\n",
      "  File \"c:\\program files\\python36\\lib\\concurrent\\futures\\_base.py\", line 324, in _invoke_callbacks\n",
      "    callback(self)\n",
      "  File \"<ipython-input-16-6246141e29e4>\", line 16, in callback\n",
      "    print(future.result().status_code)\n",
      "  File \"c:\\program files\\python36\\lib\\concurrent\\futures\\_base.py\", line 425, in result\n",
      "    return self.__get_result()\n",
      "  File \"c:\\program files\\python36\\lib\\concurrent\\futures\\_base.py\", line 384, in __get_result\n",
      "    raise self._exception\n",
      "concurrent.futures.process.BrokenProcessPool: A process in the process pool was terminated abruptly while the future was running or pending.\n",
      "exception calling callback for <Future at 0x1677da04f60 state=finished raised BrokenProcessPool>\n",
      "Traceback (most recent call last):\n",
      "  File \"c:\\program files\\python36\\lib\\concurrent\\futures\\_base.py\", line 324, in _invoke_callbacks\n",
      "    callback(self)\n",
      "  File \"<ipython-input-16-6246141e29e4>\", line 16, in callback\n",
      "    print(future.result().status_code)\n",
      "  File \"c:\\program files\\python36\\lib\\concurrent\\futures\\_base.py\", line 425, in result\n",
      "    return self.__get_result()\n",
      "  File \"c:\\program files\\python36\\lib\\concurrent\\futures\\_base.py\", line 384, in __get_result\n",
      "    raise self._exception\n",
      "concurrent.futures.process.BrokenProcessPool: A process in the process pool was terminated abruptly while the future was running or pending.\n"
     ]
    },
    {
     "name": "stdout",
     "output_type": "stream",
     "text": [
      "关闭进程池花费时间: 0.2652909755706787\n"
     ]
    }
   ],
   "source": [
    "import time\n",
    "import requests\n",
    "from concurrent.futures import ProcessPoolExecutor\n",
    "\n",
    "url_list = [\n",
    "    'http://www.baidu.com',\n",
    "    'http://www.bing.com',\n",
    "    'http://www.cnblogs.com/'\n",
    "]\n",
    "\n",
    "def fetch_async(url):\n",
    "    response = requests.get(url)\n",
    "    return response\n",
    "\n",
    "def callback(future):\n",
    "    print(future.result().status_code)\n",
    "    \n",
    "\n",
    "start_time = time.time()\n",
    "print('开始时间为: {}'.format(start_time))\n",
    "\n",
    "pool = ProcessPoolExecutor(5)\n",
    "\n",
    "print('创建进程池花费时间: {}'.format(time.time() - start_time))\n",
    "\n",
    "for i, url in enumerate(url_list):\n",
    "    start = time.time()\n",
    "    v = pool.submit(fetch_async, url)\n",
    "    v.add_done_callback(callback)\n",
    "    end = time.time()\n",
    "    print('第 {} 个请求花费时间: {}'.format(i, end-start))\n",
    "\n",
    "end_time = time.time()\n",
    "print('总共花费时间为: {}'.format(end_time-start_time))   \n",
    "\n",
    "\n",
    "pool.shutdown(True)\n",
    "\n",
    "print('关闭进程池花费时间: {}'.format(time.time()-end_time))"
   ]
  },
  {
   "cell_type": "markdown",
   "metadata": {},
   "source": [
    "### 单线程协程并发"
   ]
  },
  {
   "cell_type": "markdown",
   "metadata": {},
   "source": [
    "* asyncio\n",
    "* gevent\n",
    "* Twisted\n",
    "* Tornado"
   ]
  },
  {
   "cell_type": "markdown",
   "metadata": {},
   "source": [
    "### 使用asyncio"
   ]
  },
  {
   "cell_type": "code",
   "execution_count": null,
   "metadata": {},
   "outputs": [],
   "source": [
    "import time\n",
    "import asyncio\n",
    "import requests\n",
    "\n",
    "url_list = [\n",
    "    'http://www.baidu.com',\n",
    "    'http://www.bing.com',\n",
    "    'http://www.cnblogs.com/'\n",
    "]\n",
    "\n",
    "async def fetch_async(url):\n",
    "    start = time.time()\n",
    "    response = requests.get(url)\n",
    "    print(response.status_code)\n",
    "    end = time.time()\n",
    "    print('请求url: {}, 花费时间: {}'.format(url, end-start))\n",
    "    \n",
    "    \n",
    "tasks = [fetch_async(url) for url in url_list if url]    \n",
    "\n",
    "start_time = time.time()\n",
    "print('开始时间为: {}'.format(start_time))\n",
    "\n",
    "loop = asyncio.get_event_loop()\n",
    "\n",
    "loop.run_until_complete(asyncio.gather(*tasks))\n",
    "\n",
    "loop.close()\n",
    "print('总花费时间: {}'.format(time.time()-end_time))"
   ]
  },
  {
   "cell_type": "markdown",
   "metadata": {},
   "source": [
    "$ python c:/Users/JS-E-PC-10182/Desktop/test/python/aaa.py\n",
    "\n",
    "开始时间为: 1533110011.8857687\n",
    "\n",
    "200\n",
    "\n",
    "请求url: http://www.cnblogs.com/, 花费时间: 0.13364171981811523\n",
    "\n",
    "200\n",
    "\n",
    "请求url: http://www.bing.com, 花费时间: 0.3001983165740967\n",
    "\n",
    "200\n",
    "\n",
    "请求url: http://www.baidu.com, 花费时间: 0.025927066802978516\n",
    "\n",
    "总共花费时间为: 0.4747307300567627"
   ]
  },
  {
   "cell_type": "markdown",
   "metadata": {},
   "source": [
    "### syncio例子2"
   ]
  },
  {
   "cell_type": "markdown",
   "metadata": {},
   "source": [
    "这里asyncio并没有提供我们发送http请求的方法，但是我们可以在yield from这里构造http请求的方法"
   ]
  },
  {
   "cell_type": "code",
   "execution_count": 3,
   "metadata": {},
   "outputs": [
    {
     "ename": "RuntimeError",
     "evalue": "This event loop is already running",
     "output_type": "error",
     "traceback": [
      "\u001b[1;31m---------------------------------------------------------------------------\u001b[0m",
      "\u001b[1;31mRuntimeError\u001b[0m                              Traceback (most recent call last)",
      "\u001b[1;32m<ipython-input-3-26e7c869a894>\u001b[0m in \u001b[0;36m<module>\u001b[1;34m()\u001b[0m\n\u001b[0;32m     21\u001b[0m \u001b[1;33m\u001b[0m\u001b[0m\n\u001b[0;32m     22\u001b[0m \u001b[0mloop\u001b[0m \u001b[1;33m=\u001b[0m \u001b[0masyncio\u001b[0m\u001b[1;33m.\u001b[0m\u001b[0mget_event_loop\u001b[0m\u001b[1;33m(\u001b[0m\u001b[1;33m)\u001b[0m\u001b[1;33m\u001b[0m\u001b[0m\n\u001b[1;32m---> 23\u001b[1;33m \u001b[0mresults\u001b[0m \u001b[1;33m=\u001b[0m \u001b[0mloop\u001b[0m\u001b[1;33m.\u001b[0m\u001b[0mrun_until_complete\u001b[0m\u001b[1;33m(\u001b[0m\u001b[0masyncio\u001b[0m\u001b[1;33m.\u001b[0m\u001b[0mgather\u001b[0m\u001b[1;33m(\u001b[0m\u001b[1;33m*\u001b[0m\u001b[0mtasks\u001b[0m\u001b[1;33m)\u001b[0m\u001b[1;33m)\u001b[0m\u001b[1;33m\u001b[0m\u001b[0m\n\u001b[0m\u001b[0;32m     24\u001b[0m \u001b[0mloop\u001b[0m\u001b[1;33m.\u001b[0m\u001b[0mclose\u001b[0m\u001b[1;33m(\u001b[0m\u001b[1;33m)\u001b[0m\u001b[1;33m\u001b[0m\u001b[0m\n",
      "\u001b[1;32mc:\\program files\\python36\\lib\\asyncio\\base_events.py\u001b[0m in \u001b[0;36mrun_until_complete\u001b[1;34m(self, future)\u001b[0m\n\u001b[0;32m    452\u001b[0m         \u001b[0mfuture\u001b[0m\u001b[1;33m.\u001b[0m\u001b[0madd_done_callback\u001b[0m\u001b[1;33m(\u001b[0m\u001b[0m_run_until_complete_cb\u001b[0m\u001b[1;33m)\u001b[0m\u001b[1;33m\u001b[0m\u001b[0m\n\u001b[0;32m    453\u001b[0m         \u001b[1;32mtry\u001b[0m\u001b[1;33m:\u001b[0m\u001b[1;33m\u001b[0m\u001b[0m\n\u001b[1;32m--> 454\u001b[1;33m             \u001b[0mself\u001b[0m\u001b[1;33m.\u001b[0m\u001b[0mrun_forever\u001b[0m\u001b[1;33m(\u001b[0m\u001b[1;33m)\u001b[0m\u001b[1;33m\u001b[0m\u001b[0m\n\u001b[0m\u001b[0;32m    455\u001b[0m         \u001b[1;32mexcept\u001b[0m\u001b[1;33m:\u001b[0m\u001b[1;33m\u001b[0m\u001b[0m\n\u001b[0;32m    456\u001b[0m             \u001b[1;32mif\u001b[0m \u001b[0mnew_task\u001b[0m \u001b[1;32mand\u001b[0m \u001b[0mfuture\u001b[0m\u001b[1;33m.\u001b[0m\u001b[0mdone\u001b[0m\u001b[1;33m(\u001b[0m\u001b[1;33m)\u001b[0m \u001b[1;32mand\u001b[0m \u001b[1;32mnot\u001b[0m \u001b[0mfuture\u001b[0m\u001b[1;33m.\u001b[0m\u001b[0mcancelled\u001b[0m\u001b[1;33m(\u001b[0m\u001b[1;33m)\u001b[0m\u001b[1;33m:\u001b[0m\u001b[1;33m\u001b[0m\u001b[0m\n",
      "\u001b[1;32mc:\\program files\\python36\\lib\\asyncio\\base_events.py\u001b[0m in \u001b[0;36mrun_forever\u001b[1;34m(self)\u001b[0m\n\u001b[0;32m    406\u001b[0m         \u001b[0mself\u001b[0m\u001b[1;33m.\u001b[0m\u001b[0m_check_closed\u001b[0m\u001b[1;33m(\u001b[0m\u001b[1;33m)\u001b[0m\u001b[1;33m\u001b[0m\u001b[0m\n\u001b[0;32m    407\u001b[0m         \u001b[1;32mif\u001b[0m \u001b[0mself\u001b[0m\u001b[1;33m.\u001b[0m\u001b[0mis_running\u001b[0m\u001b[1;33m(\u001b[0m\u001b[1;33m)\u001b[0m\u001b[1;33m:\u001b[0m\u001b[1;33m\u001b[0m\u001b[0m\n\u001b[1;32m--> 408\u001b[1;33m             \u001b[1;32mraise\u001b[0m \u001b[0mRuntimeError\u001b[0m\u001b[1;33m(\u001b[0m\u001b[1;34m'This event loop is already running'\u001b[0m\u001b[1;33m)\u001b[0m\u001b[1;33m\u001b[0m\u001b[0m\n\u001b[0m\u001b[0;32m    409\u001b[0m         \u001b[1;32mif\u001b[0m \u001b[0mevents\u001b[0m\u001b[1;33m.\u001b[0m\u001b[0m_get_running_loop\u001b[0m\u001b[1;33m(\u001b[0m\u001b[1;33m)\u001b[0m \u001b[1;32mis\u001b[0m \u001b[1;32mnot\u001b[0m \u001b[1;32mNone\u001b[0m\u001b[1;33m:\u001b[0m\u001b[1;33m\u001b[0m\u001b[0m\n\u001b[0;32m    410\u001b[0m             raise RuntimeError(\n",
      "\u001b[1;31mRuntimeError\u001b[0m: This event loop is already running"
     ]
    },
    {
     "name": "stdout",
     "output_type": "stream",
     "text": [
      "---- dig.chouti.com /pic/show?nid=4073644713430508&lid=10273091\n",
      "---- www.cnblogs.com /zhaof/\n",
      "www.cnblogs.com /zhaof/\n",
      "dig.chouti.com /pic/show?nid=4073644713430508&lid=10273091\n"
     ]
    }
   ],
   "source": [
    "import asyncio\n",
    "\n",
    "async def fetch_async(host, url='/'):\n",
    "    print(\"----\",host, url)\n",
    "    reader, writer = await asyncio.open_connection(host, 80)\n",
    "\n",
    "    #构造请求头内容\n",
    "    request_header_content = \"\"\"GET %s HTTP/1.0\\r\\nHost: %s\\r\\n\\r\\n\"\"\" % (url, host,)\n",
    "    request_header_content = bytes(request_header_content, encoding='utf-8')\n",
    "    #发送请求\n",
    "    writer.write(request_header_content)\n",
    "    await writer.drain()\n",
    "    text = await reader.read()\n",
    "    print(host, url)\n",
    "    writer.close()\n",
    "\n",
    "tasks = [\n",
    "    fetch_async('www.cnblogs.com', '/zhaof/'),\n",
    "    fetch_async('dig.chouti.com', '/pic/show?nid=4073644713430508&lid=10273091')\n",
    "]\n",
    "\n",
    "loop = asyncio.get_event_loop()\n",
    "results = loop.run_until_complete(asyncio.gather(*tasks))\n",
    "loop.close()"
   ]
  },
  {
   "cell_type": "markdown",
   "metadata": {},
   "source": [
    "### asyncio + aiohttp"
   ]
  },
  {
   "cell_type": "code",
   "execution_count": 4,
   "metadata": {},
   "outputs": [
    {
     "ename": "RuntimeError",
     "evalue": "This event loop is already running",
     "output_type": "error",
     "traceback": [
      "\u001b[1;31m---------------------------------------------------------------------------\u001b[0m",
      "\u001b[1;31mRuntimeError\u001b[0m                              Traceback (most recent call last)",
      "\u001b[1;32m<ipython-input-4-fa86530e2e3b>\u001b[0m in \u001b[0;36m<module>\u001b[1;34m()\u001b[0m\n\u001b[0;32m     12\u001b[0m \u001b[1;33m\u001b[0m\u001b[0m\n\u001b[0;32m     13\u001b[0m \u001b[0mevent_loop\u001b[0m \u001b[1;33m=\u001b[0m \u001b[0masyncio\u001b[0m\u001b[1;33m.\u001b[0m\u001b[0mget_event_loop\u001b[0m\u001b[1;33m(\u001b[0m\u001b[1;33m)\u001b[0m\u001b[1;33m\u001b[0m\u001b[0m\n\u001b[1;32m---> 14\u001b[1;33m \u001b[0mresults\u001b[0m \u001b[1;33m=\u001b[0m \u001b[0mevent_loop\u001b[0m\u001b[1;33m.\u001b[0m\u001b[0mrun_until_complete\u001b[0m\u001b[1;33m(\u001b[0m\u001b[0masyncio\u001b[0m\u001b[1;33m.\u001b[0m\u001b[0mgather\u001b[0m\u001b[1;33m(\u001b[0m\u001b[1;33m*\u001b[0m\u001b[0mtasks\u001b[0m\u001b[1;33m)\u001b[0m\u001b[1;33m)\u001b[0m\u001b[1;33m\u001b[0m\u001b[0m\n\u001b[0m\u001b[0;32m     15\u001b[0m \u001b[0mevent_loop\u001b[0m\u001b[1;33m.\u001b[0m\u001b[0mclose\u001b[0m\u001b[1;33m(\u001b[0m\u001b[1;33m)\u001b[0m\u001b[1;33m\u001b[0m\u001b[0m\n",
      "\u001b[1;32mc:\\program files\\python36\\lib\\asyncio\\base_events.py\u001b[0m in \u001b[0;36mrun_until_complete\u001b[1;34m(self, future)\u001b[0m\n\u001b[0;32m    452\u001b[0m         \u001b[0mfuture\u001b[0m\u001b[1;33m.\u001b[0m\u001b[0madd_done_callback\u001b[0m\u001b[1;33m(\u001b[0m\u001b[0m_run_until_complete_cb\u001b[0m\u001b[1;33m)\u001b[0m\u001b[1;33m\u001b[0m\u001b[0m\n\u001b[0;32m    453\u001b[0m         \u001b[1;32mtry\u001b[0m\u001b[1;33m:\u001b[0m\u001b[1;33m\u001b[0m\u001b[0m\n\u001b[1;32m--> 454\u001b[1;33m             \u001b[0mself\u001b[0m\u001b[1;33m.\u001b[0m\u001b[0mrun_forever\u001b[0m\u001b[1;33m(\u001b[0m\u001b[1;33m)\u001b[0m\u001b[1;33m\u001b[0m\u001b[0m\n\u001b[0m\u001b[0;32m    455\u001b[0m         \u001b[1;32mexcept\u001b[0m\u001b[1;33m:\u001b[0m\u001b[1;33m\u001b[0m\u001b[0m\n\u001b[0;32m    456\u001b[0m             \u001b[1;32mif\u001b[0m \u001b[0mnew_task\u001b[0m \u001b[1;32mand\u001b[0m \u001b[0mfuture\u001b[0m\u001b[1;33m.\u001b[0m\u001b[0mdone\u001b[0m\u001b[1;33m(\u001b[0m\u001b[1;33m)\u001b[0m \u001b[1;32mand\u001b[0m \u001b[1;32mnot\u001b[0m \u001b[0mfuture\u001b[0m\u001b[1;33m.\u001b[0m\u001b[0mcancelled\u001b[0m\u001b[1;33m(\u001b[0m\u001b[1;33m)\u001b[0m\u001b[1;33m:\u001b[0m\u001b[1;33m\u001b[0m\u001b[0m\n",
      "\u001b[1;32mc:\\program files\\python36\\lib\\asyncio\\base_events.py\u001b[0m in \u001b[0;36mrun_forever\u001b[1;34m(self)\u001b[0m\n\u001b[0;32m    406\u001b[0m         \u001b[0mself\u001b[0m\u001b[1;33m.\u001b[0m\u001b[0m_check_closed\u001b[0m\u001b[1;33m(\u001b[0m\u001b[1;33m)\u001b[0m\u001b[1;33m\u001b[0m\u001b[0m\n\u001b[0;32m    407\u001b[0m         \u001b[1;32mif\u001b[0m \u001b[0mself\u001b[0m\u001b[1;33m.\u001b[0m\u001b[0mis_running\u001b[0m\u001b[1;33m(\u001b[0m\u001b[1;33m)\u001b[0m\u001b[1;33m:\u001b[0m\u001b[1;33m\u001b[0m\u001b[0m\n\u001b[1;32m--> 408\u001b[1;33m             \u001b[1;32mraise\u001b[0m \u001b[0mRuntimeError\u001b[0m\u001b[1;33m(\u001b[0m\u001b[1;34m'This event loop is already running'\u001b[0m\u001b[1;33m)\u001b[0m\u001b[1;33m\u001b[0m\u001b[0m\n\u001b[0m\u001b[0;32m    409\u001b[0m         \u001b[1;32mif\u001b[0m \u001b[0mevents\u001b[0m\u001b[1;33m.\u001b[0m\u001b[0m_get_running_loop\u001b[0m\u001b[1;33m(\u001b[0m\u001b[1;33m)\u001b[0m \u001b[1;32mis\u001b[0m \u001b[1;32mnot\u001b[0m \u001b[1;32mNone\u001b[0m\u001b[1;33m:\u001b[0m\u001b[1;33m\u001b[0m\u001b[0m\n\u001b[0;32m    410\u001b[0m             raise RuntimeError(\n",
      "\u001b[1;31mRuntimeError\u001b[0m: This event loop is already running"
     ]
    },
    {
     "name": "stderr",
     "output_type": "stream",
     "text": [
      "Unclosed client session\n",
      "client_session: <aiohttp.client.ClientSession object at 0x00000230A9B7AD68>\n",
      "Unclosed client session\n",
      "client_session: <aiohttp.client.ClientSession object at 0x00000230A9B7AD68>\n"
     ]
    },
    {
     "name": "stdout",
     "output_type": "stream",
     "text": [
      "http://www.chouti.com/\n",
      "http://baidu.com/\n"
     ]
    }
   ],
   "source": [
    "import aiohttp\n",
    "import asyncio\n",
    "\n",
    "async def fetch_async(url):\n",
    "    print(url)\n",
    "    response = await aiohttp.request('GET', url)\n",
    "    print(url, response)\n",
    "    response.close()\n",
    "\n",
    "\n",
    "tasks = [fetch_async('http://baidu.com/'), fetch_async('http://www.chouti.com/')]\n",
    "\n",
    "event_loop = asyncio.get_event_loop()\n",
    "results = event_loop.run_until_complete(asyncio.gather(*tasks))\n",
    "event_loop.close()"
   ]
  },
  {
   "cell_type": "markdown",
   "metadata": {},
   "source": [
    "### asyncio+requests代码例子"
   ]
  },
  {
   "cell_type": "code",
   "execution_count": 6,
   "metadata": {},
   "outputs": [
    {
     "ename": "RuntimeError",
     "evalue": "This event loop is already running",
     "output_type": "error",
     "traceback": [
      "\u001b[1;31m---------------------------------------------------------------------------\u001b[0m",
      "\u001b[1;31mRuntimeError\u001b[0m                              Traceback (most recent call last)",
      "\u001b[1;32m<ipython-input-6-2b6260f4101c>\u001b[0m in \u001b[0;36m<module>\u001b[1;34m()\u001b[0m\n\u001b[0;32m     17\u001b[0m \u001b[1;33m\u001b[0m\u001b[0m\n\u001b[0;32m     18\u001b[0m \u001b[0mloop\u001b[0m \u001b[1;33m=\u001b[0m \u001b[0masyncio\u001b[0m\u001b[1;33m.\u001b[0m\u001b[0mget_event_loop\u001b[0m\u001b[1;33m(\u001b[0m\u001b[1;33m)\u001b[0m\u001b[1;33m\u001b[0m\u001b[0m\n\u001b[1;32m---> 19\u001b[1;33m \u001b[0mresults\u001b[0m \u001b[1;33m=\u001b[0m \u001b[0mloop\u001b[0m\u001b[1;33m.\u001b[0m\u001b[0mrun_until_complete\u001b[0m\u001b[1;33m(\u001b[0m\u001b[0masyncio\u001b[0m\u001b[1;33m.\u001b[0m\u001b[0mgather\u001b[0m\u001b[1;33m(\u001b[0m\u001b[1;33m*\u001b[0m\u001b[0mtasks\u001b[0m\u001b[1;33m)\u001b[0m\u001b[1;33m)\u001b[0m\u001b[1;33m\u001b[0m\u001b[0m\n\u001b[0m\u001b[0;32m     20\u001b[0m \u001b[0mloop\u001b[0m\u001b[1;33m.\u001b[0m\u001b[0mclose\u001b[0m\u001b[1;33m(\u001b[0m\u001b[1;33m)\u001b[0m\u001b[1;33m\u001b[0m\u001b[0m\n",
      "\u001b[1;32mc:\\program files\\python36\\lib\\asyncio\\base_events.py\u001b[0m in \u001b[0;36mrun_until_complete\u001b[1;34m(self, future)\u001b[0m\n\u001b[0;32m    452\u001b[0m         \u001b[0mfuture\u001b[0m\u001b[1;33m.\u001b[0m\u001b[0madd_done_callback\u001b[0m\u001b[1;33m(\u001b[0m\u001b[0m_run_until_complete_cb\u001b[0m\u001b[1;33m)\u001b[0m\u001b[1;33m\u001b[0m\u001b[0m\n\u001b[0;32m    453\u001b[0m         \u001b[1;32mtry\u001b[0m\u001b[1;33m:\u001b[0m\u001b[1;33m\u001b[0m\u001b[0m\n\u001b[1;32m--> 454\u001b[1;33m             \u001b[0mself\u001b[0m\u001b[1;33m.\u001b[0m\u001b[0mrun_forever\u001b[0m\u001b[1;33m(\u001b[0m\u001b[1;33m)\u001b[0m\u001b[1;33m\u001b[0m\u001b[0m\n\u001b[0m\u001b[0;32m    455\u001b[0m         \u001b[1;32mexcept\u001b[0m\u001b[1;33m:\u001b[0m\u001b[1;33m\u001b[0m\u001b[0m\n\u001b[0;32m    456\u001b[0m             \u001b[1;32mif\u001b[0m \u001b[0mnew_task\u001b[0m \u001b[1;32mand\u001b[0m \u001b[0mfuture\u001b[0m\u001b[1;33m.\u001b[0m\u001b[0mdone\u001b[0m\u001b[1;33m(\u001b[0m\u001b[1;33m)\u001b[0m \u001b[1;32mand\u001b[0m \u001b[1;32mnot\u001b[0m \u001b[0mfuture\u001b[0m\u001b[1;33m.\u001b[0m\u001b[0mcancelled\u001b[0m\u001b[1;33m(\u001b[0m\u001b[1;33m)\u001b[0m\u001b[1;33m:\u001b[0m\u001b[1;33m\u001b[0m\u001b[0m\n",
      "\u001b[1;32mc:\\program files\\python36\\lib\\asyncio\\base_events.py\u001b[0m in \u001b[0;36mrun_forever\u001b[1;34m(self)\u001b[0m\n\u001b[0;32m    406\u001b[0m         \u001b[0mself\u001b[0m\u001b[1;33m.\u001b[0m\u001b[0m_check_closed\u001b[0m\u001b[1;33m(\u001b[0m\u001b[1;33m)\u001b[0m\u001b[1;33m\u001b[0m\u001b[0m\n\u001b[0;32m    407\u001b[0m         \u001b[1;32mif\u001b[0m \u001b[0mself\u001b[0m\u001b[1;33m.\u001b[0m\u001b[0mis_running\u001b[0m\u001b[1;33m(\u001b[0m\u001b[1;33m)\u001b[0m\u001b[1;33m:\u001b[0m\u001b[1;33m\u001b[0m\u001b[0m\n\u001b[1;32m--> 408\u001b[1;33m             \u001b[1;32mraise\u001b[0m \u001b[0mRuntimeError\u001b[0m\u001b[1;33m(\u001b[0m\u001b[1;34m'This event loop is already running'\u001b[0m\u001b[1;33m)\u001b[0m\u001b[1;33m\u001b[0m\u001b[0m\n\u001b[0m\u001b[0;32m    409\u001b[0m         \u001b[1;32mif\u001b[0m \u001b[0mevents\u001b[0m\u001b[1;33m.\u001b[0m\u001b[0m_get_running_loop\u001b[0m\u001b[1;33m(\u001b[0m\u001b[1;33m)\u001b[0m \u001b[1;32mis\u001b[0m \u001b[1;32mnot\u001b[0m \u001b[1;32mNone\u001b[0m\u001b[1;33m:\u001b[0m\u001b[1;33m\u001b[0m\u001b[0m\n\u001b[0;32m    410\u001b[0m             raise RuntimeError(\n",
      "\u001b[1;31mRuntimeError\u001b[0m: This event loop is already running"
     ]
    },
    {
     "name": "stdout",
     "output_type": "stream",
     "text": [
      "http://www.cnblogs.com/wupeiqi/ 200\n",
      "https://dig.chouti.com/pic/show?nid=4073644713430508&lid=10273091 403\n"
     ]
    }
   ],
   "source": [
    "import asyncio\n",
    "import requests\n",
    "\n",
    "\n",
    "\n",
    "async def fetch_async(func, *args):\n",
    "    loop = asyncio.get_event_loop()\n",
    "    future = loop.run_in_executor(None, func, *args)\n",
    "    response = await future\n",
    "    print(response.url, response.status_code)\n",
    "\n",
    "\n",
    "tasks = [\n",
    "    fetch_async(requests.get, 'http://www.cnblogs.com/wupeiqi/'),\n",
    "    fetch_async(requests.get, 'http://dig.chouti.com/pic/show?nid=4073644713430508&lid=10273091')\n",
    "]\n",
    "\n",
    "loop = asyncio.get_event_loop()\n",
    "results = loop.run_until_complete(asyncio.gather(*tasks))\n",
    "loop.close()"
   ]
  },
  {
   "cell_type": "markdown",
   "metadata": {},
   "source": [
    "### gevent+requests代码例子"
   ]
  },
  {
   "cell_type": "code",
   "execution_count": 7,
   "metadata": {},
   "outputs": [
    {
     "name": "stderr",
     "output_type": "stream",
     "text": [
      "c:\\program files\\python36\\lib\\site-packages\\ipykernel_launcher.py:6: MonkeyPatchWarning: Monkey-patching ssl after ssl has already been imported may lead to errors, including RecursionError on Python 3.6. Please monkey-patch earlier. See https://github.com/gevent/gevent/issues/1016\n",
      "  \n"
     ]
    },
    {
     "name": "stdout",
     "output_type": "stream",
     "text": [
      "get https://www.python.org/ {}\n",
      "get https://www.yahoo.com/ {}\n",
      "get https://github.com/ {}\n",
      "https://github.com/ 200\n",
      "https://www.yahoo.com/ 200\n",
      "https://www.python.org/ 200\n"
     ]
    },
    {
     "data": {
      "text/plain": [
       "[<Greenlet \"Greenlet-0\" at 0x230aa0fb248: _run>,\n",
       " <Greenlet \"Greenlet-1\" at 0x230aa0fb148: _run>,\n",
       " <Greenlet \"Greenlet-2\" at 0x230aa0fb048: _run>]"
      ]
     },
     "execution_count": 7,
     "metadata": {},
     "output_type": "execute_result"
    },
    {
     "name": "stderr",
     "output_type": "stream",
     "text": [
      "c:\\program files\\python36\\lib\\site-packages\\gevent\\hub.py:154: UserWarning: libuv only supports millisecond timer resolution; all times less will be set to 1 ms\n",
      "  with loop.timer(seconds, ref=ref) as t:\n"
     ]
    }
   ],
   "source": [
    "import gevent\n",
    "\n",
    "import requests\n",
    "from gevent import monkey\n",
    "\n",
    "monkey.patch_all()\n",
    "\n",
    "\n",
    "def fetch_async(method, url, req_kwargs):\n",
    "    print(method, url, req_kwargs)\n",
    "    response = requests.request(method=method, url=url, **req_kwargs)\n",
    "    print(response.url, response.status_code)\n",
    "\n",
    "# ##### 发送请求 #####\n",
    "gevent.joinall([\n",
    "    gevent.spawn(fetch_async, method='get', url='https://www.python.org/', req_kwargs={}),\n",
    "    gevent.spawn(fetch_async, method='get', url='https://www.yahoo.com/', req_kwargs={}),\n",
    "    gevent.spawn(fetch_async, method='get', url='https://github.com/', req_kwargs={}),\n",
    "])\n",
    "\n",
    "# ##### 发送请求（协程池控制最大协程数量） #####\n",
    "# from gevent.pool import Pool\n",
    "# pool = Pool(None)\n",
    "# gevent.joinall([\n",
    "#     pool.spawn(fetch_async, method='get', url='https://www.python.org/', req_kwargs={}),\n",
    "#     pool.spawn(fetch_async, method='get', url='https://www.yahoo.com/', req_kwargs={}),\n",
    "#     pool.spawn(fetch_async, method='get', url='https://www.github.com/', req_kwargs={}),\n",
    "# ])"
   ]
  },
  {
   "cell_type": "markdown",
   "metadata": {},
   "source": [
    "### grequests代码例子"
   ]
  },
  {
   "cell_type": "markdown",
   "metadata": {},
   "source": [
    "这个是将requests+gevent进行了封装"
   ]
  },
  {
   "cell_type": "code",
   "execution_count": 10,
   "metadata": {},
   "outputs": [
    {
     "name": "stdout",
     "output_type": "stream",
     "text": [
      "[None, None, <Response [500]>]\n"
     ]
    },
    {
     "name": "stderr",
     "output_type": "stream",
     "text": [
      "c:\\program files\\python36\\lib\\site-packages\\gevent\\hub.py:154: UserWarning: libuv only supports millisecond timer resolution; all times less will be set to 1 ms\n",
      "  with loop.timer(seconds, ref=ref) as t:\n"
     ]
    }
   ],
   "source": [
    "import grequests\n",
    "\n",
    "\n",
    "request_list = [\n",
    "    grequests.get('http://httpbin.org/delay/1', timeout=0.001),\n",
    "    grequests.get('http://fakedomain/'),\n",
    "    grequests.get('http://httpbin.org/status/500')\n",
    "]\n",
    "\n",
    "\n",
    "# ##### 执行并获取响应列表 #####\n",
    "response_list = grequests.map(request_list)\n",
    "print(response_list)\n",
    "\n",
    "\n",
    "# ##### 执行并获取响应列表（处理异常） #####\n",
    "# def exception_handler(request, exception):\n",
    "#     print(\"Request failed\", request,exception)\n",
    "\n",
    "# response_list = grequests.map(request_list, exception_handler=exception_handler)\n",
    "# print(response_list)"
   ]
  },
  {
   "cell_type": "markdown",
   "metadata": {},
   "source": [
    "### twisted代码例子"
   ]
  },
  {
   "cell_type": "code",
   "execution_count": 12,
   "metadata": {},
   "outputs": [
    {
     "name": "stderr",
     "output_type": "stream",
     "text": [
      "c:\\program files\\python36\\lib\\site-packages\\ipykernel_launcher.py:15: DeprecationWarning: twisted.web.client.getPage was deprecated in Twisted 16.7.0; please use https://pypi.org/project/treq/ or twisted.web.client.Agent instead\n",
      "  from ipykernel import kernelapp as app\n"
     ]
    },
    {
     "ename": "ReactorNotRestartable",
     "evalue": "",
     "output_type": "error",
     "traceback": [
      "\u001b[1;31m---------------------------------------------------------------------------\u001b[0m",
      "\u001b[1;31mReactorNotRestartable\u001b[0m                     Traceback (most recent call last)",
      "\u001b[1;32m<ipython-input-12-8b50c46d6ad5>\u001b[0m in \u001b[0;36m<module>\u001b[1;34m()\u001b[0m\n\u001b[0;32m     20\u001b[0m \u001b[0mdlist\u001b[0m\u001b[1;33m.\u001b[0m\u001b[0maddBoth\u001b[0m\u001b[1;33m(\u001b[0m\u001b[0mall_done\u001b[0m\u001b[1;33m)\u001b[0m\u001b[1;33m\u001b[0m\u001b[0m\n\u001b[0;32m     21\u001b[0m \u001b[1;33m\u001b[0m\u001b[0m\n\u001b[1;32m---> 22\u001b[1;33m \u001b[0mreactor\u001b[0m\u001b[1;33m.\u001b[0m\u001b[0mrun\u001b[0m\u001b[1;33m(\u001b[0m\u001b[1;33m)\u001b[0m\u001b[1;33m\u001b[0m\u001b[0m\n\u001b[0m",
      "\u001b[1;32mc:\\program files\\python36\\lib\\site-packages\\twisted\\internet\\base.py\u001b[0m in \u001b[0;36mrun\u001b[1;34m(self, installSignalHandlers)\u001b[0m\n\u001b[0;32m   1258\u001b[0m \u001b[1;33m\u001b[0m\u001b[0m\n\u001b[0;32m   1259\u001b[0m     \u001b[1;32mdef\u001b[0m \u001b[0mrun\u001b[0m\u001b[1;33m(\u001b[0m\u001b[0mself\u001b[0m\u001b[1;33m,\u001b[0m \u001b[0minstallSignalHandlers\u001b[0m\u001b[1;33m=\u001b[0m\u001b[1;32mTrue\u001b[0m\u001b[1;33m)\u001b[0m\u001b[1;33m:\u001b[0m\u001b[1;33m\u001b[0m\u001b[0m\n\u001b[1;32m-> 1260\u001b[1;33m         \u001b[0mself\u001b[0m\u001b[1;33m.\u001b[0m\u001b[0mstartRunning\u001b[0m\u001b[1;33m(\u001b[0m\u001b[0minstallSignalHandlers\u001b[0m\u001b[1;33m=\u001b[0m\u001b[0minstallSignalHandlers\u001b[0m\u001b[1;33m)\u001b[0m\u001b[1;33m\u001b[0m\u001b[0m\n\u001b[0m\u001b[0;32m   1261\u001b[0m         \u001b[0mself\u001b[0m\u001b[1;33m.\u001b[0m\u001b[0mmainLoop\u001b[0m\u001b[1;33m(\u001b[0m\u001b[1;33m)\u001b[0m\u001b[1;33m\u001b[0m\u001b[0m\n\u001b[0;32m   1262\u001b[0m \u001b[1;33m\u001b[0m\u001b[0m\n",
      "\u001b[1;32mc:\\program files\\python36\\lib\\site-packages\\twisted\\internet\\base.py\u001b[0m in \u001b[0;36mstartRunning\u001b[1;34m(self, installSignalHandlers)\u001b[0m\n\u001b[0;32m   1238\u001b[0m         \"\"\"\n\u001b[0;32m   1239\u001b[0m         \u001b[0mself\u001b[0m\u001b[1;33m.\u001b[0m\u001b[0m_installSignalHandlers\u001b[0m \u001b[1;33m=\u001b[0m \u001b[0minstallSignalHandlers\u001b[0m\u001b[1;33m\u001b[0m\u001b[0m\n\u001b[1;32m-> 1240\u001b[1;33m         \u001b[0mReactorBase\u001b[0m\u001b[1;33m.\u001b[0m\u001b[0mstartRunning\u001b[0m\u001b[1;33m(\u001b[0m\u001b[0mself\u001b[0m\u001b[1;33m)\u001b[0m\u001b[1;33m\u001b[0m\u001b[0m\n\u001b[0m\u001b[0;32m   1241\u001b[0m \u001b[1;33m\u001b[0m\u001b[0m\n\u001b[0;32m   1242\u001b[0m \u001b[1;33m\u001b[0m\u001b[0m\n",
      "\u001b[1;32mc:\\program files\\python36\\lib\\site-packages\\twisted\\internet\\base.py\u001b[0m in \u001b[0;36mstartRunning\u001b[1;34m(self)\u001b[0m\n\u001b[0;32m    746\u001b[0m             \u001b[1;32mraise\u001b[0m \u001b[0merror\u001b[0m\u001b[1;33m.\u001b[0m\u001b[0mReactorAlreadyRunning\u001b[0m\u001b[1;33m(\u001b[0m\u001b[1;33m)\u001b[0m\u001b[1;33m\u001b[0m\u001b[0m\n\u001b[0;32m    747\u001b[0m         \u001b[1;32mif\u001b[0m \u001b[0mself\u001b[0m\u001b[1;33m.\u001b[0m\u001b[0m_startedBefore\u001b[0m\u001b[1;33m:\u001b[0m\u001b[1;33m\u001b[0m\u001b[0m\n\u001b[1;32m--> 748\u001b[1;33m             \u001b[1;32mraise\u001b[0m \u001b[0merror\u001b[0m\u001b[1;33m.\u001b[0m\u001b[0mReactorNotRestartable\u001b[0m\u001b[1;33m(\u001b[0m\u001b[1;33m)\u001b[0m\u001b[1;33m\u001b[0m\u001b[0m\n\u001b[0m\u001b[0;32m    749\u001b[0m         \u001b[0mself\u001b[0m\u001b[1;33m.\u001b[0m\u001b[0m_started\u001b[0m \u001b[1;33m=\u001b[0m \u001b[1;32mTrue\u001b[0m\u001b[1;33m\u001b[0m\u001b[0m\n\u001b[0;32m    750\u001b[0m         \u001b[0mself\u001b[0m\u001b[1;33m.\u001b[0m\u001b[0m_stopped\u001b[0m \u001b[1;33m=\u001b[0m \u001b[1;32mFalse\u001b[0m\u001b[1;33m\u001b[0m\u001b[0m\n",
      "\u001b[1;31mReactorNotRestartable\u001b[0m: "
     ]
    },
    {
     "name": "stderr",
     "output_type": "stream",
     "text": [
      "c:\\program files\\python36\\lib\\site-packages\\gevent\\hub.py:154: UserWarning: libuv only supports millisecond timer resolution; all times less will be set to 1 ms\n",
      "  with loop.timer(seconds, ref=ref) as t:\n"
     ]
    }
   ],
   "source": [
    "#getPage相当于requets模块，defer特殊的返回值，rector是做事件循环\n",
    "from twisted.web.client import getPage, defer\n",
    "from twisted.internet import reactor\n",
    "\n",
    "def all_done(arg):\n",
    "    reactor.stop()\n",
    "\n",
    "def callback(contents):\n",
    "    print(contents)\n",
    "\n",
    "deferred_list = []\n",
    "\n",
    "url_list = ['http://www.bing.com', 'http://www.baidu.com', ]\n",
    "for url in url_list:\n",
    "    deferred = getPage(bytes(url, encoding='utf8'))\n",
    "    deferred.addCallback(callback)\n",
    "    deferred_list.append(deferred)\n",
    "#这里就是进就行一种检测，判断所有的请求知否执行完毕\n",
    "dlist = defer.DeferredList(deferred_list)\n",
    "dlist.addBoth(all_done)\n",
    "\n",
    "reactor.run()"
   ]
  },
  {
   "cell_type": "markdown",
   "metadata": {},
   "source": [
    "### tornado代码例子"
   ]
  },
  {
   "cell_type": "code",
   "execution_count": 13,
   "metadata": {},
   "outputs": [
    {
     "ename": "RuntimeError",
     "evalue": "This event loop is already running",
     "output_type": "error",
     "traceback": [
      "\u001b[1;31m---------------------------------------------------------------------------\u001b[0m",
      "\u001b[1;31mRuntimeError\u001b[0m                              Traceback (most recent call last)",
      "\u001b[1;32m<ipython-input-13-9eecb42d942c>\u001b[0m in \u001b[0;36m<module>\u001b[1;34m()\u001b[0m\n\u001b[0;32m     28\u001b[0m \u001b[1;33m\u001b[0m\u001b[0m\n\u001b[0;32m     29\u001b[0m \u001b[0mioloop\u001b[0m\u001b[1;33m.\u001b[0m\u001b[0mIOLoop\u001b[0m\u001b[1;33m.\u001b[0m\u001b[0mcurrent\u001b[0m\u001b[1;33m(\u001b[0m\u001b[1;33m)\u001b[0m\u001b[1;33m.\u001b[0m\u001b[0madd_callback\u001b[0m\u001b[1;33m(\u001b[0m\u001b[0mfunc\u001b[0m\u001b[1;33m)\u001b[0m\u001b[1;33m\u001b[0m\u001b[0m\n\u001b[1;32m---> 30\u001b[1;33m \u001b[0mioloop\u001b[0m\u001b[1;33m.\u001b[0m\u001b[0mIOLoop\u001b[0m\u001b[1;33m.\u001b[0m\u001b[0mcurrent\u001b[0m\u001b[1;33m(\u001b[0m\u001b[1;33m)\u001b[0m\u001b[1;33m.\u001b[0m\u001b[0mstart\u001b[0m\u001b[1;33m(\u001b[0m\u001b[1;33m)\u001b[0m\u001b[1;33m\u001b[0m\u001b[0m\n\u001b[0m",
      "\u001b[1;32mc:\\program files\\python36\\lib\\site-packages\\tornado\\platform\\asyncio.py\u001b[0m in \u001b[0;36mstart\u001b[1;34m(self)\u001b[0m\n\u001b[0;32m    125\u001b[0m             \u001b[0mself\u001b[0m\u001b[1;33m.\u001b[0m\u001b[0m_setup_logging\u001b[0m\u001b[1;33m(\u001b[0m\u001b[1;33m)\u001b[0m\u001b[1;33m\u001b[0m\u001b[0m\n\u001b[0;32m    126\u001b[0m             \u001b[0masyncio\u001b[0m\u001b[1;33m.\u001b[0m\u001b[0mset_event_loop\u001b[0m\u001b[1;33m(\u001b[0m\u001b[0mself\u001b[0m\u001b[1;33m.\u001b[0m\u001b[0masyncio_loop\u001b[0m\u001b[1;33m)\u001b[0m\u001b[1;33m\u001b[0m\u001b[0m\n\u001b[1;32m--> 127\u001b[1;33m             \u001b[0mself\u001b[0m\u001b[1;33m.\u001b[0m\u001b[0masyncio_loop\u001b[0m\u001b[1;33m.\u001b[0m\u001b[0mrun_forever\u001b[0m\u001b[1;33m(\u001b[0m\u001b[1;33m)\u001b[0m\u001b[1;33m\u001b[0m\u001b[0m\n\u001b[0m\u001b[0;32m    128\u001b[0m         \u001b[1;32mfinally\u001b[0m\u001b[1;33m:\u001b[0m\u001b[1;33m\u001b[0m\u001b[0m\n\u001b[0;32m    129\u001b[0m             \u001b[0masyncio\u001b[0m\u001b[1;33m.\u001b[0m\u001b[0mset_event_loop\u001b[0m\u001b[1;33m(\u001b[0m\u001b[0mold_loop\u001b[0m\u001b[1;33m)\u001b[0m\u001b[1;33m\u001b[0m\u001b[0m\n",
      "\u001b[1;32mc:\\program files\\python36\\lib\\asyncio\\base_events.py\u001b[0m in \u001b[0;36mrun_forever\u001b[1;34m(self)\u001b[0m\n\u001b[0;32m    406\u001b[0m         \u001b[0mself\u001b[0m\u001b[1;33m.\u001b[0m\u001b[0m_check_closed\u001b[0m\u001b[1;33m(\u001b[0m\u001b[1;33m)\u001b[0m\u001b[1;33m\u001b[0m\u001b[0m\n\u001b[0;32m    407\u001b[0m         \u001b[1;32mif\u001b[0m \u001b[0mself\u001b[0m\u001b[1;33m.\u001b[0m\u001b[0mis_running\u001b[0m\u001b[1;33m(\u001b[0m\u001b[1;33m)\u001b[0m\u001b[1;33m:\u001b[0m\u001b[1;33m\u001b[0m\u001b[0m\n\u001b[1;32m--> 408\u001b[1;33m             \u001b[1;32mraise\u001b[0m \u001b[0mRuntimeError\u001b[0m\u001b[1;33m(\u001b[0m\u001b[1;34m'This event loop is already running'\u001b[0m\u001b[1;33m)\u001b[0m\u001b[1;33m\u001b[0m\u001b[0m\n\u001b[0m\u001b[0;32m    409\u001b[0m         \u001b[1;32mif\u001b[0m \u001b[0mevents\u001b[0m\u001b[1;33m.\u001b[0m\u001b[0m_get_running_loop\u001b[0m\u001b[1;33m(\u001b[0m\u001b[1;33m)\u001b[0m \u001b[1;32mis\u001b[0m \u001b[1;32mnot\u001b[0m \u001b[1;32mNone\u001b[0m\u001b[1;33m:\u001b[0m\u001b[1;33m\u001b[0m\u001b[0m\n\u001b[0;32m    410\u001b[0m             raise RuntimeError(\n",
      "\u001b[1;31mRuntimeError\u001b[0m: This event loop is already running"
     ]
    },
    {
     "name": "stderr",
     "output_type": "stream",
     "text": [
      "c:\\program files\\python36\\lib\\site-packages\\gevent\\hub.py:154: UserWarning: libuv only supports millisecond timer resolution; all times less will be set to 1 ms\n",
      "  with loop.timer(seconds, ref=ref) as t:\n"
     ]
    },
    {
     "name": "stdout",
     "output_type": "stream",
     "text": [
      "http://www.baidu.com\n"
     ]
    },
    {
     "name": "stderr",
     "output_type": "stream",
     "text": [
      "Exception in worker\n",
      "Traceback (most recent call last):\n",
      "  File \"c:\\program files\\python36\\lib\\concurrent\\futures\\thread.py\", line 67, in _worker\n",
      "    work_item = work_queue.get(block=True)\n",
      "  File \"c:\\program files\\python36\\lib\\queue.py\", line 164, in get\n",
      "    self.not_empty.wait()\n",
      "  File \"c:\\program files\\python36\\lib\\threading.py\", line 295, in wait\n",
      "    waiter.acquire()\n",
      "  File \"c:\\program files\\python36\\lib\\site-packages\\gevent\\thread.py\", line 84, in acquire\n",
      "    return BoundedSemaphore.acquire(self, blocking, timeout)\n",
      "  File \"src\\gevent\\_semaphore.py\", line 211, in gevent.__semaphore.Semaphore.acquire\n",
      "  File \"src\\gevent\\_semaphore.py\", line 239, in gevent.__semaphore.Semaphore.acquire\n",
      "  File \"src\\gevent\\_semaphore.py\", line 179, in gevent.__semaphore.Semaphore._do_wait\n",
      "  File \"src\\gevent\\_greenlet_primitives.py\", line 59, in gevent.__greenlet_primitives.SwitchOutGreenletWithLoop.switch\n",
      "  File \"src\\gevent\\_greenlet_primitives.py\", line 59, in gevent.__greenlet_primitives.SwitchOutGreenletWithLoop.switch\n",
      "  File \"src\\gevent\\_greenlet_primitives.py\", line 63, in gevent.__greenlet_primitives.SwitchOutGreenletWithLoop.switch\n",
      "  File \"src\\gevent\\__greenlet_primitives.pxd\", line 35, in gevent.__greenlet_primitives._greenlet_switch\n",
      "gevent.exceptions.LoopExit: This operation would block forever\n",
      "\tHub: <Hub '' at 0x230aab10588 default pending=0 ref=0 thread_ident=0x2688>\n",
      "\tHandles:\n",
      "[HandleState(handle=<cdata 'struct uv_handle_s *' 0x00000230A8BC57E8>, type=b'check', watcher=<loop at 0x230aaad19b0 default pending=0 ref=0>, ref=0, active=1, closing=0),\n",
      " HandleState(handle=<cdata 'struct uv_handle_s *' 0x00000230A8ECF958>, type=b'timer', watcher=<loop at 0x230aaad19b0 default pending=0 ref=0>, ref=0, active=1, closing=0),\n",
      " HandleState(handle=<cdata 'struct uv_handle_s *' 0x00000230A8BC5688>, type=b'prepare', watcher=<loop at 0x230aaad19b0 default pending=0 ref=0>, ref=0, active=1, closing=0),\n",
      " HandleState(handle=<cdata 'struct uv_handle_s *' 0x00000230A8BC5898>, type=b'check', watcher=<loop at 0x230aaad19b0 default pending=0 ref=0>, ref=1, active=0, closing=0)]\n"
     ]
    },
    {
     "name": "stdout",
     "output_type": "stream",
     "text": [
      "http://www.bing.com\n"
     ]
    },
    {
     "name": "stderr",
     "output_type": "stream",
     "text": [
      "Exception in thread ThreadPoolExecutor-0_5:\n",
      "Traceback (most recent call last):\n",
      "  File \"c:\\program files\\python36\\lib\\threading.py\", line 916, in _bootstrap_inner\n",
      "    self.run()\n",
      "  File \"c:\\program files\\python36\\lib\\threading.py\", line 864, in run\n",
      "    self._target(*self._args, **self._kwargs)\n",
      "  File \"c:\\program files\\python36\\lib\\concurrent\\futures\\thread.py\", line 84, in _worker\n",
      "    _base.LOGGER.critical('Exception in worker', exc_info=True)\n",
      "  File \"c:\\program files\\python36\\lib\\logging\\__init__.py\", line 1353, in critical\n",
      "    self._log(CRITICAL, msg, args, **kwargs)\n",
      "  File \"c:\\program files\\python36\\lib\\logging\\__init__.py\", line 1442, in _log\n",
      "    self.handle(record)\n",
      "  File \"c:\\program files\\python36\\lib\\logging\\__init__.py\", line 1452, in handle\n",
      "    self.callHandlers(record)\n",
      "  File \"c:\\program files\\python36\\lib\\logging\\__init__.py\", line 1522, in callHandlers\n",
      "    lastResort.handle(record)\n",
      "  File \"c:\\program files\\python36\\lib\\logging\\__init__.py\", line 861, in handle\n",
      "    self.acquire()\n",
      "  File \"c:\\program files\\python36\\lib\\logging\\__init__.py\", line 812, in acquire\n",
      "    self.lock.acquire()\n",
      "  File \"c:\\program files\\python36\\lib\\threading.py\", line 147, in acquire\n",
      "    rc = self._block.acquire(blocking, timeout)\n",
      "  File \"c:\\program files\\python36\\lib\\site-packages\\gevent\\thread.py\", line 84, in acquire\n",
      "    return BoundedSemaphore.acquire(self, blocking, timeout)\n",
      "  File \"src\\gevent\\_semaphore.py\", line 211, in gevent.__semaphore.Semaphore.acquire\n",
      "  File \"src\\gevent\\_semaphore.py\", line 239, in gevent.__semaphore.Semaphore.acquire\n",
      "  File \"src\\gevent\\_semaphore.py\", line 179, in gevent.__semaphore.Semaphore._do_wait\n",
      "  File \"src\\gevent\\_greenlet_primitives.py\", line 59, in gevent.__greenlet_primitives.SwitchOutGreenletWithLoop.switch\n",
      "  File \"src\\gevent\\_greenlet_primitives.py\", line 59, in gevent.__greenlet_primitives.SwitchOutGreenletWithLoop.switch\n",
      "  File \"src\\gevent\\_greenlet_primitives.py\", line 63, in gevent.__greenlet_primitives.SwitchOutGreenletWithLoop.switch\n",
      "  File \"src\\gevent\\__greenlet_primitives.pxd\", line 35, in gevent.__greenlet_primitives._greenlet_switch\n",
      "gevent.exceptions.LoopExit: This operation would block forever\n",
      "\tHub: <Hub '' at 0x230aab16b70 default pending=0 ref=0 thread_ident=0x15cc>\n",
      "\tHandles:\n",
      "[HandleState(handle=<cdata 'struct uv_handle_s *' 0x00000230A6926788>, type=b'check', watcher=<loop at 0x230aab17860 default pending=0 ref=0>, ref=0, active=1, closing=0),\n",
      " HandleState(handle=<cdata 'struct uv_handle_s *' 0x00000230A8ECFD68>, type=b'timer', watcher=<loop at 0x230aab17860 default pending=0 ref=0>, ref=0, active=1, closing=0),\n",
      " HandleState(handle=<cdata 'struct uv_handle_s *' 0x00000230A69264C8>, type=b'prepare', watcher=<loop at 0x230aab17860 default pending=0 ref=0>, ref=0, active=1, closing=0),\n",
      " HandleState(handle=<cdata 'struct uv_handle_s *' 0x00000230A69262B8>, type=b'check', watcher=<loop at 0x230aab17860 default pending=0 ref=0>, ref=1, active=0, closing=0)]\n",
      "\n",
      "Exception in thread ThreadPoolExecutor-0_3:\n",
      "Traceback (most recent call last):\n",
      "  File \"c:\\program files\\python36\\lib\\threading.py\", line 916, in _bootstrap_inner\n",
      "    self.run()\n",
      "  File \"c:\\program files\\python36\\lib\\threading.py\", line 864, in run\n",
      "    self._target(*self._args, **self._kwargs)\n",
      "  File \"c:\\program files\\python36\\lib\\concurrent\\futures\\thread.py\", line 84, in _worker\n",
      "    _base.LOGGER.critical('Exception in worker', exc_info=True)\n",
      "  File \"c:\\program files\\python36\\lib\\logging\\__init__.py\", line 1353, in critical\n",
      "    self._log(CRITICAL, msg, args, **kwargs)\n",
      "  File \"c:\\program files\\python36\\lib\\logging\\__init__.py\", line 1442, in _log\n",
      "    self.handle(record)\n",
      "  File \"c:\\program files\\python36\\lib\\logging\\__init__.py\", line 1452, in handle\n",
      "    self.callHandlers(record)\n",
      "  File \"c:\\program files\\python36\\lib\\logging\\__init__.py\", line 1522, in callHandlers\n",
      "    lastResort.handle(record)\n",
      "  File \"c:\\program files\\python36\\lib\\logging\\__init__.py\", line 861, in handle\n",
      "    self.acquire()\n",
      "  File \"c:\\program files\\python36\\lib\\logging\\__init__.py\", line 812, in acquire\n",
      "    self.lock.acquire()\n",
      "  File \"c:\\program files\\python36\\lib\\threading.py\", line 147, in acquire\n",
      "    rc = self._block.acquire(blocking, timeout)\n",
      "  File \"c:\\program files\\python36\\lib\\site-packages\\gevent\\thread.py\", line 84, in acquire\n",
      "    return BoundedSemaphore.acquire(self, blocking, timeout)\n",
      "  File \"src\\gevent\\_semaphore.py\", line 211, in gevent.__semaphore.Semaphore.acquire\n",
      "  File \"src\\gevent\\_semaphore.py\", line 239, in gevent.__semaphore.Semaphore.acquire\n",
      "  File \"src\\gevent\\_semaphore.py\", line 179, in gevent.__semaphore.Semaphore._do_wait\n",
      "  File \"src\\gevent\\_greenlet_primitives.py\", line 59, in gevent.__greenlet_primitives.SwitchOutGreenletWithLoop.switch\n",
      "  File \"src\\gevent\\_greenlet_primitives.py\", line 59, in gevent.__greenlet_primitives.SwitchOutGreenletWithLoop.switch\n",
      "  File \"src\\gevent\\_greenlet_primitives.py\", line 63, in gevent.__greenlet_primitives.SwitchOutGreenletWithLoop.switch\n",
      "  File \"src\\gevent\\__greenlet_primitives.pxd\", line 35, in gevent.__greenlet_primitives._greenlet_switch\n",
      "gevent.exceptions.LoopExit: This operation would block forever\n",
      "\tHub: <Hub '' at 0x230aab10b70 default pending=0 ref=0 thread_ident=0x1f78>\n",
      "\tHandles:\n",
      "[HandleState(handle=<cdata 'struct uv_handle_s *' 0x00000230A6925FF8>, type=b'check', watcher=<loop at 0x230aaafbba8 default pending=0 ref=0>, ref=0, active=1, closing=0),\n",
      " HandleState(handle=<cdata 'struct uv_handle_s *' 0x00000230A8ECF2D8>, type=b'timer', watcher=<loop at 0x230aaafbba8 default pending=0 ref=0>, ref=0, active=1, closing=0),\n",
      " HandleState(handle=<cdata 'struct uv_handle_s *' 0x00000230A69271D8>, type=b'prepare', watcher=<loop at 0x230aaafbba8 default pending=0 ref=0>, ref=0, active=1, closing=0),\n",
      " HandleState(handle=<cdata 'struct uv_handle_s *' 0x00000230A6927E38>, type=b'check', watcher=<loop at 0x230aaafbba8 default pending=0 ref=0>, ref=1, active=0, closing=0)]\n",
      "\n"
     ]
    }
   ],
   "source": [
    "from tornado.httpclient import AsyncHTTPClient\n",
    "from tornado.httpclient import HTTPRequest\n",
    "from tornado import ioloop\n",
    "\n",
    "\n",
    "def handle_response(response):\n",
    "    \"\"\"\n",
    "    处理返回值内容（需要维护计数器，来停止IO循环），调用 ioloop.IOLoop.current().stop()\n",
    "    :param response: \n",
    "    :return: \n",
    "    \"\"\"\n",
    "    if response.error:\n",
    "        print(\"Error:\", response.error)\n",
    "    else:\n",
    "        print(response.title)\n",
    "\n",
    "\n",
    "def func():\n",
    "    url_list = [\n",
    "        'http://www.baidu.com',\n",
    "        'http://www.bing.com',\n",
    "    ]\n",
    "    for url in url_list:\n",
    "        print(url)\n",
    "        http_client = AsyncHTTPClient()\n",
    "        http_client.fetch(HTTPRequest(url), handle_response)\n",
    "\n",
    "\n",
    "ioloop.IOLoop.current().add_callback(func)\n",
    "ioloop.IOLoop.current().start()"
   ]
  },
  {
   "cell_type": "code",
   "execution_count": null,
   "metadata": {},
   "outputs": [],
   "source": []
  }
 ],
 "metadata": {
  "kernelspec": {
   "display_name": "Python 3",
   "language": "python",
   "name": "python3"
  },
  "language_info": {
   "codemirror_mode": {
    "name": "ipython",
    "version": 3
   },
   "file_extension": ".py",
   "mimetype": "text/x-python",
   "name": "python",
   "nbconvert_exporter": "python",
   "pygments_lexer": "ipython3",
   "version": "3.6.4"
  }
 },
 "nbformat": 4,
 "nbformat_minor": 2
}
