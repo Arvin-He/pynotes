{
 "cells": [
  {
   "cell_type": "markdown",
   "metadata": {},
   "source": [
    "# 安全基础知识"
   ]
  },
  {
   "cell_type": "markdown",
   "metadata": {},
   "source": [
    "### 0day攻击"
   ]
  },
  {
   "cell_type": "markdown",
   "metadata": {},
   "source": [
    "0day: 一般指没有公开,没有补丁的漏洞,也就是未公开的漏洞.\n",
    "\n",
    "挖掘0day方式一般有2种:\n",
    "1. 源代码审计(白盒测试)\n",
    "2. 模糊渗透测试(黑盒测试)\n",
    "\n"
   ]
  },
  {
   "cell_type": "markdown",
   "metadata": {},
   "source": [
    "### md5破解"
   ]
  },
  {
   "cell_type": "markdown",
   "metadata": {},
   "source": [
    "破解md5方法分为2种:\n",
    "1. 彩虹表(rainbow table): 一个庞大的针对各种可能的字母组合预先计算好的哈希值的集合. 现在主流的彩虹表都是1TB以上.\n",
    "2. md5站点破解: 国内外有不少站点提供破解的MD5功能,攻击者在拖库后发现密码是MD5后,一般使用这类网站批量解密,70%的MD5会被还原成明文."
   ]
  },
  {
   "cell_type": "markdown",
   "metadata": {},
   "source": [
    "### 拖库"
   ]
  },
  {
   "cell_type": "markdown",
   "metadata": {},
   "source": [
    "就是数据库中数据被导出\n",
    "\n",
    "社工库: 攻击者将拖库的数据库搜集起来,组建成一个爬大无比的库."
   ]
  }
 ],
 "metadata": {
  "kernelspec": {
   "display_name": "Python 3",
   "language": "python",
   "name": "python3"
  },
  "language_info": {
   "codemirror_mode": {
    "name": "ipython",
    "version": 3
   },
   "file_extension": ".py",
   "mimetype": "text/x-python",
   "name": "python",
   "nbconvert_exporter": "python",
   "pygments_lexer": "ipython3",
   "version": "3.6.6"
  }
 },
 "nbformat": 4,
 "nbformat_minor": 2
}
