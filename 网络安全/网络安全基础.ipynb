{
 "cells": [
  {
   "cell_type": "markdown",
   "metadata": {},
   "source": [
    "# 网络安全术语"
   ]
  },
  {
   "cell_type": "markdown",
   "metadata": {},
   "source": [
    "1. 什么是反弹shell?\n",
    "\n",
    "reverse shell，就是控制端监听在某TCP/UDP端口，被控端发起请求到该端口，并将其命令行的输入输出转到控制端。reverse shell与telnet，ssh等标准shell对应，本质上是网络概念的客户端与服务端的角色反转。\n",
    "\n",
    "2. 为什么要反弹shell\n",
    "通常用于被控端因防火墙受限、权限不足、端口被占用等情形\n",
    "\n",
    "攻击者在自己的机器去连接目标机器（目标ip：目标机器端口），这是比较常规的形式，我们叫做正向连接。\n",
    "远程桌面，web服务，ssh，telnet等等，都是正向连接。\n",
    "\n",
    "那么什么情况下正向连接不太好用了呢？\n",
    "\n",
    "1. 某客户机中了你的网马，但是它在局域网内，你直接连接不了。\n",
    "2. 它的ip会动态改变，你不能持续控制。\n",
    "3. 由于防火墙等限制，对方机器只能发送请求，不能接收请求。\n",
    "4. 对于病毒，木马，受害者什么时候能中招，对方的网络环境是什么样的，什么时候开关机，都是未知，所以建立一个服务端，让恶意程序主动连接，才是上策。\n",
    "\n",
    "那么反弹就很好理解了， 攻击者指定服务端，受害者主机主动连接攻击者的服务端程序，就叫反弹连接。"
   ]
  },
  {
   "cell_type": "markdown",
   "metadata": {},
   "source": [
    "### 恶意文件分类"
   ]
  },
  {
   "cell_type": "markdown",
   "metadata": {},
   "source": [
    "* 病毒\n",
    "* 木马\n",
    "* 后门\n",
    "* webshell\n",
    "* 恶意广告软件\n",
    "* 流氓软件"
   ]
  },
  {
   "cell_type": "markdown",
   "metadata": {},
   "source": [
    "### webshell"
   ]
  },
  {
   "cell_type": "markdown",
   "metadata": {},
   "source": [
    "webshell就是以asp、php、jsp或者cgi等网页文件形式存在的一种命令执行环境，也可以将其称做为一种网页后门。黑客在入侵了一个网站后，通常会将asp或php后门文件与网站服务器WEB目录下正常的网页文件混在一起，然后就可以使用浏览器来访问asp或者php后门，得到一个命令执行环境，以达到控制网站服务器的目的。\n",
    "\n",
    "顾名思义，“web”的含义是显然需要服务器开放web服务，“shell”的含义是取得对服务器某种程度上操作权限。webshell常常被称为入侵者通过网站端口对网站服务器的某种程度上操作的权限。由于webshell其大多是以动态脚本的形式出现，也有人称之为网站的后门工具。\n",
    "\n",
    "防范webshell的最有效方法就是：可写目录不给执行权限，有执行权限的目录不给写权限。"
   ]
  },
  {
   "cell_type": "markdown",
   "metadata": {},
   "source": [
    "### payload"
   ]
  },
  {
   "cell_type": "markdown",
   "metadata": {},
   "source": [
    "payload 字面意思“有效载荷，有效负荷，有效载重”。\n",
    "\n",
    "抽象一下，payload 可以理解为一系列信息中最为关键的信息。\n",
    "\n",
    "对于程序员来说就是在程序中 起关键作用的代码。\n",
    "\n",
    "Payload是什么?\n",
    "\n",
    "是包含在你用于一次漏洞利用（exploit）中的ShellCode中的主要功能代码\n",
    "\n",
    "Payload是可以被模块化的，一个Payload可以稍作修改就用于各种漏洞，\n",
    "\n",
    "同时，对于一个漏洞，他的利用方式必然要涉及到ShellCode，因为Payload是包含在ShellCode中的，ShellCode是真正的被输入到存在漏洞的程序中的，并且ShellCode负责把程序的流程最终转移到你的Payload代码中。所以对于一个漏洞来说，ShellCode就是一个用于某个漏洞的二进制代码框架，有了这个框架你可以在这个ShellCode中包含你需要的Payload来做一些事情。\n",
    "\n"
   ]
  },
  {
   "cell_type": "markdown",
   "metadata": {},
   "source": [
    "### payload、shellcode、exp、poc怎么区别？"
   ]
  },
  {
   "cell_type": "markdown",
   "metadata": {},
   "source": [
    "发现一个地方可能存在漏洞, 使用各种payload常识注入, 注入成功后你把这个payload和它的生成方法写成poc, 你调试了各种可能性，把poc完善成了一个exp, 利用exp，把shellcode发送到了受害者服务器上运行, 受害者服务器被pwn了.\n",
    "\n",
    "\n",
    "POC是整个漏洞利用的过程的呈现，\n",
    "\n",
    "exp是利用的过程，\n",
    "\n",
    "shellcode是输入的一段数据，\n",
    "\n",
    "payload是输入数据转换成的二进制码，可以直接导致漏洞的"
   ]
  }
 ],
 "metadata": {
  "kernelspec": {
   "display_name": "Python 3",
   "language": "python",
   "name": "python3"
  },
  "language_info": {
   "codemirror_mode": {
    "name": "ipython",
    "version": 3
   },
   "file_extension": ".py",
   "mimetype": "text/x-python",
   "name": "python",
   "nbconvert_exporter": "python",
   "pygments_lexer": "ipython3",
   "version": "3.6.4"
  }
 },
 "nbformat": 4,
 "nbformat_minor": 2
}
