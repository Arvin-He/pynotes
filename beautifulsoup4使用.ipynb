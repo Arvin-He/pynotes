{
 "cells": [
  {
   "cell_type": "markdown",
   "metadata": {},
   "source": [
    "# BeautifulSoup4 使用"
   ]
  },
  {
   "cell_type": "markdown",
   "metadata": {},
   "source": [
    "### 获取tag文本"
   ]
  },
  {
   "cell_type": "code",
   "execution_count": 23,
   "metadata": {},
   "outputs": [
    {
     "name": "stdout",
     "output_type": "stream",
     "text": [
      "{'line_a': '3099', 'line_b': '3107'}\n",
      "{'text_a': '<div\\xa0id=\"overall-toast\"\\xa0class=\"overall-toast\\xa0overall-toast-hide\"><span></span></div><script\\xa0src=\"//passport.baidu.com/passApi/js/uni_login_wrapper.js?cdnversion=201805231000\"></script>', 'text_b': '<div\\xa0id=\"overall-toast\"\\xa0class=\"overall-toast\\xa0overall-toast-hide\"><span></span></div><script\\xa0src=\"//passport.baidu.com/passApi/js/uni_login_wrapper.js?cdnversion=201805210942\"></script>'}\n",
      "{'change_a': [{'diff_sub': '3'}, {'diff_chg': '00'}], 'change_b': [{'diff_chg': '942'}]}\n",
      "['',\n",
      " 'n',\n",
      " '3099',\n",
      " '<div\\xa0id=\"overall-toast\"\\xa0class=\"overall-toast\\xa0'\n",
      " 'overall-toast-hide\"><span></span></div><script\\xa0'\n",
      " 'src=\"//passport.baidu.com/passApi/js/uni_login_wrapper.js?cdnversion=201805231000\"></script>',\n",
      " 'n',\n",
      " '3107',\n",
      " '<div\\xa0id=\"overall-toast\"\\xa0class=\"overall-toast\\xa0'\n",
      " 'overall-toast-hide\"><span></span></div><script\\xa0'\n",
      " 'src=\"//passport.baidu.com/passApi/js/uni_login_wrapper.js?cdnversion=201805210942\"></script>']\n"
     ]
    }
   ],
   "source": [
    "import re\n",
    "from bs4 import BeautifulSoup\n",
    "from pprint import pprint\n",
    "\n",
    "\n",
    "html = \"\"\"<table class=\"diff\" id=\"difflib_chg_to0__top\" cellspacing=\"0\" cellpadding=\"0\" rules=\"groups\">\n",
    "          <tbody>\n",
    "            <tr>\n",
    "                <td class=\"diff_next\"><a href=\"#difflib_chg_to0__3\">n</a></td>\n",
    "                <td class=\"diff_header\" id=\"from0_3099\">3099</td>\n",
    "                <td nowrap=\"nowrap\">&lt;div&nbsp;id=\"overall-toast\"&nbsp;class=\"overall-toast&nbsp;overall-toast-hide\"&gt;&lt;span&gt;&lt;/span&gt;&lt;/div&gt;&lt;script&nbsp;src=\"//passport.baidu.com/passApi/js/uni_login_wrapper.js?cdnversion=2018052<span class=\"diff_sub\">3</span>10<span class=\"diff_chg\">00</span>\"&gt;&lt;/script&gt;</td>\n",
    "                <td class=\"diff_next\"><a href=\"#difflib_chg_to0__3\">n</a></td>\n",
    "                <td class=\"diff_header\" id=\"to0_3107\">3107</td>\n",
    "                <td nowrap=\"nowrap\">&lt;div&nbsp;id=\"overall-toast\"&nbsp;class=\"overall-toast&nbsp;overall-toast-hide\"&gt;&lt;span&gt;&lt;/span&gt;&lt;/div&gt;&lt;script&nbsp;src=\"//passport.baidu.com/passApi/js/uni_login_wrapper.js?cdnversion=201805210<span class=\"diff_chg\">942</span>\"&gt;&lt;/script&gt;</td>\n",
    "            </tr>\n",
    "         </tbody>\n",
    "         </table>\"\"\"\n",
    "\n",
    "soup = BeautifulSoup(html, 'lxml')\n",
    "\n",
    "def handle_line_NO(tag):\n",
    "    line_a, line_b = 0, 0\n",
    "    for td in tag.find_all('td', class_='diff_header'):\n",
    "        if 'from' in td['id']:\n",
    "            line_a = td.get_text()\n",
    "        elif 'to' in td['id']:\n",
    "            line_b = td.get_text()\n",
    "    print({'line_a': line_a, 'line_b': line_b})\n",
    "    \n",
    "def handle_raw_text(tag): \n",
    "    raw_text_list = []\n",
    "    for td in tag.find_all('td', attrs={'nowrap':'nowrap'}):\n",
    "        raw_text = ''\n",
    "        for string in td.strings:\n",
    "            raw_text += string\n",
    "        raw_text_list.append(raw_text)\n",
    "    print({'text_a': raw_text_list[0], 'text_b': raw_text_list[1]})\n",
    "    \n",
    "def handle_change_text(tag):\n",
    "    change_list = []\n",
    "    for td in tag.find_all('td', attrs={'nowrap':'nowrap'}):\n",
    "        changes = []\n",
    "        for span in td.find_all('span'):\n",
    "            changes.append({span['class'][0]: span.string})\n",
    "        change_list.append(changes)\n",
    "    print({'change_a': change_list[0], 'change_b': change_list[1]})\n",
    "\n",
    "tr = soup.find('tr')\n",
    "handle_line_NO(tr)\n",
    "handle_raw_text(tr)\n",
    "handle_change_text(tr)\n",
    "\n",
    "pprint(tr.get_text().splitlines())"
   ]
  },
  {
   "cell_type": "markdown",
   "metadata": {},
   "source": [
    "### string, strings和get_text()"
   ]
  },
  {
   "cell_type": "markdown",
   "metadata": {},
   "source": [
    ".string\n",
    "如果tag只有一个 NavigableString 类型子节点,那么这个tag可以使用 .string 得到子节点\n",
    "如果一个tag仅有一个子节点,那么这个tag也可以使用 .string 方法,输出结果与当前唯一子节点的 .string 结果相同\n",
    "如果tag包含了多个子节点,tag就无法确定 .string 方法应该调用哪个子节点的内容,\n",
    "如果tag中包含多个字符串 [2] ,可以使用 .strings 来循环获取:\n",
    "for string in soup.strings:\n",
    "    print(repr(string))\n",
    "    \n",
    "输出的字符串中可能包含了很多空格或空行,使用 .stripped_strings 可以去除多余空白:\n",
    "for string in soup.stripped_strings:\n",
    "    print(repr(string))\n",
    "    \n",
    "get_text()\n",
    "获取到tag中包含的所有文版内容包括子孙tag中的内容,并将结果作为Unicode字符串返回"
   ]
  }
 ],
 "metadata": {
  "kernelspec": {
   "display_name": "Python 3",
   "language": "python",
   "name": "python3"
  },
  "language_info": {
   "codemirror_mode": {
    "name": "ipython",
    "version": 3
   },
   "file_extension": ".py",
   "mimetype": "text/x-python",
   "name": "python",
   "nbconvert_exporter": "python",
   "pygments_lexer": "ipython3",
   "version": "3.6.4"
  }
 },
 "nbformat": 4,
 "nbformat_minor": 2
}
