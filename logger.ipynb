{
 "cells": [
  {
   "cell_type": "markdown",
   "metadata": {},
   "source": [
    "# logger使用"
   ]
  },
  {
   "cell_type": "markdown",
   "metadata": {},
   "source": [
    "### 关于logger对象"
   ]
  },
  {
   "cell_type": "markdown",
   "metadata": {},
   "source": [
    "日志对象初始化一般在程序启动入口进行初始化"
   ]
  },
  {
   "cell_type": "markdown",
   "metadata": {},
   "source": [
    "### 单个logger实例对象"
   ]
  },
  {
   "cell_type": "markdown",
   "metadata": {},
   "source": [
    "单个logger实例就使用logging模块的root_logger对象"
   ]
  },
  {
   "cell_type": "code",
   "execution_count": null,
   "metadata": {},
   "outputs": [],
   "source": [
    "import os\n",
    "import logging\n",
    "from logging import handlers\n",
    "\n",
    "LOG_FORMAT = \"%(asctime)s [%(levelname)s] [%(filename)s] [%(lineno)d]: %(message)s\"\n",
    "DATA_LOG_FORMAT = \"%m/%d/%Y %H:%M:%S\"\n",
    "log_name = 'logfilename'\n",
    "\n",
    "# 使用root_logger\n",
    "def init_root_logger_settings(logConsole=True):\n",
    "    global log_name, LOG_FORMAT, DATA_LOG_FORMAT\n",
    "    formatter = logging.Formatter(fmt=LOG_FORMAT, datefmt=DATA_LOG_FORMAT)\n",
    "    log_dir = os.path.join(os.path.dirname(os.path.abspath(__file__)), \"logs\")\n",
    "    if not os.path.exists(log_dir):\n",
    "        os.mkdir(log_dir)\n",
    "    # 文件输出日志\n",
    "    fh = handlers.TimedRotatingFileHandler(filename=os.path.join(log_dir, log_name),\n",
    "        when='midnight', interval=1, encoding='utf-8')\n",
    "    fh.setLevel(logging.INFO)\n",
    "    fh.suffix = \"%Y-%m-%d.log\"\n",
    "    fh.setFormatter(formatter)\n",
    "    logging.getLogger().addHandler(fh)\n",
    "    # 控制台输出日志\n",
    "    if logConsole:\n",
    "        ch = logging.StreamHandler()\n",
    "        ch.setLevel(logging.DEBUG)\n",
    "        ch.setFormatter(formatter)\n",
    "        logging.getLogger().addHandler(ch)"
   ]
  },
  {
   "cell_type": "markdown",
   "metadata": {},
   "source": [
    "### 多个logger实例"
   ]
  },
  {
   "cell_type": "markdown",
   "metadata": {},
   "source": [
    "多个logger实例,其实都是从root_logger继承下来的,因此为区分多个不同的logger实例,就需要分别指定多个logger实例的名字."
   ]
  }
 ],
 "metadata": {
  "kernelspec": {
   "display_name": "Python 3",
   "language": "python",
   "name": "python3"
  },
  "language_info": {
   "codemirror_mode": {
    "name": "ipython",
    "version": 3
   },
   "file_extension": ".py",
   "mimetype": "text/x-python",
   "name": "python",
   "nbconvert_exporter": "python",
   "pygments_lexer": "ipython3",
   "version": "3.6.2"
  }
 },
 "nbformat": 4,
 "nbformat_minor": 2
}
