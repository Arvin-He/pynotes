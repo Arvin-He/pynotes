{
 "cells": [
  {
   "cell_type": "markdown",
   "metadata": {},
   "source": [
    "# nginx-简单的反向代理示例"
   ]
  },
  {
   "cell_type": "markdown",
   "metadata": {},
   "source": [
    "nginx的反向代理是依赖于`ngx_http_proxy_module`这个module来实现的。\n",
    "\n",
    "反向代理服务器能代理的请求的协议包括`http(s)`，`FastCGI`，`SCGI`，`uwsgi`，`memcached`等。"
   ]
  },
  {
   "cell_type": "markdown",
   "metadata": {},
   "source": [
    "```shell\n",
    "# https\n",
    "server {\n",
    "  server_name www.example.com;\n",
    "  listen       443;\n",
    "  location /newchart/hollow/small/nsh000001.gif {\n",
    "    proxy_pass http://image.sinajs.cn/newchart/hollow/small/nsh000001.gif;\n",
    "  }\n",
    "\n",
    "  location /newchart/hollow/small/nsz399001.gif {\n",
    "    proxy_pass http://image.sinajs.cn/newchart/hollow/small/nsz399001.gif;\n",
    "  }\n",
    "```"
   ]
  },
  {
   "cell_type": "markdown",
   "metadata": {},
   "source": [
    "假如我的网站是`www.example.com`,这样就能使用`https://www.example.com/newchart/hollow/small/nsh000001.gif`，它指向是`http://image.sinajs.cn/newchart/hollow/small/nsh000001.gif`。"
   ]
  },
  {
   "cell_type": "markdown",
   "metadata": {},
   "source": [
    "### 关于websocket"
   ]
  },
  {
   "cell_type": "markdown",
   "metadata": {},
   "source": [
    "```\n",
    "upstream ws {\n",
    "  server unix:///home/eason/tt_deploy/shared/tmp/sockets/puma.sock fail_timeout=0;\n",
    "}\n",
    "server {\n",
    "  location /ws/ {\n",
    "    proxy_pass http://ws;\n",
    "    proxy_http_version 1.1;\n",
    "    proxy_set_header Upgrade $http_upgrade;\n",
    "    proxy_set_header Connection \"upgrade\";\n",
    "  }\n",
    "}\n",
    "```"
   ]
  },
  {
   "cell_type": "markdown",
   "metadata": {},
   "source": [
    "nginx要支持websocket协议，必须是 1.3.13或以上版本。\n",
    "\n",
    "要测试是否成功，有两种比较简单的方法。\n",
    "\n",
    "1. 在chrome浏览器上console那里直接访问。比如`new WebSocket('ws://www.example.com/wx')`;\n",
    "2. 在chrome的开发者工具,network那里看有没有101协议的请求。"
   ]
  }
 ],
 "metadata": {
  "kernelspec": {
   "display_name": "Python 3",
   "language": "python",
   "name": "python3"
  },
  "language_info": {
   "codemirror_mode": {
    "name": "ipython",
    "version": 3
   },
   "file_extension": ".py",
   "mimetype": "text/x-python",
   "name": "python",
   "nbconvert_exporter": "python",
   "pygments_lexer": "ipython3",
   "version": "3.6.4"
  }
 },
 "nbformat": 4,
 "nbformat_minor": 2
}
