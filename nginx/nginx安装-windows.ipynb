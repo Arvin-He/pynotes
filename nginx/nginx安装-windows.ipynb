{
 "cells": [
  {
   "cell_type": "markdown",
   "metadata": {},
   "source": [
    "# nginx安装-windows"
   ]
  },
  {
   "cell_type": "markdown",
   "metadata": {},
   "source": [
    "### 下载安装"
   ]
  },
  {
   "cell_type": "markdown",
   "metadata": {},
   "source": [
    "在[nginx官网](http://nginx.org/en/download.html)下载nginx\n",
    "\n",
    "然后解压安装:\n",
    "```\n",
    "cd c:\\\n",
    "unzip nginx-1.13.12.zip\n",
    "cd nginx-1.13.12\n",
    "start nginx\n",
    "```\n",
    "\n",
    "查看nginx进程:\n",
    "`tasklist /fi \"imagename eq nginx.exe\"`\n",
    "\n",
    "或者打开浏览器，访问`http://localhost:80` （其中 80 端口号可以省略）就能看到 NGINX 的欢迎页面。"
   ]
  },
  {
   "cell_type": "markdown",
   "metadata": {},
   "source": [
    "### nginx运行"
   ]
  },
  {
   "cell_type": "markdown",
   "metadata": {},
   "source": [
    "NGINX 启动后，有一个主进程（master process）和一个或多个工作进程（worker process），\n",
    "\n",
    "主进程的作用主要是读入和检查NGINX的配置信息，以及维护工作进程；\n",
    "\n",
    "工作进程才是真正处理客户端请求的进程。具体要启动多少个工作进程，可以在 NGINX 的配置文件nginx.conf中通过worker_processes指令指定。\n",
    "\n",
    "可以通过以下这些命令来控制 NGINX：\n",
    "\n",
    "`nginx -s [ stop | quit | reopen | reload ]`"
   ]
  }
 ],
 "metadata": {
  "kernelspec": {
   "display_name": "Python 3",
   "language": "python",
   "name": "python3"
  },
  "language_info": {
   "codemirror_mode": {
    "name": "ipython",
    "version": 3
   },
   "file_extension": ".py",
   "mimetype": "text/x-python",
   "name": "python",
   "nbconvert_exporter": "python",
   "pygments_lexer": "ipython3",
   "version": "3.6.4"
  }
 },
 "nbformat": 4,
 "nbformat_minor": 2
}
