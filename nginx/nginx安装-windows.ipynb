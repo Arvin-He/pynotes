{
 "cells": [
  {
   "cell_type": "markdown",
   "metadata": {},
   "source": [
    "# nginx安装-windows"
   ]
  },
  {
   "cell_type": "markdown",
   "metadata": {},
   "source": [
    "### 下载安装"
   ]
  },
  {
   "cell_type": "markdown",
   "metadata": {},
   "source": [
    "在[nginx官网](http://nginx.org/en/download.html)下载nginx\n",
    "\n",
    "然后解压安装:\n",
    "```\n",
    "cd c:\\\n",
    "unzip nginx-1.13.12.zip\n",
    "cd nginx-1.13.12\n",
    "start nginx\n",
    "```\n",
    "\n",
    "查看nginx进程:\n",
    "`tasklist /fi \"imagename eq nginx.exe\"`\n",
    "\n",
    "或者打开浏览器，访问`http://localhost:80` （其中 80 端口号可以省略）就能看到 NGINX 的欢迎页面。"
   ]
  },
  {
   "cell_type": "markdown",
   "metadata": {},
   "source": [
    "### nginx运行"
   ]
  },
  {
   "cell_type": "markdown",
   "metadata": {},
   "source": [
    "NGINX 启动后，有一个主进程（master process）和一个或多个工作进程（worker process），\n",
    "\n",
    "主进程的作用主要是读入和检查NGINX的配置信息，以及维护工作进程；\n",
    "\n",
    "工作进程才是真正处理客户端请求的进程。具体要启动多少个工作进程，可以在 NGINX 的配置文件nginx.conf中通过worker_processes指令指定。\n",
    "\n",
    "可以通过以下这些命令来控制 NGINX：\n",
    "\n",
    "`nginx -s [ stop | quit | reopen | reload ]`\n",
    "\n",
    "其中：\n",
    "\n",
    "* nginx -s stop： 强制停止NGINX，不管工作进程当前是否正在处理用户请求，都会立即退出。\n",
    "* nginx -s quit：“优雅地”退出NGINX，执行这个命令后，工作进程会将当前正在处理的请求处理完毕后，再退出。\n",
    "* nginx -s reload：重载配置信息。当NGINX的配置文件改变之后，同过执行这个命令，使更改的配置信息生效，而无需重新启动nginx.\n",
    "* nginx -s reopen：重新打开日志文件。\n",
    "\n",
    "当重载配置信息时，NGINX 的主进程首先检查配置信息，如果配置信息没有错误，主进程会启动新的工作进程，并发出信息通知旧的工作进程退出，旧的工作进程接收到信号后，会等到处理完当前正在处理的请求后退出。如果nginx检查配置信息发现错误，就会回滚所做的更改，沿用旧的工作进程继续工作。"
   ]
  }
 ],
 "metadata": {
  "kernelspec": {
   "display_name": "Python 3",
   "language": "python",
   "name": "python3"
  },
  "language_info": {
   "codemirror_mode": {
    "name": "ipython",
    "version": 3
   },
   "file_extension": ".py",
   "mimetype": "text/x-python",
   "name": "python",
   "nbconvert_exporter": "python",
   "pygments_lexer": "ipython3",
   "version": "3.6.4"
  }
 },
 "nbformat": 4,
 "nbformat_minor": 2
}
