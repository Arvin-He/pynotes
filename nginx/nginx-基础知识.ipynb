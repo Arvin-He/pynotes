{
 "cells": [
  {
   "cell_type": "markdown",
   "metadata": {},
   "source": [
    "# nginx-基础知识"
   ]
  },
  {
   "cell_type": "markdown",
   "metadata": {},
   "source": [
    "### 配置文件说明"
   ]
  },
  {
   "cell_type": "markdown",
   "metadata": {},
   "source": [
    "1. nginx是模块化的系统，整个系统是分成一个个模块的。每个模块负责不同的功能。\n",
    "\n",
    "2. `http_gzip_static_module`负责压缩，`http_ssl_module`负责加密，如果不用某个模块的话，也可以去掉，可以让整个nginx变得小巧，更适合自己.\n",
    "\n",
    "3. configure指令中带了很多参数，就是在这里编译之前可以加入某些模块或去掉某些模块.\n",
    "\n",
    "4. nginx的模块是通过一个叫指令(directive)来用的。整个配置文件都是由指令来控制。nginx也有自己内置的指令，比如events, http, server, 和 location等\n",
    "\n",
    "5. 配置文件是由块(block)组成, 块与块之间可以嵌套.\n",
    "\n",
    "```\n",
    "evnets{\n",
    "\n",
    "}\n",
    "\n",
    "http {\n",
    "    server {\n",
    "        listen 80;\n",
    "        root /home/yinsigan/foo;\n",
    "        server_name foo.bar.com;\n",
    "        location / {\n",
    "          }\n",
    "    \n",
    "    }\n",
    "}\n",
    "\n",
    "mail {\n",
    "\n",
    "}\n",
    "\n",
    "listen是监听的端口。如果没有特殊指定，一般网站用的都是80端口。\n",
    "\n",
    "root是网站的源代码静态文件的根目录。一般来说会在root指定的目录下放置网站最新访问的那个html文件，比如index.html等。\n",
    "\n",
    "server_name指定的是域名。\n",
    "```\n",
    "\n",
    "6. 配置文件可以有多个,但有一个主配置文件,用来管理其他的配置文件\n",
    "\n",
    "7. 指令和指令之间是有层级和继承关系的。比如http内的指令会影响到server的。http和events还有mail是同级的。"
   ]
  },
  {
   "cell_type": "markdown",
   "metadata": {},
   "source": [
    "### 反向代理"
   ]
  },
  {
   "cell_type": "markdown",
   "metadata": {},
   "source": [
    "**正向代理:**\n",
    "\n",
    "我们常说的代理也就是只正向代理，正向代理的过程，它隐藏了真实的请求客户端，服务端不知道真实的客户端是谁，客户端请求的服务都被代理服务器代替来请求，某些科学上网工具扮演的就是典型的正向代理角色。用浏览器访问 `http://www.google.com` 时，被残忍的block，于是你可以在国外搭建一台代理服务器，让代理帮我去请求google.com，代理把请求返回的相应结构再返回给我."
   ]
  },
  {
   "cell_type": "markdown",
   "metadata": {},
   "source": [
    "**反向代理:**\n",
    "\n",
    "反向代理隐藏了真实的服务端，当我们请求 `www.baidu.com` 的时候，就像拨打10086一样，背后可能有成千上万台服务器为我们服务，但具体是哪一台，你不知道，也不需要知道，你只需要知道反向代理服务器是谁就好了，`www.baidu.com` 就是我们的反向代理服务器，反向代理服务器会帮我们把请求转发到真实的服务器那里去。Nginx就是性能非常好的反向代理服务器，用来做负载均衡.\n",
    "\n",
    "反向代理的作用是:\n",
    "1. 隐藏和保护原始服务器\n",
    "2. 负载均衡"
   ]
  },
  {
   "cell_type": "markdown",
   "metadata": {},
   "source": [
    "两者的**区别**在于**代理的对象**不一样：\n",
    "1. 正向代理代理的对象是客户端\n",
    "2. 反向代理代理的对象是服务端"
   ]
  }
 ],
 "metadata": {
  "kernelspec": {
   "display_name": "Python 3",
   "language": "python",
   "name": "python3"
  },
  "language_info": {
   "codemirror_mode": {
    "name": "ipython",
    "version": 3
   },
   "file_extension": ".py",
   "mimetype": "text/x-python",
   "name": "python",
   "nbconvert_exporter": "python",
   "pygments_lexer": "ipython3",
   "version": "3.6.4"
  }
 },
 "nbformat": 4,
 "nbformat_minor": 2
}
