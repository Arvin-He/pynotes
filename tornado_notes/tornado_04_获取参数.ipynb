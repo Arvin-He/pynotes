{
 "cells": [
  {
   "cell_type": "markdown",
   "metadata": {},
   "source": [
    "# tornado获取post数据"
   ]
  },
  {
   "cell_type": "markdown",
   "metadata": {},
   "source": [
    "### 一次性获取post所有数据"
   ]
  },
  {
   "cell_type": "code",
   "execution_count": 7,
   "metadata": {},
   "outputs": [
    {
     "name": "stdout",
     "output_type": "stream",
     "text": [
      "{'errMsg': '', 'remain_amount': 0, 'status': 0}\n"
     ]
    }
   ],
   "source": [
    "import requests\n",
    "import json\n",
    "from pprint import pprint\n",
    "url = 'http://127.0.0.1:8760/api/portal'\n",
    "payload = {\"organization_id\":\"1a84f6714f524c65b3e82fc4400276c4\",\n",
    "        \"ent_code\":\"paypals\",\n",
    "        \"product_code\":\"sms\",\n",
    "        \"amount\":\"1\",\n",
    "        \"type\":\"renew\",\n",
    "        \"ent_name\":\"XXXXX\",\n",
    "        \"account_id\":57,\n",
    "        \"account_name\":\"admin@paypals.com\",\n",
    "        \"product_specification_info\":{\n",
    "            \"fee_type\":\"count\",\n",
    "            \"specification_id\":37,\n",
    "            \"specification_no\":\"sms-standard\"}\n",
    "       }\n",
    "\n",
    "res = requests.post(url, data=payload, timeout=5)\n",
    "# res = requests.post(url, json=payload, timeout=5)\n",
    "pprint(res.json())"
   ]
  },
  {
   "cell_type": "markdown",
   "metadata": {},
   "source": [
    "注意: requests在post数据时,\n",
    "当以data作为关键字参数时,传递的是字符串形式的bytes,\n",
    "当以json作为关键字参数时,传递的是json格式的bytes."
   ]
  },
  {
   "cell_type": "code",
   "execution_count": null,
   "metadata": {},
   "outputs": [],
   "source": [
    "import json\n",
    "from tornado import web\n",
    "\n",
    "class PortalNoticeHandler(web.RequestHandler):\n",
    "\n",
    "    def post(self):\n",
    "        # 获取body中的所有post数据,注意这个post的数据必须是以json格式传递的,否则json.loads会失败!\n",
    "        data = json.loads(self.request.body.decode())\n",
    "        self.write({'status': 0, 'errMsg': '', 'remain_amount': 0})\n",
    "        self.finish()\n",
    "\n",
    "    def get(self):\n",
    "        pass"
   ]
  },
  {
   "cell_type": "code",
   "execution_count": null,
   "metadata": {},
   "outputs": [],
   "source": [
    "from tornado import web\n",
    "\n",
    "class PortalNoticeHandler(web.RequestHandler):\n",
    "\n",
    "    def post(self):\n",
    "        try:\n",
    "            data = {}\n",
    "            for key in self.request.arguments:\n",
    "                data[key] = self.get_argument(key)\n",
    "            pprint(data)\n",
    "            self.write({'status': 0, 'errMsg': '', 'remain_amount': 0})\n",
    "        except Exception as e:\n",
    "            logging.error('Get portal data error: {}'.format(e))\n",
    "            self.write({'status': 1, 'errMsg': 'data formatter error'})\n",
    "\n",
    "        self.finish()\n",
    "\n",
    "    def get(self):\n",
    "        pass"
   ]
  },
  {
   "cell_type": "markdown",
   "metadata": {},
   "source": [
    "{'account_id': '57',\n",
    " 'account_name': 'admin@paypals.com',\n",
    " 'amount': '1',\n",
    " 'ent_code': 'paypals',\n",
    " 'ent_name': 'XXXXX',\n",
    " 'organization_id': '1a84f6714f524c65b3e82fc4400276c4',\n",
    " 'product_code': 'sms',\n",
    " 'product_specification_info': 'specification_no',\n",
    " 'type': 'renew'}"
   ]
  },
  {
   "cell_type": "markdown",
   "metadata": {},
   "source": [
    "tornado的get和post提交的参数都可以通过self.get_argument()获得"
   ]
  },
  {
   "cell_type": "markdown",
   "metadata": {},
   "source": [
    "### 判断参数是否存在并获取"
   ]
  },
  {
   "cell_type": "code",
   "execution_count": null,
   "metadata": {},
   "outputs": [],
   "source": [
    "if self.request.arguments.has_key(\"username\"):\n",
    "    user = self.get_argument('username', 'admin')"
   ]
  },
  {
   "cell_type": "markdown",
   "metadata": {},
   "source": [
    "### tornado获取参数的方式"
   ]
  },
  {
   "cell_type": "code",
   "execution_count": null,
   "metadata": {},
   "outputs": [],
   "source": [
    "1. def get_argument(self, name, default=_ARG_DEFAULT, strip=True)\n",
    "\n",
    "2. def get_arguments(self, name, strip=True)\n",
    "    \n",
    "3. def get_body_argument(self, name, default=_ARG_DEFAULT, strip=True)\n",
    "    \n",
    "4. def get_body_arguments(self, name, strip=True)\n",
    "    \n",
    "5. def get_query_argument(self, name, default=_ARG_DEFAULT, strip=True)\n",
    "    \n",
    "6. def get_query_arguments(self, name, strip=True)\n",
    "    \n",
    "7. self.request.body "
   ]
  },
  {
   "cell_type": "markdown",
   "metadata": {},
   "source": [
    "POST数据 通常指 POST 时 body 中的数据。而 QueryString （URL）中也有可以带参数（通常是 GET 时的参数）。\n",
    "\n",
    "如果 POST 时同时存在 QueryString 和 body data，那么 get_argument 获取得到的其实是 QueryString 中的数据，而不是 body 中的数据。\n",
    "\n",
    "get_body_argument 这个方法是获取 body 中的参数值。"
   ]
  }
 ],
 "metadata": {
  "kernelspec": {
   "display_name": "Python 3",
   "language": "python",
   "name": "python3"
  },
  "language_info": {
   "codemirror_mode": {
    "name": "ipython",
    "version": 3
   },
   "file_extension": ".py",
   "mimetype": "text/x-python",
   "name": "python",
   "nbconvert_exporter": "python",
   "pygments_lexer": "ipython3",
   "version": "3.6.2"
  }
 },
 "nbformat": 4,
 "nbformat_minor": 2
}
