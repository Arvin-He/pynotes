{
 "cells": [
  {
   "cell_type": "markdown",
   "metadata": {},
   "source": [
    "# 内建数据结构和函数"
   ]
  },
  {
   "cell_type": "markdown",
   "metadata": {},
   "source": [
    "## 创建tuple"
   ]
  },
  {
   "cell_type": "code",
   "execution_count": 13,
   "metadata": {},
   "outputs": [
    {
     "data": {
      "text/plain": [
       "(4, 5, 6)"
      ]
     },
     "execution_count": 13,
     "metadata": {},
     "output_type": "execute_result"
    }
   ],
   "source": [
    "tup = 4, 5, 6\n",
    "tup"
   ]
  },
  {
   "cell_type": "code",
   "execution_count": 11,
   "metadata": {},
   "outputs": [
    {
     "data": {
      "text/plain": [
       "(1, 2, 3)"
      ]
     },
     "execution_count": 11,
     "metadata": {},
     "output_type": "execute_result"
    }
   ],
   "source": [
    "tup = (1, 2, 3)\n",
    "tup"
   ]
  },
  {
   "cell_type": "code",
   "execution_count": 12,
   "metadata": {},
   "outputs": [
    {
     "data": {
      "text/plain": [
       "(4, 5, 6)"
      ]
     },
     "execution_count": 12,
     "metadata": {},
     "output_type": "execute_result"
    }
   ],
   "source": [
    "tup = tuple([4, 5, 6])\n",
    "tup"
   ]
  },
  {
   "cell_type": "code",
   "execution_count": 15,
   "metadata": {},
   "outputs": [
    {
     "data": {
      "text/plain": [
       "('s', 't', 'r', 'i', 'n', 'g')"
      ]
     },
     "execution_count": 15,
     "metadata": {},
     "output_type": "execute_result"
    }
   ],
   "source": [
    "tup = tuple('string')\n",
    "tup"
   ]
  },
  {
   "cell_type": "code",
   "execution_count": 17,
   "metadata": {},
   "outputs": [
    {
     "data": {
      "text/plain": [
       "(4, None, 'foo', 6, 0, 'bar')"
      ]
     },
     "execution_count": 17,
     "metadata": {},
     "output_type": "execute_result"
    }
   ],
   "source": [
    "(4, None, 'foo') + (6, 0) + ('bar',) # 注意:单个元素的tuple在后面加\",\"否则tuple与函数调用无法区分了"
   ]
  },
  {
   "cell_type": "code",
   "execution_count": 18,
   "metadata": {},
   "outputs": [
    {
     "data": {
      "text/plain": [
       "((4, 5, 6), (7, 8))"
      ]
     },
     "execution_count": 18,
     "metadata": {},
     "output_type": "execute_result"
    }
   ],
   "source": [
    "tup = (4, 5, 6), (7, 8)\n",
    "tup"
   ]
  },
  {
   "cell_type": "code",
   "execution_count": 19,
   "metadata": {},
   "outputs": [
    {
     "ename": "TypeError",
     "evalue": "tuple() takes at most 1 argument (3 given)",
     "output_type": "error",
     "traceback": [
      "\u001b[1;31m---------------------------------------------------------------------------\u001b[0m",
      "\u001b[1;31mTypeError\u001b[0m                                 Traceback (most recent call last)",
      "\u001b[1;32m<ipython-input-19-5c2d6c7febfc>\u001b[0m in \u001b[0;36m<module>\u001b[1;34m()\u001b[0m\n\u001b[1;32m----> 1\u001b[1;33m \u001b[0mtup\u001b[0m \u001b[1;33m=\u001b[0m \u001b[0mtuple\u001b[0m\u001b[1;33m(\u001b[0m\u001b[1;36m1\u001b[0m\u001b[1;33m,\u001b[0m \u001b[1;36m3\u001b[0m\u001b[1;33m,\u001b[0m \u001b[1;36m5\u001b[0m\u001b[1;33m)\u001b[0m \u001b[1;31m# 这是错误的!创建tuple,只能接受一个参数\u001b[0m\u001b[1;33m\u001b[0m\u001b[0m\n\u001b[0m\u001b[0;32m      2\u001b[0m \u001b[0mtup\u001b[0m\u001b[1;33m\u001b[0m\u001b[0m\n",
      "\u001b[1;31mTypeError\u001b[0m: tuple() takes at most 1 argument (3 given)"
     ]
    }
   ],
   "source": [
    "tup = tuple(1, 3, 5) # 这是错误的!创建tuple,只能接受一个参数\n",
    "tup"
   ]
  },
  {
   "cell_type": "markdown",
   "metadata": {},
   "source": [
    "## Unpacking tuples"
   ]
  },
  {
   "cell_type": "code",
   "execution_count": 20,
   "metadata": {},
   "outputs": [
    {
     "data": {
      "text/plain": [
       "5"
      ]
     },
     "execution_count": 20,
     "metadata": {},
     "output_type": "execute_result"
    }
   ],
   "source": [
    "tup = (4, 5, 6)\n",
    "a, b, c = tup\n",
    "b"
   ]
  },
  {
   "cell_type": "code",
   "execution_count": null,
   "metadata": {},
   "outputs": [],
   "source": [
    "tup = 4, 5, (6, 7)\n",
    "a, b, (c, d)"
   ]
  },
  {
   "cell_type": "markdown",
   "metadata": {},
   "source": [
    "### 列表操作"
   ]
  },
  {
   "cell_type": "markdown",
   "metadata": {},
   "source": [
    "#### 去除相邻相同元素,只保留一个"
   ]
  },
  {
   "cell_type": "markdown",
   "metadata": {},
   "source": [
    "给出一个列表,输出去除相邻相同元素,且只保留一个.\n",
    "\n",
    "输入: aa = [1, 3, 5, 5, 5, 3, 2, 1, 1, 2, 3, 3]\n",
    "\n",
    "输出: bb = [1, 3, 5, 3, 2, 1, 2, 3]"
   ]
  },
  {
   "cell_type": "code",
   "execution_count": 18,
   "metadata": {},
   "outputs": [
    {
     "name": "stdout",
     "output_type": "stream",
     "text": [
      "12\n",
      "[1, 3, 5, 3, 2, 1, 2, 3]\n"
     ]
    }
   ],
   "source": [
    "aa = [1, 3, 5, 5, 5, 3, 2, 1, 1, 2, 3, 3]\n",
    "print(len(aa))\n",
    "\n",
    "bb = [item for i, item in enumerate(aa[1:]) if aa[i]!=aa[i+1] and len(aa)>1]\n",
    "bb.insert(0, aa[0])\n",
    "print(bb)"
   ]
  },
  {
   "cell_type": "markdown",
   "metadata": {},
   "source": [
    "#### 两两取出列表数据"
   ]
  },
  {
   "cell_type": "code",
   "execution_count": 23,
   "metadata": {},
   "outputs": [
    {
     "name": "stdout",
     "output_type": "stream",
     "text": [
      "[['bad', 'good'], ['bad', 'good'], ['bad', 'good'], ['bad', 'good']]\n",
      "[['bad', 'good'], ['bad', 'good'], ['bad', 'good']]\n"
     ]
    }
   ],
   "source": [
    "a1 = ['bad', 'good', 'bad', 'good', 'bad', 'good', 'bad', 'good']\n",
    "a2 = ['bad', 'good', 'bad', 'good', 'bad', 'good', 'bad']\n",
    "\n",
    "\n",
    "print([a1[i:i+2] for i in range(len(a1)-1) if i%2 == 0])\n",
    "\n",
    "print([a2[i:i+2] for i in range(len(a2)-1) if i%2 == 0])\n",
    "    "
   ]
  },
  {
   "cell_type": "markdown",
   "metadata": {},
   "source": [
    "### 字符串操作"
   ]
  },
  {
   "cell_type": "raw",
   "metadata": {},
   "source": [
    "from pprint import pprint\n",
    "pprint(dir(str))"
   ]
  },
  {
   "cell_type": "markdown",
   "metadata": {},
   "source": [
    "### dict操作"
   ]
  },
  {
   "cell_type": "markdown",
   "metadata": {},
   "source": [
    "#### dict更新操作"
   ]
  },
  {
   "cell_type": "code",
   "execution_count": 8,
   "metadata": {},
   "outputs": [
    {
     "name": "stdout",
     "output_type": "stream",
     "text": [
      "{'method': 'GET',\n",
      " 'req_headers': {'Accept-Encoding': 'gzip, deflate',\n",
      "                 'Accept-Language': 'en-US,en;q=0.5',\n",
      "                 'Connection': 'keep-alive',\n",
      "                 'User-Agent': 'Mozilla/5.0 Windows; U; Windows NT 5.1; zh-CN'},\n",
      " 'resp_content': {'$binary': 'PCFET0NUWVBFIGh0bWw+CjwhLS1TVEFUVVMgT0stLTh0bWw+Cg0KDQoNCgoNCg==',\n",
      "                  '$type': '00'},\n",
      " 'resp_headers': {'Connection': 'Keep-Alive',\n",
      "                  'Content-Encoding': 'gzip',\n",
      "                  'Content-Type': 'text/html; charset=utf-8'},\n",
      " 'status_code': 200,\n",
      " 'time': datetime.datetime(2018, 5, 11, 17, 34, 37, 192920),\n",
      " 'title': '百度一下,你就知道',\n",
      " 'url': 'https://www.baidu.com:443/'}\n"
     ]
    }
   ],
   "source": [
    "from datetime import datetime\n",
    "from pprint import pprint\n",
    "\n",
    "dict_a = {\n",
    "    \"req_headers\":{\n",
    "        \"User-Agent\" : \"Mozilla/5.0 Windows; U; Windows NT 5.1; zh-CN\",\n",
    "        \"Accept-Encoding\" : \"gzip, deflate\",\n",
    "        \"Connection\" : \"keep-alive\",\n",
    "        \"Accept-Language\" : \"en-US,en;q=0.5\"\n",
    "    },\n",
    "    \"method\": \"GET\",\n",
    "    \"resp_headers\": {\n",
    "        \"Connection\" : \"Keep-Alive\",\n",
    "        \"Content-Encoding\" : \"gzip\",\n",
    "        \"Content-Type\" : \"text/html; charset=utf-8\",\n",
    "    },\n",
    "    \"resp_content\": { \"$binary\" : \"PCFET0NUWVBFIGh0bWw+CjwhLS1TVEFUVVMgT0stLTh0bWw+Cg0KDQoNCgoNCg==\", \"$type\" : \"00\" },\n",
    "    \"status_code\": 200, \n",
    "    \"url\": \"https://www.baidu.com:443/\"\n",
    "}\n",
    "\n",
    "dict_b = {\n",
    "    \"title\": \"百度一下,你就知道\"\n",
    "}\n",
    "\n",
    "dict_b.update(dict_a)\n",
    "\n",
    "dict_b['time'] = datetime.now()\n",
    "\n",
    "pprint(dict_b)\n"
   ]
  },
  {
   "cell_type": "code",
   "execution_count": null,
   "metadata": {},
   "outputs": [],
   "source": []
  }
 ],
 "metadata": {
  "kernelspec": {
   "display_name": "Python 3",
   "language": "python",
   "name": "python3"
  },
  "language_info": {
   "codemirror_mode": {
    "name": "ipython",
    "version": 3
   },
   "file_extension": ".py",
   "mimetype": "text/x-python",
   "name": "python",
   "nbconvert_exporter": "python",
   "pygments_lexer": "ipython3",
   "version": "3.6.4"
  }
 },
 "nbformat": 4,
 "nbformat_minor": 2
}
