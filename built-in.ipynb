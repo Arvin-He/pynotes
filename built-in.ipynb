{
 "cells": [
  {
   "cell_type": "markdown",
   "metadata": {},
   "source": [
    "# 内建数据结构和函数"
   ]
  },
  {
   "cell_type": "markdown",
   "metadata": {},
   "source": [
    "## 创建tuple"
   ]
  },
  {
   "cell_type": "code",
   "execution_count": 13,
   "metadata": {},
   "outputs": [
    {
     "data": {
      "text/plain": [
       "(4, 5, 6)"
      ]
     },
     "execution_count": 13,
     "metadata": {},
     "output_type": "execute_result"
    }
   ],
   "source": [
    "tup = 4, 5, 6\n",
    "tup"
   ]
  },
  {
   "cell_type": "code",
   "execution_count": 11,
   "metadata": {},
   "outputs": [
    {
     "data": {
      "text/plain": [
       "(1, 2, 3)"
      ]
     },
     "execution_count": 11,
     "metadata": {},
     "output_type": "execute_result"
    }
   ],
   "source": [
    "tup = (1, 2, 3)\n",
    "tup"
   ]
  },
  {
   "cell_type": "code",
   "execution_count": 12,
   "metadata": {},
   "outputs": [
    {
     "data": {
      "text/plain": [
       "(4, 5, 6)"
      ]
     },
     "execution_count": 12,
     "metadata": {},
     "output_type": "execute_result"
    }
   ],
   "source": [
    "tup = tuple([4, 5, 6])\n",
    "tup"
   ]
  },
  {
   "cell_type": "code",
   "execution_count": 15,
   "metadata": {},
   "outputs": [
    {
     "data": {
      "text/plain": [
       "('s', 't', 'r', 'i', 'n', 'g')"
      ]
     },
     "execution_count": 15,
     "metadata": {},
     "output_type": "execute_result"
    }
   ],
   "source": [
    "tup = tuple('string')\n",
    "tup"
   ]
  },
  {
   "cell_type": "code",
   "execution_count": 17,
   "metadata": {},
   "outputs": [
    {
     "data": {
      "text/plain": [
       "(4, None, 'foo', 6, 0, 'bar')"
      ]
     },
     "execution_count": 17,
     "metadata": {},
     "output_type": "execute_result"
    }
   ],
   "source": [
    "(4, None, 'foo') + (6, 0) + ('bar',) # 注意:单个元素的tuple在后面加\",\"否则tuple与函数调用无法区分了"
   ]
  },
  {
   "cell_type": "code",
   "execution_count": 18,
   "metadata": {},
   "outputs": [
    {
     "data": {
      "text/plain": [
       "((4, 5, 6), (7, 8))"
      ]
     },
     "execution_count": 18,
     "metadata": {},
     "output_type": "execute_result"
    }
   ],
   "source": [
    "tup = (4, 5, 6), (7, 8)\n",
    "tup"
   ]
  },
  {
   "cell_type": "code",
   "execution_count": 19,
   "metadata": {},
   "outputs": [
    {
     "ename": "TypeError",
     "evalue": "tuple() takes at most 1 argument (3 given)",
     "output_type": "error",
     "traceback": [
      "\u001b[1;31m---------------------------------------------------------------------------\u001b[0m",
      "\u001b[1;31mTypeError\u001b[0m                                 Traceback (most recent call last)",
      "\u001b[1;32m<ipython-input-19-5c2d6c7febfc>\u001b[0m in \u001b[0;36m<module>\u001b[1;34m()\u001b[0m\n\u001b[1;32m----> 1\u001b[1;33m \u001b[0mtup\u001b[0m \u001b[1;33m=\u001b[0m \u001b[0mtuple\u001b[0m\u001b[1;33m(\u001b[0m\u001b[1;36m1\u001b[0m\u001b[1;33m,\u001b[0m \u001b[1;36m3\u001b[0m\u001b[1;33m,\u001b[0m \u001b[1;36m5\u001b[0m\u001b[1;33m)\u001b[0m \u001b[1;31m# 这是错误的!创建tuple,只能接受一个参数\u001b[0m\u001b[1;33m\u001b[0m\u001b[0m\n\u001b[0m\u001b[0;32m      2\u001b[0m \u001b[0mtup\u001b[0m\u001b[1;33m\u001b[0m\u001b[0m\n",
      "\u001b[1;31mTypeError\u001b[0m: tuple() takes at most 1 argument (3 given)"
     ]
    }
   ],
   "source": [
    "tup = tuple(1, 3, 5) # 这是错误的!创建tuple,只能接受一个参数\n",
    "tup"
   ]
  },
  {
   "cell_type": "markdown",
   "metadata": {},
   "source": [
    "## Unpacking tuples"
   ]
  },
  {
   "cell_type": "code",
   "execution_count": 20,
   "metadata": {},
   "outputs": [
    {
     "data": {
      "text/plain": [
       "5"
      ]
     },
     "execution_count": 20,
     "metadata": {},
     "output_type": "execute_result"
    }
   ],
   "source": [
    "tup = (4, 5, 6)\n",
    "a, b, c = tup\n",
    "b"
   ]
  },
  {
   "cell_type": "code",
   "execution_count": null,
   "metadata": {},
   "outputs": [],
   "source": [
    "tup = 4, 5, (6, 7)\n",
    "a, b, (c, d)"
   ]
  },
  {
   "cell_type": "markdown",
   "metadata": {},
   "source": [
    "### 列表操作"
   ]
  },
  {
   "cell_type": "markdown",
   "metadata": {},
   "source": [
    "#### 去除相邻相同元素,只保留一个"
   ]
  },
  {
   "cell_type": "markdown",
   "metadata": {},
   "source": [
    "给出一个列表,输出去除相邻相同元素,且只保留一个.\n",
    "\n",
    "输入: aa = [1, 3, 5, 5, 5, 3, 2, 1, 1, 2, 3, 3]\n",
    "\n",
    "输出: bb = [1, 3, 5, 3, 2, 1, 2, 3]"
   ]
  },
  {
   "cell_type": "code",
   "execution_count": 18,
   "metadata": {},
   "outputs": [
    {
     "name": "stdout",
     "output_type": "stream",
     "text": [
      "12\n",
      "[1, 3, 5, 3, 2, 1, 2, 3]\n"
     ]
    }
   ],
   "source": [
    "aa = [1, 3, 5, 5, 5, 3, 2, 1, 1, 2, 3, 3]\n",
    "print(len(aa))\n",
    "\n",
    "bb = [item for i, item in enumerate(aa[1:]) if aa[i]!=aa[i+1] and len(aa)>1]\n",
    "bb.insert(0, aa[0])\n",
    "print(bb)"
   ]
  },
  {
   "cell_type": "markdown",
   "metadata": {},
   "source": [
    "#### 两两取出列表数据"
   ]
  },
  {
   "cell_type": "code",
   "execution_count": 23,
   "metadata": {},
   "outputs": [
    {
     "name": "stdout",
     "output_type": "stream",
     "text": [
      "[['bad', 'good'], ['bad', 'good'], ['bad', 'good'], ['bad', 'good']]\n",
      "[['bad', 'good'], ['bad', 'good'], ['bad', 'good']]\n"
     ]
    }
   ],
   "source": [
    "a1 = ['bad', 'good', 'bad', 'good', 'bad', 'good', 'bad', 'good']\n",
    "a2 = ['bad', 'good', 'bad', 'good', 'bad', 'good', 'bad']\n",
    "\n",
    "\n",
    "print([a1[i:i+2] for i in range(len(a1)-1) if i%2 == 0])\n",
    "\n",
    "print([a2[i:i+2] for i in range(len(a2)-1) if i%2 == 0])\n",
    "    "
   ]
  },
  {
   "cell_type": "markdown",
   "metadata": {},
   "source": [
    "### 字符串操作"
   ]
  },
  {
   "cell_type": "raw",
   "metadata": {},
   "source": [
    "from pprint import pprint\n",
    "pprint(dir(str))"
   ]
  },
  {
   "cell_type": "markdown",
   "metadata": {},
   "source": [
    "### dict操作"
   ]
  },
  {
   "cell_type": "markdown",
   "metadata": {},
   "source": [
    "#### dict更新操作"
   ]
  },
  {
   "cell_type": "code",
   "execution_count": 8,
   "metadata": {},
   "outputs": [
    {
     "name": "stdout",
     "output_type": "stream",
     "text": [
      "{'method': 'GET',\n",
      " 'req_headers': {'Accept-Encoding': 'gzip, deflate',\n",
      "                 'Accept-Language': 'en-US,en;q=0.5',\n",
      "                 'Connection': 'keep-alive',\n",
      "                 'User-Agent': 'Mozilla/5.0 Windows; U; Windows NT 5.1; zh-CN'},\n",
      " 'resp_content': {'$binary': 'PCFET0NUWVBFIGh0bWw+CjwhLS1TVEFUVVMgT0stLTh0bWw+Cg0KDQoNCgoNCg==',\n",
      "                  '$type': '00'},\n",
      " 'resp_headers': {'Connection': 'Keep-Alive',\n",
      "                  'Content-Encoding': 'gzip',\n",
      "                  'Content-Type': 'text/html; charset=utf-8'},\n",
      " 'status_code': 200,\n",
      " 'time': datetime.datetime(2018, 5, 11, 17, 34, 37, 192920),\n",
      " 'title': '百度一下,你就知道',\n",
      " 'url': 'https://www.baidu.com:443/'}\n"
     ]
    }
   ],
   "source": [
    "from datetime import datetime\n",
    "from pprint import pprint\n",
    "\n",
    "dict_a = {\n",
    "    \"req_headers\":{\n",
    "        \"User-Agent\" : \"Mozilla/5.0 Windows; U; Windows NT 5.1; zh-CN\",\n",
    "        \"Accept-Encoding\" : \"gzip, deflate\",\n",
    "        \"Connection\" : \"keep-alive\",\n",
    "        \"Accept-Language\" : \"en-US,en;q=0.5\"\n",
    "    },\n",
    "    \"method\": \"GET\",\n",
    "    \"resp_headers\": {\n",
    "        \"Connection\" : \"Keep-Alive\",\n",
    "        \"Content-Encoding\" : \"gzip\",\n",
    "        \"Content-Type\" : \"text/html; charset=utf-8\",\n",
    "    },\n",
    "    \"resp_content\": { \"$binary\" : \"PCFET0NUWVBFIGh0bWw+CjwhLS1TVEFUVVMgT0stLTh0bWw+Cg0KDQoNCgoNCg==\", \"$type\" : \"00\" },\n",
    "    \"status_code\": 200, \n",
    "    \"url\": \"https://www.baidu.com:443/\"\n",
    "}\n",
    "\n",
    "dict_b = {\n",
    "    \"title\": \"百度一下,你就知道\"\n",
    "}\n",
    "\n",
    "dict_b.update(dict_a)\n",
    "\n",
    "dict_b['time'] = datetime.now()\n",
    "\n",
    "pprint(dict_b)\n"
   ]
  },
  {
   "cell_type": "markdown",
   "metadata": {},
   "source": [
    "#### dict删除一个key"
   ]
  },
  {
   "cell_type": "code",
   "execution_count": null,
   "metadata": {},
   "outputs": [],
   "source": [
    "# 要删除一个key，用pop(key)方法，对应的value也会从dict中删除\n",
    "dict.pop('keyname')"
   ]
  },
  {
   "cell_type": "markdown",
   "metadata": {},
   "source": [
    "### dict基本操作"
   ]
  },
  {
   "cell_type": "code",
   "execution_count": 13,
   "metadata": {},
   "outputs": [
    {
     "name": "stdout",
     "output_type": "stream",
     "text": [
      "清空字典\n",
      "{}\n",
      "===============================\n",
      "拷贝字典\n",
      "{'a': 1, 'b': 2, 'c': 3, 'd': 4}\n",
      "{'a': 1, 'b': 2, 'c': 3, 'd': 4}\n",
      "============================\n",
      "创建一个（不）含默认值的字典\n",
      "{'a': 123, 'b': 123, 'c': 123}\n",
      "============================\n",
      "获取字典对应key的值\n",
      "1\n",
      "None\n",
      "============================\n",
      "遍历字典的key和value\n",
      "dict_items([('a', 1), ('b', 2), ('c', 3), ('d', 4), ('e', 5)])\n",
      "dict_keys(['a', 'b', 'c', 'd', 'e'])\n",
      "dict_values([1, 2, 3, 4, 5])\n",
      "============================\n",
      "{'a': 1, 'b': 2, 'c': 3, 'd': 4, 'e': 5}\n",
      "删除字典的一个值\n",
      "4\n",
      "{'a': 1, 'b': 2, 'c': 3, 'e': 5}\n",
      "============================\n",
      "删除字典的一个item\n",
      "{'a': 1, 'b': 2, 'c': 3, 'e': 5}\n",
      "('d', 4)\n",
      "{'a': 1, 'b': 2, 'c': 3}\n",
      "============================\n",
      "添加键并将值设为默认值\n",
      "{'a': 1, 'b': 2, 'c': 3, 'd': 4}\n",
      "{'a': 1, 'b': 2, 'c': 3, 'd': 4, 'aa': 111}\n",
      "============================\n",
      "更新字典\n",
      "{'a': 5, 'b': 2, 'c': 3, 'd': 4, 'AA': 11, 'BB': 22}\n"
     ]
    }
   ],
   "source": [
    "a = {'a': 1, 'b': 2, 'c': 3, 'd': 4}\n",
    "# 清空字典\n",
    "print(\"清空字典\")\n",
    "a.clear()\n",
    "print(a)\n",
    "print('===============================')\n",
    "      \n",
    "# 字典拷贝,注意是浅拷贝,慎用\n",
    "a = {'a': 1, 'b': 2, 'c': 3, 'd': 4}\n",
    "print(\"拷贝字典\")\n",
    "b = a.copy()\n",
    "print(b)\n",
    "a['e'] = 5\n",
    "print(b)\n",
    "\n",
    "print(\"============================\")    \n",
    "print('创建一个（不）含默认值的字典')\n",
    "kk = ['a', 'b', 'c']\n",
    "print(dict.fromkeys(kk, 123))\n",
    "\n",
    "print(\"============================\")\n",
    "print('获取字典对应key的值')\n",
    "print(a.get('a'))\n",
    "print(a.get('f'))\n",
    "print(\"============================\")\n",
    "print('遍历字典的key和value')\n",
    "print(a.items())\n",
    "print(a.keys())\n",
    "print(a.values())\n",
    "print(\"============================\")\n",
    "print(a)\n",
    "print('删除字典的一个值')\n",
    "print(a.pop('d'))\n",
    "print(a)\n",
    "\n",
    "print(\"============================\")\n",
    "print('删除字典的一个item')\n",
    "print(a)\n",
    "a = {'a': 1, 'b': 2, 'c': 3, 'd': 4}\n",
    "print(a.popitem())\n",
    "print(a)\n",
    "\n",
    "print(\"============================\")\n",
    "print('添加键并将值设为默认值')\n",
    "a = {'a': 1, 'b': 2, 'c': 3, 'd': 4} \n",
    "print(a)\n",
    "#  setdefault() 函数和get() 方法类似, 如果键不存在于字典中，将会添加键并将值设为默认值\n",
    "a.setdefault('aa', 111)\n",
    "print(a)\n",
    "\n",
    "print(\"============================\")\n",
    "print('更新字典')\n",
    "a = {'a': 1, 'b': 2, 'c': 3, 'd': 4}      \n",
    "b = {'a':5, 'b': 2, 'AA': 11, 'BB':22}\n",
    "a.update(b)\n",
    "print(a)"
   ]
  },
  {
   "cell_type": "code",
   "execution_count": 8,
   "metadata": {},
   "outputs": [
    {
     "name": "stdout",
     "output_type": "stream",
     "text": [
      "has no key aa\n",
      "has no key\n"
     ]
    }
   ],
   "source": [
    "dir(dict)\n",
    "a = {}\n",
    "if 'aa' in a.keys():\n",
    "    print('has key aa')\n",
    "else:\n",
    "    print('has no key aa')\n",
    "\n",
    "if '' in a.keys():\n",
    "    print('has key')\n",
    "else:\n",
    "    print('has no key')\n",
    "    \n",
    "    \n"
   ]
  },
  {
   "cell_type": "markdown",
   "metadata": {},
   "source": [
    "### for...else... 语法"
   ]
  },
  {
   "cell_type": "code",
   "execution_count": 3,
   "metadata": {},
   "outputs": [
    {
     "name": "stdout",
     "output_type": "stream",
     "text": [
      "0\n",
      "1\n",
      "2\n",
      "3\n",
      "4\n",
      "enter else\n",
      "====================\n",
      "enter else\n"
     ]
    }
   ],
   "source": [
    "for i in range(5):\n",
    "    print(i)\n",
    "else:\n",
    "    print(\"enter else\")\n",
    "    \n",
    "print(\"====================\")    \n",
    "    \n",
    "for i in []:\n",
    "    print(i)\n",
    "else:\n",
    "    print(\"enter else\")"
   ]
  },
  {
   "cell_type": "markdown",
   "metadata": {},
   "source": [
    "### 浮点数格式化"
   ]
  },
  {
   "cell_type": "markdown",
   "metadata": {},
   "source": [
    "浮点数执行指定精度的舍入运算, 使用内置的 `round(value, ndigits)` 函数即可"
   ]
  },
  {
   "cell_type": "code",
   "execution_count": 3,
   "metadata": {},
   "outputs": [
    {
     "name": "stdout",
     "output_type": "stream",
     "text": [
      "1.237\n",
      "0.0043\n"
     ]
    }
   ],
   "source": [
    "print(round(1.23655, 3))\n",
    "\n",
    "print(round(1/230, 4))"
   ]
  },
  {
   "cell_type": "markdown",
   "metadata": {},
   "source": [
    "### 深拷贝与浅拷贝"
   ]
  },
  {
   "cell_type": "code",
   "execution_count": 5,
   "metadata": {},
   "outputs": [
    {
     "name": "stdout",
     "output_type": "stream",
     "text": [
      "浅拷贝\n",
      "[1, {'aa': 123}, 5]\n",
      "深拷贝\n",
      "[1, {'aa': 123}, 5]\n",
      "改变原始列表中对象的值\n",
      "[1, {'aa': 22}, 5]\n",
      "再次查看浅拷贝的值\n",
      "[1, {'aa': 22}, 5]\n",
      "再次查看深拷贝的值\n",
      "[1, {'aa': 123}, 5]\n"
     ]
    }
   ],
   "source": [
    "import copy\n",
    "\n",
    "a = [1, {'aa': 123}, 5]\n",
    "\n",
    "print('浅拷贝')\n",
    "b = copy.copy(a)\n",
    "print(b)\n",
    "\n",
    "print('深拷贝')\n",
    "c = copy.deepcopy(a)\n",
    "print(c)\n",
    "\n",
    "print('改变原始列表中对象的值')\n",
    "a[1]['aa'] = 22\n",
    "print(a)\n",
    "\n",
    "print('再次查看浅拷贝的值')\n",
    "print(b)\n",
    "\n",
    "print('再次查看深拷贝的值')\n",
    "print(c)\n"
   ]
  },
  {
   "cell_type": "code",
   "execution_count": null,
   "metadata": {},
   "outputs": [],
   "source": []
  }
 ],
 "metadata": {
  "kernelspec": {
   "display_name": "Python 3",
   "language": "python",
   "name": "python3"
  },
  "language_info": {
   "codemirror_mode": {
    "name": "ipython",
    "version": 3
   },
   "file_extension": ".py",
   "mimetype": "text/x-python",
   "name": "python",
   "nbconvert_exporter": "python",
   "pygments_lexer": "ipython3",
   "version": "3.6.4"
  }
 },
 "nbformat": 4,
 "nbformat_minor": 2
}
