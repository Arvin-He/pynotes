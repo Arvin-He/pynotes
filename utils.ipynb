{
 "cells": [
  {
   "cell_type": "markdown",
   "metadata": {},
   "source": [
    "# 一些工具函数"
   ]
  },
  {
   "cell_type": "markdown",
   "metadata": {},
   "source": [
    "### 使用 Unix Shell 中常用的通配符 (比如 *.py , Dat[0-9]*.csv 等) 去匹配文本字符串"
   ]
  },
  {
   "cell_type": "code",
   "execution_count": 2,
   "metadata": {},
   "outputs": [
    {
     "name": "stdout",
     "output_type": "stream",
     "text": [
      "True\n"
     ]
    }
   ],
   "source": [
    "from fnmatch import fnmatch\n",
    "    \n",
    "allowed_domains = ['*.baidu.com']\n",
    "\n",
    "def match_domains(domain):\n",
    "    global allowed_domains\n",
    "    for item in allowed_domains:\n",
    "        if domain == item:\n",
    "            return True\n",
    "        else:\n",
    "            if fnmatch(domain, item):\n",
    "                return True\n",
    "    return False\n",
    "\n",
    "mydomain = 'a.f.baidu.com'\n",
    "\n",
    "res = match_domains(mydomain)\n",
    "\n",
    "print(res)"
   ]
  },
  {
   "cell_type": "markdown",
   "metadata": {},
   "source": [
    "### 函数执行耗时装饰器"
   ]
  },
  {
   "cell_type": "code",
   "execution_count": 4,
   "metadata": {},
   "outputs": [
    {
     "name": "stdout",
     "output_type": "stream",
     "text": [
      "[Function: my_func start...]\n",
      "[Function: my_func finished, spent time: 3.00s]\n"
     ]
    }
   ],
   "source": [
    "import time\n",
    "import logging\n",
    "from functools import wraps\n",
    "\n",
    "def time_counter(function):\n",
    "    @wraps(function)\n",
    "    def function_timer(*args, **kwargs):\n",
    "        print('[Function: {} start...]'.format(function.__name__))\n",
    "        t0 = time.time()\n",
    "        result = function(*args, **kwargs)\n",
    "        t1 = time.time()\n",
    "        print('[Function: {} finished, spent time: {:.2f}s]'.format(function.__name__, t1 - t0))\n",
    "        return result\n",
    "    return function_timer\n",
    "\n",
    "@time_counter\n",
    "def my_func():\n",
    "    time.sleep(3)\n",
    "    \n",
    "my_func()"
   ]
  },
  {
   "cell_type": "markdown",
   "metadata": {},
   "source": [
    "### 密码md5加密和SHA1加密"
   ]
  },
  {
   "cell_type": "markdown",
   "metadata": {},
   "source": [
    "md5生成一个128bit的结果，通常用32位的16进制字符串表示 "
   ]
  },
  {
   "cell_type": "code",
   "execution_count": 1,
   "metadata": {},
   "outputs": [
    {
     "name": "stdout",
     "output_type": "stream",
     "text": [
      "b24331b1a138cde62aa1f679164fc62f\n",
      "32\n"
     ]
    }
   ],
   "source": [
    "import hashlib\n",
    "\n",
    "def crypto_password(pwd):\n",
    "    md_5 = hashlib.md5()\n",
    "    md_5.update(pwd.encode('utf8'))\n",
    "    return md_5.hexdigest()\n",
    "\n",
    "print(crypto_password('abc@123'))\n",
    "print(len(str(crypto_password('abc@123'))))"
   ]
  },
  {
   "cell_type": "markdown",
   "metadata": {},
   "source": [
    "sha1生成一个160bit的结果，通常用40位的16进制字符串表示"
   ]
  },
  {
   "cell_type": "code",
   "execution_count": 3,
   "metadata": {},
   "outputs": [
    {
     "name": "stdout",
     "output_type": "stream",
     "text": [
      "7ba80c3cb4f187c314c43cbf778e009b940ef3ef\n",
      "40\n",
      "df2b6a57a71dfdba480bcab9f5f22585f87599ea\n"
     ]
    }
   ],
   "source": [
    "import hashlib\n",
    "\n",
    "def crypto_password(pwd):\n",
    "    md_5 = hashlib.md5()\n",
    "    md_5.update(pwd.encode('utf8'))\n",
    "    md5_pwd = md_5.hexdigest()\n",
    "    sha1 = hashlib.sha1()\n",
    "    sha1.update(md5_pwd.encode('utf8'))\n",
    "    sha1_pwd = sha1.hexdigest()\n",
    "    return sha1_pwd\n",
    "\n",
    "print(crypto_password('abc@123'))\n",
    "print(len(str(crypto_password('abc@123'))))\n",
    "print(crypto_password('Hector@123456'))"
   ]
  },
  {
   "cell_type": "code",
   "execution_count": null,
   "metadata": {},
   "outputs": [],
   "source": []
  }
 ],
 "metadata": {
  "kernelspec": {
   "display_name": "Python 3",
   "language": "python",
   "name": "python3"
  },
  "language_info": {
   "codemirror_mode": {
    "name": "ipython",
    "version": 3
   },
   "file_extension": ".py",
   "mimetype": "text/x-python",
   "name": "python",
   "nbconvert_exporter": "python",
   "pygments_lexer": "ipython3",
   "version": "3.6.2"
  }
 },
 "nbformat": 4,
 "nbformat_minor": 2
}
