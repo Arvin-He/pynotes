{
 "cells": [
  {
   "cell_type": "markdown",
   "metadata": {},
   "source": [
    "# 内建数据结构和函数"
   ]
  },
  {
   "cell_type": "markdown",
   "metadata": {},
   "source": [
    "## 创建tuple"
   ]
  },
  {
   "cell_type": "code",
   "execution_count": 13,
   "metadata": {},
   "outputs": [
    {
     "data": {
      "text/plain": [
       "(4, 5, 6)"
      ]
     },
     "execution_count": 13,
     "metadata": {},
     "output_type": "execute_result"
    }
   ],
   "source": [
    "tup = 4, 5, 6\n",
    "tup"
   ]
  },
  {
   "cell_type": "code",
   "execution_count": 11,
   "metadata": {},
   "outputs": [
    {
     "data": {
      "text/plain": [
       "(1, 2, 3)"
      ]
     },
     "execution_count": 11,
     "metadata": {},
     "output_type": "execute_result"
    }
   ],
   "source": [
    "tup = (1, 2, 3)\n",
    "tup"
   ]
  },
  {
   "cell_type": "code",
   "execution_count": 12,
   "metadata": {},
   "outputs": [
    {
     "data": {
      "text/plain": [
       "(4, 5, 6)"
      ]
     },
     "execution_count": 12,
     "metadata": {},
     "output_type": "execute_result"
    }
   ],
   "source": [
    "tup = tuple([4, 5, 6])\n",
    "tup"
   ]
  },
  {
   "cell_type": "code",
   "execution_count": 15,
   "metadata": {},
   "outputs": [
    {
     "data": {
      "text/plain": [
       "('s', 't', 'r', 'i', 'n', 'g')"
      ]
     },
     "execution_count": 15,
     "metadata": {},
     "output_type": "execute_result"
    }
   ],
   "source": [
    "tup = tuple('string')\n",
    "tup"
   ]
  },
  {
   "cell_type": "code",
   "execution_count": 17,
   "metadata": {},
   "outputs": [
    {
     "data": {
      "text/plain": [
       "(4, None, 'foo', 6, 0, 'bar')"
      ]
     },
     "execution_count": 17,
     "metadata": {},
     "output_type": "execute_result"
    }
   ],
   "source": [
    "(4, None, 'foo') + (6, 0) + ('bar',) # 注意:单个元素的tuple在后面加\",\"否则tuple与函数调用无法区分了"
   ]
  },
  {
   "cell_type": "code",
   "execution_count": 18,
   "metadata": {},
   "outputs": [
    {
     "data": {
      "text/plain": [
       "((4, 5, 6), (7, 8))"
      ]
     },
     "execution_count": 18,
     "metadata": {},
     "output_type": "execute_result"
    }
   ],
   "source": [
    "tup = (4, 5, 6), (7, 8)\n",
    "tup"
   ]
  },
  {
   "cell_type": "code",
   "execution_count": 19,
   "metadata": {},
   "outputs": [
    {
     "ename": "TypeError",
     "evalue": "tuple() takes at most 1 argument (3 given)",
     "output_type": "error",
     "traceback": [
      "\u001b[1;31m---------------------------------------------------------------------------\u001b[0m",
      "\u001b[1;31mTypeError\u001b[0m                                 Traceback (most recent call last)",
      "\u001b[1;32m<ipython-input-19-5c2d6c7febfc>\u001b[0m in \u001b[0;36m<module>\u001b[1;34m()\u001b[0m\n\u001b[1;32m----> 1\u001b[1;33m \u001b[0mtup\u001b[0m \u001b[1;33m=\u001b[0m \u001b[0mtuple\u001b[0m\u001b[1;33m(\u001b[0m\u001b[1;36m1\u001b[0m\u001b[1;33m,\u001b[0m \u001b[1;36m3\u001b[0m\u001b[1;33m,\u001b[0m \u001b[1;36m5\u001b[0m\u001b[1;33m)\u001b[0m \u001b[1;31m# 这是错误的!创建tuple,只能接受一个参数\u001b[0m\u001b[1;33m\u001b[0m\u001b[0m\n\u001b[0m\u001b[0;32m      2\u001b[0m \u001b[0mtup\u001b[0m\u001b[1;33m\u001b[0m\u001b[0m\n",
      "\u001b[1;31mTypeError\u001b[0m: tuple() takes at most 1 argument (3 given)"
     ]
    }
   ],
   "source": [
    "tup = tuple(1, 3, 5) # 这是错误的!创建tuple,只能接受一个参数\n",
    "tup"
   ]
  },
  {
   "cell_type": "markdown",
   "metadata": {},
   "source": [
    "## Unpacking tuples"
   ]
  },
  {
   "cell_type": "code",
   "execution_count": 20,
   "metadata": {},
   "outputs": [
    {
     "data": {
      "text/plain": [
       "5"
      ]
     },
     "execution_count": 20,
     "metadata": {},
     "output_type": "execute_result"
    }
   ],
   "source": [
    "tup = (4, 5, 6)\n",
    "a, b, c = tup\n",
    "b"
   ]
  },
  {
   "cell_type": "code",
   "execution_count": null,
   "metadata": {},
   "outputs": [],
   "source": [
    "tup = 4, 5, (6, 7)\n",
    "a, b, (c, d)"
   ]
  },
  {
   "cell_type": "markdown",
   "metadata": {},
   "source": [
    "### 列表操作"
   ]
  },
  {
   "cell_type": "markdown",
   "metadata": {},
   "source": [
    "#### 去除相邻相同元素,只保留一个"
   ]
  },
  {
   "cell_type": "markdown",
   "metadata": {},
   "source": [
    "给出一个列表,输出去除相邻相同元素,且只保留一个.\n",
    "\n",
    "输入: aa = [1, 3, 5, 5, 5, 3, 2, 1, 1, 2, 3, 3]\n",
    "\n",
    "输出: bb = [1, 3, 5, 3, 2, 1, 2, 3]"
   ]
  },
  {
   "cell_type": "code",
   "execution_count": 18,
   "metadata": {},
   "outputs": [
    {
     "name": "stdout",
     "output_type": "stream",
     "text": [
      "12\n",
      "[1, 3, 5, 3, 2, 1, 2, 3]\n"
     ]
    }
   ],
   "source": [
    "aa = [1, 3, 5, 5, 5, 3, 2, 1, 1, 2, 3, 3]\n",
    "print(len(aa))\n",
    "\n",
    "bb = [item for i, item in enumerate(aa[1:]) if aa[i]!=aa[i+1] and len(aa)>1]\n",
    "bb.insert(0, aa[0])\n",
    "print(bb)"
   ]
  },
  {
   "cell_type": "markdown",
   "metadata": {},
   "source": [
    "#### 两两取出列表数据"
   ]
  },
  {
   "cell_type": "code",
   "execution_count": 23,
   "metadata": {},
   "outputs": [
    {
     "name": "stdout",
     "output_type": "stream",
     "text": [
      "[['bad', 'good'], ['bad', 'good'], ['bad', 'good'], ['bad', 'good']]\n",
      "[['bad', 'good'], ['bad', 'good'], ['bad', 'good']]\n"
     ]
    }
   ],
   "source": [
    "a1 = ['bad', 'good', 'bad', 'good', 'bad', 'good', 'bad', 'good']\n",
    "a2 = ['bad', 'good', 'bad', 'good', 'bad', 'good', 'bad']\n",
    "\n",
    "\n",
    "print([a1[i:i+2] for i in range(len(a1)-1) if i%2 == 0])\n",
    "\n",
    "print([a2[i:i+2] for i in range(len(a2)-1) if i%2 == 0])\n",
    "    "
   ]
  },
  {
   "cell_type": "markdown",
   "metadata": {},
   "source": [
    "### 字符串操作"
   ]
  },
  {
   "cell_type": "raw",
   "metadata": {},
   "source": [
    "from pprint import pprint\n",
    "pprint(dir(str))"
   ]
  },
  {
   "cell_type": "markdown",
   "metadata": {},
   "source": [
    "### dict操作"
   ]
  },
  {
   "cell_type": "markdown",
   "metadata": {},
   "source": [
    "#### dict更新操作"
   ]
  },
  {
   "cell_type": "code",
   "execution_count": 8,
   "metadata": {},
   "outputs": [
    {
     "name": "stdout",
     "output_type": "stream",
     "text": [
      "{'method': 'GET',\n",
      " 'req_headers': {'Accept-Encoding': 'gzip, deflate',\n",
      "                 'Accept-Language': 'en-US,en;q=0.5',\n",
      "                 'Connection': 'keep-alive',\n",
      "                 'User-Agent': 'Mozilla/5.0 Windows; U; Windows NT 5.1; zh-CN'},\n",
      " 'resp_content': {'$binary': 'PCFET0NUWVBFIGh0bWw+CjwhLS1TVEFUVVMgT0stLTh0bWw+Cg0KDQoNCgoNCg==',\n",
      "                  '$type': '00'},\n",
      " 'resp_headers': {'Connection': 'Keep-Alive',\n",
      "                  'Content-Encoding': 'gzip',\n",
      "                  'Content-Type': 'text/html; charset=utf-8'},\n",
      " 'status_code': 200,\n",
      " 'time': datetime.datetime(2018, 5, 11, 17, 34, 37, 192920),\n",
      " 'title': '百度一下,你就知道',\n",
      " 'url': 'https://www.baidu.com:443/'}\n"
     ]
    }
   ],
   "source": [
    "from datetime import datetime\n",
    "from pprint import pprint\n",
    "\n",
    "dict_a = {\n",
    "    \"req_headers\":{\n",
    "        \"User-Agent\" : \"Mozilla/5.0 Windows; U; Windows NT 5.1; zh-CN\",\n",
    "        \"Accept-Encoding\" : \"gzip, deflate\",\n",
    "        \"Connection\" : \"keep-alive\",\n",
    "        \"Accept-Language\" : \"en-US,en;q=0.5\"\n",
    "    },\n",
    "    \"method\": \"GET\",\n",
    "    \"resp_headers\": {\n",
    "        \"Connection\" : \"Keep-Alive\",\n",
    "        \"Content-Encoding\" : \"gzip\",\n",
    "        \"Content-Type\" : \"text/html; charset=utf-8\",\n",
    "    },\n",
    "    \"resp_content\": { \"$binary\" : \"PCFET0NUWVBFIGh0bWw+CjwhLS1TVEFUVVMgT0stLTh0bWw+Cg0KDQoNCgoNCg==\", \"$type\" : \"00\" },\n",
    "    \"status_code\": 200, \n",
    "    \"url\": \"https://www.baidu.com:443/\"\n",
    "}\n",
    "\n",
    "dict_b = {\n",
    "    \"title\": \"百度一下,你就知道\"\n",
    "}\n",
    "\n",
    "dict_b.update(dict_a)\n",
    "\n",
    "dict_b['time'] = datetime.now()\n",
    "\n",
    "pprint(dict_b)\n"
   ]
  },
  {
   "cell_type": "markdown",
   "metadata": {},
   "source": [
    "#### dict删除一个key"
   ]
  },
  {
   "cell_type": "code",
   "execution_count": null,
   "metadata": {},
   "outputs": [],
   "source": [
    "# 要删除一个key，用pop(key)方法，对应的value也会从dict中删除\n",
    "dict.pop('keyname')"
   ]
  },
  {
   "cell_type": "markdown",
   "metadata": {},
   "source": [
    "### dict基本操作"
   ]
  },
  {
   "cell_type": "code",
   "execution_count": 13,
   "metadata": {},
   "outputs": [
    {
     "name": "stdout",
     "output_type": "stream",
     "text": [
      "清空字典\n",
      "{}\n",
      "===============================\n",
      "拷贝字典\n",
      "{'a': 1, 'b': 2, 'c': 3, 'd': 4}\n",
      "{'a': 1, 'b': 2, 'c': 3, 'd': 4}\n",
      "============================\n",
      "创建一个（不）含默认值的字典\n",
      "{'a': 123, 'b': 123, 'c': 123}\n",
      "============================\n",
      "获取字典对应key的值\n",
      "1\n",
      "None\n",
      "============================\n",
      "遍历字典的key和value\n",
      "dict_items([('a', 1), ('b', 2), ('c', 3), ('d', 4), ('e', 5)])\n",
      "dict_keys(['a', 'b', 'c', 'd', 'e'])\n",
      "dict_values([1, 2, 3, 4, 5])\n",
      "============================\n",
      "{'a': 1, 'b': 2, 'c': 3, 'd': 4, 'e': 5}\n",
      "删除字典的一个值\n",
      "4\n",
      "{'a': 1, 'b': 2, 'c': 3, 'e': 5}\n",
      "============================\n",
      "删除字典的一个item\n",
      "{'a': 1, 'b': 2, 'c': 3, 'e': 5}\n",
      "('d', 4)\n",
      "{'a': 1, 'b': 2, 'c': 3}\n",
      "============================\n",
      "添加键并将值设为默认值\n",
      "{'a': 1, 'b': 2, 'c': 3, 'd': 4}\n",
      "{'a': 1, 'b': 2, 'c': 3, 'd': 4, 'aa': 111}\n",
      "============================\n",
      "更新字典\n",
      "{'a': 5, 'b': 2, 'c': 3, 'd': 4, 'AA': 11, 'BB': 22}\n"
     ]
    }
   ],
   "source": [
    "a = {'a': 1, 'b': 2, 'c': 3, 'd': 4}\n",
    "# 清空字典\n",
    "print(\"清空字典\")\n",
    "a.clear()\n",
    "print(a)\n",
    "print('===============================')\n",
    "      \n",
    "# 字典拷贝,注意是浅拷贝,慎用\n",
    "a = {'a': 1, 'b': 2, 'c': 3, 'd': 4}\n",
    "print(\"拷贝字典\")\n",
    "b = a.copy()\n",
    "print(b)\n",
    "a['e'] = 5\n",
    "print(b)\n",
    "\n",
    "print(\"============================\")    \n",
    "print('创建一个（不）含默认值的字典')\n",
    "kk = ['a', 'b', 'c']\n",
    "print(dict.fromkeys(kk, 123))\n",
    "\n",
    "print(\"============================\")\n",
    "print('获取字典对应key的值')\n",
    "print(a.get('a'))\n",
    "print(a.get('f'))\n",
    "print(\"============================\")\n",
    "print('遍历字典的key和value')\n",
    "print(a.items())\n",
    "print(a.keys())\n",
    "print(a.values())\n",
    "print(\"============================\")\n",
    "print(a)\n",
    "print('删除字典的一个值')\n",
    "print(a.pop('d'))\n",
    "print(a)\n",
    "\n",
    "print(\"============================\")\n",
    "print('删除字典的一个item')\n",
    "print(a)\n",
    "a = {'a': 1, 'b': 2, 'c': 3, 'd': 4}\n",
    "print(a.popitem())\n",
    "print(a)\n",
    "\n",
    "print(\"============================\")\n",
    "print('添加键并将值设为默认值')\n",
    "a = {'a': 1, 'b': 2, 'c': 3, 'd': 4} \n",
    "print(a)\n",
    "#  setdefault() 函数和get() 方法类似, 如果键不存在于字典中，将会添加键并将值设为默认值\n",
    "a.setdefault('aa', 111)\n",
    "print(a)\n",
    "\n",
    "print(\"============================\")\n",
    "print('更新字典')\n",
    "a = {'a': 1, 'b': 2, 'c': 3, 'd': 4}      \n",
    "b = {'a':5, 'b': 2, 'AA': 11, 'BB':22}\n",
    "a.update(b)\n",
    "print(a)"
   ]
  },
  {
   "cell_type": "code",
   "execution_count": 8,
   "metadata": {},
   "outputs": [
    {
     "name": "stdout",
     "output_type": "stream",
     "text": [
      "has no key aa\n",
      "has no key\n"
     ]
    }
   ],
   "source": [
    "dir(dict)\n",
    "a = {}\n",
    "if 'aa' in a.keys():\n",
    "    print('has key aa')\n",
    "else:\n",
    "    print('has no key aa')\n",
    "\n",
    "if '' in a.keys():\n",
    "    print('has key')\n",
    "else:\n",
    "    print('has no key')\n",
    "    \n",
    "    \n"
   ]
  },
  {
   "cell_type": "markdown",
   "metadata": {},
   "source": [
    "### for...else... 语法"
   ]
  },
  {
   "cell_type": "code",
   "execution_count": 13,
   "metadata": {},
   "outputs": [
    {
     "name": "stdout",
     "output_type": "stream",
     "text": [
      "0\n",
      "1\n",
      "2\n",
      "3\n",
      "4\n",
      "enter else\n",
      "====================\n",
      "enter else\n",
      "0\n",
      "1\n",
      "2\n",
      "enter else: i=9\n",
      "no equal, i=0\n",
      "no equal, i=1\n",
      "no equal, i=2\n",
      "no equal, i=3\n",
      "no equal, i=4\n",
      "no equal, i=5\n",
      "no equal, i=6\n",
      "no equal, i=7\n",
      "no equal, i=8\n",
      "no equal, i=9\n",
      "i=j=10\n",
      "i=j=11\n",
      "i=j=12\n",
      "i=j=13\n",
      "i=j=14\n",
      "i=j=15\n",
      "i=j=16\n",
      "i=j=17\n",
      "i=j=18\n",
      "i=j=19\n",
      "no equal, i=20\n",
      "no equal, i=21\n",
      "no equal, i=22\n",
      "no equal, i=23\n",
      "no equal, i=24\n",
      "no equal, i=25\n",
      "no equal, i=26\n",
      "no equal, i=27\n",
      "no equal, i=28\n",
      "no equal, i=29\n",
      "0\n",
      "1\n",
      "2\n",
      "3\n"
     ]
    }
   ],
   "source": [
    "for i in range(5):\n",
    "    print(i)\n",
    "else:\n",
    "    print(\"enter else\")\n",
    "    \n",
    "print(\"====================\")    \n",
    "    \n",
    "for i in []:\n",
    "    print(i)\n",
    "else:\n",
    "    print(\"enter else\")\n",
    "    \n",
    "for i in range(10):\n",
    "    if i > 2:\n",
    "        continue\n",
    "    print(i)\n",
    "else:\n",
    "    print('enter else: i={}'.format(i))\n",
    "    \n",
    "    \n",
    "for i in range(30):\n",
    "    for j in range(10, 20):\n",
    "        if i == j:\n",
    "            print('i=j={}'.format(i))\n",
    "            break\n",
    "    else:\n",
    "        print('no equal, i={}'.format(i))\n",
    "        \n",
    "        \n",
    "for i in range(10):\n",
    "    if i > 3:\n",
    "        break\n",
    "    print(i)\n",
    "else:\n",
    "    print('laaaaaa')\n",
    "        "
   ]
  },
  {
   "cell_type": "markdown",
   "metadata": {},
   "source": [
    "### 浮点数格式化"
   ]
  },
  {
   "cell_type": "markdown",
   "metadata": {},
   "source": [
    "浮点数执行指定精度的舍入运算, 使用内置的 `round(value, ndigits)` 函数即可"
   ]
  },
  {
   "cell_type": "code",
   "execution_count": 3,
   "metadata": {},
   "outputs": [
    {
     "name": "stdout",
     "output_type": "stream",
     "text": [
      "1.237\n",
      "0.0043\n"
     ]
    }
   ],
   "source": [
    "print(round(1.23655, 3))\n",
    "\n",
    "print(round(1/230, 4))"
   ]
  },
  {
   "cell_type": "markdown",
   "metadata": {},
   "source": [
    "### 深拷贝与浅拷贝"
   ]
  },
  {
   "cell_type": "code",
   "execution_count": 5,
   "metadata": {},
   "outputs": [
    {
     "name": "stdout",
     "output_type": "stream",
     "text": [
      "浅拷贝\n",
      "[1, {'aa': 123}, 5]\n",
      "深拷贝\n",
      "[1, {'aa': 123}, 5]\n",
      "改变原始列表中对象的值\n",
      "[1, {'aa': 22}, 5]\n",
      "再次查看浅拷贝的值\n",
      "[1, {'aa': 22}, 5]\n",
      "再次查看深拷贝的值\n",
      "[1, {'aa': 123}, 5]\n"
     ]
    }
   ],
   "source": [
    "import copy\n",
    "\n",
    "a = [1, {'aa': 123}, 5]\n",
    "\n",
    "print('浅拷贝')\n",
    "b = copy.copy(a)\n",
    "print(b)\n",
    "\n",
    "print('深拷贝')\n",
    "c = copy.deepcopy(a)\n",
    "print(c)\n",
    "\n",
    "print('改变原始列表中对象的值')\n",
    "a[1]['aa'] = 22\n",
    "print(a)\n",
    "\n",
    "print('再次查看浅拷贝的值')\n",
    "print(b)\n",
    "\n",
    "print('再次查看深拷贝的值')\n",
    "print(c)\n"
   ]
  },
  {
   "cell_type": "markdown",
   "metadata": {},
   "source": [
    "### 在循环中广播获取列表内容"
   ]
  },
  {
   "cell_type": "code",
   "execution_count": 3,
   "metadata": {},
   "outputs": [
    {
     "name": "stdout",
     "output_type": "stream",
     "text": [
      "0\n",
      "1\n",
      "2\n",
      "3\n",
      "4\n",
      "0\n",
      "1\n",
      "2\n",
      "3\n",
      "4\n",
      "0\n",
      "1\n",
      "2\n",
      "3\n"
     ]
    }
   ],
   "source": [
    "\n",
    "check_item = ['aaa', 'bbb', 'ccc', 'ddd', 'eee']\n",
    "\n",
    "for i in range(14):\n",
    "    idx = i%len(check_item)\n",
    "    print(idx, check_item[])"
   ]
  },
  {
   "cell_type": "code",
   "execution_count": null,
   "metadata": {},
   "outputs": [],
   "source": [
    "# ****************list 操作*****************************************\n",
    "# 列表操作包含以下方法:\n",
    "list.append(obj)：在列表末尾添加新的对象\n",
    "list.clear(): 清空列表\n",
    "list.count(obj)：统计某个元素在列表中出现的次数\n",
    "list.extend(seq)：在列表末尾一次性追加另一个序列中的多个值（用新列表扩展原来的列表）\n",
    "list.index(obj)：从列表中找出某个值第一个匹配项的索引位置\n",
    "list.insert(index, obj)：将对象插入列表\n",
    "list.pop(obj=list[-1])：移除列表中的一个元素（默认最后一个元素），并且返回该元素的值\n",
    "list.remove(obj)：移除列表中某个值的第一个匹配项\n",
    "list.reverse()：反向列表中元素\n",
    "list.sort([func])：对原列表进行排序\n",
    "list(seq)：将元组转换为列表\n",
    "In[11]: list(range(3))\n",
    "Out[11]: [0, 1, 2]\n",
    "\n",
    "len(list)：列表元素个数\n",
    "max(list)：返回列表元素最大值\n",
    "min(list)：返回列表元素最小值\n",
    "\n",
    "# ******************tuple操作**********************************************\n",
    "# tuple和list非常类似，但是tuple一旦初始化就不能修改,不可以增删改, 没有append，insert, extend , remove , pop这样的方法\n",
    "# 与 list 一样分片 (slice) 也可以使用。注意当分割一个 list 时, 会得到一个新的 list ；当分割一个 tuple 时, 会得到一个新的 tuple\n",
    "# Tuple 比 list 操作速度快。如果您定义了一个值的常量集，并且唯一要用它做的是不断地遍历它，请使用 tuple 代替 list。\n",
    "# 如果对不需要修改的数据进行 “写保护”，可以使代码更安全。使用 tuple 而不是 list 如同拥有一个隐含的 assert 语句，说明这一数据是常量。如果必须要改变这些值，则需要执行 tuple 到 list 的转换。\n",
    "tuple.count(obj)：查找元素在tuple中出现的次数。\n",
    "tuple.index(obj)：查找元素的第一个匹配项的索引位置\n",
    "tuple(seq)：将列表转换为元组。\n",
    "\n",
    "In[7]: tup1 = (1, 2, 3)\n",
    "In[8]: tup2 = (2, 3, 4)\n",
    "In[9]: tup3 = tup1 + tup2\n",
    "In[10]: tup3\n",
    "Out[10]: (1, 2, 3, 2, 3, 4)\n",
    "\n",
    "len(tuple)：计算元组元素个数。\n",
    "max(tuple)：返回元组中元素最大值。\n",
    "min(tuple)：返回元组中元素最小值。\n",
    "\n",
    "# ***************************dict操作***********************************************\n",
    "# 删除d中的所有元素\n",
    "dict.clear()\n",
    "# dict.copy()是一个浅拷贝，当遇到字典或者列表时，将不能完全拷贝。使用copy模块的deepcopy()方法。\n",
    "dict.copy()\n",
    "dict.fromkeys()\n",
    "dict.get()\n",
    "dict.items()\n",
    "dict.keys()\n",
    "# # 删除键为a的元素,并返回删除对应key的值\n",
    "dict.pop(key)\n",
    "dict.popitem()\n",
    "dict.setdefault()\n",
    "dict.update()\n",
    "dict.values()\n",
    "# 创建\n",
    "d = {'a': 1, 'b': 2, 'c': 3}\n",
    "d = dict({'a': 1, 'b': 2, 'c': 3})\n",
    "d = dict([('a', 1), ('b', 2), ('c', 3)])\n",
    "d = dict(a=1, b=2, c=3)\n",
    "d = dict(zip(['a', 'b', 'c'], [1, 2, 3]))  # 这个方法也可以用作将两个列表合并成一个字典\n",
    "# 遍历\n",
    "d = dict(a=1, b=2, c=3)\n",
    "for k, v in d.items():\n",
    "    print(k, v)\n",
    "# 合并两个字典,注意: 此时的两个字典的键必须是字符串,否则报错\n",
    "dict1 = {'a': 1, 'b': 2, 'c': 3}\n",
    "dict2 = {'d': 4, 'e': 5, 'f': 6}\n",
    "dict(dict1, **dict2)\n",
    ">>> {'a': 1, 'b': 2, 'c': 3, 'd': 4, 'e': 5, 'f': 6}\n",
    "\n",
    "# 排序\n",
    "# 调用sorted()排序\n",
    "dict = {\"a\": \"apple\", \"b\": \"grape\", \"c\": \"orange\", \"d\": \"banana\"}\n",
    "# 按照key排序\n",
    "print(sorted(dict.items(), key=lambda d: d[0]))\n",
    "# 按照value排序\n",
    "print(sorted(dict.items(), key=lambda d: d[1]))\n",
    "\n",
    "\n",
    "# ***************************set操作*******************************\n",
    "# set作为一个无序的集合，sets不记录元素位置或者插入点。因此，sets不支持 indexing, slicing, 或其它类序列（sequence-like）的操作。\n",
    "t = set(listobj)\n",
    "s = set(listobj)\n",
    "# t 和 s的并集\n",
    "a = t | s\n",
    "# t 和 s的交集\n",
    "b = t & s\n",
    "# 求差集（项在t中，但不在s中）\n",
    "c = t - s\n",
    "# 对称差集（项在t或s中，但不会同时出现在二者中）\n",
    "d = t ^ s\n",
    "\n",
    "# 基本操作\n",
    "# 添加一项\n",
    "set.add('x')\n",
    "# 在s中添加多项\n",
    "set.update([10, 37, 42])\n",
    "# 删除指定元素, 如果不存在则引发 KeyError\n",
    "set.remove('H')\n",
    "# 如果在 set “s”中存在元素 x, 则删除\n",
    "set.discard(x)\n",
    "# 删除并且返回 set “s”中的一个不确定的元素, 如果为空则引发 KeyError\n",
    "set.pop()\n",
    "# 删除 set “s”中的所有元素\n",
    "set.clear()\n",
    "# 返回 set “s”的一个浅复制\n",
    "set.copy()\n",
    "# 测试是否 s 中的每一个元素都在 t 中\n",
    "set.issubset(t)\n",
    "# 测试是否 t 中的每一个元素都在 s 中\n",
    "set.issuperset(t)\n",
    "# 返回一个新的 set 包含 s 和 t 中的每一个元素 ,等同于s | t\n",
    "set.union(t)\n",
    "# 返回一个新的 set 包含 s 和 t 中的公共元素, 等同于s & t\n",
    "set.intersection(t)\n",
    "# 返回一个新的 set 包含 s 中有但是 t 中没有的元素, 等同于s - t\n",
    "set.difference(t)\n",
    "# 返回一个新的 set 包含 s 和 t 中不重复的元素, s ^ t\n",
    "set.symmetric_difference(t)\n",
    "\n",
    "# 返回集合的元素个数\n",
    "len(s)\n",
    "# 判x断x是否在s集合中\n",
    "x in s\n",
    "\n",
    "'''请注意：union(), intersection(), difference() 和 symmetric_difference() 的非运算符（non-operator，\n",
    "就是形如 s.union()这样的）版本将会接受任何 iterable 作为参数。\n",
    "相反，它们的运算符版本（operator based counterparts）要求参数必须是 sets。'''"
   ]
  },
  {
   "cell_type": "code",
   "execution_count": 7,
   "metadata": {},
   "outputs": [
    {
     "name": "stdout",
     "output_type": "stream",
     "text": [
      "14.10% ↑\n"
     ]
    },
    {
     "data": {
      "text/plain": [
       "0.14102564102564102"
      ]
     },
     "execution_count": 7,
     "metadata": {},
     "output_type": "execute_result"
    }
   ],
   "source": [
    "today_score = 89\n",
    "yesterday_score = 78\n",
    "\n",
    "ratio = '{:.2f}% ↑'.format(abs(today_score-yesterday_score)/yesterday_score*100)\n",
    "print(ratio)\n",
    "\n",
    "(89-78)/78"
   ]
  },
  {
   "cell_type": "code",
   "execution_count": null,
   "metadata": {},
   "outputs": [],
   "source": []
  }
 ],
 "metadata": {
  "kernelspec": {
   "display_name": "Python 3",
   "language": "python",
   "name": "python3"
  },
  "language_info": {
   "codemirror_mode": {
    "name": "ipython",
    "version": 3
   },
   "file_extension": ".py",
   "mimetype": "text/x-python",
   "name": "python",
   "nbconvert_exporter": "python",
   "pygments_lexer": "ipython3",
   "version": "3.6.4"
  }
 },
 "nbformat": 4,
 "nbformat_minor": 2
}
