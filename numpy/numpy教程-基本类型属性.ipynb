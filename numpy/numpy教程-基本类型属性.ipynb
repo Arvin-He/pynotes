{
 "cells": [
  {
   "cell_type": "markdown",
   "metadata": {},
   "source": [
    "# numpy教程-基本类型属性"
   ]
  },
  {
   "cell_type": "markdown",
   "metadata": {},
   "source": [
    "### 安装"
   ]
  },
  {
   "cell_type": "code",
   "execution_count": null,
   "metadata": {},
   "outputs": [],
   "source": [
    "pip install numpy"
   ]
  },
  {
   "cell_type": "markdown",
   "metadata": {},
   "source": [
    "### Ndarray 对象"
   ]
  },
  {
   "cell_type": "markdown",
   "metadata": {},
   "source": [
    "NumPy 中定义的最重要的对象是称为 ndarray 的 N 维数组类型。 它描述相同类型的元素集合。\n",
    "\n",
    "ndarray中的每个元素在内存中使用相同大小的块。 ndarray中的每个元素是数据类型对象的对象（称为 dtype）。"
   ]
  },
  {
   "cell_type": "markdown",
   "metadata": {},
   "source": [
    "### 创建ndarray"
   ]
  },
  {
   "cell_type": "markdown",
   "metadata": {},
   "source": [
    "创建ndarray是使用 NumPy 中的数组函数创建的,即numpy.array"
   ]
  },
  {
   "cell_type": "code",
   "execution_count": null,
   "metadata": {},
   "outputs": [],
   "source": [
    "numpy.array(object, dtype = None, copy = True, order = None, subok = False, ndmin = 0)"
   ]
  },
  {
   "cell_type": "markdown",
   "metadata": {},
   "source": [
    "1. object 任何暴露数组接口方法的对象都会返回一个数组或任何（嵌套）序列。\n",
    "2. dtype 数组的所需数据类型，可选。\n",
    "3. copy 可选，默认为true，对象是否被复制。\n",
    "4. order C（按行）、F（按列）或A（任意，默认）。\n",
    "5. subok 默认情况下，返回的数组被强制为基类数组。 如果为true，则返回子类。\n",
    "6. ndimin 指定返回数组的最小维数。"
   ]
  },
  {
   "cell_type": "markdown",
   "metadata": {},
   "source": [
    "### 创建ndarray示例"
   ]
  },
  {
   "cell_type": "code",
   "execution_count": 4,
   "metadata": {},
   "outputs": [
    {
     "name": "stdout",
     "output_type": "stream",
     "text": [
      "[1 2 3]\n",
      "[[1 2 3]\n",
      " [4 5 6]]\n",
      "[[1 2 3 4]]\n",
      "[1.+0.j 2.+0.j 3.+0.j]\n"
     ]
    }
   ],
   "source": [
    "import numpy as np\n",
    "\n",
    "a = np.array([1, 2, 3])\n",
    "\n",
    "b = np.array([[1,2,3], [4, 5, 6]])\n",
    "\n",
    "c = np.array([1,2,3,4], ndmin=2)\n",
    "\n",
    "d = np.array([1,2,3], dtype=complex)\n",
    "\n",
    "print(a)\n",
    "print(b)\n",
    "print(c)\n",
    "print(d)"
   ]
  },
  {
   "cell_type": "markdown",
   "metadata": {},
   "source": [
    "### numpy中的数据类型"
   ]
  },
  {
   "cell_type": "markdown",
   "metadata": {},
   "source": [
    "1.\tbool_ 存储为一个字节的布尔值（真或假）\n",
    "2.\tint_ 默认整数，相当于 C 的long，通常为int32或int64\n",
    "3.\tintc 相当于 C 的int，通常为int32或int64\n",
    "4.\tintp 用于索引的整数，相当于 C 的size_t，通常为int32或int64\n",
    "5.\tint8 字节（-128 ~ 127）\n",
    "6.\tint16 16 位整数（-32768 ~ 32767）\n",
    "7.\tint32 32 位整数（-2147483648 ~ 2147483647）\n",
    "8.\tint64 64 位整数（-9223372036854775808 ~ 9223372036854775807）\n",
    "9.\tuint8 8 位无符号整数（0 ~ 255）\n",
    "10.\tuint16 16 位无符号整数（0 ~ 65535）\n",
    "11.\tuint32 32 位无符号整数（0 ~ 4294967295）\n",
    "12.\tuint64 64 位无符号整数（0 ~ 18446744073709551615）\n",
    "13.\tfloat_ float64的简写\n",
    "14.\tfloat16 半精度浮点：符号位，5 位指数，10 位尾数\n",
    "15.\tfloat32 单精度浮点：符号位，8 位指数，23 位尾数\n",
    "16.\tfloat64 双精度浮点：符号位，11 位指数，52 位尾数\n",
    "17.\tcomplex_ complex128的简写\n",
    "18.\tcomplex64 复数，由两个 32 位浮点表示（实部和虚部）\n",
    "19.\tcomplex128 复数，由两个 64 位浮点表示（实部和虚部）"
   ]
  },
  {
   "cell_type": "markdown",
   "metadata": {},
   "source": [
    "### 数据类型对象 (dtype)"
   ]
  },
  {
   "cell_type": "markdown",
   "metadata": {},
   "source": [
    "数据类型对象描述了对应于数组的固定内存块的解释，取决于以下方面：\n",
    "\n",
    "* 数据类型（整数、浮点或者 Python 对象）\n",
    "\n",
    "* 数据大小\n",
    "\n",
    "* 字节序（小端或大端）\n",
    "\n",
    "* 在结构化类型的情况下，字段的名称，每个字段的数据类型，和每个字段占用的内存块部分。\n",
    "\n",
    "* 如果数据类型是子序列，它的形状和数据类型。\n",
    "\n",
    "字节顺序取决于数据类型的前缀`<`或`>`。 \n",
    "\n",
    "`<`意味着编码是小端（最小有效字节存储在最小地址中）。\n",
    "\n",
    "`>`意味着编码是大端（最大有效字节存储在最小地址中）。"
   ]
  },
  {
   "cell_type": "markdown",
   "metadata": {},
   "source": [
    "dtype可由一下语法构造:"
   ]
  },
  {
   "cell_type": "code",
   "execution_count": null,
   "metadata": {},
   "outputs": [],
   "source": [
    "numpy.dtype(object, align, copy)"
   ]
  },
  {
   "cell_type": "markdown",
   "metadata": {},
   "source": [
    "参数为：\n",
    "\n",
    "* Object：被转换为数据类型的对象。\n",
    "\n",
    "* Align：如果为true，则向字段添加间隔，使其类似 C 的结构体。\n",
    "\n",
    "* Copy: 生成dtype对象的新副本，如果为flase，结果是内建数据类型对象的引用。"
   ]
  },
  {
   "cell_type": "markdown",
   "metadata": {},
   "source": [
    "### dtype创建示例"
   ]
  },
  {
   "cell_type": "code",
   "execution_count": 10,
   "metadata": {},
   "outputs": [
    {
     "name": "stdout",
     "output_type": "stream",
     "text": [
      "int32\n",
      "int32\n",
      ">i4\n",
      "[('age', 'i1')]\n",
      "[(10,) (20,) (30,)]\n",
      "[10 20 30]\n"
     ]
    }
   ],
   "source": [
    "import numpy as np\n",
    "\n",
    "dt1 = np.dtype(np.int32)\n",
    "print(dt1)\n",
    "#int8，int16，int32，int64 可替换为等价的字符串 'i1'，'i2'，'i4'，以及其他。\n",
    "dt2 = np.dtype('i4')\n",
    "print(dt2)\n",
    "# 使用端记号\n",
    "dt3 = np.dtype('>i4')\n",
    "print(dt3)\n",
    "# 创建结构化数据类型\n",
    "dt4 = np.dtype([('age', np.int8)])\n",
    "print(dt4)\n",
    "# 将数据类型应用到ndarray对象上\n",
    "dt5 = np.dtype([('age', np.int8)])\n",
    "a = np.array([(10,), (20,), (30,)], dtype=dt5)\n",
    "print(a)\n",
    "# 文件名称可用于访问 age 列的内容  \n",
    "print(a['age'])"
   ]
  },
  {
   "cell_type": "code",
   "execution_count": 15,
   "metadata": {},
   "outputs": [
    {
     "name": "stdout",
     "output_type": "stream",
     "text": [
      "[('name', 'S20'), ('age', 'i1'), ('marks', '<f4')]\n",
      "[(b'arvin', 21, 50.) (b'tom', 18, 75.) (b'jack', 26, 50.)]\n",
      "[b'arvin' b'tom' b'jack']\n",
      "[21 18 26]\n",
      "[50. 75. 50.]\n"
     ]
    }
   ],
   "source": [
    "import numpy as np\n",
    "\n",
    "std = np.dtype([('name', 'S20'), ('age', 'i1'), ('marks', 'f4')])\n",
    "print(std)\n",
    "\n",
    "a = np.array([('arvin', 21, 50), ('tom', 18, 75), ('jack', 26, 50)], dtype=std)\n",
    "print(a)\n",
    "print(a['name'])\n",
    "print(a['age'])\n",
    "print(a['marks'])"
   ]
  },
  {
   "cell_type": "markdown",
   "metadata": {},
   "source": [
    "### 每个内建类型都有一个唯一定义它的字符代码"
   ]
  },
  {
   "cell_type": "markdown",
   "metadata": {},
   "source": [
    "\n",
    "'b'：布尔值\n",
    "\n",
    "'i'：符号整数\n",
    "\n",
    "'u'：无符号整数\n",
    "\n",
    "'f'：浮点\n",
    "\n",
    "'c'：复数浮点\n",
    "\n",
    "'m'：时间间隔\n",
    "\n",
    "'M'：日期时间\n",
    "\n",
    "'O'：Python 对象\n",
    "\n",
    "'S', 'a'：字节串\n",
    "\n",
    "'U'：Unicode\n",
    "\n",
    "'V'：原始数据（void）"
   ]
  },
  {
   "cell_type": "markdown",
   "metadata": {},
   "source": [
    "### ndarray属性"
   ]
  },
  {
   "cell_type": "markdown",
   "metadata": {},
   "source": [
    "1. ndarray.shape : 返回一个数组维度的元组，也可以用于调整数组大小\n",
    "2. ndarray.ndim : 返回数组的维数\n",
    "3. ndarray.itemsize: 返回数组中每个元素的字节单位长度\n",
    "4. ndarray.flags: \n",
    "    * C_CONTIGUOUS (C) 数组位于单一的、C 风格的连续区段内\n",
    "    * F_CONTIGUOUS (F) 数组位于单一的、Fortran 风格的连续区段内\n",
    "    * OWNDATA (O) 数组的内存从其它对象处借用\n",
    "    * WRITEABLE (W) 数据区域可写入。 将它设置为flase会锁定数据，使其只读\n",
    "    * ALIGNED (A) 数据和任何元素会为硬件适当对齐\n",
    "    * UPDATEIFCOPY (U) 这个数组是另一数组的副本。当这个数组释放时，源数组会由这个数组中的元素更新"
   ]
  },
  {
   "cell_type": "code",
   "execution_count": 27,
   "metadata": {},
   "outputs": [
    {
     "name": "stdout",
     "output_type": "stream",
     "text": [
      "(2, 3)\n",
      "[[1 2]\n",
      " [3 4]\n",
      " [5 6]]\n",
      "数组维度: 2\n",
      "每个元素长度: 4字节\n",
      "  C_CONTIGUOUS : True\n",
      "  F_CONTIGUOUS : False\n",
      "  OWNDATA : True\n",
      "  WRITEABLE : True\n",
      "  ALIGNED : True\n",
      "  WRITEBACKIFCOPY : False\n",
      "  UPDATEIFCOPY : False\n"
     ]
    }
   ],
   "source": [
    "import numpy as np \n",
    "a = np.array([[1,2,3],[4,5,6]])  \n",
    "print(a.shape)\n",
    "\n",
    "# 调整数组大小,调整为3行2列\n",
    "a.shape = (3, 2)\n",
    "print(a)\n",
    "\n",
    "print('数组维度: {}'.format(a.ndim))\n",
    "\n",
    "print('每个元素长度: {}字节'.format(a.itemsize))\n",
    "\n",
    "print(a.flags)"
   ]
  },
  {
   "cell_type": "code",
   "execution_count": 22,
   "metadata": {},
   "outputs": [
    {
     "name": "stdout",
     "output_type": "stream",
     "text": [
      "[ 0  1  2  3  4  5  6  7  8  9 10 11 12 13 14 15 16 17 18 19 20 21 22 23]\n",
      "1\n",
      "[[[ 0  1  2]\n",
      "  [ 3  4  5]\n",
      "  [ 6  7  8]\n",
      "  [ 9 10 11]]\n",
      "\n",
      " [[12 13 14]\n",
      "  [15 16 17]\n",
      "  [18 19 20]\n",
      "  [21 22 23]]]\n",
      "3\n"
     ]
    }
   ],
   "source": [
    "import numpy as np\n",
    "\n",
    "a = np.arange(24)\n",
    "\n",
    "print(a)\n",
    "print(a.ndim)\n",
    "\n",
    "b = a.reshape(2, 4, 3)\n",
    "\n",
    "print(b)\n",
    "print(b.ndim)"
   ]
  },
  {
   "cell_type": "code",
   "execution_count": null,
   "metadata": {},
   "outputs": [],
   "source": []
  }
 ],
 "metadata": {
  "kernelspec": {
   "display_name": "Python 3",
   "language": "python",
   "name": "python3"
  },
  "language_info": {
   "codemirror_mode": {
    "name": "ipython",
    "version": 3
   },
   "file_extension": ".py",
   "mimetype": "text/x-python",
   "name": "python",
   "nbconvert_exporter": "python",
   "pygments_lexer": "ipython3",
   "version": "3.6.4"
  }
 },
 "nbformat": 4,
 "nbformat_minor": 2
}
