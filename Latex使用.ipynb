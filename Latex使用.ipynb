{
 "cells": [
  {
   "cell_type": "markdown",
   "metadata": {},
   "source": [
    "# Latex使用"
   ]
  },
  {
   "cell_type": "markdown",
   "metadata": {},
   "source": [
    "### 语法"
   ]
  },
  {
   "cell_type": "markdown",
   "metadata": {},
   "source": [
    "\n",
    "\\documentstyle{article}\n",
    "\n",
    "\\begin{document}\n",
    "\n",
    "This is a first example of a simple inputfile.\n",
    "\n",
    "\\end{document}\n",
    "\n",
    "如果是中文，将\\documentstyle{article}改为\\documentstyle{carticle}"
   ]
  },
  {
   "cell_type": "markdown",
   "metadata": {},
   "source": [
    "### 简单的规则"
   ]
  },
  {
   "cell_type": "markdown",
   "metadata": {},
   "source": [
    "* 空格：Latex中空格不起作用。\n",
    "* 换行：用控制命令“\\\\”,或“ \\newline”.\n",
    "* 分段：用控制命令“\\par” 或空出一行。\n",
    "* 换页：用控制命令“\\newpage”或“\\clearpage”\n",
    "* 特殊控制字符：#，$, %, &, - ,{, }, ^, ~"
   ]
  },
  {
   "cell_type": "markdown",
   "metadata": {},
   "source": [
    "### 西文字符转换表"
   ]
  },
  {
   "cell_type": "markdown",
   "metadata": {},
   "source": [
    "* \\rm   罗马字体          \n",
    "* \\it   意大利字体\n",
    "* \\bf   黑体            \n",
    "* \\sl   倾斜体\n",
    "* \\sf   等线体            \n",
    "* \\sc   小体大写字母\n",
    "* \\tt   打字机字体       \n",
    "* \\mit  数学斜体"
   ]
  },
  {
   "cell_type": "markdown",
   "metadata": {},
   "source": [
    "### 纵向固定间距控制命令"
   ]
  },
  {
   "cell_type": "markdown",
   "metadata": {},
   "source": [
    "* \\smallskip             \n",
    "* \\medskip               \n",
    "* \\bigskip"
   ]
  },
  {
   "cell_type": "markdown",
   "metadata": {},
   "source": [
    "### 页面控制命令"
   ]
  },
  {
   "cell_type": "markdown",
   "metadata": {},
   "source": [
    "* \\textwidth=14.5cm\n",
    "* \\textheight=21.5cm\n",
    "\n",
    "系统默认：\n",
    "* 字号10pt= 五号字；\n",
    "* 西文字体为罗马字体；\n",
    "* textwidth=12.2cm,textheight=18.6cm。相当于美国标准信纸大小。"
   ]
  }
 ],
 "metadata": {
  "kernelspec": {
   "display_name": "Python 3",
   "language": "python",
   "name": "python3"
  },
  "language_info": {
   "codemirror_mode": {
    "name": "ipython",
    "version": 3
   },
   "file_extension": ".py",
   "mimetype": "text/x-python",
   "name": "python",
   "nbconvert_exporter": "python",
   "pygments_lexer": "ipython3",
   "version": "3.6.4"
  }
 },
 "nbformat": 4,
 "nbformat_minor": 2
}
