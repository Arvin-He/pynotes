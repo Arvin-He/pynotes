{
 "cells": [
  {
   "cell_type": "markdown",
   "metadata": {},
   "source": [
    "# go-指针"
   ]
  },
  {
   "cell_type": "markdown",
   "metadata": {},
   "source": [
    "Go 语言的取地址符是`&`，放到一个变量前使用就会返回相应变量的内存地址。"
   ]
  },
  {
   "cell_type": "markdown",
   "metadata": {},
   "source": [
    "### 声明指针"
   ]
  },
  {
   "cell_type": "markdown",
   "metadata": {},
   "source": [
    "一个指针变量指向了一个值的内存地址。\n",
    "\n",
    "指针声明格式: `var var_name *var-type`, 如\n",
    "```\n",
    "var ip *int        /* 指向整型*/\n",
    "var fp *float32    /* 指向浮点型 */\n",
    "```"
   ]
  },
  {
   "cell_type": "markdown",
   "metadata": {},
   "source": [
    "### 如何使用指针"
   ]
  },
  {
   "cell_type": "markdown",
   "metadata": {},
   "source": [
    "指针使用流程：\n",
    "\n",
    "1. 定义指针变量。\n",
    "2. 为指针变量赋值。\n",
    "3. 访问指针变量中指向地址的值。\n",
    "\n",
    "在指针类型前面加上 `*` 号（前缀）来获取指针所指向的内容。"
   ]
  },
  {
   "cell_type": "markdown",
   "metadata": {},
   "source": [
    "### 空指针"
   ]
  },
  {
   "cell_type": "markdown",
   "metadata": {},
   "source": [
    "* 当一个指针被定义后没有分配到任何变量时，它的值为 nil。\n",
    "* nil 指针也称为空指针。\n",
    "* nil在概念上和其它语言的null、None、nil、NULL一样，都指代零值或空值。\n",
    "* 一个指针变量通常缩写为 ptr。\n",
    "\n",
    "空指针判断：\n",
    "```\n",
    "if(ptr != nil)     /* ptr 不是空指针 */\n",
    "if(ptr == nil)    /* ptr 是空指针 */\n",
    "```"
   ]
  },
  {
   "cell_type": "markdown",
   "metadata": {},
   "source": [
    "### 指针其他用途"
   ]
  },
  {
   "cell_type": "markdown",
   "metadata": {},
   "source": [
    "* Go 指针数组:\t定义一个指针数组来存储地址\n",
    "* Go 指向指针的指针:\tGo 支持指向指针的指针\n",
    "* Go 向函数传递指针参数:\t通过引用或地址传参，在函数调用时可以改变其值"
   ]
  }
 ],
 "metadata": {
  "kernelspec": {
   "display_name": "Python 3",
   "language": "python",
   "name": "python3"
  },
  "language_info": {
   "codemirror_mode": {
    "name": "ipython",
    "version": 3
   },
   "file_extension": ".py",
   "mimetype": "text/x-python",
   "name": "python",
   "nbconvert_exporter": "python",
   "pygments_lexer": "ipython3",
   "version": "3.6.4"
  }
 },
 "nbformat": 4,
 "nbformat_minor": 2
}
