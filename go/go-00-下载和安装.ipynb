{
 "cells": [
  {
   "cell_type": "markdown",
   "metadata": {},
   "source": [
    "# go下载和安装"
   ]
  },
  {
   "cell_type": "markdown",
   "metadata": {},
   "source": [
    "### go简介"
   ]
  },
  {
   "cell_type": "markdown",
   "metadata": {},
   "source": [
    "Go 语言是一门应用于搭载 Web 服务器，存储集群或类似用途的巨型中央服务器的系统编程语言。\n",
    "\n",
    "对于高性能分布式系统领域而言，Go 语言无疑比大多数其它语言有着更高的开发效率。它提供了海量并行的支持，这对于游戏服务端的开发而言是再好不过了。\n",
    "\n",
    "特色:\n",
    "* 简洁、快速、安全\n",
    "* 并行、有趣、开源\n",
    "* 内存管理、数组安全、编译迅速\n",
    "\n",
    "特性:\n",
    "* 自动垃圾回收\n",
    "* 更丰富的内置类型\n",
    "* 函数多返回值\n",
    "* 错误处理\n",
    "* 匿名函数和闭包\n",
    "* 类型和接口\n",
    "* 并发编程\n",
    "* 反射\n",
    "* 语言交互性\n",
    "* 支持goroutine和通道，并推荐使用消息而不是共享内存来进行并发编程。\n",
    "* Go是一门编译型语言，Go语言的工具链将源代码及其依赖转换成计算机的机器指令。\n",
    "* Go语言提供的工具都通过一个单独的命令go调用，go命令有一系列子命令。\n",
    "* Go语言原生支持Unicode，它可以处理全世界任何语言的文本."
   ]
  },
  {
   "cell_type": "markdown",
   "metadata": {},
   "source": [
    "### 并发"
   ]
  },
  {
   "cell_type": "markdown",
   "metadata": {},
   "source": [
    "goroutine 很像线程，但是它占用的内存远少于线程，使用它需要的代码更少。通道（channel）是一种内置的数据结构，可以让用户在不同的 goroutine 之间同步发送具有类型的消息。这让编程模型更倾向于在 goroutine之间发送消息，而不是让多个 goroutine 争夺同一个数据的使用权。\n",
    "\n",
    "goroutine 是可以与其他 goroutine 并行执行的函数，同时也会与主程序（程序的入口）并行执行。"
   ]
  },
  {
   "cell_type": "markdown",
   "metadata": {},
   "source": [
    "### 下载安装-linux"
   ]
  },
  {
   "cell_type": "markdown",
   "metadata": {},
   "source": [
    "环境\n",
    "1. CentOS7\n",
    "\n",
    "下载网址:[go语言中文网](https://studygolang.com/dl)\n",
    "\n"
   ]
  },
  {
   "cell_type": "markdown",
   "metadata": {},
   "source": [
    "### 下载安装-windows"
   ]
  },
  {
   "cell_type": "markdown",
   "metadata": {},
   "source": [
    "下载网址: [go语言中文网](https://studygolang.com/dl)\n",
    "\n",
    "下载`go1.11.windows-amd64.msi`, 然后安装"
   ]
  }
 ],
 "metadata": {
  "kernelspec": {
   "display_name": "Python 3",
   "language": "python",
   "name": "python3"
  },
  "language_info": {
   "codemirror_mode": {
    "name": "ipython",
    "version": 3
   },
   "file_extension": ".py",
   "mimetype": "text/x-python",
   "name": "python",
   "nbconvert_exporter": "python",
   "pygments_lexer": "ipython3",
   "version": "3.6.4"
  }
 },
 "nbformat": 4,
 "nbformat_minor": 2
}
