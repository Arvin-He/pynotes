{
 "cells": [
  {
   "cell_type": "markdown",
   "metadata": {},
   "source": [
    "# go-interface接口"
   ]
  },
  {
   "cell_type": "markdown",
   "metadata": {},
   "source": [
    "Go语言里面设计最精妙的应该算interface，它让面向对象，内容组织实现非常的方便."
   ]
  },
  {
   "cell_type": "markdown",
   "metadata": {},
   "source": [
    "### 什么是interface?"
   ]
  },
  {
   "cell_type": "markdown",
   "metadata": {},
   "source": [
    "简单的说，interface是一组method签名的组合，通过interface来定义对象的一组行为。\n",
    "(注: Go中推荐使用组合,不使用继承来实现代码复用)"
   ]
  },
  {
   "cell_type": "markdown",
   "metadata": {},
   "source": [
    "### interface类型"
   ]
  },
  {
   "cell_type": "markdown",
   "metadata": {},
   "source": [
    "* interface类型定义了一组方法，如果某个对象实现了某个接口的所有方法，则此对象就实现了此接口。\n",
    "* 一个对象可以实现任意多个interface\n",
    "* interface就是一组抽象方法的集合，它必须由其他非interface类型实现，而不能自我实现， Go通过interface实现了duck-typing."
   ]
  },
  {
   "cell_type": "markdown",
   "metadata": {},
   "source": [
    "### interface值"
   ]
  },
  {
   "cell_type": "markdown",
   "metadata": {},
   "source": [
    "定义了一个interface的变量，则这个变量可以存实现这个interface的任意类型的对象.\n",
    "\n",
    "```\n",
    "package main\n",
    "\n",
    "import \"fmt\"\n",
    "\n",
    "type Human struct {\n",
    "\tname string\n",
    "\tage int\n",
    "\tphone string\n",
    "}\n",
    "\n",
    "type Student struct {\n",
    "\tHuman //匿名字段\n",
    "\tschool string\n",
    "\tloan float32\n",
    "}\n",
    "\n",
    "type Employee struct {\n",
    "\tHuman //匿名字段\n",
    "\tcompany string\n",
    "\tmoney float32\n",
    "}\n",
    "\n",
    "//Human实现SayHi方法\n",
    "func (h Human) SayHi() {\n",
    "\tfmt.Printf(\"Hi, I am %s you can call me on %s\\n\", h.name, h.phone)\n",
    "}\n",
    "\n",
    "//Human实现Sing方法\n",
    "func (h Human) Sing(lyrics string) {\n",
    "\tfmt.Println(\"La la la la...\", lyrics)\n",
    "}\n",
    "\n",
    "//Employee重载Human的SayHi方法\n",
    "func (e Employee) SayHi() {\n",
    "\tfmt.Printf(\"Hi, I am %s, I work at %s. Call me on %s\\n\", e.name,\n",
    "\t\te.company, e.phone)\n",
    "\t}\n",
    "\n",
    "// Interface Men被Human,Student和Employee实现\n",
    "// 因为这三个类型都实现了这两个方法\n",
    "type Men interface {\n",
    "\tSayHi()\n",
    "\tSing(lyrics string)\n",
    "}\n",
    "\n",
    "func main() {\n",
    "\tmike := Student{Human{\"Mike\", 25, \"222-222-XXX\"}, \"MIT\", 0.00}\n",
    "\tpaul := Student{Human{\"Paul\", 26, \"111-222-XXX\"}, \"Harvard\", 100}\n",
    "\tsam := Employee{Human{\"Sam\", 36, \"444-222-XXX\"}, \"Golang Inc.\", 1000}\n",
    "\ttom := Employee{Human{\"Tom\", 37, \"222-444-XXX\"}, \"Things Ltd.\", 5000}\n",
    "\n",
    "\t//定义Men类型的变量i\n",
    "\tvar i Men\n",
    "\n",
    "\t//i能存储Student\n",
    "\ti = mike\n",
    "\tfmt.Println(\"This is Mike, a Student:\")\n",
    "\ti.SayHi()\n",
    "\ti.Sing(\"November rain\")\n",
    "\n",
    "\t//i也能存储Employee\n",
    "\ti = tom\n",
    "\tfmt.Println(\"This is tom, an Employee:\")\n",
    "\ti.SayHi()\n",
    "\ti.Sing(\"Born to be wild\")\n",
    "\n",
    "\t//定义了slice Men\n",
    "\tfmt.Println(\"Let's use a slice of Men and see what happens\")\n",
    "\tx := make([]Men, 3)\n",
    "\t//这三个都是不同类型的元素，但是他们实现了interface同一个接口\n",
    "\tx[0], x[1], x[2] = paul, sam, mike\n",
    "\n",
    "\tfor _, value := range x{\n",
    "\t\tvalue.SayHi()\n",
    "\t}\n",
    "}\n",
    "```"
   ]
  },
  {
   "cell_type": "markdown",
   "metadata": {},
   "source": [
    "* 接口是用来定义行为的类型。这些被定义的行为不由接口直接实现，而是通过方法由用户定义的类型实现。\n",
    "* 如果用户定义的类型实现了某个接口类型声明的一组方法，那么这个用户定义的类型的值就可以赋给这个接口类型的值。这个赋值会把用户定义的类型的值存入接口类型的值。\n",
    "* 对接口值方法的调用会执行接口值里存储的用户定义的类型的值对应的方法。\n",
    "\n",
    "* 接口值是一个两个字长度的数据结构\n",
    "    * 第一个字包含一个指向内部表的指针。这个内部表叫作 iTable，包含了所存储的值的类型信息。iTable 包含了已存储的值的类型信息以及与这个值相关联的一组方法。\n",
    "    * 第二个字是一个指向所存储值的指针。将类型信息和指针组合在一起，就将这两个值组成了一种特殊的关系。"
   ]
  },
  {
   "cell_type": "markdown",
   "metadata": {},
   "source": [
    "* Go 语言提供了另外一种数据类型: 接口\n",
    "\n",
    "* 接口定义: 把所有的具有共性的方法定义在一起，任何其他类型只要实现了这些方法就是实现了这个接口。\n",
    "\n",
    "```\n",
    "/* 定义接口 */\n",
    "type interface_name interface {\n",
    "   method_name1 [return_type]\n",
    "   method_name2 [return_type]\n",
    "   method_name3 [return_type]\n",
    "   ...\n",
    "   method_namen [return_type]\n",
    "}\n",
    "\n",
    "/* 定义结构体 */\n",
    "type struct_name struct {\n",
    "   /* variables */\n",
    "}\n",
    "\n",
    "/* 实现接口方法 */\n",
    "func (struct_name_variable struct_name) method_name1() [return_type] {\n",
    "   /* 方法实现 */\n",
    "}\n",
    "...\n",
    "func (struct_name_variable struct_name) method_namen() [return_type] {\n",
    "   /* 方法实现*/\n",
    "}\n",
    "```"
   ]
  },
  {
   "cell_type": "markdown",
   "metadata": {},
   "source": [
    "### 接口实现的例子"
   ]
  },
  {
   "cell_type": "markdown",
   "metadata": {},
   "source": [
    "```go\n",
    "package main\n",
    "\n",
    "import (\n",
    "    \"fmt\"\n",
    ")\n",
    "\n",
    "type Phone interface {\n",
    "    call()\n",
    "}\n",
    "\n",
    "type NokiaPhone struct {\n",
    "}\n",
    "\n",
    "func (nokiaPhone NokiaPhone) call() {\n",
    "    fmt.Println(\"I am Nokia, I can call you!\")\n",
    "}\n",
    "\n",
    "type IPhone struct {\n",
    "}\n",
    "\n",
    "func (iPhone IPhone) call() {\n",
    "    fmt.Println(\"I am iPhone, I can call you!\")\n",
    "}\n",
    "\n",
    "func main() {\n",
    "    var phone Phone\n",
    "\n",
    "    phone = new(NokiaPhone)\n",
    "    phone.call()\n",
    "\n",
    "    phone = new(IPhone)\n",
    "    phone.call()\n",
    "\n",
    "}\n",
    "```"
   ]
  },
  {
   "cell_type": "markdown",
   "metadata": {},
   "source": [
    "### 空interface"
   ]
  },
  {
   "cell_type": "markdown",
   "metadata": {},
   "source": [
    "空interface(interface{})不包含任何的method，正因为如此，所有的类型都实现了空interface。空interface对于描述起不到任何的作用(因为它不包含任何的method），但是空interface在我们需要存储任意类型的数值的时候相当有用，因为它可以存储任意类型的数值。它有点类似于C语言的`void*`类型。"
   ]
  },
  {
   "cell_type": "markdown",
   "metadata": {},
   "source": [
    "```\n",
    "// 定义a为空接口\n",
    "var a interface{}\n",
    "var i int = 5\n",
    "s := \"Hello world\"\n",
    "// a可以存储任意类型的数值\n",
    "a = i\n",
    "a = s\n",
    "```\n",
    "一个函数把interface{}作为参数，那么它可以接受任意类型的值作为参数，如果一个函数返回interface{},也就可以返回任意类型的值。是不是很有用啊！"
   ]
  },
  {
   "cell_type": "markdown",
   "metadata": {},
   "source": [
    "### interface函数参数"
   ]
  },
  {
   "cell_type": "markdown",
   "metadata": {},
   "source": [
    "interface的变量可以持有任意实现该interface类型的对象, 可以通过定义interface参数，让函数接受各种类型的参数。"
   ]
  },
  {
   "cell_type": "markdown",
   "metadata": {},
   "source": [
    "### interface变量存储的类型"
   ]
  },
  {
   "cell_type": "markdown",
   "metadata": {},
   "source": [
    "interface的变量里面可以存储任意类型的数值(该类型实现了interface)。那么如何反向知道这个变量里面实际保存了哪些类型的对象呢？\n",
    "\n",
    "目前常用有两种方法：\n",
    "* Comma-ok断言: Go语言里面有一个语法，可直接判断是否是该类型的变量：`value, ok = element.(T)`，这里value是变量的值，ok是bool类型，element是interface变量，T是断言的类型。 如果element里面确实存储了T类型的数值，那么ok返回true，否则返回false。\n",
    "* switch测试:\n"
   ]
  },
  {
   "cell_type": "markdown",
   "metadata": {},
   "source": [
    "### 嵌入interface"
   ]
  },
  {
   "cell_type": "markdown",
   "metadata": {},
   "source": [
    "Go里面真正吸引人的是它内置的逻辑语法, 如果一个interface1作为interface2的一个嵌入字段，那么interface2隐式的包含了interface1里面的method。"
   ]
  },
  {
   "cell_type": "markdown",
   "metadata": {},
   "source": [
    "### 反射"
   ]
  },
  {
   "cell_type": "markdown",
   "metadata": {},
   "source": [
    "Go语言实现了反射，所谓反射就是能检查程序在运行时的状态。我们一般用到的包是reflect包。\n",
    "\n",
    "反射的字段必须是可修改的，即反射的字段必须是可读写的."
   ]
  },
  {
   "cell_type": "markdown",
   "metadata": {},
   "source": [
    "### 嵌入类型(组合)"
   ]
  },
  {
   "cell_type": "markdown",
   "metadata": {},
   "source": [
    "Go 语言允许用户扩展或者修改已有类型的行为。这个功能对代码复用很重要，这个就是嵌入类型（type embedding）。\n",
    "\n",
    "嵌入类型是将已有的类型直接声明在新的结构类型里。被嵌入的类型被称为新的外部类型的内部类型。\n",
    "\n",
    "通过嵌入类型，与内部类型相关的标识符会提升到外部类型上。这些被提升的标识符就像直接声明在外部类型里的标识符一样，也是外部类型的一部分。这样外部类型就组合了内部类型包含的所有属性，并且可以添加新的字段和方法。外部类型也可以通过声明与内部类型标识符同名的标识符来覆盖内部标识符的字段或者方法。这就是扩展或者修改已有类型的方法。"
   ]
  }
 ],
 "metadata": {
  "kernelspec": {
   "display_name": "Python 3",
   "language": "python",
   "name": "python3"
  },
  "language_info": {
   "codemirror_mode": {
    "name": "ipython",
    "version": 3
   },
   "file_extension": ".py",
   "mimetype": "text/x-python",
   "name": "python",
   "nbconvert_exporter": "python",
   "pygments_lexer": "ipython3",
   "version": "3.6.4"
  }
 },
 "nbformat": 4,
 "nbformat_minor": 2
}
