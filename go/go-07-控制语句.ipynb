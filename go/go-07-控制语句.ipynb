{
 "cells": [
  {
   "cell_type": "markdown",
   "metadata": {},
   "source": [
    "# go-控制语句"
   ]
  },
  {
   "cell_type": "markdown",
   "metadata": {},
   "source": [
    "### 条件语句(if)"
   ]
  },
  {
   "cell_type": "markdown",
   "metadata": {},
   "source": [
    "Go 语言提供了以下几种条件判断语句：\n",
    "\n",
    "* if 语句\n",
    "* if...else 语句\n",
    "* if 嵌套语句\n",
    "* switch 语句\n",
    "* select 语句"
   ]
  },
  {
   "cell_type": "markdown",
   "metadata": {},
   "source": [
    "### 关于switch 语句"
   ]
  },
  {
   "cell_type": "markdown",
   "metadata": {},
   "source": [
    "* Go语言不需要显式地在每一个case后写break，语言默认执行完case后的逻辑语句会自动退出。\n",
    "* 如果你想要相邻的几个case都执行同一逻辑的话，需要显式地写上一个fallthrough语句来覆盖这种默认行为\n",
    "* Go语言里的switch还可以不带操作对象（译注：switch不带操作对象时默认用true值代替，然后将每个case的表达式和true值进行比较）,这种形式叫做无tag switch(tagless switch)；这和switch true是等价的。\n",
    "* switch也可以紧跟一个简短的变量声明，一个自增表达式、赋值语句，或者一个函数调用"
   ]
  },
  {
   "cell_type": "markdown",
   "metadata": {},
   "source": [
    "### select 语句"
   ]
  },
  {
   "cell_type": "markdown",
   "metadata": {},
   "source": [
    "select 语句类似于 switch 语句，但是select会随机执行一个可运行的case。如果没有case可运行，它将阻塞，直到有case可运行。"
   ]
  },
  {
   "cell_type": "markdown",
   "metadata": {},
   "source": [
    "### 循环语句(for)"
   ]
  },
  {
   "cell_type": "markdown",
   "metadata": {},
   "source": [
    "Go 语言提供了以下几种类型循环处理语句\n",
    "\n",
    "* for 循环\t重复执行语句块\n",
    "* 循环嵌套\t在 for 循环中嵌套一个或多个 for 循环"
   ]
  },
  {
   "cell_type": "markdown",
   "metadata": {},
   "source": [
    "### 循环控制语句"
   ]
  },
  {
   "cell_type": "markdown",
   "metadata": {},
   "source": [
    "* break 语句\t经常用于中断当前 for 循环或跳出 switch 语句\n",
    "* continue 语句\t跳过当前循环的剩余语句，然后继续进行下一轮循环。\n",
    "* goto 语句\t将控制转移到被标记的语句。"
   ]
  },
  {
   "cell_type": "markdown",
   "metadata": {},
   "source": [
    "### 几种循环方式"
   ]
  },
  {
   "cell_type": "markdown",
   "metadata": {},
   "source": [
    "1. 无限循环\n",
    "```\n",
    "for true {\n",
    "    fmt.Printf(\"这是无限循环。\\n\");\n",
    "}\n",
    "```\n",
    "2. 带单个循环条件。相当于while循环\n",
    "```\n",
    "i := 1\n",
    "for i <= 3 {\n",
    "    fmt.Println(i)\n",
    "    i = i + 1\n",
    "}\n",
    "```\n",
    "3. 经典的初始化/条件/后续形式 for 循环。\n",
    "```\n",
    "for j := 7; j <= 9; j++ {\n",
    "    fmt.Println(j)\n",
    "}\n",
    "```\n",
    "4. 不带条件的 for 循环将一直执行，直到在循环体内使用了 break 或者 return 来跳出循环。\n",
    "```\n",
    "for {\n",
    "    fmt.Println(\"loop\")\n",
    "    break\n",
    "}\n",
    "```"
   ]
  },
  {
   "cell_type": "markdown",
   "metadata": {},
   "source": [
    "### goto语句"
   ]
  },
  {
   "cell_type": "markdown",
   "metadata": {},
   "source": [
    "用goto跳转到必须在当前函数内定义的标签。标签名是大小写敏感的。\n",
    "\n",
    "```\n",
    "func myFunc() {\n",
    "\ti := 0\n",
    "Here:   //这行的第一个词，以冒号结束作为标签\n",
    "\tprintln(i)\n",
    "\ti++\n",
    "\tgoto Here   //跳转到Here去\n",
    "}\n",
    "```"
   ]
  },
  {
   "cell_type": "markdown",
   "metadata": {},
   "source": [
    "### defer语句(延缓语句)"
   ]
  },
  {
   "cell_type": "markdown",
   "metadata": {},
   "source": [
    "Go语言中有种不错的设计，即延迟（defer）语句，你可以在函数中添加多个defer语句。当函数执行到最后时，这些defer语句会按照逆序执行，最后该函数返回。特别是当你在进行一些打开资源的操作时，遇到错误需要提前返回，在返回前你需要关闭相应的资源，不然很容易造成资源泄露等问题。类似Python中的with语句, 但又没有Python的with语句方便.\n",
    "\n",
    "```\n",
    "func ReadWrite() bool {\n",
    "\tfile.Open(\"file\")\n",
    "\tdefer file.Close()\n",
    "\tif failureX {\n",
    "\t\treturn false\n",
    "\t}\n",
    "\tif failureY {\n",
    "\t\treturn false\n",
    "\t}\n",
    "\treturn true\n",
    "}\n",
    "```\n",
    "\n",
    "如果有很多调用defer，那么defer是采用后进先出模式，所以如下代码会输出4 3 2 1 0\n",
    "```\n",
    "for i := 0; i < 5; i++ {\n",
    "\tdefer fmt.Printf(\"%d \", i)\n",
    "}\n",
    "```"
   ]
  }
 ],
 "metadata": {
  "kernelspec": {
   "display_name": "Python 3",
   "language": "python",
   "name": "python3"
  },
  "language_info": {
   "codemirror_mode": {
    "name": "ipython",
    "version": 3
   },
   "file_extension": ".py",
   "mimetype": "text/x-python",
   "name": "python",
   "nbconvert_exporter": "python",
   "pygments_lexer": "ipython3",
   "version": "3.6.4"
  }
 },
 "nbformat": 4,
 "nbformat_minor": 2
}
