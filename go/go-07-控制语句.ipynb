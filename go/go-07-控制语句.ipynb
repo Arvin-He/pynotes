{
 "cells": [
  {
   "cell_type": "markdown",
   "metadata": {},
   "source": [
    "# go-控制语句"
   ]
  },
  {
   "cell_type": "markdown",
   "metadata": {},
   "source": [
    "### 条件语句(if)"
   ]
  },
  {
   "cell_type": "markdown",
   "metadata": {},
   "source": [
    "Go 语言提供了以下几种条件判断语句：\n",
    "\n",
    "* if 语句\n",
    "* if...else 语句\n",
    "* if 嵌套语句\n",
    "* switch 语句\n",
    "* select 语句"
   ]
  },
  {
   "cell_type": "markdown",
   "metadata": {},
   "source": [
    "### 关于switch 语句"
   ]
  },
  {
   "cell_type": "markdown",
   "metadata": {},
   "source": [
    "* Go语言不需要显式地在每一个case后写break，语言默认执行完case后的逻辑语句会自动退出。\n",
    "* 如果你想要相邻的几个case都执行同一逻辑的话，需要显式地写上一个fallthrough语句来覆盖这种默认行为\n",
    "* Go语言里的switch还可以不带操作对象（译注：switch不带操作对象时默认用true值代替，然后将每个case的表达式和true值进行比较）,这种形式叫做无tag switch(tagless switch)；这和switch true是等价的。\n",
    "* switch也可以紧跟一个简短的变量声明，一个自增表达式、赋值语句，或者一个函数调用"
   ]
  },
  {
   "cell_type": "markdown",
   "metadata": {},
   "source": [
    "### select 语句"
   ]
  },
  {
   "cell_type": "markdown",
   "metadata": {},
   "source": [
    "select 语句类似于 switch 语句，但是select会随机执行一个可运行的case。如果没有case可运行，它将阻塞，直到有case可运行。"
   ]
  },
  {
   "cell_type": "markdown",
   "metadata": {},
   "source": [
    "### 循环语句(for)"
   ]
  },
  {
   "cell_type": "markdown",
   "metadata": {},
   "source": [
    "Go 语言提供了以下几种类型循环处理语句\n",
    "\n",
    "* for 循环\t重复执行语句块\n",
    "* 循环嵌套\t在 for 循环中嵌套一个或多个 for 循环"
   ]
  },
  {
   "cell_type": "markdown",
   "metadata": {},
   "source": [
    "### 循环控制语句"
   ]
  },
  {
   "cell_type": "markdown",
   "metadata": {},
   "source": [
    "* break 语句\t经常用于中断当前 for 循环或跳出 switch 语句\n",
    "* continue 语句\t跳过当前循环的剩余语句，然后继续进行下一轮循环。\n",
    "* goto 语句\t将控制转移到被标记的语句。"
   ]
  },
  {
   "cell_type": "markdown",
   "metadata": {},
   "source": [
    "### 几种循环方式"
   ]
  },
  {
   "cell_type": "markdown",
   "metadata": {},
   "source": [
    "1. 无限循环\n",
    "```\n",
    "for true {\n",
    "    fmt.Printf(\"这是无限循环。\\n\");\n",
    "}\n",
    "```\n",
    "2. 带单个循环条件。相当于while循环\n",
    "```\n",
    "i := 1\n",
    "for i <= 3 {\n",
    "    fmt.Println(i)\n",
    "    i = i + 1\n",
    "}\n",
    "```\n",
    "3. 经典的初始化/条件/后续形式 for 循环。\n",
    "```\n",
    "for j := 7; j <= 9; j++ {\n",
    "    fmt.Println(j)\n",
    "}\n",
    "```\n",
    "4. 不带条件的 for 循环将一直执行，直到在循环体内使用了 break 或者 return 来跳出循环。\n",
    "```\n",
    "for {\n",
    "    fmt.Println(\"loop\")\n",
    "    break\n",
    "}\n",
    "```"
   ]
  }
 ],
 "metadata": {
  "kernelspec": {
   "display_name": "Python 3",
   "language": "python",
   "name": "python3"
  },
  "language_info": {
   "codemirror_mode": {
    "name": "ipython",
    "version": 3
   },
   "file_extension": ".py",
   "mimetype": "text/x-python",
   "name": "python",
   "nbconvert_exporter": "python",
   "pygments_lexer": "ipython3",
   "version": "3.6.6"
  }
 },
 "nbformat": 4,
 "nbformat_minor": 2
}
