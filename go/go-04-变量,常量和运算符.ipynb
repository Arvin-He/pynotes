{
 "cells": [
  {
   "cell_type": "markdown",
   "metadata": {},
   "source": [
    "# go-变量,常量和运算符"
   ]
  },
  {
   "cell_type": "markdown",
   "metadata": {},
   "source": [
    "### 变量"
   ]
  },
  {
   "cell_type": "markdown",
   "metadata": {},
   "source": [
    "* Go 语言变量名由字母、数字、下划线组成，其中首个字母不能为数字。\n",
    "* 声明变量的一般形式是使用 var 关键字：\n",
    "  `var identifier type`"
   ]
  },
  {
   "cell_type": "markdown",
   "metadata": {},
   "source": [
    "### 变量声明"
   ]
  },
  {
   "cell_type": "markdown",
   "metadata": {},
   "source": [
    "1. 指定变量类型，声明后若不赋值，使用默认值。\n",
    "```\n",
    "var v_name v_type\n",
    "v_name = value\n",
    "```\n",
    "2. 根据值自行判定变量类型\n",
    "```\n",
    "var v_name = value\n",
    "```\n",
    "3. 省略var, 注意`:=`左侧的变量不应该是已经声明过的，否则会导致编译错误。\n",
    "```\n",
    "v_name := value\n",
    "```\n",
    "4. 多变量声明\n",
    "```\n",
    "//类型相同多个变量, 非全局变量\n",
    "var vname1, vname2, vname3 type\n",
    "vname1, vname2, vname3 = v1, v2, v3\n",
    "\n",
    "//和python很像,不需要显示声明类型，自动推断\n",
    "var vname1, vname2, vname3 = v1, v2, v3 \n",
    "\n",
    "//出现在:=左侧的变量不应该是已经被声明过的，否则会导致编译错误\n",
    "vname1, vname2, vname3 := v1, v2, v3 \n",
    "\n",
    "// 这种因式分解关键字的写法一般用于声明全局变量\n",
    "var (\n",
    "    vname1 v_type1\n",
    "    vname2 v_type2\n",
    ")\n",
    "```"
   ]
  },
  {
   "cell_type": "markdown",
   "metadata": {},
   "source": [
    "### 值类型和引用类型"
   ]
  },
  {
   "cell_type": "markdown",
   "metadata": {},
   "source": [
    "* 所有像 int、float、bool 和 string 这些基本类型都属于值类型，使用这些类型的变量直接指向存在内存中的值\n",
    "* 值类型的变量的值存储在栈中。\n",
    "* 内存地址会根据机器的不同而有所不同，甚至相同的程序在不同的机器上执行后也会有不同的内存地址。因为每台机器可能有不同的存储器布局，并且位置分配也可能不同。\n",
    "* 复杂的数据通常会需要使用多个字，这些数据一般使用引用类型保存。\n",
    "* 一个引用类型的变量 r1 存储的是 r1 的值所在的内存地址（数字），或内存地址中第一个字所在的位置。\n",
    "* 这个内存地址为称之为指针，这个指针实际上也被存在另外的某一个字中。\n",
    "* 同一个引用类型的指针指向的多个字可以是在连续的内存地址中（内存布局是连续的），这也是计算效率最高的一种存储形式；也可以将这些字分散存放在内存中，每个字都指示了下一个字所在的内存地址。"
   ]
  },
  {
   "cell_type": "markdown",
   "metadata": {},
   "source": [
    "### 注意事项"
   ]
  },
  {
   "cell_type": "markdown",
   "metadata": {},
   "source": [
    "1. 在相同的代码块中，不可以再次对于相同名称的变量使用初始化声明,编译器会提示错误\n",
    "2. 声明了一个局部变量却没有在相同的代码块中使用它，同样会得到编译错误\n",
    "3. 全局变量是允许声明但不使用\n",
    "4. 同一类型的多个变量可以声明在同一行, `var a, b, c int`\n",
    "5. 多变量可以在同一行进行赋值, \n",
    "```\n",
    "var a, b int\n",
    "var c string\n",
    "a, b, c = 5, 7, \"abc\"\n",
    "```\n",
    "6. 交换两个变量的值，则可以简单地使用 a, b = b, a，两个变量的类型必须是相同\n",
    "7. 空白标识符 `_` 也被用于抛弃值，如值 5 在：_, b = 5, 7 中被抛弃。`_` 实际上是一个只写变量，你不能得到它的值。这样做是因为 Go 语言中你必须使用所有被声明的变量，但有时你并不需要使用从一个函数得到的所有返回值。\n",
    "8. 并行赋值也被用于当一个函数返回多个返回值时，比如这里的 val 和错误 err 是通过调用 Func1 函数同时得到：`val, err = Func1(var1)`。"
   ]
  }
 ],
 "metadata": {
  "kernelspec": {
   "display_name": "Python 3",
   "language": "python",
   "name": "python3"
  },
  "language_info": {
   "codemirror_mode": {
    "name": "ipython",
    "version": 3
   },
   "file_extension": ".py",
   "mimetype": "text/x-python",
   "name": "python",
   "nbconvert_exporter": "python",
   "pygments_lexer": "ipython3",
   "version": "3.6.6"
  }
 },
 "nbformat": 4,
 "nbformat_minor": 2
}
