{
 "cells": [
  {
   "cell_type": "markdown",
   "metadata": {},
   "source": [
    "# go-文件操作"
   ]
  },
  {
   "cell_type": "markdown",
   "metadata": {},
   "source": [
    "在任何计算机设备中，文件是都是必须的对象."
   ]
  },
  {
   "cell_type": "markdown",
   "metadata": {},
   "source": [
    "### 目录操作"
   ]
  },
  {
   "cell_type": "markdown",
   "metadata": {},
   "source": [
    "文件操作的大多数函数都是在os包里面，下面列举了几个目录操作的：\n",
    "\n",
    "* func Mkdir(name string, perm FileMode) error :创建名称为name的目录，权限设置是perm，例如0777\n",
    "* func MkdirAll(path string, perm FileMode) error :根据path创建多级子目录，例如astaxie/test1/test2。\n",
    "* func Remove(name string) error :删除名称为name的目录，当目录下有文件或者其他目录时会出错\n",
    "* func RemoveAll(path string) error :根据path删除多级子目录，如果path是单个名称，那么该目录下的子目录全部删除。"
   ]
  },
  {
   "cell_type": "markdown",
   "metadata": {},
   "source": [
    "### 文件操作"
   ]
  },
  {
   "cell_type": "markdown",
   "metadata": {},
   "source": [
    "1. 新建文件(2个方法):\n",
    "    * `func Create(name string) (file *File, err Error)`: 根据文件名创建新文件，返回一个可读写的文件对象，默认权限是0666。\n",
    "    * `func NewFile(fd uintptr, name string) *File` :根据文件描述符创建相应的文件，返回一个文件对象\n",
    "\n",
    "2. 打开文件(2个方法)：\n",
    "    * `func Open(name string) (file *File, err Error)`: 打开一个名称为name的文件，但是只读方式，内部实现其实调用了OpenFile。\n",
    "    * `func OpenFile(name string, flag int, perm uint32) (file *File, err Error)` :打开名为name的文件，flag是打开的方式，只读、读写等，perm是权限\n",
    "\n",
    "3. 写文件:\n",
    "    * `func (file *File) Write(b []byte) (n int, err Error)`: 写入byte类型的信息到文件\n",
    "    * `func (file *File) WriteAt(b []byte, off int64) (n int, err Error)` :在指定位置开始写入byte类型的信息\n",
    "    * `func (file *File) WriteString(s string) (ret int, err Error)` :写入string信息到文件\n",
    "    \n",
    "4. 读文件\n",
    "    * `func (file *File) Read(b []byte) (n int, err Error)` :读取数据到b中\n",
    "    * `func (file *File) ReadAt(b []byte, off int64) (n int, err Error)` :从off开始读取数据到b中    \n",
    "    \n",
    "5. 删除文件: Go语言里面删除文件和删除文件夹是同一个函数\n",
    "`func Remove(name string) Error`: 调用该函数就可以删除文件名为name的文件"
   ]
  }
 ],
 "metadata": {
  "kernelspec": {
   "display_name": "Python 3",
   "language": "python",
   "name": "python3"
  },
  "language_info": {
   "codemirror_mode": {
    "name": "ipython",
    "version": 3
   },
   "file_extension": ".py",
   "mimetype": "text/x-python",
   "name": "python",
   "nbconvert_exporter": "python",
   "pygments_lexer": "ipython3",
   "version": "3.6.4"
  }
 },
 "nbformat": 4,
 "nbformat_minor": 2
}
