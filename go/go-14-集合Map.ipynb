{
 "cells": [
  {
   "cell_type": "markdown",
   "metadata": {},
   "source": [
    "# go-集合Map(字典)"
   ]
  },
  {
   "cell_type": "markdown",
   "metadata": {},
   "source": [
    "* Map 是一种无序的键值对的集合。相当于python的字典\n",
    "* Map 是一种集合，可以像迭代数组和切片那样迭代它。\n",
    "* Map 是无序的，无法决定它的返回顺序，因为 Map 是使用 hash 表来实现的。"
   ]
  },
  {
   "cell_type": "markdown",
   "metadata": {},
   "source": [
    "### 声明Map"
   ]
  },
  {
   "cell_type": "markdown",
   "metadata": {},
   "source": [
    "使用内建函数 make 也可以使用 map 关键字来定义 Map:\n",
    "```\n",
    "/* 声明变量，默认 map 是 nil */\n",
    "var map_variable map[key_data_type]value_data_type\n",
    "\n",
    "/* 使用 make 函数 */\n",
    "map_variable := make(map[key_data_type]value_data_type)\n",
    "```"
   ]
  },
  {
   "cell_type": "markdown",
   "metadata": {},
   "source": [
    "### delete()函数"
   ]
  },
  {
   "cell_type": "markdown",
   "metadata": {},
   "source": [
    "delete() 函数用于删除集合的元素, 参数为 map 和其对应的 key"
   ]
  }
 ],
 "metadata": {
  "kernelspec": {
   "display_name": "Python 3",
   "language": "python",
   "name": "python3"
  },
  "language_info": {
   "codemirror_mode": {
    "name": "ipython",
    "version": 3
   },
   "file_extension": ".py",
   "mimetype": "text/x-python",
   "name": "python",
   "nbconvert_exporter": "python",
   "pygments_lexer": "ipython3",
   "version": "3.6.4"
  }
 },
 "nbformat": 4,
 "nbformat_minor": 2
}
