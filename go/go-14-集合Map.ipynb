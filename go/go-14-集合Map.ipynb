{
 "cells": [
  {
   "cell_type": "markdown",
   "metadata": {},
   "source": [
    "# go-集合Map(字典)"
   ]
  },
  {
   "cell_type": "markdown",
   "metadata": {},
   "source": [
    "* Map 是一种无序的键值对的集合。相当于python的字典\n",
    "* Map 是一种集合，可以像迭代数组和切片那样迭代它。\n",
    "* Map 是无序的，无法决定它的返回顺序，因为 Map 是使用 hash 表来实现的。\n",
    "\n",
    "map也就是Python中字典的概念，它的格式为`map[keyType]valueType`"
   ]
  },
  {
   "cell_type": "markdown",
   "metadata": {},
   "source": [
    "### 声明Map"
   ]
  },
  {
   "cell_type": "markdown",
   "metadata": {},
   "source": [
    "使用内建函数 make 也可以使用 map 关键字来定义 Map:\n",
    "```\n",
    "/* 声明变量，默认 map 是 nil */\n",
    "var map_variable map[key_data_type]value_data_type\n",
    "\n",
    "/* 使用 make 函数 */\n",
    "map_variable := make(map[key_data_type]value_data_type)\n",
    "```"
   ]
  },
  {
   "cell_type": "markdown",
   "metadata": {},
   "source": [
    "// 创建一个映射，键的类型是 string，值的类型是 int\n",
    "`dict := make(map[string]int`\n",
    "\n",
    "// 使用两个键值对初始化映射\n",
    "`dict := map[string]string{\"Red\": \"#da1337\", \"Orange\": \"#e95a22\"}`"
   ]
  },
  {
   "cell_type": "markdown",
   "metadata": {},
   "source": [
    "### delete()函数"
   ]
  },
  {
   "cell_type": "markdown",
   "metadata": {},
   "source": [
    "delete() 函数用于删除集合的元素, 参数为 map 和其对应的 key"
   ]
  },
  {
   "cell_type": "markdown",
   "metadata": {},
   "source": [
    "### 从映射获取值并判断键是否存在"
   ]
  },
  {
   "cell_type": "markdown",
   "metadata": {},
   "source": [
    "// 获取键 Blue 对应的值\n",
    "`value, exists := colors[\"Blue\"]`\n",
    "// 这个键存在吗？\n",
    "```\n",
    "if exists {\n",
    "fmt.Println(value)\n",
    "}\n",
    "```\n",
    "另一个选择是，只返回键对应的值，然后通过判断这个值是不是零值来确定键是否存在"
   ]
  },
  {
   "cell_type": "markdown",
   "metadata": {},
   "source": [
    "### 从映射获取值，并通过该值判断键是否存在"
   ]
  },
  {
   "cell_type": "markdown",
   "metadata": {},
   "source": [
    "// 获取键 Blue 对应的值\n",
    "`value := colors[\"Blue\"]`\n",
    "// 这个键存在吗？\n",
    "```\n",
    "if value != \"\" {\n",
    "fmt.Println(value)\n",
    "}\n",
    "```\n",
    "\n",
    "\n",
    " 使用 range 迭代映射\n",
    " ```\n",
    " for key, value := range colors {\n",
    "fmt.Printf(\"Key: %s Value: %s\\n\", key, value)\n",
    "}\n",
    "```\n",
    "\n",
    "// 删除键为 Coral 的键值对\n",
    "`delete(colors, \"Coral\")`"
   ]
  },
  {
   "cell_type": "markdown",
   "metadata": {},
   "source": [
    "### 小结"
   ]
  },
  {
   "cell_type": "markdown",
   "metadata": {},
   "source": [
    "* 数组是构造切片和映射的基石。\n",
    "* Go 语言里切片经常用来处理数据的集合，映射用来处理具有键值对结构的数据。\n",
    "* 内置函数 make 可以创建切片和映射，并指定原始的长度和容量。也可以直接使用切片和映射字面量，或者使用字面量作为变量的初始值。\n",
    "* 切片有容量限制，不过可以使用内置的 append 函数扩展容量。\n",
    "* 映射的增长没有容量或者任何限制。\n",
    "* 内置函数 len 可以用来获取切片或者映射的长度。\n",
    "* 内置函数 cap 只能用于切片。\n",
    "* 通过组合，可以创建多维数组和多维切片。也可以使用切片或者其他映射作为映射的值。但是切片不能用作映射的键。\n",
    "* 将切片或者映射传递给函数成本很小，并且不会复制底层的数据结构。"
   ]
  }
 ],
 "metadata": {
  "kernelspec": {
   "display_name": "Python 3",
   "language": "python",
   "name": "python3"
  },
  "language_info": {
   "codemirror_mode": {
    "name": "ipython",
    "version": 3
   },
   "file_extension": ".py",
   "mimetype": "text/x-python",
   "name": "python",
   "nbconvert_exporter": "python",
   "pygments_lexer": "ipython3",
   "version": "3.6.4"
  }
 },
 "nbformat": 4,
 "nbformat_minor": 2
}
