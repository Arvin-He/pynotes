{
 "cells": [
  {
   "cell_type": "markdown",
   "metadata": {},
   "source": [
    "# go语言基础"
   ]
  },
  {
   "cell_type": "markdown",
   "metadata": {},
   "source": [
    "### go语言特性"
   ]
  },
  {
   "cell_type": "markdown",
   "metadata": {},
   "source": [
    "Go是一门编译型语言，Go语言的工具链将源代码及其依赖转换成计算机的机器指令。\n",
    "\n",
    "Go语言提供的工具都通过一个单独的命令go调用，go命令有一系列子命令。\n",
    "\n",
    "Go语言原生支持Unicode，它可以处理全世界任何语言的文本."
   ]
  },
  {
   "cell_type": "markdown",
   "metadata": {},
   "source": [
    "### 一些常用终端命令"
   ]
  },
  {
   "cell_type": "markdown",
   "metadata": {},
   "source": [
    "查看go的版本"
   ]
  },
  {
   "cell_type": "markdown",
   "metadata": {},
   "source": [
    "go version"
   ]
  },
  {
   "cell_type": "markdown",
   "metadata": {},
   "source": [
    "go version go1.10.1 windows/amd64"
   ]
  },
  {
   "cell_type": "markdown",
   "metadata": {},
   "source": [
    "编译运行程序"
   ]
  },
  {
   "cell_type": "markdown",
   "metadata": {},
   "source": [
    "go run helloworld.go"
   ]
  },
  {
   "cell_type": "markdown",
   "metadata": {},
   "source": [
    "编译包和依赖生成可执行文件,windows上生成*.exe文件"
   ]
  },
  {
   "cell_type": "markdown",
   "metadata": {},
   "source": [
    "go build helloworld.go"
   ]
  },
  {
   "cell_type": "markdown",
   "metadata": {},
   "source": [
    "## go语言组成"
   ]
  },
  {
   "cell_type": "markdown",
   "metadata": {},
   "source": [
    "### 包(packages)"
   ]
  },
  {
   "cell_type": "markdown",
   "metadata": {},
   "source": [
    "* Go语言的代码通过包（package）组织，包类似于其它语言里的库（libraries）或者模块（modules）。\n",
    "* 一个包由位于单个目录下的一个或多个.go源代码文件组成, 目录定义包的作用。\n",
    "* 每个源文件都以一条package声明语句开始，表示该文件属于哪个包，紧跟着一系列导入（import）的包，之后是存储在这个文件里的程序语句。\n",
    "* main包比较特殊。它定义了一个**独立可执行**的程序，而**不是一个库**。\n",
    "* 在main里的main 函数 也很特殊，它是整个程序执行时的**入口**。\n",
    "\n",
    "* 必须告诉编译器源文件需要哪些包，这就是import声明以及随后的package声明扮演的角色。\n",
    "* 必须恰当导入需要的包，**缺少**了必要的包或者**导入了不需要的包**，程序都无法编译通过。这项严格要求避免了程序开发过程中引入未使用的包。"
   ]
  },
  {
   "cell_type": "markdown",
   "metadata": {},
   "source": [
    "Go语言提供了一些很好用的package，并且这些package是可以扩展的\n",
    "\n",
    "你可以在 https://golang.org/pkg 和 https://godoc.org 中找到标准库和社区写的package\n",
    "\n",
    "godoc这个工具可以让你直接在本地命令行阅读标准库的文档, 如: \n",
    "`go doc http.ListenAndServe`"
   ]
  },
  {
   "cell_type": "markdown",
   "metadata": {},
   "source": [
    "### import语句"
   ]
  },
  {
   "cell_type": "markdown",
   "metadata": {},
   "source": [
    "* import声明必须跟在文件的package声明之后。\n",
    "* 随后，则是组成程序的函数、变量、常量、类型的声明语句（分别由关键字func, var, const, type定义）。这些内容的声明顺序并不重要。"
   ]
  },
  {
   "cell_type": "markdown",
   "metadata": {},
   "source": [
    "### 变量和敞亮"
   ]
  },
  {
   "cell_type": "markdown",
   "metadata": {},
   "source": [
    "* go语言中通过关键字 var 声明 1 个或者多个变量, 如:`var b, c int = 1, 2`\n",
    "* go 可以自动推断**已经初始化**的变量类型, 如: `var d = true`\n",
    "* 声明变量且没有给出对应的初始值时，变量将会初始化为零值 ,如: `var e int`, 字符串初始化为空字符串, 浮点型初始化为0\n",
    "* `:=` 语句是申明并初始化变量的简写, 如: f := \"abc\"\n",
    "* const 用于声明一个常量, 如: `const n = 5000`"
   ]
  },
  {
   "cell_type": "markdown",
   "metadata": {},
   "source": [
    "### 函数"
   ]
  },
  {
   "cell_type": "markdown",
   "metadata": {},
   "source": [
    "* 函数的声明由`func`关键字、函数名、参数列表、返回值列表以及包含在大括号里的函数体组成。\n",
    "* 不需要在语句或者声明的末尾添加分号(;)，除非一行上有多条语句, 编译器会主动把换行符转换为分号, 因此添加换行符会影响Go代码的正确解析\n",
    "* 函数的左括号`{`必须和func函数声明在同一行上, 且位于末尾，不能独占一行，而在表达式`x + y`中，可在+后换行，不能在+前换行。\n",
    "* Go语言在代码格式上采取了很强硬的态度。"
   ]
  },
  {
   "cell_type": "markdown",
   "metadata": {},
   "source": [
    "### 工具"
   ]
  },
  {
   "cell_type": "markdown",
   "metadata": {},
   "source": [
    "* gofmt工具把代码格式化为标准格式，并且go工具中的fmt子命令会对指定包, 否则默认为当前目录中所有.go源文件应用gofmt命令。\n",
    "* goimports，可以根据代码需要, 自动地添加或删除import声明。这个工具并没有包含在标准的分发包中，可以用下面的命令安装：\n",
    "\n",
    "`go get golang.org/x/tools/cmd/goimports`\n",
    "\n",
    "* 对于大多数用户来说，下载、编译包、运行测试用例、察看Go语言的文档等等常用功能都可以用go的工具完成。"
   ]
  },
  {
   "cell_type": "markdown",
   "metadata": {},
   "source": []
  },
  {
   "cell_type": "markdown",
   "metadata": {},
   "source": [
    "### 命令行参数"
   ]
  },
  {
   "cell_type": "markdown",
   "metadata": {},
   "source": [
    "* os包以跨平台的方式，提供了一些与操作系统交互的函数和变量。\n",
    "* 程序的命令行参数可从os包的Args变量获取；os包外部使用os.Args访问该变量。\n",
    "* os.Args变量是一个字符串（string）的切片（slice）或动态数组,用`s[m:n]`获取子序列区间索引时，\n",
    "* Go言里也采用左闭右开形式, 即，区间包括第一个索引元素，不包括最后一个\n",
    "* os.Args的第一个元素，`os.Args[0]` 是命令本身的名字；其它的元素则是程序启动时传给它的参数"
   ]
  },
  {
   "cell_type": "markdown",
   "metadata": {},
   "source": [
    "### 注释"
   ]
  },
  {
   "cell_type": "markdown",
   "metadata": {},
   "source": [
    "* 注释语句以`//`开头\n",
    "* 多行注释可以用 `/* ... */ `来包裹"
   ]
  },
  {
   "cell_type": "markdown",
   "metadata": {},
   "source": [
    "### 关于自增,自减"
   ]
  },
  {
   "cell_type": "markdown",
   "metadata": {},
   "source": [
    "* `++`和`--`都只能放在变量名后面，因此++i, --i是非法的\n",
    "* i++,i--,i+=1,i-=1都是支持的."
   ]
  },
  {
   "cell_type": "markdown",
   "metadata": {},
   "source": [
    "### 循环语句"
   ]
  },
  {
   "cell_type": "markdown",
   "metadata": {},
   "source": [
    "* Go语言只有for循环这一种循环语句, 但有多种形式.\n",
    "* for循环三个部分不需括号包围。大括号强制要求, 左大括号必须和post语句在同一行。\n",
    "\n",
    "* nitialization语句是可选的，在循环开始前执行。initalization如果存在，必须是一条简单语句，即，短变量声明、自增语句、赋值语句或函数调用\n",
    "* condition是一个布尔表达式，其值在每次循环迭代开始时计算。如果为true则执行循环体语句。\n",
    "* post语句在循环体执行结束后执行，之后再次对conditon求值。condition值为false时，循环结束。\n",
    "\n",
    "* for循环的这三个部分每个都可以省略.如果省略initialization和post，分号也可以省略.\n",
    "* 循环终止语句是break或return语句"
   ]
  },
  {
   "cell_type": "markdown",
   "metadata": {},
   "source": [
    "```go\n",
    "// 带单个循环条件。相当于while循环\n",
    "i := 1\n",
    "for i <= 3 {\n",
    "    fmt.Println(i)\n",
    "    i = i + 1\n",
    "}\n",
    "// 经典的初始化/条件/后续形式 for 循环。\n",
    "for j := 7; j <= 9; j++ {\n",
    "    fmt.Println(j)\n",
    "}\n",
    "// 不带条件的 for 循环将一直执行，直到在循环体内使用了 break 或者 return 来跳出循环。\n",
    "for {\n",
    "    fmt.Println(\"loop\")\n",
    "    break\n",
    "}\n",
    "```"
   ]
  },
  {
   "cell_type": "markdown",
   "metadata": {},
   "source": [
    "### 关于无用的局部变量"
   ]
  },
  {
   "cell_type": "markdown",
   "metadata": {},
   "source": [
    "Go语言不允许使用无用的局部变量（local variables），因为这会导致编译错误\n",
    "\n",
    "解决方法是用空标识符（blank identifier），即`_`（也就是下划线）,这与python中使用`_`占位符一样来丢弃不关心的变量"
   ]
  },
  {
   "cell_type": "markdown",
   "metadata": {},
   "source": [
    "### 判断语句"
   ]
  },
  {
   "cell_type": "markdown",
   "metadata": {},
   "source": [
    "if语句条件两边不加括号，但是主体部分需要加`{}`"
   ]
  },
  {
   "cell_type": "markdown",
   "metadata": {},
   "source": [
    "### switch 语句"
   ]
  },
  {
   "cell_type": "markdown",
   "metadata": {},
   "source": [
    "* Go语言不需要显式地在每一个case后写break，语言默认执行完case后的逻辑语句会自动退出。\n",
    "* 如果你想要相邻的几个case都执行同一逻辑的话，需要显式地写上一个fallthrough语句来覆盖这种默认行为\n",
    "* Go语言里的switch还可以不带操作对象（译注：switch不带操作对象时默认用true值代替，然后将每个case的表达式和true值进行比较）,这种形式叫做无tag switch(tagless switch)；这和switch true是等价的。\n",
    "* switch也可以紧跟一个简短的变量声明，一个自增表达式、赋值语句，或者一个函数调用"
   ]
  },
  {
   "cell_type": "markdown",
   "metadata": {},
   "source": [
    "### 数组, 切片, 关联数组"
   ]
  },
  {
   "cell_type": "markdown",
   "metadata": {},
   "source": [
    "* 数组 是一个固定长度的数列。`var a [5]int`\n",
    "\n",
    "* Slice 是 Go 中一个关键的数据类型，是一个比数组更加强大的序列接口\n",
    "\n",
    "* map 是 Go 内置关联数据类型（在一些其他的语言中称为哈希 或者字典 ）。创建一个空 map: `make(map[key-type]val-type)`"
   ]
  },
  {
   "cell_type": "markdown",
   "metadata": {},
   "source": [
    "### range"
   ]
  },
  {
   "cell_type": "markdown",
   "metadata": {},
   "source": [
    "* range 迭代各种各样的数据结构。\n",
    "* range 在数组和 slice 中都同样提供每个项的索引和值。\n",
    "* "
   ]
  },
  {
   "cell_type": "markdown",
   "metadata": {},
   "source": [
    "### 指针"
   ]
  },
  {
   "cell_type": "markdown",
   "metadata": {},
   "source": [
    "* Go语言提供了指针。指针是一种直接存储了变量的内存地址的数据类型.\n",
    "* `&`操作符可以返回一个变量的内存地址，\n",
    "* `*`操作符可以获取指针指向的变量内容，\n",
    "\n",
    "但在Go语言里没有指针运算，也就是不能像c语言里可以对指针进行加或减操作"
   ]
  }
 ],
 "metadata": {
  "kernelspec": {
   "display_name": "Python 3",
   "language": "python",
   "name": "python3"
  },
  "language_info": {
   "codemirror_mode": {
    "name": "ipython",
    "version": 3
   },
   "file_extension": ".py",
   "mimetype": "text/x-python",
   "name": "python",
   "nbconvert_exporter": "python",
   "pygments_lexer": "ipython3",
   "version": "3.6.6"
  }
 },
 "nbformat": 4,
 "nbformat_minor": 2
}
