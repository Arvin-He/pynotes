{
 "cells": [
  {
   "cell_type": "markdown",
   "metadata": {},
   "source": [
    "# go-web基础"
   ]
  },
  {
   "cell_type": "markdown",
   "metadata": {},
   "source": [
    "一个Web服务器也被称为HTTP服务器，它通过HTTP协议与客户端通信。"
   ]
  },
  {
   "cell_type": "markdown",
   "metadata": {},
   "source": [
    "### URL和DNS解析"
   ]
  },
  {
   "cell_type": "markdown",
   "metadata": {},
   "source": [
    "URL(Uniform Resource Locator)是“统一资源定位符”的英文缩写，用于描述一个网络上的资源, 基本格式如下\n",
    "\n",
    "URL = `scheme://host[:port#]/path/.../[?query-string][#anchor]`\n",
    "* scheme      指定底层使用的协议(例如：http, https, ftp)\n",
    "* host       HTTP服务器的IP地址或者域名\n",
    "* port#      HTTP服务器的默认端口是80，这种情况下端口号可以省略。如果使用了别的端口，必须指明\n",
    "* path      访问资源的路径\n",
    "* query-string   发送给http服务器的数据\n",
    "* anchor       锚\n",
    "\n",
    "DNS(Domain Name System)是“域名系统”的英文缩写，是一种组织成域层次结构的计算机和网络服务命名系统，它用于TCP/IP网络，它从事将主机名或域名转换为实际IP地址的工作。"
   ]
  },
  {
   "cell_type": "markdown",
   "metadata": {},
   "source": [
    "### HTTP协议"
   ]
  },
  {
   "cell_type": "markdown",
   "metadata": {},
   "source": [
    "Request包分为3部分\n",
    "* 第一部分叫Request line（请求行）\n",
    "* 第二部分叫Request header（请求头）\n",
    "* 第三部分是body（主体）。\n",
    "* header和body之间有个空行，空行,用于分割请求头和消息体\n",
    "\n",
    "```\n",
    "GET /domains/example/ HTTP/1.1\t\t//请求行: 请求方法 请求URI HTTP协议/协议版本\n",
    "Host：www.iana.org\t\t\t\t//服务端的主机名\n",
    "User-Agent：Mozilla/5.0 (Windows NT 6.1) AppleWebKit/537.4 (KHTML, like Gecko) Chrome/22.0.1229.94 Safari/537.4\t\t\t//浏览器信息\n",
    "Accept：text/html,application/xhtml+xml,application/xml;q=0.9,*/*;q=0.8\t//客户端能接收的MIME\n",
    "Accept-Encoding：gzip,deflate,sdch\t\t//是否支持流压缩\n",
    "Accept-Charset：UTF-8,*;q=0.5\t\t//客户端字符编码集\n",
    "//空行,用于分割请求头和消息体\n",
    "//消息体,请求资源参数,例如POST传递的参数\n",
    "```\n",
    "\n",
    "Response包中的第一行叫做状态行，由HTTP协议版本号， 状态码， 状态消息 三部分组成。\n",
    "\n",
    "```\n",
    "HTTP/1.1 200 OK\t\t\t\t\t\t//状态行\n",
    "Server: nginx/1.0.8\t\t\t\t\t//服务器使用的WEB软件名及版本\n",
    "Date:Date: Tue, 30 Oct 2012 04:14:25 GMT\t\t//发送时间\n",
    "Content-Type: text/html\t\t\t\t//服务器发送信息的类型\n",
    "Transfer-Encoding: chunked\t\t\t//表示发送HTTP包是分段发的\n",
    "Connection: keep-alive\t\t\t\t//保持连接状态\n",
    "Content-Length: 90\t\t\t\t\t//主体内容长度\n",
    "//空行 用来分割消息头和主体\n",
    "<!DOCTYPE html PUBLIC \"-//W3C//DTD XHTML 1.0 Transitional//EN\"... //消息体\n",
    "```\n",
    "HTTP/1.1协议中定义了5类状态码， 状态码由三位数字组成，第一个数字定义了响应的类别\n",
    "\n",
    "* 1XX 提示信息 - 表示请求已被成功接收，继续处理\n",
    "* 2XX 成功 - 表示请求已被成功接收，理解，接受\n",
    "* 3XX 重定向 - 要完成请求必须进行更进一步的处理\n",
    "* 4XX 客户端错误 - 请求有语法错误或请求无法实现\n",
    "* 5XX 服务器端错误 - 服务器未能实现合法的请求"
   ]
  },
  {
   "cell_type": "markdown",
   "metadata": {},
   "source": [
    "### GET和POST区别"
   ]
  },
  {
   "cell_type": "markdown",
   "metadata": {},
   "source": [
    "* GET请求消息体为空，POST请求带有消息体。\n",
    "* GET提交的数据会放在URL之后，以?分割URL和传输数据，参数之间以&相连，如EditPosts.aspx?name=test1&id=123456。POST方法是把提交的数据放在HTTP包的body中。\n",
    "* GET提交的数据大小有限制（因为浏览器对URL的长度有限制），而POST方法提交的数据没有限制。\n",
    "* GET方式提交数据，会带来安全问题，比如一个登录页面，通过GET方式提交数据时，用户名和密码将出现在URL上，如果页面可以被缓存或者其他人可以访问这台机器，就可以从历史记录获得该用户的账号和密码。"
   ]
  },
  {
   "cell_type": "markdown",
   "metadata": {},
   "source": [
    "### HTTP协议是无状态的和Connection: keep-alive的区别"
   ]
  },
  {
   "cell_type": "markdown",
   "metadata": {},
   "source": [
    "* 无状态是指协议对于事务处理没有记忆能力，服务器不知道客户端是什么状态。即打开一个服务器上的网页和你之前打开这个服务器上的网页之间没有任何联系。\n",
    "* HTTP是一个无状态的面向连接的协议，无状态不代表HTTP不能保持TCP连接，更不代表HTTP使用的是UDP协议（面对无连接）。\n",
    "* 从HTTP/1.1起，默认都开启了Keep-Alive保持连接特性，简单地说，当一个网页打开完成后，客户端和服务器之间用于传输HTTP数据的TCP连接不会关闭，如果客户端再次访问这个服务器上的网页，会继续使用这一条已经建立的TCP连接。\n",
    "* Keep-Alive不会永久保持连接，它有一个保持时间，可以在不同服务器软件（如Apache）中设置这个时间。"
   ]
  }
 ],
 "metadata": {
  "kernelspec": {
   "display_name": "Python 3",
   "language": "python",
   "name": "python3"
  },
  "language_info": {
   "codemirror_mode": {
    "name": "ipython",
    "version": 3
   },
   "file_extension": ".py",
   "mimetype": "text/x-python",
   "name": "python",
   "nbconvert_exporter": "python",
   "pygments_lexer": "ipython3",
   "version": "3.6.4"
  }
 },
 "nbformat": 4,
 "nbformat_minor": 2
}
