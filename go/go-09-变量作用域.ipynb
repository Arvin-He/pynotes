{
 "cells": [
  {
   "cell_type": "markdown",
   "metadata": {},
   "source": [
    "# go-变量作用域"
   ]
  },
  {
   "cell_type": "markdown",
   "metadata": {},
   "source": [
    "作用域为已声明标识符所表示的常量、类型、变量、函数或包在源代码中的作用范围。\n",
    "\n",
    "Go 语言中变量可以在三个地方声明：\n",
    "\n",
    "1. 函数内定义的变量称为局部变量\n",
    "2. 函数外定义的变量称为全局变量\n",
    "3. 函数定义中的变量称为形式参数,即形参"
   ]
  },
  {
   "cell_type": "markdown",
   "metadata": {},
   "source": [
    "### 局部变量"
   ]
  },
  {
   "cell_type": "markdown",
   "metadata": {},
   "source": [
    "* 在函数体内声明的变量称之为局部变量，它们的作用域只在函数体内\n",
    "* 参数和返回值变量也是局部变量。"
   ]
  },
  {
   "cell_type": "markdown",
   "metadata": {},
   "source": [
    "### 全局变量"
   ]
  },
  {
   "cell_type": "markdown",
   "metadata": {},
   "source": [
    "* 在函数体外声明的变量称之为全局变量\n",
    "* 全局变量可以在整个包\n",
    "* 全局变量可以在外部包（被导出后）使用\n",
    "* Go 语言程序中全局变量与局部变量名称可以相同，但是函数内的局部变量会被优先考虑。"
   ]
  },
  {
   "cell_type": "markdown",
   "metadata": {},
   "source": [
    "### 初始化局部和全局变量"
   ]
  },
  {
   "cell_type": "markdown",
   "metadata": {},
   "source": [
    "不同类型的局部和全局变量默认值为：\n",
    "```\n",
    "数据类型\t初始化默认值\n",
    "int\t          0\n",
    "float32\t       0\n",
    "pointer\t       nil\n",
    "```"
   ]
  },
  {
   "cell_type": "markdown",
   "metadata": {},
   "source": [
    "### 公开或未公开的标识符"
   ]
  },
  {
   "cell_type": "markdown",
   "metadata": {},
   "source": [
    "* 当一个标识符以小写字母开头，这个标识符就是未公开的，即包外的代码不可见。\n",
    "* 当一个标识符以大写字母开头，这个标识符就是公开的，即被包外的代码可见。"
   ]
  }
 ],
 "metadata": {
  "kernelspec": {
   "display_name": "Python 3",
   "language": "python",
   "name": "python3"
  },
  "language_info": {
   "codemirror_mode": {
    "name": "ipython",
    "version": 3
   },
   "file_extension": ".py",
   "mimetype": "text/x-python",
   "name": "python",
   "nbconvert_exporter": "python",
   "pygments_lexer": "ipython3",
   "version": "3.6.4"
  }
 },
 "nbformat": 4,
 "nbformat_minor": 2
}
