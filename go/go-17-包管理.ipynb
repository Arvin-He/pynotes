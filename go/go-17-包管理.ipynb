{
 "cells": [
  {
   "cell_type": "markdown",
   "metadata": {},
   "source": [
    "# go-包管理"
   ]
  },
  {
   "cell_type": "markdown",
   "metadata": {},
   "source": [
    "* Go 语言的源码复用建立在包（package）基础之上。\n",
    "* 包通过 package, import, GOPATH 操作完成。"
   ]
  },
  {
   "cell_type": "markdown",
   "metadata": {},
   "source": [
    "### main包"
   ]
  },
  {
   "cell_type": "markdown",
   "metadata": {},
   "source": [
    "* Go 语言的入口 `main()` 函数所在的包（package）叫 main包，\n",
    "* main 包想要引用别的代码，需要import导入"
   ]
  },
  {
   "cell_type": "markdown",
   "metadata": {},
   "source": [
    "### 包定义"
   ]
  },
  {
   "cell_type": "markdown",
   "metadata": {},
   "source": [
    "* Go 语言的包与文件夹一一对应，也就是说包就是一个文件夹,包下面包含有1个或多个`*.go`文件,类似于python中的包,但又有所区别\n",
    "* 同一个目录下的所有`.go`文件的第一行添加 **包声明**，以标记该文件归属的包，演示语法：`package 包名`\n",
    "\n",
    "包需要满足：\n",
    "\n",
    "1. 一个目录下的同级文件归属一个包。\n",
    "2. 包名可以与其目录不同名。\n",
    "3. 包名为 main 的包为应用程序的入口包，其他包不能使用。\n",
    "4. 包可以嵌套定义，对应的就是嵌套目录，但包名应该与所在的目录一致，例如：\n",
    "```\n",
    "// 文件：foo/bar/tool.go中\n",
    "package bar\n",
    "// 可以被导出的函数\n",
    "func FuncPublic() {\n",
    "}\n",
    "// 不可以被导出的函数\n",
    "func funcPrivate() {\n",
    "}\n",
    "```\n",
    "包中，通过标识符**首字母是否大写**，来确定是否可以被导出。\n",
    "\n",
    "首字母大写才可以被导出，视为 public 公共的资源。"
   ]
  },
  {
   "cell_type": "markdown",
   "metadata": {},
   "source": [
    "### 导入包, import"
   ]
  },
  {
   "cell_type": "markdown",
   "metadata": {},
   "source": [
    "1. 要引用其他包，可以使用 import 关键字，可以单个导入或者批量导入，语法演示：\n",
    "```\n",
    "// 单个导入\n",
    "import \"package\"\n",
    "\n",
    "// 批量导入\n",
    "import (\n",
    "  \"package1\"\n",
    "  \"package2\"\n",
    "  )\n",
    "```  \n",
    "\n",
    "2. 导入时，可以为包定义别名，语法演示：\n",
    "```\n",
    "import (\n",
    "  p1 \"package1\"\n",
    "  p2 \"package2\"\n",
    "  )\n",
    "// 使用时\n",
    "p1.Method()\n",
    "```\n",
    "3. 若需要导入自定义包，需要设置GOPATH环境变量。"
   ]
  },
  {
   "cell_type": "markdown",
   "metadata": {},
   "source": [
    "### GOPATH环境变量"
   ]
  },
  {
   "cell_type": "markdown",
   "metadata": {},
   "source": [
    "import导入时，会从GO的安装目录（也就是GOROOT环境变量设置的目录）和GOPATH环境变量设置的目录中，检索并导入包。如果不存在，则导入失败。\n",
    "\n",
    "* GOROOT: GO内置的包所在的位置,在src/目录下。\n",
    "* GOPATH: 自己定义的包的位置。\n",
    "\n",
    "通常在开发Go项目时，调试或者编译构建时，需要设置`GOPATH`指向我们的项目目录，目录中的src目录中的包就可以被导入了：\n",
    "例如，项目目录为： `D:\\projects\\goProject`，那么就需要将源代码放在 `D:\\projects\\goProject\\src` 下，同时设置GOPATH为 `D:\\projects\\goProject`。\n",
    "\n",
    "设置GOPATH的方案有：\n",
    "* windows 通过 系统->系统信息->高级系统设置->环境变量 中完成设置。\n",
    "* windows 中通过 CMD 或者 powershell 也可以完成设置。通常是临时有效的，CMD或者powershell关闭失效！\n",
    "```\n",
    "CMD：\n",
    "set GOPATH=D:\\projects\\goProject\n",
    "set GOPATH 可以查看\n",
    "powershell：\n",
    "$env:GOPATH=\"D:\\projects\\goProject\"\n",
    "$env:GOPATH 可以查看\n",
    "```\n",
    "\n",
    "* linux 通过 /etc/profile 进行设置"
   ]
  },
  {
   "cell_type": "markdown",
   "metadata": {},
   "source": [
    "###  init() 包初始化"
   ]
  },
  {
   "cell_type": "markdown",
   "metadata": {},
   "source": [
    "可以在源码中，定义 `init()` 函数, 此函数会在包被导入时执行.\n",
    "\n",
    "例如: 在 main 中导入包，包中存在 `init()`，那么 `init()` 中的代码会在 `main()` 函数执行前执行，用于初始化包所需要的特定操作。\n",
    "\n",
    "如果仅仅需要导入包时执行初始化操作，并不需要使用包内的其他函数，常量等资源。则可以在导入包时，匿名导入：\n",
    "```\n",
    "import (\n",
    "  _ \"userPackage\"\n",
    "  )\n",
    "```\n",
    "\n",
    "使用下划线作为包的别名，会仅仅执行`init()`函数"
   ]
  }
 ],
 "metadata": {
  "kernelspec": {
   "display_name": "Python 3",
   "language": "python",
   "name": "python3"
  },
  "language_info": {
   "codemirror_mode": {
    "name": "ipython",
    "version": 3
   },
   "file_extension": ".py",
   "mimetype": "text/x-python",
   "name": "python",
   "nbconvert_exporter": "python",
   "pygments_lexer": "ipython3",
   "version": "3.6.4"
  }
 },
 "nbformat": 4,
 "nbformat_minor": 2
}
