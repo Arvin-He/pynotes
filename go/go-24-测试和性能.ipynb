{
 "cells": [
  {
   "cell_type": "markdown",
   "metadata": {},
   "source": [
    "# go-测试和性能"
   ]
  },
  {
   "cell_type": "markdown",
   "metadata": {},
   "source": [
    "作为一名合格的开发者，不应该在程序开发完之后才开始写测试代码。使用 Go 语言的测试框架，可以在开发的过程中就进行单元测试和基准测试。\n",
    "\n",
    "go test 命令可以用来执行写好的测试代码，需要做的就是遵守一些规则来写测试。"
   ]
  },
  {
   "cell_type": "markdown",
   "metadata": {},
   "source": [
    "### 单元测试"
   ]
  },
  {
   "cell_type": "markdown",
   "metadata": {},
   "source": [
    "单元测试是用来测试包或者程序的一部分代码或者一组代码的函数。测试的目的是确认目标代码在给定的场景下，有没有按照期望工作。\n",
    "\n",
    "正向路径测试: 在正常执行的情况下，保证代码不产生错误的测试。\n",
    "\n",
    "负向路径测试: 保证代码不仅会产生错误，而且是预期的错误。\n",
    "\n",
    "在 Go 语言里有几种方法写单元测试。\n",
    "* 基础测试（basic test）:只使用一组参数和结果来测试一段代码。\n",
    "* 表组测试（table test）: 也会测试一段代码，但是会使用多组参数和结果进行测试。\n",
    "* 模仿测试（mock test）: 可以使用一些方法来模仿（mock）测试代码需要使用到的外部资源，如数据库或者网络服务器。"
   ]
  },
  {
   "cell_type": "markdown",
   "metadata": {},
   "source": [
    "### 基础单元测试"
   ]
  },
  {
   "cell_type": "markdown",
   "metadata": {},
   "source": [
    "调用 `go test -v` 来运行这个测试（-v 表示提供冗余输出）"
   ]
  },
  {
   "cell_type": "markdown",
   "metadata": {},
   "source": [
    "### 表组测试"
   ]
  },
  {
   "cell_type": "markdown",
   "metadata": {},
   "source": [
    "表组测试除了会有一组不同的输入值和期望结果之外，其余部分都很像基础单元测试。\n",
    "\n",
    "测试会依次迭代不同的值，来运行要测试的代码。每次迭代的时候，都会检测返回的结果。"
   ]
  },
  {
   "cell_type": "markdown",
   "metadata": {},
   "source": [
    "### 模仿调用"
   ]
  },
  {
   "cell_type": "markdown",
   "metadata": {},
   "source": [
    "标准库包含一个名为 httptest 的包，它让开发人员可以模仿基于HTTP 的网络调用。模仿（mocking）是一个很常用的技术手段，用来在运行测试时模拟访问不可用的资源。包 httptest 可以让你能够模仿互联网资源的请求和响应。\n"
   ]
  },
  {
   "cell_type": "markdown",
   "metadata": {},
   "source": [
    "### 基准测试"
   ]
  },
  {
   "cell_type": "markdown",
   "metadata": {},
   "source": [
    "基准测试是一种测试代码性能的方法。\n",
    "\n",
    "基准测试也可以用来识别某段代码的 CPU或者内存效率问题，而这段代码的效率可能会严重影响整个应用程序的性能。\n",
    "\n",
    "许多开发人员会用基准测试来测试不同的并发模式，或者用基准测试来辅助配置工作池的数量，以保证能最大化系统的吞吐量。"
   ]
  },
  {
   "cell_type": "markdown",
   "metadata": {},
   "source": [
    "### 小结"
   ]
  },
  {
   "cell_type": "markdown",
   "metadata": {},
   "source": [
    "1. 测试功能被内置到 Go 语言中，Go 语言提供了必要的测试工具。\n",
    "2. go test 工具用来运行测试。\n",
    "3. 测试文件总是以_test.go 作为文件名的结尾。\n",
    "4. 表组测试是利用一个测试函数测试多组值的好办法。\n",
    "5. 包中的示例代码，既能用于测试，也能用于文档。\n",
    "6. 基准测试提供了探查代码性能的机制。"
   ]
  }
 ],
 "metadata": {
  "kernelspec": {
   "display_name": "Python 3",
   "language": "python",
   "name": "python3"
  },
  "language_info": {
   "codemirror_mode": {
    "name": "ipython",
    "version": 3
   },
   "file_extension": ".py",
   "mimetype": "text/x-python",
   "name": "python",
   "nbconvert_exporter": "python",
   "pygments_lexer": "ipython3",
   "version": "3.6.4"
  }
 },
 "nbformat": 4,
 "nbformat_minor": 2
}
