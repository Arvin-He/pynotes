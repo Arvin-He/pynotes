{
 "cells": [
  {
   "cell_type": "markdown",
   "metadata": {},
   "source": [
    "# go-标准库"
   ]
  },
  {
   "cell_type": "markdown",
   "metadata": {},
   "source": [
    "Go 标准库是一组核心包，用来扩展和增强语言的能力。这些包为语言增加了大量不同的类型。开发人员可以直接使用这些类型，而不用再写自己的包或者去下载其他人发布的第三方包。由于这些包和语言绑在一起发布，它们会得到以下特殊的保证：\n",
    "1. 每次语言更新，哪怕是小更新，都会带有标准库；\n",
    "2. 这些标准库会严格遵守向后兼容的承诺；\n",
    "3. 标准库是 Go 语言开发、构建、发布过程的一部分；\n",
    "4. 标准库由 Go 的构建者们维护和评审；\n",
    "5. 每次 Go 语言发布新版本时，标准库都会被测试，并评估性能。"
   ]
  },
  {
   "cell_type": "markdown",
   "metadata": {},
   "source": [
    "不管用什么方式安装 Go，标准库的源代码都会安装在`$GOROOT/src` 文件夹中\n",
    "\n",
    "拥有标准库的源代码对 Go 工具正常工作非常重要。类似 godoc、gocode 甚至 go build 这些工具，都需要读取标准库的源代码才能完成其工作。如果源代码没有安装在以上文件夹中，或者无法通过`$GOROOT` 变量访问，在试图编译程序时会产生错误。\n",
    "\n",
    "作为 Go 发布包的一部分，标准库的源代码是经过预编译的。这些预编译后的文件，称作归档文件（archive file），可以在`$GOROOT/pkg` 文件夹中找到已经安装的各目标平台和操作系统的归档文件。\n",
    "\n",
    "这些文件是特殊的 Go 静态库文件，由 Go 的构建工具创建，并在编译和链接最终程序时被使用。归档文件可以让构建的速度更快。但是在构建的过程中，没办法指定这些文件，所以没办法与别人共享这些文件。Go 工具链知道什么时候可以使用已有的.a 文件，什么时候需要从机器上的源代码重新构建。"
   ]
  },
  {
   "cell_type": "markdown",
   "metadata": {},
   "source": [
    "### 好用的标准库"
   ]
  },
  {
   "cell_type": "markdown",
   "metadata": {},
   "source": [
    "* log\n",
    "* json\n",
    "* io\n"
   ]
  },
  {
   "cell_type": "markdown",
   "metadata": {},
   "source": [
    "### 小结"
   ]
  },
  {
   "cell_type": "markdown",
   "metadata": {},
   "source": [
    "* 100 余个包被合理组织，分布在 38 个类别里。\n",
    "* 阅读标准库的代码是熟悉 Go 语言习惯的好方法。"
   ]
  }
 ],
 "metadata": {
  "kernelspec": {
   "display_name": "Python 3",
   "language": "python",
   "name": "python3"
  },
  "language_info": {
   "codemirror_mode": {
    "name": "ipython",
    "version": 3
   },
   "file_extension": ".py",
   "mimetype": "text/x-python",
   "name": "python",
   "nbconvert_exporter": "python",
   "pygments_lexer": "ipython3",
   "version": "3.6.4"
  }
 },
 "nbformat": 4,
 "nbformat_minor": 2
}
