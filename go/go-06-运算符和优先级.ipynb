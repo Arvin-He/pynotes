{
 "cells": [
  {
   "cell_type": "markdown",
   "metadata": {},
   "source": [
    "# go-运算符和优先级"
   ]
  },
  {
   "cell_type": "markdown",
   "metadata": {},
   "source": [
    "运算符用于在程序运行时执行数学或逻辑运算。\n",
    "\n",
    "Go 语言内置的运算符有：\n",
    "\n",
    "* 算术运算符: (+, -, *, /, %, ++, --\t)\n",
    "* 关系运算符: (==, !=, >, <, >=, <=)\n",
    "* 逻辑运算符: (&&, ||, !)\n",
    "* 位运算符: (&, |, ^, <<, >>)\n",
    "* 赋值运算符: (=, +=, -=, *=, /=, %=, <<=, >>=, &=, ^=, |=)\n",
    "* 其他运算符: (&, *)\n",
    "\n",
    "* &\t返回变量存储地址\t&a; 将给出变量的实际地址。\n",
    "* \\*\t指针变量。\t     \\*a; 是一个指针变量"
   ]
  },
  {
   "cell_type": "markdown",
   "metadata": {},
   "source": [
    "### 运算符优先级"
   ]
  },
  {
   "cell_type": "markdown",
   "metadata": {},
   "source": [
    "有些运算符拥有较高的优先级，二元运算符的运算方向均是从左至右。\n",
    "\n",
    "下表列出了所有运算符以及它们的优先级，由上至下代表优先级由高到低：\n",
    "```\n",
    "优先级\t    运算符\n",
    "7\t      ^ !\n",
    "6\t      * / % << >> & &^\n",
    "5\t      + - | ^\n",
    "4\t      == != < <= >= >\n",
    "3\t      <-\n",
    "2\t      &&\n",
    "1\t     ||\n",
    "```"
   ]
  },
  {
   "cell_type": "markdown",
   "metadata": {},
   "source": [
    "### 关于自增,自减"
   ]
  },
  {
   "cell_type": "markdown",
   "metadata": {},
   "source": [
    "++和--都只能放在变量名后面，因此++i, --i是非法的"
   ]
  }
 ],
 "metadata": {
  "kernelspec": {
   "display_name": "Python 3",
   "language": "python",
   "name": "python3"
  },
  "language_info": {
   "codemirror_mode": {
    "name": "ipython",
    "version": 3
   },
   "file_extension": ".py",
   "mimetype": "text/x-python",
   "name": "python",
   "nbconvert_exporter": "python",
   "pygments_lexer": "ipython3",
   "version": "3.6.6"
  }
 },
 "nbformat": 4,
 "nbformat_minor": 2
}
