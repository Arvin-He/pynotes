{
 "cells": [
  {
   "cell_type": "markdown",
   "metadata": {},
   "source": [
    "# go-接口interface"
   ]
  },
  {
   "cell_type": "markdown",
   "metadata": {},
   "source": [
    "* 接口是用来定义行为的类型。这些被定义的行为不由接口直接实现，而是通过方法由用户定义的类型实现。\n",
    "* 如果用户定义的类型实现了某个接口类型声明的一组方法，那么这个用户定义的类型的值就可以赋给这个接口类型的值。这个赋值会把用户定义的类型的值存入接口类型的值。\n",
    "* 对接口值方法的调用会执行接口值里存储的用户定义的类型的值对应的方法。\n",
    "\n",
    "* 接口值是一个两个字长度的数据结构\n",
    "    * 第一个字包含一个指向内部表的指针。这个内部表叫作 iTable，包含了所存储的值的类型信息。iTable 包含了已存储的值的类型信息以及与这个值相关联的一组方法。\n",
    "    * 第二个字是一个指向所存储值的指针。将类型信息和指针组合在一起，就将这两个值组成了一种特殊的关系。"
   ]
  },
  {
   "cell_type": "markdown",
   "metadata": {},
   "source": [
    "* Go 语言提供了另外一种数据类型: 接口\n",
    "\n",
    "* 接口定义: 把所有的具有共性的方法定义在一起，任何其他类型只要实现了这些方法就是实现了这个接口。\n",
    "\n",
    "```\n",
    "/* 定义接口 */\n",
    "type interface_name interface {\n",
    "   method_name1 [return_type]\n",
    "   method_name2 [return_type]\n",
    "   method_name3 [return_type]\n",
    "   ...\n",
    "   method_namen [return_type]\n",
    "}\n",
    "\n",
    "/* 定义结构体 */\n",
    "type struct_name struct {\n",
    "   /* variables */\n",
    "}\n",
    "\n",
    "/* 实现接口方法 */\n",
    "func (struct_name_variable struct_name) method_name1() [return_type] {\n",
    "   /* 方法实现 */\n",
    "}\n",
    "...\n",
    "func (struct_name_variable struct_name) method_namen() [return_type] {\n",
    "   /* 方法实现*/\n",
    "}\n",
    "```"
   ]
  },
  {
   "cell_type": "markdown",
   "metadata": {},
   "source": [
    "### 接口实现的例子"
   ]
  },
  {
   "cell_type": "markdown",
   "metadata": {},
   "source": [
    "```go\n",
    "package main\n",
    "\n",
    "import (\n",
    "    \"fmt\"\n",
    ")\n",
    "\n",
    "type Phone interface {\n",
    "    call()\n",
    "}\n",
    "\n",
    "type NokiaPhone struct {\n",
    "}\n",
    "\n",
    "func (nokiaPhone NokiaPhone) call() {\n",
    "    fmt.Println(\"I am Nokia, I can call you!\")\n",
    "}\n",
    "\n",
    "type IPhone struct {\n",
    "}\n",
    "\n",
    "func (iPhone IPhone) call() {\n",
    "    fmt.Println(\"I am iPhone, I can call you!\")\n",
    "}\n",
    "\n",
    "func main() {\n",
    "    var phone Phone\n",
    "\n",
    "    phone = new(NokiaPhone)\n",
    "    phone.call()\n",
    "\n",
    "    phone = new(IPhone)\n",
    "    phone.call()\n",
    "\n",
    "}\n",
    "```"
   ]
  },
  {
   "cell_type": "markdown",
   "metadata": {},
   "source": [
    "### 多态"
   ]
  },
  {
   "cell_type": "markdown",
   "metadata": {},
   "source": []
  },
  {
   "cell_type": "markdown",
   "metadata": {},
   "source": [
    "### 嵌入类型(组合)"
   ]
  },
  {
   "cell_type": "markdown",
   "metadata": {},
   "source": [
    "Go 语言允许用户扩展或者修改已有类型的行为。这个功能对代码复用很重要，这个就是嵌入类型（type embedding）。\n",
    "\n",
    "嵌入类型是将已有的类型直接声明在新的结构类型里。被嵌入的类型被称为新的外部类型的内部类型。\n",
    "\n",
    "通过嵌入类型，与内部类型相关的标识符会提升到外部类型上。这些被提升的标识符就像直接声明在外部类型里的标识符一样，也是外部类型的一部分。这样外部类型就组合了内部类型包含的所有属性，并且可以添加新的字段和方法。外部类型也可以通过声明与内部类型标识符同名的标识符来覆盖内部标识符的字段或者方法。这就是扩展或者修改已有类型的方法。"
   ]
  }
 ],
 "metadata": {
  "kernelspec": {
   "display_name": "Python 3",
   "language": "python",
   "name": "python3"
  },
  "language_info": {
   "codemirror_mode": {
    "name": "ipython",
    "version": 3
   },
   "file_extension": ".py",
   "mimetype": "text/x-python",
   "name": "python",
   "nbconvert_exporter": "python",
   "pygments_lexer": "ipython3",
   "version": "3.6.4"
  }
 },
 "nbformat": 4,
 "nbformat_minor": 2
}
