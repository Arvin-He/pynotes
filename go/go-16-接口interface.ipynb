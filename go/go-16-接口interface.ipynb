{
 "cells": [
  {
   "cell_type": "markdown",
   "metadata": {},
   "source": [
    "# go-接口interface"
   ]
  },
  {
   "cell_type": "markdown",
   "metadata": {},
   "source": [
    "* Go 语言提供了另外一种数据类型: 接口\n",
    "\n",
    "* 接口定义: 把所有的具有共性的方法定义在一起，任何其他类型只要实现了这些方法就是实现了这个接口。\n",
    "\n",
    "```\n",
    "/* 定义接口 */\n",
    "type interface_name interface {\n",
    "   method_name1 [return_type]\n",
    "   method_name2 [return_type]\n",
    "   method_name3 [return_type]\n",
    "   ...\n",
    "   method_namen [return_type]\n",
    "}\n",
    "\n",
    "/* 定义结构体 */\n",
    "type struct_name struct {\n",
    "   /* variables */\n",
    "}\n",
    "\n",
    "/* 实现接口方法 */\n",
    "func (struct_name_variable struct_name) method_name1() [return_type] {\n",
    "   /* 方法实现 */\n",
    "}\n",
    "...\n",
    "func (struct_name_variable struct_name) method_namen() [return_type] {\n",
    "   /* 方法实现*/\n",
    "}\n",
    "```"
   ]
  },
  {
   "cell_type": "markdown",
   "metadata": {},
   "source": [
    "### 接口实现的例子"
   ]
  },
  {
   "cell_type": "markdown",
   "metadata": {},
   "source": [
    "```go\n",
    "package main\n",
    "\n",
    "import (\n",
    "    \"fmt\"\n",
    ")\n",
    "\n",
    "type Phone interface {\n",
    "    call()\n",
    "}\n",
    "\n",
    "type NokiaPhone struct {\n",
    "}\n",
    "\n",
    "func (nokiaPhone NokiaPhone) call() {\n",
    "    fmt.Println(\"I am Nokia, I can call you!\")\n",
    "}\n",
    "\n",
    "type IPhone struct {\n",
    "}\n",
    "\n",
    "func (iPhone IPhone) call() {\n",
    "    fmt.Println(\"I am iPhone, I can call you!\")\n",
    "}\n",
    "\n",
    "func main() {\n",
    "    var phone Phone\n",
    "\n",
    "    phone = new(NokiaPhone)\n",
    "    phone.call()\n",
    "\n",
    "    phone = new(IPhone)\n",
    "    phone.call()\n",
    "\n",
    "}\n",
    "```"
   ]
  }
 ],
 "metadata": {
  "kernelspec": {
   "display_name": "Python 3",
   "language": "python",
   "name": "python3"
  },
  "language_info": {
   "codemirror_mode": {
    "name": "ipython",
    "version": 3
   },
   "file_extension": ".py",
   "mimetype": "text/x-python",
   "name": "python",
   "nbconvert_exporter": "python",
   "pygments_lexer": "ipython3",
   "version": "3.6.4"
  }
 },
 "nbformat": 4,
 "nbformat_minor": 2
}
