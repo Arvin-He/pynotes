{
 "cells": [
  {
   "cell_type": "markdown",
   "metadata": {},
   "source": [
    "# go-项目规划"
   ]
  },
  {
   "cell_type": "markdown",
   "metadata": {},
   "source": [
    "### gopath以及项目设置"
   ]
  },
  {
   "cell_type": "markdown",
   "metadata": {},
   "source": [
    "GOPATH可以是多个目录：\n",
    "* 在window系统设置环境变量；\n",
    "* 在linux/MacOS系统只要输入终端命令`export gopath=/home/astaxie/gopath`\n",
    "但是必须保证gopath这个代码目录下面有三个目录:\n",
    "1. pkg\n",
    "2. bin\n",
    "3. src\n",
    "\n",
    "新建项目的源码放在src目录下面，现在暂定我们的博客目录叫做beeblog，\n",
    "\n",
    "下面是在window下的环境变量和目录结构的截图：\n",
    "\n",
    "![](images/5.png)"
   ]
  },
  {
   "cell_type": "markdown",
   "metadata": {},
   "source": [
    "### 目录结构"
   ]
  },
  {
   "cell_type": "markdown",
   "metadata": {},
   "source": [
    "```\n",
    "|——main.go         入口文件\n",
    "|——conf            配置文件和处理模块\n",
    "|——controllers     控制器入口\n",
    "|——models          数据库处理模块\n",
    "|——utils           辅助函数库\n",
    "|——static          静态文件目录\n",
    "|——views           视图库\n",
    "```"
   ]
  },
  {
   "cell_type": "markdown",
   "metadata": {},
   "source": [
    "### Go自带的路由器有几个限制"
   ]
  },
  {
   "cell_type": "markdown",
   "metadata": {},
   "source": [
    "目前几乎所有的Web应用路由实现都是基于http默认的路由器，但是Go自带的路由器有几个限制：\n",
    "\n",
    "* 不支持参数设定，例如/user/:uid 这种泛类型匹配\n",
    "* 无法很好的支持REST模式，无法限制访问的方法，例如上面的例子中，用户访问/foo，可以用GET、POST、DELETE、HEAD等方式访问\n",
    "* 一般网站的路由规则太多了，编写繁琐。我前面自己开发了一个API应用，路由规则有三十几条，这种路由多了之后其实可以进一步简化，通过struct的方法进行一种简化"
   ]
  }
 ],
 "metadata": {
  "kernelspec": {
   "display_name": "Python 3",
   "language": "python",
   "name": "python3"
  },
  "language_info": {
   "codemirror_mode": {
    "name": "ipython",
    "version": 3
   },
   "file_extension": ".py",
   "mimetype": "text/x-python",
   "name": "python",
   "nbconvert_exporter": "python",
   "pygments_lexer": "ipython3",
   "version": "3.6.6"
  }
 },
 "nbformat": 4,
 "nbformat_minor": 2
}
