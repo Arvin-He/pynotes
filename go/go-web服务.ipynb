{
 "cells": [
  {
   "cell_type": "markdown",
   "metadata": {},
   "source": [
    "# go-web服务"
   ]
  },
  {
   "cell_type": "markdown",
   "metadata": {},
   "source": [
    "Web服务可以让你在HTTP协议的基础上通过XML或者JSON来交换信息。Web服务背后的关键在于平台的无关性，你可以运行你的服务在Linux系统，可以与其他Windows的asp.net程序交互，同样的，也可以通过同一个接口和运行在FreeBSD上面的JSP无障碍地通信。\n",
    "\n",
    "目前主流的有如下几种Web服务：REST、SOAP。\n",
    "\n",
    "REST请求是很直观的，因为REST是基于HTTP协议的一个补充，每一次请求都是一个HTTP请求，然后根据不同的method来处理不同的逻辑.\n",
    "\n",
    "SOAP是W3C在跨网络信息传递和远程计算机函数调用方面的一个标准。但是SOAP非常复杂，其完整的规范篇幅很长，而且内容仍然在增加。Go语言是以简单著称，所以不会介绍SOAP这样复杂的东西。而Go语言提供了一种天生性能很不错，开发起来很方便的RPC机制.\n",
    "\n",
    "很多游戏服务都是采用Socket来编写服务端，因为HTTP协议相对而言比较耗费性能，目前随着HTML5的发展，webSockets也逐渐的成为很多页游公司接下来开发的一些手段."
   ]
  },
  {
   "cell_type": "markdown",
   "metadata": {},
   "source": [
    "### Socket编程"
   ]
  },
  {
   "cell_type": "markdown",
   "metadata": {},
   "source": [
    "### 什么是scoket?"
   ]
  },
  {
   "cell_type": "markdown",
   "metadata": {},
   "source": [
    "Socket起源于Unix，而Unix基本哲学之一就是“一切皆文件”，都可以用“打开open –> 读写write/read –> 关闭close”模式来操作。\n",
    "\n",
    "Socket就是该模式的一个实现，网络的Socket数据传输是一种特殊的I/O，Socket也是一种文件描述符。\n",
    "\n",
    "Socket也具有一个类似打开文件的函数调用：Socket()，该函数返回一个整型Socket描述符，随后连接建立、数据传输等操作都是通过该Socket实现的。\n",
    "\n",
    "常用的Socket类型有两种：\n",
    "* 流式Socket（SOCK_STREAM）: 流式是一种面向连接的Socket，针对于面向连接的TCP服务应用.\n",
    "* 数据报式Socket（SOCK_DGRAM）: 数据报式Socket是一种无连接的Socket，对应于无连接的UDP服务应用。"
   ]
  },
  {
   "cell_type": "markdown",
   "metadata": {},
   "source": [
    "### scoket如何通信"
   ]
  },
  {
   "cell_type": "markdown",
   "metadata": {},
   "source": [
    "网络中进程之间如何通过Socket通信呢？\n",
    "\n",
    "首要解决的问题是如何唯一标识一个进程，否则通信无从谈起！在本地可以通过进程PID来唯一标识一个进程，但是在网络中这是行不通的。\n",
    "\n",
    "其实TCP/IP协议族已经帮我们解决了这个问题:\n",
    "* 网络层的“ip地址”可以唯一标识网络中的主机，\n",
    "* 传输层的“协议+端口”可以唯一标识主机中的应用程序（进程）。\n",
    "利用三元组（ip地址，协议，端口）就可以标识网络的进程了，网络中需要互相通信的进程，就可以利用这个标志在他们之间进行交互。请看下面这个TCP/IP协议结构图\n",
    "\n",
    "![](images/1.png)\n",
    "\n",
    "使用TCP/IP协议的应用程序通常采用应用编程接口：UNIX BSD的套接字（socket）和UNIX System V的TLI（已经被淘汰），来实现网络进程之间的通信。就目前而言，几乎所有的应用程序都是采用socket，而现在又是网络时代，网络中进程通信是无处不在，这就是为什么说“一切皆Socket”。"
   ]
  },
  {
   "cell_type": "markdown",
   "metadata": {},
   "source": [
    "### Socket基础知识"
   ]
  },
  {
   "cell_type": "markdown",
   "metadata": {},
   "source": [
    "上面介绍知道Socket有两种：TCP Socket和UDP Socket，TCP和UDP是协议，确定一个进程的需要三元组，IP地址,端口和协议。"
   ]
  },
  {
   "cell_type": "markdown",
   "metadata": {},
   "source": [
    "### IPv4地址"
   ]
  },
  {
   "cell_type": "markdown",
   "metadata": {},
   "source": [
    "目前全球因特网采用的协议族是TCP/IP协议。IP是TCP/IP协议中网络层的协议，是TCP/IP协议族的核心协议。目前主要采用的IP协议版本号是4(简称为IPv4)，发展至今已经使用了30多年。\n",
    "\n",
    "IPv4的地址位数为32位，也就是最多有2的32次方的网络设备可以联到Internet上。近十年来由于互联网的蓬勃发展，IP位址的需求量愈来愈大，使得IP位址的发放愈趋紧张，前一段时间，据报道IPV4的地址已经发放完毕，我们公司目前很多服务器的IP都是一个宝贵的资源。\n",
    "\n",
    "地址格式类似这样：127.0.0.1 172.122.121.111"
   ]
  },
  {
   "cell_type": "markdown",
   "metadata": {},
   "source": [
    "### IPv6地址"
   ]
  },
  {
   "cell_type": "markdown",
   "metadata": {},
   "source": [
    "IPv6是下一版本的互联网协议，也可以说是下一代互联网的协议，它是为了解决IPv4在实施过程中遇到的各种问题而被提出的，IPv6采用128位地址长度，几乎可以不受限制地提供地址。按保守方法估算IPv6实际可分配的地址，整个地球的每平方米面积上仍可分配1000多个地址。\n",
    "* 在IPv6的设计过程中除了一劳永逸地解决了地址短缺问题以外，\n",
    "* 还考虑了在IPv4中解决不好的其它问题，主要有端到端IP连接、服务质量（QoS）、安全性、多播、移动性、即插即用等。\n",
    "\n",
    "地址格式类似这样：2002:c0e8:82e7:0:0:0:c0e8:82e7"
   ]
  },
  {
   "cell_type": "markdown",
   "metadata": {},
   "source": [
    "### websocket"
   ]
  },
  {
   "cell_type": "markdown",
   "metadata": {},
   "source": [
    "WebSocket是HTML5的重要特性，它实现了基于浏览器的远程socket，它使浏览器和服务器可以全双工通信，Firefox、Chrome和Safari都已对此做了支持。\n",
    "\n",
    "在WebSocket出现之前，为了实现即时通信，采用的技术都是“轮询”，即在特定的时间间隔内，由浏览器对服务器发出HTTP Request，服务器在收到请求后，返回最新的数据给浏览器刷新，“轮询”使得浏览器需要对服务器不断发出请求，这样会占用大量带宽。\n",
    "\n",
    "WebSocket采用了一些特殊的报头，使得浏览器和服务器只需要做一个握手的动作，就可以在浏览器和服务器之间建立一条连接通道。且此连接会保持活动状态，你可以使用JavaScript来向连接写入或从中接收数据，就像使用一个常规TCP Socket一样。它解决了Web实时化的问题，相比传统HTTP有如下好处：\n",
    "\n",
    "* 一个Web客户端只建立一个TCP连接\n",
    "* Websocket服务端可以推送(push)数据到web客户端.\n",
    "* 有更加轻量级的头，减少数据传送量\n",
    "\n",
    "WebSocket URL的起始输入是`ws://`或是`wss://`（在SSL上）。下图展示了WebSocket的通信过程，一个带有特定报头的HTTP握手被发送到了服务器端，接着在服务器端或是客户端就可以通过JavaScript来使用某种套接口（socket），这一套接口可被用来通过事件句柄异步地接收数据。"
   ]
  },
  {
   "cell_type": "markdown",
   "metadata": {},
   "source": [
    "### websocket原理"
   ]
  },
  {
   "cell_type": "markdown",
   "metadata": {},
   "source": [
    "WebSocket的协议很简单，在第一次handshake通过以后，连接便建立成功，其后的通讯数据都是以”\\x00″开头，以”\\xFF”结尾。\n",
    "\n",
    "在客户端，这个是透明的，WebSocket组件会自动将原始数据“掐头去尾”。\n",
    "\n",
    "浏览器发出WebSocket连接请求，然后服务器发出回应，然后连接建立成功，这个过程通常称为“握手” (handshaking)。请看下面的请求和反馈信息：\n",
    "![](images/2.png)\n",
    "\n",
    "请求中的\"Sec-WebSocket-Key\"是随机的，这是一个经过base64编码后的数据。服务器端接收到这个请求之后需要把这个字符串连接上一个固定的字符串：\n",
    "`258EAFA5-E914-47DA-95CA-C5AB0DC85B11`即：f7cb4ezEAl6C3wRaU6JORA==连接上那一串固定字符串，生成一个这样的字符串：`f7cb4ezEAl6C3wRaU6JORA==258EAFA5-E914-47DA-95CA-C5AB0DC85B11`,对该字符串先用 sha1安全散列算法计算出二进制的值，然后用base64对其进行编码，即可以得到握手后的字符串：`rE91AJhfC+6JdVcVXOGJEADEJdQ=`,将之作为响应头Sec-WebSocket-Accept的值反馈给客户端。"
   ]
  },
  {
   "cell_type": "markdown",
   "metadata": {},
   "source": [
    "## REST"
   ]
  },
  {
   "cell_type": "markdown",
   "metadata": {},
   "source": [
    "RESTful，是目前最为流行的一种互联网软件架构。因为它结构清晰、符合标准、易于理解、扩展方便，所以正得到越来越多网站的采用。"
   ]
  },
  {
   "cell_type": "markdown",
   "metadata": {},
   "source": [
    "### 什么是REST"
   ]
  },
  {
   "cell_type": "markdown",
   "metadata": {},
   "source": [
    "REST(REpresentational State Transfer)这个概念，首次出现是在 2000年Roy Thomas Fielding（他是HTTP规范的主要编写者之一）的博士论文中，它指的是一组架构约束条件和原则。满足这些约束条件和原则的应用程序或设计就是RESTful的。\n",
    "\n",
    "要理解什么是REST，我们需要理解下面几个概念:\n",
    "\n",
    "* 资源（Resources）: REST是\"资源的表现层状态转化\"\n",
    "\n",
    "那么什么是资源呢？就是我们平常上网访问的一张图片、一个文档、一个视频等。这些资源我们通过URI来定位，也就是一个URI表示一个资源。\n",
    "\n",
    "* 表现层（Representation）:\n",
    "\n",
    "资源是做一个具体的实体信息，他可以有多种的展现方式。而把实体展现出来就是表现层，例如一个txt文本信息，他可以输出成html、json、xml等格式，一个图片他可以jpg、png等方式展现，这个就是表现层的意思。\n",
    "\n",
    "URI确定一个资源，但是如何确定它的具体表现形式呢？应该在HTTP请求的头信息中用Accept和Content-Type字段指定，这两个字段才是对\"表现层\"的描述。\n",
    "\n",
    "* 状态转化（State Transfer）\n",
    "\n",
    "访问一个网站，就代表了客户端和服务器的一个互动过程。在这个过程中，肯定涉及到数据和状态的变化。而HTTP协议是无状态的，那么这些状态肯定保存在服务器端，所以如果客户端想要通知服务器端改变数据和状态的变化，肯定要通过某种方式来通知它。\n",
    "\n",
    "客户端能通知服务器端的手段，只能是HTTP协议。具体来说，就是HTTP协议里面，四个表示操作方式的动词：GET、POST、PUT、DELETE。它们分别对应四种基本操作：\n",
    "1. GET用来获取资源，\n",
    "2. POST用来新建资源（也可以用于更新资源），\n",
    "3. PUT用来更新资源，\n",
    "4. DELETE用来删除资源。\n",
    "\n",
    "综合上面的解释，我们总结一下什么是RESTful架构：\n",
    "\n",
    "1. 每一个URI代表一种资源；\n",
    "2. 客户端和服务器之间，传递这种资源的某种表现层；\n",
    "3. 客户端通过四个HTTP动词，对服务器端资源进行操作，实现\"表现层状态转化\"。\n",
    "\n",
    "Web应用要满足REST最重要的原则是:\n",
    "* 客户端和服务器之间的交互在请求之间是无状态的,即从客户端到服务器的每个请求都必须包含理解请求所必需的信息。\n",
    "* 如果服务器在请求之间的任何时间点重启，客户端不会得到通知。\n",
    "* 此外此请求可以由任何可用服务器回答，这十分适合云计算之类的环境。因为是无状态的，所以客户端可以缓存数据以改进性能。\n",
    "\n",
    "另一个重要的REST原则是系统分层，这表示组件无法了解除了与它直接交互的层次以外的组件。通过将系统知识限制在单个层，可以限制整个系统的复杂性，从而促进了底层的独立性。\n",
    "\n",
    "当REST架构的约束条件作为一个整体应用时，将生成一个可以扩展到大量客户端的应用程序。它还降低了客户端和服务器之间的交互延迟。统一界面简化了整个系统架构，改进了子系统之间交互的可见性。REST简化了客户端和服务器的实现，而且对于使用REST开发的应用程序更加容易扩展。"
   ]
  },
  {
   "cell_type": "markdown",
   "metadata": {},
   "source": [
    "### restful实现"
   ]
  },
  {
   "cell_type": "markdown",
   "metadata": {},
   "source": [
    "Go没有为REST提供直接支持，但是因为RESTful是基于HTTP协议实现的，所以可以利用net/http包来自己实现，当然需要针对REST做一些改造，REST是根据不同的method来处理相应的资源，目前已经存在的很多自称是REST的应用，其实并没有真正的实现REST，我暂且把这些应用根据实现的method分成几个级别，请看下图：\n",
    "![](images/3.png)\n",
    "\n",
    "上图展示了实现REST的三个level，我们在应用开发的时候也不一定全部按照RESTful的规则全部实现他的方式，因为有些时候完全按照RESTful的方式未必是可行的，RESTful服务充分利用每一个HTTP方法，包括DELETE和PUT。可有时，HTTP客户端只能发出GET和POST请求：\n",
    " * HTML标准只能通过链接和表单支持GET和POST。在没有Ajax支持的网页浏览器中不能发出PUT或DELETE命令\n",
    " * 有些防火墙会挡住HTTP PUT和DELETE请求，要绕过这个限制，客户端需要把实际的PUT和DELETE请求通过 POST 请求穿透过来。RESTful 服务则要负责在收到的 POST 请求中找到原始的 HTTP 方法并还原。"
   ]
  },
  {
   "cell_type": "markdown",
   "metadata": {},
   "source": [
    "## RPC"
   ]
  },
  {
   "cell_type": "markdown",
   "metadata": {},
   "source": [
    "RPC就是想实现函数调用模式的网络化。客户端就像调用本地函数一样，然后客户端把这些参数打包之后通过网络传递到服务端，服务端解包到处理过程中执行，然后执行的结果反馈给客户端。\n",
    "\n",
    "RPC（Remote Procedure Call Protocol）——远程过程调用协议，是一种通过网络从远程计算机程序上请求服务，而不需要了解底层网络技术的协议。它假定某些传输协议的存在，如TCP或UDP，以便为通信程序之间携带信息数据。通过它可以使函数调用模式网络化。在OSI网络通信模型中，RPC跨越了传输层和应用层。RPC使得开发包括网络分布式多程序在内的应用程序更加容易。"
   ]
  },
  {
   "cell_type": "markdown",
   "metadata": {},
   "source": [
    "### RPC工作原理"
   ]
  },
  {
   "cell_type": "markdown",
   "metadata": {},
   "source": [
    "![](images/4.png)\n",
    "\n",
    "运行时,一次客户机对服务器的RPC调用,其内部操作大致有如下十步：\n",
    "\n",
    "1. 调用客户端句柄；执行传送参数\n",
    "2. 调用本地系统内核发送网络消息\n",
    "3. 消息传送到远程主机\n",
    "4. 服务器句柄得到消息并取得参数\n",
    "5. 执行远程过程\n",
    "6. 执行的过程将结果返回服务器句柄\n",
    "7. 服务器句柄返回结果，调用远程系统内核\n",
    "8. 消息传回本地主机\n",
    "9. 客户句柄由内核接收消息\n",
    "10. 客户接收句柄返回的数据"
   ]
  },
  {
   "cell_type": "markdown",
   "metadata": {},
   "source": [
    "### go RPC"
   ]
  },
  {
   "cell_type": "markdown",
   "metadata": {},
   "source": [
    "Go标准包中已经提供了对RPC的支持，而且支持三个级别的RPC：\n",
    "* TCP\n",
    "* HTTP\n",
    "* JSONRPC\n",
    "\n",
    "但Go的RPC包和传统的RPC系统不同，它只支持Go开发的服务器与客户端之间的交互，这是因为在内部采用了Gob来编码。\n",
    "\n",
    "Go RPC的函数只有符合下面的条件才能被远程访问，不然会被忽略，详细的要求如下：\n",
    "\n",
    "* 函数必须是导出的(首字母大写)\n",
    "* 必须有两个导出类型的参数，\n",
    "* 第一个参数是接收的参数，第二个参数是返回给客户端的参数，第二个参数必须是指针类型的\n",
    "* 函数还要有一个返回值error"
   ]
  }
 ],
 "metadata": {
  "kernelspec": {
   "display_name": "Python 3",
   "language": "python",
   "name": "python3"
  },
  "language_info": {
   "codemirror_mode": {
    "name": "ipython",
    "version": 3
   },
   "file_extension": ".py",
   "mimetype": "text/x-python",
   "name": "python",
   "nbconvert_exporter": "python",
   "pygments_lexer": "ipython3",
   "version": "3.6.4"
  }
 },
 "nbformat": 4,
 "nbformat_minor": 2
}
