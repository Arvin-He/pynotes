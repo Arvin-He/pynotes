{
 "cells": [
  {
   "cell_type": "markdown",
   "metadata": {},
   "source": [
    "# go-程序结构"
   ]
  },
  {
   "cell_type": "markdown",
   "metadata": {},
   "source": [
    "### 关键字和基本类型"
   ]
  },
  {
   "cell_type": "markdown",
   "metadata": {},
   "source": [
    "#### 关键字"
   ]
  },
  {
   "cell_type": "markdown",
   "metadata": {},
   "source": [
    "break      default       func     interface   select\n",
    "case       defer         go       map         struct\n",
    "chan       else          goto     package     switch\n",
    "const      fallthrough   if       range       type\n",
    "continue   for           import   return      var"
   ]
  },
  {
   "cell_type": "markdown",
   "metadata": {},
   "source": [
    "#### build-in "
   ]
  },
  {
   "cell_type": "markdown",
   "metadata": {},
   "source": [
    "内建常量: true false iota nil\n",
    "\n",
    "内建类型: int int8 int16 int32 int64\n",
    "          uint uint8 uint16 uint32 uint64 uintptr\n",
    "          float32 float64 complex128 complex64\n",
    "          bool byte rune string error\n",
    "          \n",
    "内建函数: make len cap new append copy close delete\n",
    "          complex real imag\n",
    "          panic recover                 "
   ]
  },
  {
   "cell_type": "markdown",
   "metadata": {},
   "source": [
    "Go语言程序员推荐使用 驼峰式 命名\n",
    "\n",
    "Go语言主要有四种类型的声明语句：var、const、type和func，分别对应变量、常量、类型和函数实体对象的声明。"
   ]
  },
  {
   "cell_type": "markdown",
   "metadata": {},
   "source": [
    "Go语言将数据类型分为四类：基础类型、复合类型、引用类型和接口类型。\n",
    "\n",
    "基础类型，包括：数字、字符串和布尔型。\n",
    "\n",
    "复合数据类型——数组和结构体——是通过组合简单类型，来表达更加复杂的数据结构。\n",
    "\n",
    "引用类型包括指针、切片, 字典、函数、通道，虽然数据种类很多，但它们都是对程序中一个变量或状态的间接引用。这意味着对任一引用类型数据的修改都会影响所有该引用的拷贝。"
   ]
  }
 ],
 "metadata": {
  "kernelspec": {
   "display_name": "Python 3",
   "language": "python",
   "name": "python3"
  },
  "language_info": {
   "codemirror_mode": {
    "name": "ipython",
    "version": 3
   },
   "file_extension": ".py",
   "mimetype": "text/x-python",
   "name": "python",
   "nbconvert_exporter": "python",
   "pygments_lexer": "ipython3",
   "version": "3.6.4"
  }
 },
 "nbformat": 4,
 "nbformat_minor": 2
}
