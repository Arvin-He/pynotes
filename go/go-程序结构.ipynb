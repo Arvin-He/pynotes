{
 "cells": [
  {
   "cell_type": "markdown",
   "metadata": {},
   "source": [
    "# go-程序结构"
   ]
  },
  {
   "cell_type": "markdown",
   "metadata": {},
   "source": [
    "### 关键字和基本类型"
   ]
  },
  {
   "cell_type": "markdown",
   "metadata": {},
   "source": [
    "#### 关键字"
   ]
  },
  {
   "cell_type": "markdown",
   "metadata": {},
   "source": [
    "break      default       func     interface   select\n",
    "case       defer         go       map         struct\n",
    "chan       else          goto     package     switch\n",
    "const      fallthrough   if       range       type\n",
    "continue   for           import   return      var"
   ]
  },
  {
   "cell_type": "markdown",
   "metadata": {},
   "source": [
    "#### build-in "
   ]
  },
  {
   "cell_type": "markdown",
   "metadata": {},
   "source": [
    "内建常量: true false iota nil\n",
    "\n",
    "内建类型: int int8 int16 int32 int64\n",
    "          uint uint8 uint16 uint32 uint64 uintptr\n",
    "          float32 float64 complex128 complex64\n",
    "          bool byte rune string error\n",
    "          \n",
    "内建函数: make len cap new append copy close delete\n",
    "          complex real imag\n",
    "          panic recover                 "
   ]
  },
  {
   "cell_type": "markdown",
   "metadata": {},
   "source": [
    "Go语言程序员推荐使用 驼峰式 命名\n",
    "\n",
    "Go语言主要有四种类型的声明语句：var、const、type和func，分别对应变量、常量、类型和函数实体对象的声明。"
   ]
  },
  {
   "cell_type": "markdown",
   "metadata": {},
   "source": [
    "Go语言将数据类型分为四类：基础类型、复合类型、引用类型和接口类型。\n",
    "\n",
    "基础类型，包括：数字、字符串和布尔型。\n",
    "\n",
    "复合数据类型——数组和结构体——是通过组合简单类型，来表达更加复杂的数据结构。\n",
    "\n",
    "引用类型包括指针、切片, 字典、函数、通道，虽然数据种类很多，但它们都是对程序中一个变量或状态的间接引用。这意味着对任一引用类型数据的修改都会影响所有该引用的拷贝。"
   ]
  },
  {
   "cell_type": "markdown",
   "metadata": {},
   "source": [
    "### 基本类型"
   ]
  },
  {
   "cell_type": "markdown",
   "metadata": {},
   "source": [
    "不管它们的具体大小，int、uint和uintptr是不同类型的兄弟类型。\n",
    "\n",
    "其中int和int32也是不同的类型，即使int的大小也是32bit，在需要将int当作int32类型的地方需要一个显式的类型转换操作，反之亦然。\n",
    "\n",
    "Go语言提供了两种精度的浮点数，float32和float64。\n",
    "\n",
    "Go语言提供了两种精度的复数类型：complex64和complex128，分别对应float32和float64两种浮点数精度。\n",
    "\n",
    "内置的complex函数用于构建复数，内建的real和imag函数分别返回复数的实部和虚部\n",
    "\n",
    "复数也可以用==和!=进行相等比较。只有两个复数的实部和虚部都相等的时候它们才是相等的\n",
    "\n",
    "（译注：浮点数的相等比较是危险的，需要特别小心处理精度问题）。\n",
    "\n",
    "布尔值并不会隐式转换为数字值0或1，反之亦然。必须使用一个显式的if语句辅助转换：\n",
    "```go\n",
    "i := 0\n",
    "if b {\n",
    "    i = 1\n",
    "}\n",
    "```\n",
    "\n",
    "常量表达式的值在编译期计算，而不是在运行期。每种常量的类型都是基础类型：boolean、string或数字。\n"
   ]
  },
  {
   "cell_type": "markdown",
   "metadata": {},
   "source": [
    "### 复合数据类型"
   ]
  },
  {
   "cell_type": "markdown",
   "metadata": {},
   "source": [
    "四种复合数据类型:\n",
    "1. 数组\n",
    "2. slice (动态数组,相当于python中的list)\n",
    "3. map (相当于python中的dict)\n",
    "4. 结构体 \n",
    "\n",
    "数组和结构体是聚合类型:\n",
    "* 数组是由同构的元素组成——每个数组元素都是完全相同的类型,\n",
    "* 结构体则是由异构的元素组成的,\n",
    "* 数组和结构体都是有固定内存大小的数据结构.\n",
    "\n",
    "slice和map则是动态的数据结构，它们将根据需要动态增长。\n",
    "\n",
    "数组: 由固定长度的指定类型元素组成的序列，一个数组可以由零个或多个元素组成。数组的长度是固定的，在Go语言中很少直接使用数组。\n",
    "\n",
    "Slice（切片）代表变长的序列，**序列中每个元素都有相同的类型**。一个slice类型一般写作`[]T`，其中T代表slice中元素的类型；slice的语法和数组很像，只是没有固定长度而已。\n",
    "\n",
    "Map的迭代顺序是不确定的，并且不同的哈希函数实现可能导致不同的遍历顺序。在实践中，遍历的顺序是随机的，每一次遍历的顺序都不相同。\n",
    "\n",
    "Go语言中并没有提供一个set类型，但是可以用map实现类似set的功能。\n",
    "\n",
    "结构体是一种聚合的数据类型，是由零个或多个任意类型的值聚合成的实体。每个值称为结构体的成员。"
   ]
  },
  {
   "cell_type": "markdown",
   "metadata": {},
   "source": [
    "### 多个返回值"
   ]
  },
  {
   "cell_type": "markdown",
   "metadata": {},
   "source": [
    "在Go中，一个函数可以返回多个值.\n",
    "\n",
    "如果一个函数将所有的返回值都显示的变量名，那么该函数的return语句可以省略操作数。这称之为bare return。\n",
    "\n",
    "bare return 可以减少代码的重复，但是使得代码难以被理解, 不宜过度使用bare return。"
   ]
  },
  {
   "cell_type": "markdown",
   "metadata": {},
   "source": [
    "### 函数值"
   ]
  },
  {
   "cell_type": "markdown",
   "metadata": {},
   "source": [
    "在Go中，函数被看作第一类值（first-class values）：函数像其他值一样，拥有类型，可以被赋值给其他变量，传递给函数，从函数返回。\n",
    "\n",
    "函数值可以与nil比较\n",
    "\n",
    "但是函数值之间是不可比较的，也不能用函数值作为map的key。"
   ]
  },
  {
   "cell_type": "markdown",
   "metadata": {},
   "source": [
    "### 匿名函数"
   ]
  },
  {
   "cell_type": "markdown",
   "metadata": {},
   "source": [
    "函数字面量的语法和函数声明相似，区别在于func关键字后没有函数名。函数值字面量是一种表达式，它的值被称为匿名函数（anonymous function）。"
   ]
  },
  {
   "cell_type": "code",
   "execution_count": null,
   "metadata": {},
   "outputs": [],
   "source": [
    "// squares返回一个匿名函数。\n",
    "// 该匿名函数每次被调用时都会返回下一个数的平方。\n",
    "func squares() func() int {\n",
    "    var x int\n",
    "    return func() int {\n",
    "        x++\n",
    "        return x * x\n",
    "    }\n",
    "}\n",
    "\n",
    "func main() {\n",
    "    f := squares()\n",
    "    fmt.Println(f()) // \"1\"\n",
    "    fmt.Println(f()) // \"4\"\n",
    "    fmt.Println(f()) // \"9\"\n",
    "    fmt.Println(f()) // \"16\"\n",
    "}"
   ]
  },
  {
   "cell_type": "markdown",
   "metadata": {},
   "source": [
    "函数值不仅仅是一串代码，还记录了状态。在squares中定义的匿名内部函数可以访问和更新squares中的局部变量，这意味着匿名函数和squares中，存在变量引用。这就是函数值属于引用类型和函数值不可比较的原因。Go使用闭包（closures）技术实现函数值，Go程序员也把函数值叫做闭包。"
   ]
  },
  {
   "cell_type": "markdown",
   "metadata": {},
   "source": [
    "### 可变参数"
   ]
  },
  {
   "cell_type": "markdown",
   "metadata": {},
   "source": [
    "在声明可变参数函数时，需要在参数列表的**最后一个参数类型之前**加上省略符号“…”，这表示该函数会接收**任意数量的该类型参数**。"
   ]
  },
  {
   "cell_type": "markdown",
   "metadata": {},
   "source": [
    "### defer"
   ]
  },
  {
   "cell_type": "markdown",
   "metadata": {},
   "source": [
    "defer语句经常被用于处理成对的操作，如打开、关闭、连接、断开连接、加锁、释放锁。\n",
    "\n",
    "通过defer机制，不论函数逻辑多复杂，都能保证在任何执行路径下，资源被释放。释放资源的defer应该直接跟在请求资源的语句后。\n",
    "\n",
    "注意一点：不要忘记defer语句后的圆括号，否则本该在进入时执行的操作会在退出时执行，而本该在退出时执行的，永远不会被执行。\n",
    "\n",
    "defer语句中的函数会在return语句更新返回值变量后再执行，又因为在函数中定义的匿名函数可以访问该函数包括返回值变量在内的所有变量，所以，对匿名函数采用defer机制，可以使其观察函数的返回值。"
   ]
  }
 ],
 "metadata": {
  "kernelspec": {
   "display_name": "Python 3",
   "language": "python",
   "name": "python3"
  },
  "language_info": {
   "codemirror_mode": {
    "name": "ipython",
    "version": 3
   },
   "file_extension": ".py",
   "mimetype": "text/x-python",
   "name": "python",
   "nbconvert_exporter": "python",
   "pygments_lexer": "ipython3",
   "version": "3.6.4"
  }
 },
 "nbformat": 4,
 "nbformat_minor": 2
}
