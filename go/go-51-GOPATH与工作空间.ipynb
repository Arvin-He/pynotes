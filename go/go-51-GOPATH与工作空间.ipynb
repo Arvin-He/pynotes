{
 "cells": [
  {
   "cell_type": "markdown",
   "metadata": {},
   "source": [
    "# go-GOPATH与工作空间"
   ]
  },
  {
   "cell_type": "markdown",
   "metadata": {},
   "source": [
    "从go 1.8开始，GOPATH环境变量现在有一个默认值。\n",
    "* Unix上默认为`$HOME/go`\n",
    "* Windows上默认为`%USERPROFILE%/go`\n",
    "\n",
    "在控制台输入: `echo %GOPATH%`,就可知道具体的GOPATH了, 如: `C:\\Users\\hippo\\go`"
   ]
  },
  {
   "cell_type": "markdown",
   "metadata": {},
   "source": [
    "### GOPATH设置"
   ]
  },
  {
   "cell_type": "markdown",
   "metadata": {},
   "source": [
    "* Windows系统中环境变量的形式为: `%GOPATH%`, \n",
    "* Unix系统中环境变量的形式为:`$GOPATH`\n",
    "\n",
    "注意: \n",
    "1. 这个不是go的安装目录,这是你的go项目的工作目录\n",
    "2. 一般大多数人不会选择默认的工作目录,也就是设置自定义的工作目录,即设置GOPATH变量了.\n",
    "\n",
    "类 Unix 环境下大概这样设置：`export GOPATH=/home/username/mygo`,为了方便，应该新建以上文件夹，并且上一行加入到 .bashrc 或者 .zshrc 或者自己的 sh 的配置文件中。\n",
    "\n",
    "Windows 设置如下，新建一个环境变量名称叫做GOPATH：`GOPATH=c:\\mygo`\n",
    "\n",
    "GOPATH允许多个目录，当有多个目录时，请注意分隔符，多个目录的时候Windows是分号，Linux系统是冒号，当有多个GOPATH时，默认会将go get的内容放在第一个目录下。\n",
    "\n",
    " $GOPATH 目录约定有三个子目录：\n",
    "* src 存放源代码（比如：.go .c .h .s等）\n",
    "* pkg 编译后生成的文件（比如：.a）\n",
    "* bin 编译后生成的可执行文件（为了方便，可以把此目录加入到 `$PATH` 变量中，如果有多个gopath，那么使用`${GOPATH//://bin:}/bin`添加所有的bin目录）"
   ]
  },
  {
   "cell_type": "markdown",
   "metadata": {},
   "source": [
    "### 代码目录结构规划"
   ]
  },
  {
   "cell_type": "markdown",
   "metadata": {},
   "source": [
    "* src目录就是开发程序的主要目录，所有的源码都是放在这个目录下面，\n",
    "* 一般我们的做法是一个目录一个项目，如:`$GOPATH/src/mymath` 表示mymath是个应用包或可执行应用，这个根据package是main包还是其他来决定，main的话就是可执行应用，否则就是应用包。\n",
    "\n",
    "注意：一般建议package的名称和目录名保持一致"
   ]
  },
  {
   "cell_type": "markdown",
   "metadata": {},
   "source": [
    "### 编译应用"
   ]
  },
  {
   "cell_type": "markdown",
   "metadata": {},
   "source": [
    "建立了自己的应用包，如何进行编译安装呢？有两种方式可以进行安装\n",
    "\n",
    "1. 只要进入对应的应用包目录，然后执行go install，就可以安装了\n",
    "2. 在任意的目录执行如下代码`go install mymath`\n",
    "\n",
    "安装完之后，我们可以进入如下目录\n",
    "```\n",
    "cd $GOPATH/pkg/${GOOS}_${GOARCH}\n",
    "//可以看到如下文件\n",
    "mymath.a\n",
    "```\n",
    "\n",
    "这个.a文件就是应用包，那么如何进行调用呢？\n",
    "\n",
    "1. 新建一个应用程序来调用这个应用包mathapp, \n",
    "```\n",
    "cd $GOPATH/src\n",
    "mkdir mathapp\n",
    "cd mathapp\n",
    "touch main.go\n",
    "```\n",
    "2. $GOPATH/src/mathapp/main.go源码：\n",
    "```go\n",
    "package main\n",
    "\n",
    "import (\n",
    "\t\"mymath\"\n",
    "\t\"fmt\"\n",
    ")\n",
    "\n",
    "func main() {\n",
    "\tfmt.Printf(\"Hello, world.  Sqrt(2) = %v\\n\", mymath.Sqrt(2))\n",
    "}\n",
    "```\n",
    "可以看到这个package是main包，import里面调用的包是mymath,这个就是相对于`$GOPATH/src`的路径，如果是多级目录，就在import里面引入多级目录，如果有多个GOPATH，也是一样，Go会自动在多个`$GOPATH/src`中寻找。"
   ]
  },
  {
   "cell_type": "markdown",
   "metadata": {},
   "source": [
    "### 获取远程包"
   ]
  },
  {
   "cell_type": "markdown",
   "metadata": {},
   "source": [
    "go语言有一个获取远程包的工具就是go get，目前go get支持多数开源社区(例如：github、googlecode、bitbucket、Launchpad)\n",
    "\n",
    "`go get github.com/astaxie/beedb`\n",
    "\n",
    "go get -u 参数可以自动更新包，而且当go get的时候会自动获取该包依赖的其他第三方包\n",
    "\n",
    "go get本质上可以理解为首先第一步是通过源码工具clone代码到src下面，然后执行go install\n",
    "\n",
    "在代码中如何使用远程包?\n",
    "\n",
    "和使用本地包一样，只要在开头import相应的路径就可以`import \"github.com/astaxie/beedb\"`\n"
   ]
  }
 ],
 "metadata": {
  "kernelspec": {
   "display_name": "Python 3",
   "language": "python",
   "name": "python3"
  },
  "language_info": {
   "codemirror_mode": {
    "name": "ipython",
    "version": 3
   },
   "file_extension": ".py",
   "mimetype": "text/x-python",
   "name": "python",
   "nbconvert_exporter": "python",
   "pygments_lexer": "ipython3",
   "version": "3.6.6"
  }
 },
 "nbformat": 4,
 "nbformat_minor": 2
}
