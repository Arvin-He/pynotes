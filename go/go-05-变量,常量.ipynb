{
 "cells": [
  {
   "cell_type": "markdown",
   "metadata": {},
   "source": [
    "# go-变量,常量"
   ]
  },
  {
   "cell_type": "markdown",
   "metadata": {},
   "source": [
    "### 变量"
   ]
  },
  {
   "cell_type": "markdown",
   "metadata": {},
   "source": [
    "* Go 语言变量名由字母、数字、下划线组成，其中首个字母不能为数字。\n",
    "* 声明变量的一般形式是使用 var 关键字：\n",
    "  `var identifier type`"
   ]
  },
  {
   "cell_type": "markdown",
   "metadata": {},
   "source": [
    "### 变量初始化"
   ]
  },
  {
   "cell_type": "markdown",
   "metadata": {},
   "source": [
    "在 Go 语言中，所有变量都被初始化为其零值。\n",
    "* 数值类型，零值是 0；\n",
    "* 字符串类型，零值是空字符串；\n",
    "* 布尔类型，零值是 false；\n",
    "* 指针，零值是 nil。\n",
    "* 引用类型，所引用的底层数据结构会被初始化为对应的零值。但被声明为其零值的引用类型的变量，会返回 nil 作为其值。"
   ]
  },
  {
   "cell_type": "markdown",
   "metadata": {},
   "source": [
    "### 变量声明"
   ]
  },
  {
   "cell_type": "markdown",
   "metadata": {},
   "source": [
    "1. 指定变量类型，声明后若不赋值，使用默认值。\n",
    "```\n",
    "var v_name v_type\n",
    "v_name = value\n",
    "```\n",
    "2. 根据值自行判定变量类型\n",
    "```\n",
    "var v_name = value\n",
    "```\n",
    "3. 省略var, 注意`:=`左侧的变量不应该是已经声明过的，否则会导致编译错误。\n",
    "```\n",
    "v_name := value\n",
    "```\n",
    "4. 多变量声明\n",
    "```\n",
    "//类型相同多个变量, 非全局变量\n",
    "var vname1, vname2, vname3 type\n",
    "vname1, vname2, vname3 = v1, v2, v3\n",
    "\n",
    "//和python很像,不需要显示声明类型，自动推断\n",
    "var vname1, vname2, vname3 = v1, v2, v3 \n",
    "\n",
    "//出现在:=左侧的变量不应该是已经被声明过的，否则会导致编译错误\n",
    "vname1, vname2, vname3 := v1, v2, v3 \n",
    "\n",
    "// 这种因式分解关键字的写法一般用于声明全局变量\n",
    "var (\n",
    "    vname1 v_type1\n",
    "    vname2 v_type2\n",
    ")\n",
    "```"
   ]
  },
  {
   "cell_type": "markdown",
   "metadata": {},
   "source": [
    "### 关于无用的局部变量"
   ]
  },
  {
   "cell_type": "markdown",
   "metadata": {},
   "source": [
    "Go语言不允许使用无用的局部变量（local variables），因为这会导致编译错误\n",
    "\n",
    "解决方法是用空标识符（blank identifier），即`_`（也就是下划线）,\n",
    "\n",
    "这与python中使用`_`占位符一样来丢弃不关心的变量"
   ]
  },
  {
   "cell_type": "markdown",
   "metadata": {},
   "source": [
    "### 值类型和引用类型"
   ]
  },
  {
   "cell_type": "markdown",
   "metadata": {},
   "source": [
    "* 所有像 int、float、bool 和 string 这些基本类型都属于值类型，使用这些类型的变量直接指向存在内存中的值\n",
    "* 值类型的变量的值存储在栈中。\n",
    "* 内存地址会根据机器的不同而有所不同，甚至相同的程序在不同的机器上执行后也会有不同的内存地址。因为每台机器可能有不同的存储器布局，并且位置分配也可能不同。\n",
    "* 复杂的数据通常会需要使用多个字，这些数据一般使用引用类型保存。\n",
    "* 一个引用类型的变量 r1 存储的是 r1 的值所在的内存地址（数字），或内存地址中第一个字所在的位置。\n",
    "* 这个内存地址为称之为指针，这个指针实际上也被存在另外的某一个字中。\n",
    "* 同一个引用类型的指针指向的多个字可以是在连续的内存地址中（内存布局是连续的），这也是计算效率最高的一种存储形式；也可以将这些字分散存放在内存中，每个字都指示了下一个字所在的内存地址。"
   ]
  },
  {
   "cell_type": "markdown",
   "metadata": {},
   "source": [
    "### 注意事项"
   ]
  },
  {
   "cell_type": "markdown",
   "metadata": {},
   "source": [
    "1. 在相同的代码块中，不可以再次对于相同名称的变量使用初始化声明,编译器会提示错误\n",
    "2. 声明了一个局部变量却没有在相同的代码块中使用它，同样会得到编译错误\n",
    "3. 全局变量是允许声明但不使用\n",
    "4. 同一类型的多个变量可以声明在同一行, `var a, b, c int`\n",
    "5. 多变量可以在同一行进行赋值, \n",
    "```\n",
    "var a, b int\n",
    "var c string\n",
    "a, b, c = 5, 7, \"abc\"\n",
    "```\n",
    "6. 交换两个变量的值，则可以简单地使用 a, b = b, a，两个变量的类型必须是相同\n",
    "7. 空白标识符 `_` 也被用于抛弃值，如值 5 在：_, b = 5, 7 中被抛弃。`_` 实际上是一个只写变量，你不能得到它的值。这样做是因为 Go 语言中你必须使用所有被声明的变量，但有时你并不需要使用从一个函数得到的所有返回值。\n",
    "8. 并行赋值也被用于当一个函数返回多个返回值时，比如这里的 val 和错误 err 是通过调用 Func1 函数同时得到：`val, err = Func1(var1)`。"
   ]
  },
  {
   "cell_type": "markdown",
   "metadata": {},
   "source": [
    "### 常量"
   ]
  },
  {
   "cell_type": "markdown",
   "metadata": {},
   "source": [
    "常量使用const关键字标识，在程序运行时，不会被修改的量。\n",
    "\n",
    "常量中的数据类型只可以是: \n",
    "* 布尔型\n",
    "* 数字型（整数型、浮点型和复数）\n",
    "* 字符串型\n",
    "\n",
    "常量的定义格式：`const identifier [type] = value`"
   ]
  },
  {
   "cell_type": "markdown",
   "metadata": {},
   "source": [
    "### 常量声明"
   ]
  },
  {
   "cell_type": "markdown",
   "metadata": {},
   "source": [
    "* 显式类型定义： `const b string = \"abc\"`\n",
    "* 隐式类型定义： `const b = \"abc\"`\n",
    "* 多个相同类型的声明：`const c_name1, c_name2 = value1, value2`"
   ]
  },
  {
   "cell_type": "markdown",
   "metadata": {},
   "source": [
    "### itoa"
   ]
  },
  {
   "cell_type": "markdown",
   "metadata": {},
   "source": [
    "iota，特殊常量，可以认为是一个可以被编译器修改的常量。\n",
    "\n",
    "iota 在 const关键字出现时将被重置为 0(const 内部的第一行之前)，const 中每新增一行常量声明将使 iota 计数一次(iota 可理解为 const 语句块中的行索引)。\n",
    "\n",
    "iota 可以被用作枚举值：\n",
    "```\n",
    "const (\n",
    "    a = iota\n",
    "    b = iota\n",
    "    c = iota\n",
    ")\n",
    "```\n",
    "第一个 iota 等于 0，每当 iota 在新的一行被使用时，它的值都会自动加 1；所以 a=0, b=1, c=2 可以简写为如下形式：\n",
    "```\n",
    "const (\n",
    "    a = iota\n",
    "    b\n",
    "    c\n",
    ")\n",
    "```\n",
    "其他用法:\n",
    "```\n",
    "const (\n",
    "            a = iota   //0\n",
    "            b          //1\n",
    "            c          //2\n",
    "            d = \"ha\"   //独立值，iota += 1\n",
    "            e          //\"ha\"   iota += 1\n",
    "            f = 100    //iota +=1\n",
    "            g          //100  iota +=1\n",
    "            h = iota   //7,恢复计数\n",
    "            i          //8\n",
    "    )\n",
    "```\n",
    "\n",
    "```\n",
    "const (\n",
    "    i=1<<iota\n",
    "    j=3<<iota\n",
    "    k\n",
    "    l\n",
    ")\n",
    "```\n",
    "iota 表示从 0 开始自动加 1，所以 i=1<<0, j=3<<1（<< 表示左移的意思），即：i=1, j=6，这没问题，关键在 k 和 l，从输出结果看 k=3<<2，l=3<<3。\n",
    "\n",
    "简单表述:\n",
    "```\n",
    "i=1：左移 0 位,不变仍为 1;\n",
    "j=3：左移 1 位,变为二进制 110, 即 6;\n",
    "k=3：左移 2 位,变为二进制 1100, 即 12;\n",
    "l=3：左移 3 位,变为二进制 11000,即 24。\n",
    "```"
   ]
  }
 ],
 "metadata": {
  "kernelspec": {
   "display_name": "Python 3",
   "language": "python",
   "name": "python3"
  },
  "language_info": {
   "codemirror_mode": {
    "name": "ipython",
    "version": 3
   },
   "file_extension": ".py",
   "mimetype": "text/x-python",
   "name": "python",
   "nbconvert_exporter": "python",
   "pygments_lexer": "ipython3",
   "version": "3.6.6"
  }
 },
 "nbformat": 4,
 "nbformat_minor": 2
}
