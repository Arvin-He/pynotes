{
 "cells": [
  {
   "cell_type": "markdown",
   "metadata": {},
   "source": [
    "# go-数组与切片"
   ]
  },
  {
   "cell_type": "markdown",
   "metadata": {},
   "source": [
    "### 数组"
   ]
  },
  {
   "cell_type": "markdown",
   "metadata": {},
   "source": [
    "数组是具有相同唯一类型的一组已编号且长度固定的数据项序列\n",
    "\n",
    "* 数组内所有元素类型相同\n",
    "* 内存地址连续且长度固定"
   ]
  },
  {
   "cell_type": "markdown",
   "metadata": {},
   "source": [
    "### 声明数组"
   ]
  },
  {
   "cell_type": "markdown",
   "metadata": {},
   "source": [
    "数组长度必须是整数且大于 0\n",
    "\n",
    "`var variable_name [SIZE] variable_type`\n",
    "\n",
    "例子:\n",
    "```\n",
    "var balance = [5]float32{1000.0, 2.0, 3.4, 7.0, 50.0}\n",
    "var balance = [...]float32{1000.0, 2.0, 3.4, 7.0, 50.0}\n",
    "```"
   ]
  },
  {
   "cell_type": "markdown",
   "metadata": {},
   "source": [
    "### 多维数组"
   ]
  },
  {
   "cell_type": "markdown",
   "metadata": {},
   "source": [
    "```go\n",
    "// 声明一个二维整型数组，两个维度分别存储 4 个元素和 2 个元素\n",
    "var array [4][2]int\n",
    "\n",
    "// 使用数组字面量来声明并初始化一个二维整型数组\n",
    "array := [4][2]int{{10, 11}, {20, 21}, {30, 31}, {40, 41}}\n",
    "\n",
    "// 声明并初始化外层数组中索引为 1 个和 3 的元素\n",
    "array := [4][2]int{1: {20, 21}, 3: {40, 41}}\n",
    "\n",
    "// 声明并初始化外层数组和内层数组的单个元素\n",
    "array := [4][2]int{1: {0: 20}, 3: {1: 41}}\n",
    "```"
   ]
  },
  {
   "cell_type": "markdown",
   "metadata": {},
   "source": [
    "### 在函数间传递数组"
   ]
  },
  {
   "cell_type": "markdown",
   "metadata": {},
   "source": [
    "根据内存和性能来看，在函数间传递数组是一个开销很大的操作.\n",
    "\n",
    "可以只传入指向数组的指针，这样只需要复制 8 字节的数据\n",
    "\n",
    "```go\n",
    "// 分配一个需要 8 MB 的数组\n",
    "var array [1e6]int\n",
    "// 将数组的地址传递给函数 foo\n",
    "foo(&array)\n",
    "// 函数 foo 接受一个指向 100 万个整型值的数组的指针\n",
    "func foo(array *[1e6]int) {\n",
    "...\n",
    "}\n",
    "```\n",
    "\n",
    "这个操作会更有效地利用内存，性能也更好。不过要意识到，因为现在传递的是指针，\n",
    "\n",
    "所以如果改变指针指向的值，会改变共享的内存。如你所见，使用切片能更好地处理这类共享问题。"
   ]
  },
  {
   "cell_type": "markdown",
   "metadata": {},
   "source": [
    "### 数组其他用法"
   ]
  },
  {
   "cell_type": "markdown",
   "metadata": {},
   "source": [
    "1. 多维数组: Go 语言支持多维数组，最简单的多维数组是二维数组\n",
    "2. 向函数传递数组: \t可以向函数传递数组参数"
   ]
  },
  {
   "cell_type": "markdown",
   "metadata": {},
   "source": [
    "### 切片(Slice)"
   ]
  },
  {
   "cell_type": "markdown",
   "metadata": {},
   "source": [
    "切片是围绕动态数组的概念构建的，可以按需自动增长和缩小。\n",
    "\n",
    "切片的动态增长是通过内置函数 append 来实现的。这个函数可以快速且高效地增长切片。\n",
    "\n",
    "还可以通过对切片再次切片来缩小一个切片的大小。\n",
    "\n",
    "因为切片的底层内存也是在连续块中分配的，所以切片还能获得索引、迭代以及为垃圾回收优化的好处。\n",
    "\n",
    "切片是一个很小的对象，对底层数组进行了抽象，并提供相关的操作方法。切片有 3 个字段的数据结构，这些数据结构包含 Go 语言需要操作底层数组的元数据。这 3 个字段分别是指向底层数组的指针、切片访问的元素的个数（即长度）和切片允许增长到的元素个数（即容量）。\n",
    "\n"
   ]
  },
  {
   "cell_type": "markdown",
   "metadata": {},
   "source": [
    "* 切片是对数组的抽象, 是go语言内置类型(\"动态数组\"),\n",
    "* 切片的长度是不固定的，可以追加元素，在追加时可能使切片的容量增大。\n",
    "* 切片是可索引的，并且可以由 len() 方法获取长度,即元素个数。\n",
    "* 切片提供了计算容量的方法 cap() 可以测量切片最长可以达到多少,即切片的容量。切片的容量始终大于等于切片的元素个数."
   ]
  },
  {
   "cell_type": "markdown",
   "metadata": {},
   "source": [
    "### 声明切片"
   ]
  },
  {
   "cell_type": "markdown",
   "metadata": {},
   "source": [
    "`var identifier []type`\n",
    "\n",
    "1. 使用make()函数来创建切片:\n",
    "```\n",
    "var slice1 []type = make([]type, len)\n",
    "\n",
    "或\n",
    "\n",
    "slice1 := make([]type, len)\n",
    "\n",
    "也可以指定容量，其中capacity为可选参数。\n",
    "`make([]T, length, capacity)`\n",
    "```\n",
    "\n",
    "2. 切片初始化\n",
    "```\n",
    "s := [] int {1,2,3 } //直接初始化切片，[]表示是切片类型，{1,2,3}初始化值依次是1,2,3.其cap=len=3\n",
    "s := arr[:] //初始化切片s,是数组arr的引用\n",
    "s1 := s[startIndex:endIndex] //通过切片s初始化切片s1\n",
    "s :=make([]int,len,cap) //置函数make()初始化切片s,[]int 标识为其元素类型为int的切片\n",
    "```"
   ]
  },
  {
   "cell_type": "markdown",
   "metadata": {},
   "source": [
    "### nil切片和空切片"
   ]
  },
  {
   "cell_type": "markdown",
   "metadata": {},
   "source": [
    "一个切片在未初始化之前默认为 nil，长度为 0，\n",
    "\n",
    "```\n",
    "var numbers []int\n",
    "numbers == nil \n",
    "```\n",
    "\n",
    "使用 make 创建空的整型切片\n",
    "`slice := make([]int, 0)`\n",
    "\n",
    "// 使用切片字面量创建空的整型切片\n",
    "`slice := []int{}`\n",
    "\n",
    "空切片在底层数组包含 0 个元素，也没有分配任何存储空间。想表示空集合时空切片很有用.\n",
    "\n",
    "不管是使用 nil 切片还是空切片，对其调用内置函数 append、len 和 cap 的效果都是一样的。"
   ]
  },
  {
   "cell_type": "markdown",
   "metadata": {},
   "source": [
    "### 切片截取"
   ]
  },
  {
   "cell_type": "markdown",
   "metadata": {},
   "source": [
    "* 切片截取类似于python的切片功能, 通过下限及上限来设置截取切片 `[lower-bound:upper-bound]`\n",
    "* go中切片的上限和下限不能越界,否则报异常, 而python中切片越界,不会报异常"
   ]
  },
  {
   "cell_type": "markdown",
   "metadata": {},
   "source": [
    "### 在函数间传递切片"
   ]
  },
  {
   "cell_type": "markdown",
   "metadata": {},
   "source": [
    "在 64 位架构的机器上，一个切片需要 24 字节的内存：指针字段需要 8 字节，长度和容量字段分别需要 8 字节。\n",
    "\n",
    "与切片关联的数据包含在底层数组里，不属于切片本身，将切片复制到任意函数的时候，对底层数组大小都不会有影响。\n",
    "\n",
    "复制时只会复制切片本身，不会涉及底层数组"
   ]
  }
 ],
 "metadata": {
  "kernelspec": {
   "display_name": "Python 3",
   "language": "python",
   "name": "python3"
  },
  "language_info": {
   "codemirror_mode": {
    "name": "ipython",
    "version": 3
   },
   "file_extension": ".py",
   "mimetype": "text/x-python",
   "name": "python",
   "nbconvert_exporter": "python",
   "pygments_lexer": "ipython3",
   "version": "3.6.4"
  }
 },
 "nbformat": 4,
 "nbformat_minor": 2
}
