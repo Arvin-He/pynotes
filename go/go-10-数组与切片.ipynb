{
 "cells": [
  {
   "cell_type": "markdown",
   "metadata": {},
   "source": [
    "# go-数组与切片"
   ]
  },
  {
   "cell_type": "markdown",
   "metadata": {},
   "source": [
    "### 数组"
   ]
  },
  {
   "cell_type": "markdown",
   "metadata": {},
   "source": [
    "数组是具有相同唯一类型的一组已编号且长度固定的数据项序列\n",
    "\n",
    "* 数组内所有元素类型相同\n",
    "* 内存地址连续且长度固定"
   ]
  },
  {
   "cell_type": "markdown",
   "metadata": {},
   "source": [
    "### 声明数组"
   ]
  },
  {
   "cell_type": "markdown",
   "metadata": {},
   "source": [
    "数组长度必须是整数且大于 0\n",
    "\n",
    "`var variable_name [SIZE] variable_type`\n",
    "\n",
    "例子:\n",
    "```\n",
    "var balance = [5]float32{1000.0, 2.0, 3.4, 7.0, 50.0}\n",
    "var balance = [...]float32{1000.0, 2.0, 3.4, 7.0, 50.0}\n",
    "```"
   ]
  },
  {
   "cell_type": "markdown",
   "metadata": {},
   "source": [
    "### 数组其他用法"
   ]
  },
  {
   "cell_type": "markdown",
   "metadata": {},
   "source": [
    "1. 多维数组: Go 语言支持多维数组，最简单的多维数组是二维数组\n",
    "2. 向函数传递数组: \t可以向函数传递数组参数"
   ]
  },
  {
   "cell_type": "markdown",
   "metadata": {},
   "source": [
    "### 切片(Slice)"
   ]
  },
  {
   "cell_type": "markdown",
   "metadata": {},
   "source": [
    "* 切片是对数组的抽象, 是go语言内置类型(\"动态数组\"),\n",
    "* 切片的长度是不固定的，可以追加元素，在追加时可能使切片的容量增大。\n",
    "* 切片是可索引的，并且可以由 len() 方法获取长度,即元素个数。\n",
    "* 切片提供了计算容量的方法 cap() 可以测量切片最长可以达到多少,即切片的容量。切片的容量始终大于等于切片的元素个数."
   ]
  },
  {
   "cell_type": "markdown",
   "metadata": {},
   "source": [
    "### 声明切片"
   ]
  },
  {
   "cell_type": "markdown",
   "metadata": {},
   "source": [
    "`var identifier []type`\n",
    "\n",
    "1. 使用make()函数来创建切片:\n",
    "```\n",
    "var slice1 []type = make([]type, len)\n",
    "\n",
    "或\n",
    "\n",
    "slice1 := make([]type, len)\n",
    "\n",
    "也可以指定容量，其中capacity为可选参数。\n",
    "`make([]T, length, capacity)`\n",
    "```\n",
    "\n",
    "2. 切片初始化\n",
    "```\n",
    "s := [] int {1,2,3 } //直接初始化切片，[]表示是切片类型，{1,2,3}初始化值依次是1,2,3.其cap=len=3\n",
    "s := arr[:] //初始化切片s,是数组arr的引用\n",
    "s1 := s[startIndex:endIndex] //通过切片s初始化切片s1\n",
    "s :=make([]int,len,cap) //置函数make()初始化切片s,[]int 标识为其元素类型为int的切片\n",
    "```"
   ]
  },
  {
   "cell_type": "markdown",
   "metadata": {},
   "source": [
    "### 空切片"
   ]
  },
  {
   "cell_type": "markdown",
   "metadata": {},
   "source": [
    "一个切片在未初始化之前默认为 nil，长度为 0，\n",
    "\n",
    "```\n",
    "var numbers []int\n",
    "numbers == nil \n",
    "```"
   ]
  },
  {
   "cell_type": "markdown",
   "metadata": {},
   "source": [
    "### 切片截取"
   ]
  },
  {
   "cell_type": "markdown",
   "metadata": {},
   "source": [
    "* 切片截取类似于python的切片功能, 通过下限及上限来设置截取切片 `[lower-bound:upper-bound]`\n",
    "* go中切片的上限和下限不能越界,否则报异常, 而python中切片越界,不会报异常"
   ]
  }
 ],
 "metadata": {
  "kernelspec": {
   "display_name": "Python 3",
   "language": "python",
   "name": "python3"
  },
  "language_info": {
   "codemirror_mode": {
    "name": "ipython",
    "version": 3
   },
   "file_extension": ".py",
   "mimetype": "text/x-python",
   "name": "python",
   "nbconvert_exporter": "python",
   "pygments_lexer": "ipython3",
   "version": "3.6.4"
  }
 },
 "nbformat": 4,
 "nbformat_minor": 2
}
