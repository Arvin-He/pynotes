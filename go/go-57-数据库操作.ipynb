{
 "cells": [
  {
   "cell_type": "markdown",
   "metadata": {},
   "source": [
    "# go-数据库操作"
   ]
  },
  {
   "cell_type": "markdown",
   "metadata": {},
   "source": [
    "### MySQL"
   ]
  },
  {
   "cell_type": "markdown",
   "metadata": {},
   "source": [
    "Go中支持MySQL的驱动目前比较多，有如下几种，有些是支持database/sql标准，而有些是采用了自己的实现接口,常用的有如下几种:\n",
    "\n",
    "(https://github.com/go-sql-driver/mysql)[https://github.com/go-sql-driver/mysql] 支持database/sql，全部采用go写。\n",
    "(https://github.com/ziutek/mymysql)[https://github.com/ziutek/mymysql] 支持database/sql，也支持自定义的接口，全部采用go写。\n",
    "(https://github.com/Philio/GoMySQL)[https://github.com/Philio/GoMySQL] 不支持database/sql，自定义接口，全部采用go写。\n",
    "接下来的例子主要以第一个驱动为例，也推荐大家采用它，主要理由：\n",
    "\n",
    "* 这个驱动比较新，维护的比较好\n",
    "* 完全支持database/sql接口\n",
    "* 支持keepalive，保持长连接,这个从底层就支持了keepalive。"
   ]
  },
  {
   "cell_type": "markdown",
   "metadata": {},
   "source": [
    "```\n",
    "CREATE TABLE `userinfo` (\n",
    "\t`uid` INT(10) NOT NULL AUTO_INCREMENT,\n",
    "\t`username` VARCHAR(64) NULL DEFAULT NULL,\n",
    "\t`department` VARCHAR(64) NULL DEFAULT NULL,\n",
    "\t`created` DATE NULL DEFAULT NULL,\n",
    "\tPRIMARY KEY (`uid`)\n",
    ");\n",
    "\n",
    "CREATE TABLE `userdetail` (\n",
    "\t`uid` INT(10) NOT NULL DEFAULT '0',\n",
    "\t`intro` TEXT NULL,\n",
    "\t`profile` TEXT NULL,\n",
    "\tPRIMARY KEY (`uid`)\n",
    ")\n",
    "```\n",
    "\n",
    "```\n",
    "package main\n",
    "\n",
    "import (\n",
    "\t\"database/sql\"\n",
    "\t\"fmt\"\n",
    "\t_ \"github.com/go-sql-driver/mysql\"\n",
    ")\n",
    "\n",
    "func main() {\n",
    "\tdb, err := sql.Open(\"mysql\", \"astaxie:astaxie@/test?charset=utf8\")\n",
    "\tcheckErr(err)\n",
    "\n",
    "\t//插入数据\n",
    "\tstmt, err := db.Prepare(\"INSERT userinfo SET username=?,department=?,created=?\")\n",
    "\tcheckErr(err)\n",
    "\n",
    "\tres, err := stmt.Exec(\"astaxie\", \"研发部门\", \"2012-12-09\")\n",
    "\tcheckErr(err)\n",
    "\n",
    "\tid, err := res.LastInsertId()\n",
    "\tcheckErr(err)\n",
    "\n",
    "\tfmt.Println(id)\n",
    "    \n",
    "\t//更新数据\n",
    "\tstmt, err = db.Prepare(\"update userinfo set username=? where uid=?\")\n",
    "\tcheckErr(err)\n",
    "\n",
    "\tres, err = stmt.Exec(\"astaxieupdate\", id)\n",
    "\tcheckErr(err)\n",
    "\n",
    "\taffect, err := res.RowsAffected()\n",
    "\tcheckErr(err)\n",
    "\n",
    "\tfmt.Println(affect)\n",
    "\n",
    "\t//查询数据\n",
    "\trows, err := db.Query(\"SELECT * FROM userinfo\")\n",
    "\tcheckErr(err)\n",
    "\n",
    "\tfor rows.Next() {\n",
    "\t\tvar uid int\n",
    "\t\tvar username string\n",
    "\t\tvar department string\n",
    "\t\tvar created string\n",
    "\t\terr = rows.Scan(&uid, &username, &department, &created)\n",
    "\t\tcheckErr(err)\n",
    "\t\tfmt.Println(uid)\n",
    "\t\tfmt.Println(username)\n",
    "\t\tfmt.Println(department)\n",
    "\t\tfmt.Println(created)\n",
    "\t}\n",
    "\n",
    "\t//删除数据\n",
    "\tstmt, err = db.Prepare(\"delete from userinfo where uid=?\")\n",
    "\tcheckErr(err)\n",
    "\n",
    "\tres, err = stmt.Exec(id)\n",
    "\tcheckErr(err)\n",
    "\n",
    "\taffect, err = res.RowsAffected()\n",
    "\tcheckErr(err)\n",
    "\n",
    "\tfmt.Println(affect)\n",
    "\n",
    "\tdb.Close()\n",
    "\n",
    "}\n",
    "\n",
    "func checkErr(err error) {\n",
    "\tif err != nil {\n",
    "\t\tpanic(err)\n",
    "\t}\n",
    "}\n",
    "```"
   ]
  },
  {
   "cell_type": "markdown",
   "metadata": {},
   "source": [
    "* sql.Open()函数用来打开一个注册过的数据库驱动，go-sql-driver中注册了mysql这个数据库驱动，第二个参数是DSN(Data Source Name)，它是go-sql-driver定义的一些数据库链接和配置信息。它支持如下格式：\n",
    "```\n",
    "user@unix(/path/to/socket)/dbname?charset=utf8\n",
    "user:password@tcp(localhost:5555)/dbname?charset=utf8\n",
    "user:password@/dbname\n",
    "user:password@tcp([de:ad:be:ef::ca:fe]:80)/dbname\n",
    "```\n",
    "* db.Prepare()函数用来返回准备要执行的sql操作，然后返回准备完毕的执行状态。\n",
    "\n",
    "* db.Query()函数用来直接执行Sql返回Rows结果。\n",
    "\n",
    "* stmt.Exec()函数用来执行stmt准备好的SQL语句\n",
    "\n",
    "可以看到我们传入的参数都是=?对应的数据，这样做的方式可以一定程度上防止SQL注入。"
   ]
  },
  {
   "cell_type": "markdown",
   "metadata": {},
   "source": [
    "### sqlite"
   ]
  },
  {
   "cell_type": "markdown",
   "metadata": {},
   "source": [
    "SQLite 是一个开源的嵌入式关系数据库，实现自包容、零配置、支持事务的SQL数据库引擎。SQLite可以是说开源的Access。\n",
    "\n",
    "SQLite 的安装和运行非常简单，在大多数情况下,只要确保SQLite的二进制文件存在即可开始创建、连接和使用数据库。\n",
    "\n",
    "特点: 高度便携、使用方便、结构紧凑、高效、可靠。 "
   ]
  },
  {
   "cell_type": "markdown",
   "metadata": {},
   "source": [
    "驱动:\n",
    "\n",
    "Go支持sqlite的驱动也比较多，但是好多都是不支持database/sql接口的\n",
    "\n",
    "* `https://github.com/mattn/go-sqlite3` 支持database/sql接口，基于cgo(关于cgo的知识请参看官方文档或者本书后面的章节)写的\n",
    "* `https://github.com/feyeleanor/gosqlite3` 不支持database/sql接口，基于cgo写的\n",
    "* `https://github.com/phf/go-sqlite3` 不支持database/sql接口，基于cgo写的\n",
    "目前支持database/sql的SQLite数据库驱动只有第一个，一般采用它来开发项目的。采用标准接口有利于以后出现更好的驱动的时候做迁移。\n",
    "\n",
    "sqlite和MySQL例子里面的代码几乎是一模一样的，唯一改变的就是导入的驱动改变了，然后调用sql.Open是采用了SQLite的方式打开。\n",
    "`db, err := sql.Open(\"sqlite3\", \"./foo.db\")`"
   ]
  },
  {
   "cell_type": "markdown",
   "metadata": {},
   "source": [
    "### postgreSQL"
   ]
  },
  {
   "cell_type": "markdown",
   "metadata": {},
   "source": [
    "PostgreSQL 是一个自由的对象-关系数据库服务器(数据库管理系统)，它在灵活的 BSD-风格许可证下发行。\n",
    "\n",
    "PostgreSQL和MySQL比较，它更加庞大一点，因为它是用来替代Oracle而设计的。所以在企业应用中采用PostgreSQL是一个明智的选择。\n",
    "\n",
    "MySQL被Oracle收购之后正在逐步封闭（自MySQL 5.5.31以后所有版本不再遵循GPL协议），将来也许选择PostgreSQL而不是MySQL作为项目的后端数据库。"
   ]
  },
  {
   "cell_type": "markdown",
   "metadata": {},
   "source": [
    "驱动: Go实现的支持PostgreSQL的驱动也很多，因为国外很多人在开发中使用了这个数据库。\n",
    "\n",
    "* `https://github.com/lib/pq` 支持database/sql驱动，纯Go写的\n",
    "* `https://github.com/jbarham/gopgsqldriver` 支持database/sql驱动，纯Go写的\n",
    "* `https://github.com/lxn/go-pgsql` 支持database/sql驱动，纯Go写的\n",
    "在下面的示例中采用了第一个驱动，因为它目前使用的人最多，在github上也比较活跃。\n",
    "\n",
    "* PostgreSQL通过`$1`,`$2`这种方式来指定要传递的参数，而不是MySQL中的?\n",
    "* 在sql.Open中的dsn信息的格式也与MySQL的驱动中的dsn格式不一样，使用时请注意它们的差异。\n",
    "* pg不支持LastInsertId函数，因为PostgreSQL内部没有实现类似MySQL的自增ID返回，其他的代码几乎是一模一样。\n",
    "\n",
    "`db, err := sql.Open(\"postgres\", \"user=astaxie password=astaxie dbname=test sslmode=disable\")`"
   ]
  },
  {
   "cell_type": "markdown",
   "metadata": {},
   "source": [
    "### beego orm"
   ]
  },
  {
   "cell_type": "markdown",
   "metadata": {},
   "source": [
    "beego orm是支持database/sql标准接口的ORM库，理论上来说，只要数据库驱动支持database/sql接口就可以无缝的接入beego orm。\n",
    "\n",
    "目前我测试过的驱动包括下面几个：\n",
    "* Mysql: github/go-mysql-driver/mysql\n",
    "* PostgreSQL: github.com/lib/pq\n",
    "* SQLite: github.com/mattn/go-sqlite3\n",
    "* Mysql: github.com/ziutek/mymysql/godrv\n",
    "\n",
    "暂未支持数据库:\n",
    "* MsSql: github.com/denisenkom/go-mssqldb\n",
    "* MS ADODB: github.com/mattn/go-adodb\n",
    "* Oracle: github.com/mattn/go-oci8\n",
    "* ODBC: bitbucket.org/miquella/mgodbc\n",
    "\n",
    "安装: beego orm支持go get方式安装，是完全按照Go Style的方式来实现的。\n",
    "\n",
    "`go get github.com/astaxie/beego`\n",
    "\n",
    "初始化:\n",
    "```\n",
    "import (\n",
    "\t\"database/sql\"\n",
    "\t\"github.com/astaxie/beego/orm\"\n",
    "\t_ \"github.com/go-sql-driver/mysql\"\n",
    ")\n",
    "\n",
    "func init() {\n",
    "\t//注册驱动\n",
    "\torm.RegisterDriver(\"mysql\", orm.DR_MySQL)\n",
    "\t//设置默认数据库\n",
    "\torm.RegisterDataBase(\"default\", \"mysql\", \"root:root@/my_db?charset=utf8\", 30)\n",
    "\t//注册定义的model\n",
    "    \torm.RegisterModel(new(User))\n",
    "\n",
    "   \t// 创建table\n",
    "        orm.RunSyncdb(\"default\", false, true)\n",
    "}\n",
    "```\n",
    "\n",
    "PostgreSQL 配置:\n",
    "```\n",
    "//导入驱动\n",
    "// _ \"github.com/lib/pq\"\n",
    "\n",
    "// 注册驱动\n",
    "orm.RegisterDriver(\"postgres\", orm.DR_Postgres) \n",
    "\n",
    "// 设置默认数据库\n",
    "//PostgresQL用户：postgres ，密码：zxxx ， 数据库名称：test ， 数据库别名：default\n",
    "orm.RegisterDataBase(\"default\", \"postgres\", \"user=postgres password=zxxx dbname=test host=127.0.0.1 port=5432 sslmode=disable\")\n",
    "```\n",
    "\n",
    "MySQL 配置:\n",
    "```\n",
    "//导入驱动\n",
    "//_ \"github.com/go-sql-driver/mysql\"\n",
    "\n",
    "//注册驱动\n",
    "orm.RegisterDriver(\"mysql\", orm.DR_MySQL)\n",
    "\n",
    "// 设置默认数据库\n",
    "//mysql用户：root ，密码：zxxx ， 数据库名称：test ， 数据库别名：default\n",
    " orm.RegisterDataBase(\"default\", \"mysql\", \"root:zxxx@/test?charset=utf8\")\n",
    " ```\n",
    " \n",
    "Sqlite 配置:\n",
    "```\n",
    "//导入驱动\n",
    "//_ \"github.com/mattn/go-sqlite3\"\n",
    "\n",
    "//注册驱动\n",
    "orm.RegisterDriver(\"sqlite\", orm.DR_Sqlite)\n",
    "\n",
    "// 设置默认数据库\n",
    "//数据库存放位置：./datas/test.db ， 数据库别名：default\n",
    "orm.RegisterDataBase(\"default\", \"sqlite3\", \"./datas/test.db\")\n",
    "```\n",
    "\n",
    "导入必须的package之后,我们需要打开到数据库的链接，然后创建一个beego orm对象（以MySQL为例)，如下所示 beego orm:\n",
    "```\n",
    "func main() {\n",
    "    \to := orm.NewOrm()\n",
    "}\n",
    "```\n",
    "\n",
    "```\n",
    "SetMaxIdleConns: 根据数据库的别名，设置数据库的最大空闲连接\n",
    "\n",
    "orm.SetMaxIdleConns(\"default\", 30)\n",
    "\n",
    "SetMaxOpenConns: 根据数据库的别名，设置数据库的最大数据库连接 (go >= 1.2)\n",
    "\n",
    "orm.SetMaxOpenConns(\"default\", 30): 目前beego orm支持打印调试，你可以通过如下的代码实现调试\n",
    "\n",
    "orm.Debug = true\n",
    "```\n",
    "注意: beego orm针对驼峰命名会自动转化成下划线字段，如定义Struct名字为UserInfo，转化成底层实现时是user_info，字段命名也遵循该规则。"
   ]
  },
  {
   "cell_type": "markdown",
   "metadata": {},
   "source": [
    "### redis"
   ]
  },
  {
   "cell_type": "markdown",
   "metadata": {},
   "source": [
    "redis是key-value存储系统。和Memcached类似，支持存储的value类型相对更多，包括string(字符串)、list(链表)、set(集合)和zset(有序集合)。\n",
    "\n",
    "目前应用redis最广泛的应该是新浪微博平台，其次还有Facebook收购的图片社交网站instagram。以及其他一些有名的互联网企业\n",
    "\n",
    "Go目前支持redis的驱动有如下\n",
    "\n",
    "* `https://github.com/garyburd/redigo` (推荐)\n",
    "* `https://github.com/go-redis/redis`\n",
    "* `https://github.com/hoisie/redis`\n",
    "* `https://github.com/alphazero/Go-Redis`\n",
    "* `https://github.com/simonz05/godis`"
   ]
  },
  {
   "cell_type": "markdown",
   "metadata": {},
   "source": [
    "### mongodb"
   ]
  },
  {
   "cell_type": "markdown",
   "metadata": {},
   "source": [
    "MongoDB是一个高性能，开源，无模式的文档型数据库，是一个介于关系数据库和非关系数据库之间的产品，是非关系数据库当中功能最丰富，最像关系数据库的。他支持的数据结构非常松散，采用的是类似json的bjson格式来存储数据，因此可以存储比较复杂的数据类型。\n",
    "\n",
    "MongoDB最大的特点是支持的查询语言非常强大，语法类似面向对象的查询语言，几乎实现类似关系数据库单表查询的绝大部分功能，且还支建立索引。\n",
    "\n",
    "目前Go支持mongoDB最好的驱动就是mgo，这个驱动目前最有可能成为官方的pkg。\n",
    "\n",
    "安装mgo: `go get gopkg.in/mgo.v2`"
   ]
  }
 ],
 "metadata": {
  "kernelspec": {
   "display_name": "Python 3",
   "language": "python",
   "name": "python3"
  },
  "language_info": {
   "codemirror_mode": {
    "name": "ipython",
    "version": 3
   },
   "file_extension": ".py",
   "mimetype": "text/x-python",
   "name": "python",
   "nbconvert_exporter": "python",
   "pygments_lexer": "ipython3",
   "version": "3.6.4"
  }
 },
 "nbformat": 4,
 "nbformat_minor": 2
}
