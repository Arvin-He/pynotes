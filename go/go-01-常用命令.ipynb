{
 "cells": [
  {
   "cell_type": "markdown",
   "metadata": {},
   "source": [
    "# go-常用命令"
   ]
  },
  {
   "cell_type": "markdown",
   "metadata": {},
   "source": [
    "* go version: 查看go的版本\n",
    "* go run hello.go: 编译运行程序\n",
    "* go build hello.go: 编译包和依赖生成可执行文件,windows上生成*.exe文件\n",
    "* go clean hello.go: 调用 clean 后会删除编译生成的可执行文件。\n",
    "* go vet main.go: go vet 工具不能让开发者避免严重的逻辑错误，或者避免编写充满小错的代码。不过，这个工具可以很好地捕获一部分常见错误。每次对代码先执行 go vet 再将其签入源代码库是一个很好的习惯。\n",
    "* go fmt 后面跟文件名或者包名，就可以调用这个代码格式化工具。fmt 命令会自动格式化开发人员指定的源代码文件并保存。\n",
    "* godoc: 终端上直接使用 go doc 命令来打印文档\n",
    "* godoc tar: 用 Go 语言第一次开发读取 UNIX tar 文件的应用程序，想要看看 archive/tar 包的相关文档\n",
    "* godoc -http:=6060 在浏览器打开`http://localhost:6060`,即可看到go的官方文档\n",
    "* go get "
   ]
  }
 ],
 "metadata": {
  "kernelspec": {
   "display_name": "Python 3",
   "language": "python",
   "name": "python3"
  },
  "language_info": {
   "codemirror_mode": {
    "name": "ipython",
    "version": 3
   },
   "file_extension": ".py",
   "mimetype": "text/x-python",
   "name": "python",
   "nbconvert_exporter": "python",
   "pygments_lexer": "ipython3",
   "version": "3.6.4"
  }
 },
 "nbformat": 4,
 "nbformat_minor": 2
}
