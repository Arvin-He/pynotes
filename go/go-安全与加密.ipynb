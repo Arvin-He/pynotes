{
 "cells": [
  {
   "cell_type": "markdown",
   "metadata": {},
   "source": [
    "# go-安全与加密"
   ]
  },
  {
   "cell_type": "markdown",
   "metadata": {},
   "source": [
    "很多Web应用程序中的安全问题都是由于轻信了第三方提供的数据造成的。\n",
    "\n",
    "比如对于用户的输入数据，在对其进行验证之前都应该将其视为不安全的数据。\n",
    "\n",
    "如果直接把这些不安全的数据输出到客户端，就可能造成跨站脚本攻击(XSS)的问题。\n",
    "\n",
    "如果把不安全的数据用于数据库查询，那么就可能造成SQL注入问题\n",
    "\n",
    "在使用第三方提供的数据，包括用户提供的数据时，首先检验这些数据的合法性非常重要，这个过程叫做过滤\n",
    "\n",
    "过滤输入和转义输出并不能解决所有的安全问题\n",
    "\n",
    "加密的本质就是扰乱数据，分单向加密和双向加密:\n",
    "* 单向加密: 某些不可恢复的数据称为单向加密或者散列算法。\n",
    "* 双向加密: 就是可以对加密后的数据进行解密。"
   ]
  },
  {
   "cell_type": "markdown",
   "metadata": {},
   "source": [
    "### 预防CSRF攻击"
   ]
  },
  {
   "cell_type": "markdown",
   "metadata": {},
   "source": [
    "CSRF（Cross-site request forgery），中文名称：跨站请求伪造，也被称为：one click attack/session riding，缩写为：CSRF/XSRF。\n",
    "\n",
    "要完成一次CSRF攻击，受害者必须依次完成两个步骤 ：\n",
    "\n",
    "1. 登录受信任网站A，并在本地生成Cookie 。\n",
    "2. 在不退出A的情况下，访问危险网站B。\n",
    "\n",
    "不满足以上两个条件中的任意一个，就不会受到CSRF的攻击。\n",
    "\n",
    "CSRF攻击主要是因为Web的隐式身份验证机制，Web的身份验证机制虽然能保证一个请求是来自于某个用户的浏览器，但无法保证该请求是用户批准发送的。\n",
    "\n",
    "如何预防CSRF?\n",
    "\n",
    "CSRF的防御可以从服务端和客户端两方面着手，防御效果是从服务端着手效果比较好，现在一般的CSRF防御也都在服务端进行。\n",
    "\n",
    "服务端的预防CSRF攻击的方式方法有多种，但思想上都是差不多的，主要从以下2个方面入手：\n",
    "\n",
    "1. 正确使用GET,POST和Cookie；\n",
    "2. 在非GET请求中增加伪随机数；\n",
    "\n",
    "\n",
    "在非GET方式的请求中增加随机数，这个大概有三种方式来进行：\n",
    "\n",
    "* 为每个用户生成一个唯一的cookie token，所有表单都包含同一个伪随机值，这种方案最简单，因为攻击者不能获得第三方的Cookie(理论上)，所以表单中的数据也就构造失败，但是由于用户的Cookie很容易由于网站的XSS漏洞而被盗取，所以这个方案必须要在没有XSS的情况下才安全。\n",
    "* 每个请求使用验证码，这个方案是完美的，因为要多次输入验证码，所以用户友好性很差，所以不适合实际运用。\n",
    "* 不同的表单包含一个不同的伪随机值"
   ]
  },
  {
   "cell_type": "markdown",
   "metadata": {},
   "source": [
    "### 确保输入过滤"
   ]
  },
  {
   "cell_type": "markdown",
   "metadata": {},
   "source": [
    "过滤用户数据是Web应用安全的基础。它是验证数据合法性的过程。通过对所有的输入数据进行过滤，可以避免恶意数据在程序中被误信或误用。大多数Web应用的漏洞都是因为没有对用户输入的数据进行恰当过滤所引起的。\n",
    "\n",
    "我们介绍的过滤数据分成三个步骤：\n",
    "\n",
    "1. 识别数据，搞清楚需要过滤的数据来自于哪里\n",
    "2. 过滤数据，弄明白我们需要什么样的数据\n",
    "3. 区分已过滤及被污染数据，如果存在攻击数据那么保证过滤之后可以让我们使用更安全的数据"
   ]
  },
  {
   "cell_type": "markdown",
   "metadata": {},
   "source": [
    "### 避免XSS攻击"
   ]
  },
  {
   "cell_type": "markdown",
   "metadata": {},
   "source": [
    "现在的Web应用都含有大量的动态内容以提高用户体验。\n",
    "\n",
    "所谓动态内容，就是应用程序能够根据用户环境和用户请求，输出相应的内容。\n",
    "\n",
    "动态站点会受到一种名为“跨站脚本攻击”（Cross Site Scripting, 安全专家们通常将其缩写成 XSS）的威胁，而静态站点则完全不受其影响。\n",
    "\n",
    "什么是XSS?"
   ]
  }
 ],
 "metadata": {
  "kernelspec": {
   "display_name": "Python 3",
   "language": "python",
   "name": "python3"
  },
  "language_info": {
   "codemirror_mode": {
    "name": "ipython",
    "version": 3
   },
   "file_extension": ".py",
   "mimetype": "text/x-python",
   "name": "python",
   "nbconvert_exporter": "python",
   "pygments_lexer": "ipython3",
   "version": "3.6.4"
  }
 },
 "nbformat": 4,
 "nbformat_minor": 2
}
