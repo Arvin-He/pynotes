{
 "cells": [
  {
   "cell_type": "markdown",
   "metadata": {},
   "source": [
    "# go-数据类型"
   ]
  },
  {
   "cell_type": "markdown",
   "metadata": {},
   "source": [
    "* 在 Go 编程语言中，数据类型用于声明函数和变量。\n",
    "* 数据类型的是为了把数据分成所需内存大小不同的数据，编程时需要用大数据时才需申请大内存，可以充分利用内存。"
   ]
  },
  {
   "cell_type": "markdown",
   "metadata": {},
   "source": [
    "### 类型分类"
   ]
  },
  {
   "cell_type": "markdown",
   "metadata": {},
   "source": [
    "* 内置类型: 数值类型、字符串类型和布尔类型 \n",
    "* 引用类型: 切片、映射、通道、接口和函数类型\n",
    "* 结构类型"
   ]
  },
  {
   "cell_type": "markdown",
   "metadata": {},
   "source": [
    "### 数据类型"
   ]
  },
  {
   "cell_type": "markdown",
   "metadata": {},
   "source": [
    "1. 布尔型\n",
    "2. 数字类型: 整形,浮点型和复数\n",
    "3. 字符串类型: string\n",
    "4. 派生类型\n",
    "     * 指针类型（Pointer）\n",
    "     * 数组类型\n",
    "     * 结构化类型(struct)\n",
    "     * Channel 类型\n",
    "     * 函数类型\n",
    "     * 切片类型\n",
    "     * 接口类型（interface）\n",
    "     * Map 类型\n",
    "     \n",
    "数字类型:\n",
    "1. uint8: 无符号 8 位整型 (0 到 255)\n",
    "2. uint16: 无符号 16 位整型 (0 到 65535)\n",
    "3. uint32: 无符号 32 位整型 (0 到 4294967295)\n",
    "4. uint64: 无符号 64 位整型 (0 到 18446744073709551615)\n",
    "5. int8: 有符号 8 位整型 (-128 到 127)\n",
    "6. int16: 有符号 16 位整型 (-32768 到 32767)\n",
    "7. int32: 有符号 32 位整型 (-2147483648 到 2147483647)\n",
    "8. int64:有符号 64 位整型 (-9223372036854775808 到 9223372036854775807)\n",
    "\n",
    "9. float32: IEEE-754 32位浮点型数,单精度浮点型\n",
    "10. float64: IEEE-754 64位浮点型数,相当于double,双精度浮点型\n",
    "11.\tcomplex64: 32 位实数和虚数\n",
    "12.\tcomplex128: 64 位实数和虚数\n",
    "\n",
    "其他数字类型:\n",
    "1. byte: 类似 uint8\n",
    "2. rune: 类似 int32\n",
    "3. uint: 32 或 64 位\n",
    "4. int: 与 uint 一样大小\n",
    "5. uintptr: 无符号整型，用于存放一个指针"
   ]
  },
  {
   "cell_type": "markdown",
   "metadata": {},
   "source": [
    "### 引用类型"
   ]
  },
  {
   "cell_type": "markdown",
   "metadata": {},
   "source": [
    "当声明上述类型的变量时，创建的变量被称作标头（header）值。每个引用类型创建的标头值是包含一个指向底层数据结构的指针。每个引用类型还包含一组独特的字段，用于管理底层数据结构。因为标头值是为复制而设计的，所以永远不需要共享一个引用类型的值。标头值里包含一个指针，因此通过复制来传递一个引用类型的值的副本，本质上就是在共享底层数据结构。"
   ]
  }
 ],
 "metadata": {
  "kernelspec": {
   "display_name": "Python 3",
   "language": "python",
   "name": "python3"
  },
  "language_info": {
   "codemirror_mode": {
    "name": "ipython",
    "version": 3
   },
   "file_extension": ".py",
   "mimetype": "text/x-python",
   "name": "python",
   "nbconvert_exporter": "python",
   "pygments_lexer": "ipython3",
   "version": "3.6.4"
  }
 },
 "nbformat": 4,
 "nbformat_minor": 2
}
