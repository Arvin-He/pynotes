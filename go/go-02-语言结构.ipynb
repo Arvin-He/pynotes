{
 "cells": [
  {
   "cell_type": "markdown",
   "metadata": {},
   "source": [
    "# go-语言结构"
   ]
  },
  {
   "cell_type": "markdown",
   "metadata": {},
   "source": [
    "## go语言组成"
   ]
  },
  {
   "cell_type": "markdown",
   "metadata": {},
   "source": [
    "* 包声明\n",
    "* 引入包\n",
    "* 函数\n",
    "* 变量\n",
    "* 语句 & 表达式\n",
    "* 注释"
   ]
  },
  {
   "cell_type": "markdown",
   "metadata": {},
   "source": [
    "### 一个例子"
   ]
  },
  {
   "cell_type": "markdown",
   "metadata": {},
   "source": [
    "```go\n",
    "package main  // 定义了包名。你必须在源文件中非注释的第一行指明这个文件属于哪个包\n",
    "import \"fmt\"  // 告诉 Go 编译器这个程序需要使用 fmt 包\n",
    "// main 函数是每一个可执行程序所必须包含的，一般来说都是在启动后第一个执行的函数（如果有 init() 函数则会先执行该函数）。\n",
    "func main() {   \n",
    "   /* 这是我的第一个简单的程序 */\n",
    "   fmt.Println(\"Hello, World!\")\n",
    "}\n",
    "```\n",
    "\n",
    "**注意:** `{` 不能单独放在一行"
   ]
  },
  {
   "cell_type": "markdown",
   "metadata": {},
   "source": [
    "### 包(packages)"
   ]
  },
  {
   "cell_type": "markdown",
   "metadata": {},
   "source": [
    "1. 所有的.go 文件，除了空行和注释，都应该在第一行声明自己所属的包。\n",
    "2. 每个包都在一个单独的目录里。不能把多个包放到同一个目录中，也不能把同一个包的文件分拆到多个不同目录中。这意味着，同一个目录下的所有.go 文件必须声明同一个包名。\n",
    "3. 给包及其目录命名时，应该使用简洁、清晰且全小写的名字\n",
    "4. 并不需要所有包的名字都与别的包不同，因为导入包时是使用全路径的，所以可以区分同名的不同包。"
   ]
  },
  {
   "cell_type": "markdown",
   "metadata": {},
   "source": [
    "* Go语言的代码通过包（package）组织，包类似于其它语言里的库或者模块。\n",
    "* 一个包由位于单个目录下的一个或多个.go源代码文件组成, 目录定义包的作用。\n",
    "* 每个源文件都以一条package声明语句开始，表示该文件属于哪个包，紧跟着一系列导入（import）的包，之后是存储在这个文件里的程序语句。\n",
    "* main包比较特殊。它定义了一个**独立可执行**的程序，而**不是一个库**。\n",
    "* 在main里的main 函数 也很特殊，它是整个程序执行时的**入口**。\n",
    "\n",
    "* 必须告诉编译器源文件需要哪些包，这就是import声明以及随后的package声明扮演的角色。\n",
    "* 必须恰当导入需要的包，**缺少**了必要的包或者**导入了不需要的包**，程序都无法编译通过。这项严格要求避免了程序开发过程中引入未使用的包。"
   ]
  },
  {
   "cell_type": "markdown",
   "metadata": {},
   "source": [
    "Go语言提供了一些很好用的package，并且这些package是可以扩展的\n",
    "\n",
    "你可以在 https://golang.org/pkg 和 https://godoc.org 中找到标准库和社区写的package\n",
    "\n",
    "godoc这个工具可以让你直接在本地命令行阅读标准库的文档, 如: \n",
    "`go doc http.ListenAndServe`"
   ]
  },
  {
   "cell_type": "markdown",
   "metadata": {},
   "source": [
    "### import语句"
   ]
  },
  {
   "cell_type": "markdown",
   "metadata": {},
   "source": [
    "* import声明必须跟在文件的package声明之后。\n",
    "* 命名导入是指，在 import 语句给出的包路径的左侧定义一个名字，将导入的包命名为新名字。"
   ]
  },
  {
   "cell_type": "markdown",
   "metadata": {},
   "source": [
    "### 空白标识符"
   ]
  },
  {
   "cell_type": "markdown",
   "metadata": {},
   "source": [
    "下划线字符（_）在 Go 语言里称为空白标识符，有很多用法。\n",
    "\n",
    "这个标识符用来抛弃不想继续使用的值，如给导入的包赋予一个空名字，或者忽略函数返回的你不感兴趣的值。"
   ]
  },
  {
   "cell_type": "markdown",
   "metadata": {},
   "source": [
    "### 行分隔符"
   ]
  },
  {
   "cell_type": "markdown",
   "metadata": {},
   "source": [
    "* 在Go程序中，一行代表一个语句结束。\n",
    "* 每个语句不需要像C家族中的其它语言一样以分号 ; 结尾，这些工作由G 编译器自动完成。\n",
    "* 如果打算将多个语句写在同一行，则必须使用 ; 人为区分，但实际开发中并不鼓励这种做法。"
   ]
  },
  {
   "cell_type": "markdown",
   "metadata": {},
   "source": [
    "### 空格"
   ]
  },
  {
   "cell_type": "markdown",
   "metadata": {},
   "source": [
    "Go 语言中变量的声明必须使用空格隔开"
   ]
  },
  {
   "cell_type": "markdown",
   "metadata": {},
   "source": [
    "### 注释"
   ]
  },
  {
   "cell_type": "markdown",
   "metadata": {},
   "source": [
    "* 单行注释: 以 // 开头的单行注释。\n",
    "* 多行注释: 也叫块注释，以 `/*` 开头，并以 `*/` 结尾。"
   ]
  },
  {
   "cell_type": "markdown",
   "metadata": {},
   "source": [
    "### 标识符"
   ]
  },
  {
   "cell_type": "markdown",
   "metadata": {},
   "source": [
    "* 标识符用来命名变量、类型等程序实体。\n",
    "* 一个标识符实际上就是一个或是多个字母(A~Z和a~z)数字(0~9)、下划线_组成的序列\n",
    "* 第一个字符必须是字母或下划线而不能是数字。"
   ]
  },
  {
   "cell_type": "markdown",
   "metadata": {},
   "source": [
    "### 关键字和预定义标识符"
   ]
  },
  {
   "cell_type": "markdown",
   "metadata": {},
   "source": [
    "25 个关键字或保留字：\n",
    "```\n",
    "break\t    default\t    func\t  interface\t    select\n",
    "case\t    defer\t    go\t     map\t     struct\n",
    "chan\t    else\t    goto\t  package\t    switch\n",
    "const\t    fallthrough\t if\t     range\t      type\n",
    "continue\t for\t     import\t  return\t    var\n",
    "```\n",
    "36 个预定义标识符：\n",
    "```\n",
    "append\tbool\tbyte\tcap\t      close\tcomplex\t  complex64\tcomplex128\tuint16\n",
    "copy\tfalse\tfloat32\tfloat64\t   imag\t    int\t   int8\t   int16\t  uint32\n",
    "int32\tint64\tiota\tlen\t      make\t   new\t   nil\t   panic\t uint64\n",
    "print\tprintln\treal\trecover\t   string\t true\t  uint\t  uint8\t    uintptr\n",
    "```"
   ]
  },
  {
   "cell_type": "markdown",
   "metadata": {},
   "source": [
    "### 工具"
   ]
  },
  {
   "cell_type": "markdown",
   "metadata": {},
   "source": [
    "* gofmt工具把代码格式化为标准格式，并且go工具中的fmt子命令会对指定包, 否则默认为当前目录中所有.go源文件应用gofmt命令。\n",
    "* goimports，可以根据代码需要, 自动地添加或删除import声明。这个工具并没有包含在标准的分发包中，可以用下面的命令安装：\n",
    "\n",
    "`go get golang.org/x/tools/cmd/goimports`\n",
    "\n",
    "* 对于大多数用户来说，下载、编译包、运行测试用例、察看Go语言的文档等等常用功能都可以用go的工具完成。"
   ]
  },
  {
   "cell_type": "markdown",
   "metadata": {},
   "source": [
    "### 命令行参数"
   ]
  },
  {
   "cell_type": "markdown",
   "metadata": {},
   "source": [
    "* os包以跨平台的方式，提供了一些与操作系统交互的函数和变量。\n",
    "* 程序的命令行参数可从os包的Args变量获取；os包外部使用os.Args访问该变量。\n",
    "* os.Args变量是一个字符串的切片（slice）或动态数组,用`s[m:n]`获取子序列区间索引时，\n",
    "* Go言里也采用左闭右开形式, 即，区间包括第一个索引元素，不包括最后一个\n",
    "* os.Args的第一个元素，`os.Args[0]` 是命令本身名字；其它元素则是程序启动时传给它的参数"
   ]
  },
  {
   "cell_type": "markdown",
   "metadata": {},
   "source": [
    "### 数组, 切片, 关联数组"
   ]
  },
  {
   "cell_type": "markdown",
   "metadata": {},
   "source": [
    "* 数组 是一个固定长度的数列。`var a [5]int`\n",
    "\n",
    "* Slice 是 Go 中一个关键的数据类型，是一个比数组更加强大的序列接口\n",
    "\n",
    "* map 是 Go 内置关联数据类型（在一些其他的语言中称为哈希 或者字典 ）。创建一个空 map: `make(map[key-type]val-type)`"
   ]
  },
  {
   "cell_type": "markdown",
   "metadata": {},
   "source": [
    "### range"
   ]
  },
  {
   "cell_type": "markdown",
   "metadata": {},
   "source": [
    "* range 迭代各种各样的数据结构。\n",
    "* range 在数组和 slice 中都同样提供每个项的索引和值。\n",
    "* "
   ]
  },
  {
   "cell_type": "markdown",
   "metadata": {},
   "source": [
    "### 指针"
   ]
  },
  {
   "cell_type": "markdown",
   "metadata": {},
   "source": [
    "* Go语言提供了指针。指针是一种直接存储了变量的内存地址的数据类型.\n",
    "* `&`操作符可以返回一个变量的内存地址，\n",
    "* `*`操作符可以获取指针指向的变量内容，\n",
    "\n",
    "但在Go语言里没有指针运算，也就是不能像c语言里可以对指针进行加或减操作"
   ]
  }
 ],
 "metadata": {
  "kernelspec": {
   "display_name": "Python 3",
   "language": "python",
   "name": "python3"
  },
  "language_info": {
   "codemirror_mode": {
    "name": "ipython",
    "version": 3
   },
   "file_extension": ".py",
   "mimetype": "text/x-python",
   "name": "python",
   "nbconvert_exporter": "python",
   "pygments_lexer": "ipython3",
   "version": "3.6.6"
  }
 },
 "nbformat": 4,
 "nbformat_minor": 2
}
