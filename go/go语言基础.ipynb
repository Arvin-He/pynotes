{
 "cells": [
  {
   "cell_type": "markdown",
   "metadata": {},
   "source": [
    "# go语言基础"
   ]
  },
  {
   "cell_type": "markdown",
   "metadata": {},
   "source": [
    "### go语言特性"
   ]
  },
  {
   "cell_type": "markdown",
   "metadata": {},
   "source": [
    "Go是一门编译型语言，Go语言的工具链将源代码及其依赖转换成计算机的机器指令。\n",
    "\n",
    "Go语言提供的工具都通过一个单独的命令go调用，go命令有一系列子命令。\n",
    "\n",
    "Go语言原生支持Unicode，它可以处理全世界任何语言的文本."
   ]
  },
  {
   "cell_type": "markdown",
   "metadata": {},
   "source": [
    "### 一些常用终端命令"
   ]
  },
  {
   "cell_type": "markdown",
   "metadata": {},
   "source": [
    "查看go的版本"
   ]
  },
  {
   "cell_type": "code",
   "execution_count": null,
   "metadata": {},
   "outputs": [],
   "source": [
    "go version"
   ]
  },
  {
   "cell_type": "markdown",
   "metadata": {},
   "source": [
    "go version go1.10.1 windows/amd64"
   ]
  },
  {
   "cell_type": "markdown",
   "metadata": {},
   "source": [
    "编译运行程序"
   ]
  },
  {
   "cell_type": "code",
   "execution_count": null,
   "metadata": {},
   "outputs": [],
   "source": [
    "go run helloworld.go"
   ]
  },
  {
   "cell_type": "markdown",
   "metadata": {},
   "source": [
    "编译包和依赖到可执行文件"
   ]
  },
  {
   "cell_type": "code",
   "execution_count": null,
   "metadata": {},
   "outputs": [],
   "source": [
    "go build helloworld.go"
   ]
  },
  {
   "cell_type": "markdown",
   "metadata": {},
   "source": [
    "### go语言组成"
   ]
  },
  {
   "cell_type": "markdown",
   "metadata": {},
   "source": [
    "Go语言的代码通过包（package）组织，包类似于其它语言里的库（libraries）或者模块（modules）。一个包由位于单个目录下的一个或多个.go源代码文件组成, 目录定义包的作用。每个源文件都以一条package声明语句开始，表示该文件属于哪个包，紧跟着一系列导入（import）的包，之后是存储在这个文件里的程序语句。\n",
    "\n",
    "main包比较特殊。它定义了一个**独立可执行**的程序，而**不是一个库**。在main里的main 函数 也很特殊，它是整个程序执行时的**入口**。\n",
    "\n",
    "必须告诉编译器源文件需要哪些包，这就是import声明以及随后的package声明扮演的角色。\n",
    "\n",
    "必须恰当导入需要的包，**缺少**了必要的包或者**导入了不需要的包**，程序都无法编译通过。这项严格要求避免了程序开发过程中引入未使用的包。\n",
    "\n",
    "import声明必须跟在文件的package声明之后。随后，则是组成程序的函数、变量、常量、类型的声明语句（分别由关键字func, var, const, type定义）。这些内容的声明顺序并不重要。\n",
    "\n",
    "一个函数的声明由func关键字、函数名、参数列表、返回值列表以及包含在大括号里的函数体组成。\n",
    "\n",
    "Go语言不需要在语句或者声明的末尾添加分号，除非一行上有多条语句。实际上，编译器会主动把特定符号后的换行符转换为分号, 因此换行符添加的位置会影响Go代码的正确解析。举个例子, \n",
    "\n",
    "函数的左括号{必须和func函数声明在同一行上, 且位于末尾，不能独占一行，而在表达式x + y中，可在+后换行，不能在+前换行。\n",
    "\n",
    "Go语言在代码格式上采取了很强硬的态度。gofmt工具把代码格式化为标准格式，并且go工具中的fmt子命令会对指定包, 否则默认为当前目录中所有.go源文件应用gofmt命令。\n",
    "\n",
    "本书中的所有代码都被gofmt过。你也应该养成格式化自己的代码的习惯。以法令方式规定标准的代码格式可以避免无尽的无意义的琐碎争执。更重要的是，这样可以做多种自动源码转换，如果放任Go语言代码格式，这些转换就不大可能了。\n",
    "\n",
    "很多文本编辑器都可以配置为保存文件时自动执行gofmt，这样你的源代码总会被恰当地格式化。还有个相关的工具，goimports，可以根据代码需要, 自动地添加或删除import声明。这个工具并没有包含在标准的分发包中，可以用下面的命令安装：\n",
    "\n",
    "`go get golang.org/x/tools/cmd/goimports`\n",
    "\n",
    "对于大多数用户来说，下载、编译包、运行测试用例、察看Go语言的文档等等常用功能都可以用go的工具完成。"
   ]
  }
 ],
 "metadata": {
  "kernelspec": {
   "display_name": "Python 3",
   "language": "python",
   "name": "python3"
  },
  "language_info": {
   "codemirror_mode": {
    "name": "ipython",
    "version": 3
   },
   "file_extension": ".py",
   "mimetype": "text/x-python",
   "name": "python",
   "nbconvert_exporter": "python",
   "pygments_lexer": "ipython3",
   "version": "3.6.4"
  }
 },
 "nbformat": 4,
 "nbformat_minor": 2
}
