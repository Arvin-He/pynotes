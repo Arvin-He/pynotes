{
 "cells": [
  {
   "cell_type": "markdown",
   "metadata": {},
   "source": [
    "# go-结构体"
   ]
  },
  {
   "cell_type": "markdown",
   "metadata": {},
   "source": [
    "* 结构体中可以为不同项定义不同的数据类型。\n",
    "* 结构体是由一系列具有相同类型或不同类型的数据构成的数据集合。\n",
    "* 访问结构体成员，需要使用点号 . 操作符"
   ]
  },
  {
   "cell_type": "markdown",
   "metadata": {},
   "source": [
    "### 声明结构体"
   ]
  },
  {
   "cell_type": "markdown",
   "metadata": {},
   "source": [
    "结构体定义需要使用 type 和 struct 语句。\n",
    "\n",
    "struct 语句定义一个新的数据类型，结构体有中有一个或多个成员。\n",
    "\n",
    "type 语句设定了结构体的名称。结构体的格式如下：\n",
    "```\n",
    "type struct_variable_type struct {\n",
    "   member definition;\n",
    "   member definition;\n",
    "   ...\n",
    "   member definition;\n",
    "}\n",
    "```\n",
    "\n",
    "一旦定义了结构体类型，它就能用于变量的声明，语法格式如下：\n",
    "```\n",
    "variable_name := structure_variable_type {value1, value2...valuen}\n",
    "或\n",
    "variable_name := structure_variable_type { key1: value1, key2: value2..., keyn: valuen}\n",
    "```"
   ]
  },
  {
   "cell_type": "markdown",
   "metadata": {},
   "source": [
    "### 声明结构体的例子"
   ]
  },
  {
   "cell_type": "markdown",
   "metadata": {},
   "source": [
    "1. 按照顺序提供初始化值\n",
    "`P := person{\"Tom\", 25}`\n",
    "2. 通过field:value的方式初始化，这样可以任意顺序\n",
    "`P := person{age:24, name:\"Tom\"}`\n",
    "3. 通过new函数分配一个指针，此处P的类型为`*person`\n",
    "`P := new(person)`"
   ]
  },
  {
   "cell_type": "markdown",
   "metadata": {},
   "source": [
    "### struct的匿名字段(嵌入字段)"
   ]
  },
  {
   "cell_type": "markdown",
   "metadata": {},
   "source": [
    "当匿名字段是一个struct的时候，那么这个struct所拥有的全部字段都被隐式地引入了当前定义的这个struct。\n",
    "```\n",
    "type Human struct {\n",
    "\tname string\n",
    "\tage int\n",
    "\tweight int\n",
    "}\n",
    "\n",
    "type Student struct {\n",
    "\tHuman         // 匿名字段，那么默认Student就包含了Human的所有字段\n",
    "\tspeciality string\n",
    "}\n",
    "\n",
    "func main() {\n",
    "\t// 我们初始化一个学生\n",
    "\tmark := Student{Human{\"Mark\", 25, 120}, \"Computer Science\"}\n",
    "\n",
    "\t// 我们访问相应的字段\n",
    "\tfmt.Println(\"His name is \", mark.name)\n",
    "\tfmt.Println(\"His age is \", mark.age)\n",
    "\tfmt.Println(\"His weight is \", mark.weight)\n",
    "\tfmt.Println(\"His speciality is \", mark.speciality)\n",
    "\t// 修改对应的备注信息\n",
    "\tmark.speciality = \"AI\"\n",
    "\tfmt.Println(\"Mark changed his speciality\")\n",
    "\tfmt.Println(\"His speciality is \", mark.speciality)\n",
    "\t// 修改他的年龄信息\n",
    "\tfmt.Println(\"Mark become old\")\n",
    "\tmark.age = 46\n",
    "\tfmt.Println(\"His age is\", mark.age)\n",
    "\t// 修改他的体重信息\n",
    "\tfmt.Println(\"Mark is not an athlet anymore\")\n",
    "\tmark.weight += 60\n",
    "\tfmt.Println(\"His weight is\", mark.weight)\n",
    "}\n",
    "```\n",
    "匿名字段能够实现类似字段的继承的效果。此外那就是student还能访问Human这个字段作为字段名。请看下面的代码:\n",
    "```\n",
    "mark.Human = Human{\"Marcus\", 55, 220}\n",
    "mark.Human.age -= 1\n",
    "```\n",
    "匿名访问和修改字段相当有用，但是不仅仅是struct字段，所有内置类型和自定义类型都是可以作为匿名字段的.\n",
    "```\n",
    "type Skills []string\n",
    "\n",
    "type Human struct {\n",
    "\tname string\n",
    "\tage int\n",
    "\tweight int\n",
    "}\n",
    "\n",
    "type Student struct {\n",
    "\tHuman  // 匿名字段，struct\n",
    "\tSkills // 匿名字段，自定义的类型string slice\n",
    "\tint    // 内置类型作为匿名字段\n",
    "\tspeciality string\n",
    "}\n",
    "\n",
    "func main() {\n",
    "\t// 初始化学生Jane\n",
    "\tjane := Student{Human:Human{\"Jane\", 35, 100}, speciality:\"Biology\"}\n",
    "\t// 现在我们来访问相应的字段\n",
    "\tfmt.Println(\"Her name is \", jane.name)\n",
    "\tfmt.Println(\"Her age is \", jane.age)\n",
    "\tfmt.Println(\"Her weight is \", jane.weight)\n",
    "\tfmt.Println(\"Her speciality is \", jane.speciality)\n",
    "\t// 我们来修改他的skill技能字段\n",
    "\tjane.Skills = []string{\"anatomy\"}\n",
    "\tfmt.Println(\"Her skills are \", jane.Skills)\n",
    "\tfmt.Println(\"She acquired two new ones \")\n",
    "\tjane.Skills = append(jane.Skills, \"physics\", \"golang\")\n",
    "\tfmt.Println(\"Her skills now are \", jane.Skills)\n",
    "\t// 修改匿名内置类型字段\n",
    "\tjane.int = 3\n",
    "\tfmt.Println(\"Her preferred number is\", jane.int)\n",
    "}\n",
    "```\n",
    "\n",
    "这里有一个问题：如果human里有一个字段phone，而student也有一个字段phone，那么该怎么办呢？\n",
    "解决办法: Go里面很简单的解决了这个问题，**最外层的优先访问**，也就是当你通过`student.phone`访问的时候，是访问student里面的字段，而不是human里面的字段。"
   ]
  },
  {
   "cell_type": "markdown",
   "metadata": {},
   "source": [
    "### 结构体指针"
   ]
  },
  {
   "cell_type": "markdown",
   "metadata": {},
   "source": [
    "定义指向结构体的指针类似于其他指针变量，格式如下：`var struct_pointer *Books`,\n",
    "\n",
    "以上定义的指针变量可以存储结构体变量的地址, 查看结构体变量地址`struct_pointer = &Book1;`\n",
    "\n",
    "使用结构体指针访问结构体成员，使用 \".\" 操作符：`struct_pointer.title;`"
   ]
  },
  {
   "cell_type": "markdown",
   "metadata": {},
   "source": [
    "### 方法"
   ]
  },
  {
   "cell_type": "markdown",
   "metadata": {},
   "source": [
    "Go 语言里有两种类型的接收者：值接收者和指针接收者。\n",
    "\n",
    "* 值接收者使用值的副本来调用方法\n",
    "* 指针接收者使用实际值来调用方法"
   ]
  },
  {
   "cell_type": "markdown",
   "metadata": {},
   "source": [
    "方法是给用户定义的类型添加新行为。方法实际上也是函数，只是在声明时，在关键字func 和方法名之间增加了一个参数\n",
    "\n",
    "// notify 使用值接收者实现了一个方法\n",
    "```\n",
    "func (u user) notify() {\n",
    "    fmt.Printf(\"Sending User Email To %s<%s>\\n\", u.name, u.email)\n",
    "}\n",
    "```\n",
    "\n",
    "// changeEmail 使用指针接收者实现了一个方法\n",
    "```\n",
    "func (u *user) changeEmail(email string) {\n",
    "   u.email = email\n",
    "}\n",
    "```\n",
    "关键字 func 和函数名之间的参数被称作接收者，将函数与接收者的类型绑在一起。如果一个函数有接收者，这个函数就被称为方法。"
   ]
  }
 ],
 "metadata": {
  "kernelspec": {
   "display_name": "Python 3",
   "language": "python",
   "name": "python3"
  },
  "language_info": {
   "codemirror_mode": {
    "name": "ipython",
    "version": 3
   },
   "file_extension": ".py",
   "mimetype": "text/x-python",
   "name": "python",
   "nbconvert_exporter": "python",
   "pygments_lexer": "ipython3",
   "version": "3.6.4"
  }
 },
 "nbformat": 4,
 "nbformat_minor": 2
}
