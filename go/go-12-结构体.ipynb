{
 "cells": [
  {
   "cell_type": "markdown",
   "metadata": {},
   "source": [
    "# go-结构体"
   ]
  },
  {
   "cell_type": "markdown",
   "metadata": {},
   "source": [
    "* 结构体中可以为不同项定义不同的数据类型。\n",
    "* 结构体是由一系列具有相同类型或不同类型的数据构成的数据集合。\n",
    "* 访问结构体成员，需要使用点号 . 操作符"
   ]
  },
  {
   "cell_type": "markdown",
   "metadata": {},
   "source": [
    "### 声明结构体"
   ]
  },
  {
   "cell_type": "markdown",
   "metadata": {},
   "source": [
    "结构体定义需要使用 type 和 struct 语句。\n",
    "\n",
    "struct 语句定义一个新的数据类型，结构体有中有一个或多个成员。\n",
    "\n",
    "type 语句设定了结构体的名称。结构体的格式如下：\n",
    "```\n",
    "type struct_variable_type struct {\n",
    "   member definition;\n",
    "   member definition;\n",
    "   ...\n",
    "   member definition;\n",
    "}\n",
    "```\n",
    "\n",
    "一旦定义了结构体类型，它就能用于变量的声明，语法格式如下：\n",
    "```\n",
    "variable_name := structure_variable_type {value1, value2...valuen}\n",
    "或\n",
    "variable_name := structure_variable_type { key1: value1, key2: value2..., keyn: valuen}\n",
    "```"
   ]
  },
  {
   "cell_type": "markdown",
   "metadata": {},
   "source": [
    "### 结构体指针"
   ]
  },
  {
   "cell_type": "markdown",
   "metadata": {},
   "source": [
    "定义指向结构体的指针类似于其他指针变量，格式如下：`var struct_pointer *Books`,\n",
    "\n",
    "以上定义的指针变量可以存储结构体变量的地址, 查看结构体变量地址`struct_pointer = &Book1;`\n",
    "\n",
    "使用结构体指针访问结构体成员，使用 \".\" 操作符：`struct_pointer.title;`"
   ]
  },
  {
   "cell_type": "markdown",
   "metadata": {},
   "source": [
    "### 方法"
   ]
  },
  {
   "cell_type": "markdown",
   "metadata": {},
   "source": [
    "方法是给用户定义的类型添加新行为。方法实际上也是函数，只是在声明时，在关键字func 和方法名之间增加了一个参数"
   ]
  }
 ],
 "metadata": {
  "kernelspec": {
   "display_name": "Python 3",
   "language": "python",
   "name": "python3"
  },
  "language_info": {
   "codemirror_mode": {
    "name": "ipython",
    "version": 3
   },
   "file_extension": ".py",
   "mimetype": "text/x-python",
   "name": "python",
   "nbconvert_exporter": "python",
   "pygments_lexer": "ipython3",
   "version": "3.6.4"
  }
 },
 "nbformat": 4,
 "nbformat_minor": 2
}
