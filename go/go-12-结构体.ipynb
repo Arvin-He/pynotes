{
 "cells": [
  {
   "cell_type": "markdown",
   "metadata": {},
   "source": [
    "# go-结构体"
   ]
  },
  {
   "cell_type": "markdown",
   "metadata": {},
   "source": [
    "* 结构体中可以为不同项定义不同的数据类型。\n",
    "* 结构体是由一系列具有相同类型或不同类型的数据构成的数据集合。\n",
    "* 访问结构体成员，需要使用点号 . 操作符"
   ]
  },
  {
   "cell_type": "markdown",
   "metadata": {},
   "source": [
    "### 声明结构体"
   ]
  },
  {
   "cell_type": "markdown",
   "metadata": {},
   "source": [
    "结构体定义需要使用 type 和 struct 语句。\n",
    "\n",
    "struct 语句定义一个新的数据类型，结构体有中有一个或多个成员。\n",
    "\n",
    "type 语句设定了结构体的名称。结构体的格式如下：\n",
    "```\n",
    "type struct_variable_type struct {\n",
    "   member definition;\n",
    "   member definition;\n",
    "   ...\n",
    "   member definition;\n",
    "}\n",
    "```\n",
    "\n",
    "一旦定义了结构体类型，它就能用于变量的声明，语法格式如下：\n",
    "```\n",
    "variable_name := structure_variable_type {value1, value2...valuen}\n",
    "或\n",
    "variable_name := structure_variable_type { key1: value1, key2: value2..., keyn: valuen}\n",
    "```"
   ]
  },
  {
   "cell_type": "markdown",
   "metadata": {},
   "source": [
    "### 结构体指针"
   ]
  },
  {
   "cell_type": "markdown",
   "metadata": {},
   "source": [
    "定义指向结构体的指针类似于其他指针变量，格式如下：`var struct_pointer *Books`,\n",
    "\n",
    "以上定义的指针变量可以存储结构体变量的地址, 查看结构体变量地址`struct_pointer = &Book1;`\n",
    "\n",
    "使用结构体指针访问结构体成员，使用 \".\" 操作符：`struct_pointer.title;`"
   ]
  },
  {
   "cell_type": "markdown",
   "metadata": {},
   "source": [
    "### 方法"
   ]
  },
  {
   "cell_type": "markdown",
   "metadata": {},
   "source": [
    "Go 语言里有两种类型的接收者：值接收者和指针接收者。\n",
    "\n",
    "* 值接收者使用值的副本来调用方法\n",
    "* 指针接收者使用实际值来调用方法"
   ]
  },
  {
   "cell_type": "markdown",
   "metadata": {},
   "source": [
    "方法是给用户定义的类型添加新行为。方法实际上也是函数，只是在声明时，在关键字func 和方法名之间增加了一个参数\n",
    "\n",
    "// notify 使用值接收者实现了一个方法\n",
    "```\n",
    "func (u user) notify() {\n",
    "    fmt.Printf(\"Sending User Email To %s<%s>\\n\", u.name, u.email)\n",
    "}\n",
    "```\n",
    "\n",
    "// changeEmail 使用指针接收者实现了一个方法\n",
    "```\n",
    "func (u *user) changeEmail(email string) {\n",
    "   u.email = email\n",
    "}\n",
    "```\n",
    "关键字 func 和函数名之间的参数被称作接收者，将函数与接收者的类型绑在一起。如果一个函数有接收者，这个函数就被称为方法。"
   ]
  }
 ],
 "metadata": {
  "kernelspec": {
   "display_name": "Python 3",
   "language": "python",
   "name": "python3"
  },
  "language_info": {
   "codemirror_mode": {
    "name": "ipython",
    "version": 3
   },
   "file_extension": ".py",
   "mimetype": "text/x-python",
   "name": "python",
   "nbconvert_exporter": "python",
   "pygments_lexer": "ipython3",
   "version": "3.6.4"
  }
 },
 "nbformat": 4,
 "nbformat_minor": 2
}
