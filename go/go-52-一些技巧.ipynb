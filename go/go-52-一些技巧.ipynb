{
 "cells": [
  {
   "cell_type": "markdown",
   "metadata": {},
   "source": [
    "# go-一些技巧"
   ]
  },
  {
   "cell_type": "markdown",
   "metadata": {},
   "source": [
    "### 分组声明"
   ]
  },
  {
   "cell_type": "markdown",
   "metadata": {},
   "source": [
    "在Go语言中，同时声明多个常量、变量，或者导入多个包时，可采用分组的方式进行声明。\n",
    "\n",
    "```\n",
    "import(\n",
    "\t\"fmt\"\n",
    "\t\"os\"\n",
    ")\n",
    "\n",
    "const(\n",
    "\ti = 100\n",
    "\tpi = 3.1415\n",
    "\tprefix = \"Go_\"\n",
    ")\n",
    "\n",
    "var(\n",
    "\ti int\n",
    "\tpi float32\n",
    "\tprefix string\n",
    ")\n",
    "```"
   ]
  },
  {
   "cell_type": "markdown",
   "metadata": {},
   "source": [
    "### itoa枚举"
   ]
  },
  {
   "cell_type": "markdown",
   "metadata": {},
   "source": [
    "Go里面有一个关键字iota，这个关键字用来声明enum的时候采用，它默认开始值是0，const中每增加一行加1,\n",
    "除非被显式设置为其它值或iota，每个const分组的第一个常量被默认设置为它的0值，第二及后续的常量被默认设置为它前面那个常量的值，如果前面那个常量的值是iota，则它也被设置为iota。\n",
    "```\n",
    "const (\n",
    "\tx = iota // x == 0\n",
    "\ty = iota // y == 1\n",
    "\tz = iota // z == 2\n",
    "\tw      // 常量声明省略值时，默认和之前一个值的字面相同。这里隐式地说w = iota，因此w == 3。其实上面y和z可同样不用\"= iota\"\n",
    ")\n",
    "\n",
    "const v = iota // 每遇到一个const关键字，iota就会重置，此时v == 0\n",
    "\n",
    "const (\n",
    "\th, i, j = iota, iota, iota //h=0,i=0,j=0 iota在同一行值相同\n",
    ")\n",
    "\n",
    "const (\n",
    "\ta       = iota             //a=0\n",
    "\tb       = \"B\"\n",
    "\tc       = iota             //c=2\n",
    "\td, e, f = iota, iota, iota       //d=3,e=3,f=3\n",
    "\tg       = iota             //g = 4\n",
    ")\n",
    "```"
   ]
  },
  {
   "cell_type": "markdown",
   "metadata": {},
   "source": [
    "### 一些设计规则"
   ]
  },
  {
   "cell_type": "markdown",
   "metadata": {},
   "source": [
    "* 大写字母开头的变量是可导出的，也就是其它包可以读取的，是公有变量；小写字母开头的是不可导出的，是私有变量。\n",
    "* 大写字母开头的函数也是一样，相当于class中的带public关键词的公有函数；小写字母开头的就是有private关键词的私有函数。"
   ]
  },
  {
   "cell_type": "markdown",
   "metadata": {},
   "source": [
    "### make和new操作"
   ]
  },
  {
   "cell_type": "markdown",
   "metadata": {},
   "source": [
    "* make用于内建类型（map、slice 和channel）的内存分配。\n",
    "* new用于各种类型的内存分配。\n",
    "\n",
    "内建函数new本质上说跟其它语言中的同名函数功能一样：`new(T)`分配了零值填充的T类型的内存空间，并且返回其地址，即一个`*T`类型的值。\n",
    "用Go的术语说，它返回了一个指针，指向新分配的类型T的零值。\n",
    "\n",
    "make和new的区别:\n",
    "* make只能创建`slice`、`map`和`channel`，并且返回一个有初始值(非零)的T类型，而不是`*T`。\n",
    "* make返回初始化后的（非零）值。\n",
    "* new返回指针。\n",
    "\n",
    "本质来讲，导致这三个类型有所不同的原因是指向数据结构的引用在使用前必须被初始化。例如，一个slice，是一个包含指向数据（内部array）的指针、长度和容量的三项描述符；在这些项目被初始化之前，slice为nil。对于slice、map和channel来说，make初始化了内部的数据结构，填充适当的值。\n",
    "\n"
   ]
  }
 ],
 "metadata": {
  "kernelspec": {
   "display_name": "Python 3",
   "language": "python",
   "name": "python3"
  },
  "language_info": {
   "codemirror_mode": {
    "name": "ipython",
    "version": 3
   },
   "file_extension": ".py",
   "mimetype": "text/x-python",
   "name": "python",
   "nbconvert_exporter": "python",
   "pygments_lexer": "ipython3",
   "version": "3.6.4"
  }
 },
 "nbformat": 4,
 "nbformat_minor": 2
}
