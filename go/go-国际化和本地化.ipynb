{
 "cells": [
  {
   "cell_type": "markdown",
   "metadata": {},
   "source": [
    "# go-国际化和本地化"
   ]
  },
  {
   "cell_type": "markdown",
   "metadata": {},
   "source": [
    "国际化与本地化（Internationalization and localization,通常用i18n和L10N表示），国际化是将针对某个地区设计的程序进行重构，以使它能够在更多地区使用，本地化是指在一个面向国际化的程序中增加对新地区的支持。\n",
    "\n",
    "所谓的国际化：就是根据特定的locale信息，提取与之相应的字符串或其它一些东西（比如时间和货币的格式）等等。这涉及到三个问题：\n",
    "\n",
    "1. 如何确定locale。\n",
    "2. 如何保存与locale相关的字符串或其它信息。\n",
    "3. 如何根据locale提取字符串和其它相应的信息。\n",
    "\n",
    "目前，Go语言的标准包没有提供对i18n的支持，但有一些比较简单的第三方实现，这一章我们将实现一个go-i18n库，用来支持Go语言的i18n。"
   ]
  },
  {
   "cell_type": "markdown",
   "metadata": {},
   "source": [
    "## 设置默认地区"
   ]
  },
  {
   "cell_type": "markdown",
   "metadata": {},
   "source": [
    "### 什么是Locale"
   ]
  },
  {
   "cell_type": "markdown",
   "metadata": {},
   "source": [
    "Locale是一组描述世界上某一特定区域文本格式和语言习惯的设置的集合。\n",
    "\n",
    "locale名通常由三个部分组成：\n",
    "* 第一部分，是一个强制性的，表示语言的缩写，例如\"en\"表示英文或\"zh\"表示中文。\n",
    "* 第二部分，跟在一个下划线之后，是一个可选的国家说明符，用于区分讲同一种语言的不同国家，例如\"en_US\"表示美国英语，而\"en_UK\"表示英国英语。* * 最后一部分，跟在一个句点之后，是可选的字符集说明符，例如\"zh_CN.gb2312\"表示中国使用gb2312字符集。\n",
    "\n",
    "GO语言默认采用\"UTF-8\"编码集，所以我们实现i18n时不考虑第三部分，接下来我们都采用locale描述的前面两部分来作为i18n标准的locale名。\n",
    "\n",
    "在Linux和Solaris系统中可以通过locale -a命令列举所有支持的地区名，读者可以看到这些地区名的命名规范。\n",
    "\n",
    "对于BSD等系统，没有locale命令，但是地区信息存储在/usr/share/locale中。"
   ]
  },
  {
   "cell_type": "markdown",
   "metadata": {},
   "source": [
    "## 本地化资源"
   ]
  },
  {
   "cell_type": "markdown",
   "metadata": {},
   "source": [
    "设置好Locale之后我们需要解决的问题就是如何存储相应的Locale对应的信息呢？这里面的信息包括：文本信息、时间和日期、货币值、图片、包含文件以及视图等资源。那么接下来我们将对这些信息一一进行介绍，Go语言中我们把这些格式信息存储在JSON中，然后通过合适的方式展现出来。(接下来以中文和英文两种语言对比举例,存储格式文件en.json和zh-CN.json)"
   ]
  },
  {
   "cell_type": "markdown",
   "metadata": {},
   "source": [
    "### 本地化文本消息"
   ]
  },
  {
   "cell_type": "markdown",
   "metadata": {},
   "source": [
    "### 本地化日期和时间"
   ]
  },
  {
   "cell_type": "markdown",
   "metadata": {},
   "source": [
    "需要解决两点:\n",
    "\n",
    "1. 时区问题\n",
    "2. 格式问题"
   ]
  },
  {
   "cell_type": "markdown",
   "metadata": {},
   "source": [
    "### 本地化货币值"
   ]
  },
  {
   "cell_type": "markdown",
   "metadata": {},
   "source": [
    "### 本地化视图和资源"
   ]
  },
  {
   "cell_type": "markdown",
   "metadata": {},
   "source": [
    "```\n",
    "views\n",
    "|--en  //英文模板\n",
    "\t|--images     //存储图片信息\n",
    "\t|--js         //存储JS文件\n",
    "\t|--css        //存储css文件\n",
    "\tindex.tpl     //用户首页\n",
    "\tlogin.tpl     //登陆首页\n",
    "|--zh-CN //中文模板\n",
    "\t|--images\n",
    "\t|--js\n",
    "\t|--css\n",
    "\tindex.tpl\n",
    "\tlogin.tpl\n",
    "```"
   ]
  },
  {
   "cell_type": "markdown",
   "metadata": {},
   "source": [
    "使用及存储本地资源，有时需要通过转换函数来实现，有时通过lang来设置，但是最终都是通过key-value的方式来存储Locale对应的数据，在需要时取出相应于Locale的信息后，如果是文本信息就直接输出，如果是时间日期或者货币，则需要先通过fmt.Printf或其他格式化函数来处理，而对于不同Locale的视图和资源则是最简单的，只要在路径里面增加lang就可以实现了。"
   ]
  },
  {
   "cell_type": "markdown",
   "metadata": {},
   "source": [
    "### 国际化站点"
   ]
  },
  {
   "cell_type": "markdown",
   "metadata": {},
   "source": [
    "### 管理多个本地包"
   ]
  },
  {
   "cell_type": "markdown",
   "metadata": {},
   "source": [
    "在开发一个应用的时候，首先要决定是只支持一种语言，还是多种语言，如果要支持多种语言，则需要制定一个组织结构，以方便将来更多语言的添加。在此设计如下：Locale有关的文件放置在config/locales下，假设你要支持中文和英文，那么你需要在这个文件夹下放置en.json和zh.json。"
   ]
  },
  {
   "cell_type": "markdown",
   "metadata": {},
   "source": [
    "### template mapfunc"
   ]
  },
  {
   "cell_type": "markdown",
   "metadata": {},
   "source": [
    "在多个语言包的管理和加载中，一些函数的实现是基于逻辑层的，例如：\"Tr.Translate\"、\"Tr.Time\"、\"Tr.Money\"等，虽然在逻辑层可以利用这些函数把需要的参数进行转换后在模板层渲染的时候直接输出，如果想在模版层直接使用这些函数该怎么实现呢？\n",
    "\n",
    "解决方案：Go语言的模板支持自定义模板函数，在开发Web应用的时候直接在模板中通过pipeline的方式来操作多语言包。"
   ]
  }
 ],
 "metadata": {
  "kernelspec": {
   "display_name": "Python 3",
   "language": "python",
   "name": "python3"
  },
  "language_info": {
   "codemirror_mode": {
    "name": "ipython",
    "version": 3
   },
   "file_extension": ".py",
   "mimetype": "text/x-python",
   "name": "python",
   "nbconvert_exporter": "python",
   "pygments_lexer": "ipython3",
   "version": "3.6.4"
  }
 },
 "nbformat": 4,
 "nbformat_minor": 2
}
