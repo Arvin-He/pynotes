{
 "cells": [
  {
   "cell_type": "markdown",
   "metadata": {},
   "source": [
    "# go-函数和递归函数"
   ]
  },
  {
   "cell_type": "markdown",
   "metadata": {},
   "source": [
    "* Go 语言最少有个 main() 函数。\n",
    "* 函数声明告诉了编译器: 函数的名称，返回类型，和参数。\n",
    "* 默认情况下，Go 语言使用的是值传递，即在调用过程中不会影响到实际参数。\n",
    "* 函数可以返回多个值"
   ]
  },
  {
   "cell_type": "markdown",
   "metadata": {},
   "source": [
    "### 函数定义"
   ]
  },
  {
   "cell_type": "markdown",
   "metadata": {},
   "source": [
    "```\n",
    "func function_name( [parameter list] ) [return_types] {\n",
    "   函数体\n",
    "}\n",
    "```\n",
    "\n",
    "函数定义解析：\n",
    "\n",
    "* func：函数由 func 开始声明\n",
    "* function_name：函数名称，函数名和参数列表一起构成了函数签名。\n",
    "* parameter list：参数列表指定的是参数类型、顺序、及参数个数。参数是可选的，也就是说函数也可以不包含参数。\n",
    "* return_types：返回类型，函数返回一列值。return_types 是该列值的数据类型。当不需要返回值时，return_types 不是必须的。\n",
    "* 函数体：函数定义的代码集合。"
   ]
  },
  {
   "cell_type": "markdown",
   "metadata": {},
   "source": [
    "### 函数的用法"
   ]
  },
  {
   "cell_type": "markdown",
   "metadata": {},
   "source": [
    "1. 函数作为值:\t函数定义后可作为值来使用, 即将函数赋给一个变量\n",
    "2. 闭包:\t闭包是匿名函数，可在动态编程中使用\n",
    "3. 方法:\t方法就是一个包含了接受者的函数(这是go中叫法),即OOP中类的成员函数,接受者就是类成员函数默认的self,this参数."
   ]
  },
  {
   "cell_type": "markdown",
   "metadata": {},
   "source": [
    "### 递归函数"
   ]
  },
  {
   "cell_type": "markdown",
   "metadata": {},
   "source": [
    "递归，就是在运行的过程中调用自己。\n",
    "\n",
    "Go 语言支持递归。但我们在使用递归时，开发者需要设置退出条件，否则递归将陷入无限循环中。"
   ]
  }
 ],
 "metadata": {
  "kernelspec": {
   "display_name": "Python 3",
   "language": "python",
   "name": "python3"
  },
  "language_info": {
   "codemirror_mode": {
    "name": "ipython",
    "version": 3
   },
   "file_extension": ".py",
   "mimetype": "text/x-python",
   "name": "python",
   "nbconvert_exporter": "python",
   "pygments_lexer": "ipython3",
   "version": "3.6.4"
  }
 },
 "nbformat": 4,
 "nbformat_minor": 2
}
