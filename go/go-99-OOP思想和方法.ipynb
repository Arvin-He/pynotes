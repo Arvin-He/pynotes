{
 "cells": [
  {
   "cell_type": "markdown",
   "metadata": {},
   "source": [
    "# go-OOP思想和方法"
   ]
  },
  {
   "cell_type": "markdown",
   "metadata": {},
   "source": [
    "### 面向对象"
   ]
  },
  {
   "cell_type": "markdown",
   "metadata": {},
   "source": [
    "* go也支持OOP,传统的类由成员函数和成员变量组成\n",
    "* go语言中的方法则是一个一个和特殊类型关联的函数\n",
    "* 一个面向对象的程序会用方法来表达其属性和对应的操作，这样使用这个对象的用户就不需要直接去操作对象，而是借助方法来做这些事情。"
   ]
  },
  {
   "cell_type": "markdown",
   "metadata": {},
   "source": [
    "### method"
   ]
  },
  {
   "cell_type": "markdown",
   "metadata": {},
   "source": [
    "带有接收者的函数，我们称为method, 这个接收者相当于类中的this,self.\n",
    "\n",
    "method是附属在一个给定的类型上的，语法和函数的声明语法几乎一样，只是在func后面增加了一个receiver(也就是method所依从的主体)"
   ]
  },
  {
   "cell_type": "code",
   "execution_count": null,
   "metadata": {},
   "outputs": [],
   "source": [
    "package main\n",
    "\n",
    "import (\n",
    "\t\"fmt\"\n",
    "\t\"math\"\n",
    ")\n",
    "\n",
    "type Rectangle struct {\n",
    "\twidth, height float64\n",
    "}\n",
    "\n",
    "type Circle struct {\n",
    "\tradius float64\n",
    "}\n",
    "\n",
    "func (r Rectangle) area() float64 {\n",
    "\treturn r.width*r.height\n",
    "}\n",
    "\n",
    "func (c Circle) area() float64 {\n",
    "\treturn c.radius * c.radius * math.Pi\n",
    "}\n",
    "\n",
    "\n",
    "func main() {\n",
    "\tr1 := Rectangle{12, 2}\n",
    "\tr2 := Rectangle{9, 4}\n",
    "\tc1 := Circle{10}\n",
    "\tc2 := Circle{25}\n",
    "\n",
    "\tfmt.Println(\"Area of r1 is: \", r1.area())\n",
    "\tfmt.Println(\"Area of r2 is: \", r2.area())\n",
    "\tfmt.Println(\"Area of c1 is: \", c1.area())\n",
    "\tfmt.Println(\"Area of c2 is: \", c2.area())\n",
    "}"
   ]
  },
  {
   "cell_type": "markdown",
   "metadata": {},
   "source": [
    "上面的代码func后里那个附加的参数，叫方法的接收器(receiver)，早期的面向对象语言留下的遗产将调用一个方法称为“向一个对象发送消息”。\n",
    "\n",
    "Go语言中，没有像其它语言那样用this或self作为接收器；\n",
    "\n",
    "Go语言中可以任意选择接收器的名字。\n",
    "\n",
    "由于接收器的名字经常会被使用到，所以保持其在方法间传递时的一致性和简短性是不错的主意。\n",
    "\n",
    "这里的建议是使用其类型的第一个字母，比如Point的首字母p。\n",
    "\n",
    "在方法调用过程中，接收器参数一般会在方法名之前出现。\n",
    "\n",
    "注意点:\n",
    "* 虽然method的名字一模一样，但是如果接收者不一样，那么method就不一样\n",
    "* method里面可以访问接收者的字段\n",
    "* 调用method通过.访问，就像struct里面访问字段一样\n",
    "\n",
    "说明: Receiver可以是**值传递**，还可以是**指针**,两者的差别在于: \n",
    "* 指针作为Receiver会对实例对象的内容发生操作.\n",
    "* 普通类型作为Receiver仅仅是以副本作为操作对象,并不对原实例对象发生操作."
   ]
  },
  {
   "cell_type": "markdown",
   "metadata": {},
   "source": [
    "### method是否只能作用于struct？"
   ]
  },
  {
   "cell_type": "markdown",
   "metadata": {},
   "source": [
    "当然不是，method可以定义在任何你自定义的类型、内置类型、struct等各种类型上面。\n",
    "\n",
    "这里你是不是有点迷糊了，什么叫自定义类型? 自定义类型不就是struct嘛? \n",
    "\n",
    "不是这样的，struct只是自定义类型里面一种比较特殊的类型而已，还有其他自定义类型申明，可以通过如下这样的申明来实现。\n",
    "`type typeName typeLiteral`\n",
    "\n",
    "实际上只是一个定义了一个别名,有点类似于c中的typedef，\n"
   ]
  },
  {
   "cell_type": "markdown",
   "metadata": {},
   "source": [
    "### 指针作为recevirer"
   ]
  },
  {
   "cell_type": "code",
   "execution_count": null,
   "metadata": {},
   "outputs": [],
   "source": [
    "package main\n",
    "\n",
    "import \"fmt\"\n",
    "\n",
    "const(\n",
    "\tWHITE = iota\n",
    "\tBLACK\n",
    "\tBLUE\n",
    "\tRED\n",
    "\tYELLOW\n",
    ")\n",
    "\n",
    "type Color byte\n",
    "\n",
    "type Box struct {\n",
    "\twidth, height, depth float64\n",
    "\tcolor Color\n",
    "}\n",
    "\n",
    "type BoxList []Box //a slice of boxes\n",
    "\n",
    "func (b Box) Volume() float64 {\n",
    "\treturn b.width * b.height * b.depth\n",
    "}\n",
    "\n",
    "func (b *Box) SetColor(c Color) {\n",
    "\tb.color = c\n",
    "}\n",
    "\n",
    "func (bl BoxList) BiggestColor() Color {\n",
    "\tv := 0.00\n",
    "\tk := Color(WHITE)\n",
    "\tfor _, b := range bl {\n",
    "\t\tif bv := b.Volume(); bv > v {\n",
    "\t\t\tv = bv\n",
    "\t\t\tk = b.color\n",
    "\t\t}\n",
    "\t}\n",
    "\treturn k\n",
    "}\n",
    "\n",
    "func (bl BoxList) PaintItBlack() {\n",
    "\tfor i := range bl {\n",
    "\t\tbl[i].SetColor(BLACK)\n",
    "\t}\n",
    "}\n",
    "\n",
    "func (c Color) String() string {\n",
    "\tstrings := []string {\"WHITE\", \"BLACK\", \"BLUE\", \"RED\", \"YELLOW\"}\n",
    "\treturn strings[c]\n",
    "}\n",
    "\n",
    "func main() {\n",
    "\tboxes := BoxList {\n",
    "\t\tBox{4, 4, 4, RED},\n",
    "\t\tBox{10, 10, 1, YELLOW},\n",
    "\t\tBox{1, 1, 20, BLACK},\n",
    "\t\tBox{10, 10, 1, BLUE},\n",
    "\t\tBox{10, 30, 1, WHITE},\n",
    "\t\tBox{20, 20, 20, YELLOW},\n",
    "\t}\n",
    "\n",
    "\tfmt.Printf(\"We have %d boxes in our set\\n\", len(boxes))\n",
    "\tfmt.Println(\"The volume of the first one is\", boxes[0].Volume(), \"cm³\")\n",
    "\tfmt.Println(\"The color of the last one is\",boxes[len(boxes)-1].color.String())\n",
    "\tfmt.Println(\"The biggest one is\", boxes.BiggestColor().String())\n",
    "\n",
    "\tfmt.Println(\"Let's paint them all black\")\n",
    "\tboxes.PaintItBlack()\n",
    "\tfmt.Println(\"The color of the second one is\", boxes[1].color.String())\n",
    "\n",
    "\tfmt.Println(\"Obviously, now, the biggest one is\", boxes.BiggestColor().String())\n",
    "}"
   ]
  },
  {
   "cell_type": "markdown",
   "metadata": {},
   "source": [
    "在`SetColor`函数里要读取到指针相应的值, 原本应该这样定义`*b.Color=c`,而不是`b.Color=c`, 但在go中却可以用`b.Color=c`这种方式呢?\n",
    "\n",
    "答案是: 在Go里面这两种方式都是正确的，当用指针去访问相应字段时(虽然指针没有任何字段)，但是Go知道你要通过指针去获取这个值。\n",
    "\n",
    "在`PaintItBlack`里面调用`SetColor`的时候是不是应该写成`(&bl[i]).SetColor(BLACK)`，因为SetColor的receiver是`*Box`，而不是Box?\n",
    "\n",
    "答案是: 这两种方式都可以，因为Go知道receiver是指针，GO自动帮你转了。\n",
    "\n",
    "也就是说：\n",
    "\n",
    "如果一个method的receiver是`*T`,你可以在一个T类型的实例变量V上面调用这个method，而不需要`&V`去调用这个method\n",
    "\n",
    "类似的\n",
    "\n",
    "如果一个method的receiver是T，你可以在一个`*T`类型的变量P上面调用这个method，而不需要 `*P`去调用这个method\n",
    "\n",
    "所以，不用担心你是调用的指针的method还是不是指针的method，Go知道你要做的一切."
   ]
  },
  {
   "cell_type": "markdown",
   "metadata": {},
   "source": [
    "### method继承"
   ]
  },
  {
   "cell_type": "markdown",
   "metadata": {},
   "source": [
    "在Go中struct中的字段可以被继承,method也可以被继承,如果匿名字段实现了一个method，那么包含这个匿名字段的struct也能调用该method.\n",
    "```\n",
    "package main\n",
    "\n",
    "import \"fmt\"\n",
    "\n",
    "type Human struct {\n",
    "\tname string\n",
    "\tage int\n",
    "\tphone string\n",
    "}\n",
    "\n",
    "type Student struct {\n",
    "\tHuman //匿名字段\n",
    "\tschool string\n",
    "}\n",
    "\n",
    "type Employee struct {\n",
    "\tHuman //匿名字段\n",
    "\tcompany string\n",
    "}\n",
    "\n",
    "//在human上面定义了一个method\n",
    "func (h *Human) SayHi() {\n",
    "\tfmt.Printf(\"Hi, I am %s you can call me on %s\\n\", h.name, h.phone)\n",
    "}\n",
    "\n",
    "func main() {\n",
    "\tmark := Student{Human{\"Mark\", 25, \"222-222-YYYY\"}, \"MIT\"}\n",
    "\tsam := Employee{Human{\"Sam\", 45, \"111-888-XXXX\"}, \"Golang Inc\"}\n",
    "\n",
    "\tmark.SayHi()\n",
    "\tsam.SayHi()\n",
    "}\n",
    "```"
   ]
  },
  {
   "cell_type": "markdown",
   "metadata": {},
   "source": [
    "### method重写"
   ]
  },
  {
   "cell_type": "markdown",
   "metadata": {},
   "source": [
    "在上面的例子中，如果Employee想要实现自己的SayHi,怎么办？\n",
    "\n",
    "答: 和匿名字段冲突一样的道理，在Employee上面定义一个method，重写了匿名字段的方法。请看下面的例子\n",
    "\n",
    "```\n",
    "package main\n",
    "\n",
    "import \"fmt\"\n",
    "\n",
    "type Human struct {\n",
    "\tname string\n",
    "\tage int\n",
    "\tphone string\n",
    "}\n",
    "\n",
    "type Student struct {\n",
    "\tHuman //匿名字段\n",
    "\tschool string\n",
    "}\n",
    "\n",
    "type Employee struct {\n",
    "\tHuman //匿名字段\n",
    "\tcompany string\n",
    "}\n",
    "\n",
    "//Human定义method\n",
    "func (h *Human) SayHi() {\n",
    "\tfmt.Printf(\"Hi, I am %s you can call me on %s\\n\", h.name, h.phone)\n",
    "}\n",
    "\n",
    "//Employee的method重写Human的method\n",
    "func (e *Employee) SayHi() {\n",
    "\tfmt.Printf(\"Hi, I am %s, I work at %s. Call me on %s\\n\", e.name,\n",
    "\t\te.company, e.phone) //Yes you can split into 2 lines here.\n",
    "}\n",
    "\n",
    "func main() {\n",
    "\tmark := Student{Human{\"Mark\", 25, \"222-222-YYYY\"}, \"MIT\"}\n",
    "\tsam := Employee{Human{\"Sam\", 45, \"111-888-XXXX\"}, \"Golang Inc\"}\n",
    "\n",
    "\tmark.SayHi()\n",
    "\tsam.SayHi()\n",
    "}\n",
    "```\n"
   ]
  },
  {
   "cell_type": "markdown",
   "metadata": {},
   "source": [
    "### go中类成员函数声明"
   ]
  },
  {
   "cell_type": "markdown",
   "metadata": {},
   "source": [
    "在函数声明时，在其名字之前放上一个变量，即是一个方法。这个附加的参数会将该函数附加到这种类型上，即相当于为这种类型定义了一个独占的方法。"
   ]
  },
  {
   "cell_type": "markdown",
   "metadata": {},
   "source": [
    "### 方法调用"
   ]
  },
  {
   "cell_type": "markdown",
   "metadata": {},
   "source": [
    "在方法调用过程中，接收器参数一般会在方法名之前出现。这和方法声明是一样的，都是接收器参数在方法名字之前。下面是例子：\n",
    "```\n",
    "p := Point{1, 2}\n",
    "q := Point{4, 6}\n",
    "fmt.Println(Distance(p, q)) // \"5\", function call\n",
    "fmt.Println(p.Distance(q))  // \"5\", method call\n",
    "```\n",
    "\n",
    "上面的两个函数调用都是Distance，但是却没有发生冲突。第一个Distance的调用实际上用的是包级别的函数geometry.Distance，而第二个则是使用刚刚声明的Point，调用的是Point类下声明的Point.Distance方法。\n",
    "\n",
    "这种`p.Distance`的表达式叫做选择器，因为他会选择合适的对应p这个对象的Distance方法来执行。选择器也会被用来选择一个struct类型的字段，比如p.X。由于方法和字段都是在同一命名空间，所以如果我们在这里声明一个X方法的话，编译器会报错，因为在调用p.X时会有歧义(译注：这里确实挺奇怪的)。\n",
    "\n",
    "因为每种类型都有其方法的命名空间，我们在用Distance这个名字的时候，不同的Distance调用指向了不同类型里的Distance方法。让我们来定义一个Path类型，这个Path代表一个线段的集合，并且也给这个Path定义一个叫Distance的方法。"
   ]
  }
 ],
 "metadata": {
  "kernelspec": {
   "display_name": "Python 3",
   "language": "python",
   "name": "python3"
  },
  "language_info": {
   "codemirror_mode": {
    "name": "ipython",
    "version": 3
   },
   "file_extension": ".py",
   "mimetype": "text/x-python",
   "name": "python",
   "nbconvert_exporter": "python",
   "pygments_lexer": "ipython3",
   "version": "3.6.4"
  }
 },
 "nbformat": 4,
 "nbformat_minor": 2
}
