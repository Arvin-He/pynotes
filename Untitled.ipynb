{
 "cells": [
  {
   "cell_type": "code",
   "execution_count": null,
   "metadata": {},
   "outputs": [],
   "source": [
    "import multiprocessing\n",
    "from requests.exceptions import RequestException\n",
    "from requests.adapters import HTTPAdapter\n",
    "import re, os, json, requests, time\n",
    "import traceback\n",
    "\n",
    "def main():\n",
    "    url = 'http://127.0.0.1:8000/'\n",
    "    k = requests.get(url)\n",
    "    print(k.text)\n",
    "\n",
    "    \n",
    "results = []\n",
    "pool = multiprocessing.Pool(processes=20)\n",
    "for i in range(2):\n",
    "    print('xxx')\n",
    "    results.append(pool.apply_async(main,))\n",
    "pool.close()\n",
    "pool.join()\n"
   ]
  },
  {
   "cell_type": "code",
   "execution_count": null,
   "metadata": {},
   "outputs": [],
   "source": []
  }
 ],
 "metadata": {
  "kernelspec": {
   "display_name": "Python 3",
   "language": "python",
   "name": "python3"
  },
  "language_info": {
   "codemirror_mode": {
    "name": "ipython",
    "version": 3
   },
   "file_extension": ".py",
   "mimetype": "text/x-python",
   "name": "python",
   "nbconvert_exporter": "python",
   "pygments_lexer": "ipython3",
   "version": "3.6.6"
  }
 },
 "nbformat": 4,
 "nbformat_minor": 2
}
