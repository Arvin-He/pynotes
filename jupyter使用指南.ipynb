{
 "cells": [
  {
   "cell_type": "markdown",
   "metadata": {},
   "source": [
    "## 为什么使用Jupyter Notebook\n",
    "\n",
    "最大的有点是基于过程吧,有的时候你写了一些代码,然后你想把代码和运行结果一起保存下来,以便将来随时拿来复用或查阅.\n",
    "以前一直用markdown记笔记,但是很累,代码运行结果需要自己复制粘贴,还要经常调格式,总之不是很方便.所以就转到Jupyter Notebook上了."
   ]
  },
  {
   "cell_type": "markdown",
   "metadata": {},
   "source": [
    "### jupyter notebook简介"
   ]
  },
  {
   "cell_type": "markdown",
   "metadata": {},
   "source": [
    "Jupyter具有非常强的可扩展性，支持很多编程语言，并且易于部署到你的个人电脑和几乎所有的服务器上 -- 你只需要使用ssh或http接入即可。最重要的是，它完全免费。\n",
    "\n",
    "Jupyter默认设置使用 Python kernel，正因此以前叫做 IPython notebook. Jupyter notebook 源自于 Jupyter 项目, Jupyter这个名字是它被设计所支持三个核心编程语言的缩写词：JUlia,PYThon, 和 R, 启发自木星这个词：Jupiter."
   ]
  },
  {
   "cell_type": "markdown",
   "metadata": {},
   "source": [
    "### notebook document的结构"
   ]
  },
  {
   "cell_type": "markdown",
   "metadata": {},
   "source": [
    "* Code cells：用于写代码 （命令模式中Y键设置）\n",
    "* Markdown cells：写markdown文档（命令模式中M键设置）\n",
    "* Raw Cells: 代码或文档的输出信息"
   ]
  },
  {
   "cell_type": "markdown",
   "metadata": {},
   "source": [
    "## 安装Jupyter Notebook"
   ]
  },
  {
   "cell_type": "code",
   "execution_count": null,
   "metadata": {},
   "outputs": [],
   "source": [
    "pip install jupyter"
   ]
  },
  {
   "cell_type": "markdown",
   "metadata": {},
   "source": [
    "## 启动Jupyter Notebook, 在命令行输入:"
   ]
  },
  {
   "cell_type": "code",
   "execution_count": null,
   "metadata": {},
   "outputs": [],
   "source": [
    "jupyter notebook"
   ]
  },
  {
   "cell_type": "markdown",
   "metadata": {},
   "source": [
    "默认在本地8888端口启动jupyter notebook.\n",
    "\n",
    "[I 10:01:27.337 NotebookApp] http://localhost:8888/?token=xxx"
   ]
  },
  {
   "cell_type": "markdown",
   "metadata": {},
   "source": [
    "## 非本地内核\n",
    "\n",
    "我们不仅可以在本地电脑上启动 Jupyter，而且支持多人通过网络连接同一个 Jupyter 实例。在本地启动启动jupyter,则在控制台会出现:\n",
    "The IPython Notebook is running at: http://localhost:8888/\n",
    "这意味着，你的 notebook 是本地运行的，可以在浏览器上打开 http://localhost:8888/ ，从而访问 notebook。\n",
    "你也可以修改下配置，让该 notebook 可以被公开访问。这样，任何知道 notebook 地址的人都可以连接到 notebook 进行远程修改。"
   ]
  },
  {
   "cell_type": "markdown",
   "metadata": {},
   "source": [
    "### 常用快捷键"
   ]
  },
  {
   "cell_type": "markdown",
   "metadata": {},
   "source": [
    "* Esc + F 查找和替换你的代码，但不包括代码的输出内容。\n",
    "* Esc + o 打开代码块输出。\n",
    "* Shift + M 对多个cell进行合并。\n",
    "* y：单元转入代码状态\n",
    "* m：单元转入markdown状态\n",
    "* a ：在上方插入新单元\n",
    "* b：在下方插入新单元\n",
    "* x：剪切选中的单元\n",
    "* Shift+V：在上方粘贴单元\n",
    "* %timeit python scripts评估函数的运行时间和内存使用\n",
    "* 代码框输入!bash command可运行bash命令\n",
    "* 代码框输入%load sxbd.py就会加载之前写过的脚本\n",
    "\n",
    "执行系统命令: 在命令（系统相关）前加入!, Shift-Enter执行。如显示目录\n",
    "\n",
    "函数查询：函数名前/后加? (括号可选)\n",
    "\n",
    "魔法函数：以%开头\n",
    "\n",
    "用其他语言核：使用%%\n",
    "\n",
    "    %%bash\n",
    "    %%HTML\n",
    "    %%python2\n",
    "    %%python3\n",
    "    %%ruby\n",
    "    %%perl\n"
   ]
  },
  {
   "cell_type": "markdown",
   "metadata": {},
   "source": [
    "### 配置"
   ]
  },
  {
   "cell_type": "markdown",
   "metadata": {},
   "source": [
    "配置文件\n",
    "\n",
    "jupyter notebook --generate-config"
   ]
  },
  {
   "cell_type": "markdown",
   "metadata": {},
   "source": [
    "## 模式切换\n",
    "\n",
    "* 当前cell侧边为蓝色时，表示此时为命令模式，按Enter切换为编辑模式\n",
    "* 当前cell侧边为绿色时，表示此时为编辑模式，按Esc切换为命令模式"
   ]
  },
  {
   "cell_type": "markdown",
   "metadata": {},
   "source": [
    "## 命令模式快捷键\n",
    "\n",
    "* 1~6：把当前cell内容设置为标题1~6格式\n",
    "* A：在上方新建cell\n",
    "* B：在下方新建cell\n",
    "* C: 复制\n",
    "* F：查找和替换\n",
    "* H：显示快捷键帮助\n",
    "* L：为当前cell的代码添加行编号\n",
    "* M：把当前cell内容转换为markdown形式\n",
    "* P：打开命令面板\n",
    "* S：保存notebook\n",
    "* V: 下方粘贴\n",
    "* X：剪切\n",
    "* Y：把当前cell内容转换为代码形式\n",
    "* Z：撤销删除\n",
    "\n",
    "* Shift-V：上方粘贴\n",
    "* Shift-L：为所有cell的代码添加行编号\n",
    "* Shift-M：合并所选cell或合并当前cell和下方的cell\n",
    "* Ctrl-Enter：运行当前cell\n",
    "* Shift-Enter：运行当前cell并跳转到下一cell\n",
    "* Alt-Enter：运行当前cell并在下方新建cell\n",
    "* Shift+上下键：按住Shift进行上下键操作可复选多个cell\n",
    "\n",
    "* 双击D：删除当前cell\n",
    "* 双击I：停止kernel\n",
    "* 双击0：重启kernel\n",
    "\n",
    "* X/C/Shift-V/V：剪切/复制/上方粘贴/下方粘贴"
   ]
  },
  {
   "cell_type": "markdown",
   "metadata": {},
   "source": [
    "## 编辑模式快捷键"
   ]
  },
  {
   "cell_type": "markdown",
   "metadata": {},
   "source": [
    "* Tab：代码补全\n",
    "* Ctrl-A：全选\n",
    "* Ctrl-Z：撤销\n",
    "* Ctrl-Home：将光标移至cell最前端\n",
    "* Ctrl-End：将光标移至cell末端"
   ]
  },
  {
   "cell_type": "markdown",
   "metadata": {},
   "source": [
    "## Jupyter Notebook中Matplotlib绘图"
   ]
  },
  {
   "cell_type": "markdown",
   "metadata": {},
   "source": [
    "若要使用Matplotlib绘图，为确保图形能顺利输出，需在cell开头键入`%matplotlib inline`, 就是一个Jupyter Magic (Jupyter魔法)命令。"
   ]
  },
  {
   "cell_type": "code",
   "execution_count": null,
   "metadata": {},
   "outputs": [],
   "source": [
    "%matplotlib inline"
   ]
  },
  {
   "cell_type": "markdown",
   "metadata": {},
   "source": [
    "### Plotting in notebooks"
   ]
  },
  {
   "cell_type": "markdown",
   "metadata": {},
   "source": [
    "在 notebook 中生成绘图有许多选项：\n",
    "\n",
    "* matplotlib， 使用%matplotlib inline进行激活。\n",
    "* %matplotlib notebook提供了一些交互性，不过可能会有点慢，因为渲染由服务器端完成。\n",
    "* mpld3为matplotlib代码提供了另一个渲染器(使用d3)。非常漂亮，不过尚不完备还有待发展。\n",
    "* bokeh是构建交互性绘图的一个更好的选择。\n",
    "* plot.ly也可以生成漂亮的绘图，不过是付费服务。"
   ]
  },
  {
   "cell_type": "markdown",
   "metadata": {},
   "source": [
    "### 常见技巧"
   ]
  },
  {
   "cell_type": "markdown",
   "metadata": {},
   "source": [
    "* Esc + F :查找和替换你的代码，但不包括代码的输出内容。\n",
    "* Esc + o :打开代码块输出\n",
    "* 选择多个 cell: Shift + J 或 Shift + Down 向下选中下一个cell. (Shift + K 或 Shift + Up 向上选中 cell)\n",
    "    * 一旦 cell 被选中，接着你可以进行批量删除/复制/剪切/粘贴.\n",
    "    * 执行 Shift + M (译者：m记为merge)对多个cell进行合并。\n",
    "\n"
   ]
  },
  {
   "cell_type": "markdown",
   "metadata": {},
   "source": [
    "### 指定默认打开位置和默认打开浏览器"
   ]
  },
  {
   "cell_type": "markdown",
   "metadata": {},
   "source": [
    "1. 在cmd里输入: `jupyter notebook --generate-config`, 控制台输出:`Writing default config to: C:\\Users\\JS-E-PC-10182\\.jupyter\\jupyter_notebook_config.py`\n",
    "2. 使用vscode文本编辑器打开这个配置文件: `code C:\\Users\\JS-E-PC-10182\\.jupyter\\jupyter_notebook_config.py`\n",
    "3. 设置默认打开位置: 搜索`c.NotebookApp.notebook_dir`, 在`# c.NotebookApp.notebook_dir`下面写入: `c.NotebookApp.notebook_dir = u'f:/arvin/pynotes'`\n",
    "4. 设置默认打开浏览器: 搜索`c.NotebookApp.browser`, 在下面增加以下语句:\n",
    "    ```python\n",
    "    import webbrowser\n",
    "    webbrowser.register( \"Firefox\",  #自定义名字\n",
    "        None, \n",
    "        webbrowser.GenericBrowser(u\"C:\\\\Program Files\\\\Mozilla Firefox\\\\firefox.exe\"))#指定程序所在位置\n",
    "    c.NotebookApp.browser = \"Firefox\"\n",
    "    ```\n",
    "5. 新打开一个控制台窗口,不要到具体的路径下,直接输入: `jupyter notebook`,回车,直接用指定浏览器打开指定位置的notebook."
   ]
  },
  {
   "cell_type": "markdown",
   "metadata": {},
   "source": [
    "### 输出每一行变量或语句结果"
   ]
  },
  {
   "cell_type": "markdown",
   "metadata": {},
   "source": [
    "修改 ast_note_iteractively kernal 选项来使得 Jupyter 为每一行的变量或语句执行这个操作，以便你可以立即看到多条语句一起输出。\n",
    "\n",
    "如果你想要所有的Jupyter实例（Notebook和Console）都设置该选项，\n",
    "\n",
    "只需创建 `~/.ipython/profile_default/ipython_config.py` 文件并写入一下内容：\n",
    "```\n",
    "c = get_config()\n",
    "# Run all nodes interactively\n",
    "c.InteractiveShell.ast_node_interactivity = \"all\"\n",
    "```"
   ]
  },
  {
   "cell_type": "code",
   "execution_count": 2,
   "metadata": {},
   "outputs": [
    {
     "data": {
      "text/plain": [
       "123"
      ]
     },
     "execution_count": 2,
     "metadata": {},
     "output_type": "execute_result"
    },
    {
     "data": {
      "text/plain": [
       "'hello world'"
      ]
     },
     "execution_count": 2,
     "metadata": {},
     "output_type": "execute_result"
    }
   ],
   "source": [
    "from IPython.core.interactiveshell import InteractiveShell\n",
    "InteractiveShell.ast_node_interactivity = \"all\"\n",
    "\n",
    "a = 123\n",
    "b = 'hello world'\n",
    "\n",
    "a\n",
    "b"
   ]
  },
  {
   "cell_type": "markdown",
   "metadata": {},
   "source": [
    "### jupyter魔法命令"
   ]
  },
  {
   "cell_type": "code",
   "execution_count": 3,
   "metadata": {},
   "outputs": [
    {
     "data": {
      "application/json": {
       "cell": {
        "!": "OSMagics",
        "HTML": "Other",
        "SVG": "Other",
        "bash": "Other",
        "capture": "ExecutionMagics",
        "cmd": "Other",
        "debug": "ExecutionMagics",
        "file": "Other",
        "html": "DisplayMagics",
        "javascript": "DisplayMagics",
        "js": "DisplayMagics",
        "latex": "DisplayMagics",
        "markdown": "DisplayMagics",
        "perl": "Other",
        "prun": "ExecutionMagics",
        "pypy": "Other",
        "python": "Other",
        "python2": "Other",
        "python3": "Other",
        "ruby": "Other",
        "script": "ScriptMagics",
        "sh": "Other",
        "svg": "DisplayMagics",
        "sx": "OSMagics",
        "system": "OSMagics",
        "time": "ExecutionMagics",
        "timeit": "ExecutionMagics",
        "writefile": "OSMagics"
       },
       "line": {
        "alias": "OSMagics",
        "alias_magic": "BasicMagics",
        "autocall": "AutoMagics",
        "automagic": "AutoMagics",
        "autosave": "KernelMagics",
        "bookmark": "OSMagics",
        "cd": "OSMagics",
        "clear": "KernelMagics",
        "cls": "KernelMagics",
        "colors": "BasicMagics",
        "config": "ConfigMagics",
        "connect_info": "KernelMagics",
        "copy": "Other",
        "ddir": "Other",
        "debug": "ExecutionMagics",
        "dhist": "OSMagics",
        "dirs": "OSMagics",
        "doctest_mode": "BasicMagics",
        "echo": "Other",
        "ed": "Other",
        "edit": "KernelMagics",
        "env": "OSMagics",
        "gui": "BasicMagics",
        "hist": "Other",
        "history": "HistoryMagics",
        "killbgscripts": "ScriptMagics",
        "ldir": "Other",
        "less": "KernelMagics",
        "load": "CodeMagics",
        "load_ext": "ExtensionMagics",
        "loadpy": "CodeMagics",
        "logoff": "LoggingMagics",
        "logon": "LoggingMagics",
        "logstart": "LoggingMagics",
        "logstate": "LoggingMagics",
        "logstop": "LoggingMagics",
        "ls": "Other",
        "lsmagic": "BasicMagics",
        "macro": "ExecutionMagics",
        "magic": "BasicMagics",
        "matplotlib": "PylabMagics",
        "mkdir": "Other",
        "more": "KernelMagics",
        "notebook": "BasicMagics",
        "page": "BasicMagics",
        "pastebin": "CodeMagics",
        "pdb": "ExecutionMagics",
        "pdef": "NamespaceMagics",
        "pdoc": "NamespaceMagics",
        "pfile": "NamespaceMagics",
        "pinfo": "NamespaceMagics",
        "pinfo2": "NamespaceMagics",
        "pip": "BasicMagics",
        "popd": "OSMagics",
        "pprint": "BasicMagics",
        "precision": "BasicMagics",
        "profile": "BasicMagics",
        "prun": "ExecutionMagics",
        "psearch": "NamespaceMagics",
        "psource": "NamespaceMagics",
        "pushd": "OSMagics",
        "pwd": "OSMagics",
        "pycat": "OSMagics",
        "pylab": "PylabMagics",
        "qtconsole": "KernelMagics",
        "quickref": "BasicMagics",
        "recall": "HistoryMagics",
        "rehashx": "OSMagics",
        "reload_ext": "ExtensionMagics",
        "ren": "Other",
        "rep": "Other",
        "rerun": "HistoryMagics",
        "reset": "NamespaceMagics",
        "reset_selective": "NamespaceMagics",
        "rmdir": "Other",
        "run": "ExecutionMagics",
        "save": "CodeMagics",
        "sc": "OSMagics",
        "set_env": "OSMagics",
        "store": "StoreMagics",
        "sx": "OSMagics",
        "system": "OSMagics",
        "tb": "ExecutionMagics",
        "time": "ExecutionMagics",
        "timeit": "ExecutionMagics",
        "unalias": "OSMagics",
        "unload_ext": "ExtensionMagics",
        "who": "NamespaceMagics",
        "who_ls": "NamespaceMagics",
        "whos": "NamespaceMagics",
        "xdel": "NamespaceMagics",
        "xmode": "BasicMagics"
       }
      },
      "text/plain": [
       "Available line magics:\n",
       "%alias  %alias_magic  %autocall  %automagic  %autosave  %bookmark  %cd  %clear  %cls  %colors  %config  %connect_info  %copy  %ddir  %debug  %dhist  %dirs  %doctest_mode  %echo  %ed  %edit  %env  %gui  %hist  %history  %killbgscripts  %ldir  %less  %load  %load_ext  %loadpy  %logoff  %logon  %logstart  %logstate  %logstop  %ls  %lsmagic  %macro  %magic  %matplotlib  %mkdir  %more  %notebook  %page  %pastebin  %pdb  %pdef  %pdoc  %pfile  %pinfo  %pinfo2  %popd  %pprint  %precision  %profile  %prun  %psearch  %psource  %pushd  %pwd  %pycat  %pylab  %qtconsole  %quickref  %recall  %rehashx  %reload_ext  %ren  %rep  %rerun  %reset  %reset_selective  %rmdir  %run  %save  %sc  %set_env  %store  %sx  %system  %tb  %time  %timeit  %unalias  %unload_ext  %who  %who_ls  %whos  %xdel  %xmode\n",
       "\n",
       "Available cell magics:\n",
       "%%!  %%HTML  %%SVG  %%bash  %%capture  %%cmd  %%debug  %%file  %%html  %%javascript  %%js  %%latex  %%markdown  %%perl  %%prun  %%pypy  %%python  %%python2  %%python3  %%ruby  %%script  %%sh  %%svg  %%sx  %%system  %%time  %%timeit  %%writefile\n",
       "\n",
       "Automagic is ON, % prefix IS NOT needed for line magics."
      ]
     },
     "execution_count": 3,
     "metadata": {},
     "output_type": "execute_result"
    }
   ],
   "source": [
    "%lsmagic"
   ]
  },
  {
   "cell_type": "markdown",
   "metadata": {},
   "source": [
    "### 安装其他的kernal"
   ]
  },
  {
   "cell_type": "markdown",
   "metadata": {},
   "source": [
    "Jupyter 其中的一个重要特色就是能够运行不同语言，你只需安装相关的 kernel 即可。比如，下面的例子是如何安装 R kernel.\n",
    "\n",
    "* 快捷选择：使用anaconda安装 R kernel\n"
   ]
  },
  {
   "cell_type": "markdown",
   "metadata": {},
   "source": [
    "### jupyter 安装插件"
   ]
  },
  {
   "cell_type": "markdown",
   "metadata": {},
   "source": [
    "安装时先关闭Jupyter程序\n",
    "\n",
    "安装Jupyter插件管理工具 `conda install -c conda-forge jupyter_contrib_nbextensions`\n",
    "\n",
    "激活Jupyter插件管理工具 `jupyter nbextensions_configurator enable --user`"
   ]
  },
  {
   "cell_type": "markdown",
   "metadata": {},
   "source": [
    "向代码折叠，自动整理对齐等功能。jupyter_contrib_nbextensions正是为了解决这样的个性化需求所提供的一款插件，安装代码如下：\n",
    "```\n",
    "pip install jupyter_contrib_nbextensions\n",
    "jupyter contrib nbextension install --user\n",
    "\n",
    "pip install jupyter_nbextensions_configurator\n",
    "jupyter nbextensions_configurator enable --user\n",
    "```\n",
    "重启 jupyter server，就可以看见插件管理的Tab了。如果看不见，请检查自己电脑上是不是有多个python环境，请把插件安装到和jupyter一致的python环境中。 "
   ]
  },
  {
   "cell_type": "markdown",
   "metadata": {},
   "source": [
    "### 服务端使用jupyter"
   ]
  },
  {
   "cell_type": "markdown",
   "metadata": {},
   "source": [
    "服务端使用jupyter, 即不要在浏览器打开,在后台打开.\n",
    "`jupyter notebook --no-browser -y` 即可启动，访问`http://IP:8888`即可。"
   ]
  },
  {
   "cell_type": "markdown",
   "metadata": {},
   "source": [
    "参考链接: [http://liuchengxu.org/pelican-blog/jupyter-notebook-tips.html](http://liuchengxu.org/pelican-blog/jupyter-notebook-tips.html)"
   ]
  },
  {
   "cell_type": "markdown",
   "metadata": {},
   "source": [
    "### jupyter notebook加载nodejs的kernel"
   ]
  },
  {
   "cell_type": "markdown",
   "metadata": {},
   "source": [
    "1. Ubuntu\n",
    "\n",
    "To install IJavascript in Ubuntu 16.04 LTS, run:\n",
    "```\n",
    "sudo apt-get install nodejs-legacy npm ipython ipython-notebook\n",
    "sudo npm install -g ijavascript\n",
    "ijsinstall\n",
    "```\n",
    "2. Windows (Official Python Distribution)\n",
    "\n",
    "In the command line:\n",
    "```\n",
    "pip3 install --upgrade pip\n",
    "pip3 install jupyter\n",
    "npm install -g ijavascript\n",
    "ijsinstall\n",
    "# Or run: %appdata%\\npm\\ijsinstall\n",
    "```\n",
    "\n",
    "ps: 网上添加kernel基本都是Python的,按照那个方法添加node的kernel没有用\n",
    "\n",
    "Jupyter增加内核\n",
    "```\n",
    "1. `pip3 install ipykernel`\n",
    "2. 然后在python3的python.exe所在目录下执行: `python -m ipykernel install --name yourkernelname`\n",
    "3. 查看jupyter notebook kernel: 使用命令`jupyter kernelspec list`可以查看当前的kernel\n",
    "4. 删除notebook kernel: 使用命令`jupyter kernelspec remove yourkernelname`"
   ]
  }
 ],
 "metadata": {
  "kernelspec": {
   "display_name": "Python 3",
   "language": "python",
   "name": "python3"
  },
  "language_info": {
   "codemirror_mode": {
    "name": "ipython",
    "version": 3
   },
   "file_extension": ".py",
   "mimetype": "text/x-python",
   "name": "python",
   "nbconvert_exporter": "python",
   "pygments_lexer": "ipython3",
   "version": "3.6.4"
  }
 },
 "nbformat": 4,
 "nbformat_minor": 2
}
