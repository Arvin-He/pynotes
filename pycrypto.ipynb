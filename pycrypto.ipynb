{
 "cells": [
  {
   "cell_type": "markdown",
   "metadata": {},
   "source": [
    "# pycrpto"
   ]
  },
  {
   "cell_type": "code",
   "execution_count": 24,
   "metadata": {},
   "outputs": [
    {
     "name": "stdout",
     "output_type": "stream",
     "text": [
      "b'\\x91\\xbc\\x7f*\\xae\\x02\\xf8\\x0eB\\xc8\\x98\\x03z\\xbb5@<(\\xa1\\x90\\xad\\x14veyn\\x18\\x18\\xb5\\xf7,\\x9b'\n",
      "thisisjiamineirong\n"
     ]
    }
   ],
   "source": [
    "import json\n",
    "from Crypto.Cipher import AES\n",
    "\n",
    "#秘钥,此处需要将字符串转为字节\n",
    "key = b'0e9ec82fc54142de919f557a28bf637a'\n",
    "\n",
    "#加密内容需要长达16位字符，所以进行空格拼接\n",
    "def pad(text):\n",
    "  while len(text) % 16 != 0:\n",
    "    text += b' '\n",
    "  return text\n",
    "\n",
    "#加密秘钥需要长达16位字符，所以进行空格拼接\n",
    "def pad_key(key):\n",
    "  while len(key) % 16 != 0:\n",
    "    key += b' '\n",
    "  return key\n",
    "\n",
    "#进行加密算法，模式ECB模式，把叠加完16位的秘钥传进来\n",
    "aes = AES.new(pad_key(key), AES.MODE_ECB)\n",
    "aa = {\"action\":\"0\",\"address\":\"\",\"area\":\"\",\"city\":\"\",\"entContact\":\"daisy\",\"entContactEmail\":\"ying.chen@tongfudun1111.com\",\"entContactPhone\":\"18896551111\",\"entId\":810,\"entName\":\"通付盾1111\",\"entNo\":\"tongfudun1111\",\"industry\":16,\"organizationId\":\"7d5d12318cf644bab92b16f0eebaf52c\",\"orgnazationId\":\"7d5d12318cf644bab92b16f0eebaf52c\",\"platform\":\"B\",\"province\":\"\"}\n",
    "#加密内容,此处需要将字符串转为字节\n",
    "text=b'thisisjiamineirong'\n",
    "# text = str(json.dumps(aa))\n",
    "#进行内容拼接16位字符后传入加密类中，结果为字节类型\n",
    "encrypted_text = aes.encrypt(pad(text))\n",
    "\n",
    "print(encrypted_text)\n",
    "\n",
    "#此处是为了验证是否能将字节转为字符串后，进行解密成功\n",
    "#实际上a 就是 encrypted_text ，也就是加密后的内容\n",
    "a = b'\\x91\\xbc\\x7f*\\xae\\x02\\xf8\\x0eB\\xc8\\x98\\x03z\\xbb5@<(\\xa1\\x90\\xad\\x14veyn\\x18\\x18\\xb5\\xf7,\\x9b'\n",
    "# a = b'FB7DB864394160B719DA655CEB7400A7A5995A8DE187A2FA87BEB06CD3239CEEFBB19009818AF99DA71FB6A750537624665A8A0CA1AFE144A85F4C4475C413E81952D502722B7B6551F92A92C7C19644BC376D9D355C5F072C45F52F80FED8B5C25C828859BBB0F2F400249C851E96A2CD639F2A6E47305BB53B3EF1E77C80378D74E9E7FF663EFA610CCBB432D2163BC304EED03B56970F464B0FC8000EBA1DAF223D72D2A66A9994A370DBBC168A208666B287EAF06C4410D38C14FF78A1E802BFAB1AF7C06F5C849841827B78AF661C57154C758904B2305CA225F5DD6D952F90AB4059A4884C59BB5A5BFFD5722E52E4C76DA65BF1A7A95ECB99E1A03294223093E826F8B23C91342A1F1948CABE139503F4767B96ABAC2C89ED608F34749C107071B3B8588E38B43CA0036E879E382D490AB71F460575035FF965E7E69351A51F3A343A3C986AB6622112EE4FDE38CD0269AF5CEB7264222B365D81631D1FB96B52147F892B00CB3347AEAE2961'\n",
    "#用aes对象进行解密，将字节类型转为str类型，错误编码忽略不计\n",
    "de = str(aes.decrypt(a),encoding='utf-8',errors=\"ignore\")\n",
    "\n",
    "#获取str从0开始到文本内容的字符串长度。\n",
    "print(de[:len(text)])\n"
   ]
  },
  {
   "cell_type": "code",
   "execution_count": 48,
   "metadata": {},
   "outputs": [
    {
     "name": "stdout",
     "output_type": "stream",
     "text": [
      "b'\\xfb}\\xb8d9A`\\xb7\\x19\\xdae\\\\\\xebt\\x00\\xa7\\xa5\\x99Z\\x8d\\xe1\\x87\\xa2\\xfa\\x87\\xbe\\xb0l\\xd3#\\x9c\\xee\\xfb\\xb1\\x90\\t\\x81\\x8a\\xf9\\x9d\\xa7\\x1f\\xb6\\xa7PSv$fZ\\x8a\\x0c\\xa1\\xaf\\xe1D\\xa8_LDu\\xc4\\x13\\xe8\\x19R\\xd5\\x02r+{eQ\\xf9*\\x92\\xc7\\xc1\\x96D\\xbc7m\\x9d5\\\\_\\x07,E\\xf5/\\x80\\xfe\\xd8\\xb5\\xc2\\\\\\x82\\x88Y\\xbb\\xb0\\xf2\\xf4\\x00$\\x9c\\x85\\x1e\\x96\\xa2\\xcdc\\x9f*nG0[\\xb5;>\\xf1\\xe7|\\x807\\x8dt\\xe9\\xe7\\xfff>\\xfaa\\x0c\\xcb\\xb42\\xd2\\x16;\\xc3\\x04\\xee\\xd0;V\\x97\\x0fFK\\x0f\\xc8\\x00\\x0e\\xba\\x1d\\xaf\"=r\\xd2\\xa6j\\x99\\x94\\xa3p\\xdb\\xbc\\x16\\x8a \\x86f\\xb2\\x87\\xea\\xf0lD\\x10\\xd3\\x8c\\x14\\xffx\\xa1\\xe8\\x02\\xbf\\xab\\x1a\\xf7\\xc0o\\\\\\x84\\x98A\\x82{x\\xaff\\x1cW\\x15Lu\\x89\\x04\\xb20\\\\\\xa2%\\xf5\\xddm\\x95/\\x90\\xab@Y\\xa4\\x88LY\\xbbZ[\\xff\\xd5r.R\\xe4\\xc7m\\xa6[\\xf1\\xa7\\xa9^\\xcb\\x99\\xe1\\xa02\\x94\"0\\x93\\xe8&\\xf8\\xb2<\\x914*\\x1f\\x19H\\xca\\xbe\\x13\\x95\\x03\\xf4v{\\x96\\xab\\xac,\\x89\\xed`\\x8f4t\\x9c\\x10pq\\xb3\\xb8X\\x8e8\\xb4<\\xa0\\x03n\\x87\\x9e8-I\\n\\xb7\\x1fF\\x05u\\x03_\\xf9e\\xe7\\xe6\\x93Q\\xa5\\x1f:4:<\\x98j\\xb6b!\\x12\\xeeO\\xde8\\xcd\\x02i\\xaf\\\\\\xebrd\"+6]\\x81c\\x1d\\x1f\\xb9kR\\x14\\x7f\\x89+\\x00\\xcb3G\\xae\\xae)a'\n",
      "=============\n",
      "b'l\\t\\xf8C\\x10X\\xc5\\xac\\xeb\\xeb\\xf1\\xfe^R\\xe6\\xbc\\xdd;i\\xbf\\xd7<\\x1b\\xff\\x95l\\xcc.\\xa1V\\x8cv.$\\x9e\\xa7\\x1a\\x81O\\xb4\\xed\\xea3cG\\xc1\\x9dJ\\xbb]\\xbd\\xb8[\\xc0\\x93Is\\xc4\\x19\\x16\\x06]\\xde\\x11\\x95\\xa4Nr\\xd3L\\x01\\xf9\\x00\\xa8<J\\xd2\\xa00\\x12\\x11\\xf6\\x84m\\x14N\\x9a\\xf7\\xae?$\\x99\\xd8\\xe2\\x15\\x1a\\xbf2\\xc11\\xfer `\\xd6}}\\xe5\\xd9F*\\xdfr\\xcb\\xdb\\xdfG\\x97\\xf7o\\x89\\x9f-\\xff,y\\xb1\\xf5\\xe5\\xc4\\xb3\"\\x97a\\xbb\\xbe)|\\x17\\xe8\\xc3VF\\xc4\\x11\\x95\\tp\\xbc\\xf5xKU\\xff\\xe3\\xac\\x05\\xba\\x8d\\xbd 5!_=\\xc1\\xa3\\x02\\x11\\xaa\\xc7\\x92EVt\\x02(C\\x0f\\x0c\\x0b\\x0e\\x13\\xbeRjg\\xe5/\\x1f\\xe5K\\xf8\\x95\\x96\\x02xs\\x13\\xecz\\xb5\\x9b\\x0cb\\r\\xf0\\x87\\xfe5\\x14\\xe5\\xa2\\xfeh\\xc5\\x14\\xd4\\x90\\x1c\\xea\\t\\x96\\xf3\\xf8\\xf6\\x93Y8\\xee\\xdd\\xbe\\x8fI+\\xabX\\xab\\xd9yS\\xcc \\xfc\\xd6B\\xb7\\xc2/\\x96X\\x18p\\xaa\\xdc(\\xa5p\\x8c\\x01\\xaa?|P\\x8ek\\xe0\\xe4^7\\x8f,\\x15f\\x1dH3\\xfedJ\\x04\\x7f#\\xc7D\\x88\\x8c\\xb9\\x00\\x03/\\xbf,\\xa3\\xa4\\xb0\\x1889\\x12\\xd4t\\xde\\xef\\xd5\\xc6B\\x8f\"\\xe5*j\\xc2\\xa8\\xcdZ\\x8f\\x06w\\xbb\\xcd\\x0eYON\\xf5\\xdeO|M\\x04)\\xb8\\x84s\\xc4\\x0fA\\x82\\x0f\\x8f\\xf0f\\xcd\\xe0\\\\P\\xabm-\\x14\\x11\\xf4\\x9d\\x01\\x82l<\\x06a\\xbe\\x10L\\x1b\\xb6\\x0f+_'\n",
      "l\tC\u0010XŬ^R;i<\u001bl.Vv.$\n"
     ]
    }
   ],
   "source": [
    "import json\n",
    "from Crypto.Cipher import AES\n",
    "\n",
    "#秘钥,此处需要将字符串转为字节\n",
    "key = b'0e9ec82fc54142de919f557a28bf637a'\n",
    "\n",
    "#加密内容需要长达16位字符，所以进行空格拼接\n",
    "def pad(text):\n",
    "  while len(text) % 16 != 0:\n",
    "    text += b' '\n",
    "  return text\n",
    "\n",
    "#加密秘钥需要长达16位字符，所以进行空格拼接\n",
    "def pad_key(key):\n",
    "  while len(key) % 16 != 0:\n",
    "    key += b' '\n",
    "  return key\n",
    "\n",
    "#进行加密算法，模式ECB模式，把叠加完16位的秘钥传进来\n",
    "aes = AES.new(pad_key(key), AES.MODE_ECB)\n",
    "\n",
    "\n",
    "#此处是为了验证是否能将字节转为字符串后，进行解密成功\n",
    "#实际上a 就是 encrypted_text ，也就是加密后的内容\n",
    "tt = 'FB7DB864394160B719DA655CEB7400A7A5995A8DE187A2FA87BEB06CD3239CEEFBB19009818AF99DA71FB6A750537624665A8A0CA1AFE144A85F4C4475C413E81952D502722B7B6551F92A92C7C19644BC376D9D355C5F072C45F52F80FED8B5C25C828859BBB0F2F400249C851E96A2CD639F2A6E47305BB53B3EF1E77C80378D74E9E7FF663EFA610CCBB432D2163BC304EED03B56970F464B0FC8000EBA1DAF223D72D2A66A9994A370DBBC168A208666B287EAF06C4410D38C14FF78A1E802BFAB1AF7C06F5C849841827B78AF661C57154C758904B2305CA225F5DD6D952F90AB4059A4884C59BB5A5BFFD5722E52E4C76DA65BF1A7A95ECB99E1A03294223093E826F8B23C91342A1F1948CABE139503F4767B96ABAC2C89ED608F34749C107071B3B8588E38B43CA0036E879E382D490AB71F460575035FF965E7E69351A51F3A343A3C986AB6622112EE4FDE38CD0269AF5CEB7264222B365D81631D1FB96B52147F892B00CB3347AEAE2961'\n",
    "# 字符串转bytes\n",
    "ss = bytes.fromhex(tt)\n",
    "\n",
    "ss = pad(ss)\n",
    "\n",
    "print(ss)\n",
    "\n",
    "\n",
    "print(\"=============\")\n",
    "print(aes.decrypt(ss))\n",
    "#用aes对象进行解密，将字节类型转为str类型，错误编码忽略不计\n",
    "de = str(aes.decrypt(ss), encoding='utf-8', errors='ignore')\n",
    "\n",
    "#获取str从0开始到文本内容的字符串长度。\n",
    "print(de[:len(text)])\n"
   ]
  },
  {
   "cell_type": "code",
   "execution_count": null,
   "metadata": {},
   "outputs": [],
   "source": []
  }
 ],
 "metadata": {
  "kernelspec": {
   "display_name": "Python 3",
   "language": "python",
   "name": "python3"
  },
  "language_info": {
   "codemirror_mode": {
    "name": "ipython",
    "version": 3
   },
   "file_extension": ".py",
   "mimetype": "text/x-python",
   "name": "python",
   "nbconvert_exporter": "python",
   "pygments_lexer": "ipython3",
   "version": "3.6.2"
  }
 },
 "nbformat": 4,
 "nbformat_minor": 2
}
