{
 "cells": [
  {
   "cell_type": "markdown",
   "metadata": {},
   "source": [
    "# MongoDB笔记"
   ]
  },
  {
   "cell_type": "markdown",
   "metadata": {},
   "source": [
    "### mongodb"
   ]
  },
  {
   "cell_type": "markdown",
   "metadata": {},
   "source": [
    "pymongo是线程安全的,但是不是fork-safe. 当多进程使用同一个client实例会报错:\n",
    "\n",
    "解决办法:\n",
    "在连接mongo数据库时,设置关键字connect=False,即在mongodb实例化时不建立连接,等到有数据库操作才进行数据库连接."
   ]
  },
  {
   "cell_type": "code",
   "execution_count": null,
   "metadata": {},
   "outputs": [],
   "source": [
    "class MongoBaseModel(object):\n",
    "\n",
    "    def __init__(self):\n",
    "        self.client = MongoClient(\n",
    "            'mongodb://{}:{}@{}/{}'.format(MONGODB['user'],\n",
    "                                           MONGODB['passwd'],\n",
    "                                           MONGODB['host'],\n",
    "                                           MONGODB['dbname']),\n",
    "            connect=False\n",
    "        )\n",
    "        self.mongodb = self.client[MONGODB['dbname']]\n",
    "\n",
    "    def __del__(self):\n",
    "        self.client.close()"
   ]
  },
  {
   "cell_type": "markdown",
   "metadata": {},
   "source": [
    "### 查询指定字段最新一条记录"
   ]
  },
  {
   "cell_type": "code",
   "execution_count": 26,
   "metadata": {},
   "outputs": [
    {
     "name": "stdout",
     "output_type": "stream",
     "text": [
      "{'_id': ObjectId('5af8f6e52b5eba0bb8fece6b'), 'level': 4, 'score': 27}\n"
     ]
    }
   ],
   "source": [
    "res = movie.find({}).sort('_id', -1).limit(1)\n",
    "if res:\n",
    "    pprint(res[0])"
   ]
  },
  {
   "cell_type": "markdown",
   "metadata": {},
   "source": [
    "**注意:** limit返回的是一个迭代器,并不是数据结果"
   ]
  },
  {
   "cell_type": "markdown",
   "metadata": {},
   "source": [
    "### 查询结果排序"
   ]
  },
  {
   "cell_type": "code",
   "execution_count": null,
   "metadata": {},
   "outputs": [],
   "source": [
    "db.Account.find({}).sort(\"UserName\")  --默认为升序\n",
    "db.Account.find({}).sort(\"UserName\",pymongo.ASCENDING)   --升序\n",
    "db.Account.find({}).sort(\"UserName\",pymongo.DESCENDING)  --降序"
   ]
  },
  {
   "cell_type": "markdown",
   "metadata": {},
   "source": [
    "### 多列结果排序"
   ]
  },
  {
   "cell_type": "code",
   "execution_count": null,
   "metadata": {},
   "outputs": [],
   "source": [
    "db.Account.find().sort([(\"UserName\",pymongo.ASCENDING),(\"Email\",pymongo.DESCENDING)])"
   ]
  },
  {
   "cell_type": "markdown",
   "metadata": {},
   "source": [
    "### 嵌套查询"
   ]
  },
  {
   "cell_type": "markdown",
   "metadata": {},
   "source": [
    "查询子文档中某个key"
   ]
  },
  {
   "cell_type": "markdown",
   "metadata": {},
   "source": [
    "doc结构:\n",
    "```json\n",
    "{\n",
    "    \"_id\" : ObjectId(\"5af14ce42b5eba2fc08cfcd6\"),\n",
    "    \"request\" : {\n",
    "        \"headers\" : {}\n",
    "        \"url\" : \"https://www.baidu.com/\",\n",
    "        \"method\" : \"GET\"\n",
    "    },\n",
    "    \"response\" : {\n",
    "        \"headers\" : {},\n",
    "        \"content\" : {},\n",
    "        \"status_code\" : 200,\n",
    "        \"url\" : \"https://www.baidu.com:443/\"\n",
    "    },\n",
    "    \"title\" : \"百度一下，你就知道\",\n",
    "    \"site\" : \"https://www.baidu.com\",\n",
    "    \"end_type\" : \"PC\",\n",
    "    \"time\" : 1525763299\n",
    "}\n",
    "```"
   ]
  },
  {
   "cell_type": "code",
   "execution_count": null,
   "metadata": {},
   "outputs": [],
   "source": [
    "db.getCollection('my_crawler_urls').find({'response.status_code': 302}).count()"
   ]
  },
  {
   "cell_type": "markdown",
   "metadata": {},
   "source": [
    "### 插入一条文档立刻返回_id"
   ]
  },
  {
   "cell_type": "code",
   "execution_count": 21,
   "metadata": {},
   "outputs": [
    {
     "name": "stdout",
     "output_type": "stream",
     "text": [
      "[ObjectId('5af8f8c62b5eba0bb8fece6d'),\n",
      " ObjectId('5af8f8c62b5eba0bb8fece6e'),\n",
      " ObjectId('5af8f8c62b5eba0bb8fece6f'),\n",
      " ObjectId('5af8f8c62b5eba0bb8fece70'),\n",
      " ObjectId('5af8f8c62b5eba0bb8fece71')]\n",
      "<class 'dict'>\n",
      "{'_id': ObjectId('5af8f8c62b5eba0bb8fece6d'), 'level': 9, 'score': 76}\n",
      "<class 'dict'>\n",
      "{'_id': ObjectId('5af8f8c62b5eba0bb8fece6e'), 'level': 4, 'score': 70}\n",
      "<class 'dict'>\n",
      "{'_id': ObjectId('5af8f8c62b5eba0bb8fece6f'), 'level': 5, 'score': 73}\n",
      "<class 'dict'>\n",
      "{'_id': ObjectId('5af8f8c62b5eba0bb8fece70'), 'level': 4, 'score': 77}\n",
      "<class 'dict'>\n",
      "{'_id': ObjectId('5af8f8c62b5eba0bb8fece71'), 'level': 2, 'score': 38}\n",
      "<pymongo.results.DeleteResult object at 0x000001F0261F49C8>\n",
      "<pymongo.results.DeleteResult object at 0x000001F0261F4808>\n",
      "<pymongo.results.DeleteResult object at 0x000001F0261F49C8>\n",
      "<pymongo.results.DeleteResult object at 0x000001F0261F4808>\n",
      "<pymongo.results.DeleteResult object at 0x000001F0261F49C8>\n"
     ]
    }
   ],
   "source": [
    "import random\n",
    "from pymongo import MongoClient\n",
    "from pprint import pprint\n",
    "\n",
    "# MONGODB参数\n",
    "MONGODB = {\n",
    "    \"user\": \"xxx\",\n",
    "    \"passwd\": \"xxxxxx\",\n",
    "    \"host\": \"127.0.0.1:27017\",\n",
    "    \"dbname\": \"xxxx\"\n",
    "}\n",
    "\n",
    "def connect_mongo(MONGODB):\n",
    "    # 少一个参数\n",
    "    client = MongoClient(\n",
    "        'mongodb://{}:{}@{}/{}'.format(MONGODB['user'],\n",
    "                                       MONGODB['passwd'],\n",
    "                                       MONGODB['host'],\n",
    "                                       MONGODB['dbname']))\n",
    "    return client[MONGODB['dbname']]\n",
    "\n",
    "db = connect_mongo(MONGODB)\n",
    "movie = db['my_crawler_urls']\n",
    "\n",
    "id_list = []\n",
    "\n",
    "for i in range(5):\n",
    "    doc = {'score': random.randint(1, 100), 'level': random.randint(1, 10)}\n",
    "    result = movie.insert_one(doc)\n",
    "    id_list.append(result.inserted_id)\n",
    "    \n",
    "pprint(id_list)\n",
    "\n",
    "for item in id_list:\n",
    "    data = movie.find_one({'_id':item})\n",
    "    print(type(data))\n",
    "    pprint(data)\n",
    "    \n",
    "for item in id_list:\n",
    "    res = movie.delete_one({'_id': item})\n",
    "    pprint(res)\n",
    "\n",
    "\n"
   ]
  },
  {
   "cell_type": "markdown",
   "metadata": {},
   "source": [
    "### 更新局部字段"
   ]
  },
  {
   "cell_type": "code",
   "execution_count": null,
   "metadata": {},
   "outputs": [],
   "source": [
    "self.dst_movie.update_one({'_id': item.get('_id')}, {'$set':{'end_time': doc.get('time')}})"
   ]
  },
  {
   "cell_type": "markdown",
   "metadata": {},
   "source": []
  },
  {
   "cell_type": "markdown",
   "metadata": {},
   "source": [
    "### 关于mongodb你应该知道的"
   ]
  },
  {
   "cell_type": "markdown",
   "metadata": {},
   "source": [
    "#### 索引"
   ]
  },
  {
   "cell_type": "markdown",
   "metadata": {},
   "source": [
    "如果没有索引，MongoDB 需要为了找到一个匹配的文档而扫描整个 collection，代价非常高昂"
   ]
  },
  {
   "cell_type": "markdown",
   "metadata": {},
   "source": [
    "#### 默认的_id索引"
   ]
  },
  {
   "cell_type": "markdown",
   "metadata": {},
   "source": [
    "Mongodb 在 collection 创建时会默认建立一个基于`_id` 的唯一性索引作为 document 的 primary key，这个 index 无法被删除。"
   ]
  },
  {
   "cell_type": "markdown",
   "metadata": {},
   "source": [
    "### 一些优化建议"
   ]
  },
  {
   "cell_type": "markdown",
   "metadata": {},
   "source": [
    "1. 当无法使用索引或者无法有效利用`_id`索引时,也就是不得不进行全集合查询时,尽量减少全集合遍历查询次数."
   ]
  }
 ],
 "metadata": {
  "kernelspec": {
   "display_name": "Python 3",
   "language": "python",
   "name": "python3"
  },
  "language_info": {
   "codemirror_mode": {
    "name": "ipython",
    "version": 3
   },
   "file_extension": ".py",
   "mimetype": "text/x-python",
   "name": "python",
   "nbconvert_exporter": "python",
   "pygments_lexer": "ipython3",
   "version": "3.6.4"
  }
 },
 "nbformat": 4,
 "nbformat_minor": 2
}
