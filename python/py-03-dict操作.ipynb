{
 "cells": [
  {
   "cell_type": "markdown",
   "metadata": {},
   "source": [
    "# dict操作"
   ]
  },
  {
   "cell_type": "markdown",
   "metadata": {},
   "source": [
    "### 创建dict"
   ]
  },
  {
   "cell_type": "code",
   "execution_count": 12,
   "metadata": {},
   "outputs": [],
   "source": [
    "d1 = {'a': 1, 'b': 2, 'c': 3}\n",
    "print(d1)\n",
    "\n",
    "d2 = dict({'a': 1, 'b': 2, 'c': 3})\n",
    "print(d2)\n",
    "\n",
    "d3 = dict([('a', 1), ('b', 2), ('c', 3)])\n",
    "print(d3)\n",
    "\n",
    "d4 = dict(a=1, b=2, c=3)\n",
    "print(d4)\n",
    "\n",
    "d5 = dict(zip(['a', 'b', 'c'], [1, 2, 3]))  # 这个方法也可以用作将两个列表合并成一个字典\n",
    "print(d5)"
   ]
  },
  {
   "cell_type": "markdown",
   "metadata": {},
   "source": [
    "### 创建一个（不）含默认值的字典"
   ]
  },
  {
   "cell_type": "code",
   "execution_count": 13,
   "metadata": {},
   "outputs": [
    {
     "name": "stdout",
     "output_type": "stream",
     "text": [
      "{'a': 123, 'b': 123, 'c': 123}\n",
      "{'a': None, 'b': None, 'c': None}\n"
     ]
    }
   ],
   "source": [
    "kk = ['a', 'b', 'c']\n",
    "print(dict.fromkeys(kk, 123))\n",
    "print(dict.fromkeys(kk))"
   ]
  },
  {
   "cell_type": "markdown",
   "metadata": {},
   "source": [
    "### 合并两个字典"
   ]
  },
  {
   "cell_type": "code",
   "execution_count": 1,
   "metadata": {},
   "outputs": [
    {
     "data": {
      "text/plain": [
       "{'a': 1, 'b': 2, 'c': 3, 'd': 4, 'e': 5, 'f': 6}"
      ]
     },
     "execution_count": 1,
     "metadata": {},
     "output_type": "execute_result"
    }
   ],
   "source": [
    "# 注意: 此时的两个字典的键必须是字符串,否则报错\n",
    "dict1 = {'a': 1, 'b': 2, 'c': 3}\n",
    "dict2 = {'d': 4, 'e': 5, 'f': 6}\n",
    "dict(dict1, **dict2)"
   ]
  },
  {
   "cell_type": "markdown",
   "metadata": {},
   "source": [
    "### 应用"
   ]
  },
  {
   "cell_type": "code",
   "execution_count": 4,
   "metadata": {},
   "outputs": [
    {
     "name": "stdout",
     "output_type": "stream",
     "text": [
      "{'time': None, 'PID': None, 'account': None, 'CPU': None, 'memory': None, 'kB_rd/s': None, 'kB_wr/s': None, 'CLI': None, 'md5': None}\n",
      "{'time': None, 'PID': None, 'account': None, 'CPU': None, 'memory': None, 'kB_rd/s': None, 'kB_wr/s': None, 'CLI': None, 'md5': None}\n"
     ]
    }
   ],
   "source": [
    "KEYS = ['time', 'PID', 'account', 'CPU', 'memory', 'kB_rd/s', 'kB_wr/s', 'CLI', 'md5']\n",
    "VALUES = [None]*len(KEYS)\n",
    "data = dict(zip(KEYS, VALUES))\n",
    "\n",
    "print(data)\n",
    "\n",
    "data = dict.fromkeys(KEYS, None)\n",
    "\n",
    "print(data)"
   ]
  },
  {
   "cell_type": "code",
   "execution_count": 11,
   "metadata": {},
   "outputs": [
    {
     "name": "stdout",
     "output_type": "stream",
     "text": [
      "{'time': '11:43:15', 'PID': '1', 'account': 'root', 'CPU': '0.01', 'memory': '0.05', 'kB_rd/s': '20.64', 'kB_wr/s': '4.97', 'CLI': '/sbin/init ', 'md5': '249b19aaa268143c3a0b3d6aa9faa070', 0: 'edc'}\n"
     ]
    }
   ],
   "source": [
    "from itertools import zip_longest\n",
    "\n",
    "KEYS = ['time', 'PID', 'account', 'CPU', 'memory', 'kB_rd/s', 'kB_wr/s', 'CLI', 'md5']\n",
    "line = b'11:43:15,1,root,0.01,0.05,20.64,4.97,/sbin/init ,249b19aaa268143c3a0b3d6aa9faa070,abc,edc'\n",
    "details = line.split(b',')\n",
    "data = {}\n",
    "for k, v in zip_longest(KEYS, details, fillvalue=0):\n",
    "    data[k] = v.decode()\n",
    "    \n",
    "print(data)"
   ]
  },
  {
   "cell_type": "code",
   "execution_count": 23,
   "metadata": {},
   "outputs": [
    {
     "name": "stdout",
     "output_type": "stream",
     "text": [
      "{'time': '11:43:15', 'PID': '1', 'account': 'root', 'CPU': '0.01', 'memory': '0.05', 'kB_rd/s': '20.64', 'kB_wr/s': '4.97', 'CLI': '/sbin/init', 'md5': '249b19aaa268143c3a0b3d6aa9faa070', '0': 'edc'}\n",
      "{'time': 1533872595, 'PID': 1, 'account': 'root', 'CPU': 0.01, 'memory': 0.05, 'kB_rd/s': 20.64, 'kB_wr/s': 4.97, 'CLI': '/sbin/init', 'md5': '249b19aaa268143c3a0b3d6aa9faa070'}\n"
     ]
    },
    {
     "data": {
      "text/plain": [
       "{'time': 1533872595,\n",
       " 'PID': 1,\n",
       " 'account': 'root',\n",
       " 'CPU': 0.01,\n",
       " 'memory': 0.05,\n",
       " 'kB_rd/s': 20.64,\n",
       " 'kB_wr/s': 4.97,\n",
       " 'CLI': '/sbin/init',\n",
       " 'md5': '249b19aaa268143c3a0b3d6aa9faa070'}"
      ]
     },
     "execution_count": 23,
     "metadata": {},
     "output_type": "execute_result"
    }
   ],
   "source": [
    "import time\n",
    "from datetime import datetime, date\n",
    "from itertools import zip_longest\n",
    "\n",
    "line = b'11:43:15,1,root,0.01,0.05,20.64,4.97,/sbin/init ,249b19aaa268143c3a0b3d6aa9faa070,abc,edc'\n",
    "\n",
    "def _handle_process_detail(line):\n",
    "    data = {}\n",
    "    KEYS = ['time', 'PID', 'account', 'CPU', 'memory', 'kB_rd/s', 'kB_wr/s', 'CLI', 'md5']\n",
    "    details = line.split(b',')\n",
    "    for k, v in zip_longest(KEYS, details, fillvalue='0'):\n",
    "        try:\n",
    "            data[k] = v.decode().strip()\n",
    "        except Exception as e:\n",
    "            data[k] = v\n",
    "    print(data)\n",
    "    result = formatter_data(data)\n",
    "    print(result)\n",
    "    return result\n",
    "\n",
    "\n",
    "def datetime_2_timestamp(str_date_time, date_type='datetime'):\n",
    "    \"\"\"字符串datetime/date转时间戳,精确到秒\"\"\"\n",
    "    if date_type == 'datetime':\n",
    "        date_time = datetime.strptime(str_date_time, \"%Y-%m-%d %H:%M:%S\")\n",
    "    else:\n",
    "        date_time = datetime.strptime(str_date_time, \"%Y-%m-%d\")\n",
    "    timestamp = str(int(time.mktime(date_time.timetuple())))\n",
    "    return timestamp\n",
    "\n",
    "\n",
    "def formatter_data(data):\n",
    "    date_time = '{} {}'.format(date.today(), data['time'])\n",
    "    data['time'] = datetime_2_timestamp(date_time)\n",
    "    if '0' in data:\n",
    "        data.pop('0')\n",
    "    for k, v in data.items():\n",
    "        try:\n",
    "            if isinstance(eval(v), int):\n",
    "                data[k] = int(v)\n",
    "            elif isinstance(eval(v), float):\n",
    "                data[k] = float(v)\n",
    "        except Exception as e:\n",
    "            data[k] = v\n",
    "    return data\n",
    "\n",
    "_handle_process_detail(line)"
   ]
  },
  {
   "cell_type": "markdown",
   "metadata": {},
   "source": [
    "database: asset (资产)\n",
    "\n",
    "collections:    \n",
    "* process: 进程信息\n",
    "* port: 开放端口\n",
    "* account: 账户信息\n",
    "* schedule: 定时任务\n",
    "* boot: 开机启动\n"
   ]
  },
  {
   "cell_type": "markdown",
   "metadata": {},
   "source": [
    "### 字典排序"
   ]
  },
  {
   "cell_type": "code",
   "execution_count": 3,
   "metadata": {},
   "outputs": [
    {
     "name": "stdout",
     "output_type": "stream",
     "text": [
      "[('a', 'apple'), ('b', 'grape'), ('c', 'orange'), ('d', 'banana')]\n",
      "[('a', 'apple'), ('d', 'banana'), ('b', 'grape'), ('c', 'orange')]\n"
     ]
    }
   ],
   "source": [
    "# 调用sorted()排序\n",
    "dict1 = {\"a\": \"apple\", \"b\": \"grape\", \"c\": \"orange\", \"d\": \"banana\"}\n",
    "\n",
    "# 按照key排序\n",
    "print(sorted(dict1.items(), key=lambda d: d[0]))\n",
    "\n",
    "# 按照value排序\n",
    "print(sorted(dict1.items(), key=lambda d: d[1]))"
   ]
  },
  {
   "cell_type": "code",
   "execution_count": null,
   "metadata": {},
   "outputs": [],
   "source": []
  }
 ],
 "metadata": {
  "kernelspec": {
   "display_name": "Python 3",
   "language": "python",
   "name": "python3"
  },
  "language_info": {
   "codemirror_mode": {
    "name": "ipython",
    "version": 3
   },
   "file_extension": ".py",
   "mimetype": "text/x-python",
   "name": "python",
   "nbconvert_exporter": "python",
   "pygments_lexer": "ipython3",
   "version": "3.6.4"
  }
 },
 "nbformat": 4,
 "nbformat_minor": 2
}
