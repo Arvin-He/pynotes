{
 "cells": [
  {
   "cell_type": "markdown",
   "metadata": {},
   "source": [
    "# str和bytes操作"
   ]
  },
  {
   "cell_type": "markdown",
   "metadata": {},
   "source": [
    "## str操作"
   ]
  },
  {
   "cell_type": "markdown",
   "metadata": {},
   "source": [
    "### 获取字符对应的assic码"
   ]
  },
  {
   "cell_type": "code",
   "execution_count": 38,
   "metadata": {},
   "outputs": [
    {
     "name": "stdout",
     "output_type": "stream",
     "text": [
      "97\n",
      "65\n"
     ]
    }
   ],
   "source": [
    "print(ord('a'))\n",
    "print(ord('A'))"
   ]
  },
  {
   "cell_type": "markdown",
   "metadata": {},
   "source": [
    "### 字符串格式化填充"
   ]
  },
  {
   "cell_type": "code",
   "execution_count": 35,
   "metadata": {},
   "outputs": [
    {
     "name": "stdout",
     "output_type": "stream",
     "text": [
      "T84F70D68threats-analysisT84F70D68\n",
      "34\n"
     ]
    }
   ],
   "source": [
    "#import strings\n",
    "text = 'threatsAnalysis'\n",
    "# print(len(text))\n",
    "# text.center(32, '*')\n",
    "\n",
    "# print(text)\n",
    "\n",
    "text = format(text, '$^32s')\n",
    "text = text.replace('$', 'TFD')\n",
    "print(text)\n",
    "# print(text)\n",
    "# text.maketrans('$$$', 'tfd')\n",
    "# text.translate()\n",
    "text = 'test'\n",
    "format(text, '$^32s').replace('$', 'T{}F{}D{}'.format(ord('T'), ord('F'), ord('D')))"
   ]
  },
  {
   "cell_type": "markdown",
   "metadata": {},
   "source": [
    "## bytes操作"
   ]
  },
  {
   "cell_type": "markdown",
   "metadata": {},
   "source": [
    "### 创建bytes "
   ]
  },
  {
   "cell_type": "code",
   "execution_count": 10,
   "metadata": {},
   "outputs": [
    {
     "name": "stdout",
     "output_type": "stream",
     "text": [
      "b'\\x01\\x02\\x03'\n",
      "b'python'\n",
      "b'\\xe4\\xbd\\xa0\\xe5\\xa5\\xbd!'\n"
     ]
    }
   ],
   "source": [
    "print(bytes([1,2,3]))\n",
    "print(bytes('python', 'ascii')) # 字符串，编码\n",
    "print(bytes('你好!', 'utf-8'))"
   ]
  },
  {
   "cell_type": "markdown",
   "metadata": {},
   "source": [
    "### bytes字节分割切片"
   ]
  },
  {
   "cell_type": "code",
   "execution_count": 4,
   "metadata": {},
   "outputs": [
    {
     "name": "stdout",
     "output_type": "stream",
     "text": [
      "b'10:24:23,1,root,0.03,0.05,40.50,9.75,/sbin/init ,249b19aaa268143c3a0b3d6aa9faa070'\n",
      "b'10:24:23,2,root,0.00,0.00,0.00,0.00,kthreadd,None'\n",
      "b'10:24:23,3,root,0.00,0.00,0.00,0.00,ksoftirqd/0,None'\n",
      "b'10:24:23,4,root,0.00,0.00,0.00,0.00,kworker/0:0,None'\n"
     ]
    }
   ],
   "source": [
    "aa = b'''10:24:23,1,root,0.03,0.05,40.50,9.75,/sbin/init ,249b19aaa268143c3a0b3d6aa9faa070\\n10:24:23,2,root,0.00,0.00,0.00,0.00,kthreadd,None\\n10:24:23,3,root,0.00,0.00,0.00,0.00,ksoftirqd/0,None\\n10:24:23,4,root,0.00,0.00,0.00,0.00,kworker/0:0,None'''\n",
    "\n",
    "lines = aa.split(b'\\n')\n",
    "\n",
    "for line in lines:\n",
    "    print(line)"
   ]
  },
  {
   "cell_type": "markdown",
   "metadata": {},
   "source": [
    "### bytes字节连接"
   ]
  },
  {
   "cell_type": "code",
   "execution_count": 11,
   "metadata": {},
   "outputs": [
    {
     "name": "stdout",
     "output_type": "stream",
     "text": [
      "b'123abc'\n",
      "6\n"
     ]
    }
   ],
   "source": [
    "a = b'123'\n",
    "b = b'abc'\n",
    "\n",
    "c = b''.join([a, b])\n",
    "print(c)\n",
    "print(len(c))"
   ]
  },
  {
   "cell_type": "markdown",
   "metadata": {},
   "source": [
    "## str和bytes相互转换"
   ]
  },
  {
   "cell_type": "code",
   "execution_count": 13,
   "metadata": {},
   "outputs": [
    {
     "name": "stdout",
     "output_type": "stream",
     "text": [
      "b'abc'\n",
      "b'abc'\n",
      "abc\n",
      "abc\n"
     ]
    }
   ],
   "source": [
    "a = 'abc'\n",
    "\n",
    "b = a.encode(encoding='utf-8')\n",
    "c = a.encode(encoding='gb2312')\n",
    "print(b)\n",
    "print(c)\n",
    "\n",
    "d = b.decode()\n",
    "print(d)\n",
    "e = c.decode('gb2312')\n",
    "print(e)"
   ]
  },
  {
   "cell_type": "markdown",
   "metadata": {},
   "source": [
    "## bytes和hex(16进制)相互转换"
   ]
  },
  {
   "cell_type": "code",
   "execution_count": 17,
   "metadata": {},
   "outputs": [
    {
     "name": "stdout",
     "output_type": "stream",
     "text": [
      "hex转bytes\n",
      "b'\\xaa\\xbb\\xcc\\xdd\\xee\\xff'\n",
      "bytes转hex\n",
      "aabbccddeeff\n"
     ]
    }
   ],
   "source": [
    "a = 'aabbccddeeff'\n",
    "\n",
    "print('hex转bytes')\n",
    "b = bytes.fromhex(a)\n",
    "print(b)\n",
    "\n",
    "\n",
    "print('bytes转hex')\n",
    "c = b.hex()\n",
    "print(c)"
   ]
  },
  {
   "cell_type": "code",
   "execution_count": null,
   "metadata": {},
   "outputs": [],
   "source": []
  }
 ],
 "metadata": {
  "kernelspec": {
   "display_name": "Python 3",
   "language": "python",
   "name": "python3"
  },
  "language_info": {
   "codemirror_mode": {
    "name": "ipython",
    "version": 3
   },
   "file_extension": ".py",
   "mimetype": "text/x-python",
   "name": "python",
   "nbconvert_exporter": "python",
   "pygments_lexer": "ipython3",
   "version": "3.6.4"
  }
 },
 "nbformat": 4,
 "nbformat_minor": 2
}
