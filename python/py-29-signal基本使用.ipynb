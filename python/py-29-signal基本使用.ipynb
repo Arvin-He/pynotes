{
 "cells": [
  {
   "cell_type": "markdown",
   "metadata": {},
   "source": [
    "# signal基本使用"
   ]
  },
  {
   "cell_type": "markdown",
   "metadata": {},
   "source": [
    "### 信号基本概念"
   ]
  },
  {
   "cell_type": "markdown",
   "metadata": {},
   "source": [
    "signal是Linux系统编程中非常重要的概念, 信号机制是进程之间传递消息的一种机制.\n",
    "\n",
    "signal全称为软中断信号, 作用是通知进程发生了异步事件。进程之间可以调用系统来传递信号, 本身内核也可以发送信号给进程, 告诉该进程发生了某个事件.\n",
    "\n",
    "注意，信号只是用来通知某进程发生了什么事件，并不给该进程传递任何数据。\n",
    "\n",
    "接收信号的进程对不同的信号有三种处理方法:\n",
    "1. 指定处理函数\n",
    "2. 忽略\n",
    "3. 根据系统默认值处理, 大部分信号的默认处理是终止进程"
   ]
  },
  {
   "cell_type": "markdown",
   "metadata": {},
   "source": [
    "### signal使用限制"
   ]
  },
  {
   "cell_type": "markdown",
   "metadata": {},
   "source": [
    "1. signal 只能用在主线程中，不能用在多线程环境下的子线程中\n",
    "2. signal 只能用在 linux/unix 环境下，不能跨平台,即使在windows平台也就支持少数几个信号,几乎没什么用"
   ]
  },
  {
   "cell_type": "markdown",
   "metadata": {},
   "source": [
    "### 信号类型"
   ]
  },
  {
   "cell_type": "markdown",
   "metadata": {},
   "source": [
    "Linux系统有两大类信号:\n",
    "1. POSIX标准的规则信号(regular signal 1-31编号)\n",
    "2. 实时信号(real-time signal 32-63)\n",
    "\n",
    "注意: \n",
    "* 由于不同系统中同一个数值对应的信号类型不一样, 所以最好使用信号名称.\n",
    "* 信号的数值越小, 优先级越高."
   ]
  },
  {
   "cell_type": "markdown",
   "metadata": {},
   "source": [
    "信号编号\t名称\t默认动作\t说明\n",
    "1\tSIGHUP\t终止\t终止控制终端或进程\n",
    "2\tSIGINT\t终止\t由键盘引起的终端(Ctrl-c)\n",
    "3\tSIGQUIT\tdump\t控制终端发送给进程的信号, 键盘产生的退出(Ctrl-\\),\n",
    "4\tGIGILL\tdusmp\t非法指令引起\n",
    "5\tSIGTRAP\tdump\tdebug中断\n",
    "6\tSIGABRT/SIGIOT\tdump\t异常中止\n",
    "7\tSIGBUS/SIGEMT\tdump\t总线异常/EMT指令\n",
    "8\tSIGFPE\tdump\t浮点运算溢出\n",
    "9\tSIGKILL\t终止\t强制杀死进程(大招, 进程不可捕获)\n",
    "10\tSIGUSR1\t终止\t用户信号, 进程可自定义用途\n",
    "11\tSIGSEGV\tdump\t非法内存地址引起\n",
    "12\tSIGUSR2\t终止\t用户信号, 进程可自定义用途\n",
    "13\tSIGPIPE\t终止\t向某个没有读取的管道中写入数据\n",
    "14\tSIGALRM\t终止\t时钟中断(闹钟)\n",
    "15\tSIGTERM\t终止\t进程终止(进程可捕获)\n",
    "16\tSIGSTKFLT\t终止\t协处理器栈错误\n",
    "17\tSIGCHLD\t忽略\t子进程退出或中断\n",
    "18\tSIGCONT\t继续\t如进程停止状态则开始运行\n",
    "19\tSIGSTOP\t停止\t停止进程运行\n",
    "20\tSIGSTP\t停止\t键盘产生的停止\n",
    "21\tSIGTTIN\t停止\t后台进程请求输入\n",
    "22\tSIGTTOU\t停止\t后台进程请求输出\n",
    "23\tSIGURG\t忽略\tsocket发送紧急情况\n",
    "24\tSIGXCPU\tdump\tCPU时间限制被打破\n",
    "25\tSIGXFSZ\tdump\t文件大小限制被打破\n",
    "26\tSIGVTALRM\t终止\t虚拟定时时钟\n",
    "27\tSIGPROF\t终止\tprofile timer clock\n",
    "28\tSIGWINCH\t忽略\t窗口尺寸调整\n",
    "29\tSIGIO/SIGPOLL\t终止\tI/O可用\n",
    "30\tSIGPWR\t终止\t电源异常\n",
    "31\tSIGSYS/SYSUNUSED\tdump\t系统调用异常"
   ]
  },
  {
   "cell_type": "markdown",
   "metadata": {},
   "source": [
    "### Python中的常用信号和处理"
   ]
  },
  {
   "cell_type": "markdown",
   "metadata": {},
   "source": [
    "编号\t信号名称\t说明\n",
    "2\tSIGINT\t当按下键盘(Ctrl-c)组合键时进程就会收到这个信号\n",
    "15\tSIGTERM\t当用户输入 kill sigterm pid. 对应的进程就会收到这个信号. 这个信号进程是可以捕获并指定函数处理, 例如做一下程序清理等工作. 甚至忽视这个信号\n",
    "9\tSIGKILL\t强制杀死进程, 这个信号进程无法忽视, 直接在系统层面把进程杀掉. 所以在Python中他的不能监听的\n",
    "14\tSIGALRM\t闹钟信号\n",
    "\n",
    "\n",
    "https://www.jianshu.com/p/c8edab99173d"
   ]
  }
 ],
 "metadata": {
  "kernelspec": {
   "display_name": "Python 3",
   "language": "python",
   "name": "python3"
  },
  "language_info": {
   "codemirror_mode": {
    "name": "ipython",
    "version": 3
   },
   "file_extension": ".py",
   "mimetype": "text/x-python",
   "name": "python",
   "nbconvert_exporter": "python",
   "pygments_lexer": "ipython3",
   "version": "3.6.4"
  }
 },
 "nbformat": 4,
 "nbformat_minor": 2
}
