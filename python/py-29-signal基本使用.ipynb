{
 "cells": [
  {
   "cell_type": "markdown",
   "metadata": {},
   "source": [
    "# signal基本使用"
   ]
  },
  {
   "cell_type": "markdown",
   "metadata": {},
   "source": [
    "### 信号基本概念"
   ]
  },
  {
   "cell_type": "markdown",
   "metadata": {},
   "source": [
    "signal是Linux系统编程中非常重要的概念, 信号机制是进程之间传递消息的一种机制.\n",
    "\n",
    "signal全称为软中断信号, 作用是通知进程发生了异步事件。进程之间可以调用系统来传递信号, 本身内核也可以发送信号给进程, 告诉该进程发生了某个事件.\n",
    "\n",
    "注意，信号只是用来通知某进程发生了什么事件，并不给该进程传递任何数据。\n",
    "\n",
    "接收信号的进程对不同的信号有三种处理方法:\n",
    "1. 指定处理函数\n",
    "2. 忽略\n",
    "3. 根据系统默认值处理, 大部分信号的默认处理是终止进程"
   ]
  },
  {
   "cell_type": "markdown",
   "metadata": {},
   "source": [
    "### signal使用限制"
   ]
  },
  {
   "cell_type": "markdown",
   "metadata": {},
   "source": [
    "1. signal 只能用在主线程中，不能用在多线程环境下的子线程中\n",
    "2. signal 只能用在 linux/unix 环境下，不能跨平台,即使在windows平台也就支持少数几个信号,几乎没什么用"
   ]
  },
  {
   "cell_type": "markdown",
   "metadata": {},
   "source": [
    "### 信号类型"
   ]
  },
  {
   "cell_type": "markdown",
   "metadata": {},
   "source": [
    "Linux系统有两大类信号:\n",
    "1. POSIX标准的规则信号(regular signal 1-31编号)\n",
    "2. 实时信号(real-time signal 32-63)\n",
    "\n",
    "注意: \n",
    "* 由于不同系统中同一个数值对应的信号类型不一样, 所以最好使用信号名称.\n",
    "* 信号的数值越小, 优先级越高."
   ]
  },
  {
   "cell_type": "markdown",
   "metadata": {},
   "source": [
    "```\n",
    "信号编号\t名称\t        默认动作\t    说明\n",
    "    1\t  SIGHUP\t      终止\t  终止控制终端或进程\n",
    "    2\t  SIGINT\t      终止\t  由键盘引起的终端(Ctrl-c)\n",
    "    3\t  SIGQUIT\t      dump\t    控制终端发送给进程的信号, 键盘产生的退出(Ctrl-\\),\n",
    "    4\t  GIGILL\t      dump\t    非法指令引起\n",
    "    5\t  SIGTRAP\t      dump\t    debug中断\n",
    "    6\t  SIGABRT/SIGIOT\tdump\t异常中止\n",
    "    7\t  SIGBUS/SIGEMT\t  dump\t    总线异常/EMT指令\n",
    "    8\t  SIGFPE\t      dump\t    浮点运算溢出\n",
    "    9\t  SIGKILL\t      终止\t   强制杀死进程(大招, 进程不可捕获)\n",
    "    10\t  SIGUSR1\t      终止\t   用户信号, 进程可自定义用途\n",
    "    11\t  SIGSEGV\t      dump\t    非法内存地址引起\n",
    "    12\t  SIGUSR2\t      终止\t   用户信号, 进程可自定义用途\n",
    "    13\t  SIGPIPE\t      终止\t   向某个没有读取的管道中写入数据\n",
    "    14\t  SIGALRM\t      终止\t   时钟中断(闹钟)\n",
    "    15\t  SIGTERM\t      终止\t   进程终止(进程可捕获)\n",
    "    16\t  SIGSTKFLT\t      终止\t   协处理器栈错误\n",
    "    17\t  SIGCHLD\t      忽略\t   子进程退出或中断\n",
    "    18\t  SIGCONT\t      继续\t   如进程停止状态则开始运行\n",
    "    19\t  SIGSTOP\t      停止\t   停止进程运行\n",
    "    20\t  SIGSTP\t      停止\t   键盘产生的停止\n",
    "    21\t  SIGTTIN\t      停止\t   后台进程请求输入\n",
    "    22\t  SIGTTOU\t      停止\t   后台进程请求输出\n",
    "    23\t  SIGURG\t      忽略\t   socket发送紧急情况\n",
    "    24\t  SIGXCPU\t      dump\t     CPU时间限制被打破\n",
    "    25\t  SIGXFSZ\t      dump\t     文件大小限制被打破\n",
    "    26\t  SIGVTALRM\t      终止\t   虚拟定时时钟\n",
    "    27\t  SIGPROF\t      终止\t   profile timer clock\n",
    "    28\t  SIGWINCH\t      忽略\t   窗口尺寸调整\n",
    "    29\t  SIGIO/SIGPOLL\t  终止\t   I/O可用\n",
    "    30\t  SIGPWR\t      终止\t   电源异常\n",
    "    31\t  SIGSYS/SYSUNUSED\tdump\t系统调用异常\n",
    "```"
   ]
  },
  {
   "cell_type": "markdown",
   "metadata": {},
   "source": [
    "### Python中的常用信号和处理"
   ]
  },
  {
   "cell_type": "markdown",
   "metadata": {},
   "source": [
    "```\n",
    "编号\t信号名称\t说明\n",
    "2\t  SIGINT\t当按下键盘(Ctrl-c)组合键时进程就会收到这个信号\n",
    "15\t  SIGTERM\t当用户输入 kill sigterm pid. 对应的进程就会收到这个信号. 这个信号进程是可以捕获并指定函数处理, 例如做一下程序清理等工作. 甚至忽视这个信号\n",
    "9\t  SIGKILL\t强制杀死进程, 这个信号进程无法忽视, 直接在系统层面把进程杀掉. 所以在Python中是不能监听的\n",
    "14\t  SIGALRM\t闹钟信号\n",
    "```\n",
    "\n",
    "https://www.jianshu.com/p/c8edab99173d"
   ]
  },
  {
   "cell_type": "markdown",
   "metadata": {},
   "source": [
    "### 一些例子"
   ]
  },
  {
   "cell_type": "code",
   "execution_count": null,
   "metadata": {},
   "outputs": [],
   "source": [
    "#!/usr/bin/env python\n",
    "# -*- coding: utf-8 -*-\n",
    "\n",
    "\"\"\"\n",
    "    监听了SIGINT信号, 当程序在运行的时候同时按下键盘 Ctrl+c 就会输出\n",
    "    收到信号 2 <frame object at 0x00000000021DD048>\n",
    "    handler方法的两个参数分别是 信号编号, 程序帧\n",
    "\"\"\"\n",
    "\n",
    "import sys\n",
    "reload(sys)\n",
    "sys.setdefaultencoding(\"utf-8\")\n",
    "import time\n",
    "import os\n",
    "import signal\n",
    "\n",
    "receive_times = 0\n",
    "\n",
    "def handler(signalnum, handler):\n",
    "    global receive_times\n",
    "    print u\"收到信号\", signalnum, frame, receive_times\n",
    "    receive_times += 1\n",
    "    if receive_times > 3:\n",
    "        exit(0) # 自己走\n",
    "\n",
    "def main():\n",
    "    signal.signal(signal.SIGINT, handler) # Ctrl-c\n",
    "    # time.sleep(10) # SIGINT 信号同样能唤醒 time.sleep, 所以这里程序就会结束\n",
    "    while True: # 改成 while 效果会好点\n",
    "       pass\n",
    "\n",
    "if __name__ == '__main__':\n",
    "    main()"
   ]
  },
  {
   "cell_type": "markdown",
   "metadata": {},
   "source": [
    "再看看SIGTERM的效果"
   ]
  },
  {
   "cell_type": "code",
   "execution_count": null,
   "metadata": {},
   "outputs": [],
   "source": [
    "#!/usr/bin/env python\n",
    "# -*- coding: utf-8 -*-\n",
    "\n",
    "\"\"\"\n",
    "    当我们运行该程序时因为 while True 所以会持续的运行. \n",
    "    这里监听的是 SIGTERM 信号, 所以当我们在终端输入 kill pid (linux kill\n",
    "    默认是发送SIGTERM)时, \n",
    "    程序就会输出: 收到信号 15 <frame object at 0x7ff695738050> 0\n",
    "    当超过3次时就强制把自己杀死.\n",
    "    所以 SIGTERM 很适合用来做一些清理的工作\n",
    "\"\"\"\n",
    "\n",
    "import sys\n",
    "reload(sys)\n",
    "sys.setdefaultencoding(\"utf-8\")\n",
    "import time\n",
    "import os\n",
    "import signal\n",
    "\n",
    "receive_times = 0\n",
    "\n",
    "def handler(signalnum, frame):\n",
    "    global receive_times\n",
    "    print u\"收到信号\", signalnum, frame, receive_times\n",
    "    receive_times += 1\n",
    "    if receive_times > 3:\n",
    "        exit(0) # 自己走\n",
    "\n",
    "def main():\n",
    "    print \"pid:\", os.getpid()\n",
    "    signal.signal(signal.SIGTERM, handler)\n",
    "    while True:\n",
    "        pass\n",
    "\n",
    "if __name__ == '__main__':\n",
    "    main()"
   ]
  },
  {
   "cell_type": "markdown",
   "metadata": {},
   "source": [
    "### 一个例子"
   ]
  },
  {
   "cell_type": "markdown",
   "metadata": {},
   "source": [
    "在python2.x的版本, 线程有个bug, 在join的时候不能接收信号\n",
    "详解见:https://bugs.python.org/issue1167930\n",
    "所以如果我们运行以下代码"
   ]
  },
  {
   "cell_type": "code",
   "execution_count": null,
   "metadata": {},
   "outputs": [],
   "source": [
    "#!/usr/bin/env python\n",
    "# -*- coding: utf-8 -*-\n",
    "\n",
    "\"\"\"\n",
    "    这里虽然我们监听了 SIGINT 信号, 但是当我们按下Ctrl-c时程序并没有任何输出. 还是要等线程运行完成程序才退出.\n",
    "\"\"\"\n",
    "\n",
    "import sys\n",
    "reload(sys)\n",
    "sys.setdefaultencoding(\"utf-8\")\n",
    "import time\n",
    "import os\n",
    "import signal\n",
    "import threading\n",
    "\n",
    "receive_times = 0\n",
    "\n",
    "def handler(signalnum, frame):\n",
    "    global receive_times\n",
    "    print u\"收到信号\", signalnum, frame, receive_times\n",
    "    receive_times += 1\n",
    "    if receive_times > 3:\n",
    "        # os.kill(os.getpid(), signal.SIGTERM) # 我疯起来连自己都杀\n",
    "        exit(0)\n",
    "\n",
    "def run():\n",
    "    print \"thread %s run:\"%(threading.currentThread().getName())\n",
    "    time.sleep(10)\n",
    "    print \"thread %s done\"%(threading.currentThread().getName())\n",
    "\n",
    "def main():\n",
    "    print \"pid:\", os.getpid()\n",
    "    signal.signal(signal.SIGINT, handler)\n",
    "\n",
    "    thread_list = []\n",
    "    for i in range(5):\n",
    "        thread = threading.Thread(target = run)\n",
    "        thread_list.append(thread)\n",
    "\n",
    "    for thread in thread_list:\n",
    "        thread.start()\n",
    "\n",
    "    for thread in thread_list:\n",
    "        thread.join()\n",
    "\n",
    "    print \"all thread done\"\n",
    "\n",
    "if __name__ == '__main__':\n",
    "    main()"
   ]
  },
  {
   "cell_type": "markdown",
   "metadata": {},
   "source": [
    "改进"
   ]
  },
  {
   "cell_type": "code",
   "execution_count": null,
   "metadata": {},
   "outputs": [],
   "source": [
    "#!/usr/bin/env python\n",
    "# -*- coding: utf-8 -*-\n",
    "\n",
    "\"\"\"\n",
    "    在这里我们放弃了线程的join() 方法, 然后用 while True 的方式来代替, 然后在主进程判断线程的存活状态. 这样既能持续的运行线程又能根据需求来随时中断\n",
    "\"\"\"\n",
    "\n",
    "import sys\n",
    "reload(sys)\n",
    "sys.setdefaultencoding(\"utf-8\")\n",
    "import time\n",
    "import os\n",
    "import signal\n",
    "import threading\n",
    "\n",
    "is_run_thread = True\n",
    "\n",
    "def handler(signalnum, frame):\n",
    "    print u\"收到信号\", signalnum, frame\n",
    "    global is_run_thread\n",
    "    is_run_thread = False # 停止运行线程\n",
    "\n",
    "def run():\n",
    "    print \"thread %s run:\"%(threading.currentThread().getName())\n",
    "    while is_run_thread:\n",
    "        # do something\n",
    "        pass\n",
    "    print \"thread %s done\"%(threading.currentThread().getName())\n",
    "\n",
    "def main():\n",
    "    print \"pid:\", os.getpid()\n",
    "    signal.signal(signal.SIGINT, handler)\n",
    "\n",
    "    thread_list = []\n",
    "    for i in range(5):\n",
    "        thread = threading.Thread(target = run)\n",
    "        thread_list.append(thread)\n",
    "\n",
    "    for thread in thread_list:\n",
    "        thread.start()\n",
    "\n",
    "   # 注意这里\n",
    "    while True:\n",
    "        for thread in thread_list:\n",
    "            if thread.isAlive():\n",
    "                break\n",
    "        else:\n",
    "            break\n",
    "\n",
    "    # for thread in thread_list:\n",
    "    #     thread.join()\n",
    "\n",
    "    print \"all thread done\"\n",
    "\n",
    "if __name__ == '__main__':\n",
    "    main()"
   ]
  }
 ],
 "metadata": {
  "kernelspec": {
   "display_name": "Python 3",
   "language": "python",
   "name": "python3"
  },
  "language_info": {
   "codemirror_mode": {
    "name": "ipython",
    "version": 3
   },
   "file_extension": ".py",
   "mimetype": "text/x-python",
   "name": "python",
   "nbconvert_exporter": "python",
   "pygments_lexer": "ipython3",
   "version": "3.6.4"
  }
 },
 "nbformat": 4,
 "nbformat_minor": 2
}
