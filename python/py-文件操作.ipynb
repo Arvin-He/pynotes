{
 "cells": [
  {
   "cell_type": "markdown",
   "metadata": {},
   "source": [
    "# 文件操作"
   ]
  },
  {
   "cell_type": "markdown",
   "metadata": {},
   "source": [
    "### 文件模式"
   ]
  },
  {
   "cell_type": "markdown",
   "metadata": {},
   "source": [
    "* r :以只读方式打开文件，该文件必须存在, 否则报错。 \n",
    "* r+ :以可读写方式打开文件，该文件必须存在, 否则报错。 \n",
    "* w :以只写方式打开文件，若文件存在则首先文件内容清零。若文件不存在则建立该文件。 \n",
    "* w+: 以可读写方式打开文件，若文件存在则首先文件内容清零。若文件不存在则建立该文件。 \n",
    "* a: 以追加+只写方式打开文件。若文件不存在，则会建立该文件，如果文件存在，写入的数据会被加到文件尾.\n",
    "* a+: 以追加+可读写方式打开文件。若文件不存在，则会建立该文件，如果文件存在，写入的数据会被加到文件尾后.\n",
    "* 以上所有模式都可以再加一个b字符，如`rb`、`w+b`或`ab+`等组合，表示以二进制方式打开文件,输出的内容是字节."
   ]
  },
  {
   "cell_type": "markdown",
   "metadata": {},
   "source": [
    "### 普通文件读写"
   ]
  },
  {
   "cell_type": "code",
   "execution_count": null,
   "metadata": {},
   "outputs": [],
   "source": [
    "# 读文件\n",
    "with open('file_path', 'r', encoding='utf-8') as f:\n",
    "    for line in f:\n",
    "        print(line)\n",
    "\n",
    "# 写文件\n",
    "with open('file_path', 'w', encoding='utf-8') as f:\n",
    "    f.write('xxxx')"
   ]
  },
  {
   "cell_type": "markdown",
   "metadata": {},
   "source": [
    "### 读写json文件"
   ]
  },
  {
   "cell_type": "code",
   "execution_count": null,
   "metadata": {},
   "outputs": [],
   "source": [
    "import json\n",
    "import logging\n",
    "\n",
    "# 加载json配置文件\n",
    "def loadJson(json_file):\n",
    "    try:\n",
    "        with open(json_file, 'r', encoding='utf-8') as f:\n",
    "            return json.load(f)\n",
    "    except Exception as e:\n",
    "        logging.error(\"json文件加载出错: {}\".format(e))\n",
    "\n",
    "\n",
    "# 写配置文件\n",
    "def dumpJson(json_file, data):\n",
    "    try:\n",
    "        with open(json_file, 'w', encoding='utf-8') as f:\n",
    "            json.dump(data, f, ensure_ascii=False, indent=4)\n",
    "    except Exception as e:\n",
    "        logging.error(\"json文件写入出错: {}\".format(e))"
   ]
  },
  {
   "cell_type": "markdown",
   "metadata": {},
   "source": [
    "### 读写ini文件"
   ]
  },
  {
   "cell_type": "markdown",
   "metadata": {},
   "source": [
    "1. 读文件：\n",
    "\n",
    "    * read(filename)：读取ini文件中的内容\n",
    "    * sections()：得到所有section，返回列表形式\n",
    "    * options(section)：得到给定section的所有option\n",
    "    * items(section):得到指定section的所有key-value\n",
    "    * get(section,option)：得到section中的option值，返回str类型\n",
    "    * get(section,option)：得到section中的option值，返回int类型\n",
    "    \n",
    "2. 写文件：\n",
    "\n",
    "    * add_section(sectionname)：添加一个名为sectionname的新section\n",
    "    * set(sectionname,option,value):设置sectionname的option和value的值"
   ]
  },
  {
   "cell_type": "code",
   "execution_count": 9,
   "metadata": {},
   "outputs": [
    {
     "name": "stdout",
     "output_type": "stream",
     "text": [
      "['BOOLEAN_STATES', 'NONSPACECRE', 'OPTCRE', 'OPTCRE_NV', 'SECTCRE', '_DEFAULT_INTERPOLATION', '_MutableMapping__marker', '_OPT_NV_TMPL', '_OPT_TMPL', '_SECT_TMPL', '__abstractmethods__', '__class__', '__contains__', '__delattr__', '__delitem__', '__dict__', '__dir__', '__doc__', '__eq__', '__format__', '__ge__', '__getattribute__', '__getitem__', '__gt__', '__hash__', '__init__', '__init_subclass__', '__iter__', '__le__', '__len__', '__lt__', '__module__', '__ne__', '__new__', '__reduce__', '__reduce_ex__', '__repr__', '__reversed__', '__setattr__', '__setitem__', '__sizeof__', '__slots__', '__str__', '__subclasshook__', '__weakref__', '_abc_cache', '_abc_negative_cache', '_abc_negative_cache_version', '_abc_registry', '_allow_no_value', '_comment_prefixes', '_convert_to_boolean', '_converters', '_defaults', '_delimiters', '_dict', '_empty_lines_in_values', '_get', '_get_conv', '_handle_error', '_inline_comment_prefixes', '_interpolation', '_join_multiline_values', '_optcre', '_proxies', '_read', '_sections', '_strict', '_unify_values', '_validate_value_types', '_write_section', 'add_section', 'clear', 'converters', 'default_section', 'defaults', 'get', 'getboolean', 'getfloat', 'getint', 'has_option', 'has_section', 'items', 'keys', 'options', 'optionxform', 'pop', 'popitem', 'read', 'read_dict', 'read_file', 'read_string', 'readfp', 'remove_option', 'remove_section', 'sections', 'set', 'setdefault', 'update', 'values', 'write']\n"
     ]
    }
   ],
   "source": [
    "import configparser\n",
    "# dir(configParser.ConfigParser)\n",
    "conf = configparser.ConfigParser()\n",
    "print(dir(conf))\n",
    "# conf.read('conf.ini')\n",
    "\n",
    "# # 读ini文件\n",
    "# name = conf.get('section1', 'name')\n",
    "\n",
    "# # 写ini文件\n",
    "# conf.set('section1', 'name', 'abcd')\n",
    "# conf.add_section('section2')\n",
    "# conf.set('section2', 'age', 18)\n",
    "# conf.write(open('conf.ini', 'w'))"
   ]
  },
  {
   "cell_type": "markdown",
   "metadata": {},
   "source": [
    "### 文件打包压缩"
   ]
  },
  {
   "cell_type": "code",
   "execution_count": null,
   "metadata": {},
   "outputs": [],
   "source": [
    "import string\n",
    "import random\n",
    "import logging\n",
    "import subprocess\n",
    "\n",
    "\n",
    "def genPasswd(length=12):\n",
    "    logging.info(\"生成压缩文件密码...\")\n",
    "    chars = string.ascii_letters + string.digits\n",
    "    passwd = ''.join([random.choice(chars) for i in range(length)])\n",
    "    logging.info(\"压缩包密码:{}\".format(passwd))\n",
    "    return passwd\n",
    "\n",
    "\n",
    "def tar_zip(src, dst, passwd, formatter=\"zip\"):\n",
    "    logging.info(\"开始打包压缩, 开始时间:{}\".format(time.ctime()))\n",
    "    try:\n",
    "        start = time.time()\n",
    "        if formatter == \"zip\":\n",
    "            logging.info(\"使用zip格式打包压缩数据,请等待...\")\n",
    "            if sys.platform == \"win32\":\n",
    "                subprocess.check_call([\"7z\", \"a\", \"-tzip\", dst, src, \"-p{}\".format(passwd)])\n",
    "            else:\n",
    "                subprocess.check_call([\"zip\", \"-rP\", passwd, dst, src])\n",
    "        elif formatter == \"7z\":\n",
    "            logging.info(\"使用7z格式打包压缩数据,请等待...\")\n",
    "            subprocess.check_call([\"7z\", \"a\", dst + \".7z\", src, \"-p{}\".format(passwd)])\n",
    "        logging.info(\"打包压缩数据完成, 压缩时间:{:.1f}秒.\".format(time.time() - start))\n",
    "    except Exception as e:\n",
    "        logging.error(\"打包压缩出错, Error: {}\".format(e))"
   ]
  }
 ],
 "metadata": {
  "kernelspec": {
   "display_name": "Python 3",
   "language": "python",
   "name": "python3"
  },
  "language_info": {
   "codemirror_mode": {
    "name": "ipython",
    "version": 3
   },
   "file_extension": ".py",
   "mimetype": "text/x-python",
   "name": "python",
   "nbconvert_exporter": "python",
   "pygments_lexer": "ipython3",
   "version": "3.6.4"
  }
 },
 "nbformat": 4,
 "nbformat_minor": 2
}
