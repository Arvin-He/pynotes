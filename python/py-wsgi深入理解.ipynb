{
 "cells": [
  {
   "cell_type": "markdown",
   "metadata": {},
   "source": [
    "# py-wsgi深入理解"
   ]
  },
  {
   "cell_type": "markdown",
   "metadata": {},
   "source": [
    "### wsgi简介"
   ]
  },
  {
   "cell_type": "markdown",
   "metadata": {},
   "source": [
    "wsgi全称是\"Web Server Gateway Interfacfe\"，web服务器网关接口，wsgi在python2.5中加入，是web服务器和web应用的标准接口，任何实现了该接口的web服务器和web应用都能无缝协作。\n",
    "\n",
    "![](images/19.png)\n",
    "\n",
    "wsgi一端连接web服务器（http服务器），另一端连接应用。目前已经有很多的web框架，如flask、webpy，用户只要简单配置一些路由信息，就能开发出一个web应用。后文中的web框架就等同于应用（application）\n",
    "\n",
    "那么这个接口是什么样子的呢，pep333是这么描述的：\n",
    "* App提供一个接受两个参数的callable对象。app需要返回一个可迭代的字符串序列，表示响应的消息内容\n",
    "    1. 第一个参数是一个dict类型，表示请求相关的环境变量；\n",
    "    2. 第二个参数是一个callable对象，app在代码中调用该callable设置响应的消息头。\n",
    "    \n",
    "* web server在http请求到来之后，调用App提供的callable对象，传入响应的参数。然后把App的返回值发送给http请求者（如浏览器）\n",
    "\n",
    "常见的python web服务器包括:\n",
    "* cherrypy\n",
    "* gevent-fastcgi\n",
    "* gunicorn\n",
    "* uwsgi\n",
    "* twisted\n",
    "* webpy\n",
    "* tornado\n",
    "* ...\n",
    "\n",
    "在实际应用中，这些web服务器可能需要配合其他http代理服务器使用，如Nginx。\n",
    "\n",
    "[一起写个服务器](http://web.jobbole.com/82360/)"
   ]
  }
 ],
 "metadata": {
  "kernelspec": {
   "display_name": "Python 3",
   "language": "python",
   "name": "python3"
  },
  "language_info": {
   "codemirror_mode": {
    "name": "ipython",
    "version": 3
   },
   "file_extension": ".py",
   "mimetype": "text/x-python",
   "name": "python",
   "nbconvert_exporter": "python",
   "pygments_lexer": "ipython3",
   "version": "3.6.4"
  }
 },
 "nbformat": 4,
 "nbformat_minor": 2
}
