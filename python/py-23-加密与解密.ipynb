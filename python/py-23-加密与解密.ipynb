{
 "cells": [
  {
   "cell_type": "markdown",
   "metadata": {},
   "source": [
    "# hashlib摘要 和 加密与解密"
   ]
  },
  {
   "cell_type": "markdown",
   "metadata": {},
   "source": [
    "## hash摘要算法"
   ]
  },
  {
   "cell_type": "markdown",
   "metadata": {},
   "source": [
    "hashlib是个专门提供hash算法的库，现在包括md5, sha1, sha224, sha256, sha384, sha512，使用非常简单。\n",
    "\n",
    "* md5经常用来做用户密码的存储。\n",
    "* sha1则经常用作数字签名。\n",
    "\n",
    "md5生成一个128bit的结果，通常用32位的16进制字符串表示 \n",
    "\n",
    "sha1生成一个160bit的结果，通常用40位的16进制字符串表示\n",
    "\n",
    "SHA256和SHA512，不过越安全的算法越慢，而且摘要长度更长\n",
    "\n",
    "注意：\n",
    "* 哈希算法又称为摘要算法，它生成的是固定长度的不可逆的混杂字符串。\n",
    "* 不要与加密算法混为一谈，因为加密对应着解密。而哈希算法很难很难解密。"
   ]
  },
  {
   "cell_type": "markdown",
   "metadata": {},
   "source": [
    "### MD5摘要"
   ]
  },
  {
   "cell_type": "code",
   "execution_count": 4,
   "metadata": {},
   "outputs": [
    {
     "name": "stdout",
     "output_type": "stream",
     "text": [
      "32\n",
      "e10adc3949ba59abbe56e057f20f883e\n"
     ]
    }
   ],
   "source": [
    "import hashlib\n",
    "\n",
    "def md5_crypto(pwd):\n",
    "    md_5 = hashlib.md5()\n",
    "    md_5.update(pwd.encode('utf8'))\n",
    "    md5_pwd = md_5.hexdigest()\n",
    "    return md5_pwd\n",
    "\n",
    "pwd = md5_crypto('123456')\n",
    "print(len(pwd))\n",
    "print(pwd)"
   ]
  },
  {
   "cell_type": "markdown",
   "metadata": {},
   "source": [
    "### sha1摘要"
   ]
  },
  {
   "cell_type": "code",
   "execution_count": 3,
   "metadata": {},
   "outputs": [
    {
     "name": "stdout",
     "output_type": "stream",
     "text": [
      "40\n",
      "7c4a8d09ca3762af61e59520943dc26494f8941b\n"
     ]
    }
   ],
   "source": [
    "import hashlib\n",
    "\n",
    "def sha1_crypto(pwd):\n",
    "    sha1 = hashlib.sha1()\n",
    "    sha1.update(pwd.encode('utf8'))\n",
    "    sha1_pwd = sha1.hexdigest()\n",
    "    return sha1_pwd\n",
    "\n",
    "pwd = sha1_crypto('123456')\n",
    "print(len(pwd))\n",
    "print(pwd)"
   ]
  },
  {
   "cell_type": "markdown",
   "metadata": {},
   "source": [
    "### 其他摘要算法"
   ]
  },
  {
   "cell_type": "code",
   "execution_count": 8,
   "metadata": {},
   "outputs": [
    {
     "name": "stdout",
     "output_type": "stream",
     "text": [
      "md5:b1a4cf30d3f4095f0a7d2a6676bcae77, len= 32\n",
      "sha1:2da75da5c85478df42df0f917700241ed282f599, len= 40\n",
      "sha224:fb29c0daf4a995d2caad4cc5150a6977f871ac34c1c9c97d740d90d0, len= 56\n",
      "sha256:b830543dc5d1466110538736d35c37cc61d32076a69de65c42913dfbb1961f46, len= 64\n",
      "sha384:1b7c9d326961a90d6fe5e168b7339852a6238af953e5cad5501d140167bdfe8ebd82d7df5f7915ebad3e2f89d977357f, len= 96\n",
      "sha512:fd308aadbf52384412c4ba3e2dfe3551e0faa2e7455898dae04fda4f238569e3889c56cbd4d120cf69f81a5f06456f327c19100eaed2e590888342f1ce3e0261, len= 128\n"
     ]
    }
   ],
   "source": [
    "import hashlib\n",
    "\n",
    "a = \"a test string\".encode('utf-8')\n",
    "\n",
    "res = hashlib.md5(a).hexdigest()\n",
    "print('md5:{}, len= {}'.format(res, len(res)))\n",
    "res = hashlib.sha1(a).hexdigest()\n",
    "print('sha1:{}, len= {}'.format(res, len(res)))\n",
    "res = hashlib.sha224(a).hexdigest()\n",
    "print('sha224:{}, len= {}'.format(res, len(res)))\n",
    "res = hashlib.sha256(a).hexdigest()\n",
    "print('sha256:{}, len= {}'.format(res, len(res)))\n",
    "res = hashlib.sha384(a).hexdigest()\n",
    "print('sha384:{}, len= {}'.format(res, len(res)))\n",
    "res = hashlib.sha512(a).hexdigest()\n",
    "print('sha512:{}, len= {}'.format(res, len(res)))"
   ]
  },
  {
   "cell_type": "markdown",
   "metadata": {},
   "source": [
    "## 加密与解密"
   ]
  },
  {
   "cell_type": "code",
   "execution_count": 24,
   "metadata": {},
   "outputs": [
    {
     "name": "stdout",
     "output_type": "stream",
     "text": [
      "b'\\x91\\xbc\\x7f*\\xae\\x02\\xf8\\x0eB\\xc8\\x98\\x03z\\xbb5@<(\\xa1\\x90\\xad\\x14veyn\\x18\\x18\\xb5\\xf7,\\x9b'\n",
      "thisisjiamineirong\n"
     ]
    }
   ],
   "source": [
    "import json\n",
    "from Crypto.Cipher import AES\n",
    "\n",
    "#秘钥,此处需要将字符串转为字节\n",
    "key = b'0e9ec82fc54142de919f557a28bf637a'\n",
    "\n",
    "#加密内容需要长达16位字符，所以进行空格拼接\n",
    "def pad(text):\n",
    "  while len(text) % 16 != 0:\n",
    "    text += b' '\n",
    "  return text\n",
    "\n",
    "#加密秘钥需要长达16位字符，所以进行空格拼接\n",
    "def pad_key(key):\n",
    "  while len(key) % 16 != 0:\n",
    "    key += b' '\n",
    "  return key\n",
    "\n",
    "#进行加密算法，模式ECB模式，把叠加完16位的秘钥传进来\n",
    "aes = AES.new(pad_key(key), AES.MODE_ECB)\n",
    "aa = {\"action\":\"0\",\"address\":\"\",\"area\":\"\",\"city\":\"\"}\n",
    "#加密内容,此处需要将字符串转为字节\n",
    "text=b'thisisjiamineirong'\n",
    "# text = str(json.dumps(aa))\n",
    "#进行内容拼接16位字符后传入加密类中，结果为字节类型\n",
    "encrypted_text = aes.encrypt(pad(text))\n",
    "\n",
    "print(encrypted_text)\n",
    "\n",
    "#此处是为了验证是否能将字节转为字符串后，进行解密成功\n",
    "#实际上a 就是 encrypted_text ，也就是加密后的内容\n",
    "a = b'\\x91\\xbc\\x7f*\\xae\\x02\\xf8\\x0eB\\xc8\\x98\\x03z\\xbb5@<(\\xa1\\x90\\xad\\x14veyn\\x18\\x18\\xb5\\xf7,\\x9b'\n",
    "\n",
    "#用aes对象进行解密，将字节类型转为str类型，错误编码忽略不计\n",
    "de = str(aes.decrypt(a),encoding='utf-8',errors=\"ignore\")\n",
    "\n",
    "#获取str从0开始到文本内容的字符串长度。\n",
    "print(de[:len(text)])\n"
   ]
  },
  {
   "cell_type": "code",
   "execution_count": 2,
   "metadata": {},
   "outputs": [],
   "source": [
    "import hashlib\n",
    "from Crypto.Cipher import AES\n",
    "from binascii import b2a_hex, a2b_hex\n",
    "from pprint import pprint\n",
    "import json\n",
    "\n",
    "class Crypto():\n",
    "    def __init__(self, key):\n",
    "        tmp = hashlib.sha1(key).digest()\n",
    "        tmp = hashlib.sha1(tmp).digest()[:16]\n",
    "        self.key = tmp\n",
    "        self.mode = AES.MODE_ECB\n",
    "\n",
    "    # 加密函数，如果text不是16的倍数【加密文本text必须为16的倍数！】，那就补足为16的倍数\n",
    "    def encrypt(self, text):\n",
    "        cryptor = AES.new(self.key, self.mode)\n",
    "        # 这里密钥key 长度必须为16（AES-128）、24（AES-192）、或32（AES-256）Bytes 长度.目前AES-128足够用\n",
    "        length = 16\n",
    "        count = len(text)\n",
    "\n",
    "        if count % length != 0:\n",
    "            add = length - (count % length)\n",
    "        else:\n",
    "            add = 0\n",
    "        text = text + (b'\\0' * add)\n",
    "        self.ciphertext = cryptor.encrypt(text)\n",
    "        # 因为AES加密时候得到的字符串不一定是ascii字符集的，输出到终端或者保存时候可能存在问题\n",
    "        # 所以这里统一把加密后的字符串转化为16进制字符串\n",
    "        return b2a_hex(self.ciphertext)\n",
    "\n",
    "    # 解密后，去掉补足的空格用strip() 去掉\n",
    "    def decrypt(self, text):\n",
    "        cryptor = AES.new(self.key, self.mode)\n",
    "        plain_text = cryptor.decrypt(a2b_hex(text))\n",
    "        return plain_text.rstrip(b'\\0')\n",
    "\n",
    "    def decrypt_str(self, text):\n",
    "        data = self.decrypt(text)\n",
    "        print(data)\n",
    "        text = data.decode().strip()\n",
    "\n",
    "#         text = data.decode().strip().strip('\\x06').strip('\\x0c')\n",
    "        return text\n",
    "    \n",
    "data = 'xxxxxx'\n",
    "\n",
    "cryptor = Crypto(b'xxxxa')\n",
    "info = cryptor.decrypt_str(data)\n",
    "# pprint(info)\n",
    "\n",
    "# pprint(json.loads(info))"
   ]
  },
  {
   "cell_type": "code",
   "execution_count": null,
   "metadata": {},
   "outputs": [],
   "source": []
  }
 ],
 "metadata": {
  "kernelspec": {
   "display_name": "Python 3",
   "language": "python",
   "name": "python3"
  },
  "language_info": {
   "codemirror_mode": {
    "name": "ipython",
    "version": 3
   },
   "file_extension": ".py",
   "mimetype": "text/x-python",
   "name": "python",
   "nbconvert_exporter": "python",
   "pygments_lexer": "ipython3",
   "version": "3.6.4"
  }
 },
 "nbformat": 4,
 "nbformat_minor": 2
}
