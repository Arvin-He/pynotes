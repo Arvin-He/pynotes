{
 "cells": [
  {
   "cell_type": "markdown",
   "metadata": {},
   "source": [
    "# 网络相关"
   ]
  },
  {
   "cell_type": "markdown",
   "metadata": {},
   "source": [
    "### 判断ip地址是否是内网(局域网)"
   ]
  },
  {
   "cell_type": "markdown",
   "metadata": {},
   "source": [
    "一般在CMDB里会存储一台服务器的内网IP、管理IP、电信IP、联通IP，我们在使用的时候只需要拿到其中一个外网IP地址即可。\n",
    "\n",
    "那么我们就需要判断内网IP、管理IP并剔除掉，获取第一个外网IP。\n",
    "\n",
    "内网IP可分为三类：\n",
    "* A类地址：10.0.0.0--10.255.255.255\n",
    "* B类地址：172.16.0.0--172.31.255.255\n",
    "* C类地址：192.168.0.0--192.168.255.255\n",
    "\n",
    "局域网在选取使用私有地址时，一般会按照实际需要容纳的主机数来选择私有地址段。\n",
    "\n",
    "常见的局域网由于容量小，一般选择C类的192.168.0.0作为地址段使用，\n",
    "\n",
    "一些大型企业就需要使用B类甚至A类地址段作为内部网络的地址段。"
   ]
  },
  {
   "cell_type": "code",
   "execution_count": 2,
   "metadata": {},
   "outputs": [
    {
     "name": "stdout",
     "output_type": "stream",
     "text": [
      "192.168.0.1 True\n",
      "10.2.0.1 True\n",
      "172.16.1.1 True\n"
     ]
    }
   ],
   "source": [
    "from functools import reduce\n",
    "\n",
    "def ip_into_int(ip):\n",
    "    # 先把 192.168.1.13 变成16进制的 c0.a8.01.0d ，再去了“.”后转成10进制的 3232235789 即可。\n",
    "    # (((((192 * 256) + 168) * 256) + 1) * 256) + 13\n",
    "    return reduce(lambda x,y:(x<<8)+y,map(int,ip.split('.')))\n",
    "\n",
    "def is_internal_ip(ip):\n",
    "    ip = ip_into_int(ip)\n",
    "    net_a = ip_into_int('10.255.255.255') >> 24\n",
    "    net_b = ip_into_int('172.31.255.255') >> 20\n",
    "    net_c = ip_into_int('192.168.255.255') >> 16\n",
    "    return ip >> 24 == net_a or ip >>20 == net_b or ip >> 16 == net_c\n",
    "\n",
    "if __name__ == '__main__':\n",
    "    ip = '192.168.0.1'\n",
    "    print(ip, is_internal_ip(ip))\n",
    "    ip = '10.2.0.1'\n",
    "    print(ip, is_internal_ip(ip))\n",
    "    ip = '172.16.1.1'\n",
    "    print(ip, is_internal_ip(ip))"
   ]
  },
  {
   "cell_type": "code",
   "execution_count": null,
   "metadata": {},
   "outputs": [],
   "source": []
  }
 ],
 "metadata": {
  "kernelspec": {
   "display_name": "Python 3",
   "language": "python",
   "name": "python3"
  },
  "language_info": {
   "codemirror_mode": {
    "name": "ipython",
    "version": 3
   },
   "file_extension": ".py",
   "mimetype": "text/x-python",
   "name": "python",
   "nbconvert_exporter": "python",
   "pygments_lexer": "ipython3",
   "version": "3.6.4"
  }
 },
 "nbformat": 4,
 "nbformat_minor": 2
}
