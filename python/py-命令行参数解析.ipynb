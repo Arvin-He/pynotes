{
 "cells": [
  {
   "cell_type": "markdown",
   "metadata": {},
   "source": [
    "# py-命令行参数解析"
   ]
  },
  {
   "cell_type": "markdown",
   "metadata": {},
   "source": [
    "命令行参数解析使用argparse库, 这是python的标准库"
   ]
  },
  {
   "cell_type": "markdown",
   "metadata": {},
   "source": [
    "### 使用方法"
   ]
  },
  {
   "cell_type": "code",
   "execution_count": 2,
   "metadata": {},
   "outputs": [],
   "source": [
    "import argparse\n",
    "\n",
    "def main():\n",
    "    args = argparse.ArgumentParser(description='MongoDB Connect Information and other options.', epilog = 'Information end.')\n",
    "    args.add_argument(\"-ip\", type=str, help=\"MongoDB IP address.\")\n",
    "    args.add_argument(\"-p\", type=int, help=\"MongoDB port.\")\n",
    "    args.add_argument(\"-u\", type=str, help=\"MongoDB username.\")\n",
    "    args.add_argument(\"-pw\", type=str, help=\"MongoDB password.\")\n",
    "    args.add_argument(\"-db\", type=str, help=\"MongoDB database name.\")\n",
    "    args.add_argument(\"-lc\", type=str, help=\"Show logs on console,[YES/NO].\")\n",
    "    \n",
    "    #返回一个命名空间,如果想要使用变量,可用args.attr, 如: args.ip\n",
    "    args = args.parse_args()\n",
    "    print('args={}, type={}'.format(args, type(args)))\n",
    "    print('args.ip={}'.format(args.ip))\n",
    "    params = {}\n",
    "    for k, v in args.__dict__.items():\n",
    "        if v:\n",
    "            params[k] = v\n",
    "    print(params)"
   ]
  },
  {
   "cell_type": "markdown",
   "metadata": {},
   "source": [
    "C:\\py\\app>python run.py -u Clouds_Dev -p 27017 -pw bssBZ1 -ip 192.168.110.108 -db Clouds_Dev -lc YES\n",
    "\n",
    "args=Namespace(db='Clouds_Dev', ip='192.168.110.108', lc='YES', lv='INFO', p=27017, pw='bssBZ1', u='Clouds_Dev'), type=<class 'argparse.Namespace'>\n",
    "\n",
    "args.ip=192.168.110.108\n",
    "\n",
    "{'ip': '192.168.110.108', 'p': 27017, 'u': 'Clouds_Dev', 'pw': 'bssBZ1', 'db': 'Clouds_Dev', 'lc': 'YES'}\n",
    "\n",
    "11/03/2018 14:03:17 [INFO] [main.py] [75]: Starting tornado web server on http://127.0.0.1:8770\n",
    "11/03/2018 14:03:17 [INFO] [main.py] [76]: Quit the server with Ctrl-C\n"
   ]
  },
  {
   "cell_type": "code",
   "execution_count": null,
   "metadata": {},
   "outputs": [],
   "source": []
  }
 ],
 "metadata": {
  "kernelspec": {
   "display_name": "Python 3",
   "language": "python",
   "name": "python3"
  },
  "language_info": {
   "codemirror_mode": {
    "name": "ipython",
    "version": 3
   },
   "file_extension": ".py",
   "mimetype": "text/x-python",
   "name": "python",
   "nbconvert_exporter": "python",
   "pygments_lexer": "ipython3",
   "version": "3.6.4"
  }
 },
 "nbformat": 4,
 "nbformat_minor": 2
}
