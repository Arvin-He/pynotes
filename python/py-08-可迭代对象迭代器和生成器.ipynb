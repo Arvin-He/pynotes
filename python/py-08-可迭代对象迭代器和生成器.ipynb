{
 "cells": [
  {
   "cell_type": "markdown",
   "metadata": {},
   "source": [
    "# 可迭代对象、迭代器、生成器"
   ]
  },
  {
   "cell_type": "markdown",
   "metadata": {},
   "source": [
    "### 说明"
   ]
  },
  {
   "cell_type": "markdown",
   "metadata": {},
   "source": [
    "* 所有的生成器都是迭代器\n",
    "\n",
    "关于迭代器和生成器的一种定义：\n",
    "\n",
    "* 迭代器用于从集合中取出元素；\n",
    "* 生成器用于凭空生成元素。\n",
    "\n",
    "Python中，所有的集合都是可以迭代的，在Python语言内部，迭代器用于支持：\n",
    "\n",
    "*  for 循环\n",
    "* 构建和扩展集合类型\n",
    "* 逐行遍历文本文件\n",
    "* 列表推导，字典推导，集合推导\n",
    "* 元组拆包\n",
    "* 调用函数时，使用*拆包实参"
   ]
  },
  {
   "cell_type": "markdown",
   "metadata": {},
   "source": [
    "直接作用于for循环的数据类型有以下几种：\n",
    "* 一类是集合数据类型，如list、tuple、dict、set、str等；\n",
    "* 一类是generator，包括生成器和带yield的generator function。\n",
    "\n",
    "可以直接作用于for循环的对象统称为**可迭代对象：Iterable**。\n",
    "\n",
    "可以被next()函数调用并不断返回下一个值的对象称为迭代器：Iterator\n",
    "\n",
    "可以使用isinstance()判断一个对象是否是Iterable对象\n",
    "\n",
    "可以使用isinstance()判断一个对象是否是Iterator对象\n",
    "\n",
    "生成器都是Iterator对象，但list、dict、str虽然是Iterable，却不是Iterator。\n",
    "\n",
    "把list、dict、str等Iterable变成Iterator可以使用iter()函数："
   ]
  },
  {
   "cell_type": "code",
   "execution_count": null,
   "metadata": {},
   "outputs": [],
   "source": [
    "from collections import Iterable, Iterator\n",
    "\n",
    "isinstance([], Iterable)\n",
    "\n",
    "isinstance({}, Iterable)\n",
    "\n",
    "isinstance('abc', Iterable)\n",
    "\n",
    "isinstance((x for x in range(10)), Iterable)\n",
    "\n",
    "isinstance((x for x in range(10)), Iterator)\n",
    "\n",
    "isinstance([], Iterator)\n",
    "\n",
    "isinstance({}, Iterator)\n",
    "\n",
    "isinstance('abc', Iterator)\n",
    "\n",
    "isinstance(iter([]), Iterator)\n",
    "\n",
    "isinstance(iter('abc'), Iterator)\n"
   ]
  },
  {
   "cell_type": "markdown",
   "metadata": {},
   "source": [
    "### 为什么list、dict、str等数据类型不是Iterator？"
   ]
  },
  {
   "cell_type": "markdown",
   "metadata": {},
   "source": [
    "这是因为Python的Iterator对象表示的是一个数据流，Iterator对象可以被next()函数调用并不断返回下一个数据，直到没有数据时抛出StopIteration错误。可以把这个数据流看做是一个有序序列，但我们却不能提前知道序列的长度，只能不断通过next()函数实现按需计算下一个数据，所以Iterator的计算是惰性的，只有在需要返回下一个数据时它才会计算。\n",
    "\n",
    "Iterator甚至可以表示一个无限大的数据流，例如全体自然数。而使用list是永远不可能存储全体自然数的。\n",
    "\n",
    "凡是可作用于for循环的对象都是Iterable类型；\n",
    "\n",
    "凡是可作用于next()函数的对象都是Iterator类型，它们表示一个惰性计算的序列；\n",
    "\n",
    "集合数据类型如list、dict、str等是Iterable但不是Iterator，不过可以通过iter()函数获得一个Iterator对象。"
   ]
  },
  {
   "cell_type": "markdown",
   "metadata": {},
   "source": [
    "### 生成器执行时间的差异"
   ]
  },
  {
   "cell_type": "code",
   "execution_count": 1,
   "metadata": {},
   "outputs": [
    {
     "name": "stdout",
     "output_type": "stream",
     "text": [
      "[8]\n",
      "[1, 8, 15]\n"
     ]
    }
   ],
   "source": [
    "array = [1, 8, 15]\n",
    "\n",
    "g = (x for x in array if array.count(x)>0)\n",
    "gg = (x for x in array)\n",
    "# print(list(g))\n",
    "array = [2, 8, 22]\n",
    "print(list(g))\n",
    "print(list(gg))"
   ]
  },
  {
   "cell_type": "markdown",
   "metadata": {},
   "source": [
    "在一个生成器表达式里，in的操作是在声明时求值的，而if是在运行期求值的\n",
    "\n",
    "在运行期之前，array已经被重新分配成了[2,8,22],而在生成器的for循环中取的值仍然是[1, 8, 15],\n",
    "\n",
    "但是在if判断x的值是从[1, 8, 15]中取值在[2，8，22]中进行判断的."
   ]
  }
 ],
 "metadata": {
  "kernelspec": {
   "display_name": "Python 3",
   "language": "python",
   "name": "python3"
  },
  "language_info": {
   "codemirror_mode": {
    "name": "ipython",
    "version": 3
   },
   "file_extension": ".py",
   "mimetype": "text/x-python",
   "name": "python",
   "nbconvert_exporter": "python",
   "pygments_lexer": "ipython3",
   "version": "3.6.4"
  }
 },
 "nbformat": 4,
 "nbformat_minor": 2
}
