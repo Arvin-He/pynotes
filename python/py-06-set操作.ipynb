{
 "cells": [
  {
   "cell_type": "markdown",
   "metadata": {},
   "source": [
    "# set基本操作"
   ]
  },
  {
   "cell_type": "markdown",
   "metadata": {},
   "source": [
    "set是包含一组无序的对象的集合。与列表和元组不同，集合是无序的，也无法通过数字进行索引。集合中的元素不能重复。\n",
    "\n",
    "set不记录元素位置或者插入点, 不支持 indexing, slicing, 或其它类序列（sequence-like）的操作。\n",
    "\n",
    "set特性:\n",
    "* set元素不可重复，也就是说集合是天生去重的\n",
    "* set元素为不可变对象, 且必须可hash\n",
    "* set元素是无序的, 没有先后之分"
   ]
  },
  {
   "cell_type": "markdown",
   "metadata": {},
   "source": [
    "## 基本操作"
   ]
  },
  {
   "cell_type": "markdown",
   "metadata": {},
   "source": [
    "### 创建集合"
   ]
  },
  {
   "cell_type": "code",
   "execution_count": 11,
   "metadata": {},
   "outputs": [
    {
     "name": "stdout",
     "output_type": "stream",
     "text": [
      "{1, 2, 3}\n",
      "{1, 2, 3}\n"
     ]
    }
   ],
   "source": [
    "a = set([1, 2, 3])\n",
    "print(a)\n",
    "\n",
    "b = a.copy()\n",
    "print(b)"
   ]
  },
  {
   "cell_type": "markdown",
   "metadata": {},
   "source": [
    "### 集合转换"
   ]
  },
  {
   "cell_type": "code",
   "execution_count": 4,
   "metadata": {},
   "outputs": [
    {
     "name": "stdout",
     "output_type": "stream",
     "text": [
      "{0, 1, 2, 3, 4, 5} <class 'set'>\n",
      "[0, 1, 2, 3, 4, 5] <class 'list'>\n",
      "(0, 1, 2, 3, 4, 5) <class 'tuple'>\n",
      "{0, 1, 2, 3, 4, 5}\n",
      "{1, 2, 3}\n"
     ]
    }
   ],
   "source": [
    "se = set(range(6))\n",
    "print(se, type(se))\n",
    "li = list(se)\n",
    "print(li, type(li))\n",
    "tu = tuple(se)\n",
    "print(tu, type(tu))\n",
    "\n",
    "se = set(list(range(6)))\n",
    "print(se)\n",
    "se = set(tuple([1,2,1,3, 2]))\n",
    "print(se)"
   ]
  },
  {
   "cell_type": "markdown",
   "metadata": {},
   "source": [
    "### 添加一项和添加多项(更新)"
   ]
  },
  {
   "cell_type": "code",
   "execution_count": 3,
   "metadata": {},
   "outputs": [
    {
     "name": "stdout",
     "output_type": "stream",
     "text": [
      "{1, 2, 3, 4}\n",
      "{1, 2, 3, 4, 5, 6}\n"
     ]
    }
   ],
   "source": [
    "a = set([1,2, 3])\n",
    "\n",
    "a.add(4)\n",
    "print(a)\n",
    "\n",
    "a.update([4, 5, 6])\n",
    "print(a)"
   ]
  },
  {
   "cell_type": "markdown",
   "metadata": {},
   "source": [
    "### 删除元素"
   ]
  },
  {
   "cell_type": "code",
   "execution_count": 17,
   "metadata": {},
   "outputs": [
    {
     "name": "stdout",
     "output_type": "stream",
     "text": [
      "{1, 2, 3, 4, 5, 6, 7, 8, 9}\n",
      "{1, 2, 3, 4, 6, 7, 8, 9}\n",
      "{1, 2, 3, 4, 6, 7, 8, 9}\n",
      "{2, 3, 4, 6, 7, 8, 9}\n",
      "set()\n"
     ]
    }
   ],
   "source": [
    "a = set([i for i in range(1, 10)])\n",
    "print(a)\n",
    "\n",
    "# 删除指定元素, 如果不存在则引发 KeyError\n",
    "a.remove(5)\n",
    "print(a)\n",
    "\n",
    "# 如果在set中存在元素 x, 则删除,如果不存在就什么也不做,不会引发KeyError\n",
    "a.discard(0)\n",
    "print(a)\n",
    "\n",
    "# 删除并且返回 set中的一个不确定的元素, 如果集合为空则引发 KeyError\n",
    "a.pop()\n",
    "print(a)\n",
    "\n",
    "# 删除set中的所有元素\n",
    "a.clear()\n",
    "print(a)"
   ]
  },
  {
   "cell_type": "markdown",
   "metadata": {},
   "source": [
    "### 集合元素判断"
   ]
  },
  {
   "cell_type": "code",
   "execution_count": 16,
   "metadata": {},
   "outputs": [
    {
     "name": "stdout",
     "output_type": "stream",
     "text": [
      "{1, 2, 3, 4, 5}\n",
      "{1, 2, 3, 4, 5, 6, 7, 8, 9}\n",
      "True\n",
      "False\n",
      "5\n",
      "True\n"
     ]
    }
   ],
   "source": [
    "a = set([i for i in range(1, 6)])\n",
    "print(a)\n",
    "\n",
    "b = set([i for i in range(1, 10)])\n",
    "print(b)\n",
    "\n",
    "# 测试是否 s 中的每一个元素都在 t 中\n",
    "print(a.issubset(b))\n",
    "\n",
    "# 测试是否 t 中的每一个元素都在 s 中\n",
    "print(a.issuperset(b))\n",
    "\n",
    "# 返回集合的元素个数\n",
    "print(len(a))\n",
    "\n",
    "# 判x断x是否在s集合中\n",
    "print(5 in a)"
   ]
  },
  {
   "cell_type": "markdown",
   "metadata": {},
   "source": [
    "### 求集合的交,并,差和对称差集"
   ]
  },
  {
   "cell_type": "markdown",
   "metadata": {},
   "source": [
    "求集合的交,并,差和对称差集有2种方式:\n",
    "1. 使用函数(非运算符): union(), intersection(), difference() 和 symmetric_difference()\n",
    "2. 使用运算符: |, &, -, ^\n",
    "\n",
    "注意: \n",
    "* 函数接受任何 iterable 作为参数。\n",
    "* 运算符（operator based counterparts）要求参数必须是 set."
   ]
  },
  {
   "cell_type": "code",
   "execution_count": 1,
   "metadata": {},
   "outputs": [
    {
     "name": "stdout",
     "output_type": "stream",
     "text": [
      "t 和 s的并集\n",
      "{1, 3, 5, 7, 9, 10, 11, 12, 13}\n",
      "t 和 s的交集\n",
      "{1, 3, 5, 7, 9}\n",
      "求差集（项在t中，但不在s中）\n",
      "{11, 13}\n",
      "对称差集（项在t或s中，但不会同时出现在二者中）\n",
      "{10, 11, 12, 13}\n"
     ]
    }
   ],
   "source": [
    "t = set([1, 3, 5, 7 , 9, 11, 13])\n",
    "s = set([1, 3, 5, 7 , 9, 10, 12])\n",
    "print('t 和 s的并集')\n",
    "a = t | s\n",
    "print(a)\n",
    "print('t 和 s的交集')\n",
    "b = t & s\n",
    "print(b)\n",
    "print('求差集（项在t中，但不在s中）')\n",
    "c = t - s\n",
    "print(c)\n",
    "print('对称差集（项在t或s中，但不会同时出现在二者中）')\n",
    "d = t ^ s\n",
    "print(d)"
   ]
  },
  {
   "cell_type": "code",
   "execution_count": 19,
   "metadata": {},
   "outputs": [
    {
     "name": "stdout",
     "output_type": "stream",
     "text": [
      "t 和 s的并集\n",
      "{1, 3, 5, 7, 9, 10, 11, 12, 13}\n",
      "t 和 s的交集\n",
      "{1, 3, 5, 7, 9}\n",
      "求差集（项在s中，但不在t中）\n",
      "{10, 12}\n",
      "对称差集（项在t或s中，但不会同时出现在二者中）\n",
      "{10, 11, 12, 13}\n"
     ]
    }
   ],
   "source": [
    "t = set([1, 3, 5, 7 , 9, 11, 13])\n",
    "s = set([1, 3, 5, 7 , 9, 10, 12])\n",
    "\n",
    "print('t 和 s的并集')\n",
    "a = s.union(t)\n",
    "print(a)\n",
    "\n",
    "print('t 和 s的交集')\n",
    "b = s.intersection(t)\n",
    "print(b)\n",
    "\n",
    "print('求差集（项在s中，但不在t中）')\n",
    "c = s.difference(t)\n",
    "print(c)\n",
    "\n",
    "print('对称差集（项在t或s中，但不会同时出现在二者中）')\n",
    "d = s.symmetric_difference(t)\n",
    "print(d)\n"
   ]
  }
 ],
 "metadata": {
  "kernelspec": {
   "display_name": "Python 3",
   "language": "python",
   "name": "python3"
  },
  "language_info": {
   "codemirror_mode": {
    "name": "ipython",
    "version": 3
   },
   "file_extension": ".py",
   "mimetype": "text/x-python",
   "name": "python",
   "nbconvert_exporter": "python",
   "pygments_lexer": "ipython3",
   "version": "3.6.4"
  }
 },
 "nbformat": 4,
 "nbformat_minor": 2
}
