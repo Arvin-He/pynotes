{
 "cells": [
  {
   "cell_type": "markdown",
   "metadata": {},
   "source": [
    "# python实现HTML生成PDF"
   ]
  },
  {
   "cell_type": "markdown",
   "metadata": {},
   "source": [
    "### 生成pdf报告需求"
   ]
  },
  {
   "cell_type": "markdown",
   "metadata": {},
   "source": [
    "1. 动态生成html\n",
    "2. 生成的html字符串转pdf文件\n",
    "3. 报告具有封面,封底,目录,书签"
   ]
  },
  {
   "cell_type": "markdown",
   "metadata": {},
   "source": [
    "## 安装依赖"
   ]
  },
  {
   "cell_type": "markdown",
   "metadata": {},
   "source": [
    "下载并系统安装：wkhtmltopdf, 链接：https://wkhtmltopdf.org/index.html,\n",
    "\n",
    "注意: python 64位的对应wkhtmltopdf 64位版本.\n",
    "\n",
    "总共需要安装：\n",
    "\n",
    "1. pdfkit\n",
    "2. wkhtmltopdf(python包)\n",
    "3. wkhtmltopdf(windows安装包)以及路径配置 \n",
    "\n",
    "流程: 程序会使用pdfkit，pdfkit会调用wkhtmltopdf，而wkhtmltopdf会调用windows中的wkhtmltopdf.exe来转化html为pdf。"
   ]
  },
  {
   "cell_type": "markdown",
   "metadata": {},
   "source": [
    "### windows"
   ]
  },
  {
   "cell_type": "markdown",
   "metadata": {},
   "source": [
    "将wkhtmltopdf的bin目录添加至path环境变量，注意：重启生效。命令行输入："
   ]
  },
  {
   "cell_type": "code",
   "execution_count": null,
   "metadata": {},
   "outputs": [],
   "source": [
    "SETX PATH \"%PATH%;C:\\\\Program Files\\\\wkhtmltopdf\\\\bin\" /M"
   ]
  },
  {
   "cell_type": "markdown",
   "metadata": {},
   "source": [
    "临时导入环境变量，命令行输入："
   ]
  },
  {
   "cell_type": "code",
   "execution_count": null,
   "metadata": {},
   "outputs": [],
   "source": [
    "set PATH=C:\\Program Files\\wkhtmltopdf\\bin;%PATH%"
   ]
  },
  {
   "cell_type": "markdown",
   "metadata": {},
   "source": [
    "### Linux"
   ]
  },
  {
   "cell_type": "code",
   "execution_count": null,
   "metadata": {},
   "outputs": [],
   "source": [
    "sudo apt-get install wkhtmltopdf"
   ]
  },
  {
   "cell_type": "markdown",
   "metadata": {},
   "source": [
    "### 安装python第三方库："
   ]
  },
  {
   "cell_type": "code",
   "execution_count": null,
   "metadata": {},
   "outputs": [],
   "source": [
    "pip install pdfkit\n",
    "pip install wkhtmltopdf"
   ]
  },
  {
   "cell_type": "markdown",
   "metadata": {},
   "source": [
    "### pdfkit生成PDF的一些缺陷"
   ]
  },
  {
   "cell_type": "markdown",
   "metadata": {},
   "source": [
    "1. 只能生成封面,不能生成封底\n",
    "2. 目录生成在最后,在正文的后面,而不是正文的前面\n",
    "3. 生成正文,目录和封面后都会产生一个空白页\n",
    "4. 封面只能是html文件,不支持字符串的html\n",
    "5. 在css中设置了page的大小为A4的大小,实际生成的封面要小一些,不知为何\n",
    "6. 生成封面和封底会产生部分margin,通过生成html,在chrome控制台观测元素发现body默认带有8px的margin,在css中设置body的margin为0即可解决"
   ]
  },
  {
   "cell_type": "markdown",
   "metadata": {},
   "source": [
    "## 生成HTML"
   ]
  },
  {
   "cell_type": "markdown",
   "metadata": {},
   "source": [
    "安装jinja2，并使用jinja2动态生成HTML模版 "
   ]
  },
  {
   "cell_type": "code",
   "execution_count": null,
   "metadata": {},
   "outputs": [],
   "source": [
    "pip install jinja2"
   ]
  },
  {
   "cell_type": "markdown",
   "metadata": {},
   "source": [
    "构造HTML模版，这个根据具体需求并参考jinja2构建模版方法，自行构建。"
   ]
  },
  {
   "cell_type": "markdown",
   "metadata": {},
   "source": [
    "### html转pdf过程中遇到的若干问题"
   ]
  },
  {
   "cell_type": "markdown",
   "metadata": {},
   "source": [
    "### 1. 封面要动态生成,而pdfkit不支持html字符串,必须是html文件"
   ]
  },
  {
   "cell_type": "markdown",
   "metadata": {},
   "source": [
    "由于wkhtmltopdf要求封面和目录单独指定选项,且封面选项是一个封面的html文件路径,这就导致无法生成动态封面\n",
    "\n",
    "解决方法:\n",
    "1. 动态生成封面的字符串写入到html文件中,然后再指定这个封面html文件路径到封面选项\n",
    "2. 封面单独作为一个pdf生成\n",
    "\n",
    "由于wkhtmltopdf不能生成封底,(没有这个选项),因此选择各自生成单独生成封面和封底的pdf,然后再组装成一个pdf"
   ]
  },
  {
   "cell_type": "markdown",
   "metadata": {},
   "source": [
    "### 2. 单独生成封面封底的pdf出现空白的margin"
   ]
  },
  {
   "cell_type": "markdown",
   "metadata": {},
   "source": [
    "这毫无疑问肯定是样式导致的margin, 将动态生成的封面和封底的html字符串写入到html文件中,然后在chrome浏览器中打开,排查发现html中body标签含有8px的margin\n",
    "\n",
    "解决方法: 在css中设置body样式的margin为0, 注意: css的语法形式\n",
    "\n",
    "```\n",
    "body {\n",
    "    margin: 0 0 0 0;\n",
    "    color: #333333;\n",
    "    font: 16px/1.5 BlinkMacSystemFont, \"Segoe UI\", Roboto, \"Helvetica Neue\", Helvetica, \"PingFang SC\", \"Hiragino Sans GB\", \"Microsoft YaHei\", SimSun, sans-serif;\n",
    "}\n",
    "```"
   ]
  },
  {
   "cell_type": "markdown",
   "metadata": {},
   "source": [
    "### 3.生成的目录在正文后面"
   ]
  },
  {
   "cell_type": "markdown",
   "metadata": {},
   "source": [
    "使用pdfkit生成的pdf后发现目录在正文后面,这不知道是wkhtmltopdf工具的问题还是pdfkit的问题\n",
    "\n",
    "解决办法: 使用pypdf2这个库,对生成的pdf进行分割然后和封面和封底一起合并\n",
    "\n",
    "**注意:** 使用pypdf2这个库分割合并pdf后,会导致原来pdf的标签和链接(link)全部失效"
   ]
  },
  {
   "cell_type": "markdown",
   "metadata": {},
   "source": [
    "### 4. 生成pdf分页问题"
   ]
  },
  {
   "cell_type": "markdown",
   "metadata": {},
   "source": [
    "html生成pdf后发现pdf页面错乱\n",
    "\n",
    "解决办法: 在css设置分页属性对html设置分页,在css样式中需要分页的标签设置:`page-break-inside: avoid !important;`属性,则在html转pdf时在超过一页的内容的地方自动转到下一页上去.\n",
    "\n",
    "```\n",
    "table, tr, td, th, tbody, thead, tfoot {\n",
    "    page-break-inside: avoid !important;\n",
    "}\n",
    "\n",
    "div {\n",
    "    page-break-inside: avoid !important;\n",
    "}\n",
    "```"
   ]
  },
  {
   "cell_type": "markdown",
   "metadata": {},
   "source": [
    "### 5. 书签重新生成"
   ]
  },
  {
   "cell_type": "markdown",
   "metadata": {},
   "source": [
    "由于使用pypdf2分割合并pdf后,原始pdf的书签和链接全部丢失了\n",
    "\n",
    "解决办法: 使用pypdf2重新生成书签,包括二级,三级书签的生成\n",
    "\n",
    "设置wkhtmltopdf的`dump-outline`选项,在html转pdf时生成outline.html到一个指定路径中去,生成的outline.html是一个xml文件,然后通过beautifulsoup库读取这个outline.html文件,将outline结构解析出来,用来生成多级书签\n",
    "```\n",
    "'dump-outline': os.path.join(STATIC_PATH, 'outline.html'),\n",
    "```"
   ]
  },
  {
   "cell_type": "markdown",
   "metadata": {},
   "source": [
    "### 6. 如何使用pypdf2生成多级书签"
   ]
  },
  {
   "cell_type": "markdown",
   "metadata": {},
   "source": [
    "pypdf2中没有关于生成多级书签的说明,可能是我在官方文档中没有找到,后来在github看到了一个人用pypdf2生成了多级标签,源码如下:\n",
    "```\n",
    "def addBookmarks(pdf_in_filename, bookmarks_tree, pdf_out_filename=None):\n",
    "    \"\"\"Add bookmarks to existing PDF files\n",
    "    Home:\n",
    "        https://github.com/RussellLuo/pdfbookmarker\n",
    "    Some useful references:\n",
    "        [1] http://pybrary.net/pyPdf/\n",
    "        [2] http://stackoverflow.com/questions/18855907/adding-bookmarks-using-pypdf2\n",
    "        [3] http://stackoverflow.com/questions/3009935/looking-for-a-good-python-tree-data-structure\n",
    "    \"\"\"\n",
    "    pdf_out = PdfFileMerger()\n",
    "\n",
    "    # read `pdf_in` into `pdf_out`, using PyPDF2.PdfFileMerger()\n",
    "    with open(pdf_in_filename, 'rb') as inputStream:\n",
    "        pdf_out.append(inputStream, import_bookmarks=False)\n",
    "\n",
    "    # copy/preserve existing metainfo\n",
    "    pdf_in = PdfFileReader(pdf_in_filename)\n",
    "    metaInfo = pdf_in.getDocumentInfo()\n",
    "    if metaInfo:\n",
    "        pdf_out.addMetadata(metaInfo)\n",
    "\n",
    "    def crawl_tree(tree, parent):\n",
    "        for title, pagenum, subtree in tree:\n",
    "            current = pdf_out.addBookmark(title, pagenum, parent)  # add parent bookmark\n",
    "            if subtree:\n",
    "                crawl_tree(subtree, current)\n",
    "\n",
    "    # add bookmarks into `pdf_out` by crawling `bookmarks_tree`\n",
    "    crawl_tree(bookmarks_tree, None)\n",
    "\n",
    "    # get `pdf_out_filename` if it's not specified\n",
    "    if not pdf_out_filename:\n",
    "        name_parts = os.path.splitext(pdf_in_filename)\n",
    "        pdf_out_filename = name_parts[0] + '-new' + name_parts[1]\n",
    "\n",
    "    # wrie `pdf_out`\n",
    "    with open(pdf_out_filename, 'wb') as outputStream:\n",
    "        pdf_out.write(outputStream)\n",
    "\n",
    "```  \n",
    "`addBookmark`第3个参数parent接受一个父书签对象,默认为None,即根书签\n",
    "原来`addBookmark`函数会返回一个当前的书签对象,如果想要设置当前书签的自书签,则以当前书签作为parent传入`addBookmark`的第三个参数,\n",
    "\n",
    "更好的方法(这里只生成两级书签):\n",
    "```\n",
    "import os\n",
    "from app.constants import STATIC_PATH\n",
    "from PyPDF2 import PdfFileWriter, PdfFileReader\n",
    "\n",
    "\n",
    "class Pdf(object):\n",
    "    def __init__(self, path):\n",
    "        self.path = path\n",
    "        self.reader = PdfFileReader(open(path, \"rb\"))\n",
    "        self.writer = PdfFileWriter()\n",
    "        self.writer.appendPagesFromReader(self.reader)\n",
    "        self.writer.addMetadata(self.reader.getDocumentInfo())\n",
    "\n",
    "    @property\n",
    "    def new_path(self):\n",
    "        name, ext = os.path.splitext(self.path)\n",
    "        return name + '_new' + ext\n",
    "\n",
    "    def add_bookmark(self, title, pagenum, parent=None):\n",
    "        return self.writer.addBookmark(title, pagenum, parent=parent)\n",
    "\n",
    "    def save_pdf(self):\n",
    "        print(self.new_path)\n",
    "        with open(self.new_path, 'wb') as out:\n",
    "            self.writer.write(out)\n",
    "\n",
    "if __name__ == '__main__':\n",
    "    pdf_path = os.path.join(STATIC_PATH, 'report.pdf')\n",
    "    pdf = Pdf(pdf_path)\n",
    "    bookmarks = [{'title': 'cover', 'num': 1, 'parent': None},\n",
    "                 {'title': '一、检测报告', 'num': 2, 'parent': None},\n",
    "                 {'title': '二、监控列表', 'num': 3, 'parent': None},\n",
    "                 {'title': '1、监控统计', 'num': 4, 'parent': 3},\n",
    "                 {'title': '2、监控列表', 'num': 5, 'parent': 3},\n",
    "                 {'title': '三、事件报告', 'num': 10, 'parent': None},\n",
    "                 {'title': '1、用户异常登录', 'num': 12, 'parent': 10},\n",
    "                 {'title': '2、Webshell查杀', 'num': 15, 'parent': 10},\n",
    "                 {'title': '3、关键文件改动', 'num': 22, 'parent': 10},\n",
    "                 {'title': '4、恶意进程告警', 'num': 29, 'parent': 10},\n",
    "                 {'title': '5、反弹Shell检测', 'num': 200, 'parent': 10},\n",
    "                 {'title': '6、可疑连接', 'num': 210, 'parent': 10},\n",
    "                 {'title': '四、漏洞报告', 'num': 212, 'parent': None},\n",
    "                 {'title': '五、安全基线', 'num': 220, 'parent': None}]\n",
    "    current = None\n",
    "    for item in bookmarks:\n",
    "        if item['parent'] is None:\n",
    "            current = pdf.add_bookmark(item['title'], item['num'], parent=None)\n",
    "        else:\n",
    "            pdf.add_bookmark(item['title'], item['num'], parent=current)\n",
    "    pdf.save_pdf()\n",
    "```    "
   ]
  },
  {
   "cell_type": "markdown",
   "metadata": {},
   "source": [
    "### 7. 如何创建目录链接(link)"
   ]
  },
  {
   "cell_type": "markdown",
   "metadata": {},
   "source": [
    "暂未解决"
   ]
  },
  {
   "cell_type": "markdown",
   "metadata": {},
   "source": [
    "### python中对应参数设置"
   ]
  },
  {
   "cell_type": "markdown",
   "metadata": {},
   "source": [
    "* 在python中所有参数移除选项名字前面的 '--' ;\n",
    "* 如果选项没有值, 使用None, False 或 ''(空字符) 作为选项的值\n",
    "* 对于多种选择, 在多个值的时候你可能会用到列表或者元组进行存储 (列入自定义头文件授权信息) 你需要两个元组存放 (看看以下例子).\n",
    "```\n",
    "'custom-header' : [\n",
    "        ('Accept-Encoding', 'gzip')\n",
    "    ]\n",
    "'cookie': [\n",
    "    ('cookie-name1', 'cookie-value1'),\n",
    "    ('cookie-name2', 'cookie-value2'),\n",
    "]\n",
    "```\n",
    "* 默认情况下, PDFKit 将会显示所有的 wkhtmltopdf 输出. 如果不想看到这些信息，你需要传递一个 quiet 选项: `quiet: ''`\n",
    "* 由于wkhtmltopdf的命令语法 , TOC 和 Cover 选项必须分开指定:\n",
    "\n",
    "```\n",
    "toc = {\n",
    " 'xsl-style-sheet': 'toc.xsl'\n",
    " } \n",
    "cover = 'cover.html' \n",
    "pdfkit.from_file('file.html', options=options, toc=toc, cover=cover)\n",
    "```\n",
    "\n",
    "* 当我们转换文件、或字符串的时候，可以通过css选项指定扩展的 CSS 文件。\n",
    "\n",
    "```\n",
    "# 单个 CSS 文件 \n",
    "css = 'example.css' \n",
    "pdfkit.from_file('file.html', options=options, css=css) \n",
    "# 多个 CSS files \n",
    "css = ['example.css', 'example2.css'] \n",
    "pdfkit.from_file('file.html', options=options, css=css)\n",
    "\n",
    "```\n",
    "\n",
    "* 通过HTML中的meta tags传递任意选项：\n",
    "\n",
    "```\n",
    "body = \"\"\"\n",
    "        <html>\n",
    "          <head>\n",
    "            <meta name=\"pdfkit-page-size\" content=\"Legal\"/>\n",
    "            <meta name=\"pdfkit-orientation\" content=\"Landscape\"/>\n",
    "          </head>\n",
    "          Hello World!\n",
    "          </html>\n",
    "        \"\"\" \n",
    "#with --page-size=Legal and --orientation=Landscape\n",
    "pdfkit.from_string(body, 'out.pdf') \n",
    "\n",
    "```"
   ]
  },
  {
   "cell_type": "markdown",
   "metadata": {},
   "source": [
    "### 经常使用的wkhtmltopdf的选项"
   ]
  },
  {
   "cell_type": "markdown",
   "metadata": {},
   "source": [
    "```\n",
    "# COVER_OPTIONS\n",
    "COVER_OPTIONS = {\n",
    "    'quiet': '',\n",
    "    'page-size': 'A4',\n",
    "    'margin-top': '0in',\n",
    "    'margin-right': '0in',\n",
    "    'margin-bottom': '0in',\n",
    "    'margin-left': '0in',\n",
    "    'encoding': 'UTF-8'\n",
    "}\n",
    "# page options\n",
    "PAGE_OPTIONS = {\n",
    "    'quiet': '',\n",
    "    'page-size': 'A4',\n",
    "    'dump-outline': os.path.join(STATIC_PATH, 'outline.html'),\n",
    "    # 'no-outline': None,\n",
    "    'margin-top': '1.0in',\n",
    "    'margin-bottom': '1.0in',\n",
    "    'margin-left': '0.75in',\n",
    "    'margin-right': '0.75in',\n",
    "\n",
    "    'encoding': 'UTF-8',\n",
    "    'header-line': '-',\n",
    "    'header-font-size': 10,\n",
    "    'header-spacing': 5,\n",
    "    'header-left': 'Life is short',\n",
    "    'header-right': 'You need python!',\n",
    "    'footer-spacing': 5,\n",
    "    'footer-center': \"[page] / [toPage]\",\n",
    "    'footer-line': '-'\n",
    "}\n",
    "# table of content\n",
    "TOC = {\n",
    "    'toc-header-text': '目 录',\n",
    "    # 第级标题在目录中的缩进宽度(默认为1em)\n",
    "    'toc-level-indentation': '0.5in',\n",
    "}\n",
    "```"
   ]
  },
  {
   "cell_type": "markdown",
   "metadata": {},
   "source": [
    "## 使用python动态生成HTML"
   ]
  },
  {
   "cell_type": "markdown",
   "metadata": {},
   "source": [
    "当生成一个具有格式要求的报告时,且报告的内容是动态变化的,该如何生成这个动态内容的报告呢\n",
    "\n",
    "报告内容是动态变化的,但是报告的格式是固定的,因此选择生成html报告是一个非常合适的选择:\n",
    "* html做报告格式的骨架\n",
    "* CSS做报告各种样式要求的设置\n",
    "\n",
    "剩下的问题就是怎么组织这个html骨架模板了,自然而然就想到著名的jiaja2库,可以将html分层有组织的组合在一起.\n",
    "\n",
    "下面展示一个html组织架构"
   ]
  },
  {
   "cell_type": "markdown",
   "metadata": {},
   "source": [
    "```html\n",
    "<!DOCTYPE html>\n",
    "<html>\n",
    "\n",
    "<head>\n",
    "    <meta charset=\"utf-8\" />\n",
    "    <meta http-equiv=\"X-UA-Compatible\" content=\"IE=edge\">\n",
    "    <title>检测报告</title>\n",
    "    <meta name=\"viewport\" content=\"width=device-width, initial-scale=1\">\n",
    "    <link rel=\"stylesheet\" href={{ CSS }}>\n",
    "    <!-- <link rel=\"stylesheet\" type=\"text/css\" media=\"screen\" href={{ css_path }} /> -->\n",
    "</head>\n",
    "\n",
    "<body>\n",
    "    <!-- 报告主要内容 begin -->\n",
    "    <div class=\"report-container\">\n",
    "        <div class=\"report-content\">\n",
    "            <div class=\"per-data\">\n",
    "                {% include 'seg1.html' %}\n",
    "            </div>\n",
    "            <div class=\"per-data\">\n",
    "                {% include 'seg2.html' %}\n",
    "            </div>\n",
    "            <div class=\"per-data\">\n",
    "                {% include 'seg3.html' %}\n",
    "            </div>\n",
    "            <div class=\"per-data\">\n",
    "                {% include 'seg4.html' %}\n",
    "            </div>\n",
    "            <div class=\"per-data\">\n",
    "                {% include 'seg5.html' %}\n",
    "            </div>\n",
    "        </div>\n",
    "    </div>\n",
    "    <!-- 报告主要内容 end -->\n",
    "</body>\n",
    "</html>\n",
    "\n",
    "```"
   ]
  },
  {
   "cell_type": "markdown",
   "metadata": {},
   "source": [
    "### 遇到的一些问题"
   ]
  },
  {
   "cell_type": "markdown",
   "metadata": {},
   "source": [
    "#### 关于no such file or directory:b'' 这种错误"
   ]
  },
  {
   "cell_type": "markdown",
   "metadata": {},
   "source": [
    "1. 在python中出现时，意味着有.exe文件需要被调用，而该.exe文件没有被安装或者在环境变量中没有添加该.exe的路径。\n",
    "2. 有时候需要改pdfkit代码为下列两句，才可消除错误："
   ]
  },
  {
   "cell_type": "code",
   "execution_count": null,
   "metadata": {},
   "outputs": [],
   "source": [
    "config=pdfkit.configuration(wkhtmltopdf=r\"C:\\Program File\\wkhtmltopdf\\bin\\wkhtmltopdf.exe\")\n",
    "pdfkit.from_url(url, name,configuration=config)"
   ]
  },
  {
   "cell_type": "markdown",
   "metadata": {},
   "source": [
    "### 用浏览器打开jinja2模版"
   ]
  },
  {
   "cell_type": "code",
   "execution_count": null,
   "metadata": {},
   "outputs": [],
   "source": [
    "import os\n",
    "import logging\n",
    "import webbrowser\n",
    "from jinja2 import Environment\n",
    "from jinja2 import FileSystemLoader\n",
    "from jinja2 import select_autoescape\n",
    "from traceback import format_exc\n",
    "\n",
    "\n",
    "from app.logger import create_logger\n",
    "\n",
    "templates_path = 'app/templates'\n",
    "env = Environment(loader=FileSystemLoader(templates_path),\n",
    "                  autoescape=select_autoescape(['html', 'xml']))\n",
    "\n",
    "print(env.list_templates())\n",
    "\n",
    "\n",
    "def get_report_html(template_name):\n",
    "    try:\n",
    "        if template_name in env.list_templates():\n",
    "            template = env.get_template(template_name)\n",
    "            css_path = os.path.abspath('app/static/css/style.css')\n",
    "            html = template.render({'css_path': css_path})\n",
    "            return html\n",
    "        else:\n",
    "            logging.error('there is no {} template existed'.format(template_name))\n",
    "    except Exception as e:\n",
    "        logging.error(format_exc())\n",
    "\n",
    "\n",
    "def open_webbrowser(html):\n",
    "    try:\n",
    "        with open('dst.html', 'w', encoding='utf-8') as f:\n",
    "            f.write(html)\n",
    "\n",
    "        html_url = 'file:///{}'.format(os.path.abspath('dst.html'))\n",
    "        webbrowser.open(html_url)\n",
    "    except Exception as e:\n",
    "        logging.error(e)\n",
    "\n",
    "\n",
    "if __name__ == '__main__':\n",
    "    create_logger(log_name='rendtemplate.log')\n",
    "    template_name = 'reportmain.html'\n",
    "    html = get_report_html(template_name)\n",
    "    open_webbrowser(html)"
   ]
  }
 ],
 "metadata": {
  "kernelspec": {
   "display_name": "Python 3",
   "language": "python",
   "name": "python3"
  },
  "language_info": {
   "codemirror_mode": {
    "name": "ipython",
    "version": 3
   },
   "file_extension": ".py",
   "mimetype": "text/x-python",
   "name": "python",
   "nbconvert_exporter": "python",
   "pygments_lexer": "ipython3",
   "version": "3.6.4"
  }
 },
 "nbformat": 4,
 "nbformat_minor": 2
}
