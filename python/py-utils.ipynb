{
 "cells": [
  {
   "cell_type": "markdown",
   "metadata": {},
   "source": [
    "# 一些工具函数"
   ]
  },
  {
   "cell_type": "markdown",
   "metadata": {},
   "source": [
    "### 使用 Unix Shell 中常用的通配符 (比如 *.py , Dat[0-9]*.csv 等) 去匹配文本字符串"
   ]
  },
  {
   "cell_type": "code",
   "execution_count": 2,
   "metadata": {},
   "outputs": [
    {
     "name": "stdout",
     "output_type": "stream",
     "text": [
      "True\n"
     ]
    }
   ],
   "source": [
    "from fnmatch import fnmatch\n",
    "    \n",
    "allowed_domains = ['*.baidu.com']\n",
    "\n",
    "def match_domains(domain):\n",
    "    global allowed_domains\n",
    "    for item in allowed_domains:\n",
    "        if domain == item:\n",
    "            return True\n",
    "        else:\n",
    "            if fnmatch(domain, item):\n",
    "                return True\n",
    "    return False\n",
    "\n",
    "mydomain = 'a.f.baidu.com'\n",
    "\n",
    "res = match_domains(mydomain)\n",
    "\n",
    "print(res)"
   ]
  },
  {
   "cell_type": "markdown",
   "metadata": {},
   "source": [
    "### 函数执行耗时装饰器"
   ]
  },
  {
   "cell_type": "code",
   "execution_count": 14,
   "metadata": {},
   "outputs": [
    {
     "name": "stdout",
     "output_type": "stream",
     "text": [
      "[Function: my_func1 start...]\n",
      "[Function: my_func1 finished, spent time: 0.00203s]\n",
      "[Function: my_func2 start...]\n",
      "[Function: my_func2 finished, spent time: 0.00000s]\n",
      "[Function: my_func3 start...]\n",
      "[Function: my_func3 finished, spent time: 0.00301s]\n",
      "[Function: my_func4 start...]\n",
      "[Function: my_func4 finished, spent time: 0.00197s]\n"
     ]
    }
   ],
   "source": [
    "import math\n",
    "import time\n",
    "import logging\n",
    "from functools import wraps\n",
    "\n",
    "def time_counter(function):\n",
    "    @wraps(function)\n",
    "    def function_timer(*args, **kwargs):\n",
    "        print('[Function: {} start...]'.format(function.__name__))\n",
    "        t0 = time.time()\n",
    "        result = function(*args, **kwargs)\n",
    "        t1 = time.time()\n",
    "        print('[Function: {} finished, spent time: {:.5f}s]'.format(function.__name__, t1 - t0))\n",
    "        return result\n",
    "    return function_timer\n",
    "\n",
    "@time_counter\n",
    "def my_func1():\n",
    "    for i in range(10000):\n",
    "        math.sqrt(144)\n",
    "\n",
    "@time_counter\n",
    "def my_func2():\n",
    "    for i in range(10000):\n",
    "        144**.5\n",
    "\n",
    "@time_counter\n",
    "def my_func3():\n",
    "    for i in range(10000):\n",
    "        pow(144,.5)\n",
    "        \n",
    "@time_counter\n",
    "def my_func4():\n",
    "    for i in range(10000):\n",
    "        math.pow(144,.5)\n",
    "\n",
    "my_func1()\n",
    "my_func2()\n",
    "my_func3()\n",
    "my_func4()"
   ]
  },
  {
   "cell_type": "markdown",
   "metadata": {},
   "source": [
    "### 密码md5加密和SHA1加密"
   ]
  },
  {
   "cell_type": "markdown",
   "metadata": {},
   "source": [
    "md5生成一个128bit的结果，通常用32位的16进制字符串表示 "
   ]
  },
  {
   "cell_type": "code",
   "execution_count": 1,
   "metadata": {},
   "outputs": [
    {
     "name": "stdout",
     "output_type": "stream",
     "text": [
      "b24331b1a138cde62aa1f679164fc62f\n",
      "32\n"
     ]
    }
   ],
   "source": [
    "import hashlib\n",
    "\n",
    "def crypto_password(pwd):\n",
    "    md_5 = hashlib.md5()\n",
    "    md_5.update(pwd.encode('utf8'))\n",
    "    return md_5.hexdigest()\n",
    "\n",
    "print(crypto_password('abc@123'))\n",
    "print(len(str(crypto_password('abc@123'))))"
   ]
  },
  {
   "cell_type": "markdown",
   "metadata": {},
   "source": [
    "sha1生成一个160bit的结果，通常用40位的16进制字符串表示"
   ]
  },
  {
   "cell_type": "code",
   "execution_count": 15,
   "metadata": {},
   "outputs": [
    {
     "name": "stdout",
     "output_type": "stream",
     "text": [
      "7ba80c3cb4f187c314c43cbf778e009b940ef3ef\n",
      "40\n",
      "df2b6a57a71dfdba480bcab9f5f22585f87599ea\n",
      "58f6e211d77eaac09de13fb839b136363b0e7d42\n"
     ]
    }
   ],
   "source": [
    "import hashlib\n",
    "\n",
    "def crypto_password(pwd):\n",
    "    md_5 = hashlib.md5()\n",
    "    md_5.update(pwd.encode('utf8'))\n",
    "    md5_pwd = md_5.hexdigest()\n",
    "    sha1 = hashlib.sha1()\n",
    "    sha1.update(md5_pwd.encode('utf8'))\n",
    "    sha1_pwd = sha1.hexdigest()\n",
    "    return sha1_pwd\n",
    "\n",
    "print(crypto_password('abc@123'))\n",
    "print(len(str(crypto_password('abc@123'))))\n",
    "print(crypto_password('Hector@123456'))\n",
    "print(crypto_password('Water@123'))"
   ]
  },
  {
   "cell_type": "code",
   "execution_count": 17,
   "metadata": {},
   "outputs": [
    {
     "name": "stdout",
     "output_type": "stream",
     "text": [
      "200\n",
      "{'Date': 'Wed, 11 Apr 2018 07:01:53 GMT', 'Server': 'Apache', 'Vary': 'User-Agent,Accept-Encoding', 'Content-Encoding': 'gzip', 'Content-Length': '1239', 'Keep-Alive': 'timeout=15, max=298', 'Connection': 'Keep-Alive', 'Content-Type': 'text/html'}\n",
      "=============\n",
      "[<Response [301]>, <Response [302]>]\n",
      "=============\n",
      "301\n",
      "'http://2code.top/xss'\n",
      "('<!DOCTYPE HTML PUBLIC \"-//IETF//DTD HTML 2.0//EN\">\\n'\n",
      " '<html><head>\\n'\n",
      " '<title>301 Moved Permanently</title>\\n'\n",
      " '</head><body>\\n'\n",
      " '<h1>Moved Permanently</h1>\\n'\n",
      " '<p>The document has moved <a href=\"http://2code.top/xss/\">here</a>.</p>\\n'\n",
      " '</body></html>\\n')\n",
      "=============\n",
      "302\n",
      "'http://2code.top/xss/'\n",
      "''\n"
     ]
    }
   ],
   "source": [
    "import requests\n",
    "from pprint import pprint\n",
    "\n",
    "url = 'http://2code.top/xss'\n",
    "\n",
    "req = requests.get(url)\n",
    "\n",
    "print(req.status_code)\n",
    "pprint(req.headers)\n",
    "print('=============')\n",
    "pprint(req.history)\n",
    "print('=============')\n",
    "r1 = req.history[0]\n",
    "pprint(r1.status_code)\n",
    "pprint(r1.url)\n",
    "pprint(r1.text)\n",
    "print('=============')\n",
    "r2 = req.history[1]\n",
    "pprint(r2.status_code)\n",
    "pprint(r2.url)\n",
    "pprint(r2.text)"
   ]
  },
  {
   "cell_type": "code",
   "execution_count": 19,
   "metadata": {},
   "outputs": [
    {
     "name": "stdout",
     "output_type": "stream",
     "text": [
      "200\n",
      "=============\n",
      "[<Response [302]>, <Response [302]>, <Response [302]>]\n",
      "=============\n",
      "302\n",
      "'http://2code.top/1.php'\n",
      "'This is 1.php'\n",
      "=============\n",
      "302\n",
      "'http://2code.top/2.php'\n",
      "'This is 2.php'\n",
      "=============\n",
      "302\n",
      "'http://2code.top/xss/'\n",
      "''\n"
     ]
    }
   ],
   "source": [
    "import requests\n",
    "from pprint import pprint\n",
    "\n",
    "url = 'http://2code.top/1.php'\n",
    "\n",
    "req = requests.get(url)\n",
    "\n",
    "print(req.status_code)\n",
    "print('=============')\n",
    "pprint(req.history)\n",
    "print('=============')\n",
    "r1 = req.history[0]\n",
    "pprint(r1.status_code)\n",
    "pprint(r1.url)\n",
    "pprint(r1.text)\n",
    "print('=============')\n",
    "r2 = req.history[1]\n",
    "pprint(r2.status_code)\n",
    "pprint(r2.url)\n",
    "pprint(r2.text)\n",
    "print('=============')\n",
    "r3 = req.history[2]\n",
    "pprint(r3.status_code)\n",
    "pprint(r3.url)\n",
    "pprint(r3.text)\n",
    "# print('=============')\n",
    "# r4 = req.history[]\n",
    "# pprint(r2.status_code)\n",
    "# pprint(r2.url)\n",
    "# pprint(r2.text)\n"
   ]
  },
  {
   "cell_type": "markdown",
   "metadata": {},
   "source": [
    "### 获取当前函数名称"
   ]
  },
  {
   "cell_type": "markdown",
   "metadata": {},
   "source": [
    "#### 从外部获取函数名称"
   ]
  },
  {
   "cell_type": "code",
   "execution_count": 6,
   "metadata": {},
   "outputs": [
    {
     "name": "stdout",
     "output_type": "stream",
     "text": [
      "aa\n",
      "aa\n"
     ]
    }
   ],
   "source": [
    "def aa():\n",
    "    pass\n",
    "\n",
    "print(aa.__name__)\n",
    "print(getattr(aa, '__name__'))"
   ]
  },
  {
   "cell_type": "markdown",
   "metadata": {},
   "source": [
    "#### 从函数内部获取当前函数名称"
   ]
  },
  {
   "cell_type": "markdown",
   "metadata": {},
   "source": [
    "1. 使用sys模块的方法,f_code和co_name可以参考python源码解析的pyc生成和命名空间章节。"
   ]
  },
  {
   "cell_type": "code",
   "execution_count": 9,
   "metadata": {},
   "outputs": [
    {
     "name": "stdout",
     "output_type": "stream",
     "text": [
      "aa\n"
     ]
    }
   ],
   "source": [
    "import sys\n",
    "\n",
    "def aa():\n",
    "    print(sys._getframe().f_code.co_name)\n",
    "    \n",
    "aa()"
   ]
  },
  {
   "cell_type": "code",
   "execution_count": 19,
   "metadata": {},
   "outputs": [
    {
     "name": "stdout",
     "output_type": "stream",
     "text": [
      "ParseResult(scheme='https', netloc='www.baidu.com', path='/api/method', params='', query='item=aa&item2=bb', fragment='')\n",
      "https://www.baidu.com:80/api/methoditem=aa&item2=bb\n"
     ]
    }
   ],
   "source": [
    "from urllib.parse import urlparse, urljoin\n",
    "\n",
    "url = \"https://www.baidu.com/api/method?item=aa&item2=bb\"\n",
    "\n",
    "res = urlparse(url)\n",
    "\n",
    "if \":\" not in res.netloc:\n",
    "    netloc = res.netloc+\":80\"\n",
    "\n",
    "print(res)\n",
    "new_url = res.scheme+ \"://\" + netloc + res.path + res.params + res.query + res.fragment\n",
    "\n",
    "print(new_url)\n"
   ]
  },
  {
   "cell_type": "markdown",
   "metadata": {},
   "source": [
    "### 找出列表中的重复元素并计数"
   ]
  },
  {
   "cell_type": "code",
   "execution_count": 1,
   "metadata": {},
   "outputs": [
    {
     "name": "stdout",
     "output_type": "stream",
     "text": [
      "item: 1, count: 3\n",
      "item: 5, count: 2\n",
      "item: 8, count: 2\n"
     ]
    }
   ],
   "source": [
    "import collections\n",
    "\n",
    "a = [1, 1, 2, 5, 8, 9, 5, 6, 8, 1]\n",
    "\n",
    "for item, count in collections.Counter(a).items():\n",
    "    if count > 1:\n",
    "        print('item: {}, count: {}'.format(item, count))"
   ]
  },
  {
   "cell_type": "markdown",
   "metadata": {},
   "source": [
    "### 对一个文件夹的文件按照修改日期排序"
   ]
  },
  {
   "cell_type": "code",
   "execution_count": null,
   "metadata": {
    "collapsed": true
   },
   "outputs": [],
   "source": [
    "# 对一个文件夹的文件按照修改日期排序\n",
    "import os\n",
    "\n",
    "def sort_files(file_path):\n",
    "    file_list = os.listdir(file_path)\n",
    "    # 将文件按照修改时间排序, 最新修改的排在最前面\n",
    "    file_list.sort(key=lambda fn: os.path.getmtime(os.path.join(barcode_path, fn))\n",
    "        if not os.path.isdir(os.path.join(file_path, fn)) else 0)\n",
    "    return file_list"
   ]
  },
  {
   "cell_type": "code",
   "execution_count": 1,
   "metadata": {},
   "outputs": [
    {
     "name": "stdout",
     "output_type": "stream",
     "text": [
      "10470c3b4b1fed12c3baac014be15fac67c6e815\n"
     ]
    }
   ],
   "source": [
    "import hashlib\n",
    "\n",
    "def crypto_password(pwd):\n",
    "    md_5 = hashlib.md5()\n",
    "    md_5.update(pwd.encode('utf8'))\n",
    "    md5_pwd = md_5.hexdigest()\n",
    "    sha1 = hashlib.sha1()\n",
    "    sha1.update(md5_pwd.encode('utf8'))\n",
    "    sha1_pwd = sha1.hexdigest()\n",
    "    return sha1_pwd\n",
    "\n",
    "\n",
    "print(crypto_password('123456'))"
   ]
  },
  {
   "cell_type": "code",
   "execution_count": 3,
   "metadata": {},
   "outputs": [
    {
     "name": "stdout",
     "output_type": "stream",
     "text": [
      "[{'endtime': None,\n",
      "  'freq': 120,\n",
      "  'ip': '192.168.1.80',\n",
      "  'runtime': -2,\n",
      "  'starttime': None,\n",
      "  'tid': 11},\n",
      " {'endtime': None,\n",
      "  'freq': 1,\n",
      "  'ip': '192.168.1.101',\n",
      "  'runtime': -1,\n",
      "  'starttime': None,\n",
      "  'tid': 14},\n",
      " {'endtime': None,\n",
      "  'freq': 30,\n",
      "  'ip': '192.168.1.78',\n",
      "  'runtime': -1,\n",
      "  'starttime': None,\n",
      "  'tid': 9},\n",
      " {'endtime': None,\n",
      "  'freq': 60,\n",
      "  'ip': '192.168.1.75',\n",
      "  'runtime': -1,\n",
      "  'starttime': None,\n",
      "  'tid': 7},\n",
      " {'endtime': None,\n",
      "  'freq': 60,\n",
      "  'ip': '192.168.1.79',\n",
      "  'runtime': -1,\n",
      "  'starttime': None,\n",
      "  'tid': 10},\n",
      " {'endtime': None,\n",
      "  'freq': 180,\n",
      "  'ip': '192.168.1.80',\n",
      "  'runtime': -1,\n",
      "  'starttime': None,\n",
      "  'tid': 12},\n",
      " {'endtime': None,\n",
      "  'freq': 240,\n",
      "  'ip': '192.169.1.100',\n",
      "  'runtime': -1,\n",
      "  'starttime': None,\n",
      "  'tid': 13},\n",
      " {'endtime': None,\n",
      "  'freq': 15,\n",
      "  'ip': '192.168.1.76',\n",
      "  'runtime': 10,\n",
      "  'starttime': None,\n",
      "  'tid': 6},\n",
      " {'endtime': None,\n",
      "  'freq': 60,\n",
      "  'ip': '192.168.1.77',\n",
      "  'runtime': 20,\n",
      "  'starttime': None,\n",
      "  'tid': 8}]\n"
     ]
    }
   ],
   "source": [
    "from operator import itemgetter\n",
    "\n",
    "ip_list = [{'endtime': None,\n",
    "  'freq': 15,\n",
    "  'ip': '192.168.1.76',\n",
    "  'runtime': 10,\n",
    "  'starttime': None,\n",
    "  'tid': 6},\n",
    " {'endtime': None,\n",
    "  'freq': 60,\n",
    "  'ip': '192.168.1.75',\n",
    "  'runtime': -1,\n",
    "  'starttime': None,\n",
    "  'tid': 7},\n",
    " {'endtime': None,\n",
    "  'freq': 60,\n",
    "  'ip': '192.168.1.77',\n",
    "  'runtime': 20,\n",
    "  'starttime': None,\n",
    "  'tid': 8},\n",
    " {'endtime': None,\n",
    "  'freq': 30,\n",
    "  'ip': '192.168.1.78',\n",
    "  'runtime': -1,\n",
    "  'starttime': None,\n",
    "  'tid': 9},\n",
    " {'endtime': None,\n",
    "  'freq': 60,\n",
    "  'ip': '192.168.1.79',\n",
    "  'runtime': -1,\n",
    "  'starttime': None,\n",
    "  'tid': 10},\n",
    " {'endtime': None,\n",
    "  'freq': 120,\n",
    "  'ip': '192.168.1.80',\n",
    "  'runtime': -2,\n",
    "  'starttime': None,\n",
    "  'tid': 11},\n",
    " {'endtime': None,\n",
    "  'freq': 180,\n",
    "  'ip': '192.168.1.80',\n",
    "  'runtime': -1,\n",
    "  'starttime': None,\n",
    "  'tid': 12},\n",
    " {'endtime': None,\n",
    "  'freq': 240,\n",
    "  'ip': '192.169.1.100',\n",
    "  'runtime': -1,\n",
    "  'starttime': None,\n",
    "  'tid': 13},\n",
    " {'endtime': None,\n",
    "  'freq': 1,\n",
    "  'ip': '192.168.1.101',\n",
    "  'runtime': -1,\n",
    "  'starttime': None,\n",
    "  'tid': 14}]\n",
    "\n",
    "ip_list.sort(key=itemgetter('runtime', 'freq'))\n",
    "\n",
    "\n",
    "from pprint import pprint\n",
    "pprint(ip_list)"
   ]
  },
  {
   "cell_type": "code",
   "execution_count": 2,
   "metadata": {},
   "outputs": [
    {
     "name": "stdout",
     "output_type": "stream",
     "text": [
      "<itertools.product object at 0x000001472B59D750>\n"
     ]
    },
    {
     "ename": "StopIteration",
     "evalue": "",
     "output_type": "error",
     "traceback": [
      "\u001b[1;31m---------------------------------------------------------------------------\u001b[0m",
      "\u001b[1;31mStopIteration\u001b[0m                             Traceback (most recent call last)",
      "\u001b[1;32m<ipython-input-2-c6465638d4c7>\u001b[0m in \u001b[0;36m<module>\u001b[1;34m()\u001b[0m\n\u001b[0;32m      9\u001b[0m \u001b[1;32mfor\u001b[0m \u001b[0mi\u001b[0m \u001b[1;32min\u001b[0m \u001b[0mrange\u001b[0m\u001b[1;33m(\u001b[0m\u001b[1;36m10\u001b[0m\u001b[1;33m)\u001b[0m\u001b[1;33m:\u001b[0m\u001b[1;33m\u001b[0m\u001b[0m\n\u001b[0;32m     10\u001b[0m \u001b[1;33m\u001b[0m\u001b[0m\n\u001b[1;32m---> 11\u001b[1;33m     \u001b[0mprint\u001b[0m\u001b[1;33m(\u001b[0m\u001b[0mnext\u001b[0m\u001b[1;33m(\u001b[0m\u001b[0mtoken\u001b[0m\u001b[1;33m)\u001b[0m\u001b[1;33m)\u001b[0m\u001b[1;33m\u001b[0m\u001b[0m\n\u001b[0m",
      "\u001b[1;31mStopIteration\u001b[0m: "
     ]
    }
   ],
   "source": [
    "import  itertools\n",
    "\n",
    "def gen_token():\n",
    "    token = itertools.product(\"0123456789abcdefghijklmnopqrstuvwxyzABCDEFGHIJKLMNOPQRSTUVWXYZ\",repeat=16)\n",
    "    yield token\n",
    "\n",
    "    token = gen_token()\n",
    "\n",
    "for i in range(10):\n",
    "    \n",
    "    print(next(token))"
   ]
  },
  {
   "cell_type": "code",
   "execution_count": 16,
   "metadata": {},
   "outputs": [
    {
     "name": "stdout",
     "output_type": "stream",
     "text": [
      "1534232350833-W66LJHqRLUPCIrAq9c0j4SuQHJSjUTwt\n",
      "636273b1264541027ddbd6ed0567edc2\n",
      "32\n",
      "1534232350833-R5NMBs3qlZvid07Z2e3N65eiMGlt6Btk\n",
      "6464bedc3960a6df59ae554e55ffd66b\n",
      "32\n",
      "1534232350833-oeyaHWFUFQKQbiCawQxT2vbzM7chzhy9\n",
      "c333b67ccd82ed47ef6f5d3b3d76b6b8\n",
      "32\n",
      "1534232350834-NZrvrDK6OlJLdhZlF7DUhODTbBwJTVKN\n",
      "d8dd55ce7fc68637c346efe862f53b6a\n",
      "32\n",
      "1534232350834-nmriDO6GyOFGMYnIx5cLmIstEtVFUQeR\n",
      "9fe5ed8dd4b1004749ac7496e9a26930\n",
      "32\n",
      "1534232350834-bJ88WXlesKh0Dp9KiuLb6kNZsXF03atR\n",
      "650ce247492a008403be5f451dac3ae7\n",
      "32\n",
      "1534232350834-l2Pw4YNGJ7MkYeO8f2oyRIROmQkdI8ij\n",
      "535df077af4800e341e7061e7eef42d9\n",
      "32\n",
      "1534232350834-lmlrK7VZCX6dfO0464UDMuO0lkF5DTLR\n",
      "4e86be76097d72790e72870de2233025\n",
      "32\n",
      "1534232350834-NM5w9qWTcEhVtciVyX7sNL6SddgYDtmE\n",
      "a288f0c3153c75472e3e6ebdf4240290\n",
      "32\n",
      "1534232350834-52JFT832wOA6oQsZN3RZaK2z98A2A4FS\n",
      "b348896958ee0e9730db80982cdafd69\n",
      "32\n"
     ]
    }
   ],
   "source": [
    "import time\n",
    "import random\n",
    "import string\n",
    "import hashlib\n",
    "\n",
    "def gen_unique_strings(length=32):\n",
    "    chars = string.ascii_letters + string.digits\n",
    "    random_chars = ''.join([random.choice(chars) for i in range(length)])\n",
    "#     print(time.time())\n",
    "    unique_chars = '{}-{}'.format(int(time.time()*1000),random_chars)\n",
    "#     print('random_chars=', random_chars)\n",
    "    print(unique_chars)\n",
    "    return unique_chars\n",
    "\n",
    "def gen_token(chars):\n",
    "    md_5 = hashlib.md5()\n",
    "    md_5.update(chars.encode('utf8'))\n",
    "    token = md_5.hexdigest()\n",
    "    return token\n",
    "    \n",
    "\n",
    "for i in range(10):\n",
    "    chars = gen_unique_strings()\n",
    "    token = gen_token(chars)\n",
    "    print(token)\n",
    "    print(len(token))"
   ]
  },
  {
   "cell_type": "code",
   "execution_count": 6,
   "metadata": {},
   "outputs": [
    {
     "data": {
      "text/plain": [
       "['Formatter',\n",
       " 'Template',\n",
       " '_ChainMap',\n",
       " '_TemplateMetaclass',\n",
       " '__all__',\n",
       " '__builtins__',\n",
       " '__cached__',\n",
       " '__doc__',\n",
       " '__file__',\n",
       " '__loader__',\n",
       " '__name__',\n",
       " '__package__',\n",
       " '__spec__',\n",
       " '_re',\n",
       " '_string',\n",
       " 'ascii_letters',\n",
       " 'ascii_lowercase',\n",
       " 'ascii_uppercase',\n",
       " 'capwords',\n",
       " 'digits',\n",
       " 'hexdigits',\n",
       " 'octdigits',\n",
       " 'printable',\n",
       " 'punctuation',\n",
       " 'whitespace']"
      ]
     },
     "execution_count": 6,
     "metadata": {},
     "output_type": "execute_result"
    }
   ],
   "source": [
    "import string\n",
    "dir(string)"
   ]
  },
  {
   "cell_type": "code",
   "execution_count": 8,
   "metadata": {},
   "outputs": [
    {
     "name": "stdout",
     "output_type": "stream",
     "text": [
      "abcdefghijklmnopqrstuvwxyzABCDEFGHIJKLMNOPQRSTUVWXYZ\n",
      "abcdefghijklmnopqrstuvwxyz\n",
      "ABCDEFGHIJKLMNOPQRSTUVWXYZ\n",
      "<function capwords at 0x000001472927E7B8>\n",
      "0123456789\n",
      "0123456789abcdefABCDEF\n",
      "0123456789abcdefghijklmnopqrstuvwxyzABCDEFGHIJKLMNOPQRSTUVWXYZ!\"#$%&'()*+,-./:;<=>?@[\\]^_`{|}~ \t\n",
      "\r",
      "\u000b",
      "\f",
      "\n",
      "!\"#$%&'()*+,-./:;<=>?@[\\]^_`{|}~\n",
      " \t\n",
      "\r",
      "\u000b",
      "\f",
      "\n"
     ]
    }
   ],
   "source": [
    "import string\n",
    "\n",
    "print(string.ascii_letters)\n",
    "print(string.ascii_lowercase)\n",
    "print(string.ascii_uppercase)\n",
    "print(string.capwords)\n",
    "print(string.digits)\n",
    "print(string.hexdigits)\n",
    "print(string.printable)\n",
    "print(string.punctuation)\n",
    "print(string.whitespace)"
   ]
  },
  {
   "cell_type": "code",
   "execution_count": null,
   "metadata": {},
   "outputs": [],
   "source": []
  }
 ],
 "metadata": {
  "kernelspec": {
   "display_name": "Python 3",
   "language": "python",
   "name": "python3"
  },
  "language_info": {
   "codemirror_mode": {
    "name": "ipython",
    "version": 3
   },
   "file_extension": ".py",
   "mimetype": "text/x-python",
   "name": "python",
   "nbconvert_exporter": "python",
   "pygments_lexer": "ipython3",
   "version": "3.6.4"
  }
 },
 "nbformat": 4,
 "nbformat_minor": 2
}
