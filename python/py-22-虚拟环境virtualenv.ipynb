{
 "cells": [
  {
   "cell_type": "markdown",
   "metadata": {},
   "source": [
    "# python虚拟环境"
   ]
  },
  {
   "cell_type": "markdown",
   "metadata": {},
   "source": [
    "实际开发中你可能会开发很多个项目，每个项目可能都是pip安装了一堆包，如果每次都是这样，导出的包会越来越多。并且多个项目之间并不能很好的隔离，并且可能你每个项目中用的python环境不同，包的版本不同，而这在后期可能造成很多不可预知的麻烦。这个时候我们就需要用到python的虚拟环境了."
   ]
  },
  {
   "cell_type": "markdown",
   "metadata": {},
   "source": [
    "### 虚拟环境virtualenv"
   ]
  },
  {
   "cell_type": "markdown",
   "metadata": {},
   "source": [
    "* 安装：`pip install virtualenv`\n",
    "\n",
    "* 创建虚拟环境: `virtualenv venv`\n",
    "    执行这个命令会默认在**当前目录**创建一个虚拟环境venv 目录，这里包含了Python可执行文件，常用的标准库，\n",
    "    \n",
    "* 激活virtualenv环境\n",
    "    激活virtualenv环境的脚本在Scripts目录中的activate\n",
    "    \n",
    "    注意: 虚拟环境不是必须被激活,只要调用到虚拟环境中python解释器就可以执行程序了.\n",
    "    \n",
    "    \n",
    "* 退出虚拟环境执行deactivate\n",
    "\n",
    "\n",
    "在虚拟环境中你的环境和你本机的python环境是隔离的如果你在虚拟环境中通过pip安装包只会安装在你这个虚拟环境目录下，并不会安装到你的电脑\n",
    "\n",
    "再安装一个模块virtualenvwrapper，其实这个是对virtualenv模块的扩展，让你更加方便的管理和创建虚拟环境"
   ]
  },
  {
   "cell_type": "markdown",
   "metadata": {},
   "source": [
    "### virtualenvwrapper模块"
   ]
  },
  {
   "cell_type": "markdown",
   "metadata": {},
   "source": [
    "virtualenvwrapper是对virtualenv的功能扩展，它可以帮我们：\n",
    "\n",
    "管理全部的虚拟环境\n",
    "\n",
    "更加方便的创建，删除和拷贝虚拟环境\n",
    "\n",
    "安装：pip install virtualenvwrapper\n",
    "\n",
    "为了方便管理在环境变量里添加一个环境变量,如`E:\\venv_project`，用于存放所有的虚拟环境\n",
    "\n",
    " 安装完成virtualenvwrapper 之后，我们就有了几个命令可以用：\n",
    "\n",
    "* mkvirtualenv ：创建虚拟环境\n",
    "* lsvirtualenv：列出全部的虚拟环境\n",
    "* showvirtualenv：列出单个虚拟机环境的信息\n",
    "* rmvirtualenv：删除一个虚拟环境\n",
    "* cpvirtualenv：拷贝一个虚拟环境\n",
    "* allvirtualenv：对当前虚拟环境执行统一的命令\n",
    "* cdvirtualenv：可以直接切换到虚拟环境的子目录里\n",
    "* cdsitepackages：和cdvirtualenv同理，切换到虚拟环境的site-packages目录下\n",
    "* lssitepackages：列出site-packages目录下的目录\n",
    "\n",
    "我们通过mkvirtualenv创建虚拟环境，并通过通过workon命令可以查看我们创建的所有虚拟机环境，以及通过workon命令在不同的虚拟环境中迅速切换"
   ]
  }
 ],
 "metadata": {
  "kernelspec": {
   "display_name": "Python 3",
   "language": "python",
   "name": "python3"
  },
  "language_info": {
   "codemirror_mode": {
    "name": "ipython",
    "version": 3
   },
   "file_extension": ".py",
   "mimetype": "text/x-python",
   "name": "python",
   "nbconvert_exporter": "python",
   "pygments_lexer": "ipython3",
   "version": "3.6.4"
  }
 },
 "nbformat": 4,
 "nbformat_minor": 2
}
