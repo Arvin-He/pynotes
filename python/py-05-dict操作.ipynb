{
 "cells": [
  {
   "cell_type": "markdown",
   "metadata": {},
   "source": [
    "# dict操作"
   ]
  },
  {
   "cell_type": "markdown",
   "metadata": {},
   "source": [
    "### dict特性"
   ]
  },
  {
   "cell_type": "markdown",
   "metadata": {},
   "source": [
    "1. 字典的key必须可哈希: list/set/dict 均不可被哈希，int、float、str、tuple：是可以哈希的\n",
    "\n",
    "注意，浮点数比较很不精确，因此千万不要用浮点数作为key！"
   ]
  },
  {
   "cell_type": "markdown",
   "metadata": {},
   "source": [
    "### 常见操作"
   ]
  },
  {
   "cell_type": "markdown",
   "metadata": {},
   "source": [
    "1.\tclear(self)\t 删除字典内所有的元素\n",
    "2.\tcopy(self)\t返回一个字典的浅copy ，俗称赋值\n",
    "3.\tfromkeys(*args,**kwargs)\t创建一个新字典，以序列seq中元素做字典的键，val为字典所有键对应的初始值\n",
    "4.\tget(self,k,d=None)\t 返回指定键的值，如果值不在字典中返回default值\n",
    "5.\titems(self)\t以列表返回可遍历的(键, 值) 元组数组\n",
    "6.\tkeys(self)\t 以列表返回一个字典所有的键\n",
    "7.\tpop(self,k,d=None)\t 删除字典给定键 key 所对应的值，返回值为被删除的值。key值必须给出。 否则，返回default值\n",
    "8.\tpopitem(self)\t 随机返回并删除字典中的一对键和值\n",
    "9.\tsetdefault(self,k,d=None)\t 和get()类似, 但如果键不存在于字典中，将会添加键并将值设为default\n",
    "10.\tupdate(self,E=None,**F)\t 把self的东西更新到外面字典\n",
    "11. values(self)\t 以列表返回字典中的所有值"
   ]
  },
  {
   "cell_type": "code",
   "execution_count": 1,
   "metadata": {},
   "outputs": [
    {
     "name": "stdout",
     "output_type": "stream",
     "text": [
      "d1 id= 2650221138064\n",
      "d1 id= 2650221138064\n",
      "{'a': 1, 'b': 2, 'c': 3, 'd': None}\n",
      "dict_keys(['a', 'b', 'c', 'd']) <class 'dict_keys'>\n",
      "dict_values([1, 2, 3, None]) <class 'dict_values'>\n"
     ]
    }
   ],
   "source": [
    "d1 = dict({'a': 1, 'b': 2, 'c': 3})\n",
    "print('d1 id=', id(d1))\n",
    "d2 = d1.copy()\n",
    "print('d1 id=', id(d1))\n",
    "\n",
    "d1.setdefault('d')\n",
    "print(d1)\n",
    "\n",
    "print(d1.keys(), type(d1.keys()))\n",
    "print(d1.values(), type(d1.values()))"
   ]
  },
  {
   "cell_type": "markdown",
   "metadata": {},
   "source": [
    "### 创建dict"
   ]
  },
  {
   "cell_type": "code",
   "execution_count": 12,
   "metadata": {},
   "outputs": [],
   "source": [
    "d1 = {'a': 1, 'b': 2, 'c': 3}\n",
    "print(d1)\n",
    "\n",
    "d2 = dict({'a': 1, 'b': 2, 'c': 3})\n",
    "print(d2)\n",
    "\n",
    "d3 = dict([('a', 1), ('b', 2), ('c', 3)])\n",
    "print(d3)\n",
    "\n",
    "d4 = dict(a=1, b=2, c=3)\n",
    "print(d4)\n",
    "\n",
    "d5 = dict(zip(['a', 'b', 'c'], [1, 2, 3]))  # 这个方法也可以用作将两个列表合并成一个字典\n",
    "print(d5)"
   ]
  },
  {
   "cell_type": "markdown",
   "metadata": {},
   "source": [
    "### 创建一个（不）含默认值的字典"
   ]
  },
  {
   "cell_type": "code",
   "execution_count": 13,
   "metadata": {},
   "outputs": [
    {
     "name": "stdout",
     "output_type": "stream",
     "text": [
      "{'a': 123, 'b': 123, 'c': 123}\n",
      "{'a': None, 'b': None, 'c': None}\n"
     ]
    }
   ],
   "source": [
    "kk = ['a', 'b', 'c']\n",
    "print(dict.fromkeys(kk, 123))\n",
    "print(dict.fromkeys(kk))"
   ]
  },
  {
   "cell_type": "markdown",
   "metadata": {},
   "source": [
    "### 合并两个字典"
   ]
  },
  {
   "cell_type": "code",
   "execution_count": 1,
   "metadata": {},
   "outputs": [
    {
     "data": {
      "text/plain": [
       "{'a': 1, 'b': 2, 'c': 3, 'd': 4, 'e': 5, 'f': 6}"
      ]
     },
     "execution_count": 1,
     "metadata": {},
     "output_type": "execute_result"
    }
   ],
   "source": [
    "# 注意: 此时的两个字典的键必须是字符串,否则报错\n",
    "dict1 = {'a': 1, 'b': 2, 'c': 3}\n",
    "dict2 = {'d': 4, 'e': 5, 'f': 6}\n",
    "dict(dict1, **dict2)"
   ]
  },
  {
   "cell_type": "markdown",
   "metadata": {},
   "source": [
    "### 应用"
   ]
  },
  {
   "cell_type": "code",
   "execution_count": 4,
   "metadata": {},
   "outputs": [
    {
     "name": "stdout",
     "output_type": "stream",
     "text": [
      "{'time': None, 'PID': None, 'account': None, 'CPU': None, 'memory': None, 'kB_rd/s': None, 'kB_wr/s': None, 'CLI': None, 'md5': None}\n",
      "{'time': None, 'PID': None, 'account': None, 'CPU': None, 'memory': None, 'kB_rd/s': None, 'kB_wr/s': None, 'CLI': None, 'md5': None}\n"
     ]
    }
   ],
   "source": [
    "KEYS = ['time', 'PID', 'account', 'CPU', 'memory', 'kB_rd/s', 'kB_wr/s', 'CLI', 'md5']\n",
    "VALUES = [None]*len(KEYS)\n",
    "data = dict(zip(KEYS, VALUES))\n",
    "\n",
    "print(data)\n",
    "\n",
    "data = dict.fromkeys(KEYS, None)\n",
    "\n",
    "print(data)"
   ]
  },
  {
   "cell_type": "code",
   "execution_count": 11,
   "metadata": {},
   "outputs": [
    {
     "name": "stdout",
     "output_type": "stream",
     "text": [
      "{'time': '11:43:15', 'PID': '1', 'account': 'root', 'CPU': '0.01', 'memory': '0.05', 'kB_rd/s': '20.64', 'kB_wr/s': '4.97', 'CLI': '/sbin/init ', 'md5': '249b19aaa268143c3a0b3d6aa9faa070', 0: 'edc'}\n"
     ]
    }
   ],
   "source": [
    "from itertools import zip_longest\n",
    "\n",
    "KEYS = ['time', 'PID', 'account', 'CPU', 'memory', 'kB_rd/s', 'kB_wr/s', 'CLI', 'md5']\n",
    "line = b'11:43:15,1,root,0.01,0.05,20.64,4.97,/sbin/init ,249b19aaa268143c3a0b3d6aa9faa070,abc,edc'\n",
    "details = line.split(b',')\n",
    "data = {}\n",
    "for k, v in zip_longest(KEYS, details, fillvalue=0):\n",
    "    data[k] = v.decode()\n",
    "    \n",
    "print(data)"
   ]
  },
  {
   "cell_type": "code",
   "execution_count": 23,
   "metadata": {},
   "outputs": [
    {
     "name": "stdout",
     "output_type": "stream",
     "text": [
      "{'time': '11:43:15', 'PID': '1', 'account': 'root', 'CPU': '0.01', 'memory': '0.05', 'kB_rd/s': '20.64', 'kB_wr/s': '4.97', 'CLI': '/sbin/init', 'md5': '249b19aaa268143c3a0b3d6aa9faa070', '0': 'edc'}\n",
      "{'time': 1533872595, 'PID': 1, 'account': 'root', 'CPU': 0.01, 'memory': 0.05, 'kB_rd/s': 20.64, 'kB_wr/s': 4.97, 'CLI': '/sbin/init', 'md5': '249b19aaa268143c3a0b3d6aa9faa070'}\n"
     ]
    },
    {
     "data": {
      "text/plain": [
       "{'time': 1533872595,\n",
       " 'PID': 1,\n",
       " 'account': 'root',\n",
       " 'CPU': 0.01,\n",
       " 'memory': 0.05,\n",
       " 'kB_rd/s': 20.64,\n",
       " 'kB_wr/s': 4.97,\n",
       " 'CLI': '/sbin/init',\n",
       " 'md5': '249b19aaa268143c3a0b3d6aa9faa070'}"
      ]
     },
     "execution_count": 23,
     "metadata": {},
     "output_type": "execute_result"
    }
   ],
   "source": [
    "import time\n",
    "from datetime import datetime, date\n",
    "from itertools import zip_longest\n",
    "\n",
    "line = b'11:43:15,1,root,0.01,0.05,20.64,4.97,/sbin/init ,249b19aaa268143c3a0b3d6aa9faa070,abc,edc'\n",
    "\n",
    "def _handle_process_detail(line):\n",
    "    data = {}\n",
    "    KEYS = ['time', 'PID', 'account', 'CPU', 'memory', 'kB_rd/s', 'kB_wr/s', 'CLI', 'md5']\n",
    "    details = line.split(b',')\n",
    "    for k, v in zip_longest(KEYS, details, fillvalue='0'):\n",
    "        try:\n",
    "            data[k] = v.decode().strip()\n",
    "        except Exception as e:\n",
    "            data[k] = v\n",
    "    print(data)\n",
    "    result = formatter_data(data)\n",
    "    print(result)\n",
    "    return result\n",
    "\n",
    "\n",
    "def datetime_2_timestamp(str_date_time, date_type='datetime'):\n",
    "    \"\"\"字符串datetime/date转时间戳,精确到秒\"\"\"\n",
    "    if date_type == 'datetime':\n",
    "        date_time = datetime.strptime(str_date_time, \"%Y-%m-%d %H:%M:%S\")\n",
    "    else:\n",
    "        date_time = datetime.strptime(str_date_time, \"%Y-%m-%d\")\n",
    "    timestamp = str(int(time.mktime(date_time.timetuple())))\n",
    "    return timestamp\n",
    "\n",
    "\n",
    "def formatter_data(data):\n",
    "    date_time = '{} {}'.format(date.today(), data['time'])\n",
    "    data['time'] = datetime_2_timestamp(date_time)\n",
    "    if '0' in data:\n",
    "        data.pop('0')\n",
    "    for k, v in data.items():\n",
    "        try:\n",
    "            if isinstance(eval(v), int):\n",
    "                data[k] = int(v)\n",
    "            elif isinstance(eval(v), float):\n",
    "                data[k] = float(v)\n",
    "        except Exception as e:\n",
    "            data[k] = v\n",
    "    return data\n",
    "\n",
    "_handle_process_detail(line)"
   ]
  },
  {
   "cell_type": "markdown",
   "metadata": {},
   "source": [
    "database: asset (资产)\n",
    "\n",
    "collections:    \n",
    "* process: 进程信息\n",
    "* port: 开放端口\n",
    "* account: 账户信息\n",
    "* schedule: 定时任务\n",
    "* boot: 开机启动\n"
   ]
  },
  {
   "cell_type": "markdown",
   "metadata": {},
   "source": [
    "### 字典排序"
   ]
  },
  {
   "cell_type": "code",
   "execution_count": 3,
   "metadata": {},
   "outputs": [
    {
     "name": "stdout",
     "output_type": "stream",
     "text": [
      "[('a', 'apple'), ('b', 'grape'), ('c', 'orange'), ('d', 'banana')]\n",
      "[('a', 'apple'), ('d', 'banana'), ('b', 'grape'), ('c', 'orange')]\n"
     ]
    }
   ],
   "source": [
    "# 调用sorted()排序\n",
    "dict1 = {\"a\": \"apple\", \"b\": \"grape\", \"c\": \"orange\", \"d\": \"banana\"}\n",
    "\n",
    "# 按照key排序\n",
    "print(sorted(dict1.items(), key=lambda d: d[0]))\n",
    "\n",
    "# 按照value排序\n",
    "print(sorted(dict1.items(), key=lambda d: d[1]))"
   ]
  },
  {
   "cell_type": "markdown",
   "metadata": {},
   "source": [
    "### 修改字典的key,不修改value"
   ]
  },
  {
   "cell_type": "code",
   "execution_count": 5,
   "metadata": {},
   "outputs": [
    {
     "name": "stdout",
     "output_type": "stream",
     "text": [
      "{'b': 2, 'c': 3, 'a_a': 1, 'd_d': 555}\n",
      "{'b': 2, 'c': 3, 'a_a': 1, 'd_d': 555}\n"
     ]
    }
   ],
   "source": [
    "d = {'a.a': 1, 'b':2, 'c':3, 'd.d': 555}\n",
    "for k, v in d.items():\n",
    "    if '.' in k:\n",
    "        nk = k.replace('.', '_')\n",
    "        d[nk] = d.pop(k)\n",
    "\n",
    "print(d)\n",
    "\n",
    "# 更好的方法:\n",
    "d = {'a.a': 1, 'b':2, 'c':3, 'd.d': 555}\n",
    "for k, v in d.items():\n",
    "    if '.' in k:\n",
    "        nk = k.replace('.', '_')\n",
    "        d.update({nk: d.pop(k)})\n",
    "\n",
    "print(d)        "
   ]
  },
  {
   "cell_type": "markdown",
   "metadata": {},
   "source": [
    "### 判断两个字典内容是否相等"
   ]
  },
  {
   "cell_type": "code",
   "execution_count": 6,
   "metadata": {},
   "outputs": [
    {
     "name": "stdout",
     "output_type": "stream",
     "text": [
      "True\n",
      "True\n"
     ]
    }
   ],
   "source": [
    "KEYS = ['A', 'B', 'C']\n",
    "v1 = [1, 2, 3]\n",
    "v2 = [1, 2, 3]\n",
    "\n",
    "d1 = dict(zip(KEYS, v1))\n",
    "d2 = dict(zip(KEYS, v2))\n",
    "\n",
    "print(d1 == d2)\n",
    "\n",
    "\n",
    "KEYS = ['A', 'B', 'C']\n",
    "v3 = [1, 2, {'a': 10, 'b': 20}]\n",
    "v4 = [1, 2, {'a': 10, 'b': 20}]\n",
    "\n",
    "d3 = dict(zip(KEYS, v3))\n",
    "d4 = dict(zip(KEYS, v4))\n",
    "\n",
    "print(d3 == d4)"
   ]
  },
  {
   "cell_type": "markdown",
   "metadata": {},
   "source": [
    "### 截取部分字典"
   ]
  },
  {
   "cell_type": "code",
   "execution_count": 9,
   "metadata": {},
   "outputs": [
    {
     "data": {
      "text/plain": [
       "{'C': 3, 'E': 5}"
      ]
     },
     "execution_count": 9,
     "metadata": {},
     "output_type": "execute_result"
    }
   ],
   "source": [
    "base = {'A':1, 'B':2, 'C':3, 'D':4, 'E':5}\n",
    "subkey = ['C', 'E']\n",
    "\n",
    "{k:v for k,v in base.items() if k in subkey}\n",
    "\n",
    "{key:base[key] for key in subkey}\n",
    "\n",
    "dict([(key, base[key]) for key in subkey])"
   ]
  },
  {
   "cell_type": "code",
   "execution_count": null,
   "metadata": {},
   "outputs": [],
   "source": []
  }
 ],
 "metadata": {
  "kernelspec": {
   "display_name": "Python 3",
   "language": "python",
   "name": "python3"
  },
  "language_info": {
   "codemirror_mode": {
    "name": "ipython",
    "version": 3
   },
   "file_extension": ".py",
   "mimetype": "text/x-python",
   "name": "python",
   "nbconvert_exporter": "python",
   "pygments_lexer": "ipython3",
   "version": "3.6.4"
  }
 },
 "nbformat": 4,
 "nbformat_minor": 2
}
