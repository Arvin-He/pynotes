{
 "cells": [
  {
   "cell_type": "markdown",
   "metadata": {},
   "source": [
    "# python延时和超时"
   ]
  },
  {
   "cell_type": "markdown",
   "metadata": {},
   "source": [
    "### 单线程阻塞延时"
   ]
  },
  {
   "cell_type": "code",
   "execution_count": 1,
   "metadata": {},
   "outputs": [
    {
     "name": "stdout",
     "output_type": "stream",
     "text": [
      "0\n",
      "1\n",
      "2\n",
      "run time: 3.0014352798461914\n"
     ]
    }
   ],
   "source": [
    "import time\n",
    "\n",
    "def time_sleep(seconds=3):\n",
    "    start = time.time()\n",
    "    for i in range(seconds):\n",
    "        print(i)\n",
    "        time.sleep(1)\n",
    "    end = time.time()\n",
    "    print('run time: {}'.format(end-start))\n",
    "    \n",
    "time_sleep()"
   ]
  },
  {
   "cell_type": "markdown",
   "metadata": {},
   "source": [
    "### 单线程非阻塞延时"
   ]
  },
  {
   "cell_type": "code",
   "execution_count": 3,
   "metadata": {},
   "outputs": [
    {
     "name": "stdout",
     "output_type": "stream",
     "text": [
      "0\n",
      "1\n",
      "2\n",
      "time out !\n",
      "run time: 3.001466989517212\n"
     ]
    }
   ],
   "source": [
    "import time\n",
    "\n",
    "def time_sleep(seconds=3):\n",
    "    timeout = time.time() + seconds  # 3s delay\n",
    "    for i in range(seconds + 20):\n",
    "        print(i)\n",
    "        time.sleep(1)\n",
    "        if timeout < time.time(): # compare the timestamps\n",
    "            break\n",
    "    print(\"time out !\")\n",
    "\n",
    "\n",
    "start = time.time()\n",
    "time_sleep()\n",
    "end = time.time()\n",
    "print(\"run time: {}\".format(end - start))\n"
   ]
  },
  {
   "cell_type": "markdown",
   "metadata": {},
   "source": [
    "### 多线程非阻塞延时"
   ]
  },
  {
   "cell_type": "markdown",
   "metadata": {},
   "source": [
    "这个例子中, 会先执行完 `threading_main`, 5s后, 才会执行 `threading_sub`,\n",
    "\n",
    "子线程函数可以带参 `threading.Timer(interval, function, args=[], kwargs={})`"
   ]
  },
  {
   "cell_type": "code",
   "execution_count": 8,
   "metadata": {},
   "outputs": [
    {
     "name": "stdout",
     "output_type": "stream",
     "text": [
      "main thread start\n",
      "main thread: end\n",
      "run time: 0.001968860626220703\n",
      "sub thread: hello\n",
      "sub thread run time: 5.013208627700806\n"
     ]
    }
   ],
   "source": [
    "import time\n",
    "import threading\n",
    "\n",
    "begin_time, end_time = 0, 0\n",
    "\n",
    "def threading_main():\n",
    "    global begin_time\n",
    "    print(\"main thread start\")\n",
    "    begin_time = time.time()\n",
    "    thrd = threading.Timer(5.0, threading_sub, args = [\"sub thread\"])\n",
    "    thrd.start()\n",
    "    print(\"main thread: end\")\n",
    "\n",
    "def threading_sub(name):\n",
    "    global begin_time, end_time\n",
    "    print(name + \": hello\")\n",
    "    end_time = time.time()\n",
    "    print(\"sub thread run time: {}\".format(end_time-begin_time))\n",
    "\n",
    "start = time.time()\n",
    "threading_main()\n",
    "end = time.time()\n",
    "print(\"run time: {}\".format(end - start))"
   ]
  },
  {
   "cell_type": "markdown",
   "metadata": {},
   "source": [
    "### 多线程阻塞延时"
   ]
  },
  {
   "cell_type": "markdown",
   "metadata": {},
   "source": [
    "使用 join 语句, 让主线程等待子线程完成后才继续执行\n",
    "\n",
    "子线程函数可以带参 `threading.Timer(interval, function, args=[], kwargs={})`"
   ]
  },
  {
   "cell_type": "code",
   "execution_count": 9,
   "metadata": {},
   "outputs": [
    {
     "name": "stdout",
     "output_type": "stream",
     "text": [
      "main thread: start\n",
      "main thread: wait\n",
      "sub thread: hello\n",
      "main thread: end\n",
      "run time: 5.007183313369751\n"
     ]
    }
   ],
   "source": [
    "import time\n",
    "import threading\n",
    "\n",
    "def threading_main():\n",
    "    print(\"main thread: start\")\n",
    "    thrd = threading.Timer(5.0, threading_sub, args = [\"sub thread\"])\n",
    "    thrd.start()\n",
    "    print(\"main thread: wait\")\n",
    "    thrd.join()     # add this line\n",
    "    # thrd.join(timeout=2)  # just wait 2s then continue\n",
    "    print(\"main thread: end\")\n",
    "\n",
    "def threading_sub(name):\n",
    "    print(name + \": hello\")\n",
    "\n",
    "\n",
    "start = time.time()\n",
    "threading_main()\n",
    "end = time.time()\n",
    "print(\"run time: {}\".format(end - start))"
   ]
  },
  {
   "cell_type": "markdown",
   "metadata": {},
   "source": [
    "### 装饰器"
   ]
  },
  {
   "cell_type": "markdown",
   "metadata": {},
   "source": [
    "装饰器, 使用KThread,.localtrace结束线程. (通用性最好, 性能较低)"
   ]
  },
  {
   "cell_type": "code",
   "execution_count": 20,
   "metadata": {},
   "outputs": [
    {
     "name": "stdout",
     "output_type": "stream",
     "text": [
      "thread1: 0\n",
      "thread1: 1\n",
      "thread1: 2\n",
      "thread1: 3\n",
      "thread1: 4\n",
      "None\n",
      "thread2: 0\n",
      "thread2: 1\n",
      "thread2: 2\n",
      "thread2: 3\n",
      "thread2: 4\n",
      "None\n"
     ]
    }
   ],
   "source": [
    "import sys\n",
    "import threading\n",
    "\n",
    "class Timeout(Exception):\n",
    "    \"\"\"function run timeout\"\"\"\n",
    "\n",
    "class KThread(threading.Thread):\n",
    "\n",
    "    def __init__(self, *args, **kwargs):\n",
    "        threading.Thread.__init__(self, *args, **kwargs)\n",
    "        self.killed = False\n",
    "\n",
    "    def start(self):\n",
    "        \"\"\"Start the thread.\"\"\"\n",
    "        self.__run_backup = self.run\n",
    "        # Force the Thread to install our trace.\n",
    "        self.run = self.__run\n",
    "        threading.Thread.start(self)\n",
    "\n",
    "    def __run(self):\n",
    "        \"\"\"Hacked run function, which installs the trace.\"\"\"\n",
    "        sys.settrace(self.globaltrace)\n",
    "        self.__run_backup()\n",
    "        self.run = self.__run_backup\n",
    "\n",
    "    def globaltrace(self, frame, why, arg):\n",
    "        if why == 'call':\n",
    "            return self.localtrace\n",
    "        else:\n",
    "            return None\n",
    "\n",
    "    def localtrace(self, frame, why, arg):\n",
    "        if self.killed:\n",
    "            if why == 'line':\n",
    "                raise SystemExit()\n",
    "        return self.localtrace\n",
    "\n",
    "    def kill(self):\n",
    "        self.killed = True\n",
    "\n",
    "def timeout(timeout, default=None, try_except=False):\n",
    "    \"\"\"Timeout decorator, parameter in timeout.\"\"\"\n",
    "    def timeout_decorator(func):\n",
    "        def new_func(oldfunc, result, oldfunc_args, oldfunc_kwargs):\n",
    "            result.append(oldfunc(*oldfunc_args, **oldfunc_kwargs))\n",
    "\n",
    "        \"\"\"Wrap the original function.\"\"\"\n",
    "        def func_wrapper(*args, **kwargs):\n",
    "            result = []\n",
    "            # create new args for _new_func, because we want to get the func\n",
    "            # return val to result list\n",
    "            new_kwargs = {\n",
    "                'oldfunc': func,\n",
    "                'result': result,\n",
    "                'oldfunc_args': args,\n",
    "                'oldfunc_kwargs': kwargs\n",
    "            }\n",
    "\n",
    "            thd = KThread(target=new_func, args=(), kwargs=new_kwargs)\n",
    "            thd.start()\n",
    "            thd.join(timeout)\n",
    "            # timeout or finished?\n",
    "            isAlive = thd.isAlive()\n",
    "            thd.kill()\n",
    "\n",
    "            if isAlive:\n",
    "                if try_except is True:\n",
    "                    raise Timeout(\"{} Timeout: {} seconds.\".format(func, timeout))\n",
    "                return default\n",
    "            else:\n",
    "                return result[0]\n",
    "\n",
    "        func_wrapper.__name__ = func.__name__\n",
    "        func_wrapper.__doc__ = func.__doc__\n",
    "        return func_wrapper\n",
    "\n",
    "    return timeout_decorator\n",
    "\n",
    "if __name__ == \"__main__\":\n",
    "    import time\n",
    "\n",
    "    @timeout(5)\n",
    "    def count(name):\n",
    "        for i in range(10):\n",
    "            print(\"{}: {}\".format(name, i))\n",
    "            time.sleep(1)\n",
    "        return \"finished\"\n",
    "\n",
    "    try:\n",
    "        print(count(\"thread1\"))\n",
    "        print(count(\"thread2\"))\n",
    "    except Timeout as e:\n",
    "        print(e)"
   ]
  },
  {
   "cell_type": "markdown",
   "metadata": {},
   "source": [
    "将上面的例子, 改为函数调用模式, 这样timeout参数可灵活设置!"
   ]
  },
  {
   "cell_type": "code",
   "execution_count": 17,
   "metadata": {},
   "outputs": [
    {
     "name": "stdout",
     "output_type": "stream",
     "text": [
      "thread1: 0\n",
      "thread1: 1\n",
      "thread1: 2\n",
      "thread1: 3\n",
      "thread1: 4\n",
      "None\n",
      "thread2: 0\n",
      "thread2: 1\n",
      "thread2: 2\n",
      "thread2: 3\n",
      "thread2: 4\n",
      "None\n"
     ]
    }
   ],
   "source": [
    "import sys\n",
    "import threading\n",
    "\n",
    "class Timeout(Exception):\n",
    "    \"\"\"function run timeout\"\"\"\n",
    "\n",
    "class KThread(threading.Thread):\n",
    "\n",
    "    def __init__(self, *args, **kwargs):\n",
    "        threading.Thread.__init__(self, *args, **kwargs)\n",
    "        self.killed = False\n",
    "\n",
    "    def start(self):\n",
    "        \"\"\"Start the thread.\"\"\"\n",
    "        self.__run_backup = self.run\n",
    "        # Force the Thread to install our trace.\n",
    "        self.run = self.__run\n",
    "        threading.Thread.start(self)\n",
    "\n",
    "    def __run(self):\n",
    "        \"\"\"Hacked run function, which installs the trace.\"\"\"\n",
    "        sys.settrace(self.globaltrace)\n",
    "        self.__run_backup()\n",
    "        self.run = self.__run_backup\n",
    "\n",
    "    def globaltrace(self, frame, why, arg):\n",
    "        if why == 'call':\n",
    "            return self.localtrace\n",
    "        else:\n",
    "            return None\n",
    "\n",
    "    def localtrace(self, frame, why, arg):\n",
    "        if self.killed:\n",
    "            if why == 'line':\n",
    "                raise SystemExit()\n",
    "        return self.localtrace\n",
    "\n",
    "    def kill(self):\n",
    "        self.killed = True\n",
    "\n",
    "def timeout_call(timeout, func, args=(), kwargs=None, default=None, try_except=False):\n",
    "    def new_func(oldfunc, result, oldfunc_args, oldfunc_kwargs):\n",
    "            result.append(oldfunc(*oldfunc_args, **oldfunc_kwargs))\n",
    "\n",
    "    result = []\n",
    "    kwargs = {} if kwargs is None else kwargs\n",
    "    # create new args for _new_func, because we want to get the func\n",
    "    # return val to result list\n",
    "    new_kwargs = {\n",
    "        'oldfunc': func,\n",
    "        'result': result,\n",
    "        'oldfunc_args': args,\n",
    "        'oldfunc_kwargs': kwargs\n",
    "    }\n",
    "\n",
    "    thd = KThread(target=new_func, args=(), kwargs=new_kwargs)\n",
    "    thd.start()\n",
    "    thd.join(timeout)\n",
    "    # timeout or finished?\n",
    "    isAlive = thd.isAlive()\n",
    "    thd.kill()\n",
    "\n",
    "    if isAlive:\n",
    "        if try_except is True:\n",
    "            raise Timeout(\"{} Timeout: {} seconds.\".format(func, timeout))\n",
    "        return default\n",
    "    else:\n",
    "        return result[0]\n",
    "\n",
    "if __name__ == \"__main__\":\n",
    "    import time\n",
    "\n",
    "    def count(name):\n",
    "        for i in range(10):\n",
    "            print(\"{}: {}\".format(name, i))\n",
    "            time.sleep(1)\n",
    "        return \"finished\"\n",
    "\n",
    "    try:\n",
    "        print(timeout_call(5, count, [\"thread1\"]))\n",
    "        print(timeout_call(5, count, [\"thread2\"]))\n",
    "    except Timeout as e:\n",
    "        print(e)"
   ]
  },
  {
   "cell_type": "markdown",
   "metadata": {},
   "source": [
    "缺陷\n",
    "1. 整体的执行效率会慢一点。因为每次执行一句python语句，都会有一个判断的过程。\n",
    "\n",
    "2. 因为其本质是使用将函数使用重载的线程来控制，一旦被添加装饰器的函数内部使用了线程或者子进程等复杂的结构，而这些线程和子进程其实是无法获得超时控制的，所以可能导致外层的超时控制无效。"
   ]
  },
  {
   "cell_type": "code",
   "execution_count": 27,
   "metadata": {},
   "outputs": [
    {
     "ename": "TooLong",
     "evalue": "",
     "output_type": "error",
     "traceback": [
      "\u001b[1;31m---------------------------------------------------------------------------\u001b[0m",
      "\u001b[1;31mTooLong\u001b[0m                                   Traceback (most recent call last)",
      "\u001b[1;32m<ipython-input-27-5de117135a91>\u001b[0m in \u001b[0;36m<module>\u001b[1;34m()\u001b[0m\n\u001b[0;32m      9\u001b[0m \u001b[1;32mtry\u001b[0m\u001b[1;33m:\u001b[0m\u001b[1;33m\u001b[0m\u001b[0m\n\u001b[0;32m     10\u001b[0m     \u001b[1;32mwith\u001b[0m \u001b[0mTimeout\u001b[0m\u001b[1;33m(\u001b[0m\u001b[0mtime_to_wait\u001b[0m\u001b[1;33m,\u001b[0m \u001b[0mTooLong\u001b[0m\u001b[1;33m)\u001b[0m\u001b[1;33m:\u001b[0m\u001b[1;33m\u001b[0m\u001b[0m\n\u001b[1;32m---> 11\u001b[1;33m         \u001b[0mgevent\u001b[0m\u001b[1;33m.\u001b[0m\u001b[0msleep\u001b[0m\u001b[1;33m(\u001b[0m\u001b[1;36m10\u001b[0m\u001b[1;33m)\u001b[0m\u001b[1;33m\u001b[0m\u001b[0m\n\u001b[0m\u001b[0;32m     12\u001b[0m \u001b[1;32mexcept\u001b[0m \u001b[0mTimeout\u001b[0m \u001b[1;32mas\u001b[0m \u001b[0me\u001b[0m\u001b[1;33m:\u001b[0m\u001b[1;33m\u001b[0m\u001b[0m\n\u001b[0;32m     13\u001b[0m     \u001b[0mprint\u001b[0m\u001b[1;33m(\u001b[0m\u001b[0me\u001b[0m\u001b[1;33m)\u001b[0m\u001b[1;33m\u001b[0m\u001b[0m\n",
      "\u001b[1;32mc:\\program files\\python36\\lib\\site-packages\\gevent\\hub.py\u001b[0m in \u001b[0;36msleep\u001b[1;34m(seconds, ref)\u001b[0m\n\u001b[0;32m    153\u001b[0m     \u001b[1;32melse\u001b[0m\u001b[1;33m:\u001b[0m\u001b[1;33m\u001b[0m\u001b[0m\n\u001b[0;32m    154\u001b[0m         \u001b[1;32mwith\u001b[0m \u001b[0mloop\u001b[0m\u001b[1;33m.\u001b[0m\u001b[0mtimer\u001b[0m\u001b[1;33m(\u001b[0m\u001b[0mseconds\u001b[0m\u001b[1;33m,\u001b[0m \u001b[0mref\u001b[0m\u001b[1;33m=\u001b[0m\u001b[0mref\u001b[0m\u001b[1;33m)\u001b[0m \u001b[1;32mas\u001b[0m \u001b[0mt\u001b[0m\u001b[1;33m:\u001b[0m\u001b[1;33m\u001b[0m\u001b[0m\n\u001b[1;32m--> 155\u001b[1;33m             \u001b[0mhub\u001b[0m\u001b[1;33m.\u001b[0m\u001b[0mwait\u001b[0m\u001b[1;33m(\u001b[0m\u001b[0mt\u001b[0m\u001b[1;33m)\u001b[0m\u001b[1;33m\u001b[0m\u001b[0m\n\u001b[0m\u001b[0;32m    156\u001b[0m \u001b[1;33m\u001b[0m\u001b[0m\n\u001b[0;32m    157\u001b[0m \u001b[1;33m\u001b[0m\u001b[0m\n",
      "\u001b[1;32mc:\\program files\\python36\\lib\\site-packages\\gevent\\__hub_primitives.cp36-win_amd64.pyd\u001b[0m in \u001b[0;36mgevent.__hub_primitives.WaitOperationsGreenlet.wait\u001b[1;34m()\u001b[0m\n",
      "\u001b[1;32mc:\\program files\\python36\\lib\\site-packages\\gevent\\__hub_primitives.cp36-win_amd64.pyd\u001b[0m in \u001b[0;36mgevent.__hub_primitives.WaitOperationsGreenlet.wait\u001b[1;34m()\u001b[0m\n",
      "\u001b[1;32mc:\\program files\\python36\\lib\\site-packages\\gevent\\__waiter.cp36-win_amd64.pyd\u001b[0m in \u001b[0;36mgevent.__waiter.Waiter.get\u001b[1;34m()\u001b[0m\n",
      "\u001b[1;32mc:\\program files\\python36\\lib\\site-packages\\gevent\\__greenlet_primitives.cp36-win_amd64.pyd\u001b[0m in \u001b[0;36mgevent.__greenlet_primitives.SwitchOutGreenletWithLoop.switch\u001b[1;34m()\u001b[0m\n",
      "\u001b[1;32mc:\\program files\\python36\\lib\\site-packages\\gevent\\__greenlet_primitives.cp36-win_amd64.pyd\u001b[0m in \u001b[0;36mgevent.__greenlet_primitives.SwitchOutGreenletWithLoop.switch\u001b[1;34m()\u001b[0m\n",
      "\u001b[1;32mc:\\program files\\python36\\lib\\site-packages\\gevent\\__greenlet_primitives.cp36-win_amd64.pyd\u001b[0m in \u001b[0;36mgevent.__greenlet_primitives.SwitchOutGreenletWithLoop.switch\u001b[1;34m()\u001b[0m\n",
      "\u001b[1;32msrc\\gevent\\__greenlet_primitives.pxd\u001b[0m in \u001b[0;36mgevent.__greenlet_primitives._greenlet_switch\u001b[1;34m()\u001b[0m\n",
      "\u001b[1;31mTooLong\u001b[0m: "
     ]
    }
   ],
   "source": [
    "import gevent\n",
    "from gevent import Timeout\n",
    "\n",
    "time_to_wait = 5 # seconds\n",
    "\n",
    "class TooLong(Exception):\n",
    "    \"\"\"function run timeout\"\"\"\n",
    "\n",
    "try:\n",
    "    with Timeout(time_to_wait, TooLong):\n",
    "        gevent.sleep(10)\n",
    "except Timeout as e:\n",
    "    print(e)"
   ]
  },
  {
   "cell_type": "markdown",
   "metadata": {},
   "source": [
    "### 常见误区"
   ]
  },
  {
   "cell_type": "markdown",
   "metadata": {},
   "source": [
    "sleep、wait、join 不能直接用来实现或替代超时功能\n",
    "\n",
    "尤其是 join(timeout) 方法里的 timeout 很容易让初学者误解，以为调用了  join(n) 就是 n 秒后线程超时结束,\n",
    "其实 timeout 只是将主线程阻塞，它只告诉join等待子线程运行多久，如果超时后，主线程和子线程还是各自向下继续运行，因此你必须调用 isAlive() 来决定是否超时发生——如果子线程还活着, 表示本次 join() 调用超时了。"
   ]
  },
  {
   "cell_type": "code",
   "execution_count": 31,
   "metadata": {},
   "outputs": [
    {
     "name": "stdout",
     "output_type": "stream",
     "text": [
      "<ProcessWorker(Thread-18, started daemon 12504)>: 9 → 10\n",
      "<ProcessWorker(Thread-24, started daemon 8384)>: 6 → 7\n",
      "<ProcessWorker(Thread-16, started daemon 15088)>: 8 → 9\n",
      "<ProcessWorker(Thread-23, started daemon 2032)>: 2 → 3\n",
      "<ProcessWorker(Thread-17, started daemon 15192)>: 0 → 1\n",
      "<ProcessWorker(Thread-21, started daemon 2308)>: 4 → 5\n",
      "<ProcessWorker(Thread-25, started daemon 6332)>: 7 → 8\n",
      "<ProcessWorker(Thread-20, started daemon 16588)>: 3 → 4\n",
      "<ProcessWorker(Thread-22, started daemon 4696)>: 5 → 6\n",
      "<ProcessWorker(Thread-19, started daemon 16956)>: 1 → 2\n",
      "cost time is: 20.01s\n"
     ]
    }
   ],
   "source": [
    "from time import sleep, time\n",
    "import sys, threading\n",
    "from queue import Queue\n",
    "from threading import Thread\n",
    "\n",
    "# reload(sys)\n",
    "# sys.setdefaultencoding('utf-8')\n",
    "\n",
    "\n",
    "def processNum(num):\n",
    "    num_add = num + 1\n",
    "    sleep(3)\n",
    "    print(str(threading.current_thread()) + \": \" + str(num) + \" → \" + str(num_add))\n",
    "\n",
    "\n",
    "class ProcessWorker(Thread):\n",
    "    def __init__(self, queue):\n",
    "        Thread.__init__(self)\n",
    "        self.queue = queue\n",
    "\n",
    "    def run(self):\n",
    "        while True:\n",
    "            num = self.queue.get()\n",
    "            processNum(num)\n",
    "            self.queue.task_done()\n",
    "\n",
    "\n",
    "thread_arr = []\n",
    "\n",
    "\n",
    "def main():\n",
    "    ts = time()\n",
    "    queue = Queue()\n",
    "    for x in range(10):\n",
    "        worker = ProcessWorker(queue)\n",
    "        worker.daemon = True\n",
    "        worker.start()\n",
    "        thread_arr.append(worker)\n",
    "    for num in range(10):\n",
    "        queue.put(num)\n",
    "    # queue.join()\n",
    "    for _ in thread_arr:\n",
    "        _.join(2)\n",
    "    print(\"cost time is: {:.2f}s\".format(time() - ts))\n",
    "\n",
    "\n",
    "if __name__ == \"__main__\":\n",
    "    main()"
   ]
  },
  {
   "cell_type": "markdown",
   "metadata": {},
   "source": [
    "### func_timeout"
   ]
  },
  {
   "cell_type": "markdown",
   "metadata": {},
   "source": [
    "* tested func_timeout with python 2.7, 3.4, 3.5, 3.6. It should work on other versions as well.\n",
    "* Works on windows, linux/unix, cygwin, mac"
   ]
  },
  {
   "cell_type": "code",
   "execution_count": 44,
   "metadata": {},
   "outputs": [
    {
     "name": "stdout",
     "output_type": "stream",
     "text": [
      "Start: 1534992661.995972\n",
      "1 seconds have passed\n",
      "end: 1534992664.5584252\n",
      "mytest2: Function mytest2 (args=()) (kwargs={}) timed out after 2.500000 seconds.\n",
      "\n",
      "run time: 2.562453269958496\n"
     ]
    }
   ],
   "source": [
    "import time\n",
    "from func_timeout import func_set_timeout, FunctionTimedOut\n",
    "\n",
    "start_time, end_time = 0, 0\n",
    "\n",
    "@func_set_timeout(2.5)\n",
    "def mytest2():\n",
    "    global start_time\n",
    "    start_time = time.time()\n",
    "    print(\"Start:\", start_time)\n",
    "    for i in range(1, 10):\n",
    "        print(\"%d seconds have passed\" % i)\n",
    "        time.sleep(10)\n",
    "        \n",
    "if __name__ == '__main__':\n",
    "    try:\n",
    "        mytest2()\n",
    "    except FunctionTimedOut as e:\n",
    "        end_time = time.time()\n",
    "        print('end:', end_time)\n",
    "        print('mytest2:', e)\n",
    "        print('run time:', end_time-start_time)"
   ]
  },
  {
   "cell_type": "markdown",
   "metadata": {},
   "source": [
    "### stopit"
   ]
  },
  {
   "cell_type": "markdown",
   "metadata": {},
   "source": [
    "Windows、Linux都可以使用的"
   ]
  },
  {
   "cell_type": "code",
   "execution_count": 38,
   "metadata": {},
   "outputs": [
    {
     "name": "stdout",
     "output_type": "stream",
     "text": [
      "Start\n",
      "1 seconds have passed\n",
      "xxxx\n"
     ]
    },
    {
     "name": "stderr",
     "output_type": "stream",
     "text": [
      "Traceback (most recent call last):\n",
      "  File \"<ipython-input-38-4b403c68d8c6>\", line 12, in infinite_loop\n",
      "    time.sleep(10)\n",
      "stopit.utils.TimeoutException\n"
     ]
    }
   ],
   "source": [
    "import time\n",
    "import stopit\n",
    "import traceback\n",
    "\n",
    "@stopit.threading_timeoutable()\n",
    "def infinite_loop():\n",
    "    # As its name says...\n",
    "    try:\n",
    "        print(\"Start\")\n",
    "        for i in range(1, 10):\n",
    "            print(\"%d seconds have passed\" % i)\n",
    "            time.sleep(10)\n",
    "    except Exception as e:\n",
    "        print('xxxx')\n",
    "        traceback.print_exc()\n",
    "\n",
    "if __name__ == '__main__':\n",
    "    infinite_loop(timeout=1)"
   ]
  },
  {
   "cell_type": "markdown",
   "metadata": {},
   "source": [
    "### timeout_decorator"
   ]
  },
  {
   "cell_type": "markdown",
   "metadata": {},
   "source": [
    "不支持windows,支持linux"
   ]
  },
  {
   "cell_type": "code",
   "execution_count": 39,
   "metadata": {},
   "outputs": [
    {
     "ename": "AttributeError",
     "evalue": "module 'signal' has no attribute 'SIGALRM'",
     "output_type": "error",
     "traceback": [
      "\u001b[1;31m---------------------------------------------------------------------------\u001b[0m",
      "\u001b[1;31mAttributeError\u001b[0m                            Traceback (most recent call last)",
      "\u001b[1;32m<ipython-input-39-abea1af95de8>\u001b[0m in \u001b[0;36m<module>\u001b[1;34m()\u001b[0m\n\u001b[0;32m     10\u001b[0m \u001b[1;33m\u001b[0m\u001b[0m\n\u001b[0;32m     11\u001b[0m \u001b[1;32mif\u001b[0m \u001b[0m__name__\u001b[0m \u001b[1;33m==\u001b[0m \u001b[1;34m'__main__'\u001b[0m\u001b[1;33m:\u001b[0m\u001b[1;33m\u001b[0m\u001b[0m\n\u001b[1;32m---> 12\u001b[1;33m     \u001b[0mmytest\u001b[0m\u001b[1;33m(\u001b[0m\u001b[1;33m)\u001b[0m\u001b[1;33m\u001b[0m\u001b[0m\n\u001b[0m",
      "\u001b[1;32mc:\\program files\\python36\\lib\\site-packages\\timeout_decorator\\timeout_decorator.py\u001b[0m in \u001b[0;36mnew_function\u001b[1;34m(*args, **kwargs)\u001b[0m\n\u001b[0;32m     76\u001b[0m                 \u001b[0mnew_seconds\u001b[0m \u001b[1;33m=\u001b[0m \u001b[0mkwargs\u001b[0m\u001b[1;33m.\u001b[0m\u001b[0mpop\u001b[0m\u001b[1;33m(\u001b[0m\u001b[1;34m'timeout'\u001b[0m\u001b[1;33m,\u001b[0m \u001b[0mseconds\u001b[0m\u001b[1;33m)\u001b[0m\u001b[1;33m\u001b[0m\u001b[0m\n\u001b[0;32m     77\u001b[0m                 \u001b[1;32mif\u001b[0m \u001b[0mnew_seconds\u001b[0m\u001b[1;33m:\u001b[0m\u001b[1;33m\u001b[0m\u001b[0m\n\u001b[1;32m---> 78\u001b[1;33m                     \u001b[0mold\u001b[0m \u001b[1;33m=\u001b[0m \u001b[0msignal\u001b[0m\u001b[1;33m.\u001b[0m\u001b[0msignal\u001b[0m\u001b[1;33m(\u001b[0m\u001b[0msignal\u001b[0m\u001b[1;33m.\u001b[0m\u001b[0mSIGALRM\u001b[0m\u001b[1;33m,\u001b[0m \u001b[0mhandler\u001b[0m\u001b[1;33m)\u001b[0m\u001b[1;33m\u001b[0m\u001b[0m\n\u001b[0m\u001b[0;32m     79\u001b[0m                     \u001b[0msignal\u001b[0m\u001b[1;33m.\u001b[0m\u001b[0msetitimer\u001b[0m\u001b[1;33m(\u001b[0m\u001b[0msignal\u001b[0m\u001b[1;33m.\u001b[0m\u001b[0mITIMER_REAL\u001b[0m\u001b[1;33m,\u001b[0m \u001b[0mnew_seconds\u001b[0m\u001b[1;33m)\u001b[0m\u001b[1;33m\u001b[0m\u001b[0m\n\u001b[0;32m     80\u001b[0m                 \u001b[1;32mtry\u001b[0m\u001b[1;33m:\u001b[0m\u001b[1;33m\u001b[0m\u001b[0m\n",
      "\u001b[1;31mAttributeError\u001b[0m: module 'signal' has no attribute 'SIGALRM'"
     ]
    }
   ],
   "source": [
    "import time\n",
    "import timeout_decorator\n",
    "\n",
    "@timeout_decorator.timeout(5)\n",
    "def mytest():\n",
    "    print(\"Start\")\n",
    "    for i in range(1,10):\n",
    "        time.sleep(1)\n",
    "        print(\"{} seconds have passed\".format(i))\n",
    "\n",
    "if __name__ == '__main__':\n",
    "    mytest()"
   ]
  },
  {
   "cell_type": "markdown",
   "metadata": {},
   "source": [
    "### timeoutcontext"
   ]
  },
  {
   "cell_type": "markdown",
   "metadata": {},
   "source": [
    "不支持windows,支持linux"
   ]
  },
  {
   "cell_type": "code",
   "execution_count": 40,
   "metadata": {},
   "outputs": [
    {
     "ename": "AttributeError",
     "evalue": "module 'signal' has no attribute 'SIGALRM'",
     "output_type": "error",
     "traceback": [
      "\u001b[1;31m---------------------------------------------------------------------------\u001b[0m",
      "\u001b[1;31mAttributeError\u001b[0m                            Traceback (most recent call last)",
      "\u001b[1;32m<ipython-input-40-2f012c21ec66>\u001b[0m in \u001b[0;36m<module>\u001b[1;34m()\u001b[0m\n\u001b[0;32m      7\u001b[0m \u001b[1;33m\u001b[0m\u001b[0m\n\u001b[0;32m      8\u001b[0m \u001b[1;32mtry\u001b[0m\u001b[1;33m:\u001b[0m\u001b[1;33m\u001b[0m\u001b[0m\n\u001b[1;32m----> 9\u001b[1;33m     \u001b[1;32mwith\u001b[0m \u001b[0mtimeout\u001b[0m\u001b[1;33m(\u001b[0m\u001b[1;36m1\u001b[0m\u001b[1;33m)\u001b[0m\u001b[1;33m:\u001b[0m\u001b[1;33m\u001b[0m\u001b[0m\n\u001b[0m\u001b[0;32m     10\u001b[0m         \u001b[0msleep\u001b[0m\u001b[1;33m(\u001b[0m\u001b[1;36m2\u001b[0m\u001b[1;33m)\u001b[0m\u001b[1;33m\u001b[0m\u001b[0m\n\u001b[0;32m     11\u001b[0m \u001b[1;32mexcept\u001b[0m \u001b[0mTimeoutError\u001b[0m\u001b[1;33m:\u001b[0m\u001b[1;33m\u001b[0m\u001b[0m\n",
      "\u001b[1;32mc:\\program files\\python36\\lib\\site-packages\\timeoutcontext\\_timeout.py\u001b[0m in \u001b[0;36m__enter__\u001b[1;34m(self)\u001b[0m\n\u001b[0;32m     62\u001b[0m     \u001b[1;32mdef\u001b[0m \u001b[0m__enter__\u001b[0m\u001b[1;33m(\u001b[0m\u001b[0mself\u001b[0m\u001b[1;33m)\u001b[0m\u001b[1;33m:\u001b[0m\u001b[1;33m\u001b[0m\u001b[0m\n\u001b[0;32m     63\u001b[0m         \u001b[1;32mif\u001b[0m \u001b[0mself\u001b[0m\u001b[1;33m.\u001b[0m\u001b[0m_seconds\u001b[0m\u001b[1;33m:\u001b[0m\u001b[1;33m\u001b[0m\u001b[0m\n\u001b[1;32m---> 64\u001b[1;33m             \u001b[0mself\u001b[0m\u001b[1;33m.\u001b[0m\u001b[0m_replace_alarm_handler\u001b[0m\u001b[1;33m(\u001b[0m\u001b[1;33m)\u001b[0m\u001b[1;33m\u001b[0m\u001b[0m\n\u001b[0m\u001b[0;32m     65\u001b[0m             \u001b[0msignal\u001b[0m\u001b[1;33m.\u001b[0m\u001b[0msetitimer\u001b[0m\u001b[1;33m(\u001b[0m\u001b[0msignal\u001b[0m\u001b[1;33m.\u001b[0m\u001b[0mITIMER_REAL\u001b[0m\u001b[1;33m,\u001b[0m \u001b[0mself\u001b[0m\u001b[1;33m.\u001b[0m\u001b[0m_seconds\u001b[0m\u001b[1;33m)\u001b[0m\u001b[1;33m\u001b[0m\u001b[0m\n\u001b[0;32m     66\u001b[0m         \u001b[1;32mreturn\u001b[0m \u001b[0mself\u001b[0m\u001b[1;33m\u001b[0m\u001b[0m\n",
      "\u001b[1;32mc:\\program files\\python36\\lib\\site-packages\\timeoutcontext\\_timeout.py\u001b[0m in \u001b[0;36m_replace_alarm_handler\u001b[1;34m(self)\u001b[0m\n\u001b[0;32m     72\u001b[0m \u001b[1;33m\u001b[0m\u001b[0m\n\u001b[0;32m     73\u001b[0m     \u001b[1;32mdef\u001b[0m \u001b[0m_replace_alarm_handler\u001b[0m\u001b[1;33m(\u001b[0m\u001b[0mself\u001b[0m\u001b[1;33m)\u001b[0m\u001b[1;33m:\u001b[0m\u001b[1;33m\u001b[0m\u001b[0m\n\u001b[1;32m---> 74\u001b[1;33m         self._old_alarm_handler = signal.signal(signal.SIGALRM,\n\u001b[0m\u001b[0;32m     75\u001b[0m                                                 raise_timeout)\n\u001b[0;32m     76\u001b[0m \u001b[1;33m\u001b[0m\u001b[0m\n",
      "\u001b[1;31mAttributeError\u001b[0m: module 'signal' has no attribute 'SIGALRM'"
     ]
    }
   ],
   "source": [
    "import sys\n",
    "from time import sleep\n",
    "from timeoutcontext import timeout\n",
    "\n",
    "if sys.version_info < (3, 3):\n",
    "    from timeoutcontext._timeout import TimeoutError\n",
    "\n",
    "try:\n",
    "    with timeout(1):\n",
    "        sleep(2)\n",
    "except TimeoutError:\n",
    "    print('timeout')"
   ]
  },
  {
   "cell_type": "code",
   "execution_count": null,
   "metadata": {},
   "outputs": [],
   "source": []
  }
 ],
 "metadata": {
  "kernelspec": {
   "display_name": "Python 3",
   "language": "python",
   "name": "python3"
  },
  "language_info": {
   "codemirror_mode": {
    "name": "ipython",
    "version": 3
   },
   "file_extension": ".py",
   "mimetype": "text/x-python",
   "name": "python",
   "nbconvert_exporter": "python",
   "pygments_lexer": "ipython3",
   "version": "3.6.4"
  }
 },
 "nbformat": 4,
 "nbformat_minor": 2
}
