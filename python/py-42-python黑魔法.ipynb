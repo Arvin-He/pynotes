{
 "cells": [
  {
   "cell_type": "markdown",
   "metadata": {},
   "source": [
    "# python中的黑魔法"
   ]
  },
  {
   "cell_type": "markdown",
   "metadata": {},
   "source": [
    "### sort 与 sorted 区别"
   ]
  },
  {
   "cell_type": "code",
   "execution_count": 10,
   "metadata": {},
   "outputs": [
    {
     "name": "stdout",
     "output_type": "stream",
     "text": [
      "1998060777224\n",
      "1998060777224\n",
      "1998062107720\n",
      "1998060777224\n"
     ]
    }
   ],
   "source": [
    "mylist = [1, 5, 2, 8, 4]\n",
    "print(id(mylist))\n",
    "a = sorted(mylist)\n",
    "print(id(mylist))\n",
    "print(id(a))\n",
    "mylist.sort()\n",
    "print(id(mylist))"
   ]
  },
  {
   "cell_type": "markdown",
   "metadata": {},
   "source": [
    "* mylist.sort: 是直接对原有的mylist进行排序\n",
    "* sorted(mylist): 是返回一个排序好的列表,不改变原有的mylist列表"
   ]
  },
  {
   "cell_type": "markdown",
   "metadata": {},
   "source": [
    "### 列表反转"
   ]
  },
  {
   "cell_type": "code",
   "execution_count": 16,
   "metadata": {},
   "outputs": [
    {
     "name": "stdout",
     "output_type": "stream",
     "text": [
      "[9, 7, 5, 3, 1]\n",
      "[9, 7, 5, 3, 1]\n"
     ]
    }
   ],
   "source": [
    "# 法1: 直接调用列表内建reverse方法\n",
    "a = [1, 3, 5, 7, 9]\n",
    "a.reverse()\n",
    "print(a)\n",
    "\n",
    "# 法2: 利用切片\n",
    "b = [1, 3, 5, 7, 9]\n",
    "print(b[::-1])"
   ]
  },
  {
   "cell_type": "markdown",
   "metadata": {},
   "source": [
    "**注意:**\n",
    "1. 这里仅仅是做列表的反序,没有排序\n",
    "2. a.reverse() 方法不是返回一个列表,这是一个直接对列表的操作"
   ]
  },
  {
   "cell_type": "markdown",
   "metadata": {},
   "source": [
    "### 列表排序并反转"
   ]
  },
  {
   "cell_type": "code",
   "execution_count": 3,
   "metadata": {},
   "outputs": [
    {
     "name": "stdout",
     "output_type": "stream",
     "text": [
      "[1, 2, 3, 4, 7, 9]\n",
      "[9, 7, 4, 3, 2, 1]\n"
     ]
    }
   ],
   "source": [
    "mylist = [1, 4, 2, 7, 3, 9]\n",
    "mylist.sort(reverse=False)\n",
    "print(mylist)\n",
    "mylist.sort(reverse=True)\n",
    "print(mylist)"
   ]
  },
  {
   "cell_type": "markdown",
   "metadata": {},
   "source": [
    "### 字典列表排序"
   ]
  },
  {
   "cell_type": "code",
   "execution_count": 4,
   "metadata": {},
   "outputs": [
    {
     "data": {
      "text/plain": [
       "[{'name': 'black', 'size': 100},\n",
       " {'name': 'red', 'size': 200},\n",
       " {'name': 'white', 'size': 300}]"
      ]
     },
     "execution_count": 4,
     "metadata": {},
     "output_type": "execute_result"
    }
   ],
   "source": [
    "from operator import itemgetter\n",
    "mylist= [{'size':100, 'name':'black'}, {'size': 300, 'name': 'white'}, {'size': 200, 'name': 'red'}]\n",
    "mylist.sort(key=itemgetter('size'))\n",
    "mylist"
   ]
  },
  {
   "cell_type": "markdown",
   "metadata": {},
   "source": [
    "### 列表生成式"
   ]
  },
  {
   "cell_type": "code",
   "execution_count": 5,
   "metadata": {},
   "outputs": [
    {
     "data": {
      "text/plain": [
       "[0, 1, 2, 3, 4, 5, 6, 7, 8, 9]"
      ]
     },
     "execution_count": 5,
     "metadata": {},
     "output_type": "execute_result"
    }
   ],
   "source": [
    "a = [i for i in range(10)]\n",
    "a"
   ]
  },
  {
   "cell_type": "markdown",
   "metadata": {},
   "source": [
    "过滤式列表生成式"
   ]
  },
  {
   "cell_type": "code",
   "execution_count": 7,
   "metadata": {},
   "outputs": [
    {
     "data": {
      "text/plain": [
       "[1, 6, 5, 4, 9]"
      ]
     },
     "execution_count": 7,
     "metadata": {},
     "output_type": "execute_result"
    }
   ],
   "source": [
    "a = [1, 6, 5, 4, -4, -7, 9]\n",
    "b = [item for item in a if item>0]\n",
    "b"
   ]
  },
  {
   "cell_type": "markdown",
   "metadata": {},
   "source": [
    "条件式列表生成式"
   ]
  },
  {
   "cell_type": "code",
   "execution_count": 8,
   "metadata": {},
   "outputs": [
    {
     "data": {
      "text/plain": [
       "[100, 100, 100, 100, 100, 0, 0, 0]"
      ]
     },
     "execution_count": 8,
     "metadata": {},
     "output_type": "execute_result"
    }
   ],
   "source": [
    "a = [1, 3, 5, 7, 8, -6, -5, -3]\n",
    "b = [100 if item>0 else 0 for item in a]\n",
    "b"
   ]
  },
  {
   "cell_type": "markdown",
   "metadata": {},
   "source": [
    "### 字典"
   ]
  },
  {
   "cell_type": "code",
   "execution_count": 19,
   "metadata": {},
   "outputs": [
    {
     "name": "stdout",
     "output_type": "stream",
     "text": [
      "{1, 2, 3, 4, 6}\n",
      "{'a': 0, 'as': 1, 'bat': 2, 'car': 3, 'dove': 4, 'python': 5}\n"
     ]
    }
   ],
   "source": [
    "strings = ['a', 'as', 'bat', 'car', 'dove', 'python']\n",
    "unique_lengths = {len(x) for x in strings}\n",
    "\n",
    "print(unique_lengths)\n",
    "\n",
    "set(map(len, strings))\n",
    "\n",
    "loc_mapping = {val : index for index, val in enumerate(strings)}\n",
    "print(loc_mapping)"
   ]
  },
  {
   "cell_type": "code",
   "execution_count": null,
   "metadata": {},
   "outputs": [],
   "source": []
  }
 ],
 "metadata": {
  "kernelspec": {
   "display_name": "Python 3",
   "language": "python",
   "name": "python3"
  },
  "language_info": {
   "codemirror_mode": {
    "name": "ipython",
    "version": 3
   },
   "file_extension": ".py",
   "mimetype": "text/x-python",
   "name": "python",
   "nbconvert_exporter": "python",
   "pygments_lexer": "ipython3",
   "version": "3.6.4"
  }
 },
 "nbformat": 4,
 "nbformat_minor": 2
}
