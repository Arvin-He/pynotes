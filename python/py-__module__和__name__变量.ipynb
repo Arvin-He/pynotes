{
 "cells": [
  {
   "cell_type": "markdown",
   "metadata": {},
   "source": [
    "# py-__module__和__name__变量"
   ]
  },
  {
   "cell_type": "markdown",
   "metadata": {},
   "source": [
    "顶层模块: 就是直接被解释器运行的那个脚本文件,也就是程序的入口文件"
   ]
  },
  {
   "cell_type": "markdown",
   "metadata": {},
   "source": [
    "### __module__变量"
   ]
  },
  {
   "cell_type": "markdown",
   "metadata": {},
   "source": [
    "* 如果当前模块为顶层模块执行 则`__module__`的值为`__main__`\n",
    "* 如果当前模块为被调用模块,则`__module__`的值为当前模块的名称\n",
    "* 模块本身没有`__module__`属性,只有该模块中的变量和函数有`__module__`属性"
   ]
  },
  {
   "cell_type": "code",
   "execution_count": 10,
   "metadata": {},
   "outputs": [
    {
     "name": "stdout",
     "output_type": "stream",
     "text": [
      "__main__\n",
      "hello\n"
     ]
    }
   ],
   "source": [
    "def func():\n",
    "    pass\n",
    "\n",
    "print(func.__module__)\n",
    "\n",
    "\n",
    "import hello\n",
    "\n",
    "print(hello.Hello.__module__)"
   ]
  },
  {
   "cell_type": "markdown",
   "metadata": {},
   "source": [
    "### __name__变量"
   ]
  },
  {
   "cell_type": "code",
   "execution_count": 13,
   "metadata": {},
   "outputs": [
    {
     "name": "stdout",
     "output_type": "stream",
     "text": [
      "当前模块name:  __main__\n",
      "func\n",
      "当前模块name:  hello\n",
      "Hello\n"
     ]
    }
   ],
   "source": [
    "def func():\n",
    "    pass\n",
    "\n",
    "print('当前模块name: ', __name__)\n",
    "print(func.__name__)\n",
    "\n",
    "\n",
    "import hello\n",
    "\n",
    "print('当前模块name: ', hello.__name__)\n",
    "print(hello.Hello.__name__)"
   ]
  },
  {
   "cell_type": "markdown",
   "metadata": {},
   "source": [
    "python中每个模块都会包含一个`__name__`属性, \n",
    "* 如果当前模块为顶层模块执行, 则`__name__`的值为`__main__`\n",
    "* 如果当前模块为被调用模块,则`__name__`的值为当前模块的名称"
   ]
  },
  {
   "cell_type": "markdown",
   "metadata": {},
   "source": [
    "### 模块的一些属性"
   ]
  },
  {
   "cell_type": "markdown",
   "metadata": {},
   "source": [
    "python中的各个module都有一个属性字典`__dict__`,包含该模块的各种属性"
   ]
  },
  {
   "cell_type": "code",
   "execution_count": 2,
   "metadata": {
    "scrolled": true
   },
   "outputs": [
    {
     "name": "stdout",
     "output_type": "stream",
     "text": [
      "this is hello module, Hello functions\n",
      "__name__ :  hello\n",
      "__doc__ :  None\n",
      "__package__ :  \n",
      "__loader__ :  <_frozen_importlib_external.SourceFileLoader object at 0x000002C0889C2080>\n",
      "__spec__ :  ModuleSpec(name='hello', loader=<_frozen_importlib_external.SourceFileLoader object at 0x000002C0889C2080>, origin='f:\\\\arvin\\\\pynotes\\\\python\\\\hello.py')\n",
      "__file__ :  f:\\arvin\\pynotes\\python\\hello.py\n",
      "__cached__ :  f:\\arvin\\pynotes\\python\\__pycache__\\hello.cpython-36.pyc\n",
      "HELLO :  This is hello module.\n",
      "Hello :  <function Hello at 0x000002C0888FB158>\n",
      "This is hello module.\n"
     ]
    }
   ],
   "source": [
    "import hello\n",
    "from pprint import pprint\n",
    "\n",
    "if hasattr(hello, 'Hello'):\n",
    "    hello.Hello()\n",
    "    \n",
    "for k, v in hello.__dict__.items():\n",
    "    if k != '__builtins__':\n",
    "        print(k,': ', v)\n",
    "    \n",
    "if hasattr(hello, '__module__'):\n",
    "    print(hello.__module__)\n",
    "    \n",
    "# pprint(hello.__dict__)\n",
    "\n",
    "if hasattr(hello, 'HELLO'):\n",
    "    print(hello.HELLO)"
   ]
  },
  {
   "cell_type": "markdown",
   "metadata": {},
   "source": [
    "### 判断模块是否含有某个函数或变量"
   ]
  },
  {
   "cell_type": "markdown",
   "metadata": {},
   "source": [
    "判断模块是否含有某个函数或变量使用内建函数: `hasattr()`"
   ]
  },
  {
   "cell_type": "markdown",
   "metadata": {},
   "source": [
    "### 获取模块是否含有某个函数或变量"
   ]
  },
  {
   "cell_type": "markdown",
   "metadata": {},
   "source": [
    "获取模块是否含有某个函数或变量: `getattr()`"
   ]
  },
  {
   "cell_type": "markdown",
   "metadata": {},
   "source": [
    "### 添加或修改模块中某个函数或变量"
   ]
  },
  {
   "cell_type": "markdown",
   "metadata": {},
   "source": [
    "添加或修改模块中某个函数或变量: `setattr()`"
   ]
  }
 ],
 "metadata": {
  "kernelspec": {
   "display_name": "Python 3",
   "language": "python",
   "name": "python3"
  },
  "language_info": {
   "codemirror_mode": {
    "name": "ipython",
    "version": 3
   },
   "file_extension": ".py",
   "mimetype": "text/x-python",
   "name": "python",
   "nbconvert_exporter": "python",
   "pygments_lexer": "ipython3",
   "version": "3.6.4"
  }
 },
 "nbformat": 4,
 "nbformat_minor": 2
}
