{
 "cells": [
  {
   "cell_type": "markdown",
   "metadata": {},
   "source": [
    "# py-模块和包以及import机制"
   ]
  },
  {
   "cell_type": "markdown",
   "metadata": {},
   "source": [
    "### 模块"
   ]
  },
  {
   "cell_type": "markdown",
   "metadata": {},
   "source": [
    "写模块的时候不要和系统自带的模块的名字相同, 如果你自定义模块名字和系统模块一致,那么你的脚本就会出错,因为找不到系统模块所对应的函数,python解释器查找的是你自定义的模块,不会去找系统模块了.\n",
    "\n",
    "调用模块的时候，会先在当前目录下查找是否有这个模块，然后再会如python的环境变量中查找"
   ]
  },
  {
   "cell_type": "markdown",
   "metadata": {},
   "source": [
    "模块：本质就是一个.py文件\n",
    "\n",
    "分为三类：\n",
    "* 内置模块\n",
    "* 第三方模块\n",
    "* 自定义模块\n",
    "\n",
    "\n",
    "1. 每个模块都有自己的名称空间\n",
    "2. python中，模块也是对象\n",
    "3. 在一个模块的顶层定义的所有变量都在被导入时成为了被导入模块的属性"
   ]
  },
  {
   "cell_type": "markdown",
   "metadata": {},
   "source": [
    "python程序架构:\n",
    "* 一个python程序通常包括一个顶层程序文件和其他的模块文件（0个、1个或多个）\n",
    "* 顶层文件：包含了程序的主要控制流程\n",
    "* 模块文件：为顶层文件或其他模块提供各种功能性组件\n",
    "* 模块首次导入（或重载）时，python会立即执行模块文件的顶层程序代码（不在函数内的代码）。而位于函数主体内的代码直到函数被调用后才会执行"
   ]
  },
  {
   "cell_type": "markdown",
   "metadata": {},
   "source": [
    "### 模块和包定义："
   ]
  },
  {
   "cell_type": "markdown",
   "metadata": {},
   "source": [
    "* 模块用来从逻辑上组织python代码（变量，函数，类，逻辑：实现一个功能），本质就是.py结尾的python文件。（例如：文件名：test.py,对应的模块名：test）\n",
    "\n",
    "* 包：用来从逻辑上组织模块的，本质就是一个目录（必须带有一个__init__.py的文件）"
   ]
  },
  {
   "cell_type": "markdown",
   "metadata": {},
   "source": [
    "### import机制"
   ]
  },
  {
   "cell_type": "markdown",
   "metadata": {},
   "source": [
    "* import和from是可执行语句，类似于def，因此，它们可以在if测试中，出现于def中等等， python执行到这些语句时才会对其进行解析，这意味着所有来自模块的属性仅在import语句执行后才能使用\n",
    "* import和from都是隐性赋值语句,\n",
    "    * import将整个模块对象赋值给一个变量名 \n",
    "    * from将一个或多个变量名赋值给导入此模块的模块中的同名对象模块就是名称空间 \n",
    "    * 模块的名称空间可以通过属性dict或dir(M)获取 模块属性可通过点号(.)运算符获取，格式为M.attr 模块是一个独立的作用域(本地变量就是全局变量)\n",
    "    \n",
    "\n",
    "import语句导入指定的模块时执行三个步骤:\n",
    "1. 找到模块文件 在指定的路径下搜索模块文件 \n",
    "2. 编译成字节码 文件导入时就会编译，因此顶层文件的.pyc字节码文件在内部使用后会被丢弃，只有 被导入的文件才会留下.pyc文件 \n",
    "3. 执行模块的代码来创建其所定义的对象 模块文件中的所有语句会依次执行，从头至尾，而此步骤中任何对变量名的赋值运算，都会产生所得到的模块文件的属性 \n",
    "\n",
    "注意：\n",
    "* 模块只在第一次导入时才会执行如上步骤。 后续的导入操作只不过是提取内存中已加载的模块对象 \n",
    "* reload()可用于重新加载模块"
   ]
  },
  {
   "cell_type": "markdown",
   "metadata": {},
   "source": [
    "### 关于reload()函数"
   ]
  },
  {
   "cell_type": "markdown",
   "metadata": {},
   "source": [
    "`from importlib import reload`\n",
    "\n",
    "当一个变量在程序启动后才能获取,比如设置配置信息, 此时进程已经启动,而内存中的数据任然是设置前的数据,如何在不重启进程的情况下更新内存中的变量数据呢?\n",
    "\n",
    "解决方案: 使用`reload()`函数\n",
    "\n",
    "注意: 尽量将需要reload的变量或函数隔离开,放到单独的一个模块或包中."
   ]
  }
 ],
 "metadata": {
  "kernelspec": {
   "display_name": "Python 3",
   "language": "python",
   "name": "python3"
  },
  "language_info": {
   "codemirror_mode": {
    "name": "ipython",
    "version": 3
   },
   "file_extension": ".py",
   "mimetype": "text/x-python",
   "name": "python",
   "nbconvert_exporter": "python",
   "pygments_lexer": "ipython3",
   "version": "3.6.4"
  }
 },
 "nbformat": 4,
 "nbformat_minor": 2
}
