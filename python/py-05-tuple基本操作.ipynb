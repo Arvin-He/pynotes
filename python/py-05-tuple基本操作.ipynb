{
 "cells": [
  {
   "cell_type": "markdown",
   "metadata": {},
   "source": [
    "# tuple基本操作"
   ]
  },
  {
   "cell_type": "markdown",
   "metadata": {},
   "source": [
    "tuple和list非常类似，但是tuple一旦初始化就不能修改,不可以增删改.\n",
    "\n",
    "没有append，insert, extend , remove , pop这样的方法\n",
    "\n",
    "与list一样,分片(slice)也可以使用。注意当分割一个list时, 会得到一个新的list；当分割一个tuple时, 会得到一个新的tuple\n",
    "\n",
    "Tuple比list操作速度快。如果定义了一个常量集，并且唯一要用它做的是不断地遍历它，请使用tuple代替list。\n",
    "\n",
    "如果对不需要修改的数据进行 “写保护”，可以使代码更安全。使用tuple而不是list,如同拥有一个隐含的assert语句，说明这一数据是常量。\n",
    "\n",
    "如果必须要改变这些值，则需要执行 tuple 到 list 的转换。"
   ]
  },
  {
   "cell_type": "markdown",
   "metadata": {},
   "source": [
    "### 创建tuple"
   ]
  },
  {
   "cell_type": "markdown",
   "metadata": {},
   "source": [
    "创建tuple,最多只能接受一个参数"
   ]
  },
  {
   "cell_type": "code",
   "execution_count": null,
   "metadata": {},
   "outputs": [],
   "source": [
    "tup1 = 4, 5, 6\n",
    "tup2 = (7, 8, 9)\n",
    "tup3 = tuple([1, 2, 3])\n",
    "tup4 = tuple('abcdefg')\n",
    "tup5 = (1,2,3), (4.5, 5.5)\n",
    "tup6 = (1,2,3) + ('a', 'b', 'c') + (7, 8, 9)\n",
    "\n",
    "print(tup1)\n",
    "print(tup2)\n",
    "print(tup3)\n",
    "print(tup4)\n",
    "print(tup5)\n",
    "print(tup6)"
   ]
  },
  {
   "cell_type": "markdown",
   "metadata": {},
   "source": [
    "### tuple基本操作"
   ]
  },
  {
   "cell_type": "markdown",
   "metadata": {},
   "source": [
    "* count\n",
    "* index"
   ]
  },
  {
   "cell_type": "code",
   "execution_count": 7,
   "metadata": {},
   "outputs": [
    {
     "name": "stdout",
     "output_type": "stream",
     "text": [
      "3\n",
      "1\n"
     ]
    }
   ],
   "source": [
    "tup = (1, 3, 5, 6, 5, 3, 4, 5)\n",
    "print(tup.count(5))\n",
    "print(tup.index(3))"
   ]
  },
  {
   "cell_type": "markdown",
   "metadata": {},
   "source": [
    "### 解压tuple"
   ]
  },
  {
   "cell_type": "code",
   "execution_count": 9,
   "metadata": {},
   "outputs": [
    {
     "name": "stdout",
     "output_type": "stream",
     "text": [
      "4 5 (6, 7)\n"
     ]
    }
   ],
   "source": [
    "tup = (4, 5, (6, 7))\n",
    "a, b, c = tup\n",
    "print(a, b, c)"
   ]
  },
  {
   "cell_type": "markdown",
   "metadata": {},
   "source": [
    "tuple(seq)：将列表转换为元组。\n",
    "len(tuple)：计算元组元素个数。\n",
    "max(tuple)：返回元组中元素最大值。\n",
    "min(tuple)：返回元组中元素最小值。"
   ]
  },
  {
   "cell_type": "markdown",
   "metadata": {},
   "source": [
    "## 命名元组(named tuple)"
   ]
  },
  {
   "cell_type": "code",
   "execution_count": null,
   "metadata": {},
   "outputs": [],
   "source": []
  }
 ],
 "metadata": {
  "kernelspec": {
   "display_name": "Python 3",
   "language": "python",
   "name": "python3"
  },
  "language_info": {
   "codemirror_mode": {
    "name": "ipython",
    "version": 3
   },
   "file_extension": ".py",
   "mimetype": "text/x-python",
   "name": "python",
   "nbconvert_exporter": "python",
   "pygments_lexer": "ipython3",
   "version": "3.6.4"
  }
 },
 "nbformat": 4,
 "nbformat_minor": 2
}
