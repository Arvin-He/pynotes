{
 "cells": [
  {
   "cell_type": "markdown",
   "metadata": {},
   "source": [
    "# re基本使用"
   ]
  },
  {
   "cell_type": "markdown",
   "metadata": {},
   "source": [
    "### 什么是正则表达式?"
   ]
  },
  {
   "cell_type": "markdown",
   "metadata": {},
   "source": [
    "正则表达式是对字符串操作的一种逻辑公式，就是 事先定义好的一些特定字符、及这些特定字符的组合，组成一个“规则字符”，这个“规则字符” 来表达对字符的一种过滤逻辑。\n",
    "\n",
    "正则并不是python独有的，其他语言也都有正则\n",
    "\n",
    "python中的正则，封装了re模块"
   ]
  },
  {
   "cell_type": "markdown",
   "metadata": {},
   "source": [
    "### python正则详细讲解"
   ]
  },
  {
   "cell_type": "markdown",
   "metadata": {},
   "source": [
    "#### 常用匹配模式"
   ]
  },
  {
   "cell_type": "markdown",
   "metadata": {},
   "source": [
    "```\n",
    "\\w      匹配字母数字及下划线\n",
    "\\W      匹配f非字母数字下划线\n",
    "\\s      匹配任意空白字符，等价于[\\t\\n\\r\\f]\n",
    "\\S      匹配任意非空字符\n",
    "\\d      匹配任意数字\n",
    "\\D      匹配任意非数字\n",
    "\\A      匹配字符串开始\n",
    "\\Z      匹配字符串结束，如果存在换行，只匹配换行前的结束字符串\n",
    "\\z      匹配字符串结束\n",
    "\\G      匹配最后匹配完成的位置\n",
    "\\n      匹配一个换行符\n",
    "\\t      匹配一个制表符\n",
    "^       匹配字符串的开头\n",
    "$       匹配字符串的末尾\n",
    ".       匹配任意字符，除了换行符，re.DOTALL标记被指定时，则可以匹配包括换行符的任意字符\n",
    "[....]  用来表示一组字符，单独列出：[amk]匹配a,m或k\n",
    "[^...]  不在[]中的字符：[^abc]匹配除了a,b,c之外的字符\n",
    "*       匹配0个或多个的表达式\n",
    "+       匹配1个或者多个的表达式\n",
    "?       匹配0个或1个由前面的正则表达式定义的片段，非贪婪方式\n",
    "{n}     精确匹配n前面的表示\n",
    "{m,m}   匹配n到m次由前面的正则表达式定义片段，贪婪模式\n",
    "a|b     匹配a或者b\n",
    "()      匹配括号内的表达式，也表示一个组\n",
    "```"
   ]
  },
  {
   "cell_type": "markdown",
   "metadata": {},
   "source": [
    "### re.match"
   ]
  },
  {
   "cell_type": "markdown",
   "metadata": {},
   "source": [
    "从字符串的起始位置匹配，如果起始位置没有匹配到内容，则返回None"
   ]
  },
  {
   "cell_type": "code",
   "execution_count": 2,
   "metadata": {},
   "outputs": [
    {
     "name": "stdout",
     "output_type": "stream",
     "text": [
      "常规匹配\n",
      "<_sre.SRE_Match object; span=(0, 41), match='hello 123 4567 World_This is a regex Demo'>\n",
      "hello 123 4567 World_This is a regex Demo\n",
      "(0, 41)\n",
      "泛匹配\n",
      "<_sre.SRE_Match object; span=(0, 41), match='hello 123 4567 World_This is a regex Demo'>\n",
      "hello 123 4567 World_This is a regex Demo\n",
      "(0, 41)\n"
     ]
    }
   ],
   "source": [
    "import re\n",
    "\n",
    "content= \"hello 123 4567 World_This is a regex Demo\"\n",
    "\n",
    "# 常规匹配\n",
    "print('常规匹配')\n",
    "result = re.match('^hello\\s\\d\\d\\d\\s\\d{4}\\s\\w{10}.*Demo$',content)\n",
    "\n",
    "print(result)\n",
    "print(result.group())\n",
    "print(result.span())\n",
    "\n",
    "# 泛匹配\n",
    "print('泛匹配')\n",
    "result = re.match(\"^hello.*Demo$\",content)\n",
    "\n",
    "print(result)\n",
    "print(result.group())\n",
    "print(result.span())"
   ]
  },
  {
   "cell_type": "markdown",
   "metadata": {},
   "source": [
    "result.group() 获取匹配的结果\n",
    "\n",
    "result.span() 获去匹配字符串的长度范围"
   ]
  },
  {
   "cell_type": "markdown",
   "metadata": {},
   "source": [
    "### 匹配目标"
   ]
  },
  {
   "cell_type": "markdown",
   "metadata": {},
   "source": [
    "如果为了匹配字符串中具体的目标，则需要通过（）括起来\n",
    "\n",
    "这里需要说一下的是通过re.group()获得结果后，如果正则表达式中有括号，则re.group(1)获取的就是第一个括号中匹配的结果"
   ]
  },
  {
   "cell_type": "code",
   "execution_count": 3,
   "metadata": {},
   "outputs": [
    {
     "name": "stdout",
     "output_type": "stream",
     "text": [
      "<_sre.SRE_Match object; span=(0, 40), match='hello 1234567 World_This is a regex Demo'>\n",
      "hello 1234567 World_This is a regex Demo\n",
      "1234567\n",
      "(0, 40)\n"
     ]
    }
   ],
   "source": [
    "import re\n",
    "\n",
    "content= \"hello 1234567 World_This is a regex Demo\"\n",
    "\n",
    "result = re.match('^hello\\s(\\d+)\\sWorld.*Demo$',content)\n",
    "\n",
    "print(result)\n",
    "print(result.group())\n",
    "print(result.group(1))\n",
    "print(result.span())"
   ]
  },
  {
   "cell_type": "markdown",
   "metadata": {},
   "source": [
    "### 贪婪匹配与非贪婪匹配"
   ]
  },
  {
   "cell_type": "markdown",
   "metadata": {},
   "source": [
    "从结果中可以看出只匹配到了7，并没有匹配到1234567，出现这种情况的原因是前面的`.* `给匹配掉了， `.*`在这里会尽可能的匹配多的内容，也就是我们所说的贪婪匹配，\n",
    "\n",
    "如果我们想要匹配到1234567则需要将正则表达式改为：\n",
    "\n",
    "result= re.match('^he.*?(\\d+).*Demo',content)\n",
    "\n",
    "这样结果就可以匹配到1234567"
   ]
  },
  {
   "cell_type": "code",
   "execution_count": 6,
   "metadata": {},
   "outputs": [
    {
     "name": "stdout",
     "output_type": "stream",
     "text": [
      "贪婪匹配\n",
      "<_sre.SRE_Match object; span=(0, 40), match='hello 1234567 World_This is a regex Demo'>\n",
      "7\n",
      "非贪婪匹配\n",
      "<_sre.SRE_Match object; span=(0, 40), match='hello 1234567 World_This is a regex Demo'>\n",
      "1234567\n"
     ]
    }
   ],
   "source": [
    "import re\n",
    "\n",
    "content= \"hello 1234567 World_This is a regex Demo\"\n",
    "\n",
    "print('贪婪匹配')\n",
    "result= re.match('^hello.*(\\d+).*Demo',content)\n",
    "print(result)\n",
    "print(result.group(1))\n",
    "\n",
    "print('非贪婪匹配')\n",
    "result= re.match('^he.*?(\\d+).*Demo',content)\n",
    "print(result)\n",
    "print(result.group(1))"
   ]
  },
  {
   "cell_type": "markdown",
   "metadata": {},
   "source": [
    "### 匹配模式"
   ]
  },
  {
   "cell_type": "markdown",
   "metadata": {},
   "source": [
    "当匹配的内容是存在换行问题，这个时候就需要用到匹配模式`re.S`来匹配换行的内容."
   ]
  },
  {
   "cell_type": "code",
   "execution_count": 8,
   "metadata": {},
   "outputs": [
    {
     "name": "stdout",
     "output_type": "stream",
     "text": [
      "<_sre.SRE_Match object; span=(0, 40), match='hello 123456 world_this\\nmy name is arvin'>\n",
      "hello 123456 world_this\n",
      "my name is arvin\n",
      "123456\n"
     ]
    }
   ],
   "source": [
    "import re\n",
    "\n",
    "content = \"\"\"hello 123456 world_this\n",
    "my name is arvin\n",
    "\"\"\"\n",
    "\n",
    "result =re.match('^he.*?(\\d+).*?arvin$',content,re.S)\n",
    "print(result)\n",
    "print(result.group())\n",
    "print(result.group(1))"
   ]
  },
  {
   "cell_type": "markdown",
   "metadata": {},
   "source": [
    "### 转义"
   ]
  },
  {
   "cell_type": "markdown",
   "metadata": {},
   "source": [
    "当匹配的内容中存在特殊字符的时候，就需要用到转移符号\\,例子如下："
   ]
  },
  {
   "cell_type": "code",
   "execution_count": 10,
   "metadata": {},
   "outputs": [
    {
     "name": "stdout",
     "output_type": "stream",
     "text": [
      "<_sre.SRE_Match object; span=(0, 14), match='price is $5.00'>\n",
      "price is $5.00\n"
     ]
    }
   ],
   "source": [
    "import re\n",
    "\n",
    "content= \"price is $5.00\"\n",
    "\n",
    "result = re.match('price is \\$5\\.00',content)\n",
    "\n",
    "print(result)\n",
    "print(result.group())"
   ]
  },
  {
   "cell_type": "markdown",
   "metadata": {},
   "source": [
    "小结:\n",
    "\n",
    "* 尽量使用泛匹配，使用括号得到匹配目标，尽量使用非贪婪模式，有换行符就用re.S\n",
    "* re.match是从字符串的起始位置匹配一个模式"
   ]
  },
  {
   "cell_type": "markdown",
   "metadata": {},
   "source": [
    "### re.search"
   ]
  },
  {
   "cell_type": "markdown",
   "metadata": {},
   "source": [
    "re.search扫描整个字符串返回第一个成功匹配的结果\n",
    "\n",
    "注意：为了匹配方便，更多用search，而不用match, match必须匹配头部，所以很多时候不是特别方便."
   ]
  },
  {
   "cell_type": "code",
   "execution_count": 11,
   "metadata": {},
   "outputs": [
    {
     "name": "stdout",
     "output_type": "stream",
     "text": [
      "<_sre.SRE_Match object; span=(13, 44), match='hello 123455 world_this is a Re'>\n",
      "hello 123455 world_this is a Re\n",
      "123455\n"
     ]
    }
   ],
   "source": [
    "import re\n",
    "\n",
    "content = \"extra things hello 123455 world_this is a Re Extra things\"\n",
    "\n",
    "result = re.search(\"hello.*?(\\d+).*?Re\",content)\n",
    "\n",
    "print(result)\n",
    "print(result.group())\n",
    "print(result.group(1))"
   ]
  },
  {
   "cell_type": "markdown",
   "metadata": {},
   "source": [
    "### 匹配演练"
   ]
  },
  {
   "cell_type": "code",
   "execution_count": 12,
   "metadata": {},
   "outputs": [
    {
     "name": "stdout",
     "output_type": "stream",
     "text": [
      "<_sre.SRE_Match object; span=(153, 366), match='<li data-view=\"2\">一路上有你</li>\\n        <li data-vi>\n",
      "('齐秦', '往事随风')\n",
      "齐秦\n",
      "往事随风\n"
     ]
    }
   ],
   "source": [
    "import re\n",
    "\n",
    "html = '''<div id=\"songs-list\">\n",
    "    <h2 class=\"title\">经典老歌</h2>\n",
    "    <p class=\"introduction\">\n",
    "        经典老歌列表\n",
    "    </p>\n",
    "    <ul id=\"list\" class=\"list-group\">\n",
    "        <li data-view=\"2\">一路上有你</li>\n",
    "        <li data-view=\"7\">\n",
    "            <a href=\"/2.mp3\" singer=\"任贤齐\">沧海一声笑</a>\n",
    "        </li>\n",
    "        <li data-view=\"4\" class=\"active\">\n",
    "            <a href=\"/3.mp3\" singer=\"齐秦\">往事随风</a>\n",
    "        </li>\n",
    "        <li data-view=\"6\"><a href=\"/4.mp3\" singer=\"beyond\">光辉岁月</a></li>\n",
    "        <li data-view=\"5\"><a href=\"/5.mp3\" singer=\"陈慧琳\">记事本</a></li>\n",
    "        <li data-view=\"5\">\n",
    "            <a href=\"/6.mp3\" singer=\"邓丽君\">但愿人长久</a>\n",
    "        </li>\n",
    "    </ul>\n",
    "</div>'''\n",
    "\n",
    "result = re.search('<li.*?active.*?singer=\"(.*?)\">(.*?)</a>',html,re.S)\n",
    "print(result)\n",
    "print(result.groups())\n",
    "print(result.group(1))\n",
    "print(result.group(2))"
   ]
  },
  {
   "cell_type": "markdown",
   "metadata": {},
   "source": [
    "### re.findall"
   ]
  },
  {
   "cell_type": "markdown",
   "metadata": {},
   "source": [
    "搜索字符串，以列表的形式返回全部能匹配的子串"
   ]
  },
  {
   "cell_type": "code",
   "execution_count": 16,
   "metadata": {},
   "outputs": [
    {
     "name": "stdout",
     "output_type": "stream",
     "text": [
      "[('/2.mp3', '任贤齐', '沧海一声笑'), ('/3.mp3', '齐秦', '往事随风'), ('/4.mp3', 'beyond', '光辉岁月'), ('/5.mp3', '陈慧琳', '记事本'), ('/6.mp3', '邓丽君', '但愿人长久')]\n",
      "<class 'list'>\n",
      "('/2.mp3', '任贤齐', '沧海一声笑')\n",
      "/2.mp3 任贤齐 沧海一声笑\n",
      "('/3.mp3', '齐秦', '往事随风')\n",
      "/3.mp3 齐秦 往事随风\n",
      "('/4.mp3', 'beyond', '光辉岁月')\n",
      "/4.mp3 beyond 光辉岁月\n",
      "('/5.mp3', '陈慧琳', '记事本')\n",
      "/5.mp3 陈慧琳 记事本\n",
      "('/6.mp3', '邓丽君', '但愿人长久')\n",
      "/6.mp3 邓丽君 但愿人长久\n",
      "=========================\n",
      "只匹配歌名\n",
      "[('', '一路上有你', ''), ('<a href=\"/2.mp3\" singer=\"任贤齐\">', '沧海一声笑', '</a>'), ('<a href=\"/3.mp3\" singer=\"齐秦\">', '往事随风', '</a>'), ('<a href=\"/4.mp3\" singer=\"beyond\">', '光辉岁月', '</a>'), ('<a href=\"/5.mp3\" singer=\"陈慧琳\">', '记事本', '</a>'), ('<a href=\"/6.mp3\" singer=\"邓丽君\">', '但愿人长久', '</a>')]\n",
      "一路上有你\n",
      "沧海一声笑\n",
      "往事随风\n",
      "光辉岁月\n",
      "记事本\n",
      "但愿人长久\n"
     ]
    }
   ],
   "source": [
    "import re\n",
    "\n",
    "html = '''<div id=\"songs-list\">\n",
    "    <h2 class=\"title\">经典老歌</h2>\n",
    "    <p class=\"introduction\">\n",
    "        经典老歌列表\n",
    "    </p>\n",
    "    <ul id=\"list\" class=\"list-group\">\n",
    "        <li data-view=\"2\">一路上有你</li>\n",
    "        <li data-view=\"7\">\n",
    "            <a href=\"/2.mp3\" singer=\"任贤齐\">沧海一声笑</a>\n",
    "        </li>\n",
    "        <li data-view=\"4\" class=\"active\">\n",
    "            <a href=\"/3.mp3\" singer=\"齐秦\">往事随风</a>\n",
    "        </li>\n",
    "        <li data-view=\"6\"><a href=\"/4.mp3\" singer=\"beyond\">光辉岁月</a></li>\n",
    "        <li data-view=\"5\"><a href=\"/5.mp3\" singer=\"陈慧琳\">记事本</a></li>\n",
    "        <li data-view=\"5\">\n",
    "            <a href=\"/6.mp3\" singer=\"邓丽君\">但愿人长久</a>\n",
    "        </li>\n",
    "    </ul>\n",
    "</div>'''\n",
    "\n",
    "results = re.findall('<li.*?href=\"(.*?)\".*?singer=\"(.*?)\">(.*?)</a>', html, re.S)\n",
    "print(results)\n",
    "print(type(results))\n",
    "for result in results:\n",
    "    print(result)\n",
    "    print(result[0], result[1], result[2])\n",
    "print('=========================')\n",
    "print('只匹配歌名')    \n",
    "results = re.findall('<li.*?>\\s*?(<a.*?>)?(\\w+)(</a>)?\\s*?</li>',html,re.S)\n",
    "print(results)\n",
    "for result in results:\n",
    "    print(result[1])"
   ]
  },
  {
   "cell_type": "markdown",
   "metadata": {},
   "source": [
    "其实这里可以看出:\n",
    "\n",
    "* \\s*? 这种用法其实就是为了解决有的有换行，有的没有换行的问题\n",
    "\n",
    "* (<a.*?>)? 这种用法是因为html中有的有a标签，有的没有的，？表示匹配一个或0个，正好可以用于匹配"
   ]
  },
  {
   "cell_type": "markdown",
   "metadata": {},
   "source": [
    "### re.sub"
   ]
  },
  {
   "cell_type": "markdown",
   "metadata": {},
   "source": [
    "替换字符串中每一个匹配的子串后返回替换后的字符串\n",
    "\n",
    "re.sub(正则表达式，替换成的字符串，原字符串)"
   ]
  },
  {
   "cell_type": "code",
   "execution_count": 17,
   "metadata": {},
   "outputs": [
    {
     "name": "stdout",
     "output_type": "stream",
     "text": [
      "Extra things hello  World_this is a regex Demo extra things\n"
     ]
    }
   ],
   "source": [
    "import re\n",
    "\n",
    "content = \"Extra things hello 123455 World_this is a regex Demo extra things\"\n",
    "\n",
    "content = re.sub('\\d+', '', content)\n",
    "\n",
    "print(content)"
   ]
  },
  {
   "cell_type": "markdown",
   "metadata": {},
   "source": [
    "在有些情况下替换字符的时候，还想获取匹配的字符串，然后在后面添加一些内容，可以通过下面方式实现：\n",
    "\n",
    "注意: `\\1`是获取第一个匹配的结果，为了防止转义字符的问题，我们需要在前面加上r"
   ]
  },
  {
   "cell_type": "code",
   "execution_count": 18,
   "metadata": {},
   "outputs": [
    {
     "name": "stdout",
     "output_type": "stream",
     "text": [
      "Extra things hello 123455 7890 World_this is a regex Demo extra things\n"
     ]
    }
   ],
   "source": [
    "import re\n",
    "\n",
    "content = \"Extra things hello 123455 World_this is a regex Demo extra things\"\n",
    "\n",
    "content = re.sub('(\\d+)',r'\\1 7890',content)\n",
    "print(content)"
   ]
  },
  {
   "cell_type": "markdown",
   "metadata": {},
   "source": [
    "### re.complie"
   ]
  },
  {
   "cell_type": "markdown",
   "metadata": {},
   "source": [
    "将正则表达式编译成正则表达式对象，方便复用该正则表达式"
   ]
  },
  {
   "cell_type": "code",
   "execution_count": 19,
   "metadata": {},
   "outputs": [
    {
     "name": "stdout",
     "output_type": "stream",
     "text": [
      "<_sre.SRE_Match object; span=(0, 32), match='hello 12345 world_this\\n123 arvin'>\n",
      "hello 12345 world_this\n",
      "123 arvin\n"
     ]
    }
   ],
   "source": [
    "import re\n",
    "content= \"\"\"hello 12345 world_this\n",
    "123 arvin\n",
    "\"\"\"\n",
    "\n",
    "pattern =re.compile(\"hello.*arvin\", re.S)\n",
    "\n",
    "result = re.match(pattern,content)\n",
    "print(result)\n",
    "print(result.group())"
   ]
  },
  {
   "cell_type": "markdown",
   "metadata": {},
   "source": [
    "### 正则的综合练习"
   ]
  },
  {
   "cell_type": "code",
   "execution_count": null,
   "metadata": {},
   "outputs": [],
   "source": [
    "import requests\n",
    "import re\n",
    "\n",
    "content = requests.get('https://book.douban.com/').text\n",
    "\n",
    "pattern = re.compile('<li.*?cover.*?href=\"(.*?)\".*?title=\"(.*?)\".*?more-meta.*?author\">(.*?)</span>.*?year\">(.*?)</span>.*?</li>', re.S)\n",
    "\n",
    "results = re.findall(pattern, content)\n",
    "\n",
    "print(results)\n",
    "\n",
    "for result in results:\n",
    "    url,name,author,date = result\n",
    "    author = re.sub('\\s','',author)\n",
    "    date = re.sub('\\s','',date)\n",
    "    print(url, name, author, date)"
   ]
  },
  {
   "cell_type": "markdown",
   "metadata": {},
   "source": [
    "## 常见正则使用例子"
   ]
  },
  {
   "cell_type": "markdown",
   "metadata": {},
   "source": [
    "### 正则匹配IP"
   ]
  },
  {
   "cell_type": "code",
   "execution_count": null,
   "metadata": {},
   "outputs": [],
   "source": [
    "import re\n",
    "\n",
    "#简单的匹配给定的字符串是否是ip地址,下面的例子它不是IPv4的地址，但是它满足正则表达式\n",
    "if re.match(r\"^(?:[0-9]{1,3}\\.){3}[0-9]{1,3}$\", \"272.168,1,1\"):\n",
    "    print \"IP vaild\"\n",
    "else:\n",
    "    print \"IP invaild\"\n",
    "    \n",
    "#精确的匹配给定的字符串是否是IP地址\n",
    "if re.match(r\"^(?:(?:25[0-5]|2[0-4][0-9]|[01]?[0-9][0-9]?)\\.){3}(?:25[0-5]|2[0-4][0-9]|[01]?[0-9][0-9]?)$\", \"223.168.1.1\"):\n",
    "    print \"IP vaild\"\n",
    "else:\n",
    "    print \"IP invaild\"\n",
    "    \n",
    "#简单的从长文本中提取中提取ip地址\n",
    "string_ip = \"is this 289.22.22.22 ip ?\n",
    "result = re.findall(r\"\\b(?:[0-9]{1,3}\\.){3}[0-9]{1,3}\\b\", string_ip)\n",
    "if result:\n",
    "    print result\n",
    "else:\n",
    "    print \"re cannot find ip\"\n",
    "    \n",
    "#精确提取IP\n",
    "result = re.findall(r\"\\b(?:(?:25[0-5]|2[0-4][0-9]|[01]?[0-9][0-9]?)\\.){3}(?:25[0-5]|2[0-4][0-9]|[01]?[0-9][0-9]?)\\b\", string_ip):\n",
    "if result:\n",
    "    print result\n",
    "else:\n",
    "    print \"re cannot find ip"
   ]
  },
  {
   "cell_type": "code",
   "execution_count": null,
   "metadata": {},
   "outputs": [],
   "source": [
    "string_IPv6=\"1050:0:0:0:5:600:300c:326b\"\n",
    "\n",
    "#匹配是否满足IPv6格式要求,请注意例子里大小写不敏感\n",
    "if re.match(r\"^(?:[A-F0-9]{1,4}:){7}[A-F0-9]{1,4}$\", string_IPv6, re.I):\n",
    "    print \"IPv6 vaild\"\n",
    "else:\n",
    "    print \"IPv6 invaild\"\n",
    "    \n",
    "#提取IPv6，例子里大小写不敏感\n",
    "result = re.findall(r\"(?<![:.\\w])(?:[A-F0-9]{1,4}:){7}[A-F0-9]{1,4}(?![:.\\w])\", string_IPv6, re.I)\n",
    "\n",
    "#打印提取结果\n",
    "print result"
   ]
  }
 ],
 "metadata": {
  "kernelspec": {
   "display_name": "Python 3",
   "language": "python",
   "name": "python3"
  },
  "language_info": {
   "codemirror_mode": {
    "name": "ipython",
    "version": 3
   },
   "file_extension": ".py",
   "mimetype": "text/x-python",
   "name": "python",
   "nbconvert_exporter": "python",
   "pygments_lexer": "ipython3",
   "version": "3.6.4"
  }
 },
 "nbformat": 4,
 "nbformat_minor": 2
}
