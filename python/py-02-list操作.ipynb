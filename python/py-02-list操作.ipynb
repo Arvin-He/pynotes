{
 "cells": [
  {
   "cell_type": "markdown",
   "metadata": {},
   "source": [
    "# 列表常用操作"
   ]
  },
  {
   "cell_type": "markdown",
   "metadata": {},
   "source": [
    "* append\n",
    "* clear\n",
    "* copy\n",
    "* count\n",
    "* extend\n",
    "* index\n",
    "* insert\n",
    "* pop\n",
    "* remove\n",
    "* reverse\n",
    "* sort"
   ]
  },
  {
   "cell_type": "markdown",
   "metadata": {},
   "source": [
    "### 创建一个list"
   ]
  },
  {
   "cell_type": "code",
   "execution_count": 10,
   "metadata": {},
   "outputs": [
    {
     "name": "stdout",
     "output_type": "stream",
     "text": [
      "[1, 2, 3]\n",
      "[0, 1, 2, 3, 4, 5]\n",
      "[123, 'abc', '122']\n",
      "[0, 1, 2, 3, 4]\n",
      "[0, 1, 2, 3, 4]\n",
      "['hello', 'hello', 'hello']\n"
     ]
    }
   ],
   "source": [
    "a = [1, 2, 3]\n",
    "print(a)\n",
    "a = list(range(6))\n",
    "print(a)\n",
    "a = list((123, 'abc', '122'))\n",
    "print(a)\n",
    "a = list(set(range(5)))\n",
    "print(a)\n",
    "\n",
    "b = a.copy()\n",
    "print(b)\n",
    "\n",
    "c = ['hello']*3\n",
    "print(c)"
   ]
  },
  {
   "cell_type": "markdown",
   "metadata": {},
   "source": [
    "### 访问列表中的值"
   ]
  },
  {
   "cell_type": "code",
   "execution_count": 4,
   "metadata": {},
   "outputs": [
    {
     "name": "stdout",
     "output_type": "stream",
     "text": [
      "[0, 1, 2, 3, 4, 5, 6, 7, 8, 9]\n",
      "取第一个元素: 0\n",
      "取最后一个元素: 9\n",
      "取第2到3个元素: [1, 2]\n",
      "每隔一个取元素: [0, 2, 4, 6, 8]\n"
     ]
    }
   ],
   "source": [
    "a = list(range(10))\n",
    "print(a)\n",
    "print('取第一个元素:',a[0])\n",
    "print('取最后一个元素:', a[-1])\n",
    "print('取第2到3个元素:',a[1:3])\n",
    "print('每隔一个取元素:',a[::2])\n"
   ]
  },
  {
   "cell_type": "markdown",
   "metadata": {},
   "source": [
    "### 添加元素"
   ]
  },
  {
   "cell_type": "code",
   "execution_count": 5,
   "metadata": {},
   "outputs": [
    {
     "data": {
      "text/plain": [
       "[123, 'abc', None]"
      ]
     },
     "execution_count": 5,
     "metadata": {},
     "output_type": "execute_result"
    }
   ],
   "source": [
    "my_list = []\n",
    "\n",
    "my_list.append(123)\n",
    "my_list.append('abc')\n",
    "my_list.append(None)\n",
    "my_list"
   ]
  },
  {
   "cell_type": "markdown",
   "metadata": {},
   "source": [
    "### 删除元素"
   ]
  },
  {
   "cell_type": "code",
   "execution_count": 8,
   "metadata": {},
   "outputs": [
    {
     "name": "stdout",
     "output_type": "stream",
     "text": [
      "2 [1, 3, 3, 2, 1]\n",
      "[1, 3, 3, 2]\n",
      "[1, 3, 2]\n",
      "[]\n"
     ]
    }
   ],
   "source": [
    "my_list = [1,2,3,3,2,1]\n",
    "\n",
    "# 使用pop（）移除某元素并返回该元素，\n",
    "res = my_list.pop(1)\n",
    "print(res, my_list)\n",
    "# 使用 del 语句来删除列表的的元素\n",
    "del my_list[-1]\n",
    "print(my_list)\n",
    "# 使用remove（）删除从左找到的第一个指定元素\n",
    "my_list.remove(3)\n",
    "print(my_list)\n",
    "# clear清空列表\n",
    "my_list.clear()\n",
    "print(my_list)"
   ]
  },
  {
   "cell_type": "markdown",
   "metadata": {},
   "source": [
    "### 列表元素计数count"
   ]
  },
  {
   "cell_type": "code",
   "execution_count": 11,
   "metadata": {},
   "outputs": [
    {
     "name": "stdout",
     "output_type": "stream",
     "text": [
      "1\n",
      "1\n"
     ]
    }
   ],
   "source": [
    "my_list = [123, 'abc', [1, 'ss']]\n",
    "\n",
    "print(my_list.count(123))\n",
    "\n",
    "print(my_list[2].count(1))"
   ]
  },
  {
   "cell_type": "markdown",
   "metadata": {},
   "source": [
    "### extend"
   ]
  },
  {
   "cell_type": "code",
   "execution_count": 13,
   "metadata": {},
   "outputs": [
    {
     "name": "stdout",
     "output_type": "stream",
     "text": [
      "[123, 'abc', [1, 'ss'], 1, 2, 3]\n"
     ]
    }
   ],
   "source": [
    "my_list = [123, 'abc', [1, 'ss']]\n",
    "\n",
    "list1 = [1, 2, 3]\n",
    "\n",
    "my_list.extend(list1)\n",
    "\n",
    "print(my_list)"
   ]
  },
  {
   "cell_type": "markdown",
   "metadata": {},
   "source": [
    "### index"
   ]
  },
  {
   "cell_type": "code",
   "execution_count": 16,
   "metadata": {},
   "outputs": [
    {
     "name": "stdout",
     "output_type": "stream",
     "text": [
      "0\n",
      "1\n"
     ]
    }
   ],
   "source": [
    "my_list = [123, 'abc', [1, 'ss']]\n",
    "\n",
    "print(my_list.index(123))\n",
    "\n",
    "print(my_list.index('abc'))"
   ]
  },
  {
   "cell_type": "markdown",
   "metadata": {},
   "source": [
    "### insert"
   ]
  },
  {
   "cell_type": "code",
   "execution_count": 19,
   "metadata": {},
   "outputs": [
    {
     "name": "stdout",
     "output_type": "stream",
     "text": [
      "[123, 'abc', [1, 'ss'], 'ss', 'ass']\n"
     ]
    }
   ],
   "source": [
    "my_list = [123, 'abc', [1, 'ss']]\n",
    "\n",
    "my_list.insert(4, 'ass')\n",
    "my_list.insert(3, 'ss')\n",
    "\n",
    "print(my_list)"
   ]
  },
  {
   "cell_type": "markdown",
   "metadata": {},
   "source": [
    "### 列表排序"
   ]
  },
  {
   "cell_type": "markdown",
   "metadata": {},
   "source": [
    "注意排序优先级：数字>大写字母>小写字母>符号>中文\n",
    "\n",
    "1. 永久性排序：L.sort(key=None, reverse=False), 列表内部排序\n",
    "2. 临时性排序：sorted(), 不在内部直接排序,返回一个排序好的新列表\n",
    "3. 反转排序：reverse()"
   ]
  },
  {
   "cell_type": "code",
   "execution_count": 13,
   "metadata": {},
   "outputs": [
    {
     "name": "stdout",
     "output_type": "stream",
     "text": [
      "['123', '?', 'W', 'w', '排序']\n",
      "['123', '?', 'W', 'w', '排序']\n",
      "['排序', 'w', 'W', '?', '123']\n"
     ]
    }
   ],
   "source": [
    "l1 = [\"排序\",\"?\",\"123\",\"w\",\"W\"]\n",
    "\n",
    "l1.sort()\n",
    "print(l1)\n",
    "print(sorted(l1))\n",
    "l1.reverse()\n",
    "print(l1)"
   ]
  },
  {
   "cell_type": "markdown",
   "metadata": {},
   "source": [
    "### slice(切片)"
   ]
  },
  {
   "cell_type": "code",
   "execution_count": 24,
   "metadata": {},
   "outputs": [],
   "source": [
    "list1 = [\n",
    "    b'/var/spool/cron/crontabs/root',\n",
    "    b'15,30,45,59 * * * * echo \"xgmtest.....\" >> xgmtest.txt',\n",
    "    b'/var/spool/cron/crontabs/xxxxxxxxxx',\n",
    "    b'*/10  * * * * ntpdate time.windows.com >/dev/null 2>&1'\n",
    "]\n",
    "\n",
    "for i, item in enumerate(list1):\n",
    "    if i % 2 == 0:\n",
    "        user = item[item.rfind(b'/')+1:]\n",
    "        next_line = list1[i+1]\n",
    "        fileds = next_line.split(b' ')\n",
    "        fileds = [item for item in fileds if item]\n",
    "        cycle = b' '.join(fileds[:5])\n",
    "        program = b' '.join(fileds[5:])\n",
    "        "
   ]
  },
  {
   "cell_type": "code",
   "execution_count": 4,
   "metadata": {},
   "outputs": [
    {
     "name": "stdout",
     "output_type": "stream",
     "text": [
      "b'7.54,0.00,19.35,0.00,0.00,73.12'\n"
     ]
    }
   ],
   "source": [
    "line = b'16:33:19   7.54,0.00,19.35,0.00,0.00,73.12'\n",
    "\n",
    "\n",
    "aa, items = [item for item in line.split(b' ') if item]\n",
    "\n",
    "print(items)"
   ]
  },
  {
   "cell_type": "markdown",
   "metadata": {},
   "source": [
    "### 去除相邻相同元素,只保留一个"
   ]
  },
  {
   "cell_type": "markdown",
   "metadata": {},
   "source": [
    "给出一个列表,输出去除相邻相同元素,且只保留一个.\n",
    "\n",
    "输入: aa = [1, 3, 5, 5, 5, 3, 2, 1, 1, 2, 3, 3]\n",
    "\n",
    "输出: bb = [1, 3, 5, 3, 2, 1, 2, 3]"
   ]
  },
  {
   "cell_type": "code",
   "execution_count": 1,
   "metadata": {},
   "outputs": [
    {
     "name": "stdout",
     "output_type": "stream",
     "text": [
      "12\n",
      "[1, 3, 5, 3, 2, 1, 2, 3]\n"
     ]
    }
   ],
   "source": [
    "aa = [1, 3, 5, 5, 5, 3, 2, 1, 1, 2, 3, 3]\n",
    "print(len(aa))\n",
    "\n",
    "bb = [item for i, item in enumerate(aa[1:]) if aa[i]!=aa[i+1] and len(aa)>1]\n",
    "bb.insert(0, aa[0])\n",
    "print(bb)"
   ]
  },
  {
   "cell_type": "markdown",
   "metadata": {},
   "source": [
    "### 两两取出列表数据"
   ]
  },
  {
   "cell_type": "code",
   "execution_count": 2,
   "metadata": {},
   "outputs": [
    {
     "name": "stdout",
     "output_type": "stream",
     "text": [
      "[['bad', 'good'], ['bad', 'good'], ['bad', 'good'], ['bad', 'good']]\n",
      "[['bad', 'good'], ['bad', 'good'], ['bad', 'good']]\n"
     ]
    }
   ],
   "source": [
    "a1 = ['bad', 'good', 'bad', 'good', 'bad', 'good', 'bad', 'good']\n",
    "a2 = ['bad', 'good', 'bad', 'good', 'bad', 'good', 'bad']\n",
    "\n",
    "\n",
    "print([a1[i:i+2] for i in range(len(a1)-1) if i%2 == 0])\n",
    "print([a2[i:i+2] for i in range(len(a2)-1) if i%2 == 0])"
   ]
  },
  {
   "cell_type": "markdown",
   "metadata": {},
   "source": [
    "### 展开嵌套列表"
   ]
  },
  {
   "cell_type": "code",
   "execution_count": 3,
   "metadata": {},
   "outputs": [
    {
     "name": "stdout",
     "output_type": "stream",
     "text": [
      "[1, 2, 3, 4, 5, 6, 7, 8]\n",
      "<generator object flatten at 0x0000028B3C833F68>\n"
     ]
    }
   ],
   "source": [
    "a = [[1,2,3], [4, 5, 6], [7, 8]]\n",
    "\n",
    "def flatten(items):\n",
    "    res = []\n",
    "    for item in items:\n",
    "        res.extend(item)\n",
    "    return res\n",
    "\n",
    "print(flatten(a))\n",
    "\n",
    "# 生成器\n",
    "from collections import Iterable\n",
    "\n",
    "def flatten(items, ignore_types=(str, bytes)):\n",
    "    for x in items:\n",
    "        if isinstance(x, Iterable) and not isinstance(x, ignore_types):\n",
    "            yield from flatten(x)\n",
    "        else:\n",
    "            yield x\n",
    "\n",
    "print(flatten(a))            "
   ]
  },
  {
   "cell_type": "markdown",
   "metadata": {},
   "source": [
    "### list如何进行相减操作或者将list分片"
   ]
  },
  {
   "cell_type": "markdown",
   "metadata": {},
   "source": [
    "[1,6,3,6]-[3,6]=[1,6] 怎么实现 ?"
   ]
  },
  {
   "cell_type": "code",
   "execution_count": 6,
   "metadata": {},
   "outputs": [
    {
     "name": "stdout",
     "output_type": "stream",
     "text": [
      "[1]\n",
      "[1]\n"
     ]
    }
   ],
   "source": [
    "list1 = [1,6,3,6]\n",
    "list2 = [3,6]\n",
    "\n",
    "list3 = [i for i in list1 if i not in list2]\n",
    "list4 = list(set(list1) - set(list2))\n",
    "list5 = [list1.remove(x) for x in list2]\n",
    "\n",
    "\n",
    "print(list3)\n",
    "print(list4)\n",
    "# print(list5)"
   ]
  },
  {
   "cell_type": "markdown",
   "metadata": {},
   "source": [
    "### 在循环中广播获取列表内容"
   ]
  },
  {
   "cell_type": "code",
   "execution_count": 9,
   "metadata": {},
   "outputs": [
    {
     "name": "stdout",
     "output_type": "stream",
     "text": [
      "0 aaa\n",
      "1 bbb\n",
      "2 ccc\n",
      "3 ddd\n",
      "4 eee\n",
      "0 aaa\n",
      "1 bbb\n",
      "2 ccc\n",
      "3 ddd\n",
      "4 eee\n",
      "0 aaa\n",
      "1 bbb\n",
      "2 ccc\n",
      "3 ddd\n"
     ]
    }
   ],
   "source": [
    "check_item = ['aaa', 'bbb', 'ccc', 'ddd', 'eee']\n",
    "\n",
    "for i in range(14):\n",
    "    idx = i%len(check_item)\n",
    "    print(idx, check_item[idx])"
   ]
  },
  {
   "cell_type": "markdown",
   "metadata": {},
   "source": [
    "### 其他"
   ]
  },
  {
   "cell_type": "markdown",
   "metadata": {},
   "source": [
    "len(list)：列表元素个数\n",
    "max(list)：返回列表元素最大值\n",
    "min(list)：返回列表元素最小值"
   ]
  }
 ],
 "metadata": {
  "kernelspec": {
   "display_name": "Python 3",
   "language": "python",
   "name": "python3"
  },
  "language_info": {
   "codemirror_mode": {
    "name": "ipython",
    "version": 3
   },
   "file_extension": ".py",
   "mimetype": "text/x-python",
   "name": "python",
   "nbconvert_exporter": "python",
   "pygments_lexer": "ipython3",
   "version": "3.6.4"
  }
 },
 "nbformat": 4,
 "nbformat_minor": 2
}
