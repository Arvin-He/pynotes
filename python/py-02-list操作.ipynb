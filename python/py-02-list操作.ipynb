{
 "cells": [
  {
   "cell_type": "markdown",
   "metadata": {},
   "source": [
    "# 列表常用操作"
   ]
  },
  {
   "cell_type": "markdown",
   "metadata": {},
   "source": [
    "* append\n",
    "* clear\n",
    "* copy\n",
    "* count\n",
    "* extend\n",
    "* index\n",
    "* insert\n",
    "* pop\n",
    "* remove\n",
    "* reverse\n",
    "* sort"
   ]
  },
  {
   "cell_type": "markdown",
   "metadata": {},
   "source": [
    "### append"
   ]
  },
  {
   "cell_type": "code",
   "execution_count": 3,
   "metadata": {},
   "outputs": [
    {
     "data": {
      "text/plain": [
       "[123, 'abc']"
      ]
     },
     "execution_count": 3,
     "metadata": {},
     "output_type": "execute_result"
    }
   ],
   "source": [
    "my_list = []\n",
    "\n",
    "my_list.append(123)\n",
    "my_list.append('abc')\n",
    "\n",
    "my_list"
   ]
  },
  {
   "cell_type": "markdown",
   "metadata": {},
   "source": [
    "### clear"
   ]
  },
  {
   "cell_type": "code",
   "execution_count": 5,
   "metadata": {},
   "outputs": [
    {
     "name": "stdout",
     "output_type": "stream",
     "text": [
      "[123, 'abc', [1, 'ss']]\n"
     ]
    },
    {
     "data": {
      "text/plain": [
       "[]"
      ]
     },
     "execution_count": 5,
     "metadata": {},
     "output_type": "execute_result"
    }
   ],
   "source": [
    "my_list = [123, 'abc', [1, 'ss']]\n",
    "\n",
    "print(my_list)\n",
    "\n",
    "my_list.clear()\n",
    "\n",
    "my_list"
   ]
  },
  {
   "cell_type": "markdown",
   "metadata": {},
   "source": [
    "### copy"
   ]
  },
  {
   "cell_type": "code",
   "execution_count": 8,
   "metadata": {},
   "outputs": [
    {
     "name": "stdout",
     "output_type": "stream",
     "text": [
      "[123, 'abc', [1, 'ss']]\n",
      "[123, 'abc', [1, 'ss']]\n",
      "[123, 'abc', [1, 'ss'], {'aa': 10}]\n",
      "[123, 'abc', [1, 'ss']]\n",
      "[123, 'abc', [1, 'ss'], {'aa': 10}]\n"
     ]
    }
   ],
   "source": [
    "my_list = [123, 'abc', [1, 'ss']]\n",
    "\n",
    "print(my_list)\n",
    "\n",
    "list1 = my_list.copy()\n",
    "\n",
    "print(list1)\n",
    "\n",
    "my_list.append({'aa': 10})\n",
    "print(my_list)\n",
    "\n",
    "print(list1)\n",
    "\n",
    "list1 = my_list.copy()\n",
    "print(list1)"
   ]
  },
  {
   "cell_type": "markdown",
   "metadata": {},
   "source": [
    "### count"
   ]
  },
  {
   "cell_type": "code",
   "execution_count": 11,
   "metadata": {},
   "outputs": [
    {
     "name": "stdout",
     "output_type": "stream",
     "text": [
      "1\n",
      "1\n"
     ]
    }
   ],
   "source": [
    "my_list = [123, 'abc', [1, 'ss']]\n",
    "\n",
    "print(my_list.count(123))\n",
    "\n",
    "print(my_list[2].count(1))"
   ]
  },
  {
   "cell_type": "markdown",
   "metadata": {},
   "source": [
    "### extend"
   ]
  },
  {
   "cell_type": "code",
   "execution_count": 13,
   "metadata": {},
   "outputs": [
    {
     "name": "stdout",
     "output_type": "stream",
     "text": [
      "[123, 'abc', [1, 'ss'], 1, 2, 3]\n"
     ]
    }
   ],
   "source": [
    "my_list = [123, 'abc', [1, 'ss']]\n",
    "\n",
    "list1 = [1, 2, 3]\n",
    "\n",
    "my_list.extend(list1)\n",
    "\n",
    "print(my_list)"
   ]
  },
  {
   "cell_type": "markdown",
   "metadata": {},
   "source": [
    "### index"
   ]
  },
  {
   "cell_type": "code",
   "execution_count": 16,
   "metadata": {},
   "outputs": [
    {
     "name": "stdout",
     "output_type": "stream",
     "text": [
      "0\n",
      "1\n"
     ]
    }
   ],
   "source": [
    "my_list = [123, 'abc', [1, 'ss']]\n",
    "\n",
    "print(my_list.index(123))\n",
    "\n",
    "print(my_list.index('abc'))"
   ]
  },
  {
   "cell_type": "markdown",
   "metadata": {},
   "source": [
    "### insert"
   ]
  },
  {
   "cell_type": "code",
   "execution_count": 19,
   "metadata": {},
   "outputs": [
    {
     "name": "stdout",
     "output_type": "stream",
     "text": [
      "[123, 'abc', [1, 'ss'], 'ss', 'ass']\n"
     ]
    }
   ],
   "source": [
    "my_list = [123, 'abc', [1, 'ss']]\n",
    "\n",
    "my_list.insert(4, 'ass')\n",
    "my_list.insert(3, 'ss')\n",
    "\n",
    "print(my_list)"
   ]
  },
  {
   "cell_type": "markdown",
   "metadata": {},
   "source": [
    "### pop"
   ]
  },
  {
   "cell_type": "code",
   "execution_count": 21,
   "metadata": {},
   "outputs": [
    {
     "name": "stdout",
     "output_type": "stream",
     "text": [
      "abc\n",
      "[123, [1, 'ss'], 'ss', 'ass']\n"
     ]
    }
   ],
   "source": [
    "my_list = [123, 'abc', [1, 'ss'], 'ss', 'ass']\n",
    "\n",
    "res = my_list.pop(1)\n",
    "\n",
    "print(res)\n",
    "print(my_list)b"
   ]
  },
  {
   "cell_type": "markdown",
   "metadata": {},
   "source": [
    "### remove"
   ]
  },
  {
   "cell_type": "code",
   "execution_count": 23,
   "metadata": {},
   "outputs": [
    {
     "name": "stdout",
     "output_type": "stream",
     "text": [
      "[123, [1, 'ss'], 'ss', 'ass']\n"
     ]
    }
   ],
   "source": [
    "my_list = [123, 'abc', [1, 'ss'], 'ss', 'ass']\n",
    "\n",
    "my_list.remove('abc')\n",
    "\n",
    "print(my_list)"
   ]
  },
  {
   "cell_type": "markdown",
   "metadata": {},
   "source": [
    "### reverse"
   ]
  },
  {
   "cell_type": "code",
   "execution_count": 34,
   "metadata": {},
   "outputs": [
    {
     "name": "stdout",
     "output_type": "stream",
     "text": [
      "None\n",
      "['ass', 'ss', [1, 'ss'], 'abc', 123]\n"
     ]
    }
   ],
   "source": [
    "my_list = [123, 'abc', [1, 'ss'], 'ss', 'ass']\n",
    "res = my_list.reverse()\n",
    "print(res)\n",
    "print(my_list)"
   ]
  },
  {
   "cell_type": "markdown",
   "metadata": {},
   "source": [
    "### sort"
   ]
  },
  {
   "cell_type": "markdown",
   "metadata": {},
   "source": [
    "L.sort(key=None, reverse=False)\n",
    "\n",
    "注意:不同于sorted函数排序是列表内部排序,不是新建一个列表"
   ]
  },
  {
   "cell_type": "code",
   "execution_count": 40,
   "metadata": {},
   "outputs": [
    {
     "name": "stdout",
     "output_type": "stream",
     "text": [
      "1501202105032\n",
      "1501202105032\n",
      "[15, 13, 11, 9, 7, 5, 3, 1]\n"
     ]
    }
   ],
   "source": [
    "my_list = [1, 7, 5, 3, 9, 15, 13, 11]\n",
    "print(id(my_list))\n",
    "my_list.sort(reverse=True)\n",
    "print(id(my_list))\n",
    "print(my_list)"
   ]
  },
  {
   "cell_type": "markdown",
   "metadata": {},
   "source": [
    "### sorted"
   ]
  },
  {
   "cell_type": "code",
   "execution_count": null,
   "metadata": {},
   "outputs": [],
   "source": [
    "my_list = [1, 7, 5, 3, 9, 15, 13, 11]\n",
    "print(id(my_list))\n",
    "my_list.sort(reverse=True)\n",
    "print(id(my_list))\n",
    "print(my_list)"
   ]
  },
  {
   "cell_type": "markdown",
   "metadata": {},
   "source": [
    "### slice(切片)"
   ]
  },
  {
   "cell_type": "code",
   "execution_count": 24,
   "metadata": {},
   "outputs": [],
   "source": [
    "list1 = [\n",
    "    b'/var/spool/cron/crontabs/root',\n",
    "    b'15,30,45,59 * * * * echo \"xgmtest.....\" >> xgmtest.txt',\n",
    "    b'/var/spool/cron/crontabs/payegis',\n",
    "    b'*/10  * * * * ntpdate time.windows.com >/dev/null 2>&1'\n",
    "]\n",
    "\n",
    "for i, item in enumerate(list1):\n",
    "    if i % 2 == 0:\n",
    "        user = item[item.rfind(b'/')+1:]\n",
    "        next_line = list1[i+1]\n",
    "        fileds = next_line.split(b' ')\n",
    "        fileds = [item for item in fileds if item]\n",
    "        cycle = b' '.join(fileds[:5])\n",
    "        program = b' '.join(fileds[5:])\n",
    "        "
   ]
  },
  {
   "cell_type": "code",
   "execution_count": 4,
   "metadata": {},
   "outputs": [
    {
     "name": "stdout",
     "output_type": "stream",
     "text": [
      "b'7.54,0.00,19.35,0.00,0.00,73.12'\n"
     ]
    }
   ],
   "source": [
    "line = b'16:33:19   7.54,0.00,19.35,0.00,0.00,73.12'\n",
    "\n",
    "\n",
    "aa, items = [item for item in line.split(b' ') if item]\n",
    "\n",
    "print(items)"
   ]
  },
  {
   "cell_type": "markdown",
   "metadata": {},
   "source": [
    "### 去除相邻相同元素,只保留一个"
   ]
  },
  {
   "cell_type": "markdown",
   "metadata": {},
   "source": [
    "给出一个列表,输出去除相邻相同元素,且只保留一个.\n",
    "\n",
    "输入: aa = [1, 3, 5, 5, 5, 3, 2, 1, 1, 2, 3, 3]\n",
    "\n",
    "输出: bb = [1, 3, 5, 3, 2, 1, 2, 3]"
   ]
  },
  {
   "cell_type": "code",
   "execution_count": 1,
   "metadata": {},
   "outputs": [
    {
     "name": "stdout",
     "output_type": "stream",
     "text": [
      "12\n",
      "[1, 3, 5, 3, 2, 1, 2, 3]\n"
     ]
    }
   ],
   "source": [
    "aa = [1, 3, 5, 5, 5, 3, 2, 1, 1, 2, 3, 3]\n",
    "print(len(aa))\n",
    "\n",
    "bb = [item for i, item in enumerate(aa[1:]) if aa[i]!=aa[i+1] and len(aa)>1]\n",
    "bb.insert(0, aa[0])\n",
    "print(bb)"
   ]
  },
  {
   "cell_type": "markdown",
   "metadata": {},
   "source": [
    "### 两两取出列表数据"
   ]
  },
  {
   "cell_type": "code",
   "execution_count": 2,
   "metadata": {},
   "outputs": [
    {
     "name": "stdout",
     "output_type": "stream",
     "text": [
      "[['bad', 'good'], ['bad', 'good'], ['bad', 'good'], ['bad', 'good']]\n",
      "[['bad', 'good'], ['bad', 'good'], ['bad', 'good']]\n"
     ]
    }
   ],
   "source": [
    "a1 = ['bad', 'good', 'bad', 'good', 'bad', 'good', 'bad', 'good']\n",
    "a2 = ['bad', 'good', 'bad', 'good', 'bad', 'good', 'bad']\n",
    "\n",
    "\n",
    "print([a1[i:i+2] for i in range(len(a1)-1) if i%2 == 0])\n",
    "print([a2[i:i+2] for i in range(len(a2)-1) if i%2 == 0])"
   ]
  },
  {
   "cell_type": "markdown",
   "metadata": {},
   "source": [
    "### 展开嵌套列表"
   ]
  },
  {
   "cell_type": "code",
   "execution_count": 3,
   "metadata": {},
   "outputs": [
    {
     "name": "stdout",
     "output_type": "stream",
     "text": [
      "[1, 2, 3, 4, 5, 6, 7, 8]\n",
      "<generator object flatten at 0x0000028B3C833F68>\n"
     ]
    }
   ],
   "source": [
    "a = [[1,2,3], [4, 5, 6], [7, 8]]\n",
    "\n",
    "def flatten(items):\n",
    "    res = []\n",
    "    for item in items:\n",
    "        res.extend(item)\n",
    "    return res\n",
    "\n",
    "print(flatten(a))\n",
    "\n",
    "# 生成器\n",
    "from collections import Iterable\n",
    "\n",
    "def flatten(items, ignore_types=(str, bytes)):\n",
    "    for x in items:\n",
    "        if isinstance(x, Iterable) and not isinstance(x, ignore_types):\n",
    "            yield from flatten(x)\n",
    "        else:\n",
    "            yield x\n",
    "\n",
    "print(flatten(a))            "
   ]
  },
  {
   "cell_type": "markdown",
   "metadata": {},
   "source": [
    "### list如何进行相减操作或者将list分片"
   ]
  },
  {
   "cell_type": "markdown",
   "metadata": {},
   "source": [
    "[1,6,3,6]-[3,6]=[1,6] 怎么实现 ?"
   ]
  },
  {
   "cell_type": "code",
   "execution_count": 6,
   "metadata": {},
   "outputs": [
    {
     "name": "stdout",
     "output_type": "stream",
     "text": [
      "[1]\n",
      "[1]\n"
     ]
    }
   ],
   "source": [
    "list1 = [1,6,3,6]\n",
    "list2 = [3,6]\n",
    "\n",
    "list3 = [i for i in list1 if i not in list2]\n",
    "list4 = list(set(list1) - set(list2))\n",
    "list5 = [list1.remove(x) for x in list2]\n",
    "\n",
    "\n",
    "print(list3)\n",
    "print(list4)\n",
    "# print(list5)"
   ]
  },
  {
   "cell_type": "markdown",
   "metadata": {},
   "source": [
    "### 在循环中广播获取列表内容"
   ]
  },
  {
   "cell_type": "code",
   "execution_count": 9,
   "metadata": {},
   "outputs": [
    {
     "name": "stdout",
     "output_type": "stream",
     "text": [
      "0 aaa\n",
      "1 bbb\n",
      "2 ccc\n",
      "3 ddd\n",
      "4 eee\n",
      "0 aaa\n",
      "1 bbb\n",
      "2 ccc\n",
      "3 ddd\n",
      "4 eee\n",
      "0 aaa\n",
      "1 bbb\n",
      "2 ccc\n",
      "3 ddd\n"
     ]
    }
   ],
   "source": [
    "check_item = ['aaa', 'bbb', 'ccc', 'ddd', 'eee']\n",
    "\n",
    "for i in range(14):\n",
    "    idx = i%len(check_item)\n",
    "    print(idx, check_item[idx])"
   ]
  },
  {
   "cell_type": "markdown",
   "metadata": {},
   "source": [
    "### 其他"
   ]
  },
  {
   "cell_type": "markdown",
   "metadata": {},
   "source": [
    "len(list)：列表元素个数\n",
    "max(list)：返回列表元素最大值\n",
    "min(list)：返回列表元素最小值"
   ]
  }
 ],
 "metadata": {
  "kernelspec": {
   "display_name": "Python 3",
   "language": "python",
   "name": "python3"
  },
  "language_info": {
   "codemirror_mode": {
    "name": "ipython",
    "version": 3
   },
   "file_extension": ".py",
   "mimetype": "text/x-python",
   "name": "python",
   "nbconvert_exporter": "python",
   "pygments_lexer": "ipython3",
   "version": "3.6.4"
  }
 },
 "nbformat": 4,
 "nbformat_minor": 2
}
