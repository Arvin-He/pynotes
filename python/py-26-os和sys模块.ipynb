{
 "cells": [
  {
   "cell_type": "markdown",
   "metadata": {},
   "source": [
    "# os和sys模块"
   ]
  },
  {
   "cell_type": "markdown",
   "metadata": {},
   "source": [
    "## os模块"
   ]
  },
  {
   "cell_type": "markdown",
   "metadata": {},
   "source": [
    "这个模块提供了一种方便的使用操作系统函数的方法。"
   ]
  },
  {
   "cell_type": "markdown",
   "metadata": {},
   "source": [
    "### 常用方法"
   ]
  },
  {
   "cell_type": "markdown",
   "metadata": {},
   "source": [
    "* os.remove() 删除文件\n",
    "* os.rename() 重命名文件\n",
    "* os.walk() 生成目录树下的所有文件名\n",
    "* os.chdir() 改变目录\n",
    "* os.mkdir/makedirs 创建目录/多层目录\n",
    "* os.rmdir/removedirs 删除目录/多层目录\n",
    "* os.listdir() 列出指定目录的文件\n",
    "* os.getcwd() 取得当前工作目录\n",
    "* os.chmod() 改变目录权限\n",
    "\n",
    "* os.path.basename() 去掉目录路径，返回文件名\n",
    "* os.path.dirname() 去掉文件名，返回目录路径\n",
    "* os.path.join() 将分离的各部分组合成一个路径名\n",
    "* os.path.commonprefix(list) 返回list中，所有path共有的最长的路径。\n",
    "* os.path.split() 将path分割成目录和文件名二元组,返回( dirname(), basename())元组\n",
    "* os.path.splitext() 返回 (filename, extension) 元组\n",
    "* os.path.abspath(path)  返回path规范化的绝对路径。\n",
    "* os.path.normpath(path)  根据平台规范化路径。\n",
    "* os.path.normcase(path)  规范化路径.Linux和Mac原样返回,windows所有字符转为小写，所有斜杠转为反斜杠。\n",
    "* os.path.splitdrive(path)  返回（drivername，fpath）元组, windows上专有\n",
    "\n",
    "* os.path.getatime\\ctime\\mtime  分别返回文件最近访问、创建、修改时间\n",
    "* os.path.getsize() 返回文件大小\n",
    "* os.path.exists() 路径是否存在\n",
    "* os.path.isabs()  是否为绝对路径\n",
    "* os.path.isdir()  是否为目录\n",
    "* os.path.isfile() 是否为文件\n",
    "* os.stat(file) 获取文件属性\n",
    "\n",
    "* shutil.copytree(\"olddir\", \"newdir\")  复制文件夹, olddir 和 newdir都只能是目录,且newdir必须不存在\n",
    "* shutil.copy(\"oldfile\", \"newfile\")  复制文件, oldfile只能是文件, newfile可以是文件也可以是目标目录\n",
    "* shutil.copyfile(\"oldfile\", \"newfile\")  复制文件, oldfile 和 newfile 都只能是文件      "
   ]
  },
  {
   "cell_type": "markdown",
   "metadata": {},
   "source": [
    "### 一些例子"
   ]
  },
  {
   "cell_type": "code",
   "execution_count": 1,
   "metadata": {},
   "outputs": [
    {
     "name": "stdout",
     "output_type": "stream",
     "text": [
      "test.csv\n",
      "csv\n",
      "\n"
     ]
    }
   ],
   "source": [
    "import os\n",
    "res = os.path.basename('c:\\\\test.csv')\n",
    "print(res)\n",
    "#（这里csv被当作文件名处理了）\n",
    "res = os.path.basename('c:\\\\csv')\n",
    "print(res)\n",
    "res = os.path.basename('c:\\\\csv\\\\')\n",
    "print(res)"
   ]
  },
  {
   "cell_type": "code",
   "execution_count": 2,
   "metadata": {},
   "outputs": [
    {
     "name": "stdout",
     "output_type": "stream",
     "text": [
      "c:\\csv\\test.csv\n",
      "c:\\csv\\test.csv\n",
      "/home/aa/bb/c\n"
     ]
    }
   ],
   "source": [
    "import os\n",
    "res = os.path.join('c:\\\\', 'csv', 'test.csv')\n",
    "print(res)\n",
    "\n",
    "res = os.path.join('windows\\temp', 'c:\\\\', 'csv', 'test.csv')\n",
    "print(res)\n",
    "\n",
    "res = os.path.join('/home/aa', '/home/aa/bb', '/home/aa/bb/c')\n",
    "print(res)"
   ]
  },
  {
   "cell_type": "code",
   "execution_count": 3,
   "metadata": {},
   "outputs": [
    {
     "name": "stdout",
     "output_type": "stream",
     "text": [
      "/home/td\n"
     ]
    }
   ],
   "source": [
    "import os\n",
    "res = os.path.commonprefix(['/home/td', '/home/td/ff', '/home/td/fff'])\n",
    "print(res)"
   ]
  },
  {
   "cell_type": "code",
   "execution_count": 4,
   "metadata": {},
   "outputs": [
    {
     "name": "stdout",
     "output_type": "stream",
     "text": [
      "('c:\\\\csv', 'test.csv')\n",
      "('c:\\\\csv', '')\n",
      "('c:\\\\csv\\\\test', '.csv')\n",
      "test\n"
     ]
    }
   ],
   "source": [
    "import os\n",
    "test_path = 'c:\\\\csv\\\\test.csv'\n",
    "res = os.path.split('c:\\\\csv\\\\test.csv')\n",
    "print(res)\n",
    "\n",
    "res = os.path.split('c:\\\\csv\\\\')\n",
    "print(res)\n",
    "\n",
    "res = os.path.splitext(test_path)\n",
    "print(res)\n",
    "\n",
    "res = os.path.splitext(os.path.basename(test_path))[0]\n",
    "print(res)"
   ]
  },
  {
   "cell_type": "code",
   "execution_count": 5,
   "metadata": {},
   "outputs": [
    {
     "name": "stdout",
     "output_type": "stream",
     "text": [
      "c:\\windows\\Temp\n",
      "c:\\windows\\system32\\\n"
     ]
    }
   ],
   "source": [
    "import os\n",
    "res = os.path.normpath('c://windows\\\\System32\\\\../Temp/')\n",
    "print(res)\n",
    "res = os.path.normcase('c:/windows\\\\system32\\\\')\n",
    "print(res)"
   ]
  },
  {
   "cell_type": "code",
   "execution_count": 6,
   "metadata": {},
   "outputs": [
    {
     "name": "stdout",
     "output_type": "stream",
     "text": [
      "fp: F:\\work\\ca.crt\n",
      "fp: F:\\work\\server.crt\n",
      "fp: F:\\work\\server.csr\n",
      "fp: F:\\work\\server.key\n",
      "fp: F:\\work\\server_no_passwd.key\n",
      "dp: F:\\work\\123\n",
      "dp: F:\\work\\abc\n",
      "dp: F:\\work\\123\\haha\n",
      "dp: F:\\work\\123\\haha\\temp\n",
      "dp: F:\\work\\abc\\test\n"
     ]
    }
   ],
   "source": [
    "import os\n",
    "\n",
    "# 遍历所有子目录及文件\n",
    "for root, dirs, files in os.walk('F:' + os.sep + 'work'):\n",
    "    # 遍历出所有的文件\n",
    "    for f in files:\n",
    "        fp = os.path.join(root, f)\n",
    "        print('fp:', fp)\n",
    "    # 遍历出所有的目录,包括空目录\n",
    "    for d in dirs:\n",
    "        dp = os.path.join(root, d)\n",
    "        print('dp:', dp)"
   ]
  },
  {
   "cell_type": "markdown",
   "metadata": {},
   "source": [
    "## sys模块"
   ]
  },
  {
   "cell_type": "markdown",
   "metadata": {},
   "source": [
    "这个模块可供访问由解释器使用或维护的变量和与解释器进行交互的函数。"
   ]
  },
  {
   "cell_type": "markdown",
   "metadata": {},
   "source": [
    "### sys.argv: 实现从程序外部向程序传递参数"
   ]
  },
  {
   "cell_type": "markdown",
   "metadata": {},
   "source": [
    "命令行参数列表的第一个参数永远是执行脚本的名称(路径名称)\n",
    "* argv : 命令行参数列表;\n",
    "* argv[0]: 执行脚本的路径名称(固定)"
   ]
  },
  {
   "cell_type": "code",
   "execution_count": 7,
   "metadata": {},
   "outputs": [
    {
     "name": "stdout",
     "output_type": "stream",
     "text": [
      "['c:\\\\program files\\\\python36\\\\lib\\\\site-packages\\\\ipykernel_launcher.py', '-f', 'C:\\\\Users\\\\JS-E-PC-10182\\\\AppData\\\\Roaming\\\\jupyter\\\\runtime\\\\kernel-356f9511-b59e-4242-9ffc-a7502c953633.json']\n",
      "c:\\program files\\python36\\lib\\site-packages\\ipykernel_launcher.py\n",
      "-f\n"
     ]
    }
   ],
   "source": [
    "import sys\n",
    "\n",
    "print(sys.argv)\n",
    "print(sys.argv[0])\n",
    "print(sys.argv[1])"
   ]
  },
  {
   "cell_type": "markdown",
   "metadata": {},
   "source": [
    "### sys.exit(n): 程序中间的退出，arg=0为正常退出"
   ]
  },
  {
   "cell_type": "markdown",
   "metadata": {},
   "source": [
    "功能：执行到主程序末尾，解释器自动退出，但是如果需要中途退出程序，可以调用sys.exit函数，带有一个可选的整数参数返回给调用它的程序，表示你可以在主程序中捕获对sys.exit的调用。（0是正常退出，其他为异常）"
   ]
  },
  {
   "cell_type": "code",
   "execution_count": 8,
   "metadata": {},
   "outputs": [
    {
     "name": "stdout",
     "output_type": "stream",
     "text": [
      "=======\n",
      "-1\n"
     ]
    },
    {
     "ename": "SystemExit",
     "evalue": "0",
     "output_type": "error",
     "traceback": [
      "An exception has occurred, use %tb to see the full traceback.\n",
      "\u001b[1;31mSystemExit\u001b[0m\u001b[1;31m:\u001b[0m 0\n"
     ]
    },
    {
     "name": "stderr",
     "output_type": "stream",
     "text": [
      "c:\\program files\\python36\\lib\\site-packages\\IPython\\core\\interactiveshell.py:2969: UserWarning: To exit: use 'exit', 'quit', or Ctrl-D.\n",
      "  warn(\"To exit: use 'exit', 'quit', or Ctrl-D.\", stacklevel=1)\n"
     ]
    }
   ],
   "source": [
    "import sys\n",
    "\n",
    "def exit_func(value):\n",
    "    print(value)\n",
    "    sys.exit(0)\n",
    "    \n",
    "try:\n",
    "    sys.exit(-1)\n",
    "except SystemExit as e:\n",
    "    print('=======')\n",
    "    exit_func(e.code)"
   ]
  },
  {
   "cell_type": "markdown",
   "metadata": {},
   "source": [
    "### sys.path"
   ]
  },
  {
   "cell_type": "markdown",
   "metadata": {},
   "source": [
    "功能：获取指定模块搜索路径的字符串集合，可以将写好的模块放在得到的某个路径下，就可以在程序中import时正确找到。\n",
    "\n",
    "可以自己添加搜索路径:"
   ]
  },
  {
   "cell_type": "code",
   "execution_count": null,
   "metadata": {},
   "outputs": [],
   "source": [
    "import sys\n",
    "from pprint import pprint\n",
    "\n",
    "pprint(sys.path)"
   ]
  },
  {
   "cell_type": "markdown",
   "metadata": {},
   "source": [
    "### sys.modules"
   ]
  },
  {
   "cell_type": "markdown",
   "metadata": {},
   "source": [
    "功能：sys.modules是一个全局字典，该字典是python启动后就加载在内存中。\n",
    "\n",
    "每当程序员导入新的模块，sys.modules将自动记录该模块。\n",
    "\n",
    "当第二次再导入该模块时，python会直接到字典中查找，从而加快了程序运行的速度。它拥有字典所拥有的一切方法。"
   ]
  },
  {
   "cell_type": "code",
   "execution_count": null,
   "metadata": {},
   "outputs": [],
   "source": [
    "import sys\n",
    "from pprint import pprint\n",
    "\n",
    "print(sys.modules['os'])\n",
    "print(sys.modules['sys'])"
   ]
  },
  {
   "cell_type": "markdown",
   "metadata": {},
   "source": [
    "### sys.stdin , sys. stdout, sys.stderr"
   ]
  },
  {
   "cell_type": "markdown",
   "metadata": {},
   "source": [
    "功能：stdin , stdout , 以及stderr 变量包含与标准I/O 流对应的流对象. 如果需要更好地控制输出,而print 不能满足你的要求, 它们就是你所需要的. 你也可以替换它们, 这时候你就可以重定向输出和输入到其它设备( device ), 或者以非标准的方式处理它们"
   ]
  },
  {
   "cell_type": "markdown",
   "metadata": {},
   "source": [
    "### 其他"
   ]
  },
  {
   "cell_type": "markdown",
   "metadata": {},
   "source": [
    "* sys.getdefaultencoding(): 获取系统当前编码，默认为utf-8\n",
    "\n",
    "* sys.setdefaultencoding(): 设置系统默认编码，执行dir（sys）时不会看到这个方法，在解释器中执行不通过，可以先执行reload(sys)，在执行 setdefaultencoding('utf8')，此时将系统默认编码设置为utf8。（见设置系统默认编码 ）\n",
    "\n",
    "* sys.getfilesystemencoding(): 获取文件系统使用编码方式，Windows下返回'mbcs'，mac下返回'utf-8'.\n",
    "\n",
    "* sys.platform: 获取当前系统平台。\n",
    "\n",
    "* sys.hexversion 获取Python解释程序的版本值，16进制格式如：0x020403F0\n",
    "\n",
    "* sys.version 获取Python解释程序的版本信息\n",
    "\n",
    "* sys.maxsize 最大的Int值\n",
    "\n",
    "* sys.maxunicode 最大的Unicode值\n",
    "\n",
    "* sys.modules 返回系统导入的模块字段，key是模块名，value是模块\n",
    "\n",
    "* sys.path 返回模块的搜索路径，初始化时使用PYTHONPATH环境变量的值\n",
    "\n",
    "* sys.stdout 标准输出\n",
    "\n",
    "* sys.stdin 标准输入\n",
    "\n",
    "* sys.stderr 错误输出\n",
    "\n",
    "* sys.exc_clear() 用来清除当前线程所出现的当前的或最近的错误信息\n",
    "\n",
    "* sys.exec_prefix 返回平台独立的python文件安装的位置\n",
    "\n",
    "* sys.byteorder 本地字节规则的指示器，big-endian平台的值是'big',little-endian平台的值是'little'\n",
    "\n",
    "* sys.copyright 记录python版权相关的东西\n",
    "\n",
    "* sys.api_version 解释器的C的API版本"
   ]
  },
  {
   "cell_type": "code",
   "execution_count": null,
   "metadata": {},
   "outputs": [],
   "source": [
    "import sys\n",
    "\n",
    "print(sys.getdefaultencoding())\n",
    "\n",
    "print(sys.getfilesystemencoding())\n",
    "\n",
    "print(sys.path)\n",
    "\n",
    "print(sys.platform)\n",
    "\n",
    "print(sys.hexversion)\n",
    "\n",
    "print(sys.version)\n",
    "\n",
    "print(sys.maxsize)\n",
    "\n",
    "print(sys.maxunicode)\n",
    "\n",
    "print(sys.exec_prefix)\n",
    "\n",
    "print(sys.byteorder)\n",
    "\n",
    "print(sys.api_version)\n",
    "\n",
    "print(sys.copyright)"
   ]
  },
  {
   "cell_type": "markdown",
   "metadata": {},
   "source": [
    "### 获取平台使用的路径分割符和行终止符"
   ]
  },
  {
   "cell_type": "code",
   "execution_count": 9,
   "metadata": {},
   "outputs": [
    {
     "data": {
      "text/plain": [
       "'\\\\'"
      ]
     },
     "execution_count": 9,
     "metadata": {},
     "output_type": "execute_result"
    },
    {
     "data": {
      "text/plain": [
       "'\\r\\n'"
      ]
     },
     "execution_count": 9,
     "metadata": {},
     "output_type": "execute_result"
    }
   ],
   "source": [
    "import os\n",
    "\n",
    "# 路径分隔符\n",
    "os.sep\n",
    "\n",
    "# 行终止符/换行符\n",
    "os.linesep\n",
    "\n"
   ]
  },
  {
   "cell_type": "code",
   "execution_count": null,
   "metadata": {},
   "outputs": [],
   "source": []
  }
 ],
 "metadata": {
  "kernelspec": {
   "display_name": "Python 3",
   "language": "python",
   "name": "python3"
  },
  "language_info": {
   "codemirror_mode": {
    "name": "ipython",
    "version": 3
   },
   "file_extension": ".py",
   "mimetype": "text/x-python",
   "name": "python",
   "nbconvert_exporter": "python",
   "pygments_lexer": "ipython3",
   "version": "3.6.4"
  }
 },
 "nbformat": 4,
 "nbformat_minor": 2
}
