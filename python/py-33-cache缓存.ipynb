{
 "cells": [
  {
   "cell_type": "markdown",
   "metadata": {},
   "source": [
    "# cache缓存"
   ]
  },
  {
   "cell_type": "code",
   "execution_count": 3,
   "metadata": {},
   "outputs": [
    {
     "name": "stdout",
     "output_type": "stream",
     "text": [
      "2018-08-27 13:36:25.569906\n",
      "abc=42\n",
      "2018-08-27 13:36:27.570450\n",
      "abc=Not in cache\n",
      "2018-08-27 13:36:31.570643\n"
     ]
    }
   ],
   "source": [
    "from datetime import datetime\n",
    "from cachetools import TTLCache\n",
    "from sched import scheduler\n",
    "\n",
    "cache = TTLCache(maxsize=128, ttl=5)\n",
    "\n",
    "runner = scheduler()\n",
    "\n",
    "cache[\"abc\"] = 42\n",
    "print(datetime.now())\n",
    "\n",
    "def display_cached_value(cache_key):\n",
    "    try:\n",
    "        cached_value = cache[cache_key]\n",
    "        print(\"{0}={1}\".format(cache_key, cached_value))\n",
    "    except KeyError:\n",
    "        print(\"{0}=Not in cache\".format(cache_key))\n",
    "    print(datetime.now())\n",
    "\n",
    "runner.enter(2, 1, display_cached_value, argument=(\"abc\",))\n",
    "runner.enter(6, 1, display_cached_value, argument=(\"abc\",))\n",
    "runner.run()"
   ]
  },
  {
   "cell_type": "code",
   "execution_count": 4,
   "metadata": {},
   "outputs": [
    {
     "data": {
      "text/plain": [
       "86400"
      ]
     },
     "execution_count": 4,
     "metadata": {},
     "output_type": "execute_result"
    }
   ],
   "source": [
    "24*60*60"
   ]
  },
  {
   "cell_type": "code",
   "execution_count": null,
   "metadata": {},
   "outputs": [],
   "source": []
  }
 ],
 "metadata": {
  "kernelspec": {
   "display_name": "Python 3",
   "language": "python",
   "name": "python3"
  },
  "language_info": {
   "codemirror_mode": {
    "name": "ipython",
    "version": 3
   },
   "file_extension": ".py",
   "mimetype": "text/x-python",
   "name": "python",
   "nbconvert_exporter": "python",
   "pygments_lexer": "ipython3",
   "version": "3.6.4"
  }
 },
 "nbformat": 4,
 "nbformat_minor": 2
}
