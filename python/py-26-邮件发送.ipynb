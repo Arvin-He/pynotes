{
 "cells": [
  {
   "cell_type": "markdown",
   "metadata": {},
   "source": [
    "# 邮件发送"
   ]
  },
  {
   "cell_type": "code",
   "execution_count": null,
   "metadata": {},
   "outputs": [],
   "source": [
    "import os\n",
    "import smtplib\n",
    "import time\n",
    "from email.mime.text import MIMEText\n",
    "from email.mime.multipart import MIMEMultipart\n",
    "from email.header import Header\n",
    "from logger import Logging\n",
    "\n",
    "logname = os.path.splitext(os.path.basename(__file__))[0]\n",
    "logger = Logging(logname)\n",
    "log = logger.logObject\n",
    "\n",
    "\n",
    "def send_mail(sender, passwd, title, text, receiver, cc_receiver, filename=None):\n",
    "    # 创建一个带附件的实例\n",
    "    message = MIMEMultipart()\n",
    "    message['From'] = Header(sender)\n",
    "    message['To'] = Header(', '.join(receiver), 'utf-8')\n",
    "    message['Cc'] = Header(', '.join(cc_receiver), 'utf-8')\n",
    "    message['Subject'] = Header(title, 'utf-8')\n",
    "    message.attach(MIMEText(text, 'html', 'utf-8'))\n",
    "    if filename is not None:\n",
    "        # 构造附件1，传送当前目录下的 test.txt 文件\n",
    "        att1 = MIMEText(open(filename, 'rb').read(), 'base64', 'utf-8')\n",
    "        att1[\"Content-Type\"] = 'application/octet-stream'\n",
    "        # 这里的filename可以任意写，写什么名字，邮件中显示什么名字\n",
    "        att1[\"Content-Disposition\"] = 'attachment; filename=\"{}\"'.format(filename)\n",
    "        message.attach(att1)\n",
    "\n",
    "    for i in range(5):\n",
    "        try:\n",
    "            smtpObj = smtplib.SMTP()\n",
    "            smtpObj.connect('mail.163.com', 587)\n",
    "            smtpObj.starttls()\n",
    "            smtpObj.login(sender, passwd)\n",
    "            smtpObj.sendmail(sender, receiver + cc_receiver,\n",
    "                             message.as_string())\n",
    "            log.info(\"邮件发送成功\")\n",
    "            break\n",
    "        except smtplib.SMTPException as e:\n",
    "            log.error(e)\n",
    "            log.error(\"Error: 无法发送邮件,程序正在重试，请勿关闭！\")\n",
    "            time.sleep(5 * i)\n"
   ]
  }
 ],
 "metadata": {
  "kernelspec": {
   "display_name": "Python 3",
   "language": "python",
   "name": "python3"
  },
  "language_info": {
   "codemirror_mode": {
    "name": "ipython",
    "version": 3
   },
   "file_extension": ".py",
   "mimetype": "text/x-python",
   "name": "python",
   "nbconvert_exporter": "python",
   "pygments_lexer": "ipython3",
   "version": "3.6.4"
  }
 },
 "nbformat": 4,
 "nbformat_minor": 2
}
