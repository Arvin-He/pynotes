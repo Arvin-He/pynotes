{
 "cells": [
  {
   "cell_type": "markdown",
   "metadata": {},
   "source": [
    "# future理解"
   ]
  },
  {
   "cell_type": "code",
   "execution_count": 1,
   "metadata": {},
   "outputs": [
    {
     "name": "stdout",
     "output_type": "stream",
     "text": [
      "BD BR CD CN DE EG ET FR ID IN IR JP MX NG PH PK RU TR US VN \n",
      "20 flags downloaded in 13.14s\n"
     ]
    }
   ],
   "source": [
    "import os\n",
    "import time\n",
    "import sys\n",
    "\n",
    "import requests\n",
    "\n",
    "\n",
    "POP20_CC = (\"CN IN US ID BR PK NG BD RU JP MX PH VN ET EG DE IR TR CD FR\").split()\n",
    "\n",
    "\n",
    "BASE_URL = 'http://flupy.org/data/flags'\n",
    "\n",
    "DEST_DIR = 'images/flags'\n",
    "\n",
    "\n",
    "def save_flag(img,filename):\n",
    "    path = os.path.join(DEST_DIR,filename)\n",
    "    with open(path,'wb') as fp:\n",
    "        fp.write(img)\n",
    "\n",
    "\n",
    "def get_flag(cc):\n",
    "    url = \"{}/{cc}/{cc}.gif\".format(BASE_URL,cc=cc.lower())\n",
    "    resp = requests.get(url)\n",
    "    return resp.content\n",
    "\n",
    "\n",
    "def show(text):\n",
    "    print(text,end=\" \")\n",
    "    sys.stdout.flush()\n",
    "\n",
    "\n",
    "def download_many(cc_list):\n",
    "    for cc in sorted(cc_list):\n",
    "        image = get_flag(cc)\n",
    "        show(cc)\n",
    "        save_flag(image,cc.lower()+\".gif\")\n",
    "\n",
    "    return len(cc_list)\n",
    "\n",
    "\n",
    "def main(download_many):\n",
    "    t0 = time.time()\n",
    "    count = download_many(POP20_CC)\n",
    "    elapsed = time.time()-t0\n",
    "    msg = \"\\n{} flags downloaded in {:.2f}s\"\n",
    "    print(msg.format(count,elapsed))\n",
    "\n",
    "\n",
    "if __name__ == '__main__':\n",
    "    main(download_many)"
   ]
  },
  {
   "cell_type": "markdown",
   "metadata": {},
   "source": [
    "通过future方式实现"
   ]
  },
  {
   "cell_type": "code",
   "execution_count": 2,
   "metadata": {},
   "outputs": [
    {
     "name": "stdout",
     "output_type": "stream",
     "text": [
      "BR BDDECNFR ID   EGRUJP    TRVNNG   ET CD IRPH MX  PK US IN \n",
      "20 flags downloaded in 1.65s\n"
     ]
    }
   ],
   "source": [
    "import os\n",
    "import time\n",
    "import sys\n",
    "import requests\n",
    "from concurrent import futures\n",
    "\n",
    "MAX_WORKERS = 20\n",
    "\n",
    "POP20_CC = (\"CN IN US ID BR PK NG BD RU JP MX PH VN ET EG DE IR TR CD FR\").split()\n",
    "\n",
    "BASE_URL = 'http://flupy.org/data/flags'\n",
    "\n",
    "DEST_DIR = 'images/flags2'\n",
    "\n",
    "\n",
    "def save_flag(img,filename):\n",
    "    path = os.path.join(DEST_DIR,filename)\n",
    "    with open(path,'wb') as fp:\n",
    "        fp.write(img)\n",
    "\n",
    "\n",
    "def get_flag(cc):\n",
    "    url = \"{}/{cc}/{cc}.gif\".format(BASE_URL,cc=cc.lower())\n",
    "    resp = requests.get(url)\n",
    "    return resp.content\n",
    "\n",
    "\n",
    "def show(text):\n",
    "    print(text,end=\" \")\n",
    "    sys.stdout.flush()\n",
    "\n",
    "    \n",
    "def main(download_many):\n",
    "    t0 = time.time()\n",
    "    count = download_many(POP20_CC)\n",
    "    elapsed = time.time()-t0\n",
    "    msg = \"\\n{} flags downloaded in {:.2f}s\"\n",
    "    print(msg.format(count,elapsed))\n",
    "\n",
    "    \n",
    "def download_one(cc):\n",
    "    image = get_flag(cc)\n",
    "    show(cc)\n",
    "    save_flag(image, cc.lower()+\".gif\")\n",
    "    return cc\n",
    "\n",
    "\n",
    "def download_many(cc_list):\n",
    "    workers = min(MAX_WORKERS,len(cc_list))\n",
    "    with futures.ThreadPoolExecutor(workers) as executor:\n",
    "        res = executor.map(download_one, sorted(cc_list))\n",
    "    return len(list(res))\n",
    "\n",
    "\n",
    "if __name__ == '__main__':\n",
    "    main(download_many)"
   ]
  },
  {
   "cell_type": "markdown",
   "metadata": {},
   "source": [
    "可以看到两者的速度差别还是非常大的。"
   ]
  },
  {
   "cell_type": "markdown",
   "metadata": {},
   "source": [
    "### future"
   ]
  },
  {
   "cell_type": "markdown",
   "metadata": {},
   "source": [
    "future是concurrent.futures模块和asyncio模块的重要组件\n",
    "\n",
    "从python3.4开始标准库中有两个名为Future的类：\n",
    "* concurrent.futures.Future\n",
    "* asyncio.Future\n",
    "\n",
    "这两个类的作用相同：两个Future类的实例都表示可能完成或者尚未完成的延迟计算。与Twisted中的Deferred类、Tornado框架中的Future类的功能类似\n",
    "\n",
    "**注意：**通常情况下自己不应该创建future，而是由并发框架(concurrent.futures或asyncio)实例化\n",
    "\n",
    "原因：future表示终将发生的事情，而确定某件事情会发生的唯一方式是执行的时间已经安排好，因此只有把某件事情交给concurrent.futures.Executor子类处理时，才会创建concurrent.futures.Future实例。\n",
    "\n",
    "如：Executor.submit()方法的参数是一个**可调用的对象**，调用这个方法后会为传入的可调用对象排定时间，并返回一个future.\n",
    "\n",
    "客户端代码不能改变future的状态，并发框架在future表示的延迟计算结束后会改变期物的状态，我们无法控制计算何时结束。\n",
    "\n",
    "这两种future都有`.done()`方法，这个方法**不阻塞**，返回值是布尔值，指明future链接的可调用对象是否已经执行。客户端代码通常不会询问future是否运行结束，而是会等待通知。因此两个Future类都有`.add_done_callback()`方法，这个方法只有一个参数，类型是可调用的对象，future运行结束后会调用指定的可调用对象。\n",
    "\n",
    "`.result()`方法是在两个Future类中的作用相同：返回可调用对象的结果，或者重新抛出执行可调用的对象时抛出的异常。\n",
    "\n",
    "但是如果future没有运行结束，result方法在两个Futrue类中的行为差别非常大。\n",
    "* 对`concurrent.futures.Future`实例来说，调用`.result()`方法会阻塞调用方所在的线程，直到有结果可返回，此时，result方法可以接收可选的timeout参数，如果在指定的时间内future没有运行完毕，会抛出TimeoutError异常。\n",
    "* `asyncio.Future.result`方法不支持设定超时时间，在获取future结果最好使用yield from结构，但是concurrent.futures.Future不能这样做\n",
    "\n",
    "不管是asyncio还是`concurrent.futures.Future`都会有几个函数是返回future，其他函数则是使用future,在最开始的例子中我们使用的`Executor.map`就是在使用future，返回值是一个迭代器，迭代器的`__next__`方法调用各个future的result方法，因此我们得到的是各个futrue的结果，而不是future本身"
   ]
  },
  {
   "cell_type": "markdown",
   "metadata": {},
   "source": [
    "关于future.as_completed函数的使用，这里我们用了两个循环，一个用于创建并排定future,另外一个用于获取future的结果"
   ]
  },
  {
   "cell_type": "code",
   "execution_count": 4,
   "metadata": {},
   "outputs": [
    {
     "name": "stdout",
     "output_type": "stream",
     "text": [
      "Secheduled for BR:<Future at 0x29620980e80 state=running>\n",
      "Secheduled for CN:<Future at 0x29620980ba8 state=running>\n",
      "Secheduled for ID:<Future at 0x29620f99160 state=running>\n",
      "Secheduled for IN:<Future at 0x29620f6b940 state=pending>\n",
      "Secheduled for US:<Future at 0x29620ffcd30 state=pending>\n",
      "CN <Future at 0x29620980ba8 state=finished returned str>result:'CN'\n",
      "BR ID <Future at 0x29620980e80 state=finished returned str>result:'BR'\n",
      "<Future at 0x29620f99160 state=finished returned str>result:'ID'\n",
      "IN <Future at 0x29620f6b940 state=finished returned str>result:'IN'\n",
      "US <Future at 0x29620ffcd30 state=finished returned str>result:'US'\n",
      "\n",
      "5 flags downloaded in 0.98s\n"
     ]
    }
   ],
   "source": [
    "import os\n",
    "import time\n",
    "import sys\n",
    "import requests\n",
    "from concurrent import futures\n",
    "\n",
    "MAX_WORKERS = 20\n",
    "\n",
    "POP20_CC = (\"CN IN US ID BR PK NG BD RU JP MX PH VN ET EG DE IR TR CD FR\").split()\n",
    "\n",
    "BASE_URL = 'http://flupy.org/data/flags'\n",
    "\n",
    "DEST_DIR = 'images/flags3'\n",
    "\n",
    "if not os.path.exists(DEST_DIR):\n",
    "    os.makedirs(DEST_DIR)\n",
    "\n",
    "def save_flag(img,filename):\n",
    "    path = os.path.join(DEST_DIR,filename)\n",
    "    with open(path,'wb') as fp:\n",
    "        fp.write(img)\n",
    "\n",
    "\n",
    "def get_flag(cc):\n",
    "    url = \"{}/{cc}/{cc}.gif\".format(BASE_URL,cc=cc.lower())\n",
    "    resp = requests.get(url)\n",
    "    return resp.content\n",
    "\n",
    "\n",
    "def show(text):\n",
    "    print(text,end=\" \")\n",
    "    sys.stdout.flush()\n",
    "\n",
    "    \n",
    "def main(download_many):\n",
    "    t0 = time.time()\n",
    "    count = download_many(POP20_CC)\n",
    "    elapsed = time.time()-t0\n",
    "    msg = \"\\n{} flags downloaded in {:.2f}s\"\n",
    "    print(msg.format(count,elapsed))\n",
    "    \n",
    "def download_one(cc):\n",
    "    image = get_flag(cc)\n",
    "    show(cc)\n",
    "    save_flag(image, cc.lower()+\".gif\")\n",
    "    return cc\n",
    "\n",
    "\n",
    "def download_many(cc_list):\n",
    "    cc_list = cc_list[:5]\n",
    "    with futures.ThreadPoolExecutor(max_workers=3) as executor:\n",
    "        to_do = []\n",
    "        for cc in sorted(cc_list):\n",
    "            future = executor.submit(download_one,cc)\n",
    "            to_do.append(future)\n",
    "            msg = \"Secheduled for {}:{}\"\n",
    "            print(msg.format(cc,future))\n",
    "\n",
    "        results = []\n",
    "        for future in futures.as_completed(to_do):\n",
    "            res = future.result()\n",
    "            msg = \"{}result:{!r}\"\n",
    "            print(msg.format(future,res))\n",
    "            results.append(res)\n",
    "\n",
    "    return len(results)\n",
    "\n",
    "\n",
    "if __name__ == '__main__':\n",
    "    main(download_many)"
   ]
  },
  {
   "cell_type": "markdown",
   "metadata": {},
   "source": [
    "**注意：**Python代码是无法控制GIL，标准库中所有执行阻塞型IO操作的函数，在等待操作系统返回结果时都会释放GIL.运行其他线程执行，也正是因为这样，Python线程可以在IO密集型应用中发挥作用\n",
    "\n",
    "以上都是concurrent.futures启动线程，下面通过它启动进程"
   ]
  },
  {
   "cell_type": "markdown",
   "metadata": {},
   "source": [
    "### concurrent.futures启动进程"
   ]
  },
  {
   "cell_type": "markdown",
   "metadata": {},
   "source": [
    "`concurrent.futures`中的`ProcessPoolExecutor`类把工作分配给多个Python进程处理，因此，如果需要做CPU密集型处理，使用这个模块能绕开GIL，利用所有的CPU核心。\n",
    "\n",
    "其原理是一个`ProcessPoolExecutor`创建了 N 个独立的Python解释器，N是系统上面可用的CPU核数。\n",
    "\n",
    "使用方法和ThreadPoolExecutor方法一样"
   ]
  }
 ],
 "metadata": {
  "kernelspec": {
   "display_name": "Python 3",
   "language": "python",
   "name": "python3"
  },
  "language_info": {
   "codemirror_mode": {
    "name": "ipython",
    "version": 3
   },
   "file_extension": ".py",
   "mimetype": "text/x-python",
   "name": "python",
   "nbconvert_exporter": "python",
   "pygments_lexer": "ipython3",
   "version": "3.6.4"
  }
 },
 "nbformat": 4,
 "nbformat_minor": 2
}
