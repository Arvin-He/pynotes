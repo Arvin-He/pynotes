{
 "cells": [
  {
   "cell_type": "markdown",
   "metadata": {},
   "source": [
    "# py-深入原理"
   ]
  },
  {
   "cell_type": "markdown",
   "metadata": {},
   "source": [
    "### dir()和__dict__区别"
   ]
  },
  {
   "cell_type": "markdown",
   "metadata": {},
   "source": [
    "Python中一切皆为对象，每个对象都有多个属性(attribute)，Python对属性有一套统一的管理方案。\n",
    "\n",
    "* dir()是一个内建函数, 返回对象所有属性的list.\n",
    "* `__dict__`是一个对象所有属性名和属性值的字典,键名是属性名称,键值是属性值\n",
    "* dir()用来寻找一个对象的所有属性，包括`__dict__`中的属性，`__dict__`是dir()的子集\n",
    "* 不是所有对象都有`__dict__`属性。许多内建类型就没有`__dict__`属性，如list，此时就用dir()列出对象所有属性。"
   ]
  },
  {
   "cell_type": "code",
   "execution_count": 1,
   "metadata": {},
   "outputs": [
    {
     "ename": "AttributeError",
     "evalue": "'list' object has no attribute '__dict__'",
     "output_type": "error",
     "traceback": [
      "\u001b[1;31m---------------------------------------------------------------------------\u001b[0m",
      "\u001b[1;31mAttributeError\u001b[0m                            Traceback (most recent call last)",
      "\u001b[1;32m<ipython-input-1-bd427db7f8e5>\u001b[0m in \u001b[0;36m<module>\u001b[1;34m()\u001b[0m\n\u001b[1;32m----> 1\u001b[1;33m \u001b[1;33m[\u001b[0m\u001b[1;33m]\u001b[0m\u001b[1;33m.\u001b[0m\u001b[0m__dict__\u001b[0m\u001b[1;33m\u001b[0m\u001b[0m\n\u001b[0m",
      "\u001b[1;31mAttributeError\u001b[0m: 'list' object has no attribute '__dict__'"
     ]
    }
   ],
   "source": [
    "[].__dict__"
   ]
  },
  {
   "cell_type": "markdown",
   "metadata": {},
   "source": [
    "### `__dict__`变量"
   ]
  },
  {
   "cell_type": "markdown",
   "metadata": {},
   "source": [
    "1. 实例的`__dict__`仅存储与该实例相关的实例属性, 正因为实例的`__dict__`属性，每个实例的属性才会互不影响。\n",
    "2. 类的`__dict__`存储所有实例共享的变量和函数(类属性，方法等)，类的`__dict__`并**不包含父类的属性**。"
   ]
  },
  {
   "cell_type": "markdown",
   "metadata": {},
   "source": [
    "### dir()函数"
   ]
  },
  {
   "cell_type": "markdown",
   "metadata": {},
   "source": [
    "dir()是Python提供的一个API函数，dir()函数会自动寻找一个对象的所有属性 **(包括从父类中继承的属性)**。"
   ]
  },
  {
   "cell_type": "markdown",
   "metadata": {},
   "source": [
    "### `__slot__`变量"
   ]
  },
  {
   "cell_type": "markdown",
   "metadata": {},
   "source": [
    "* 这个类变量可以是 string，iterable 或者是被实例使用的一连串 string。\n",
    "\n",
    "* 如果在新式类中定义了` __slots__`，`__slots__` 会为声明了的变量预留空间，同时阻止该类为它的每个实例自动创建 `__dict__` 和 `__weakref__`。\n",
    "\n",
    "* 当继承一个没有 `__slots__` 属性的类时，子类会自动拥有 `__dict__` 属性，因此在子类中定义 `__slots__ `是毫无意义的，你可以自由访问子类的 `__dict__` 属性，所有未在 `__slots__` 中声明的属性会保存在 `__dict__` 中。\n",
    "\n",
    "* 在缺少 `__dict__` 变量的情况下，实例不能接受新的不在 `__slots__` 声明内的变量作为属性，如果试图给这样的类赋予一个未在 `__slots__` 声明的变量作为属性会抛出 AttributeError。但是如果你确实需要能够动态添加属性，那么将字符串 `__dict__` 纳入 `__slots__` 的声明中。如果同时在类中定义 `__dict__` 和 `__slots__` 是不行的，因为 `__slots__` 会阻止 `__dict__` 属性的创建。（本条 Python 2.3 及其以后有效）\n",
    "\n",
    "* 在缺少 `__weakref__` 变量的情况下，定义了 `__slots__` 的类不支持对其实例的弱引用。如果需要，请将字符串 `__weakref__` 纳入 `__slots__` 声明中。（本条Python 2.3及其以后有效）\n",
    "\n",
    "* `__slots__` 的实现原理是在 class 级别为其所声明的每个变量创建 descriptor，由此带来的结果就是，类属性不能用于为 `__slots__ ` 声明中的实例变量设置默认值，否则类属性会覆写描述符的赋值功能。\n",
    "\n",
    "* `__slots__` 声明只对它所处的类有效，因此，含有 `__slots__` 的类的子类会自动创建一个` __dict__`，除非在子类中也声明一个 `__slots__` （在这个 `__slots__` 声明应该只包含父类未声明的变量）。\n",
    "\n",
    "* `__class__` 赋值只有当两个类都具有相同的 `__slots__` 时才有效。（本条 Python 2.6 及其以后有效）"
   ]
  },
  {
   "cell_type": "markdown",
   "metadata": {},
   "source": [
    "在一个类中添加了 `__slots__` 属性，那么这个类的实例将不会拥有 `__dict__` 属性, 但是 dir() 仍然可以找到并列出它的实例所有有效属性。"
   ]
  }
 ],
 "metadata": {
  "kernelspec": {
   "display_name": "Python 3",
   "language": "python",
   "name": "python3"
  },
  "language_info": {
   "codemirror_mode": {
    "name": "ipython",
    "version": 3
   },
   "file_extension": ".py",
   "mimetype": "text/x-python",
   "name": "python",
   "nbconvert_exporter": "python",
   "pygments_lexer": "ipython3",
   "version": "3.6.4"
  }
 },
 "nbformat": 4,
 "nbformat_minor": 2
}
