{
 "cells": [
  {
   "cell_type": "markdown",
   "metadata": {},
   "source": [
    "# 列表常用操作"
   ]
  },
  {
   "cell_type": "markdown",
   "metadata": {},
   "source": [
    "* append\n",
    "* clear\n",
    "* copy\n",
    "* count\n",
    "* extend\n",
    "* index\n",
    "* insert\n",
    "* pop\n",
    "* remove\n",
    "* reverse\n",
    "* sort"
   ]
  },
  {
   "cell_type": "markdown",
   "metadata": {},
   "source": [
    "### append"
   ]
  },
  {
   "cell_type": "code",
   "execution_count": 3,
   "metadata": {},
   "outputs": [
    {
     "data": {
      "text/plain": [
       "[123, 'abc']"
      ]
     },
     "execution_count": 3,
     "metadata": {},
     "output_type": "execute_result"
    }
   ],
   "source": [
    "my_list = []\n",
    "\n",
    "my_list.append(123)\n",
    "my_list.append('abc')\n",
    "\n",
    "my_list"
   ]
  },
  {
   "cell_type": "markdown",
   "metadata": {},
   "source": [
    "### clear"
   ]
  },
  {
   "cell_type": "code",
   "execution_count": 5,
   "metadata": {},
   "outputs": [
    {
     "name": "stdout",
     "output_type": "stream",
     "text": [
      "[123, 'abc', [1, 'ss']]\n"
     ]
    },
    {
     "data": {
      "text/plain": [
       "[]"
      ]
     },
     "execution_count": 5,
     "metadata": {},
     "output_type": "execute_result"
    }
   ],
   "source": [
    "my_list = [123, 'abc', [1, 'ss']]\n",
    "\n",
    "print(my_list)\n",
    "\n",
    "my_list.clear()\n",
    "\n",
    "my_list"
   ]
  },
  {
   "cell_type": "markdown",
   "metadata": {},
   "source": [
    "### copy"
   ]
  },
  {
   "cell_type": "code",
   "execution_count": 8,
   "metadata": {},
   "outputs": [
    {
     "name": "stdout",
     "output_type": "stream",
     "text": [
      "[123, 'abc', [1, 'ss']]\n",
      "[123, 'abc', [1, 'ss']]\n",
      "[123, 'abc', [1, 'ss'], {'aa': 10}]\n",
      "[123, 'abc', [1, 'ss']]\n",
      "[123, 'abc', [1, 'ss'], {'aa': 10}]\n"
     ]
    }
   ],
   "source": [
    "my_list = [123, 'abc', [1, 'ss']]\n",
    "\n",
    "print(my_list)\n",
    "\n",
    "list1 = my_list.copy()\n",
    "\n",
    "print(list1)\n",
    "\n",
    "my_list.append({'aa': 10})\n",
    "print(my_list)\n",
    "\n",
    "print(list1)\n",
    "\n",
    "list1 = my_list.copy()\n",
    "print(list1)"
   ]
  },
  {
   "cell_type": "markdown",
   "metadata": {},
   "source": [
    "### count"
   ]
  },
  {
   "cell_type": "code",
   "execution_count": 11,
   "metadata": {},
   "outputs": [
    {
     "name": "stdout",
     "output_type": "stream",
     "text": [
      "1\n",
      "1\n"
     ]
    }
   ],
   "source": [
    "my_list = [123, 'abc', [1, 'ss']]\n",
    "\n",
    "print(my_list.count(123))\n",
    "\n",
    "print(my_list[2].count(1))"
   ]
  },
  {
   "cell_type": "markdown",
   "metadata": {},
   "source": [
    "### extend"
   ]
  },
  {
   "cell_type": "code",
   "execution_count": 13,
   "metadata": {},
   "outputs": [
    {
     "name": "stdout",
     "output_type": "stream",
     "text": [
      "[123, 'abc', [1, 'ss'], 1, 2, 3]\n"
     ]
    }
   ],
   "source": [
    "my_list = [123, 'abc', [1, 'ss']]\n",
    "\n",
    "list1 = [1, 2, 3]\n",
    "\n",
    "my_list.extend(list1)\n",
    "\n",
    "print(my_list)"
   ]
  },
  {
   "cell_type": "markdown",
   "metadata": {},
   "source": [
    "### index"
   ]
  },
  {
   "cell_type": "code",
   "execution_count": 16,
   "metadata": {},
   "outputs": [
    {
     "name": "stdout",
     "output_type": "stream",
     "text": [
      "0\n",
      "1\n"
     ]
    }
   ],
   "source": [
    "my_list = [123, 'abc', [1, 'ss']]\n",
    "\n",
    "print(my_list.index(123))\n",
    "\n",
    "print(my_list.index('abc'))"
   ]
  },
  {
   "cell_type": "markdown",
   "metadata": {},
   "source": [
    "### insert"
   ]
  },
  {
   "cell_type": "code",
   "execution_count": 19,
   "metadata": {},
   "outputs": [
    {
     "name": "stdout",
     "output_type": "stream",
     "text": [
      "[123, 'abc', [1, 'ss'], 'ss', 'ass']\n"
     ]
    }
   ],
   "source": [
    "my_list = [123, 'abc', [1, 'ss']]\n",
    "\n",
    "my_list.insert(4, 'ass')\n",
    "my_list.insert(3, 'ss')\n",
    "\n",
    "print(my_list)"
   ]
  },
  {
   "cell_type": "markdown",
   "metadata": {},
   "source": [
    "### pop"
   ]
  },
  {
   "cell_type": "code",
   "execution_count": 21,
   "metadata": {},
   "outputs": [
    {
     "name": "stdout",
     "output_type": "stream",
     "text": [
      "abc\n",
      "[123, [1, 'ss'], 'ss', 'ass']\n"
     ]
    }
   ],
   "source": [
    "my_list = [123, 'abc', [1, 'ss'], 'ss', 'ass']\n",
    "\n",
    "res = my_list.pop(1)\n",
    "\n",
    "print(res)\n",
    "print(my_list)b"
   ]
  },
  {
   "cell_type": "markdown",
   "metadata": {},
   "source": [
    "### remove"
   ]
  },
  {
   "cell_type": "code",
   "execution_count": 23,
   "metadata": {},
   "outputs": [
    {
     "name": "stdout",
     "output_type": "stream",
     "text": [
      "[123, [1, 'ss'], 'ss', 'ass']\n"
     ]
    }
   ],
   "source": [
    "my_list = [123, 'abc', [1, 'ss'], 'ss', 'ass']\n",
    "\n",
    "my_list.remove('abc')\n",
    "\n",
    "print(my_list)"
   ]
  },
  {
   "cell_type": "markdown",
   "metadata": {},
   "source": [
    "### reverse"
   ]
  },
  {
   "cell_type": "code",
   "execution_count": 34,
   "metadata": {},
   "outputs": [
    {
     "name": "stdout",
     "output_type": "stream",
     "text": [
      "None\n",
      "['ass', 'ss', [1, 'ss'], 'abc', 123]\n"
     ]
    }
   ],
   "source": [
    "my_list = [123, 'abc', [1, 'ss'], 'ss', 'ass']\n",
    "res = my_list.reverse()\n",
    "print(res)\n",
    "print(my_list)"
   ]
  },
  {
   "cell_type": "markdown",
   "metadata": {},
   "source": [
    "### sort"
   ]
  },
  {
   "cell_type": "markdown",
   "metadata": {},
   "source": [
    "L.sort(key=None, reverse=False)\n",
    "\n",
    "注意:不同于sorted函数排序是列表内部排序,不是新建一个列表"
   ]
  },
  {
   "cell_type": "code",
   "execution_count": 40,
   "metadata": {},
   "outputs": [
    {
     "name": "stdout",
     "output_type": "stream",
     "text": [
      "1501202105032\n",
      "1501202105032\n",
      "[15, 13, 11, 9, 7, 5, 3, 1]\n"
     ]
    }
   ],
   "source": [
    "my_list = [1, 7, 5, 3, 9, 15, 13, 11]\n",
    "print(id(my_list))\n",
    "my_list.sort(reverse=True)\n",
    "print(id(my_list))\n",
    "print(my_list)"
   ]
  },
  {
   "cell_type": "markdown",
   "metadata": {},
   "source": [
    "### sorted"
   ]
  },
  {
   "cell_type": "code",
   "execution_count": null,
   "metadata": {},
   "outputs": [],
   "source": [
    "my_list = [1, 7, 5, 3, 9, 15, 13, 11]\n",
    "print(id(my_list))\n",
    "my_list.sort(reverse=True)\n",
    "print(id(my_list))\n",
    "print(my_list)"
   ]
  },
  {
   "cell_type": "markdown",
   "metadata": {},
   "source": [
    "### slice(切片)"
   ]
  },
  {
   "cell_type": "code",
   "execution_count": 24,
   "metadata": {},
   "outputs": [],
   "source": [
    "list1 = [\n",
    "    b'/var/spool/cron/crontabs/root',\n",
    "    b'15,30,45,59 * * * * echo \"xgmtest.....\" >> xgmtest.txt',\n",
    "    b'/var/spool/cron/crontabs/payegis',\n",
    "    b'*/10  * * * * ntpdate time.windows.com >/dev/null 2>&1'\n",
    "]\n",
    "\n",
    "for i, item in enumerate(list1):\n",
    "    if i % 2 == 0:\n",
    "        user = item[item.rfind(b'/')+1:]\n",
    "        next_line = list1[i+1]\n",
    "        fileds = next_line.split(b' ')\n",
    "        fileds = [item for item in fileds if item]\n",
    "        cycle = b' '.join(fileds[:5])\n",
    "        program = b' '.join(fileds[5:])\n",
    "        "
   ]
  },
  {
   "cell_type": "code",
   "execution_count": null,
   "metadata": {},
   "outputs": [],
   "source": []
  }
 ],
 "metadata": {
  "kernelspec": {
   "display_name": "Python 3",
   "language": "python",
   "name": "python3"
  },
  "language_info": {
   "codemirror_mode": {
    "name": "ipython",
    "version": 3
   },
   "file_extension": ".py",
   "mimetype": "text/x-python",
   "name": "python",
   "nbconvert_exporter": "python",
   "pygments_lexer": "ipython3",
   "version": "3.6.4"
  }
 },
 "nbformat": 4,
 "nbformat_minor": 2
}
