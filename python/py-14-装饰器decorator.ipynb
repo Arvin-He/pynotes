{
 "cells": [
  {
   "cell_type": "markdown",
   "metadata": {},
   "source": [
    "# py-装饰器"
   ]
  },
  {
   "cell_type": "code",
   "execution_count": 6,
   "metadata": {},
   "outputs": [
    {
     "name": "stdout",
     "output_type": "stream",
     "text": [
      "[Function: test_func start...]\n",
      "count start ...\n",
      "count end.\n",
      "[Function: test_func finished, spent time: 3.00s]\n"
     ]
    }
   ],
   "source": [
    "# 函数计时装饰器装饰器的创建\n",
    "import time\n",
    "from functools import wraps\n",
    "\n",
    "def timer_counter(func):\n",
    "    '''\n",
    "    用装饰器实现函数计时\n",
    "    :param function: 需要计时的函数\n",
    "    :return: None\n",
    "    '''\n",
    "    @wraps(func)\n",
    "    def function_timer(*args, **kwargs):\n",
    "        print('[Function: {name} start...]'.format(name = func.__name__))\n",
    "        t0 = time.time()\n",
    "        result = func(*args, **kwargs)\n",
    "        t1 = time.time()\n",
    "        print('[Function: {name} finished, spent time: {time:.2f}s]'.format(name = func.__name__, time = t1 - t0))\n",
    "        return result\n",
    "    return function_timer\n",
    "\n",
    "@timer_counter\n",
    "def test_func():\n",
    "    print(\"count start ...\")\n",
    "    for i in range(3):\n",
    "        time.sleep(1)\n",
    "    print('count end.')\n",
    "\n",
    "\n",
    "test_func()"
   ]
  }
 ],
 "metadata": {
  "kernelspec": {
   "display_name": "Python 3",
   "language": "python",
   "name": "python3"
  },
  "language_info": {
   "codemirror_mode": {
    "name": "ipython",
    "version": 3
   },
   "file_extension": ".py",
   "mimetype": "text/x-python",
   "name": "python",
   "nbconvert_exporter": "python",
   "pygments_lexer": "ipython3",
   "version": "3.6.4"
  }
 },
 "nbformat": 4,
 "nbformat_minor": 2
}
