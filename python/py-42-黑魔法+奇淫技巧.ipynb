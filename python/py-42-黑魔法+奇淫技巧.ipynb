{
 "cells": [
  {
   "cell_type": "markdown",
   "metadata": {},
   "source": [
    "# python中的黑魔法和奇淫技巧"
   ]
  },
  {
   "cell_type": "markdown",
   "metadata": {},
   "source": [
    "### all和any"
   ]
  },
  {
   "cell_type": "code",
   "execution_count": 2,
   "metadata": {},
   "outputs": [
    {
     "name": "stdout",
     "output_type": "stream",
     "text": [
      "At least has one true\n",
      "all is true\n",
      "At least has one true and one false\n"
     ]
    }
   ],
   "source": [
    "a = [True, False, True]\n",
    "b = [True, True]\n",
    "if any(a):\n",
    "    print('At least has one true')\n",
    "if all(b):\n",
    "    print('all is true')\n",
    "if any(a) and not all(a):\n",
    "    print('At least has one true and one false')"
   ]
  },
  {
   "cell_type": "markdown",
   "metadata": {},
   "source": [
    "### and 和 or"
   ]
  },
  {
   "cell_type": "markdown",
   "metadata": {},
   "source": [
    "如果一个or表达式中所有值都为真，Python会选择第一个值，而and表达式则会选择第二个。"
   ]
  },
  {
   "cell_type": "code",
   "execution_count": 20,
   "metadata": {},
   "outputs": [
    {
     "data": {
      "text/plain": [
       "12"
      ]
     },
     "execution_count": 20,
     "metadata": {},
     "output_type": "execute_result"
    }
   ],
   "source": [
    "(2 or 3)* (5 and 6)"
   ]
  },
  {
   "cell_type": "markdown",
   "metadata": {},
   "source": [
    "### 使用表情"
   ]
  },
  {
   "cell_type": "code",
   "execution_count": 3,
   "metadata": {},
   "outputs": [
    {
     "name": "stdout",
     "output_type": "stream",
     "text": [
      ":thumbs_up\n"
     ]
    }
   ],
   "source": [
    "from emoji import emojize\n",
    "\n",
    "print(emojize(':thumbs_up'))"
   ]
  },
  {
   "cell_type": "markdown",
   "metadata": {},
   "source": [
    "### sh"
   ]
  },
  {
   "cell_type": "markdown",
   "metadata": {},
   "source": [
    "Python 是一种伟大的脚本语言，不过有时使用标准 os 和 subprocess 库会有点棘手。\n",
    "\n",
    "sh 库提供了一种不错的替代方案。\n",
    "\n",
    "sh 库：http://amoffat.github.io/sh/\n",
    "\n",
    "该库允许用户像使用普通函数一样调用任意程序，这对自动化工作流和任务非常有用。\n",
    "\n",
    "这个库仅支持linux"
   ]
  },
  {
   "cell_type": "code",
   "execution_count": 1,
   "metadata": {},
   "outputs": [],
   "source": [
    "from sh import *\n",
    "sh.pwd()\n",
    "sh.mkdir('new_folder')\n",
    "sh.touch('new_file.txt')\n",
    "sh.whoami()\n",
    "sh.echo('This is great!')"
   ]
  },
  {
   "cell_type": "markdown",
   "metadata": {},
   "source": [
    "### uuid"
   ]
  },
  {
   "cell_type": "markdown",
   "metadata": {},
   "source": [
    "生成通用唯一标识符（Universally Unique ID，UUID）的一种快速简单方法就是使用 Python 标准库的 uuid 模块。\n",
    "\n",
    "这创建了一个随机化后的 128 比特数字，该数字几乎必然是唯一的。\n",
    "\n",
    "在给定集合中找出重复数字的可能性极低。即使有一万亿 UUID，重复数字存在的概率也远远低于十亿分之一。"
   ]
  },
  {
   "cell_type": "code",
   "execution_count": 8,
   "metadata": {},
   "outputs": [
    {
     "name": "stdout",
     "output_type": "stream",
     "text": [
      "abc45ff7-94d4-47e0-907d-4f7bc1fa9aac\n"
     ]
    }
   ],
   "source": [
    "import uuid\n",
    "user_id = uuid.uuid4()\n",
    "print(user_id)"
   ]
  },
  {
   "cell_type": "markdown",
   "metadata": {},
   "source": [
    "### else的不同处理"
   ]
  },
  {
   "cell_type": "markdown",
   "metadata": {},
   "source": [
    "* for循环后的else只会在经过了所有迭代且没有出现break的时候才会执行\n",
    "\n",
    "* try模块后的else会在try里的代码成功执行完后去执行"
   ]
  },
  {
   "cell_type": "code",
   "execution_count": 15,
   "metadata": {},
   "outputs": [
    {
     "name": "stdout",
     "output_type": "stream",
     "text": [
      "more than 5!\n",
      "do try things\n",
      "Try block executed successfully...\n"
     ]
    }
   ],
   "source": [
    "for num in [i for i in range(10)]:\n",
    "    if num >= 5:\n",
    "        print(\"more than 5!\")\n",
    "        break\n",
    "else:\n",
    "    print(\"less than 5\")\n",
    "    \n",
    "    \n",
    "try:\n",
    "    print('do try things')\n",
    "except:\n",
    "    print(\"Exception occurred!!!\")\n",
    "else:\n",
    "    print(\"Try block executed successfully...\")    "
   ]
  },
  {
   "cell_type": "markdown",
   "metadata": {},
   "source": [
    "### python中的is和小整数池"
   ]
  },
  {
   "cell_type": "code",
   "execution_count": 19,
   "metadata": {},
   "outputs": [
    {
     "name": "stdout",
     "output_type": "stream",
     "text": [
      "True\n",
      "False\n",
      "False\n"
     ]
    }
   ],
   "source": [
    "a = 256\n",
    "b = 256\n",
    "print(a is b)\n",
    "\n",
    "a = 257\n",
    "b = 257\n",
    "print(a is b)\n",
    "\n",
    "a = 258; b = 258\n",
    "print(a is b)"
   ]
  },
  {
   "cell_type": "markdown",
   "metadata": {},
   "source": [
    "is和==是不一样的:\n",
    "\n",
    "* is判断的是两个对象是否是同一个对象，既要值相等又要引用一致\n",
    "* ==判断的是两个对象的值是否相等；\n",
    "\n",
    "为避免整数频繁申请和销毁内存空间，Python 定义了一个小整数池 [-5, 256] 这些整数对象是提前建立好的，不会被垃圾回收。 解释器做了单独的处理，放进了固定的内存中，不因每次运行而变化。\n",
    "\n",
    "注意: 这个代码仅在python的shell运行环境时才会出现. \n",
    "\n",
    "cpython解释器会扫描上下文的内存值集合中是否有了257,如果有了,那么接下来申请变量b的指针指向a的值即可,不会重新申请内存,这是cpython的内存优化."
   ]
  },
  {
   "cell_type": "markdown",
   "metadata": {},
   "source": [
    "### python中的冷知识"
   ]
  },
  {
   "cell_type": "markdown",
   "metadata": {},
   "source": [
    "... 这是省略号，在Python中，一切皆对象。它也不例外。"
   ]
  },
  {
   "cell_type": "code",
   "execution_count": 17,
   "metadata": {},
   "outputs": [
    {
     "data": {
      "text/plain": [
       "Ellipsis"
      ]
     },
     "execution_count": 17,
     "metadata": {},
     "output_type": "execute_result"
    }
   ],
   "source": [
    "..."
   ]
  },
  {
   "cell_type": "markdown",
   "metadata": {},
   "source": [
    "增量赋值的性能更好\n",
    "\n",
    "默认参数最好不为可变对象\n",
    "\n",
    "类首字母不一定是大写\n",
    "\n",
    "在正常情况下，我们所编写的所见到的代码，好像都默许了类名首字母大写，而实例用小写的这一准则。但这并不是强制性的，即使你反过来的也没有关系。\n",
    "但有一些内置的类，首字母都是小写，而实例都是大写。\n",
    "比如 bool 是类名，而 True，False 是其实例； 比如 ellipsis是类名，Ellipsis是实例； 还有 int，string，float，list，tuple，dict等一系列数据类型都是类名，它们都是小写。\n",
    "\n",
    "intern机制: 字符串类型作为Python中最常用的数据类型之一，Python解释器为了提高字符串使用的效率和使用性能，做了很多优化.\n",
    "例如：Python解释器中使用了\n",
    "intern（字符串驻留）的技术来提高字符串效率，什么是intern机制？就是同样的字符串对象仅仅会保存一份，放在一个字符串储蓄池中，是共用的，当然，肯定不能改变，这也决定了字符串必须是不可变对象。\n",
    "\n",
    "生成器比列表推导式更快"
   ]
  },
  {
   "cell_type": "markdown",
   "metadata": {},
   "source": [
    "### 如何修改解释器提示符"
   ]
  },
  {
   "cell_type": "markdown",
   "metadata": {},
   "source": [
    "你是否想过 >>> 和 ... 这两个提示符也是可以修改的呢？"
   ]
  },
  {
   "cell_type": "code",
   "execution_count": 26,
   "metadata": {},
   "outputs": [
    {
     "name": "stdout",
     "output_type": "stream",
     "text": [
      ">>>\n",
      "$$$\n"
     ]
    }
   ],
   "source": [
    "import sys\n",
    "\n",
    "print(sys.ps1)\n",
    "print(sys.ps2)\n",
    "\n",
    "# sys.ps1 = '>>>'\n",
    "# sys.ps2 = '$$$'\n"
   ]
  }
 ],
 "metadata": {
  "kernelspec": {
   "display_name": "Python 3",
   "language": "python",
   "name": "python3"
  },
  "language_info": {
   "codemirror_mode": {
    "name": "ipython",
    "version": 3
   },
   "file_extension": ".py",
   "mimetype": "text/x-python",
   "name": "python",
   "nbconvert_exporter": "python",
   "pygments_lexer": "ipython3",
   "version": "3.6.4"
  }
 },
 "nbformat": 4,
 "nbformat_minor": 2
}
