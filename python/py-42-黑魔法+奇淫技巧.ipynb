{
 "cells": [
  {
   "cell_type": "markdown",
   "metadata": {},
   "source": [
    "# python中的黑魔法和奇淫技巧"
   ]
  },
  {
   "cell_type": "markdown",
   "metadata": {},
   "source": [
    "### all和any"
   ]
  },
  {
   "cell_type": "code",
   "execution_count": 2,
   "metadata": {},
   "outputs": [
    {
     "name": "stdout",
     "output_type": "stream",
     "text": [
      "At least has one true\n",
      "all is true\n",
      "At least has one true and one false\n"
     ]
    }
   ],
   "source": [
    "a = [True, False, True]\n",
    "b = [True, True]\n",
    "if any(a):\n",
    "    print('At least has one true')\n",
    "if all(b):\n",
    "    print('all is true')\n",
    "if any(a) and not all(a):\n",
    "    print('At least has one true and one false')"
   ]
  },
  {
   "cell_type": "markdown",
   "metadata": {},
   "source": [
    "### 在控制台绘图"
   ]
  },
  {
   "cell_type": "markdown",
   "metadata": {},
   "source": [
    "pip install bashplotlib"
   ]
  },
  {
   "cell_type": "markdown",
   "metadata": {},
   "source": [
    "### 使用表情"
   ]
  },
  {
   "cell_type": "code",
   "execution_count": 3,
   "metadata": {},
   "outputs": [
    {
     "name": "stdout",
     "output_type": "stream",
     "text": [
      ":thumbs_up\n"
     ]
    }
   ],
   "source": [
    "from emoji import emojize\n",
    "\n",
    "print(emojize(':thumbs_up'))"
   ]
  },
  {
   "cell_type": "markdown",
   "metadata": {},
   "source": [
    "### sh"
   ]
  },
  {
   "cell_type": "markdown",
   "metadata": {},
   "source": [
    "Python 是一种伟大的脚本语言，不过有时使用标准 os 和 subprocess 库会有点棘手。\n",
    "\n",
    "sh 库提供了一种不错的替代方案。\n",
    "\n",
    "sh 库：http://amoffat.github.io/sh/\n",
    "\n",
    "该库允许用户像使用普通函数一样调用任意程序，这对自动化工作流和任务非常有用。"
   ]
  },
  {
   "cell_type": "code",
   "execution_count": 7,
   "metadata": {},
   "outputs": [
    {
     "ename": "ImportError",
     "evalue": "sh 1.12.14 is currently only supported on linux and osx. please install pbs 0.110 (http://pypi.python.org/pypi/pbs) for windows support.",
     "output_type": "error",
     "traceback": [
      "\u001b[1;31m---------------------------------------------------------------------------\u001b[0m",
      "\u001b[1;31mImportError\u001b[0m                               Traceback (most recent call last)",
      "\u001b[1;32m<ipython-input-7-cbcac91cbd13>\u001b[0m in \u001b[0;36m<module>\u001b[1;34m()\u001b[0m\n\u001b[1;32m----> 1\u001b[1;33m \u001b[1;32mfrom\u001b[0m \u001b[0msh\u001b[0m \u001b[1;32mimport\u001b[0m \u001b[1;33m*\u001b[0m\u001b[1;33m\u001b[0m\u001b[0m\n\u001b[0m\u001b[0;32m      2\u001b[0m \u001b[1;31m# sh.pwd()\u001b[0m\u001b[1;33m\u001b[0m\u001b[1;33m\u001b[0m\u001b[0m\n\u001b[0;32m      3\u001b[0m \u001b[1;31m# sh.mkdir('new_folder')\u001b[0m\u001b[1;33m\u001b[0m\u001b[1;33m\u001b[0m\u001b[0m\n\u001b[0;32m      4\u001b[0m \u001b[1;31m# sh.touch('new_file.txt')\u001b[0m\u001b[1;33m\u001b[0m\u001b[1;33m\u001b[0m\u001b[0m\n\u001b[0;32m      5\u001b[0m \u001b[1;31m# sh.whoami()\u001b[0m\u001b[1;33m\u001b[0m\u001b[1;33m\u001b[0m\u001b[0m\n",
      "\u001b[1;32mc:\\program files\\python36\\lib\\site-packages\\sh.py\u001b[0m in \u001b[0;36m<module>\u001b[1;34m()\u001b[0m\n\u001b[0;32m     34\u001b[0m     raise ImportError(\"sh %s is currently only supported on linux and osx. \\\n\u001b[0;32m     35\u001b[0m \u001b[0mplease\u001b[0m \u001b[0minstall\u001b[0m \u001b[0mpbs\u001b[0m \u001b[1;36m0.110\u001b[0m \u001b[1;33m(\u001b[0m\u001b[0mhttp\u001b[0m\u001b[1;33m:\u001b[0m\u001b[1;33m//\u001b[0m\u001b[0mpypi\u001b[0m\u001b[1;33m.\u001b[0m\u001b[0mpython\u001b[0m\u001b[1;33m.\u001b[0m\u001b[0morg\u001b[0m\u001b[1;33m/\u001b[0m\u001b[0mpypi\u001b[0m\u001b[1;33m/\u001b[0m\u001b[0mpbs\u001b[0m\u001b[1;33m)\u001b[0m \u001b[1;32mfor\u001b[0m \u001b[0mwindows\u001b[0m\u001b[0;31m \u001b[0m\u001b[0;31m\\\u001b[0m\u001b[1;33m\u001b[0m\u001b[0m\n\u001b[1;32m---> 36\u001b[1;33m support.\" % __version__)\n\u001b[0m\u001b[0;32m     37\u001b[0m \u001b[1;33m\u001b[0m\u001b[0m\n\u001b[0;32m     38\u001b[0m \u001b[1;33m\u001b[0m\u001b[0m\n",
      "\u001b[1;31mImportError\u001b[0m: sh 1.12.14 is currently only supported on linux and osx. please install pbs 0.110 (http://pypi.python.org/pypi/pbs) for windows support."
     ]
    }
   ],
   "source": [
    "from sh import *\n",
    "# sh.pwd()\n",
    "# sh.mkdir('new_folder')\n",
    "# sh.touch('new_file.txt')\n",
    "# sh.whoami()\n",
    "sh.echo('This is great!')"
   ]
  },
  {
   "cell_type": "markdown",
   "metadata": {},
   "source": [
    "### uuid"
   ]
  },
  {
   "cell_type": "markdown",
   "metadata": {},
   "source": [
    "生成通用唯一标识符（Universally Unique ID，UUID）的一种快速简单方法就是使用 Python 标准库的 uuid 模块。\n",
    "\n",
    "这创建了一个随机化后的 128 比特数字，该数字几乎必然是唯一的。\n",
    "\n",
    "在给定集合中找出重复数字的可能性极低。即使有一万亿 UUID，重复数字存在的概率也远远低于十亿分之一。"
   ]
  },
  {
   "cell_type": "code",
   "execution_count": 8,
   "metadata": {},
   "outputs": [
    {
     "name": "stdout",
     "output_type": "stream",
     "text": [
      "abc45ff7-94d4-47e0-907d-4f7bc1fa9aac\n"
     ]
    }
   ],
   "source": [
    "import uuid\n",
    "user_id = uuid.uuid4()\n",
    "print(user_id)"
   ]
  },
  {
   "cell_type": "markdown",
   "metadata": {},
   "source": [
    "### 字典键的隐式转换"
   ]
  },
  {
   "cell_type": "markdown",
   "metadata": {},
   "source": [
    "Python的字典键的比较是通过哈希值来比较的\n",
    "在Python里如果两个不可变对象的值相等，那他们的哈希也是一样的\n",
    "因此此处hash(5) == hash(5.0)是True的，所以键被隐式的转换了,\n",
    "建议尽量不要使用浮点数作为字典的key"
   ]
  },
  {
   "cell_type": "markdown",
   "metadata": {},
   "source": [
    "### 生成器执行时间的差异"
   ]
  },
  {
   "cell_type": "code",
   "execution_count": 11,
   "metadata": {},
   "outputs": [
    {
     "name": "stdout",
     "output_type": "stream",
     "text": [
      "[8]\n",
      "[1, 8, 15]\n"
     ]
    }
   ],
   "source": [
    "array = [1, 8, 15]\n",
    "\n",
    "g = (x for x in array if array.count(x)>0)\n",
    "gg = (x for x in array)\n",
    "# print(list(g))\n",
    "array = [2, 8, 22]\n",
    "print(list(g))\n",
    "print(list(gg))"
   ]
  },
  {
   "cell_type": "markdown",
   "metadata": {},
   "source": [
    "在一个生成器表达式里，in的操作是在声明时求值的，而if是在运行期求值的\n",
    "\n",
    "在运行期之前，array已经被重新分配成了[2,8,22],而在生成器的for循环中取的值仍然是[1, 8, 15],\n",
    "\n",
    "但是在if判断x的值是从[1, 8, 15]中取值在[2，8，22]中进行判断的."
   ]
  },
  {
   "cell_type": "markdown",
   "metadata": {},
   "source": [
    "### 在列表迭代式删除item"
   ]
  },
  {
   "cell_type": "markdown",
   "metadata": {},
   "source": [
    "对一个正在迭代的对象进行修改并不是一个很好的选择，正确的做法应该是建立一份该对象的拷贝来进行迭代"
   ]
  },
  {
   "cell_type": "code",
   "execution_count": 13,
   "metadata": {},
   "outputs": [],
   "source": [
    "list_1 = [i for i in range(5)]\n",
    "\n",
    "for idx, item in enumerate(list_1[:]):\n",
    "    list_1.remove(item)"
   ]
  },
  {
   "cell_type": "markdown",
   "metadata": {},
   "source": [
    "### else的不同处理"
   ]
  },
  {
   "cell_type": "markdown",
   "metadata": {},
   "source": [
    "* for循环后的else只会在经过了所有迭代且没有出现break的时候才会执行\n",
    "\n",
    "* try模块后的else会在try里的代码成功执行完后去执行"
   ]
  },
  {
   "cell_type": "code",
   "execution_count": 15,
   "metadata": {},
   "outputs": [
    {
     "name": "stdout",
     "output_type": "stream",
     "text": [
      "more than 5!\n",
      "do try things\n",
      "Try block executed successfully...\n"
     ]
    }
   ],
   "source": [
    "for num in [i for i in range(10)]:\n",
    "    if num >= 5:\n",
    "        print(\"more than 5!\")\n",
    "        break\n",
    "else:\n",
    "    print(\"less than 5\")\n",
    "    \n",
    "    \n",
    "try:\n",
    "    print('do try things')\n",
    "except:\n",
    "    print(\"Exception occurred!!!\")\n",
    "else:\n",
    "    print(\"Try block executed successfully...\")    "
   ]
  },
  {
   "cell_type": "markdown",
   "metadata": {},
   "source": [
    "### python中的is和小整数池"
   ]
  },
  {
   "cell_type": "code",
   "execution_count": 19,
   "metadata": {},
   "outputs": [
    {
     "name": "stdout",
     "output_type": "stream",
     "text": [
      "True\n",
      "False\n",
      "False\n"
     ]
    }
   ],
   "source": [
    "a = 256\n",
    "b = 256\n",
    "print(a is b)\n",
    "\n",
    "a = 257\n",
    "b = 257\n",
    "print(a is b)\n",
    "\n",
    "a = 258; b = 258\n",
    "print(a is b)"
   ]
  },
  {
   "cell_type": "markdown",
   "metadata": {},
   "source": [
    "is和==是不一样的:\n",
    "\n",
    "* is判断的是两个对象是否是同一个对象，既要值相等又要引用一致\n",
    "* ==判断的是两个对象的值是否相等；\n",
    "\n",
    "为避免整数频繁申请和销毁内存空间，Python 定义了一个小整数池 [-5, 256] 这些整数对象是提前建立好的，不会被垃圾回收。 解释器做了单独的处理，放进了固定的内存中，不因每次运行而变化。\n",
    "\n",
    "注意: 这个代码仅在python的shell运行环境时才会出现. \n",
    "\n",
    "cpython解释器会扫描上下文的内存值集合中是否有了257,如果有了,那么接下来申请变量b的指针指向a的值即可,不会重新申请内存,这是cpython的内存优化."
   ]
  },
  {
   "cell_type": "markdown",
   "metadata": {},
   "source": [
    "### python中的冷知识"
   ]
  },
  {
   "cell_type": "markdown",
   "metadata": {},
   "source": [
    "... 这是省略号，在Python中，一切皆对象。它也不例外。"
   ]
  },
  {
   "cell_type": "code",
   "execution_count": 17,
   "metadata": {},
   "outputs": [
    {
     "data": {
      "text/plain": [
       "Ellipsis"
      ]
     },
     "execution_count": 17,
     "metadata": {},
     "output_type": "execute_result"
    }
   ],
   "source": [
    "..."
   ]
  },
  {
   "cell_type": "markdown",
   "metadata": {},
   "source": [
    "增量赋值的性能更好\n",
    "\n",
    "默认参数最好不为可变对象\n",
    "\n",
    "类首字母不一定是大写\n",
    "\n",
    "在正常情况下，我们所编写的所见到的代码，好像都默许了类名首字母大写，而实例用小写的这一准则。但这并不是强制性的，即使你反过来的也没有关系。\n",
    "但有一些内置的类，首字母都是小写，而实例都是大写。\n",
    "比如 bool 是类名，而 True，False 是其实例； 比如 ellipsis是类名，Ellipsis是实例； 还有 int，string，float，list，tuple，dict等一系列数据类型都是类名，它们都是小写。\n",
    "\n",
    "intern机制: 字符串类型作为Python中最常用的数据类型之一，Python解释器为了提高字符串使用的效率和使用性能，做了很多优化.\n",
    "例如：Python解释器中使用了\n",
    "intern（字符串驻留）的技术来提高字符串效率，什么是intern机制？就是同样的字符串对象仅仅会保存一份，放在一个字符串储蓄池中，是共用的，当然，肯定不能改变，这也决定了字符串必须是不可变对象。\n",
    "\n",
    "生成器比列表推导式更快"
   ]
  },
  {
   "cell_type": "markdown",
   "metadata": {},
   "source": [
    "### and 和 or"
   ]
  },
  {
   "cell_type": "markdown",
   "metadata": {},
   "source": [
    "如果一个or表达式中所有值都为真，Python会选择第一个值，而and表达式则会选择第二个。"
   ]
  },
  {
   "cell_type": "code",
   "execution_count": 20,
   "metadata": {},
   "outputs": [
    {
     "data": {
      "text/plain": [
       "12"
      ]
     },
     "execution_count": 20,
     "metadata": {},
     "output_type": "execute_result"
    }
   ],
   "source": [
    "(2 or 3)* (5 and 6)"
   ]
  },
  {
   "cell_type": "markdown",
   "metadata": {},
   "source": [
    "### 如何修改解释器提示符"
   ]
  },
  {
   "cell_type": "markdown",
   "metadata": {},
   "source": [
    "你是否想过 >>> 和 ... 这两个提示符也是可以修改的呢？"
   ]
  },
  {
   "cell_type": "code",
   "execution_count": 26,
   "metadata": {},
   "outputs": [
    {
     "name": "stdout",
     "output_type": "stream",
     "text": [
      ">>>\n",
      "$$$\n"
     ]
    }
   ],
   "source": [
    "import sys\n",
    "\n",
    "print(sys.ps1)\n",
    "print(sys.ps2)\n",
    "\n",
    "# sys.ps1 = '>>>'\n",
    "# sys.ps2 = '$$$'\n"
   ]
  },
  {
   "cell_type": "markdown",
   "metadata": {},
   "source": [
    "### sort 与 sorted 区别"
   ]
  },
  {
   "cell_type": "code",
   "execution_count": 10,
   "metadata": {},
   "outputs": [
    {
     "name": "stdout",
     "output_type": "stream",
     "text": [
      "1998060777224\n",
      "1998060777224\n",
      "1998062107720\n",
      "1998060777224\n"
     ]
    }
   ],
   "source": [
    "mylist = [1, 5, 2, 8, 4]\n",
    "print(id(mylist))\n",
    "a = sorted(mylist)\n",
    "print(id(mylist))\n",
    "print(id(a))\n",
    "mylist.sort()\n",
    "print(id(mylist))"
   ]
  },
  {
   "cell_type": "markdown",
   "metadata": {},
   "source": [
    "* mylist.sort: 是直接对原有的mylist进行排序\n",
    "* sorted(mylist): 是返回一个排序好的列表,不改变原有的mylist列表"
   ]
  },
  {
   "cell_type": "markdown",
   "metadata": {},
   "source": [
    "### 列表反转"
   ]
  },
  {
   "cell_type": "code",
   "execution_count": 16,
   "metadata": {},
   "outputs": [
    {
     "name": "stdout",
     "output_type": "stream",
     "text": [
      "[9, 7, 5, 3, 1]\n",
      "[9, 7, 5, 3, 1]\n"
     ]
    }
   ],
   "source": [
    "# 法1: 直接调用列表内建reverse方法\n",
    "a = [1, 3, 5, 7, 9]\n",
    "a.reverse()\n",
    "print(a)\n",
    "\n",
    "# 法2: 利用切片\n",
    "b = [1, 3, 5, 7, 9]\n",
    "print(b[::-1])"
   ]
  },
  {
   "cell_type": "markdown",
   "metadata": {},
   "source": [
    "**注意:**\n",
    "1. 这里仅仅是做列表的反序,没有排序\n",
    "2. a.reverse() 方法不是返回一个列表,这是一个直接对列表的操作"
   ]
  },
  {
   "cell_type": "markdown",
   "metadata": {},
   "source": [
    "### 列表排序并反转"
   ]
  },
  {
   "cell_type": "code",
   "execution_count": 3,
   "metadata": {},
   "outputs": [
    {
     "name": "stdout",
     "output_type": "stream",
     "text": [
      "[1, 2, 3, 4, 7, 9]\n",
      "[9, 7, 4, 3, 2, 1]\n"
     ]
    }
   ],
   "source": [
    "mylist = [1, 4, 2, 7, 3, 9]\n",
    "mylist.sort(reverse=False)\n",
    "print(mylist)\n",
    "mylist.sort(reverse=True)\n",
    "print(mylist)"
   ]
  },
  {
   "cell_type": "markdown",
   "metadata": {},
   "source": [
    "### 字典列表排序"
   ]
  },
  {
   "cell_type": "code",
   "execution_count": 4,
   "metadata": {},
   "outputs": [
    {
     "data": {
      "text/plain": [
       "[{'name': 'black', 'size': 100},\n",
       " {'name': 'red', 'size': 200},\n",
       " {'name': 'white', 'size': 300}]"
      ]
     },
     "execution_count": 4,
     "metadata": {},
     "output_type": "execute_result"
    }
   ],
   "source": [
    "from operator import itemgetter\n",
    "mylist= [{'size':100, 'name':'black'}, {'size': 300, 'name': 'white'}, {'size': 200, 'name': 'red'}]\n",
    "mylist.sort(key=itemgetter('size'))\n",
    "mylist"
   ]
  },
  {
   "cell_type": "markdown",
   "metadata": {},
   "source": [
    "### 列表生成式"
   ]
  },
  {
   "cell_type": "code",
   "execution_count": 5,
   "metadata": {},
   "outputs": [
    {
     "data": {
      "text/plain": [
       "[0, 1, 2, 3, 4, 5, 6, 7, 8, 9]"
      ]
     },
     "execution_count": 5,
     "metadata": {},
     "output_type": "execute_result"
    }
   ],
   "source": [
    "a = [i for i in range(10)]\n",
    "a"
   ]
  },
  {
   "cell_type": "markdown",
   "metadata": {},
   "source": [
    "过滤式列表生成式"
   ]
  },
  {
   "cell_type": "code",
   "execution_count": 7,
   "metadata": {},
   "outputs": [
    {
     "data": {
      "text/plain": [
       "[1, 6, 5, 4, 9]"
      ]
     },
     "execution_count": 7,
     "metadata": {},
     "output_type": "execute_result"
    }
   ],
   "source": [
    "a = [1, 6, 5, 4, -4, -7, 9]\n",
    "b = [item for item in a if item>0]\n",
    "b"
   ]
  },
  {
   "cell_type": "markdown",
   "metadata": {},
   "source": [
    "条件式列表生成式"
   ]
  },
  {
   "cell_type": "code",
   "execution_count": 8,
   "metadata": {},
   "outputs": [
    {
     "data": {
      "text/plain": [
       "[100, 100, 100, 100, 100, 0, 0, 0]"
      ]
     },
     "execution_count": 8,
     "metadata": {},
     "output_type": "execute_result"
    }
   ],
   "source": [
    "a = [1, 3, 5, 7, 8, -6, -5, -3]\n",
    "b = [100 if item>0 else 0 for item in a]\n",
    "b"
   ]
  },
  {
   "cell_type": "markdown",
   "metadata": {},
   "source": [
    "### 字典"
   ]
  },
  {
   "cell_type": "code",
   "execution_count": 19,
   "metadata": {},
   "outputs": [
    {
     "name": "stdout",
     "output_type": "stream",
     "text": [
      "{1, 2, 3, 4, 6}\n",
      "{'a': 0, 'as': 1, 'bat': 2, 'car': 3, 'dove': 4, 'python': 5}\n"
     ]
    }
   ],
   "source": [
    "strings = ['a', 'as', 'bat', 'car', 'dove', 'python']\n",
    "unique_lengths = {len(x) for x in strings}\n",
    "\n",
    "print(unique_lengths)\n",
    "\n",
    "set(map(len, strings))\n",
    "\n",
    "loc_mapping = {val : index for index, val in enumerate(strings)}\n",
    "print(loc_mapping)"
   ]
  },
  {
   "cell_type": "code",
   "execution_count": null,
   "metadata": {},
   "outputs": [],
   "source": []
  }
 ],
 "metadata": {
  "kernelspec": {
   "display_name": "Python 3",
   "language": "python",
   "name": "python3"
  },
  "language_info": {
   "codemirror_mode": {
    "name": "ipython",
    "version": 3
   },
   "file_extension": ".py",
   "mimetype": "text/x-python",
   "name": "python",
   "nbconvert_exporter": "python",
   "pygments_lexer": "ipython3",
   "version": "3.6.4"
  }
 },
 "nbformat": 4,
 "nbformat_minor": 2
}
