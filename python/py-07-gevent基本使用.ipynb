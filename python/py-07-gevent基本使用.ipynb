{
 "cells": [
  {
   "cell_type": "markdown",
   "metadata": {},
   "source": [
    "# gevent使用"
   ]
  },
  {
   "cell_type": "markdown",
   "metadata": {},
   "source": [
    "### gevent简介"
   ]
  },
  {
   "cell_type": "markdown",
   "metadata": {},
   "source": [
    "Gevent是一种基于协程的Python网络库，它用到Greenlet提供的，封装了libevent事件循环的高层同步API。它让开发者在不改变编程习惯的同时，用同步的方式写异步I/O的代码。\n",
    "\n",
    "在gevent中用到的主要模式是Greenlet, 它是以C扩展模块形式接入Python的轻量级协程。 Greenlet全部运行在主程序操作系统进程的内部，但它们被协作式地调度.\n",
    "\n",
    "使用Gevent的性能确实要比用传统的线程高，甚至高很多。"
   ]
  },
  {
   "cell_type": "markdown",
   "metadata": {},
   "source": [
    "### gevent的一些坑"
   ]
  },
  {
   "cell_type": "markdown",
   "metadata": {},
   "source": [
    "1. Monkey-patching，猴子补丁，\n",
    "\n",
    "如果使用了这个补丁，Gevent直接修改标准库里面大部分的阻塞式系统调用，包括socket、ssl、threading和 select等模块，而变为协作式运行。但是**无法保证**你在复杂的生产环境中有哪些地方使用这些标准库会由于打了补丁而出现奇怪的问题\n",
    "\n",
    "2. 第三方库支持。得确保项目中用到其他用到的网络库也必须使用纯Python或者明确说明支持Gevent\n",
    "\n",
    "3. gevent的猴子补丁不生效问题 \n",
    "\n",
    "通常在程序的一开始处(程序入口)就打上猴子补丁,否则有可能补丁没有生效,通常在程序一开始处执行`from gevent import monkey; monkey.patch_all()`\n",
    "有的时候打了猴子补丁,会产生一些怪异的情况,这些怪异的情况使无法判别的,所以猴子补丁谨慎使用."
   ]
  },
  {
   "cell_type": "markdown",
   "metadata": {},
   "source": [
    "## gevent用法"
   ]
  },
  {
   "cell_type": "markdown",
   "metadata": {},
   "source": [
    "gevent对协程的支持,本质上是greenlet在实现切换工作"
   ]
  },
  {
   "cell_type": "code",
   "execution_count": 2,
   "metadata": {},
   "outputs": [
    {
     "name": "stdout",
     "output_type": "stream",
     "text": [
      "start time: 1532911238.115201\n",
      "Running in foo1\n",
      "Running in bar1\n",
      "running in func1\n",
      "running in func2\n",
      "Running in bar2\n",
      "Running in foo2\n",
      "end time: 1532911240.1165957\n",
      "共花费时间: 2.001394748687744\n"
     ]
    }
   ],
   "source": [
    "import time\n",
    "import gevent\n",
    "\n",
    "\n",
    "def foo():\n",
    "    print('Running in foo1')\n",
    "    gevent.sleep(2)\n",
    "    print('Running in foo2')\n",
    "\n",
    "\n",
    "def bar():\n",
    "    print('Running in bar1')\n",
    "    gevent.sleep(1)\n",
    "    print('Running in bar2')\n",
    "\n",
    "\n",
    "def func3():\n",
    "    print(\"running in func1\")\n",
    "    gevent.sleep(0)\n",
    "    print(\"running in func2\")\n",
    "\n",
    "start_time = time.time()\n",
    "print('start time: {}'.format(start_time))\n",
    "gevent.joinall([\n",
    "    gevent.spawn(foo),\n",
    "    gevent.spawn(bar),\n",
    "    gevent.spawn(func3),\n",
    "])\n",
    "end_time = time.time()\n",
    "print('end time: {}'.format(end_time))\n",
    "print('共花费时间: {}'.format(end_time - start_time))\n"
   ]
  },
  {
   "cell_type": "markdown",
   "metadata": {},
   "source": [
    "从运行结果可以看出，通过gevent.sleep()模拟执行IO操作，从而实现自动切换，程序最终花费的时间还是2秒"
   ]
  },
  {
   "cell_type": "markdown",
   "metadata": {},
   "source": [
    "### gevent使用流程"
   ]
  },
  {
   "cell_type": "code",
   "execution_count": null,
   "metadata": {},
   "outputs": [],
   "source": [
    "# spawn方法可以看作是创建一个协程, joinall方法可以看作是添加任务,并启动运行协程\n",
    "from gevent import monkey;monkey.patch_all()\n",
    "import gevent\n",
    "import requests\n",
    "\n",
    "\n",
    "def run_task(url):\n",
    "    try:\n",
    "        r = requests.get(url)\n",
    "    except Exception as e:\n",
    "        print(e)\n",
    "\n",
    "        \n",
    "if __name__ == '__main__':\n",
    "    urls = ['url1', 'url2', 'url3']\n",
    "    greenlets = [gevent.spawn(run_task, url) for url in urls]\n",
    "    gevent.joinall(greenlets)"
   ]
  },
  {
   "cell_type": "markdown",
   "metadata": {},
   "source": [
    "### 协程池的使用"
   ]
  },
  {
   "cell_type": "code",
   "execution_count": null,
   "metadata": {},
   "outputs": [],
   "source": [
    "# -*- coding:utf-8 -*-\n",
    "from gevent import monkey; monkey.patch_all()\n",
    "import gevent\n",
    "from gevent.pool import Pool\n",
    "\n",
    "exist_pages = []\n",
    "with open(\"xxxxx.txt\", \"r\", encoding=\"utf-8\") as f:\n",
    "    for line in f:\n",
    "        exist_pages.append(int(line.strip()))\n",
    "\n",
    "\n",
    "def get_page_index():\n",
    "    for page in range(1, 623000):\n",
    "        yield page\n",
    "\n",
    "\n",
    "def record_leak_pages(page):\n",
    "    with open(\"xxxx.txt\", \"a\", encoding=\"utf-8\") as f:\n",
    "        f.write(\"{}\\n\".format(page))\n",
    "\n",
    "\n",
    "def check_page_exist(page):\n",
    "    if page not in exist_pages:\n",
    "        record_leak_pages(page)\n",
    "\n",
    "\n",
    "pool = Pool(200)\n",
    "try:\n",
    "    pool.map(check_page_exist, get_page_index())\n",
    "except Exception as e:\n",
    "    print(e)"
   ]
  },
  {
   "cell_type": "markdown",
   "metadata": {},
   "source": [
    "### 用协程gevent写一个简单并发爬网页"
   ]
  },
  {
   "cell_type": "code",
   "execution_count": 3,
   "metadata": {},
   "outputs": [
    {
     "name": "stdout",
     "output_type": "stream",
     "text": [
      "get: http://sina.com.cn\n",
      "570962 bytes received from http://sina.com.cn\n",
      "get: http://www.cnblogs.com/\n",
      "45740 bytes received from http://www.cnblogs.com/\n",
      "get: https://news.cnblogs.com/\n",
      "76225 bytes received from https://news.cnblogs.com/\n",
      "同步串行cost: 0.9758610725402832\n",
      "get: http://sina.com.cn\n",
      "570962 bytes received from http://sina.com.cn\n",
      "get: http://www.cnblogs.com/\n",
      "45740 bytes received from http://www.cnblogs.com/\n",
      "get: https://news.cnblogs.com/\n",
      "76225 bytes received from https://news.cnblogs.com/\n",
      "异步cost: 0.6798131465911865\n"
     ]
    }
   ],
   "source": [
    "from urllib import request\n",
    "import gevent\n",
    "import time\n",
    "\n",
    "\n",
    "def fetch(url):\n",
    "    print(\"get: {}\".format(url))\n",
    "    resp = request.urlopen(url)\n",
    "    data = resp.read()\n",
    "    print(\"{} bytes received from {}\".format(len(data), url))\n",
    "\n",
    "\n",
    "urls = [\"http://sina.com.cn\",\n",
    "        \"http://www.cnblogs.com/\",\n",
    "        \"https://news.cnblogs.com/\"]\n",
    "\n",
    "time_start = time.time()\n",
    "for url in urls:\n",
    "    fetch(url)\n",
    "\n",
    "print(\"同步串行cost:\", time.time()-time_start)\n",
    "\n",
    "async_time = time.time()\n",
    "gevent.joinall([\n",
    "    gevent.spawn(fetch, \"http://sina.com.cn\"),\n",
    "    gevent.spawn(fetch, \"http://www.cnblogs.com/\"),\n",
    "    gevent.spawn(fetch, \"https://news.cnblogs.com/\")\n",
    "])\n",
    "print(\"异步cost:\", time.time()-async_time)"
   ]
  },
  {
   "cell_type": "markdown",
   "metadata": {},
   "source": [
    "这里可以看出异步的时候和串行执行的时间基本差不多，其实这里的异步并没有起作用，因为这里的gevent并不能识别出urllib执行时的IO操作，想要是gevent实现异步的方法是导入模块：`from gevent import monkey`"
   ]
  },
  {
   "cell_type": "code",
   "execution_count": 6,
   "metadata": {},
   "outputs": [
    {
     "name": "stdout",
     "output_type": "stream",
     "text": [
      "get: http://sina.com.cn\n",
      "570962 bytes received from http://sina.com.cn\n",
      "get: http://www.cnblogs.com/\n",
      "45678 bytes received from http://www.cnblogs.com/\n",
      "get: https://news.cnblogs.com/\n",
      "76229 bytes received from https://news.cnblogs.com/\n",
      "同步串行cost: 0.5046508312225342\n",
      "get: http://sina.com.cn\n",
      "get: http://www.cnblogs.com/\n",
      "get: https://news.cnblogs.com/\n",
      "76229 bytes received from https://news.cnblogs.com/\n",
      "570962 bytes received from http://sina.com.cn\n",
      "45702 bytes received from http://www.cnblogs.com/\n",
      "异步cost: 0.1904904842376709\n"
     ]
    },
    {
     "name": "stderr",
     "output_type": "stream",
     "text": [
      "c:\\program files\\python36\\lib\\site-packages\\gevent\\hub.py:154: UserWarning: libuv only supports millisecond timer resolution; all times less will be set to 1 ms\n",
      "  with loop.timer(seconds, ref=ref) as t:\n"
     ]
    }
   ],
   "source": [
    "import gevent\n",
    "from gevent import monkey\n",
    "from urllib import request\n",
    "import time\n",
    "\n",
    "monkey.patch_all()\n",
    "\n",
    "def fetch(url):\n",
    "    print(\"get: {}\".format(url))\n",
    "    resp = request.urlopen(url)\n",
    "    data = resp.read()\n",
    "    print(\"{} bytes received from {}\".format(len(data), url))\n",
    "\n",
    "\n",
    "urls = [\"http://sina.com.cn\",\n",
    "        \"http://www.cnblogs.com/\",\n",
    "        \"https://news.cnblogs.com/\"\n",
    "        ]\n",
    "\n",
    "time_start = time.time()\n",
    "for url in urls:\n",
    "    fetch(url)\n",
    "\n",
    "print(\"同步串行cost:\", time.time()-time_start)\n",
    "\n",
    "async_time = time.time()\n",
    "gevent.joinall([\n",
    "    gevent.spawn(fetch, \"http://sina.com.cn\"),\n",
    "    gevent.spawn(fetch, \"http://www.cnblogs.com/\"),\n",
    "    gevent.spawn(fetch, \"https://news.cnblogs.com/\")\n",
    "])\n",
    "print(\"异步cost:\", time.time()-async_time)"
   ]
  },
  {
   "cell_type": "code",
   "execution_count": null,
   "metadata": {},
   "outputs": [],
   "source": []
  }
 ],
 "metadata": {
  "kernelspec": {
   "display_name": "Python 3",
   "language": "python",
   "name": "python3"
  },
  "language_info": {
   "codemirror_mode": {
    "name": "ipython",
    "version": 3
   },
   "file_extension": ".py",
   "mimetype": "text/x-python",
   "name": "python",
   "nbconvert_exporter": "python",
   "pygments_lexer": "ipython3",
   "version": "3.6.4"
  }
 },
 "nbformat": 4,
 "nbformat_minor": 2
}
