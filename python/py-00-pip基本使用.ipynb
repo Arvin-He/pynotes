{
 "cells": [
  {
   "cell_type": "markdown",
   "metadata": {},
   "source": [
    "# pip基本使用"
   ]
  },
  {
   "cell_type": "markdown",
   "metadata": {},
   "source": [
    "## pip简介"
   ]
  },
  {
   "cell_type": "markdown",
   "metadata": {},
   "source": [
    "pip 是一个通用的 Python 包管理工具。提供了对 Python 包的查找、下载、安装、卸载的功能。pip 类似 RedHat 里面的 yum."
   ]
  },
  {
   "cell_type": "markdown",
   "metadata": {},
   "source": [
    "## pip更换国内镜像源"
   ]
  },
  {
   "cell_type": "markdown",
   "metadata": {},
   "source": [
    "### pip国内的一些镜像"
   ]
  },
  {
   "cell_type": "markdown",
   "metadata": {},
   "source": [
    "* 阿里云 :  http://mirrors.aliyun.com/pypi/simple/\n",
    "* 中国科技大学:  https://pypi.mirrors.ustc.edu.cn/simple/ \n",
    "* 豆瓣(douban):  http://pypi.douban.com/simple/ \n",
    "* 清华大学:  https://pypi.tuna.tsinghua.edu.cn/simple/ \n",
    "* 中国科学技术大学:  http://pypi.mirrors.ustc.edu.cn/simple/"
   ]
  },
  {
   "cell_type": "markdown",
   "metadata": {},
   "source": [
    "### 临时修改"
   ]
  },
  {
   "cell_type": "markdown",
   "metadata": {},
   "source": [
    "可以在使用pip的时候在后面加上-i参数，指定pip源 \n",
    "\n",
    "例如: `pip install scrapy -i https://pypi.tuna.tsinghua.edu.cn/simple`"
   ]
  },
  {
   "cell_type": "markdown",
   "metadata": {},
   "source": [
    "### 永久修改"
   ]
  },
  {
   "cell_type": "markdown",
   "metadata": {},
   "source": [
    "* linux : 修改 `~/.pip/pip.conf`, 如果没有就创建一个\n",
    "    ```\n",
    "    [global]\n",
    "    index-url = https://pypi.tuna.tsinghua.edu.cn/simple\n",
    "    ```\n",
    "* windows: 直接在user目录中创建一个pip目录，如：C:\\Users\\xx\\pip，新建pip.ini文件，内容如下:\n",
    "```\n",
    "[global]\n",
    "index-url = https://pypi.tuna.tsinghua.edu.cn/simple\n",
    "```"
   ]
  },
  {
   "cell_type": "markdown",
   "metadata": {},
   "source": [
    "## pip常用命令"
   ]
  },
  {
   "cell_type": "markdown",
   "metadata": {},
   "source": [
    "### 更新pip工具"
   ]
  },
  {
   "cell_type": "markdown",
   "metadata": {},
   "source": [
    "python -m pip install --upgrade pip"
   ]
  },
  {
   "cell_type": "markdown",
   "metadata": {},
   "source": [
    "### 查看python第三方库列表"
   ]
  },
  {
   "cell_type": "markdown",
   "metadata": {},
   "source": [
    "pip list : 查看python第三方库列表\n",
    "\n",
    "pip list > piplist.txt : 将python第三方库列表导入到文本文件中\n",
    "\n",
    "具体如下图: 显示包名和版本号\n",
    "![](images/11.png)"
   ]
  },
  {
   "cell_type": "markdown",
   "metadata": {},
   "source": [
    "### 安装python包"
   ]
  },
  {
   "cell_type": "markdown",
   "metadata": {},
   "source": [
    "pip install aiohttp\n",
    "\n",
    "python -m pip install aiohttp\n",
    "\n",
    "![](images/16.png)"
   ]
  },
  {
   "cell_type": "markdown",
   "metadata": {},
   "source": [
    "### 更新python包"
   ]
  },
  {
   "cell_type": "markdown",
   "metadata": {},
   "source": [
    "pip install aiohttp -U\n",
    "\n",
    "python -m pip install aiohttp -U"
   ]
  },
  {
   "cell_type": "markdown",
   "metadata": {},
   "source": [
    "### 显示指定python库的信息"
   ]
  },
  {
   "cell_type": "markdown",
   "metadata": {},
   "source": [
    "pip show aiohttp\n",
    "\n",
    "具体如下图: \n",
    "![](images/12.png)"
   ]
  },
  {
   "cell_type": "markdown",
   "metadata": {},
   "source": [
    "### 将python安装的库名和版本号输出到requirements.txt"
   ]
  },
  {
   "cell_type": "markdown",
   "metadata": {},
   "source": [
    "pip freeze > requirements.txt"
   ]
  },
  {
   "cell_type": "markdown",
   "metadata": {},
   "source": [
    "### 将本地python库编译成*.whl离线包,便于分发"
   ]
  },
  {
   "cell_type": "markdown",
   "metadata": {},
   "source": [
    "pip wheel numpy\n",
    "\n",
    "注意: \n",
    "* 需要已安装wheel包\n",
    "* 有的包需要借助编译器,如果缺少编译器*.whl离线包将会失败\n",
    "\n",
    "\n",
    "具体如下图: \n",
    "![](images/13.png)\n",
    "\n",
    "生成的*.whl包如下图:\n",
    "![](images/14.png)"
   ]
  },
  {
   "cell_type": "markdown",
   "metadata": {},
   "source": [
    "### 卸载安装的python库"
   ]
  },
  {
   "cell_type": "markdown",
   "metadata": {},
   "source": [
    "pip uninstall aiohttp\n",
    "\n",
    "![](images/15.png)"
   ]
  },
  {
   "cell_type": "markdown",
   "metadata": {},
   "source": [
    "### 其他不常用命令"
   ]
  },
  {
   "cell_type": "markdown",
   "metadata": {},
   "source": [
    "* pip download                    Download packages.\n",
    "* pip check                       Verify installed packages have compatible dependencies.\n",
    "* pip config                      Manage local and global configuration.\n",
    "* pip search                      Search PyPI for packages.\n",
    "* pip hash                        Compute hashes of package archives.\n",
    "* pip completion                  A helper command used for command completion.\n",
    "* pip help                        Show help for commands."
   ]
  },
  {
   "cell_type": "markdown",
   "metadata": {},
   "source": [
    "### 批量自动更新python包脚本"
   ]
  },
  {
   "cell_type": "code",
   "execution_count": null,
   "metadata": {},
   "outputs": [],
   "source": [
    "# -*- codig:utf-8 -*-\n",
    "import os\n",
    "import sys\n",
    "import logging\n",
    "import subprocess\n",
    "\n",
    "packages = []\n",
    "\n",
    "p = subprocess.Popen(\"pip list\", stdout=subprocess.PIPE)\n",
    "stdout, stderr = p.communicate()\n",
    "stdout = stdout.decode()\n",
    "for i, package in enumerate(stdout.split(os.linesep)):\n",
    "    if i >= 2:\n",
    "        package = package.strip().split(' ')[0]\n",
    "        packages.append(package)\n",
    "\n",
    "packages = [package for package in packages if package]\n",
    "print(\"共有 {} 个packages\".format(len(packages)))\n",
    "\n",
    "for i, package in enumerate(packages):\n",
    "    try:\n",
    "        print('准备安装 {} 个包 {}'.format(i, package))\n",
    "        pp = subprocess.Popen('pip install {} -U'.format(package))\n",
    "        pp.wait()\n",
    "        print('成功安装 {} 包'.format(package))\n",
    "        print('=================================================')\n",
    "    except:\n",
    "        print('{} 包安装失败'.format(package))"
   ]
  }
 ],
 "metadata": {
  "kernelspec": {
   "display_name": "Python 3",
   "language": "python",
   "name": "python3"
  },
  "language_info": {
   "codemirror_mode": {
    "name": "ipython",
    "version": 3
   },
   "file_extension": ".py",
   "mimetype": "text/x-python",
   "name": "python",
   "nbconvert_exporter": "python",
   "pygments_lexer": "ipython3",
   "version": "3.6.4"
  }
 },
 "nbformat": 4,
 "nbformat_minor": 2
}
