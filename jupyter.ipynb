{
 "cells": [
  {
   "cell_type": "markdown",
   "metadata": {},
   "source": [
    "## 为什么使用Jupyter Notebook\n",
    "\n",
    "最大的有点是基于过程吧,有的时候你写了一些代码,然后你想把代码和运行结果一起保存下来,以便将来随时拿来复用或查阅.\n",
    "以前一直用markdown记笔记,但是很累,代码运行结果需要自己复制粘贴,还要经常调格式,总之不是很方便.所以就转到Jupyter Notebook上了."
   ]
  },
  {
   "cell_type": "markdown",
   "metadata": {},
   "source": [
    "## 安装Jupyter Notebook"
   ]
  },
  {
   "cell_type": "code",
   "execution_count": null,
   "metadata": {},
   "outputs": [],
   "source": [
    "pip install jupyter"
   ]
  },
  {
   "cell_type": "markdown",
   "metadata": {},
   "source": [
    "## 启动Jupyter Notebook, 在命令行输入:"
   ]
  },
  {
   "cell_type": "code",
   "execution_count": null,
   "metadata": {},
   "outputs": [],
   "source": [
    "jupyter notebook"
   ]
  },
  {
   "cell_type": "markdown",
   "metadata": {},
   "source": [
    "默认在本地8888端口启动jupyter notebook.\n",
    "\n",
    "[I 10:01:27.337 NotebookApp] http://localhost:8888/?token=xxx"
   ]
  },
  {
   "cell_type": "markdown",
   "metadata": {},
   "source": [
    "## 非本地内核\n",
    "\n",
    "我们不仅可以在本地电脑上启动 Jupyter，而且支持多人通过网络连接同一个 Jupyter 实例。在本地启动启动jupyter,则在控制台会出现:\n",
    "The IPython Notebook is running at: http://localhost:8888/\n",
    "这意味着，你的 notebook 是本地运行的，可以在浏览器上打开 http://localhost:8888/ ，从而访问 notebook。\n",
    "你也可以修改下配置，让该 notebook 可以被公开访问。这样，任何知道 notebook 地址的人都可以连接到 notebook 进行远程修改。"
   ]
  },
  {
   "cell_type": "markdown",
   "metadata": {},
   "source": [
    "## 模式切换\n",
    "\n",
    "* 当前cell侧边为蓝色时，表示此时为命令模式，按Enter切换为编辑模式\n",
    "* 当前cell侧边为绿色时，表示此时为编辑模式，按Esc切换为命令模式"
   ]
  },
  {
   "cell_type": "markdown",
   "metadata": {},
   "source": [
    "## 命令模式快捷键\n",
    "\n",
    "* 1~6：把当前cell内容设置为标题1~6格式\n",
    "* A：在上方新建cell\n",
    "* B：在下方新建cell\n",
    "* C: 复制\n",
    "* F：查找和替换\n",
    "* H：显示快捷键帮助\n",
    "* L：为当前cell的代码添加行编号\n",
    "* M：把当前cell内容转换为markdown形式\n",
    "* P：打开命令面板\n",
    "* S：保存notebook\n",
    "* V: 下方粘贴\n",
    "* X：剪切\n",
    "* Y：把当前cell内容转换为代码形式\n",
    "* Z：撤销删除\n",
    "\n",
    "* Shift-V：上方粘贴\n",
    "* Shift-L：为所有cell的代码添加行编号\n",
    "* Shift-M：合并所选cell或合并当前cell和下方的cell\n",
    "* Ctrl-Enter：运行当前cell\n",
    "* Shift-Enter：运行当前cell并跳转到下一cell\n",
    "* Alt-Enter：运行当前cell并在下方新建cell\n",
    "* Shift+上下键：按住Shift进行上下键操作可复选多个cell\n",
    "\n",
    "* 双击D：删除当前cell\n",
    "* 双击I：停止kernel\n",
    "* 双击0：重启kernel\n",
    "\n",
    "* X/C/Shift-V/V：剪切/复制/上方粘贴/下方粘贴"
   ]
  },
  {
   "cell_type": "markdown",
   "metadata": {},
   "source": [
    "## 编辑模式快捷键\n",
    "\n",
    "* Tab：代码补全\n",
    "* Ctrl-A：全选\n",
    "* Ctrl-Z：撤销\n",
    "* Ctrl-Home：将光标移至cell最前端\n",
    "* Ctrl-End：将光标移至cell末端"
   ]
  },
  {
   "cell_type": "markdown",
   "metadata": {},
   "source": [
    "## Jupyter Notebook中Matplotlib绘图\n",
    "\n",
    "若要使用Matplotlib绘图，为确保图形能顺利输出，需在cell开头键入"
   ]
  },
  {
   "cell_type": "code",
   "execution_count": null,
   "metadata": {},
   "outputs": [],
   "source": [
    "%matplotlib inline"
   ]
  }
 ],
 "metadata": {
  "kernelspec": {
   "display_name": "Python 3",
   "language": "python",
   "name": "python3"
  },
  "language_info": {
   "codemirror_mode": {
    "name": "ipython",
    "version": 3
   },
   "file_extension": ".py",
   "mimetype": "text/x-python",
   "name": "python",
   "nbconvert_exporter": "python",
   "pygments_lexer": "ipython3",
   "version": "3.6.2"
  }
 },
 "nbformat": 4,
 "nbformat_minor": 2
}
