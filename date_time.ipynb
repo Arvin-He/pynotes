{
 "cells": [
  {
   "cell_type": "markdown",
   "metadata": {},
   "source": [
    "# datetime操作"
   ]
  },
  {
   "cell_type": "markdown",
   "metadata": {},
   "source": [
    "### datetime/date 转 时间戳"
   ]
  },
  {
   "cell_type": "code",
   "execution_count": 26,
   "metadata": {},
   "outputs": [
    {
     "name": "stdout",
     "output_type": "stream",
     "text": [
      "datetime 转 时间戳: 1522564565\n",
      "date 转 时间戳: 1522512000\n"
     ]
    }
   ],
   "source": [
    "import time\n",
    "from datetime import datetime\n",
    "\n",
    "def datetime_2_timestamp(str_date_time, mode='datetime'):\n",
    "    \"\"\"字符串datetime转时间戳,精确到秒\"\"\"\n",
    "    if ':' not in str_date_time:\n",
    "        mode = 'date'\n",
    "    if mode == 'date':\n",
    "        date_time = datetime.strptime(str_date_time, \"%Y-%m-%d\")\n",
    "    else:\n",
    "        date_time = datetime.strptime(str_date_time, \"%Y-%m-%d %H:%M:%S\")\n",
    "    timestamp = int(time.mktime(date_time.timetuple()))\n",
    "    return timestamp\n",
    "\n",
    "print(\"datetime 转 时间戳: {}\".format(datetime_2_timestamp('2018-04-01 14:36:05')))\n",
    "print(\"date 转 时间戳: {}\".format(datetime_2_timestamp('2018-04-01')))"
   ]
  },
  {
   "cell_type": "markdown",
   "metadata": {},
   "source": [
    "**注意:** date转时间戳,时间戳是精确到date的00:00:00"
   ]
  },
  {
   "cell_type": "markdown",
   "metadata": {},
   "source": [
    "### 时间戳 转 datetime/date"
   ]
  },
  {
   "cell_type": "code",
   "execution_count": 25,
   "metadata": {},
   "outputs": [
    {
     "name": "stdout",
     "output_type": "stream",
     "text": [
      "2018-04-01 14:36:05\n",
      "2018-04-01 00:00:00\n"
     ]
    }
   ],
   "source": [
    "import time\n",
    "\n",
    "def timestamp_2_datetime(timestamp, mode='datetime'):\n",
    "    \"\"\"\"时间戳转日期时间,注意: 时间戳是精确到毫秒的\"\"\"\n",
    "    if isinstance(timestamp, str):\n",
    "        time_stamp = int(timestamp)\n",
    "    else:\n",
    "        time_stamp = timestamp\n",
    "    local_time = time.localtime(time_stamp)\n",
    "    if mode == 'date':\n",
    "        local_date = time.strftime('%Y-%m-%d', local_time)\n",
    "    else:\n",
    "        local_date = time.strftime('%Y-%m-%d %H:%M:%S', local_time)\n",
    "    return local_date\n",
    "\n",
    "print(timestamp_2_datetime(1522564565))\n",
    "print(timestamp_2_datetime(1522512000))"
   ]
  },
  {
   "cell_type": "markdown",
   "metadata": {},
   "source": [
    "### 指定时区的时间戳 转 datetime/date"
   ]
  },
  {
   "cell_type": "code",
   "execution_count": 19,
   "metadata": {},
   "outputs": [
    {
     "name": "stdout",
     "output_type": "stream",
     "text": [
      "time_zone=Asia/Shanghai datetime=2018-04-01 14:36:05\n",
      "time_zone=America/New_York datetime=2018-04-01 02:36:05\n"
     ]
    }
   ],
   "source": [
    "import time\n",
    "import pytz\n",
    "from datetime import datetime\n",
    "\n",
    "def timestamp_2_datetime(timestamp, time_zone='Asia/Shanghai', mode='datetime'):\n",
    "    \"\"\"\"时间戳转日期时间, 注意: 时间戳是精确到秒\"\"\"\n",
    "    tz = pytz.timezone(time_zone)\n",
    "    if isinstance(timestamp, str):\n",
    "        time_stamp = int(timestamp)\n",
    "    else:\n",
    "        time_stamp = timestamp\n",
    "    if mode == 'date':\n",
    "        local_date = datetime.fromtimestamp(time_stamp, tz).strftime(\"%Y-%m-%d\")\n",
    "    else:\n",
    "        local_date = datetime.fromtimestamp(time_stamp, tz).strftime(\"%Y-%m-%d %H:%M:%S\")\n",
    "    return local_date\n",
    "\n",
    "print(\"time_zone=Asia/Shanghai datetime={}\".format(timestamp_2_datetime(1522564565)))\n",
    "print(\"time_zone=America/New_York datetime={}\".format(timestamp_2_datetime(1522564565, time_zone='America/New_York')))"
   ]
  }
 ],
 "metadata": {
  "kernelspec": {
   "display_name": "Python 3",
   "language": "python",
   "name": "python3"
  },
  "language_info": {
   "codemirror_mode": {
    "name": "ipython",
    "version": 3
   },
   "file_extension": ".py",
   "mimetype": "text/x-python",
   "name": "python",
   "nbconvert_exporter": "python",
   "pygments_lexer": "ipython3",
   "version": "3.6.2"
  }
 },
 "nbformat": 4,
 "nbformat_minor": 2
}
