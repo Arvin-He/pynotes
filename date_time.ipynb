{
 "cells": [
  {
   "cell_type": "markdown",
   "metadata": {},
   "source": [
    "# datetime操作"
   ]
  },
  {
   "cell_type": "markdown",
   "metadata": {},
   "source": [
    "### 基本用法"
   ]
  },
  {
   "cell_type": "code",
   "execution_count": 2,
   "metadata": {},
   "outputs": [
    {
     "data": {
      "text/plain": [
       "'2018-04-16 16:50:14'"
      ]
     },
     "execution_count": 2,
     "metadata": {},
     "output_type": "execute_result"
    }
   ],
   "source": [
    "import time\n",
    "from datetime import datetime\n",
    "\n",
    "time.time()\n",
    "time.strftime('%Y-%m-%d %H:%M:%S',time.localtime(time.time()))"
   ]
  },
  {
   "cell_type": "markdown",
   "metadata": {},
   "source": [
    "### datetime/date 转 时间戳"
   ]
  },
  {
   "cell_type": "code",
   "execution_count": 26,
   "metadata": {},
   "outputs": [
    {
     "name": "stdout",
     "output_type": "stream",
     "text": [
      "datetime 转 时间戳: 1522564565\n",
      "date 转 时间戳: 1522512000\n"
     ]
    }
   ],
   "source": [
    "import time\n",
    "from datetime import datetime\n",
    "\n",
    "def datetime_2_timestamp(str_date_time, mode='datetime'):\n",
    "    \"\"\"字符串datetime转时间戳,精确到秒\"\"\"\n",
    "    if ':' not in str_date_time:\n",
    "        mode = 'date'\n",
    "    if mode == 'date':\n",
    "        date_time = datetime.strptime(str_date_time, \"%Y-%m-%d\")\n",
    "    else:\n",
    "        date_time = datetime.strptime(str_date_time, \"%Y-%m-%d %H:%M:%S\")\n",
    "    timestamp = int(time.mktime(date_time.timetuple()))\n",
    "    return timestamp\n",
    "\n",
    "print(\"datetime 转 时间戳: {}\".format(datetime_2_timestamp('2018-04-01 14:36:05')))\n",
    "print(\"date 转 时间戳: {}\".format(datetime_2_timestamp('2018-04-01')))"
   ]
  },
  {
   "cell_type": "markdown",
   "metadata": {},
   "source": [
    "**注意:** date转时间戳,时间戳是精确到date的00:00:00"
   ]
  },
  {
   "cell_type": "markdown",
   "metadata": {},
   "source": [
    "### 时间戳 转 datetime/date"
   ]
  },
  {
   "cell_type": "code",
   "execution_count": 8,
   "metadata": {},
   "outputs": [
    {
     "name": "stdout",
     "output_type": "stream",
     "text": [
      "2018-04-01 14:36:05\n",
      "2018-04-01 00:00:00\n"
     ]
    }
   ],
   "source": [
    "import time\n",
    "\n",
    "def timestamp_2_datetime(timestamp, mode='datetime'):\n",
    "    \"\"\"\"时间戳转日期时间,注意: 时间戳是精确到毫秒的\"\"\"\n",
    "    if isinstance(timestamp, str):\n",
    "        time_stamp = int(timestamp)\n",
    "    else:\n",
    "        time_stamp = timestamp\n",
    "    local_time = time.localtime(time_stamp)\n",
    "    if mode == 'date':\n",
    "        local_date = time.strftime('%Y-%m-%d', local_time)\n",
    "    else:\n",
    "        local_date = time.strftime('%Y-%m-%d %H:%M:%S', local_time)\n",
    "    return local_date\n",
    "\n",
    "print(timestamp_2_datetime(1522564565))\n",
    "print(timestamp_2_datetime(1522512000))"
   ]
  },
  {
   "cell_type": "markdown",
   "metadata": {},
   "source": [
    "### 指定时区的时间戳 转 datetime/date"
   ]
  },
  {
   "cell_type": "code",
   "execution_count": 19,
   "metadata": {},
   "outputs": [
    {
     "name": "stdout",
     "output_type": "stream",
     "text": [
      "time_zone=Asia/Shanghai datetime=2018-04-01 14:36:05\n",
      "time_zone=America/New_York datetime=2018-04-01 02:36:05\n"
     ]
    }
   ],
   "source": [
    "import time\n",
    "import pytz\n",
    "from datetime import datetime\n",
    "\n",
    "def timestamp_2_datetime(timestamp, time_zone='Asia/Shanghai', mode='datetime'):\n",
    "    \"\"\"\"时间戳转日期时间, 注意: 时间戳是精确到秒\"\"\"\n",
    "    tz = pytz.timezone(time_zone)\n",
    "    if isinstance(timestamp, str):\n",
    "        time_stamp = int(timestamp)\n",
    "    else:\n",
    "        time_stamp = timestamp\n",
    "    if mode == 'date':\n",
    "        local_date = datetime.fromtimestamp(time_stamp, tz).strftime(\"%Y-%m-%d\")\n",
    "    else:\n",
    "        local_date = datetime.fromtimestamp(time_stamp, tz).strftime(\"%Y-%m-%d %H:%M:%S\")\n",
    "    return local_date\n",
    "\n",
    "print(\"time_zone=Asia/Shanghai datetime={}\".format(timestamp_2_datetime(1522564565)))\n",
    "print(\"time_zone=America/New_York datetime={}\".format(timestamp_2_datetime(1522564565, time_zone='America/New_York')))"
   ]
  },
  {
   "cell_type": "markdown",
   "metadata": {},
   "source": [
    "### 时间差"
   ]
  },
  {
   "cell_type": "code",
   "execution_count": 12,
   "metadata": {},
   "outputs": [
    {
     "name": "stdout",
     "output_type": "stream",
     "text": [
      "483.922\n",
      "0 天 0 小时 3.9 分钟\n"
     ]
    }
   ],
   "source": [
    "t1 = 1523881075741\n",
    "t2 = 1523881559663\n",
    "tt = (t2 - t1)/1000\n",
    "print(tt)\n",
    "\n",
    "print('{:.0f} 天 {:.0f} 小时 {:.1f} 分钟'.format(tt//86400, tt//3600, tt%60))"
   ]
  },
  {
   "cell_type": "markdown",
   "metadata": {},
   "source": [
    "### 时间差操作"
   ]
  },
  {
   "cell_type": "code",
   "execution_count": 2,
   "metadata": {},
   "outputs": [
    {
     "name": "stdout",
     "output_type": "stream",
     "text": [
      "19:50:30\n",
      "0\n",
      "71430\n",
      "0 天 19 小时 50 分钟 30 秒\n"
     ]
    }
   ],
   "source": [
    "from datetime import datetime, time\n",
    "\n",
    "t1 = datetime(2018, 4, 17, 15, 32, 26)\n",
    "t2 = datetime(2018, 4, 18, 11, 22, 56)\n",
    "\n",
    "tt = t2 -  t1\n",
    "print(tt)\n",
    "print(tt.days)\n",
    "print(tt.seconds)\n",
    "days = tt.days\n",
    "str_time_list = str(tt).split(':')\n",
    "str_date_time = '{} 天 {} 小时 {} 分钟 {:.2s} 秒'.format(days, *str_time_list)\n",
    "print(str_date_time)\n"
   ]
  },
  {
   "cell_type": "markdown",
   "metadata": {},
   "source": [
    "### 时间戳转datetime对象"
   ]
  },
  {
   "cell_type": "code",
   "execution_count": 14,
   "metadata": {},
   "outputs": [
    {
     "name": "stdout",
     "output_type": "stream",
     "text": [
      "1523958564.4200706\n",
      "2018-04-17 17:49:24.420071\n"
     ]
    }
   ],
   "source": [
    "import time\n",
    "from datetime import datetime\n",
    "\n",
    "t = time.time()\n",
    "print(t)\n",
    "\n",
    "dt = datetime.fromtimestamp(t)\n",
    "print(dt)"
   ]
  },
  {
   "cell_type": "code",
   "execution_count": 4,
   "metadata": {},
   "outputs": [
    {
     "name": "stdout",
     "output_type": "stream",
     "text": [
      "2018-05-28 15:55:25.781671\n",
      "['__add__',\n",
      " '__class__',\n",
      " '__delattr__',\n",
      " '__dir__',\n",
      " '__doc__',\n",
      " '__eq__',\n",
      " '__format__',\n",
      " '__ge__',\n",
      " '__getattribute__',\n",
      " '__gt__',\n",
      " '__hash__',\n",
      " '__init__',\n",
      " '__init_subclass__',\n",
      " '__le__',\n",
      " '__lt__',\n",
      " '__ne__',\n",
      " '__new__',\n",
      " '__radd__',\n",
      " '__reduce__',\n",
      " '__reduce_ex__',\n",
      " '__repr__',\n",
      " '__rsub__',\n",
      " '__setattr__',\n",
      " '__sizeof__',\n",
      " '__str__',\n",
      " '__sub__',\n",
      " '__subclasshook__',\n",
      " 'astimezone',\n",
      " 'combine',\n",
      " 'ctime',\n",
      " 'date',\n",
      " 'day',\n",
      " 'dst',\n",
      " 'fold',\n",
      " 'fromordinal',\n",
      " 'fromtimestamp',\n",
      " 'hour',\n",
      " 'isocalendar',\n",
      " 'isoformat',\n",
      " 'isoweekday',\n",
      " 'max',\n",
      " 'microsecond',\n",
      " 'min',\n",
      " 'minute',\n",
      " 'month',\n",
      " 'now',\n",
      " 'replace',\n",
      " 'resolution',\n",
      " 'second',\n",
      " 'strftime',\n",
      " 'strptime',\n",
      " 'time',\n",
      " 'timestamp',\n",
      " 'timetuple',\n",
      " 'timetz',\n",
      " 'today',\n",
      " 'toordinal',\n",
      " 'tzinfo',\n",
      " 'tzname',\n",
      " 'utcfromtimestamp',\n",
      " 'utcnow',\n",
      " 'utcoffset',\n",
      " 'utctimetuple',\n",
      " 'weekday',\n",
      " 'year']\n"
     ]
    }
   ],
   "source": [
    "from datetime import datetime\n",
    "\n",
    "from pprint import pprint\n",
    "\n",
    "print(datetime.now())\n",
    "\n",
    "pprint(dir(datetime))"
   ]
  },
  {
   "cell_type": "code",
   "execution_count": 5,
   "metadata": {},
   "outputs": [
    {
     "name": "stdout",
     "output_type": "stream",
     "text": [
      "1527494182.36475\n",
      "1527494182\n"
     ]
    }
   ],
   "source": [
    "import time\n",
    "\n",
    "a = time.time()\n",
    "print(a)\n",
    "print(int(a))\n",
    "\n"
   ]
  },
  {
   "cell_type": "code",
   "execution_count": null,
   "metadata": {},
   "outputs": [],
   "source": []
  }
 ],
 "metadata": {
  "kernelspec": {
   "display_name": "Python 3",
   "language": "python",
   "name": "python3"
  },
  "language_info": {
   "codemirror_mode": {
    "name": "ipython",
    "version": 3
   },
   "file_extension": ".py",
   "mimetype": "text/x-python",
   "name": "python",
   "nbconvert_exporter": "python",
   "pygments_lexer": "ipython3",
   "version": "3.6.4"
  }
 },
 "nbformat": 4,
 "nbformat_minor": 2
}
