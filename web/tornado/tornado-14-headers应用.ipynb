{
 "cells": [
  {
   "cell_type": "markdown",
   "metadata": {},
   "source": [
    "# tornado-headers应用"
   ]
  },
  {
   "cell_type": "markdown",
   "metadata": {},
   "source": [
    "### 获取request请求headers"
   ]
  },
  {
   "cell_type": "markdown",
   "metadata": {},
   "source": [
    "在处理请求的hangdler中,有一个self.request,这个变量是tornado提供的,只要你的handler继承的父类中有web.RequestHandler这个类.\n",
    "\n",
    "获取整个请求头的headers:  `self.request.headers`\n",
    "\n",
    "获取请求头某个字段: `_id = self.request.headers.get('X-File-Id')`"
   ]
  },
  {
   "cell_type": "markdown",
   "metadata": {},
   "source": [
    "### 设置响应response的headers"
   ]
  },
  {
   "cell_type": "markdown",
   "metadata": {},
   "source": [
    "一般自定义响应头,都是自定义一个类,这个类必须从tornado.web.RequestHandler类继承,以便重写一些方法,如设置响应头等\n",
    "\n",
    "重写tornado的set_default_headers函数,然后设置你想设置的headers\n",
    "\n",
    "```Python\n",
    "class BaseHandler(tornado.web.RequestHandler):\n",
    "\n",
    "    def set_default_headers(self):\n",
    "        self.set_header(\"Access-Control-Allow-Origin\", \"*\")\n",
    "        self.set_header(\"Access-Control-Allow-Headers\", \"x-requested-with,authorization\")\n",
    "        self.set_header('Access-Control-Allow-Methods', 'POST,GET,PUT,DELETE,OPTIONS')\n",
    "        \n",
    "    def get_current_user(self):\n",
    "        if self.request.headers.get(\"Authorization\") is None:\n",
    "            user=self.get_secure_cookie(\"uid\")\n",
    "        else:\n",
    "            uid=self.request.headers.get(\"Authorization\").split('uid=')[1]\n",
    "            user=self.get_secure_cookie(\"uid\",value=uid)\n",
    "        print(user)\n",
    "        return user\n",
    "    \n",
    "    def options(self):\n",
    "        # no body\n",
    "        self.set_status(204)\n",
    "        self.finish()\n",
    "```"
   ]
  }
 ],
 "metadata": {
  "kernelspec": {
   "display_name": "Python 3",
   "language": "python",
   "name": "python3"
  },
  "language_info": {
   "codemirror_mode": {
    "name": "ipython",
    "version": 3
   },
   "file_extension": ".py",
   "mimetype": "text/x-python",
   "name": "python",
   "nbconvert_exporter": "python",
   "pygments_lexer": "ipython3",
   "version": "3.6.4"
  }
 },
 "nbformat": 4,
 "nbformat_minor": 2
}
