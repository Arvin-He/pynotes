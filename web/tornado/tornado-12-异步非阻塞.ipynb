{
 "cells": [
  {
   "cell_type": "markdown",
   "metadata": {},
   "source": [
    "# tornado中实现异步非阻塞"
   ]
  },
  {
   "cell_type": "markdown",
   "metadata": {},
   "source": [
    "在Tornado中，现在有两种方式实现协程：\n",
    "1. 函数前加@tornado.gen.coroutine修饰器，异步函数前加yield，这是一种较“老”的方式；\n",
    "2. 函数采用async定义，异步函数前加await。async和await是python3.5引入的，目前是python内置方式，因此后者的运行效率比前者要高些。\n",
    "\n",
    "但Tornado官网上也说了后者的不足：对老版本的兼容不如前者；yield适用性上也比await广些，例如面对future list时。"
   ]
  },
  {
   "cell_type": "markdown",
   "metadata": {},
   "source": [
    "### 使用gen.coroutine和run_on_executor方式"
   ]
  },
  {
   "cell_type": "code",
   "execution_count": null,
   "metadata": {},
   "outputs": [],
   "source": [
    "import time\n",
    "import json\n",
    "import tornado.web\n",
    "import tornado.gen\n",
    "import tornado.ioloop\n",
    "from tornado.concurrent import run_on_executor\n",
    "from concurrent.futures import ThreadPoolExecutor\n",
    "\n",
    "\n",
    "class MainHandler(tornado.web.RequestHandler):\n",
    "    executor = ThreadPoolExecutor(200)\n",
    "\n",
    "    @tornado.gen.coroutine\n",
    "    def get(self):\n",
    "        kw = self.get_argument(\"kw\", None)\n",
    "        if kw is None:\n",
    "            return self.write(json.dumps([]))\n",
    "        reback_list = yield self.sleep(kw)\n",
    "        self.write(json.dumps(reback_list))\n",
    "        self.finish()\n",
    "\n",
    "    @run_on_executor\n",
    "    def sleep(self, kw):\n",
    "        kw = int(kw)\n",
    "        time.sleep(kw)\n",
    "        return {\"aaa\": \"aaa\"}\n",
    "\n",
    "\n",
    "def start():\n",
    "    application = tornado.web.Application([\n",
    "            (r\"/\", MainHandler),\n",
    "        ])\n",
    "    application.listen(8001)\n",
    "    tornado.ioloop.IOLoop.current().start()\n",
    "\n",
    "\n",
    "if __name__ == \"__main__\":\n",
    "    start()"
   ]
  },
  {
   "cell_type": "markdown",
   "metadata": {},
   "source": [
    "该方式是通过多线程来实现异步非阻塞,是一种比较老的方式"
   ]
  },
  {
   "cell_type": "markdown",
   "metadata": {},
   "source": [
    "### 使用async和await方式"
   ]
  },
  {
   "cell_type": "code",
   "execution_count": null,
   "metadata": {},
   "outputs": [],
   "source": [
    "import time\n",
    "import json\n",
    "import tornado.web\n",
    "import tornado.ioloop\n",
    "\n",
    "\n",
    "class BaseHandler(tornado.web.RequestHandler):\n",
    "    \n",
    "    def async_call(self, func, *args):\n",
    "        return tornado.ioloop.IOLoop.current().run_in_executor(None, func, *args)\n",
    "\n",
    "class MainHandler(BaseHandler):\n",
    "\n",
    "    aysnc def get(self):\n",
    "        kw = self.get_argument(\"kw\", None)\n",
    "        if kw is None:\n",
    "            return self.write(json.dumps([]))\n",
    "        reback_list = await self.async_call(self.sleep, kw)\n",
    "        self.write(json.dumps(reback_list))\n",
    "        self.finish()\n",
    "\n",
    "    def sleep(self, kw):\n",
    "        kw = int(kw)\n",
    "        time.sleep(kw)\n",
    "        return {\"aaa\": \"aaa\"}\n",
    "\n",
    "\n",
    "def start():\n",
    "    application = tornado.web.Application([\n",
    "            (r\"/\", MainHandler),\n",
    "        ])\n",
    "    application.listen(8001)\n",
    "    tornado.ioloop.IOLoop.current().start()\n",
    "\n",
    "\n",
    "if __name__ == \"__main__\":\n",
    "    start()"
   ]
  },
  {
   "cell_type": "markdown",
   "metadata": {},
   "source": [
    "`tornado.ioloop.IOLoop.current().run_in_executor`运行。`run_in_executo`的定义如下：`def run_in_executor(self, executor, func, *args)`\n",
    "executor是func的执行器，它应是`concurrent.futures.Executor`的子类，如果executor未指定，IOLoop将创建了一个线程池，最大线程数是cpu数的5倍：\n",
    "`self._executor = ThreadPoolExecutor(max_workers=(cpu_count() * 5))`,因此，阻塞函数依然是按阻塞方式运行，只不过在另一线程中（同时运行的任务不能多于最大线程数，否则也要阻塞），看起来就变成非阻塞了。\n",
    "\n",
    "上面的例子比较简单，所以看起来异步操作也不麻烦（未涉及锁），Tornado也提供了必要的封装，但业务比较复杂时，写一个全部都是异步操作的web应用真不是件容易的事情，要求我们的思路要“跳跃”，相对比较难设计与调试。其实，多线程执行多任务运行并非一无是处，只是在任务很多时，效率不佳。\n",
    "\n",
    "如果不采用异步处理，而又要提高效率，就必须采用下面描述的“多进程部署”了，此时，编程结构就“自然”多了。"
   ]
  }
 ],
 "metadata": {
  "kernelspec": {
   "display_name": "Python 3",
   "language": "python",
   "name": "python3"
  },
  "language_info": {
   "codemirror_mode": {
    "name": "ipython",
    "version": 3
   },
   "file_extension": ".py",
   "mimetype": "text/x-python",
   "name": "python",
   "nbconvert_exporter": "python",
   "pygments_lexer": "ipython3",
   "version": "3.6.4"
  }
 },
 "nbformat": 4,
 "nbformat_minor": 2
}
