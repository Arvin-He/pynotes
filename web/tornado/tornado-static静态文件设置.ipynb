{
 "cells": [
  {
   "cell_type": "markdown",
   "metadata": {},
   "source": [
    "# tornado-static静态文件设置"
   ]
  },
  {
   "cell_type": "markdown",
   "metadata": {},
   "source": [
    "### 静态文件夹使用自定义文件夹名称"
   ]
  },
  {
   "cell_type": "markdown",
   "metadata": {},
   "source": [
    "在tornado中配置静态文件，命名一个目录为`statics`，尽管配置了 `'static_path' : os.path.join(os.path.dirname(__file__), 'statics')`，但是依旧找不到statics下的静态文件。 这是因为默认去找static下的静态文件。\n",
    "此时各个设置为：\n",
    "```\n",
    "settings = {\n",
    "    'static_path' : os.path.join(os.path.dirname(__file__), 'statics'),\n",
    "}\n",
    "\n",
    "<link rel=\"stylesheet\" href=\"/statics/css/index.css\">\n",
    "```\n",
    "如何正确找到静态资源文件?\n",
    "1. 若将statics目录改为static，就能找到下面的css文件。 \n",
    "2. 修改`<link rel=\"stylesheet\" href=\"{{static_url('css/index.css')}}\">`\n",
    "\n",
    "若要使用statics作为静态文件的目录，需要设置`static_url_prefix=/statics/`，这样，\n",
    "当直接`<link rel=\"stylesheet\" href=\"/statics/css/index.css\">`这样访问的时候，就可以找到静态文件。\n",
    "\n",
    "注意: static_url是tornado中模板扩充的方法,在jinja2模板是没有的."
   ]
  }
 ],
 "metadata": {
  "kernelspec": {
   "display_name": "Python 3",
   "language": "python",
   "name": "python3"
  },
  "language_info": {
   "codemirror_mode": {
    "name": "ipython",
    "version": 3
   },
   "file_extension": ".py",
   "mimetype": "text/x-python",
   "name": "python",
   "nbconvert_exporter": "python",
   "pygments_lexer": "ipython3",
   "version": "3.6.4"
  }
 },
 "nbformat": 4,
 "nbformat_minor": 2
}
