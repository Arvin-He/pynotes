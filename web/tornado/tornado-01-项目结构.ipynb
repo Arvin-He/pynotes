{
 "cells": [
  {
   "cell_type": "markdown",
   "metadata": {},
   "source": [
    "# Tornado 项目结构"
   ]
  },
  {
   "cell_type": "markdown",
   "metadata": {},
   "source": [
    "## 主流结构"
   ]
  },
  {
   "cell_type": "markdown",
   "metadata": {},
   "source": [
    "--app/\n",
    "\n",
    "--static/\n",
    "\n",
    "--upload/\n",
    "\n",
    "--main.py\n",
    "\n",
    "--urlmap.py\n",
    "\n",
    "--config.py\n",
    "  \n",
    "--config-dev.py\n",
    "  \n",
    "--config-qa.py\n",
    "  \n",
    "--config-prod.py"
   ]
  },
  {
   "cell_type": "markdown",
   "metadata": {},
   "source": [
    "## app结构组成"
   ]
  },
  {
   "cell_type": "markdown",
   "metadata": {},
   "source": [
    "--app/ \n",
    "\n",
    "  --utils/\n",
    "  \n",
    "    --\\_\\_init\\_\\_.py\n",
    "    \n",
    "    --utils.py\n",
    "    \n",
    "  --ctrls/\n",
    "  \n",
    "    --\\_\\_init\\_\\_.py\n",
    "    \n",
    "    --basehandler.py\n",
    "    \n",
    "    --indexhandler.py\n",
    "    \n",
    "    --...\n",
    "    \n",
    "  --models/\n",
    "  \n",
    "    --\\_\\_init\\_\\_.py\n",
    "    \n",
    "    --database.py\n",
    "    \n",
    "    --mongodb.py\n",
    "    \n",
    "    --mysql.py\n",
    "    \n",
    "    --indexmodle.py\n",
    "    \n",
    "    --...\n",
    "    \n",
    "  --views/\n",
    "  \n",
    "    --base.html\n",
    "    \n",
    "    --index.html\n",
    "    \n",
    "    --about.html\n",
    "    \n",
    "    --error.html\n",
    "    \n",
    "    --...\n",
    "    \n",
    "  --\\_\\_init\\_\\_.py\n",
    "  \n",
    "  --constants.py\n",
    "\n",
    "app文件夹存放程序逻辑代码\n",
    "\n",
    "utils里存放工具函数或者公共通用的函数\n",
    "\n",
    "ctrls里存放各种与路由参数打交道的handler\n",
    "\n",
    "models里存放与数据库打交道的model,通常与handler相对应,但不是必须的\n",
    "\n",
    "views里存放模板,通常是一些html模板文件,用于后端渲染html,该文件夹不是必须的,\n",
    "当采用前后端分离的架构,通常前端用现成的web框架(如vue,react),views就不再需要了\n",
    "\n",
    "constants.py存放常量   "
   ]
  },
  {
   "cell_type": "markdown",
   "metadata": {},
   "source": [
    "## static结构组成"
   ]
  },
  {
   "cell_type": "markdown",
   "metadata": {},
   "source": [
    "--static/    \n",
    "\n",
    "  --admin/\n",
    "  \n",
    "    --js/\n",
    "    \n",
    "    --css/\n",
    "    \n",
    "    --images/\n",
    "    \n",
    "    --template/\n",
    "    \n",
    "  --js/\n",
    "  \n",
    "  --css/\n",
    "  \n",
    "  --images/\n",
    "  \n",
    "  --template/\n",
    "  \n",
    " static文件夹通常存放一些静态资源文件,如图片,css,js等,\n",
    " 当采用前后端分离的技术时,前端代码通常就放到static文件夹下,\n",
    " 注意:static文件夹名字是固定的,tornado框架中设定好的."
   ]
  },
  {
   "cell_type": "markdown",
   "metadata": {},
   "source": [
    "## upload结构组成"
   ]
  },
  {
   "cell_type": "markdown",
   "metadata": {},
   "source": [
    "--upload/\n",
    "\n",
    "  ...\n",
    "  \n",
    "注意: tornado除了static目录是默认可以在外面(浏览器)直接访问到以外，其余文件夹下面的文件都没办法直接通过http访问的，\n",
    "假如要添加这种http直接访问，需要进行设置。upload是小型网站上传图片或文件时存放。"
   ]
  },
  {
   "cell_type": "markdown",
   "metadata": {},
   "source": [
    "## 根目录下的py文件"
   ]
  },
  {
   "cell_type": "markdown",
   "metadata": {},
   "source": [
    "--main.py\n",
    "\n",
    "main.py 程序入口启动文件\n",
    "\n",
    "--urlmap.py\n",
    "\n",
    "urlmap.py路由映射文件\n",
    "  \n",
    "--config.py \n",
    "\n",
    "项目配置文件信息\n",
    "  \n",
    "--config-dev.py\n",
    "\n",
    "开发环境配置信息\n",
    "  \n",
    "--config-qa.py\n",
    "  \n",
    "测试环境配置信息  \n",
    "\n",
    "--config-prod.py\n",
    "    \n",
    "生产环境配置信息 "
   ]
  },
  {
   "cell_type": "markdown",
   "metadata": {},
   "source": [
    "## 总结"
   ]
  },
  {
   "cell_type": "markdown",
   "metadata": {},
   "source": [
    "以上只是一个项目的组织方式,不同的项目根据需求会有不同的结构,以上结构仅供参考."
   ]
  }
 ],
 "metadata": {
  "kernelspec": {
   "display_name": "Python 3",
   "language": "python",
   "name": "python3"
  },
  "language_info": {
   "codemirror_mode": {
    "name": "ipython",
    "version": 3
   },
   "file_extension": ".py",
   "mimetype": "text/x-python",
   "name": "python",
   "nbconvert_exporter": "python",
   "pygments_lexer": "ipython3",
   "version": "3.6.4"
  }
 },
 "nbformat": 4,
 "nbformat_minor": 2
}
