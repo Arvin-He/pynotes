{
 "cells": [
  {
   "cell_type": "markdown",
   "metadata": {},
   "source": [
    "# tornado模板和jinja2模板区别"
   ]
  },
  {
   "cell_type": "markdown",
   "metadata": {},
   "source": [
    "### tornado/flask/django中静态文件和网页模板的处理"
   ]
  },
  {
   "cell_type": "markdown",
   "metadata": {},
   "source": [
    "* Django中：\n",
    "\n",
    "    * `templates/`: 默认保存网页模板；不需要配置\n",
    "    * `static/`: 默认保存静态资源；不需要配置\n",
    "    * settings.py中通过TEMPLATES>DIRS配置网页模板文件夹，通过STATICFILES_DIRS配置静态资源文件夹\n",
    "\n",
    "* Tornado中：\n",
    "\n",
    "    * 通过tornado.web.Application中的配置选项\n",
    "    * `template_path`: 配置模板文件夹位置\n",
    "    * `static_path`: 配置静态资源文件夹位置\n",
    "\n",
    "* Flask中：\n",
    "\n",
    "    * `templates/`: 默认保存网页模板；不需要配置\n",
    "    * `static/`: 默认保存静态资源，不需要配置"
   ]
  },
  {
   "cell_type": "markdown",
   "metadata": {},
   "source": [
    "### tornado/flask/django中模板语法操作"
   ]
  },
  {
   "cell_type": "markdown",
   "metadata": {},
   "source": [
    "* Django： 默认使用jinja模板语法, 以前使用自己的模板语法：Django Template Language:DTL语法\n",
    "\n",
    "* Tornado： 默认使用jinja模板语法,但有经过一定改造的模板语法. 比如static_url函数\n",
    "\n",
    "* Flask：默认使用第三方的jinja2模板语法，是在DTL语法的基础上完善的一种专门给python使用的模板语法"
   ]
  },
  {
   "cell_type": "markdown",
   "metadata": {},
   "source": [
    "### tornado自带模板和jinja模板区别"
   ]
  },
  {
   "cell_type": "markdown",
   "metadata": {},
   "source": [
    "* 相同点: 两者语法差不多\n",
    "    \n",
    "* 区别:\n",
    "    1. Tornado自带的模板大概1000+代码,比较轻量,是webserver的一部分.\n",
    "    2. jinja2模板大概10000+代码,但是可以被WSGI的web框架使用,而且还有很多特性.\n",
    "    \n",
    "用法区别:\n",
    "tornado中模板渲染只能在handler中渲染然后直接返回response给客户端浏览器从而结束请求了.如果你想返回更多的数据,或自定义的数据,如json数据,就不方便了.\n",
    "\n",
    "jinja2模板可以在别的模块渲染,使用比较灵活."
   ]
  },
  {
   "cell_type": "markdown",
   "metadata": {},
   "source": [
    "### 关于选择模板建议"
   ]
  },
  {
   "cell_type": "markdown",
   "metadata": {},
   "source": [
    "使用tornado框架默认使用自带的模板\n",
    "\n",
    "除非tornado自带模板不支持一些特性,可以考虑jianja2模板."
   ]
  }
 ],
 "metadata": {
  "kernelspec": {
   "display_name": "Python 3",
   "language": "python",
   "name": "python3"
  },
  "language_info": {
   "codemirror_mode": {
    "name": "ipython",
    "version": 3
   },
   "file_extension": ".py",
   "mimetype": "text/x-python",
   "name": "python",
   "nbconvert_exporter": "python",
   "pygments_lexer": "ipython3",
   "version": "3.6.4"
  }
 },
 "nbformat": 4,
 "nbformat_minor": 2
}
