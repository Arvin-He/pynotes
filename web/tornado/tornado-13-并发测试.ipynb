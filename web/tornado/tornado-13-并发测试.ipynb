{
 "cells": [
  {
   "cell_type": "markdown",
   "metadata": {},
   "source": [
    "# tornado-并发测试"
   ]
  },
  {
   "cell_type": "code",
   "execution_count": null,
   "metadata": {},
   "outputs": [],
   "source": [
    "import multiprocessing\n",
    "from requests.exceptions import RequestException\n",
    "from requests.adapters import HTTPAdapter\n",
    "import re, os, json, requests, time\n",
    "import traceback\n",
    "\n",
    "def main():\n",
    "    url = 'http://127.0.0.1:8770/api/process?p=linux&t=2a7d0b8de7536e107bab892c19886693'\n",
    "    k = requests.post(url)\n",
    "    print(k.text)\n",
    "\n",
    "if __name__ == '__main__':\n",
    "    results = []\n",
    "    pool = multiprocessing.Pool(processes=20)\n",
    "    for i in range(0xff):\n",
    "        results.append(pool.apply_async(main,))\n",
    "    pool.close()\n",
    "    pool.join()"
   ]
  },
  {
   "cell_type": "code",
   "execution_count": null,
   "metadata": {},
   "outputs": [],
   "source": []
  }
 ],
 "metadata": {
  "kernelspec": {
   "display_name": "Python 3",
   "language": "python",
   "name": "python3"
  },
  "language_info": {
   "codemirror_mode": {
    "name": "ipython",
    "version": 3
   },
   "file_extension": ".py",
   "mimetype": "text/x-python",
   "name": "python",
   "nbconvert_exporter": "python",
   "pygments_lexer": "ipython3",
   "version": "3.6.4"
  }
 },
 "nbformat": 4,
 "nbformat_minor": 2
}
