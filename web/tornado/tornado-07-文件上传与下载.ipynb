{
 "cells": [
  {
   "cell_type": "markdown",
   "metadata": {},
   "source": [
    "# tornado-文件上传与下载"
   ]
  },
  {
   "cell_type": "code",
   "execution_count": null,
   "metadata": {},
   "outputs": [],
   "source": [
    "import os\n",
    "import json\n",
    "import logging\n",
    "from tornado import web\n",
    "\n",
    "class ReportFormHandler(BaseHandler):\n",
    "\n",
    "    @web.authenticated\n",
    "    def get(self):\n",
    "        try:\n",
    "            filename = os.path.normpath(os.path.join(os.path.abspath(os.path.curdir), 'app/templates/report.pdf'))\n",
    "            self.set_header('Content-Type', 'application/octet-stream')\n",
    "            self.set_header('Content-Disposition', 'attachment; filename=' + filename)\n",
    "            with open(filename, 'rb') as f:\n",
    "                while True:\n",
    "                    data = f.read(64)\n",
    "                    if not data:\n",
    "                        break\n",
    "                    self.write(data)\n",
    "            self.write({'status': '200', 'msg': 'success'})\n",
    "        except:\n",
    "            self.write({'status': '406', 'msg': 'wrong argument'})\n",
    "        self.finish()"
   ]
  }
 ],
 "metadata": {
  "kernelspec": {
   "display_name": "Python 3",
   "language": "python",
   "name": "python3"
  },
  "language_info": {
   "codemirror_mode": {
    "name": "ipython",
    "version": 3
   },
   "file_extension": ".py",
   "mimetype": "text/x-python",
   "name": "python",
   "nbconvert_exporter": "python",
   "pygments_lexer": "ipython3",
   "version": "3.6.4"
  }
 },
 "nbformat": 4,
 "nbformat_minor": 2
}
