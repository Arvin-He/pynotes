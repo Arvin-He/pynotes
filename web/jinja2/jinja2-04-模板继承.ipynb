{
 "cells": [
  {
   "cell_type": "markdown",
   "metadata": {},
   "source": [
    "# 模板继承"
   ]
  },
  {
   "cell_type": "markdown",
   "metadata": {},
   "source": [
    "Jinja 中最强大的部分就是模板继承。\n",
    "\n",
    "模板继承允许你构建一个包含你站点共同元素的基本模板“骨架”，并定义子模板可以覆盖的**块** 。"
   ]
  },
  {
   "cell_type": "markdown",
   "metadata": {},
   "source": [
    "### 基本模板"
   ]
  },
  {
   "cell_type": "markdown",
   "metadata": {},
   "source": [
    "通常定义一个`base.html`的骨架文档,然后用内容填充空的块是子模板的工作."
   ]
  },
  {
   "cell_type": "markdown",
   "metadata": {},
   "source": [
    "### 子模板"
   ]
  },
  {
   "cell_type": "markdown",
   "metadata": {},
   "source": [
    "{% extend %} 标签是这里的关键。它告诉模板引擎这个模板“继承”另一个模板。\n",
    "模板的文件名依赖于模板加载器。例如 FileSystemLoader 允许你用文件名访 问其它模板。你可以使用斜线访问子目录中的模板:\n",
    "{% extends \"layout/default.html\" %}"
   ]
  },
  {
   "cell_type": "markdown",
   "metadata": {},
   "source": [
    "### super块"
   ]
  },
  {
   "cell_type": "markdown",
   "metadata": {},
   "source": [
    "调用 super 来渲染父级块的内容。这会返回父级块的结果\n",
    "{% block sidebar %}\n",
    "    <h3>Table Of Contents</h3>\n",
    "\n",
    "    {{ super() }}\n",
    "{% endblock %}"
   ]
  },
  {
   "cell_type": "markdown",
   "metadata": {},
   "source": [
    "### 命名块结束标签"
   ]
  },
  {
   "cell_type": "markdown",
   "metadata": {},
   "source": [
    "块的结束标签中加入的名称来改善可读性, 无论如何， endblock 后面的名称一定与块名匹配。"
   ]
  },
  {
   "cell_type": "markdown",
   "metadata": {},
   "source": [
    "### 嵌套块和作用域"
   ]
  },
  {
   "cell_type": "markdown",
   "metadata": {},
   "source": [
    "嵌套块可以胜任更复杂的布局。而默认的块不允许访问块外作用域中的变量:\n",
    "{% for item in seq %}\n",
    "    <li>{% block loop_item %}{{ item }}{% endblock %}</li>\n",
    "{% endfor %}\n",
    "\n",
    "这个例子会输出空的 <li> 项，因为 item 在块中是不可用的。其原因是，如果 块被子模板替换，变量在其块中可能是未定义的或未被传递到上下文。\n",
    "\n",
    "从 Jinja 2.2 开始，你可以显式地指定在块中可用的变量，只需在块声明中添加 scoped 修饰，就把块设定到作用域中:\n",
    "\n",
    "{% for item in seq %}\n",
    "    <li>{% block loop_item scoped %}{{ item }}{% endblock %}</li>\n",
    "{% endfor %}\n",
    "\n",
    "当覆盖一个块时，不需要提供 scoped 修饰。"
   ]
  },
  {
   "cell_type": "markdown",
   "metadata": {},
   "source": [
    "### HTML 转义"
   ]
  },
  {
   "cell_type": "markdown",
   "metadata": {},
   "source": [
    "对于转义有2中方式:\n",
    "1. 手动转义每个字符\n",
    "2. 默认自动转义所有的东西\n",
    "\n",
    "Jinja 两者都支持，使用哪个取决于应用的配置。默认的配置未开启自动转义.\n",
    "\n",
    "#### 手动转义\n",
    "启用了手动转义，按需转义变量\n",
    "\n",
    "转义通过用管道传递到过滤器 |e 来实现: {{ user.username|e }} \n",
    "\n",
    "可能转义的字符变量: > 、 < 、 & 或 \" \n",
    "\n",
    "#### 自动转义\n",
    "启用了自动转义，默认会转义一切，除非值被显式地标记为安全的, 使用 |safe 过滤器标记"
   ]
  }
 ],
 "metadata": {
  "kernelspec": {
   "display_name": "Python 3",
   "language": "python",
   "name": "python3"
  },
  "language_info": {
   "codemirror_mode": {
    "name": "ipython",
    "version": 3
   },
   "file_extension": ".py",
   "mimetype": "text/x-python",
   "name": "python",
   "nbconvert_exporter": "python",
   "pygments_lexer": "ipython3",
   "version": "3.6.4"
  }
 },
 "nbformat": 4,
 "nbformat_minor": 2
}
