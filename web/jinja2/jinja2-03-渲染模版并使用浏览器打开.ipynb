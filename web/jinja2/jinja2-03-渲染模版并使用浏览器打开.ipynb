{
 "cells": [
  {
   "cell_type": "markdown",
   "metadata": {},
   "source": [
    "# jinja2-渲染模版并使用浏览器打开"
   ]
  },
  {
   "cell_type": "code",
   "execution_count": 6,
   "metadata": {},
   "outputs": [],
   "source": [
    "import os\n",
    "import logging\n",
    "import webbrowser\n",
    "from jinja2 import Environment\n",
    "from jinja2 import FileSystemLoader\n",
    "from jinja2 import select_autoescape\n",
    "from traceback import format_exc\n",
    "\n",
    "\n",
    "from app.logger import create_logger\n",
    "\n",
    "templates_path = 'app/templates'\n",
    "env = Environment(loader=FileSystemLoader(templates_path),\n",
    "                  autoescape=select_autoescape(['html', 'xml']))\n",
    "\n",
    "print(env.list_templates())\n",
    "\n",
    "\n",
    "def get_report_html(template_name):\n",
    "    try:\n",
    "        if template_name in env.list_templates():\n",
    "            template = env.get_template(template_name)\n",
    "            css_path = os.path.abspath('app/static/css/style.css')\n",
    "            html = template.render({'css_path': css_path})\n",
    "            return html\n",
    "        else:\n",
    "            logging.error('there is no {} template existed'.format(template_name))\n",
    "    except Exception as e:\n",
    "        logging.error(format_exc())\n",
    "\n",
    "\n",
    "def open_webbrowser(html):\n",
    "    try:\n",
    "        with open('dst.html', 'w', encoding='utf-8') as f:\n",
    "            f.write(html)\n",
    "\n",
    "        html_url = 'file:///{}'.format(os.path.abspath('dst.html'))\n",
    "        webbrowser.open(html_url)\n",
    "    except Exception as e:\n",
    "        logging.error(e)\n",
    "\n",
    "\n",
    "if __name__ == '__main__':\n",
    "    create_logger(log_name='rendtemplate.log')\n",
    "    template_name = 'reportmain.html'\n",
    "    html = get_report_html(template_name)\n",
    "    open_webbrowser(html)"
   ]
  },
  {
   "cell_type": "code",
   "execution_count": null,
   "metadata": {},
   "outputs": [],
   "source": []
  }
 ],
 "metadata": {
  "kernelspec": {
   "display_name": "Python 3",
   "language": "python",
   "name": "python3"
  },
  "language_info": {
   "codemirror_mode": {
    "name": "ipython",
    "version": 3
   },
   "file_extension": ".py",
   "mimetype": "text/x-python",
   "name": "python",
   "nbconvert_exporter": "python",
   "pygments_lexer": "ipython3",
   "version": "3.6.4"
  }
 },
 "nbformat": 4,
 "nbformat_minor": 2
}
