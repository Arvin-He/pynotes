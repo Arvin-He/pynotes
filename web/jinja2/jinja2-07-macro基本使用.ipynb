{
 "cells": [
  {
   "cell_type": "markdown",
   "metadata": {},
   "source": [
    "# macro基本使用"
   ]
  },
  {
   "cell_type": "markdown",
   "metadata": {},
   "source": [
    "宏类似常规编程语言中的函数。它们用于把常用行为作为可重用的函数，取代 手动重复的工作。\n",
    "\n",
    "```\n",
    "{% macro input(name, value='', type='text', size=20) -%}\n",
    "    <input type=\"{{ type }}\" name=\"{{ name }}\" value=\"{{\n",
    "        value|e }}\" size=\"{{ size }}\">\n",
    "{%- endmacro %}\n",
    "```\n",
    "\n",
    "在命名空间中，宏之后可以像函数一样调用:\n",
    "```\n",
    "<p>{{ input('username') }}</p>\n",
    "<p>{{ input('password', type='password') }}</p>\n",
    "```\n",
    "如果宏在不同的模板中定义，你需要首先使用 import:\n",
    "`{% from 'base/macro/submit.macro' import test %}`"
   ]
  },
  {
   "cell_type": "markdown",
   "metadata": {},
   "source": [
    "## 注意事项"
   ]
  },
  {
   "cell_type": "markdown",
   "metadata": {},
   "source": [
    "### macro的变量只能为如下三种:"
   ]
  },
  {
   "cell_type": "markdown",
   "metadata": {},
   "source": [
    "1. 参数变量\n",
    "2. module变量\n",
    "3. call 的变量\n",
    "\n",
    "这个和其他的语言比如c语言的macro是很大的不同. 你在模块中想让macro引用自身的变量是不能实现的."
   ]
  },
  {
   "cell_type": "markdown",
   "metadata": {},
   "source": [
    "### 和block的关系"
   ]
  },
  {
   "cell_type": "markdown",
   "metadata": {},
   "source": [
    "macro的出现,本质是想解决重复代码的问题. 和block相比,因为不能使用module中的参数,\n",
    "\n",
    "也就是说和block是相辅相成的关系. 不存在互相覆盖的问题.\n",
    "\n",
    "macro 的重心在于替换简单的重复性质的代码.\n",
    "\n",
    "block 的重心在于重复框架代码的替换."
   ]
  }
 ],
 "metadata": {
  "kernelspec": {
   "display_name": "Python 3",
   "language": "python",
   "name": "python3"
  },
  "language_info": {
   "codemirror_mode": {
    "name": "ipython",
    "version": 3
   },
   "file_extension": ".py",
   "mimetype": "text/x-python",
   "name": "python",
   "nbconvert_exporter": "python",
   "pygments_lexer": "ipython3",
   "version": "3.6.4"
  }
 },
 "nbformat": 4,
 "nbformat_minor": 2
}
