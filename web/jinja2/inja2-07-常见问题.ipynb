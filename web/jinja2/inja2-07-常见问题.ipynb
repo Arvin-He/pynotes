{
 "cells": [
  {
   "cell_type": "markdown",
   "metadata": {},
   "source": [
    "# jinja2-常见问题"
   ]
  },
  {
   "cell_type": "markdown",
   "metadata": {},
   "source": [
    "### 如何获取列表的长度？"
   ]
  },
  {
   "cell_type": "markdown",
   "metadata": {},
   "source": [
    "jinja2支持很多Python的语法，但是获取列表元素个数不支持len(lst)函数，会报错。\n",
    "\n",
    "要获取列表的长度，应该写成`lst|length`或是它的别称`lst|count`"
   ]
  }
 ],
 "metadata": {
  "kernelspec": {
   "display_name": "Python 3",
   "language": "python",
   "name": "python3"
  },
  "language_info": {
   "codemirror_mode": {
    "name": "ipython",
    "version": 3
   },
   "file_extension": ".py",
   "mimetype": "text/x-python",
   "name": "python",
   "nbconvert_exporter": "python",
   "pygments_lexer": "ipython3",
   "version": "3.6.4"
  }
 },
 "nbformat": 4,
 "nbformat_minor": 2
}
