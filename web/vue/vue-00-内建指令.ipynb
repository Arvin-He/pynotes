{
 "cells": [
  {
   "cell_type": "markdown",
   "metadata": {},
   "source": [
    "# vue-内建指令"
   ]
  },
  {
   "cell_type": "markdown",
   "metadata": {},
   "source": [
    "* v-if : 根据表达式的值的真假来移除/插入元素\n",
    "* v-else\n",
    "* v-else-if\n",
    "* v-for\n",
    "\n",
    "* v-html\n",
    "* v-model\n",
    "* v-show\n",
    "\n",
    "* v-on : 用于监听 DOM 事件\n",
    "* v-bind : v-bind 指令可以用于响应式地更新 HTML 属性"
   ]
  },
  {
   "cell_type": "markdown",
   "metadata": {},
   "source": [
    "### 特殊变量"
   ]
  },
  {
   "cell_type": "markdown",
   "metadata": {},
   "source": [
    "* `$event`\n",
    "\n",
    "    在行内语句的事件处理器中，有时我们也需要访问原始 DOM 事件对象。可以使用特殊的 $event 变量将它传递给一个方法"
   ]
  }
 ],
 "metadata": {
  "kernelspec": {
   "display_name": "Python 3",
   "language": "python",
   "name": "python3"
  },
  "language_info": {
   "codemirror_mode": {
    "name": "ipython",
    "version": 3
   },
   "file_extension": ".py",
   "mimetype": "text/x-python",
   "name": "python",
   "nbconvert_exporter": "python",
   "pygments_lexer": "ipython3",
   "version": "3.6.1"
  }
 },
 "nbformat": 4,
 "nbformat_minor": 2
}
