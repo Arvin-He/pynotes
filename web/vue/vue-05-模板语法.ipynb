{
 "cells": [
  {
   "cell_type": "markdown",
   "metadata": {},
   "source": [
    "# vue-模板语法"
   ]
  },
  {
   "cell_type": "markdown",
   "metadata": {},
   "source": [
    "Vue.js 使用基于 HTML 的模板语法，允许声明式地将要渲染的 DOM 和 Vue 实例中的 data 数据绑定。所有 Vue.js 的模板都是有效的 HTML，能够被遵循规范的浏览器和 HTML 解析器解析。\n",
    "\n",
    "在底层的实现上，Vue 将模板编译为可以生成 Virtual DOM 的 render 函数。结合响应式系统，在应用程序状态改变时，Vue 能够智能地找出重新渲染的最小数量的组件，并应用最少量的 DOM 操作。\n",
    "\n",
    "如果你熟悉虚拟 DOM 的概念，并且倾向于使用原生 JavaScript，还可以不使用模板，而是直接编写 render 函数，具备可选的 JSX 语法支持。"
   ]
  },
  {
   "cell_type": "markdown",
   "metadata": {},
   "source": [
    "### 插值(Interpolations)-变量替换"
   ]
  },
  {
   "cell_type": "markdown",
   "metadata": {},
   "source": [
    "数据绑定最基本的形式，就是使用 “mustache” 语法（双花括号）的文本插值(text interpolation)：`<span>Message: {{ msg }}</span>`\n",
    "\n",
    "mustache 标签将会被替换为 data 对象上对应的 msg 属性的值。只要绑定的数据对象上的 msg 属性发生改变，插值内容也会随之更新。\n",
    "\n",
    "也可以通过使用 `v-once` 指令，执行一次性插值，在数据改变时，插值内容不会随之更新。\n",
    "\n",
    "**注意:** 这也将影响到**同一节点**上的**其他所有绑定**：`<span v-once>这里的值永远不会改变：{{ msg }}</span>`"
   ]
  },
  {
   "cell_type": "markdown",
   "metadata": {},
   "source": [
    "### 原始 HTML(Raw HTML)"
   ]
  },
  {
   "cell_type": "markdown",
   "metadata": {},
   "source": [
    "花括号语法，会将数据中的 HTML 转为纯文本后再进行插值。为了输出真正的 HTML，你需要使用 `v-html` 指令：\n",
    "```\n",
    "<p>使用双花括号语法：{{ rawHtml }}</p>\n",
    "<p>使用 v-html 指令：<span v-html=\"rawHtml\"></span></p>\n",
    "```\n",
    "\n",
    "span 中的内容，将会被替换为 rawHtml 属性的值，并且作为原始 HTML 插入 - 会忽略解析属性值中的数据绑定。\n",
    "\n",
    "**请注意:**\n",
    "1. 无法使用 `v-html` 来组合局部模板，因为 Vue 不是基于字符串(string-based)的模板引擎。反之，对于用户界面(UI)，组件更适合作为可重用和可组合的基本单位。\n",
    "2. 在网站中动态渲染任意的 HTML 是**非常危险**的，很容易导致网站受到 XSS 攻击。只对可信内容使用 HTML 插值，绝对不要对用户提供的内容使用 HTML 插值。"
   ]
  },
  {
   "cell_type": "markdown",
   "metadata": {},
   "source": [
    "### 属性(Attributes)"
   ]
  },
  {
   "cell_type": "markdown",
   "metadata": {},
   "source": [
    "不能在 Vue 模板中的 HTML 属性上使用双花括号语法(mustache)。而是应该使用 `v-bind` 指令\n",
    "\n",
    "在属性是布尔类型的一些情况中，`v-bind` 的作用有点不同，只要值存在就会隐含为 `true`。在这个例子中：\n",
    "`<button v-bind:disabled=\"isButtonDisabled\">Button</button>`\n",
    "如果 `isButtonDisabled` 的值为 `null`, `undefined` 或 `false`，`disabled` 属性甚至不会被包含在渲染后的 `<button>` 元素中。"
   ]
  },
  {
   "cell_type": "markdown",
   "metadata": {},
   "source": [
    "### 在模板中使用 JavaScript 表达式"
   ]
  },
  {
   "cell_type": "markdown",
   "metadata": {},
   "source": [
    "Vue.js 能够支持通过完整的JavaScript表达式，将模板与任意的数据绑定在一起:\n",
    "```html\n",
    "{{ number + 1 }}\n",
    "\n",
    "{{ ok ? 'YES' : 'NO' }}\n",
    "\n",
    "{{ message.split('').reverse().join('') }}\n",
    "\n",
    "<div v-bind:id=\"'list-' + id\"></div>\n",
    "```\n",
    "\n",
    "这些表达式，将在所属的 Vue 实例的数据作用域下，作为 JavaScript 取值。\n",
    "\n",
    "有个**限制**是，每个绑定都**只能包含单个表达式**，所以以下示例都无法运行：\n",
    "```html\n",
    "<!-- 这是语句，不是表达式 -->\n",
    "{{ var a = 1 }}\n",
    "\n",
    "<!-- 流控制也无法运行，请使用三元表达式 -->\n",
    "{{ if (ok) { return message } }}\n",
    "```\n",
    "\n",
    "模板表达式放置在沙盒中，只能访问全局变量的一个白名单列表，如 Math 和 Date。在模板表达式中，你不应该试图访问用户定义的全局变量。"
   ]
  },
  {
   "cell_type": "markdown",
   "metadata": {},
   "source": [
    "### 指令(Directives)"
   ]
  },
  {
   "cell_type": "markdown",
   "metadata": {},
   "source": [
    "指令(directive)是带有 `v-` 前缀的特殊属性。指令属性的值期望接收的是单个 JavaScript 表达式（v-for 是例外情况）。\n",
    "\n",
    "指令的职责是，当表达式的值改变时，将其产生的影响效果，响应式地作用于 DOM。"
   ]
  },
  {
   "cell_type": "markdown",
   "metadata": {},
   "source": [
    "### 参数(Arguments)"
   ]
  },
  {
   "cell_type": "markdown",
   "metadata": {},
   "source": [
    "一些指令能够接收一个“参数”，在指令名称之后以` : `表示。例如，`v-bind` 指令可以用于响应式地更新 HTML 属性"
   ]
  },
  {
   "cell_type": "markdown",
   "metadata": {},
   "source": [
    "### 修饰符(Modifiers)"
   ]
  },
  {
   "cell_type": "markdown",
   "metadata": {},
   "source": [
    "修饰符(modifier)是以` . `表示的特殊后缀，表明应当以某种特殊方式绑定指令。"
   ]
  },
  {
   "cell_type": "markdown",
   "metadata": {},
   "source": [
    "### 简写(Shorthands)"
   ]
  },
  {
   "cell_type": "markdown",
   "metadata": {},
   "source": [
    "简写主要针对最常用的一些指令进行简写\n",
    "\n",
    "在模板中，`v-` 前缀作为非常符合直觉的提示，能够十分有效地标识出 Vue 特定(Vue-specific)属性。\n",
    "\n",
    "当你在使用 Vue.js 为现有标签添加动态行为(dynamic behavior)时，`v-` 前缀很有帮助，\n",
    "\n",
    "然而，对于一些频繁用到的指令来说，就会感到使用繁琐。\n",
    "\n",
    "同时，在构建由 Vue.js 管理所有模板的单页面应用程序(SPA - single page application)时，`v-` 前缀也变得没那么重要了。\n",
    "\n",
    "因此，Vue.js 为 `v-bind` 和 `v-on` 这两个最常用的指令，提供了特定简写：\n",
    "\n",
    "1. `v-bind` 简写\n",
    "\n",
    "```html\n",
    "<!-- 完整语法 -->\n",
    "<a v-bind:href=\"url\"> ... </a>\n",
    "\n",
    "<!-- 简写 -->\n",
    "<a :href=\"url\"> ... </a>\n",
    "```\n",
    "\n",
    "2. v-on 简写\n",
    "```html\n",
    "<!-- 完整语法 -->\n",
    "<a v-on:click=\"doSomething\"> ... </a>\n",
    "\n",
    "<!-- 简写 -->\n",
    "<a @click=\"doSomething\"> ... </a>\n",
    "```\n",
    "\n",
    "其实 `:` 和` @` 都是符合属性名称(attribute name)相关标准的有效字符，并且所有支持 Vue.js 的浏览器都能够正确解析它们。\n",
    "\n",
    "此外，它们并不会出现在最终渲染的 HTML 标记中。简写语法是完全可选的书写方式，\n",
    "\n",
    "然而，随着你深入地了解它们的用法之后，你会领会到这种简单直接的简写方式，是非常赏心悦目的用法。"
   ]
  }
 ],
 "metadata": {
  "kernelspec": {
   "display_name": "Python 3",
   "language": "python",
   "name": "python3"
  },
  "language_info": {
   "codemirror_mode": {
    "name": "ipython",
    "version": 3
   },
   "file_extension": ".py",
   "mimetype": "text/x-python",
   "name": "python",
   "nbconvert_exporter": "python",
   "pygments_lexer": "ipython3",
   "version": "3.6.4"
  }
 },
 "nbformat": 4,
 "nbformat_minor": 2
}
