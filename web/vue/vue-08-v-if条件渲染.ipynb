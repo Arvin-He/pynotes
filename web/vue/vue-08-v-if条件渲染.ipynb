{
 "cells": [
  {
   "cell_type": "markdown",
   "metadata": {},
   "source": [
    "# vue-根据条件进行渲染"
   ]
  },
  {
   "cell_type": "markdown",
   "metadata": {},
   "source": [
    "###  v-if, v-else-if, v-else 条件指令"
   ]
  },
  {
   "cell_type": "markdown",
   "metadata": {},
   "source": [
    "`v-if` 是一个指令，必须将其附加到一个单独的元素上。\n",
    "\n",
    "如果想要切换多个元素, 可以使用` <template> `元素，作为多个元素的无形容器(invisible wrapper)，然后在这个容器上使用 `v-if`。最终渲染结果将不会包含` <template>` 元素。\n",
    "\n",
    "`v-else` 指令表示和 v-if 对应的“else 块”\n",
    "\n",
    "`v-else` 元素必须紧跟在 `v-if` 或 `v-else-if` 元素之后, 否则无法识别它。\n",
    "\n",
    "`v-else-if` 是 `v-if` 之后的“else-if 块”, 可以多次链式地调用\n",
    "\n",
    "和 `v-else` 类似，`v-else-if` 元素必须紧跟在 `v-if` 或 `v-else-if` 元素之后。"
   ]
  },
  {
   "cell_type": "markdown",
   "metadata": {},
   "source": [
    "### 使用 key 控制元素是否可复用"
   ]
  },
  {
   "cell_type": "markdown",
   "metadata": {},
   "source": [
    "Vue 会尽可能高效地渲染元素，通常会**复用已渲染元素**，而不是从头重新渲染。\n",
    "\n",
    "这有助于使 Vue 变得非常快，还具有一些额外的优势。举例说明，如果你想要根据多种登录类型，来切换用户界面：\n",
    "\n",
    "```html\n",
    "<template v-if=\"loginType === 'username'\">\n",
    "  <label>用户名</label>\n",
    "  <input placeholder=\"请输入用户名\">\n",
    "</template>\n",
    "<template v-else>\n",
    "  <label>邮箱</label>\n",
    "  <input placeholder=\"请输入邮箱\">\n",
    "</template>\n",
    "```\n",
    "在上面的代码中，切换 loginType 不会清除用户已经输入的内容。这是由于两个模板使用的是相同的元素，所以 `<input>` 并不会被替换, 替换的只是元素的 `placeholder`。\n",
    "\n",
    "但是这样有时并不符合实际需求，所以 Vue 为如下所述的情况提供了一种方式：“这两个元素是完全独立的, 请不要复用它们”。那就是为它们添加一个具有不同值的 key 属性：\n",
    "\n",
    "```html\n",
    "<template v-if=\"loginType === 'username'\">\n",
    "  <label>用户名</label>\n",
    "  <input placeholder=\"请输入用户名\" key=\"username-input\">\n",
    "</template>\n",
    "<template v-else>\n",
    "  <label>邮箱</label>\n",
    "  <input placeholder=\"请输入邮箱\" key=\"email-input\">\n",
    "</template>\n",
    "```\n",
    "\n",
    "**注意，** `<label>` 元素仍然被有效地复用，因为它们没有 key 属性。"
   ]
  }
 ],
 "metadata": {
  "kernelspec": {
   "display_name": "Python 3",
   "language": "python",
   "name": "python3"
  },
  "language_info": {
   "codemirror_mode": {
    "name": "ipython",
    "version": 3
   },
   "file_extension": ".py",
   "mimetype": "text/x-python",
   "name": "python",
   "nbconvert_exporter": "python",
   "pygments_lexer": "ipython3",
   "version": "3.6.4"
  }
 },
 "nbformat": 4,
 "nbformat_minor": 2
}
