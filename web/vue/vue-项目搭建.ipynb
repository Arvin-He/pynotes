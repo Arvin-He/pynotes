{
 "cells": [
  {
   "cell_type": "markdown",
   "metadata": {},
   "source": [
    "# vue项目搭建"
   ]
  },
  {
   "cell_type": "markdown",
   "metadata": {},
   "source": [
    "### webpack"
   ]
  },
  {
   "cell_type": "markdown",
   "metadata": {},
   "source": [
    "WebPack可以看做是模块打包机：它做的事情是，分析你的项目结构，找到JavaScript模块以及其它的一些浏览器不能直接运行的拓展语言（Scss，TypeScript等），并将其转换和打包为合适的格式供浏览器使用。\n",
    "\n",
    "全局安装webpack 命令: `npm install webpack -g`\n",
    "\n",
    "查看webpack版本: `webpack -v`\n",
    "\n",
    "全局安装vue-cli: `npm install --global vue-cli`\n",
    "\n",
    "查看vue版本: `vue -v`\n",
    "\n",
    "webstorm运行vue项目: 右键package.json->`show npm scripts`->`dev`\n"
   ]
  },
  {
   "cell_type": "markdown",
   "metadata": {},
   "source": [
    "### vue"
   ]
  },
  {
   "cell_type": "markdown",
   "metadata": {},
   "source": [
    "Vue有兼容性，它不支持IE8及以下版本，因为Vue使用了IE8无法模拟的ECMAScript5特性。但Vue支持所有兼容ECMAScript5特性的浏览器。\n",
    "\n",
    "1. Vue是一套用于构建用户界面的渐进式框架，属于自底向上的逐层应用，它的核心库只关注视图层，不仅易于上手，还便于与第三方库或既有项目整合。\n",
    "2. Vue的核心是一个允许采用简洁的模板语法来声明式地将数据渲染进DOM的系统。\n",
    "3. 指令：Vue的指令带有前缀v-，以表示它们是Vue提供的特殊特性，比如：v-bind(响应式行为绑定)、v-if(判断)、v-for(绑定数组来渲染数据)、v-on(事件监听器)、v-model(表单输入和应用状态之间双向绑定)。\n",
    "4. 组件化应用构建：Vue中一个组件的本质上是一个拥有预定义选项的一个Vue实例。\n",
    "\n"
   ]
  },
  {
   "cell_type": "markdown",
   "metadata": {},
   "source": [
    "### vue模板语法"
   ]
  },
  {
   "cell_type": "markdown",
   "metadata": {},
   "source": [
    "* 文本：数据绑定文本插值使用的是“Mustache”语法(双大括号)，即{{}}。\n",
    "* 原始HTML：在标签内使用v-html指令。注意，站点上动态渲染的HTML可能会非常危险，因为它很容易导致XSS攻击，所以只可以对可信内容使用HTML插值，绝不要对用户提供的内容使用插值。\n",
    "* 特性：定义HTML特性需使用v-bind指令。\n",
    "* 使用JavaScript表达式：每个绑定都只能包含单个表达式，不是语句也不是方法。\n",
    "* 指令：带有v-前缀的特殊属性。指令属性的值预期是单个JavaScript表达式，其职责是，当表达式的值改变时，将其产生的连带影响，响应式地作用于 DOM。一些指令能够接收一个“参数”，在指令名称之后以冒号表示，比如：<a v-bind:href=\"地址链接\"></a>、<a v-on:click=\"事件名\"></a>。\n",
    "* 缩写：v-bind缩写为:，如：<a v-bind:href=\"地址链接\"></a>可以写为<a :href=\"地址链接\"></a>。v-on缩写为@，如：<a v-on:click=\"事件名\"></a>可以写为<a @click=\"事件名\"></a>。"
   ]
  },
  {
   "cell_type": "markdown",
   "metadata": {},
   "source": [
    "### 创建vue项目"
   ]
  },
  {
   "cell_type": "markdown",
   "metadata": {},
   "source": [
    "使用官方提供命令行工具CLI(脚手架)，它可用于快速搭建大型单页应用，指令为：`npm install --global vue-cli`。\n",
    "\n",
    "使用脚手架创建项目：`vue init webpack vue-demo`,  vue-demo为项目名称\n",
    "\n"
   ]
  },
  {
   "cell_type": "markdown",
   "metadata": {},
   "source": [
    "### vue项目结构"
   ]
  },
  {
   "cell_type": "markdown",
   "metadata": {},
   "source": [
    "```\n",
    ".\n",
    "├── build/                      # webpack配置文件(都已配置好,一般不需要再配置)\n",
    "│   └── ...\n",
    "├── config/\n",
    "│   ├── index.js                # 主要项目配置(可配置监听端口,代理,打包输出等)\n",
    "│   └── ...\n",
    "├── src/                      # 项目核心文件(我们所写的代码都在这里)  \n",
    "│   ├── main.js                 # 应用入口js文件\n",
    "│   ├── App.vue                 # 主应用程序组件,根组件\n",
    "│   ├── components/              # 公共组件\n",
    "│   │   └── ...\n",
    "│   └── router/                 # 前端路由(配置项目路由)\n",
    "│   │   └── ...\n",
    "│   └── assets/                 # 模块资源（由webpack处理, 样式类文件,如css,less, sass,以及一些外部js文件）\n",
    "│       └── ...\n",
    "├── static/                     # 纯静态资源（直接复制,一般放图片类资源）\n",
    "├── .babelrc                    # babel 配置，es6需要babel编译\n",
    "├── .postcssrc.js               # postcss 配置,转换css的工具\n",
    "├── .eslintrc.js                # eslint 配置\n",
    "├── .editorconfig               # 编辑器 配置\n",
    "├── .gitignore                  # 过滤无需上传的文件\n",
    "├── index.html                  # index.html模板,主页\n",
    "└── package.json                # 构建脚本和依赖关系\n",
    "```"
   ]
  },
  {
   "cell_type": "markdown",
   "metadata": {},
   "source": [
    "### vue项目结构细说"
   ]
  },
  {
   "cell_type": "markdown",
   "metadata": {},
   "source": [
    "1. build (webpack配置)\n",
    "    * build.js  //生产环境构造\n",
    "    * check-versions.js //版本检查(node, npm)\n",
    "    * logo.png\n",
    "    * utils.js  //构建相关工具\n",
    "    * vue-loader.conf.js\n",
    "    * webpack.base.conf.js  //webpack基础配置\n",
    "    * webpack.dev.conf.js   //webpack开发环境配置 \n",
    "    * webpack.prod.conf.js  // webpack生产环境配置\n",
    "    \n",
    "2. config(vue项目配置): config文件主要是项目相关配置，我们常用的就是当端口冲突时配置监听端口，打包输出路径及命名等\n",
    "    * dev.env.js   //项目开发环境配置\n",
    "    * index.js    //项目主要配置(监听端口,打包路径等) \n",
    "    * prod.env.js\n",
    "    * test.env.js\n",
    "\n",
    "3. node_modules(依赖包)\n",
    "进入项目目录，输入`npm install [依赖包名称]`,回车。\n",
    "\n",
    "注意：有时会安装指定依赖版本，需在依赖包名称后加上版本号信息，如安装11.1.4版本的vue-loader，输入`npm install vue-loader@11.1.4`\n",
    "\n",
    "4. src(项目核心文件)\n",
    "\n",
    "    ```\n",
    "    ├─App.vue  // 根组件\n",
    "    │  main.js\n",
    "    │\n",
    "    ├─assets\n",
    "    │      logo.png\n",
    "    │\n",
    "    ├─components\n",
    "    │      HelloWorld.vue\n",
    "    │\n",
    "    └─router\n",
    "            index.js\n",
    "    ```  \n",
    "    * App.vue  :根组件,一个vue页面通常由三部分组成:模板(template)、js(script)、样式(style)\n",
    "\n",
    "    * main.js : 入口文件,main.js主要是引入vue框架，根组件及路由设置，并且定义vue实例, 后期还可以引入插件，当然首先得安装插件。\n",
    "    ```js\n",
    "    /*引入vue框架*/\n",
    "    import Vue from 'vue'\n",
    "    /*引入根组件*/\n",
    "    import App from './App'\n",
    "    /*引入路由设置*/\n",
    "    import router from './router'\n",
    "\n",
    "    /*关闭生产模式下给出的提示*/ \n",
    "    Vue.config.productionTip = false\n",
    "\n",
    "    /*定义实例*/ \n",
    "    new Vue({\n",
    "      el: '#app',\n",
    "      router,\n",
    "      template: '<App/>',\n",
    "      components: { App }\n",
    "    })\n",
    "    ```\n",
    "    * router :路由配置, router文件夹下，有一个index.js，即为路由配置文件\n",
    "    ```js\n",
    "    /*引入vue框架*/\n",
    "    import Vue from 'vue'\n",
    "    /*引入路由依赖*/\n",
    "    import Router from 'vue-router'\n",
    "    /*引入页面组件，命名为Hello*/ \n",
    "    import Hello from '@/components/Hello'\n",
    "\n",
    "    /*使用路由依赖*/ \n",
    "    Vue.use(Router)\n",
    "\n",
    "    /*定义路由*/ \n",
    "    export default new Router({\n",
    "      routes: [\n",
    "        {\n",
    "          path: '/',\n",
    "          name: 'Hello',\n",
    "          component: Hello\n",
    "        }\n",
    "      ]\n",
    "    })\n",
    "    ```"
   ]
  }
 ],
 "metadata": {
  "kernelspec": {
   "display_name": "Python 3",
   "language": "python",
   "name": "python3"
  },
  "language_info": {
   "codemirror_mode": {
    "name": "ipython",
    "version": 3
   },
   "file_extension": ".py",
   "mimetype": "text/x-python",
   "name": "python",
   "nbconvert_exporter": "python",
   "pygments_lexer": "ipython3",
   "version": "3.6.4"
  }
 },
 "nbformat": 4,
 "nbformat_minor": 2
}
