{
 "cells": [
  {
   "cell_type": "markdown",
   "metadata": {},
   "source": [
    "# vue-一些小例子"
   ]
  },
  {
   "cell_type": "markdown",
   "metadata": {},
   "source": [
    "创建一个 .html 文件，然后通过如下方式引入 Vue："
   ]
  },
  {
   "cell_type": "markdown",
   "metadata": {},
   "source": [
    "```html\n",
    "<!DOCTYPE html>\n",
    "<html>\n",
    "    <head>\n",
    "        <title>My first Vue APP</title>\n",
    "        <script src=\"https://unpkg.com/vue\"></script>\n",
    "    </head>\n",
    "    <body>\n",
    "        <div id=\"app\">\n",
    "            {{ message }}\n",
    "        </div>\n",
    "        <script>\n",
    "            var app = new Vue({\n",
    "                el: '#app',\n",
    "                data: {\n",
    "                    message: 'Hello Vue!'\n",
    "                }\n",
    "            })\n",
    "        </script>\n",
    "    </body>\n",
    "</html>\n",
    "```"
   ]
  },
  {
   "cell_type": "markdown",
   "metadata": {},
   "source": [
    "### 另一个小例子"
   ]
  },
  {
   "cell_type": "markdown",
   "metadata": {},
   "source": [
    "```html\n",
    "<!DOCTYPE html>\n",
    "<html>\n",
    "    <head>\n",
    "        <title>My first Vue APP</title>\n",
    "        <script src=\"https://unpkg.com/vue\"></script>\n",
    "    </head>\n",
    "    <body>\n",
    "        <div id=\"app-2\">\n",
    "            <span v-bind:title=\"message\">\n",
    "                鼠标悬停几秒查看此处动态绑定的提示信息!\n",
    "            </span>\n",
    "        </div>\n",
    "        <script>\n",
    "            var app2 = new Vue({\n",
    "                el: '#app-2',\n",
    "                data: {\n",
    "                    message: '页面加载于' + new Date()\n",
    "                }\n",
    "            })\n",
    "        </script>\n",
    "    </body>\n",
    "</html>\n",
    "```"
   ]
  },
  {
   "cell_type": "markdown",
   "metadata": {},
   "source": [
    "`v-bind` 属性被称为指令。指令带有前缀 `v-`，以表示它们是 Vue 提供的特殊属性。\n",
    "\n",
    "它们会在渲染的 DOM 上应用特殊的响应式行为。\n",
    "\n",
    "简言之，该指令的作用是：“将这个元素节点的 title 属性和 Vue 实例的 message 属性保持一致”。"
   ]
  },
  {
   "cell_type": "markdown",
   "metadata": {},
   "source": [
    "### 条件与循环"
   ]
  },
  {
   "cell_type": "markdown",
   "metadata": {},
   "source": [
    "```html\n",
    "<!DOCTYPE html>\n",
    "<html>\n",
    "    <head>\n",
    "        <title>My first Vue APP</title>\n",
    "        <script src=\"https://unpkg.com/vue\"></script>\n",
    "    </head>\n",
    "    <body>\n",
    "        <div id=\"app-3\">\n",
    "            <p v-if=\"seen\">现在你看到我了</p>\n",
    "        </div>\n",
    "        <script>\n",
    "            var app3 = new Vue({\n",
    "                el: '#app-3',\n",
    "                data: {\n",
    "                    seen: true\n",
    "                }\n",
    "            })\n",
    "        </script>\n",
    "    </body>\n",
    "</html>\n",
    "\n",
    "```"
   ]
  },
  {
   "cell_type": "markdown",
   "metadata": {},
   "source": [
    "在谷歌浏览器打开该html,按下F12,在控制台设置 app3.seen = false，你会发现 “现在你看到我了” 消失了。\n",
    "\n",
    "这个例子演示了我们不仅可以绑定 DOM 文本到数据，也可以绑定 DOM 结构到数据。而且，Vue 也提供一个强大的过渡效果系统，可以在 Vue 插入/更新/删除元素时自动应用过渡效果。\n",
    "\n",
    "还有其它很多指令，每个都有特殊的功能。例如，v-for 指令可以绑定数组的数据来渲染一个项目列表："
   ]
  },
  {
   "cell_type": "markdown",
   "metadata": {},
   "source": [
    "```html\n",
    "<!DOCTYPE html>\n",
    "<html>\n",
    "    <head>\n",
    "        <title>My first Vue APP</title>\n",
    "        <script src=\"https://unpkg.com/vue\"></script>\n",
    "    </head>\n",
    "    <body>\n",
    "        <div id=\"app-4\">\n",
    "            <ol>\n",
    "                <li v-for=\"todo in todos\">\n",
    "                    {{ todo.text }}\n",
    "                </li>\n",
    "            </ol>\n",
    "        </div>\n",
    "        <script>\n",
    "            var app4 = new Vue({\n",
    "                el: '#app-4',\n",
    "                data: {\n",
    "                    todos: [\n",
    "                        {text: '学习 JavaScript'},\n",
    "                        {text: '学习Vue'},\n",
    "                        {text: '整个牛顿项目'}\n",
    "                    ]\n",
    "                }\n",
    "            })\n",
    "        </script>\n",
    "    </body>\n",
    "</html>\n",
    "```"
   ]
  },
  {
   "cell_type": "markdown",
   "metadata": {},
   "source": [
    "在浏览器的控制台里，输入: `app4.todos.push({ text: '新项目' })`，你会发现列表中添加了一个新项。"
   ]
  },
  {
   "cell_type": "markdown",
   "metadata": {},
   "source": [
    "### 处理用户输入"
   ]
  },
  {
   "cell_type": "markdown",
   "metadata": {},
   "source": [
    "```html\n",
    "<!DOCTYPE html>\n",
    "<html>\n",
    "    <head>\n",
    "        <title>My first Vue APP</title>\n",
    "        <script src=\"https://unpkg.com/vue\"></script>\n",
    "    </head>\n",
    "    <body>\n",
    "        <div id=\"app-5\">\n",
    "            <p>{{ message }}</p>\n",
    "            <button v-on:click=\"reverseMessage\">逆转消息</button>\n",
    "        </div>\n",
    "        <script>\n",
    "            var app5 = new Vue({\n",
    "                el: '#app-5',\n",
    "                data: {\n",
    "                    message: 'Hello Vue.js'\n",
    "                },\n",
    "                methods: {\n",
    "                    reverseMessage: function() {\n",
    "                        this.message = this.message.split('').reverse().join('')\n",
    "                    }\n",
    "                }\n",
    "            })\n",
    "        </script>\n",
    "    </body>\n",
    "</html>\n",
    "```"
   ]
  },
  {
   "cell_type": "markdown",
   "metadata": {},
   "source": [
    "注意在 `reverseMessage` 方法中，我们更新了应用的状态，但没有触碰 DOM——所有的 DOM 操作都由 Vue 来处理，你编写的代码不需要关注底层逻辑。\n",
    "\n",
    "Vue 还提供了 `v-model` 指令，它能轻松实现表单输入和应用状态之间的双向绑定。"
   ]
  },
  {
   "cell_type": "markdown",
   "metadata": {},
   "source": [
    "```html\n",
    "<!DOCTYPE html>\n",
    "<html>\n",
    "    <head>\n",
    "        <title>My first Vue APP</title>\n",
    "        <script src=\"https://unpkg.com/vue\"></script>\n",
    "    </head>\n",
    "    <body>\n",
    "        <div id=\"app-6\">\n",
    "            <p>{{ message }}</p>\n",
    "            <input v-model=\"message\">\n",
    "        </div>\n",
    "        <script>\n",
    "            var app6 = new Vue({\n",
    "                el: '#app-6',\n",
    "                data: {\n",
    "                    message: 'Hello Vue'\n",
    "                },\n",
    "            })\n",
    "        </script>\n",
    "    </body>\n",
    "</html>\n",
    "```"
   ]
  }
 ],
 "metadata": {
  "kernelspec": {
   "display_name": "Python 3",
   "language": "python",
   "name": "python3"
  },
  "language_info": {
   "codemirror_mode": {
    "name": "ipython",
    "version": 3
   },
   "file_extension": ".py",
   "mimetype": "text/x-python",
   "name": "python",
   "nbconvert_exporter": "python",
   "pygments_lexer": "ipython3",
   "version": "3.6.4"
  }
 },
 "nbformat": 4,
 "nbformat_minor": 2
}
