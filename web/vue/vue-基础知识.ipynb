{
 "cells": [
  {
   "cell_type": "markdown",
   "metadata": {},
   "source": [
    "# vue基础知识"
   ]
  },
  {
   "cell_type": "markdown",
   "metadata": {},
   "source": [
    "### 数据与方法"
   ]
  },
  {
   "cell_type": "markdown",
   "metadata": {},
   "source": [
    "vue实例中有一个data对象, 当data对象中的属性对应的属性值发生变化时,视图将会产生“响应”，即匹配更新为新的值。\n",
    "\n",
    "当这些数据改变时，视图会进行重渲染。值得注意的是只有当实例被创建时 data 中存在的属性才是响应式的。\n",
    "\n",
    "唯一的例外是使用 Object.freeze()，这会阻止修改现有的属性，也意味着响应系统无法再追踪变化。\n",
    "\n",
    "除了数据属性，Vue 实例还暴露了一些有用的**实例属性**与**方法**。它们都有前缀 `$`，以便与用户定义的属性区分开来。"
   ]
  },
  {
   "cell_type": "markdown",
   "metadata": {},
   "source": [
    "### vue实例生命周期钩子"
   ]
  },
  {
   "cell_type": "markdown",
   "metadata": {},
   "source": [
    "每个 Vue 实例在被创建时都要经过一系列的初始化过程,例如:\n",
    "* 需要设置数据监听\n",
    "* 编译模板\n",
    "* 将实例挂载到 DOM 并在数据变化时更新 DOM 等\n",
    "* ...\n",
    "同时在这个过程中也会运行一些叫做生命周期钩子的函数，给用户在不同阶段添加自己的代码, 常见的钩子函数:\n",
    "* beforeCreate\n",
    "* created\n",
    "* beforeMount\n",
    "* mounted\n",
    "* beforeUpdate\n",
    "* updated\n",
    "* beforeDestroy\n",
    "* destroyed\n",
    "\n",
    "生命周期钩子的 this 上下文指向调用它的 Vue 实例。\n",
    "\n",
    "不要在选项属性或回调上使用箭头函数，因为箭头函数是和父级上下文绑定在一起的，this 不会是如你所预期的 Vue 实例，经常导致 `Uncaught TypeError: Cannot read property of undefined` 或 `Uncaught TypeError: this.myMethod is not a function` 之类的错误。"
   ]
  },
  {
   "cell_type": "markdown",
   "metadata": {},
   "source": [
    "### vue常用指令"
   ]
  },
  {
   "cell_type": "markdown",
   "metadata": {},
   "source": [
    "* v-once : 执行一次性地插值，当数据改变时，插值处的内容不会更新。\n",
    "* v-html : 输出真正的 HTML, 双大括号会将数据解释为普通文本，而非 HTML 代码。\n",
    "* v-on : 用于监听 DOM 事件\n",
    "* v-bind :用于响应式地更新 HTML 特性"
   ]
  },
  {
   "cell_type": "markdown",
   "metadata": {},
   "source": [
    "### 模板"
   ]
  },
  {
   "cell_type": "markdown",
   "metadata": {},
   "source": [
    "模板表达式都被放在沙盒中，只能访问全局变量的一个白名单，如 Math 和 Date 。你不应该在模板表达式中试图访问用户定义的全局变量。"
   ]
  }
 ],
 "metadata": {
  "kernelspec": {
   "display_name": "Python 3",
   "language": "python",
   "name": "python3"
  },
  "language_info": {
   "codemirror_mode": {
    "name": "ipython",
    "version": 3
   },
   "file_extension": ".py",
   "mimetype": "text/x-python",
   "name": "python",
   "nbconvert_exporter": "python",
   "pygments_lexer": "ipython3",
   "version": "3.6.4"
  }
 },
 "nbformat": 4,
 "nbformat_minor": 2
}
