{
 "cells": [
  {
   "cell_type": "markdown",
   "metadata": {},
   "source": [
    "# web相关知识点"
   ]
  },
  {
   "cell_type": "markdown",
   "metadata": {},
   "source": [
    "### http全过程"
   ]
  },
  {
   "cell_type": "markdown",
   "metadata": {},
   "source": [
    "输入域名(url)-->DNS映射为IP-->TCP三次握手-->HTTP请求-->HTTP响应-->(浏览器跟踪重定向地址)-->服务器处理请求-->服务器返回一个html响应-->(视情况决定释放TCP连接)-->客户端解析HTML-->获取嵌入在HTML中的对象重新发起http请求"
   ]
  },
  {
   "cell_type": "markdown",
   "metadata": {},
   "source": [
    "### 域名"
   ]
  },
  {
   "cell_type": "markdown",
   "metadata": {},
   "source": [
    "域名级数判别\n",
    "域名服务器及域名这里有详细解释，即“计算机网络技术”的第九章Domain Name System\n",
    "一个点分隔一级（域名由分量组成，一级为一个分量），通俗易懂如下：\n",
    "\n",
    "...三级域名.二级域名.顶级域名\n",
    "`WWW.baidu.com`  com为顶级域名(通常依据组织和地理分为两类)，baidu为二级域名，WWW网站\n",
    "`www.pic.baidu.com pic`为三级域名\n",
    "所谓降域，如`pic.baidu.com/a.txt`  `baidu.com/b.txt`中a和b在不同的域下面，都降域为baidu.com..如下详细解释"
   ]
  },
  {
   "cell_type": "markdown",
   "metadata": {},
   "source": [
    "### DNS解析域名为IP"
   ]
  },
  {
   "cell_type": "markdown",
   "metadata": {},
   "source": [
    "浏览器缓存中找\n",
    "\n",
    "系统缓存中找\n",
    "\n",
    "路由器缓存中找\n",
    "\n",
    "ISP DNS缓存中找"
   ]
  },
  {
   "cell_type": "markdown",
   "metadata": {},
   "source": [
    "### TCP三次握手"
   ]
  },
  {
   "cell_type": "markdown",
   "metadata": {},
   "source": [
    "client----->server:SYN(发起一个TCP连接，同步报文)\n",
    "\n",
    "server----->client:SYN+ACK(应答报文，表示已创建连接)\n",
    "\n",
    "client----->server:ACK(应答报文，表示收到已连接)"
   ]
  },
  {
   "cell_type": "markdown",
   "metadata": {},
   "source": [
    "### 四次挥手："
   ]
  },
  {
   "cell_type": "markdown",
   "metadata": {},
   "source": [
    "由客户端发起的关闭连接\n",
    "* client----->server:FIN(请求关闭连接)\n",
    "* server----->client:ACK(收到了连接，但不会立即关闭，等到报文都发送完再回复一个FIN)\n",
    "* server----->client:FIN\n",
    "* client----->server:ACK(收到关闭)\n",
    "\n",
    "由服务端发起的关闭连接\n",
    "* 当http设置了keepalive定时关闭，服务端会在结束数据传送后关闭TCP连接"
   ]
  },
  {
   "cell_type": "markdown",
   "metadata": {},
   "source": [
    "### HTTP请求"
   ]
  },
  {
   "cell_type": "markdown",
   "metadata": {},
   "source": [
    "请求行\n",
    "\n",
    "请求头\n",
    "\n",
    "空行\n",
    "\n",
    "请求包体(只有POST请求有包体)"
   ]
  },
  {
   "cell_type": "markdown",
   "metadata": {},
   "source": [
    "### get/post区别"
   ]
  },
  {
   "cell_type": "markdown",
   "metadata": {},
   "source": [
    "请求参数：get参数附在URL后面?隔开，POST参数放在包体中\n",
    "\n",
    "大小限制：GET限制为2048字符，post无限制\n",
    "\n",
    "安全问题：GET参数暴露在URL中，不如POST安全\n",
    "\n",
    "浏览器历史记录：GET可以记录，POST无记录\n",
    "\n",
    "缓存：GET可被缓存，post无\n",
    "\n",
    "书签：GET可被收藏为书签，post不可\n",
    "\n",
    "数据类型：GET只能ASCII码，post无限制"
   ]
  },
  {
   "cell_type": "markdown",
   "metadata": {},
   "source": [
    "### http响应"
   ]
  },
  {
   "cell_type": "markdown",
   "metadata": {},
   "source": [
    "状态行\n",
    "\n",
    "响应头\n",
    "\n",
    "响应包体"
   ]
  }
 ],
 "metadata": {
  "kernelspec": {
   "display_name": "Python 3",
   "language": "python",
   "name": "python3"
  },
  "language_info": {
   "codemirror_mode": {
    "name": "ipython",
    "version": 3
   },
   "file_extension": ".py",
   "mimetype": "text/x-python",
   "name": "python",
   "nbconvert_exporter": "python",
   "pygments_lexer": "ipython3",
   "version": "3.6.4"
  }
 },
 "nbformat": 4,
 "nbformat_minor": 2
}
