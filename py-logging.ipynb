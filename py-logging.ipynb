{
 "cells": [
  {
   "cell_type": "markdown",
   "metadata": {},
   "source": [
    "# 日志输出"
   ]
  },
  {
   "cell_type": "markdown",
   "metadata": {},
   "source": [
    "### 关于logger对象"
   ]
  },
  {
   "cell_type": "markdown",
   "metadata": {},
   "source": [
    "日志对象初始化一般在程序启动入口进行初始化"
   ]
  },
  {
   "cell_type": "markdown",
   "metadata": {},
   "source": [
    "### 单个logger实例对象"
   ]
  },
  {
   "cell_type": "markdown",
   "metadata": {},
   "source": [
    "单个logger实例就使用logging模块的root_logger对象"
   ]
  },
  {
   "cell_type": "code",
   "execution_count": null,
   "metadata": {},
   "outputs": [],
   "source": [
    "import os\n",
    "import logging\n",
    "from logging import handlers\n",
    "\n",
    "\n",
    "def create_logger(log_name='goshawk.log', logConsole=True):\n",
    "    LOG_FORMAT = \"%(asctime)s [%(levelname)s] [%(filename)s] [%(lineno)d]: %(message)s\"\n",
    "    log_dir = os.path.join(os.path.dirname(os.path.dirname(os.path.abspath(__file__))), \"logs\")\n",
    "    if not os.path.exists(log_dir):\n",
    "        os.mkdir(log_dir)\n",
    "\n",
    "    root_logger = logging.getLogger()\n",
    "    root_logger.setLevel(logging.INFO)\n",
    "    formatter = logging.Formatter(fmt=LOG_FORMAT, datefmt=\"%m/%d/%Y %H:%M:%S\")\n",
    "\n",
    "    fh = handlers.TimedRotatingFileHandler(filename=os.path.join(log_dir, log_name),\n",
    "        when='midnight', interval=1, encoding='utf-8')\n",
    "    fh.setLevel(logging.INFO)\n",
    "    fh.suffix = \"%Y-%m-%d.log\"\n",
    "    fh.setFormatter(formatter)\n",
    "    root_logger.addHandler(fh)\n",
    "\n",
    "    if logConsole:\n",
    "        ch = logging.StreamHandler()\n",
    "        ch.setLevel(logging.DEBUG)\n",
    "        ch.setFormatter(formatter)\n",
    "        root_logger.addHandler(ch)"
   ]
  },
  {
   "cell_type": "markdown",
   "metadata": {},
   "source": [
    "### 多个logger实例"
   ]
  },
  {
   "cell_type": "markdown",
   "metadata": {},
   "source": [
    "多个logger实例,其实都是从root_logger继承下来的,因此为区分多个不同的logger实例,就需要分别指定多个logger实例的名字."
   ]
  },
  {
   "cell_type": "markdown",
   "metadata": {},
   "source": [
    "### 通过logging.basicConfig函数对日志的输出格式及方式做相关配置"
   ]
  },
  {
   "cell_type": "code",
   "execution_count": 5,
   "metadata": {},
   "outputs": [],
   "source": [
    "import logging\n",
    "\n",
    "_formatter = '%(asctime)s [%(filename)s] [%(lineno)d] [%(levelname)s]: %(message)s'\n",
    "_date_formatter = '%m/%d/%Y %H:%M:%S'\n",
    "\n",
    "ch = logging.StreamHandler()\n",
    "ch.setLevel(logging.DEBUG)\n",
    "ch.setFormatter(_formatter)\n",
    "\n",
    "logging.basicConfig(level=logging.INFO,\n",
    "                format=_formatter,\n",
    "                datefmt=_date_formatter,\n",
    "                filename='app.log',\n",
    "                handlers=[ch])\n",
    "    \n",
    "logging.debug('This is debug message')\n",
    "logging.info('This is info message')\n",
    "logging.warning('This is warning message')"
   ]
  }
 ],
 "metadata": {
  "kernelspec": {
   "display_name": "Python 3",
   "language": "python",
   "name": "python3"
  },
  "language_info": {
   "codemirror_mode": {
    "name": "ipython",
    "version": 3
   },
   "file_extension": ".py",
   "mimetype": "text/x-python",
   "name": "python",
   "nbconvert_exporter": "python",
   "pygments_lexer": "ipython3",
   "version": "3.6.4"
  }
 },
 "nbformat": 4,
 "nbformat_minor": 2
}
