{
 "cells": [
  {
   "cell_type": "markdown",
   "metadata": {},
   "source": [
    "# 上下文管理"
   ]
  },
  {
   "cell_type": "code",
   "execution_count": null,
   "metadata": {},
   "outputs": [],
   "source": [
    "from pymongo import MongoClient\n",
    "\n",
    "class MongoDB(object):\n",
    "\n",
    "    def __init__(self):\n",
    "        self.MONGODB = config.MONGODB\n",
    "\n",
    "    def __enter__(self):\n",
    "        self.client = MongoClient(\n",
    "            'mongodb://{}:{}@{}/{}'.format(self.MONGODB['user'], self.MONGODB['passwd'],\n",
    "                                           self.MONGODB['host'], self.MONGODB['dbname']), connect=False)\n",
    "        return self.client[self.MONGODB['dbname']]\n",
    "\n",
    "    def __exit__(self, exc_type, exc_val, exc_tb):\n",
    "        self.client.close()"
   ]
  },
  {
   "cell_type": "markdown",
   "metadata": {},
   "source": [
    "### 使用contextmanager"
   ]
  },
  {
   "cell_type": "code",
   "execution_count": null,
   "metadata": {},
   "outputs": [],
   "source": [
    "from contextlib import contextmanager\n",
    "\n",
    "@contextmanager\n",
    "def file_open(path):\n",
    "    try:\n",
    "        f_obj = open(path,\"w\")\n",
    "        yield f_obj\n",
    "    except OSError:\n",
    "        print(\"We had an error!\")\n",
    "    finally:\n",
    "        print(\"Closing file\")\n",
    "        f_obj.close()"
   ]
  }
 ],
 "metadata": {
  "kernelspec": {
   "display_name": "Python 3",
   "language": "python",
   "name": "python3"
  },
  "language_info": {
   "codemirror_mode": {
    "name": "ipython",
    "version": 3
   },
   "file_extension": ".py",
   "mimetype": "text/x-python",
   "name": "python",
   "nbconvert_exporter": "python",
   "pygments_lexer": "ipython3",
   "version": "3.6.4"
  }
 },
 "nbformat": 4,
 "nbformat_minor": 2
}
