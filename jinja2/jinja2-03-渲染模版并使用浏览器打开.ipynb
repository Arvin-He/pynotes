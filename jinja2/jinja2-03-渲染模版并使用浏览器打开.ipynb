{
 "cells": [
  {
   "cell_type": "markdown",
   "metadata": {},
   "source": [
    "# jinja2-渲染模版并使用浏览器打开"
   ]
  },
  {
   "cell_type": "code",
   "execution_count": 6,
   "metadata": {},
   "outputs": [],
   "source": [
    "from jinja2 import Environment\n",
    "from jinja2 import FileSystemLoader\n",
    "from jinja2 import select_autoescape\n",
    "import webbrowser\n",
    "\n",
    "templates_path = ''\n",
    "env = Environment(loader=FileSystemLoader(templates_path), autoescape=select_autoescape(['html', 'xml']))\n",
    "\n",
    "\n",
    "def get_report_html(self, site=None, moniter_type=None, timespan=None, engine=None):\n",
    "        report = self.env.get_template('report.html')\n",
    "        css_path = os.path.join('file:///'+os.path.dirname(\n",
    "            os.path.dirname(__file__)), 'static', 'css', 'mystyle.css')\n",
    "        print(css_path)\n",
    "        html = report.render({'css_path': css_path, 'date_time': date_time})\n",
    "        return html\n",
    "\n",
    "\n",
    "def open_webbrowser(html):\n",
    "    with open('dst.html', 'w', encoding='utf-8') as f:\n",
    "        f.write(html)\n",
    "    html_url = 'file:///dst.html'\n",
    "    webbrowser.open(html_url)\n",
    "\n",
    "\n",
    "open_webbrowser()"
   ]
  },
  {
   "cell_type": "code",
   "execution_count": null,
   "metadata": {},
   "outputs": [],
   "source": []
  }
 ],
 "metadata": {
  "kernelspec": {
   "display_name": "Python 3",
   "language": "python",
   "name": "python3"
  },
  "language_info": {
   "codemirror_mode": {
    "name": "ipython",
    "version": 3
   },
   "file_extension": ".py",
   "mimetype": "text/x-python",
   "name": "python",
   "nbconvert_exporter": "python",
   "pygments_lexer": "ipython3",
   "version": "3.6.4"
  }
 },
 "nbformat": 4,
 "nbformat_minor": 2
}
