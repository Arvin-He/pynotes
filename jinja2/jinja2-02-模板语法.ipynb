{
 "cells": [
  {
   "cell_type": "markdown",
   "metadata": {},
   "source": [
    "# Jinja2模板语法"
   ]
  },
  {
   "cell_type": "markdown",
   "metadata": {},
   "source": [
    "### 表达式"
   ]
  },
  {
   "cell_type": "markdown",
   "metadata": {},
   "source": [
    "Jinja 中到处都允许使用基本表达式。这像常规的 Python 一样工作，即使你不用 Python 工作，你也会感受到其带来的便利。"
   ]
  },
  {
   "cell_type": "markdown",
   "metadata": {},
   "source": [
    "### 字面量"
   ]
  },
  {
   "cell_type": "markdown",
   "metadata": {},
   "source": [
    "表达式最简单的形式就是字面量。字面量表示诸如字符串和数值的 Python 对象。下面 的字面量是可用的:\n",
    "\n",
    "“Hello World”:\n",
    "双引号或单引号中间的一切都是字符串。无论何时你需要在模板中使用一个字 符串（比如函数调用、过滤器或只是包含或继承一个模板的参数），它们都是 有用的。\n",
    "\n",
    "42 / 42.23:\n",
    "直接写下数值就可以创建整数和浮点数。如果有小数点，则为浮点数，否则为 整数。记住在 Python 里， 42 和 42.0 是不一样的。\n",
    "\n",
    "`[‘list’, ‘of’, ‘objects’]`一对中括号括起来的东西是一个列表。列表用于存储和迭代序列化的数据。例如 你可以容易地在 for 循环中用列表和元组创建一个链接的列表:\n",
    "\n",
    "<ul>\n",
    "{% for href, caption in [('index.html', 'Index'), ('about.html', 'About'),\n",
    "                         ('downloads.html', 'Downloads')] %}\n",
    "    <li><a href=\"{{ href }}\">{{ caption }}</a></li>\n",
    "{% endfor %}\n",
    "</ul>\n",
    "\n",
    "`(‘tuple’, ‘of’, ‘values’)`:\n",
    "元组与列表类似，只是你不能修改元组。如果元组中只有一个项，你需要以逗号 结尾它。元组通常用于表示两个或更多元素的项。更多细节见上面的例子。\n",
    "\n",
    "`{‘dict’: ‘of’, ‘key’: ‘and’, ‘value’: ‘pairs’}`:\n",
    "Python 中的字典是一种关联键和值的结构。键必须是唯一的，并且键必须只有一个 值。字典在模板中很少使用，罕用于诸如 xmlattr() 过滤器之类。\n",
    "\n",
    "`true / false`: true 永远是 true ，而 false 始终是 false 。\n",
    "\n",
    "**提示**: 特殊常量 true 、 false 和 none 实际上是小写的。这三个常量也可以被写成首字母大写（ True 、 False 和 None ）。 为了一致性（所有的 Jinja 标识符是小写的），你应该使用小写的版本。"
   ]
  },
  {
   "cell_type": "markdown",
   "metadata": {},
   "source": [
    "### 算术与逻辑及其他运算符"
   ]
  },
  {
   "cell_type": "markdown",
   "metadata": {},
   "source": [
    "Jinja 允许你用计算值。这在模板中很少用到，但是为了完整性允许其存在。支持下面的 运算符:`+ - / // % * ** == != > >= < <=`.\n",
    "\n",
    "`and or not (expr)`\n",
    "\n",
    "in is \n",
    "| :应用一个 过滤器)\n",
    "~ :把所有的操作数转换为字符串，并且连接它们)\n",
    "() :调用一个可调用量, 以像在 python 中一样使用位置参数和关键字参数\n",
    "`. 或[]` :获取一个对象的属性\n",
    "\n",
    "**提示**: is 和 in 运算符同样支持使用中缀记法: foo is not bar 和 foo not in bar, 而不是 not foo is bar 和 not foo in bar 。\n",
    "所有的 其它表达式需要前缀记法 not (foo and bar) 。"
   ]
  },
  {
   "cell_type": "markdown",
   "metadata": {},
   "source": [
    "### 变量赋值"
   ]
  },
  {
   "cell_type": "markdown",
   "metadata": {},
   "source": [
    "Jinja2使用{{ ... }}标识为变量来实现html内容的替换\n",
    "\n",
    "在顶层的（块、宏、循环之外）赋值是可导出的，即 可以从别的模板中导入。\n",
    "\n",
    "赋值使用 set 标签，并且可以为多个变量赋值:"
   ]
  },
  {
   "cell_type": "markdown",
   "metadata": {},
   "source": [
    "### 控制结构"
   ]
  },
  {
   "cell_type": "markdown",
   "metadata": {},
   "source": [
    "#### for循环\n",
    "\n",
    "{% for user in users %}\n",
    "  <li>{{ user.username|e }}</li>\n",
    "{% endfor %}\n",
    "\n",
    "在一个 for 循环块中你可以访问这些特殊的变量,这些变量是jinja提供的,固定的,给用户使用的:\n",
    "变量\t描述\n",
    "loop.index\t当前循环迭代的次数（从 1 开始）\n",
    "loop.index0\t当前循环迭代的次数（从 0 开始）\n",
    "loop.revindex\t到循环结束需要迭代的次数（从 1 开始）\n",
    "loop.revindex0\t到循环结束需要迭代的次数（从 0 开始）\n",
    "loop.first\t如果是第一次迭代，为 True 。\n",
    "loop.last\t如果是最后一次迭代，为 True 。\n",
    "loop.length\t序列中的项目数。\n",
    "loop.cycle\t在一串序列间期取值的辅助函数。见下面的解释。\n",
    "\n",
    "#### if\n",
    "\n",
    "{% if users %}\n",
    "<ul>\n",
    "{% for user in users %}\n",
    "    <li>{{ user.username|e }}</li>\n",
    "{% endfor %}\n",
    "</ul>\n",
    "{% endif %}\n",
    "\n",
    "像在 Python 中一样，用 elif 和 else 来构建多个分支。If 也可以被用作 内联表达式 并作为 循环过滤 。"
   ]
  },
  {
   "cell_type": "markdown",
   "metadata": {},
   "source": [
    "### 过滤器"
   ]
  },
  {
   "cell_type": "markdown",
   "metadata": {},
   "source": [
    "变量可以通过 过滤器 修改。过滤器与变量用管道符号（ | ）分割，并且也 可以用圆括号传递可选参数。\n",
    "\n",
    "多个过滤器可以链式调用，前一个过滤器的输出会被作为 后一个过滤器的输入。"
   ]
  },
  {
   "cell_type": "markdown",
   "metadata": {},
   "source": [
    "#### 内置过滤器"
   ]
  },
  {
   "cell_type": "markdown",
   "metadata": {},
   "source": []
  },
  {
   "cell_type": "markdown",
   "metadata": {},
   "source": [
    "### 测试"
   ]
  },
  {
   "cell_type": "markdown",
   "metadata": {},
   "source": [
    "测试一个变量或表达式，你要在变量后加上一个 is 以及测试的名称\n",
    "\n",
    "例如，要得出 一个值是否定义过，你可以用 name is defined ，这会根据 name 是否定义返回 true 或 false 。"
   ]
  },
  {
   "cell_type": "markdown",
   "metadata": {},
   "source": [
    "### 注释"
   ]
  },
  {
   "cell_type": "markdown",
   "metadata": {},
   "source": [
    "模板中注释，默认使用 `{# ... #}` 注释语法"
   ]
  },
  {
   "cell_type": "markdown",
   "metadata": {},
   "source": [
    "使用行语句注释: ##, 配置 ## 为行注释前缀， 行中所有 ## 之后的内容（不包括换行符）会被忽略"
   ]
  },
  {
   "cell_type": "code",
   "execution_count": null,
   "metadata": {},
   "outputs": [],
   "source": [
    "# for item in seq:\n",
    "    <li>{{ item }}</li>     ## this comment is ignored\n",
    "# endfor"
   ]
  },
  {
   "cell_type": "markdown",
   "metadata": {},
   "source": [
    "### 空白控制"
   ]
  },
  {
   "cell_type": "markdown",
   "metadata": {},
   "source": [
    "默认配置中，模板引擎不会对空白做进一步修改，所以每个空白（空格、制表符、换行符 等等）都会原封不动返回。\n",
    "\n",
    "如果应用配置了 Jinja 的 trim_blocks ，模板标签后的 第一个换行符会被自动移除.\n",
    "\n",
    "手动剥离模板中的空白: 当你在块（比如一个 for 标签、一段注释或变量表达式）的开始或结束放置一个减号（ - ），可以移除块前到块后的空白"
   ]
  },
  {
   "cell_type": "code",
   "execution_count": null,
   "metadata": {},
   "outputs": [],
   "source": [
    "{% for item in seq -%}\n",
    "    {{ item }}\n",
    "{%- endfor %}"
   ]
  },
  {
   "cell_type": "markdown",
   "metadata": {},
   "source": [
    "注意: 标签和减号之间不能有空白。"
   ]
  },
  {
   "cell_type": "markdown",
   "metadata": {},
   "source": [
    "### 转义"
   ]
  },
  {
   "cell_type": "markdown",
   "metadata": {},
   "source": [
    "在变量分隔符中（ {{ ）使用变量表达式输出, 例如:"
   ]
  },
  {
   "cell_type": "code",
   "execution_count": null,
   "metadata": {},
   "outputs": [],
   "source": [
    "{{ '{{' }}"
   ]
  },
  {
   "cell_type": "markdown",
   "metadata": {},
   "source": [
    "标记一个段落,则使用{% raw %} ... {% endraw %}"
   ]
  },
  {
   "cell_type": "markdown",
   "metadata": {},
   "source": [
    "### 行语句"
   ]
  },
  {
   "cell_type": "markdown",
   "metadata": {},
   "source": [
    "行语句就时把一个行标记为一个语句,以 `#` 作为标记前缀, 行语句前缀可以出现在一行的任意位置，只要它前面没有文本。下面的两个例子是等价的:\n"
   ]
  },
  {
   "cell_type": "code",
   "execution_count": null,
   "metadata": {},
   "outputs": [],
   "source": [
    "<ul>\n",
    "# for item in seq\n",
    "    <li>{{ item }}</li>\n",
    "# endfor\n",
    "</ul>\n",
    "\n",
    "<ul>\n",
    "{% for item in seq %}\n",
    "    <li>{{ item }}</li>\n",
    "{% endfor %}\n",
    "</ul>"
   ]
  },
  {
   "cell_type": "markdown",
   "metadata": {},
   "source": [
    "为了语句有更好的可读 性，在块的开始（比如 for 、 if 、 elif 等等）以冒号结尾:"
   ]
  },
  {
   "cell_type": "code",
   "execution_count": null,
   "metadata": {},
   "outputs": [],
   "source": [
    "# for item in seq:\n",
    "    ...\n",
    "# endfor"
   ]
  },
  {
   "cell_type": "markdown",
   "metadata": {},
   "source": [
    "若有未闭合的圆括号、花括号或方括号，行语句可以跨越多行:"
   ]
  },
  {
   "cell_type": "code",
   "execution_count": null,
   "metadata": {},
   "outputs": [],
   "source": [
    "<ul>\n",
    "# for href, caption in [('index.html', 'Index'),\n",
    "                        ('about.html', 'About')]:\n",
    "    <li><a href=\"{{ href }}\">{{ caption }}</a></li>\n",
    "# endfor\n",
    "</ul>"
   ]
  },
  {
   "cell_type": "markdown",
   "metadata": {},
   "source": [
    "### 宏"
   ]
  },
  {
   "cell_type": "markdown",
   "metadata": {},
   "source": [
    "宏类似常规编程语言中的函数。它们用于把常用行为作为可重用的函数，取代 手动重复的工作。\n",
    "\n",
    "在命名空间中，宏之后可以像函数一样调用\n",
    "\n",
    "如果宏在不同的模板中定义，你需要首先使用 import 。\n",
    "\n",
    "如果一个宏的名称以下划线开始，它不是导出的且不能被导入。\n",
    "\n",
    "在宏内部，你可以访问三个特殊的变量:\n",
    "\n",
    "varargs\n",
    "如果有多于宏接受的参数个数的位置参数被传入，它们会作为列表的值保存在 varargs 变量上。\n",
    "\n",
    "kwargs\n",
    "同 varargs ，但只针对关键字参数。所有未使用的关键字参数会存储在 这个特殊变量中。\n",
    "\n",
    "caller\n",
    "如果宏通过 call 标签调用，调用者会作为可调用的宏被存储在这个 变量中。\n",
    "\n",
    "宏对象属性:\n",
    "\n",
    "name\n",
    "宏的名称。 {{ input.name }} 会打印 input 。\n",
    "\n",
    "arguments\n",
    "一个宏接受的参数名的元组。\n",
    "\n",
    "defaults\n",
    "默认值的元组。\n",
    "\n",
    "catch_kwargs\n",
    "如果宏接受额外的关键字参数（也就是访问特殊的 kwargs 变量），为 true 。\n",
    "\n",
    "catch_varargs\n",
    "如果宏接受额外的位置参数（也就是访问特殊的 varargs 变量），为 true 。\n",
    "\n",
    "caller\n",
    "如果宏访问特殊的 caller 变量且由 call 标签调用，为 true 。\n",
    "\n",
    "#### 宏的调用\n",
    "在某些情况下，需要把一个宏传递到另一个宏。为此，可以使用特殊的 call 块。 \n",
    "\n",
    "{% macro render_dialog(title, class='dialog') -%}\n",
    "    <div class=\"{{ class }}\">\n",
    "        <h2>{{ title }}</h2>\n",
    "        <div class=\"contents\">\n",
    "            {{ caller() }}\n",
    "        </div>\n",
    "    </div>\n",
    "{%- endmacro %}\n",
    "\n",
    "{% call render_dialog('Hello World') %}\n",
    "    This is a simple dialog rendered by using a macro and\n",
    "    a call block.3\n",
    "{% endcall %}\n",
    "\n",
    "也可以向调用块传递参数。这在为循环做替换时很有用。总而言之，调用块的工作方 式几乎与宏相同，只是调用块没有名称。"
   ]
  },
  {
   "cell_type": "markdown",
   "metadata": {},
   "source": [
    "### 包含"
   ]
  },
  {
   "cell_type": "markdown",
   "metadata": {},
   "source": [
    "include 语句用于包含一个模板，并在当前命名空间中返回那个文件的内容渲 染结果:\n",
    "{% include 'header.html' %}\n",
    "    Body\n",
    "{% include 'footer.html' %}\n",
    "被包含的模板默认可以访问活动的上下文中的变量\n",
    "\n",
    "从 Jinja 2.2 开始，你可以把一句 include 用 ignore missing 标记，这样 如果模板不存在，Jinja 会忽略这条语句。当与 with 或 without context 语句联合使用时，它必须被放在上下文可见性语句 之前 。这里是一些有效的例 子:\n",
    "\n",
    "{% include \"sidebar.html\" ignore missing %}\n",
    "{% include \"sidebar.html\" ignore missing with context %}\n",
    "{% include \"sidebar.html\" ignore missing without context %}\n",
    "\n",
    "你也可以提供一个模板列表，它会在包含前被检查是否存在。第一个存在的模板会 被包含进来。如果给出了 ignore missing ，且所有这些模板都不存在，会退化 至不做任何渲染，否则将会抛出一个异常。\n",
    "\n",
    "{% include ['page_detailed.html', 'page.html'] %}\n",
    "{% include ['special_sidebar.html', 'sidebar.html'] ignore missing %}\n",
    "\n",
    "在 2.4 版更改: 如果传递一个模板对象到模板上下文，你可以用 include 包含这个对 象。"
   ]
  },
  {
   "cell_type": "markdown",
   "metadata": {},
   "source": [
    "### 导入"
   ]
  },
  {
   "cell_type": "markdown",
   "metadata": {},
   "source": [
    "Jinja2 支持在宏中放置经常使用的代码。这些宏可以被导入，并不同的模板中使用。\n",
    "\n",
    "这 与 Python 中的 import 语句类似。导入量会被缓存，并且默认下导入的 模板不能访问当前模板中的非全局变量。\n",
    "\n",
    "有两种方式来导入模板。\n",
    "1. 把整个模板导入到一个变量\n",
    "2. 从其中导入请求特定的宏 /导出量。\n",
    "\n",
    "最简单灵活的方式是把整个模块导入为一个变量。这样你可以访问属性:\n",
    "\n",
    "一个渲染表单（名为 forms.html ）的助手模块:\n",
    "```\n",
    "{% macro input(name, value='', type='text') -%}\n",
    "    <input type=\"{{ type }}\" value=\"{{ value|e }}\" name=\"{{ name }}\">\n",
    "{%- endmacro %}\n",
    "\n",
    "{%- macro textarea(name, value='', rows=10, cols=40) -%}\n",
    "    <textarea name=\"{{ name }}\" rows=\"{{ rows }}\" cols=\"{{ cols\n",
    "        }}\">{{ value|e }}</textarea>\n",
    "{%- endmacro %}\n",
    "```\n",
    "把整个模块导入为一个变量。这样你可以访问属性:\n",
    "```\n",
    "% import 'forms.html' as forms %}\n",
    "<dl>\n",
    "    <dt>Username</dt>\n",
    "    <dd>{{ forms.input('username') }}</dd>\n",
    "    <dt>Password</dt>\n",
    "    <dd>{{ forms.input('password', type='password') }}</dd>\n",
    "</dl>\n",
    "<p>{{ forms.textarea('comment') }}</p>\n",
    "```\n",
    "也可以从模板中导入名称到当前的命名空间:\n",
    "```\n",
    "{% from 'forms.html' import input as input_field, textarea %}\n",
    "<dl>\n",
    "    <dt>Username</dt>\n",
    "    <dd>{{ input_field('username') }}</dd>\n",
    "    <dt>Password</dt>\n",
    "    <dd>{{ input_field('password', type='password') }}</dd>\n",
    "</dl>\n",
    "<p>{{ textarea('comment') }}</p>\n",
    "```\n",
    "名称以一个或更多下划线开始的宏和变量是私有的，不能被导入。\n",
    "\n",
    "在 2.4 版更改: 如果传递一个模板对象到模板上下文，从那个对象中导入。"
   ]
  },
  {
   "cell_type": "markdown",
   "metadata": {},
   "source": [
    "### 导入上下文行为"
   ]
  },
  {
   "cell_type": "markdown",
   "metadata": {},
   "source": [
    "默认下，每个包含的模板会被传递到当前上下文，而导入的模板不会.\n",
    "原因 是导入量不会像包含量被缓存，因为导入量经常只作容纳宏的模块。\n",
    "\n",
    "当然也可以显式地更改。通过在 import/include 声明中直接添加 with context 或 without context ，当前的上下文可以传递到模板，而且不会 自动禁用缓存。"
   ]
  },
  {
   "cell_type": "markdown",
   "metadata": {},
   "source": [
    "### 扩展"
   ]
  },
  {
   "cell_type": "markdown",
   "metadata": {},
   "source": [
    "i18n\n",
    "如果启用来 i18n 扩展，可以把模板中的部分标记为可译的。标记一个段为可译的，可 以使用 trans:\n",
    "<p>{% trans %}Hello {{ user }}!{% endtrans %}</p>\n",
    "\n",
    "在翻译块中不允许使用语句，只能使用变量标签。\n",
    "\n",
    "为表示复数，在 trans 和 endtrans 之间用 pluralize 标签同时指定单数和复 数形式:\n",
    "{% trans count=list|length %}\n",
    "There is {{ count }} {{ name }} object.\n",
    "{% pluralize %}\n",
    "There are {{ count }} {{ name }} objects.\n",
    "{% endtrans %}\n",
    "默认情况下块中的第一个变量用于决定使用单数还是复数。如果这不奏效，你可以指定 用于复数的名称作为 pluralize 的参数:\n",
    "\n",
    "也可以翻译表达式中的字符串。为此，有三个函数:\n",
    "\n",
    "_ gettext: 翻译一个单数字符串 - ngettext: 翻译一个复数字符串 - _: gettext 的别名\n",
    "\n",
    "表达式语句{% do navigation.append('a string') %}\n",
    "\n",
    "循环控制: 以在循环中使用 break 和 continue 。"
   ]
  },
  {
   "cell_type": "markdown",
   "metadata": {},
   "source": [
    "###  with语句"
   ]
  },
  {
   "cell_type": "markdown",
   "metadata": {},
   "source": [
    "启用了 With 语句 ，将允许在模板中使用 with 关键 字。这使得创建一个新的内作用域。这个作用域中的变量在外部是不可见的。"
   ]
  },
  {
   "cell_type": "markdown",
   "metadata": {},
   "source": [
    "### 自动转义扩展"
   ]
  },
  {
   "cell_type": "markdown",
   "metadata": {},
   "source": [
    "{% autoescape true %}\n",
    "自动转义在这块文本中是开启的。\n",
    "{% endautoescape %}\n",
    "\n",
    "{% autoescape false %}\n",
    "自动转义在这块文本中是关闭的。\n",
    "{% endautoescape %}"
   ]
  },
  {
   "cell_type": "markdown",
   "metadata": {},
   "source": [
    "### 关于扩展"
   ]
  },
  {
   "cell_type": "markdown",
   "metadata": {},
   "source": [
    "Jinja2 支持扩展来添加过滤器、测试、全局变量或者甚至是处理器。\n",
    "\n",
    "扩展的主要动力是 把诸如添加国际化支持的常用代码迁移到一个可重用的类。\n",
    "\n",
    "扩展在 Jinja2 环境创建时被添加。一旦环境被创建，就不能添加额外的扩展。\n",
    "\n",
    "要添加 一个扩展，传递一个扩展类或导入路径的列表到 Environment 构造函数的 environment 参数。\n",
    "\n",
    "下面的例子创建了一个加载了 i18n 扩展的 Jinja2 环境:\n",
    "`jinja_env = Environment(extensions=['jinja2.ext.i18n'])`\n",
    "\n",
    "#### i18n 扩展\n",
    "Import name: jinja2.ext.i18n\n",
    "\n",
    "Jinja2 当前只附带一个扩展，就是 i18n 扩展。它可以与 gettext 或 babel 联合使用。如果启用了 i18n 扩展， Jinja2 提供了 trans 语句来标记被其包裹的 字符串为可翻译的，并调用 gettext 。\n",
    "\n",
    "在启用虚拟的 _ 函数后，之后的 gettext 调用会被添加到环境的全局变量。那么 一个国际化的应用应该不仅在全局，以及在每次渲染中在命名空间中提供至少一个 gettext 或可选的 ngettext 函数。"
   ]
  }
 ],
 "metadata": {
  "kernelspec": {
   "display_name": "Python 3",
   "language": "python",
   "name": "python3"
  },
  "language_info": {
   "codemirror_mode": {
    "name": "ipython",
    "version": 3
   },
   "file_extension": ".py",
   "mimetype": "text/x-python",
   "name": "python",
   "nbconvert_exporter": "python",
   "pygments_lexer": "ipython3",
   "version": "3.6.4"
  }
 },
 "nbformat": 4,
 "nbformat_minor": 2
}
