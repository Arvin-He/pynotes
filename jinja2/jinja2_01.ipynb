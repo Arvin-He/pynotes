{
 "cells": [
  {
   "cell_type": "markdown",
   "metadata": {},
   "source": [
    "# Jinja2使用"
   ]
  },
  {
   "cell_type": "markdown",
   "metadata": {},
   "source": [
    "### 特性"
   ]
  },
  {
   "cell_type": "markdown",
   "metadata": {},
   "source": [
    "- 沙箱中执行\n",
    "- 强大的 HTML 自动转义系统保护系统免受 XSS\n",
    "- 模板继承\n",
    "- 及时编译最优的 python 代码\n",
    "- 可选提前编译模板的时间\n",
    "- 易于调试。异常的行数直接指向模板中的对应行。\n",
    "- 可配置的语法"
   ]
  },
  {
   "cell_type": "markdown",
   "metadata": {},
   "source": [
    "### 加速 MarkupSafe"
   ]
  },
  {
   "cell_type": "markdown",
   "metadata": {},
   "source": [
    "从 2.5.1 开始， Jinja2 会检查是否安装 MarkupSafe 模块。如果它找到了， 它会用这个模块的 Markup 类来代替自带的。 \n",
    "\n",
    "MarkupSafe替换Jinja2附带的老的加速模块，优势在于更好的安装脚本，自动试图安装C的版本并在不可行时漂亮地退化到纯 Python 实现的版本。\n",
    "\n",
    "MarkupSafe 的 C 实现要快得多，并推荐用于 Jinja2 自动转义。"
   ]
  },
  {
   "cell_type": "markdown",
   "metadata": {},
   "source": [
    "### 基本的API"
   ]
  },
  {
   "cell_type": "markdown",
   "metadata": {},
   "source": [
    "#### 关于Enviroment对象"
   ]
  },
  {
   "cell_type": "markdown",
   "metadata": {},
   "source": [
    "Jinja2 使用一个名为 Environment 的中心对象。这个类的实例用于存储配置全局对象，并用于从文件系统或其它位置加载模板。\n",
    "即使你通过:class:Template 类的构造函数用字符串创建模板，也会为你自动创建一个环境，尽管是共享的。"
   ]
  },
  {
   "cell_type": "code",
   "execution_count": null,
   "metadata": {},
   "outputs": [],
   "source": [
    "from jinja2 import Environment, PackageLoader\n",
    "env = Environment(loader=PackageLoader('yourapplication', 'templates'))"
   ]
  },
  {
   "cell_type": "markdown",
   "metadata": {},
   "source": [
    "上面是实例化一个Enviroment对象,并从你的app包里查找templates文件夹,在env实例化时指定模板加载器,\n",
    "然后调用 `get_template()` 方法从这个env的模板加载器中加载需要的模板，并会返回已加载的 Template:"
   ]
  },
  {
   "cell_type": "code",
   "execution_count": null,
   "metadata": {},
   "outputs": [],
   "source": [
    "template = env.get_template('mytemplate.html')"
   ]
  },
  {
   "cell_type": "markdown",
   "metadata": {},
   "source": [
    "注意: `get_template()`只需要填写模板的名字,不需要指定具体的路径,因为模板加载器已经知道模板的路径了.\n",
    "\n",
    "然后用若干变量来填充模板,这时你需要调用`render()`方法"
   ]
  },
  {
   "cell_type": "markdown",
   "metadata": {},
   "source": [
    "print(template.render(the='variables', go='here'))"
   ]
  },
  {
   "cell_type": "markdown",
   "metadata": {},
   "source": [
    "### 模板加载器loader"
   ]
  },
  {
   "cell_type": "markdown",
   "metadata": {},
   "source": [
    "Jinja2提供了多种模板加载器,常用的是`PackageLoader` 和 `FileSystemLoader`. \n",
    "- `PackageLoader`是从package包加载模板\n",
    "- `FileSystemLoader`是从文件系统中加载模板\n",
    "\n",
    "`PackageLoader`类可接受3个参数,如下所示:\n"
   ]
  },
  {
   "cell_type": "code",
   "execution_count": null,
   "metadata": {},
   "outputs": [],
   "source": [
    "class PackageLoader(BaseLoader):\n",
    "    \"\"\"Load templates from python eggs or packages.  It is constructed with the name of the python package \n",
    "    and the path to the templates in that package::\n",
    "\n",
    "        loader = PackageLoader('mypackage', 'views')\n",
    "\n",
    "    If the package path is not given, ``'templates'`` is assumed.\n",
    "\n",
    "    Per default the template encoding is ``'utf-8'`` which can be changed\n",
    "    by setting the `encoding` parameter to something else.  Due to the nature\n",
    "    of eggs it's only possible to reload templates if the package was loaded\n",
    "    from the file system and not a zip file.\n",
    "    \"\"\"\n",
    "\n",
    "    def __init__(self, package_name, package_path='templates', encoding='utf-8'):\n",
    "        \n",
    "class FileSystemLoader(BaseLoader):\n",
    "    \"\"\"Loads templates from the file system.  This loader can find templates\n",
    "    in folders on the file system and is the preferred way to load them.\n",
    "\n",
    "    The loader takes the path to the templates as string, or if multiple\n",
    "    locations are wanted a list of them which is then looked up in the\n",
    "    given order::\n",
    "\n",
    "    >>> loader = FileSystemLoader('/path/to/templates')\n",
    "    >>> loader = FileSystemLoader(['/path/to/templates', '/other/path'])\n",
    "\n",
    "    Per default the template encoding is ``'utf-8'`` which can be changed\n",
    "    by setting the `encoding` parameter to something else.\n",
    "\n",
    "    To follow symbolic links, set the *followlinks* parameter to ``True``::\n",
    "\n",
    "    >>> loader = FileSystemLoader('/path/to/templates', followlinks=True)\n",
    "\n",
    "    .. versionchanged:: 2.8+\n",
    "       The *followlinks* parameter was added.\n",
    "    \"\"\"\n",
    "\n",
    "    def __init__(self, searchpath, encoding='utf-8', followlinks=False):"
   ]
  },
  {
   "cell_type": "markdown",
   "metadata": {},
   "source": [
    "### 自动转义"
   ]
  },
  {
   "cell_type": "markdown",
   "metadata": {},
   "source": [
    "Jinja2以 .html 、 .htm 、 .xml 以及 .xhtml 的模板开启 自动转义 ，并对所有其它扩展名禁用, 如果要支持其他扩展名,在创建env实例时设置autoescape "
   ]
  }
 ],
 "metadata": {
  "kernelspec": {
   "display_name": "Python 3",
   "language": "python",
   "name": "python3"
  },
  "language_info": {
   "codemirror_mode": {
    "name": "ipython",
    "version": 3
   },
   "file_extension": ".py",
   "mimetype": "text/x-python",
   "name": "python",
   "nbconvert_exporter": "python",
   "pygments_lexer": "ipython3",
   "version": "3.6.4"
  }
 },
 "nbformat": 4,
 "nbformat_minor": 2
}
