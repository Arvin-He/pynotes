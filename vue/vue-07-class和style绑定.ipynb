{
 "cells": [
  {
   "cell_type": "markdown",
   "metadata": {},
   "source": [
    "# vue-class 和 style 绑定"
   ]
  },
  {
   "cell_type": "markdown",
   "metadata": {},
   "source": [
    "在数据绑定中，一个常见需求是，将数据与元素的 class 列表，以及元素的 style 内联样式的操作绑定在一起。\n",
    "\n",
    "由于它们都是属性(attribute)，因此我们可以使用 `v-bind` 来处理它们：只需从表达式中计算出最终的字符串。然而，处理字符串麻烦又容易出错。\n",
    "\n",
    "为此，在使用 `v-bind` 指令来处理 `class` 和 `style` 时，Vue 对此做了特别的增强。\n",
    "\n",
    "表达式除了可以是字符串，也能够是对象和数组。"
   ]
  },
  {
   "cell_type": "markdown",
   "metadata": {},
   "source": [
    "### 与 HTML 的 class 绑定(Binding HTML Classes)"
   ]
  },
  {
   "cell_type": "markdown",
   "metadata": {},
   "source": [
    "#### 对象语法"
   ]
  },
  {
   "cell_type": "markdown",
   "metadata": {},
   "source": [
    "1. 内联一个对象\n",
    "可以向 `v-bind:class` 传入一个对象，动态切换 class：`<div v-bind:class=\"{ active: isActive }\"></div>`\n",
    "\n",
    "active 这个 class 的存在与否，取决于 isActive 这个 data 属性的 truthy 值. 在对象中添加多个字段，来切换多个 class.\n",
    "\n",
    "`v-bind:class` 指令也可以和普通 class 属性共存。\n",
    "\n",
    "```html\n",
    "<div class=\"static\"\n",
    "     v-bind:class=\"{ active: isActive, 'text-danger': hasError }\">\n",
    "</div>\n",
    "```\n",
    "\n",
    "给定以下 data：\n",
    "```\n",
    "data: {\n",
    "  isActive: true,\n",
    "  hasError: false\n",
    "}\n",
    "```\n",
    "将会渲染为：`<div class=\"static active\"></div>`\n",
    "\n",
    "当 `isActive` 或 `hasError` 发生变化，class 列表就会相应地更新. 如果 `hasError` 值是 true，class 列表会变为 \"static active text-danger\"。\n",
    "\n",
    "2. 绑定一个外部的对象\n",
    "\n",
    "绑定对象，无需内联，而是外部引用 data：\n",
    "\n",
    "`<div v-bind:class=\"classObject\"></div>`\n",
    "\n",
    "```js\n",
    "data: {\n",
    "  classObject: {\n",
    "    active: true,\n",
    "    'text-danger': false\n",
    "  }\n",
    "}\n",
    "```\n",
    "\n",
    "3. 将 class 和 style 与某个 computed 属性绑定在一起\n",
    "\n",
    "此 computed 属性所对应的 getter 函数需要返回一个对象。这是一种常用且强大的用法：\n",
    "\n",
    "`<div v-bind:class=\"classObject\"></div>`\n",
    "\n",
    "```js\n",
    "data: {\n",
    "  isActive: true,\n",
    "  error: null\n",
    "},\n",
    "computed: {\n",
    "  classObject: function () {\n",
    "    return {\n",
    "      active: this.isActive && !this.error,\n",
    "      'text-danger': this.error && this.error.type === 'fatal'\n",
    "    }\n",
    "  }\n",
    "}\n",
    "```"
   ]
  },
  {
   "cell_type": "markdown",
   "metadata": {},
   "source": [
    "#### 数组语法"
   ]
  },
  {
   "cell_type": "markdown",
   "metadata": {},
   "source": [
    "向 `v-bind:class` 传入一个数组，来与 class 列表对应：`<div v-bind:class=\"[activeClass, errorClass]\"></div>`,\n",
    "\n",
    "```js\n",
    "data: {\n",
    "  activeClass: 'active',\n",
    "  errorClass: 'text-danger'\n",
    "}\n",
    "```\n",
    "会被渲染为：`<div class=\"active text-danger\"></div>`\n",
    "\n",
    "如果想根据条件，切换 class 列表中某个 class，可以通过三元表达式(ternary expression)来实现：\n",
    "\n",
    "`<div v-bind:class=\"[isActive ? activeClass : '', errorClass]\"></div>`\n",
    "\n",
    "这里会直接添加 errorClass，但是只有在 isActive 值是 truthy 时，才会添加 activeClass。\n",
    "\n",
    "如果有多个条件 class 时，就会显得有些繁琐。更好的做法是在数组语法中使用对象语法：\n",
    "\n",
    "`<div v-bind:class=\"[{ active: isActive }, errorClass]\"></div>`"
   ]
  },
  {
   "cell_type": "markdown",
   "metadata": {},
   "source": [
    "#### 在组件中使用"
   ]
  },
  {
   "cell_type": "markdown",
   "metadata": {},
   "source": [
    "当你在自定义组件中使用 class 属性，这些 class 会被添加到组件的根元素上。根元素上已经存在的 class 不会被覆盖。\n",
    "\n",
    "声明组件：\n",
    "```js\n",
    "Vue.component('my-component', {\n",
    "  template: '<p class=\"foo bar\">Hi</p>'\n",
    "})\n",
    "```\n",
    "在调用组件时，再添加一些 class：\n",
    "`<my-component class=\"baz boo\"></my-component>`\n",
    "最终渲染的 HTML 就是：`<p class=\"foo bar baz boo\">Hi</p>`\n",
    "\n",
    "\n",
    "class 绑定也是如此：`<my-component v-bind:class=\"{ active: isActive }\"></my-component>`,\n",
    "当 isActive 值是 truthy，最终渲染的 HTML 就是：`<p class=\"foo bar active\">Hi</p>`"
   ]
  },
  {
   "cell_type": "markdown",
   "metadata": {},
   "source": [
    "### 与内联 style 绑定(Binding Inline Styles)"
   ]
  },
  {
   "cell_type": "markdown",
   "metadata": {},
   "source": [
    "#### 对象语法"
   ]
  },
  {
   "cell_type": "markdown",
   "metadata": {},
   "source": [
    "`v-bind:style` 的对象语法看起来非常像 CSS，其实它是一个 JavaScript 对象。\n",
    "\n",
    "CSS 属性名称可以使用驼峰式(camelCase)或串联式(kebab-case)（使用串联式需要加引号）\n",
    "\n",
    "`<div v-bind:style=\"{ color: activeColor, fontSize: fontSize + 'px' }\"></div>`\n",
    "```js\n",
    "data: {\n",
    "  activeColor: 'red',\n",
    "  fontSize: 30\n",
    "}\n",
    "```\n",
    "\n",
    "一个比较好的做法是:\n",
    "\n",
    "直接与 data 中的 style 对象绑定，这样模板看起来更清晰：\n",
    "`<div v-bind:style=\"styleObject\"></div>`\n",
    "```js\n",
    "data: {\n",
    "  styleObject: {\n",
    "    color: 'red',\n",
    "    fontSize: '13px'\n",
    "  }\n",
    "}\n",
    "```\n",
    "再次申明: `v-bind:style` 的对象语法也会和 computed 属性结合使用，此 computed 属性所对应的 getter 函数需要返回一个对象。"
   ]
  },
  {
   "cell_type": "markdown",
   "metadata": {},
   "source": [
    "#### 数组语法"
   ]
  },
  {
   "cell_type": "markdown",
   "metadata": {},
   "source": [
    "`v-bind:style` 的数组语法，可以在同一个元素上，使用多个 style 对象：`<div v-bind:style=\"[baseStyles, overridingStyles]\"></div>`"
   ]
  },
  {
   "cell_type": "markdown",
   "metadata": {},
   "source": [
    "#### 自动添加前缀"
   ]
  },
  {
   "cell_type": "markdown",
   "metadata": {},
   "source": [
    "在 `v-bind:style` 中使用具有浏览器厂商前缀(vendor prefixes)的 CSS 属性时（例如 transform），Vue 会自动检测并向 style 添加合适的前缀`。"
   ]
  },
  {
   "cell_type": "markdown",
   "metadata": {},
   "source": [
    "#### 多个值(支持版本: 2.3.0+)"
   ]
  },
  {
   "cell_type": "markdown",
   "metadata": {},
   "source": [
    "从 2.3.0+ 起，你可以为每个 style 属性提供一个含有多个（前缀）值的数组，例如：`<div v-bind:style=\"{ display: ['-webkit-box', '-ms-flexbox', 'flex'] }\"></div>`\n",
    "\n",
    "最终，这只会从数组中找出一个浏览器所支持的值进行渲染。\n",
    "\n",
    "在这个示例中，对于支持「无需前缀版本的 flexbox」的浏览器，最终将渲染为 display: flex。"
   ]
  }
 ],
 "metadata": {
  "kernelspec": {
   "display_name": "Python 3",
   "language": "python",
   "name": "python3"
  },
  "language_info": {
   "codemirror_mode": {
    "name": "ipython",
    "version": 3
   },
   "file_extension": ".py",
   "mimetype": "text/x-python",
   "name": "python",
   "nbconvert_exporter": "python",
   "pygments_lexer": "ipython3",
   "version": "3.6.4"
  }
 },
 "nbformat": 4,
 "nbformat_minor": 2
}
