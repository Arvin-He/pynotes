{
 "cells": [
  {
   "cell_type": "markdown",
   "metadata": {},
   "source": [
    "# 列表渲染"
   ]
  },
  {
   "cell_type": "markdown",
   "metadata": {},
   "source": [
    "### 使用 v-for 遍历 数组 生成元素"
   ]
  },
  {
   "cell_type": "markdown",
   "metadata": {},
   "source": [
    "v-for 指令需要限定格式为 item in items 的特殊语法，其中，items 是原始数据数组(source data array)，而 item 是数组中每个迭代元素的指代别名(alias)：\n",
    "```js\n",
    "var example1 = new Vue({\n",
    "  el: '#example-1',\n",
    "  data: {\n",
    "    items: [\n",
    "      { message: 'Foo' },\n",
    "      { message: 'Bar' }\n",
    "    ]\n",
    "  }\n",
    "})\n",
    "```\n",
    "\n",
    "```html\n",
    "<ul id=\"example-1\">\n",
    "  <li v-for=\"item in items\">\n",
    "    {{ item.message }}\n",
    "  </li>\n",
    "</ul>\n",
    "```\n",
    "\n",
    "v-for 还支持可选的第二个参数，作为当前项的索引。\n",
    "```html\n",
    "<ul id=\"example-2\">\n",
    "  <li v-for=\"(item, index) in items\">\n",
    "    {{ parentMessage }} - {{ index }} - {{ item.message }}\n",
    "  </li>\n",
    "</ul>\n",
    "```\n",
    "可以不使用 in，而是使用 of 作为分隔符，因为它更加接近 JavaScript 迭代器语法：\n",
    "`<div v-for=\"item of items\"></div>`"
   ]
  },
  {
   "cell_type": "markdown",
   "metadata": {},
   "source": [
    "### 使用 v-for 遍历 对象 生成元素"
   ]
  },
  {
   "cell_type": "markdown",
   "metadata": {},
   "source": [
    "可以使用 v-for 来遍历对象的属性。\n",
    "\n",
    "```html\n",
    "<ul id=\"v-for-object\" class=\"demo\">\n",
    "  <li v-for=\"value in object\">\n",
    "    {{ value }}\n",
    "  </li>\n",
    "</ul>\n",
    "```\n",
    "```js\n",
    "new Vue({\n",
    "  el: '#v-for-object',\n",
    "  data: {\n",
    "    object: {\n",
    "      firstName: 'John',\n",
    "      lastName: 'Doe',\n",
    "      age: 30\n",
    "    }\n",
    "  }\n",
    "})\n",
    "```\n",
    "\n",
    "还可以提供第二个参数，作为对象的键名(key)：\n",
    "```html\n",
    "<div v-for=\"(value, key) in object\">\n",
    "  {{ key }}: {{ value }}\n",
    "</div>\n",
    "```\n",
    "\n",
    "还可以第三个参数作为索引(index)：\n",
    "```html\n",
    "<div v-for=\"(value, key, index) in object\">\n",
    "  {{ index }}. {{ key }}: {{ value }}\n",
    "</div>\n",
    "```\n",
    "\n",
    "**注意:** 在遍历一个对象时，是按照 `Object.keys()` 得出 key 的枚举顺序来遍历，无法保证在所有 JavaScript 引擎实现中完全一致。"
   ]
  },
  {
   "cell_type": "markdown",
   "metadata": {},
   "source": [
    "### 关于key"
   ]
  },
  {
   "cell_type": "markdown",
   "metadata": {},
   "source": [
    "为了便于 Vue 跟踪每个节点的身份，从而重新复用(reuse)和重新排序(reorder)现有元素，你需要为每项提供唯一的 key 属性，从而给 Vue 一个提示。\n",
    "\n",
    "理想的 key 值是每项都有唯一的 id。这个特殊属性和 Vue 1.x 中的 track-by 粗略相同，但是它会类似于属性运行，所以你需要使用 v-bind 将其与动态值绑定在一起（这里使用简写）：\n",
    "\n",
    "```html\n",
    "<div v-for=\"item in items\" :key=\"item.id\">\n",
    "  <!-- content -->\n",
    "</div>\n",
    "```\n",
    "\n",
    "推荐，在使用 v-for 时，尽可能提供一个 key，除非迭代的 DOM 内容足够简单，或者你是故意依赖于默认行为来获得性能提升。"
   ]
  },
  {
   "cell_type": "markdown",
   "metadata": {},
   "source": [
    "### 数组变化检测(Array Change Detection)"
   ]
  },
  {
   "cell_type": "markdown",
   "metadata": {},
   "source": [
    "Vue 将观察数组(observed array)的变化数组方法(mutation method)包裹起来，以便在调用这些方法时，也能够触发视图更新。这些包裹的方法如下：\n",
    "\n",
    "* push()\n",
    "* pop()\n",
    "* shift()\n",
    "* unshift()\n",
    "* splice()\n",
    "* sort()\n",
    "* reverse()\n",
    "\n",
    "可以打开控制台，然后对前面示例中的 items 数组调用变化数组方法。例如：`example1.items.push({ message: 'Baz' })`。\n",
    "\n",
    "变化数组方法(mutation method)，在调用后会改变原始数组。\n",
    "\n",
    "非变化数组方法(non-mutating method)，例如 filter(), concat() 和 slice()，这些方法都不会直接修改操作原始数组，而是**返回一个新数组**。\n",
    "\n",
    "例如:\n",
    "```js\n",
    "example1.items = example1.items.filter(function (item) {\n",
    "  return item.message.match(/Foo/)\n",
    "})\n",
    "```\n",
    "你可能会认为这将导致 Vue 丢弃现有 DOM 并重新渲染(re-render)整个列表, 但是情况并非如此。Vue 实现了一些智能启发式方法(smart heuristic)来最大化 DOM 元素重用(reuse)，因此将一个数组替换为包含重叠对象的另一个数组，会是一种非常高效的操作。\n"
   ]
  },
  {
   "cell_type": "markdown",
   "metadata": {},
   "source": [
    "### 注意事项"
   ]
  },
  {
   "cell_type": "markdown",
   "metadata": {},
   "source": [
    "由于 JavaScript 的限制，Vue 无法检测到以下数组变动：\n",
    "\n",
    "1. 当你使用索引直接设置一项时，例如 `vm.items[indexOfItem] = newValue`\n",
    "2. 当你修改数组长度时，例如 `vm.items.length = newLength`\n",
    "\n",
    "例如:\n",
    "```js\n",
    "var vm = new Vue({\n",
    "  data: {\n",
    "    items: ['a', 'b', 'c']\n",
    "  }\n",
    "})\n",
    "vm.items[1] = 'x' // 不是响应的\n",
    "vm.items.length = 2 // 不是响应的\n",
    "```\n",
    "\n",
    "解决第 1 个问题:\n",
    "```js\n",
    "// Vue.set\n",
    "Vue.set(vm.items, indexOfItem, newValue)\n",
    "// 还可以使用 vm.$set 实例方法，这也是全局 Vue.set 方法的别名：\n",
    "vm.$set(vm.items, indexOfItem, newValue)\n",
    "```\n",
    "\n",
    "解决第 2 个问题，你可以使用 splice:\n",
    "`vm.items.splice(newLength)`"
   ]
  },
  {
   "cell_type": "markdown",
   "metadata": {},
   "source": [
    "### 对象变化检测说明(Object Change Detection Caveats)"
   ]
  },
  {
   "cell_type": "markdown",
   "metadata": {},
   "source": [
    "再次申明，受现代 Javascript 的限制， Vue 无法检测到对象属性的添加或删除。例如：\n",
    "```js\n",
    "var vm = new Vue({\n",
    "  data: {\n",
    "    a: 1\n",
    "  }\n",
    "})\n",
    "// `vm.a` 是响应的\n",
    "\n",
    "vm.b = 2\n",
    "// `vm.b` 不是响应的\n",
    "```\n",
    "\n",
    "Vue 不允许在已经创建的实例上，动态地添加新的**根级响应式属性(root-level reactive property)**。然而，可以使用 `Vue.set(object, key, value) `方法，将响应式属性添加到嵌套的对象上。例如，给出：\n",
    "\n",
    "```js\n",
    "var vm = new Vue({\n",
    "  data: {\n",
    "    userProfile: {\n",
    "      name: 'Anika'\n",
    "    }\n",
    "  }\n",
    "})\n",
    "```\n",
    "\n",
    "可以向嵌套的 userProfile 对象，添加一个新的 age 属性：\n",
    "\n",
    "`Vue.set(vm.userProfile, 'age', 27)`\n",
    "还可以使用 vm.$set 实例方法，这也是全局 Vue.set 方法的别名：\n",
    "`vm.$set(vm.userProfile, 'age', 27)`"
   ]
  },
  {
   "cell_type": "markdown",
   "metadata": {},
   "source": [
    "有时，你想要向**已经存在的对象上添加一些新的属性**，例如使用 `Object.assign()` 或 `_.extend()` 方法。\n",
    "\n",
    "在这种情况下，**应该创建一个新的对象**，这个对象同时具有两个对象的所有属性，因此，改为：\n",
    "\n",
    "```js\n",
    "Object.assign(vm.userProfile, {\n",
    "  age: 27,\n",
    "  favoriteColor: 'Vue Green'\n",
    "})\n",
    "```\n",
    "可以通过如下方式，添加新的响应式属性：\n",
    "```js\n",
    "vm.userProfile = Object.assign({}, vm.userProfile, {\n",
    "  age: 27,\n",
    "  favoriteColor: 'Vue Green'\n",
    "})\n",
    "```"
   ]
  },
  {
   "cell_type": "markdown",
   "metadata": {},
   "source": [
    "### 显示过滤/排序结果(Displaying Filtered/Sorted Results)"
   ]
  },
  {
   "cell_type": "markdown",
   "metadata": {},
   "source": [
    "有时，我们想要显示一个数组过滤或排序后(filtered or sorted)的副本，而不是实际改变或重置原始数据。\n",
    "\n",
    "在这种情况下，可以创建一个返回过滤或排序数组的computed属性。\n",
    "\n",
    "`<li v-for=\"n in evenNumbers\">{{ n }}</li>`\n",
    "\n",
    "```js\n",
    "data: {\n",
    "  numbers: [ 1, 2, 3, 4, 5 ]\n",
    "},\n",
    "computed: {\n",
    "  evenNumbers: function () {\n",
    "    return this.numbers.filter(function (number) {\n",
    "      return number % 2 === 0\n",
    "    })\n",
    "  }\n",
    "}\n",
    "```\n",
    "在计算属性不适用的情况下（例如，在嵌套的 v-for 循环内），可以使用一个 method 方法.\n",
    "\n",
    "```js\n",
    "data: {\n",
    "  numbers: [ 1, 2, 3, 4, 5 ]\n",
    "},\n",
    "methods: {\n",
    "  even: function (numbers) {\n",
    "    return numbers.filter(function (number) {\n",
    "      return number % 2 === 0\n",
    "    })\n",
    "  }\n",
    "}\n",
    "```"
   ]
  },
  {
   "cell_type": "markdown",
   "metadata": {},
   "source": [
    "### 使用 v-for 在整数值范围内迭代"
   ]
  },
  {
   "cell_type": "markdown",
   "metadata": {},
   "source": [
    "v-for 也可以在整数值范围内迭代。在这种情况下，会将模板重复多次。\n",
    "```html\n",
    "<div>\n",
    "  <span v-for=\"n in 10\">{{ n }}</span>\n",
    "</div>\n",
    "```"
   ]
  },
  {
   "cell_type": "markdown",
   "metadata": {},
   "source": [
    "### 在 `<template>` 上使用 v-for"
   ]
  },
  {
   "cell_type": "markdown",
   "metadata": {},
   "source": [
    "类似于在 `<template>` 上使用 v-if，你还可以在 `<template>` 标签上使用 v-for，来渲染多个元素块。例如："
   ]
  },
  {
   "cell_type": "markdown",
   "metadata": {},
   "source": [
    "```html\n",
    "<ul>\n",
    "  <template v-for=\"item in items\">\n",
    "    <li>{{ item.msg }}</li>\n",
    "    <li class=\"divider\"></li>\n",
    "  </template>\n",
    "</ul>\n",
    "```"
   ]
  },
  {
   "cell_type": "markdown",
   "metadata": {},
   "source": [
    "### 带有 v-if 的 v-for"
   ]
  },
  {
   "cell_type": "markdown",
   "metadata": {},
   "source": [
    "当它们都处于同一节点时，v-for 的优先级高于 v-if。这意味着，v-if 将分别在循环中的每次迭代上运行。\n",
    "```html\n",
    "<li v-for=\"todo in todos\" v-if=\"!todo.isComplete\">\n",
    "  {{ todo }}\n",
    "</li>\n",
    "```\n",
    "\n",
    "如果你的意图与此相反，是根据条件跳过执行循环，可以将 v-if 放置于包裹元素上（或放置于 <template> 上）\n",
    "```\n",
    "<ul v-if=\"todos.length\">\n",
    "  <li v-for=\"todo in todos\">\n",
    "    {{ todo }}\n",
    "  </li>\n",
    "</ul>\n",
    "<p v-else>No todos left!</p>\n",
    "```"
   ]
  },
  {
   "cell_type": "markdown",
   "metadata": {},
   "source": [
    "### 使用 v-for 遍历组件"
   ]
  },
  {
   "cell_type": "markdown",
   "metadata": {},
   "source": [
    "在 2.2.0+ 版本，当对组件使用 v-for 时，必须设置 key 属性。\n",
    "\n",
    "然而，这里无法自动向组件中传入数据，这是因为组件有自己的独立作用域。为了将组件外部的迭代数据传入组件，我们还需要额外使用 props：\n",
    "\n",
    "```html\n",
    "<my-component\n",
    "  v-for=\"(item, index) in items\"\n",
    "  v-bind:item=\"item\"\n",
    "  v-bind:index=\"index\"\n",
    "  v-bind:key=\"item.id\"\n",
    "></my-component>\n",
    "```\n",
    "\n",
    "没有通过 v-for 将 item 自动注入到组件中的原因是，一旦自动注入，就会使得组件与 v-for 指令的运行方式紧密耦合(tightly coupled)在一起。通过显式声明组件数据来源，可以使得组件可重用于其他场景。\n",
    "\n",
    "一个 todo list 的完整示例：\n",
    "```html\n",
    "<div id=\"todo-list-example\">\n",
    "  <input\n",
    "    v-model=\"newTodoText\"\n",
    "    v-on:keyup.enter=\"addNewTodo\"\n",
    "    placeholder=\"Add a todo\"\n",
    "  >\n",
    "  <ul>\n",
    "    <li\n",
    "      is=\"todo-item\"\n",
    "      v-for=\"(todo, index) in todos\"\n",
    "      v-bind:key=\"todo.id\"\n",
    "      v-bind:title=\"todo.title\"\n",
    "      v-on:remove=\"todos.splice(index, 1)\"\n",
    "    ></li>\n",
    "  </ul>\n",
    "</div>\n",
    "```"
   ]
  },
  {
   "cell_type": "markdown",
   "metadata": {},
   "source": [
    "注意 is=\"todo-item\" 属性。这在 DOM 模板中是必需的，因为在 <ul> 中，只有 <li> 是有效元素。这与调用 <todo-item> 的实际结果相同，但是却可以解决浏览器潜在的解析错误。"
   ]
  }
 ],
 "metadata": {
  "kernelspec": {
   "display_name": "Python 3",
   "language": "python",
   "name": "python3"
  },
  "language_info": {
   "codemirror_mode": {
    "name": "ipython",
    "version": 3
   },
   "file_extension": ".py",
   "mimetype": "text/x-python",
   "name": "python",
   "nbconvert_exporter": "python",
   "pygments_lexer": "ipython3",
   "version": "3.6.4"
  }
 },
 "nbformat": 4,
 "nbformat_minor": 2
}
