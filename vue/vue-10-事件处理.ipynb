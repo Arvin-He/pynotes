{
 "cells": [
  {
   "cell_type": "markdown",
   "metadata": {},
   "source": [
    "# vue-事件处理"
   ]
  },
  {
   "cell_type": "markdown",
   "metadata": {},
   "source": [
    "### 监听事件"
   ]
  },
  {
   "cell_type": "markdown",
   "metadata": {},
   "source": [
    "v-on 指令监听 DOM 事件，并在事件被触发时执行一些 JavaScript 代码。"
   ]
  },
  {
   "cell_type": "markdown",
   "metadata": {},
   "source": [
    "### 定义在 methods 对象中的事件处理器"
   ]
  },
  {
   "cell_type": "markdown",
   "metadata": {},
   "source": [
    "由于许多事件处理器的逻辑很复杂，把 JavaScript 代码都保存在 v-on 属性的值中是不可行的做法。这就是为什么 v-on 还可以接收要调用的方法名。"
   ]
  },
  {
   "cell_type": "markdown",
   "metadata": {},
   "source": [
    "### 定义在行内的事件处理器"
   ]
  },
  {
   "cell_type": "markdown",
   "metadata": {},
   "source": [
    "除了直接绑定到方法名，我们还可以在行内 JavaScript 语句中使用 methods 方法\n",
    "\n",
    "在行内语句的事件处理器中，有时我们也需要访问原始 DOM 事件对象。可以使用特殊的 `$event` 变量将它传递给一个方法\n",
    "\n"
   ]
  },
  {
   "cell_type": "markdown",
   "metadata": {},
   "source": [
    "### 事件修饰符(Event Modifiers)"
   ]
  },
  {
   "cell_type": "markdown",
   "metadata": {},
   "source": [
    "在事件处理程序中调用 `event.preventDefault()` 或 `event.stopPropagation()` 是非常常见的。\n",
    "\n",
    "尽管我们可以在 methods 中轻松实现这点，但更好的方式是：`methods` 只有纯粹的数据逻辑，而不是去处理 DOM 事件细节。\n",
    "\n",
    "为了解决这个问题， Vue.js 为 `v-on` 提供了事件修饰符。修饰符是以点(.)开头的指令后缀来表示。\n",
    "\n",
    "* .stop\n",
    "* .prevent\n",
    "* .capture\n",
    "* .self\n",
    "* .once\n",
    "\n",
    "```html\n",
    "<!-- 停止点击事件冒泡 -->\n",
    "<a v-on:click.stop=\"doThis\"></a>\n",
    "\n",
    "<!-- 提交事件不再重新载入页面 -->\n",
    "<form v-on:submit.prevent=\"onSubmit\"></form>\n",
    "\n",
    "<!-- 修饰符可以链式调用 -->\n",
    "<a v-on:click.stop.prevent=\"doThat\"></a>\n",
    "\n",
    "<!-- 只有修饰符 -->\n",
    "<form v-on:submit.prevent></form>\n",
    "\n",
    "<!-- 添加事件监听器时，使用事件捕获模式 -->\n",
    "<!-- 也就是说，内部元素触发的事件先在此处处理，然后才交给内部元素进行处理 -->\n",
    "<div v-on:click.capture=\"doThis\">...</div>\n",
    "\n",
    "<!-- 只有在 event.target 是元素自身时，才触发处理函数。 -->\n",
    "<!-- 也就是说，event.target 是子元素时，不触发处理函数 -->\n",
    "<div v-on:click.self=\"doThat\">...</div>\n",
    "\n",
    "<!-- 点击事件将只会触发一次, 2.1.4+ 新增 -->\n",
    "<a v-on:click.once=\"doThis\"></a>\n",
    "\n",
    "<!-- Vue 还提供了 .passive修饰符，对应 addEventListener 的 passive 选项。 -->\n",
    "<!-- 滚动事件的默认行为（滚动）将立即发生，2.3.0+ 新增 -->\n",
    "<!-- 而不是等待 `onScroll` 完成后才发生， -->\n",
    "<!-- 以防在滚动事件的处理程序中含有 `event.preventDefault()` 调用 -->\n",
    "<div v-on:scroll.passive=\"onScroll\">...</div>\n",
    "```"
   ]
  },
  {
   "cell_type": "markdown",
   "metadata": {},
   "source": [
    "使用修饰符时的顺序会产生一些影响，因为相关的代码会以相同的顺序生成。\n",
    "\n",
    "所以，使用 `v-on:click.prevent.self` 会阻止所有点击，\n",
    "\n",
    "而 `v-on:click.self.prevent` 只阻止元素自身的点击。\n",
    "\n",
    ".passive 修饰符对于提高移动设备的性能尤其有用。\n",
    "\n",
    "不要将 `.passive` 和 `.prevent` 放在一起使用，因为`.prevent` 将被忽略，并且浏览器可能会显示一条警告。\n",
    "\n",
    "记住，`.passive` 会向浏览器传达的意思是，你并不希望阻止事件的默认行为。"
   ]
  },
  {
   "cell_type": "markdown",
   "metadata": {},
   "source": [
    "### 按键修饰符(Key Modifiers) "
   ]
  },
  {
   "cell_type": "markdown",
   "metadata": {},
   "source": [
    "在监听键盘事件时，我们经常需要查找常用按键对应的 code 值。Vue 可以在 v-on 上添加按键修饰符，用于监听按键事件：\n",
    "\n",
    "```html\n",
    "<!-- 只在 `keyCode` 是 13 时，调用 `vm.submit()` -->\n",
    "<input v-on:keyup.13=\"submit\">\n",
    "```\n",
    "\n",
    "记住所有 keyCode 是非常麻烦的事，所以 Vue 提供一些最常用按键的别名：\n",
    "\n",
    "```html\n",
    "<!-- 和上面的示例相同 -->\n",
    "<input v-on:keyup.enter=\"submit\">\n",
    "\n",
    "<!-- 也可用于简写语法 -->\n",
    "<input @keyup.enter=\"submit\">\n",
    "```\n",
    "\n",
    "所有的按键修饰符别名：\n",
    "* .enter\n",
    "* .tab\n",
    "* .delete (捕获“删除”和“退格”按键)\n",
    "* .esc\n",
    "* .space\n",
    "* .up\n",
    "* .down\n",
    "* .left\n",
    "* .right\n",
    "\n",
    "还可以自定义按键修饰符别名，通过全局 config.keyCodes 对象设置：\n",
    "\n",
    "```js\n",
    "// 可以使用 `v-on:keyup.f1`\n",
    "Vue.config.keyCodes.f1 = 112\n",
    "```"
   ]
  }
 ],
 "metadata": {
  "kernelspec": {
   "display_name": "Python 3",
   "language": "python",
   "name": "python3"
  },
  "language_info": {
   "codemirror_mode": {
    "name": "ipython",
    "version": 3
   },
   "file_extension": ".py",
   "mimetype": "text/x-python",
   "name": "python",
   "nbconvert_exporter": "python",
   "pygments_lexer": "ipython3",
   "version": "3.6.1"
  }
 },
 "nbformat": 4,
 "nbformat_minor": 2
}
