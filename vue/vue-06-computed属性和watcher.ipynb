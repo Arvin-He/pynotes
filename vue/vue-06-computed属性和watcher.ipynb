{
 "cells": [
  {
   "cell_type": "markdown",
   "metadata": {},
   "source": [
    "# vue-computed 属性和 watcher"
   ]
  },
  {
   "cell_type": "markdown",
   "metadata": {},
   "source": [
    "### computed 属性"
   ]
  },
  {
   "cell_type": "markdown",
   "metadata": {},
   "source": [
    "模板中使用表达式只适用于简单的操作。\n",
    "\n",
    "在模板中放入太多的逻辑，会使模板过度膨胀和难以维护。\n",
    "\n",
    "对于所有复杂逻辑，你都应该使用 computed 属性(computed property)。"
   ]
  },
  {
   "cell_type": "markdown",
   "metadata": {},
   "source": [
    "### 基础示例"
   ]
  },
  {
   "cell_type": "markdown",
   "metadata": {},
   "source": [
    "```html\n",
    "<div id=\"example\">\n",
    "  <p>初始 message 是：\"{{ message }}\"</p>\n",
    "  <p>计算后的翻转 message 是：\"{{ reversedMessage }}\"</p>\n",
    "</div>\n",
    "```\n",
    "\n",
    "```js\n",
    "var vm = new Vue({\n",
    "  el: '#example',\n",
    "  data: {\n",
    "    message: 'Hello'\n",
    "  },\n",
    "  computed: {\n",
    "    // 一个 computed 属性的 getter 函数\n",
    "    reversedMessage: function () {\n",
    "      // `this` 指向 vm 实例\n",
    "      return this.message.split('').reverse().join('')\n",
    "    }\n",
    "  }\n",
    "})\n",
    "```\n",
    "\n",
    "Vue 能够意识到 `vm.reversedMessage` 依赖于 `vm.message`，也会在 `vm.message` 修改后，更新所有依赖于 `vm.reversedMessage` 的数据绑定。\n",
    "\n",
    "最恰到好处的部分是通过声明式来创建这种依赖关系：computed 属性的 getter 函数并无副作用(side effect)，因此也更加易于测试和理解。"
   ]
  },
  {
   "cell_type": "markdown",
   "metadata": {},
   "source": [
    "### computed 缓存 vs method 方法"
   ]
  },
  {
   "cell_type": "markdown",
   "metadata": {},
   "source": [
    "在表达式中通过调用 method 方法的方式，也能够实现与 computed 属性相同的结果：\n",
    "\n",
    "```html\n",
    "<p>翻转 message 是：\"{{ reverseMessage() }}\"</p>\n",
    "```\n",
    "\n",
    "```js\n",
    "// 在组件中\n",
    "methods: {\n",
    "  reverseMessage: function () {\n",
    "    return this.message.split('').reverse().join('')\n",
    "  }\n",
    "}\n",
    "\n",
    "```\n",
    "\n",
    "这里不使用 computed 属性，而是在 methods 中定义一个相同的函数。对于最终结果，这两种方式确实恰好相同。\n",
    "\n",
    "然而，细微的差异之处在于，computed 属性会基于它所依赖的数据进行缓存。每个 computed 属性，只有在它所依赖的数据发生变化时，才会重新取值(re-evaluate)。只要 message 没有发生变化，多次访问 computed 属性 reversedMessage，将会立刻返回之前计算过的结果，而不必每次都重新执行函数。\n",
    "\n",
    "这也意味着，如下的 computed 属性永远不会更新，因为 `Date.now()` 不是一个响应式的依赖数据：\n",
    "```js\n",
    "computed: {\n",
    "  now: function () {\n",
    "    return Date.now()\n",
    "  }\n",
    "}\n",
    "```\n",
    "\n",
    "相比之下，每当触发重新渲染(re-render)时，method 调用方式将总是再次执行函数。\n",
    "\n",
    "在某些场景下，你可能不希望有缓存，请使用 method 方法替代computed。"
   ]
  },
  {
   "cell_type": "markdown",
   "metadata": {},
   "source": [
    "### computed 属性和 watch 属性"
   ]
  },
  {
   "cell_type": "markdown",
   "metadata": {},
   "source": [
    "Vue 还提供了一种更加通用的方式，来观察和响应 Vue 实例上的数据变化：watch 属性。\n",
    "\n",
    "当你有一些数据需要随着另外一些数据变化时，过度滥用 watch 属性会造成一些问题。\n",
    "\n",
    "因此，更推荐的方式是，使用 computed 属性，而不是命令式(imperative)的 watch 回调函数。"
   ]
  },
  {
   "cell_type": "markdown",
   "metadata": {},
   "source": [
    "### computed 属性中设置 setter"
   ]
  },
  {
   "cell_type": "markdown",
   "metadata": {},
   "source": [
    "computed 属性默认只设置 getter 函数，不过在需要时，还可以提供 setter 函数：\n",
    "```js\n",
    "// ...\n",
    "computed: {\n",
    "  fullName: {\n",
    "    // getter 函数\n",
    "    get: function () {\n",
    "      return this.firstName + ' ' + this.lastName\n",
    "    },\n",
    "    // setter 函数\n",
    "    set: function (newValue) {\n",
    "      var names = newValue.split(' ')\n",
    "      this.firstName = names[0]\n",
    "      this.lastName = names[names.length - 1]\n",
    "    }\n",
    "  }\n",
    "}\n",
    "// ...\n",
    "```\n",
    "\n",
    "现在当你运行 `vm.fullName = 'John Doe'`，将会调用 setter，然后会对应更新 `vm.firstName` 和 `vm.lastName`。"
   ]
  },
  {
   "cell_type": "markdown",
   "metadata": {},
   "source": [
    "### watcher"
   ]
  },
  {
   "cell_type": "markdown",
   "metadata": {},
   "source": [
    "在大多数情况下，更适合使用 computed 属性，然而有些时候，还是需要一个自定义 watcher。\n",
    "\n",
    "这就是为什么 Vue 要通过 watch 选项，来提供一个更加通用的响应数据变化的方式。\n",
    "\n",
    "当你需要在数据变化响应时，执行异步操作，或高性能消耗的操作，自定义 watcher 的方式就会很有帮助。\n",
    "\n",
    "除了 watch 选项之外，还可以使用命令式(imperative)的 `vm.$watch` API。"
   ]
  }
 ],
 "metadata": {
  "kernelspec": {
   "display_name": "Python 3",
   "language": "python",
   "name": "python3"
  },
  "language_info": {
   "codemirror_mode": {
    "name": "ipython",
    "version": 3
   },
   "file_extension": ".py",
   "mimetype": "text/x-python",
   "name": "python",
   "nbconvert_exporter": "python",
   "pygments_lexer": "ipython3",
   "version": "3.6.4"
  }
 },
 "nbformat": 4,
 "nbformat_minor": 2
}
