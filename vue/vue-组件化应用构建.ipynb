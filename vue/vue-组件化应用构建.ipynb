{
 "cells": [
  {
   "cell_type": "markdown",
   "metadata": {},
   "source": [
    "# vue-组件化应用构建"
   ]
  },
  {
   "cell_type": "markdown",
   "metadata": {},
   "source": [
    "在 Vue 里，一个组件本质上是一个拥有预定义选项的一个 Vue 实例，在 Vue 中注册组件很简单："
   ]
  },
  {
   "cell_type": "markdown",
   "metadata": {},
   "source": [
    "```js\n",
    "// 定义名为 todo-item 的新组件\n",
    "Vue.component('todo-item', {\n",
    "  template: '<li>这是个待办项</li>'\n",
    "})\n",
    "```\n",
    "\n",
    "用它构建另一个组件模板：\n",
    "\n",
    "```js\n",
    "<ol>\n",
    "  <!-- 创建一个 todo-item 组件的实例 -->\n",
    "  <todo-item></todo-item>\n",
    "</ol>\n",
    "```"
   ]
  },
  {
   "cell_type": "markdown",
   "metadata": {},
   "source": [
    "### 更好的做法"
   ]
  },
  {
   "cell_type": "markdown",
   "metadata": {},
   "source": [
    "修改一下组件的定义，使之能够接受一个属性:"
   ]
  },
  {
   "cell_type": "markdown",
   "metadata": {},
   "source": [
    "```js\n",
    "Vue.component('todo-item', {\n",
    "  // todo-item 组件现在接受一个\n",
    "  // \"prop\"，类似于一个自定义属性\n",
    "  // 这个属性名为 todo。\n",
    "  props: ['todo'],\n",
    "  template: '<li>{{ todo.text }}</li>'\n",
    "})\n",
    "```"
   ]
  },
  {
   "cell_type": "markdown",
   "metadata": {},
   "source": [
    "使用 v-bind 指令将待办项传到每一个重复的组件中："
   ]
  },
  {
   "cell_type": "markdown",
   "metadata": {},
   "source": [
    "```js\n",
    "<div id=\"app-7\">\n",
    "  <ol>\n",
    "    <!--\n",
    "      现在我们为每个 todo-item 提供待办项对象\n",
    "      待办项对象是变量，即其内容可以是动态的。\n",
    "      我们也需要为每个组件提供一个“key”，晚些时候我们会做个解释。\n",
    "    -->\n",
    "    <todo-item\n",
    "      v-for=\"item in groceryList\"\n",
    "      v-bind:todo=\"item\"\n",
    "      v-bind:key=\"item.id\">\n",
    "    </todo-item>\n",
    "  </ol>\n",
    "</div>\n",
    "\n",
    "Vue.component('todo-item', {\n",
    "  props: ['todo'],\n",
    "  template: '<li>{{ todo.text }}</li>'\n",
    "})\n",
    "var app7 = new Vue({\n",
    "  el: '#app-7',\n",
    "  data: {\n",
    "    groceryList: [\n",
    "      { id: 0, text: '蔬菜' },\n",
    "      { id: 1, text: '奶酪' },\n",
    "      { id: 2, text: '随便其他什么人吃的东西' }\n",
    "    ]\n",
    "  }\n",
    "})\n",
    "```"
   ]
  }
 ],
 "metadata": {
  "kernelspec": {
   "display_name": "Python 3",
   "language": "python",
   "name": "python3"
  },
  "language_info": {
   "codemirror_mode": {
    "name": "ipython",
    "version": 3
   },
   "file_extension": ".py",
   "mimetype": "text/x-python",
   "name": "python",
   "nbconvert_exporter": "python",
   "pygments_lexer": "ipython3",
   "version": "3.6.1"
  }
 },
 "nbformat": 4,
 "nbformat_minor": 2
}
