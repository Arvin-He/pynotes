{
 "cells": [
  {
   "cell_type": "markdown",
   "metadata": {},
   "source": [
    "# vue-实例化"
   ]
  },
  {
   "cell_type": "markdown",
   "metadata": {},
   "source": [
    "每个 Vue 应用程序都是通过 Vue 函数创建出一个新的 Vue 实例,\n",
    "\n",
    "``` \n",
    "var vm = new Vue({\n",
    "    // 选项\n",
    "})\n",
    "```\n",
    "\n",
    "通常用变量 vm (ViewModel 的简称) 来表示 Vue 实例。在创建一个 Vue 实例时，你会传入一个选项对象(options object)。\n",
    "\n",
    "**Vue 应用程序** 由一个使用 new Vue 创建的 **Vue 根实例**、**嵌套的树结构**（可选）和 **可复用的组件** 组成。"
   ]
  },
  {
   "cell_type": "markdown",
   "metadata": {},
   "source": [
    "### data 和 methods"
   ]
  },
  {
   "cell_type": "markdown",
   "metadata": {},
   "source": [
    "在创建 Vue 实例时，会将所有在 `data` 对象中找到的属性，都添加到 Vue 的响应式系统中。每当这些属性的值发生变化时，视图都会“及时响应”，并更新相应的新值。每当 data 对象发生变化，都会触发视图重新渲染。\n",
    "\n",
    "**注意:** \n",
    "1. 如果实例已经创建，那么只有那些 `data` 中的原本就已经存在的属性，才是响应式的。\n",
    "2. 如果在实例创建之后，添加一个新的属性并修改不会触发任何视图更新.除非在创建实例前预先设置一些属性和初始值\n",
    "3. 唯一的例外是使用 `Object.freeze()` 来防止已有属性被修改，这也意味着响应式系统无法追踪变化。\n",
    "\n",
    "除了 `data` 属性， Vue 实例还暴露了一些有用的实例属性和方法。这些属性与方法都具有前缀`$`，以便与用户定义(user-defined)的属性有所区分。"
   ]
  },
  {
   "cell_type": "markdown",
   "metadata": {},
   "source": [
    "### 实例生命周期钩子函数"
   ]
  },
  {
   "cell_type": "markdown",
   "metadata": {},
   "source": [
    "每个 Vue 实例在被创建之前，都要经过一系列的初始化过程 - 例如:\n",
    "* Vue 实例需要设置数据观察(set up data observation)\n",
    "* 编译模板(compile the template)\n",
    "* 在 DOM 挂载实例(mount the instance to the DOM)\n",
    "* 在数据变化时更新 DOM(update the DOM when data change)。\n",
    "\n",
    "在这个过程中，Vue 实例还会调用执行一些生命周期钩子函数，这样用户能够在特定阶段添加自己的代码。类似于python的`__init__`函数的功能.\n",
    "\n",
    "常见的钩子函数有:\n",
    "* created\n",
    "* mounted\n",
    "* updated\n",
    "* destroyed \n",
    "\n",
    "不同的钩子函数，在实例生命周期的不同阶段调用, 所有的钩子函数在调用时，其 `this` 上下文都会指向调用它的 Vue 实例。"
   ]
  },
  {
   "cell_type": "markdown",
   "metadata": {},
   "source": [
    "### 生命周期示意图"
   ]
  },
  {
   "cell_type": "markdown",
   "metadata": {},
   "source": [
    "![生命周期示意图](images/lifecycle.png)"
   ]
  }
 ],
 "metadata": {
  "kernelspec": {
   "display_name": "Python 3",
   "language": "python",
   "name": "python3"
  },
  "language_info": {
   "codemirror_mode": {
    "name": "ipython",
    "version": 3
   },
   "file_extension": ".py",
   "mimetype": "text/x-python",
   "name": "python",
   "nbconvert_exporter": "python",
   "pygments_lexer": "ipython3",
   "version": "3.6.4"
  }
 },
 "nbformat": 4,
 "nbformat_minor": 2
}
