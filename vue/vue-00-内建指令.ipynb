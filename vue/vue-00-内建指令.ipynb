{
 "cells": [
  {
   "cell_type": "markdown",
   "metadata": {},
   "source": [
    "# vue-内建指令"
   ]
  },
  {
   "cell_type": "markdown",
   "metadata": {},
   "source": [
    "* v-if : 根据表达式的值的真假来移除/插入元素\n",
    "* v-for\n",
    "* v-bind : v-bind 指令可以用于响应式地更新 HTML 属性\n",
    "* v-html\n",
    "* v-on : 用于监听 DOM 事件\n",
    "* v-model\n",
    "* "
   ]
  }
 ],
 "metadata": {
  "kernelspec": {
   "display_name": "Python 3",
   "language": "python",
   "name": "python3"
  },
  "language_info": {
   "codemirror_mode": {
    "name": "ipython",
    "version": 3
   },
   "file_extension": ".py",
   "mimetype": "text/x-python",
   "name": "python",
   "nbconvert_exporter": "python",
   "pygments_lexer": "ipython3",
   "version": "3.6.4"
  }
 },
 "nbformat": 4,
 "nbformat_minor": 2
}
