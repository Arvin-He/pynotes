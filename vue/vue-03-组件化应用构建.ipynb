{
 "cells": [
  {
   "cell_type": "markdown",
   "metadata": {},
   "source": [
    "# vue-组件化应用构建"
   ]
  },
  {
   "cell_type": "markdown",
   "metadata": {},
   "source": [
    "在 Vue 里，一个组件本质上是一个拥有预定义选项的一个 Vue 实例，在 Vue 中注册组件, 更好的做法,修改一下组件的定义，使之能够接受一个属性:"
   ]
  },
  {
   "cell_type": "markdown",
   "metadata": {},
   "source": [
    "使用 v-bind 指令将待办项传到每一个重复的组件中："
   ]
  },
  {
   "cell_type": "markdown",
   "metadata": {},
   "source": [
    "```js\n",
    "<!DOCTYPE html>\n",
    "<html>\n",
    "<head>\n",
    "    <title>My first Vue APP</title>\n",
    "    <script src=\"https://unpkg.com/vue\"></script>\n",
    "</head>\n",
    "<body>\n",
    "<div id=\"app-7\">\n",
    "    <ol>\n",
    "        <todo-item\n",
    "            v-for=\"item in groceryList\"\n",
    "            v-bind:todo=\"item\"\n",
    "            v-bind:key=\"item.id\">\n",
    "        </todo-item>\n",
    "    </ol>\n",
    "</div>\n",
    "\n",
    "\n",
    "<script>\n",
    "    Vue.component('todo-item', {\n",
    "        props: ['todo'],\n",
    "        template: '<li>{{ todo.text }}</li>'\n",
    "    })\n",
    "\n",
    "    var app7 = new Vue({\n",
    "        el: '#app-7',\n",
    "        data: {\n",
    "            groceryList: [\n",
    "                { id: 0, text: '蔬菜' },\n",
    "                { id: 1, text: '奶酪' },\n",
    "                { id: 2, text: '随便其他什么人吃的东西' }\n",
    "            ]\n",
    "        }\n",
    "    })\n",
    "</script>\n",
    "</body>\n",
    "</html>\n",
    "```"
   ]
  },
  {
   "cell_type": "markdown",
   "metadata": {},
   "source": [
    "在一个大型应用中，有必要将整个应用程序划分为组件，以便开发时可维护管理。"
   ]
  },
  {
   "cell_type": "markdown",
   "metadata": {},
   "source": [
    "### vue组建与自定义元素的区别"
   ]
  },
  {
   "cell_type": "markdown",
   "metadata": {},
   "source": [
    "Vue 组件非常类似于 Web 组件规范中的自定义元素(Custom Element).然而，还是有一些关键区别：\n",
    "\n",
    "1. Web 组件规范仍然处于草案阶段，而且尚未被浏览器原生实现。相比之下，Vue 组件不需要任何 polyfill 修补，并且在所有支持的浏览器（IE9 及更高版本）之下表现一致。必要时，Vue 组件也能够包含于原生自定义元素规范之内。\n",
    "\n",
    "2. Vue 组件提供了普通自定义元素所不具备的一些重要功能，最突出的是跨组件数据流(cross-component data flow)，自定义事件通信(custom event communication)以及构建工具集成(build tool integration)。"
   ]
  }
 ],
 "metadata": {
  "kernelspec": {
   "display_name": "Python 3",
   "language": "python",
   "name": "python3"
  },
  "language_info": {
   "codemirror_mode": {
    "name": "ipython",
    "version": 3
   },
   "file_extension": ".py",
   "mimetype": "text/x-python",
   "name": "python",
   "nbconvert_exporter": "python",
   "pygments_lexer": "ipython3",
   "version": "3.6.4"
  }
 },
 "nbformat": 4,
 "nbformat_minor": 2
}
